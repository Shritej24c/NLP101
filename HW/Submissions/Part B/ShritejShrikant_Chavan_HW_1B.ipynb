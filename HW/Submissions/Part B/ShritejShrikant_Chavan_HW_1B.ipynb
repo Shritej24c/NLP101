{
  "cells": [
    {
      "cell_type": "code",
      "execution_count": null,
      "metadata": {
        "colab": {
          "base_uri": "https://localhost:8080/"
        },
        "execution": {
          "iopub.execute_input": "2023-08-23T00:26:48.606255Z",
          "iopub.status.busy": "2023-08-23T00:26:48.605951Z",
          "iopub.status.idle": "2023-08-23T00:26:49.073359Z",
          "shell.execute_reply": "2023-08-23T00:26:49.072413Z",
          "shell.execute_reply.started": "2023-08-23T00:26:48.606229Z"
        },
        "id": "aPva0yVbvk0x",
        "outputId": "574fd06c-510d-437c-c116-75f63e387404"
      },
      "outputs": [
        {
          "output_type": "stream",
          "name": "stdout",
          "text": [
            "Mon Aug 28 00:58:50 2023       \n",
            "+-----------------------------------------------------------------------------+\n",
            "| NVIDIA-SMI 525.105.17   Driver Version: 525.105.17   CUDA Version: 12.0     |\n",
            "|-------------------------------+----------------------+----------------------+\n",
            "| GPU  Name        Persistence-M| Bus-Id        Disp.A | Volatile Uncorr. ECC |\n",
            "| Fan  Temp  Perf  Pwr:Usage/Cap|         Memory-Usage | GPU-Util  Compute M. |\n",
            "|                               |                      |               MIG M. |\n",
            "|===============================+======================+======================|\n",
            "|   0  NVIDIA A100-SXM...  Off  | 00000000:00:04.0 Off |                    0 |\n",
            "| N/A   33C    P0    46W / 400W |      0MiB / 40960MiB |      0%      Default |\n",
            "|                               |                      |             Disabled |\n",
            "+-------------------------------+----------------------+----------------------+\n",
            "                                                                               \n",
            "+-----------------------------------------------------------------------------+\n",
            "| Processes:                                                                  |\n",
            "|  GPU   GI   CI        PID   Type   Process name                  GPU Memory |\n",
            "|        ID   ID                                                   Usage      |\n",
            "|=============================================================================|\n",
            "|  No running processes found                                                 |\n",
            "+-----------------------------------------------------------------------------+\n"
          ]
        }
      ],
      "source": [
        "!nvidia-smi"
      ]
    },
    {
      "cell_type": "markdown",
      "metadata": {
        "id": "3cfCXWzzuZKE"
      },
      "source": [
        "# <Font color = 'dodgerblue'>**HW1-part-B-ZeroShot Classification- 8 Points**\n",
        "- **You have to submit two files for this part of the HW**\n",
        "  >(1) ipynb (colab notebook) and<br>\n",
        "  >(2) pdf file (pdf version of the colab file).**\n",
        "- **Files should be named as follows**:\n",
        ">FirstName_LastName_HW_1B**"
      ]
    },
    {
      "cell_type": "markdown",
      "metadata": {
        "id": "rh2s542civAU"
      },
      "source": [
        "# <Font color = 'dodgerblue'>**Question: Zero Shot Classification using Huggingface Pipeline  - 8 Points.**\n",
        "\n",
        "This task involves practical application of zero-shot classification to categorize restaurant review sentences. By leveraging a pre-trained model , students will gain hands-on experience in utilizing natural language inference techniques for text classification.\n",
        "\n",
        "\n"
      ]
    },
    {
      "cell_type": "markdown",
      "metadata": {
        "id": "b514c073-e3b2-46db-a198-ba1c5fa3d15f"
      },
      "source": [
        "# <Font color = 'dodgerblue'>**Zero Shot Classification - Brief Overview** </font>\n",
        "\n",
        "### Introduction to Natural Language Inference (NLI)\n",
        "\n",
        "Natural Language Inference (NLI) is a task in natural language processing where a model determines the relationship between two sentences, often referred to as the premise and the hypothesis. The relationship might be **entailment (the hypothesis follows from the premise)**, contradiction, or neutrality.\n",
        "\n",
        "### Zero-Shot Classification Using Hugging Face's Pipeline\n",
        "\n",
        "Building on NLI, Hugging Face's zero-shot classification leverages entailment (hypotheses follows from the premise) relationships to classify text into various categories.\n",
        "\n",
        "1. **Premise:** The input text, like a restaurant review.\n",
        "\n",
        "2. **Labels**:<br>\n",
        "Possible labels (categories) represent distinct classifications within a given problem. In the context of the review dataset that you will be working with, the possible labels correspond to specific aspects of a dining experience. The labels include: 'food,' referring to the quality and taste of the dishes; 'ambiance,' reflecting the overall atmosphere and decor of the restaurant; 'service,' pertaining to the staff's attentiveness and professionalism; and 'other,' a category that encompasses any additional comments or observations not covered by the aforementioned labels.\n",
        "\n",
        "3. **Hypothesis Template:**<br>\n",
        "A specially formatted string that transforms each label into an NLI-style hypothesis. An example of hypothesis template could be **\"This example is {}.\"**. The {} is a placeholder where the candidate label is inserted, allowing the model to consider each label as a potential classification.\n",
        "\n",
        "3. **Forming Hypotheses using template and labels:**<br>\n",
        "Based on the label examples and hypothesis template, the resulting hypotheses will be:\n",
        "   - \"This example is food.\"\n",
        "   - \"This example is ambiance.\"\n",
        "   - \"This example is service.\"\n",
        "   - \"This example is other.\"\n",
        "\n",
        "4. **Zero-Shot Classification Process:**\n",
        "   - **Step 1:** Combine premise and hypotheses.\n",
        "   - **Step 2:** Utilize a pre-trained NLI model to calculate entailment probabilities (probability that hypothesis follows from premise) for each hypothesis.\n",
        "   - **Step 3:** Return the probabilities for each label.\n",
        "\n",
        "### Example\n",
        "\n",
        "Given a review like \"The food was excellent,\" the model might return:\n",
        "   - food: 0.95\n",
        "   - ambiance: 0.05\n",
        "   - service: 0.02\n",
        "   - other: 0.023\n",
        "\n",
        "**The probability of 0.95 for the label \"food\" means that the model has a 95% confidence that the premise \"The food was excellent\" entails the hypothesis \"This example is food.\"**  The other probabilities represent the model's confidence for the remaining labels.\n",
        "\n",
        "### Conclusion\n",
        "\n",
        "Hugging Face's zero-shot classification pipeline calculates probabilities for multiple categories by leveraging NLI concepts. This approach offers flexibility in text analysis without the need for task-specific training, providing insights into the relevance of different labels to a given text.\n",
        "\n",
        "\n"
      ]
    },
    {
      "cell_type": "markdown",
      "source": [
        "# <Font color = 'dodgerblue'>**Data and Task Description**\n",
        "\n",
        "- For this Question, you are provided a csv file (review_sentences.csv) that has 584 sentences from restautant reviews from Yelp. You have to classify the sentences in to four labels: `[\"food,\" \"ambiance,\" \"service,\" and \"other.\"]`.\n",
        "- The csv file is availble in eLearning in 0_Data folder.\n",
        "- You will use a zero-shot-classification pipleine from huggingface to make predictions.\n",
        "- You are also provided the actual labels. You will use these labels to access the accuracy of the model."
      ],
      "metadata": {
        "id": "qYn8mf9mpl_G"
      }
    },
    {
      "cell_type": "markdown",
      "metadata": {
        "id": "12773301-f940-4545-ac8e-8545ed6c964b"
      },
      "source": [
        "# <font color = 'indian red'> **Install/Import Modules**"
      ]
    },
    {
      "cell_type": "code",
      "execution_count": null,
      "metadata": {
        "execution": {
          "iopub.execute_input": "2022-09-25T17:30:13.094523Z",
          "iopub.status.busy": "2022-09-25T17:30:13.094325Z",
          "iopub.status.idle": "2022-09-25T17:30:13.097566Z",
          "shell.execute_reply": "2022-09-25T17:30:13.096998Z",
          "shell.execute_reply.started": "2022-09-25T17:30:13.094509Z"
        },
        "id": "96a03b3c-53a5-4478-b864-e8a735f1f614",
        "tags": [],
        "colab": {
          "base_uri": "https://localhost:8080/"
        },
        "outputId": "0ca3797a-6039-4083-f658-60684ddd0965"
      },
      "outputs": [
        {
          "output_type": "stream",
          "name": "stdout",
          "text": [
            "\u001b[2K     \u001b[90m━━━━━━━━━━━━━━━━━━━━━━━━━━━━━━━━━━━━━━━━\u001b[0m \u001b[32m7.5/7.5 MB\u001b[0m \u001b[31m69.6 MB/s\u001b[0m eta \u001b[36m0:00:00\u001b[0m\n",
            "\u001b[2K     \u001b[90m━━━━━━━━━━━━━━━━━━━━━━━━━━━━━━━━━━━━━━\u001b[0m \u001b[32m268.8/268.8 kB\u001b[0m \u001b[31m36.1 MB/s\u001b[0m eta \u001b[36m0:00:00\u001b[0m\n",
            "\u001b[2K     \u001b[90m━━━━━━━━━━━━━━━━━━━━━━━━━━━━━━━━━━━━━━━━\u001b[0m \u001b[32m7.8/7.8 MB\u001b[0m \u001b[31m121.3 MB/s\u001b[0m eta \u001b[36m0:00:00\u001b[0m\n",
            "\u001b[2K     \u001b[90m━━━━━━━━━━━━━━━━━━━━━━━━━━━━━━━━━━━━━━━━\u001b[0m \u001b[32m1.3/1.3 MB\u001b[0m \u001b[31m89.7 MB/s\u001b[0m eta \u001b[36m0:00:00\u001b[0m\n",
            "\u001b[2K     \u001b[90m━━━━━━━━━━━━━━━━━━━━━━━━━━━━━━━━━━━━━━━━\u001b[0m \u001b[32m1.3/1.3 MB\u001b[0m \u001b[31m18.3 MB/s\u001b[0m eta \u001b[36m0:00:00\u001b[0m\n",
            "\u001b[?25h"
          ]
        }
      ],
      "source": [
        "if 'google.colab' in str(get_ipython()):\n",
        "    !pip install transformers -U -qq\n",
        "    !pip install sentencepiece -U -qq"
      ]
    },
    {
      "cell_type": "code",
      "execution_count": null,
      "metadata": {
        "execution": {
          "iopub.execute_input": "2022-09-25T17:30:19.802075Z",
          "iopub.status.busy": "2022-09-25T17:30:19.801789Z",
          "iopub.status.idle": "2022-09-25T17:30:19.804799Z",
          "shell.execute_reply": "2022-09-25T17:30:19.804440Z",
          "shell.execute_reply.started": "2022-09-25T17:30:19.802059Z"
        },
        "id": "7a9a863b-d87c-4df6-bdf3-b30aa695f846",
        "tags": []
      },
      "outputs": [],
      "source": [
        "# Import the pandas library for data manipulation and analysis\n",
        "import pandas as pd\n",
        "\n",
        "# Import the numpy library for numerical computing\n",
        "import numpy as np\n",
        "\n",
        "# Import the Matplotlib library for creating visualizations such as plots, graphs, etc.\n",
        "import matplotlib.pyplot as plt\n",
        "\n",
        "# Import the pathlib library for working with file paths in a way that is cross-platform\n",
        "from pathlib import Path\n",
        "\n",
        "# Import functions for metrics computation like confusion matrix, and accuracy\n",
        "from sklearn.metrics import confusion_matrix, ConfusionMatrixDisplay, accuracy_score, classification_report\n",
        "\n",
        "# Import the transformers library for state-of-the-art Natural Language Processing (NLP) models like BERT, GPT, etc.\n",
        "from transformers import pipeline\n"
      ]
    },
    {
      "cell_type": "code",
      "source": [
        "# Import the torch library. PyTorch is a Python library for deep learning.\n",
        "import torch\n",
        "\n",
        "# Check if a CUDA-enabled GPU is available for PyTorch.\n",
        "# This can speed up neural network computations.\n",
        "torch.cuda.is_available()"
      ],
      "metadata": {
        "colab": {
          "base_uri": "https://localhost:8080/"
        },
        "id": "YxjjGlRTNTdm",
        "outputId": "359d5f47-a178-4570-9beb-5cee497d9f19"
      },
      "execution_count": null,
      "outputs": [
        {
          "output_type": "execute_result",
          "data": {
            "text/plain": [
              "True"
            ]
          },
          "metadata": {},
          "execution_count": 10
        }
      ]
    },
    {
      "cell_type": "code",
      "execution_count": null,
      "metadata": {
        "colab": {
          "base_uri": "https://localhost:8080/"
        },
        "id": "hS8jehl6menq",
        "outputId": "28528a7c-d3f5-46a3-e994-652154c49534"
      },
      "outputs": [
        {
          "output_type": "stream",
          "name": "stdout",
          "text": [
            "Name: transformers\n",
            "Version: 4.32.0\n",
            "Summary: State-of-the-art Machine Learning for JAX, PyTorch and TensorFlow\n",
            "Home-page: https://github.com/huggingface/transformers\n",
            "Author: The Hugging Face team (past and future) with the help of all our contributors (https://github.com/huggingface/transformers/graphs/contributors)\n",
            "Author-email: transformers@huggingface.co\n",
            "License: Apache 2.0 License\n",
            "Location: /usr/local/lib/python3.10/dist-packages\n",
            "Requires: filelock, huggingface-hub, numpy, packaging, pyyaml, regex, requests, safetensors, tokenizers, tqdm\n",
            "Required-by: \n"
          ]
        }
      ],
      "source": [
        "!pip show transformers"
      ]
    },
    {
      "cell_type": "markdown",
      "metadata": {
        "id": "a43e7e8e-42fb-48bb-92ee-7664bba37482"
      },
      "source": [
        "# <font color = 'indian red'>**Specify Base folder for Project**"
      ]
    },
    {
      "cell_type": "code",
      "execution_count": null,
      "metadata": {
        "execution": {
          "iopub.execute_input": "2022-09-24T20:52:39.665944Z",
          "iopub.status.busy": "2022-09-24T20:52:39.665715Z",
          "iopub.status.idle": "2022-09-24T20:52:39.688510Z",
          "shell.execute_reply": "2022-09-24T20:52:39.687856Z",
          "shell.execute_reply.started": "2022-09-24T20:52:39.665930Z"
        },
        "id": "46473c1e-a70c-4f30-b0b4-baafcfc9dccf",
        "tags": [],
        "colab": {
          "base_uri": "https://localhost:8080/"
        },
        "outputId": "a569f487-221b-47b5-a2a6-96760c9ee1b5"
      },
      "outputs": [
        {
          "output_type": "stream",
          "name": "stdout",
          "text": [
            "Drive already mounted at /content/drive; to attempt to forcibly remount, call drive.mount(\"/content/drive\", force_remount=True).\n"
          ]
        }
      ],
      "source": [
        "if 'google.colab' in str(get_ipython()):\n",
        "  from google.colab import drive\n",
        "  drive.mount('/content/drive')\n",
        "  base_folder = Path('/content/drive/MyDrive/NLP') # MAKE SURE TO CHANGE THE PATH\n",
        "\n",
        "# (the else block is required only if you have local GPU machine, other wise you can ignore the else block)\n",
        "else:\n",
        "  base_folder = Path('/home/harpreet/Insync/google_drive_shaannoor/data') # MAKE SURE TO CHANGE THE PATH\n",
        "\n"
      ]
    },
    {
      "cell_type": "markdown",
      "metadata": {
        "id": "LEuZToXJvbp_"
      },
      "source": [
        "## <Font color = 'dodgerblue'>**Create DataFrame**"
      ]
    },
    {
      "cell_type": "code",
      "execution_count": null,
      "metadata": {
        "id": "pLouBkwinb9g"
      },
      "outputs": [],
      "source": [
        "data_folder = base_folder/'datasets/yelp_food_service_ambience'  # MAKE SURE TO CHANGE THE PATH"
      ]
    },
    {
      "cell_type": "code",
      "execution_count": null,
      "metadata": {
        "id": "OS0nt6thnccL"
      },
      "outputs": [],
      "source": [
        "# location of train and test files\n",
        "data_file = data_folder /'review_sentences.csv'"
      ]
    },
    {
      "cell_type": "code",
      "execution_count": null,
      "metadata": {
        "execution": {
          "iopub.execute_input": "2022-11-27T12:00:46.966533Z",
          "iopub.status.busy": "2022-11-27T12:00:46.966294Z",
          "iopub.status.idle": "2022-11-27T12:00:47.330265Z",
          "shell.execute_reply": "2022-11-27T12:00:47.329743Z",
          "shell.execute_reply.started": "2022-11-27T12:00:46.966507Z"
        },
        "id": "98f933d1-7cf1-49fc-b3e0-33d5e1810080",
        "tags": []
      },
      "outputs": [],
      "source": [
        "# creating Pandas Dataframe\n",
        "train_data = pd.read_csv(data_file, index_col=0, encoding='ISO-8859-1')"
      ]
    },
    {
      "cell_type": "code",
      "execution_count": null,
      "metadata": {
        "colab": {
          "base_uri": "https://localhost:8080/"
        },
        "execution": {
          "iopub.execute_input": "2022-11-27T12:00:49.141600Z",
          "iopub.status.busy": "2022-11-27T12:00:49.141359Z",
          "iopub.status.idle": "2022-11-27T12:00:49.144979Z",
          "shell.execute_reply": "2022-11-27T12:00:49.144442Z",
          "shell.execute_reply.started": "2022-11-27T12:00:49.141574Z"
        },
        "id": "e51abd57-98dc-42e8-8eb7-8ee7aa2c0826",
        "outputId": "a6bc5f5d-b32c-484d-fc30-f2a0001f3864",
        "tags": []
      },
      "outputs": [
        {
          "output_type": "stream",
          "name": "stdout",
          "text": [
            "Shape of Training data set is : (584, 2)\n"
          ]
        }
      ],
      "source": [
        "# print shape of the datasets\n",
        "print(f'Shape of Training data set is : {train_data.shape}')"
      ]
    },
    {
      "cell_type": "code",
      "execution_count": null,
      "metadata": {
        "colab": {
          "base_uri": "https://localhost:8080/"
        },
        "execution": {
          "iopub.execute_input": "2022-11-27T12:00:53.875850Z",
          "iopub.status.busy": "2022-11-27T12:00:53.875722Z",
          "iopub.status.idle": "2022-11-27T12:00:53.881530Z",
          "shell.execute_reply": "2022-11-27T12:00:53.880914Z",
          "shell.execute_reply.started": "2022-11-27T12:00:53.875838Z"
        },
        "id": "8d3157a4-b99c-40b8-af7a-07f604a819a1",
        "outputId": "d28ff6e4-2ef5-4959-97d8-143aaa84f9a4",
        "tags": []
      },
      "outputs": [
        {
          "output_type": "stream",
          "name": "stdout",
          "text": [
            "<class 'pandas.core.frame.DataFrame'>\n",
            "Int64Index: 584 entries, 0 to 599\n",
            "Data columns (total 2 columns):\n",
            " #   Column       Non-Null Count  Dtype \n",
            "---  ------       --------------  ----- \n",
            " 0   text         584 non-null    object\n",
            " 1   final_label  584 non-null    object\n",
            "dtypes: object(2)\n",
            "memory usage: 13.7+ KB\n"
          ]
        }
      ],
      "source": [
        "train_data.info()"
      ]
    },
    {
      "cell_type": "code",
      "execution_count": null,
      "metadata": {
        "colab": {
          "base_uri": "https://localhost:8080/",
          "height": 238
        },
        "id": "HfJq-sfztFWK",
        "outputId": "0fcf5e06-b752-4019-97a6-2e1cee0a10b7"
      },
      "outputs": [
        {
          "output_type": "execute_result",
          "data": {
            "text/plain": [
              "                                                        text final_label\n",
              "sentences                                                               \n",
              "0          If you love unagi (eel) on rice, you'll absolu...        food\n",
              "1                       But it is definitely worth the wait.     service\n",
              "3          Sometimes get the Pho w/ rare beef which is de...        food\n",
              "4          Other items on this menu was a crab soup, duck...        food\n",
              "5          I visited the restaurant for lunch and arrived...       other"
            ],
            "text/html": [
              "\n",
              "  <div id=\"df-f5751bb8-b1ed-4621-9f69-cfe7185a2ebc\" class=\"colab-df-container\">\n",
              "    <div>\n",
              "<style scoped>\n",
              "    .dataframe tbody tr th:only-of-type {\n",
              "        vertical-align: middle;\n",
              "    }\n",
              "\n",
              "    .dataframe tbody tr th {\n",
              "        vertical-align: top;\n",
              "    }\n",
              "\n",
              "    .dataframe thead th {\n",
              "        text-align: right;\n",
              "    }\n",
              "</style>\n",
              "<table border=\"1\" class=\"dataframe\">\n",
              "  <thead>\n",
              "    <tr style=\"text-align: right;\">\n",
              "      <th></th>\n",
              "      <th>text</th>\n",
              "      <th>final_label</th>\n",
              "    </tr>\n",
              "    <tr>\n",
              "      <th>sentences</th>\n",
              "      <th></th>\n",
              "      <th></th>\n",
              "    </tr>\n",
              "  </thead>\n",
              "  <tbody>\n",
              "    <tr>\n",
              "      <th>0</th>\n",
              "      <td>If you love unagi (eel) on rice, you'll absolu...</td>\n",
              "      <td>food</td>\n",
              "    </tr>\n",
              "    <tr>\n",
              "      <th>1</th>\n",
              "      <td>But it is definitely worth the wait.</td>\n",
              "      <td>service</td>\n",
              "    </tr>\n",
              "    <tr>\n",
              "      <th>3</th>\n",
              "      <td>Sometimes get the Pho w/ rare beef which is de...</td>\n",
              "      <td>food</td>\n",
              "    </tr>\n",
              "    <tr>\n",
              "      <th>4</th>\n",
              "      <td>Other items on this menu was a crab soup, duck...</td>\n",
              "      <td>food</td>\n",
              "    </tr>\n",
              "    <tr>\n",
              "      <th>5</th>\n",
              "      <td>I visited the restaurant for lunch and arrived...</td>\n",
              "      <td>other</td>\n",
              "    </tr>\n",
              "  </tbody>\n",
              "</table>\n",
              "</div>\n",
              "    <div class=\"colab-df-buttons\">\n",
              "\n",
              "  <div class=\"colab-df-container\">\n",
              "    <button class=\"colab-df-convert\" onclick=\"convertToInteractive('df-f5751bb8-b1ed-4621-9f69-cfe7185a2ebc')\"\n",
              "            title=\"Convert this dataframe to an interactive table.\"\n",
              "            style=\"display:none;\">\n",
              "\n",
              "  <svg xmlns=\"http://www.w3.org/2000/svg\" height=\"24px\" viewBox=\"0 -960 960 960\">\n",
              "    <path d=\"M120-120v-720h720v720H120Zm60-500h600v-160H180v160Zm220 220h160v-160H400v160Zm0 220h160v-160H400v160ZM180-400h160v-160H180v160Zm440 0h160v-160H620v160ZM180-180h160v-160H180v160Zm440 0h160v-160H620v160Z\"/>\n",
              "  </svg>\n",
              "    </button>\n",
              "\n",
              "  <style>\n",
              "    .colab-df-container {\n",
              "      display:flex;\n",
              "      gap: 12px;\n",
              "    }\n",
              "\n",
              "    .colab-df-convert {\n",
              "      background-color: #E8F0FE;\n",
              "      border: none;\n",
              "      border-radius: 50%;\n",
              "      cursor: pointer;\n",
              "      display: none;\n",
              "      fill: #1967D2;\n",
              "      height: 32px;\n",
              "      padding: 0 0 0 0;\n",
              "      width: 32px;\n",
              "    }\n",
              "\n",
              "    .colab-df-convert:hover {\n",
              "      background-color: #E2EBFA;\n",
              "      box-shadow: 0px 1px 2px rgba(60, 64, 67, 0.3), 0px 1px 3px 1px rgba(60, 64, 67, 0.15);\n",
              "      fill: #174EA6;\n",
              "    }\n",
              "\n",
              "    .colab-df-buttons div {\n",
              "      margin-bottom: 4px;\n",
              "    }\n",
              "\n",
              "    [theme=dark] .colab-df-convert {\n",
              "      background-color: #3B4455;\n",
              "      fill: #D2E3FC;\n",
              "    }\n",
              "\n",
              "    [theme=dark] .colab-df-convert:hover {\n",
              "      background-color: #434B5C;\n",
              "      box-shadow: 0px 1px 3px 1px rgba(0, 0, 0, 0.15);\n",
              "      filter: drop-shadow(0px 1px 2px rgba(0, 0, 0, 0.3));\n",
              "      fill: #FFFFFF;\n",
              "    }\n",
              "  </style>\n",
              "\n",
              "    <script>\n",
              "      const buttonEl =\n",
              "        document.querySelector('#df-f5751bb8-b1ed-4621-9f69-cfe7185a2ebc button.colab-df-convert');\n",
              "      buttonEl.style.display =\n",
              "        google.colab.kernel.accessAllowed ? 'block' : 'none';\n",
              "\n",
              "      async function convertToInteractive(key) {\n",
              "        const element = document.querySelector('#df-f5751bb8-b1ed-4621-9f69-cfe7185a2ebc');\n",
              "        const dataTable =\n",
              "          await google.colab.kernel.invokeFunction('convertToInteractive',\n",
              "                                                    [key], {});\n",
              "        if (!dataTable) return;\n",
              "\n",
              "        const docLinkHtml = 'Like what you see? Visit the ' +\n",
              "          '<a target=\"_blank\" href=https://colab.research.google.com/notebooks/data_table.ipynb>data table notebook</a>'\n",
              "          + ' to learn more about interactive tables.';\n",
              "        element.innerHTML = '';\n",
              "        dataTable['output_type'] = 'display_data';\n",
              "        await google.colab.output.renderOutput(dataTable, element);\n",
              "        const docLink = document.createElement('div');\n",
              "        docLink.innerHTML = docLinkHtml;\n",
              "        element.appendChild(docLink);\n",
              "      }\n",
              "    </script>\n",
              "  </div>\n",
              "\n",
              "\n",
              "<div id=\"df-7ad5194f-cbfa-4dc3-961a-007571e7d433\">\n",
              "  <button class=\"colab-df-quickchart\" onclick=\"quickchart('df-7ad5194f-cbfa-4dc3-961a-007571e7d433')\"\n",
              "            title=\"Suggest charts.\"\n",
              "            style=\"display:none;\">\n",
              "\n",
              "<svg xmlns=\"http://www.w3.org/2000/svg\" height=\"24px\"viewBox=\"0 0 24 24\"\n",
              "     width=\"24px\">\n",
              "    <g>\n",
              "        <path d=\"M19 3H5c-1.1 0-2 .9-2 2v14c0 1.1.9 2 2 2h14c1.1 0 2-.9 2-2V5c0-1.1-.9-2-2-2zM9 17H7v-7h2v7zm4 0h-2V7h2v10zm4 0h-2v-4h2v4z\"/>\n",
              "    </g>\n",
              "</svg>\n",
              "  </button>\n",
              "\n",
              "<style>\n",
              "  .colab-df-quickchart {\n",
              "    background-color: #E8F0FE;\n",
              "    border: none;\n",
              "    border-radius: 50%;\n",
              "    cursor: pointer;\n",
              "    display: none;\n",
              "    fill: #1967D2;\n",
              "    height: 32px;\n",
              "    padding: 0 0 0 0;\n",
              "    width: 32px;\n",
              "  }\n",
              "\n",
              "  .colab-df-quickchart:hover {\n",
              "    background-color: #E2EBFA;\n",
              "    box-shadow: 0px 1px 2px rgba(60, 64, 67, 0.3), 0px 1px 3px 1px rgba(60, 64, 67, 0.15);\n",
              "    fill: #174EA6;\n",
              "  }\n",
              "\n",
              "  [theme=dark] .colab-df-quickchart {\n",
              "    background-color: #3B4455;\n",
              "    fill: #D2E3FC;\n",
              "  }\n",
              "\n",
              "  [theme=dark] .colab-df-quickchart:hover {\n",
              "    background-color: #434B5C;\n",
              "    box-shadow: 0px 1px 3px 1px rgba(0, 0, 0, 0.15);\n",
              "    filter: drop-shadow(0px 1px 2px rgba(0, 0, 0, 0.3));\n",
              "    fill: #FFFFFF;\n",
              "  }\n",
              "</style>\n",
              "\n",
              "  <script>\n",
              "    async function quickchart(key) {\n",
              "      const charts = await google.colab.kernel.invokeFunction(\n",
              "          'suggestCharts', [key], {});\n",
              "    }\n",
              "    (() => {\n",
              "      let quickchartButtonEl =\n",
              "        document.querySelector('#df-7ad5194f-cbfa-4dc3-961a-007571e7d433 button');\n",
              "      quickchartButtonEl.style.display =\n",
              "        google.colab.kernel.accessAllowed ? 'block' : 'none';\n",
              "    })();\n",
              "  </script>\n",
              "</div>\n",
              "    </div>\n",
              "  </div>\n"
            ]
          },
          "metadata": {},
          "execution_count": 18
        }
      ],
      "source": [
        "# check first five examples\n",
        "train_data.head()"
      ]
    },
    {
      "cell_type": "code",
      "execution_count": null,
      "metadata": {
        "colab": {
          "base_uri": "https://localhost:8080/"
        },
        "id": "MYLzdiWRZ2Hl",
        "outputId": "88a773f6-d3ee-4238-c41b-bb15cc87c3b4"
      },
      "outputs": [
        {
          "output_type": "execute_result",
          "data": {
            "text/plain": [
              "food        279\n",
              "other       139\n",
              "service     120\n",
              "ambiance     46\n",
              "Name: final_label, dtype: int64"
            ]
          },
          "metadata": {},
          "execution_count": 19
        }
      ],
      "source": [
        "# check disytribution of labels\n",
        "train_data['final_label'].value_counts()"
      ]
    },
    {
      "cell_type": "markdown",
      "metadata": {
        "id": "_4fujYvhv1Rt"
      },
      "source": [
        "## <Font color = 'dodgerblue'>**Load Pipeline**"
      ]
    },
    {
      "cell_type": "code",
      "execution_count": null,
      "metadata": {
        "execution": {
          "iopub.execute_input": "2022-11-27T12:01:44.481793Z",
          "iopub.status.busy": "2022-11-27T12:01:44.481554Z",
          "iopub.status.idle": "2022-11-27T12:01:44.486406Z",
          "shell.execute_reply": "2022-11-27T12:01:44.485776Z",
          "shell.execute_reply.started": "2022-11-27T12:01:44.481768Z"
        },
        "id": "cbd916e4-6587-46c8-93c4-f2f00edf7748",
        "tags": [],
        "colab": {
          "base_uri": "https://localhost:8080/",
          "height": 245,
          "referenced_widgets": [
            "8539232955db4b828f6821b3b111b80d",
            "72c5c03e7b764ac7a9d93fcb63d0e0c2",
            "a4f5459f3597406380b10aefc03ac742",
            "840b0b10b8b34c5da194f952954a3d00",
            "92858c90321c473381ab11e3bc43d7cd",
            "6bac48da059b442eb167836472253ddd",
            "228831d4545c482493d1f8da340b32b3",
            "9bdda26829064a249560154f87d3efe8",
            "8dd0487844a447d9b56496fe47a935d2",
            "dd306a8ea409466c9e3c68802a7fb1a0",
            "ee772e6e2fd942db822964625c818a9f",
            "8443ce36dfdb4304b1d9739404d419ee",
            "200535b4d51b49839776624a598ef994",
            "bf8ad68c495b4f11b9f6e35f48edb965",
            "be2b3a525aa94516ba8c6c9e61dd0b79",
            "39eb1c7c197d477c9c64878cab864c2b",
            "31848b1ff9de4e5192352c7d2279098a",
            "9dc1362483c042a78b4d824f4405a776",
            "8cead066247f46458e61d696fbfe9a85",
            "a070f98d0f8e4b218c34ae4a2ed2e574",
            "4b5db4aea9b8454980aec2614971625f",
            "a31b3da4716d4ab3adc062bf432c8044",
            "cb717991f14e4ed9b6ff876bc086181a",
            "6377c35d62f44377a3b650a6454ef848",
            "b0f0a6bd05024dde8c2037c8a8e53a44",
            "327a69ef37c049cbb0fef8751fb3947f",
            "809c3d316d6f4ce999e0c8a1490dfefe",
            "97d7e3d93f7c47259a466c3a92b244f9",
            "45ffdf90bd5e406091a43dcbf813d41d",
            "acd2d79e5dc845caab000d3855ba44e1",
            "c561324209bc46c299d40a9f4b45e942",
            "5378b712ca444b8fa049449a9eb40430",
            "08fc8a86f7d74ede847b9e5ee7e1438f",
            "2547d1e809724288a05ade033212f797",
            "975fe79979ba44799de33ff465c8bf8f",
            "5089bf15bd4846f48e900368eaaa0548",
            "3705302affee46f59049aa8d26b2b29c",
            "958ab6f5dbaa46c3b9072c36b5e3411a",
            "0db098ec39f14caa9bbcd2adbf0a45a8",
            "4852f6cdad8c44af9e9724a7cacfa7b0",
            "1103e171f449432ba3be23d34d193408",
            "e67b09c9a1354d9389ffdceae1c3d037",
            "1509eda357ef4db79c7cbe0a642a6443",
            "b69f324345d142bca5944afd067c0da7",
            "606e3034ecd543408d6288c58ff0b07c",
            "915e637b4b654ebd8cde764a2819dc9b",
            "2f476dfa634a475d9b949ee2112218f1",
            "9d5aecba0c42415cb855281d6461c2e8",
            "444f192a114d4f9480637073dc39235b",
            "64bb53c358b54f45892a1fc49226ea04",
            "049ae894e8724291863f1c33f4f33489",
            "369c3a7716b14ca38e950a9f7760195e",
            "0f40f7c8a1424aeeae70d0a1f5173949",
            "d830be0ecce648338d6e0f133c8c80d7",
            "9cc32d36a34e478d865ea823502c5d30",
            "ae1020943b8c43c6a7662cc7e87e2ff1",
            "0e10fd7bc1df43679c65e5942157aeb3",
            "581ebee064d2491d81e396f72c01800d",
            "8124fff08c70423bb8a96bdeec7eab5b",
            "891df6022e9e470ea59814d811605921",
            "6b0a1149b2a14249bcb05a13614b5ee5",
            "ce5a434fa8a7493a8fc4aba8900efba6",
            "c811b5c8bf0e4433a1884b3d2ccd7d45",
            "aec88af3efd04be19e07c778dfb8f724",
            "1e59c3b474b1482db340ee4b0cf007fa",
            "4cb69a1997114a79b7808a88e70280cf"
          ]
        },
        "outputId": "2d627146-77fd-4d1a-9009-b81105c600d9"
      },
      "outputs": [
        {
          "output_type": "stream",
          "name": "stderr",
          "text": [
            "No model was supplied, defaulted to facebook/bart-large-mnli and revision c626438 (https://huggingface.co/facebook/bart-large-mnli).\n",
            "Using a pipeline without specifying a model name and revision in production is not recommended.\n"
          ]
        },
        {
          "output_type": "display_data",
          "data": {
            "text/plain": [
              "Downloading (…)lve/main/config.json:   0%|          | 0.00/1.15k [00:00<?, ?B/s]"
            ],
            "application/vnd.jupyter.widget-view+json": {
              "version_major": 2,
              "version_minor": 0,
              "model_id": "8539232955db4b828f6821b3b111b80d"
            }
          },
          "metadata": {}
        },
        {
          "output_type": "display_data",
          "data": {
            "text/plain": [
              "Downloading model.safetensors:   0%|          | 0.00/1.63G [00:00<?, ?B/s]"
            ],
            "application/vnd.jupyter.widget-view+json": {
              "version_major": 2,
              "version_minor": 0,
              "model_id": "8443ce36dfdb4304b1d9739404d419ee"
            }
          },
          "metadata": {}
        },
        {
          "output_type": "display_data",
          "data": {
            "text/plain": [
              "Downloading (…)okenizer_config.json:   0%|          | 0.00/26.0 [00:00<?, ?B/s]"
            ],
            "application/vnd.jupyter.widget-view+json": {
              "version_major": 2,
              "version_minor": 0,
              "model_id": "cb717991f14e4ed9b6ff876bc086181a"
            }
          },
          "metadata": {}
        },
        {
          "output_type": "display_data",
          "data": {
            "text/plain": [
              "Downloading (…)olve/main/vocab.json:   0%|          | 0.00/899k [00:00<?, ?B/s]"
            ],
            "application/vnd.jupyter.widget-view+json": {
              "version_major": 2,
              "version_minor": 0,
              "model_id": "2547d1e809724288a05ade033212f797"
            }
          },
          "metadata": {}
        },
        {
          "output_type": "display_data",
          "data": {
            "text/plain": [
              "Downloading (…)olve/main/merges.txt:   0%|          | 0.00/456k [00:00<?, ?B/s]"
            ],
            "application/vnd.jupyter.widget-view+json": {
              "version_major": 2,
              "version_minor": 0,
              "model_id": "606e3034ecd543408d6288c58ff0b07c"
            }
          },
          "metadata": {}
        },
        {
          "output_type": "display_data",
          "data": {
            "text/plain": [
              "Downloading (…)/main/tokenizer.json:   0%|          | 0.00/1.36M [00:00<?, ?B/s]"
            ],
            "application/vnd.jupyter.widget-view+json": {
              "version_major": 2,
              "version_minor": 0,
              "model_id": "ae1020943b8c43c6a7662cc7e87e2ff1"
            }
          },
          "metadata": {}
        }
      ],
      "source": [
        "# Load zero shot classification pipleine - do not pass any model. We will use the default model\n",
        "# use pytorch as framework and move the pipleine to GPU\n",
        "# syntax : zero_shot_classifier = pipeline(name-of-pipeline, framework=, device =)\n",
        "\n",
        "zero_shot_classifier = pipeline(\"zero-shot-classification\",\n",
        "                      framework='pt',\n",
        "                     device = 0)"
      ]
    },
    {
      "cell_type": "markdown",
      "source": [
        "## <Font color = 'dodgerblue'>**Task1 : Base experiment**.\n",
        "\n",
        "- **In this Task you will pass all the four labels to the classifier.**"
      ],
      "metadata": {
        "id": "xuHnPBf8pSjA"
      }
    },
    {
      "cell_type": "markdown",
      "metadata": {
        "id": "wCZK8GT_wHwa"
      },
      "source": [
        "### <Font color = 'dodgerblue'>**Create a list of reviews**"
      ]
    },
    {
      "cell_type": "code",
      "execution_count": null,
      "metadata": {
        "id": "3_BlvcFmvzA4",
        "colab": {
          "base_uri": "https://localhost:8080/"
        },
        "outputId": "3971b800-c979-40d2-f428-9a3770ce4f95"
      },
      "outputs": [
        {
          "output_type": "execute_result",
          "data": {
            "text/plain": [
              "['food', 'service', 'other', 'ambiance']"
            ]
          },
          "metadata": {},
          "execution_count": 21
        }
      ],
      "source": [
        "# create a list of reviews (hint use column.tolist() to convert numpy array series to python list)\n",
        "texts_train = train_data['text'].tolist()  # CODE HERE\n",
        "\n",
        "# list of labels\n",
        "candidate_labels = train_data['final_label'].unique().tolist() # CODE HERE\n",
        "candidate_labels"
      ]
    },
    {
      "cell_type": "markdown",
      "metadata": {
        "id": "HfoUsKpPwTtb"
      },
      "source": [
        "### <Font color = 'dodgerblue'>**Get Probbailities**\n",
        "\n",
        "Pass the list of text and labels you created in the previous step to the classifier to get predictions.\n",
        "\n",
        "The syntax is : **```probs = zero_shot_classifier(sequences= , candidate_labels =  )```**"
      ]
    },
    {
      "cell_type": "code",
      "execution_count": null,
      "metadata": {
        "execution": {
          "iopub.execute_input": "2022-11-27T12:01:45.594721Z",
          "iopub.status.busy": "2022-11-27T12:01:45.594481Z",
          "iopub.status.idle": "2022-11-27T12:01:50.801737Z",
          "shell.execute_reply": "2022-11-27T12:01:50.801068Z",
          "shell.execute_reply.started": "2022-11-27T12:01:45.594695Z"
        },
        "id": "95e85b0a-81ac-4b04-af9f-11ee9cfe9cf1",
        "tags": []
      },
      "outputs": [],
      "source": [
        "probs = zero_shot_classifier(sequences = texts_train, candidate_labels = candidate_labels)"
      ]
    },
    {
      "cell_type": "code",
      "source": [
        "probs[0: 3]"
      ],
      "metadata": {
        "id": "kbiET8QIHprI",
        "colab": {
          "base_uri": "https://localhost:8080/"
        },
        "outputId": "faa7b4dd-d843-4fff-a8fd-03546fdfc8d3"
      },
      "execution_count": null,
      "outputs": [
        {
          "output_type": "execute_result",
          "data": {
            "text/plain": [
              "[{'sequence': \"If you love unagi (eel) on rice, you'll absolutely enjoy their version.\",\n",
              "  'labels': ['food', 'ambiance', 'service', 'other'],\n",
              "  'scores': [0.9423721432685852,\n",
              "   0.02349521778523922,\n",
              "   0.02131688967347145,\n",
              "   0.012815786525607109]},\n",
              " {'sequence': 'But it is definitely worth the wait.',\n",
              "  'labels': ['other', 'service', 'ambiance', 'food'],\n",
              "  'scores': [0.49058297276496887,\n",
              "   0.25347885489463806,\n",
              "   0.20231053233146667,\n",
              "   0.05362766236066818]},\n",
              " {'sequence': 'Sometimes get the Pho w/ rare beef which is decent.',\n",
              "  'labels': ['food', 'other', 'service', 'ambiance'],\n",
              "  'scores': [0.7790167927742004,\n",
              "   0.10868193954229355,\n",
              "   0.08358323574066162,\n",
              "   0.028718072921037674]}]"
            ]
          },
          "metadata": {},
          "execution_count": 23
        }
      ]
    },
    {
      "cell_type": "code",
      "source": [
        "# DO NOT RUN THIS CELL - This cells gives you an idea of the expected output"
      ],
      "metadata": {
        "colab": {
          "base_uri": "https://localhost:8080/"
        },
        "id": "A6hWI4aeReZd",
        "outputId": "f6fc168a-f9ea-4986-cb64-ca7afe99d91d"
      },
      "execution_count": null,
      "outputs": [
        {
          "output_type": "execute_result",
          "data": {
            "text/plain": [
              "[{'sequence': \"If you love unagi (eel) on rice, you'll absolutely enjoy their version.\",\n",
              "  'labels': ['food', 'ambiance', 'service', 'other'],\n",
              "  'scores': [0.9423722624778748,\n",
              "   0.023495187982916832,\n",
              "   0.021316785365343094,\n",
              "   0.012815762311220169]},\n",
              " {'sequence': 'But it is definitely worth the wait.',\n",
              "  'labels': ['other', 'service', 'ambiance', 'food'],\n",
              "  'scores': [0.4905829429626465,\n",
              "   0.2534791827201843,\n",
              "   0.20231030881404877,\n",
              "   0.05362754687666893]},\n",
              " {'sequence': 'Sometimes get the Pho w/ rare beef which is decent.',\n",
              "  'labels': ['food', 'other', 'service', 'ambiance'],\n",
              "  'scores': [0.7790170311927795,\n",
              "   0.10868176817893982,\n",
              "   0.08358323574066162,\n",
              "   0.02871803753077984]}]"
            ]
          },
          "metadata": {},
          "execution_count": 23
        }
      ]
    },
    {
      "cell_type": "markdown",
      "source": [
        "### <Font color = 'dodgerblue'>**Get Predictions**\n",
        "- The output from the classifier will give you the probbaility for each label\n",
        "- The label with the highest probbaility should be your prediction\n",
        "- You might need to use more than one line of the code to complete this step"
      ],
      "metadata": {
        "id": "dPph80xNupUO"
      }
    },
    {
      "cell_type": "code",
      "source": [
        "predictions =  [review['labels'][np.argmax(review['scores'])] for review in probs]"
      ],
      "metadata": {
        "id": "MHKrANtowpQ9"
      },
      "execution_count": null,
      "outputs": []
    },
    {
      "cell_type": "code",
      "source": [
        "# get first five preeictions\n",
        "predictions[0:5]"
      ],
      "metadata": {
        "id": "MZfPYzoKHf7U",
        "colab": {
          "base_uri": "https://localhost:8080/"
        },
        "outputId": "c3273a0b-bf3f-45da-db57-d1948d0bd98c"
      },
      "execution_count": null,
      "outputs": [
        {
          "output_type": "execute_result",
          "data": {
            "text/plain": [
              "['food', 'other', 'food', 'food', 'food']"
            ]
          },
          "metadata": {},
          "execution_count": 25
        }
      ]
    },
    {
      "cell_type": "code",
      "source": [
        "# DO NOT RUN THIS CELL - This cells gives you an idea of the expected output"
      ],
      "metadata": {
        "colab": {
          "base_uri": "https://localhost:8080/"
        },
        "id": "SqSmzrdPR70J",
        "outputId": "c9d9f93c-f7d5-4daf-ab7d-48d1b380a63a"
      },
      "execution_count": null,
      "outputs": [
        {
          "output_type": "execute_result",
          "data": {
            "text/plain": [
              "['food', 'other', 'food', 'food', 'food']"
            ]
          },
          "metadata": {},
          "execution_count": 18
        }
      ]
    },
    {
      "cell_type": "markdown",
      "source": [
        "### <Font color = 'dodgerblue'>**Accuracy**\n",
        "- You might need to use more than one line of the code to complete this step\n",
        "- Now you have the actual Label and predicted Label for each sentence.\n",
        "- Calculate the overall acacuracy (Hint : you can use accuracy_score form from sklearn - `from sklearn.metrics import accuracy_score`\n"
      ],
      "metadata": {
        "id": "We6JZ9fXuXUz"
      }
    },
    {
      "cell_type": "code",
      "source": [
        "from sklearn.metrics import *\n",
        "accuracy =  accuracy_score(predictions, train_data['final_label'].tolist())*100\n",
        "accuracy"
      ],
      "metadata": {
        "id": "dy9P6LSvSJbj",
        "colab": {
          "base_uri": "https://localhost:8080/"
        },
        "outputId": "86a406a9-4e8e-49d5-a96b-eff552cba91b"
      },
      "execution_count": null,
      "outputs": [
        {
          "output_type": "execute_result",
          "data": {
            "text/plain": [
              "66.6095890410959"
            ]
          },
          "metadata": {},
          "execution_count": 26
        }
      ]
    },
    {
      "cell_type": "code",
      "source": [
        "# DO NOT RUN THIS CELL - If you have done everything correctly, you should get accurtacy close to reported below\n",
        "accuracy"
      ],
      "metadata": {
        "colab": {
          "base_uri": "https://localhost:8080/"
        },
        "id": "t6xdT9IhSpU8",
        "outputId": "aa7c4212-dbf5-47b1-b084-bfd31dee56b0"
      },
      "execution_count": null,
      "outputs": [
        {
          "output_type": "execute_result",
          "data": {
            "text/plain": [
              "66.6095890410959"
            ]
          },
          "metadata": {},
          "execution_count": 20
        }
      ]
    },
    {
      "cell_type": "markdown",
      "source": [
        "### <Font color = 'dodgerblue'>**Classification Report**\n",
        "- Print the classification report\n",
        "- HINT- `from sklearn.metrics import classification_report`"
      ],
      "metadata": {
        "id": "QYaQqsw8v8ln"
      }
    },
    {
      "cell_type": "code",
      "source": [
        "train_data['final_label'].value_counts()"
      ],
      "metadata": {
        "colab": {
          "base_uri": "https://localhost:8080/"
        },
        "id": "Ilglur6PpZG2",
        "outputId": "419037e1-07e7-4ae2-ae43-f01f5e61c153"
      },
      "execution_count": null,
      "outputs": [
        {
          "output_type": "execute_result",
          "data": {
            "text/plain": [
              "food        279\n",
              "other       139\n",
              "service     120\n",
              "ambiance     46\n",
              "Name: final_label, dtype: int64"
            ]
          },
          "metadata": {},
          "execution_count": 27
        }
      ]
    },
    {
      "cell_type": "code",
      "execution_count": null,
      "metadata": {
        "id": "Q7MFdMnBxLFM",
        "colab": {
          "base_uri": "https://localhost:8080/"
        },
        "outputId": "7f38a816-4c67-44e1-e5b6-e445d173f928"
      },
      "outputs": [
        {
          "output_type": "stream",
          "name": "stdout",
          "text": [
            "              precision    recall  f1-score   support\n",
            "\n",
            "    ambiance       0.39      0.33      0.36        46\n",
            "        food       0.76      0.84      0.80       279\n",
            "       other       0.52      0.54      0.53       139\n",
            "     service       0.69      0.54      0.61       120\n",
            "\n",
            "    accuracy                           0.67       584\n",
            "   macro avg       0.59      0.56      0.57       584\n",
            "weighted avg       0.66      0.67      0.66       584\n",
            "\n"
          ]
        }
      ],
      "source": [
        "# print classification report\n",
        "class_report =  classification_report(train_data['final_label'].tolist(), predictions)\n",
        "print(class_report)"
      ]
    },
    {
      "cell_type": "code",
      "source": [
        "# DO NOT RUN THIS CELL - If you have done everything correctly, your report should look similar"
      ],
      "metadata": {
        "colab": {
          "base_uri": "https://localhost:8080/"
        },
        "id": "vA7LEpwPTWg4",
        "outputId": "ff82a5c4-0eb3-4b0a-fe7b-790ca9d4d9b4"
      },
      "execution_count": null,
      "outputs": [
        {
          "output_type": "stream",
          "name": "stdout",
          "text": [
            "              precision    recall  f1-score   support\n",
            "\n",
            "    ambiance       0.39      0.33      0.36        46\n",
            "        food       0.76      0.84      0.80       279\n",
            "       other       0.52      0.54      0.53       139\n",
            "     service       0.69      0.54      0.61       120\n",
            "\n",
            "    accuracy                           0.67       584\n",
            "   macro avg       0.59      0.56      0.57       584\n",
            "weighted avg       0.66      0.67      0.66       584\n",
            "\n"
          ]
        }
      ]
    },
    {
      "cell_type": "markdown",
      "source": [
        "###<Font color = 'dodgerblue'>**Conclusion from the classification report** </font>\n",
        "\n",
        "What do you conclude from the classification report?\n",
        "\n",
        "YOUR RESPONSE HERE:\n",
        "\n",
        "The above classification report consists of Precision, Recall,  F-1 score and Support (i.e  number of actual samples for that category) for each of the 4 labels.\n",
        "\n",
        "Accuracy - The model achieves an overall accuracy of 67%, meaning it correctly classified 67% of the total instances across all classes.\n",
        "\n",
        "Precision = % of accurate predictions for positive labels. From the report we can see that the label 'food' has highest precision (76%) and 'ambiance' has the lowest precision (39%). Moreover, macro avg precision (i.e. arithmetic mean) of all labels is 59% and weighted avg (where weights are support/number of samples in that label) is 66%.\n",
        "\n",
        "Recall - % of accurate predictions for actual positives. From the report we can see that the label 'food' has highest accuracy (84%) and 'ambiance' has the lowest accuracy (33%). Moreover, macro avg precision (i.e. arithmetic mean) of all labels is 56% and weighted avg (where weights are support/number of samples in that label) is 67%.\n",
        "\n",
        "F-1 - The F1-scores strike a balance between precision and recall using harmonic mean of both. The \"food\" class leads with the highest F1-score of 0.80, signifying an effective equilibrium between precision and recall. Following closely is the \"service\" class with an F1-score of 0.61, while the \"other\" class achieves an F1-score of 0.53. In contrast, the \"ambiance\" class lags behind with the lowest F1-score of 0.36, indicating a less harmonious performance between precision and recall.\n",
        "\n",
        "In conclusion, the model works reasonably well overall, with a 67% accuracy. Nevertheless, there are differences in performance between classes. The \"food\" category performs best, whereas the \"ambiance\" category has the lowest precision and recall, resulting in the lowest F1 score. The selection of evaluation metrics and subsequent analysis may be influenced by the categorization task's specific goals and priorities.\n",
        "\n"
      ],
      "metadata": {
        "id": "z7mkN2E1RgY8"
      }
    },
    {
      "cell_type": "markdown",
      "source": [
        "### <Font color = 'dodgerblue'>**Confusion Matrix**\n",
        "- You might need to use more than one line of the code to complete this step\n",
        "- Print confusionm matrix\n",
        "- Hint:use ConfusionMatrixDisplay.from_predictions from sklearn"
      ],
      "metadata": {
        "id": "vv9btE81O6an"
      }
    },
    {
      "cell_type": "code",
      "source": [
        "confusion_matrix(train_data['final_label'].tolist(), predictions, normalize = 'true')"
      ],
      "metadata": {
        "colab": {
          "base_uri": "https://localhost:8080/"
        },
        "id": "URrHaN8xtb8g",
        "outputId": "06bb54e8-bb44-4e84-811a-4389e0b7ccb2"
      },
      "execution_count": null,
      "outputs": [
        {
          "output_type": "execute_result",
          "data": {
            "text/plain": [
              "array([[0.32608696, 0.2826087 , 0.36956522, 0.02173913],\n",
              "       [0.01075269, 0.83870968, 0.12903226, 0.02150538],\n",
              "       [0.11510791, 0.18705036, 0.53956835, 0.15827338],\n",
              "       [0.03333333, 0.29166667, 0.13333333, 0.54166667]])"
            ]
          },
          "metadata": {},
          "execution_count": 30
        }
      ]
    },
    {
      "cell_type": "code",
      "source": [
        "# CODE HERE\n",
        "from sklearn.metrics._plot.confusion_matrix import ConfusionMatrixDisplay\n",
        "\n",
        "ConfusionMatrixDisplay.from_predictions( train_data['final_label'].tolist(), predictions, normalize = 'true')\n",
        "plt.title('Confusion Matrix')\n",
        "plt.show()\n"
      ],
      "metadata": {
        "id": "bw9M-jHlToSN",
        "colab": {
          "base_uri": "https://localhost:8080/",
          "height": 472
        },
        "outputId": "63ec0611-55a0-4059-f8d0-590a95ab7cb2"
      },
      "execution_count": null,
      "outputs": [
        {
          "output_type": "display_data",
          "data": {
            "text/plain": [
              "<Figure size 640x480 with 2 Axes>"
            ],
            "image/png": "[encoded data removed]"
          },
          "metadata": {}
        }
      ]
    },
    {
      "cell_type": "code",
      "source": [
        "# DO NOT RUN THIS CELL - this gives you an idea of expected output. Your results might differ slightly"
      ],
      "metadata": {
        "colab": {
          "base_uri": "https://localhost:8080/",
          "height": 406
        },
        "id": "Usku0S9LgpkK",
        "outputId": "5d569d84-9e27-439f-ed82-cb5438312578"
      },
      "execution_count": null,
      "outputs": [
        {
          "output_type": "execute_result",
          "data": {
            "text/plain": [
              "<sklearn.metrics._plot.confusion_matrix.ConfusionMatrixDisplay at 0x7f3bcdf6bcd0>"
            ]
          },
          "metadata": {},
          "execution_count": 31
        },
        {
          "output_type": "display_data",
          "data": {
            "text/plain": [
              "<Figure size 500x400 with 2 Axes>"
            ],
            "image/png": "[encoded data removed]"
          },
          "metadata": {}
        }
      ]
    },
    {
      "cell_type": "markdown",
      "source": [
        "###<Font color = 'dodgerblue'>**Conclusions from the Confusion Matrix** </font>\n",
        "\n",
        "What do you conclude from the Confusion Matrix?\n",
        "\n",
        "Above is the confusion matrix for multi-label review dataset. Since the above matrix is normalize over true labels, above diagonal values in the matrix correspond to Recall values for each class. According to the matrix, 'food' is the best performing category with highest recall. We can see that out of actual reviews regarding 'food' labels 84% of them were predicted as 'food' labels.\n",
        "\n",
        "Similarly, we can interpret that the out of all 'ambiance' reviews only 2.2% were labelled as service. Moreover, 13% of 'food' reviews were labelled as 'other'.\n",
        "\n",
        "\n",
        "We can conclude that this a decent model with high recall for 'food' labels\n",
        "\n",
        "\n",
        "\n"
      ],
      "metadata": {
        "id": "Ejw_5vPtzOS1"
      }
    },
    {
      "cell_type": "markdown",
      "source": [
        "## <Font color = 'dodgerblue'>**Task2 : Change hypothesis template**. </font>\n",
        "\n",
        "In this experiment, we are exploring the impact of changing the hypothesis template in a zero-shot classification model. The default template used in the pipeline is **\"This example is {}\"**. In the experiment the default template is being replaced with a domain-specific template to classify restaurant reviews into categories like food, service, ambiance, and other.\n",
        "\n",
        "### Steps:\n",
        "\n",
        "1. **Modify Hypothesis Template:** Adjust the template to better fit the context of restaurant reviews.\n",
        "2. **Evaluate Model:** Apply the modified template and report accuracy, a classification report, and confusion matrix.\n",
        "3. **Compare Results:** Analyze the findings in comparison to the previous experiment using the default template.\n",
        "\n",
        "### Conclusion:\n",
        "\n",
        "Changing the hypothesis template may lead to variations in model performance, possibly improving accuracy in certain categories. The comparison between the experiments can reveal insights into how the model interprets premises differently with various templates, helping to tailor the model to specific tasks or domains."
      ],
      "metadata": {
        "id": "Fk5oM0qQ0lqQ"
      }
    },
    {
      "cell_type": "markdown",
      "metadata": {
        "id": "eniliCyO23Qr"
      },
      "source": [
        "### <Font color = 'dodgerblue'>**Create a list of reviews**"
      ]
    },
    {
      "cell_type": "code",
      "execution_count": null,
      "metadata": {
        "id": "fZB1sjVw23Qr",
        "colab": {
          "base_uri": "https://localhost:8080/"
        },
        "outputId": "c3ee967f-e500-4f7b-ec39-fffedb7f2049"
      },
      "outputs": [
        {
          "output_type": "execute_result",
          "data": {
            "text/plain": [
              "['food', 'service', 'other', 'ambiance']"
            ]
          },
          "metadata": {},
          "execution_count": 63
        }
      ],
      "source": [
        "# create a list of reviews (hint use column.tolist() to convert numpy array series to python list)\n",
        "texts_train = train_data['text'].tolist()  # CODE HERE\n",
        "\n",
        "# list of labels\n",
        "candidate_labels = train_data['final_label'].unique().tolist() # CODE HERE\n",
        "candidate_labels"
      ]
    },
    {
      "cell_type": "markdown",
      "metadata": {
        "id": "sE1emxDW23Qr"
      },
      "source": [
        "### <Font color = 'dodgerblue'>**Get Probabilities**\n",
        "\n",
        "In the previous experiment, you only passed sequences and candiadte labels. Since you did not pass any hypothesis template, the classifier used the default template \"This example is {}.\" Now, in this experiment, you will introduce a custom hypothesis template to replace the default. The suggested custom template is \"This review is related to the restaurant's {}.\" By specifying a template more aligned with the context of restaurant reviews, you may influence how the classifier interprets the relationship between the premise and each candidate label. Feel free to explore other custom templates that may be suitable for this task, and compare how these changes affect the classification performance.\n",
        "\n",
        "The syntax is : **```zero_shot_classifier(sequences= , candidate_labels = , hypothesis_template =   )```**"
      ]
    },
    {
      "cell_type": "code",
      "execution_count": null,
      "metadata": {
        "execution": {
          "iopub.execute_input": "2022-11-27T12:01:45.594721Z",
          "iopub.status.busy": "2022-11-27T12:01:45.594481Z",
          "iopub.status.idle": "2022-11-27T12:01:50.801737Z",
          "shell.execute_reply": "2022-11-27T12:01:50.801068Z",
          "shell.execute_reply.started": "2022-11-27T12:01:45.594695Z"
        },
        "tags": [],
        "id": "aEV28Et723Qr",
        "colab": {
          "base_uri": "https://localhost:8080/"
        },
        "outputId": "d305ddd3-8b5f-4385-eecc-f0ba1b91b4c3"
      },
      "outputs": [
        {
          "output_type": "execute_result",
          "data": {
            "text/plain": [
              "[{'sequence': \"If you love unagi (eel) on rice, you'll absolutely enjoy their version.\",\n",
              "  'labels': ['food', 'other', 'service', 'ambiance'],\n",
              "  'scores': [0.8286235928535461,\n",
              "   0.16602034866809845,\n",
              "   0.002787336939945817,\n",
              "   0.002568803494796157]},\n",
              " {'sequence': 'But it is definitely worth the wait.',\n",
              "  'labels': ['other', 'food', 'service', 'ambiance'],\n",
              "  'scores': [0.3562206029891968,\n",
              "   0.3078744113445282,\n",
              "   0.24831971526145935,\n",
              "   0.08758530765771866]},\n",
              " {'sequence': 'Sometimes get the Pho w/ rare beef which is decent.',\n",
              "  'labels': ['food', 'other', 'ambiance', 'service'],\n",
              "  'scores': [0.8090678453445435,\n",
              "   0.18316306173801422,\n",
              "   0.004174663685262203,\n",
              "   0.0035944220144301653]}]"
            ]
          },
          "metadata": {},
          "execution_count": 64
        }
      ],
      "source": [
        "# pass the sequences, candiadte labels and hypothesis_template to the classifier\n",
        "# CODE HERE\n",
        "probs = zero_shot_classifier(sequences = texts_train, candidate_labels = candidate_labels, hypothesis_template = \"This review is related to the restaurant's {}.\" )\n",
        "\n",
        "probs[0:3]"
      ]
    },
    {
      "cell_type": "code",
      "source": [
        "probs[0:3]"
      ],
      "metadata": {
        "id": "rajMDD2ZK6ms",
        "colab": {
          "base_uri": "https://localhost:8080/"
        },
        "outputId": "304cd98f-47fd-4f7a-d967-54e7fdc1e204"
      },
      "execution_count": null,
      "outputs": [
        {
          "output_type": "execute_result",
          "data": {
            "text/plain": [
              "[{'sequence': \"If you love unagi (eel) on rice, you'll absolutely enjoy their version.\",\n",
              "  'labels': ['food', 'other', 'service', 'ambiance'],\n",
              "  'scores': [0.8286235928535461,\n",
              "   0.16602034866809845,\n",
              "   0.002787336939945817,\n",
              "   0.002568803494796157]},\n",
              " {'sequence': 'But it is definitely worth the wait.',\n",
              "  'labels': ['other', 'food', 'service', 'ambiance'],\n",
              "  'scores': [0.3562206029891968,\n",
              "   0.3078744113445282,\n",
              "   0.24831971526145935,\n",
              "   0.08758530765771866]},\n",
              " {'sequence': 'Sometimes get the Pho w/ rare beef which is decent.',\n",
              "  'labels': ['food', 'other', 'ambiance', 'service'],\n",
              "  'scores': [0.8090678453445435,\n",
              "   0.18316306173801422,\n",
              "   0.004174663685262203,\n",
              "   0.0035944220144301653]}]"
            ]
          },
          "metadata": {},
          "execution_count": 49
        }
      ]
    },
    {
      "cell_type": "markdown",
      "source": [
        "### <Font color = 'dodgerblue'>**Get Predictions**\n",
        "- The output from the classifier will give you the probbaility for each label\n",
        "- The label with the highest probbaility should be your prediction\n",
        "- You might need to use more than one line of the code to complete this step"
      ],
      "metadata": {
        "id": "NXB_v7XB23Qs"
      }
    },
    {
      "cell_type": "code",
      "source": [
        "predictions =  [review['labels'][np.argmax(review['scores'])] for review in probs]"
      ],
      "metadata": {
        "id": "zIRClFhD23Qs"
      },
      "execution_count": null,
      "outputs": []
    },
    {
      "cell_type": "code",
      "source": [
        "# get first five preeictions\n",
        "predictions[0:5]"
      ],
      "metadata": {
        "id": "2H1y8kl1s9J8",
        "colab": {
          "base_uri": "https://localhost:8080/"
        },
        "outputId": "2a5875d6-733f-4725-afdb-aea3e582ce7f"
      },
      "execution_count": null,
      "outputs": [
        {
          "output_type": "execute_result",
          "data": {
            "text/plain": [
              "['food', 'other', 'food', 'food', 'other']"
            ]
          },
          "metadata": {},
          "execution_count": 66
        }
      ]
    },
    {
      "cell_type": "markdown",
      "source": [
        "### <Font color = 'dodgerblue'>**Accuracy**\n",
        "- You might need to use more than one line of the code to complete this step\n",
        "- Now you have the actual Label and predicted Label for each sentence.\n",
        "- Calculate the overall acacuracy (Hint : you can use accuracy_score form from sklearn - `from sklearn.metrics import accuracy_score`\n"
      ],
      "metadata": {
        "id": "R7n4vKFt23Qs"
      }
    },
    {
      "cell_type": "code",
      "source": [
        "accuracy = accuracy_score(predictions, train_data['final_label'].tolist())*100\n",
        "accuracy"
      ],
      "metadata": {
        "id": "pDSRjHgStHre",
        "colab": {
          "base_uri": "https://localhost:8080/"
        },
        "outputId": "8df90884-5a7f-46a7-a929-a369b2a9e5a3"
      },
      "execution_count": null,
      "outputs": [
        {
          "output_type": "execute_result",
          "data": {
            "text/plain": [
              "78.76712328767124"
            ]
          },
          "metadata": {},
          "execution_count": 67
        }
      ]
    },
    {
      "cell_type": "code",
      "source": [
        "# DO NOT RUN THIS CELL - If you have done everything correctly, you should get accurtacy close to reported below\n",
        "accuracy"
      ],
      "metadata": {
        "colab": {
          "base_uri": "https://localhost:8080/"
        },
        "outputId": "6f37ea3d-ce12-47cd-80bd-60d40abe1142",
        "id": "dJr8JCJ0tHre"
      },
      "execution_count": null,
      "outputs": [
        {
          "output_type": "execute_result",
          "data": {
            "text/plain": [
              "78.76712328767124"
            ]
          },
          "metadata": {},
          "execution_count": 58
        }
      ]
    },
    {
      "cell_type": "markdown",
      "source": [
        "### <Font color = 'dodgerblue'>**Classification Report**\n",
        "- Print the classification report\n",
        "- HINT- `from sklearn.metrics import classification_report`"
      ],
      "metadata": {
        "id": "YKEC44ii23Qs"
      }
    },
    {
      "cell_type": "code",
      "execution_count": null,
      "metadata": {
        "id": "SPB653ZutXyw",
        "colab": {
          "base_uri": "https://localhost:8080/"
        },
        "outputId": "524df130-f57d-4196-8afe-6f67b9911171"
      },
      "outputs": [
        {
          "output_type": "stream",
          "name": "stdout",
          "text": [
            "              precision    recall  f1-score   support\n",
            "\n",
            "    ambiance       0.90      0.41      0.57        46\n",
            "        food       0.88      0.84      0.86       279\n",
            "       other       0.60      0.91      0.72       139\n",
            "     service       0.93      0.68      0.78       120\n",
            "\n",
            "    accuracy                           0.79       584\n",
            "   macro avg       0.83      0.71      0.73       584\n",
            "weighted avg       0.83      0.79      0.79       584\n",
            "\n"
          ]
        }
      ],
      "source": [
        "# print classification report\n",
        "class_report =  classification_report(train_data['final_label'].tolist(), predictions)\n",
        "print(class_report)"
      ]
    },
    {
      "cell_type": "code",
      "source": [
        "# DO NOT RUN THIS CELL - If you have done everything correctly, your report should look similar"
      ],
      "metadata": {
        "colab": {
          "base_uri": "https://localhost:8080/"
        },
        "outputId": "93bad17b-1f6a-4bc5-b7fe-7f406a20d2bb",
        "id": "l81zq5HUtXyx"
      },
      "execution_count": null,
      "outputs": [
        {
          "output_type": "stream",
          "name": "stdout",
          "text": [
            "              precision    recall  f1-score   support\n",
            "\n",
            "    ambiance       0.90      0.41      0.57        46\n",
            "        food       0.88      0.84      0.86       279\n",
            "       other       0.60      0.91      0.72       139\n",
            "     service       0.93      0.68      0.78       120\n",
            "\n",
            "    accuracy                           0.79       584\n",
            "   macro avg       0.83      0.71      0.73       584\n",
            "weighted avg       0.83      0.79      0.79       584\n",
            "\n"
          ]
        }
      ]
    },
    {
      "cell_type": "markdown",
      "source": [
        "### <Font color = 'dodgerblue'>**Compare the classification report** </font>\n",
        "\n",
        "Compare the classification report with previous experiment and provide your conclusion.\n",
        "\n",
        "YOUR RESPONSE HERE\n",
        "\n",
        "\n",
        "Accuracy- From the above report we can see that the model obtains a decent 79% overall accuracy, an improvement over 67% without proper hypothesis template. Moreover, both the macro avg and weighted avg accuracy has increased to 79% and 73%.\n",
        "\n",
        "Precision- precision scores for all the labels have drastically increased. highest score corresponding to 'service' label of 93% and lowest 60% for other. This suggests that out of all the reviews labelled as other only 60% of them actually belong to other.\n",
        "\n",
        "Recall - Same with recall scores for all labels have increased. highest score corresponding to 'other' label of 91% and lowest 41% for 'ambiance'. This suggests that out of all the reviews that were of 'ambiance' only 41% of them actually predicted as 'ambiance'. We can see clearly see that the tradeoff between precision and recall between classes. Classes with high precision have low recall and vice versa.\n",
        "\n",
        "F1 score: Being the balance of both precision and recall, we can see that the increase in this as well compared to the task without introduction of hypothesis template.\n",
        "\n",
        "Support: support doesnt change as it indicates the number of actual samples in those labels.\n",
        "\n",
        "Avg: weighted and macro avg of all labels have increased over previous model\n",
        "\n",
        "In conclusion, the addition of hypothesis template drastically helped the model predict accurate results compared to using default hypothesis.\n",
        "\n",
        "\n",
        "\n"
      ],
      "metadata": {
        "id": "9gz7hRSB23Qs"
      }
    },
    {
      "cell_type": "markdown",
      "source": [
        "### <Font color = 'dodgerblue'>**Confusion Matrix**\n",
        "- You might need to use more than one line of the code to complete this step\n",
        "- Print confusionm matrix\n",
        "- Hint:use ConfusionMatrixDisplay.from_predictions from sklearn"
      ],
      "metadata": {
        "id": "HGU0AEUu23Qs"
      }
    },
    {
      "cell_type": "code",
      "source": [
        "# CODE HERE\n",
        "ConfusionMatrixDisplay.from_predictions( train_data['final_label'].tolist(), predictions, normalize = 'true')\n",
        "plt.title('Confusion Matrix')\n",
        "plt.show()"
      ],
      "metadata": {
        "id": "bhjumxPmvF9c",
        "colab": {
          "base_uri": "https://localhost:8080/",
          "height": 472
        },
        "outputId": "87cbbbe5-b59c-4dcc-d7f9-599fe32b994b"
      },
      "execution_count": null,
      "outputs": [
        {
          "output_type": "display_data",
          "data": {
            "text/plain": [
              "<Figure size 640x480 with 2 Axes>"
            ],
            "image/png": "[encoded data removed]"
          },
          "metadata": {}
        }
      ]
    },
    {
      "cell_type": "code",
      "source": [
        "# DO NOT RUN THIS CELL - this gives you an idea of expected output. Your results might differ slightly"
      ],
      "metadata": {
        "colab": {
          "base_uri": "https://localhost:8080/",
          "height": 406
        },
        "outputId": "be48c23a-1849-4317-c4d8-8dc8df682129",
        "id": "mptbZQW_vF9c"
      },
      "execution_count": null,
      "outputs": [
        {
          "output_type": "execute_result",
          "data": {
            "text/plain": [
              "<sklearn.metrics._plot.confusion_matrix.ConfusionMatrixDisplay at 0x7f63984de980>"
            ]
          },
          "metadata": {},
          "execution_count": 63
        },
        {
          "output_type": "display_data",
          "data": {
            "text/plain": [
              "<Figure size 500x400 with 2 Axes>"
            ],
            "image/png": "[encoded data removed]"
          },
          "metadata": {}
        }
      ]
    },
    {
      "cell_type": "markdown",
      "source": [
        "###<Font color = 'dodgerblue'>**Conclusions from the Confusion Matrix** </font>\n",
        "\n",
        "What do you conclude from the Confusion Matrix (compare with previous experiment)?\n",
        "\n",
        "YOUR RESPONSE HERE\n",
        "\n",
        "Above is the confusion matrix for multi-label review dataset with Hypothesis Template. Since the above matrix is normalize over true labels, above diagonal values in the matrix correspond to Recall values for each class. According to the matrix, 'other' is the best performing category with highest recall. We can see that out of actual reviews regarding 'other' labels 91% of them were predicted as 'other' label.\n",
        "\n",
        "Similarly, we can interpret that the out of all 'ambiance' reviews only 2.2% were labelled as service. Moreover, 0% of 'food' reviews were labelled as 'other'. However, 46% of 'ambiance' reviews were labelled as 'other', which is bad.\n",
        "\n",
        "We can conclude that this a decent model with high recall for 'food' and 'other' labels. This model with hypothesis template have better chance of predicting actual labels correctly.\n",
        "\n",
        "\n",
        "\n"
      ],
      "metadata": {
        "id": "s2mVAmm-23Qs"
      }
    },
    {
      "cell_type": "markdown",
      "source": [
        "## <Font color = 'dodgerblue'>**Task3 : Use threshold probbaility to classify Others**.\n",
        "\n",
        "\n",
        "\n",
        "\n",
        "In this next experiment, you will explore a nuanced approach to classification by **only considering the labels 'food', 'service', and 'ambiance'**. This is a departure from the previous experiments, where you also included 'other' as a label, and it brings some key distinctions:\n",
        "\n",
        "Unlike traditional classification, where the probabilities across all labels sum to one, in this experiment, you'll assess the probabilities for just the three given labels.\n",
        "\n",
        "By not including 'other' as a label, you are essentially allowing the model to classify instances into 'other' if none of the given labels strongly apply. If the maximum probability across 'food', 'service', and 'ambiance' is less than the threshold, the instance is classified as 'other'.\n",
        "\n",
        "This approach not only recognizes that some instances may not fit neatly into one of the specific categories but also aims to refine the handling of those instances. It encourages a more flexible and discerning classification, possibly reducing misclassification.\n",
        "\n",
        "The task will allow you to explore how this method of classification, guided by a threshold, can impact the model's performance. It offers an insightful comparison with the previous approaches and underlines the significance of understanding the nature of your data, the relationships between categories, and selecting an appropriate classification strategy accordingly."
      ],
      "metadata": {
        "id": "t2n8UTav3O8L"
      }
    },
    {
      "cell_type": "markdown",
      "metadata": {
        "id": "DvH5d67U3WVa"
      },
      "source": [
        "### <Font color = 'dodgerblue'>**Create a list of reviews**"
      ]
    },
    {
      "cell_type": "code",
      "execution_count": null,
      "metadata": {
        "id": "dKoj2rXB3WVa",
        "colab": {
          "base_uri": "https://localhost:8080/"
        },
        "outputId": "37e48d6d-1302-4baa-c61c-9c1c15259b2b"
      },
      "outputs": [
        {
          "output_type": "execute_result",
          "data": {
            "text/plain": [
              "['food', 'ambiance', 'service']"
            ]
          },
          "metadata": {},
          "execution_count": 32
        }
      ],
      "source": [
        "# create a list of reviews (hint use column.tolist() to convert numpy array series to python list)\n",
        "texts_train = train_data['text'].tolist()  # CODE HERE\n",
        "\n",
        "# list of labels\n",
        "candidate_labels = ['food', 'ambiance', 'service'] # CODE HERE\n",
        "candidate_labels"
      ]
    },
    {
      "cell_type": "markdown",
      "metadata": {
        "id": "_94oeSQB3WVb"
      },
      "source": [
        "### <Font color = 'dodgerblue'>**Get Probabilities**\n",
        "\n",
        "Pass the list of text and labels you craeted in the previous step to the classifier to get predictions."
      ]
    },
    {
      "cell_type": "code",
      "execution_count": null,
      "metadata": {
        "execution": {
          "iopub.execute_input": "2022-11-27T12:01:45.594721Z",
          "iopub.status.busy": "2022-11-27T12:01:45.594481Z",
          "iopub.status.idle": "2022-11-27T12:01:50.801737Z",
          "shell.execute_reply": "2022-11-27T12:01:50.801068Z",
          "shell.execute_reply.started": "2022-11-27T12:01:45.594695Z"
        },
        "tags": [],
        "id": "KCkWBpr43WVb"
      },
      "outputs": [],
      "source": [
        "# pass the sequences, candiadte labels and hypothesis_template to the classifier\n",
        "\n",
        "# CODE HERE\n",
        "\n",
        "probs = zero_shot_classifier(sequences = texts_train, candidate_labels = candidate_labels, hypothesis_template = \"This review is related to the restaurant's {}.\" )\n",
        "\n",
        "\n"
      ]
    },
    {
      "cell_type": "code",
      "source": [
        "probs[0: 5]"
      ],
      "metadata": {
        "id": "J4ifIOjE1tpu",
        "colab": {
          "base_uri": "https://localhost:8080/"
        },
        "outputId": "1c846976-6779-486a-c085-8e0b8441d632"
      },
      "execution_count": null,
      "outputs": [
        {
          "output_type": "execute_result",
          "data": {
            "text/plain": [
              "[{'sequence': \"If you love unagi (eel) on rice, you'll absolutely enjoy their version.\",\n",
              "  'labels': ['food', 'service', 'ambiance'],\n",
              "  'scores': [0.9935776591300964, 0.0033422119449824095, 0.003080175258219242]},\n",
              " {'sequence': 'But it is definitely worth the wait.',\n",
              "  'labels': ['food', 'service', 'ambiance'],\n",
              "  'scores': [0.4782296419143677, 0.38572174310684204, 0.13604862987995148]},\n",
              " {'sequence': 'Sometimes get the Pho w/ rare beef which is decent.',\n",
              "  'labels': ['food', 'ambiance', 'service'],\n",
              "  'scores': [0.9904888272285461, 0.00511076720431447, 0.004400415811687708]},\n",
              " {'sequence': 'Other items on this menu was a crab soup, duck and clams congee, 2 desserts (one chinese and one western) and free appetizers.',\n",
              "  'labels': ['food', 'service', 'ambiance'],\n",
              "  'scores': [0.9874482750892639, 0.0063391621224582195, 0.006212588399648666]},\n",
              " {'sequence': 'I visited the restaurant for lunch and arrived there just after 12.30pm on a Sunday.',\n",
              "  'labels': ['food', 'ambiance', 'service'],\n",
              "  'scores': [0.7476784586906433, 0.1391175389289856, 0.11320400983095169]}]"
            ]
          },
          "metadata": {},
          "execution_count": 34
        }
      ]
    },
    {
      "cell_type": "markdown",
      "source": [
        "### <Font color = 'dodgerblue'>**Get Predictions** </font>\n",
        "\n",
        "In this experiment , you'll be considering three specific categories: 'food', 'service', 'ambiance', and classify any instance that doesn't fit these categories as 'other'. To make this decision, you will use a concept called a threshold.\n",
        "\n",
        "#### Understanding the Threshold Concept:\n",
        "The threshold is a cutoff value that helps determine the class labels based on predicted probabilities. Here's how it works:\n",
        "\n",
        "Imagine your model predicts the following probabilities for a review:\n",
        "- 'food': 0.7\n",
        "- 'service': 0.2\n",
        "- 'ambiance': 0.1\n",
        "\n",
        "With a threshold of 0.5, you check whether the highest probability (0.7 for 'food') is greater than this threshold. Since 0.7 > 0.5, the review is classified as 'food'. If the highest probability dees not surpass the threshold, you classify the review as 'other'. By adjusting the threshold, you control how confident the model must be to assign a particular label.\n",
        "\n",
        "**In this experiment, you will use a theshold of 0.8**"
      ],
      "metadata": {
        "id": "qLZ9WP3j3WVb"
      }
    },
    {
      "cell_type": "code",
      "source": [
        "threshold = 0.8"
      ],
      "metadata": {
        "id": "_z6Gdb7_zQg9"
      },
      "execution_count": null,
      "outputs": []
    },
    {
      "cell_type": "code",
      "source": [
        "predictions = [review['labels'][np.argmax(review['scores'])] if np.max(review['scores']) > threshold else 'other' for review in probs]\n"
      ],
      "metadata": {
        "id": "AyAK7DRjzRB0"
      },
      "execution_count": null,
      "outputs": []
    },
    {
      "cell_type": "code",
      "source": [
        "# get first five predictions\n",
        "predictions[0:5]"
      ],
      "metadata": {
        "id": "LjdRb9ZSzRB0",
        "colab": {
          "base_uri": "https://localhost:8080/"
        },
        "outputId": "ee3142bd-0732-4c31-8379-096f56a471cb"
      },
      "execution_count": null,
      "outputs": [
        {
          "output_type": "execute_result",
          "data": {
            "text/plain": [
              "['food', 'other', 'food', 'food', 'other']"
            ]
          },
          "metadata": {},
          "execution_count": 37
        }
      ]
    },
    {
      "cell_type": "markdown",
      "source": [
        "### <Font color = 'dodgerblue'>**Accuracy**\n",
        "- You might need to use more than one line of the code to complete this step\n",
        "- Now you have the True Label and predicted Label for each sentence.\n",
        "- Calculate the overall acacuracy (Hint : you can use accuracy_score form from sklearn - `from sklearn.metrics import accuracy_score`\n"
      ],
      "metadata": {
        "id": "ncT2Qh7R3WVb"
      }
    },
    {
      "cell_type": "code",
      "source": [
        "accuracy = accuracy_score(predictions, train_data['final_label'].tolist())*100\n",
        "accuracy"
      ],
      "metadata": {
        "id": "myixU_Ky6OIl",
        "colab": {
          "base_uri": "https://localhost:8080/"
        },
        "outputId": "507989b1-c71b-4ee7-c342-f15940728461"
      },
      "execution_count": null,
      "outputs": [
        {
          "output_type": "execute_result",
          "data": {
            "text/plain": [
              "76.02739726027397"
            ]
          },
          "metadata": {},
          "execution_count": 38
        }
      ]
    },
    {
      "cell_type": "code",
      "source": [
        "# DO NOT RUN THIS CELL - If you have done everything correctly, you should get accurtacy close to reported below\n",
        "accuracy"
      ],
      "metadata": {
        "colab": {
          "base_uri": "https://localhost:8080/"
        },
        "outputId": "2a6fd581-3d6d-4d6f-9ed3-0666a9baaa3e",
        "id": "AkCb8Qeg6OIm"
      },
      "execution_count": null,
      "outputs": [
        {
          "output_type": "execute_result",
          "data": {
            "text/plain": [
              "76.02739726027397"
            ]
          },
          "metadata": {},
          "execution_count": 68
        }
      ]
    },
    {
      "cell_type": "markdown",
      "source": [
        "**The overall accurtacy has decreased. This might be the result of chosen threshold**"
      ],
      "metadata": {
        "id": "Wa-yI85Y4rlj"
      }
    },
    {
      "cell_type": "markdown",
      "source": [
        "### <Font color = 'dodgerblue'>**Classification Report**\n",
        "- Print the classification report\n",
        "- HINT- `from sklearn.metrics import classification_report`"
      ],
      "metadata": {
        "id": "AyzScDOh3WVb"
      }
    },
    {
      "cell_type": "code",
      "execution_count": null,
      "metadata": {
        "id": "HnkXaUZP5qp5",
        "colab": {
          "base_uri": "https://localhost:8080/"
        },
        "outputId": "2e027549-c27c-43d0-e21b-7ae31d20b021"
      },
      "outputs": [
        {
          "output_type": "stream",
          "name": "stdout",
          "text": [
            "              precision    recall  f1-score   support\n",
            "\n",
            "    ambiance       0.95      0.41      0.58        46\n",
            "        food       0.91      0.85      0.88       279\n",
            "       other       0.53      0.88      0.66       139\n",
            "     service       0.93      0.53      0.68       120\n",
            "\n",
            "    accuracy                           0.76       584\n",
            "   macro avg       0.83      0.67      0.70       584\n",
            "weighted avg       0.83      0.76      0.76       584\n",
            "\n"
          ]
        }
      ],
      "source": [
        "# print classification report\n",
        "class_report =  classification_report(train_data['final_label'].tolist(), predictions)\n",
        "print(class_report)"
      ]
    },
    {
      "cell_type": "code",
      "source": [
        "# DO NOT RUN THIS CELL - If you have done everything correctly, your report should look similar"
      ],
      "metadata": {
        "colab": {
          "base_uri": "https://localhost:8080/"
        },
        "outputId": "fe74d9d0-eca7-48c4-afd4-35d973edbe40",
        "id": "kQXAlef_5qp5"
      },
      "execution_count": null,
      "outputs": [
        {
          "output_type": "stream",
          "name": "stdout",
          "text": [
            "              precision    recall  f1-score   support\n",
            "\n",
            "    ambiance       0.95      0.41      0.58        46\n",
            "        food       0.91      0.85      0.88       279\n",
            "       other       0.53      0.88      0.66       139\n",
            "     service       0.93      0.53      0.68       120\n",
            "\n",
            "    accuracy                           0.76       584\n",
            "   macro avg       0.83      0.67      0.70       584\n",
            "weighted avg       0.83      0.76      0.76       584\n",
            "\n"
          ]
        }
      ]
    },
    {
      "cell_type": "markdown",
      "source": [
        "### <Font color = 'dodgerblue'>**Compare the classification report** </font>\n",
        "\n",
        "Compare the classification report with previous experiment and provide your conclusion.\n",
        "\n",
        "Accuracy- From the above report we can see that the model obtains a decent 76% overall accuracy, a slightly worse over 76% with threshold of 0.8. Moreover, both the macro avg and weighted avg accuracy has decreased to 70% and 76%.\n",
        "\n",
        "Precision- precision scores for all the labels decreased for some labels drastically and slightly increased for other labels. highest score corresponding to 'ambiance' label of 95% and lowest 53% for other. This suggests that out of all the reviews labelled as 'other' only 53% of them actually belong to other, which worse than the previous experiment\n",
        "\n",
        "Recall - Same with recall scores for all labels have increased. highest score corresponding to 'other' label of 88% and lowest 41% for 'ambiance'. This suggests that out of all the reviews that were of 'ambiance' only 41% of them actually predicted as 'ambiance'. We can see clearly see that the tradeoff between precision and recall between classes. Classes with high precision have low recall and vice versa. Recall has decreased over previous experiment\n",
        "\n",
        "F1 score: Being the balance of both precision and recall, we can see that the increase in this as well compared to the task without threshold.\n",
        "\n",
        "Support: support doesnt change as it indicates the number of actual samples in those labels.\n",
        "\n",
        "Avg: weighted and macro avg of all labels have increased over previous model\n",
        "\n",
        "In conclusion, the use of high value of 0.8 as threshold worsen the prediction of model.\n",
        "\n",
        "\n"
      ],
      "metadata": {
        "id": "aEkpcLJm3WVb"
      }
    },
    {
      "cell_type": "markdown",
      "source": [
        "### <Font color = 'dodgerblue'>**Confusion Matrix**\n",
        "- You might need to use more than one line of the code to complete this step\n",
        "- Print confusionm matrix\n",
        "- Hint:`from sklearn.metrics import confusion_matrix``"
      ],
      "metadata": {
        "id": "MXuotn5J3WVb"
      }
    },
    {
      "cell_type": "code",
      "source": [
        "confusion_matrix(train_data['final_label'].tolist(), predictions, normalize = 'true')"
      ],
      "metadata": {
        "colab": {
          "base_uri": "https://localhost:8080/"
        },
        "id": "D558t69N4D84",
        "outputId": "de600291-63fb-45ef-c31e-95c82c6d35b2"
      },
      "execution_count": null,
      "outputs": [
        {
          "output_type": "execute_result",
          "data": {
            "text/plain": [
              "array([[0.41304348, 0.06521739, 0.52173913, 0.        ],\n",
              "       [0.        , 0.85304659, 0.14336918, 0.00358423],\n",
              "       [0.00719424, 0.07913669, 0.88489209, 0.02877698],\n",
              "       [0.        , 0.08333333, 0.38333333, 0.53333333]])"
            ]
          },
          "metadata": {},
          "execution_count": 40
        }
      ]
    },
    {
      "cell_type": "code",
      "source": [
        "# CODE HERE\n",
        "ConfusionMatrixDisplay.from_predictions( train_data['final_label'].tolist(), predictions, normalize = 'true')\n",
        "plt.title('Confusion Matrix')\n",
        "plt.show()\n"
      ],
      "metadata": {
        "id": "0k7-MSek2qPz",
        "colab": {
          "base_uri": "https://localhost:8080/",
          "height": 472
        },
        "outputId": "b2b20ae2-3464-44db-a4d9-0897066de538"
      },
      "execution_count": null,
      "outputs": [
        {
          "output_type": "display_data",
          "data": {
            "text/plain": [
              "<Figure size 640x480 with 2 Axes>"
            ],
            "image/png": "[encoded data removed]"
          },
          "metadata": {}
        }
      ]
    },
    {
      "cell_type": "code",
      "source": [
        "# DO NOT RUN THIS CELL - this gives you an idea of expected output. Your results might differ slightly"
      ],
      "metadata": {
        "colab": {
          "base_uri": "https://localhost:8080/",
          "height": 406
        },
        "outputId": "2c9615e0-691a-421f-d522-0dd400380461",
        "id": "lBmgVsE42qPz"
      },
      "execution_count": null,
      "outputs": [
        {
          "output_type": "execute_result",
          "data": {
            "text/plain": [
              "<sklearn.metrics._plot.confusion_matrix.ConfusionMatrixDisplay at 0x7ff9c876bdf0>"
            ]
          },
          "metadata": {},
          "execution_count": 133
        },
        {
          "output_type": "display_data",
          "data": {
            "text/plain": [
              "<Figure size 500x400 with 2 Axes>"
            ],
            "image/png": "[encoded data removed]"
          },
          "metadata": {}
        }
      ]
    },
    {
      "cell_type": "markdown",
      "source": [
        "###<Font color = 'dodgerblue'>**Conclusions from the Confusion Matrix** </font>\n",
        "\n",
        "What do you conclude from the Confusion Matrix (compare with previous experiments)?\n",
        "\n",
        "YOUR RESPONSE HERE\n",
        "\n",
        "Above is the confusion matrix for multi-label review dataset with threshold. Since the above matrix is normalize over true labels, above diagonal values in the matrix correspond to Recall values for each class. According to the matrix, 'other' is the best performing category with highest recall. We can see that out of actual reviews regarding 'other' labels 88% of them were predicted as 'other' label.\n",
        "\n",
        "Similarly, we can interpret that the out of all 'ambiance' reviews 0% were labelled as 'service' and 0% of 'food' reviews were labelled as 'other'. However, 52% of 'ambiance' reviews were labelled as 'other', which is bad.\n",
        "\n",
        "We can conclude that this is slightly worse model with low recall compared to previous experiment for 'food' and 'other' labels. This model with high threshold for classification have worse chance of predicting actual labels correctly. This could be improved by lowering the value of the threshold.\n"
      ],
      "metadata": {
        "id": "Ntk8kWWt3WVb"
      }
    },
    {
      "cell_type": "markdown",
      "source": [
        "## <Font color = 'dodgerblue'>**BONUS TASK (Not Graded) - Function to choose threshold to maximize accuracy**.\n",
        "\n",
        "Let us assume that our business goal is to maximize accuracy.\n",
        "Write a function to determine the optimal threshold (maximum accuracy for classification) and to provide predictions that align with that threshold. You will also keep track of accuracy at each threshold level.\n",
        "\n",
        "#### Pseudo Code:\n",
        "\n",
        "```plaintext\n",
        "1. Function predict_labels(probs, actual_labels, thresholds=[0.5]):\n",
        "2.     Initialize best_threshold = 0\n",
        "3.     Initialize best_accuracy = 0\n",
        "4.     Initialize best_predictions = empty list\n",
        "5.     Initialize accuracy_history = empty list\n",
        "6.     FOR EACH threshold IN thresholds:\n",
        "7.         Initialize predictions = empty list\n",
        "8.         FOR EACH prob IN probs:\n",
        "9.             Extract max_prob as the highest score among the probabilities in prob['scores']\n",
        "10.            IF max_prob > current threshold THEN:\n",
        "11.                Append the corresponding label to predictions (e.g., 'food')\n",
        "12.            ELSE:\n",
        "13.                Append 'other' to predictions\n",
        "14.            END IF\n",
        "15.        END FOR EACH prob\n",
        "16.        Calculate accuracy using accuracy_score comparing predictions with actual_labels\n",
        "17.        Append the accuracy to accuracy_history\n",
        "18.        IF current accuracy > best_accuracy THEN:\n",
        "19.            Update best_threshold, best_accuracy, and best_predictions\n",
        "20.        END IF\n",
        "21.    END FOR EACH threshold\n",
        "22.    Return best_threshold, best_predictions and accuracy_history\n",
        "23. END Function\n",
        "```"
      ],
      "metadata": {
        "id": "_W7JAL203ezi"
      }
    },
    {
      "cell_type": "code",
      "source": [
        "def predict_labels(probs, actual_labels, thresholds=[0.5]):\n",
        "  # CODE HERE\n",
        "\n"
      ],
      "metadata": {
        "id": "2UJ26tGbygQo"
      },
      "execution_count": null,
      "outputs": []
    },
    {
      "cell_type": "markdown",
      "source": [
        "### <Font color = 'dodgerblue'>**Get best predictions and threshold**\n",
        "Use the function to get best_threshold, best_predictions and accuracy_history"
      ],
      "metadata": {
        "id": "P83x-WBm3ezj"
      }
    },
    {
      "cell_type": "code",
      "source": [
        "thresholds = np.linspace(0.1, 0.95, 18)\n",
        "thresholds"
      ],
      "metadata": {
        "colab": {
          "base_uri": "https://localhost:8080/"
        },
        "id": "83jligUWyyrV",
        "outputId": "b1e8e77a-e00e-4e1b-80f4-6f9daf8b7682"
      },
      "execution_count": null,
      "outputs": [
        {
          "output_type": "execute_result",
          "data": {
            "text/plain": [
              "array([0.1 , 0.15, 0.2 , 0.25, 0.3 , 0.35, 0.4 , 0.45, 0.5 , 0.55, 0.6 ,\n",
              "       0.65, 0.7 , 0.75, 0.8 , 0.85, 0.9 , 0.95])"
            ]
          },
          "metadata": {},
          "execution_count": 54
        }
      ]
    },
    {
      "cell_type": "code",
      "source": [
        "actual_labels = train_data['final_label'].values"
      ],
      "metadata": {
        "id": "h8A5UORny6pD"
      },
      "execution_count": null,
      "outputs": []
    },
    {
      "cell_type": "code",
      "source": [
        "best_threshold, best_predictions, accuracy_history =  # CODE HERE"
      ],
      "metadata": {
        "id": "CC9yEu-fy6pD"
      },
      "execution_count": null,
      "outputs": []
    },
    {
      "cell_type": "code",
      "source": [
        "best_threshold"
      ],
      "metadata": {
        "id": "fliTkxTCSXuV"
      },
      "execution_count": null,
      "outputs": []
    },
    {
      "cell_type": "code",
      "source": [
        "# DO NOT RUN THIS CELL - your best threshold will be close to the result below"
      ],
      "metadata": {
        "colab": {
          "base_uri": "https://localhost:8080/"
        },
        "outputId": "96a6b758-42cf-49ad-9fcf-50cc49dd5db2",
        "id": "xPd_Pt3ry6pD"
      },
      "execution_count": null,
      "outputs": [
        {
          "output_type": "execute_result",
          "data": {
            "text/plain": [
              "0.6"
            ]
          },
          "metadata": {},
          "execution_count": 139
        }
      ]
    },
    {
      "cell_type": "code",
      "source": [
        "best_predictions[0:5]"
      ],
      "metadata": {
        "id": "mGmo4rPMy6pD"
      },
      "execution_count": null,
      "outputs": []
    },
    {
      "cell_type": "markdown",
      "source": [
        "### <Font color = 'dodgerblue'>**Accuracy**\n",
        "Plot accuracy_history against thresholds\n"
      ],
      "metadata": {
        "id": "Q_k8aK-M3ezj"
      }
    },
    {
      "cell_type": "code",
      "source": [
        "# CODE HERE"
      ],
      "metadata": {
        "id": "KadwyerGSnCg"
      },
      "execution_count": null,
      "outputs": []
    },
    {
      "cell_type": "code",
      "source": [
        "# DO NOT RUN THIS CELL - this gives you an idea of how the graog will look\n"
      ],
      "metadata": {
        "colab": {
          "base_uri": "https://localhost:8080/",
          "height": 470
        },
        "id": "Yqs2Xikc5kFs",
        "outputId": "541ba31a-4d6f-427b-972b-fb50c56e1a89"
      },
      "execution_count": null,
      "outputs": [
        {
          "output_type": "display_data",
          "data": {
            "text/plain": [
              "<Figure size 640x480 with 1 Axes>"
            ],
            "image/png": "[encoded data removed]"
          },
          "metadata": {}
        }
      ]
    },
    {
      "cell_type": "code",
      "source": [
        "# Best  Accuracy\n",
        "accuracy = # CODE HERE\n",
        "accuracy"
      ],
      "metadata": {
        "id": "EeWKpvAYS5T8"
      },
      "execution_count": null,
      "outputs": []
    },
    {
      "cell_type": "code",
      "source": [
        "# DO NOT RUN THIS CELL - If you have done everything correctly, you should get accurtacy close to reported below"
      ],
      "metadata": {
        "colab": {
          "base_uri": "https://localhost:8080/"
        },
        "id": "gl5rRx_r50BJ",
        "outputId": "1aae1328-e26d-477d-e65c-0153ef1c4c45"
      },
      "execution_count": null,
      "outputs": [
        {
          "output_type": "execute_result",
          "data": {
            "text/plain": [
              "80.13698630136986"
            ]
          },
          "metadata": {},
          "execution_count": 144
        }
      ]
    },
    {
      "cell_type": "markdown",
      "source": [
        "Is the accuracy better than Task 2?\n",
        "\n",
        "**We can see that accuracy has slightly improved from Task2 (where we passed all four labels)**"
      ],
      "metadata": {
        "id": "hudKC0eq6Y0N"
      }
    },
    {
      "cell_type": "markdown",
      "source": [
        "### <Font color = 'dodgerblue'>**Confusion Matrix**"
      ],
      "metadata": {
        "id": "VC13lEJ47bhK"
      }
    },
    {
      "cell_type": "code",
      "source": [
        "# CODE HERE\n"
      ],
      "metadata": {
        "id": "yIS3NwM57bhK"
      },
      "execution_count": null,
      "outputs": []
    },
    {
      "cell_type": "code",
      "source": [
        "# CODE HERE"
      ],
      "metadata": {
        "id": "-T0aKYa7TLKa"
      },
      "execution_count": null,
      "outputs": []
    },
    {
      "cell_type": "code",
      "source": [
        "# DO NOT RUN THIS CELL - this gives you an idea of expected output. Your results might differ slightly"
      ],
      "metadata": {
        "colab": {
          "base_uri": "https://localhost:8080/",
          "height": 406
        },
        "outputId": "2ec8f2b1-c231-45d4-e96e-1fa3acd60b05",
        "id": "BSBNcWgZ7bhK"
      },
      "execution_count": null,
      "outputs": [
        {
          "output_type": "execute_result",
          "data": {
            "text/plain": [
              "<sklearn.metrics._plot.confusion_matrix.ConfusionMatrixDisplay at 0x7ff9c85d0df0>"
            ]
          },
          "metadata": {},
          "execution_count": 148
        },
        {
          "output_type": "display_data",
          "data": {
            "text/plain": [
              "<Figure size 500x400 with 2 Axes>"
            ],
            "image/png": "[encoded data removed]"
          },
          "metadata": {}
        }
      ]
    }
  ],
  "metadata": {
    "accelerator": "GPU",
    "colab": {
      "gpuType": "A100",
      "machine_shape": "hm",
      "provenance": []
    },
    "kernelspec": {
      "display_name": "Python 3",
      "name": "python3"
    },
    "language_info": {
      "codemirror_mode": {
        "name": "ipython",
        "version": 3
      },
      "file_extension": ".py",
      "mimetype": "text/x-python",
      "name": "python",
      "nbconvert_exporter": "python",
      "pygments_lexer": "ipython3",
      "version": "3.10.10"
    },
    "widgets": {
      "application/vnd.jupyter.widget-state+json": {
        "8539232955db4b828f6821b3b111b80d": {
          "model_module": "@jupyter-widgets/controls",
          "model_name": "HBoxModel",
          "model_module_version": "1.5.0",
          "state": {
            "_dom_classes": [],
            "_model_module": "@jupyter-widgets/controls",
            "_model_module_version": "1.5.0",
            "_model_name": "HBoxModel",
            "_view_count": null,
            "_view_module": "@jupyter-widgets/controls",
            "_view_module_version": "1.5.0",
            "_view_name": "HBoxView",
            "box_style": "",
            "children": [
              "IPY_MODEL_72c5c03e7b764ac7a9d93fcb63d0e0c2",
              "IPY_MODEL_a4f5459f3597406380b10aefc03ac742",
              "IPY_MODEL_840b0b10b8b34c5da194f952954a3d00"
            ],
            "layout": "IPY_MODEL_92858c90321c473381ab11e3bc43d7cd"
          }
        },
        "72c5c03e7b764ac7a9d93fcb63d0e0c2": {
          "model_module": "@jupyter-widgets/controls",
          "model_name": "HTMLModel",
          "model_module_version": "1.5.0",
          "state": {
            "_dom_classes": [],
            "_model_module": "@jupyter-widgets/controls",
            "_model_module_version": "1.5.0",
            "_model_name": "HTMLModel",
            "_view_count": null,
            "_view_module": "@jupyter-widgets/controls",
            "_view_module_version": "1.5.0",
            "_view_name": "HTMLView",
            "description": "",
            "description_tooltip": null,
            "layout": "IPY_MODEL_6bac48da059b442eb167836472253ddd",
            "placeholder": "​",
            "style": "IPY_MODEL_228831d4545c482493d1f8da340b32b3",
            "value": "Downloading (…)lve/main/config.json: 100%"
          }
        },
        "a4f5459f3597406380b10aefc03ac742": {
          "model_module": "@jupyter-widgets/controls",
          "model_name": "FloatProgressModel",
          "model_module_version": "1.5.0",
          "state": {
            "_dom_classes": [],
            "_model_module": "@jupyter-widgets/controls",
            "_model_module_version": "1.5.0",
            "_model_name": "FloatProgressModel",
            "_view_count": null,
            "_view_module": "@jupyter-widgets/controls",
            "_view_module_version": "1.5.0",
            "_view_name": "ProgressView",
            "bar_style": "success",
            "description": "",
            "description_tooltip": null,
            "layout": "IPY_MODEL_9bdda26829064a249560154f87d3efe8",
            "max": 1154,
            "min": 0,
            "orientation": "horizontal",
            "style": "IPY_MODEL_8dd0487844a447d9b56496fe47a935d2",
            "value": 1154
          }
        },
        "840b0b10b8b34c5da194f952954a3d00": {
          "model_module": "@jupyter-widgets/controls",
          "model_name": "HTMLModel",
          "model_module_version": "1.5.0",
          "state": {
            "_dom_classes": [],
            "_model_module": "@jupyter-widgets/controls",
            "_model_module_version": "1.5.0",
            "_model_name": "HTMLModel",
            "_view_count": null,
            "_view_module": "@jupyter-widgets/controls",
            "_view_module_version": "1.5.0",
            "_view_name": "HTMLView",
            "description": "",
            "description_tooltip": null,
            "layout": "IPY_MODEL_dd306a8ea409466c9e3c68802a7fb1a0",
            "placeholder": "​",
            "style": "IPY_MODEL_ee772e6e2fd942db822964625c818a9f",
            "value": " 1.15k/1.15k [00:00&lt;00:00, 99.3kB/s]"
          }
        },
        "92858c90321c473381ab11e3bc43d7cd": {
          "model_module": "@jupyter-widgets/base",
          "model_name": "LayoutModel",
          "model_module_version": "1.2.0",
          "state": {
            "_model_module": "@jupyter-widgets/base",
            "_model_module_version": "1.2.0",
            "_model_name": "LayoutModel",
            "_view_count": null,
            "_view_module": "@jupyter-widgets/base",
            "_view_module_version": "1.2.0",
            "_view_name": "LayoutView",
            "align_content": null,
            "align_items": null,
            "align_self": null,
            "border": null,
            "bottom": null,
            "display": null,
            "flex": null,
            "flex_flow": null,
            "grid_area": null,
            "grid_auto_columns": null,
            "grid_auto_flow": null,
            "grid_auto_rows": null,
            "grid_column": null,
            "grid_gap": null,
            "grid_row": null,
            "grid_template_areas": null,
            "grid_template_columns": null,
            "grid_template_rows": null,
            "height": null,
            "justify_content": null,
            "justify_items": null,
            "left": null,
            "margin": null,
            "max_height": null,
            "max_width": null,
            "min_height": null,
            "min_width": null,
            "object_fit": null,
            "object_position": null,
            "order": null,
            "overflow": null,
            "overflow_x": null,
            "overflow_y": null,
            "padding": null,
            "right": null,
            "top": null,
            "visibility": null,
            "width": null
          }
        },
        "6bac48da059b442eb167836472253ddd": {
          "model_module": "@jupyter-widgets/base",
          "model_name": "LayoutModel",
          "model_module_version": "1.2.0",
          "state": {
            "_model_module": "@jupyter-widgets/base",
            "_model_module_version": "1.2.0",
            "_model_name": "LayoutModel",
            "_view_count": null,
            "_view_module": "@jupyter-widgets/base",
            "_view_module_version": "1.2.0",
            "_view_name": "LayoutView",
            "align_content": null,
            "align_items": null,
            "align_self": null,
            "border": null,
            "bottom": null,
            "display": null,
            "flex": null,
            "flex_flow": null,
            "grid_area": null,
            "grid_auto_columns": null,
            "grid_auto_flow": null,
            "grid_auto_rows": null,
            "grid_column": null,
            "grid_gap": null,
            "grid_row": null,
            "grid_template_areas": null,
            "grid_template_columns": null,
            "grid_template_rows": null,
            "height": null,
            "justify_content": null,
            "justify_items": null,
            "left": null,
            "margin": null,
            "max_height": null,
            "max_width": null,
            "min_height": null,
            "min_width": null,
            "object_fit": null,
            "object_position": null,
            "order": null,
            "overflow": null,
            "overflow_x": null,
            "overflow_y": null,
            "padding": null,
            "right": null,
            "top": null,
            "visibility": null,
            "width": null
          }
        },
        "228831d4545c482493d1f8da340b32b3": {
          "model_module": "@jupyter-widgets/controls",
          "model_name": "DescriptionStyleModel",
          "model_module_version": "1.5.0",
          "state": {
            "_model_module": "@jupyter-widgets/controls",
            "_model_module_version": "1.5.0",
            "_model_name": "DescriptionStyleModel",
            "_view_count": null,
            "_view_module": "@jupyter-widgets/base",
            "_view_module_version": "1.2.0",
            "_view_name": "StyleView",
            "description_width": ""
          }
        },
        "9bdda26829064a249560154f87d3efe8": {
          "model_module": "@jupyter-widgets/base",
          "model_name": "LayoutModel",
          "model_module_version": "1.2.0",
          "state": {
            "_model_module": "@jupyter-widgets/base",
            "_model_module_version": "1.2.0",
            "_model_name": "LayoutModel",
            "_view_count": null,
            "_view_module": "@jupyter-widgets/base",
            "_view_module_version": "1.2.0",
            "_view_name": "LayoutView",
            "align_content": null,
            "align_items": null,
            "align_self": null,
            "border": null,
            "bottom": null,
            "display": null,
            "flex": null,
            "flex_flow": null,
            "grid_area": null,
            "grid_auto_columns": null,
            "grid_auto_flow": null,
            "grid_auto_rows": null,
            "grid_column": null,
            "grid_gap": null,
            "grid_row": null,
            "grid_template_areas": null,
            "grid_template_columns": null,
            "grid_template_rows": null,
            "height": null,
            "justify_content": null,
            "justify_items": null,
            "left": null,
            "margin": null,
            "max_height": null,
            "max_width": null,
            "min_height": null,
            "min_width": null,
            "object_fit": null,
            "object_position": null,
            "order": null,
            "overflow": null,
            "overflow_x": null,
            "overflow_y": null,
            "padding": null,
            "right": null,
            "top": null,
            "visibility": null,
            "width": null
          }
        },
        "8dd0487844a447d9b56496fe47a935d2": {
          "model_module": "@jupyter-widgets/controls",
          "model_name": "ProgressStyleModel",
          "model_module_version": "1.5.0",
          "state": {
            "_model_module": "@jupyter-widgets/controls",
            "_model_module_version": "1.5.0",
            "_model_name": "ProgressStyleModel",
            "_view_count": null,
            "_view_module": "@jupyter-widgets/base",
            "_view_module_version": "1.2.0",
            "_view_name": "StyleView",
            "bar_color": null,
            "description_width": ""
          }
        },
        "dd306a8ea409466c9e3c68802a7fb1a0": {
          "model_module": "@jupyter-widgets/base",
          "model_name": "LayoutModel",
          "model_module_version": "1.2.0",
          "state": {
            "_model_module": "@jupyter-widgets/base",
            "_model_module_version": "1.2.0",
            "_model_name": "LayoutModel",
            "_view_count": null,
            "_view_module": "@jupyter-widgets/base",
            "_view_module_version": "1.2.0",
            "_view_name": "LayoutView",
            "align_content": null,
            "align_items": null,
            "align_self": null,
            "border": null,
            "bottom": null,
            "display": null,
            "flex": null,
            "flex_flow": null,
            "grid_area": null,
            "grid_auto_columns": null,
            "grid_auto_flow": null,
            "grid_auto_rows": null,
            "grid_column": null,
            "grid_gap": null,
            "grid_row": null,
            "grid_template_areas": null,
            "grid_template_columns": null,
            "grid_template_rows": null,
            "height": null,
            "justify_content": null,
            "justify_items": null,
            "left": null,
            "margin": null,
            "max_height": null,
            "max_width": null,
            "min_height": null,
            "min_width": null,
            "object_fit": null,
            "object_position": null,
            "order": null,
            "overflow": null,
            "overflow_x": null,
            "overflow_y": null,
            "padding": null,
            "right": null,
            "top": null,
            "visibility": null,
            "width": null
          }
        },
        "ee772e6e2fd942db822964625c818a9f": {
          "model_module": "@jupyter-widgets/controls",
          "model_name": "DescriptionStyleModel",
          "model_module_version": "1.5.0",
          "state": {
            "_model_module": "@jupyter-widgets/controls",
            "_model_module_version": "1.5.0",
            "_model_name": "DescriptionStyleModel",
            "_view_count": null,
            "_view_module": "@jupyter-widgets/base",
            "_view_module_version": "1.2.0",
            "_view_name": "StyleView",
            "description_width": ""
          }
        },
        "8443ce36dfdb4304b1d9739404d419ee": {
          "model_module": "@jupyter-widgets/controls",
          "model_name": "HBoxModel",
          "model_module_version": "1.5.0",
          "state": {
            "_dom_classes": [],
            "_model_module": "@jupyter-widgets/controls",
            "_model_module_version": "1.5.0",
            "_model_name": "HBoxModel",
            "_view_count": null,
            "_view_module": "@jupyter-widgets/controls",
            "_view_module_version": "1.5.0",
            "_view_name": "HBoxView",
            "box_style": "",
            "children": [
              "IPY_MODEL_200535b4d51b49839776624a598ef994",
              "IPY_MODEL_bf8ad68c495b4f11b9f6e35f48edb965",
              "IPY_MODEL_be2b3a525aa94516ba8c6c9e61dd0b79"
            ],
            "layout": "IPY_MODEL_39eb1c7c197d477c9c64878cab864c2b"
          }
        },
        "200535b4d51b49839776624a598ef994": {
          "model_module": "@jupyter-widgets/controls",
          "model_name": "HTMLModel",
          "model_module_version": "1.5.0",
          "state": {
            "_dom_classes": [],
            "_model_module": "@jupyter-widgets/controls",
            "_model_module_version": "1.5.0",
            "_model_name": "HTMLModel",
            "_view_count": null,
            "_view_module": "@jupyter-widgets/controls",
            "_view_module_version": "1.5.0",
            "_view_name": "HTMLView",
            "description": "",
            "description_tooltip": null,
            "layout": "IPY_MODEL_31848b1ff9de4e5192352c7d2279098a",
            "placeholder": "​",
            "style": "IPY_MODEL_9dc1362483c042a78b4d824f4405a776",
            "value": "Downloading model.safetensors: 100%"
          }
        },
        "bf8ad68c495b4f11b9f6e35f48edb965": {
          "model_module": "@jupyter-widgets/controls",
          "model_name": "FloatProgressModel",
          "model_module_version": "1.5.0",
          "state": {
            "_dom_classes": [],
            "_model_module": "@jupyter-widgets/controls",
            "_model_module_version": "1.5.0",
            "_model_name": "FloatProgressModel",
            "_view_count": null,
            "_view_module": "@jupyter-widgets/controls",
            "_view_module_version": "1.5.0",
            "_view_name": "ProgressView",
            "bar_style": "success",
            "description": "",
            "description_tooltip": null,
            "layout": "IPY_MODEL_8cead066247f46458e61d696fbfe9a85",
            "max": 1629437147,
            "min": 0,
            "orientation": "horizontal",
            "style": "IPY_MODEL_a070f98d0f8e4b218c34ae4a2ed2e574",
            "value": 1629437147
          }
        },
        "be2b3a525aa94516ba8c6c9e61dd0b79": {
          "model_module": "@jupyter-widgets/controls",
          "model_name": "HTMLModel",
          "model_module_version": "1.5.0",
          "state": {
            "_dom_classes": [],
            "_model_module": "@jupyter-widgets/controls",
            "_model_module_version": "1.5.0",
            "_model_name": "HTMLModel",
            "_view_count": null,
            "_view_module": "@jupyter-widgets/controls",
            "_view_module_version": "1.5.0",
            "_view_name": "HTMLView",
            "description": "",
            "description_tooltip": null,
            "layout": "IPY_MODEL_4b5db4aea9b8454980aec2614971625f",
            "placeholder": "​",
            "style": "IPY_MODEL_a31b3da4716d4ab3adc062bf432c8044",
            "value": " 1.63G/1.63G [00:03&lt;00:00, 464MB/s]"
          }
        },
        "39eb1c7c197d477c9c64878cab864c2b": {
          "model_module": "@jupyter-widgets/base",
          "model_name": "LayoutModel",
          "model_module_version": "1.2.0",
          "state": {
            "_model_module": "@jupyter-widgets/base",
            "_model_module_version": "1.2.0",
            "_model_name": "LayoutModel",
            "_view_count": null,
            "_view_module": "@jupyter-widgets/base",
            "_view_module_version": "1.2.0",
            "_view_name": "LayoutView",
            "align_content": null,
            "align_items": null,
            "align_self": null,
            "border": null,
            "bottom": null,
            "display": null,
            "flex": null,
            "flex_flow": null,
            "grid_area": null,
            "grid_auto_columns": null,
            "grid_auto_flow": null,
            "grid_auto_rows": null,
            "grid_column": null,
            "grid_gap": null,
            "grid_row": null,
            "grid_template_areas": null,
            "grid_template_columns": null,
            "grid_template_rows": null,
            "height": null,
            "justify_content": null,
            "justify_items": null,
            "left": null,
            "margin": null,
            "max_height": null,
            "max_width": null,
            "min_height": null,
            "min_width": null,
            "object_fit": null,
            "object_position": null,
            "order": null,
            "overflow": null,
            "overflow_x": null,
            "overflow_y": null,
            "padding": null,
            "right": null,
            "top": null,
            "visibility": null,
            "width": null
          }
        },
        "31848b1ff9de4e5192352c7d2279098a": {
          "model_module": "@jupyter-widgets/base",
          "model_name": "LayoutModel",
          "model_module_version": "1.2.0",
          "state": {
            "_model_module": "@jupyter-widgets/base",
            "_model_module_version": "1.2.0",
            "_model_name": "LayoutModel",
            "_view_count": null,
            "_view_module": "@jupyter-widgets/base",
            "_view_module_version": "1.2.0",
            "_view_name": "LayoutView",
            "align_content": null,
            "align_items": null,
            "align_self": null,
            "border": null,
            "bottom": null,
            "display": null,
            "flex": null,
            "flex_flow": null,
            "grid_area": null,
            "grid_auto_columns": null,
            "grid_auto_flow": null,
            "grid_auto_rows": null,
            "grid_column": null,
            "grid_gap": null,
            "grid_row": null,
            "grid_template_areas": null,
            "grid_template_columns": null,
            "grid_template_rows": null,
            "height": null,
            "justify_content": null,
            "justify_items": null,
            "left": null,
            "margin": null,
            "max_height": null,
            "max_width": null,
            "min_height": null,
            "min_width": null,
            "object_fit": null,
            "object_position": null,
            "order": null,
            "overflow": null,
            "overflow_x": null,
            "overflow_y": null,
            "padding": null,
            "right": null,
            "top": null,
            "visibility": null,
            "width": null
          }
        },
        "9dc1362483c042a78b4d824f4405a776": {
          "model_module": "@jupyter-widgets/controls",
          "model_name": "DescriptionStyleModel",
          "model_module_version": "1.5.0",
          "state": {
            "_model_module": "@jupyter-widgets/controls",
            "_model_module_version": "1.5.0",
            "_model_name": "DescriptionStyleModel",
            "_view_count": null,
            "_view_module": "@jupyter-widgets/base",
            "_view_module_version": "1.2.0",
            "_view_name": "StyleView",
            "description_width": ""
          }
        },
        "8cead066247f46458e61d696fbfe9a85": {
          "model_module": "@jupyter-widgets/base",
          "model_name": "LayoutModel",
          "model_module_version": "1.2.0",
          "state": {
            "_model_module": "@jupyter-widgets/base",
            "_model_module_version": "1.2.0",
            "_model_name": "LayoutModel",
            "_view_count": null,
            "_view_module": "@jupyter-widgets/base",
            "_view_module_version": "1.2.0",
            "_view_name": "LayoutView",
            "align_content": null,
            "align_items": null,
            "align_self": null,
            "border": null,
            "bottom": null,
            "display": null,
            "flex": null,
            "flex_flow": null,
            "grid_area": null,
            "grid_auto_columns": null,
            "grid_auto_flow": null,
            "grid_auto_rows": null,
            "grid_column": null,
            "grid_gap": null,
            "grid_row": null,
            "grid_template_areas": null,
            "grid_template_columns": null,
            "grid_template_rows": null,
            "height": null,
            "justify_content": null,
            "justify_items": null,
            "left": null,
            "margin": null,
            "max_height": null,
            "max_width": null,
            "min_height": null,
            "min_width": null,
            "object_fit": null,
            "object_position": null,
            "order": null,
            "overflow": null,
            "overflow_x": null,
            "overflow_y": null,
            "padding": null,
            "right": null,
            "top": null,
            "visibility": null,
            "width": null
          }
        },
        "a070f98d0f8e4b218c34ae4a2ed2e574": {
          "model_module": "@jupyter-widgets/controls",
          "model_name": "ProgressStyleModel",
          "model_module_version": "1.5.0",
          "state": {
            "_model_module": "@jupyter-widgets/controls",
            "_model_module_version": "1.5.0",
            "_model_name": "ProgressStyleModel",
            "_view_count": null,
            "_view_module": "@jupyter-widgets/base",
            "_view_module_version": "1.2.0",
            "_view_name": "StyleView",
            "bar_color": null,
            "description_width": ""
          }
        },
        "4b5db4aea9b8454980aec2614971625f": {
          "model_module": "@jupyter-widgets/base",
          "model_name": "LayoutModel",
          "model_module_version": "1.2.0",
          "state": {
            "_model_module": "@jupyter-widgets/base",
            "_model_module_version": "1.2.0",
            "_model_name": "LayoutModel",
            "_view_count": null,
            "_view_module": "@jupyter-widgets/base",
            "_view_module_version": "1.2.0",
            "_view_name": "LayoutView",
            "align_content": null,
            "align_items": null,
            "align_self": null,
            "border": null,
            "bottom": null,
            "display": null,
            "flex": null,
            "flex_flow": null,
            "grid_area": null,
            "grid_auto_columns": null,
            "grid_auto_flow": null,
            "grid_auto_rows": null,
            "grid_column": null,
            "grid_gap": null,
            "grid_row": null,
            "grid_template_areas": null,
            "grid_template_columns": null,
            "grid_template_rows": null,
            "height": null,
            "justify_content": null,
            "justify_items": null,
            "left": null,
            "margin": null,
            "max_height": null,
            "max_width": null,
            "min_height": null,
            "min_width": null,
            "object_fit": null,
            "object_position": null,
            "order": null,
            "overflow": null,
            "overflow_x": null,
            "overflow_y": null,
            "padding": null,
            "right": null,
            "top": null,
            "visibility": null,
            "width": null
          }
        },
        "a31b3da4716d4ab3adc062bf432c8044": {
          "model_module": "@jupyter-widgets/controls",
          "model_name": "DescriptionStyleModel",
          "model_module_version": "1.5.0",
          "state": {
            "_model_module": "@jupyter-widgets/controls",
            "_model_module_version": "1.5.0",
            "_model_name": "DescriptionStyleModel",
            "_view_count": null,
            "_view_module": "@jupyter-widgets/base",
            "_view_module_version": "1.2.0",
            "_view_name": "StyleView",
            "description_width": ""
          }
        },
        "cb717991f14e4ed9b6ff876bc086181a": {
          "model_module": "@jupyter-widgets/controls",
          "model_name": "HBoxModel",
          "model_module_version": "1.5.0",
          "state": {
            "_dom_classes": [],
            "_model_module": "@jupyter-widgets/controls",
            "_model_module_version": "1.5.0",
            "_model_name": "HBoxModel",
            "_view_count": null,
            "_view_module": "@jupyter-widgets/controls",
            "_view_module_version": "1.5.0",
            "_view_name": "HBoxView",
            "box_style": "",
            "children": [
              "IPY_MODEL_6377c35d62f44377a3b650a6454ef848",
              "IPY_MODEL_b0f0a6bd05024dde8c2037c8a8e53a44",
              "IPY_MODEL_327a69ef37c049cbb0fef8751fb3947f"
            ],
            "layout": "IPY_MODEL_809c3d316d6f4ce999e0c8a1490dfefe"
          }
        },
        "6377c35d62f44377a3b650a6454ef848": {
          "model_module": "@jupyter-widgets/controls",
          "model_name": "HTMLModel",
          "model_module_version": "1.5.0",
          "state": {
            "_dom_classes": [],
            "_model_module": "@jupyter-widgets/controls",
            "_model_module_version": "1.5.0",
            "_model_name": "HTMLModel",
            "_view_count": null,
            "_view_module": "@jupyter-widgets/controls",
            "_view_module_version": "1.5.0",
            "_view_name": "HTMLView",
            "description": "",
            "description_tooltip": null,
            "layout": "IPY_MODEL_97d7e3d93f7c47259a466c3a92b244f9",
            "placeholder": "​",
            "style": "IPY_MODEL_45ffdf90bd5e406091a43dcbf813d41d",
            "value": "Downloading (…)okenizer_config.json: 100%"
          }
        },
        "b0f0a6bd05024dde8c2037c8a8e53a44": {
          "model_module": "@jupyter-widgets/controls",
          "model_name": "FloatProgressModel",
          "model_module_version": "1.5.0",
          "state": {
            "_dom_classes": [],
            "_model_module": "@jupyter-widgets/controls",
            "_model_module_version": "1.5.0",
            "_model_name": "FloatProgressModel",
            "_view_count": null,
            "_view_module": "@jupyter-widgets/controls",
            "_view_module_version": "1.5.0",
            "_view_name": "ProgressView",
            "bar_style": "success",
            "description": "",
            "description_tooltip": null,
            "layout": "IPY_MODEL_acd2d79e5dc845caab000d3855ba44e1",
            "max": 26,
            "min": 0,
            "orientation": "horizontal",
            "style": "IPY_MODEL_c561324209bc46c299d40a9f4b45e942",
            "value": 26
          }
        },
        "327a69ef37c049cbb0fef8751fb3947f": {
          "model_module": "@jupyter-widgets/controls",
          "model_name": "HTMLModel",
          "model_module_version": "1.5.0",
          "state": {
            "_dom_classes": [],
            "_model_module": "@jupyter-widgets/controls",
            "_model_module_version": "1.5.0",
            "_model_name": "HTMLModel",
            "_view_count": null,
            "_view_module": "@jupyter-widgets/controls",
            "_view_module_version": "1.5.0",
            "_view_name": "HTMLView",
            "description": "",
            "description_tooltip": null,
            "layout": "IPY_MODEL_5378b712ca444b8fa049449a9eb40430",
            "placeholder": "​",
            "style": "IPY_MODEL_08fc8a86f7d74ede847b9e5ee7e1438f",
            "value": " 26.0/26.0 [00:00&lt;00:00, 2.31kB/s]"
          }
        },
        "809c3d316d6f4ce999e0c8a1490dfefe": {
          "model_module": "@jupyter-widgets/base",
          "model_name": "LayoutModel",
          "model_module_version": "1.2.0",
          "state": {
            "_model_module": "@jupyter-widgets/base",
            "_model_module_version": "1.2.0",
            "_model_name": "LayoutModel",
            "_view_count": null,
            "_view_module": "@jupyter-widgets/base",
            "_view_module_version": "1.2.0",
            "_view_name": "LayoutView",
            "align_content": null,
            "align_items": null,
            "align_self": null,
            "border": null,
            "bottom": null,
            "display": null,
            "flex": null,
            "flex_flow": null,
            "grid_area": null,
            "grid_auto_columns": null,
            "grid_auto_flow": null,
            "grid_auto_rows": null,
            "grid_column": null,
            "grid_gap": null,
            "grid_row": null,
            "grid_template_areas": null,
            "grid_template_columns": null,
            "grid_template_rows": null,
            "height": null,
            "justify_content": null,
            "justify_items": null,
            "left": null,
            "margin": null,
            "max_height": null,
            "max_width": null,
            "min_height": null,
            "min_width": null,
            "object_fit": null,
            "object_position": null,
            "order": null,
            "overflow": null,
            "overflow_x": null,
            "overflow_y": null,
            "padding": null,
            "right": null,
            "top": null,
            "visibility": null,
            "width": null
          }
        },
        "97d7e3d93f7c47259a466c3a92b244f9": {
          "model_module": "@jupyter-widgets/base",
          "model_name": "LayoutModel",
          "model_module_version": "1.2.0",
          "state": {
            "_model_module": "@jupyter-widgets/base",
            "_model_module_version": "1.2.0",
            "_model_name": "LayoutModel",
            "_view_count": null,
            "_view_module": "@jupyter-widgets/base",
            "_view_module_version": "1.2.0",
            "_view_name": "LayoutView",
            "align_content": null,
            "align_items": null,
            "align_self": null,
            "border": null,
            "bottom": null,
            "display": null,
            "flex": null,
            "flex_flow": null,
            "grid_area": null,
            "grid_auto_columns": null,
            "grid_auto_flow": null,
            "grid_auto_rows": null,
            "grid_column": null,
            "grid_gap": null,
            "grid_row": null,
            "grid_template_areas": null,
            "grid_template_columns": null,
            "grid_template_rows": null,
            "height": null,
            "justify_content": null,
            "justify_items": null,
            "left": null,
            "margin": null,
            "max_height": null,
            "max_width": null,
            "min_height": null,
            "min_width": null,
            "object_fit": null,
            "object_position": null,
            "order": null,
            "overflow": null,
            "overflow_x": null,
            "overflow_y": null,
            "padding": null,
            "right": null,
            "top": null,
            "visibility": null,
            "width": null
          }
        },
        "45ffdf90bd5e406091a43dcbf813d41d": {
          "model_module": "@jupyter-widgets/controls",
          "model_name": "DescriptionStyleModel",
          "model_module_version": "1.5.0",
          "state": {
            "_model_module": "@jupyter-widgets/controls",
            "_model_module_version": "1.5.0",
            "_model_name": "DescriptionStyleModel",
            "_view_count": null,
            "_view_module": "@jupyter-widgets/base",
            "_view_module_version": "1.2.0",
            "_view_name": "StyleView",
            "description_width": ""
          }
        },
        "acd2d79e5dc845caab000d3855ba44e1": {
          "model_module": "@jupyter-widgets/base",
          "model_name": "LayoutModel",
          "model_module_version": "1.2.0",
          "state": {
            "_model_module": "@jupyter-widgets/base",
            "_model_module_version": "1.2.0",
            "_model_name": "LayoutModel",
            "_view_count": null,
            "_view_module": "@jupyter-widgets/base",
            "_view_module_version": "1.2.0",
            "_view_name": "LayoutView",
            "align_content": null,
            "align_items": null,
            "align_self": null,
            "border": null,
            "bottom": null,
            "display": null,
            "flex": null,
            "flex_flow": null,
            "grid_area": null,
            "grid_auto_columns": null,
            "grid_auto_flow": null,
            "grid_auto_rows": null,
            "grid_column": null,
            "grid_gap": null,
            "grid_row": null,
            "grid_template_areas": null,
            "grid_template_columns": null,
            "grid_template_rows": null,
            "height": null,
            "justify_content": null,
            "justify_items": null,
            "left": null,
            "margin": null,
            "max_height": null,
            "max_width": null,
            "min_height": null,
            "min_width": null,
            "object_fit": null,
            "object_position": null,
            "order": null,
            "overflow": null,
            "overflow_x": null,
            "overflow_y": null,
            "padding": null,
            "right": null,
            "top": null,
            "visibility": null,
            "width": null
          }
        },
        "c561324209bc46c299d40a9f4b45e942": {
          "model_module": "@jupyter-widgets/controls",
          "model_name": "ProgressStyleModel",
          "model_module_version": "1.5.0",
          "state": {
            "_model_module": "@jupyter-widgets/controls",
            "_model_module_version": "1.5.0",
            "_model_name": "ProgressStyleModel",
            "_view_count": null,
            "_view_module": "@jupyter-widgets/base",
            "_view_module_version": "1.2.0",
            "_view_name": "StyleView",
            "bar_color": null,
            "description_width": ""
          }
        },
        "5378b712ca444b8fa049449a9eb40430": {
          "model_module": "@jupyter-widgets/base",
          "model_name": "LayoutModel",
          "model_module_version": "1.2.0",
          "state": {
            "_model_module": "@jupyter-widgets/base",
            "_model_module_version": "1.2.0",
            "_model_name": "LayoutModel",
            "_view_count": null,
            "_view_module": "@jupyter-widgets/base",
            "_view_module_version": "1.2.0",
            "_view_name": "LayoutView",
            "align_content": null,
            "align_items": null,
            "align_self": null,
            "border": null,
            "bottom": null,
            "display": null,
            "flex": null,
            "flex_flow": null,
            "grid_area": null,
            "grid_auto_columns": null,
            "grid_auto_flow": null,
            "grid_auto_rows": null,
            "grid_column": null,
            "grid_gap": null,
            "grid_row": null,
            "grid_template_areas": null,
            "grid_template_columns": null,
            "grid_template_rows": null,
            "height": null,
            "justify_content": null,
            "justify_items": null,
            "left": null,
            "margin": null,
            "max_height": null,
            "max_width": null,
            "min_height": null,
            "min_width": null,
            "object_fit": null,
            "object_position": null,
            "order": null,
            "overflow": null,
            "overflow_x": null,
            "overflow_y": null,
            "padding": null,
            "right": null,
            "top": null,
            "visibility": null,
            "width": null
          }
        },
        "08fc8a86f7d74ede847b9e5ee7e1438f": {
          "model_module": "@jupyter-widgets/controls",
          "model_name": "DescriptionStyleModel",
          "model_module_version": "1.5.0",
          "state": {
            "_model_module": "@jupyter-widgets/controls",
            "_model_module_version": "1.5.0",
            "_model_name": "DescriptionStyleModel",
            "_view_count": null,
            "_view_module": "@jupyter-widgets/base",
            "_view_module_version": "1.2.0",
            "_view_name": "StyleView",
            "description_width": ""
          }
        },
        "2547d1e809724288a05ade033212f797": {
          "model_module": "@jupyter-widgets/controls",
          "model_name": "HBoxModel",
          "model_module_version": "1.5.0",
          "state": {
            "_dom_classes": [],
            "_model_module": "@jupyter-widgets/controls",
            "_model_module_version": "1.5.0",
            "_model_name": "HBoxModel",
            "_view_count": null,
            "_view_module": "@jupyter-widgets/controls",
            "_view_module_version": "1.5.0",
            "_view_name": "HBoxView",
            "box_style": "",
            "children": [
              "IPY_MODEL_975fe79979ba44799de33ff465c8bf8f",
              "IPY_MODEL_5089bf15bd4846f48e900368eaaa0548",
              "IPY_MODEL_3705302affee46f59049aa8d26b2b29c"
            ],
            "layout": "IPY_MODEL_958ab6f5dbaa46c3b9072c36b5e3411a"
          }
        },
        "975fe79979ba44799de33ff465c8bf8f": {
          "model_module": "@jupyter-widgets/controls",
          "model_name": "HTMLModel",
          "model_module_version": "1.5.0",
          "state": {
            "_dom_classes": [],
            "_model_module": "@jupyter-widgets/controls",
            "_model_module_version": "1.5.0",
            "_model_name": "HTMLModel",
            "_view_count": null,
            "_view_module": "@jupyter-widgets/controls",
            "_view_module_version": "1.5.0",
            "_view_name": "HTMLView",
            "description": "",
            "description_tooltip": null,
            "layout": "IPY_MODEL_0db098ec39f14caa9bbcd2adbf0a45a8",
            "placeholder": "​",
            "style": "IPY_MODEL_4852f6cdad8c44af9e9724a7cacfa7b0",
            "value": "Downloading (…)olve/main/vocab.json: 100%"
          }
        },
        "5089bf15bd4846f48e900368eaaa0548": {
          "model_module": "@jupyter-widgets/controls",
          "model_name": "FloatProgressModel",
          "model_module_version": "1.5.0",
          "state": {
            "_dom_classes": [],
            "_model_module": "@jupyter-widgets/controls",
            "_model_module_version": "1.5.0",
            "_model_name": "FloatProgressModel",
            "_view_count": null,
            "_view_module": "@jupyter-widgets/controls",
            "_view_module_version": "1.5.0",
            "_view_name": "ProgressView",
            "bar_style": "success",
            "description": "",
            "description_tooltip": null,
            "layout": "IPY_MODEL_1103e171f449432ba3be23d34d193408",
            "max": 898822,
            "min": 0,
            "orientation": "horizontal",
            "style": "IPY_MODEL_e67b09c9a1354d9389ffdceae1c3d037",
            "value": 898822
          }
        },
        "3705302affee46f59049aa8d26b2b29c": {
          "model_module": "@jupyter-widgets/controls",
          "model_name": "HTMLModel",
          "model_module_version": "1.5.0",
          "state": {
            "_dom_classes": [],
            "_model_module": "@jupyter-widgets/controls",
            "_model_module_version": "1.5.0",
            "_model_name": "HTMLModel",
            "_view_count": null,
            "_view_module": "@jupyter-widgets/controls",
            "_view_module_version": "1.5.0",
            "_view_name": "HTMLView",
            "description": "",
            "description_tooltip": null,
            "layout": "IPY_MODEL_1509eda357ef4db79c7cbe0a642a6443",
            "placeholder": "​",
            "style": "IPY_MODEL_b69f324345d142bca5944afd067c0da7",
            "value": " 899k/899k [00:00&lt;00:00, 3.67MB/s]"
          }
        },
        "958ab6f5dbaa46c3b9072c36b5e3411a": {
          "model_module": "@jupyter-widgets/base",
          "model_name": "LayoutModel",
          "model_module_version": "1.2.0",
          "state": {
            "_model_module": "@jupyter-widgets/base",
            "_model_module_version": "1.2.0",
            "_model_name": "LayoutModel",
            "_view_count": null,
            "_view_module": "@jupyter-widgets/base",
            "_view_module_version": "1.2.0",
            "_view_name": "LayoutView",
            "align_content": null,
            "align_items": null,
            "align_self": null,
            "border": null,
            "bottom": null,
            "display": null,
            "flex": null,
            "flex_flow": null,
            "grid_area": null,
            "grid_auto_columns": null,
            "grid_auto_flow": null,
            "grid_auto_rows": null,
            "grid_column": null,
            "grid_gap": null,
            "grid_row": null,
            "grid_template_areas": null,
            "grid_template_columns": null,
            "grid_template_rows": null,
            "height": null,
            "justify_content": null,
            "justify_items": null,
            "left": null,
            "margin": null,
            "max_height": null,
            "max_width": null,
            "min_height": null,
            "min_width": null,
            "object_fit": null,
            "object_position": null,
            "order": null,
            "overflow": null,
            "overflow_x": null,
            "overflow_y": null,
            "padding": null,
            "right": null,
            "top": null,
            "visibility": null,
            "width": null
          }
        },
        "0db098ec39f14caa9bbcd2adbf0a45a8": {
          "model_module": "@jupyter-widgets/base",
          "model_name": "LayoutModel",
          "model_module_version": "1.2.0",
          "state": {
            "_model_module": "@jupyter-widgets/base",
            "_model_module_version": "1.2.0",
            "_model_name": "LayoutModel",
            "_view_count": null,
            "_view_module": "@jupyter-widgets/base",
            "_view_module_version": "1.2.0",
            "_view_name": "LayoutView",
            "align_content": null,
            "align_items": null,
            "align_self": null,
            "border": null,
            "bottom": null,
            "display": null,
            "flex": null,
            "flex_flow": null,
            "grid_area": null,
            "grid_auto_columns": null,
            "grid_auto_flow": null,
            "grid_auto_rows": null,
            "grid_column": null,
            "grid_gap": null,
            "grid_row": null,
            "grid_template_areas": null,
            "grid_template_columns": null,
            "grid_template_rows": null,
            "height": null,
            "justify_content": null,
            "justify_items": null,
            "left": null,
            "margin": null,
            "max_height": null,
            "max_width": null,
            "min_height": null,
            "min_width": null,
            "object_fit": null,
            "object_position": null,
            "order": null,
            "overflow": null,
            "overflow_x": null,
            "overflow_y": null,
            "padding": null,
            "right": null,
            "top": null,
            "visibility": null,
            "width": null
          }
        },
        "4852f6cdad8c44af9e9724a7cacfa7b0": {
          "model_module": "@jupyter-widgets/controls",
          "model_name": "DescriptionStyleModel",
          "model_module_version": "1.5.0",
          "state": {
            "_model_module": "@jupyter-widgets/controls",
            "_model_module_version": "1.5.0",
            "_model_name": "DescriptionStyleModel",
            "_view_count": null,
            "_view_module": "@jupyter-widgets/base",
            "_view_module_version": "1.2.0",
            "_view_name": "StyleView",
            "description_width": ""
          }
        },
        "1103e171f449432ba3be23d34d193408": {
          "model_module": "@jupyter-widgets/base",
          "model_name": "LayoutModel",
          "model_module_version": "1.2.0",
          "state": {
            "_model_module": "@jupyter-widgets/base",
            "_model_module_version": "1.2.0",
            "_model_name": "LayoutModel",
            "_view_count": null,
            "_view_module": "@jupyter-widgets/base",
            "_view_module_version": "1.2.0",
            "_view_name": "LayoutView",
            "align_content": null,
            "align_items": null,
            "align_self": null,
            "border": null,
            "bottom": null,
            "display": null,
            "flex": null,
            "flex_flow": null,
            "grid_area": null,
            "grid_auto_columns": null,
            "grid_auto_flow": null,
            "grid_auto_rows": null,
            "grid_column": null,
            "grid_gap": null,
            "grid_row": null,
            "grid_template_areas": null,
            "grid_template_columns": null,
            "grid_template_rows": null,
            "height": null,
            "justify_content": null,
            "justify_items": null,
            "left": null,
            "margin": null,
            "max_height": null,
            "max_width": null,
            "min_height": null,
            "min_width": null,
            "object_fit": null,
            "object_position": null,
            "order": null,
            "overflow": null,
            "overflow_x": null,
            "overflow_y": null,
            "padding": null,
            "right": null,
            "top": null,
            "visibility": null,
            "width": null
          }
        },
        "e67b09c9a1354d9389ffdceae1c3d037": {
          "model_module": "@jupyter-widgets/controls",
          "model_name": "ProgressStyleModel",
          "model_module_version": "1.5.0",
          "state": {
            "_model_module": "@jupyter-widgets/controls",
            "_model_module_version": "1.5.0",
            "_model_name": "ProgressStyleModel",
            "_view_count": null,
            "_view_module": "@jupyter-widgets/base",
            "_view_module_version": "1.2.0",
            "_view_name": "StyleView",
            "bar_color": null,
            "description_width": ""
          }
        },
        "1509eda357ef4db79c7cbe0a642a6443": {
          "model_module": "@jupyter-widgets/base",
          "model_name": "LayoutModel",
          "model_module_version": "1.2.0",
          "state": {
            "_model_module": "@jupyter-widgets/base",
            "_model_module_version": "1.2.0",
            "_model_name": "LayoutModel",
            "_view_count": null,
            "_view_module": "@jupyter-widgets/base",
            "_view_module_version": "1.2.0",
            "_view_name": "LayoutView",
            "align_content": null,
            "align_items": null,
            "align_self": null,
            "border": null,
            "bottom": null,
            "display": null,
            "flex": null,
            "flex_flow": null,
            "grid_area": null,
            "grid_auto_columns": null,
            "grid_auto_flow": null,
            "grid_auto_rows": null,
            "grid_column": null,
            "grid_gap": null,
            "grid_row": null,
            "grid_template_areas": null,
            "grid_template_columns": null,
            "grid_template_rows": null,
            "height": null,
            "justify_content": null,
            "justify_items": null,
            "left": null,
            "margin": null,
            "max_height": null,
            "max_width": null,
            "min_height": null,
            "min_width": null,
            "object_fit": null,
            "object_position": null,
            "order": null,
            "overflow": null,
            "overflow_x": null,
            "overflow_y": null,
            "padding": null,
            "right": null,
            "top": null,
            "visibility": null,
            "width": null
          }
        },
        "b69f324345d142bca5944afd067c0da7": {
          "model_module": "@jupyter-widgets/controls",
          "model_name": "DescriptionStyleModel",
          "model_module_version": "1.5.0",
          "state": {
            "_model_module": "@jupyter-widgets/controls",
            "_model_module_version": "1.5.0",
            "_model_name": "DescriptionStyleModel",
            "_view_count": null,
            "_view_module": "@jupyter-widgets/base",
            "_view_module_version": "1.2.0",
            "_view_name": "StyleView",
            "description_width": ""
          }
        },
        "606e3034ecd543408d6288c58ff0b07c": {
          "model_module": "@jupyter-widgets/controls",
          "model_name": "HBoxModel",
          "model_module_version": "1.5.0",
          "state": {
            "_dom_classes": [],
            "_model_module": "@jupyter-widgets/controls",
            "_model_module_version": "1.5.0",
            "_model_name": "HBoxModel",
            "_view_count": null,
            "_view_module": "@jupyter-widgets/controls",
            "_view_module_version": "1.5.0",
            "_view_name": "HBoxView",
            "box_style": "",
            "children": [
              "IPY_MODEL_915e637b4b654ebd8cde764a2819dc9b",
              "IPY_MODEL_2f476dfa634a475d9b949ee2112218f1",
              "IPY_MODEL_9d5aecba0c42415cb855281d6461c2e8"
            ],
            "layout": "IPY_MODEL_444f192a114d4f9480637073dc39235b"
          }
        },
        "915e637b4b654ebd8cde764a2819dc9b": {
          "model_module": "@jupyter-widgets/controls",
          "model_name": "HTMLModel",
          "model_module_version": "1.5.0",
          "state": {
            "_dom_classes": [],
            "_model_module": "@jupyter-widgets/controls",
            "_model_module_version": "1.5.0",
            "_model_name": "HTMLModel",
            "_view_count": null,
            "_view_module": "@jupyter-widgets/controls",
            "_view_module_version": "1.5.0",
            "_view_name": "HTMLView",
            "description": "",
            "description_tooltip": null,
            "layout": "IPY_MODEL_64bb53c358b54f45892a1fc49226ea04",
            "placeholder": "​",
            "style": "IPY_MODEL_049ae894e8724291863f1c33f4f33489",
            "value": "Downloading (…)olve/main/merges.txt: 100%"
          }
        },
        "2f476dfa634a475d9b949ee2112218f1": {
          "model_module": "@jupyter-widgets/controls",
          "model_name": "FloatProgressModel",
          "model_module_version": "1.5.0",
          "state": {
            "_dom_classes": [],
            "_model_module": "@jupyter-widgets/controls",
            "_model_module_version": "1.5.0",
            "_model_name": "FloatProgressModel",
            "_view_count": null,
            "_view_module": "@jupyter-widgets/controls",
            "_view_module_version": "1.5.0",
            "_view_name": "ProgressView",
            "bar_style": "success",
            "description": "",
            "description_tooltip": null,
            "layout": "IPY_MODEL_369c3a7716b14ca38e950a9f7760195e",
            "max": 456318,
            "min": 0,
            "orientation": "horizontal",
            "style": "IPY_MODEL_0f40f7c8a1424aeeae70d0a1f5173949",
            "value": 456318
          }
        },
        "9d5aecba0c42415cb855281d6461c2e8": {
          "model_module": "@jupyter-widgets/controls",
          "model_name": "HTMLModel",
          "model_module_version": "1.5.0",
          "state": {
            "_dom_classes": [],
            "_model_module": "@jupyter-widgets/controls",
            "_model_module_version": "1.5.0",
            "_model_name": "HTMLModel",
            "_view_count": null,
            "_view_module": "@jupyter-widgets/controls",
            "_view_module_version": "1.5.0",
            "_view_name": "HTMLView",
            "description": "",
            "description_tooltip": null,
            "layout": "IPY_MODEL_d830be0ecce648338d6e0f133c8c80d7",
            "placeholder": "​",
            "style": "IPY_MODEL_9cc32d36a34e478d865ea823502c5d30",
            "value": " 456k/456k [00:00&lt;00:00, 25.6MB/s]"
          }
        },
        "444f192a114d4f9480637073dc39235b": {
          "model_module": "@jupyter-widgets/base",
          "model_name": "LayoutModel",
          "model_module_version": "1.2.0",
          "state": {
            "_model_module": "@jupyter-widgets/base",
            "_model_module_version": "1.2.0",
            "_model_name": "LayoutModel",
            "_view_count": null,
            "_view_module": "@jupyter-widgets/base",
            "_view_module_version": "1.2.0",
            "_view_name": "LayoutView",
            "align_content": null,
            "align_items": null,
            "align_self": null,
            "border": null,
            "bottom": null,
            "display": null,
            "flex": null,
            "flex_flow": null,
            "grid_area": null,
            "grid_auto_columns": null,
            "grid_auto_flow": null,
            "grid_auto_rows": null,
            "grid_column": null,
            "grid_gap": null,
            "grid_row": null,
            "grid_template_areas": null,
            "grid_template_columns": null,
            "grid_template_rows": null,
            "height": null,
            "justify_content": null,
            "justify_items": null,
            "left": null,
            "margin": null,
            "max_height": null,
            "max_width": null,
            "min_height": null,
            "min_width": null,
            "object_fit": null,
            "object_position": null,
            "order": null,
            "overflow": null,
            "overflow_x": null,
            "overflow_y": null,
            "padding": null,
            "right": null,
            "top": null,
            "visibility": null,
            "width": null
          }
        },
        "64bb53c358b54f45892a1fc49226ea04": {
          "model_module": "@jupyter-widgets/base",
          "model_name": "LayoutModel",
          "model_module_version": "1.2.0",
          "state": {
            "_model_module": "@jupyter-widgets/base",
            "_model_module_version": "1.2.0",
            "_model_name": "LayoutModel",
            "_view_count": null,
            "_view_module": "@jupyter-widgets/base",
            "_view_module_version": "1.2.0",
            "_view_name": "LayoutView",
            "align_content": null,
            "align_items": null,
            "align_self": null,
            "border": null,
            "bottom": null,
            "display": null,
            "flex": null,
            "flex_flow": null,
            "grid_area": null,
            "grid_auto_columns": null,
            "grid_auto_flow": null,
            "grid_auto_rows": null,
            "grid_column": null,
            "grid_gap": null,
            "grid_row": null,
            "grid_template_areas": null,
            "grid_template_columns": null,
            "grid_template_rows": null,
            "height": null,
            "justify_content": null,
            "justify_items": null,
            "left": null,
            "margin": null,
            "max_height": null,
            "max_width": null,
            "min_height": null,
            "min_width": null,
            "object_fit": null,
            "object_position": null,
            "order": null,
            "overflow": null,
            "overflow_x": null,
            "overflow_y": null,
            "padding": null,
            "right": null,
            "top": null,
            "visibility": null,
            "width": null
          }
        },
        "049ae894e8724291863f1c33f4f33489": {
          "model_module": "@jupyter-widgets/controls",
          "model_name": "DescriptionStyleModel",
          "model_module_version": "1.5.0",
          "state": {
            "_model_module": "@jupyter-widgets/controls",
            "_model_module_version": "1.5.0",
            "_model_name": "DescriptionStyleModel",
            "_view_count": null,
            "_view_module": "@jupyter-widgets/base",
            "_view_module_version": "1.2.0",
            "_view_name": "StyleView",
            "description_width": ""
          }
        },
        "369c3a7716b14ca38e950a9f7760195e": {
          "model_module": "@jupyter-widgets/base",
          "model_name": "LayoutModel",
          "model_module_version": "1.2.0",
          "state": {
            "_model_module": "@jupyter-widgets/base",
            "_model_module_version": "1.2.0",
            "_model_name": "LayoutModel",
            "_view_count": null,
            "_view_module": "@jupyter-widgets/base",
            "_view_module_version": "1.2.0",
            "_view_name": "LayoutView",
            "align_content": null,
            "align_items": null,
            "align_self": null,
            "border": null,
            "bottom": null,
            "display": null,
            "flex": null,
            "flex_flow": null,
            "grid_area": null,
            "grid_auto_columns": null,
            "grid_auto_flow": null,
            "grid_auto_rows": null,
            "grid_column": null,
            "grid_gap": null,
            "grid_row": null,
            "grid_template_areas": null,
            "grid_template_columns": null,
            "grid_template_rows": null,
            "height": null,
            "justify_content": null,
            "justify_items": null,
            "left": null,
            "margin": null,
            "max_height": null,
            "max_width": null,
            "min_height": null,
            "min_width": null,
            "object_fit": null,
            "object_position": null,
            "order": null,
            "overflow": null,
            "overflow_x": null,
            "overflow_y": null,
            "padding": null,
            "right": null,
            "top": null,
            "visibility": null,
            "width": null
          }
        },
        "0f40f7c8a1424aeeae70d0a1f5173949": {
          "model_module": "@jupyter-widgets/controls",
          "model_name": "ProgressStyleModel",
          "model_module_version": "1.5.0",
          "state": {
            "_model_module": "@jupyter-widgets/controls",
            "_model_module_version": "1.5.0",
            "_model_name": "ProgressStyleModel",
            "_view_count": null,
            "_view_module": "@jupyter-widgets/base",
            "_view_module_version": "1.2.0",
            "_view_name": "StyleView",
            "bar_color": null,
            "description_width": ""
          }
        },
        "d830be0ecce648338d6e0f133c8c80d7": {
          "model_module": "@jupyter-widgets/base",
          "model_name": "LayoutModel",
          "model_module_version": "1.2.0",
          "state": {
            "_model_module": "@jupyter-widgets/base",
            "_model_module_version": "1.2.0",
            "_model_name": "LayoutModel",
            "_view_count": null,
            "_view_module": "@jupyter-widgets/base",
            "_view_module_version": "1.2.0",
            "_view_name": "LayoutView",
            "align_content": null,
            "align_items": null,
            "align_self": null,
            "border": null,
            "bottom": null,
            "display": null,
            "flex": null,
            "flex_flow": null,
            "grid_area": null,
            "grid_auto_columns": null,
            "grid_auto_flow": null,
            "grid_auto_rows": null,
            "grid_column": null,
            "grid_gap": null,
            "grid_row": null,
            "grid_template_areas": null,
            "grid_template_columns": null,
            "grid_template_rows": null,
            "height": null,
            "justify_content": null,
            "justify_items": null,
            "left": null,
            "margin": null,
            "max_height": null,
            "max_width": null,
            "min_height": null,
            "min_width": null,
            "object_fit": null,
            "object_position": null,
            "order": null,
            "overflow": null,
            "overflow_x": null,
            "overflow_y": null,
            "padding": null,
            "right": null,
            "top": null,
            "visibility": null,
            "width": null
          }
        },
        "9cc32d36a34e478d865ea823502c5d30": {
          "model_module": "@jupyter-widgets/controls",
          "model_name": "DescriptionStyleModel",
          "model_module_version": "1.5.0",
          "state": {
            "_model_module": "@jupyter-widgets/controls",
            "_model_module_version": "1.5.0",
            "_model_name": "DescriptionStyleModel",
            "_view_count": null,
            "_view_module": "@jupyter-widgets/base",
            "_view_module_version": "1.2.0",
            "_view_name": "StyleView",
            "description_width": ""
          }
        },
        "ae1020943b8c43c6a7662cc7e87e2ff1": {
          "model_module": "@jupyter-widgets/controls",
          "model_name": "HBoxModel",
          "model_module_version": "1.5.0",
          "state": {
            "_dom_classes": [],
            "_model_module": "@jupyter-widgets/controls",
            "_model_module_version": "1.5.0",
            "_model_name": "HBoxModel",
            "_view_count": null,
            "_view_module": "@jupyter-widgets/controls",
            "_view_module_version": "1.5.0",
            "_view_name": "HBoxView",
            "box_style": "",
            "children": [
              "IPY_MODEL_0e10fd7bc1df43679c65e5942157aeb3",
              "IPY_MODEL_581ebee064d2491d81e396f72c01800d",
              "IPY_MODEL_8124fff08c70423bb8a96bdeec7eab5b"
            ],
            "layout": "IPY_MODEL_891df6022e9e470ea59814d811605921"
          }
        },
        "0e10fd7bc1df43679c65e5942157aeb3": {
          "model_module": "@jupyter-widgets/controls",
          "model_name": "HTMLModel",
          "model_module_version": "1.5.0",
          "state": {
            "_dom_classes": [],
            "_model_module": "@jupyter-widgets/controls",
            "_model_module_version": "1.5.0",
            "_model_name": "HTMLModel",
            "_view_count": null,
            "_view_module": "@jupyter-widgets/controls",
            "_view_module_version": "1.5.0",
            "_view_name": "HTMLView",
            "description": "",
            "description_tooltip": null,
            "layout": "IPY_MODEL_6b0a1149b2a14249bcb05a13614b5ee5",
            "placeholder": "​",
            "style": "IPY_MODEL_ce5a434fa8a7493a8fc4aba8900efba6",
            "value": "Downloading (…)/main/tokenizer.json: 100%"
          }
        },
        "581ebee064d2491d81e396f72c01800d": {
          "model_module": "@jupyter-widgets/controls",
          "model_name": "FloatProgressModel",
          "model_module_version": "1.5.0",
          "state": {
            "_dom_classes": [],
            "_model_module": "@jupyter-widgets/controls",
            "_model_module_version": "1.5.0",
            "_model_name": "FloatProgressModel",
            "_view_count": null,
            "_view_module": "@jupyter-widgets/controls",
            "_view_module_version": "1.5.0",
            "_view_name": "ProgressView",
            "bar_style": "success",
            "description": "",
            "description_tooltip": null,
            "layout": "IPY_MODEL_c811b5c8bf0e4433a1884b3d2ccd7d45",
            "max": 1355863,
            "min": 0,
            "orientation": "horizontal",
            "style": "IPY_MODEL_aec88af3efd04be19e07c778dfb8f724",
            "value": 1355863
          }
        },
        "8124fff08c70423bb8a96bdeec7eab5b": {
          "model_module": "@jupyter-widgets/controls",
          "model_name": "HTMLModel",
          "model_module_version": "1.5.0",
          "state": {
            "_dom_classes": [],
            "_model_module": "@jupyter-widgets/controls",
            "_model_module_version": "1.5.0",
            "_model_name": "HTMLModel",
            "_view_count": null,
            "_view_module": "@jupyter-widgets/controls",
            "_view_module_version": "1.5.0",
            "_view_name": "HTMLView",
            "description": "",
            "description_tooltip": null,
            "layout": "IPY_MODEL_1e59c3b474b1482db340ee4b0cf007fa",
            "placeholder": "​",
            "style": "IPY_MODEL_4cb69a1997114a79b7808a88e70280cf",
            "value": " 1.36M/1.36M [00:00&lt;00:00, 64.1MB/s]"
          }
        },
        "891df6022e9e470ea59814d811605921": {
          "model_module": "@jupyter-widgets/base",
          "model_name": "LayoutModel",
          "model_module_version": "1.2.0",
          "state": {
            "_model_module": "@jupyter-widgets/base",
            "_model_module_version": "1.2.0",
            "_model_name": "LayoutModel",
            "_view_count": null,
            "_view_module": "@jupyter-widgets/base",
            "_view_module_version": "1.2.0",
            "_view_name": "LayoutView",
            "align_content": null,
            "align_items": null,
            "align_self": null,
            "border": null,
            "bottom": null,
            "display": null,
            "flex": null,
            "flex_flow": null,
            "grid_area": null,
            "grid_auto_columns": null,
            "grid_auto_flow": null,
            "grid_auto_rows": null,
            "grid_column": null,
            "grid_gap": null,
            "grid_row": null,
            "grid_template_areas": null,
            "grid_template_columns": null,
            "grid_template_rows": null,
            "height": null,
            "justify_content": null,
            "justify_items": null,
            "left": null,
            "margin": null,
            "max_height": null,
            "max_width": null,
            "min_height": null,
            "min_width": null,
            "object_fit": null,
            "object_position": null,
            "order": null,
            "overflow": null,
            "overflow_x": null,
            "overflow_y": null,
            "padding": null,
            "right": null,
            "top": null,
            "visibility": null,
            "width": null
          }
        },
        "6b0a1149b2a14249bcb05a13614b5ee5": {
          "model_module": "@jupyter-widgets/base",
          "model_name": "LayoutModel",
          "model_module_version": "1.2.0",
          "state": {
            "_model_module": "@jupyter-widgets/base",
            "_model_module_version": "1.2.0",
            "_model_name": "LayoutModel",
            "_view_count": null,
            "_view_module": "@jupyter-widgets/base",
            "_view_module_version": "1.2.0",
            "_view_name": "LayoutView",
            "align_content": null,
            "align_items": null,
            "align_self": null,
            "border": null,
            "bottom": null,
            "display": null,
            "flex": null,
            "flex_flow": null,
            "grid_area": null,
            "grid_auto_columns": null,
            "grid_auto_flow": null,
            "grid_auto_rows": null,
            "grid_column": null,
            "grid_gap": null,
            "grid_row": null,
            "grid_template_areas": null,
            "grid_template_columns": null,
            "grid_template_rows": null,
            "height": null,
            "justify_content": null,
            "justify_items": null,
            "left": null,
            "margin": null,
            "max_height": null,
            "max_width": null,
            "min_height": null,
            "min_width": null,
            "object_fit": null,
            "object_position": null,
            "order": null,
            "overflow": null,
            "overflow_x": null,
            "overflow_y": null,
            "padding": null,
            "right": null,
            "top": null,
            "visibility": null,
            "width": null
          }
        },
        "ce5a434fa8a7493a8fc4aba8900efba6": {
          "model_module": "@jupyter-widgets/controls",
          "model_name": "DescriptionStyleModel",
          "model_module_version": "1.5.0",
          "state": {
            "_model_module": "@jupyter-widgets/controls",
            "_model_module_version": "1.5.0",
            "_model_name": "DescriptionStyleModel",
            "_view_count": null,
            "_view_module": "@jupyter-widgets/base",
            "_view_module_version": "1.2.0",
            "_view_name": "StyleView",
            "description_width": ""
          }
        },
        "c811b5c8bf0e4433a1884b3d2ccd7d45": {
          "model_module": "@jupyter-widgets/base",
          "model_name": "LayoutModel",
          "model_module_version": "1.2.0",
          "state": {
            "_model_module": "@jupyter-widgets/base",
            "_model_module_version": "1.2.0",
            "_model_name": "LayoutModel",
            "_view_count": null,
            "_view_module": "@jupyter-widgets/base",
            "_view_module_version": "1.2.0",
            "_view_name": "LayoutView",
            "align_content": null,
            "align_items": null,
            "align_self": null,
            "border": null,
            "bottom": null,
            "display": null,
            "flex": null,
            "flex_flow": null,
            "grid_area": null,
            "grid_auto_columns": null,
            "grid_auto_flow": null,
            "grid_auto_rows": null,
            "grid_column": null,
            "grid_gap": null,
            "grid_row": null,
            "grid_template_areas": null,
            "grid_template_columns": null,
            "grid_template_rows": null,
            "height": null,
            "justify_content": null,
            "justify_items": null,
            "left": null,
            "margin": null,
            "max_height": null,
            "max_width": null,
            "min_height": null,
            "min_width": null,
            "object_fit": null,
            "object_position": null,
            "order": null,
            "overflow": null,
            "overflow_x": null,
            "overflow_y": null,
            "padding": null,
            "right": null,
            "top": null,
            "visibility": null,
            "width": null
          }
        },
        "aec88af3efd04be19e07c778dfb8f724": {
          "model_module": "@jupyter-widgets/controls",
          "model_name": "ProgressStyleModel",
          "model_module_version": "1.5.0",
          "state": {
            "_model_module": "@jupyter-widgets/controls",
            "_model_module_version": "1.5.0",
            "_model_name": "ProgressStyleModel",
            "_view_count": null,
            "_view_module": "@jupyter-widgets/base",
            "_view_module_version": "1.2.0",
            "_view_name": "StyleView",
            "bar_color": null,
            "description_width": ""
          }
        },
        "1e59c3b474b1482db340ee4b0cf007fa": {
          "model_module": "@jupyter-widgets/base",
          "model_name": "LayoutModel",
          "model_module_version": "1.2.0",
          "state": {
            "_model_module": "@jupyter-widgets/base",
            "_model_module_version": "1.2.0",
            "_model_name": "LayoutModel",
            "_view_count": null,
            "_view_module": "@jupyter-widgets/base",
            "_view_module_version": "1.2.0",
            "_view_name": "LayoutView",
            "align_content": null,
            "align_items": null,
            "align_self": null,
            "border": null,
            "bottom": null,
            "display": null,
            "flex": null,
            "flex_flow": null,
            "grid_area": null,
            "grid_auto_columns": null,
            "grid_auto_flow": null,
            "grid_auto_rows": null,
            "grid_column": null,
            "grid_gap": null,
            "grid_row": null,
            "grid_template_areas": null,
            "grid_template_columns": null,
            "grid_template_rows": null,
            "height": null,
            "justify_content": null,
            "justify_items": null,
            "left": null,
            "margin": null,
            "max_height": null,
            "max_width": null,
            "min_height": null,
            "min_width": null,
            "object_fit": null,
            "object_position": null,
            "order": null,
            "overflow": null,
            "overflow_x": null,
            "overflow_y": null,
            "padding": null,
            "right": null,
            "top": null,
            "visibility": null,
            "width": null
          }
        },
        "4cb69a1997114a79b7808a88e70280cf": {
          "model_module": "@jupyter-widgets/controls",
          "model_name": "DescriptionStyleModel",
          "model_module_version": "1.5.0",
          "state": {
            "_model_module": "@jupyter-widgets/controls",
            "_model_module_version": "1.5.0",
            "_model_name": "DescriptionStyleModel",
            "_view_count": null,
            "_view_module": "@jupyter-widgets/base",
            "_view_module_version": "1.2.0",
            "_view_name": "StyleView",
            "description_width": ""
          }
        }
      }
    }
  },
  "nbformat": 4,
  "nbformat_minor": 0
}