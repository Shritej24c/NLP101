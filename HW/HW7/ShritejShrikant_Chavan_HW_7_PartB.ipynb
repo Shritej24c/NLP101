{
  "nbformat": 4,
  "nbformat_minor": 0,
  "metadata": {
    "colab": {
      "provenance": [],
      "toc_visible": true,
      "machine_shape": "hm",
      "gpuType": "V100",
      "authorship_tag": "ABX9TyNmQYmyL0TF1tNqMOYgvqbB",
      "include_colab_link": true
    },
    "kernelspec": {
      "name": "python3",
      "display_name": "Python 3"
    },
    "language_info": {
      "name": "python"
    },
    "accelerator": "GPU",
    "widgets": {
      "application/vnd.jupyter.widget-state+json": {
        "a5892f02f4dd4725bc0a80201f5b7d75": {
          "model_module": "@jupyter-widgets/controls",
          "model_name": "HBoxModel",
          "model_module_version": "1.5.0",
          "state": {
            "_dom_classes": [],
            "_model_module": "@jupyter-widgets/controls",
            "_model_module_version": "1.5.0",
            "_model_name": "HBoxModel",
            "_view_count": null,
            "_view_module": "@jupyter-widgets/controls",
            "_view_module_version": "1.5.0",
            "_view_name": "HBoxView",
            "box_style": "",
            "children": [
              "IPY_MODEL_b9f33be960f84f43b257948c0a035dd7",
              "IPY_MODEL_07d27ecb6cc946bdbeac9e8ff33caaf2",
              "IPY_MODEL_9658da234e9d443b9916e98decccf4dd"
            ],
            "layout": "IPY_MODEL_62890d75553042be9a267a441b5e6af0"
          }
        },
        "b9f33be960f84f43b257948c0a035dd7": {
          "model_module": "@jupyter-widgets/controls",
          "model_name": "HTMLModel",
          "model_module_version": "1.5.0",
          "state": {
            "_dom_classes": [],
            "_model_module": "@jupyter-widgets/controls",
            "_model_module_version": "1.5.0",
            "_model_name": "HTMLModel",
            "_view_count": null,
            "_view_module": "@jupyter-widgets/controls",
            "_view_module_version": "1.5.0",
            "_view_name": "HTMLView",
            "description": "",
            "description_tooltip": null,
            "layout": "IPY_MODEL_1533d5b8b1624a42afe024f25762c113",
            "placeholder": "​",
            "style": "IPY_MODEL_f6f9a037acd7402c87e045229c0055e1",
            "value": "Downloading data files: 100%"
          }
        },
        "07d27ecb6cc946bdbeac9e8ff33caaf2": {
          "model_module": "@jupyter-widgets/controls",
          "model_name": "FloatProgressModel",
          "model_module_version": "1.5.0",
          "state": {
            "_dom_classes": [],
            "_model_module": "@jupyter-widgets/controls",
            "_model_module_version": "1.5.0",
            "_model_name": "FloatProgressModel",
            "_view_count": null,
            "_view_module": "@jupyter-widgets/controls",
            "_view_module_version": "1.5.0",
            "_view_name": "ProgressView",
            "bar_style": "success",
            "description": "",
            "description_tooltip": null,
            "layout": "IPY_MODEL_75e5540d4e5e4fbd9820505a09147fff",
            "max": 1,
            "min": 0,
            "orientation": "horizontal",
            "style": "IPY_MODEL_fce3d241835543179d26dbe8e4092e2a",
            "value": 1
          }
        },
        "9658da234e9d443b9916e98decccf4dd": {
          "model_module": "@jupyter-widgets/controls",
          "model_name": "HTMLModel",
          "model_module_version": "1.5.0",
          "state": {
            "_dom_classes": [],
            "_model_module": "@jupyter-widgets/controls",
            "_model_module_version": "1.5.0",
            "_model_name": "HTMLModel",
            "_view_count": null,
            "_view_module": "@jupyter-widgets/controls",
            "_view_module_version": "1.5.0",
            "_view_name": "HTMLView",
            "description": "",
            "description_tooltip": null,
            "layout": "IPY_MODEL_f4c36be074484aa3a9463271c8a55ac6",
            "placeholder": "​",
            "style": "IPY_MODEL_3f9fafad52214f21828d7c20bd40715c",
            "value": " 1/1 [00:00&lt;00:00, 94.81it/s]"
          }
        },
        "62890d75553042be9a267a441b5e6af0": {
          "model_module": "@jupyter-widgets/base",
          "model_name": "LayoutModel",
          "model_module_version": "1.2.0",
          "state": {
            "_model_module": "@jupyter-widgets/base",
            "_model_module_version": "1.2.0",
            "_model_name": "LayoutModel",
            "_view_count": null,
            "_view_module": "@jupyter-widgets/base",
            "_view_module_version": "1.2.0",
            "_view_name": "LayoutView",
            "align_content": null,
            "align_items": null,
            "align_self": null,
            "border": null,
            "bottom": null,
            "display": null,
            "flex": null,
            "flex_flow": null,
            "grid_area": null,
            "grid_auto_columns": null,
            "grid_auto_flow": null,
            "grid_auto_rows": null,
            "grid_column": null,
            "grid_gap": null,
            "grid_row": null,
            "grid_template_areas": null,
            "grid_template_columns": null,
            "grid_template_rows": null,
            "height": null,
            "justify_content": null,
            "justify_items": null,
            "left": null,
            "margin": null,
            "max_height": null,
            "max_width": null,
            "min_height": null,
            "min_width": null,
            "object_fit": null,
            "object_position": null,
            "order": null,
            "overflow": null,
            "overflow_x": null,
            "overflow_y": null,
            "padding": null,
            "right": null,
            "top": null,
            "visibility": null,
            "width": null
          }
        },
        "1533d5b8b1624a42afe024f25762c113": {
          "model_module": "@jupyter-widgets/base",
          "model_name": "LayoutModel",
          "model_module_version": "1.2.0",
          "state": {
            "_model_module": "@jupyter-widgets/base",
            "_model_module_version": "1.2.0",
            "_model_name": "LayoutModel",
            "_view_count": null,
            "_view_module": "@jupyter-widgets/base",
            "_view_module_version": "1.2.0",
            "_view_name": "LayoutView",
            "align_content": null,
            "align_items": null,
            "align_self": null,
            "border": null,
            "bottom": null,
            "display": null,
            "flex": null,
            "flex_flow": null,
            "grid_area": null,
            "grid_auto_columns": null,
            "grid_auto_flow": null,
            "grid_auto_rows": null,
            "grid_column": null,
            "grid_gap": null,
            "grid_row": null,
            "grid_template_areas": null,
            "grid_template_columns": null,
            "grid_template_rows": null,
            "height": null,
            "justify_content": null,
            "justify_items": null,
            "left": null,
            "margin": null,
            "max_height": null,
            "max_width": null,
            "min_height": null,
            "min_width": null,
            "object_fit": null,
            "object_position": null,
            "order": null,
            "overflow": null,
            "overflow_x": null,
            "overflow_y": null,
            "padding": null,
            "right": null,
            "top": null,
            "visibility": null,
            "width": null
          }
        },
        "f6f9a037acd7402c87e045229c0055e1": {
          "model_module": "@jupyter-widgets/controls",
          "model_name": "DescriptionStyleModel",
          "model_module_version": "1.5.0",
          "state": {
            "_model_module": "@jupyter-widgets/controls",
            "_model_module_version": "1.5.0",
            "_model_name": "DescriptionStyleModel",
            "_view_count": null,
            "_view_module": "@jupyter-widgets/base",
            "_view_module_version": "1.2.0",
            "_view_name": "StyleView",
            "description_width": ""
          }
        },
        "75e5540d4e5e4fbd9820505a09147fff": {
          "model_module": "@jupyter-widgets/base",
          "model_name": "LayoutModel",
          "model_module_version": "1.2.0",
          "state": {
            "_model_module": "@jupyter-widgets/base",
            "_model_module_version": "1.2.0",
            "_model_name": "LayoutModel",
            "_view_count": null,
            "_view_module": "@jupyter-widgets/base",
            "_view_module_version": "1.2.0",
            "_view_name": "LayoutView",
            "align_content": null,
            "align_items": null,
            "align_self": null,
            "border": null,
            "bottom": null,
            "display": null,
            "flex": null,
            "flex_flow": null,
            "grid_area": null,
            "grid_auto_columns": null,
            "grid_auto_flow": null,
            "grid_auto_rows": null,
            "grid_column": null,
            "grid_gap": null,
            "grid_row": null,
            "grid_template_areas": null,
            "grid_template_columns": null,
            "grid_template_rows": null,
            "height": null,
            "justify_content": null,
            "justify_items": null,
            "left": null,
            "margin": null,
            "max_height": null,
            "max_width": null,
            "min_height": null,
            "min_width": null,
            "object_fit": null,
            "object_position": null,
            "order": null,
            "overflow": null,
            "overflow_x": null,
            "overflow_y": null,
            "padding": null,
            "right": null,
            "top": null,
            "visibility": null,
            "width": null
          }
        },
        "fce3d241835543179d26dbe8e4092e2a": {
          "model_module": "@jupyter-widgets/controls",
          "model_name": "ProgressStyleModel",
          "model_module_version": "1.5.0",
          "state": {
            "_model_module": "@jupyter-widgets/controls",
            "_model_module_version": "1.5.0",
            "_model_name": "ProgressStyleModel",
            "_view_count": null,
            "_view_module": "@jupyter-widgets/base",
            "_view_module_version": "1.2.0",
            "_view_name": "StyleView",
            "bar_color": null,
            "description_width": ""
          }
        },
        "f4c36be074484aa3a9463271c8a55ac6": {
          "model_module": "@jupyter-widgets/base",
          "model_name": "LayoutModel",
          "model_module_version": "1.2.0",
          "state": {
            "_model_module": "@jupyter-widgets/base",
            "_model_module_version": "1.2.0",
            "_model_name": "LayoutModel",
            "_view_count": null,
            "_view_module": "@jupyter-widgets/base",
            "_view_module_version": "1.2.0",
            "_view_name": "LayoutView",
            "align_content": null,
            "align_items": null,
            "align_self": null,
            "border": null,
            "bottom": null,
            "display": null,
            "flex": null,
            "flex_flow": null,
            "grid_area": null,
            "grid_auto_columns": null,
            "grid_auto_flow": null,
            "grid_auto_rows": null,
            "grid_column": null,
            "grid_gap": null,
            "grid_row": null,
            "grid_template_areas": null,
            "grid_template_columns": null,
            "grid_template_rows": null,
            "height": null,
            "justify_content": null,
            "justify_items": null,
            "left": null,
            "margin": null,
            "max_height": null,
            "max_width": null,
            "min_height": null,
            "min_width": null,
            "object_fit": null,
            "object_position": null,
            "order": null,
            "overflow": null,
            "overflow_x": null,
            "overflow_y": null,
            "padding": null,
            "right": null,
            "top": null,
            "visibility": null,
            "width": null
          }
        },
        "3f9fafad52214f21828d7c20bd40715c": {
          "model_module": "@jupyter-widgets/controls",
          "model_name": "DescriptionStyleModel",
          "model_module_version": "1.5.0",
          "state": {
            "_model_module": "@jupyter-widgets/controls",
            "_model_module_version": "1.5.0",
            "_model_name": "DescriptionStyleModel",
            "_view_count": null,
            "_view_module": "@jupyter-widgets/base",
            "_view_module_version": "1.2.0",
            "_view_name": "StyleView",
            "description_width": ""
          }
        },
        "436b410cd1404ea8bb47e1ac25fc1b83": {
          "model_module": "@jupyter-widgets/controls",
          "model_name": "HBoxModel",
          "model_module_version": "1.5.0",
          "state": {
            "_dom_classes": [],
            "_model_module": "@jupyter-widgets/controls",
            "_model_module_version": "1.5.0",
            "_model_name": "HBoxModel",
            "_view_count": null,
            "_view_module": "@jupyter-widgets/controls",
            "_view_module_version": "1.5.0",
            "_view_name": "HBoxView",
            "box_style": "",
            "children": [
              "IPY_MODEL_f55b12193a91401bbb72db55ebce68df",
              "IPY_MODEL_37023f01eff54dc687b2981a911dc2fe",
              "IPY_MODEL_0e0151d50877449a9cf23efcf3cb5829"
            ],
            "layout": "IPY_MODEL_f140827813384eb89a4f027faadd73b2"
          }
        },
        "f55b12193a91401bbb72db55ebce68df": {
          "model_module": "@jupyter-widgets/controls",
          "model_name": "HTMLModel",
          "model_module_version": "1.5.0",
          "state": {
            "_dom_classes": [],
            "_model_module": "@jupyter-widgets/controls",
            "_model_module_version": "1.5.0",
            "_model_name": "HTMLModel",
            "_view_count": null,
            "_view_module": "@jupyter-widgets/controls",
            "_view_module_version": "1.5.0",
            "_view_name": "HTMLView",
            "description": "",
            "description_tooltip": null,
            "layout": "IPY_MODEL_52692b56b8a6492b9438012f17cf661c",
            "placeholder": "​",
            "style": "IPY_MODEL_29702a3e188744d0b79432324dd3d4dd",
            "value": "Extracting data files: 100%"
          }
        },
        "37023f01eff54dc687b2981a911dc2fe": {
          "model_module": "@jupyter-widgets/controls",
          "model_name": "FloatProgressModel",
          "model_module_version": "1.5.0",
          "state": {
            "_dom_classes": [],
            "_model_module": "@jupyter-widgets/controls",
            "_model_module_version": "1.5.0",
            "_model_name": "FloatProgressModel",
            "_view_count": null,
            "_view_module": "@jupyter-widgets/controls",
            "_view_module_version": "1.5.0",
            "_view_name": "ProgressView",
            "bar_style": "success",
            "description": "",
            "description_tooltip": null,
            "layout": "IPY_MODEL_4f84dd9ecff547c09d6acfe0a5c539a5",
            "max": 1,
            "min": 0,
            "orientation": "horizontal",
            "style": "IPY_MODEL_1e32937b1f8c45d2ae1ba7458eb4aa06",
            "value": 1
          }
        },
        "0e0151d50877449a9cf23efcf3cb5829": {
          "model_module": "@jupyter-widgets/controls",
          "model_name": "HTMLModel",
          "model_module_version": "1.5.0",
          "state": {
            "_dom_classes": [],
            "_model_module": "@jupyter-widgets/controls",
            "_model_module_version": "1.5.0",
            "_model_name": "HTMLModel",
            "_view_count": null,
            "_view_module": "@jupyter-widgets/controls",
            "_view_module_version": "1.5.0",
            "_view_name": "HTMLView",
            "description": "",
            "description_tooltip": null,
            "layout": "IPY_MODEL_7bee90b873ea4de889aef1b473ec9bb2",
            "placeholder": "​",
            "style": "IPY_MODEL_ba70e02ea41d47bfb2515d8d45e36581",
            "value": " 1/1 [00:01&lt;00:00,  1.74s/it]"
          }
        },
        "f140827813384eb89a4f027faadd73b2": {
          "model_module": "@jupyter-widgets/base",
          "model_name": "LayoutModel",
          "model_module_version": "1.2.0",
          "state": {
            "_model_module": "@jupyter-widgets/base",
            "_model_module_version": "1.2.0",
            "_model_name": "LayoutModel",
            "_view_count": null,
            "_view_module": "@jupyter-widgets/base",
            "_view_module_version": "1.2.0",
            "_view_name": "LayoutView",
            "align_content": null,
            "align_items": null,
            "align_self": null,
            "border": null,
            "bottom": null,
            "display": null,
            "flex": null,
            "flex_flow": null,
            "grid_area": null,
            "grid_auto_columns": null,
            "grid_auto_flow": null,
            "grid_auto_rows": null,
            "grid_column": null,
            "grid_gap": null,
            "grid_row": null,
            "grid_template_areas": null,
            "grid_template_columns": null,
            "grid_template_rows": null,
            "height": null,
            "justify_content": null,
            "justify_items": null,
            "left": null,
            "margin": null,
            "max_height": null,
            "max_width": null,
            "min_height": null,
            "min_width": null,
            "object_fit": null,
            "object_position": null,
            "order": null,
            "overflow": null,
            "overflow_x": null,
            "overflow_y": null,
            "padding": null,
            "right": null,
            "top": null,
            "visibility": null,
            "width": null
          }
        },
        "52692b56b8a6492b9438012f17cf661c": {
          "model_module": "@jupyter-widgets/base",
          "model_name": "LayoutModel",
          "model_module_version": "1.2.0",
          "state": {
            "_model_module": "@jupyter-widgets/base",
            "_model_module_version": "1.2.0",
            "_model_name": "LayoutModel",
            "_view_count": null,
            "_view_module": "@jupyter-widgets/base",
            "_view_module_version": "1.2.0",
            "_view_name": "LayoutView",
            "align_content": null,
            "align_items": null,
            "align_self": null,
            "border": null,
            "bottom": null,
            "display": null,
            "flex": null,
            "flex_flow": null,
            "grid_area": null,
            "grid_auto_columns": null,
            "grid_auto_flow": null,
            "grid_auto_rows": null,
            "grid_column": null,
            "grid_gap": null,
            "grid_row": null,
            "grid_template_areas": null,
            "grid_template_columns": null,
            "grid_template_rows": null,
            "height": null,
            "justify_content": null,
            "justify_items": null,
            "left": null,
            "margin": null,
            "max_height": null,
            "max_width": null,
            "min_height": null,
            "min_width": null,
            "object_fit": null,
            "object_position": null,
            "order": null,
            "overflow": null,
            "overflow_x": null,
            "overflow_y": null,
            "padding": null,
            "right": null,
            "top": null,
            "visibility": null,
            "width": null
          }
        },
        "29702a3e188744d0b79432324dd3d4dd": {
          "model_module": "@jupyter-widgets/controls",
          "model_name": "DescriptionStyleModel",
          "model_module_version": "1.5.0",
          "state": {
            "_model_module": "@jupyter-widgets/controls",
            "_model_module_version": "1.5.0",
            "_model_name": "DescriptionStyleModel",
            "_view_count": null,
            "_view_module": "@jupyter-widgets/base",
            "_view_module_version": "1.2.0",
            "_view_name": "StyleView",
            "description_width": ""
          }
        },
        "4f84dd9ecff547c09d6acfe0a5c539a5": {
          "model_module": "@jupyter-widgets/base",
          "model_name": "LayoutModel",
          "model_module_version": "1.2.0",
          "state": {
            "_model_module": "@jupyter-widgets/base",
            "_model_module_version": "1.2.0",
            "_model_name": "LayoutModel",
            "_view_count": null,
            "_view_module": "@jupyter-widgets/base",
            "_view_module_version": "1.2.0",
            "_view_name": "LayoutView",
            "align_content": null,
            "align_items": null,
            "align_self": null,
            "border": null,
            "bottom": null,
            "display": null,
            "flex": null,
            "flex_flow": null,
            "grid_area": null,
            "grid_auto_columns": null,
            "grid_auto_flow": null,
            "grid_auto_rows": null,
            "grid_column": null,
            "grid_gap": null,
            "grid_row": null,
            "grid_template_areas": null,
            "grid_template_columns": null,
            "grid_template_rows": null,
            "height": null,
            "justify_content": null,
            "justify_items": null,
            "left": null,
            "margin": null,
            "max_height": null,
            "max_width": null,
            "min_height": null,
            "min_width": null,
            "object_fit": null,
            "object_position": null,
            "order": null,
            "overflow": null,
            "overflow_x": null,
            "overflow_y": null,
            "padding": null,
            "right": null,
            "top": null,
            "visibility": null,
            "width": null
          }
        },
        "1e32937b1f8c45d2ae1ba7458eb4aa06": {
          "model_module": "@jupyter-widgets/controls",
          "model_name": "ProgressStyleModel",
          "model_module_version": "1.5.0",
          "state": {
            "_model_module": "@jupyter-widgets/controls",
            "_model_module_version": "1.5.0",
            "_model_name": "ProgressStyleModel",
            "_view_count": null,
            "_view_module": "@jupyter-widgets/base",
            "_view_module_version": "1.2.0",
            "_view_name": "StyleView",
            "bar_color": null,
            "description_width": ""
          }
        },
        "7bee90b873ea4de889aef1b473ec9bb2": {
          "model_module": "@jupyter-widgets/base",
          "model_name": "LayoutModel",
          "model_module_version": "1.2.0",
          "state": {
            "_model_module": "@jupyter-widgets/base",
            "_model_module_version": "1.2.0",
            "_model_name": "LayoutModel",
            "_view_count": null,
            "_view_module": "@jupyter-widgets/base",
            "_view_module_version": "1.2.0",
            "_view_name": "LayoutView",
            "align_content": null,
            "align_items": null,
            "align_self": null,
            "border": null,
            "bottom": null,
            "display": null,
            "flex": null,
            "flex_flow": null,
            "grid_area": null,
            "grid_auto_columns": null,
            "grid_auto_flow": null,
            "grid_auto_rows": null,
            "grid_column": null,
            "grid_gap": null,
            "grid_row": null,
            "grid_template_areas": null,
            "grid_template_columns": null,
            "grid_template_rows": null,
            "height": null,
            "justify_content": null,
            "justify_items": null,
            "left": null,
            "margin": null,
            "max_height": null,
            "max_width": null,
            "min_height": null,
            "min_width": null,
            "object_fit": null,
            "object_position": null,
            "order": null,
            "overflow": null,
            "overflow_x": null,
            "overflow_y": null,
            "padding": null,
            "right": null,
            "top": null,
            "visibility": null,
            "width": null
          }
        },
        "ba70e02ea41d47bfb2515d8d45e36581": {
          "model_module": "@jupyter-widgets/controls",
          "model_name": "DescriptionStyleModel",
          "model_module_version": "1.5.0",
          "state": {
            "_model_module": "@jupyter-widgets/controls",
            "_model_module_version": "1.5.0",
            "_model_name": "DescriptionStyleModel",
            "_view_count": null,
            "_view_module": "@jupyter-widgets/base",
            "_view_module_version": "1.2.0",
            "_view_name": "StyleView",
            "description_width": ""
          }
        },
        "8df64f6427e84f36a40d8d667c2cd541": {
          "model_module": "@jupyter-widgets/controls",
          "model_name": "HBoxModel",
          "model_module_version": "1.5.0",
          "state": {
            "_dom_classes": [],
            "_model_module": "@jupyter-widgets/controls",
            "_model_module_version": "1.5.0",
            "_model_name": "HBoxModel",
            "_view_count": null,
            "_view_module": "@jupyter-widgets/controls",
            "_view_module_version": "1.5.0",
            "_view_name": "HBoxView",
            "box_style": "",
            "children": [
              "IPY_MODEL_cf61e5166de348868fa7228131574bf1",
              "IPY_MODEL_dcbb9a5face04fc282562764aa090041",
              "IPY_MODEL_2908ec1514bf436ab52cfe1b55e3c4b4"
            ],
            "layout": "IPY_MODEL_715a1c26dc75498e9d1ade854488ab99"
          }
        },
        "cf61e5166de348868fa7228131574bf1": {
          "model_module": "@jupyter-widgets/controls",
          "model_name": "HTMLModel",
          "model_module_version": "1.5.0",
          "state": {
            "_dom_classes": [],
            "_model_module": "@jupyter-widgets/controls",
            "_model_module_version": "1.5.0",
            "_model_name": "HTMLModel",
            "_view_count": null,
            "_view_module": "@jupyter-widgets/controls",
            "_view_module_version": "1.5.0",
            "_view_name": "HTMLView",
            "description": "",
            "description_tooltip": null,
            "layout": "IPY_MODEL_cc9237771e4a449aa04f037a12306011",
            "placeholder": "​",
            "style": "IPY_MODEL_220b256e9d09466ca4bf37a2c44e5633",
            "value": "Generating train split: "
          }
        },
        "dcbb9a5face04fc282562764aa090041": {
          "model_module": "@jupyter-widgets/controls",
          "model_name": "FloatProgressModel",
          "model_module_version": "1.5.0",
          "state": {
            "_dom_classes": [],
            "_model_module": "@jupyter-widgets/controls",
            "_model_module_version": "1.5.0",
            "_model_name": "FloatProgressModel",
            "_view_count": null,
            "_view_module": "@jupyter-widgets/controls",
            "_view_module_version": "1.5.0",
            "_view_name": "ProgressView",
            "bar_style": "success",
            "description": "",
            "description_tooltip": null,
            "layout": "IPY_MODEL_561d2a5b78c34ee692834d4bc7944ae2",
            "max": 1,
            "min": 0,
            "orientation": "horizontal",
            "style": "IPY_MODEL_7888a92c52f640ad958dedaa89b36a71",
            "value": 1
          }
        },
        "2908ec1514bf436ab52cfe1b55e3c4b4": {
          "model_module": "@jupyter-widgets/controls",
          "model_name": "HTMLModel",
          "model_module_version": "1.5.0",
          "state": {
            "_dom_classes": [],
            "_model_module": "@jupyter-widgets/controls",
            "_model_module_version": "1.5.0",
            "_model_name": "HTMLModel",
            "_view_count": null,
            "_view_module": "@jupyter-widgets/controls",
            "_view_module_version": "1.5.0",
            "_view_name": "HTMLView",
            "description": "",
            "description_tooltip": null,
            "layout": "IPY_MODEL_5f7b3c9cc6ac4c2ebf5e12c97cf1141e",
            "placeholder": "​",
            "style": "IPY_MODEL_d7ff59f3bcba4fc692c875dfa5dcb85d",
            "value": " 188878/0 [00:10&lt;00:00, 17947.20 examples/s]"
          }
        },
        "715a1c26dc75498e9d1ade854488ab99": {
          "model_module": "@jupyter-widgets/base",
          "model_name": "LayoutModel",
          "model_module_version": "1.2.0",
          "state": {
            "_model_module": "@jupyter-widgets/base",
            "_model_module_version": "1.2.0",
            "_model_name": "LayoutModel",
            "_view_count": null,
            "_view_module": "@jupyter-widgets/base",
            "_view_module_version": "1.2.0",
            "_view_name": "LayoutView",
            "align_content": null,
            "align_items": null,
            "align_self": null,
            "border": null,
            "bottom": null,
            "display": null,
            "flex": null,
            "flex_flow": null,
            "grid_area": null,
            "grid_auto_columns": null,
            "grid_auto_flow": null,
            "grid_auto_rows": null,
            "grid_column": null,
            "grid_gap": null,
            "grid_row": null,
            "grid_template_areas": null,
            "grid_template_columns": null,
            "grid_template_rows": null,
            "height": null,
            "justify_content": null,
            "justify_items": null,
            "left": null,
            "margin": null,
            "max_height": null,
            "max_width": null,
            "min_height": null,
            "min_width": null,
            "object_fit": null,
            "object_position": null,
            "order": null,
            "overflow": null,
            "overflow_x": null,
            "overflow_y": null,
            "padding": null,
            "right": null,
            "top": null,
            "visibility": null,
            "width": null
          }
        },
        "cc9237771e4a449aa04f037a12306011": {
          "model_module": "@jupyter-widgets/base",
          "model_name": "LayoutModel",
          "model_module_version": "1.2.0",
          "state": {
            "_model_module": "@jupyter-widgets/base",
            "_model_module_version": "1.2.0",
            "_model_name": "LayoutModel",
            "_view_count": null,
            "_view_module": "@jupyter-widgets/base",
            "_view_module_version": "1.2.0",
            "_view_name": "LayoutView",
            "align_content": null,
            "align_items": null,
            "align_self": null,
            "border": null,
            "bottom": null,
            "display": null,
            "flex": null,
            "flex_flow": null,
            "grid_area": null,
            "grid_auto_columns": null,
            "grid_auto_flow": null,
            "grid_auto_rows": null,
            "grid_column": null,
            "grid_gap": null,
            "grid_row": null,
            "grid_template_areas": null,
            "grid_template_columns": null,
            "grid_template_rows": null,
            "height": null,
            "justify_content": null,
            "justify_items": null,
            "left": null,
            "margin": null,
            "max_height": null,
            "max_width": null,
            "min_height": null,
            "min_width": null,
            "object_fit": null,
            "object_position": null,
            "order": null,
            "overflow": null,
            "overflow_x": null,
            "overflow_y": null,
            "padding": null,
            "right": null,
            "top": null,
            "visibility": null,
            "width": null
          }
        },
        "220b256e9d09466ca4bf37a2c44e5633": {
          "model_module": "@jupyter-widgets/controls",
          "model_name": "DescriptionStyleModel",
          "model_module_version": "1.5.0",
          "state": {
            "_model_module": "@jupyter-widgets/controls",
            "_model_module_version": "1.5.0",
            "_model_name": "DescriptionStyleModel",
            "_view_count": null,
            "_view_module": "@jupyter-widgets/base",
            "_view_module_version": "1.2.0",
            "_view_name": "StyleView",
            "description_width": ""
          }
        },
        "561d2a5b78c34ee692834d4bc7944ae2": {
          "model_module": "@jupyter-widgets/base",
          "model_name": "LayoutModel",
          "model_module_version": "1.2.0",
          "state": {
            "_model_module": "@jupyter-widgets/base",
            "_model_module_version": "1.2.0",
            "_model_name": "LayoutModel",
            "_view_count": null,
            "_view_module": "@jupyter-widgets/base",
            "_view_module_version": "1.2.0",
            "_view_name": "LayoutView",
            "align_content": null,
            "align_items": null,
            "align_self": null,
            "border": null,
            "bottom": null,
            "display": null,
            "flex": null,
            "flex_flow": null,
            "grid_area": null,
            "grid_auto_columns": null,
            "grid_auto_flow": null,
            "grid_auto_rows": null,
            "grid_column": null,
            "grid_gap": null,
            "grid_row": null,
            "grid_template_areas": null,
            "grid_template_columns": null,
            "grid_template_rows": null,
            "height": null,
            "justify_content": null,
            "justify_items": null,
            "left": null,
            "margin": null,
            "max_height": null,
            "max_width": null,
            "min_height": null,
            "min_width": null,
            "object_fit": null,
            "object_position": null,
            "order": null,
            "overflow": null,
            "overflow_x": null,
            "overflow_y": null,
            "padding": null,
            "right": null,
            "top": null,
            "visibility": null,
            "width": "20px"
          }
        },
        "7888a92c52f640ad958dedaa89b36a71": {
          "model_module": "@jupyter-widgets/controls",
          "model_name": "ProgressStyleModel",
          "model_module_version": "1.5.0",
          "state": {
            "_model_module": "@jupyter-widgets/controls",
            "_model_module_version": "1.5.0",
            "_model_name": "ProgressStyleModel",
            "_view_count": null,
            "_view_module": "@jupyter-widgets/base",
            "_view_module_version": "1.2.0",
            "_view_name": "StyleView",
            "bar_color": null,
            "description_width": ""
          }
        },
        "5f7b3c9cc6ac4c2ebf5e12c97cf1141e": {
          "model_module": "@jupyter-widgets/base",
          "model_name": "LayoutModel",
          "model_module_version": "1.2.0",
          "state": {
            "_model_module": "@jupyter-widgets/base",
            "_model_module_version": "1.2.0",
            "_model_name": "LayoutModel",
            "_view_count": null,
            "_view_module": "@jupyter-widgets/base",
            "_view_module_version": "1.2.0",
            "_view_name": "LayoutView",
            "align_content": null,
            "align_items": null,
            "align_self": null,
            "border": null,
            "bottom": null,
            "display": null,
            "flex": null,
            "flex_flow": null,
            "grid_area": null,
            "grid_auto_columns": null,
            "grid_auto_flow": null,
            "grid_auto_rows": null,
            "grid_column": null,
            "grid_gap": null,
            "grid_row": null,
            "grid_template_areas": null,
            "grid_template_columns": null,
            "grid_template_rows": null,
            "height": null,
            "justify_content": null,
            "justify_items": null,
            "left": null,
            "margin": null,
            "max_height": null,
            "max_width": null,
            "min_height": null,
            "min_width": null,
            "object_fit": null,
            "object_position": null,
            "order": null,
            "overflow": null,
            "overflow_x": null,
            "overflow_y": null,
            "padding": null,
            "right": null,
            "top": null,
            "visibility": null,
            "width": null
          }
        },
        "d7ff59f3bcba4fc692c875dfa5dcb85d": {
          "model_module": "@jupyter-widgets/controls",
          "model_name": "DescriptionStyleModel",
          "model_module_version": "1.5.0",
          "state": {
            "_model_module": "@jupyter-widgets/controls",
            "_model_module_version": "1.5.0",
            "_model_name": "DescriptionStyleModel",
            "_view_count": null,
            "_view_module": "@jupyter-widgets/base",
            "_view_module_version": "1.2.0",
            "_view_name": "StyleView",
            "description_width": ""
          }
        },
        "031f39f9abfe47149f4cdd014dcc9031": {
          "model_module": "@jupyter-widgets/controls",
          "model_name": "HBoxModel",
          "model_module_version": "1.5.0",
          "state": {
            "_dom_classes": [],
            "_model_module": "@jupyter-widgets/controls",
            "_model_module_version": "1.5.0",
            "_model_name": "HBoxModel",
            "_view_count": null,
            "_view_module": "@jupyter-widgets/controls",
            "_view_module_version": "1.5.0",
            "_view_name": "HBoxView",
            "box_style": "",
            "children": [
              "IPY_MODEL_6646dd0260634857bb34bddfff13124f",
              "IPY_MODEL_f7444d63094f46b1906c7e07561efccb",
              "IPY_MODEL_c2186aa5a0bd4e12b52641dcc801873f"
            ],
            "layout": "IPY_MODEL_2cbfed14bfc74e4f8d953336d0c94e9a"
          }
        },
        "6646dd0260634857bb34bddfff13124f": {
          "model_module": "@jupyter-widgets/controls",
          "model_name": "HTMLModel",
          "model_module_version": "1.5.0",
          "state": {
            "_dom_classes": [],
            "_model_module": "@jupyter-widgets/controls",
            "_model_module_version": "1.5.0",
            "_model_name": "HTMLModel",
            "_view_count": null,
            "_view_module": "@jupyter-widgets/controls",
            "_view_module_version": "1.5.0",
            "_view_name": "HTMLView",
            "description": "",
            "description_tooltip": null,
            "layout": "IPY_MODEL_773646f739e54c90be5a312e72572b73",
            "placeholder": "​",
            "style": "IPY_MODEL_c74ff63c292744b5b7f35019a12e1d0d",
            "value": "Filter: 100%"
          }
        },
        "f7444d63094f46b1906c7e07561efccb": {
          "model_module": "@jupyter-widgets/controls",
          "model_name": "FloatProgressModel",
          "model_module_version": "1.5.0",
          "state": {
            "_dom_classes": [],
            "_model_module": "@jupyter-widgets/controls",
            "_model_module_version": "1.5.0",
            "_model_name": "FloatProgressModel",
            "_view_count": null,
            "_view_module": "@jupyter-widgets/controls",
            "_view_module_version": "1.5.0",
            "_view_name": "ProgressView",
            "bar_style": "success",
            "description": "",
            "description_tooltip": null,
            "layout": "IPY_MODEL_0dac487ce35e4321a61d756d59d63380",
            "max": 188878,
            "min": 0,
            "orientation": "horizontal",
            "style": "IPY_MODEL_466add4312d2426198f52543ebaecaf5",
            "value": 188878
          }
        },
        "c2186aa5a0bd4e12b52641dcc801873f": {
          "model_module": "@jupyter-widgets/controls",
          "model_name": "HTMLModel",
          "model_module_version": "1.5.0",
          "state": {
            "_dom_classes": [],
            "_model_module": "@jupyter-widgets/controls",
            "_model_module_version": "1.5.0",
            "_model_name": "HTMLModel",
            "_view_count": null,
            "_view_module": "@jupyter-widgets/controls",
            "_view_module_version": "1.5.0",
            "_view_name": "HTMLView",
            "description": "",
            "description_tooltip": null,
            "layout": "IPY_MODEL_de92886f5abc4d3db1ebe44fb70846a7",
            "placeholder": "​",
            "style": "IPY_MODEL_b1b0694b0ce649dfaafceb3b0dfaf7d0",
            "value": " 188878/188878 [00:01&lt;00:00, 102515.00 examples/s]"
          }
        },
        "2cbfed14bfc74e4f8d953336d0c94e9a": {
          "model_module": "@jupyter-widgets/base",
          "model_name": "LayoutModel",
          "model_module_version": "1.2.0",
          "state": {
            "_model_module": "@jupyter-widgets/base",
            "_model_module_version": "1.2.0",
            "_model_name": "LayoutModel",
            "_view_count": null,
            "_view_module": "@jupyter-widgets/base",
            "_view_module_version": "1.2.0",
            "_view_name": "LayoutView",
            "align_content": null,
            "align_items": null,
            "align_self": null,
            "border": null,
            "bottom": null,
            "display": null,
            "flex": null,
            "flex_flow": null,
            "grid_area": null,
            "grid_auto_columns": null,
            "grid_auto_flow": null,
            "grid_auto_rows": null,
            "grid_column": null,
            "grid_gap": null,
            "grid_row": null,
            "grid_template_areas": null,
            "grid_template_columns": null,
            "grid_template_rows": null,
            "height": null,
            "justify_content": null,
            "justify_items": null,
            "left": null,
            "margin": null,
            "max_height": null,
            "max_width": null,
            "min_height": null,
            "min_width": null,
            "object_fit": null,
            "object_position": null,
            "order": null,
            "overflow": null,
            "overflow_x": null,
            "overflow_y": null,
            "padding": null,
            "right": null,
            "top": null,
            "visibility": null,
            "width": null
          }
        },
        "773646f739e54c90be5a312e72572b73": {
          "model_module": "@jupyter-widgets/base",
          "model_name": "LayoutModel",
          "model_module_version": "1.2.0",
          "state": {
            "_model_module": "@jupyter-widgets/base",
            "_model_module_version": "1.2.0",
            "_model_name": "LayoutModel",
            "_view_count": null,
            "_view_module": "@jupyter-widgets/base",
            "_view_module_version": "1.2.0",
            "_view_name": "LayoutView",
            "align_content": null,
            "align_items": null,
            "align_self": null,
            "border": null,
            "bottom": null,
            "display": null,
            "flex": null,
            "flex_flow": null,
            "grid_area": null,
            "grid_auto_columns": null,
            "grid_auto_flow": null,
            "grid_auto_rows": null,
            "grid_column": null,
            "grid_gap": null,
            "grid_row": null,
            "grid_template_areas": null,
            "grid_template_columns": null,
            "grid_template_rows": null,
            "height": null,
            "justify_content": null,
            "justify_items": null,
            "left": null,
            "margin": null,
            "max_height": null,
            "max_width": null,
            "min_height": null,
            "min_width": null,
            "object_fit": null,
            "object_position": null,
            "order": null,
            "overflow": null,
            "overflow_x": null,
            "overflow_y": null,
            "padding": null,
            "right": null,
            "top": null,
            "visibility": null,
            "width": null
          }
        },
        "c74ff63c292744b5b7f35019a12e1d0d": {
          "model_module": "@jupyter-widgets/controls",
          "model_name": "DescriptionStyleModel",
          "model_module_version": "1.5.0",
          "state": {
            "_model_module": "@jupyter-widgets/controls",
            "_model_module_version": "1.5.0",
            "_model_name": "DescriptionStyleModel",
            "_view_count": null,
            "_view_module": "@jupyter-widgets/base",
            "_view_module_version": "1.2.0",
            "_view_name": "StyleView",
            "description_width": ""
          }
        },
        "0dac487ce35e4321a61d756d59d63380": {
          "model_module": "@jupyter-widgets/base",
          "model_name": "LayoutModel",
          "model_module_version": "1.2.0",
          "state": {
            "_model_module": "@jupyter-widgets/base",
            "_model_module_version": "1.2.0",
            "_model_name": "LayoutModel",
            "_view_count": null,
            "_view_module": "@jupyter-widgets/base",
            "_view_module_version": "1.2.0",
            "_view_name": "LayoutView",
            "align_content": null,
            "align_items": null,
            "align_self": null,
            "border": null,
            "bottom": null,
            "display": null,
            "flex": null,
            "flex_flow": null,
            "grid_area": null,
            "grid_auto_columns": null,
            "grid_auto_flow": null,
            "grid_auto_rows": null,
            "grid_column": null,
            "grid_gap": null,
            "grid_row": null,
            "grid_template_areas": null,
            "grid_template_columns": null,
            "grid_template_rows": null,
            "height": null,
            "justify_content": null,
            "justify_items": null,
            "left": null,
            "margin": null,
            "max_height": null,
            "max_width": null,
            "min_height": null,
            "min_width": null,
            "object_fit": null,
            "object_position": null,
            "order": null,
            "overflow": null,
            "overflow_x": null,
            "overflow_y": null,
            "padding": null,
            "right": null,
            "top": null,
            "visibility": null,
            "width": null
          }
        },
        "466add4312d2426198f52543ebaecaf5": {
          "model_module": "@jupyter-widgets/controls",
          "model_name": "ProgressStyleModel",
          "model_module_version": "1.5.0",
          "state": {
            "_model_module": "@jupyter-widgets/controls",
            "_model_module_version": "1.5.0",
            "_model_name": "ProgressStyleModel",
            "_view_count": null,
            "_view_module": "@jupyter-widgets/base",
            "_view_module_version": "1.2.0",
            "_view_name": "StyleView",
            "bar_color": null,
            "description_width": ""
          }
        },
        "de92886f5abc4d3db1ebe44fb70846a7": {
          "model_module": "@jupyter-widgets/base",
          "model_name": "LayoutModel",
          "model_module_version": "1.2.0",
          "state": {
            "_model_module": "@jupyter-widgets/base",
            "_model_module_version": "1.2.0",
            "_model_name": "LayoutModel",
            "_view_count": null,
            "_view_module": "@jupyter-widgets/base",
            "_view_module_version": "1.2.0",
            "_view_name": "LayoutView",
            "align_content": null,
            "align_items": null,
            "align_self": null,
            "border": null,
            "bottom": null,
            "display": null,
            "flex": null,
            "flex_flow": null,
            "grid_area": null,
            "grid_auto_columns": null,
            "grid_auto_flow": null,
            "grid_auto_rows": null,
            "grid_column": null,
            "grid_gap": null,
            "grid_row": null,
            "grid_template_areas": null,
            "grid_template_columns": null,
            "grid_template_rows": null,
            "height": null,
            "justify_content": null,
            "justify_items": null,
            "left": null,
            "margin": null,
            "max_height": null,
            "max_width": null,
            "min_height": null,
            "min_width": null,
            "object_fit": null,
            "object_position": null,
            "order": null,
            "overflow": null,
            "overflow_x": null,
            "overflow_y": null,
            "padding": null,
            "right": null,
            "top": null,
            "visibility": null,
            "width": null
          }
        },
        "b1b0694b0ce649dfaafceb3b0dfaf7d0": {
          "model_module": "@jupyter-widgets/controls",
          "model_name": "DescriptionStyleModel",
          "model_module_version": "1.5.0",
          "state": {
            "_model_module": "@jupyter-widgets/controls",
            "_model_module_version": "1.5.0",
            "_model_name": "DescriptionStyleModel",
            "_view_count": null,
            "_view_module": "@jupyter-widgets/base",
            "_view_module_version": "1.2.0",
            "_view_name": "StyleView",
            "description_width": ""
          }
        },
        "4651865dea154ddf9e2237d544a70216": {
          "model_module": "@jupyter-widgets/controls",
          "model_name": "HBoxModel",
          "model_module_version": "1.5.0",
          "state": {
            "_dom_classes": [],
            "_model_module": "@jupyter-widgets/controls",
            "_model_module_version": "1.5.0",
            "_model_name": "HBoxModel",
            "_view_count": null,
            "_view_module": "@jupyter-widgets/controls",
            "_view_module_version": "1.5.0",
            "_view_name": "HBoxView",
            "box_style": "",
            "children": [
              "IPY_MODEL_3a0936f97e40499aacb47c4ec8eadbac",
              "IPY_MODEL_d3d2a6350ef44806aaa911a71b2d9243",
              "IPY_MODEL_434e2ad2eb214793b5cf963a6c6829ad"
            ],
            "layout": "IPY_MODEL_5948e76eff3d4ca59effe66913a15538"
          }
        },
        "3a0936f97e40499aacb47c4ec8eadbac": {
          "model_module": "@jupyter-widgets/controls",
          "model_name": "HTMLModel",
          "model_module_version": "1.5.0",
          "state": {
            "_dom_classes": [],
            "_model_module": "@jupyter-widgets/controls",
            "_model_module_version": "1.5.0",
            "_model_name": "HTMLModel",
            "_view_count": null,
            "_view_module": "@jupyter-widgets/controls",
            "_view_module_version": "1.5.0",
            "_view_name": "HTMLView",
            "description": "",
            "description_tooltip": null,
            "layout": "IPY_MODEL_bfe8c0bbaceb47128081e0728fefe5f6",
            "placeholder": "​",
            "style": "IPY_MODEL_9e1fc10180944f66800c965deeb39b12",
            "value": "Casting the dataset: 100%"
          }
        },
        "d3d2a6350ef44806aaa911a71b2d9243": {
          "model_module": "@jupyter-widgets/controls",
          "model_name": "FloatProgressModel",
          "model_module_version": "1.5.0",
          "state": {
            "_dom_classes": [],
            "_model_module": "@jupyter-widgets/controls",
            "_model_module_version": "1.5.0",
            "_model_name": "FloatProgressModel",
            "_view_count": null,
            "_view_module": "@jupyter-widgets/controls",
            "_view_module_version": "1.5.0",
            "_view_name": "ProgressView",
            "bar_style": "success",
            "description": "",
            "description_tooltip": null,
            "layout": "IPY_MODEL_e3f47006124e4ec18b0f63b9c1dc08a8",
            "max": 4772,
            "min": 0,
            "orientation": "horizontal",
            "style": "IPY_MODEL_8f000a5d9c834ae7ba201e829c90d0e1",
            "value": 4772
          }
        },
        "434e2ad2eb214793b5cf963a6c6829ad": {
          "model_module": "@jupyter-widgets/controls",
          "model_name": "HTMLModel",
          "model_module_version": "1.5.0",
          "state": {
            "_dom_classes": [],
            "_model_module": "@jupyter-widgets/controls",
            "_model_module_version": "1.5.0",
            "_model_name": "HTMLModel",
            "_view_count": null,
            "_view_module": "@jupyter-widgets/controls",
            "_view_module_version": "1.5.0",
            "_view_name": "HTMLView",
            "description": "",
            "description_tooltip": null,
            "layout": "IPY_MODEL_50011cf3d18d4115a7531e5e40de4889",
            "placeholder": "​",
            "style": "IPY_MODEL_1e1de2186f2c4a9bba72e46fa56461c3",
            "value": " 4772/4772 [00:00&lt;00:00, 55070.68 examples/s]"
          }
        },
        "5948e76eff3d4ca59effe66913a15538": {
          "model_module": "@jupyter-widgets/base",
          "model_name": "LayoutModel",
          "model_module_version": "1.2.0",
          "state": {
            "_model_module": "@jupyter-widgets/base",
            "_model_module_version": "1.2.0",
            "_model_name": "LayoutModel",
            "_view_count": null,
            "_view_module": "@jupyter-widgets/base",
            "_view_module_version": "1.2.0",
            "_view_name": "LayoutView",
            "align_content": null,
            "align_items": null,
            "align_self": null,
            "border": null,
            "bottom": null,
            "display": null,
            "flex": null,
            "flex_flow": null,
            "grid_area": null,
            "grid_auto_columns": null,
            "grid_auto_flow": null,
            "grid_auto_rows": null,
            "grid_column": null,
            "grid_gap": null,
            "grid_row": null,
            "grid_template_areas": null,
            "grid_template_columns": null,
            "grid_template_rows": null,
            "height": null,
            "justify_content": null,
            "justify_items": null,
            "left": null,
            "margin": null,
            "max_height": null,
            "max_width": null,
            "min_height": null,
            "min_width": null,
            "object_fit": null,
            "object_position": null,
            "order": null,
            "overflow": null,
            "overflow_x": null,
            "overflow_y": null,
            "padding": null,
            "right": null,
            "top": null,
            "visibility": null,
            "width": null
          }
        },
        "bfe8c0bbaceb47128081e0728fefe5f6": {
          "model_module": "@jupyter-widgets/base",
          "model_name": "LayoutModel",
          "model_module_version": "1.2.0",
          "state": {
            "_model_module": "@jupyter-widgets/base",
            "_model_module_version": "1.2.0",
            "_model_name": "LayoutModel",
            "_view_count": null,
            "_view_module": "@jupyter-widgets/base",
            "_view_module_version": "1.2.0",
            "_view_name": "LayoutView",
            "align_content": null,
            "align_items": null,
            "align_self": null,
            "border": null,
            "bottom": null,
            "display": null,
            "flex": null,
            "flex_flow": null,
            "grid_area": null,
            "grid_auto_columns": null,
            "grid_auto_flow": null,
            "grid_auto_rows": null,
            "grid_column": null,
            "grid_gap": null,
            "grid_row": null,
            "grid_template_areas": null,
            "grid_template_columns": null,
            "grid_template_rows": null,
            "height": null,
            "justify_content": null,
            "justify_items": null,
            "left": null,
            "margin": null,
            "max_height": null,
            "max_width": null,
            "min_height": null,
            "min_width": null,
            "object_fit": null,
            "object_position": null,
            "order": null,
            "overflow": null,
            "overflow_x": null,
            "overflow_y": null,
            "padding": null,
            "right": null,
            "top": null,
            "visibility": null,
            "width": null
          }
        },
        "9e1fc10180944f66800c965deeb39b12": {
          "model_module": "@jupyter-widgets/controls",
          "model_name": "DescriptionStyleModel",
          "model_module_version": "1.5.0",
          "state": {
            "_model_module": "@jupyter-widgets/controls",
            "_model_module_version": "1.5.0",
            "_model_name": "DescriptionStyleModel",
            "_view_count": null,
            "_view_module": "@jupyter-widgets/base",
            "_view_module_version": "1.2.0",
            "_view_name": "StyleView",
            "description_width": ""
          }
        },
        "e3f47006124e4ec18b0f63b9c1dc08a8": {
          "model_module": "@jupyter-widgets/base",
          "model_name": "LayoutModel",
          "model_module_version": "1.2.0",
          "state": {
            "_model_module": "@jupyter-widgets/base",
            "_model_module_version": "1.2.0",
            "_model_name": "LayoutModel",
            "_view_count": null,
            "_view_module": "@jupyter-widgets/base",
            "_view_module_version": "1.2.0",
            "_view_name": "LayoutView",
            "align_content": null,
            "align_items": null,
            "align_self": null,
            "border": null,
            "bottom": null,
            "display": null,
            "flex": null,
            "flex_flow": null,
            "grid_area": null,
            "grid_auto_columns": null,
            "grid_auto_flow": null,
            "grid_auto_rows": null,
            "grid_column": null,
            "grid_gap": null,
            "grid_row": null,
            "grid_template_areas": null,
            "grid_template_columns": null,
            "grid_template_rows": null,
            "height": null,
            "justify_content": null,
            "justify_items": null,
            "left": null,
            "margin": null,
            "max_height": null,
            "max_width": null,
            "min_height": null,
            "min_width": null,
            "object_fit": null,
            "object_position": null,
            "order": null,
            "overflow": null,
            "overflow_x": null,
            "overflow_y": null,
            "padding": null,
            "right": null,
            "top": null,
            "visibility": null,
            "width": null
          }
        },
        "8f000a5d9c834ae7ba201e829c90d0e1": {
          "model_module": "@jupyter-widgets/controls",
          "model_name": "ProgressStyleModel",
          "model_module_version": "1.5.0",
          "state": {
            "_model_module": "@jupyter-widgets/controls",
            "_model_module_version": "1.5.0",
            "_model_name": "ProgressStyleModel",
            "_view_count": null,
            "_view_module": "@jupyter-widgets/base",
            "_view_module_version": "1.2.0",
            "_view_name": "StyleView",
            "bar_color": null,
            "description_width": ""
          }
        },
        "50011cf3d18d4115a7531e5e40de4889": {
          "model_module": "@jupyter-widgets/base",
          "model_name": "LayoutModel",
          "model_module_version": "1.2.0",
          "state": {
            "_model_module": "@jupyter-widgets/base",
            "_model_module_version": "1.2.0",
            "_model_name": "LayoutModel",
            "_view_count": null,
            "_view_module": "@jupyter-widgets/base",
            "_view_module_version": "1.2.0",
            "_view_name": "LayoutView",
            "align_content": null,
            "align_items": null,
            "align_self": null,
            "border": null,
            "bottom": null,
            "display": null,
            "flex": null,
            "flex_flow": null,
            "grid_area": null,
            "grid_auto_columns": null,
            "grid_auto_flow": null,
            "grid_auto_rows": null,
            "grid_column": null,
            "grid_gap": null,
            "grid_row": null,
            "grid_template_areas": null,
            "grid_template_columns": null,
            "grid_template_rows": null,
            "height": null,
            "justify_content": null,
            "justify_items": null,
            "left": null,
            "margin": null,
            "max_height": null,
            "max_width": null,
            "min_height": null,
            "min_width": null,
            "object_fit": null,
            "object_position": null,
            "order": null,
            "overflow": null,
            "overflow_x": null,
            "overflow_y": null,
            "padding": null,
            "right": null,
            "top": null,
            "visibility": null,
            "width": null
          }
        },
        "1e1de2186f2c4a9bba72e46fa56461c3": {
          "model_module": "@jupyter-widgets/controls",
          "model_name": "DescriptionStyleModel",
          "model_module_version": "1.5.0",
          "state": {
            "_model_module": "@jupyter-widgets/controls",
            "_model_module_version": "1.5.0",
            "_model_name": "DescriptionStyleModel",
            "_view_count": null,
            "_view_module": "@jupyter-widgets/base",
            "_view_module_version": "1.2.0",
            "_view_name": "StyleView",
            "description_width": ""
          }
        },
        "cd40569436314bd49a61cca0bca72883": {
          "model_module": "@jupyter-widgets/controls",
          "model_name": "HBoxModel",
          "model_module_version": "1.5.0",
          "state": {
            "_dom_classes": [],
            "_model_module": "@jupyter-widgets/controls",
            "_model_module_version": "1.5.0",
            "_model_name": "HBoxModel",
            "_view_count": null,
            "_view_module": "@jupyter-widgets/controls",
            "_view_module_version": "1.5.0",
            "_view_name": "HBoxView",
            "box_style": "",
            "children": [
              "IPY_MODEL_f611781a3bfc49018524b2bf46ccde44",
              "IPY_MODEL_f0fdd59267c049bca1c145c4391defaf",
              "IPY_MODEL_3d0a67f3623a47db99295cf35277e415"
            ],
            "layout": "IPY_MODEL_1c18cc31ec7c4b1eba90012fde0f32c2"
          }
        },
        "f611781a3bfc49018524b2bf46ccde44": {
          "model_module": "@jupyter-widgets/controls",
          "model_name": "HTMLModel",
          "model_module_version": "1.5.0",
          "state": {
            "_dom_classes": [],
            "_model_module": "@jupyter-widgets/controls",
            "_model_module_version": "1.5.0",
            "_model_name": "HTMLModel",
            "_view_count": null,
            "_view_module": "@jupyter-widgets/controls",
            "_view_module_version": "1.5.0",
            "_view_name": "HTMLView",
            "description": "",
            "description_tooltip": null,
            "layout": "IPY_MODEL_e37ba1d3abc1400d96ec9d3fa18c9a37",
            "placeholder": "​",
            "style": "IPY_MODEL_cedde92081cd4e82b6dad4bbe679e169",
            "value": "Casting the dataset: 100%"
          }
        },
        "f0fdd59267c049bca1c145c4391defaf": {
          "model_module": "@jupyter-widgets/controls",
          "model_name": "FloatProgressModel",
          "model_module_version": "1.5.0",
          "state": {
            "_dom_classes": [],
            "_model_module": "@jupyter-widgets/controls",
            "_model_module_version": "1.5.0",
            "_model_name": "FloatProgressModel",
            "_view_count": null,
            "_view_module": "@jupyter-widgets/controls",
            "_view_module_version": "1.5.0",
            "_view_name": "ProgressView",
            "bar_style": "success",
            "description": "",
            "description_tooltip": null,
            "layout": "IPY_MODEL_faeed80da94048e4a348db160fb3818b",
            "max": 2863,
            "min": 0,
            "orientation": "horizontal",
            "style": "IPY_MODEL_354ecbcfc6f242bda2665f4447193f8c",
            "value": 2863
          }
        },
        "3d0a67f3623a47db99295cf35277e415": {
          "model_module": "@jupyter-widgets/controls",
          "model_name": "HTMLModel",
          "model_module_version": "1.5.0",
          "state": {
            "_dom_classes": [],
            "_model_module": "@jupyter-widgets/controls",
            "_model_module_version": "1.5.0",
            "_model_name": "HTMLModel",
            "_view_count": null,
            "_view_module": "@jupyter-widgets/controls",
            "_view_module_version": "1.5.0",
            "_view_name": "HTMLView",
            "description": "",
            "description_tooltip": null,
            "layout": "IPY_MODEL_93713c128e8a471babf08f757eb2d3da",
            "placeholder": "​",
            "style": "IPY_MODEL_3704a5352ef544d4ba61d0e13174f7c9",
            "value": " 2863/2863 [00:00&lt;00:00, 42760.77 examples/s]"
          }
        },
        "1c18cc31ec7c4b1eba90012fde0f32c2": {
          "model_module": "@jupyter-widgets/base",
          "model_name": "LayoutModel",
          "model_module_version": "1.2.0",
          "state": {
            "_model_module": "@jupyter-widgets/base",
            "_model_module_version": "1.2.0",
            "_model_name": "LayoutModel",
            "_view_count": null,
            "_view_module": "@jupyter-widgets/base",
            "_view_module_version": "1.2.0",
            "_view_name": "LayoutView",
            "align_content": null,
            "align_items": null,
            "align_self": null,
            "border": null,
            "bottom": null,
            "display": null,
            "flex": null,
            "flex_flow": null,
            "grid_area": null,
            "grid_auto_columns": null,
            "grid_auto_flow": null,
            "grid_auto_rows": null,
            "grid_column": null,
            "grid_gap": null,
            "grid_row": null,
            "grid_template_areas": null,
            "grid_template_columns": null,
            "grid_template_rows": null,
            "height": null,
            "justify_content": null,
            "justify_items": null,
            "left": null,
            "margin": null,
            "max_height": null,
            "max_width": null,
            "min_height": null,
            "min_width": null,
            "object_fit": null,
            "object_position": null,
            "order": null,
            "overflow": null,
            "overflow_x": null,
            "overflow_y": null,
            "padding": null,
            "right": null,
            "top": null,
            "visibility": null,
            "width": null
          }
        },
        "e37ba1d3abc1400d96ec9d3fa18c9a37": {
          "model_module": "@jupyter-widgets/base",
          "model_name": "LayoutModel",
          "model_module_version": "1.2.0",
          "state": {
            "_model_module": "@jupyter-widgets/base",
            "_model_module_version": "1.2.0",
            "_model_name": "LayoutModel",
            "_view_count": null,
            "_view_module": "@jupyter-widgets/base",
            "_view_module_version": "1.2.0",
            "_view_name": "LayoutView",
            "align_content": null,
            "align_items": null,
            "align_self": null,
            "border": null,
            "bottom": null,
            "display": null,
            "flex": null,
            "flex_flow": null,
            "grid_area": null,
            "grid_auto_columns": null,
            "grid_auto_flow": null,
            "grid_auto_rows": null,
            "grid_column": null,
            "grid_gap": null,
            "grid_row": null,
            "grid_template_areas": null,
            "grid_template_columns": null,
            "grid_template_rows": null,
            "height": null,
            "justify_content": null,
            "justify_items": null,
            "left": null,
            "margin": null,
            "max_height": null,
            "max_width": null,
            "min_height": null,
            "min_width": null,
            "object_fit": null,
            "object_position": null,
            "order": null,
            "overflow": null,
            "overflow_x": null,
            "overflow_y": null,
            "padding": null,
            "right": null,
            "top": null,
            "visibility": null,
            "width": null
          }
        },
        "cedde92081cd4e82b6dad4bbe679e169": {
          "model_module": "@jupyter-widgets/controls",
          "model_name": "DescriptionStyleModel",
          "model_module_version": "1.5.0",
          "state": {
            "_model_module": "@jupyter-widgets/controls",
            "_model_module_version": "1.5.0",
            "_model_name": "DescriptionStyleModel",
            "_view_count": null,
            "_view_module": "@jupyter-widgets/base",
            "_view_module_version": "1.2.0",
            "_view_name": "StyleView",
            "description_width": ""
          }
        },
        "faeed80da94048e4a348db160fb3818b": {
          "model_module": "@jupyter-widgets/base",
          "model_name": "LayoutModel",
          "model_module_version": "1.2.0",
          "state": {
            "_model_module": "@jupyter-widgets/base",
            "_model_module_version": "1.2.0",
            "_model_name": "LayoutModel",
            "_view_count": null,
            "_view_module": "@jupyter-widgets/base",
            "_view_module_version": "1.2.0",
            "_view_name": "LayoutView",
            "align_content": null,
            "align_items": null,
            "align_self": null,
            "border": null,
            "bottom": null,
            "display": null,
            "flex": null,
            "flex_flow": null,
            "grid_area": null,
            "grid_auto_columns": null,
            "grid_auto_flow": null,
            "grid_auto_rows": null,
            "grid_column": null,
            "grid_gap": null,
            "grid_row": null,
            "grid_template_areas": null,
            "grid_template_columns": null,
            "grid_template_rows": null,
            "height": null,
            "justify_content": null,
            "justify_items": null,
            "left": null,
            "margin": null,
            "max_height": null,
            "max_width": null,
            "min_height": null,
            "min_width": null,
            "object_fit": null,
            "object_position": null,
            "order": null,
            "overflow": null,
            "overflow_x": null,
            "overflow_y": null,
            "padding": null,
            "right": null,
            "top": null,
            "visibility": null,
            "width": null
          }
        },
        "354ecbcfc6f242bda2665f4447193f8c": {
          "model_module": "@jupyter-widgets/controls",
          "model_name": "ProgressStyleModel",
          "model_module_version": "1.5.0",
          "state": {
            "_model_module": "@jupyter-widgets/controls",
            "_model_module_version": "1.5.0",
            "_model_name": "ProgressStyleModel",
            "_view_count": null,
            "_view_module": "@jupyter-widgets/base",
            "_view_module_version": "1.2.0",
            "_view_name": "StyleView",
            "bar_color": null,
            "description_width": ""
          }
        },
        "93713c128e8a471babf08f757eb2d3da": {
          "model_module": "@jupyter-widgets/base",
          "model_name": "LayoutModel",
          "model_module_version": "1.2.0",
          "state": {
            "_model_module": "@jupyter-widgets/base",
            "_model_module_version": "1.2.0",
            "_model_name": "LayoutModel",
            "_view_count": null,
            "_view_module": "@jupyter-widgets/base",
            "_view_module_version": "1.2.0",
            "_view_name": "LayoutView",
            "align_content": null,
            "align_items": null,
            "align_self": null,
            "border": null,
            "bottom": null,
            "display": null,
            "flex": null,
            "flex_flow": null,
            "grid_area": null,
            "grid_auto_columns": null,
            "grid_auto_flow": null,
            "grid_auto_rows": null,
            "grid_column": null,
            "grid_gap": null,
            "grid_row": null,
            "grid_template_areas": null,
            "grid_template_columns": null,
            "grid_template_rows": null,
            "height": null,
            "justify_content": null,
            "justify_items": null,
            "left": null,
            "margin": null,
            "max_height": null,
            "max_width": null,
            "min_height": null,
            "min_width": null,
            "object_fit": null,
            "object_position": null,
            "order": null,
            "overflow": null,
            "overflow_x": null,
            "overflow_y": null,
            "padding": null,
            "right": null,
            "top": null,
            "visibility": null,
            "width": null
          }
        },
        "3704a5352ef544d4ba61d0e13174f7c9": {
          "model_module": "@jupyter-widgets/controls",
          "model_name": "DescriptionStyleModel",
          "model_module_version": "1.5.0",
          "state": {
            "_model_module": "@jupyter-widgets/controls",
            "_model_module_version": "1.5.0",
            "_model_name": "DescriptionStyleModel",
            "_view_count": null,
            "_view_module": "@jupyter-widgets/base",
            "_view_module_version": "1.2.0",
            "_view_name": "StyleView",
            "description_width": ""
          }
        },
        "6e166db0d74a4edfb76a0ebafd68adc3": {
          "model_module": "@jupyter-widgets/controls",
          "model_name": "HBoxModel",
          "model_module_version": "1.5.0",
          "state": {
            "_dom_classes": [],
            "_model_module": "@jupyter-widgets/controls",
            "_model_module_version": "1.5.0",
            "_model_name": "HBoxModel",
            "_view_count": null,
            "_view_module": "@jupyter-widgets/controls",
            "_view_module_version": "1.5.0",
            "_view_name": "HBoxView",
            "box_style": "",
            "children": [
              "IPY_MODEL_c1e02c7c7200406e83c3b98d902c44eb",
              "IPY_MODEL_0365327015af4159bf26fddd9d0f652f",
              "IPY_MODEL_748a2dcb2958492e9ca93ebd54e2f5e9"
            ],
            "layout": "IPY_MODEL_2f6b00e4d18846e092e8871d3e7045f3"
          }
        },
        "c1e02c7c7200406e83c3b98d902c44eb": {
          "model_module": "@jupyter-widgets/controls",
          "model_name": "HTMLModel",
          "model_module_version": "1.5.0",
          "state": {
            "_dom_classes": [],
            "_model_module": "@jupyter-widgets/controls",
            "_model_module_version": "1.5.0",
            "_model_name": "HTMLModel",
            "_view_count": null,
            "_view_module": "@jupyter-widgets/controls",
            "_view_module_version": "1.5.0",
            "_view_name": "HTMLView",
            "description": "",
            "description_tooltip": null,
            "layout": "IPY_MODEL_d89448c661a44c76af46aaa4275a0887",
            "placeholder": "​",
            "style": "IPY_MODEL_b707c512f58e48a99a9aae74c19a671d",
            "value": "Casting the dataset: 100%"
          }
        },
        "0365327015af4159bf26fddd9d0f652f": {
          "model_module": "@jupyter-widgets/controls",
          "model_name": "FloatProgressModel",
          "model_module_version": "1.5.0",
          "state": {
            "_dom_classes": [],
            "_model_module": "@jupyter-widgets/controls",
            "_model_module_version": "1.5.0",
            "_model_name": "FloatProgressModel",
            "_view_count": null,
            "_view_module": "@jupyter-widgets/controls",
            "_view_module_version": "1.5.0",
            "_view_name": "ProgressView",
            "bar_style": "success",
            "description": "",
            "description_tooltip": null,
            "layout": "IPY_MODEL_f09e8e2ad5284321adc53e6f7a9b4c81",
            "max": 954,
            "min": 0,
            "orientation": "horizontal",
            "style": "IPY_MODEL_3c109f79c4a24731b31bd74e22ba5e8b",
            "value": 954
          }
        },
        "748a2dcb2958492e9ca93ebd54e2f5e9": {
          "model_module": "@jupyter-widgets/controls",
          "model_name": "HTMLModel",
          "model_module_version": "1.5.0",
          "state": {
            "_dom_classes": [],
            "_model_module": "@jupyter-widgets/controls",
            "_model_module_version": "1.5.0",
            "_model_name": "HTMLModel",
            "_view_count": null,
            "_view_module": "@jupyter-widgets/controls",
            "_view_module_version": "1.5.0",
            "_view_name": "HTMLView",
            "description": "",
            "description_tooltip": null,
            "layout": "IPY_MODEL_b0a83a314b0045fe95083daaad7ced90",
            "placeholder": "​",
            "style": "IPY_MODEL_cac73647a9c3446388e1fdd1872b50d8",
            "value": " 954/954 [00:00&lt;00:00, 34646.26 examples/s]"
          }
        },
        "2f6b00e4d18846e092e8871d3e7045f3": {
          "model_module": "@jupyter-widgets/base",
          "model_name": "LayoutModel",
          "model_module_version": "1.2.0",
          "state": {
            "_model_module": "@jupyter-widgets/base",
            "_model_module_version": "1.2.0",
            "_model_name": "LayoutModel",
            "_view_count": null,
            "_view_module": "@jupyter-widgets/base",
            "_view_module_version": "1.2.0",
            "_view_name": "LayoutView",
            "align_content": null,
            "align_items": null,
            "align_self": null,
            "border": null,
            "bottom": null,
            "display": null,
            "flex": null,
            "flex_flow": null,
            "grid_area": null,
            "grid_auto_columns": null,
            "grid_auto_flow": null,
            "grid_auto_rows": null,
            "grid_column": null,
            "grid_gap": null,
            "grid_row": null,
            "grid_template_areas": null,
            "grid_template_columns": null,
            "grid_template_rows": null,
            "height": null,
            "justify_content": null,
            "justify_items": null,
            "left": null,
            "margin": null,
            "max_height": null,
            "max_width": null,
            "min_height": null,
            "min_width": null,
            "object_fit": null,
            "object_position": null,
            "order": null,
            "overflow": null,
            "overflow_x": null,
            "overflow_y": null,
            "padding": null,
            "right": null,
            "top": null,
            "visibility": null,
            "width": null
          }
        },
        "d89448c661a44c76af46aaa4275a0887": {
          "model_module": "@jupyter-widgets/base",
          "model_name": "LayoutModel",
          "model_module_version": "1.2.0",
          "state": {
            "_model_module": "@jupyter-widgets/base",
            "_model_module_version": "1.2.0",
            "_model_name": "LayoutModel",
            "_view_count": null,
            "_view_module": "@jupyter-widgets/base",
            "_view_module_version": "1.2.0",
            "_view_name": "LayoutView",
            "align_content": null,
            "align_items": null,
            "align_self": null,
            "border": null,
            "bottom": null,
            "display": null,
            "flex": null,
            "flex_flow": null,
            "grid_area": null,
            "grid_auto_columns": null,
            "grid_auto_flow": null,
            "grid_auto_rows": null,
            "grid_column": null,
            "grid_gap": null,
            "grid_row": null,
            "grid_template_areas": null,
            "grid_template_columns": null,
            "grid_template_rows": null,
            "height": null,
            "justify_content": null,
            "justify_items": null,
            "left": null,
            "margin": null,
            "max_height": null,
            "max_width": null,
            "min_height": null,
            "min_width": null,
            "object_fit": null,
            "object_position": null,
            "order": null,
            "overflow": null,
            "overflow_x": null,
            "overflow_y": null,
            "padding": null,
            "right": null,
            "top": null,
            "visibility": null,
            "width": null
          }
        },
        "b707c512f58e48a99a9aae74c19a671d": {
          "model_module": "@jupyter-widgets/controls",
          "model_name": "DescriptionStyleModel",
          "model_module_version": "1.5.0",
          "state": {
            "_model_module": "@jupyter-widgets/controls",
            "_model_module_version": "1.5.0",
            "_model_name": "DescriptionStyleModel",
            "_view_count": null,
            "_view_module": "@jupyter-widgets/base",
            "_view_module_version": "1.2.0",
            "_view_name": "StyleView",
            "description_width": ""
          }
        },
        "f09e8e2ad5284321adc53e6f7a9b4c81": {
          "model_module": "@jupyter-widgets/base",
          "model_name": "LayoutModel",
          "model_module_version": "1.2.0",
          "state": {
            "_model_module": "@jupyter-widgets/base",
            "_model_module_version": "1.2.0",
            "_model_name": "LayoutModel",
            "_view_count": null,
            "_view_module": "@jupyter-widgets/base",
            "_view_module_version": "1.2.0",
            "_view_name": "LayoutView",
            "align_content": null,
            "align_items": null,
            "align_self": null,
            "border": null,
            "bottom": null,
            "display": null,
            "flex": null,
            "flex_flow": null,
            "grid_area": null,
            "grid_auto_columns": null,
            "grid_auto_flow": null,
            "grid_auto_rows": null,
            "grid_column": null,
            "grid_gap": null,
            "grid_row": null,
            "grid_template_areas": null,
            "grid_template_columns": null,
            "grid_template_rows": null,
            "height": null,
            "justify_content": null,
            "justify_items": null,
            "left": null,
            "margin": null,
            "max_height": null,
            "max_width": null,
            "min_height": null,
            "min_width": null,
            "object_fit": null,
            "object_position": null,
            "order": null,
            "overflow": null,
            "overflow_x": null,
            "overflow_y": null,
            "padding": null,
            "right": null,
            "top": null,
            "visibility": null,
            "width": null
          }
        },
        "3c109f79c4a24731b31bd74e22ba5e8b": {
          "model_module": "@jupyter-widgets/controls",
          "model_name": "ProgressStyleModel",
          "model_module_version": "1.5.0",
          "state": {
            "_model_module": "@jupyter-widgets/controls",
            "_model_module_version": "1.5.0",
            "_model_name": "ProgressStyleModel",
            "_view_count": null,
            "_view_module": "@jupyter-widgets/base",
            "_view_module_version": "1.2.0",
            "_view_name": "StyleView",
            "bar_color": null,
            "description_width": ""
          }
        },
        "b0a83a314b0045fe95083daaad7ced90": {
          "model_module": "@jupyter-widgets/base",
          "model_name": "LayoutModel",
          "model_module_version": "1.2.0",
          "state": {
            "_model_module": "@jupyter-widgets/base",
            "_model_module_version": "1.2.0",
            "_model_name": "LayoutModel",
            "_view_count": null,
            "_view_module": "@jupyter-widgets/base",
            "_view_module_version": "1.2.0",
            "_view_name": "LayoutView",
            "align_content": null,
            "align_items": null,
            "align_self": null,
            "border": null,
            "bottom": null,
            "display": null,
            "flex": null,
            "flex_flow": null,
            "grid_area": null,
            "grid_auto_columns": null,
            "grid_auto_flow": null,
            "grid_auto_rows": null,
            "grid_column": null,
            "grid_gap": null,
            "grid_row": null,
            "grid_template_areas": null,
            "grid_template_columns": null,
            "grid_template_rows": null,
            "height": null,
            "justify_content": null,
            "justify_items": null,
            "left": null,
            "margin": null,
            "max_height": null,
            "max_width": null,
            "min_height": null,
            "min_width": null,
            "object_fit": null,
            "object_position": null,
            "order": null,
            "overflow": null,
            "overflow_x": null,
            "overflow_y": null,
            "padding": null,
            "right": null,
            "top": null,
            "visibility": null,
            "width": null
          }
        },
        "cac73647a9c3446388e1fdd1872b50d8": {
          "model_module": "@jupyter-widgets/controls",
          "model_name": "DescriptionStyleModel",
          "model_module_version": "1.5.0",
          "state": {
            "_model_module": "@jupyter-widgets/controls",
            "_model_module_version": "1.5.0",
            "_model_name": "DescriptionStyleModel",
            "_view_count": null,
            "_view_module": "@jupyter-widgets/base",
            "_view_module_version": "1.2.0",
            "_view_name": "StyleView",
            "description_width": ""
          }
        },
        "6405175924f64b3aa3c1e75659f239fd": {
          "model_module": "@jupyter-widgets/controls",
          "model_name": "HBoxModel",
          "model_module_version": "1.5.0",
          "state": {
            "_dom_classes": [],
            "_model_module": "@jupyter-widgets/controls",
            "_model_module_version": "1.5.0",
            "_model_name": "HBoxModel",
            "_view_count": null,
            "_view_module": "@jupyter-widgets/controls",
            "_view_module_version": "1.5.0",
            "_view_name": "HBoxView",
            "box_style": "",
            "children": [
              "IPY_MODEL_d3a84e5ddbc34141ab12b1335dcc6dfb",
              "IPY_MODEL_255ceba177d14d529384cd85242e446d",
              "IPY_MODEL_82b587bbd4d245709ea9b5b474c3148b"
            ],
            "layout": "IPY_MODEL_cf14d3ab7b45414a8de3bca2bc8a14a1"
          }
        },
        "d3a84e5ddbc34141ab12b1335dcc6dfb": {
          "model_module": "@jupyter-widgets/controls",
          "model_name": "HTMLModel",
          "model_module_version": "1.5.0",
          "state": {
            "_dom_classes": [],
            "_model_module": "@jupyter-widgets/controls",
            "_model_module_version": "1.5.0",
            "_model_name": "HTMLModel",
            "_view_count": null,
            "_view_module": "@jupyter-widgets/controls",
            "_view_module_version": "1.5.0",
            "_view_name": "HTMLView",
            "description": "",
            "description_tooltip": null,
            "layout": "IPY_MODEL_6f776d5739b646a4970c8a58407ff3ca",
            "placeholder": "​",
            "style": "IPY_MODEL_56f83b23570a456c9200cad07114979b",
            "value": "Downloading builder script: 100%"
          }
        },
        "255ceba177d14d529384cd85242e446d": {
          "model_module": "@jupyter-widgets/controls",
          "model_name": "FloatProgressModel",
          "model_module_version": "1.5.0",
          "state": {
            "_dom_classes": [],
            "_model_module": "@jupyter-widgets/controls",
            "_model_module_version": "1.5.0",
            "_model_name": "FloatProgressModel",
            "_view_count": null,
            "_view_module": "@jupyter-widgets/controls",
            "_view_module_version": "1.5.0",
            "_view_name": "ProgressView",
            "bar_style": "success",
            "description": "",
            "description_tooltip": null,
            "layout": "IPY_MODEL_a6795e987bb34333bb343962a3d4fb2d",
            "max": 4203,
            "min": 0,
            "orientation": "horizontal",
            "style": "IPY_MODEL_12013db0ea914728b7df353282bf83fc",
            "value": 4203
          }
        },
        "82b587bbd4d245709ea9b5b474c3148b": {
          "model_module": "@jupyter-widgets/controls",
          "model_name": "HTMLModel",
          "model_module_version": "1.5.0",
          "state": {
            "_dom_classes": [],
            "_model_module": "@jupyter-widgets/controls",
            "_model_module_version": "1.5.0",
            "_model_name": "HTMLModel",
            "_view_count": null,
            "_view_module": "@jupyter-widgets/controls",
            "_view_module_version": "1.5.0",
            "_view_name": "HTMLView",
            "description": "",
            "description_tooltip": null,
            "layout": "IPY_MODEL_9abd29a85334485d957f8a6fdb37ff70",
            "placeholder": "​",
            "style": "IPY_MODEL_fa990a442a224c93ba9f9ccd461b840d",
            "value": " 4.20k/4.20k [00:00&lt;00:00, 362kB/s]"
          }
        },
        "cf14d3ab7b45414a8de3bca2bc8a14a1": {
          "model_module": "@jupyter-widgets/base",
          "model_name": "LayoutModel",
          "model_module_version": "1.2.0",
          "state": {
            "_model_module": "@jupyter-widgets/base",
            "_model_module_version": "1.2.0",
            "_model_name": "LayoutModel",
            "_view_count": null,
            "_view_module": "@jupyter-widgets/base",
            "_view_module_version": "1.2.0",
            "_view_name": "LayoutView",
            "align_content": null,
            "align_items": null,
            "align_self": null,
            "border": null,
            "bottom": null,
            "display": null,
            "flex": null,
            "flex_flow": null,
            "grid_area": null,
            "grid_auto_columns": null,
            "grid_auto_flow": null,
            "grid_auto_rows": null,
            "grid_column": null,
            "grid_gap": null,
            "grid_row": null,
            "grid_template_areas": null,
            "grid_template_columns": null,
            "grid_template_rows": null,
            "height": null,
            "justify_content": null,
            "justify_items": null,
            "left": null,
            "margin": null,
            "max_height": null,
            "max_width": null,
            "min_height": null,
            "min_width": null,
            "object_fit": null,
            "object_position": null,
            "order": null,
            "overflow": null,
            "overflow_x": null,
            "overflow_y": null,
            "padding": null,
            "right": null,
            "top": null,
            "visibility": null,
            "width": null
          }
        },
        "6f776d5739b646a4970c8a58407ff3ca": {
          "model_module": "@jupyter-widgets/base",
          "model_name": "LayoutModel",
          "model_module_version": "1.2.0",
          "state": {
            "_model_module": "@jupyter-widgets/base",
            "_model_module_version": "1.2.0",
            "_model_name": "LayoutModel",
            "_view_count": null,
            "_view_module": "@jupyter-widgets/base",
            "_view_module_version": "1.2.0",
            "_view_name": "LayoutView",
            "align_content": null,
            "align_items": null,
            "align_self": null,
            "border": null,
            "bottom": null,
            "display": null,
            "flex": null,
            "flex_flow": null,
            "grid_area": null,
            "grid_auto_columns": null,
            "grid_auto_flow": null,
            "grid_auto_rows": null,
            "grid_column": null,
            "grid_gap": null,
            "grid_row": null,
            "grid_template_areas": null,
            "grid_template_columns": null,
            "grid_template_rows": null,
            "height": null,
            "justify_content": null,
            "justify_items": null,
            "left": null,
            "margin": null,
            "max_height": null,
            "max_width": null,
            "min_height": null,
            "min_width": null,
            "object_fit": null,
            "object_position": null,
            "order": null,
            "overflow": null,
            "overflow_x": null,
            "overflow_y": null,
            "padding": null,
            "right": null,
            "top": null,
            "visibility": null,
            "width": null
          }
        },
        "56f83b23570a456c9200cad07114979b": {
          "model_module": "@jupyter-widgets/controls",
          "model_name": "DescriptionStyleModel",
          "model_module_version": "1.5.0",
          "state": {
            "_model_module": "@jupyter-widgets/controls",
            "_model_module_version": "1.5.0",
            "_model_name": "DescriptionStyleModel",
            "_view_count": null,
            "_view_module": "@jupyter-widgets/base",
            "_view_module_version": "1.2.0",
            "_view_name": "StyleView",
            "description_width": ""
          }
        },
        "a6795e987bb34333bb343962a3d4fb2d": {
          "model_module": "@jupyter-widgets/base",
          "model_name": "LayoutModel",
          "model_module_version": "1.2.0",
          "state": {
            "_model_module": "@jupyter-widgets/base",
            "_model_module_version": "1.2.0",
            "_model_name": "LayoutModel",
            "_view_count": null,
            "_view_module": "@jupyter-widgets/base",
            "_view_module_version": "1.2.0",
            "_view_name": "LayoutView",
            "align_content": null,
            "align_items": null,
            "align_self": null,
            "border": null,
            "bottom": null,
            "display": null,
            "flex": null,
            "flex_flow": null,
            "grid_area": null,
            "grid_auto_columns": null,
            "grid_auto_flow": null,
            "grid_auto_rows": null,
            "grid_column": null,
            "grid_gap": null,
            "grid_row": null,
            "grid_template_areas": null,
            "grid_template_columns": null,
            "grid_template_rows": null,
            "height": null,
            "justify_content": null,
            "justify_items": null,
            "left": null,
            "margin": null,
            "max_height": null,
            "max_width": null,
            "min_height": null,
            "min_width": null,
            "object_fit": null,
            "object_position": null,
            "order": null,
            "overflow": null,
            "overflow_x": null,
            "overflow_y": null,
            "padding": null,
            "right": null,
            "top": null,
            "visibility": null,
            "width": null
          }
        },
        "12013db0ea914728b7df353282bf83fc": {
          "model_module": "@jupyter-widgets/controls",
          "model_name": "ProgressStyleModel",
          "model_module_version": "1.5.0",
          "state": {
            "_model_module": "@jupyter-widgets/controls",
            "_model_module_version": "1.5.0",
            "_model_name": "ProgressStyleModel",
            "_view_count": null,
            "_view_module": "@jupyter-widgets/base",
            "_view_module_version": "1.2.0",
            "_view_name": "StyleView",
            "bar_color": null,
            "description_width": ""
          }
        },
        "9abd29a85334485d957f8a6fdb37ff70": {
          "model_module": "@jupyter-widgets/base",
          "model_name": "LayoutModel",
          "model_module_version": "1.2.0",
          "state": {
            "_model_module": "@jupyter-widgets/base",
            "_model_module_version": "1.2.0",
            "_model_name": "LayoutModel",
            "_view_count": null,
            "_view_module": "@jupyter-widgets/base",
            "_view_module_version": "1.2.0",
            "_view_name": "LayoutView",
            "align_content": null,
            "align_items": null,
            "align_self": null,
            "border": null,
            "bottom": null,
            "display": null,
            "flex": null,
            "flex_flow": null,
            "grid_area": null,
            "grid_auto_columns": null,
            "grid_auto_flow": null,
            "grid_auto_rows": null,
            "grid_column": null,
            "grid_gap": null,
            "grid_row": null,
            "grid_template_areas": null,
            "grid_template_columns": null,
            "grid_template_rows": null,
            "height": null,
            "justify_content": null,
            "justify_items": null,
            "left": null,
            "margin": null,
            "max_height": null,
            "max_width": null,
            "min_height": null,
            "min_width": null,
            "object_fit": null,
            "object_position": null,
            "order": null,
            "overflow": null,
            "overflow_x": null,
            "overflow_y": null,
            "padding": null,
            "right": null,
            "top": null,
            "visibility": null,
            "width": null
          }
        },
        "fa990a442a224c93ba9f9ccd461b840d": {
          "model_module": "@jupyter-widgets/controls",
          "model_name": "DescriptionStyleModel",
          "model_module_version": "1.5.0",
          "state": {
            "_model_module": "@jupyter-widgets/controls",
            "_model_module_version": "1.5.0",
            "_model_name": "DescriptionStyleModel",
            "_view_count": null,
            "_view_module": "@jupyter-widgets/base",
            "_view_module_version": "1.2.0",
            "_view_name": "StyleView",
            "description_width": ""
          }
        },
        "5fcd0085cabc4f0f92cc5fbd86f4e024": {
          "model_module": "@jupyter-widgets/controls",
          "model_name": "VBoxModel",
          "model_module_version": "1.5.0",
          "state": {
            "_dom_classes": [],
            "_model_module": "@jupyter-widgets/controls",
            "_model_module_version": "1.5.0",
            "_model_name": "VBoxModel",
            "_view_count": null,
            "_view_module": "@jupyter-widgets/controls",
            "_view_module_version": "1.5.0",
            "_view_name": "VBoxView",
            "box_style": "",
            "children": [
              "IPY_MODEL_6ba39e845d8b4542834bb6731907bdcc",
              "IPY_MODEL_341f121feb69452bbc3a342c76d5cfed"
            ],
            "layout": "IPY_MODEL_babc42e3658d444c9e867f98997a3153"
          }
        },
        "6ba39e845d8b4542834bb6731907bdcc": {
          "model_module": "@jupyter-widgets/controls",
          "model_name": "LabelModel",
          "model_module_version": "1.5.0",
          "state": {
            "_dom_classes": [],
            "_model_module": "@jupyter-widgets/controls",
            "_model_module_version": "1.5.0",
            "_model_name": "LabelModel",
            "_view_count": null,
            "_view_module": "@jupyter-widgets/controls",
            "_view_module_version": "1.5.0",
            "_view_name": "LabelView",
            "description": "",
            "description_tooltip": null,
            "layout": "IPY_MODEL_5d8a981c43b94a51be5ca0f13cb5388b",
            "placeholder": "​",
            "style": "IPY_MODEL_92d6571768b043989d3538e20195013c",
            "value": "0.060 MB of 0.060 MB uploaded\r"
          }
        },
        "341f121feb69452bbc3a342c76d5cfed": {
          "model_module": "@jupyter-widgets/controls",
          "model_name": "FloatProgressModel",
          "model_module_version": "1.5.0",
          "state": {
            "_dom_classes": [],
            "_model_module": "@jupyter-widgets/controls",
            "_model_module_version": "1.5.0",
            "_model_name": "FloatProgressModel",
            "_view_count": null,
            "_view_module": "@jupyter-widgets/controls",
            "_view_module_version": "1.5.0",
            "_view_name": "ProgressView",
            "bar_style": "",
            "description": "",
            "description_tooltip": null,
            "layout": "IPY_MODEL_e57b6ee26c8149cfafe6ed5a5760500b",
            "max": 1,
            "min": 0,
            "orientation": "horizontal",
            "style": "IPY_MODEL_fd7d512d00c243718c45971fed335ca5",
            "value": 1
          }
        },
        "babc42e3658d444c9e867f98997a3153": {
          "model_module": "@jupyter-widgets/base",
          "model_name": "LayoutModel",
          "model_module_version": "1.2.0",
          "state": {
            "_model_module": "@jupyter-widgets/base",
            "_model_module_version": "1.2.0",
            "_model_name": "LayoutModel",
            "_view_count": null,
            "_view_module": "@jupyter-widgets/base",
            "_view_module_version": "1.2.0",
            "_view_name": "LayoutView",
            "align_content": null,
            "align_items": null,
            "align_self": null,
            "border": null,
            "bottom": null,
            "display": null,
            "flex": null,
            "flex_flow": null,
            "grid_area": null,
            "grid_auto_columns": null,
            "grid_auto_flow": null,
            "grid_auto_rows": null,
            "grid_column": null,
            "grid_gap": null,
            "grid_row": null,
            "grid_template_areas": null,
            "grid_template_columns": null,
            "grid_template_rows": null,
            "height": null,
            "justify_content": null,
            "justify_items": null,
            "left": null,
            "margin": null,
            "max_height": null,
            "max_width": null,
            "min_height": null,
            "min_width": null,
            "object_fit": null,
            "object_position": null,
            "order": null,
            "overflow": null,
            "overflow_x": null,
            "overflow_y": null,
            "padding": null,
            "right": null,
            "top": null,
            "visibility": null,
            "width": null
          }
        },
        "5d8a981c43b94a51be5ca0f13cb5388b": {
          "model_module": "@jupyter-widgets/base",
          "model_name": "LayoutModel",
          "model_module_version": "1.2.0",
          "state": {
            "_model_module": "@jupyter-widgets/base",
            "_model_module_version": "1.2.0",
            "_model_name": "LayoutModel",
            "_view_count": null,
            "_view_module": "@jupyter-widgets/base",
            "_view_module_version": "1.2.0",
            "_view_name": "LayoutView",
            "align_content": null,
            "align_items": null,
            "align_self": null,
            "border": null,
            "bottom": null,
            "display": null,
            "flex": null,
            "flex_flow": null,
            "grid_area": null,
            "grid_auto_columns": null,
            "grid_auto_flow": null,
            "grid_auto_rows": null,
            "grid_column": null,
            "grid_gap": null,
            "grid_row": null,
            "grid_template_areas": null,
            "grid_template_columns": null,
            "grid_template_rows": null,
            "height": null,
            "justify_content": null,
            "justify_items": null,
            "left": null,
            "margin": null,
            "max_height": null,
            "max_width": null,
            "min_height": null,
            "min_width": null,
            "object_fit": null,
            "object_position": null,
            "order": null,
            "overflow": null,
            "overflow_x": null,
            "overflow_y": null,
            "padding": null,
            "right": null,
            "top": null,
            "visibility": null,
            "width": null
          }
        },
        "92d6571768b043989d3538e20195013c": {
          "model_module": "@jupyter-widgets/controls",
          "model_name": "DescriptionStyleModel",
          "model_module_version": "1.5.0",
          "state": {
            "_model_module": "@jupyter-widgets/controls",
            "_model_module_version": "1.5.0",
            "_model_name": "DescriptionStyleModel",
            "_view_count": null,
            "_view_module": "@jupyter-widgets/base",
            "_view_module_version": "1.2.0",
            "_view_name": "StyleView",
            "description_width": ""
          }
        },
        "e57b6ee26c8149cfafe6ed5a5760500b": {
          "model_module": "@jupyter-widgets/base",
          "model_name": "LayoutModel",
          "model_module_version": "1.2.0",
          "state": {
            "_model_module": "@jupyter-widgets/base",
            "_model_module_version": "1.2.0",
            "_model_name": "LayoutModel",
            "_view_count": null,
            "_view_module": "@jupyter-widgets/base",
            "_view_module_version": "1.2.0",
            "_view_name": "LayoutView",
            "align_content": null,
            "align_items": null,
            "align_self": null,
            "border": null,
            "bottom": null,
            "display": null,
            "flex": null,
            "flex_flow": null,
            "grid_area": null,
            "grid_auto_columns": null,
            "grid_auto_flow": null,
            "grid_auto_rows": null,
            "grid_column": null,
            "grid_gap": null,
            "grid_row": null,
            "grid_template_areas": null,
            "grid_template_columns": null,
            "grid_template_rows": null,
            "height": null,
            "justify_content": null,
            "justify_items": null,
            "left": null,
            "margin": null,
            "max_height": null,
            "max_width": null,
            "min_height": null,
            "min_width": null,
            "object_fit": null,
            "object_position": null,
            "order": null,
            "overflow": null,
            "overflow_x": null,
            "overflow_y": null,
            "padding": null,
            "right": null,
            "top": null,
            "visibility": null,
            "width": null
          }
        },
        "fd7d512d00c243718c45971fed335ca5": {
          "model_module": "@jupyter-widgets/controls",
          "model_name": "ProgressStyleModel",
          "model_module_version": "1.5.0",
          "state": {
            "_model_module": "@jupyter-widgets/controls",
            "_model_module_version": "1.5.0",
            "_model_name": "ProgressStyleModel",
            "_view_count": null,
            "_view_module": "@jupyter-widgets/base",
            "_view_module_version": "1.2.0",
            "_view_name": "StyleView",
            "bar_color": null,
            "description_width": ""
          }
        },
        "53436a409bca4f8088868dca48ef01af": {
          "model_module": "@jupyter-widgets/controls",
          "model_name": "VBoxModel",
          "model_module_version": "1.5.0",
          "state": {
            "_dom_classes": [],
            "_model_module": "@jupyter-widgets/controls",
            "_model_module_version": "1.5.0",
            "_model_name": "VBoxModel",
            "_view_count": null,
            "_view_module": "@jupyter-widgets/controls",
            "_view_module_version": "1.5.0",
            "_view_name": "VBoxView",
            "box_style": "",
            "children": [
              "IPY_MODEL_8388498d3f7344aebe0b8602e6e15db7",
              "IPY_MODEL_662c223d79f141eda4c3678256a2c6c2"
            ],
            "layout": "IPY_MODEL_e573960381634e24b3a50ef8b41fb59a"
          }
        },
        "8388498d3f7344aebe0b8602e6e15db7": {
          "model_module": "@jupyter-widgets/controls",
          "model_name": "LabelModel",
          "model_module_version": "1.5.0",
          "state": {
            "_dom_classes": [],
            "_model_module": "@jupyter-widgets/controls",
            "_model_module_version": "1.5.0",
            "_model_name": "LabelModel",
            "_view_count": null,
            "_view_module": "@jupyter-widgets/controls",
            "_view_module_version": "1.5.0",
            "_view_name": "LabelView",
            "description": "",
            "description_tooltip": null,
            "layout": "IPY_MODEL_acda388861da4f4fafac4950a47730ca",
            "placeholder": "​",
            "style": "IPY_MODEL_1470c1dba6fc41b589d1cecfcea6855f",
            "value": "0.030 MB of 0.030 MB uploaded\r"
          }
        },
        "662c223d79f141eda4c3678256a2c6c2": {
          "model_module": "@jupyter-widgets/controls",
          "model_name": "FloatProgressModel",
          "model_module_version": "1.5.0",
          "state": {
            "_dom_classes": [],
            "_model_module": "@jupyter-widgets/controls",
            "_model_module_version": "1.5.0",
            "_model_name": "FloatProgressModel",
            "_view_count": null,
            "_view_module": "@jupyter-widgets/controls",
            "_view_module_version": "1.5.0",
            "_view_name": "ProgressView",
            "bar_style": "",
            "description": "",
            "description_tooltip": null,
            "layout": "IPY_MODEL_6a138aa7fdb5439e80477462228f4b99",
            "max": 1,
            "min": 0,
            "orientation": "horizontal",
            "style": "IPY_MODEL_cc0ee1df67df4354b8d843fe15198fe1",
            "value": 1
          }
        },
        "e573960381634e24b3a50ef8b41fb59a": {
          "model_module": "@jupyter-widgets/base",
          "model_name": "LayoutModel",
          "model_module_version": "1.2.0",
          "state": {
            "_model_module": "@jupyter-widgets/base",
            "_model_module_version": "1.2.0",
            "_model_name": "LayoutModel",
            "_view_count": null,
            "_view_module": "@jupyter-widgets/base",
            "_view_module_version": "1.2.0",
            "_view_name": "LayoutView",
            "align_content": null,
            "align_items": null,
            "align_self": null,
            "border": null,
            "bottom": null,
            "display": null,
            "flex": null,
            "flex_flow": null,
            "grid_area": null,
            "grid_auto_columns": null,
            "grid_auto_flow": null,
            "grid_auto_rows": null,
            "grid_column": null,
            "grid_gap": null,
            "grid_row": null,
            "grid_template_areas": null,
            "grid_template_columns": null,
            "grid_template_rows": null,
            "height": null,
            "justify_content": null,
            "justify_items": null,
            "left": null,
            "margin": null,
            "max_height": null,
            "max_width": null,
            "min_height": null,
            "min_width": null,
            "object_fit": null,
            "object_position": null,
            "order": null,
            "overflow": null,
            "overflow_x": null,
            "overflow_y": null,
            "padding": null,
            "right": null,
            "top": null,
            "visibility": null,
            "width": null
          }
        },
        "acda388861da4f4fafac4950a47730ca": {
          "model_module": "@jupyter-widgets/base",
          "model_name": "LayoutModel",
          "model_module_version": "1.2.0",
          "state": {
            "_model_module": "@jupyter-widgets/base",
            "_model_module_version": "1.2.0",
            "_model_name": "LayoutModel",
            "_view_count": null,
            "_view_module": "@jupyter-widgets/base",
            "_view_module_version": "1.2.0",
            "_view_name": "LayoutView",
            "align_content": null,
            "align_items": null,
            "align_self": null,
            "border": null,
            "bottom": null,
            "display": null,
            "flex": null,
            "flex_flow": null,
            "grid_area": null,
            "grid_auto_columns": null,
            "grid_auto_flow": null,
            "grid_auto_rows": null,
            "grid_column": null,
            "grid_gap": null,
            "grid_row": null,
            "grid_template_areas": null,
            "grid_template_columns": null,
            "grid_template_rows": null,
            "height": null,
            "justify_content": null,
            "justify_items": null,
            "left": null,
            "margin": null,
            "max_height": null,
            "max_width": null,
            "min_height": null,
            "min_width": null,
            "object_fit": null,
            "object_position": null,
            "order": null,
            "overflow": null,
            "overflow_x": null,
            "overflow_y": null,
            "padding": null,
            "right": null,
            "top": null,
            "visibility": null,
            "width": null
          }
        },
        "1470c1dba6fc41b589d1cecfcea6855f": {
          "model_module": "@jupyter-widgets/controls",
          "model_name": "DescriptionStyleModel",
          "model_module_version": "1.5.0",
          "state": {
            "_model_module": "@jupyter-widgets/controls",
            "_model_module_version": "1.5.0",
            "_model_name": "DescriptionStyleModel",
            "_view_count": null,
            "_view_module": "@jupyter-widgets/base",
            "_view_module_version": "1.2.0",
            "_view_name": "StyleView",
            "description_width": ""
          }
        },
        "6a138aa7fdb5439e80477462228f4b99": {
          "model_module": "@jupyter-widgets/base",
          "model_name": "LayoutModel",
          "model_module_version": "1.2.0",
          "state": {
            "_model_module": "@jupyter-widgets/base",
            "_model_module_version": "1.2.0",
            "_model_name": "LayoutModel",
            "_view_count": null,
            "_view_module": "@jupyter-widgets/base",
            "_view_module_version": "1.2.0",
            "_view_name": "LayoutView",
            "align_content": null,
            "align_items": null,
            "align_self": null,
            "border": null,
            "bottom": null,
            "display": null,
            "flex": null,
            "flex_flow": null,
            "grid_area": null,
            "grid_auto_columns": null,
            "grid_auto_flow": null,
            "grid_auto_rows": null,
            "grid_column": null,
            "grid_gap": null,
            "grid_row": null,
            "grid_template_areas": null,
            "grid_template_columns": null,
            "grid_template_rows": null,
            "height": null,
            "justify_content": null,
            "justify_items": null,
            "left": null,
            "margin": null,
            "max_height": null,
            "max_width": null,
            "min_height": null,
            "min_width": null,
            "object_fit": null,
            "object_position": null,
            "order": null,
            "overflow": null,
            "overflow_x": null,
            "overflow_y": null,
            "padding": null,
            "right": null,
            "top": null,
            "visibility": null,
            "width": null
          }
        },
        "cc0ee1df67df4354b8d843fe15198fe1": {
          "model_module": "@jupyter-widgets/controls",
          "model_name": "ProgressStyleModel",
          "model_module_version": "1.5.0",
          "state": {
            "_model_module": "@jupyter-widgets/controls",
            "_model_module_version": "1.5.0",
            "_model_name": "ProgressStyleModel",
            "_view_count": null,
            "_view_module": "@jupyter-widgets/base",
            "_view_module_version": "1.2.0",
            "_view_name": "StyleView",
            "bar_color": null,
            "description_width": ""
          }
        }
      }
    }
  },
  "cells": [
    {
      "cell_type": "markdown",
      "metadata": {
        "id": "view-in-github",
        "colab_type": "text"
      },
      "source": [
        "<a href=\"https://colab.research.google.com/github/Shritej24c/NLP101/blob/main/HW/HW7/ShritejShrikant_Chavan_HW_7_PartB.ipynb\" target=\"_parent\"><img src=\"https://colab.research.google.com/assets/colab-badge.svg\" alt=\"Open In Colab\"/></a>"
      ]
    },
    {
      "cell_type": "markdown",
      "source": [
        "# <font color = 'indianred'>**HW7_Handling_Longer_Sequences_Class_Imbalance: 20 Points** </font>\n",
        "\n",
        "\n",
        "Homework 7 Instructions\n",
        "In this assignment, you'll work with the StackExchange dataset from HW5, focusing on `basic_cleaned_text` and `Tag_Number_final`.\n",
        "Changes from HW5\n",
        "1. Data Filtering: Select rows from `basic_cleaned_text` with a word count > 400 (about 4000 samples).\n",
        "2. Custom Collate Function: Develop a function for handling longer sequences. Break the document into smaller chunks (sub-parts).\n",
        "3. Subclass Trainer:\n",
        "   - Modify the `custom_loss` function for longer sequences and class imbalance.\n",
        "   - For calculating loss, take the log probabilities for each chunk and average them to get document-level log probabilities, which should be used in your loss function.  \n",
        "4. Aggregation Function: Create a function for aggregating predictions. - Similar to the loss function, make predictions based on aggregated log probabilities from chunks.\n",
        "5. Evaluation Method: With the implementation of chunking, Trainer.Predict will become incompatible. Write your own function for evaluations.\n",
        "Reference Files: Use `2_MultiClass_imbalanced_custom_Trainer.ipynb` and `4_imdb_bert_longer_seq_sliding_window_detailed.ipynb` from the `Final_files` in Lecture 10 folder."
      ],
      "metadata": {
        "id": "v9tui7Uf6649"
      }
    },
    {
      "cell_type": "code",
      "execution_count": 1,
      "metadata": {
        "colab": {
          "base_uri": "https://localhost:8080/"
        },
        "id": "pyjF7eIo6uKm",
        "outputId": "856438d4-026e-475b-a91d-4c4c869244ae"
      },
      "outputs": [
        {
          "output_type": "stream",
          "name": "stdout",
          "text": [
            "Mounted at /content/drive\n",
            "\u001b[2K     \u001b[90m━━━━━━━━━━━━━━━━━━━━━━━━━━━━━━━━━━━━━━━━\u001b[0m \u001b[32m521.2/521.2 kB\u001b[0m \u001b[31m8.0 MB/s\u001b[0m eta \u001b[36m0:00:00\u001b[0m\n",
            "\u001b[2K     \u001b[90m━━━━━━━━━━━━━━━━━━━━━━━━━━━━━━━━━━━━━━━━\u001b[0m \u001b[32m84.1/84.1 kB\u001b[0m \u001b[31m14.4 MB/s\u001b[0m eta \u001b[36m0:00:00\u001b[0m\n",
            "\u001b[2K     \u001b[90m━━━━━━━━━━━━━━━━━━━━━━━━━━━━━━━━━━━━━━━━\u001b[0m \u001b[32m2.1/2.1 MB\u001b[0m \u001b[31m53.1 MB/s\u001b[0m eta \u001b[36m0:00:00\u001b[0m\n",
            "\u001b[2K     \u001b[90m━━━━━━━━━━━━━━━━━━━━━━━━━━━━━━━━━━━━━━━━\u001b[0m \u001b[32m261.4/261.4 kB\u001b[0m \u001b[31m39.7 MB/s\u001b[0m eta \u001b[36m0:00:00\u001b[0m\n",
            "\u001b[2K     \u001b[90m━━━━━━━━━━━━━━━━━━━━━━━━━━━━━━━━━━━━━━━━\u001b[0m \u001b[32m115.3/115.3 kB\u001b[0m \u001b[31m18.9 MB/s\u001b[0m eta \u001b[36m0:00:00\u001b[0m\n",
            "\u001b[2K     \u001b[90m━━━━━━━━━━━━━━━━━━━━━━━━━━━━━━━━━━━━━━━━\u001b[0m \u001b[32m134.8/134.8 kB\u001b[0m \u001b[31m22.0 MB/s\u001b[0m eta \u001b[36m0:00:00\u001b[0m\n",
            "\u001b[2K     \u001b[90m━━━━━━━━━━━━━━━━━━━━━━━━━━━━━━━━━━━━━━━━\u001b[0m \u001b[32m190.6/190.6 kB\u001b[0m \u001b[31m25.9 MB/s\u001b[0m eta \u001b[36m0:00:00\u001b[0m\n",
            "\u001b[2K     \u001b[90m━━━━━━━━━━━━━━━━━━━━━━━━━━━━━━━━━━━━━━━━\u001b[0m \u001b[32m248.6/248.6 kB\u001b[0m \u001b[31m34.2 MB/s\u001b[0m eta \u001b[36m0:00:00\u001b[0m\n",
            "\u001b[2K     \u001b[90m━━━━━━━━━━━━━━━━━━━━━━━━━━━━━━━━━━━━━━━━\u001b[0m \u001b[32m62.7/62.7 kB\u001b[0m \u001b[31m9.9 MB/s\u001b[0m eta \u001b[36m0:00:00\u001b[0m\n",
            "\u001b[?25h"
          ]
        }
      ],
      "source": [
        " # CHANGE FOLDERS AS PER YOUR SETUP\n",
        "from pathlib import Path\n",
        "if 'google.colab' in str(get_ipython()):\n",
        "    from google.colab import drive\n",
        "    drive.mount(\"/content/drive\")\n",
        "    !pip install datasets transformers evaluate wandb accelerate -U -qq\n",
        "    base_folder = Path(\"/content/drive/MyDrive/NLP\")\n",
        "else:\n",
        "    base_folder = Path(\"/home/harpreet/Insync/google_drive_shaannoor/data\")\n",
        "\n",
        "\n",
        "from transformers import AutoConfig, AutoModelForSequenceClassification, AutoTokenizer, Trainer, TrainingArguments\n",
        "from transformers import AutoTokenizer, DataCollatorWithPadding, pipeline\n",
        "from datasets import load_dataset, DatasetDict, Dataset, ClassLabel\n",
        "import evaluate\n",
        "\n",
        "from collections import Counter\n",
        "import torch\n",
        "from torch.utils.data import DataLoader\n",
        "\n",
        "from scipy.special import softmax\n",
        "from scipy.special import logsumexp\n",
        "\n",
        "import wandb\n",
        "import pandas as pd\n",
        "\n",
        "# import functional from torch as F\n",
        "import torch.nn.functional as F\n",
        "from functools import partial\n",
        "import gc\n",
        "\n",
        "\n",
        "import numpy as np\n",
        "from sklearn.metrics import ConfusionMatrixDisplay\n",
        "import matplotlib.pyplot as plt\n",
        "import random\n",
        "\n",
        "import textwrap"
      ]
    },
    {
      "cell_type": "code",
      "execution_count": 2,
      "metadata": {
        "id": "6bc8a889",
        "pycharm": {
          "is_executing": true
        }
      },
      "outputs": [],
      "source": [
        "# CHANGE FOLDERS TO WHERE YOU WANT TO SAVE DATA AND MODELS\n",
        "data_folder = base_folder/'datasets/Classification_HW/csv_files'\n",
        "model_folder = base_folder/'models/nlp_spring_2023/HW7'\n",
        "model_folder.mkdir(exist_ok=True)"
      ]
    },
    {
      "cell_type": "code",
      "execution_count": 3,
      "metadata": {
        "id": "70895763",
        "pycharm": {
          "is_executing": true
        }
      },
      "outputs": [],
      "source": [
        "def print_wrap(text, d):\n",
        "    # Wrap the text to limit the width to 'd'\n",
        "    wrapped_text = textwrap.fill(text, width=d)\n",
        "\n",
        "    # Print the wrapped text\n",
        "    print(wrapped_text)"
      ]
    },
    {
      "cell_type": "markdown",
      "metadata": {
        "id": "O_xxXoyw_2x1"
      },
      "source": [
        "## <font color = 'indianred'> **Exploring and Understanding Dataset**"
      ]
    },
    {
      "cell_type": "markdown",
      "metadata": {
        "id": "7ae39760-8c90-4bef-a1c9-66a302b29da3",
        "tags": []
      },
      "source": [
        "## <font color = 'indianred'> **Stack Exchange MultiClass Dataset**</font>\n",
        "\n",
        "- In this HW, you will identify tags for stack exchange Questions.\n",
        "- This data is a subset of data available in a Kaggle Competition.\n",
        "- The given dataset has different questions asked in the StackExchange website for various technical domains.\n",
        "- We have fetched only those questions that contain the top 10 individual tags.\n",
        "- **Each question has only one tag. This means that this is a <font color = \"indianred\">multi-class classification problem.**</font>\n",
        "- These are the ten categories for tags in the data.\n",
        "\n",
        "<div style=\"margin-left:5%\">\n",
        "\n",
        "\n",
        "| Index| Tag  |\n",
        "|:-------:|:-------------:|\n",
        "| 0     | C#          |\n",
        "| 1     | java        |\n",
        "| 2     | php         |\n",
        "| 3     | javascript  |\n",
        "| 4     | android     |\n",
        "| 5     | jquery      |\n",
        "| 6     | c++         |\n",
        "| 7     | python      |\n",
        "| 8     | iphone      |\n",
        "| 9     | asp.net     |\n",
        "\n",
        "</div>"
      ]
    },
    {
      "cell_type": "markdown",
      "metadata": {
        "id": "b906904c-8f24-4de0-8e07-720863e8cd99"
      },
      "source": [
        "## <font color = 'indianred'> **Load Data set**\n",
        "    \n"
      ]
    },
    {
      "cell_type": "code",
      "execution_count": 4,
      "metadata": {
        "id": "1JpTLLoCvuAY",
        "pycharm": {
          "is_executing": true
        },
        "colab": {
          "base_uri": "https://localhost:8080/",
          "height": 113,
          "referenced_widgets": [
            "a5892f02f4dd4725bc0a80201f5b7d75",
            "b9f33be960f84f43b257948c0a035dd7",
            "07d27ecb6cc946bdbeac9e8ff33caaf2",
            "9658da234e9d443b9916e98decccf4dd",
            "62890d75553042be9a267a441b5e6af0",
            "1533d5b8b1624a42afe024f25762c113",
            "f6f9a037acd7402c87e045229c0055e1",
            "75e5540d4e5e4fbd9820505a09147fff",
            "fce3d241835543179d26dbe8e4092e2a",
            "f4c36be074484aa3a9463271c8a55ac6",
            "3f9fafad52214f21828d7c20bd40715c",
            "436b410cd1404ea8bb47e1ac25fc1b83",
            "f55b12193a91401bbb72db55ebce68df",
            "37023f01eff54dc687b2981a911dc2fe",
            "0e0151d50877449a9cf23efcf3cb5829",
            "f140827813384eb89a4f027faadd73b2",
            "52692b56b8a6492b9438012f17cf661c",
            "29702a3e188744d0b79432324dd3d4dd",
            "4f84dd9ecff547c09d6acfe0a5c539a5",
            "1e32937b1f8c45d2ae1ba7458eb4aa06",
            "7bee90b873ea4de889aef1b473ec9bb2",
            "ba70e02ea41d47bfb2515d8d45e36581",
            "8df64f6427e84f36a40d8d667c2cd541",
            "cf61e5166de348868fa7228131574bf1",
            "dcbb9a5face04fc282562764aa090041",
            "2908ec1514bf436ab52cfe1b55e3c4b4",
            "715a1c26dc75498e9d1ade854488ab99",
            "cc9237771e4a449aa04f037a12306011",
            "220b256e9d09466ca4bf37a2c44e5633",
            "561d2a5b78c34ee692834d4bc7944ae2",
            "7888a92c52f640ad958dedaa89b36a71",
            "5f7b3c9cc6ac4c2ebf5e12c97cf1141e",
            "d7ff59f3bcba4fc692c875dfa5dcb85d"
          ]
        },
        "outputId": "25a5d7c2-d404-4f42-dfd1-f1eee2e82745"
      },
      "outputs": [
        {
          "output_type": "display_data",
          "data": {
            "text/plain": [
              "Downloading data files:   0%|          | 0/1 [00:00<?, ?it/s]"
            ],
            "application/vnd.jupyter.widget-view+json": {
              "version_major": 2,
              "version_minor": 0,
              "model_id": "a5892f02f4dd4725bc0a80201f5b7d75"
            }
          },
          "metadata": {}
        },
        {
          "output_type": "display_data",
          "data": {
            "text/plain": [
              "Extracting data files:   0%|          | 0/1 [00:00<?, ?it/s]"
            ],
            "application/vnd.jupyter.widget-view+json": {
              "version_major": 2,
              "version_minor": 0,
              "model_id": "436b410cd1404ea8bb47e1ac25fc1b83"
            }
          },
          "metadata": {}
        },
        {
          "output_type": "display_data",
          "data": {
            "text/plain": [
              "Generating train split: 0 examples [00:00, ? examples/s]"
            ],
            "application/vnd.jupyter.widget-view+json": {
              "version_major": 2,
              "version_minor": 0,
              "model_id": "8df64f6427e84f36a40d8d667c2cd541"
            }
          },
          "metadata": {}
        }
      ],
      "source": [
        "# The file 'multiclass_hw_basic_clean.csv' is availaible on e-Learning 0_data_Folder\n",
        "# Make sure that you specify the correct path\n",
        "# The file name need to be in the string, thaat is why we have used str(file_path)\n",
        "# We loaded imdb dataset from huggingface\n",
        "# in this case we are creating a hugginmgface dataset from csv file\n",
        "stack_dataset = load_dataset('csv', data_files= str(data_folder /'multiclass_hw_basic_clean.csv'))"
      ]
    },
    {
      "cell_type": "markdown",
      "metadata": {
        "id": "MluH2KHxHfF0"
      },
      "source": [
        "## <font color = 'indianred'> **Understanding your data**"
      ]
    },
    {
      "cell_type": "code",
      "execution_count": 5,
      "metadata": {
        "execution": {
          "iopub.execute_input": "2022-12-23T23:13:19.870767Z",
          "iopub.status.busy": "2022-12-23T23:13:19.870527Z",
          "iopub.status.idle": "2022-12-23T23:13:20.007104Z",
          "shell.execute_reply": "2022-12-23T23:13:20.006616Z",
          "shell.execute_reply.started": "2022-12-23T23:13:19.870741Z"
        },
        "id": "13c259d6-3936-47d7-aae4-467cf479368d",
        "tags": [],
        "pycharm": {
          "is_executing": true
        },
        "colab": {
          "base_uri": "https://localhost:8080/"
        },
        "outputId": "767c19ae-5a7f-430c-c4d9-0e6e6b7d177a"
      },
      "outputs": [
        {
          "output_type": "stream",
          "name": "stdout",
          "text": [
            "DatasetDict({\n",
            "    train: Dataset({\n",
            "        features: ['Unnamed: 0.1', 'Unnamed: 0', 'Title', 'Body', 'cleaned_text', 'Tags', 'Tag_Number_final', 'combined_text', 'basic_cleaned_text'],\n",
            "        num_rows: 188878\n",
            "    })\n",
            "})\n"
          ]
        }
      ],
      "source": [
        "print(stack_dataset)"
      ]
    },
    {
      "cell_type": "markdown",
      "metadata": {
        "id": "G8mgUnP9fS7i"
      },
      "source": [
        "## <font color = 'indianred'> **Understanding the datatype of columns**\n"
      ]
    },
    {
      "cell_type": "code",
      "execution_count": 6,
      "metadata": {
        "colab": {
          "base_uri": "https://localhost:8080/"
        },
        "id": "wq_SXtXzeXWg",
        "outputId": "9778d510-eaba-4f43-bfad-5e4ed22eaadf",
        "pycharm": {
          "is_executing": true
        }
      },
      "outputs": [
        {
          "output_type": "execute_result",
          "data": {
            "text/plain": [
              "{'Unnamed: 0.1': Value(dtype='int64', id=None),\n",
              " 'Unnamed: 0': Value(dtype='int64', id=None),\n",
              " 'Title': Value(dtype='string', id=None),\n",
              " 'Body': Value(dtype='string', id=None),\n",
              " 'cleaned_text': Value(dtype='string', id=None),\n",
              " 'Tags': Value(dtype='string', id=None),\n",
              " 'Tag_Number_final': Value(dtype='int64', id=None),\n",
              " 'combined_text': Value(dtype='string', id=None),\n",
              " 'basic_cleaned_text': Value(dtype='string', id=None)}"
            ]
          },
          "metadata": {},
          "execution_count": 6
        }
      ],
      "source": [
        "stack_dataset['train'].features"
      ]
    },
    {
      "cell_type": "markdown",
      "source": [
        " - As you can see the dataset has lot of faeatures. However they are not all useful.\n",
        " - Title is the title of the stack exchange post\n",
        " - Body is the main text of the post\n",
        " - combined_text is Title and Body combined with no pre-processing\n",
        " - basic_cleaned_text is Title and Body combined with basic preprocessing (remove html tags, urls, emails).\n",
        " - cleaned_text - Here we have combined Body and Text and has done some motre pre-propcessing in addition to basic (removing stopwords, lammetization)\n",
        " - Tags - names of programming language to which the post belongs\n",
        " - Tag_Number_final - index corresponding to Tags\n",
        "\n",
        " - **Your goal in this HW is to predict Tags given Body and Title of the post**\n",
        " - **You will use Tag_Number_final and basic_cleaned_text for this HW**\n"
      ],
      "metadata": {
        "id": "B-9EVoGswWol"
      }
    },
    {
      "cell_type": "markdown",
      "metadata": {
        "id": "z80MwfKWSuxn"
      },
      "source": [
        "## <font color = 'indianred'> **Acess indivdual element** </font>\n"
      ]
    },
    {
      "cell_type": "code",
      "execution_count": 7,
      "metadata": {
        "id": "5bcd6d2d",
        "pycharm": {
          "is_executing": true
        }
      },
      "outputs": [],
      "source": [
        "# Assuming 'stack_dataset' is a huggingface dataset\n",
        "# Select only the desired columns and rename them\n",
        "selected_columns = {\n",
        "    'text': stack_dataset['train']['basic_cleaned_text'],\n",
        "    'label': stack_dataset['train']['Tag_Number_final']\n",
        "}\n",
        "\n",
        "# Create a new dataset with the selected columns\n",
        "stack_selected_columns = Dataset.from_dict(selected_columns)\n"
      ]
    },
    {
      "cell_type": "code",
      "execution_count": 8,
      "metadata": {
        "id": "a495ad76",
        "pycharm": {
          "is_executing": true
        },
        "colab": {
          "base_uri": "https://localhost:8080/"
        },
        "outputId": "459f6157-f6b6-4302-c548-761d3c1c995a"
      },
      "outputs": [
        {
          "output_type": "execute_result",
          "data": {
            "text/plain": [
              "Dataset({\n",
              "    features: ['text', 'label'],\n",
              "    num_rows: 188878\n",
              "})"
            ]
          },
          "metadata": {},
          "execution_count": 8
        }
      ],
      "source": [
        "stack_selected_columns"
      ]
    },
    {
      "cell_type": "code",
      "execution_count": 9,
      "metadata": {
        "id": "10ea0a85",
        "pycharm": {
          "is_executing": true
        },
        "colab": {
          "base_uri": "https://localhost:8080/"
        },
        "outputId": "78649cc1-5408-47b2-9090-afeac470a786"
      },
      "outputs": [
        {
          "output_type": "execute_result",
          "data": {
            "text/plain": [
              "{'text': Value(dtype='string', id=None),\n",
              " 'label': Value(dtype='int64', id=None)}"
            ]
          },
          "metadata": {},
          "execution_count": 9
        }
      ],
      "source": [
        "stack_selected_columns.features"
      ]
    },
    {
      "cell_type": "code",
      "execution_count": 10,
      "metadata": {
        "colab": {
          "base_uri": "https://localhost:8080/"
        },
        "id": "215bd8a0",
        "outputId": "b57a7fe6-1fcf-4d2a-e537-5b4789ef51c8",
        "pycharm": {
          "is_executing": true
        }
      },
      "outputs": [
        {
          "output_type": "execute_result",
          "data": {
            "text/plain": [
              "[8, 4, 3, 9, 4, 0, 3, 2, 0, 7]"
            ]
          },
          "metadata": {},
          "execution_count": 10
        }
      ],
      "source": [
        "stack_selected_columns['label'][:10]"
      ]
    },
    {
      "cell_type": "code",
      "execution_count": 11,
      "metadata": {
        "id": "ec682511",
        "pycharm": {
          "is_executing": true
        },
        "colab": {
          "base_uri": "https://localhost:8080/"
        },
        "outputId": "205edc1f-aaa3-4649-fb12-2fb410e4e9bf"
      },
      "outputs": [
        {
          "output_type": "stream",
          "name": "stdout",
          "text": [
            "detail disclosure indicator on UIButton Is there a simple way to place a detail\n",
            "disclosure icon on a UIButton? I'm using a navigation controller and I want a\n",
            "button press to push a new view on the stack, so I thought a detail disclosure\n",
            "icon would be appropriate, but I haven't found a straightforward way to do that\n",
            "yet. What I have in mind is something like the \"When Timer Ends\" button in the\n",
            "Timer subview of the Clock app.\n"
          ]
        }
      ],
      "source": [
        "print_wrap(stack_selected_columns['text'][0], 80)"
      ]
    },
    {
      "cell_type": "code",
      "source": [
        "stack_selected_columns"
      ],
      "metadata": {
        "colab": {
          "base_uri": "https://localhost:8080/"
        },
        "id": "N373UcktBKRl",
        "outputId": "82f8c40a-3cdf-46ca-d957-5f91126fd66b"
      },
      "execution_count": 12,
      "outputs": [
        {
          "output_type": "execute_result",
          "data": {
            "text/plain": [
              "Dataset({\n",
              "    features: ['text', 'label'],\n",
              "    num_rows: 188878\n",
              "})"
            ]
          },
          "metadata": {},
          "execution_count": 12
        }
      ]
    },
    {
      "cell_type": "markdown",
      "metadata": {
        "id": "bJnCcArQJ0Vd"
      },
      "source": [
        "## <font color = 'pickle'> **Filtering Larger Reviews**</font>"
      ]
    },
    {
      "cell_type": "code",
      "execution_count": 13,
      "metadata": {
        "id": "b65bc4be",
        "colab": {
          "base_uri": "https://localhost:8080/",
          "height": 49,
          "referenced_widgets": [
            "031f39f9abfe47149f4cdd014dcc9031",
            "6646dd0260634857bb34bddfff13124f",
            "f7444d63094f46b1906c7e07561efccb",
            "c2186aa5a0bd4e12b52641dcc801873f",
            "2cbfed14bfc74e4f8d953336d0c94e9a",
            "773646f739e54c90be5a312e72572b73",
            "c74ff63c292744b5b7f35019a12e1d0d",
            "0dac487ce35e4321a61d756d59d63380",
            "466add4312d2426198f52543ebaecaf5",
            "de92886f5abc4d3db1ebe44fb70846a7",
            "b1b0694b0ce649dfaafceb3b0dfaf7d0"
          ]
        },
        "outputId": "ae77c8ad-9abd-42fe-fd7b-878fb1f407dc"
      },
      "outputs": [
        {
          "output_type": "display_data",
          "data": {
            "text/plain": [
              "Filter:   0%|          | 0/188878 [00:00<?, ? examples/s]"
            ],
            "application/vnd.jupyter.widget-view+json": {
              "version_major": 2,
              "version_minor": 0,
              "model_id": "031f39f9abfe47149f4cdd014dcc9031"
            }
          },
          "metadata": {}
        }
      ],
      "source": [
        "# Filter samples with more than 400 words\n",
        "def filter_long_samples(example):\n",
        "\n",
        "    return example['text'] is not None and len(example['text'].split()) > 400\n",
        "\n",
        "stack_selected_columns = stack_selected_columns.filter(filter_long_samples)"
      ]
    },
    {
      "cell_type": "markdown",
      "metadata": {
        "id": "CzxEpA9FCYjC"
      },
      "source": [
        "## <font color = 'indianred'> **Exploratory Data Analysis (EDA)**"
      ]
    },
    {
      "cell_type": "markdown",
      "metadata": {
        "id": "cWJBOfEj4_lE"
      },
      "source": [
        "### <font color = 'indianred'> **Change dataset format to Pandas**  </font>\n"
      ]
    },
    {
      "cell_type": "code",
      "execution_count": 14,
      "metadata": {
        "id": "HjQ2Q-3d14UL",
        "pycharm": {
          "is_executing": true
        }
      },
      "outputs": [],
      "source": [
        "# Set the format to Pandas\n",
        "# CODE HERE\n",
        "\n",
        "stack_selected_columns.set_format(type='pandas')\n"
      ]
    },
    {
      "cell_type": "code",
      "execution_count": 15,
      "metadata": {
        "id": "nM-OqQ493Io9",
        "pycharm": {
          "is_executing": true
        }
      },
      "outputs": [],
      "source": [
        "# get all rows the dataset\n",
        "df = stack_selected_columns[:]\n"
      ]
    },
    {
      "cell_type": "code",
      "source": [
        "df.head()"
      ],
      "metadata": {
        "id": "Z759Xi-5zGml",
        "pycharm": {
          "is_executing": true
        },
        "colab": {
          "base_uri": "https://localhost:8080/",
          "height": 206
        },
        "outputId": "d142823d-d2e8-49fe-d928-5129dd8d19ed"
      },
      "execution_count": 16,
      "outputs": [
        {
          "output_type": "execute_result",
          "data": {
            "text/plain": [
              "                                                text  label\n",
              "0  NullPointerException in OnCreate of inherited ...      4\n",
              "1  List View OnitemClick Animation I did a list v...      4\n",
              "2  uploading video file through ftp in android Hi...      4\n",
              "3  C++ alternatives to preprocessor macro code ge...      6\n",
              "4  Reading null values in a byte array c# I am tr...      0"
            ],
            "text/html": [
              "\n",
              "  <div id=\"df-ca8df0ea-b7fd-473a-8936-ed78737811ff\" class=\"colab-df-container\">\n",
              "    <div>\n",
              "<style scoped>\n",
              "    .dataframe tbody tr th:only-of-type {\n",
              "        vertical-align: middle;\n",
              "    }\n",
              "\n",
              "    .dataframe tbody tr th {\n",
              "        vertical-align: top;\n",
              "    }\n",
              "\n",
              "    .dataframe thead th {\n",
              "        text-align: right;\n",
              "    }\n",
              "</style>\n",
              "<table border=\"1\" class=\"dataframe\">\n",
              "  <thead>\n",
              "    <tr style=\"text-align: right;\">\n",
              "      <th></th>\n",
              "      <th>text</th>\n",
              "      <th>label</th>\n",
              "    </tr>\n",
              "  </thead>\n",
              "  <tbody>\n",
              "    <tr>\n",
              "      <th>0</th>\n",
              "      <td>NullPointerException in OnCreate of inherited ...</td>\n",
              "      <td>4</td>\n",
              "    </tr>\n",
              "    <tr>\n",
              "      <th>1</th>\n",
              "      <td>List View OnitemClick Animation I did a list v...</td>\n",
              "      <td>4</td>\n",
              "    </tr>\n",
              "    <tr>\n",
              "      <th>2</th>\n",
              "      <td>uploading video file through ftp in android Hi...</td>\n",
              "      <td>4</td>\n",
              "    </tr>\n",
              "    <tr>\n",
              "      <th>3</th>\n",
              "      <td>C++ alternatives to preprocessor macro code ge...</td>\n",
              "      <td>6</td>\n",
              "    </tr>\n",
              "    <tr>\n",
              "      <th>4</th>\n",
              "      <td>Reading null values in a byte array c# I am tr...</td>\n",
              "      <td>0</td>\n",
              "    </tr>\n",
              "  </tbody>\n",
              "</table>\n",
              "</div>\n",
              "    <div class=\"colab-df-buttons\">\n",
              "\n",
              "  <div class=\"colab-df-container\">\n",
              "    <button class=\"colab-df-convert\" onclick=\"convertToInteractive('df-ca8df0ea-b7fd-473a-8936-ed78737811ff')\"\n",
              "            title=\"Convert this dataframe to an interactive table.\"\n",
              "            style=\"display:none;\">\n",
              "\n",
              "  <svg xmlns=\"http://www.w3.org/2000/svg\" height=\"24px\" viewBox=\"0 -960 960 960\">\n",
              "    <path d=\"M120-120v-720h720v720H120Zm60-500h600v-160H180v160Zm220 220h160v-160H400v160Zm0 220h160v-160H400v160ZM180-400h160v-160H180v160Zm440 0h160v-160H620v160ZM180-180h160v-160H180v160Zm440 0h160v-160H620v160Z\"/>\n",
              "  </svg>\n",
              "    </button>\n",
              "\n",
              "  <style>\n",
              "    .colab-df-container {\n",
              "      display:flex;\n",
              "      gap: 12px;\n",
              "    }\n",
              "\n",
              "    .colab-df-convert {\n",
              "      background-color: #E8F0FE;\n",
              "      border: none;\n",
              "      border-radius: 50%;\n",
              "      cursor: pointer;\n",
              "      display: none;\n",
              "      fill: #1967D2;\n",
              "      height: 32px;\n",
              "      padding: 0 0 0 0;\n",
              "      width: 32px;\n",
              "    }\n",
              "\n",
              "    .colab-df-convert:hover {\n",
              "      background-color: #E2EBFA;\n",
              "      box-shadow: 0px 1px 2px rgba(60, 64, 67, 0.3), 0px 1px 3px 1px rgba(60, 64, 67, 0.15);\n",
              "      fill: #174EA6;\n",
              "    }\n",
              "\n",
              "    .colab-df-buttons div {\n",
              "      margin-bottom: 4px;\n",
              "    }\n",
              "\n",
              "    [theme=dark] .colab-df-convert {\n",
              "      background-color: #3B4455;\n",
              "      fill: #D2E3FC;\n",
              "    }\n",
              "\n",
              "    [theme=dark] .colab-df-convert:hover {\n",
              "      background-color: #434B5C;\n",
              "      box-shadow: 0px 1px 3px 1px rgba(0, 0, 0, 0.15);\n",
              "      filter: drop-shadow(0px 1px 2px rgba(0, 0, 0, 0.3));\n",
              "      fill: #FFFFFF;\n",
              "    }\n",
              "  </style>\n",
              "\n",
              "    <script>\n",
              "      const buttonEl =\n",
              "        document.querySelector('#df-ca8df0ea-b7fd-473a-8936-ed78737811ff button.colab-df-convert');\n",
              "      buttonEl.style.display =\n",
              "        google.colab.kernel.accessAllowed ? 'block' : 'none';\n",
              "\n",
              "      async function convertToInteractive(key) {\n",
              "        const element = document.querySelector('#df-ca8df0ea-b7fd-473a-8936-ed78737811ff');\n",
              "        const dataTable =\n",
              "          await google.colab.kernel.invokeFunction('convertToInteractive',\n",
              "                                                    [key], {});\n",
              "        if (!dataTable) return;\n",
              "\n",
              "        const docLinkHtml = 'Like what you see? Visit the ' +\n",
              "          '<a target=\"_blank\" href=https://colab.research.google.com/notebooks/data_table.ipynb>data table notebook</a>'\n",
              "          + ' to learn more about interactive tables.';\n",
              "        element.innerHTML = '';\n",
              "        dataTable['output_type'] = 'display_data';\n",
              "        await google.colab.output.renderOutput(dataTable, element);\n",
              "        const docLink = document.createElement('div');\n",
              "        docLink.innerHTML = docLinkHtml;\n",
              "        element.appendChild(docLink);\n",
              "      }\n",
              "    </script>\n",
              "  </div>\n",
              "\n",
              "\n",
              "<div id=\"df-a8bd1609-57df-487f-9b41-0125d4a3dd6f\">\n",
              "  <button class=\"colab-df-quickchart\" onclick=\"quickchart('df-a8bd1609-57df-487f-9b41-0125d4a3dd6f')\"\n",
              "            title=\"Suggest charts\"\n",
              "            style=\"display:none;\">\n",
              "\n",
              "<svg xmlns=\"http://www.w3.org/2000/svg\" height=\"24px\"viewBox=\"0 0 24 24\"\n",
              "     width=\"24px\">\n",
              "    <g>\n",
              "        <path d=\"M19 3H5c-1.1 0-2 .9-2 2v14c0 1.1.9 2 2 2h14c1.1 0 2-.9 2-2V5c0-1.1-.9-2-2-2zM9 17H7v-7h2v7zm4 0h-2V7h2v10zm4 0h-2v-4h2v4z\"/>\n",
              "    </g>\n",
              "</svg>\n",
              "  </button>\n",
              "\n",
              "<style>\n",
              "  .colab-df-quickchart {\n",
              "      --bg-color: #E8F0FE;\n",
              "      --fill-color: #1967D2;\n",
              "      --hover-bg-color: #E2EBFA;\n",
              "      --hover-fill-color: #174EA6;\n",
              "      --disabled-fill-color: #AAA;\n",
              "      --disabled-bg-color: #DDD;\n",
              "  }\n",
              "\n",
              "  [theme=dark] .colab-df-quickchart {\n",
              "      --bg-color: #3B4455;\n",
              "      --fill-color: #D2E3FC;\n",
              "      --hover-bg-color: #434B5C;\n",
              "      --hover-fill-color: #FFFFFF;\n",
              "      --disabled-bg-color: #3B4455;\n",
              "      --disabled-fill-color: #666;\n",
              "  }\n",
              "\n",
              "  .colab-df-quickchart {\n",
              "    background-color: var(--bg-color);\n",
              "    border: none;\n",
              "    border-radius: 50%;\n",
              "    cursor: pointer;\n",
              "    display: none;\n",
              "    fill: var(--fill-color);\n",
              "    height: 32px;\n",
              "    padding: 0;\n",
              "    width: 32px;\n",
              "  }\n",
              "\n",
              "  .colab-df-quickchart:hover {\n",
              "    background-color: var(--hover-bg-color);\n",
              "    box-shadow: 0 1px 2px rgba(60, 64, 67, 0.3), 0 1px 3px 1px rgba(60, 64, 67, 0.15);\n",
              "    fill: var(--button-hover-fill-color);\n",
              "  }\n",
              "\n",
              "  .colab-df-quickchart-complete:disabled,\n",
              "  .colab-df-quickchart-complete:disabled:hover {\n",
              "    background-color: var(--disabled-bg-color);\n",
              "    fill: var(--disabled-fill-color);\n",
              "    box-shadow: none;\n",
              "  }\n",
              "\n",
              "  .colab-df-spinner {\n",
              "    border: 2px solid var(--fill-color);\n",
              "    border-color: transparent;\n",
              "    border-bottom-color: var(--fill-color);\n",
              "    animation:\n",
              "      spin 1s steps(1) infinite;\n",
              "  }\n",
              "\n",
              "  @keyframes spin {\n",
              "    0% {\n",
              "      border-color: transparent;\n",
              "      border-bottom-color: var(--fill-color);\n",
              "      border-left-color: var(--fill-color);\n",
              "    }\n",
              "    20% {\n",
              "      border-color: transparent;\n",
              "      border-left-color: var(--fill-color);\n",
              "      border-top-color: var(--fill-color);\n",
              "    }\n",
              "    30% {\n",
              "      border-color: transparent;\n",
              "      border-left-color: var(--fill-color);\n",
              "      border-top-color: var(--fill-color);\n",
              "      border-right-color: var(--fill-color);\n",
              "    }\n",
              "    40% {\n",
              "      border-color: transparent;\n",
              "      border-right-color: var(--fill-color);\n",
              "      border-top-color: var(--fill-color);\n",
              "    }\n",
              "    60% {\n",
              "      border-color: transparent;\n",
              "      border-right-color: var(--fill-color);\n",
              "    }\n",
              "    80% {\n",
              "      border-color: transparent;\n",
              "      border-right-color: var(--fill-color);\n",
              "      border-bottom-color: var(--fill-color);\n",
              "    }\n",
              "    90% {\n",
              "      border-color: transparent;\n",
              "      border-bottom-color: var(--fill-color);\n",
              "    }\n",
              "  }\n",
              "</style>\n",
              "\n",
              "  <script>\n",
              "    async function quickchart(key) {\n",
              "      const quickchartButtonEl =\n",
              "        document.querySelector('#' + key + ' button');\n",
              "      quickchartButtonEl.disabled = true;  // To prevent multiple clicks.\n",
              "      quickchartButtonEl.classList.add('colab-df-spinner');\n",
              "      try {\n",
              "        const charts = await google.colab.kernel.invokeFunction(\n",
              "            'suggestCharts', [key], {});\n",
              "      } catch (error) {\n",
              "        console.error('Error during call to suggestCharts:', error);\n",
              "      }\n",
              "      quickchartButtonEl.classList.remove('colab-df-spinner');\n",
              "      quickchartButtonEl.classList.add('colab-df-quickchart-complete');\n",
              "    }\n",
              "    (() => {\n",
              "      let quickchartButtonEl =\n",
              "        document.querySelector('#df-a8bd1609-57df-487f-9b41-0125d4a3dd6f button');\n",
              "      quickchartButtonEl.style.display =\n",
              "        google.colab.kernel.accessAllowed ? 'block' : 'none';\n",
              "    })();\n",
              "  </script>\n",
              "</div>\n",
              "\n",
              "    </div>\n",
              "  </div>\n"
            ]
          },
          "metadata": {},
          "execution_count": 16
        }
      ]
    },
    {
      "cell_type": "code",
      "execution_count": 17,
      "metadata": {
        "id": "Aah_Ji9EdgSQ",
        "pycharm": {
          "is_executing": true
        }
      },
      "outputs": [],
      "source": [
        "# DO NOT RUN THIS CELL"
      ]
    },
    {
      "cell_type": "code",
      "source": [
        "df.info()"
      ],
      "metadata": {
        "id": "qlZUhoWtzMBP",
        "pycharm": {
          "is_executing": true
        },
        "colab": {
          "base_uri": "https://localhost:8080/"
        },
        "outputId": "328edd8f-1e41-48d3-a7eb-d4a0930c94ab"
      },
      "execution_count": 18,
      "outputs": [
        {
          "output_type": "stream",
          "name": "stdout",
          "text": [
            "<class 'pandas.core.frame.DataFrame'>\n",
            "RangeIndex: 4772 entries, 0 to 4771\n",
            "Data columns (total 2 columns):\n",
            " #   Column  Non-Null Count  Dtype \n",
            "---  ------  --------------  ----- \n",
            " 0   text    4772 non-null   object\n",
            " 1   label   4772 non-null   int64 \n",
            "dtypes: int64(1), object(1)\n",
            "memory usage: 74.7+ KB\n"
          ]
        }
      ]
    },
    {
      "cell_type": "code",
      "execution_count": 19,
      "metadata": {
        "id": "SMuG9fuF3ccM",
        "pycharm": {
          "is_executing": true
        }
      },
      "outputs": [],
      "source": [
        "# DO NOT RUN THIS CELL"
      ]
    },
    {
      "cell_type": "markdown",
      "metadata": {
        "id": "el1bAydalv7j"
      },
      "source": [
        "### <font color = 'indianred'> **Visualize distribution of class labels** </font>\n",
        "It is important to undetrstand the distribution of the class labels to check if there is any imbalance among the categories."
      ]
    },
    {
      "cell_type": "code",
      "source": [
        "# Plot a horizontal bar chart showing the count of each unique value in the 'label' column of the dataframe 'df'.\n",
        "# The counts are displayed in ascending order for better visualization of the distribution.\n",
        "# CODE HERE\n",
        "# check distribution of class labels in training dataset\n",
        "df['label'].value_counts(ascending=True).plot.barh()"
      ],
      "metadata": {
        "colab": {
          "base_uri": "https://localhost:8080/",
          "height": 448
        },
        "id": "sooGAq6ezW86",
        "outputId": "c2a28378-4c2b-49cf-e132-2b5a3ce16755",
        "pycharm": {
          "is_executing": true
        }
      },
      "execution_count": 20,
      "outputs": [
        {
          "output_type": "execute_result",
          "data": {
            "text/plain": [
              "<Axes: >"
            ]
          },
          "metadata": {},
          "execution_count": 20
        },
        {
          "output_type": "display_data",
          "data": {
            "text/plain": [
              "<Figure size 640x480 with 1 Axes>"
            ],
            "image/png": "[encoded data removed]"
          },
          "metadata": {}
        }
      ]
    },
    {
      "cell_type": "code",
      "execution_count": 21,
      "metadata": {
        "id": "wVCtC-9qhbDg",
        "pycharm": {
          "is_executing": true
        }
      },
      "outputs": [],
      "source": [
        "# DO NOT RUN THIS CELL"
      ]
    },
    {
      "cell_type": "markdown",
      "metadata": {
        "id": "U8NRjjKVmRzq"
      },
      "source": [
        "**Conclusions:**\n",
        "\n",
        "From the above figure, we can clearly see the imbalance between labels. The most of the questions are of 'Android' Language and least from 'asp.net'\n"
      ]
    },
    {
      "cell_type": "markdown",
      "source": [
        "### Calculate Class Weights"
      ],
      "metadata": {
        "id": "qoAx3wQ_NYkk"
      }
    },
    {
      "cell_type": "code",
      "source": [
        "# 1. Compute the class frequencies:\n",
        "class_weights = df['label'].value_counts(normalize=True, sort=False)\n",
        "\n",
        "print(class_weights)\n",
        "\n",
        "# 2. Sort weights by index (i.e., by label):\n",
        "class_weights = class_weights.sort_index()\n",
        "\n",
        "# 3. Compute the inverse of the class frequencies:\n",
        "class_weights = 1/class_weights\n",
        "\n",
        "# 4. Normalize the weights so they sum up to 1 (this step is optional but can be useful):\n",
        "class_weights = class_weights / class_weights.sum()\n",
        "\n",
        "# 5. Convert the weights to a PyTorch tensor:\n",
        "class_tensor_weights = torch.tensor(class_weights.values, dtype=torch.float)"
      ],
      "metadata": {
        "id": "uIWyhi4nNdhh",
        "colab": {
          "base_uri": "https://localhost:8080/"
        },
        "outputId": "037e6cea-86db-48f3-f3b9-36560832cc46"
      },
      "execution_count": 22,
      "outputs": [
        {
          "output_type": "stream",
          "name": "stdout",
          "text": [
            "4    0.338433\n",
            "6    0.100587\n",
            "0    0.083403\n",
            "2    0.113789\n",
            "3    0.065381\n",
            "1    0.137469\n",
            "8    0.019279\n",
            "7    0.051551\n",
            "5    0.060142\n",
            "9    0.029966\n",
            "Name: label, dtype: float64\n"
          ]
        }
      ]
    },
    {
      "cell_type": "code",
      "source": [
        "class_tensor_weights"
      ],
      "metadata": {
        "colab": {
          "base_uri": "https://localhost:8080/"
        },
        "id": "FnFDod74dbhS",
        "outputId": "3c837f19-9c0c-45cf-8ced-2db2e29a0e74"
      },
      "execution_count": 23,
      "outputs": [
        {
          "output_type": "execute_result",
          "data": {
            "text/plain": [
              "tensor([0.0675, 0.0410, 0.0495, 0.0862, 0.0166, 0.0937, 0.0560, 0.1093, 0.2922,\n",
              "        0.1880])"
            ]
          },
          "metadata": {},
          "execution_count": 23
        }
      ]
    },
    {
      "cell_type": "code",
      "source": [
        "sum(class_tensor_weights)"
      ],
      "metadata": {
        "colab": {
          "base_uri": "https://localhost:8080/"
        },
        "id": "pDo_uhe6df6Z",
        "outputId": "51777d16-2444-4068-c4af-23b0e05e91c0"
      },
      "execution_count": 24,
      "outputs": [
        {
          "output_type": "execute_result",
          "data": {
            "text/plain": [
              "tensor(1.)"
            ]
          },
          "metadata": {},
          "execution_count": 24
        }
      ]
    },
    {
      "cell_type": "code",
      "source": [],
      "metadata": {
        "id": "42Uv-BYmdxbp"
      },
      "execution_count": 24,
      "outputs": []
    },
    {
      "cell_type": "markdown",
      "metadata": {
        "id": "FYl8PoBim3kC"
      },
      "source": [
        "### <font color = 'indianred'> **Check length of the reviews** </font>\n"
      ]
    },
    {
      "cell_type": "code",
      "execution_count": 25,
      "metadata": {
        "id": "97bd8c56",
        "pycharm": {
          "is_executing": true
        }
      },
      "outputs": [],
      "source": [
        "# Add empty strings for rows that do not have any text\n",
        "df['text'] = df['text'].fillna('')"
      ]
    },
    {
      "cell_type": "code",
      "execution_count": 26,
      "metadata": {
        "id": "WOF_nrp2oBvT",
        "pycharm": {
          "is_executing": true
        }
      },
      "outputs": [],
      "source": [
        "# Add a new column to the dataframe 'df' named 'words_per_review'.\n",
        "# This column computes the number of words in each review in the 'text' column by splitting the text on spaces and counting the resulting words.\n",
        "df['words_per_review'] = df['text'].apply(lambda x : len(x.split(' '))) # CODEE HERE\n",
        "\n"
      ]
    },
    {
      "cell_type": "code",
      "source": [
        "df.head()"
      ],
      "metadata": {
        "id": "C9kGUd0X0Tle",
        "pycharm": {
          "is_executing": true
        },
        "colab": {
          "base_uri": "https://localhost:8080/",
          "height": 206
        },
        "outputId": "d149f281-7ee5-46ad-93ac-df3b8276210d"
      },
      "execution_count": 27,
      "outputs": [
        {
          "output_type": "execute_result",
          "data": {
            "text/plain": [
              "                                                text  label  words_per_review\n",
              "0  NullPointerException in OnCreate of inherited ...      4              1235\n",
              "1  List View OnitemClick Animation I did a list v...      4              2875\n",
              "2  uploading video file through ftp in android Hi...      4              2215\n",
              "3  C++ alternatives to preprocessor macro code ge...      6               739\n",
              "4  Reading null values in a byte array c# I am tr...      0              1400"
            ],
            "text/html": [
              "\n",
              "  <div id=\"df-b7cdb453-04d7-42f2-844c-5c59c04a4ed3\" class=\"colab-df-container\">\n",
              "    <div>\n",
              "<style scoped>\n",
              "    .dataframe tbody tr th:only-of-type {\n",
              "        vertical-align: middle;\n",
              "    }\n",
              "\n",
              "    .dataframe tbody tr th {\n",
              "        vertical-align: top;\n",
              "    }\n",
              "\n",
              "    .dataframe thead th {\n",
              "        text-align: right;\n",
              "    }\n",
              "</style>\n",
              "<table border=\"1\" class=\"dataframe\">\n",
              "  <thead>\n",
              "    <tr style=\"text-align: right;\">\n",
              "      <th></th>\n",
              "      <th>text</th>\n",
              "      <th>label</th>\n",
              "      <th>words_per_review</th>\n",
              "    </tr>\n",
              "  </thead>\n",
              "  <tbody>\n",
              "    <tr>\n",
              "      <th>0</th>\n",
              "      <td>NullPointerException in OnCreate of inherited ...</td>\n",
              "      <td>4</td>\n",
              "      <td>1235</td>\n",
              "    </tr>\n",
              "    <tr>\n",
              "      <th>1</th>\n",
              "      <td>List View OnitemClick Animation I did a list v...</td>\n",
              "      <td>4</td>\n",
              "      <td>2875</td>\n",
              "    </tr>\n",
              "    <tr>\n",
              "      <th>2</th>\n",
              "      <td>uploading video file through ftp in android Hi...</td>\n",
              "      <td>4</td>\n",
              "      <td>2215</td>\n",
              "    </tr>\n",
              "    <tr>\n",
              "      <th>3</th>\n",
              "      <td>C++ alternatives to preprocessor macro code ge...</td>\n",
              "      <td>6</td>\n",
              "      <td>739</td>\n",
              "    </tr>\n",
              "    <tr>\n",
              "      <th>4</th>\n",
              "      <td>Reading null values in a byte array c# I am tr...</td>\n",
              "      <td>0</td>\n",
              "      <td>1400</td>\n",
              "    </tr>\n",
              "  </tbody>\n",
              "</table>\n",
              "</div>\n",
              "    <div class=\"colab-df-buttons\">\n",
              "\n",
              "  <div class=\"colab-df-container\">\n",
              "    <button class=\"colab-df-convert\" onclick=\"convertToInteractive('df-b7cdb453-04d7-42f2-844c-5c59c04a4ed3')\"\n",
              "            title=\"Convert this dataframe to an interactive table.\"\n",
              "            style=\"display:none;\">\n",
              "\n",
              "  <svg xmlns=\"http://www.w3.org/2000/svg\" height=\"24px\" viewBox=\"0 -960 960 960\">\n",
              "    <path d=\"M120-120v-720h720v720H120Zm60-500h600v-160H180v160Zm220 220h160v-160H400v160Zm0 220h160v-160H400v160ZM180-400h160v-160H180v160Zm440 0h160v-160H620v160ZM180-180h160v-160H180v160Zm440 0h160v-160H620v160Z\"/>\n",
              "  </svg>\n",
              "    </button>\n",
              "\n",
              "  <style>\n",
              "    .colab-df-container {\n",
              "      display:flex;\n",
              "      gap: 12px;\n",
              "    }\n",
              "\n",
              "    .colab-df-convert {\n",
              "      background-color: #E8F0FE;\n",
              "      border: none;\n",
              "      border-radius: 50%;\n",
              "      cursor: pointer;\n",
              "      display: none;\n",
              "      fill: #1967D2;\n",
              "      height: 32px;\n",
              "      padding: 0 0 0 0;\n",
              "      width: 32px;\n",
              "    }\n",
              "\n",
              "    .colab-df-convert:hover {\n",
              "      background-color: #E2EBFA;\n",
              "      box-shadow: 0px 1px 2px rgba(60, 64, 67, 0.3), 0px 1px 3px 1px rgba(60, 64, 67, 0.15);\n",
              "      fill: #174EA6;\n",
              "    }\n",
              "\n",
              "    .colab-df-buttons div {\n",
              "      margin-bottom: 4px;\n",
              "    }\n",
              "\n",
              "    [theme=dark] .colab-df-convert {\n",
              "      background-color: #3B4455;\n",
              "      fill: #D2E3FC;\n",
              "    }\n",
              "\n",
              "    [theme=dark] .colab-df-convert:hover {\n",
              "      background-color: #434B5C;\n",
              "      box-shadow: 0px 1px 3px 1px rgba(0, 0, 0, 0.15);\n",
              "      filter: drop-shadow(0px 1px 2px rgba(0, 0, 0, 0.3));\n",
              "      fill: #FFFFFF;\n",
              "    }\n",
              "  </style>\n",
              "\n",
              "    <script>\n",
              "      const buttonEl =\n",
              "        document.querySelector('#df-b7cdb453-04d7-42f2-844c-5c59c04a4ed3 button.colab-df-convert');\n",
              "      buttonEl.style.display =\n",
              "        google.colab.kernel.accessAllowed ? 'block' : 'none';\n",
              "\n",
              "      async function convertToInteractive(key) {\n",
              "        const element = document.querySelector('#df-b7cdb453-04d7-42f2-844c-5c59c04a4ed3');\n",
              "        const dataTable =\n",
              "          await google.colab.kernel.invokeFunction('convertToInteractive',\n",
              "                                                    [key], {});\n",
              "        if (!dataTable) return;\n",
              "\n",
              "        const docLinkHtml = 'Like what you see? Visit the ' +\n",
              "          '<a target=\"_blank\" href=https://colab.research.google.com/notebooks/data_table.ipynb>data table notebook</a>'\n",
              "          + ' to learn more about interactive tables.';\n",
              "        element.innerHTML = '';\n",
              "        dataTable['output_type'] = 'display_data';\n",
              "        await google.colab.output.renderOutput(dataTable, element);\n",
              "        const docLink = document.createElement('div');\n",
              "        docLink.innerHTML = docLinkHtml;\n",
              "        element.appendChild(docLink);\n",
              "      }\n",
              "    </script>\n",
              "  </div>\n",
              "\n",
              "\n",
              "<div id=\"df-6019fc0e-0167-42d2-b60d-7bb9061bc4b3\">\n",
              "  <button class=\"colab-df-quickchart\" onclick=\"quickchart('df-6019fc0e-0167-42d2-b60d-7bb9061bc4b3')\"\n",
              "            title=\"Suggest charts\"\n",
              "            style=\"display:none;\">\n",
              "\n",
              "<svg xmlns=\"http://www.w3.org/2000/svg\" height=\"24px\"viewBox=\"0 0 24 24\"\n",
              "     width=\"24px\">\n",
              "    <g>\n",
              "        <path d=\"M19 3H5c-1.1 0-2 .9-2 2v14c0 1.1.9 2 2 2h14c1.1 0 2-.9 2-2V5c0-1.1-.9-2-2-2zM9 17H7v-7h2v7zm4 0h-2V7h2v10zm4 0h-2v-4h2v4z\"/>\n",
              "    </g>\n",
              "</svg>\n",
              "  </button>\n",
              "\n",
              "<style>\n",
              "  .colab-df-quickchart {\n",
              "      --bg-color: #E8F0FE;\n",
              "      --fill-color: #1967D2;\n",
              "      --hover-bg-color: #E2EBFA;\n",
              "      --hover-fill-color: #174EA6;\n",
              "      --disabled-fill-color: #AAA;\n",
              "      --disabled-bg-color: #DDD;\n",
              "  }\n",
              "\n",
              "  [theme=dark] .colab-df-quickchart {\n",
              "      --bg-color: #3B4455;\n",
              "      --fill-color: #D2E3FC;\n",
              "      --hover-bg-color: #434B5C;\n",
              "      --hover-fill-color: #FFFFFF;\n",
              "      --disabled-bg-color: #3B4455;\n",
              "      --disabled-fill-color: #666;\n",
              "  }\n",
              "\n",
              "  .colab-df-quickchart {\n",
              "    background-color: var(--bg-color);\n",
              "    border: none;\n",
              "    border-radius: 50%;\n",
              "    cursor: pointer;\n",
              "    display: none;\n",
              "    fill: var(--fill-color);\n",
              "    height: 32px;\n",
              "    padding: 0;\n",
              "    width: 32px;\n",
              "  }\n",
              "\n",
              "  .colab-df-quickchart:hover {\n",
              "    background-color: var(--hover-bg-color);\n",
              "    box-shadow: 0 1px 2px rgba(60, 64, 67, 0.3), 0 1px 3px 1px rgba(60, 64, 67, 0.15);\n",
              "    fill: var(--button-hover-fill-color);\n",
              "  }\n",
              "\n",
              "  .colab-df-quickchart-complete:disabled,\n",
              "  .colab-df-quickchart-complete:disabled:hover {\n",
              "    background-color: var(--disabled-bg-color);\n",
              "    fill: var(--disabled-fill-color);\n",
              "    box-shadow: none;\n",
              "  }\n",
              "\n",
              "  .colab-df-spinner {\n",
              "    border: 2px solid var(--fill-color);\n",
              "    border-color: transparent;\n",
              "    border-bottom-color: var(--fill-color);\n",
              "    animation:\n",
              "      spin 1s steps(1) infinite;\n",
              "  }\n",
              "\n",
              "  @keyframes spin {\n",
              "    0% {\n",
              "      border-color: transparent;\n",
              "      border-bottom-color: var(--fill-color);\n",
              "      border-left-color: var(--fill-color);\n",
              "    }\n",
              "    20% {\n",
              "      border-color: transparent;\n",
              "      border-left-color: var(--fill-color);\n",
              "      border-top-color: var(--fill-color);\n",
              "    }\n",
              "    30% {\n",
              "      border-color: transparent;\n",
              "      border-left-color: var(--fill-color);\n",
              "      border-top-color: var(--fill-color);\n",
              "      border-right-color: var(--fill-color);\n",
              "    }\n",
              "    40% {\n",
              "      border-color: transparent;\n",
              "      border-right-color: var(--fill-color);\n",
              "      border-top-color: var(--fill-color);\n",
              "    }\n",
              "    60% {\n",
              "      border-color: transparent;\n",
              "      border-right-color: var(--fill-color);\n",
              "    }\n",
              "    80% {\n",
              "      border-color: transparent;\n",
              "      border-right-color: var(--fill-color);\n",
              "      border-bottom-color: var(--fill-color);\n",
              "    }\n",
              "    90% {\n",
              "      border-color: transparent;\n",
              "      border-bottom-color: var(--fill-color);\n",
              "    }\n",
              "  }\n",
              "</style>\n",
              "\n",
              "  <script>\n",
              "    async function quickchart(key) {\n",
              "      const quickchartButtonEl =\n",
              "        document.querySelector('#' + key + ' button');\n",
              "      quickchartButtonEl.disabled = true;  // To prevent multiple clicks.\n",
              "      quickchartButtonEl.classList.add('colab-df-spinner');\n",
              "      try {\n",
              "        const charts = await google.colab.kernel.invokeFunction(\n",
              "            'suggestCharts', [key], {});\n",
              "      } catch (error) {\n",
              "        console.error('Error during call to suggestCharts:', error);\n",
              "      }\n",
              "      quickchartButtonEl.classList.remove('colab-df-spinner');\n",
              "      quickchartButtonEl.classList.add('colab-df-quickchart-complete');\n",
              "    }\n",
              "    (() => {\n",
              "      let quickchartButtonEl =\n",
              "        document.querySelector('#df-6019fc0e-0167-42d2-b60d-7bb9061bc4b3 button');\n",
              "      quickchartButtonEl.style.display =\n",
              "        google.colab.kernel.accessAllowed ? 'block' : 'none';\n",
              "    })();\n",
              "  </script>\n",
              "</div>\n",
              "\n",
              "    </div>\n",
              "  </div>\n"
            ]
          },
          "metadata": {},
          "execution_count": 27
        }
      ]
    },
    {
      "cell_type": "code",
      "execution_count": 28,
      "metadata": {
        "id": "Pw7jn9U1YDJH",
        "pycharm": {
          "is_executing": true
        }
      },
      "outputs": [],
      "source": [
        "# DO NOT RUN THIS CELL"
      ]
    },
    {
      "cell_type": "markdown",
      "metadata": {
        "id": "YhePLup4AuDo"
      },
      "source": [
        "#### <font color = 'indianred'> **Plot the distribution of review length** </font>"
      ]
    },
    {
      "cell_type": "code",
      "execution_count": 29,
      "metadata": {
        "id": "6m_e5NU7pOr_",
        "pycharm": {
          "is_executing": true
        },
        "colab": {
          "base_uri": "https://localhost:8080/",
          "height": 472
        },
        "outputId": "c935ac82-2939-4d90-a8c5-3f340f254bad"
      },
      "outputs": [
        {
          "output_type": "display_data",
          "data": {
            "text/plain": [
              "<Figure size 640x480 with 1 Axes>"
            ],
            "image/png": "[encoded data removed]"
          },
          "metadata": {}
        }
      ],
      "source": [
        "# Plot a histogram of the 'words_per_review' column\n",
        "df['words_per_review'].hist(bins=50, edgecolor='black')\n",
        "\n",
        "# Adding labels and a title for clarity\n",
        "plt.xlabel('Number of Words')\n",
        "plt.ylabel('Frequency')\n",
        "plt.title('Distribution of Words per Review')\n",
        "\n",
        "# Display the plot\n",
        "plt.show()\n"
      ]
    },
    {
      "cell_type": "code",
      "execution_count": 30,
      "metadata": {
        "id": "yTYJqPgEpPQV",
        "pycharm": {
          "is_executing": true
        },
        "colab": {
          "base_uri": "https://localhost:8080/"
        },
        "outputId": "995b9e73-094a-4b86-84b8-83a204d93eb0"
      },
      "outputs": [
        {
          "output_type": "stream",
          "name": "stdout",
          "text": [
            "Number of reviews with more than 500 words: 4559\n"
          ]
        }
      ],
      "source": [
        "# The model we are going to use has token (subwords) limit of 512.\n",
        "# Let us check how many reviews has more than 500 words\n",
        "\n",
        "count = (df['words_per_review'] > 500).sum()\n",
        "print(f\"Number of reviews with more than 500 words: {count}\")\n"
      ]
    },
    {
      "cell_type": "code",
      "execution_count": 31,
      "metadata": {
        "id": "07706253",
        "pycharm": {
          "is_executing": true
        },
        "colab": {
          "base_uri": "https://localhost:8080/"
        },
        "outputId": "ccaf926c-8fe8-4ff6-dfbd-a7edb7ef9056"
      },
      "outputs": [
        {
          "output_type": "stream",
          "name": "stdout",
          "text": [
            "Number of reviews with no text words: 0\n"
          ]
        }
      ],
      "source": [
        "# count the rows that do not have any text\n",
        "count = (df['words_per_review'] ==0).sum()\n",
        "print(f\"Number of reviews with no text words: {count}\")"
      ]
    },
    {
      "cell_type": "code",
      "execution_count": 32,
      "metadata": {
        "id": "f436b258",
        "pycharm": {
          "is_executing": true
        },
        "colab": {
          "base_uri": "https://localhost:8080/"
        },
        "outputId": "1d8c1330-0559-4cd7-ae79-368b29dc35be"
      },
      "outputs": [
        {
          "output_type": "stream",
          "name": "stdout",
          "text": [
            "Number of reviews with less than 20 words: 0\n"
          ]
        }
      ],
      "source": [
        "# check the rows that have less than 20 words\n",
        "count = (df['words_per_review'] <20).sum()\n",
        "print(f\"Number of reviews with less than 20 words: {count}\")"
      ]
    },
    {
      "cell_type": "code",
      "execution_count": 33,
      "metadata": {
        "id": "RUNNBUrRoXam",
        "pycharm": {
          "is_executing": true
        },
        "colab": {
          "base_uri": "https://localhost:8080/",
          "height": 496
        },
        "outputId": "8c4198bf-0d02-4fa5-fe2f-004379e3482e"
      },
      "outputs": [
        {
          "output_type": "execute_result",
          "data": {
            "text/plain": [
              "<Axes: title={'center': 'words_per_review'}, xlabel='label'>"
            ]
          },
          "metadata": {},
          "execution_count": 33
        },
        {
          "output_type": "display_data",
          "data": {
            "text/plain": [
              "<Figure size 640x480 with 1 Axes>"
            ],
            "image/png": "[encoded data removed]"
          },
          "metadata": {}
        }
      ],
      "source": [
        "# distribution of number of words for each class label\n",
        "df.boxplot('words_per_review', by='label')\n"
      ]
    },
    {
      "cell_type": "markdown",
      "metadata": {
        "id": "Km7Zvpc-riSv"
      },
      "source": [
        "- From the above graph, it seems that the distribution of number of words is similar for all the classes.\n",
        "- Most models have max sequence length of 512. We have less than 1% observatins that have more than 512 words."
      ]
    },
    {
      "cell_type": "markdown",
      "metadata": {
        "id": "QuV3BOnD1GjF"
      },
      "source": [
        "### <font color = 'indianred'> **Reset dataset format** </font>\n"
      ]
    },
    {
      "cell_type": "code",
      "execution_count": 34,
      "metadata": {
        "id": "S2XAL-2PyI-3",
        "pycharm": {
          "is_executing": true
        }
      },
      "outputs": [],
      "source": [
        "# reset the format back to huggingface dataset\n",
        "stack_selected_columns.reset_format()\n",
        "# CODE HERE\n"
      ]
    },
    {
      "cell_type": "markdown",
      "metadata": {
        "id": "olD42nSSAwrM"
      },
      "source": [
        "## <font color = 'pickle'> **Data Pre-processing**</font>"
      ]
    },
    {
      "cell_type": "markdown",
      "metadata": {
        "id": "EYLhKHtCC80U"
      },
      "source": [
        "### <font color = 'indianred'> **Create train, valid, test splits** </font>"
      ]
    },
    {
      "cell_type": "code",
      "execution_count": 35,
      "metadata": {
        "id": "93fb2bdd",
        "pycharm": {
          "is_executing": true
        }
      },
      "outputs": [],
      "source": [
        "# We know this information from how we created this dataset\n",
        "class_names = ['c#', 'java', 'php','javascript', 'android', 'jquery', 'c++',  'python', 'iphone', 'asp.net']"
      ]
    },
    {
      "cell_type": "code",
      "execution_count": 36,
      "metadata": {
        "id": "003132bb",
        "pycharm": {
          "is_executing": true
        },
        "colab": {
          "base_uri": "https://localhost:8080/",
          "height": 49,
          "referenced_widgets": [
            "4651865dea154ddf9e2237d544a70216",
            "3a0936f97e40499aacb47c4ec8eadbac",
            "d3d2a6350ef44806aaa911a71b2d9243",
            "434e2ad2eb214793b5cf963a6c6829ad",
            "5948e76eff3d4ca59effe66913a15538",
            "bfe8c0bbaceb47128081e0728fefe5f6",
            "9e1fc10180944f66800c965deeb39b12",
            "e3f47006124e4ec18b0f63b9c1dc08a8",
            "8f000a5d9c834ae7ba201e829c90d0e1",
            "50011cf3d18d4115a7531e5e40de4889",
            "1e1de2186f2c4a9bba72e46fa56461c3"
          ]
        },
        "outputId": "74e54eb1-af81-44f3-e3d9-e0ec79ac88b2"
      },
      "outputs": [
        {
          "output_type": "display_data",
          "data": {
            "text/plain": [
              "Casting the dataset:   0%|          | 0/4772 [00:00<?, ? examples/s]"
            ],
            "application/vnd.jupyter.widget-view+json": {
              "version_major": 2,
              "version_minor": 0,
              "model_id": "4651865dea154ddf9e2237d544a70216"
            }
          },
          "metadata": {}
        }
      ],
      "source": [
        "# Cast the 'label' column of stack_selected_columns to the ClassLabel type with specified class names from class_names.\n",
        "stack_selected_columns = stack_selected_columns.cast_column('label', ClassLabel(names = class_names))\n"
      ]
    },
    {
      "cell_type": "markdown",
      "source": [
        "The code above modifies the label column of the stack_selected_columns data structure to represent categorical data using the class names provided in class_names. This will help us to keep the index and names mapping together."
      ],
      "metadata": {
        "id": "QH-050Ka1tYW"
      }
    },
    {
      "cell_type": "code",
      "execution_count": 37,
      "metadata": {
        "colab": {
          "base_uri": "https://localhost:8080/"
        },
        "id": "1c35b973",
        "outputId": "0b5cddca-2d2e-4187-e64a-ada7bf8666bf",
        "pycharm": {
          "is_executing": true
        }
      },
      "outputs": [
        {
          "output_type": "execute_result",
          "data": {
            "text/plain": [
              "{'text': Value(dtype='string', id=None),\n",
              " 'label': ClassLabel(names=['c#', 'java', 'php', 'javascript', 'android', 'jquery', 'c++', 'python', 'iphone', 'asp.net'], id=None)}"
            ]
          },
          "metadata": {},
          "execution_count": 37
        }
      ],
      "source": [
        "stack_selected_columns.features"
      ]
    },
    {
      "cell_type": "code",
      "execution_count": 38,
      "metadata": {
        "id": "da05867c",
        "pycharm": {
          "is_executing": true
        },
        "colab": {
          "base_uri": "https://localhost:8080/"
        },
        "outputId": "3a79fc14-c5af-4646-b479-56890d996acd"
      },
      "outputs": [
        {
          "output_type": "execute_result",
          "data": {
            "text/plain": [
              "Dataset({\n",
              "    features: ['text', 'label'],\n",
              "    num_rows: 4772\n",
              "})"
            ]
          },
          "metadata": {},
          "execution_count": 38
        }
      ],
      "source": [
        "stack_selected_columns"
      ]
    },
    {
      "cell_type": "code",
      "execution_count": 39,
      "metadata": {
        "pycharm": {
          "is_executing": true
        },
        "id": "z2WtP7JGC80W"
      },
      "outputs": [],
      "source": [
        "# Split the 'stack_selected_columns' dataset into training, validation, and test sets.\n",
        "# The aim is to have 60% for training, 20% for validation, and 20% for testing.\n",
        "\n",
        "# First, split the dataset into a 60% training set and a 40% temporary set (to be further split).\n",
        "# Use stratified sampling based on the 'label' column to ensure that each split has a similar distribution of labels.\n",
        "test_val_splits = stack_selected_columns.train_test_split(test_size= 0.4, seed=21, stratify_by_column='label') # CODE HERE\n",
        "\n",
        "# Extract the 60% training dataset.\n",
        "train_split = test_val_splits[\"train\"] #CODE HERE\n",
        "\n",
        "\n",
        "# Split the 40% temporary set into two equal parts: validation (20%) and test (20%).\n",
        "# Again, use stratified sampling based on the 'label' column.\n",
        "test_val_splits =  test_val_splits[\"test\"].train_test_split(test_size= 0.5, seed=21, stratify_by_column='label') #CODE HERE\n",
        "\n",
        "# Extract the validation and test datasets.\n",
        "val_split = test_val_splits['train']# CODE HERE\n",
        "test_split = test_val_splits['test'] # CODE HERE\n",
        "\n"
      ]
    },
    {
      "cell_type": "code",
      "source": [
        "stack_selected_columns_dict = DatasetDict({'train': train_split, 'val': val_split, 'test': test_split})"
      ],
      "metadata": {
        "id": "iKFClKEdFjJL"
      },
      "execution_count": 40,
      "outputs": []
    },
    {
      "cell_type": "code",
      "execution_count": 41,
      "metadata": {
        "id": "PSvvyER72fnP"
      },
      "outputs": [],
      "source": [
        "# combine train, val splits into one dataset\n",
        "train_val_subset= DatasetDict({'train': train_split, 'val': val_split})\n",
        "\n",
        "# create test dataset from test split\n",
        "test_subset = DatasetDict({'test': test_split})\n",
        "\n"
      ]
    },
    {
      "cell_type": "markdown",
      "metadata": {
        "id": "459a6dbc"
      },
      "source": [
        "### <font color = 'pickle'> **Create subset for experimentation** </font>"
      ]
    },
    {
      "cell_type": "code",
      "execution_count": 42,
      "metadata": {
        "id": "2e99f071"
      },
      "outputs": [],
      "source": [
        "train_split_small = train_split.shuffle(seed=42).select(range(10))\n",
        "val_split_small = val_split.shuffle(seed=42).select(range(10))\n",
        "test_split_small = test_split.shuffle(seed=42).select(range(10))\n"
      ]
    },
    {
      "cell_type": "code",
      "source": [
        "# combine train, val splits into one dataset\n",
        "train_val_small= DatasetDict({'train': train_split_small, 'val': val_split_small})\n",
        "\n",
        "# create test dataset from test split\n",
        "test_small = DatasetDict({'test': test_split_small})"
      ],
      "metadata": {
        "id": "JoawHwrworoE"
      },
      "execution_count": 43,
      "outputs": []
    },
    {
      "cell_type": "code",
      "execution_count": 44,
      "metadata": {
        "id": "8ebeeabc"
      },
      "outputs": [],
      "source": [
        "train_val_subset.set_format(type='pandas')"
      ]
    },
    {
      "cell_type": "code",
      "execution_count": 45,
      "metadata": {
        "id": "244d30f4"
      },
      "outputs": [],
      "source": [
        "df_train = train_val_subset['train'][:]"
      ]
    },
    {
      "cell_type": "code",
      "execution_count": 46,
      "metadata": {
        "colab": {
          "base_uri": "https://localhost:8080/",
          "height": 448
        },
        "id": "166e2288",
        "outputId": "64795538-7053-4615-d4ca-5016a47c4967"
      },
      "outputs": [
        {
          "output_type": "execute_result",
          "data": {
            "text/plain": [
              "<Axes: >"
            ]
          },
          "metadata": {},
          "execution_count": 46
        },
        {
          "output_type": "display_data",
          "data": {
            "text/plain": [
              "<Figure size 640x480 with 1 Axes>"
            ],
            "image/png": "[encoded data removed]"
          },
          "metadata": {}
        }
      ],
      "source": [
        "# check ditsribution of class labels in training dataset\n",
        "df_train['label'].value_counts(ascending=True).plot.barh()"
      ]
    },
    {
      "cell_type": "code",
      "execution_count": 47,
      "metadata": {
        "id": "051ca3c3"
      },
      "outputs": [],
      "source": [
        "# Reset the format of train_val_subset to its original huggingface format\n",
        "train_val_subset.reset_format()\n"
      ]
    },
    {
      "cell_type": "code",
      "execution_count": 48,
      "metadata": {
        "colab": {
          "base_uri": "https://localhost:8080/"
        },
        "id": "32e67b3b",
        "outputId": "1d2d2a45-e0a6-45d3-b0cc-b3b837844ea3"
      },
      "outputs": [
        {
          "output_type": "execute_result",
          "data": {
            "text/plain": [
              "{'text': Value(dtype='string', id=None),\n",
              " 'label': ClassLabel(names=['c#', 'java', 'php', 'javascript', 'android', 'jquery', 'c++', 'python', 'iphone', 'asp.net'], id=None)}"
            ]
          },
          "metadata": {},
          "execution_count": 48
        }
      ],
      "source": [
        "# Retrieve the feature structures (data types and associated details) of the 'train' split from train_val_subset.\n",
        "train_val_subset['train'].features\n"
      ]
    },
    {
      "cell_type": "code",
      "execution_count": 49,
      "metadata": {
        "colab": {
          "base_uri": "https://localhost:8080/",
          "height": 81,
          "referenced_widgets": [
            "cd40569436314bd49a61cca0bca72883",
            "f611781a3bfc49018524b2bf46ccde44",
            "f0fdd59267c049bca1c145c4391defaf",
            "3d0a67f3623a47db99295cf35277e415",
            "1c18cc31ec7c4b1eba90012fde0f32c2",
            "e37ba1d3abc1400d96ec9d3fa18c9a37",
            "cedde92081cd4e82b6dad4bbe679e169",
            "faeed80da94048e4a348db160fb3818b",
            "354ecbcfc6f242bda2665f4447193f8c",
            "93713c128e8a471babf08f757eb2d3da",
            "3704a5352ef544d4ba61d0e13174f7c9",
            "6e166db0d74a4edfb76a0ebafd68adc3",
            "c1e02c7c7200406e83c3b98d902c44eb",
            "0365327015af4159bf26fddd9d0f652f",
            "748a2dcb2958492e9ca93ebd54e2f5e9",
            "2f6b00e4d18846e092e8871d3e7045f3",
            "d89448c661a44c76af46aaa4275a0887",
            "b707c512f58e48a99a9aae74c19a671d",
            "f09e8e2ad5284321adc53e6f7a9b4c81",
            "3c109f79c4a24731b31bd74e22ba5e8b",
            "b0a83a314b0045fe95083daaad7ced90",
            "cac73647a9c3446388e1fdd1872b50d8"
          ]
        },
        "id": "5b6e56e1",
        "outputId": "4e217b51-304f-4847-d9d9-288592dd424b"
      },
      "outputs": [
        {
          "output_type": "display_data",
          "data": {
            "text/plain": [
              "Casting the dataset:   0%|          | 0/2863 [00:00<?, ? examples/s]"
            ],
            "application/vnd.jupyter.widget-view+json": {
              "version_major": 2,
              "version_minor": 0,
              "model_id": "cd40569436314bd49a61cca0bca72883"
            }
          },
          "metadata": {}
        },
        {
          "output_type": "display_data",
          "data": {
            "text/plain": [
              "Casting the dataset:   0%|          | 0/954 [00:00<?, ? examples/s]"
            ],
            "application/vnd.jupyter.widget-view+json": {
              "version_major": 2,
              "version_minor": 0,
              "model_id": "6e166db0d74a4edfb76a0ebafd68adc3"
            }
          },
          "metadata": {}
        }
      ],
      "source": [
        "# Cast the 'label' column of the entire train_val_subset to the ClassLabel type using the provided class names from class_names.\n",
        "train_val_subset = train_val_subset.cast_column('label', ClassLabel(names = class_names)) # CODE HERE\n"
      ]
    },
    {
      "cell_type": "code",
      "execution_count": 50,
      "metadata": {
        "colab": {
          "base_uri": "https://localhost:8080/"
        },
        "id": "de8f5e8b",
        "outputId": "2681884f-2d2e-41f2-f21a-cba06ebcb4bc"
      },
      "outputs": [
        {
          "output_type": "execute_result",
          "data": {
            "text/plain": [
              "{'text': Value(dtype='string', id=None),\n",
              " 'label': ClassLabel(names=['c#', 'java', 'php', 'javascript', 'android', 'jquery', 'c++', 'python', 'iphone', 'asp.net'], id=None)}"
            ]
          },
          "metadata": {},
          "execution_count": 50
        }
      ],
      "source": [
        "train_val_subset['train'].features"
      ]
    },
    {
      "cell_type": "markdown",
      "source": [
        "##  <font color = 'pickle'> **Create Custom_Collate function**"
      ],
      "metadata": {
        "id": "vim56fRXT2pt"
      }
    },
    {
      "cell_type": "code",
      "source": [
        "def collate_function(batch, tokenizer, max_length, stride):\n",
        "\n",
        "\n",
        "    text_batch = [item['text'] for item in batch]\n",
        "\n",
        "    # Check if any of the batch items has 'label', if so process labels.\n",
        "    if all('label' in item for item in batch):\n",
        "        label_batch = [item['label'] for item in batch]\n",
        "        doc_labels = torch.tensor(label_batch, dtype=torch.long)\n",
        "    else:\n",
        "        doc_labels = None\n",
        "\n",
        "\n",
        "    # Tokenize the batch of texts\n",
        "    tokenized = tokenizer(text_batch,\n",
        "                          padding='longest',\n",
        "                          truncation=True,\n",
        "                          return_tensors='pt',\n",
        "                          max_length=max_length,\n",
        "                          return_overflowing_tokens=True,\n",
        "                          stride=stride)\n",
        "\n",
        "    # Flatten the chunks if necessary using overflow_to_sample_mapping\n",
        "    overflow_to_sample_mapping = tokenized.get(\"overflow_to_sample_mapping\", None)\n",
        "\n",
        "    result = {\n",
        "        **tokenized,\n",
        "        \"overflow_to_sample_mapping\": overflow_to_sample_mapping,\n",
        "    }\n",
        "\n",
        "    # Repeat labels for the chunks based on overflow_to_sample_mapping, only if labels are present\n",
        "    if doc_labels is not None and overflow_to_sample_mapping is not None:\n",
        "        labels = doc_labels[overflow_to_sample_mapping]\n",
        "        result[\"labels\"] = labels\n",
        "        result[\"doc_labels\"] = doc_labels\n",
        "\n",
        "    return result\n"
      ],
      "metadata": {
        "id": "Dfqj_yXBT3Qw"
      },
      "execution_count": 51,
      "outputs": []
    },
    {
      "cell_type": "code",
      "source": [
        "from collections import Counter\n",
        "import torch\n",
        "\n",
        "def cal_class_weights(input_tensor):\n",
        "    # Convert the tensor to a list\n",
        "    input_list = input_tensor.cpu().detach().numpy().tolist()\n",
        "\n",
        "    counts = Counter(input_list)\n",
        "    total = sum(counts.values())\n",
        "\n",
        "    for key, value in counts.items():\n",
        "        counts[key] = value / total\n",
        "\n",
        "    # Convert counts dictionary to a Pandas Series\n",
        "    import pandas as pd\n",
        "    sd = pd.Series(counts).sort_index()\n",
        "\n",
        "    class_weights = 1 / sd\n",
        "    class_weights = class_weights / class_weights.sum()\n",
        "\n",
        "    class_tensor_weights = torch.tensor(class_weights.values, dtype=torch.float)\n",
        "\n",
        "    return class_tensor_weights\n",
        "\n"
      ],
      "metadata": {
        "id": "0FypxKtKX_rO"
      },
      "execution_count": 52,
      "outputs": []
    },
    {
      "cell_type": "markdown",
      "source": [
        "## Function to initialize model"
      ],
      "metadata": {
        "id": "JxNrgR59iu4v"
      }
    },
    {
      "cell_type": "code",
      "source": [
        "def initialize_model(checkpoint, class_names):\n",
        "    config = AutoConfig.from_pretrained(checkpoint)\n",
        "    id2label = {}\n",
        "    for id_, label_ in enumerate(class_names):\n",
        "        id2label[str(id_)] = label_\n",
        "\n",
        "    label2id = {}\n",
        "    for id_, label_ in enumerate(class_names):\n",
        "        label2id[label_] = id_\n",
        "\n",
        "    config.id2label = id2label\n",
        "    config.label2id = label2id\n",
        "\n",
        "    model = AutoModelForSequenceClassification.from_pretrained(checkpoint, config=config)\n",
        "\n",
        "    return model, config"
      ],
      "metadata": {
        "id": "qw6EOSCKKqPG"
      },
      "execution_count": 53,
      "outputs": []
    },
    {
      "cell_type": "markdown",
      "source": [
        "## Aggregate Predictions"
      ],
      "metadata": {
        "id": "kvDmymxab8Km"
      }
    },
    {
      "cell_type": "code",
      "source": [
        "\n",
        "def stable_log_softmax(x):\n",
        "    # Subtract the max for numerical stability along the last axis (axis=-1)\n",
        "    x_max = np.max(x, axis=-1, keepdims=True)\n",
        "    # Use logsumexp for better numerical stability\n",
        "    log_softmax = x - x_max - logsumexp(x - x_max, axis=-1, keepdims=True)\n",
        "    return log_softmax\n",
        "\n",
        "\n",
        "\n",
        "def aggregate_predictions(logits, aggregation_method, overflow_to_sample_mapping):\n",
        "\n",
        "    probabilities = softmax(logits, axis=-1)\n",
        "    log_probabilities = stable_log_softmax(logits)\n",
        "\n",
        "    # print('log_probs', log_probabilities.shape)\n",
        "    # print('overflow_to_sample_mapping', overflow_to_sample_mapping.shape)\n",
        "\n",
        "    # Get unique documents\n",
        "\n",
        "    unique_docs, inverse_indices = np.unique(overflow_to_sample_mapping, return_inverse=True)\n",
        "    num_docs = unique_docs.size\n",
        "\n",
        "    # Create a mask for documents\n",
        "    mask = overflow_to_sample_mapping[:, None] == unique_docs[None, :]\n",
        "\n",
        "    # Initialize the aggregated_predictions variable\n",
        "    aggregated_predictions = None\n",
        "\n",
        "    if aggregation_method == \"average_log_probs\":\n",
        "        # Compute average probabilities using NumPy\n",
        "        avg_log_probs = (log_probabilities[:, None, :] * mask[:, :, None].astype(float)).sum(axis=0) / mask.sum(axis=0, keepdims=True).transpose((1, 0))\n",
        "        aggregated_predictions = np.argmax(avg_log_probs, axis=-1)\n",
        "        scores = np.exp(avg_log_probs.max(axis=-1))\n",
        "\n",
        "    elif aggregation_method == \"average_probs\":\n",
        "        # Compute average probabilities using NumPy\n",
        "        avg_probs = (probabilities[:, None, :] * mask[:, :, None].astype(float)).sum(axis=0) / mask.sum(axis=0, keepdims=True).transpose((1, 0))\n",
        "        aggregated_predictions = np.argmax(avg_probs, axis=-1)\n",
        "        scores  = avg_probs.max(axis=-1)\n",
        "\n",
        "    elif aggregation_method == \"max_probs\":\n",
        "        # Compute max probabilities per document\n",
        "        max_values = np.where(mask[:, :, None], log_probabilities[:, None, :], float('-inf'))\n",
        "        max_log_probs = np.max(max_values, axis=0)\n",
        "        aggregated_predictions = np.argmax(max_log_probs, axis=-1)\n",
        "        scores = np.exp(max_log_probs.max(axis=-1))\n",
        "\n",
        "    elif aggregation_method == \"majority_vote\":\n",
        "        # Convert logits to actual predictions before voting\n",
        "        predictions = np.argmax(logits, axis=1)\n",
        "        # Tally the votes for each document\n",
        "        vote_tally = np.zeros((num_docs, logits.shape[-1]), dtype=int)\n",
        "        np.add.at(vote_tally, overflow_to_sample_mapping, np.eye(logits.shape[-1], dtype=int)[predictions])\n",
        "        # Determine the majority vote for each document\n",
        "        aggregated_predictions = np.argmax(vote_tally, axis=1)\n",
        "        scores = vote_tally.max(axis=-1) / vote_tally.sum(axis=-1)\n",
        "    else:\n",
        "        raise ValueError(f\"Unsupported aggregation_method: {aggregation_method}\")\n",
        "\n",
        "    # # Calculate evaluation metrics using document-level labels\n",
        "    # metrics = evaluate.combine([\n",
        "    #     evaluate.load(\"accuracy\"),\n",
        "    #     evaluate.load(\"f1\", average=\"macro\")\n",
        "    # ])\n",
        "    # evaluations = metrics.compute(predictions=aggregated_predictions, references=doc_labels)\n",
        "\n",
        "    # return evaluations\n",
        "\n",
        "    return aggregated_predictions, scores\n",
        "\n",
        "\n",
        "\n"
      ],
      "metadata": {
        "id": "zKvWyu1rb-L6"
      },
      "execution_count": 54,
      "outputs": []
    },
    {
      "cell_type": "markdown",
      "source": [
        "## Custom Trainer"
      ],
      "metadata": {
        "id": "NNDwDeX-c1PS"
      }
    },
    {
      "cell_type": "code",
      "source": [
        "from transformers import Trainer\n",
        "import torch\n",
        "import torch.nn as nn\n",
        "from transformers.trainer_utils import EvalPrediction\n",
        "\n",
        "\n",
        "class CustomTrainer(Trainer):\n",
        "    def __init__(self, *args, loss_type=\"average_log_probs\", **kwargs):\n",
        "        super(CustomTrainer, self).__init__(*args, **kwargs)\n",
        "        self.loss_type = loss_type\n",
        "\n",
        "\n",
        "\n",
        "    def compute_loss(self, model, inputs, return_outputs=False):\n",
        "\n",
        "        labels = inputs[\"labels\"]\n",
        "        overflow_to_sample_mapping = inputs.pop(\"overflow_to_sample_mapping\", None)\n",
        "        doc_labels = inputs.pop(\"doc_labels\", None)\n",
        "        logits = model(**inputs).logits\n",
        "\n",
        "        # convert logits to log probabilities, probabilities\n",
        "        log_probabilities = F.log_softmax(logits, dim=-1)\n",
        "        probabilities = F.softmax(logits, dim=-1)\n",
        "\n",
        "\n",
        "        # Number of unique documents and chunks\n",
        "        num_docs = doc_labels.size(0)\n",
        "        num_chunks = overflow_to_sample_mapping.size(0)\n",
        "\n",
        "        # Ensure overflow_to_sample_mapping is on the same device as doc_labels\n",
        "        overflow_to_sample_mapping = overflow_to_sample_mapping.to(doc_labels.device)\n",
        "\n",
        "        # Create a tensor representing each unique doc\n",
        "        unique_docs = torch.arange(num_docs).to(doc_labels.device)\n",
        "\n",
        "        # Create the mask\n",
        "        mask = overflow_to_sample_mapping[:, None] == unique_docs[None, :]\n",
        "\n",
        "        loss_fn = nn.NLLLoss(weight = class_tensor_weights.to(model.device))\n",
        "\n",
        "        #loss_fn = self.nll_loss(weight = cal_class_weights(labels).to(model.device))\n",
        "\n",
        "\n",
        "        if self.loss_type == \"average_log_probs\":\n",
        "            avg_log_probs = (log_probabilities[:, None, :] * mask.unsqueeze(-1).float()).sum(0) / mask.sum(0, keepdim=True).T\n",
        "\n",
        "            # print('avg_log_probs_shape', avg_log_probs.shape)\n",
        "            loss = loss_fn( avg_log_probs, doc_labels)\n",
        "            # print(loss)\n",
        "\n",
        "        elif self.loss_type == \"average_probs\":\n",
        "            avg_probs = (probabilities[:, None, :] * mask.unsqueeze(-1).float()).sum(0) / mask.sum(0, keepdim=True).T\n",
        "\n",
        "            avg_log_probs = torch.log(avg_probs)\n",
        "            # print('avg_log_probs_shape', avg_log_probs.shape)\n",
        "            loss = loss_fn(avg_log_probs, doc_labels)\n",
        "            # print(loss)\n",
        "\n",
        "        elif self.loss_type == \"max\":\n",
        "            max_values = torch.where(mask.unsqueeze(-1), log_probabilities[:, None, :], torch.tensor(float('-inf'), device=log_probabilities.device))\n",
        "            max_log_probs = max_values.max(dim=0).values\n",
        "            # print('max_log_probs_shape', max_log_probs.shape)\n",
        "            loss = loss_fn(max_log_probs, doc_labels)\n",
        "            # print(loss)\n",
        "\n",
        "        elif self.loss_type == \"loss_per_chunk\":\n",
        "            # print('log_probs_shape', log_probabilities.shape)\n",
        "            loss = loss_fn(log_probabilities, labels.view(-1))\n",
        "            # print(loss)\n",
        "\n",
        "        else:\n",
        "            raise ValueError(f\"Unsupported loss_type: {self.loss_type}\")\n",
        "\n",
        "\n",
        "        return (loss, logits) if return_outputs else loss\n",
        "\n"
      ],
      "metadata": {
        "id": "woZ_ivUcczeG"
      },
      "execution_count": 55,
      "outputs": []
    },
    {
      "cell_type": "markdown",
      "source": [
        "### Plot Confusion Matrix"
      ],
      "metadata": {
        "id": "dk3VgGFIi78r"
      }
    },
    {
      "cell_type": "code",
      "source": [
        "def log_and_plot_confusion_matrix(filtered_labels,  filtered_predictions, class_names):\n",
        "    # Perform prediction using the trainer\n",
        "    # valid_output = trainer.predict(tokenized_val_dataset)\n",
        "\n",
        "    # # Convert the logits (raw prediction scores) from the valid_output object into class predictions.\n",
        "    # # For each input, pick the class with the highest logit as the predicted class.\n",
        "    # # Also, extract the true label IDs from valid_output and store them as an array for further analysis.\n",
        "    # valid_predictions = np.argmax(valid_output.predictions, axis=2)\n",
        "    # valid_labels = np.array(valid_output.label_ids)\n",
        "\n",
        "    # # 2. Filter out any tokens with label -100 (typically used for padding or special tokens)\n",
        "    # mask = valid_labels != -100\n",
        "    # filtered_predictions = valid_predictions[mask]\n",
        "    # filtered_labels = valid_labels[mask]\n",
        "\n",
        "        # log the Confusion Matrix to Wandb\n",
        "    wandb.log({\n",
        "        \"conf_mat\": wandb.plot.confusion_matrix(\n",
        "            preds=filtered_predictions,        # Model's predicted class labels.\n",
        "            y_true=filtered_labels,      # Actual labels from the validation set.\n",
        "            class_names=class_names   # Custom class names for display in the confusion matrix.\n",
        "        )\n",
        "    })\n",
        "\n",
        "    # Plot the confusion matrix using Matplotlib\n",
        "    fig, ax = plt.subplots(figsize=(8, 6))\n",
        "    ConfusionMatrixDisplay.from_predictions(\n",
        "        y_true=filtered_labels,\n",
        "        y_pred=filtered_predictions,\n",
        "        ax=ax,\n",
        "        normalize=\"true\",\n",
        "        display_labels=class_names,\n",
        "        xticks_rotation=90\n",
        "    )\n",
        "    plt.show()"
      ],
      "metadata": {
        "id": "Pbb9skSjV14z"
      },
      "execution_count": 56,
      "outputs": []
    },
    {
      "cell_type": "markdown",
      "metadata": {
        "id": "IGDxeCI38uqm"
      },
      "source": [
        "## <font color = 'pickle'> **Set up Logger for experiments**</font>"
      ]
    },
    {
      "cell_type": "markdown",
      "source": [
        "### Function to set Trainer"
      ],
      "metadata": {
        "id": "lI1OrXRFi3kO"
      }
    },
    {
      "cell_type": "code",
      "source": [
        "def get_trainer(model, training_args, train_dataset, eval_dataset, loss_type, tokenizer, data_collator):\n",
        "    trainer = CustomTrainer(\n",
        "    loss_type = loss_type,\n",
        "    model=model,\n",
        "    args=training_args,\n",
        "    train_dataset=train_dataset,\n",
        "    eval_dataset=eval_dataset,\n",
        "    data_collator=data_collator,\n",
        "    tokenizer=tokenizer,\n",
        "\n",
        ")\n",
        "    return trainer"
      ],
      "metadata": {
        "id": "3QhQWaQWVwcv"
      },
      "execution_count": 57,
      "outputs": []
    },
    {
      "cell_type": "markdown",
      "source": [
        "### Function to tokenize dataset and, train and eval models"
      ],
      "metadata": {
        "id": "EckGf8cbi_mk"
      }
    },
    {
      "cell_type": "markdown",
      "source": [
        "### Evaluation\n"
      ],
      "metadata": {
        "id": "klLth1klfj2-"
      }
    },
    {
      "cell_type": "code",
      "source": [
        "from torch.utils.data import DataLoader\n",
        "from transformers import PreTrainedModel\n",
        "from evaluate import load\n",
        "\n",
        "def evaluate_model(dataloader: DataLoader, model: PreTrainedModel, metric_only: bool = True, aggregation_method: str ='average_log_probs'):\n",
        "    # Load the accuracy metric\n",
        "    accuracy_metric = load(\"accuracy\")\n",
        "    device = 'cuda' if torch.cuda.is_available() else 'cpu'\n",
        "    predictions = []\n",
        "    all_doc_labels = []\n",
        "\n",
        "    # Loop over batches\n",
        "    for batch in dataloader:\n",
        "        model.eval()\n",
        "        doc_labels = batch.pop(\"doc_labels\", None).cpu().numpy()\n",
        "        overflow_to_sample_mapping = batch.pop(\"overflow_to_sample_mapping\", None).cpu().numpy()\n",
        "        batch = {k: v.to(device) for k, v in batch.items()}\n",
        "\n",
        "        with torch.no_grad():\n",
        "            outputs = model(**batch)\n",
        "            logits = outputs.logits.cpu().numpy()\n",
        "            aggregated_predictions, scores = aggregate_predictions(logits=logits,\n",
        "                                                            aggregation_method=aggregation_method,\n",
        "                                                            overflow_to_sample_mapping=overflow_to_sample_mapping)\n",
        "\n",
        "            accuracy_metric.add_batch(predictions=aggregated_predictions, references=doc_labels)\n",
        "            if not metric_only:\n",
        "                predictions.extend(aggregated_predictions)\n",
        "                all_doc_labels.extend(doc_labels)\n",
        "\n",
        "    # Calculate and return the final accuracy.\n",
        "    final_accuracy = accuracy_metric.compute()['accuracy']\n",
        "\n",
        "    if metric_only:\n",
        "        return final_accuracy\n",
        "    else:\n",
        "        return final_accuracy, predictions, all_doc_labels"
      ],
      "metadata": {
        "id": "UlS8KRfNfnCu"
      },
      "execution_count": 58,
      "outputs": []
    },
    {
      "cell_type": "code",
      "source": [
        "def free_memory():\n",
        "    \"\"\"\n",
        "    Attempts to free up memory by deleting variables and running Python's garbage collector.\n",
        "    \"\"\"\n",
        "    gc.collect()\n",
        "    for device_id in range(torch.cuda.device_count()):\n",
        "        torch.cuda.set_device(device_id)\n",
        "        torch.cuda.empty_cache()\n",
        "\n",
        "    gc.collect()"
      ],
      "metadata": {
        "id": "2sH-jzHanfM5"
      },
      "execution_count": 59,
      "outputs": []
    },
    {
      "cell_type": "code",
      "source": [
        "def tokenize_train_evaluate_log(training_args, checkpoint, base_folder,\n",
        "                             class_names, train_val_subset, loss_type):\n",
        "    # 1. Free memory\n",
        "    free_memory()\n",
        "\n",
        "    # 2. Setup wandb\n",
        "    wandb.login()\n",
        "    %env WANDB_PROJECT = nlp_course_fall_2023-HW7-PartB\n",
        "\n",
        "    ######################## ALLOWED TO CHANGE THIS BLOCK ################################################\n",
        "\n",
        "    # MAKE SURE THE BASE FOLDER IS SETUP CORRECTLY\n",
        "    #  YOU CAN CHANGE THIS LINE IF YOU WANT TO SAVE IN A DIFFERENT FOLDER\n",
        "\n",
        "    model_folder = base_folder / \"models\" / \"nlp_spring_2023/HW7\"/checkpoint\n",
        "    model_folder.mkdir(exist_ok=True, parents=True)\n",
        "\n",
        "    ######################## ALLOWED TO CHANGE THIS BLOCK ################################################\n",
        "\n",
        "\n",
        "    # 3. Get Tokenized Dataset and Data Collator\n",
        "    #train_val_tokenized_dataset = get_tokenized_dataset(checkpoint, train_val_subset)\n",
        "\n",
        "    # 4. Initialize Model and Tokenizer\n",
        "    model, config = initialize_model(checkpoint, class_names)\n",
        "    tokenizer = AutoTokenizer.from_pretrained(checkpoint)\n",
        "\n",
        "    # 5. Initialize Trainer\n",
        "    collate_fn = partial(collate_function, tokenizer=tokenizer,max_length = 512, stride = 128)\n",
        "\n",
        "    trainer = get_trainer(model, training_args, train_val_subset['train'], train_val_subset['val'], loss_type, tokenizer, collate_fn)\n",
        "\n",
        "    # 6. Train and Evaluate\n",
        "    trainer.train()\n",
        "    #trainer.evaluate(train_val_tokenized_dataset['val'])\n",
        "\n",
        "    # 7. Log Metrics and Plot\n",
        "\n",
        "\n",
        "    best_model_checkpoint_step = trainer.state.best_model_checkpoint.split('-')[-1]\n",
        "    wandb.log({\"best_model_checkpoint_step\": best_model_checkpoint_step})\n",
        "    print(f\"The best model was saved at step {best_model_checkpoint_step}.\")\n",
        "\n",
        "    path = 'checkpoint-'+ str(best_model_checkpoint_step)\n",
        "    checkpoint = str(model_folder/path)\n",
        "    model = AutoModelForSequenceClassification.from_pretrained(checkpoint)\n",
        "\n",
        "    # Make sure to use 'cuda' if a GPU is available.\n",
        "    device = 'cuda' if torch.cuda.is_available() else 'cpu'\n",
        "\n",
        "    model = model.to(device=device)\n",
        "\n",
        "\n",
        "    val_accuracy, val_predictions, val_labels = evaluate_model(trainer.get_test_dataloader(train_val_subset['val']), model, metric_only=False)\n",
        "\n",
        "    print(f\"Validation accuracy: {val_accuracy}\")\n",
        "\n",
        "    wandb.log({\"val_accuracy\": val_accuracy})\n",
        "\n",
        "    log_and_plot_confusion_matrix(val_labels, val_predictions , class_names)\n",
        "\n",
        "    wandb.finish()\n",
        "\n",
        "\n",
        "\n",
        "    return best_model_checkpoint_step"
      ],
      "metadata": {
        "id": "y5dQfeIlV62q"
      },
      "execution_count": 91,
      "outputs": []
    },
    {
      "cell_type": "markdown",
      "source": [
        "# Experiment 1"
      ],
      "metadata": {
        "id": "V3Uvh_ZTuSxl"
      }
    },
    {
      "cell_type": "markdown",
      "metadata": {
        "id": "Jwwp80UgmLjr"
      },
      "source": [
        "## <font color = 'pickle'> **Hyperparameters and Checkpointing**</font>"
      ]
    },
    {
      "cell_type": "code",
      "execution_count": 83,
      "metadata": {
        "id": "hIXDbzK8O4x9"
      },
      "outputs": [],
      "source": [
        "from transformers import TrainingArguments\n",
        "\n",
        "# Define the directory where model checkpoints will be saved\n",
        "model_folder = base_folder / \"models\"/\"nlp_spring_2023/HW7/bert-base-uncased/\"\n",
        "# Create the directory if it doesn't exist\n",
        "model_folder.mkdir(exist_ok=True, parents=True)\n",
        "\n",
        "# Configure training parameters\n",
        "training_args = TrainingArguments(\n",
        "    # Training-specific configurations\n",
        "    num_train_epochs=1,  # Total number of training epochs\n",
        "    # Number of samples per training batch for each device\n",
        "    per_device_train_batch_size=8,\n",
        "    # Number of samples per evaluation batch for each device\n",
        "    per_device_eval_batch_size=8,\n",
        "    gradient_checkpointing=True,  # Use gradient checkpointing to reduce memory usage\n",
        "    gradient_accumulation_steps=2,\n",
        "    weight_decay=0.01,  # Apply L2 regularization to prevent overfitting\n",
        "    learning_rate=1e-5,  # Step size for the optimizer during training\n",
        "    optim='adamw_torch',  # Optimizer,\n",
        "    fp16= True, # Use mixed precision training for memroy optimization\n",
        "    # argument for EvalPred to include inputs and outputs\n",
        "    remove_unused_columns=False,\n",
        "\n",
        "    # Checkpoint saving and model evaluation settings\n",
        "    output_dir=str(model_folder),  # Directory to save model checkpoints\n",
        "    evaluation_strategy='steps',  # Evaluate model at specified step intervals\n",
        "    eval_steps=20,  # Perform evaluation every 20 training steps\n",
        "    save_strategy=\"steps\",  # Save model checkpoint at specified step intervals\n",
        "    save_steps=20,  # Save a model checkpoint every 20 training steps\n",
        "    load_best_model_at_end=True,  # Reload the best model at the end of training\n",
        "    save_total_limit=1,  # Retain only the best and the most recent model checkpoints\n",
        "\n",
        "\n",
        "    # Experiment logging configurations (commented out in this example)\n",
        "    logging_strategy='steps',\n",
        "    logging_steps=20,\n",
        "    report_to='wandb',  # Log metrics and results to Weights & Biases platform\n",
        "    run_name='stack_HW7_2',  # Experiment name for Weights & Biases\n",
        ")\n"
      ]
    },
    {
      "cell_type": "markdown",
      "metadata": {
        "id": "J_hMcxgrFNyT"
      },
      "source": [
        "##  <font color = 'pickle'> **Initialize Trainer**</font>"
      ]
    },
    {
      "cell_type": "code",
      "execution_count": 84,
      "metadata": {
        "id": "syJ7458-On05",
        "outputId": "cfbbaad3-8f8c-40b4-8590-1333f2dd061b",
        "colab": {
          "base_uri": "https://localhost:8080/"
        }
      },
      "outputs": [
        {
          "output_type": "stream",
          "name": "stderr",
          "text": [
            "/usr/local/lib/python3.10/dist-packages/transformers/training_args.py:1697: FutureWarning: `--push_to_hub_token` is deprecated and will be removed in version 5 of 🤗 Transformers. Use `--hub_token` instead.\n",
            "  warnings.warn(\n"
          ]
        }
      ],
      "source": [
        "checkpoint = 'bert-base-uncased' # CODE HERE\n",
        "training_args_dict = training_args.to_dict() # Convert TrainingArguments to dictionary\n",
        "training_args_dict['run_name'] = f'{checkpoint}' # Update the run_name\n",
        "new_training_args = TrainingArguments(**training_args_dict)\n"
      ]
    },
    {
      "cell_type": "code",
      "source": [
        "best_model = tokenize_train_evaluate_log(training_args= new_training_args, checkpoint=checkpoint, base_folder=base_folder,\n",
        "                             class_names=class_names, train_val_subset=train_val_subset ,\n",
        "                             loss_type = 'average_log_probs')"
      ],
      "metadata": {
        "colab": {
          "base_uri": "https://localhost:8080/",
          "height": 1000,
          "referenced_widgets": [
            "6405175924f64b3aa3c1e75659f239fd",
            "d3a84e5ddbc34141ab12b1335dcc6dfb",
            "255ceba177d14d529384cd85242e446d",
            "82b587bbd4d245709ea9b5b474c3148b",
            "cf14d3ab7b45414a8de3bca2bc8a14a1",
            "6f776d5739b646a4970c8a58407ff3ca",
            "56f83b23570a456c9200cad07114979b",
            "a6795e987bb34333bb343962a3d4fb2d",
            "12013db0ea914728b7df353282bf83fc",
            "9abd29a85334485d957f8a6fdb37ff70",
            "fa990a442a224c93ba9f9ccd461b840d",
            "5fcd0085cabc4f0f92cc5fbd86f4e024",
            "6ba39e845d8b4542834bb6731907bdcc",
            "341f121feb69452bbc3a342c76d5cfed",
            "babc42e3658d444c9e867f98997a3153",
            "5d8a981c43b94a51be5ca0f13cb5388b",
            "92d6571768b043989d3538e20195013c",
            "e57b6ee26c8149cfafe6ed5a5760500b",
            "fd7d512d00c243718c45971fed335ca5"
          ]
        },
        "id": "EW1ZZ7q4t1aP",
        "outputId": "81f03834-af5a-42e2-a80e-068ba03b8132"
      },
      "execution_count": 85,
      "outputs": [
        {
          "output_type": "stream",
          "name": "stderr",
          "text": [
            "\u001b[34m\u001b[1mwandb\u001b[0m: \u001b[33mWARNING\u001b[0m Calling wandb.login() after wandb.init() has no effect.\n"
          ]
        },
        {
          "output_type": "stream",
          "name": "stdout",
          "text": [
            "env: WANDB_PROJECT=nlp_course_fall_2023-HW7-PartA\n"
          ]
        },
        {
          "output_type": "stream",
          "name": "stderr",
          "text": [
            "Some weights of BertForSequenceClassification were not initialized from the model checkpoint at bert-base-uncased and are newly initialized: ['classifier.weight', 'classifier.bias']\n",
            "You should probably TRAIN this model on a down-stream task to be able to use it for predictions and inference.\n",
            "/usr/local/lib/python3.10/dist-packages/torch/utils/checkpoint.py:429: UserWarning: torch.utils.checkpoint: please pass in use_reentrant=True or use_reentrant=False explicitly. The default value of use_reentrant will be updated to be False in the future. To maintain current behavior, pass use_reentrant=True. It is recommended that you use use_reentrant=False. Refer to docs for more details on the differences between the two variants.\n",
            "  warnings.warn(\n"
          ]
        },
        {
          "output_type": "display_data",
          "data": {
            "text/plain": [
              "<IPython.core.display.HTML object>"
            ],
            "text/html": [
              "\n",
              "    <div>\n",
              "      \n",
              "      <progress value='179' max='179' style='width:300px; height:20px; vertical-align: middle;'></progress>\n",
              "      [179/179 07:12, Epoch 1/1]\n",
              "    </div>\n",
              "    <table border=\"1\" class=\"dataframe\">\n",
              "  <thead>\n",
              " <tr style=\"text-align: left;\">\n",
              "      <th>Step</th>\n",
              "      <th>Training Loss</th>\n",
              "      <th>Validation Loss</th>\n",
              "    </tr>\n",
              "  </thead>\n",
              "  <tbody>\n",
              "    <tr>\n",
              "      <td>20</td>\n",
              "      <td>2.291600</td>\n",
              "      <td>2.249389</td>\n",
              "    </tr>\n",
              "    <tr>\n",
              "      <td>40</td>\n",
              "      <td>2.237200</td>\n",
              "      <td>2.185767</td>\n",
              "    </tr>\n",
              "    <tr>\n",
              "      <td>60</td>\n",
              "      <td>2.164000</td>\n",
              "      <td>2.094188</td>\n",
              "    </tr>\n",
              "    <tr>\n",
              "      <td>80</td>\n",
              "      <td>2.118000</td>\n",
              "      <td>2.042704</td>\n",
              "    </tr>\n",
              "    <tr>\n",
              "      <td>100</td>\n",
              "      <td>2.053300</td>\n",
              "      <td>2.005657</td>\n",
              "    </tr>\n",
              "    <tr>\n",
              "      <td>120</td>\n",
              "      <td>1.971300</td>\n",
              "      <td>1.908068</td>\n",
              "    </tr>\n",
              "    <tr>\n",
              "      <td>140</td>\n",
              "      <td>1.906700</td>\n",
              "      <td>1.863898</td>\n",
              "    </tr>\n",
              "    <tr>\n",
              "      <td>160</td>\n",
              "      <td>1.860200</td>\n",
              "      <td>1.812710</td>\n",
              "    </tr>\n",
              "  </tbody>\n",
              "</table><p>"
            ]
          },
          "metadata": {}
        },
        {
          "output_type": "stream",
          "name": "stderr",
          "text": [
            "/usr/local/lib/python3.10/dist-packages/torch/utils/checkpoint.py:429: UserWarning: torch.utils.checkpoint: please pass in use_reentrant=True or use_reentrant=False explicitly. The default value of use_reentrant will be updated to be False in the future. To maintain current behavior, pass use_reentrant=True. It is recommended that you use use_reentrant=False. Refer to docs for more details on the differences between the two variants.\n",
            "  warnings.warn(\n",
            "/usr/local/lib/python3.10/dist-packages/torch/utils/checkpoint.py:429: UserWarning: torch.utils.checkpoint: please pass in use_reentrant=True or use_reentrant=False explicitly. The default value of use_reentrant will be updated to be False in the future. To maintain current behavior, pass use_reentrant=True. It is recommended that you use use_reentrant=False. Refer to docs for more details on the differences between the two variants.\n",
            "  warnings.warn(\n",
            "/usr/local/lib/python3.10/dist-packages/torch/utils/checkpoint.py:429: UserWarning: torch.utils.checkpoint: please pass in use_reentrant=True or use_reentrant=False explicitly. The default value of use_reentrant will be updated to be False in the future. To maintain current behavior, pass use_reentrant=True. It is recommended that you use use_reentrant=False. Refer to docs for more details on the differences between the two variants.\n",
            "  warnings.warn(\n",
            "/usr/local/lib/python3.10/dist-packages/torch/utils/checkpoint.py:429: UserWarning: torch.utils.checkpoint: please pass in use_reentrant=True or use_reentrant=False explicitly. The default value of use_reentrant will be updated to be False in the future. To maintain current behavior, pass use_reentrant=True. It is recommended that you use use_reentrant=False. Refer to docs for more details on the differences between the two variants.\n",
            "  warnings.warn(\n",
            "/usr/local/lib/python3.10/dist-packages/torch/utils/checkpoint.py:429: UserWarning: torch.utils.checkpoint: please pass in use_reentrant=True or use_reentrant=False explicitly. The default value of use_reentrant will be updated to be False in the future. To maintain current behavior, pass use_reentrant=True. It is recommended that you use use_reentrant=False. Refer to docs for more details on the differences between the two variants.\n",
            "  warnings.warn(\n",
            "/usr/local/lib/python3.10/dist-packages/torch/utils/checkpoint.py:429: UserWarning: torch.utils.checkpoint: please pass in use_reentrant=True or use_reentrant=False explicitly. The default value of use_reentrant will be updated to be False in the future. To maintain current behavior, pass use_reentrant=True. It is recommended that you use use_reentrant=False. Refer to docs for more details on the differences between the two variants.\n",
            "  warnings.warn(\n",
            "/usr/local/lib/python3.10/dist-packages/torch/utils/checkpoint.py:429: UserWarning: torch.utils.checkpoint: please pass in use_reentrant=True or use_reentrant=False explicitly. The default value of use_reentrant will be updated to be False in the future. To maintain current behavior, pass use_reentrant=True. It is recommended that you use use_reentrant=False. Refer to docs for more details on the differences between the two variants.\n",
            "  warnings.warn(\n",
            "/usr/local/lib/python3.10/dist-packages/torch/utils/checkpoint.py:429: UserWarning: torch.utils.checkpoint: please pass in use_reentrant=True or use_reentrant=False explicitly. The default value of use_reentrant will be updated to be False in the future. To maintain current behavior, pass use_reentrant=True. It is recommended that you use use_reentrant=False. Refer to docs for more details on the differences between the two variants.\n",
            "  warnings.warn(\n"
          ]
        },
        {
          "output_type": "stream",
          "name": "stdout",
          "text": [
            "The best model was saved at step 160.\n"
          ]
        },
        {
          "output_type": "display_data",
          "data": {
            "text/plain": [
              "Downloading builder script:   0%|          | 0.00/4.20k [00:00<?, ?B/s]"
            ],
            "application/vnd.jupyter.widget-view+json": {
              "version_major": 2,
              "version_minor": 0,
              "model_id": "6405175924f64b3aa3c1e75659f239fd"
            }
          },
          "metadata": {}
        },
        {
          "output_type": "display_data",
          "data": {
            "text/plain": [
              "<Figure size 800x600 with 2 Axes>"
            ],
            "image/png": "[encoded data removed]"
          },
          "metadata": {}
        },
        {
          "output_type": "display_data",
          "data": {
            "text/plain": [
              "VBox(children=(Label(value='0.007 MB of 0.007 MB uploaded\\r'), FloatProgress(value=1.0, max=1.0)))"
            ],
            "application/vnd.jupyter.widget-view+json": {
              "version_major": 2,
              "version_minor": 0,
              "model_id": "5fcd0085cabc4f0f92cc5fbd86f4e024"
            }
          },
          "metadata": {}
        },
        {
          "output_type": "display_data",
          "data": {
            "text/plain": [
              "<IPython.core.display.HTML object>"
            ],
            "text/html": [
              "<style>\n",
              "    table.wandb td:nth-child(1) { padding: 0 10px; text-align: left ; width: auto;} td:nth-child(2) {text-align: left ; width: 100%}\n",
              "    .wandb-row { display: flex; flex-direction: row; flex-wrap: wrap; justify-content: flex-start; width: 100% }\n",
              "    .wandb-col { display: flex; flex-direction: column; flex-basis: 100%; flex: 1; padding: 10px; }\n",
              "    </style>\n",
              "<div class=\"wandb-row\"><div class=\"wandb-col\"><h3>Run history:</h3><br/><table class=\"wandb\"><tr><td>eval/loss</td><td>███████▇▇▇▇▇▇▇▇▇▇▇▇▇▇▇▆▆▆▆▆▇▆▇▆▄▃▁▁▆▅▄▃▂</td></tr><tr><td>eval/runtime</td><td>▁▁▂▂▂▁▁▁▁▁▁▁▃▁▁▁▁▁▁▁▁▂▁▁▁▁▂▂▂██████▇▇▇▇█</td></tr><tr><td>eval/samples_per_second</td><td>██▇▇▇███████▆█▇██▇█▇█▇█▇██▇▇▇▁▁▁▁▁▁▂▂▂▁▁</td></tr><tr><td>eval/steps_per_second</td><td>██▇▇▇███████▆█▇██▇█▇█▇█▇██▇▇▇▁▁▁▁▁▁▂▂▂▁▁</td></tr><tr><td>train/epoch</td><td>▁▁▁▁▁▁▁▁▁▁▂▂▂▂▂▂▂▂▂▂▂▂▂▂▂▂▂▂▂▃▅▆▇█▂▂▄▅▆▇</td></tr><tr><td>train/global_step</td><td>▁▁▁▁▁▁▁▁▁▂▂▂▂▂▂▂▂▂▂▂▂▂▂▂▂▂▂▂▃▄▆▇█▁▂▃▅▆▇█</td></tr><tr><td>train/learning_rate</td><td>█████████▇▇▇▇▇▇▇▇▇▇▇▇▇▇▇▆▆▆▆▆▇▆▅▄▃▁▇▅▅▃▁</td></tr><tr><td>train/loss</td><td>▆█▇▇▇▇▇▆▆▇▆▇▅▅▆▆▇▇▅▄▅▆▇▄▄▄▅▅▆▆▆▅▃▂▁▆▅▄▃▂</td></tr><tr><td>train/total_flos</td><td>█▁▁▁▁█</td></tr><tr><td>train/train_loss</td><td>▁█▅▅▅▂</td></tr><tr><td>train/train_runtime</td><td>█▁▁▁▁█</td></tr><tr><td>train/train_samples_per_second</td><td>▁████▁</td></tr><tr><td>train/train_steps_per_second</td><td>▁████▁</td></tr></table><br/></div><div class=\"wandb-col\"><h3>Run summary:</h3><br/><table class=\"wandb\"><tr><td>best_model_checkpoint_step</td><td>160</td></tr><tr><td>eval/loss</td><td>1.81271</td></tr><tr><td>eval/runtime</td><td>21.5913</td></tr><tr><td>eval/samples_per_second</td><td>44.184</td></tr><tr><td>eval/steps_per_second</td><td>5.558</td></tr><tr><td>train/epoch</td><td>1.0</td></tr><tr><td>train/global_step</td><td>179</td></tr><tr><td>train/learning_rate</td><td>0.0</td></tr><tr><td>train/loss</td><td>1.8602</td></tr><tr><td>train/total_flos</td><td>4107721716639744.0</td></tr><tr><td>train/train_loss</td><td>2.05007</td></tr><tr><td>train/train_runtime</td><td>433.931</td></tr><tr><td>train/train_samples_per_second</td><td>6.598</td></tr><tr><td>train/train_steps_per_second</td><td>0.413</td></tr></table><br/></div></div>"
            ]
          },
          "metadata": {}
        },
        {
          "output_type": "display_data",
          "data": {
            "text/plain": [
              "<IPython.core.display.HTML object>"
            ],
            "text/html": [
              " View run <strong style=\"color:#cdcd00\">bert-base-uncased</strong> at: <a href='https://wandb.ai/redeem_team/nlp_course_fall_2023-HW7-PartA/runs/cwdmjabb' target=\"_blank\">https://wandb.ai/redeem_team/nlp_course_fall_2023-HW7-PartA/runs/cwdmjabb</a><br/>Synced 5 W&B file(s), 1 media file(s), 1 artifact file(s) and 0 other file(s)"
            ]
          },
          "metadata": {}
        },
        {
          "output_type": "display_data",
          "data": {
            "text/plain": [
              "<IPython.core.display.HTML object>"
            ],
            "text/html": [
              "Find logs at: <code>./wandb/run-20231118_000447-cwdmjabb/logs</code>"
            ]
          },
          "metadata": {}
        }
      ]
    },
    {
      "cell_type": "code",
      "source": [
        "path = 'checkpoint-'+ str(best_model)\n",
        "checkpoint = str(model_folder/path)\n",
        "model = AutoModelForSequenceClassification.from_pretrained(checkpoint)\n",
        "# Make sure to use 'cuda' if a GPU is available.\n",
        "device = 'cuda' if torch.cuda.is_available() else 'cpu'\n",
        "\n",
        "model = model.to(device=device)\n",
        "\n",
        "tokenizer = AutoTokenizer.from_pretrained(checkpoint)\n",
        "\n",
        "# 5. Initialize Trainer\n",
        "collate_fn = partial(collate_function, tokenizer=tokenizer,max_length = 512, stride = 16)\n",
        "\n",
        "trainer = get_trainer(model, training_args, train_val_subset['train'], train_val_subset['val'], 'average_log_probs', tokenizer, collate_fn)\n",
        "\n",
        "\n",
        "\n",
        "\n",
        "val_accuracy, val_predictions, val_labels = evaluate_model(trainer.get_test_dataloader(train_val_subset['val']), model, metric_only=False)\n",
        "\n"
      ],
      "metadata": {
        "id": "NBvr1H5cx0Ud"
      },
      "execution_count": 87,
      "outputs": []
    },
    {
      "cell_type": "code",
      "source": [
        "log_and_plot_confusion_matrix(val_labels, val_predictions , class_names)"
      ],
      "metadata": {
        "id": "eSDBstCcxNj-"
      },
      "execution_count": null,
      "outputs": []
    },
    {
      "cell_type": "code",
      "source": [
        "val_accuracy"
      ],
      "metadata": {
        "colab": {
          "base_uri": "https://localhost:8080/"
        },
        "id": "WlpHlq8fp1Xo",
        "outputId": "6984c368-bb12-46f3-9ff6-6f512fb2dde4"
      },
      "execution_count": 88,
      "outputs": [
        {
          "output_type": "execute_result",
          "data": {
            "text/plain": [
              "0.6708595387840671"
            ]
          },
          "metadata": {},
          "execution_count": 88
        }
      ]
    },
    {
      "cell_type": "code",
      "source": [],
      "metadata": {
        "id": "e5F_jVH0qEmd"
      },
      "execution_count": 90,
      "outputs": []
    },
    {
      "cell_type": "markdown",
      "source": [
        "# Experiment 2"
      ],
      "metadata": {
        "id": "yuDzKALHB_HK"
      }
    },
    {
      "cell_type": "markdown",
      "metadata": {
        "id": "yk_T9ehYB_HW"
      },
      "source": [
        "## <font color = 'pickle'> **Hyperparameters and Checkpointing**</font>"
      ]
    },
    {
      "cell_type": "code",
      "execution_count": 92,
      "metadata": {
        "id": "scKROpltB_HW"
      },
      "outputs": [],
      "source": [
        "from transformers import TrainingArguments\n",
        "\n",
        "# Define the directory where model checkpoints will be saved\n",
        "model_folder = base_folder / \"models\"/\"nlp_spring_2023/HW7/bert-base-uncased/\"\n",
        "# Create the directory if it doesn't exist\n",
        "model_folder.mkdir(exist_ok=True, parents=True)\n",
        "\n",
        "# Configure training parameters\n",
        "training_args = TrainingArguments(\n",
        "    # Training-specific configurations\n",
        "    num_train_epochs=1,  # Total number of training epochs\n",
        "    # Number of samples per training batch for each device\n",
        "    per_device_train_batch_size=8,\n",
        "    # Number of samples per evaluation batch for each device\n",
        "    per_device_eval_batch_size=8,\n",
        "    gradient_checkpointing=True,  # Use gradient checkpointing to reduce memory usage\n",
        "    gradient_accumulation_steps=4,\n",
        "    weight_decay=0.01,  # Apply L2 regularization to prevent overfitting\n",
        "    learning_rate=1e-5,  # Step size for the optimizer during training\n",
        "    optim='adamw_torch',  # Optimizer,\n",
        "    fp16= True, # Use mixed precision training for memroy optimization\n",
        "    # argument for EvalPred to include inputs and outputs\n",
        "    remove_unused_columns=False,\n",
        "\n",
        "    # Checkpoint saving and model evaluation settings\n",
        "    output_dir=str(model_folder),  # Directory to save model checkpoints\n",
        "    evaluation_strategy='steps',  # Evaluate model at specified step intervals\n",
        "    eval_steps=20,  # Perform evaluation every 20 training steps\n",
        "    save_strategy=\"steps\",  # Save model checkpoint at specified step intervals\n",
        "    save_steps=20,  # Save a model checkpoint every 20 training steps\n",
        "    load_best_model_at_end=True,  # Reload the best model at the end of training\n",
        "    save_total_limit=1,  # Retain only the best and the most recent model checkpoints\n",
        "\n",
        "\n",
        "    # Experiment logging configurations (commented out in this example)\n",
        "    logging_strategy='steps',\n",
        "    logging_steps=20,\n",
        "    report_to='wandb',  # Log metrics and results to Weights & Biases platform\n",
        "    run_name='stack_HW7_2_2',  # Experiment name for Weights & Biases\n",
        ")\n"
      ]
    },
    {
      "cell_type": "markdown",
      "metadata": {
        "id": "O2m8sLL5B_HX"
      },
      "source": [
        "##  <font color = 'pickle'> **Initialize Trainer**</font>"
      ]
    },
    {
      "cell_type": "code",
      "execution_count": 93,
      "metadata": {
        "outputId": "9b07a6bb-7a08-479d-ff29-78d9e631e222",
        "colab": {
          "base_uri": "https://localhost:8080/"
        },
        "id": "3OTv1rClB_HX"
      },
      "outputs": [
        {
          "output_type": "stream",
          "name": "stderr",
          "text": [
            "/usr/local/lib/python3.10/dist-packages/transformers/training_args.py:1697: FutureWarning: `--push_to_hub_token` is deprecated and will be removed in version 5 of 🤗 Transformers. Use `--hub_token` instead.\n",
            "  warnings.warn(\n"
          ]
        }
      ],
      "source": [
        "checkpoint = 'bert-base-uncased' # CODE HERE\n",
        "training_args_dict = training_args.to_dict() # Convert TrainingArguments to dictionary\n",
        "training_args_dict['run_name'] = f'{checkpoint}' # Update the run_name\n",
        "new_training_args = TrainingArguments(**training_args_dict)\n"
      ]
    },
    {
      "cell_type": "code",
      "source": [
        "best_model = tokenize_train_evaluate_log(training_args= new_training_args, checkpoint=checkpoint, base_folder=base_folder,\n",
        "                             class_names=class_names, train_val_subset=train_val_subset ,\n",
        "                             loss_type = 'average_log_probs')"
      ],
      "metadata": {
        "colab": {
          "base_uri": "https://localhost:8080/",
          "height": 1000,
          "referenced_widgets": [
            "53436a409bca4f8088868dca48ef01af",
            "8388498d3f7344aebe0b8602e6e15db7",
            "662c223d79f141eda4c3678256a2c6c2",
            "e573960381634e24b3a50ef8b41fb59a",
            "acda388861da4f4fafac4950a47730ca",
            "1470c1dba6fc41b589d1cecfcea6855f",
            "6a138aa7fdb5439e80477462228f4b99",
            "cc0ee1df67df4354b8d843fe15198fe1"
          ]
        },
        "outputId": "04e76c30-3795-4fdf-d9cc-2069ed003084",
        "id": "tLVdU6EMB_HX"
      },
      "execution_count": 94,
      "outputs": [
        {
          "output_type": "stream",
          "name": "stdout",
          "text": [
            "env: WANDB_PROJECT=nlp_course_fall_2023-HW7-PartB\n"
          ]
        },
        {
          "output_type": "stream",
          "name": "stderr",
          "text": [
            "Some weights of BertForSequenceClassification were not initialized from the model checkpoint at bert-base-uncased and are newly initialized: ['classifier.weight', 'classifier.bias']\n",
            "You should probably TRAIN this model on a down-stream task to be able to use it for predictions and inference.\n"
          ]
        },
        {
          "output_type": "display_data",
          "data": {
            "text/plain": [
              "<IPython.core.display.HTML object>"
            ],
            "text/html": [
              "Changes to your `wandb` environment variables will be ignored because your `wandb` session has already started. For more information on how to modify your settings with `wandb.init()` arguments, please refer to <a href='https://wandb.me/wandb-init' target=\"_blank\">the W&B docs</a>."
            ]
          },
          "metadata": {}
        },
        {
          "output_type": "display_data",
          "data": {
            "text/plain": [
              "<IPython.core.display.HTML object>"
            ],
            "text/html": [
              "Tracking run with wandb version 0.16.0"
            ]
          },
          "metadata": {}
        },
        {
          "output_type": "display_data",
          "data": {
            "text/plain": [
              "<IPython.core.display.HTML object>"
            ],
            "text/html": [
              "Run data is saved locally in <code>/content/wandb/run-20231118_012555-ie4cmv83</code>"
            ]
          },
          "metadata": {}
        },
        {
          "output_type": "display_data",
          "data": {
            "text/plain": [
              "<IPython.core.display.HTML object>"
            ],
            "text/html": [
              "Syncing run <strong><a href='https://wandb.ai/redeem_team/nlp_course_fall_2023-HW7-PartB/runs/ie4cmv83' target=\"_blank\">bert-base-uncased</a></strong> to <a href='https://wandb.ai/redeem_team/nlp_course_fall_2023-HW7-PartB' target=\"_blank\">Weights & Biases</a> (<a href='https://wandb.me/run' target=\"_blank\">docs</a>)<br/>"
            ]
          },
          "metadata": {}
        },
        {
          "output_type": "display_data",
          "data": {
            "text/plain": [
              "<IPython.core.display.HTML object>"
            ],
            "text/html": [
              " View project at <a href='https://wandb.ai/redeem_team/nlp_course_fall_2023-HW7-PartB' target=\"_blank\">https://wandb.ai/redeem_team/nlp_course_fall_2023-HW7-PartB</a>"
            ]
          },
          "metadata": {}
        },
        {
          "output_type": "display_data",
          "data": {
            "text/plain": [
              "<IPython.core.display.HTML object>"
            ],
            "text/html": [
              " View run at <a href='https://wandb.ai/redeem_team/nlp_course_fall_2023-HW7-PartB/runs/ie4cmv83' target=\"_blank\">https://wandb.ai/redeem_team/nlp_course_fall_2023-HW7-PartB/runs/ie4cmv83</a>"
            ]
          },
          "metadata": {}
        },
        {
          "output_type": "stream",
          "name": "stderr",
          "text": [
            "/usr/local/lib/python3.10/dist-packages/torch/utils/checkpoint.py:429: UserWarning: torch.utils.checkpoint: please pass in use_reentrant=True or use_reentrant=False explicitly. The default value of use_reentrant will be updated to be False in the future. To maintain current behavior, pass use_reentrant=True. It is recommended that you use use_reentrant=False. Refer to docs for more details on the differences between the two variants.\n",
            "  warnings.warn(\n"
          ]
        },
        {
          "output_type": "display_data",
          "data": {
            "text/plain": [
              "<IPython.core.display.HTML object>"
            ],
            "text/html": [
              "\n",
              "    <div>\n",
              "      \n",
              "      <progress value='89' max='89' style='width:300px; height:20px; vertical-align: middle;'></progress>\n",
              "      [89/89 05:23, Epoch 0/1]\n",
              "    </div>\n",
              "    <table border=\"1\" class=\"dataframe\">\n",
              "  <thead>\n",
              " <tr style=\"text-align: left;\">\n",
              "      <th>Step</th>\n",
              "      <th>Training Loss</th>\n",
              "      <th>Validation Loss</th>\n",
              "    </tr>\n",
              "  </thead>\n",
              "  <tbody>\n",
              "    <tr>\n",
              "      <td>20</td>\n",
              "      <td>2.278300</td>\n",
              "      <td>2.215051</td>\n",
              "    </tr>\n",
              "    <tr>\n",
              "      <td>40</td>\n",
              "      <td>2.194400</td>\n",
              "      <td>2.111017</td>\n",
              "    </tr>\n",
              "    <tr>\n",
              "      <td>60</td>\n",
              "      <td>2.102200</td>\n",
              "      <td>2.030185</td>\n",
              "    </tr>\n",
              "    <tr>\n",
              "      <td>80</td>\n",
              "      <td>2.018400</td>\n",
              "      <td>1.991479</td>\n",
              "    </tr>\n",
              "  </tbody>\n",
              "</table><p>"
            ]
          },
          "metadata": {}
        },
        {
          "output_type": "stream",
          "name": "stderr",
          "text": [
            "/usr/local/lib/python3.10/dist-packages/torch/utils/checkpoint.py:429: UserWarning: torch.utils.checkpoint: please pass in use_reentrant=True or use_reentrant=False explicitly. The default value of use_reentrant will be updated to be False in the future. To maintain current behavior, pass use_reentrant=True. It is recommended that you use use_reentrant=False. Refer to docs for more details on the differences between the two variants.\n",
            "  warnings.warn(\n",
            "/usr/local/lib/python3.10/dist-packages/torch/utils/checkpoint.py:429: UserWarning: torch.utils.checkpoint: please pass in use_reentrant=True or use_reentrant=False explicitly. The default value of use_reentrant will be updated to be False in the future. To maintain current behavior, pass use_reentrant=True. It is recommended that you use use_reentrant=False. Refer to docs for more details on the differences between the two variants.\n",
            "  warnings.warn(\n",
            "/usr/local/lib/python3.10/dist-packages/torch/utils/checkpoint.py:429: UserWarning: torch.utils.checkpoint: please pass in use_reentrant=True or use_reentrant=False explicitly. The default value of use_reentrant will be updated to be False in the future. To maintain current behavior, pass use_reentrant=True. It is recommended that you use use_reentrant=False. Refer to docs for more details on the differences between the two variants.\n",
            "  warnings.warn(\n",
            "/usr/local/lib/python3.10/dist-packages/torch/utils/checkpoint.py:429: UserWarning: torch.utils.checkpoint: please pass in use_reentrant=True or use_reentrant=False explicitly. The default value of use_reentrant will be updated to be False in the future. To maintain current behavior, pass use_reentrant=True. It is recommended that you use use_reentrant=False. Refer to docs for more details on the differences between the two variants.\n",
            "  warnings.warn(\n"
          ]
        },
        {
          "output_type": "stream",
          "name": "stdout",
          "text": [
            "The best model was saved at step 80.\n",
            "Validation accuracy: 0.5691823899371069\n"
          ]
        },
        {
          "output_type": "display_data",
          "data": {
            "text/plain": [
              "<Figure size 800x600 with 2 Axes>"
            ],
            "image/png": "[encoded data removed]"
          },
          "metadata": {}
        },
        {
          "output_type": "display_data",
          "data": {
            "text/plain": [
              "VBox(children=(Label(value='0.007 MB of 0.007 MB uploaded\\r'), FloatProgress(value=1.0, max=1.0)))"
            ],
            "application/vnd.jupyter.widget-view+json": {
              "version_major": 2,
              "version_minor": 0,
              "model_id": "53436a409bca4f8088868dca48ef01af"
            }
          },
          "metadata": {}
        },
        {
          "output_type": "display_data",
          "data": {
            "text/plain": [
              "<IPython.core.display.HTML object>"
            ],
            "text/html": [
              "<style>\n",
              "    table.wandb td:nth-child(1) { padding: 0 10px; text-align: left ; width: auto;} td:nth-child(2) {text-align: left ; width: 100%}\n",
              "    .wandb-row { display: flex; flex-direction: row; flex-wrap: wrap; justify-content: flex-start; width: 100% }\n",
              "    .wandb-col { display: flex; flex-direction: column; flex-basis: 100%; flex: 1; padding: 10px; }\n",
              "    </style>\n",
              "<div class=\"wandb-row\"><div class=\"wandb-col\"><h3>Run history:</h3><br/><table class=\"wandb\"><tr><td>eval/loss</td><td>█▅▂▁</td></tr><tr><td>eval/runtime</td><td>█▁▅▆</td></tr><tr><td>eval/samples_per_second</td><td>▁█▄▃</td></tr><tr><td>eval/steps_per_second</td><td>▁█▄▃</td></tr><tr><td>train/epoch</td><td>▁▁▃▃▅▅▇▇█</td></tr><tr><td>train/global_step</td><td>▁▁▃▃▅▅▇▇████</td></tr><tr><td>train/learning_rate</td><td>█▆▃▁</td></tr><tr><td>train/loss</td><td>█▆▃▁</td></tr><tr><td>train/total_flos</td><td>▁</td></tr><tr><td>train/train_loss</td><td>▁</td></tr><tr><td>train/train_runtime</td><td>▁</td></tr><tr><td>train/train_samples_per_second</td><td>▁</td></tr><tr><td>train/train_steps_per_second</td><td>▁</td></tr><tr><td>val_accuracy</td><td>▁</td></tr></table><br/></div><div class=\"wandb-col\"><h3>Run summary:</h3><br/><table class=\"wandb\"><tr><td>best_model_checkpoint_step</td><td>80</td></tr><tr><td>eval/loss</td><td>1.99148</td></tr><tr><td>eval/runtime</td><td>21.4961</td></tr><tr><td>eval/samples_per_second</td><td>44.38</td></tr><tr><td>eval/steps_per_second</td><td>5.582</td></tr><tr><td>train/epoch</td><td>0.99</td></tr><tr><td>train/global_step</td><td>89</td></tr><tr><td>train/learning_rate</td><td>0.0</td></tr><tr><td>train/loss</td><td>2.0184</td></tr><tr><td>train/total_flos</td><td>4088776359929856.0</td></tr><tr><td>train/train_loss</td><td>2.13445</td></tr><tr><td>train/train_runtime</td><td>328.0557</td></tr><tr><td>train/train_samples_per_second</td><td>8.727</td></tr><tr><td>train/train_steps_per_second</td><td>0.271</td></tr><tr><td>val_accuracy</td><td>0.56918</td></tr></table><br/></div></div>"
            ]
          },
          "metadata": {}
        },
        {
          "output_type": "display_data",
          "data": {
            "text/plain": [
              "<IPython.core.display.HTML object>"
            ],
            "text/html": [
              " View run <strong style=\"color:#cdcd00\">bert-base-uncased</strong> at: <a href='https://wandb.ai/redeem_team/nlp_course_fall_2023-HW7-PartB/runs/ie4cmv83' target=\"_blank\">https://wandb.ai/redeem_team/nlp_course_fall_2023-HW7-PartB/runs/ie4cmv83</a><br/>Synced 5 W&B file(s), 1 media file(s), 1 artifact file(s) and 0 other file(s)"
            ]
          },
          "metadata": {}
        },
        {
          "output_type": "display_data",
          "data": {
            "text/plain": [
              "<IPython.core.display.HTML object>"
            ],
            "text/html": [
              "Find logs at: <code>./wandb/run-20231118_012555-ie4cmv83/logs</code>"
            ]
          },
          "metadata": {}
        }
      ]
    },
    {
      "cell_type": "markdown",
      "source": [
        "## Pipeline Experimentation"
      ],
      "metadata": {
        "id": "rcUTcKKcJsh5"
      }
    },
    {
      "cell_type": "code",
      "source": [
        "from transformers import Pipeline\n",
        "\n",
        "class LongDocumentClassificationPipeline(Pipeline):\n",
        "\n",
        "    def __init__(self, *args, max_length=512, stride=100, aggregation_method='average_log_probs', **kwargs):\n",
        "        self.max_length = max_length\n",
        "        self.stride = stride\n",
        "        self.aggregation_method = aggregation_method\n",
        "        super().__init__(*args, **kwargs)\n",
        "\n",
        "    def __call__(self, documents=None, **kwargs):\n",
        "\n",
        "        if isinstance(documents, str):\n",
        "            documents = [{'text': str(documents)}]\n",
        "        elif isinstance(documents, list) and all(isinstance(doc, str) for doc in documents):\n",
        "            documents = [{'text': doc} for doc in documents]\n",
        "\n",
        "        elif isinstance(documents, list) and all(isinstance(doc, dict) and 'text' in doc for doc in documents):\n",
        "            # Input is already in the expected format, no action needed.\n",
        "            pass\n",
        "\n",
        "        # If the input doesn't match any of the above types, raise an error.\n",
        "        else:\n",
        "            raise TypeError(\"Input not supported. Expected a string, a list of strings, or a list of dicts with a 'text' key.\")\n",
        "        # Debug: print the type and content of documents before calling the parent method\n",
        "\n",
        "\n",
        "        return super().__call__(inputs=[documents], **kwargs)\n",
        "\n",
        "    def _sanitize_parameters(self, **kwargs):\n",
        "      # Update kwargs with max_length, stride, and aggregation_method if provided\n",
        "        self.max_length = kwargs.pop('max_length', self.max_length)\n",
        "        self.stride = kwargs.pop('stride', self.stride)\n",
        "        self.aggregation_method = kwargs.pop('aggregation_method', self.aggregation_method)\n",
        "        return kwargs, {}, {}\n",
        "\n",
        "\n",
        "    def preprocess(self, inputs=None):\n",
        "        # Use the custom collate function to prepare the inputs\n",
        "        tokenized = collate_function(inputs, tokenizer =self.tokenizer, max_length = self.max_length, stride = self.stride)\n",
        "        model_inputs = {k: v.to(self.device) for k, v in tokenized.items()}\n",
        "        return model_inputs\n",
        "\n",
        "    def _forward(self, model_inputs):\n",
        "        # Remove keys that are not needed by the model's forward method\n",
        "        if 'doc_labels' in model_inputs:\n",
        "            self.doc_labels = model_inputs.pop('doc_labels').cpu().numpy()\n",
        "        if 'overflow_to_sample_mapping' in model_inputs:\n",
        "            self.overflow_to_sample_mapping = model_inputs.pop('overflow_to_sample_mapping').cpu().numpy()\n",
        "\n",
        "        # Call the model's forward method with the cleaned inputs\n",
        "        self.model = self.model.to(self.device)\n",
        "        self.model.eval()\n",
        "        with torch.no_grad():\n",
        "            outputs = self.model(**model_inputs)\n",
        "\n",
        "        return outputs\n",
        "\n",
        "    def postprocess(self, model_outputs, **kwargs):\n",
        "        logits = model_outputs.logits\n",
        "        # Convert to numpy and calculate probabilities\n",
        "        logits = logits.cpu().numpy()  # Ensure logits are on CPU for NumPy operations\n",
        "\n",
        "        # print(\"Logits shape:\", logits.shape)\n",
        "        # print(\"Overflow to sample mapping:\", self.overflow_to_sample_mapping)\n",
        "\n",
        "\n",
        "        aggregated_predictions, scores  = aggregate_predictions(logits, self.aggregation_method, self.overflow_to_sample_mapping)\n",
        "        # print(\"Aggregated Predictions:\", aggregated_predictions)\n",
        "        # Convert the aggregated predictions to labels and scores\n",
        "        results = []\n",
        "        for (pred, score) in zip(aggregated_predictions, scores):\n",
        "            # print('preds', pred)\n",
        "            label_name = self.model.config.id2label[pred]\n",
        "            # print(self.model.config.id2label)\n",
        "            # print('label_name', label_name)\n",
        "            #results.append({\"label\": label_name, \"score\": score})\n",
        "            results.append(pred)\n",
        "\n",
        "        return results\n"
      ],
      "metadata": {
        "id": "bMLITgXICL9C"
      },
      "execution_count": 118,
      "outputs": []
    },
    {
      "cell_type": "code",
      "source": [
        "custom_pipeline = LongDocumentClassificationPipeline(model = model, tokenizer = tokenizer, device = 0)\n",
        "sample = test_split_small['text'][:4]\n"
      ],
      "metadata": {
        "id": "sBKwM4GwEVQi"
      },
      "execution_count": 139,
      "outputs": []
    },
    {
      "cell_type": "code",
      "source": [
        "test_split"
      ],
      "metadata": {
        "colab": {
          "base_uri": "https://localhost:8080/"
        },
        "id": "ozecxgfxHShg",
        "outputId": "46815160-aa6a-4fb6-ff7c-3fd33cf98661"
      },
      "execution_count": 140,
      "outputs": [
        {
          "output_type": "execute_result",
          "data": {
            "text/plain": [
              "Dataset({\n",
              "    features: ['text', 'label'],\n",
              "    num_rows: 955\n",
              "})"
            ]
          },
          "metadata": {},
          "execution_count": 140
        }
      ]
    },
    {
      "cell_type": "code",
      "source": [
        "preds = custom_pipeline(test_split['text'][:10])\n",
        "preds"
      ],
      "metadata": {
        "colab": {
          "base_uri": "https://localhost:8080/"
        },
        "id": "gqFbV7wiEZnZ",
        "outputId": "2a6f7f85-844d-4c0d-a2c5-7beba6513dbf"
      },
      "execution_count": 151,
      "outputs": [
        {
          "output_type": "execute_result",
          "data": {
            "text/plain": [
              "[[6, 1, 0, 7, 1, 7, 1, 1, 1, 2]]"
            ]
          },
          "metadata": {},
          "execution_count": 151
        }
      ]
    },
    {
      "cell_type": "code",
      "source": [
        "preds[:][0]"
      ],
      "metadata": {
        "colab": {
          "base_uri": "https://localhost:8080/"
        },
        "id": "AXYZ7mGTFdnP",
        "outputId": "5a29b2d8-3830-4c97-e417-acded229aad2"
      },
      "execution_count": 143,
      "outputs": [
        {
          "output_type": "execute_result",
          "data": {
            "text/plain": [
              "[5, 7, 1, 4, 7, 1, 1, 7, 1, 1]"
            ]
          },
          "metadata": {},
          "execution_count": 143
        }
      ]
    },
    {
      "cell_type": "code",
      "source": [
        "test_split['label'][:10]"
      ],
      "metadata": {
        "colab": {
          "base_uri": "https://localhost:8080/"
        },
        "id": "J6Km0aj2FBb7",
        "outputId": "c1e5e3a4-3fcb-4f1a-9b09-4a027dddddb7"
      },
      "execution_count": 153,
      "outputs": [
        {
          "output_type": "execute_result",
          "data": {
            "text/plain": [
              "[6, 6, 9, 6, 1, 7, 3, 0, 4, 2]"
            ]
          },
          "metadata": {},
          "execution_count": 153
        }
      ]
    },
    {
      "cell_type": "code",
      "source": [
        "# prompt: plot confusion matrix for multi class classification with predictions and labels\n",
        "\n",
        "\n",
        "from sklearn.metrics import confusion_matrix\n",
        "import matplotlib.pyplot as plt\n",
        "\n",
        "# Create a confusion matrix\n",
        "cm = confusion_matrix(test_split['label'][:10], preds[0])\n",
        "\n",
        "# Plot the confusion matrix\n",
        "plt.imshow(cm, cmap=plt.cm.Blues)\n",
        "plt.colorbar()\n",
        "tick_marks = np.arange(len(class_names))\n",
        "plt.xticks(tick_marks, class_names, rotation=45)\n",
        "plt.yticks(tick_marks, class_names)\n",
        "plt.xlabel('Predicted label')\n",
        "plt.ylabel('True label')\n",
        "plt.show()\n"
      ],
      "metadata": {
        "colab": {
          "base_uri": "https://localhost:8080/",
          "height": 499
        },
        "id": "7-ZwaQBbG6OW",
        "outputId": "7772a79a-6832-4ebb-da1a-f164220631f1"
      },
      "execution_count": 154,
      "outputs": [
        {
          "output_type": "display_data",
          "data": {
            "text/plain": [
              "<Figure size 640x480 with 2 Axes>"
            ],
            "image/png": "[encoded data removed]"
          },
          "metadata": {}
        }
      ]
    },
    {
      "cell_type": "code",
      "source": [],
      "metadata": {
        "id": "qNk4eFYBHKo9"
      },
      "execution_count": null,
      "outputs": []
    }
  ]
}