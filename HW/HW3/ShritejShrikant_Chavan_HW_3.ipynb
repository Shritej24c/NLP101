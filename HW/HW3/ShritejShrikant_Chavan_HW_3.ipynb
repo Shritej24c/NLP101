{
  "cells": [
    {
      "cell_type": "markdown",
      "metadata": {
        "id": "view-in-github",
        "colab_type": "text"
      },
      "source": [
        "<a href=\"https://colab.research.google.com/github/Shritej24c/NLP101/blob/main/HW/HW3/ShritejShrikant_Chavan_HW_3.ipynb\" target=\"_parent\"><img src=\"https://colab.research.google.com/assets/colab-badge.svg\" alt=\"Open In Colab\"/></a>"
      ]
    },
    {
      "cell_type": "markdown",
      "id": "Q4vVUgxxDJD0",
      "metadata": {
        "id": "Q4vVUgxxDJD0"
      },
      "source": [
        "# <font color = 'indianred'>**HW3 - 20 Points** </font>\n",
        "- **You have to submit two files for this part of the HW**\n",
        "  >(1) ipynb (colab notebook) and<br>\n",
        "  >(2) pdf file (pdf version of the colab file).**\n",
        "- **Files should be named as follows**:\n",
        ">FirstName_LastName_HW_3**\n"
      ]
    },
    {
      "cell_type": "markdown",
      "id": "c32ad0f3-a41b-477a-ad23-105010ed39e1",
      "metadata": {
        "id": "c32ad0f3-a41b-477a-ad23-105010ed39e1"
      },
      "source": [
        "# <font color = 'indianred'>**Task 1 - Tensors and Autodiff - 5 Points**"
      ]
    },
    {
      "cell_type": "code",
      "execution_count": 1,
      "id": "IsWkg1CufBwg",
      "metadata": {
        "id": "IsWkg1CufBwg"
      },
      "outputs": [],
      "source": [
        "import torch\n",
        "import torch.nn as nn"
      ]
    },
    {
      "cell_type": "markdown",
      "id": "2Voz6l5RUZRh",
      "metadata": {
        "id": "2Voz6l5RUZRh"
      },
      "source": [
        "## <font color = 'indianred'>**Q1 : Create Tensor (1/2 Point)**\n",
        " Create a torch Tensor of shape (5, 3) which is filled with zeros. Modify the tensor to set element (0, 2) to 10 and element (2, 0)  to 100."
      ]
    },
    {
      "cell_type": "code",
      "execution_count": 2,
      "id": "bI9MwTaamhis",
      "metadata": {
        "id": "bI9MwTaamhis"
      },
      "outputs": [],
      "source": [
        "my_tensor = torch.zeros(5, 3) # CODE HERE"
      ]
    },
    {
      "cell_type": "code",
      "execution_count": 3,
      "id": "7QEV2uq-yqZK",
      "metadata": {
        "colab": {
          "base_uri": "https://localhost:8080/"
        },
        "id": "7QEV2uq-yqZK",
        "outputId": "f9b97463-c338-4133-ab73-825c132643a4"
      },
      "outputs": [
        {
          "output_type": "execute_result",
          "data": {
            "text/plain": [
              "torch.Size([5, 3])"
            ]
          },
          "metadata": {},
          "execution_count": 3
        }
      ],
      "source": [
        "my_tensor.shape"
      ]
    },
    {
      "cell_type": "code",
      "execution_count": 4,
      "id": "yAxzhRVGyr6c",
      "metadata": {
        "colab": {
          "base_uri": "https://localhost:8080/"
        },
        "id": "yAxzhRVGyr6c",
        "outputId": "ef82438a-3543-494c-b811-351fc54edb74"
      },
      "outputs": [
        {
          "output_type": "execute_result",
          "data": {
            "text/plain": [
              "tensor([[0., 0., 0.],\n",
              "        [0., 0., 0.],\n",
              "        [0., 0., 0.],\n",
              "        [0., 0., 0.],\n",
              "        [0., 0., 0.]])"
            ]
          },
          "metadata": {},
          "execution_count": 4
        }
      ],
      "source": [
        "my_tensor"
      ]
    },
    {
      "cell_type": "code",
      "execution_count": 5,
      "id": "FCM4GuyWylQV",
      "metadata": {
        "id": "FCM4GuyWylQV"
      },
      "outputs": [],
      "source": [
        "# Manually set the value at the first row and third column to 10,\n",
        "# and the value at the third row and first column to 100 in the tensor named \"my_tensor\".\n",
        "# code here\n",
        "# CODE HERE"
      ]
    },
    {
      "cell_type": "code",
      "source": [
        "\n",
        "\n",
        "my_tensor[0, 2] = 10\n",
        "my_tensor[2, 0] = 100\n"
      ],
      "metadata": {
        "id": "GYJTMfkutuvH"
      },
      "id": "GYJTMfkutuvH",
      "execution_count": 6,
      "outputs": []
    },
    {
      "cell_type": "code",
      "execution_count": 7,
      "id": "ZdEftwuPyyx9",
      "metadata": {
        "colab": {
          "base_uri": "https://localhost:8080/"
        },
        "id": "ZdEftwuPyyx9",
        "outputId": "050e9dc3-286b-4819-a85a-c2b984e7c74a"
      },
      "outputs": [
        {
          "output_type": "execute_result",
          "data": {
            "text/plain": [
              "tensor([[  0.,   0.,  10.],\n",
              "        [  0.,   0.,   0.],\n",
              "        [100.,   0.,   0.],\n",
              "        [  0.,   0.,   0.],\n",
              "        [  0.,   0.,   0.]])"
            ]
          },
          "metadata": {},
          "execution_count": 7
        }
      ],
      "source": [
        "my_tensor"
      ]
    },
    {
      "cell_type": "markdown",
      "id": "6Eoa6rF80ZTa",
      "metadata": {
        "id": "6Eoa6rF80ZTa"
      },
      "source": [
        "## <font color = 'indianred'>**Q2: Reshape tensor (1/2 Point)**\n",
        "You have following tensor as input:\n",
        "\n",
        "```x=torch.tensor([0, 1, 2, 3, 4, 5, 6, 7, 8, 9, 10, 11, 12, 13, 14, 15, 16, 17, 18, 19, 20, 21, 22, 23])```\n",
        "\n",
        "Using only reshaping functions (like view, reshape, transpose, permute), you need to get at the following tensor as output:\n",
        "\n",
        "```\n",
        "tensor([[ 0,  4,  8, 12, 16, 20],\n",
        "        [ 1,  5,  9, 13, 17, 21],\n",
        "        [ 2,  6, 10, 14, 18, 22],\n",
        "        [ 3,  7, 11, 15, 19, 23]])\n",
        "```\n",
        "\n"
      ]
    },
    {
      "cell_type": "code",
      "source": [
        "\n",
        "x = torch.tensor([0, 1, 2, 3, 4, 5, 6, 7, 8, 9, 10, 11, 12, 13, 14, 15, 16, 17, 18, 19, 20, 21, 22, 23])\n"
      ],
      "metadata": {
        "id": "ae2caRauxXfn"
      },
      "id": "ae2caRauxXfn",
      "execution_count": 8,
      "outputs": []
    },
    {
      "cell_type": "code",
      "source": [
        "# Reshape the tensor into the desired shape and transpose it\n",
        "x = x.view(6, 4).permute(1, 0)\n",
        "x"
      ],
      "metadata": {
        "colab": {
          "base_uri": "https://localhost:8080/"
        },
        "id": "V3YzBtEht9Cc",
        "outputId": "4bcd8610-a6a2-495e-e2e1-6748a82f6df2"
      },
      "id": "V3YzBtEht9Cc",
      "execution_count": 9,
      "outputs": [
        {
          "output_type": "execute_result",
          "data": {
            "text/plain": [
              "tensor([[ 0,  4,  8, 12, 16, 20],\n",
              "        [ 1,  5,  9, 13, 17, 21],\n",
              "        [ 2,  6, 10, 14, 18, 22],\n",
              "        [ 3,  7, 11, 15, 19, 23]])"
            ]
          },
          "metadata": {},
          "execution_count": 9
        }
      ]
    },
    {
      "cell_type": "code",
      "execution_count": 10,
      "id": "b6_SdFS-ke_x",
      "metadata": {
        "colab": {
          "base_uri": "https://localhost:8080/"
        },
        "id": "b6_SdFS-ke_x",
        "outputId": "51330f94-8fb3-4226-9856-b17c5f165dc4"
      },
      "outputs": [
        {
          "output_type": "execute_result",
          "data": {
            "text/plain": [
              "tensor([[ 0,  4,  8, 12, 16, 20],\n",
              "        [ 1,  5,  9, 13, 17, 21],\n",
              "        [ 2,  6, 10, 14, 18, 22],\n",
              "        [ 3,  7, 11, 15, 19, 23]])"
            ]
          },
          "metadata": {},
          "execution_count": 10
        }
      ],
      "source": [
        "# CODE HERE\n",
        "x"
      ]
    },
    {
      "cell_type": "markdown",
      "id": "dnw5qi7A4ysc",
      "metadata": {
        "id": "dnw5qi7A4ysc"
      },
      "source": [
        "## <font color = 'indianred'>**Q3: Slice tensor (1/2 Point)**\n",
        "\n",
        "- Slice the tensor x to get the following\n",
        ">- last row of x\n",
        ">- fourth column of x\n",
        ">- first three rows and first two columns - the shape of subtensor should be (3,2)\n",
        ">- odd valued rows and columns"
      ]
    },
    {
      "cell_type": "code",
      "execution_count": 11,
      "id": "STbUdF0J5IBD",
      "metadata": {
        "colab": {
          "base_uri": "https://localhost:8080/"
        },
        "id": "STbUdF0J5IBD",
        "outputId": "b210ba2f-9574-4577-a267-2df5fff771ad"
      },
      "outputs": [
        {
          "output_type": "execute_result",
          "data": {
            "text/plain": [
              "tensor([[ 1,  2,  3,  4,  5],\n",
              "        [ 6,  7,  8,  8, 10],\n",
              "        [11, 12, 13, 14, 15]])"
            ]
          },
          "metadata": {},
          "execution_count": 11
        }
      ],
      "source": [
        "x = torch.tensor([[1, 2, 3, 4, 5], [6, 7, 8, 8, 10], [11, 12, 13, 14, 15]])\n",
        "x"
      ]
    },
    {
      "cell_type": "code",
      "execution_count": 12,
      "id": "mgHPm0qP5ZU3",
      "metadata": {
        "colab": {
          "base_uri": "https://localhost:8080/"
        },
        "id": "mgHPm0qP5ZU3",
        "outputId": "25b491f0-64f4-448f-9d2d-e9a17c28137c"
      },
      "outputs": [
        {
          "output_type": "execute_result",
          "data": {
            "text/plain": [
              "torch.Size([3, 5])"
            ]
          },
          "metadata": {},
          "execution_count": 12
        }
      ],
      "source": [
        "x.shape"
      ]
    },
    {
      "cell_type": "code",
      "source": [
        "last_row =  x[-1, :]# CODE HERE\n",
        "last_row"
      ],
      "metadata": {
        "colab": {
          "base_uri": "https://localhost:8080/"
        },
        "id": "o7vu_BqWyBDZ",
        "outputId": "d0e60d74-fc68-441b-b3c9-070802287798"
      },
      "id": "o7vu_BqWyBDZ",
      "execution_count": 13,
      "outputs": [
        {
          "output_type": "execute_result",
          "data": {
            "text/plain": [
              "tensor([11, 12, 13, 14, 15])"
            ]
          },
          "metadata": {},
          "execution_count": 13
        }
      ]
    },
    {
      "cell_type": "code",
      "execution_count": null,
      "id": "hzQRs79A5JGd",
      "metadata": {
        "colab": {
          "base_uri": "https://localhost:8080/"
        },
        "id": "hzQRs79A5JGd",
        "outputId": "dd4983ae-eaa1-4ca5-a0c2-409ddcc31129"
      },
      "outputs": [
        {
          "output_type": "execute_result",
          "data": {
            "text/plain": [
              "tensor([11, 12, 13, 14, 15])"
            ]
          },
          "metadata": {},
          "execution_count": 12
        }
      ],
      "source": [
        "# Student Task: Retrieve the last row of the tensor 'x'\n",
        "# Hint: Negative indexing can help you select rows or columns counting from the end of the tensor.\n",
        "# Think about how you can select all columns for the desired row.\n",
        "last_row =  # CODE HERE\n",
        "last_row"
      ]
    },
    {
      "cell_type": "code",
      "source": [
        "fourth_column = x[:, -2]# CODE HERE\n",
        "fourth_column"
      ],
      "metadata": {
        "colab": {
          "base_uri": "https://localhost:8080/"
        },
        "id": "LcpgynRzyL1L",
        "outputId": "2a305c66-647e-48fe-8bb1-9098d15efa4d"
      },
      "id": "LcpgynRzyL1L",
      "execution_count": 14,
      "outputs": [
        {
          "output_type": "execute_result",
          "data": {
            "text/plain": [
              "tensor([ 4,  8, 14])"
            ]
          },
          "metadata": {},
          "execution_count": 14
        }
      ]
    },
    {
      "cell_type": "code",
      "execution_count": null,
      "id": "-mb_Et866ZEW",
      "metadata": {
        "colab": {
          "base_uri": "https://localhost:8080/"
        },
        "id": "-mb_Et866ZEW",
        "outputId": "fc7e41f2-a381-48df-cf52-a991a224af3c"
      },
      "outputs": [
        {
          "output_type": "execute_result",
          "data": {
            "text/plain": [
              "tensor([ 4,  8, 14])"
            ]
          },
          "metadata": {},
          "execution_count": 13
        }
      ],
      "source": [
        "# Student Task: Retrieve the fourth column of the tensor 'x'\n",
        "# Hint: Pay attention to the indexing for both rows and columns.\n",
        "# Remember that indexing in Python starts from zero.\n",
        "fourth_column = # CODE HERE\n",
        "fourth_column"
      ]
    },
    {
      "cell_type": "code",
      "source": [
        "first_3_rows_2_columns = x[:3, :2]# CODE HERE\n",
        "first_3_rows_2_columns"
      ],
      "metadata": {
        "colab": {
          "base_uri": "https://localhost:8080/"
        },
        "id": "K_QWYwPWyUkU",
        "outputId": "3b79d190-9c02-477b-c557-688e78fdddbe"
      },
      "id": "K_QWYwPWyUkU",
      "execution_count": 15,
      "outputs": [
        {
          "output_type": "execute_result",
          "data": {
            "text/plain": [
              "tensor([[ 1,  2],\n",
              "        [ 6,  7],\n",
              "        [11, 12]])"
            ]
          },
          "metadata": {},
          "execution_count": 15
        }
      ]
    },
    {
      "cell_type": "code",
      "execution_count": null,
      "id": "c2VaG6Y16jsA",
      "metadata": {
        "colab": {
          "base_uri": "https://localhost:8080/"
        },
        "id": "c2VaG6Y16jsA",
        "outputId": "bd7be659-afca-4856-ee9d-fa6747f59645"
      },
      "outputs": [
        {
          "output_type": "execute_result",
          "data": {
            "text/plain": [
              "tensor([[ 1,  2],\n",
              "        [ 6,  7],\n",
              "        [11, 12]])"
            ]
          },
          "metadata": {},
          "execution_count": 14
        }
      ],
      "source": [
        "# Student Task: Retrieve the first 3 rows and first 2 columns from the tensor 'x'.\n",
        "# Hint: Use slicing to extract the required subset of rows and columns.\n",
        "first_3_rows_2_columns = # CODE HERE\n",
        "first_3_rows_2_columns"
      ]
    },
    {
      "cell_type": "code",
      "source": [
        "odd_valued_rows_columns = x[::2, ::2]# CODE HERE\n",
        "odd_valued_rows_columns"
      ],
      "metadata": {
        "colab": {
          "base_uri": "https://localhost:8080/"
        },
        "id": "w51lZUKAyiRU",
        "outputId": "8f82efcd-0e86-49c5-cc8a-ab83426d4cd3"
      },
      "id": "w51lZUKAyiRU",
      "execution_count": 16,
      "outputs": [
        {
          "output_type": "execute_result",
          "data": {
            "text/plain": [
              "tensor([[ 1,  3,  5],\n",
              "        [11, 13, 15]])"
            ]
          },
          "metadata": {},
          "execution_count": 16
        }
      ]
    },
    {
      "cell_type": "code",
      "execution_count": null,
      "id": "RHnSUpxs7O82",
      "metadata": {
        "colab": {
          "base_uri": "https://localhost:8080/"
        },
        "id": "RHnSUpxs7O82",
        "outputId": "538eedd0-de00-4847-a910-811dc0856434"
      },
      "outputs": [
        {
          "output_type": "execute_result",
          "data": {
            "text/plain": [
              "tensor([[ 1,  3,  5],\n",
              "        [11, 13, 15]])"
            ]
          },
          "metadata": {},
          "execution_count": 15
        }
      ],
      "source": [
        "# Student Task: Retrieve the rows and columns with odd-indexed positions from the tensor 'x'.\n",
        "# Hint: Use stride slicing to extract the required subset of rows and columns with odd indices.\n",
        "odd_valued_rows_columns = # CODE HERE\n",
        "odd_valued_rows_columns"
      ]
    },
    {
      "cell_type": "markdown",
      "id": "uSj20OEuf6bf",
      "metadata": {
        "id": "uSj20OEuf6bf"
      },
      "source": [
        "##  <font color = 'indianred'>**Q4 -Normalize Function (1/2 Points)**<font>\n",
        "\n",
        "Write the function that normalizes the columns of a matrix. You have to compute the mean and standard deviation of each column. Then for each element of the column, you subtract the mean and divide by the standard deviation."
      ]
    },
    {
      "cell_type": "code",
      "execution_count": 17,
      "id": "8L9JBFNilkWt",
      "metadata": {
        "id": "8L9JBFNilkWt"
      },
      "outputs": [],
      "source": [
        "# Given Data\n",
        "x = [[ 3,  60,  100, -100],\n",
        "     [ 2,  20,  600, -600],\n",
        "     [-5,  50,  900, -900]]"
      ]
    },
    {
      "cell_type": "code",
      "execution_count": 18,
      "id": "iRrhopVBl-0q",
      "metadata": {
        "id": "iRrhopVBl-0q"
      },
      "outputs": [],
      "source": [
        "# Convert to PyTorch Tensor and set to float\n",
        "X = torch.tensor(x)\n",
        "X= X.float()"
      ]
    },
    {
      "cell_type": "code",
      "execution_count": 19,
      "id": "S2MaocHxmEQJ",
      "metadata": {
        "colab": {
          "base_uri": "https://localhost:8080/"
        },
        "id": "S2MaocHxmEQJ",
        "outputId": "7c1f8a5f-a788-4d3a-b148-b10a5a4f84ce"
      },
      "outputs": [
        {
          "output_type": "stream",
          "name": "stdout",
          "text": [
            "torch.Size([3, 4])\n",
            "torch.float32\n"
          ]
        }
      ],
      "source": [
        "# Print shape and data type for verification\n",
        "print(X.shape)\n",
        "print(X.dtype)"
      ]
    },
    {
      "cell_type": "code",
      "execution_count": 20,
      "id": "rPgb1L9RmQAU",
      "metadata": {
        "colab": {
          "base_uri": "https://localhost:8080/"
        },
        "id": "rPgb1L9RmQAU",
        "outputId": "60ab73c3-6acf-4a01-c757-b78050c9d606"
      },
      "outputs": [
        {
          "output_type": "execute_result",
          "data": {
            "text/plain": [
              "tensor([  4.3589,  20.8167, 404.1452, 404.1452])"
            ]
          },
          "metadata": {},
          "execution_count": 20
        }
      ],
      "source": [
        "# Compute and display the mean and standard deviation of each column for reference\n",
        "X.mean(axis = 0)\n",
        "X.std(axis = 0)"
      ]
    },
    {
      "cell_type": "code",
      "execution_count": 21,
      "id": "qnM87Db1mqFH",
      "metadata": {
        "colab": {
          "base_uri": "https://localhost:8080/"
        },
        "id": "qnM87Db1mqFH",
        "outputId": "a886abd0-c9a6-4fdc-bad7-bbb5bdafeb25"
      },
      "outputs": [
        {
          "output_type": "execute_result",
          "data": {
            "text/plain": [
              "tensor([  4.3589,  20.8167, 404.1452, 404.1452])"
            ]
          },
          "metadata": {},
          "execution_count": 21
        }
      ],
      "source": [
        "X.std(axis = 0)"
      ]
    },
    {
      "cell_type": "markdown",
      "source": [
        "- Your task starts here\n",
        "- Your normalize_matrix function should take a PyTorch tensor x as input.\n",
        "- It should return a tensor where the columns are normalized.\n",
        "- After implementing your function, use the code provided to verify if the mean for each column in Z is close to zero and the standard deviation is 1."
      ],
      "metadata": {
        "id": "Yy2hehDnJHOq"
      },
      "id": "Yy2hehDnJHOq"
    },
    {
      "cell_type": "code",
      "execution_count": 22,
      "id": "mwq8qnqFlu9V",
      "metadata": {
        "id": "mwq8qnqFlu9V",
        "colab": {
          "base_uri": "https://localhost:8080/"
        },
        "outputId": "52a1a141-8d12-4c95-f5a7-7fbe2acc5491"
      },
      "outputs": [
        {
          "output_type": "execute_result",
          "data": {
            "text/plain": [
              "tensor([[ 0.6882,  0.8006, -1.0722,  1.0722],\n",
              "        [ 0.4588, -1.1209,  0.1650, -0.1650],\n",
              "        [-1.1471,  0.3203,  0.9073, -0.9073]])"
            ]
          },
          "metadata": {},
          "execution_count": 22
        }
      ],
      "source": [
        "def normalize_matrix(x):\n",
        "  # Calculate the mean along each column (think carefully , you will take mean along axis = 0 or 1)\n",
        "  mean = X.mean(axis = 0) # CODE HERE\n",
        "\n",
        "  # Calculate the standard deviation along each column\n",
        "  std = X.std(axis = 0) # CODE HERE\n",
        "\n",
        "  # Normalize each element in the columns by subtracting the mean and dividing by the standard deviation\n",
        "  y = (X - mean)/std # CODE HERE\n",
        "\n",
        "  return y  # Return the normalized matrix\n",
        "\n",
        "Z = normalize_matrix(X)\n",
        "Z"
      ]
    },
    {
      "cell_type": "code",
      "execution_count": null,
      "id": "m027Qcgwm9OL",
      "metadata": {
        "colab": {
          "base_uri": "https://localhost:8080/"
        },
        "id": "m027Qcgwm9OL",
        "outputId": "e5221858-a92e-44fb-a744-c607958ee96e"
      },
      "outputs": [
        {
          "output_type": "execute_result",
          "data": {
            "text/plain": [
              "tensor([[ 0.6882,  0.8006, -1.0722,  1.0722],\n",
              "        [ 0.4588, -1.1209,  0.1650, -0.1650],\n",
              "        [-1.1471,  0.3203,  0.9073, -0.9073]])"
            ]
          },
          "metadata": {},
          "execution_count": 25
        }
      ],
      "source": [
        "Z = normalize_matrix(X)\n",
        "Z"
      ]
    },
    {
      "cell_type": "code",
      "execution_count": 23,
      "id": "78-0D3KfnHel",
      "metadata": {
        "colab": {
          "base_uri": "https://localhost:8080/"
        },
        "id": "78-0D3KfnHel",
        "outputId": "97a1cb71-fc49-424d-ad59-b959dfc979da"
      },
      "outputs": [
        {
          "output_type": "execute_result",
          "data": {
            "text/plain": [
              "tensor([ 0.0000e+00,  4.9671e-08,  3.9736e-08, -3.9736e-08])"
            ]
          },
          "metadata": {},
          "execution_count": 23
        }
      ],
      "source": [
        "Z.mean(axis = 0)"
      ]
    },
    {
      "cell_type": "code",
      "execution_count": 24,
      "id": "NETkPmz8n142",
      "metadata": {
        "colab": {
          "base_uri": "https://localhost:8080/"
        },
        "id": "NETkPmz8n142",
        "outputId": "b08b60f8-f6fe-4dce-c758-68d2f16448d3"
      },
      "outputs": [
        {
          "output_type": "execute_result",
          "data": {
            "text/plain": [
              "tensor([1., 1., 1., 1.])"
            ]
          },
          "metadata": {},
          "execution_count": 24
        }
      ],
      "source": [
        "Z.std(axis = 0)"
      ]
    },
    {
      "cell_type": "markdown",
      "id": "b2816679-bf3f-4f97-82b7-3b1f9780b609",
      "metadata": {
        "id": "b2816679-bf3f-4f97-82b7-3b1f9780b609"
      },
      "source": [
        "##  <font color = 'indianred'>**Q5 -Calculate Gradients 1 Point**\n",
        "\n",
        "Compute Gradient using  PyTorch Autograd - 2 Points\n",
        "## $f(x,y) = \\frac{x + \\exp(y)}{\\log(x) + (x-y)^3}$\n",
        "Compute dx and dy at x=3 and y=4"
      ]
    },
    {
      "cell_type": "code",
      "source": [
        "# prompt: Add x to the exponential of y\n",
        "\n",
        "import torch\n",
        "import torch.nn as nn\n",
        "x = 3\n",
        "y = 4\n",
        "# Create a Variable of x\n",
        "x = torch.tensor(x, dtype=torch.float32) # CODE HERE\n",
        "\n",
        "# Create a Variable of y\n",
        "y = torch.tensor(y, dtype=torch.float32) # CODE HERE\n"
      ],
      "metadata": {
        "id": "ka263LJW0i8r"
      },
      "id": "ka263LJW0i8r",
      "execution_count": 25,
      "outputs": []
    },
    {
      "cell_type": "code",
      "execution_count": 26,
      "id": "rcDTwteKbZUH",
      "metadata": {
        "id": "rcDTwteKbZUH"
      },
      "outputs": [],
      "source": [
        "def fxy(x, y):\n",
        "  # Calculate the numerator: Add x to the exponential of y\n",
        "  num = x + torch.exp(y)# CODE HERE\n",
        "\n",
        "  # Calculate the denominator: Sum of the logarithm of x and cube of the difference between x and y\n",
        "  den =torch.log(x) + (x-y)**3 # CODE HERE\n",
        "\n",
        "  # Perform element-wise division of the numerator by the denominator\n",
        "  return num/den # CODE HERE\n",
        "\n"
      ]
    },
    {
      "cell_type": "code",
      "execution_count": 27,
      "id": "0ADHy2FqfP8S",
      "metadata": {
        "id": "0ADHy2FqfP8S"
      },
      "outputs": [],
      "source": [
        "# Create a single-element tensor 'x' containing the value 3.0\n",
        "# make sure to set 'requires_grad=True' as you want to compute gradients with respect to this tensor during backpropagation\n",
        "x = torch.tensor([3.0], requires_grad=True) # CODE HERE\n",
        "\n",
        "# Create a single-element tensor 'y' containing the value 4.0\n",
        "# Similar to 'x', we want to compute gradients for 'y' during backpropagation, hence make sure to set 'requires_grad=True'\n",
        "y = torch.tensor([4.0], requires_grad=True) # CODE HERE\n"
      ]
    },
    {
      "cell_type": "code",
      "execution_count": 28,
      "id": "_2HFXif6fg7A",
      "metadata": {
        "colab": {
          "base_uri": "https://localhost:8080/"
        },
        "id": "_2HFXif6fg7A",
        "outputId": "e912cd25-cb6a-4dae-9313-910db7d99a29"
      },
      "outputs": [
        {
          "output_type": "execute_result",
          "data": {
            "text/plain": [
              "tensor([584.0868], grad_fn=<DivBackward0>)"
            ]
          },
          "metadata": {},
          "execution_count": 28
        }
      ],
      "source": [
        "# Call the function 'fxy' with the tensors 'x' and 'y' as arguments\n",
        "# The result 'f' will also be a tensor and will contain derivative information because 'x' and 'y' have 'requires_grad=True'\n",
        "f = fxy(x, y)\n",
        "f"
      ]
    },
    {
      "cell_type": "code",
      "execution_count": 29,
      "id": "TbZiDeTXfrLf",
      "metadata": {
        "id": "TbZiDeTXfrLf",
        "colab": {
          "base_uri": "https://localhost:8080/"
        },
        "outputId": "f558f77b-3512-471a-e351-0253c83c6800"
      },
      "outputs": [
        {
          "output_type": "stream",
          "name": "stdout",
          "text": [
            "x.grad = tensor([-19733.3965])\n",
            "y.grad = tensor([18322.8477])\n"
          ]
        }
      ],
      "source": [
        "# Perform backpropagation to compute the gradients of 'f' with respect to 'x' and 'y'\n",
        "# Hint use backward() function on f\n",
        "f.backward()\n",
        "\n",
        "# CODE HERE\n",
        "print('x.grad =', x.grad )# CODE HERE)\n",
        "print('y.grad =', y.grad) # CODE HERE)"
      ]
    },
    {
      "cell_type": "code",
      "execution_count": null,
      "id": "7al8BVZKf3R7",
      "metadata": {
        "colab": {
          "base_uri": "https://localhost:8080/"
        },
        "id": "7al8BVZKf3R7",
        "outputId": "906ecf68-feb0-4424-b9c7-6a2dd2876f91"
      },
      "outputs": [
        {
          "output_type": "stream",
          "name": "stdout",
          "text": [
            "tensor([-19733.3965]) tensor([18322.8477])\n"
          ]
        }
      ],
      "source": [
        "# Display the computed gradients of 'f' with respect to 'x' and 'y'\n",
        "# These gradients are stored as attributes of x and y after the backward operation\n",
        "# Print the gradients for x and y\n",
        "print('x.grad =', x.grad )# CODE HERE)\n",
        "print('y.grad =', y.grad) # CODE HERE)\n",
        "\n"
      ]
    },
    {
      "cell_type": "markdown",
      "metadata": {
        "id": "RX5yKE-t0sEn"
      },
      "source": [
        "## <font color = 'indianred'>**Q6. Numerical Precision - 2 Points**\n",
        "\n",
        "Given scalars `x` and `y`, implement the following `log_exp` function such that it returns\n",
        "$$-\\log\\left(\\frac{e^x}{e^x+e^y}\\right)$$."
      ],
      "id": "RX5yKE-t0sEn"
    },
    {
      "cell_type": "code",
      "execution_count": 30,
      "metadata": {
        "ExecuteTime": {
          "end_time": "2019-01-29T22:48:56.206890Z",
          "start_time": "2019-01-29T22:48:56.202996Z"
        },
        "id": "nikSfenDC3c3"
      },
      "outputs": [],
      "source": [
        "#Question\n",
        "def log_exp(x, y):\n",
        "    ## add your solution here and remove pass\n",
        "\n",
        "    num = torch.exp(x)\n",
        "\n",
        "    den = torch.exp(x) + torch.exp(y)\n",
        "\n",
        "    return -torch.log(num/den)\n",
        "    # CODE HERE\n"
      ],
      "id": "nikSfenDC3c3"
    },
    {
      "cell_type": "markdown",
      "metadata": {
        "id": "ada0LKKYC3c3"
      },
      "source": [
        "Test your codes with normal inputs:"
      ],
      "id": "ada0LKKYC3c3"
    },
    {
      "cell_type": "code",
      "execution_count": 31,
      "metadata": {
        "ExecuteTime": {
          "end_time": "2019-01-29T22:48:56.215579Z",
          "start_time": "2019-01-29T22:48:56.209659Z"
        },
        "colab": {
          "base_uri": "https://localhost:8080/"
        },
        "id": "oIZ0UETBC3c3",
        "outputId": "5b1a179b-a1ff-49db-e111-c996262cceb2"
      },
      "outputs": [
        {
          "output_type": "execute_result",
          "data": {
            "text/plain": [
              "tensor([1.3133])"
            ]
          },
          "metadata": {},
          "execution_count": 31
        }
      ],
      "source": [
        "# Create tensors x and y with initial values 2.0 and 3.0, respectively\n",
        "x, y = torch.tensor([2.0]), torch.tensor([3.0])\n",
        "\n",
        "# Evaluate the function log_exp() for the given x and y, and store the output in z\n",
        "z = log_exp(x, y)\n",
        "\n",
        "# Display the computed value of z\n",
        "z\n"
      ],
      "id": "oIZ0UETBC3c3"
    },
    {
      "cell_type": "markdown",
      "metadata": {
        "id": "sbGtCaQ6C3c4"
      },
      "source": [
        "Now implement a function to compute $\\partial z/\\partial x$ and $\\partial z/\\partial y$ with `autograd`"
      ],
      "id": "sbGtCaQ6C3c4"
    },
    {
      "cell_type": "code",
      "execution_count": 32,
      "metadata": {
        "ExecuteTime": {
          "end_time": "2019-01-29T22:48:56.223303Z",
          "start_time": "2019-01-29T22:48:56.218056Z"
        },
        "id": "2kMC5IdJC3c4",
        "colab": {
          "base_uri": "https://localhost:8080/"
        },
        "outputId": "ba2c271e-19db-4411-d2c7-61a9a61fed3c"
      },
      "outputs": [
        {
          "output_type": "stream",
          "name": "stdout",
          "text": [
            "x.grad = tensor([-0.7311])\n",
            "y.grad = tensor([0.7311])\n"
          ]
        }
      ],
      "source": [
        "def grad(forward_func, x, y):\n",
        "  # Enable gradient tracking for x and y, set reauires_grad appropriately\n",
        "\n",
        "  x.requires_grad_(True)\n",
        "  y.requires_grad_(True)\n",
        "  # CODE HERE\n",
        "  # CODE HERE\n",
        "\n",
        "  # Evaluate the forward function to get the output 'z'\n",
        "  z = forward_func(x, y)\n",
        "\n",
        "  # Perform the backward pass to compute gradients\n",
        "  # Hint use backward() function on z\n",
        "  z.backward()\n",
        "  # CODE HERE\n",
        "\n",
        "  # Print the gradients for x and y\n",
        "  print('x.grad =', x.grad )# CODE HERE)\n",
        "  print('y.grad =', y.grad) # CODE HERE)\n",
        "  # Reset the gradients for x and y to zero for the next iteration\n",
        "\n",
        "  x.grad.zero_()\n",
        "  y.grad.zero_()\n",
        "  # CODE HERE\n",
        "  # CODE HERE\n",
        "\n",
        "\n",
        "grad(log_exp, x, y)"
      ],
      "id": "2kMC5IdJC3c4"
    },
    {
      "cell_type": "markdown",
      "metadata": {
        "id": "g5Q3d5opC3c4"
      },
      "source": [
        "Test your codes, it should print the results nicely."
      ],
      "id": "g5Q3d5opC3c4"
    },
    {
      "cell_type": "code",
      "execution_count": null,
      "metadata": {
        "ExecuteTime": {
          "end_time": "2019-01-29T22:48:56.267165Z",
          "start_time": "2019-01-29T22:48:56.227035Z"
        },
        "colab": {
          "base_uri": "https://localhost:8080/"
        },
        "id": "oob8ND3BC3c4",
        "outputId": "4e6f2304-7abb-4dea-c417-b189f369c284"
      },
      "outputs": [
        {
          "output_type": "stream",
          "name": "stdout",
          "text": [
            "x.grad = tensor([-0.7311])\n",
            "y.grad = tensor([0.7311])\n"
          ]
        }
      ],
      "source": [
        "grad(log_exp, x, y)"
      ],
      "id": "oob8ND3BC3c4"
    },
    {
      "cell_type": "markdown",
      "metadata": {
        "id": "L4nMM2joC3c4"
      },
      "source": [
        "But now let's try some \"hard\" inputs"
      ],
      "id": "L4nMM2joC3c4"
    },
    {
      "cell_type": "code",
      "execution_count": 33,
      "metadata": {
        "ExecuteTime": {
          "end_time": "2019-01-29T22:48:56.285842Z",
          "start_time": "2019-01-29T22:48:56.274079Z"
        },
        "id": "d_f5Xk41C3c4"
      },
      "outputs": [],
      "source": [
        "x, y = torch.tensor([50.0]), torch.tensor([100.0])"
      ],
      "id": "d_f5Xk41C3c4"
    },
    {
      "cell_type": "code",
      "execution_count": 34,
      "metadata": {
        "colab": {
          "base_uri": "https://localhost:8080/"
        },
        "id": "ECgqQ_i-C3c4",
        "outputId": "6f4ac109-4f24-477a-f874-019b4a31e958"
      },
      "outputs": [
        {
          "output_type": "stream",
          "name": "stdout",
          "text": [
            "x.grad = tensor([nan])\n",
            "y.grad = tensor([nan])\n"
          ]
        }
      ],
      "source": [
        "# you may see nan/inf values as output, this is not an error\n",
        "grad(log_exp, x, y)"
      ],
      "id": "ECgqQ_i-C3c4"
    },
    {
      "cell_type": "code",
      "execution_count": 35,
      "metadata": {
        "colab": {
          "base_uri": "https://localhost:8080/"
        },
        "id": "kHsyDVblC3c4",
        "outputId": "1b3a108e-81aa-4b12-e472-312371b2f4ff"
      },
      "outputs": [
        {
          "output_type": "execute_result",
          "data": {
            "text/plain": [
              "tensor([inf])"
            ]
          },
          "metadata": {},
          "execution_count": 35
        }
      ],
      "source": [
        "# you may see nan/inf values as output, this is not an error\n",
        "torch.exp(torch.tensor([100.0]))"
      ],
      "id": "kHsyDVblC3c4"
    },
    {
      "cell_type": "markdown",
      "metadata": {
        "id": "clK0zCMjC3c4"
      },
      "source": [
        "Does your code return correct results? If not, try to understand the reason. (Hint, evaluate `exp(100)`). Now develop a new function `stable_log_exp` that is identical to `log_exp` in math, but returns a more numerical stable result.\n",
        "<br> Hint: (1) $\\log\\left(\\frac{x}{y}\\right) = log ({x}) -log({y})$\n",
        "<br> Hint: (2) See logsum Trick - https://www.xarg.org/2016/06/the-log-sum-exp-trick-in-machine-learning/"
      ],
      "id": "clK0zCMjC3c4"
    },
    {
      "cell_type": "code",
      "execution_count": 36,
      "metadata": {
        "ExecuteTime": {
          "end_time": "2019-01-29T22:48:56.305595Z",
          "start_time": "2019-01-29T22:48:56.293399Z"
        },
        "id": "alymet8aC3c4"
      },
      "outputs": [],
      "source": [
        "def stable_log_exp(x, y):\n",
        "\n",
        "    a = max(x, y)\n",
        "\n",
        "    rr = a + torch.log(torch.exp(x - a) + torch.exp(y - a))\n",
        "\n",
        "    dd = x\n",
        "\n",
        "    return rr - dd\n",
        "\n"
      ],
      "id": "alymet8aC3c4"
    },
    {
      "cell_type": "code",
      "execution_count": 37,
      "metadata": {
        "colab": {
          "base_uri": "https://localhost:8080/"
        },
        "id": "ZsrgvsFh8UFq",
        "outputId": "af509a34-90f7-41d6-b689-a143649f3d12"
      },
      "outputs": [
        {
          "output_type": "execute_result",
          "data": {
            "text/plain": [
              "tensor([inf], grad_fn=<NegBackward0>)"
            ]
          },
          "metadata": {},
          "execution_count": 37
        }
      ],
      "source": [
        "log_exp(x, y)"
      ],
      "id": "ZsrgvsFh8UFq"
    },
    {
      "cell_type": "code",
      "execution_count": 38,
      "metadata": {
        "colab": {
          "base_uri": "https://localhost:8080/"
        },
        "id": "3NoH9aa48Lzf",
        "outputId": "b459f211-1e0b-4233-d60a-2377731bdc22"
      },
      "outputs": [
        {
          "output_type": "execute_result",
          "data": {
            "text/plain": [
              "tensor([50.], grad_fn=<SubBackward0>)"
            ]
          },
          "metadata": {},
          "execution_count": 38
        }
      ],
      "source": [
        "stable_log_exp(x, y)"
      ],
      "id": "3NoH9aa48Lzf"
    },
    {
      "cell_type": "code",
      "execution_count": 39,
      "metadata": {
        "colab": {
          "base_uri": "https://localhost:8080/"
        },
        "id": "d1uQXi8AC3c5",
        "outputId": "2d718642-8772-44ff-d8e1-f208a3b06ad5"
      },
      "outputs": [
        {
          "output_type": "stream",
          "name": "stdout",
          "text": [
            "x.grad = tensor([-1.])\n",
            "y.grad = tensor([1.])\n"
          ]
        }
      ],
      "source": [
        "grad(stable_log_exp, x, y)"
      ],
      "id": "d1uQXi8AC3c5"
    },
    {
      "cell_type": "markdown",
      "source": [
        "# <font color = 'indianred'>**Task 2 - Linear Regression using Batch Gradient Descent with PyTorch- 5 Points**"
      ],
      "metadata": {
        "id": "ozDFHD4w206j"
      },
      "id": "ozDFHD4w206j"
    },
    {
      "cell_type": "markdown",
      "metadata": {
        "id": "BYYL_jnG0B3i"
      },
      "source": [
        "# <font color = 'indianred'>**Regression using Pytroch**</font>\n",
        "\n",
        "Imagine that you're trying to figure out relationship between two variables x and y . You have some idea but you aren't quite sure yet whether the dependence is linear or quadratic.\n",
        "\n",
        "Your goal is to use least mean squares regression to identify the coefficients for the following three models. The three models are:\n",
        "\n",
        "1. Quadratic model where $\\mathrm{y} = b + w_1 \\cdot \\mathrm{x} + w_2 \\cdot \\mathrm{x}^2$.\n",
        "1. Linear model where $\\mathrm{y} = b + w_1 \\cdot \\mathrm{x}$.\n",
        "1. Linear model with no bias  where $\\mathrm{y} = w_1 \\cdot \\mathrm{x}$.\n",
        "\n",
        "- You will use <font color = 'indianred'>**Batch gradient descent to estimate the model co-efficients.Batch gradient descent uses complete training data at each iteration.**</font>\n",
        "- You will implement only training loop (no splitting of data in to training/validation).\n",
        "- The training loop will have only one ```for loop```. We need to iterate over whole data in each epoch. We do not need to create batches.\n",
        "- You may have to try different values of number of epochs/ learning rate to get good results.\n",
        "- You should use  Pytorch's nn.module and functions."
      ],
      "id": "BYYL_jnG0B3i"
    },
    {
      "cell_type": "markdown",
      "metadata": {
        "id": "JShaYAruM_9F"
      },
      "source": [
        "## <font color = 'indianred'> **Data**"
      ],
      "id": "JShaYAruM_9F"
    },
    {
      "cell_type": "code",
      "execution_count": 40,
      "metadata": {
        "id": "WUcQ0mpp3HNm"
      },
      "outputs": [],
      "source": [
        "x = torch.tensor([1.5420291, 1.8935232, 2.1603365, 2.5381863, 2.893443, \\\n",
        "                    3.838855, 3.925425, 4.2233696, 4.235571, 4.273397, \\\n",
        "                    4.9332876, 6.4704757, 6.517571, 6.87826, 7.0009003, \\\n",
        "                    7.035741, 7.278681, 7.7561755, 9.121138, 9.728281])\n",
        "y = torch.tensor([63.802246, 80.036026, 91.4903, 108.28776, 122.781975, \\\n",
        "                    161.36314, 166.50816, 176.16772, 180.29395, 179.09758, \\\n",
        "                    206.21027, 272.71857, 272.24033, 289.54745, 293.8488, \\\n",
        "                    295.2281, 306.62274, 327.93243, 383.16296, 408.65967])"
      ],
      "id": "WUcQ0mpp3HNm"
    },
    {
      "cell_type": "code",
      "execution_count": 41,
      "metadata": {
        "id": "rANPOz2gM6jM"
      },
      "outputs": [],
      "source": [
        "# Reshape the y tensor to have shape (n, 1), where n is the number of samples.\n",
        "# This is done to match the expected input shape for PyTorch's loss functions.\n",
        "y = y.reshape(-1, 1) # Code HERE\n",
        "\n",
        "# Reshape the x tensor to have shape (n, 1), similar to y, for consistency and to work with matrix operations.\n",
        "x = x.reshape(-1, 1) # Code HERE\n",
        "\n",
        "# Compute the square of each element in x.\n",
        "# This may be used for polynomial features in regression models.\n",
        "x2 = x * x\n"
      ],
      "id": "rANPOz2gM6jM"
    },
    {
      "cell_type": "code",
      "source": [
        "# prompt: original x tensor and its squared values (x2) along dimension 1 (columns).\n",
        "\n",
        "x_combined = torch.cat((x, x2), 1)"
      ],
      "metadata": {
        "id": "VaZw6RnVJKRN"
      },
      "id": "VaZw6RnVJKRN",
      "execution_count": 42,
      "outputs": []
    },
    {
      "cell_type": "code",
      "execution_count": 43,
      "metadata": {
        "id": "hqQS3ENqNE2l"
      },
      "outputs": [],
      "source": [
        "# Concatenate the original x tensor and its squared values (x2) along dimension 1 (columns).\n",
        "# This creates a new tensor with two features: the original x and x2 (its square) . This can be useful for polynomial regression.\n",
        "x_combined = torch.cat((x, x2), 1) # Code HERE\n"
      ],
      "id": "hqQS3ENqNE2l"
    },
    {
      "cell_type": "code",
      "execution_count": 44,
      "metadata": {
        "colab": {
          "base_uri": "https://localhost:8080/"
        },
        "id": "S50TcA7JNNtK",
        "outputId": "14619c93-d23c-4770-e40c-28ac9b2920b0"
      },
      "outputs": [
        {
          "output_type": "stream",
          "name": "stdout",
          "text": [
            "torch.Size([20, 2]) torch.Size([20, 1])\n"
          ]
        }
      ],
      "source": [
        "print(x_combined.shape, x.shape)"
      ],
      "id": "S50TcA7JNNtK"
    },
    {
      "cell_type": "markdown",
      "metadata": {
        "id": "mcxV6FYJo_Z6"
      },
      "source": [
        "##<font color = 'indianred'>**Loss Function**"
      ],
      "id": "mcxV6FYJo_Z6"
    },
    {
      "cell_type": "code",
      "execution_count": 45,
      "metadata": {
        "id": "HT8GelQSpFSR"
      },
      "outputs": [],
      "source": [
        "# Initialize Mean Squared Error (MSE) loss function with mean reduction\n",
        "# 'reduction=\"mean\"' averages the squared differences between predicted and target values\n",
        "loss_function = nn.MSELoss(reduction='mean') # Code HERE\n"
      ],
      "id": "HT8GelQSpFSR"
    },
    {
      "cell_type": "markdown",
      "metadata": {
        "id": "BbT4Z89HHvPb"
      },
      "source": [
        "## <font color = 'indianred'> **Train Function**"
      ],
      "id": "BbT4Z89HHvPb"
    },
    {
      "cell_type": "code",
      "execution_count": 46,
      "metadata": {
        "id": "FSJU5UgpNy6b"
      },
      "outputs": [],
      "source": [
        "def train(epochs, x, y, loss_function, log_interval, model, optimizer):\n",
        "    \"\"\"\n",
        "    Train a PyTorch model using gradient descent.\n",
        "\n",
        "    Parameters:\n",
        "    epochs (int): The number of training epochs.\n",
        "    x (torch.Tensor): The input features.\n",
        "    y (torch.Tensor): The ground truth labels.\n",
        "    loss_function (torch.nn.Module): The loss function to be minimized.\n",
        "    log_interval (int): The interval at which training information is logged.\n",
        "    model (torch.nn.Module): The PyTorch model to be trained.\n",
        "    optimizer (torch.optim.Optimizer): The optimizer for updating model parameters.\n",
        "\n",
        "    Side Effects:\n",
        "    - Modifies the input model's internal parameters during training.\n",
        "    - Outputs training log information at specified intervals.\n",
        "    \"\"\"\n",
        "\n",
        "\n",
        "    for epoch in range(epochs):\n",
        "\n",
        "        # Step 1: Forward pass - Compute predictions based on the input features\n",
        "        y_hat = model(x) # Code HERE\n",
        "\n",
        "        # Step 2: Compute Loss\n",
        "        loss = loss_function(y_hat, y) # Code HERE\n",
        "\n",
        "        # Step 3: Zero Gradients - Clear previous gradient information to prevent accumulation\n",
        "\n",
        "        optimizer.zero_grad()\n",
        "\n",
        "        # Code HERE\n",
        "\n",
        "        # Step 4: Calculate Gradients - Backpropagate the error to compute gradients for each parameter\n",
        "        loss.backward()\n",
        "\n",
        "        # Code HERE\n",
        "\n",
        "        # Step 5: Update Model Parameters - Adjust weights based on computed gradients\n",
        "        optimizer.step()\n",
        "        # Code HERE\n",
        "\n",
        "        # Log training information at specified intervals\n",
        "        if epoch % log_interval == 0:\n",
        "            print(f'epoch: {epoch + 1} --> loss {loss.item()}')\n",
        "\n"
      ],
      "id": "FSJU5UgpNy6b"
    },
    {
      "cell_type": "markdown",
      "metadata": {
        "id": "xns2sBYJm0dj"
      },
      "source": [
        "## <font color = 'indianred'> **Part 1**\n",
        "\n",
        "-  <font color = 'indianred'>**For Part 1, use x_combined (we need to use both $x$ and $x^2 $) as input to the model, this means that you have two inputs.**</font>\n",
        "- Use linear_reg function to specify the model, <font color = 'indianred'>**think carefully what values the three arguments ```(n_ins, n_outs, bias)``` will take**.</font>.\n",
        "- In PyTorch, the `nn.Linear` layer initializes its weights using Kaiming initialization by default, which is well-suited for ReLU activation functions. The bias terms are initialized to zero.\n",
        "-  In this assignment you will  use `nn.init` functions like `nn.init.normal_` and `nn.init.zeros_`, to explicitly override these default initializations to use your specified methods.\n",
        "\n",
        "**Run the cell below twice**\n",
        "\n",
        "**In the first attempt**\n",
        "- Use LEARNING_RATE = 0.05\n",
        "What do you observe?\n",
        "\n",
        "Write your observations HERE:\n",
        "\n",
        "With Learning Rate = 0.05, we get loss as NAN\n",
        "\n",
        "**In the second attempt**\n",
        "- Now use a LEARNING_RATE  = 0.0005,\n",
        "What do you observe?\n",
        "\n",
        "Write your observations HERE:\n",
        "\n",
        "With Learning Rate = 0.0005, we get appropriate loss values with each iteration\n"
      ],
      "id": "xns2sBYJm0dj"
    },
    {
      "cell_type": "code",
      "source": [
        "from numpy.core.fromnumeric import mean\n",
        "# model 1\n",
        "LEARNING_RATE = 0.05\n",
        "EPOCHS = 100000\n",
        "LOG_INTERVAL= 10000\n",
        "\n",
        "# Use PyTorch's nn.Linear to create the model for your task.\n",
        "# Based on your understanding of the problem at hand, decide how you will initialize the nn.Linear layer.\n",
        "# Take into consideration the number of input features, the number of output features, and whether or not to include a bias term.\n",
        "model = nn.Linear(2, 1, True) # Code HERE\n",
        "\n",
        "# Initialize the weights of the model using a normal distribution with mean = 0 and std = 0.01\n",
        "# Hint: To initialize the model's weights, you can use the nn.init.normal_() function.\n",
        "# You will need to provide the 'model.weight' tensor and specify values for the 'mean' and 'std' arguments.\n",
        "# Code HERE\n",
        "\n",
        "nn.init.normal_(model.weight, mean = 0, std = 0.01)\n",
        "\n",
        "\n",
        "# Initialize the model's bias terms to zero\n",
        "# Hint: To set the model's bias terms to zero, consider using the nn.init.zeros_() function.\n",
        "# You'll need to supply 'model.bias' as an argument.\n",
        "nn.init.zeros_(model.bias)\n",
        "\n",
        "# Create an SGD (Stochastic Gradient Descent) optimizer using the model's parameters and a predefined learning rate\n",
        "optimizer = torch.optim.SGD(model.parameters(), LEARNING_RATE)\n",
        "\n",
        "\n",
        "# Start the training process for the model with specified parameters and settings\n",
        "train(EPOCHS, x_combined, y, loss_function, LOG_INTERVAL, model, optimizer)\n"
      ],
      "metadata": {
        "colab": {
          "base_uri": "https://localhost:8080/"
        },
        "id": "1viZkzzGV0Tz",
        "outputId": "f6117f75-1c66-42cc-b66e-5c0e9631d339"
      },
      "id": "1viZkzzGV0Tz",
      "execution_count": 47,
      "outputs": [
        {
          "output_type": "stream",
          "name": "stdout",
          "text": [
            "epoch: 1 --> loss 57711.8359375\n",
            "epoch: 10001 --> loss nan\n",
            "epoch: 20001 --> loss nan\n",
            "epoch: 30001 --> loss nan\n",
            "epoch: 40001 --> loss nan\n",
            "epoch: 50001 --> loss nan\n",
            "epoch: 60001 --> loss nan\n",
            "epoch: 70001 --> loss nan\n",
            "epoch: 80001 --> loss nan\n",
            "epoch: 90001 --> loss nan\n"
          ]
        }
      ]
    },
    {
      "cell_type": "code",
      "source": [
        "\n",
        "from numpy.core.fromnumeric import mean\n",
        "# model 1\n",
        "LEARNING_RATE = 0.0005\n",
        "EPOCHS = 100000\n",
        "LOG_INTERVAL= 10000\n",
        "\n",
        "# Use PyTorch's nn.Linear to create the model for your task.\n",
        "# Based on your understanding of the problem at hand, decide how you will initialize the nn.Linear layer.\n",
        "# Take into consideration the number of input features, the number of output features, and whether or not to include a bias term.\n",
        "model = nn.Linear(2, 1, True) # Code HERE\n",
        "\n",
        "# Initialize the weights of the model using a normal distribution with mean = 0 and std = 0.01\n",
        "# Hint: To initialize the model's weights, you can use the nn.init.normal_() function.\n",
        "# You will need to provide the 'model.weight' tensor and specify values for the 'mean' and 'std' arguments.\n",
        "# Code HERE\n",
        "\n",
        "nn.init.normal(model.weight, mean = 0, std = 0.01)\n",
        "\n",
        "\n",
        "# Initialize the model's bias terms to zero\n",
        "# Hint: To set the model's bias terms to zero, consider using the nn.init.zeros_() function.\n",
        "# You'll need to supply 'model.bias' as an argument.\n",
        "nn.init.zeros_(model.bias)\n",
        "\n",
        "# Create an SGD (Stochastic Gradient Descent) optimizer using the model's parameters and a predefined learning rate\n",
        "optimizer = torch.optim.SGD(model.parameters(), lr = LEARNING_RATE)\n",
        "\n",
        "\n",
        "# Start the training process for the model with specified parameters and settings\n",
        "train(EPOCHS, x_combined, y, loss_function, LOG_INTERVAL, model, optimizer)"
      ],
      "metadata": {
        "colab": {
          "base_uri": "https://localhost:8080/"
        },
        "id": "IZN9c9riWhd2",
        "outputId": "2ce94828-cc58-44fc-e3fc-6e967ff2b6b5"
      },
      "id": "IZN9c9riWhd2",
      "execution_count": 48,
      "outputs": [
        {
          "output_type": "stream",
          "name": "stderr",
          "text": [
            "<ipython-input-48-cb606886d40b>:17: UserWarning: nn.init.normal is now deprecated in favor of nn.init.normal_.\n",
            "  nn.init.normal(model.weight, mean = 0, std = 0.01)\n"
          ]
        },
        {
          "output_type": "stream",
          "name": "stdout",
          "text": [
            "epoch: 1 --> loss 58000.4140625\n",
            "epoch: 10001 --> loss 5.004487037658691\n",
            "epoch: 20001 --> loss 3.0958104133605957\n",
            "epoch: 30001 --> loss 2.1380457878112793\n",
            "epoch: 40001 --> loss 1.6573864221572876\n",
            "epoch: 50001 --> loss 1.4162007570266724\n",
            "epoch: 60001 --> loss 1.2950093746185303\n",
            "epoch: 70001 --> loss 1.2341467142105103\n",
            "epoch: 80001 --> loss 1.2036006450653076\n",
            "epoch: 90001 --> loss 1.1882147789001465\n"
          ]
        }
      ]
    },
    {
      "cell_type": "code",
      "execution_count": null,
      "metadata": {
        "colab": {
          "base_uri": "https://localhost:8080/"
        },
        "id": "utgwb7HyRZkm",
        "outputId": "89703f3a-936e-47cc-d831-15248c642dc3"
      },
      "outputs": [
        {
          "output_type": "stream",
          "name": "stdout",
          "text": [
            "epoch: 1 --> loss 57919.14453125\n",
            "epoch: 10001 --> loss 5.003323554992676\n",
            "epoch: 20001 --> loss 3.095221519470215\n",
            "epoch: 30001 --> loss 2.1377549171447754\n",
            "epoch: 40001 --> loss 1.6572593450546265\n",
            "epoch: 50001 --> loss 1.4161388874053955\n",
            "epoch: 60001 --> loss 1.294983148574829\n",
            "epoch: 70001 --> loss 1.2341328859329224\n",
            "epoch: 80001 --> loss 1.203601360321045\n",
            "epoch: 90001 --> loss 1.1882034540176392\n"
          ]
        }
      ],
      "source": [
        "from numpy.core.fromnumeric import mean\n",
        "# model 1\n",
        "LEARNING_RATE = 0.0005\n",
        "EPOCHS = 100000\n",
        "LOG_INTERVAL= 10000\n",
        "\n",
        "# Use PyTorch's nn.Linear to create the model for your task.\n",
        "# Based on your understanding of the problem at hand, decide how you will initialize the nn.Linear layer.\n",
        "# Take into consideration the number of input features, the number of output features, and whether or not to include a bias term.\n",
        "model = nn.Linear(2, 1, True) # Code HERE\n",
        "\n",
        "# Initialize the weights of the model using a normal distribution with mean = 0 and std = 0.01\n",
        "# Hint: To initialize the model's weights, you can use the nn.init.normal_() function.\n",
        "# You will need to provide the 'model.weight' tensor and specify values for the 'mean' and 'std' arguments.\n",
        "# Code HERE\n",
        "\n",
        "nn.init.normal_(model.weight, mean = 0, std = 0.01)\n",
        "\n",
        "\n",
        "# Initialize the model's bias terms to zero\n",
        "# Hint: To set the model's bias terms to zero, consider using the nn.init.zeros_() function.\n",
        "# You'll need to supply 'model.bias' as an argument.\n",
        "nn.init.zeros_(model.bias)\n",
        "\n",
        "# Create an SGD (Stochastic Gradient Descent) optimizer using the model's parameters and a predefined learning rate\n",
        "optimizer = torch.optim.SGD(model.parameters(), lr = LEARNING_RATE)\n",
        "\n",
        "\n",
        "# Start the training process for the model with specified parameters and settings\n",
        "train(EPOCHS, x_combined, y, loss_function, LOG_INTERVAL, model, optimizer)\n"
      ],
      "id": "utgwb7HyRZkm"
    },
    {
      "cell_type": "code",
      "execution_count": 49,
      "metadata": {
        "colab": {
          "base_uri": "https://localhost:8080/"
        },
        "id": "vYu7XpVUXe6F",
        "outputId": "ba6585b1-7bf1-42ee-90aa-61b899a47a9a"
      },
      "outputs": [
        {
          "output_type": "stream",
          "name": "stdout",
          "text": [
            " Weights tensor([[4.1796e+01, 1.4832e-02]]), \n",
            "Bias: tensor([0.9774])\n"
          ]
        }
      ],
      "source": [
        "print(f' Weights {model.weight.data}, \\nBias: {model.bias.data}')"
      ],
      "id": "vYu7XpVUXe6F"
    },
    {
      "cell_type": "markdown",
      "metadata": {
        "id": "yjBjky9Hm7Up"
      },
      "source": [
        "## <font color = 'indianred'> **Part 2**\n",
        "\n",
        "-  <font color = 'indianred'>**For Part 1, use $x$ as input to the model, this means that you have only one input.**</font>\n",
        "- Use linear_reg function to specify the model, <font color = 'indianred'>**think carefully what values the three arguments ```(n_ins, n_outs, bias)``` will take**.</font>.\n"
      ],
      "id": "yjBjky9Hm7Up"
    },
    {
      "cell_type": "code",
      "source": [
        "# model 2\n",
        "LEARNING_RATE = 0.01\n",
        "EPOCHS = 1000\n",
        "LOG_INTERVAL= 10\n",
        "\n",
        "# Use PyTorch's nn.Linear to create the model for your task.\n",
        "# Based on your understanding of the problem at hand, decide how you will initialize the nn.Linear layer.\n",
        "# Take into consideration the number of input features, the number of output features, and whether or not to include a bias term.\n",
        "model = nn.Linear(1, 1, True) # Code HERE\n",
        "\n",
        "# Initialize the weights of the model using a normal distribution with mean = 0 and std = 0.01\n",
        "# Hint: To initialize the model's weights, you can use the nn.init.normal_() function.\n",
        "# You will need to provide the 'model.weight' tensor and specify values for the 'mean' and 'std' arguments.\n",
        "nn.init.normal_(model.weight, mean = 0, std = 0.01)\n",
        "# Code HERE\n",
        "\n",
        "\n",
        "# Initialize the model's bias terms to zero\n",
        "# Hint: To set the model's bias terms to zero, consider using the nn.init.zeros_() function.\n",
        "# You'll need to supply 'model.bias' as an argument.\n",
        "nn.init.zeros_(model.bias )\n",
        "# Code HERE\n",
        "\n",
        "# Create an SGD (Stochastic Gradient Descent) optimizer using the model's parameters and a predefined learning rate\n",
        "optimizer = torch.optim.SGD(model.parameters(), lr= LEARNING_RATE) # Code HERE\n",
        "\n",
        "\n",
        "# Start the training process for the model with specified parameters and settings\n",
        "# Note that we are passing x as an input for this part\n",
        "train(EPOCHS, x, y, loss_function, LOG_INTERVAL, model, optimizer)"
      ],
      "metadata": {
        "colab": {
          "base_uri": "https://localhost:8080/"
        },
        "id": "IQwuNRyDXarC",
        "outputId": "cdb323b5-03f5-457b-d831-f4fe88ace974"
      },
      "id": "IQwuNRyDXarC",
      "execution_count": 50,
      "outputs": [
        {
          "output_type": "stream",
          "name": "stdout",
          "text": [
            "epoch: 1 --> loss 57923.63671875\n",
            "epoch: 11 --> loss 6.9695587158203125\n",
            "epoch: 21 --> loss 6.595754146575928\n",
            "epoch: 31 --> loss 6.246048450469971\n",
            "epoch: 41 --> loss 5.918890953063965\n",
            "epoch: 51 --> loss 5.612832069396973\n",
            "epoch: 61 --> loss 5.326478958129883\n",
            "epoch: 71 --> loss 5.0586347579956055\n",
            "epoch: 81 --> loss 4.808050632476807\n",
            "epoch: 91 --> loss 4.573611736297607\n",
            "epoch: 101 --> loss 4.354315280914307\n",
            "epoch: 111 --> loss 4.14913272857666\n",
            "epoch: 121 --> loss 3.95723032951355\n",
            "epoch: 131 --> loss 3.777653217315674\n",
            "epoch: 141 --> loss 3.609668254852295\n",
            "epoch: 151 --> loss 3.4525020122528076\n",
            "epoch: 161 --> loss 3.3054981231689453\n",
            "epoch: 171 --> loss 3.1679470539093018\n",
            "epoch: 181 --> loss 3.0392870903015137\n",
            "epoch: 191 --> loss 2.9189138412475586\n",
            "epoch: 201 --> loss 2.8063266277313232\n",
            "epoch: 211 --> loss 2.7009575366973877\n",
            "epoch: 221 --> loss 2.6024136543273926\n",
            "epoch: 231 --> loss 2.510205030441284\n",
            "epoch: 241 --> loss 2.4239604473114014\n",
            "epoch: 251 --> loss 2.3432838916778564\n",
            "epoch: 261 --> loss 2.267784595489502\n",
            "epoch: 271 --> loss 2.197157621383667\n",
            "epoch: 281 --> loss 2.1310932636260986\n",
            "epoch: 291 --> loss 2.0692989826202393\n",
            "epoch: 301 --> loss 2.0114803314208984\n",
            "epoch: 311 --> loss 1.957381010055542\n",
            "epoch: 321 --> loss 1.9067809581756592\n",
            "epoch: 331 --> loss 1.859434723854065\n",
            "epoch: 341 --> loss 1.8151445388793945\n",
            "epoch: 351 --> loss 1.7737195491790771\n",
            "epoch: 361 --> loss 1.7349512577056885\n",
            "epoch: 371 --> loss 1.6986852884292603\n",
            "epoch: 381 --> loss 1.664771318435669\n",
            "epoch: 391 --> loss 1.6330331563949585\n",
            "epoch: 401 --> loss 1.603348970413208\n",
            "epoch: 411 --> loss 1.575561761856079\n",
            "epoch: 421 --> loss 1.5495884418487549\n",
            "epoch: 431 --> loss 1.525285005569458\n",
            "epoch: 441 --> loss 1.5025403499603271\n",
            "epoch: 451 --> loss 1.4812707901000977\n",
            "epoch: 461 --> loss 1.4613651037216187\n",
            "epoch: 471 --> loss 1.4427378177642822\n",
            "epoch: 481 --> loss 1.4253302812576294\n",
            "epoch: 491 --> loss 1.4090254306793213\n",
            "epoch: 501 --> loss 1.3937901258468628\n",
            "epoch: 511 --> loss 1.3795316219329834\n",
            "epoch: 521 --> loss 1.3661872148513794\n",
            "epoch: 531 --> loss 1.3537026643753052\n",
            "epoch: 541 --> loss 1.3420270681381226\n",
            "epoch: 551 --> loss 1.3311102390289307\n",
            "epoch: 561 --> loss 1.3208876848220825\n",
            "epoch: 571 --> loss 1.3113231658935547\n",
            "epoch: 581 --> loss 1.30238938331604\n",
            "epoch: 591 --> loss 1.29401433467865\n",
            "epoch: 601 --> loss 1.2861878871917725\n",
            "epoch: 611 --> loss 1.278865098953247\n",
            "epoch: 621 --> loss 1.2720192670822144\n",
            "epoch: 631 --> loss 1.2656123638153076\n",
            "epoch: 641 --> loss 1.2596216201782227\n",
            "epoch: 651 --> loss 1.2540104389190674\n",
            "epoch: 661 --> loss 1.2487608194351196\n",
            "epoch: 671 --> loss 1.243851661682129\n",
            "epoch: 681 --> loss 1.2392587661743164\n",
            "epoch: 691 --> loss 1.234959363937378\n",
            "epoch: 701 --> loss 1.2309415340423584\n",
            "epoch: 711 --> loss 1.227179765701294\n",
            "epoch: 721 --> loss 1.2236549854278564\n",
            "epoch: 731 --> loss 1.2203748226165771\n",
            "epoch: 741 --> loss 1.2172921895980835\n",
            "epoch: 751 --> loss 1.214413046836853\n",
            "epoch: 761 --> loss 1.211721658706665\n",
            "epoch: 771 --> loss 1.2092022895812988\n",
            "epoch: 781 --> loss 1.2068387269973755\n",
            "epoch: 791 --> loss 1.2046363353729248\n",
            "epoch: 801 --> loss 1.2025724649429321\n",
            "epoch: 811 --> loss 1.200635313987732\n",
            "epoch: 821 --> loss 1.1988335847854614\n",
            "epoch: 831 --> loss 1.1971439123153687\n",
            "epoch: 841 --> loss 1.1955697536468506\n",
            "epoch: 851 --> loss 1.1940785646438599\n",
            "epoch: 861 --> loss 1.1927040815353394\n",
            "epoch: 871 --> loss 1.1914130449295044\n",
            "epoch: 881 --> loss 1.190193772315979\n",
            "epoch: 891 --> loss 1.1890735626220703\n",
            "epoch: 901 --> loss 1.188012957572937\n",
            "epoch: 911 --> loss 1.1870132684707642\n",
            "epoch: 921 --> loss 1.1860859394073486\n",
            "epoch: 931 --> loss 1.1852223873138428\n",
            "epoch: 941 --> loss 1.1844003200531006\n",
            "epoch: 951 --> loss 1.183647871017456\n",
            "epoch: 961 --> loss 1.1829382181167603\n",
            "epoch: 971 --> loss 1.1822694540023804\n",
            "epoch: 981 --> loss 1.1816496849060059\n",
            "epoch: 991 --> loss 1.1810719966888428\n"
          ]
        }
      ]
    },
    {
      "cell_type": "code",
      "execution_count": null,
      "metadata": {
        "colab": {
          "base_uri": "https://localhost:8080/"
        },
        "id": "ELy7vX8Fm7Up",
        "outputId": "681334aa-fff7-4c83-9b31-72a9a1322395"
      },
      "outputs": [
        {
          "output_type": "stream",
          "name": "stdout",
          "text": [
            "epoch: 1 --> loss 57946.64453125\n",
            "epoch: 11 --> loss 6.972099304199219\n",
            "epoch: 21 --> loss 6.5980987548828125\n",
            "epoch: 31 --> loss 6.24825382232666\n",
            "epoch: 41 --> loss 5.920919418334961\n",
            "epoch: 51 --> loss 5.614750862121582\n",
            "epoch: 61 --> loss 5.328296184539795\n",
            "epoch: 71 --> loss 5.0603132247924805\n",
            "epoch: 81 --> loss 4.809639930725098\n",
            "epoch: 91 --> loss 4.575124740600586\n",
            "epoch: 101 --> loss 4.355687141418457\n",
            "epoch: 111 --> loss 4.150455951690674\n",
            "epoch: 121 --> loss 3.95841646194458\n",
            "epoch: 131 --> loss 3.7787766456604004\n",
            "epoch: 141 --> loss 3.6107280254364014\n",
            "epoch: 151 --> loss 3.453505754470825\n",
            "epoch: 161 --> loss 3.3064160346984863\n",
            "epoch: 171 --> loss 3.1688246726989746\n",
            "epoch: 181 --> loss 3.040102481842041\n",
            "epoch: 191 --> loss 2.9196677207946777\n",
            "epoch: 201 --> loss 2.807030200958252\n",
            "epoch: 211 --> loss 2.7016286849975586\n",
            "epoch: 221 --> loss 2.6030232906341553\n",
            "epoch: 231 --> loss 2.5107998847961426\n",
            "epoch: 241 --> loss 2.4244935512542725\n",
            "epoch: 251 --> loss 2.343773603439331\n",
            "epoch: 261 --> loss 2.268254041671753\n",
            "epoch: 271 --> loss 2.19760799407959\n",
            "epoch: 281 --> loss 2.1315178871154785\n",
            "epoch: 291 --> loss 2.0696842670440674\n",
            "epoch: 301 --> loss 2.011842727661133\n",
            "epoch: 311 --> loss 1.9577220678329468\n",
            "epoch: 321 --> loss 1.9070955514907837\n",
            "epoch: 331 --> loss 1.8597275018692017\n",
            "epoch: 341 --> loss 1.8154239654541016\n",
            "epoch: 351 --> loss 1.7739827632904053\n",
            "epoch: 361 --> loss 1.7352020740509033\n",
            "epoch: 371 --> loss 1.6989233493804932\n",
            "epoch: 381 --> loss 1.6649821996688843\n",
            "epoch: 391 --> loss 1.6332435607910156\n",
            "epoch: 401 --> loss 1.6035352945327759\n",
            "epoch: 411 --> loss 1.575739860534668\n",
            "epoch: 421 --> loss 1.5497491359710693\n",
            "epoch: 431 --> loss 1.5254303216934204\n",
            "epoch: 441 --> loss 1.5026837587356567\n",
            "epoch: 451 --> loss 1.481398582458496\n",
            "epoch: 461 --> loss 1.4614914655685425\n",
            "epoch: 471 --> loss 1.442858338356018\n",
            "epoch: 481 --> loss 1.425437331199646\n",
            "epoch: 491 --> loss 1.409139633178711\n",
            "epoch: 501 --> loss 1.3938827514648438\n",
            "epoch: 511 --> loss 1.3796178102493286\n",
            "epoch: 521 --> loss 1.3662664890289307\n",
            "epoch: 531 --> loss 1.353784441947937\n",
            "epoch: 541 --> loss 1.3420988321304321\n",
            "epoch: 551 --> loss 1.3311737775802612\n",
            "epoch: 561 --> loss 1.3209459781646729\n",
            "epoch: 571 --> loss 1.3113890886306763\n",
            "epoch: 581 --> loss 1.3024394512176514\n",
            "epoch: 591 --> loss 1.2940703630447388\n",
            "epoch: 601 --> loss 1.286230444908142\n",
            "epoch: 611 --> loss 1.2789127826690674\n",
            "epoch: 621 --> loss 1.2720648050308228\n",
            "epoch: 631 --> loss 1.265655279159546\n",
            "epoch: 641 --> loss 1.2596511840820312\n",
            "epoch: 651 --> loss 1.2540349960327148\n",
            "epoch: 661 --> loss 1.2487866878509521\n",
            "epoch: 671 --> loss 1.2438724040985107\n",
            "epoch: 681 --> loss 1.2392778396606445\n",
            "epoch: 691 --> loss 1.234989047050476\n",
            "epoch: 701 --> loss 1.2309608459472656\n",
            "epoch: 711 --> loss 1.2271982431411743\n",
            "epoch: 721 --> loss 1.2236838340759277\n",
            "epoch: 731 --> loss 1.2203937768936157\n",
            "epoch: 741 --> loss 1.2173058986663818\n",
            "epoch: 751 --> loss 1.2144362926483154\n",
            "epoch: 761 --> loss 1.2117373943328857\n",
            "epoch: 771 --> loss 1.2092090845108032\n",
            "epoch: 781 --> loss 1.2068579196929932\n",
            "epoch: 791 --> loss 1.204651117324829\n",
            "epoch: 801 --> loss 1.2025864124298096\n",
            "epoch: 811 --> loss 1.2006529569625854\n",
            "epoch: 821 --> loss 1.1988455057144165\n",
            "epoch: 831 --> loss 1.1971585750579834\n",
            "epoch: 841 --> loss 1.1955753564834595\n",
            "epoch: 851 --> loss 1.1940969228744507\n",
            "epoch: 861 --> loss 1.1927134990692139\n",
            "epoch: 871 --> loss 1.1914150714874268\n",
            "epoch: 881 --> loss 1.1902071237564087\n",
            "epoch: 891 --> loss 1.1890735626220703\n",
            "epoch: 901 --> loss 1.188014268875122\n",
            "epoch: 911 --> loss 1.1870183944702148\n",
            "epoch: 921 --> loss 1.1860883235931396\n",
            "epoch: 931 --> loss 1.1852186918258667\n",
            "epoch: 941 --> loss 1.1844128370285034\n",
            "epoch: 951 --> loss 1.183648705482483\n",
            "epoch: 961 --> loss 1.1829415559768677\n",
            "epoch: 971 --> loss 1.1822807788848877\n",
            "epoch: 981 --> loss 1.1816537380218506\n",
            "epoch: 991 --> loss 1.1810705661773682\n"
          ]
        }
      ],
      "source": [
        "# model 2\n",
        "LEARNING_RATE = 0.01\n",
        "EPOCHS = 1000\n",
        "LOG_INTERVAL= 10\n",
        "\n",
        "# Use PyTorch's nn.Linear to create the model for your task.\n",
        "# Based on your understanding of the problem at hand, decide how you will initialize the nn.Linear layer.\n",
        "# Take into consideration the number of input features, the number of output features, and whether or not to include a bias term.\n",
        "model = nn.Linear(1, 1, True) # Code HERE\n",
        "\n",
        "# Initialize the weights of the model using a normal distribution with mean = 0 and std = 0.01\n",
        "# Hint: To initialize the model's weights, you can use the nn.init.normal_() function.\n",
        "# You will need to provide the 'model.weight' tensor and specify values for the 'mean' and 'std' arguments.\n",
        "nn.init.normal_(model.weight, mean = 0, std = 0.01)\n",
        "# Code HERE\n",
        "\n",
        "\n",
        "# Initialize the model's bias terms to zero\n",
        "# Hint: To set the model's bias terms to zero, consider using the nn.init.zeros_() function.\n",
        "# You'll need to supply 'model.bias' as an argument.\n",
        "nn.init.zeros_(model.bias )\n",
        "# Code HERE\n",
        "\n",
        "# Create an SGD (Stochastic Gradient Descent) optimizer using the model's parameters and a predefined learning rate\n",
        "optimizer = torch.optim.SGD(model.parameters(), lr= LEARNING_RATE) # Code HERE\n",
        "\n",
        "\n",
        "# Start the training process for the model with specified parameters and settings\n",
        "# Note that we are passing x as an input for this part\n",
        "train(EPOCHS, x, y, loss_function, LOG_INTERVAL, model, optimizer)"
      ],
      "id": "ELy7vX8Fm7Up"
    },
    {
      "cell_type": "code",
      "execution_count": 51,
      "metadata": {
        "colab": {
          "base_uri": "https://localhost:8080/"
        },
        "id": "hrd64AY7m7Up",
        "outputId": "4b275ead-50df-48c7-cb99-473ee72a660c"
      },
      "outputs": [
        {
          "output_type": "stream",
          "name": "stdout",
          "text": [
            " Weights tensor([[41.9377]]), \n",
            "Bias: tensor([0.7467])\n"
          ]
        }
      ],
      "source": [
        "print(f' Weights {model.weight.data}, \\nBias: {model.bias.data}')"
      ],
      "id": "hrd64AY7m7Up"
    },
    {
      "cell_type": "markdown",
      "metadata": {
        "id": "wE91_Rg8nmSu"
      },
      "source": [
        "## <font color = 'indianred'> **Part 3**\n",
        "-  <font color = 'indianred'>**Part 3 is similar to part 2, the only difference is that model has no bias term now.**</font>\n",
        "- **You will see that we are now running the model for only ten epochs and will get similar results**"
      ],
      "id": "wE91_Rg8nmSu"
    },
    {
      "cell_type": "code",
      "source": [
        "# model 3\n",
        "LEARNING_RATE = 0.01\n",
        "EPOCHS = 10\n",
        "LOG_INTERVAL= 1\n",
        "\n",
        "# Use PyTorch's nn.Linear to create the model for your task.\n",
        "# Based on your understanding of the problem at hand, decide how you will initialize the nn.Linear layer.\n",
        "# Take into consideration the number of input features, the number of output features, and whether or not to include a bias term.\n",
        "model = nn.Linear(1, 1, False) # Code HERE\n",
        "\n",
        "# Initialize the weights of the model using a normal distribution with mean = 0 and std = 0.01\n",
        "# Hint: To initialize the model's weights, you can use the nn.init.normal_() function.\n",
        "# You will need to provide the 'model.weight' tensor and specify values for the 'mean' and 'std' arguments.\n",
        "\n",
        "nn.init.normal_(model.weight, mean=0, std = 0.01)\n",
        "# Code HERE\n",
        "\n",
        "\n",
        "# We do not need to initilaize the bias term as there is no bias term in this model\n",
        "\n",
        "# Create an SGD (Stochastic Gradient Descent) optimizer using the model's parameters and a predefined learning rate\n",
        "optimizer = torch.optim.SGD(model.parameters(), lr = LEARNING_RATE)\n",
        "# Code HERE\n",
        "\n",
        "\n",
        "# Start the training process for the model with specified parameters and settings\n",
        "# Note that we are passing x as an input for this part\n",
        "train(EPOCHS, x, y, loss_function, LOG_INTERVAL, model, optimizer)"
      ],
      "metadata": {
        "colab": {
          "base_uri": "https://localhost:8080/"
        },
        "id": "jxQkEpkWX51y",
        "outputId": "54930051-b832-4ef9-fe5c-174f361d4c7e"
      },
      "id": "jxQkEpkWX51y",
      "execution_count": 52,
      "outputs": [
        {
          "output_type": "stream",
          "name": "stdout",
          "text": [
            "epoch: 1 --> loss 57937.4375\n",
            "epoch: 2 --> loss 6892.7119140625\n",
            "epoch: 3 --> loss 820.9612426757812\n",
            "epoch: 4 --> loss 98.72866821289062\n",
            "epoch: 5 --> loss 12.819379806518555\n",
            "epoch: 6 --> loss 2.600492477416992\n",
            "epoch: 7 --> loss 1.3849482536315918\n",
            "epoch: 8 --> loss 1.2403569221496582\n",
            "epoch: 9 --> loss 1.2231651544570923\n",
            "epoch: 10 --> loss 1.2211220264434814\n"
          ]
        }
      ]
    },
    {
      "cell_type": "code",
      "execution_count": null,
      "metadata": {
        "colab": {
          "base_uri": "https://localhost:8080/"
        },
        "id": "-3QSWacbnmSu",
        "outputId": "ada633d3-2435-45e5-9303-1f0b673cc058"
      },
      "outputs": [
        {
          "output_type": "stream",
          "name": "stdout",
          "text": [
            "epoch: 1 --> loss 57974.01171875\n",
            "epoch: 2 --> loss 6897.0625\n",
            "epoch: 3 --> loss 821.4786376953125\n",
            "epoch: 4 --> loss 98.79048156738281\n",
            "epoch: 5 --> loss 12.826677322387695\n",
            "epoch: 6 --> loss 2.601363182067871\n",
            "epoch: 7 --> loss 1.3850539922714233\n",
            "epoch: 8 --> loss 1.2403713464736938\n",
            "epoch: 9 --> loss 1.223166584968567\n",
            "epoch: 10 --> loss 1.2211220264434814\n"
          ]
        }
      ],
      "source": [
        "# model 3\n",
        "LEARNING_RATE = 0.01\n",
        "EPOCHS = 10\n",
        "LOG_INTERVAL= 1\n",
        "\n",
        "# Use PyTorch's nn.Linear to create the model for your task.\n",
        "# Based on your understanding of the problem at hand, decide how you will initialize the nn.Linear layer.\n",
        "# Take into consideration the number of input features, the number of output features, and whether or not to include a bias term.\n",
        "model = nn.Linear(1, 1, False) # Code HERE\n",
        "\n",
        "# Initialize the weights of the model using a normal distribution with mean = 0 and std = 0.01\n",
        "# Hint: To initialize the model's weights, you can use the nn.init.normal_() function.\n",
        "# You will need to provide the 'model.weight' tensor and specify values for the 'mean' and 'std' arguments.\n",
        "\n",
        "nn.init.normal_(model.weight, mean=0, std = 0.01)\n",
        "# Code HERE\n",
        "\n",
        "\n",
        "# We do not need to initilaize the bias term as there is no bias term in this model\n",
        "\n",
        "# Create an SGD (Stochastic Gradient Descent) optimizer using the model's parameters and a predefined learning rate\n",
        "optimizer = torch.optim.SGD(model.parameters(), lr = LEARNING_RATE)\n",
        "# Code HERE\n",
        "\n",
        "\n",
        "# Start the training process for the model with specified parameters and settings\n",
        "# Note that we are passing x as an input for this part\n",
        "train(EPOCHS, x, y, loss_function, LOG_INTERVAL, model, optimizer)\n"
      ],
      "id": "-3QSWacbnmSu"
    },
    {
      "cell_type": "code",
      "execution_count": 53,
      "metadata": {
        "colab": {
          "base_uri": "https://localhost:8080/"
        },
        "id": "s7a2F_GZnmSu",
        "outputId": "3745b046-cb9a-41a5-9280-2c52f086b010"
      },
      "outputs": [
        {
          "output_type": "stream",
          "name": "stdout",
          "text": [
            " Weights tensor([[42.0557]])\n"
          ]
        }
      ],
      "source": [
        "print(f' Weights {model.weight.data}')"
      ],
      "id": "s7a2F_GZnmSu"
    },
    {
      "cell_type": "markdown",
      "source": [
        "# <font color = 'indianred'>**Task 3 - MultiClass Classification using Mini Batch Gradient Descent with PyTorch- 5 Points**"
      ],
      "metadata": {
        "id": "wxiVbbqL8GIa"
      },
      "id": "wxiVbbqL8GIa"
    },
    {
      "cell_type": "markdown",
      "metadata": {
        "id": "o6jh4FfFPgi_"
      },
      "source": [
        "## <font color = 'indianred'>**Data**"
      ],
      "id": "o6jh4FfFPgi_"
    },
    {
      "cell_type": "code",
      "execution_count": 54,
      "metadata": {
        "execution": {
          "iopub.execute_input": "2022-10-26T19:14:42.405079Z",
          "iopub.status.busy": "2022-10-26T19:14:42.404795Z",
          "iopub.status.idle": "2022-10-26T19:14:42.725729Z",
          "shell.execute_reply": "2022-10-26T19:14:42.725116Z",
          "shell.execute_reply.started": "2022-10-26T19:14:42.405000Z"
        },
        "id": "1pN2psBZPquN"
      },
      "outputs": [],
      "source": [
        "# Import the make_classification function from the sklearn.datasets module\n",
        "# This function is used to generate a synthetic dataset for classification tasks.\n",
        "from sklearn.datasets import make_classification\n",
        "\n",
        "# Import the StandardScaler class from the sklearn.preprocessing module\n",
        "# StandardScaler is used to standardize the features by removing the mean and scaling to unit variance.\n",
        "from sklearn.preprocessing import StandardScaler\n"
      ],
      "id": "1pN2psBZPquN"
    },
    {
      "cell_type": "code",
      "execution_count": 55,
      "metadata": {
        "id": "dHjBoauBQ809"
      },
      "outputs": [],
      "source": [
        "# Import the main PyTorch library, which provides the essential building blocks for constructing neural networks.\n",
        "import torch\n",
        "\n",
        "# Import the 'optim' module from PyTorch for various optimization algorithms like SGD, Adam, etc.\n",
        "import torch.optim as optim\n",
        "\n",
        "# Import the 'nn' module from PyTorch, which contains pre-defined layers, loss functions, etc., for neural networks.\n",
        "import torch.nn as nn\n",
        "\n",
        "# Import the 'functional' module from PyTorch; incorrect import here, it should be 'import torch.nn.functional as F'\n",
        "# This module contains functional forms of layers, loss functions, and other operations.\n",
        "import torch.functional as F  # Should be 'import torch.nn.functional as F'\n",
        "\n",
        "# Import DataLoader and Dataset classes from PyTorch's utility library.\n",
        "# DataLoader helps with batching, shuffling, and loading data in parallel.\n",
        "# Dataset provides an abstract interface for easier data manipulation.\n",
        "from torch.utils.data import DataLoader, Dataset\n"
      ],
      "id": "dHjBoauBQ809"
    },
    {
      "cell_type": "code",
      "execution_count": 56,
      "metadata": {
        "id": "BClv_rE78pCd"
      },
      "outputs": [],
      "source": [
        "# Generate a synthetic dataset for classification using make_classification function.\n",
        "# Parameters:\n",
        "# - n_samples=1000: The total number of samples in the generated dataset.\n",
        "# - n_features=5: The total number of features for each sample.\n",
        "# - n_classes=3: The number of classes for the classification task.\n",
        "# - n_informative=4: The number of informative features, i.e., features that are actually useful for classification.\n",
        "# - n_redundant=1: The number of redundant features, i.e., features that can be linearly derived from informative features.\n",
        "# - random_state=0: The seed for the random number generator to ensure reproducibility.\n",
        "\n",
        "X, y = make_classification(n_samples=1000, n_features=5, n_classes=3, n_informative=4, n_redundant=1, random_state=0)\n"
      ],
      "id": "BClv_rE78pCd"
    },
    {
      "cell_type": "markdown",
      "source": [
        "\n",
        "In this example, you're using `make_classification` to <font color = 'indianred'>**generate a dataset with 1,000 samples, 5 features per sample, and 3 classes for the classification problem**.</font> Of the 5 features, 4 are informative (useful for classification), and 1 is redundant (can be derived from the informative features). The `random_state` parameter ensures that the data generation is reproducible."
      ],
      "metadata": {
        "id": "SxLvScaHKueM"
      },
      "id": "SxLvScaHKueM"
    },
    {
      "cell_type": "code",
      "execution_count": 57,
      "metadata": {
        "id": "pl3r5LUd8pCe"
      },
      "outputs": [],
      "source": [
        "# Initialize the StandardScaler object from the sklearn.preprocessing module.\n",
        "# This will be used to standardize the features of the dataset.\n",
        "preprocessor = StandardScaler()\n",
        "\n",
        "# Fit the StandardScaler on the dataset (X) and then transform it.\n",
        "# The fit_transform() method computes the mean and standard deviation of each feature,\n",
        "# and then standardizes the features by subtracting the mean and dividing by the standard deviation.\n",
        "X = preprocessor.fit_transform(X)\n"
      ],
      "id": "pl3r5LUd8pCe"
    },
    {
      "cell_type": "code",
      "execution_count": 58,
      "metadata": {
        "colab": {
          "base_uri": "https://localhost:8080/"
        },
        "id": "IKQM7PcKVDkK",
        "outputId": "476cd374-e382-47e4-fcc7-299be30103f6"
      },
      "outputs": [
        {
          "output_type": "stream",
          "name": "stdout",
          "text": [
            "(1000, 5) (1000,)\n"
          ]
        }
      ],
      "source": [
        "print(X.shape, y.shape)"
      ],
      "id": "IKQM7PcKVDkK"
    },
    {
      "cell_type": "code",
      "execution_count": 59,
      "metadata": {
        "colab": {
          "base_uri": "https://localhost:8080/"
        },
        "id": "YhLylG90VHG5",
        "outputId": "1c5c7e14-50c4-46bb-ba85-fd6c16bb1529"
      },
      "outputs": [
        {
          "output_type": "execute_result",
          "data": {
            "text/plain": [
              "array([[-0.39443436, -0.78033571, -0.25005511,  0.09118536, -0.5690698 ],\n",
              "       [ 0.64284479, -0.95837057,  0.83598996, -0.08438568,  0.50539358],\n",
              "       [ 0.99102498,  0.8580679 ,  0.78786062, -0.9114329 ,  1.62615938],\n",
              "       [-0.96923966,  0.86168226, -1.31837608, -1.22844863, -0.07591589],\n",
              "       [ 0.96021518,  0.99206623,  1.0026402 , -0.25339161,  1.18831784]])"
            ]
          },
          "metadata": {},
          "execution_count": 59
        }
      ],
      "source": [
        "X[0:5]"
      ],
      "id": "YhLylG90VHG5"
    },
    {
      "cell_type": "code",
      "execution_count": 60,
      "metadata": {
        "colab": {
          "base_uri": "https://localhost:8080/"
        },
        "id": "a8ZlJ168VLQL",
        "outputId": "c289b750-eb2c-486c-859f-6ecbc76907d2"
      },
      "outputs": [
        {
          "output_type": "stream",
          "name": "stdout",
          "text": [
            "[2 0 1 2 1 1 0 2 0 0]\n"
          ]
        }
      ],
      "source": [
        "print(y[0:10])"
      ],
      "id": "a8ZlJ168VLQL"
    },
    {
      "cell_type": "markdown",
      "metadata": {
        "id": "tUYUlTaEQW2w"
      },
      "source": [
        "## <font color = 'indianred'>**Dataset and Data Loaders**"
      ],
      "id": "tUYUlTaEQW2w"
    },
    {
      "cell_type": "code",
      "execution_count": 61,
      "metadata": {
        "id": "x3kFQdLC8pCf"
      },
      "outputs": [],
      "source": [
        "\n",
        "# Convert the numpy arrays X and y to PyTorch Tensors.\n",
        "# For X, we create a floating-point tensor since most PyTorch models expect float inputs for features.\n",
        "# This is a  multiclass classification problem.\n",
        "\n",
        "# ================================\n",
        "# IMPORTANT: # Consider what cost function you will use and whether it expects the label tensor (y)  to be float or long type.\n",
        "# ================================\n",
        "\n",
        "x_tensor = torch.FloatTensor(X)\n",
        "y_tensor = torch.LongTensor(y)\n",
        "\n",
        "\n",
        "\n",
        "# x_tensor = torch.from_numpy(X).type(torch.float) # Code HERE\n",
        "# y_tensor =  torch.from_numpy(y).type(torch.long) # Code HERE\n"
      ],
      "id": "x3kFQdLC8pCf"
    },
    {
      "cell_type": "code",
      "source": [
        "\n",
        "x_tensor[:10]"
      ],
      "metadata": {
        "colab": {
          "base_uri": "https://localhost:8080/"
        },
        "id": "bDNVSSWt2ldv",
        "outputId": "26971c2f-3bde-43e9-9009-d62c9932bcda"
      },
      "id": "bDNVSSWt2ldv",
      "execution_count": 62,
      "outputs": [
        {
          "output_type": "execute_result",
          "data": {
            "text/plain": [
              "tensor([[-0.3944, -0.7803, -0.2501,  0.0912, -0.5691],\n",
              "        [ 0.6428, -0.9584,  0.8360, -0.0844,  0.5054],\n",
              "        [ 0.9910,  0.8581,  0.7879, -0.9114,  1.6262],\n",
              "        [-0.9692,  0.8617, -1.3184, -1.2284, -0.0759],\n",
              "        [ 0.9602,  0.9921,  1.0026, -0.2534,  1.1883],\n",
              "        [ 0.4900,  1.4806,  1.4544, -0.0630,  0.4466],\n",
              "        [ 2.7926, -0.7939,  1.5146,  1.3165,  2.2375],\n",
              "        [-1.1350,  1.1599, -1.7242, -1.4563, -0.0137],\n",
              "        [ 0.8151,  0.5456, -0.6059, -0.1101,  1.2915],\n",
              "        [ 0.5674, -1.1583,  0.7301, -0.0045,  0.3711]])"
            ]
          },
          "metadata": {},
          "execution_count": 62
        }
      ]
    },
    {
      "cell_type": "code",
      "source": [
        "y_tensor[:10]"
      ],
      "metadata": {
        "colab": {
          "base_uri": "https://localhost:8080/"
        },
        "id": "FOIWR-2U2hlj",
        "outputId": "88b0c839-2be1-456c-9f40-bd11cc24593f"
      },
      "id": "FOIWR-2U2hlj",
      "execution_count": 63,
      "outputs": [
        {
          "output_type": "execute_result",
          "data": {
            "text/plain": [
              "tensor([2, 0, 1, 2, 1, 1, 0, 2, 0, 0])"
            ]
          },
          "metadata": {},
          "execution_count": 63
        }
      ]
    },
    {
      "cell_type": "code",
      "source": [
        "# Define a custom PyTorch Dataset class for handling our data\n",
        "class MyDataset(Dataset):\n",
        "    # Constructor: Initialize the dataset with features and labels\n",
        "    def __init__(self, X, y):\n",
        "        self.features = X\n",
        "        self.labels = y\n",
        "\n",
        "    # Method to return the length of the dataset\n",
        "    def __len__(self):\n",
        "        return self.labels.shape[0]\n",
        "\n",
        "    # Method to get a data point by index\n",
        "    def __getitem__(self, index):\n",
        "        x = self.features[index]\n",
        "        y = self.labels[index]\n",
        "        return x, y\n",
        "\n"
      ],
      "metadata": {
        "id": "IqZiLscT-LvT"
      },
      "id": "IqZiLscT-LvT",
      "execution_count": 64,
      "outputs": []
    },
    {
      "cell_type": "code",
      "source": [
        "# Create an instance of the custom MyDataset class, passing in the feature and label tensors.\n",
        "# This will allow the data to be used with PyTorch's DataLoader for efficient batch processing.\n",
        "\n",
        "train_dataset =  MyDataset(x_tensor, y_tensor)\n"
      ],
      "metadata": {
        "id": "70FnT-L6-P96"
      },
      "id": "70FnT-L6-P96",
      "execution_count": 65,
      "outputs": []
    },
    {
      "cell_type": "code",
      "source": [
        "\n",
        "train_dataset[0]\n"
      ],
      "metadata": {
        "colab": {
          "base_uri": "https://localhost:8080/"
        },
        "id": "th0NFm8ad13X",
        "outputId": "bded1ef4-d34c-41c2-da84-0a2ee4e7340b"
      },
      "id": "th0NFm8ad13X",
      "execution_count": 66,
      "outputs": [
        {
          "output_type": "execute_result",
          "data": {
            "text/plain": [
              "(tensor([-0.3944, -0.7803, -0.2501,  0.0912, -0.5691]), tensor(2))"
            ]
          },
          "metadata": {},
          "execution_count": 66
        }
      ]
    },
    {
      "cell_type": "code",
      "source": [
        "# Access the first element (feature-label pair) from the train_dataset using indexing.\n",
        "# The __getitem__ method of MyDataset class will be called to return this element.\n",
        "train_dataset[0]\n"
      ],
      "metadata": {
        "colab": {
          "base_uri": "https://localhost:8080/"
        },
        "id": "KwjHPEoZ-Sfb",
        "outputId": "93005c5f-3173-422d-865d-5d80931bb468"
      },
      "id": "KwjHPEoZ-Sfb",
      "execution_count": 75,
      "outputs": [
        {
          "output_type": "execute_result",
          "data": {
            "text/plain": [
              "(tensor([-0.3944, -0.7803, -0.2501,  0.0912, -0.5691]), tensor(2))"
            ]
          },
          "metadata": {},
          "execution_count": 75
        }
      ]
    },
    {
      "cell_type": "code",
      "source": [
        "# Create Data loader from Dataset\n",
        "# Use a batch size of 16\n",
        "# Use shuffle = True\n",
        "train_loader = DataLoader(train_dataset, batch_size=16, shuffle=True)\n",
        "\n",
        "# Code HERE"
      ],
      "metadata": {
        "id": "lxMxiAKn-FP8"
      },
      "id": "lxMxiAKn-FP8",
      "execution_count": 67,
      "outputs": []
    },
    {
      "cell_type": "markdown",
      "metadata": {
        "id": "y3HFDKy1RLMj"
      },
      "source": [
        "## <font color = 'indianred'>**Model**"
      ],
      "id": "y3HFDKy1RLMj"
    },
    {
      "cell_type": "code",
      "source": [
        "x_tensor.shape"
      ],
      "metadata": {
        "colab": {
          "base_uri": "https://localhost:8080/"
        },
        "id": "-EaYI-E_kVMP",
        "outputId": "7215763d-6900-40ad-aca5-f4d5c53e4b1a"
      },
      "id": "-EaYI-E_kVMP",
      "execution_count": 68,
      "outputs": [
        {
          "output_type": "execute_result",
          "data": {
            "text/plain": [
              "torch.Size([1000, 5])"
            ]
          },
          "metadata": {},
          "execution_count": 68
        }
      ]
    },
    {
      "cell_type": "code",
      "source": [
        "y_tensor.shape"
      ],
      "metadata": {
        "colab": {
          "base_uri": "https://localhost:8080/"
        },
        "id": "L-NVYhHb0rXQ",
        "outputId": "72361ebf-54ad-4062-9751-8eb0002c0b1f"
      },
      "id": "L-NVYhHb0rXQ",
      "execution_count": 69,
      "outputs": [
        {
          "output_type": "execute_result",
          "data": {
            "text/plain": [
              "torch.Size([1000])"
            ]
          },
          "metadata": {},
          "execution_count": 69
        }
      ]
    },
    {
      "cell_type": "code",
      "execution_count": 70,
      "metadata": {
        "id": "mtFhXfXpROP3"
      },
      "outputs": [],
      "source": [
        "\n",
        "# Student Task: Define your neural network model for multi-class classification.\n",
        "# Think through what layers you should add. Note: Your task is to create a model that uses Softmax for\n",
        "# classification but doesn't include any hidden layers.\n",
        "# You can use nn.Linear or nn.Sequential for this task\n",
        "model = nn.Sequential(nn.Linear(5, 3)) # Code HERE\n"
      ],
      "id": "mtFhXfXpROP3"
    },
    {
      "cell_type": "markdown",
      "source": [
        "## <font color = 'indianred'>**Loss Function**"
      ],
      "metadata": {
        "id": "bDkkl8M2c7xo"
      },
      "id": "bDkkl8M2c7xo"
    },
    {
      "cell_type": "code",
      "execution_count": 71,
      "metadata": {
        "id": "ZyxG9cEIRdxD"
      },
      "outputs": [],
      "source": [
        "# Student Task: Specify the loss function for your model.\n",
        "# Consider the architecture of your model, especially the last layer, when choosing the loss function.\n",
        "# Reminder: The last layer in the previous step should guide your choice for an appropriate loss function for multi-class classification.\n",
        "\n",
        "loss_function = nn.CrossEntropyLoss() # Code HERE\n"
      ],
      "id": "ZyxG9cEIRdxD"
    },
    {
      "cell_type": "markdown",
      "metadata": {
        "id": "Z0ETm1C0apXS"
      },
      "source": [
        "## <font color = 'indianred'>**Initialization**\n",
        "\n",
        "Create a function to initilaize weights.\n",
        "- Initialize weights using normal distribution with mean = 0 and std = 0.05\n",
        "- Initilaize the bias term with zeros"
      ],
      "id": "Z0ETm1C0apXS"
    },
    {
      "cell_type": "code",
      "execution_count": 72,
      "metadata": {
        "id": "P7_uk-Wya5w-"
      },
      "outputs": [],
      "source": [
        "# Function to initialize the weights and biases of a neural network layer.\n",
        "# This function specifically targets layers of type nn.Linear.\n",
        "def init_weights(layer):\n",
        "  # Check if the layer is of the type nn.Linear.\n",
        "  if type(layer) == nn.Linear:\n",
        "    # Initialize the weights with a normal distribution, centered at 0 with a standard deviation of 0.05.\n",
        "    torch.nn.init.normal_(layer.weight, mean=0, std=0.05)\n",
        "    # Initialize the bias terms to zero.\n",
        "    torch.nn.init.zeros_(layer.bias)\n"
      ],
      "id": "P7_uk-Wya5w-"
    },
    {
      "cell_type": "markdown",
      "metadata": {
        "id": "_s37DSbzSkWF"
      },
      "source": [
        "## <font color = 'indianred'>**Training Loop**"
      ],
      "id": "_s37DSbzSkWF"
    },
    {
      "cell_type": "markdown",
      "metadata": {
        "id": "0m8CNyv7Syxx"
      },
      "source": [
        "**Model Training** involves five steps:\n",
        "\n",
        "- Step 0: Randomly initialize parameters / weights\n",
        "- Step 1: Compute model's predictions - forward pass\n",
        "- Step 2: Compute loss\n",
        "- Step 3: Compute the gradients\n",
        "- Step 4: Update the parameters\n",
        "- Step 5: Repeat steps 1 - 4\n",
        "\n",
        "Model training is repeating this process over and over, for many **epochs**.\n",
        "\n",
        "We will specify number of ***epochs*** and during each epoch we will iterate over the complete dataset and will keep on updating the parameters.\n",
        "\n",
        "***Learning rate*** and ***epochs*** are known as hyperparameters. We have to adjust the values of these two based on validation dataset.\n",
        "\n",
        "We will now create functions for step 1 to 4."
      ],
      "id": "0m8CNyv7Syxx"
    },
    {
      "cell_type": "code",
      "execution_count": 73,
      "metadata": {
        "id": "zRFZkBl-TGPC"
      },
      "outputs": [],
      "source": [
        "# Function to train a neural network model.\n",
        "# Arguments include the number of epochs, loss function, learning rate, model architecture, and optimizer.\n",
        "\n",
        "device = torch.device(\"cuda:0\" if torch.cuda.is_available() else \"cpu\")\n",
        "\n",
        "\n",
        "def train(epochs, loss_function, learning_rate, model, optimizer):\n",
        "\n",
        "  # Loop through each epoch\n",
        "  for epoch in range(epochs):\n",
        "\n",
        "    # Initialize variables to hold aggregated training loss and correct prediction count for each epoch\n",
        "    running_train_loss = 0\n",
        "    running_train_correct = 0\n",
        "\n",
        "    # Loop through each batch in the training dataset using train_loader\n",
        "    for x, y in train_loader:\n",
        "\n",
        "      # Move input and target tensors to the device (GPU or CPU)\n",
        "      x = x.to(device) # Code HERE\n",
        "      targets = y.to(device) # Code HERE\n",
        "\n",
        "      # Step 1: Forward Pass: Compute model's predictions\n",
        "      output = model(x) # Code HERE\n",
        "\n",
        "      # Step 2: Compute loss\n",
        "      loss = loss_function(output, targets) # Code HERE\n",
        "\n",
        "      # Step 3: Backward pass - Compute the gradients\n",
        "      # Zero out gradients from the previous iteration\n",
        "      optimizer.zero_grad()\n",
        "\n",
        "      # Code HERE\n",
        "\n",
        "      # Backward pass: Compute gradients based on the loss\n",
        "      loss.backward()\n",
        "      # Code HERE\n",
        "\n",
        "      # Step 4: Update the parameters\n",
        "      optimizer.step()\n",
        "      # Code HERE\n",
        "\n",
        "      # Accumulate the loss for the batch\n",
        "      running_train_loss += loss.item()\n",
        "\n",
        "      # Evaluate model's performance without backpropagation for efficiency\n",
        "      # `with torch.no_grad()` temporarily disables autograd, improving speed and avoiding side effects during evaluation.\n",
        "      with torch.no_grad():\n",
        "          _ , y_pred = torch.max(output, dim= 1) # Code HERE  # Find the class index with the maximum predicted probability\n",
        "          correct = torch.sum(y_pred == targets) # Code HERE # Compute the number of correct predictions in the batch\n",
        "          running_train_correct += correct  # Update the cumulative count of correct predictions for the current epoch\n",
        "\n",
        "\n",
        "    # Compute average training loss and accuracy for the epoch\n",
        "    train_loss = running_train_loss / len(train_loader)\n",
        "    train_acc = running_train_correct / len(train_loader.dataset)\n",
        "\n",
        "    # Display training loss and accuracy metrics for the current epoch\n",
        "    print(f'Epoch : {epoch + 1} / {epochs}')\n",
        "    print(f'Train Loss: {train_loss:.4f} | Train Accuracy: {train_acc * 100:.4f}%')\n",
        "\n"
      ],
      "id": "zRFZkBl-TGPC"
    },
    {
      "cell_type": "code",
      "source": [
        "# Fix the random seed to ensure reproducibility across runs\n",
        "torch.manual_seed(100)\n",
        "\n",
        "# Define the total number of epochs for which the model will be trained\n",
        "epochs = 5\n",
        "\n",
        "# Detect if a GPU is available and use it; otherwise, use CPU\n",
        "device = torch.device('cuda:0' if torch.cuda.is_available() else 'cpu')\n",
        "print(device)  # Output the device being used\n",
        "\n",
        "# Define the learning rate for optimization; consider its impact on model performance\n",
        "learning_rate = 1\n",
        "\n",
        "# Student Task: Configure the optimizer for model training.\n",
        "# Here, we're using Stochastic Gradient Descent (SGD). Think through what parameters are needed.\n",
        "# Reminder: Utilize the learning rate defined above when setting up your optimizer.\n",
        "optimizer = torch.optim.SGD(model.parameters(), lr= learning_rate)\n",
        "# Code HERE\n",
        "\n",
        "# Relocate the model to the appropriate compute device (GPU or CPU)\n",
        "model.to(device)\n",
        "\n",
        "# Apply custom weight initialization; this can affect the model's learning trajectory\n",
        "# The `apply` function recursively applies a function to each submodule in a PyTorch model.\n",
        "# In the given context, it's used to apply the `init_weights` function to initialize the weights of all layers in the model.\n",
        "# The benefit is that it provides a convenient way to systematically apply custom weight initialization across complex models,\n",
        "# potentially improving model convergence and performance.\n",
        "model.apply(init_weights)\n",
        "\n",
        "# Kick off the training process using the specified settings\n",
        "train(epochs, loss_function, learning_rate, model, optimizer)"
      ],
      "metadata": {
        "colab": {
          "base_uri": "https://localhost:8080/"
        },
        "id": "OILUIds0nVSw",
        "outputId": "4256bc44-e945-40c1-cfd5-925f88344765"
      },
      "id": "OILUIds0nVSw",
      "execution_count": 74,
      "outputs": [
        {
          "output_type": "stream",
          "name": "stdout",
          "text": [
            "cpu\n",
            "Epoch : 1 / 5\n",
            "Train Loss: 0.8130 | Train Accuracy: 65.4000%\n",
            "Epoch : 2 / 5\n",
            "Train Loss: 0.8005 | Train Accuracy: 66.7000%\n",
            "Epoch : 3 / 5\n",
            "Train Loss: 0.7915 | Train Accuracy: 67.0000%\n",
            "Epoch : 4 / 5\n",
            "Train Loss: 0.7978 | Train Accuracy: 67.9000%\n",
            "Epoch : 5 / 5\n",
            "Train Loss: 0.8008 | Train Accuracy: 67.0000%\n"
          ]
        }
      ]
    },
    {
      "cell_type": "code",
      "source": [
        "# Fix the random seed to ensure reproducibility across runs\n",
        "torch.manual_seed(100)\n",
        "\n",
        "# Define the total number of epochs for which the model will be trained\n",
        "epochs = 5\n",
        "\n",
        "# Detect if a GPU is available and use it; otherwise, use CPU\n",
        "device = torch.device('cuda:0' if torch.cuda.is_available() else 'cpu')\n",
        "print(device)  # Output the device being used\n",
        "\n",
        "# Define the learning rate for optimization; consider its impact on model performance\n",
        "learning_rate = 1\n",
        "\n",
        "# Student Task: Configure the optimizer for model training.\n",
        "# Here, we're using Stochastic Gradient Descent (SGD). Think through what parameters are needed.\n",
        "# Reminder: Utilize the learning rate defined above when setting up your optimizer.\n",
        "optimizer = # Code HERE\n",
        "\n",
        "# Relocate the model to the appropriate compute device (GPU or CPU)\n",
        "model.to(device)\n",
        "\n",
        "# Apply custom weight initialization; this can affect the model's learning trajectory\n",
        "# The `apply` function recursively applies a function to each submodule in a PyTorch model.\n",
        "# In the given context, it's used to apply the `init_weights` function to initialize the weights of all layers in the model.\n",
        "# The benefit is that it provides a convenient way to systematically apply custom weight initialization across complex models,\n",
        "# potentially improving model convergence and performance.\n",
        "model.apply(init_weights)\n",
        "\n",
        "# Kick off the training process using the specified settings\n",
        "train(epochs, loss_function, learning_rate, model, optimizer)\n",
        "\n"
      ],
      "metadata": {
        "colab": {
          "base_uri": "https://localhost:8080/"
        },
        "id": "gkb82Lb6DQXp",
        "outputId": "46aa7170-2988-4e2e-966b-08c7a0523c8c"
      },
      "id": "gkb82Lb6DQXp",
      "execution_count": null,
      "outputs": [
        {
          "output_type": "stream",
          "name": "stdout",
          "text": [
            "cuda:0\n",
            "Epoch : 1 / 5\n",
            "Train Loss: 0.8252 | Train Accuracy: 64.4000%\n",
            "Epoch : 2 / 5\n",
            "Train Loss: 0.8124 | Train Accuracy: 66.0000%\n",
            "Epoch : 3 / 5\n",
            "Train Loss: 0.7933 | Train Accuracy: 66.4000%\n",
            "Epoch : 4 / 5\n",
            "Train Loss: 0.8063 | Train Accuracy: 65.2000%\n",
            "Epoch : 5 / 5\n",
            "Train Loss: 0.8021 | Train Accuracy: 68.2000%\n"
          ]
        }
      ]
    },
    {
      "cell_type": "code",
      "source": [
        "# Output the learned parameters (weights and biases) of the model after training\n",
        "for name, param in model.named_parameters():\n",
        "  # Print the name and the values of each parameter\n",
        "  print(name, param.data)\n"
      ],
      "metadata": {
        "colab": {
          "base_uri": "https://localhost:8080/"
        },
        "id": "WIR40EcjAMbg",
        "outputId": "22ae3526-bbe3-4e7c-93bf-5448435247cd"
      },
      "id": "WIR40EcjAMbg",
      "execution_count": 75,
      "outputs": [
        {
          "output_type": "stream",
          "name": "stdout",
          "text": [
            "0.weight tensor([[ 0.4345, -0.9407, -0.5891, -0.4591,  0.7364],\n",
            "        [ 0.0557,  1.0332,  0.1920,  0.4732,  0.0554],\n",
            "        [-0.6367, -0.0987,  0.2159,  0.0453, -0.8418]])\n",
            "0.bias tensor([-0.2508, -0.0254,  0.2762])\n"
          ]
        }
      ]
    },
    {
      "cell_type": "code",
      "execution_count": 76,
      "metadata": {
        "colab": {
          "base_uri": "https://localhost:8080/"
        },
        "id": "6V3o_7WCYWac",
        "outputId": "89a2d531-1c01-41d9-da87-110c5d1911bb"
      },
      "outputs": [
        {
          "output_type": "stream",
          "name": "stdout",
          "text": [
            "0.weight tensor([[ 0.4345, -0.9407, -0.5891, -0.4591,  0.7364],\n",
            "        [ 0.0557,  1.0332,  0.1920,  0.4732,  0.0554],\n",
            "        [-0.6367, -0.0987,  0.2159,  0.0453, -0.8418]])\n",
            "0.bias tensor([-0.2508, -0.0254,  0.2762])\n"
          ]
        }
      ],
      "source": [
        "# Output the learned parameters (weights and biases) of the model after training\n",
        "for name, param in model.named_parameters():\n",
        "  # Print the name and the values of each parameter\n",
        "  print(name, param.data)\n"
      ],
      "id": "6V3o_7WCYWac"
    },
    {
      "cell_type": "markdown",
      "source": [
        "# <font color = 'indianred'>**Task 4 - MultiLabel Classification using Mini Batch Gradient Descent with PyTorch- 5 Points**"
      ],
      "metadata": {
        "id": "UArlfemmD0Wk"
      },
      "id": "UArlfemmD0Wk"
    },
    {
      "cell_type": "markdown",
      "metadata": {
        "id": "G7Dypy43D0Wk"
      },
      "source": [
        "## <font color = 'indianred'>**Data**"
      ],
      "id": "G7Dypy43D0Wk"
    },
    {
      "cell_type": "code",
      "execution_count": 77,
      "metadata": {
        "execution": {
          "iopub.execute_input": "2022-10-26T19:14:42.405079Z",
          "iopub.status.busy": "2022-10-26T19:14:42.404795Z",
          "iopub.status.idle": "2022-10-26T19:14:42.725729Z",
          "shell.execute_reply": "2022-10-26T19:14:42.725116Z",
          "shell.execute_reply.started": "2022-10-26T19:14:42.405000Z"
        },
        "id": "iFG2Z-vXD0Wk"
      },
      "outputs": [],
      "source": [
        "# Import the function to generate a synthetic multilabel classification dataset\n",
        "from sklearn.datasets import make_multilabel_classification\n",
        "\n",
        "# Import the StandardScaler for feature normalization\n",
        "from sklearn.preprocessing import StandardScaler\n"
      ],
      "id": "iFG2Z-vXD0Wk"
    },
    {
      "cell_type": "code",
      "execution_count": 78,
      "metadata": {
        "id": "6BlPfRboD0Wl"
      },
      "outputs": [],
      "source": [
        "# Import PyTorch library for tensor computation and neural network modules\n",
        "import torch\n",
        "\n",
        "# Import PyTorch's optimization algorithms package\n",
        "import torch.optim as optim\n",
        "\n",
        "# Import PyTorch's neural network module for defining layers and models\n",
        "import torch.nn as nn\n",
        "\n",
        "# Import PyTorch's functional API for stateless operations\n",
        "import torch.functional as F\n",
        "\n",
        "# Import DataLoader, TensorDataset, and Dataset for data loading and manipulation\n",
        "from torch.utils.data import DataLoader, TensorDataset, Dataset\n"
      ],
      "id": "6BlPfRboD0Wl"
    },
    {
      "cell_type": "code",
      "execution_count": 79,
      "metadata": {
        "id": "V2QhwfmoD0Wl"
      },
      "outputs": [],
      "source": [
        "# Generate a synthetic multilabel classification dataset\n",
        "# n_samples: Number of samples in the dataset\n",
        "# n_features: Number of feature variables\n",
        "# n_classes: Number of distinct labels (or classes)\n",
        "# n_labels: Average number of labels per instance\n",
        "# random_state: Seed for reproducibility\n",
        "X, y = make_multilabel_classification(n_samples=1000, n_features=5, n_classes=3, n_labels=2, random_state=0)\n"
      ],
      "id": "V2QhwfmoD0Wl"
    },
    {
      "cell_type": "code",
      "execution_count": 80,
      "metadata": {
        "id": "GMhD31WlD0Wl"
      },
      "outputs": [],
      "source": [
        "# Initialize the StandardScaler for feature normalization\n",
        "preprocessor = StandardScaler()\n",
        "\n",
        "# Fit the preprocessor to the data and transform the features for zero mean and unit variance\n",
        "X = preprocessor.fit_transform(X)\n"
      ],
      "id": "GMhD31WlD0Wl"
    },
    {
      "cell_type": "code",
      "execution_count": 81,
      "metadata": {
        "colab": {
          "base_uri": "https://localhost:8080/"
        },
        "outputId": "e7cbcdf2-0740-432f-9e97-3c2063309e95",
        "id": "TolNK76YD0Wl"
      },
      "outputs": [
        {
          "output_type": "stream",
          "name": "stdout",
          "text": [
            "(1000, 5) (1000, 3)\n"
          ]
        }
      ],
      "source": [
        "# Print the shape of the feature matrix X and the label matrix y\n",
        "# Students: Pay attention to these shapes as they will guide you in defining your neural network model\n",
        "print(X.shape, y.shape)\n"
      ],
      "id": "TolNK76YD0Wl"
    },
    {
      "cell_type": "code",
      "execution_count": 82,
      "metadata": {
        "colab": {
          "base_uri": "https://localhost:8080/"
        },
        "outputId": "b0af306f-21ab-4e32-f3c0-5a63a62cab66",
        "id": "MgD0GuF4D0Wl"
      },
      "outputs": [
        {
          "output_type": "execute_result",
          "data": {
            "text/plain": [
              "array([[ 1.65506353,  0.2101857 ,  0.51570947, -2.00177184,  0.40001786],\n",
              "       [-0.02349989, -0.51376047,  2.34771468,  0.78787635, -1.04334554],\n",
              "       [ 1.09554239,  0.93413188, -0.09495894, -0.00916599, -0.01237169],\n",
              "       [-0.58302103,  1.17544727,  0.21037527, -0.80620833,  0.8124074 ],\n",
              "       [ 1.09554239,  0.69281649, -1.92696415,  1.18639752, -1.24954031]])"
            ]
          },
          "metadata": {},
          "execution_count": 82
        }
      ],
      "source": [
        "X[0:5]"
      ],
      "id": "MgD0GuF4D0Wl"
    },
    {
      "cell_type": "code",
      "execution_count": 83,
      "metadata": {
        "colab": {
          "base_uri": "https://localhost:8080/"
        },
        "outputId": "dbd875b4-1046-4118-9e24-3c6612e1b759",
        "id": "qCki6N5XD0Wl"
      },
      "outputs": [
        {
          "output_type": "stream",
          "name": "stdout",
          "text": [
            "[[0 0 1]\n",
            " [1 0 0]\n",
            " [1 1 1]\n",
            " [0 1 1]\n",
            " [1 1 0]\n",
            " [0 1 0]\n",
            " [1 1 1]\n",
            " [1 0 1]\n",
            " [1 1 1]\n",
            " [1 1 0]]\n"
          ]
        }
      ],
      "source": [
        "# ================================\n",
        "# IMPORTANT: # NOTE: The y in this case is one hot encoded.\n",
        "# This is different from Multiclass Classification.\n",
        "# The loss function we use for multiclass classification handles this internally\n",
        "# For multilabel case we have to provide y in this format\n",
        "# ================================\n",
        "\n",
        "print(y[0:10])"
      ],
      "id": "qCki6N5XD0Wl"
    },
    {
      "cell_type": "markdown",
      "metadata": {
        "id": "xuU4DdG4D0Wl"
      },
      "source": [
        "## <font color = 'indianred'>**Dataset and Data Loaders**"
      ],
      "id": "xuU4DdG4D0Wl"
    },
    {
      "cell_type": "code",
      "execution_count": 84,
      "metadata": {
        "id": "3o-XzO8ID0Wm"
      },
      "outputs": [],
      "source": [
        "# Student Task: Create Tensors from the numpy arrays.\n",
        "# Earlier, we focused on multiclass classification; now, we are dealing with multilabel classification.\n",
        "\n",
        "# ================================\n",
        "# IMPORTANT: # Consider what cost function you will use for multilabel classification and whether it expects the label tensor (y) to be float or long type.\n",
        "# ================================\n",
        "\n",
        "x_tensor = torch.FloatTensor(X) # CODE HERE\n",
        "y_tensor = torch.FloatTensor(y) # CODE HERE\n"
      ],
      "id": "3o-XzO8ID0Wm"
    },
    {
      "cell_type": "code",
      "source": [
        "# Define a custom PyTorch Dataset class for handling our data\n",
        "class MyDataset(Dataset):\n",
        "    # Constructor: Initialize the dataset with features and labels\n",
        "    def __init__(self, X, y):\n",
        "        self.features = X\n",
        "        self.labels = y\n",
        "\n",
        "    # Method to return the length of the dataset\n",
        "    def __len__(self):\n",
        "        return self.labels.shape[0]\n",
        "\n",
        "    # Method to get a data point by index\n",
        "    def __getitem__(self, index):\n",
        "        x = self.features[index]\n",
        "        y = self.labels[index]\n",
        "        return x, y\n"
      ],
      "metadata": {
        "id": "YhIDfdgQD0Wm"
      },
      "execution_count": 85,
      "outputs": [],
      "id": "YhIDfdgQD0Wm"
    },
    {
      "cell_type": "code",
      "source": [
        "# Initialize an instance of the custom MyDataset class\n",
        "# This will be our training dataset, holding our features and labels as PyTorch tensors\n",
        "train_dataset = MyDataset(x_tensor, y_tensor) # CODE HERE\n",
        "train_dataset[0]"
      ],
      "metadata": {
        "id": "RSG9tzzND0Wm",
        "colab": {
          "base_uri": "https://localhost:8080/"
        },
        "outputId": "8ced9ff0-6a42-442f-cce0-567d52a15a95"
      },
      "execution_count": 86,
      "outputs": [
        {
          "output_type": "execute_result",
          "data": {
            "text/plain": [
              "(tensor([ 1.6551,  0.2102,  0.5157, -2.0018,  0.4000]), tensor([0., 0., 1.]))"
            ]
          },
          "metadata": {},
          "execution_count": 86
        }
      ],
      "id": "RSG9tzzND0Wm"
    },
    {
      "cell_type": "code",
      "source": [
        "# Access the first element (feature-label pair) from the train_dataset using indexing.\n",
        "# The __getitem__ method of MyDataset class will be called to return this element.\n",
        "# This is useful for debugging and understanding the data structure\n",
        "train_dataset[0]\n"
      ],
      "metadata": {
        "colab": {
          "base_uri": "https://localhost:8080/"
        },
        "outputId": "627f270c-971a-4a0e-aac4-9ce0cc6d9910",
        "id": "Vu2OtlMiD0Wm"
      },
      "execution_count": 30,
      "outputs": [
        {
          "output_type": "execute_result",
          "data": {
            "text/plain": [
              "(tensor([ 1.6551,  0.2102,  0.5157, -2.0018,  0.4000]), tensor([0, 0, 1]))"
            ]
          },
          "metadata": {},
          "execution_count": 30
        }
      ],
      "id": "Vu2OtlMiD0Wm"
    },
    {
      "cell_type": "code",
      "source": [
        "# Create Data lOader from Dataset\n",
        "# Use a batch size of 16\n",
        "# Use shuffle = True\n",
        "train_loader = DataLoader(train_dataset, batch_size=16, shuffle=True) # CODE HERE"
      ],
      "metadata": {
        "id": "m2wpBNxGD0Wm"
      },
      "execution_count": 87,
      "outputs": [],
      "id": "m2wpBNxGD0Wm"
    },
    {
      "cell_type": "markdown",
      "metadata": {
        "id": "_GHaXZjYD0Wm"
      },
      "source": [
        "## <font color = 'indianred'>**Model**"
      ],
      "id": "_GHaXZjYD0Wm"
    },
    {
      "cell_type": "code",
      "execution_count": 88,
      "metadata": {
        "id": "hFO9egt-D0Wm"
      },
      "outputs": [],
      "source": [
        "# Student Task: Specify your model architecture here.\n",
        "# This is a multilabel problem. Think through what layers you should add to handle this.\n",
        "# Remember, the architecture of your last layer will also depend on your choice of loss function.\n",
        "# Additional Note: No hidden layers should be added for this exercise.\n",
        "# You can use nn.Linear or nn.Sequential for this task\n",
        "\n",
        "model = nn.Sequential(nn.Linear(5, 3)) # CODE HERE\n",
        "\n",
        "\n"
      ],
      "id": "hFO9egt-D0Wm"
    },
    {
      "cell_type": "markdown",
      "source": [
        "## <font color = 'indianred'>**Loss Function**"
      ],
      "metadata": {
        "id": "kDAWf_4tD0Wm"
      },
      "id": "kDAWf_4tD0Wm"
    },
    {
      "cell_type": "code",
      "execution_count": 89,
      "metadata": {
        "id": "Vf_-zc8bD0Wn"
      },
      "outputs": [],
      "source": [
        "# Student Task: Specify the loss function for your model.\n",
        "# Consider the architecture of your model, especially the last layer, when choosing the loss function.\n",
        "# This is a multilabel problem, so make sure your choice reflects that.\n",
        "\n",
        "\n",
        "loss_function = nn.BCEWithLogitsLoss() # CODE HERE\n"
      ],
      "id": "Vf_-zc8bD0Wn"
    },
    {
      "cell_type": "markdown",
      "metadata": {
        "id": "mrg3Yjr2D0Wn"
      },
      "source": [
        "## <font color = 'indianred'>**Initialization**\n",
        "\n",
        "Create a function to initilaize weights.\n",
        "- Initialize weights using normal distribution with mean = 0 and std = 0.05\n",
        "- Initilaize the bias term with zeros"
      ],
      "id": "mrg3Yjr2D0Wn"
    },
    {
      "cell_type": "code",
      "execution_count": 90,
      "metadata": {
        "id": "a-KxNiavD0Wn"
      },
      "outputs": [],
      "source": [
        "# Function to initialize the weights and biases of the model's layers\n",
        "# This is provided to you and is not a student task\n",
        "def init_weights(layer):\n",
        "  # Check if the layer is a Linear layer\n",
        "  if type(layer) == nn.Linear:\n",
        "    # Initialize the weights with a normal distribution, mean=0, std=0.05\n",
        "    torch.nn.init.normal_(layer.weight, mean = 0, std = 0.05)\n",
        "    # Initialize the bias terms to zero\n",
        "    torch.nn.init.zeros_(layer.bias)\n"
      ],
      "id": "a-KxNiavD0Wn"
    },
    {
      "cell_type": "markdown",
      "metadata": {
        "id": "Cw1DGXWpD0Wn"
      },
      "source": [
        "## <font color = 'indianred'>**Training Loop**"
      ],
      "id": "Cw1DGXWpD0Wn"
    },
    {
      "cell_type": "markdown",
      "metadata": {
        "id": "0eJAKrRoD0Wn"
      },
      "source": [
        "**Model Training** involves five steps:\n",
        "\n",
        "- Step 0: Randomly initialize parameters / weights\n",
        "- Step 1: Compute model's predictions - forward pass\n",
        "- Step 2: Compute loss\n",
        "- Step 3: Compute the gradients\n",
        "- Step 4: Update the parameters\n",
        "- Step 5: Repeat steps 1 - 4\n",
        "\n",
        "Model training is repeating this process over and over, for many **epochs**.\n",
        "\n",
        "We will specify number of ***epochs*** and during each epoch we will iterate over the complete dataset and will keep on updating the parameters.\n",
        "\n",
        "***Learning rate*** and ***epochs*** are known as hyperparameters. We have to adjust the values of these two based on validation dataset.\n",
        "\n",
        "We will now create functions for step 1 to 4."
      ],
      "id": "0eJAKrRoD0Wn"
    },
    {
      "cell_type": "code",
      "source": [
        "# Install the torchmetrics package, a PyTorch library for various machine learning metrics,\n",
        "# to facilitate model evaluation during and after training.\n",
        "!pip install torchmetrics\n"
      ],
      "metadata": {
        "colab": {
          "base_uri": "https://localhost:8080/"
        },
        "id": "R8EcSFdVFYkt",
        "outputId": "427223cc-d173-491b-8e53-9f1cb43340ff"
      },
      "id": "R8EcSFdVFYkt",
      "execution_count": 91,
      "outputs": [
        {
          "output_type": "stream",
          "name": "stdout",
          "text": [
            "Collecting torchmetrics\n",
            "  Downloading torchmetrics-1.1.2-py3-none-any.whl (764 kB)\n",
            "\u001b[?25l     \u001b[90m━━━━━━━━━━━━━━━━━━━━━━━━━━━━━━━━━━━━━━━━\u001b[0m \u001b[32m0.0/764.8 kB\u001b[0m \u001b[31m?\u001b[0m eta \u001b[36m-:--:--\u001b[0m\r\u001b[2K     \u001b[91m━━━\u001b[0m\u001b[90m╺\u001b[0m\u001b[90m━━━━━━━━━━━━━━━━━━━━━━━━━━━━━━━━━━━━\u001b[0m \u001b[32m61.4/764.8 kB\u001b[0m \u001b[31m2.1 MB/s\u001b[0m eta \u001b[36m0:00:01\u001b[0m\r\u001b[2K     \u001b[91m━━━━━━━━━━━━━━\u001b[0m\u001b[91m╸\u001b[0m\u001b[90m━━━━━━━━━━━━━━━━━━━━━━━━\u001b[0m \u001b[32m286.7/764.8 kB\u001b[0m \u001b[31m4.1 MB/s\u001b[0m eta \u001b[36m0:00:01\u001b[0m\r\u001b[2K     \u001b[91m━━━━━━━━━━━━━━━━━━━━━━━━━━━━━━━━━━━━━━\u001b[0m\u001b[91m╸\u001b[0m \u001b[32m757.8/764.8 kB\u001b[0m \u001b[31m8.1 MB/s\u001b[0m eta \u001b[36m0:00:01\u001b[0m\r\u001b[2K     \u001b[90m━━━━━━━━━━━━━━━━━━━━━━━━━━━━━━━━━━━━━━━\u001b[0m \u001b[32m764.8/764.8 kB\u001b[0m \u001b[31m7.0 MB/s\u001b[0m eta \u001b[36m0:00:00\u001b[0m\n",
            "\u001b[?25hRequirement already satisfied: numpy>1.20.0 in /usr/local/lib/python3.10/dist-packages (from torchmetrics) (1.23.5)\n",
            "Requirement already satisfied: torch>=1.8.1 in /usr/local/lib/python3.10/dist-packages (from torchmetrics) (2.0.1+cu118)\n",
            "Collecting lightning-utilities>=0.8.0 (from torchmetrics)\n",
            "  Downloading lightning_utilities-0.9.0-py3-none-any.whl (23 kB)\n",
            "Requirement already satisfied: packaging>=17.1 in /usr/local/lib/python3.10/dist-packages (from lightning-utilities>=0.8.0->torchmetrics) (23.1)\n",
            "Requirement already satisfied: typing-extensions in /usr/local/lib/python3.10/dist-packages (from lightning-utilities>=0.8.0->torchmetrics) (4.5.0)\n",
            "Requirement already satisfied: filelock in /usr/local/lib/python3.10/dist-packages (from torch>=1.8.1->torchmetrics) (3.12.2)\n",
            "Requirement already satisfied: sympy in /usr/local/lib/python3.10/dist-packages (from torch>=1.8.1->torchmetrics) (1.12)\n",
            "Requirement already satisfied: networkx in /usr/local/lib/python3.10/dist-packages (from torch>=1.8.1->torchmetrics) (3.1)\n",
            "Requirement already satisfied: jinja2 in /usr/local/lib/python3.10/dist-packages (from torch>=1.8.1->torchmetrics) (3.1.2)\n",
            "Requirement already satisfied: triton==2.0.0 in /usr/local/lib/python3.10/dist-packages (from torch>=1.8.1->torchmetrics) (2.0.0)\n",
            "Requirement already satisfied: cmake in /usr/local/lib/python3.10/dist-packages (from triton==2.0.0->torch>=1.8.1->torchmetrics) (3.27.4.1)\n",
            "Requirement already satisfied: lit in /usr/local/lib/python3.10/dist-packages (from triton==2.0.0->torch>=1.8.1->torchmetrics) (16.0.6)\n",
            "Requirement already satisfied: MarkupSafe>=2.0 in /usr/local/lib/python3.10/dist-packages (from jinja2->torch>=1.8.1->torchmetrics) (2.1.3)\n",
            "Requirement already satisfied: mpmath>=0.19 in /usr/local/lib/python3.10/dist-packages (from sympy->torch>=1.8.1->torchmetrics) (1.3.0)\n",
            "Installing collected packages: lightning-utilities, torchmetrics\n",
            "Successfully installed lightning-utilities-0.9.0 torchmetrics-1.1.2\n"
          ]
        }
      ]
    },
    {
      "cell_type": "code",
      "execution_count": 92,
      "metadata": {
        "id": "03x_-TFpD0Wn"
      },
      "outputs": [],
      "source": [
        "# Import HammingDistance from torchmetrics\n",
        "# HammingDistance is useful for evaluating multi-label classification problems.\n",
        "from torchmetrics import HammingDistance"
      ],
      "id": "03x_-TFpD0Wn"
    },
    {
      "cell_type": "markdown",
      "source": [
        "<font color = 'indianred'>**Hamming Distance**</font> is often used in multi-label classification problems to quantify the dissimilarity between the predicted and true labels. It does this by measuring the number of label positions where predicted and true labels differ for each sample. It is a useful metric because it offers a granular level of understanding of the discrepancies between the predicted and actual labels, taking into account each label in a multi-label setting.\n",
        "\n",
        "<font color = 'indianred'>**Unlike accuracy, which is all-or-nothing, Hamming Distance can give partial credit by considering the labels that were correctly classified** </font>, thereby providing a more granular insight into the model's performance.\n",
        "\n",
        "Let us understand this with an example:"
      ],
      "metadata": {
        "id": "aJrHO7YNW_4z"
      },
      "id": "aJrHO7YNW_4z"
    },
    {
      "cell_type": "code",
      "source": [
        "target = torch.tensor([[0, 1], [1, 1]])\n",
        "preds = torch.tensor([[0, 1], [0, 1]])\n",
        "hamming_distance = HammingDistance(task=\"multilabel\", num_labels=2)\n",
        "hamming_distance(preds, target)"
      ],
      "metadata": {
        "colab": {
          "base_uri": "https://localhost:8080/"
        },
        "id": "Q9w7a_vKB2O_",
        "outputId": "7521d550-f0d6-46b8-ac25-26a0ec5d373e"
      },
      "id": "Q9w7a_vKB2O_",
      "execution_count": 93,
      "outputs": [
        {
          "output_type": "execute_result",
          "data": {
            "text/plain": [
              "tensor(0.2500)"
            ]
          },
          "metadata": {},
          "execution_count": 93
        }
      ]
    },
    {
      "cell_type": "code",
      "source": [
        "target = torch.tensor([[0, 1], [1, 1]])\n",
        "preds = torch.tensor([[0, 1], [0, 1]])\n",
        "hamming_distance = HammingDistance(task=\"multilabel\", num_labels=2)\n",
        "hamming_distance(preds, target)"
      ],
      "metadata": {
        "colab": {
          "base_uri": "https://localhost:8080/"
        },
        "id": "H9_bbYVRVgar",
        "outputId": "ff564141-cbbe-4121-da45-4db4262bc251"
      },
      "id": "H9_bbYVRVgar",
      "execution_count": 94,
      "outputs": [
        {
          "output_type": "execute_result",
          "data": {
            "text/plain": [
              "tensor(0.2500)"
            ]
          },
          "metadata": {},
          "execution_count": 94
        }
      ]
    },
    {
      "cell_type": "markdown",
      "source": [
        "In the given example, the Hamming Distance is calculated for multi-label classification with two labels (0 and 1).\n",
        "\n",
        "1. The target tensor has shape (2, 2): `[[0, 1], [1, 1]]`\n",
        "2. The prediction tensor also has shape (2, 2): `[[0, 1], [0, 1]]`\n",
        "\n",
        "Let's examine the individual sample pairs to understand the distance:\n",
        "\n",
        "- For the first sample pair (target = `[0, 1]`, prediction = `[0, 1]`), the Hamming Distance is 0 because the prediction is accurate.\n",
        "- For the second sample pair (target = `[1, 1]`, prediction = `[0, 1]`), the Hamming Distance is 1 for the first label (predicted 0, true label 1).\n",
        "\n",
        "To calculate the overall Hamming Distance, we can take the number of label mismatches and divide by the total number of labels:\n",
        "\n",
        "- Total Mismatches = 1 (from the second sample pair)\n",
        "- Total Number of Labels = 2 samples * 2 labels per sample = 4\n",
        "\n",
        "Therefore, the overall Hamming Distance is \\(1 / 4 = 0.25\\), which matches the output `tensor(0.2500)`.\n",
        "\n",
        "Hamming Distance is a good metric for multi-label classification as it can capture the difference between sets of labels per sample, thereby providing a more granular measure of the model's performance."
      ],
      "metadata": {
        "id": "QQvqbLYeV2oL"
      },
      "id": "QQvqbLYeV2oL"
    },
    {
      "cell_type": "code",
      "source": [
        "def train(epochs, loss_function, learning_rate, model, optimizer, train_loader, device):\n",
        "\n",
        "    train_hamming_distance = HammingDistance(task=\"multilabel\", num_labels=3).to(device)\n",
        "\n",
        "    for epoch in range(epochs):\n",
        "        # Initialize train_loss at the start of the epoch\n",
        "        running_train_loss = 0.0\n",
        "\n",
        "        # Iterate on batches from the dataset using train_loader\n",
        "        for x, y in train_loader:\n",
        "            # Move inputs and outputs to GPUs\n",
        "            x = x.to(device).float() # CODE HERE\n",
        "            targets = y.to(device).float() # CODE HERE\n",
        "\n",
        "            # Step 1: Forward Pass: Compute model's predictions\n",
        "            output = model(x) # CODE HERE\n",
        "\n",
        "            # Step 2: Compute loss\n",
        "            loss = loss_function(output, targets) # CODE HERE\n",
        "\n",
        "            # Step 3: Backward pass - Compute the gradients\n",
        "            # Zero out gradients from the previous iteration\n",
        "            optimizer.zero_grad()\n",
        "            # Code HERE\n",
        "\n",
        "            # Backward pass: Compute gradients based on the loss\n",
        "            loss.backward()\n",
        "            # Code HERE\n",
        "\n",
        "            # Step 4: Update the parameters\n",
        "            optimizer.step()\n",
        "            # Code HERE\n",
        "\n",
        "            # Update running loss\n",
        "            running_train_loss += loss.item()\n",
        "\n",
        "            with torch.no_grad():\n",
        "                # Correct prediction using thresholding\n",
        "                y_pred = (output>0.5).float()  # Code HERE\n",
        "\n",
        "                # Update Hamming Distance metric\n",
        "                train_hamming_distance.update(y_pred, targets)\n",
        "\n",
        "        # Compute mean train loss for the epoch\n",
        "        train_loss = running_train_loss / len(train_loader)\n",
        "\n",
        "        # Compute Hamming Distance for the epoch\n",
        "        epoch_hamming_distance = train_hamming_distance.compute()\n",
        "\n",
        "        # Print the train loss and Hamming Distance for the epoch\n",
        "        print(f'Epoch: {epoch + 1} / {epochs}')\n",
        "        print(f'Train Loss: {train_loss:.4f} | Train Hamming Distance: {epoch_hamming_distance:.4f}')\n",
        "\n",
        "        # Reset metric states for the next epoch\n",
        "        train_hamming_distance.reset()\n"
      ],
      "metadata": {
        "id": "MOvMeCtlULhs"
      },
      "id": "MOvMeCtlULhs",
      "execution_count": 95,
      "outputs": []
    },
    {
      "cell_type": "code",
      "source": [
        "\n",
        "# Set a manual seed for reproducibility across runs\n",
        "torch.manual_seed(100)\n",
        "\n",
        "# Define hyperparameters: learning rate and the number of epochs\n",
        "learning_rate = 1\n",
        "epochs = 20\n",
        "\n",
        "# Determine the computing device (GPU if available, otherwise CPU)\n",
        "device = torch.device('cuda:0' if torch.cuda.is_available() else 'cpu')\n",
        "print(f\"Using device: {device}\")\n",
        "\n",
        "# Student Task: Configure the optimizer for model training.\n",
        "# Here, we're using Stochastic Gradient Descent (SGD). Think through what parameters are needed.\n",
        "# Reminder: Utilize the learning rate defined above when setting up your optimizer.\n",
        "optimizer = optim.SGD(model.parameters(), lr = learning_rate) # Code HERE\n",
        "\n",
        "# Transfer the model to the selected device (CPU or GPU)\n",
        "model.to(device)\n",
        "\n",
        "# Apply custom weight initialization function to the model layers\n",
        "# Note: Weight initialization can significantly affect training dynamics\n",
        "model.apply(init_weights)\n",
        "\n",
        "# Call the training function to start the training process\n",
        "# Note: All elements like epochs, loss function, learning rate, etc., are passed as arguments\n",
        "train(epochs, loss_function, learning_rate, model, optimizer, train_loader, device)"
      ],
      "metadata": {
        "colab": {
          "base_uri": "https://localhost:8080/"
        },
        "id": "wOaA80wIClJp",
        "outputId": "3162c326-346f-4146-adad-9b8d22d9457f"
      },
      "id": "wOaA80wIClJp",
      "execution_count": 96,
      "outputs": [
        {
          "output_type": "stream",
          "name": "stdout",
          "text": [
            "Using device: cpu\n",
            "Epoch: 1 / 20\n",
            "Train Loss: 0.5126 | Train Hamming Distance: 0.2947\n",
            "Epoch: 2 / 20\n",
            "Train Loss: 0.4856 | Train Hamming Distance: 0.2523\n",
            "Epoch: 3 / 20\n",
            "Train Loss: 0.4825 | Train Hamming Distance: 0.2547\n",
            "Epoch: 4 / 20\n",
            "Train Loss: 0.4833 | Train Hamming Distance: 0.2540\n",
            "Epoch: 5 / 20\n",
            "Train Loss: 0.4866 | Train Hamming Distance: 0.2530\n",
            "Epoch: 6 / 20\n",
            "Train Loss: 0.4829 | Train Hamming Distance: 0.2563\n",
            "Epoch: 7 / 20\n",
            "Train Loss: 0.4856 | Train Hamming Distance: 0.2520\n",
            "Epoch: 8 / 20\n",
            "Train Loss: 0.4843 | Train Hamming Distance: 0.2553\n",
            "Epoch: 9 / 20\n",
            "Train Loss: 0.4858 | Train Hamming Distance: 0.2533\n",
            "Epoch: 10 / 20\n",
            "Train Loss: 0.4860 | Train Hamming Distance: 0.2540\n",
            "Epoch: 11 / 20\n",
            "Train Loss: 0.4846 | Train Hamming Distance: 0.2620\n",
            "Epoch: 12 / 20\n",
            "Train Loss: 0.4842 | Train Hamming Distance: 0.2510\n",
            "Epoch: 13 / 20\n",
            "Train Loss: 0.4845 | Train Hamming Distance: 0.2563\n",
            "Epoch: 14 / 20\n",
            "Train Loss: 0.4848 | Train Hamming Distance: 0.2523\n",
            "Epoch: 15 / 20\n",
            "Train Loss: 0.4833 | Train Hamming Distance: 0.2527\n",
            "Epoch: 16 / 20\n",
            "Train Loss: 0.4846 | Train Hamming Distance: 0.2593\n",
            "Epoch: 17 / 20\n",
            "Train Loss: 0.4847 | Train Hamming Distance: 0.2533\n",
            "Epoch: 18 / 20\n",
            "Train Loss: 0.4854 | Train Hamming Distance: 0.2533\n",
            "Epoch: 19 / 20\n",
            "Train Loss: 0.4828 | Train Hamming Distance: 0.2560\n",
            "Epoch: 20 / 20\n",
            "Train Loss: 0.4822 | Train Hamming Distance: 0.2507\n"
          ]
        }
      ]
    },
    {
      "cell_type": "code",
      "source": [
        "# Set a manual seed for reproducibility across runs\n",
        "torch.manual_seed(100)\n",
        "\n",
        "# Define hyperparameters: learning rate and the number of epochs\n",
        "learning_rate = 1\n",
        "epochs = 20\n",
        "\n",
        "# Determine the computing device (GPU if available, otherwise CPU)\n",
        "device = torch.device('cuda:0' if torch.cuda.is_available() else 'cpu')\n",
        "print(f\"Using device: {device}\")\n",
        "\n",
        "# Student Task: Configure the optimizer for model training.\n",
        "# Here, we're using Stochastic Gradient Descent (SGD). Think through what parameters are needed.\n",
        "# Reminder: Utilize the learning rate defined above when setting up your optimizer.\n",
        "optimizer = optim.SGD(model.parameters(), lr = learning_rate) # Code HERE\n",
        "\n",
        "# Transfer the model to the selected device (CPU or GPU)\n",
        "model.to(device)\n",
        "\n",
        "# Apply custom weight initialization function to the model layers\n",
        "# Note: Weight initialization can significantly affect training dynamics\n",
        "model.apply(init_weights)\n",
        "\n",
        "# Call the training function to start the training process\n",
        "# Note: All elements like epochs, loss function, learning rate, etc., are passed as arguments\n",
        "train(epochs, loss_function, learning_rate, model, optimizer, train_loader, device)\n"
      ],
      "metadata": {
        "colab": {
          "base_uri": "https://localhost:8080/"
        },
        "outputId": "5ab4420c-b361-444f-c649-af038d7833e7",
        "id": "GvVE1B4DD0Wn"
      },
      "execution_count": null,
      "outputs": [
        {
          "output_type": "stream",
          "name": "stdout",
          "text": [
            "Using device: cuda:0\n",
            "Epoch: 1 / 20\n",
            "Train Loss: 0.5119 | Train Hamming Distance: 0.2583\n",
            "Epoch: 2 / 20\n",
            "Train Loss: 0.4868 | Train Hamming Distance: 0.2453\n",
            "Epoch: 3 / 20\n",
            "Train Loss: 0.4826 | Train Hamming Distance: 0.2413\n",
            "Epoch: 4 / 20\n",
            "Train Loss: 0.4848 | Train Hamming Distance: 0.2427\n",
            "Epoch: 5 / 20\n",
            "Train Loss: 0.4835 | Train Hamming Distance: 0.2447\n",
            "Epoch: 6 / 20\n",
            "Train Loss: 0.4833 | Train Hamming Distance: 0.2477\n",
            "Epoch: 7 / 20\n",
            "Train Loss: 0.4838 | Train Hamming Distance: 0.2427\n",
            "Epoch: 8 / 20\n",
            "Train Loss: 0.4863 | Train Hamming Distance: 0.2410\n",
            "Epoch: 9 / 20\n",
            "Train Loss: 0.4843 | Train Hamming Distance: 0.2470\n",
            "Epoch: 10 / 20\n",
            "Train Loss: 0.4848 | Train Hamming Distance: 0.2420\n",
            "Epoch: 11 / 20\n",
            "Train Loss: 0.4824 | Train Hamming Distance: 0.2437\n",
            "Epoch: 12 / 20\n",
            "Train Loss: 0.4833 | Train Hamming Distance: 0.2477\n",
            "Epoch: 13 / 20\n",
            "Train Loss: 0.4866 | Train Hamming Distance: 0.2450\n",
            "Epoch: 14 / 20\n",
            "Train Loss: 0.4829 | Train Hamming Distance: 0.2443\n",
            "Epoch: 15 / 20\n",
            "Train Loss: 0.4856 | Train Hamming Distance: 0.2453\n",
            "Epoch: 16 / 20\n",
            "Train Loss: 0.4843 | Train Hamming Distance: 0.2453\n",
            "Epoch: 17 / 20\n",
            "Train Loss: 0.4858 | Train Hamming Distance: 0.2457\n",
            "Epoch: 18 / 20\n",
            "Train Loss: 0.4860 | Train Hamming Distance: 0.2450\n",
            "Epoch: 19 / 20\n",
            "Train Loss: 0.4846 | Train Hamming Distance: 0.2487\n",
            "Epoch: 20 / 20\n",
            "Train Loss: 0.4842 | Train Hamming Distance: 0.2443\n"
          ]
        }
      ],
      "id": "GvVE1B4DD0Wn"
    },
    {
      "cell_type": "code",
      "execution_count": 97,
      "metadata": {
        "colab": {
          "base_uri": "https://localhost:8080/"
        },
        "outputId": "73b63fe7-f4a6-4949-a21c-6a20d3732314",
        "id": "iT6TOxnXD0Wn"
      },
      "outputs": [
        {
          "output_type": "stream",
          "name": "stdout",
          "text": [
            "0.weight tensor([[ 0.9856, -0.1141, -0.2715,  0.0869, -0.9284],\n",
            "        [-0.9591,  0.7973,  0.5119,  0.1237, -1.4677],\n",
            "        [ 0.1281,  0.7948, -0.0565, -1.6264,  0.5559]])\n",
            "0.bias tensor([-0.2102,  0.4204,  0.0613])\n"
          ]
        }
      ],
      "source": [
        "# Loop through the model's parameters to display them\n",
        "# This is helpful for debugging and understanding how well the model has learned\n",
        "for name, param in model.named_parameters():\n",
        "    # 'name' will contain the name of the parameter (e.g., 'layer1.weight')\n",
        "    # 'param.data' will contain the parameter values\n",
        "    print(name, param.data)\n"
      ],
      "id": "iT6TOxnXD0Wn"
    },
    {
      "cell_type": "code",
      "source": [],
      "metadata": {
        "id": "C94FfCaNa3P8"
      },
      "id": "C94FfCaNa3P8",
      "execution_count": null,
      "outputs": []
    }
  ],
  "metadata": {
    "colab": {
      "provenance": [],
      "machine_shape": "hm",
      "toc_visible": true,
      "include_colab_link": true
    },
    "kernelspec": {
      "display_name": "Python 3",
      "name": "python3"
    },
    "language_info": {
      "codemirror_mode": {
        "name": "ipython",
        "version": 3
      },
      "file_extension": ".py",
      "mimetype": "text/x-python",
      "name": "python",
      "nbconvert_exporter": "python",
      "pygments_lexer": "ipython3",
      "version": "3.9.13"
    }
  },
  "nbformat": 4,
  "nbformat_minor": 5
}