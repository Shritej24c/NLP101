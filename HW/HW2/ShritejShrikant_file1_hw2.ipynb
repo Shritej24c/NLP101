{
  "nbformat": 4,
  "nbformat_minor": 0,
  "metadata": {
    "colab": {
      "provenance": [],
      "toc_visible": true,
      "machine_shape": "hm",
      "gpuType": "T4",
      "include_colab_link": true
    },
    "kernelspec": {
      "name": "python3",
      "display_name": "Python 3"
    },
    "language_info": {
      "name": "python"
    },
    "accelerator": "GPU"
  },
  "cells": [
    {
      "cell_type": "markdown",
      "metadata": {
        "id": "view-in-github",
        "colab_type": "text"
      },
      "source": [
        "<a href=\"https://colab.research.google.com/github/Shritej24c/NLP101/blob/main/HW/HW2/ShritejShrikant_file1_hw2.ipynb\" target=\"_parent\"><img src=\"https://colab.research.google.com/assets/colab-badge.svg\" alt=\"Open In Colab\"/></a>"
      ]
    },
    {
      "cell_type": "markdown",
      "metadata": {
        "id": "_mJQGbTFOCAx"
      },
      "source": [
        "<h1 align='center'><b><font color='indianred'></p>Spam Detection HW</b></h1>\n",
        "\n",
        "<font color = 'indianred' size = 4 >**Read complete instructions before starting the HW** </font>\n"
      ]
    },
    {
      "cell_type": "markdown",
      "metadata": {
        "id": "cXeG6ZQ4OVDj"
      },
      "source": [
        "# <font color='indianred'> **Q1: Load the dataset  (1 Point)**\n",
        "\n",
        "- For this Hw you will usespam dataset from kaggle which can be found from [this](https://www.kaggle.com/uciml/sms-spam-collection-dataset) link. You can download this data and either upload it in google drive or in colab workspace. Load the data in pandas dataframe.\n",
        "\n",
        "- There are only two useful columns. These columns are related to (1) label (ham and spam) and the (2) text of email.\n",
        "\n",
        "- Rename columns as label and message\n",
        "\n",
        "- Find the %  ham amd spam in the data.\n",
        "\n",
        "\n",
        "\n"
      ]
    },
    {
      "cell_type": "markdown",
      "metadata": {
        "id": "pNdWCViagO4F"
      },
      "source": [
        "# <font color='indianred'> **Q2 : Provide the metric for evaluating model (1 Point)**</font>\n",
        "\n",
        "As you will notice, the  data is highly imbalanced (most messages are labelled as ham and only few are labelled as spam). Always predicting ham will give us very good accuracy (close to 90%). So you need to choose a different metric.\n",
        "\n",
        "Task: Provde the metric you will choose to evaluate your model. Explain why this is an appropriate metric for this case."
      ]
    },
    {
      "cell_type": "markdown",
      "metadata": {
        "id": "rH8_mvGhiThV"
      },
      "source": [
        "# <font color='indianred'> **Q3 : Classification Pipelines (18 Points)**</font>\n",
        "\n",
        "In the previous lectures you learned Data processing, Featurization such as CountVectorizer, TFIDFVectorizer, and also Feature Engineering.\n",
        "* You will now use folllowing methods to create fearures which you can use in your model.\n",
        "\n",
        "    1. Sparse Embeddings (TF-IDF) (6 Points)\n",
        "    2. Feature Engineering (see examples below) (6 Points)\n",
        "    3. Sparse Embeddings (TF-IDF) + Feature Engineering (6 Points)\n",
        "\n",
        "**Approach:**\n",
        "\n",
        "<font color='indianred'> ****Use a smaller subset of dataset (e.g. 5-10 %) to evaluate the three pipelines . Based on your analysis (e.g. model score, learning curves) , choose one pipeline from the three. Provde your rational for choosing the pipleine. Train only the final pipeline on randomly selected larger subset (e.g. 40%) of the data.** </font>\n",
        "\n",
        "**Requirements:**\n",
        "\n",
        "1. You can use any ML model (Logistic Regression, XgBoost) for the classification. You will need to tune the **model for imbalanced dataset** (The link on XGBoost tutorial for imbalanced data: https://machinelearningmastery.com/xgboost-for-imbalanced-classification/).\n",
        "\n",
        "2. For feature engineering, you can choose from the examples below. You do not  have to use all of them. You can add other featues as well. Think about what faetures can distinguish a spam from a regular email. Some examples :\n",
        "\n",
        ">> Count of following  (Words, characters, digits, exclamation marks, numbers, Nouns, ProperNouns, AUX, VERBS, Adjectives, named entities, spelling mistakes (see the link on how to get spelling mistakes https://pypi.org/project/pyspellchecker/).\n",
        "\n",
        "3. For Sparse embeddings you will use **tfidf vectorization**. You need to choose appopriate parameters e.g. min_df, max_df, max_faetures, n-grams etc.).\n",
        "\n",
        "4. Think carefully about the pre-processing you will do.\n",
        "\n",
        "Tip: <font color = 'indianred'>**Using GridSearch for hyperparameter tuning might take a lot of time. Try using RandomizedSearch.**</font> You can also explore faster implementation of Gridsearch and RandomizedSearch in sklearn:\n",
        "\n",
        "1. [Halving Grid Search](https://scikit-learn.org/stable/modules/generated/sklearn.model_selection.HalvingGridSearchCV.html?highlight=halving#sklearn.model_selection.HalvingGridSearchCV)\n",
        "\n",
        "2. [HalvingRandomSearchCV](https://scikit-learn.org/stable/modules/generated/sklearn.model_selection.HalvingRandomSearchCV.html?highlight=halving#sklearn.model_selection.HalvingRandomSearchCV)\n",
        "\n",
        "\n",
        "\n"
      ]
    },
    {
      "cell_type": "markdown",
      "metadata": {
        "id": "PqPTPb0AsMP3"
      },
      "source": [
        "# **Required Submissions:**\n",
        "1.  Submit two colab/jupyter notebooks\n",
        "- (analysis with smaller subset and all three pipelines)\n",
        "- (analysis with bigger subset and only final pipeline)\n",
        "2. Pdf version of the notebooks (HWs will not be graded if pdf version is not provided.\n",
        "3. **The notebooks and pdf files should have the output.**\n",
        "4. **Name files as follows : FirstName_file1_hw2, FirstName_file2_h2**"
      ]
    },
    {
      "cell_type": "markdown",
      "source": [
        "## <font color ='pickle'> Install Libraries"
      ],
      "metadata": {
        "id": "a_FfgomwFi_M"
      }
    },
    {
      "cell_type": "code",
      "source": [
        "!pip install -U scikit-optimize -qq"
      ],
      "metadata": {
        "id": "YWH3bnoZfAGE",
        "colab": {
          "base_uri": "https://localhost:8080/"
        },
        "outputId": "a3b89f94-8925-477e-cf73-2b376286e35d"
      },
      "execution_count": 3,
      "outputs": [
        {
          "output_type": "stream",
          "name": "stdout",
          "text": [
            "\u001b[?25l     \u001b[90m━━━━━━━━━━━━━━━━━━━━━━━━━━━━━━━━━━━━━━━━\u001b[0m \u001b[32m0.0/100.3 kB\u001b[0m \u001b[31m?\u001b[0m eta \u001b[36m-:--:--\u001b[0m\r\u001b[2K     \u001b[91m━━━━━━━━━━━━━━━━━━━━━━━━━━━━━━━━\u001b[0m\u001b[91m╸\u001b[0m\u001b[90m━━━━━━━\u001b[0m \u001b[32m81.9/100.3 kB\u001b[0m \u001b[31m2.3 MB/s\u001b[0m eta \u001b[36m0:00:01\u001b[0m\r\u001b[2K     \u001b[90m━━━━━━━━━━━━━━━━━━━━━━━━━━━━━━━━━━━━━━━\u001b[0m \u001b[32m100.3/100.3 kB\u001b[0m \u001b[31m2.1 MB/s\u001b[0m eta \u001b[36m0:00:00\u001b[0m\n",
            "\u001b[?25h"
          ]
        }
      ]
    },
    {
      "cell_type": "markdown",
      "source": [
        "## <font color ='pickle'> Import Libraries\n"
      ],
      "metadata": {
        "id": "TUdzRTsGFZyP"
      }
    },
    {
      "cell_type": "code",
      "source": [
        "# Import necessary libraries\n",
        "import pandas as pd\n",
        "from pathlib import Path\n",
        "\n",
        "# Import the joblib library for saving and loading models\n",
        "import joblib\n",
        "\n",
        "# Import scikit-learn classes for building models\n",
        "from sklearn.linear_model import LogisticRegression\n",
        "from sklearn.feature_extraction.text import TfidfVectorizer\n",
        "from sklearn.model_selection import *\n",
        "from sklearn.metrics import classification_report\n",
        "from sklearn.pipeline import Pipeline\n",
        "from sklearn.compose import ColumnTransformer\n",
        "from sklearn.base import TransformerMixin, BaseEstimator\n",
        "\n",
        "from skopt.space import Real, Categorical, Integer\n",
        "from sklearn.metrics import precision_recall_curve, auc, make_scorer, cohen_kappa_score\n",
        "from skopt import BayesSearchCV\n",
        "from skopt.space import Real, Categorical, Integer\n",
        "\n",
        "import spacy\n",
        "\n",
        "# Import the scipy library for working with sparse matrices\n",
        "from scipy.sparse import csr_matrix"
      ],
      "metadata": {
        "id": "nMJX6TIFgy5O"
      },
      "execution_count": 4,
      "outputs": []
    },
    {
      "cell_type": "code",
      "source": [
        "import sys\n",
        "if 'google.colab' in str(get_ipython()):\n",
        "    from google.colab import drive\n",
        "    drive.mount('/content/drive')\n",
        "\n",
        "    !pip install -U nltk -qq\n",
        "    !pip install -U spacy -qq\n",
        "    !python -m spacy download en_core_web_sm -qq\n",
        "\n",
        "    basepath = '/content/drive/MyDrive/NLP/'\n",
        "    sys.path.append('/content/drive/MyDrive/NLP/custom-functions')\n",
        "else:\n",
        "    basepath = '/home/harpreet/Insync/google_drive_shaannoor/data'\n",
        "    sys.path.append(\n",
        "        '/home/harpreet/Insync/google_drive_shaannoor/data/custom-functions')"
      ],
      "metadata": {
        "colab": {
          "base_uri": "https://localhost:8080/"
        },
        "id": "ZnX34OAxN5VT",
        "outputId": "24d877b1-2448-4cb5-83ec-5f4e4ff14f04"
      },
      "execution_count": 5,
      "outputs": [
        {
          "output_type": "stream",
          "name": "stdout",
          "text": [
            "Mounted at /content/drive\n",
            "2023-09-10 09:06:30.421192: W tensorflow/compiler/tf2tensorrt/utils/py_utils.cc:38] TF-TRT Warning: Could not find TensorRT\n",
            "\u001b[2K     \u001b[90m━━━━━━━━━━━━━━━━━━━━━━━━━━━━━━━━━━━━━━━━\u001b[0m \u001b[32m12.8/12.8 MB\u001b[0m \u001b[31m93.5 MB/s\u001b[0m eta \u001b[36m0:00:00\u001b[0m\n",
            "\u001b[?25h\u001b[38;5;2m✔ Download and installation successful\u001b[0m\n",
            "You can now load the package via spacy.load('en_core_web_sm')\n"
          ]
        }
      ]
    },
    {
      "cell_type": "code",
      "source": [
        "sys.path"
      ],
      "metadata": {
        "colab": {
          "base_uri": "https://localhost:8080/"
        },
        "id": "xL5053c3awqf",
        "outputId": "a7e8b2ec-c732-45c4-89a5-8d798d60f03a"
      },
      "execution_count": 6,
      "outputs": [
        {
          "output_type": "execute_result",
          "data": {
            "text/plain": [
              "['/content',\n",
              " '/env/python',\n",
              " '/usr/lib/python310.zip',\n",
              " '/usr/lib/python3.10',\n",
              " '/usr/lib/python3.10/lib-dynload',\n",
              " '',\n",
              " '/usr/local/lib/python3.10/dist-packages',\n",
              " '/usr/lib/python3/dist-packages',\n",
              " '/usr/local/lib/python3.10/dist-packages/IPython/extensions',\n",
              " '/root/.ipython',\n",
              " '/content/drive/MyDrive/NLP/custom-functions']"
            ]
          },
          "metadata": {},
          "execution_count": 6
        }
      ]
    },
    {
      "cell_type": "code",
      "source": [
        "base_folder = Path(basepath)\n",
        "data_folder = base_folder/'datasets/spam'\n",
        "model_folder = base_folder/'models/spam'\n",
        "custom_functions = base_folder/'custom-functions'\n"
      ],
      "metadata": {
        "id": "5UEBnzpFazsK"
      },
      "execution_count": 7,
      "outputs": []
    },
    {
      "cell_type": "code",
      "source": [
        "import custom_preprocessor_mod as cp\n",
        "from featurizer import ManualFeatures\n",
        "from plot_learning_curve import plot_learning_curve"
      ],
      "metadata": {
        "id": "P3G7UKR2mifY"
      },
      "execution_count": 8,
      "outputs": []
    },
    {
      "cell_type": "markdown",
      "source": [
        "## Load Dataset\n",
        "\n",
        "Downloaded the dataset from here : https://www.kaggle.com/datasets/uciml/sms-spam-collection-dataset"
      ],
      "metadata": {
        "id": "ugIMLKJKmtqA"
      }
    },
    {
      "cell_type": "code",
      "source": [
        "data = pd.read_csv(data_folder/'spam.csv', encoding='latin-1')\n",
        "data.head()"
      ],
      "metadata": {
        "colab": {
          "base_uri": "https://localhost:8080/",
          "height": 206
        },
        "id": "56_AYp6Pm1w7",
        "outputId": "19159735-1336-4950-8946-6847d90c1899"
      },
      "execution_count": 9,
      "outputs": [
        {
          "output_type": "execute_result",
          "data": {
            "text/plain": [
              "     v1                                                 v2 Unnamed: 2  \\\n",
              "0   ham  Go until jurong point, crazy.. Available only ...        NaN   \n",
              "1   ham                      Ok lar... Joking wif u oni...        NaN   \n",
              "2  spam  Free entry in 2 a wkly comp to win FA Cup fina...        NaN   \n",
              "3   ham  U dun say so early hor... U c already then say...        NaN   \n",
              "4   ham  Nah I don't think he goes to usf, he lives aro...        NaN   \n",
              "\n",
              "  Unnamed: 3 Unnamed: 4  \n",
              "0        NaN        NaN  \n",
              "1        NaN        NaN  \n",
              "2        NaN        NaN  \n",
              "3        NaN        NaN  \n",
              "4        NaN        NaN  "
            ],
            "text/html": [
              "\n",
              "  <div id=\"df-06b3bebc-7a69-40e6-90fd-8123d0e702e5\" class=\"colab-df-container\">\n",
              "    <div>\n",
              "<style scoped>\n",
              "    .dataframe tbody tr th:only-of-type {\n",
              "        vertical-align: middle;\n",
              "    }\n",
              "\n",
              "    .dataframe tbody tr th {\n",
              "        vertical-align: top;\n",
              "    }\n",
              "\n",
              "    .dataframe thead th {\n",
              "        text-align: right;\n",
              "    }\n",
              "</style>\n",
              "<table border=\"1\" class=\"dataframe\">\n",
              "  <thead>\n",
              "    <tr style=\"text-align: right;\">\n",
              "      <th></th>\n",
              "      <th>v1</th>\n",
              "      <th>v2</th>\n",
              "      <th>Unnamed: 2</th>\n",
              "      <th>Unnamed: 3</th>\n",
              "      <th>Unnamed: 4</th>\n",
              "    </tr>\n",
              "  </thead>\n",
              "  <tbody>\n",
              "    <tr>\n",
              "      <th>0</th>\n",
              "      <td>ham</td>\n",
              "      <td>Go until jurong point, crazy.. Available only ...</td>\n",
              "      <td>NaN</td>\n",
              "      <td>NaN</td>\n",
              "      <td>NaN</td>\n",
              "    </tr>\n",
              "    <tr>\n",
              "      <th>1</th>\n",
              "      <td>ham</td>\n",
              "      <td>Ok lar... Joking wif u oni...</td>\n",
              "      <td>NaN</td>\n",
              "      <td>NaN</td>\n",
              "      <td>NaN</td>\n",
              "    </tr>\n",
              "    <tr>\n",
              "      <th>2</th>\n",
              "      <td>spam</td>\n",
              "      <td>Free entry in 2 a wkly comp to win FA Cup fina...</td>\n",
              "      <td>NaN</td>\n",
              "      <td>NaN</td>\n",
              "      <td>NaN</td>\n",
              "    </tr>\n",
              "    <tr>\n",
              "      <th>3</th>\n",
              "      <td>ham</td>\n",
              "      <td>U dun say so early hor... U c already then say...</td>\n",
              "      <td>NaN</td>\n",
              "      <td>NaN</td>\n",
              "      <td>NaN</td>\n",
              "    </tr>\n",
              "    <tr>\n",
              "      <th>4</th>\n",
              "      <td>ham</td>\n",
              "      <td>Nah I don't think he goes to usf, he lives aro...</td>\n",
              "      <td>NaN</td>\n",
              "      <td>NaN</td>\n",
              "      <td>NaN</td>\n",
              "    </tr>\n",
              "  </tbody>\n",
              "</table>\n",
              "</div>\n",
              "    <div class=\"colab-df-buttons\">\n",
              "\n",
              "  <div class=\"colab-df-container\">\n",
              "    <button class=\"colab-df-convert\" onclick=\"convertToInteractive('df-06b3bebc-7a69-40e6-90fd-8123d0e702e5')\"\n",
              "            title=\"Convert this dataframe to an interactive table.\"\n",
              "            style=\"display:none;\">\n",
              "\n",
              "  <svg xmlns=\"http://www.w3.org/2000/svg\" height=\"24px\" viewBox=\"0 -960 960 960\">\n",
              "    <path d=\"M120-120v-720h720v720H120Zm60-500h600v-160H180v160Zm220 220h160v-160H400v160Zm0 220h160v-160H400v160ZM180-400h160v-160H180v160Zm440 0h160v-160H620v160ZM180-180h160v-160H180v160Zm440 0h160v-160H620v160Z\"/>\n",
              "  </svg>\n",
              "    </button>\n",
              "\n",
              "  <style>\n",
              "    .colab-df-container {\n",
              "      display:flex;\n",
              "      gap: 12px;\n",
              "    }\n",
              "\n",
              "    .colab-df-convert {\n",
              "      background-color: #E8F0FE;\n",
              "      border: none;\n",
              "      border-radius: 50%;\n",
              "      cursor: pointer;\n",
              "      display: none;\n",
              "      fill: #1967D2;\n",
              "      height: 32px;\n",
              "      padding: 0 0 0 0;\n",
              "      width: 32px;\n",
              "    }\n",
              "\n",
              "    .colab-df-convert:hover {\n",
              "      background-color: #E2EBFA;\n",
              "      box-shadow: 0px 1px 2px rgba(60, 64, 67, 0.3), 0px 1px 3px 1px rgba(60, 64, 67, 0.15);\n",
              "      fill: #174EA6;\n",
              "    }\n",
              "\n",
              "    .colab-df-buttons div {\n",
              "      margin-bottom: 4px;\n",
              "    }\n",
              "\n",
              "    [theme=dark] .colab-df-convert {\n",
              "      background-color: #3B4455;\n",
              "      fill: #D2E3FC;\n",
              "    }\n",
              "\n",
              "    [theme=dark] .colab-df-convert:hover {\n",
              "      background-color: #434B5C;\n",
              "      box-shadow: 0px 1px 3px 1px rgba(0, 0, 0, 0.15);\n",
              "      filter: drop-shadow(0px 1px 2px rgba(0, 0, 0, 0.3));\n",
              "      fill: #FFFFFF;\n",
              "    }\n",
              "  </style>\n",
              "\n",
              "    <script>\n",
              "      const buttonEl =\n",
              "        document.querySelector('#df-06b3bebc-7a69-40e6-90fd-8123d0e702e5 button.colab-df-convert');\n",
              "      buttonEl.style.display =\n",
              "        google.colab.kernel.accessAllowed ? 'block' : 'none';\n",
              "\n",
              "      async function convertToInteractive(key) {\n",
              "        const element = document.querySelector('#df-06b3bebc-7a69-40e6-90fd-8123d0e702e5');\n",
              "        const dataTable =\n",
              "          await google.colab.kernel.invokeFunction('convertToInteractive',\n",
              "                                                    [key], {});\n",
              "        if (!dataTable) return;\n",
              "\n",
              "        const docLinkHtml = 'Like what you see? Visit the ' +\n",
              "          '<a target=\"_blank\" href=https://colab.research.google.com/notebooks/data_table.ipynb>data table notebook</a>'\n",
              "          + ' to learn more about interactive tables.';\n",
              "        element.innerHTML = '';\n",
              "        dataTable['output_type'] = 'display_data';\n",
              "        await google.colab.output.renderOutput(dataTable, element);\n",
              "        const docLink = document.createElement('div');\n",
              "        docLink.innerHTML = docLinkHtml;\n",
              "        element.appendChild(docLink);\n",
              "      }\n",
              "    </script>\n",
              "  </div>\n",
              "\n",
              "\n",
              "<div id=\"df-8e317048-4f48-49ba-8021-527a2ee735f4\">\n",
              "  <button class=\"colab-df-quickchart\" onclick=\"quickchart('df-8e317048-4f48-49ba-8021-527a2ee735f4')\"\n",
              "            title=\"Suggest charts.\"\n",
              "            style=\"display:none;\">\n",
              "\n",
              "<svg xmlns=\"http://www.w3.org/2000/svg\" height=\"24px\"viewBox=\"0 0 24 24\"\n",
              "     width=\"24px\">\n",
              "    <g>\n",
              "        <path d=\"M19 3H5c-1.1 0-2 .9-2 2v14c0 1.1.9 2 2 2h14c1.1 0 2-.9 2-2V5c0-1.1-.9-2-2-2zM9 17H7v-7h2v7zm4 0h-2V7h2v10zm4 0h-2v-4h2v4z\"/>\n",
              "    </g>\n",
              "</svg>\n",
              "  </button>\n",
              "\n",
              "<style>\n",
              "  .colab-df-quickchart {\n",
              "      --bg-color: #E8F0FE;\n",
              "      --fill-color: #1967D2;\n",
              "      --hover-bg-color: #E2EBFA;\n",
              "      --hover-fill-color: #174EA6;\n",
              "      --disabled-fill-color: #AAA;\n",
              "      --disabled-bg-color: #DDD;\n",
              "  }\n",
              "\n",
              "  [theme=dark] .colab-df-quickchart {\n",
              "      --bg-color: #3B4455;\n",
              "      --fill-color: #D2E3FC;\n",
              "      --hover-bg-color: #434B5C;\n",
              "      --hover-fill-color: #FFFFFF;\n",
              "      --disabled-bg-color: #3B4455;\n",
              "      --disabled-fill-color: #666;\n",
              "  }\n",
              "\n",
              "  .colab-df-quickchart {\n",
              "    background-color: var(--bg-color);\n",
              "    border: none;\n",
              "    border-radius: 50%;\n",
              "    cursor: pointer;\n",
              "    display: none;\n",
              "    fill: var(--fill-color);\n",
              "    height: 32px;\n",
              "    padding: 0;\n",
              "    width: 32px;\n",
              "  }\n",
              "\n",
              "  .colab-df-quickchart:hover {\n",
              "    background-color: var(--hover-bg-color);\n",
              "    box-shadow: 0 1px 2px rgba(60, 64, 67, 0.3), 0 1px 3px 1px rgba(60, 64, 67, 0.15);\n",
              "    fill: var(--button-hover-fill-color);\n",
              "  }\n",
              "\n",
              "  .colab-df-quickchart-complete:disabled,\n",
              "  .colab-df-quickchart-complete:disabled:hover {\n",
              "    background-color: var(--disabled-bg-color);\n",
              "    fill: var(--disabled-fill-color);\n",
              "    box-shadow: none;\n",
              "  }\n",
              "\n",
              "  .colab-df-spinner {\n",
              "    border: 2px solid var(--fill-color);\n",
              "    border-color: transparent;\n",
              "    border-bottom-color: var(--fill-color);\n",
              "    animation:\n",
              "      spin 1s steps(1) infinite;\n",
              "  }\n",
              "\n",
              "  @keyframes spin {\n",
              "    0% {\n",
              "      border-color: transparent;\n",
              "      border-bottom-color: var(--fill-color);\n",
              "      border-left-color: var(--fill-color);\n",
              "    }\n",
              "    20% {\n",
              "      border-color: transparent;\n",
              "      border-left-color: var(--fill-color);\n",
              "      border-top-color: var(--fill-color);\n",
              "    }\n",
              "    30% {\n",
              "      border-color: transparent;\n",
              "      border-left-color: var(--fill-color);\n",
              "      border-top-color: var(--fill-color);\n",
              "      border-right-color: var(--fill-color);\n",
              "    }\n",
              "    40% {\n",
              "      border-color: transparent;\n",
              "      border-right-color: var(--fill-color);\n",
              "      border-top-color: var(--fill-color);\n",
              "    }\n",
              "    60% {\n",
              "      border-color: transparent;\n",
              "      border-right-color: var(--fill-color);\n",
              "    }\n",
              "    80% {\n",
              "      border-color: transparent;\n",
              "      border-right-color: var(--fill-color);\n",
              "      border-bottom-color: var(--fill-color);\n",
              "    }\n",
              "    90% {\n",
              "      border-color: transparent;\n",
              "      border-bottom-color: var(--fill-color);\n",
              "    }\n",
              "  }\n",
              "</style>\n",
              "\n",
              "  <script>\n",
              "    async function quickchart(key) {\n",
              "      const quickchartButtonEl =\n",
              "        document.querySelector('#' + key + ' button');\n",
              "      quickchartButtonEl.disabled = true;  // To prevent multiple clicks.\n",
              "      quickchartButtonEl.classList.add('colab-df-spinner');\n",
              "      try {\n",
              "        const charts = await google.colab.kernel.invokeFunction(\n",
              "            'suggestCharts', [key], {});\n",
              "      } catch (error) {\n",
              "        console.error('Error during call to suggestCharts:', error);\n",
              "      }\n",
              "      quickchartButtonEl.classList.remove('colab-df-spinner');\n",
              "      quickchartButtonEl.classList.add('colab-df-quickchart-complete');\n",
              "    }\n",
              "    (() => {\n",
              "      let quickchartButtonEl =\n",
              "        document.querySelector('#df-8e317048-4f48-49ba-8021-527a2ee735f4 button');\n",
              "      quickchartButtonEl.style.display =\n",
              "        google.colab.kernel.accessAllowed ? 'block' : 'none';\n",
              "    })();\n",
              "  </script>\n",
              "</div>\n",
              "\n",
              "    </div>\n",
              "  </div>\n"
            ]
          },
          "metadata": {},
          "execution_count": 9
        }
      ]
    },
    {
      "cell_type": "code",
      "source": [
        "data.shape"
      ],
      "metadata": {
        "colab": {
          "base_uri": "https://localhost:8080/"
        },
        "id": "6OQdh1hfpzUc",
        "outputId": "d779893a-ce60-4d6b-e35d-1ea892a6fa96"
      },
      "execution_count": 10,
      "outputs": [
        {
          "output_type": "execute_result",
          "data": {
            "text/plain": [
              "(5572, 5)"
            ]
          },
          "metadata": {},
          "execution_count": 10
        }
      ]
    },
    {
      "cell_type": "code",
      "source": [
        "data.isnull().sum()\n"
      ],
      "metadata": {
        "colab": {
          "base_uri": "https://localhost:8080/"
        },
        "id": "OIRdmG6UqyJU",
        "outputId": "1e2da9fe-8179-4b3a-d5d5-f51164138e57"
      },
      "execution_count": 11,
      "outputs": [
        {
          "output_type": "execute_result",
          "data": {
            "text/plain": [
              "v1               0\n",
              "v2               0\n",
              "Unnamed: 2    5522\n",
              "Unnamed: 3    5560\n",
              "Unnamed: 4    5566\n",
              "dtype: int64"
            ]
          },
          "metadata": {},
          "execution_count": 11
        }
      ]
    },
    {
      "cell_type": "code",
      "source": [
        "data['v1'].value_counts()\n"
      ],
      "metadata": {
        "colab": {
          "base_uri": "https://localhost:8080/"
        },
        "id": "YqKvoN0eqzrC",
        "outputId": "895e0367-1a86-4c31-a965-1c465493f372"
      },
      "execution_count": 12,
      "outputs": [
        {
          "output_type": "execute_result",
          "data": {
            "text/plain": [
              "ham     4825\n",
              "spam     747\n",
              "Name: v1, dtype: int64"
            ]
          },
          "metadata": {},
          "execution_count": 12
        }
      ]
    },
    {
      "cell_type": "code",
      "source": [
        "data.drop(columns=['Unnamed: 2', 'Unnamed: 3', 'Unnamed: 4'], inplace=True)\n",
        "data.rename(columns={'v1': 'label', 'v2': 'text'}, inplace=True)\n",
        "data.head()\n",
        "\n"
      ],
      "metadata": {
        "colab": {
          "base_uri": "https://localhost:8080/",
          "height": 206
        },
        "id": "j_0i26rlq8-D",
        "outputId": "69db6553-168d-41c3-d616-52157c76305d"
      },
      "execution_count": 13,
      "outputs": [
        {
          "output_type": "execute_result",
          "data": {
            "text/plain": [
              "  label                                               text\n",
              "0   ham  Go until jurong point, crazy.. Available only ...\n",
              "1   ham                      Ok lar... Joking wif u oni...\n",
              "2  spam  Free entry in 2 a wkly comp to win FA Cup fina...\n",
              "3   ham  U dun say so early hor... U c already then say...\n",
              "4   ham  Nah I don't think he goes to usf, he lives aro..."
            ],
            "text/html": [
              "\n",
              "  <div id=\"df-dadff099-a1b9-444d-ba56-068ccc026b3f\" class=\"colab-df-container\">\n",
              "    <div>\n",
              "<style scoped>\n",
              "    .dataframe tbody tr th:only-of-type {\n",
              "        vertical-align: middle;\n",
              "    }\n",
              "\n",
              "    .dataframe tbody tr th {\n",
              "        vertical-align: top;\n",
              "    }\n",
              "\n",
              "    .dataframe thead th {\n",
              "        text-align: right;\n",
              "    }\n",
              "</style>\n",
              "<table border=\"1\" class=\"dataframe\">\n",
              "  <thead>\n",
              "    <tr style=\"text-align: right;\">\n",
              "      <th></th>\n",
              "      <th>label</th>\n",
              "      <th>text</th>\n",
              "    </tr>\n",
              "  </thead>\n",
              "  <tbody>\n",
              "    <tr>\n",
              "      <th>0</th>\n",
              "      <td>ham</td>\n",
              "      <td>Go until jurong point, crazy.. Available only ...</td>\n",
              "    </tr>\n",
              "    <tr>\n",
              "      <th>1</th>\n",
              "      <td>ham</td>\n",
              "      <td>Ok lar... Joking wif u oni...</td>\n",
              "    </tr>\n",
              "    <tr>\n",
              "      <th>2</th>\n",
              "      <td>spam</td>\n",
              "      <td>Free entry in 2 a wkly comp to win FA Cup fina...</td>\n",
              "    </tr>\n",
              "    <tr>\n",
              "      <th>3</th>\n",
              "      <td>ham</td>\n",
              "      <td>U dun say so early hor... U c already then say...</td>\n",
              "    </tr>\n",
              "    <tr>\n",
              "      <th>4</th>\n",
              "      <td>ham</td>\n",
              "      <td>Nah I don't think he goes to usf, he lives aro...</td>\n",
              "    </tr>\n",
              "  </tbody>\n",
              "</table>\n",
              "</div>\n",
              "    <div class=\"colab-df-buttons\">\n",
              "\n",
              "  <div class=\"colab-df-container\">\n",
              "    <button class=\"colab-df-convert\" onclick=\"convertToInteractive('df-dadff099-a1b9-444d-ba56-068ccc026b3f')\"\n",
              "            title=\"Convert this dataframe to an interactive table.\"\n",
              "            style=\"display:none;\">\n",
              "\n",
              "  <svg xmlns=\"http://www.w3.org/2000/svg\" height=\"24px\" viewBox=\"0 -960 960 960\">\n",
              "    <path d=\"M120-120v-720h720v720H120Zm60-500h600v-160H180v160Zm220 220h160v-160H400v160Zm0 220h160v-160H400v160ZM180-400h160v-160H180v160Zm440 0h160v-160H620v160ZM180-180h160v-160H180v160Zm440 0h160v-160H620v160Z\"/>\n",
              "  </svg>\n",
              "    </button>\n",
              "\n",
              "  <style>\n",
              "    .colab-df-container {\n",
              "      display:flex;\n",
              "      gap: 12px;\n",
              "    }\n",
              "\n",
              "    .colab-df-convert {\n",
              "      background-color: #E8F0FE;\n",
              "      border: none;\n",
              "      border-radius: 50%;\n",
              "      cursor: pointer;\n",
              "      display: none;\n",
              "      fill: #1967D2;\n",
              "      height: 32px;\n",
              "      padding: 0 0 0 0;\n",
              "      width: 32px;\n",
              "    }\n",
              "\n",
              "    .colab-df-convert:hover {\n",
              "      background-color: #E2EBFA;\n",
              "      box-shadow: 0px 1px 2px rgba(60, 64, 67, 0.3), 0px 1px 3px 1px rgba(60, 64, 67, 0.15);\n",
              "      fill: #174EA6;\n",
              "    }\n",
              "\n",
              "    .colab-df-buttons div {\n",
              "      margin-bottom: 4px;\n",
              "    }\n",
              "\n",
              "    [theme=dark] .colab-df-convert {\n",
              "      background-color: #3B4455;\n",
              "      fill: #D2E3FC;\n",
              "    }\n",
              "\n",
              "    [theme=dark] .colab-df-convert:hover {\n",
              "      background-color: #434B5C;\n",
              "      box-shadow: 0px 1px 3px 1px rgba(0, 0, 0, 0.15);\n",
              "      filter: drop-shadow(0px 1px 2px rgba(0, 0, 0, 0.3));\n",
              "      fill: #FFFFFF;\n",
              "    }\n",
              "  </style>\n",
              "\n",
              "    <script>\n",
              "      const buttonEl =\n",
              "        document.querySelector('#df-dadff099-a1b9-444d-ba56-068ccc026b3f button.colab-df-convert');\n",
              "      buttonEl.style.display =\n",
              "        google.colab.kernel.accessAllowed ? 'block' : 'none';\n",
              "\n",
              "      async function convertToInteractive(key) {\n",
              "        const element = document.querySelector('#df-dadff099-a1b9-444d-ba56-068ccc026b3f');\n",
              "        const dataTable =\n",
              "          await google.colab.kernel.invokeFunction('convertToInteractive',\n",
              "                                                    [key], {});\n",
              "        if (!dataTable) return;\n",
              "\n",
              "        const docLinkHtml = 'Like what you see? Visit the ' +\n",
              "          '<a target=\"_blank\" href=https://colab.research.google.com/notebooks/data_table.ipynb>data table notebook</a>'\n",
              "          + ' to learn more about interactive tables.';\n",
              "        element.innerHTML = '';\n",
              "        dataTable['output_type'] = 'display_data';\n",
              "        await google.colab.output.renderOutput(dataTable, element);\n",
              "        const docLink = document.createElement('div');\n",
              "        docLink.innerHTML = docLinkHtml;\n",
              "        element.appendChild(docLink);\n",
              "      }\n",
              "    </script>\n",
              "  </div>\n",
              "\n",
              "\n",
              "<div id=\"df-c46e8352-56da-4eac-9316-3a049b5b046d\">\n",
              "  <button class=\"colab-df-quickchart\" onclick=\"quickchart('df-c46e8352-56da-4eac-9316-3a049b5b046d')\"\n",
              "            title=\"Suggest charts.\"\n",
              "            style=\"display:none;\">\n",
              "\n",
              "<svg xmlns=\"http://www.w3.org/2000/svg\" height=\"24px\"viewBox=\"0 0 24 24\"\n",
              "     width=\"24px\">\n",
              "    <g>\n",
              "        <path d=\"M19 3H5c-1.1 0-2 .9-2 2v14c0 1.1.9 2 2 2h14c1.1 0 2-.9 2-2V5c0-1.1-.9-2-2-2zM9 17H7v-7h2v7zm4 0h-2V7h2v10zm4 0h-2v-4h2v4z\"/>\n",
              "    </g>\n",
              "</svg>\n",
              "  </button>\n",
              "\n",
              "<style>\n",
              "  .colab-df-quickchart {\n",
              "      --bg-color: #E8F0FE;\n",
              "      --fill-color: #1967D2;\n",
              "      --hover-bg-color: #E2EBFA;\n",
              "      --hover-fill-color: #174EA6;\n",
              "      --disabled-fill-color: #AAA;\n",
              "      --disabled-bg-color: #DDD;\n",
              "  }\n",
              "\n",
              "  [theme=dark] .colab-df-quickchart {\n",
              "      --bg-color: #3B4455;\n",
              "      --fill-color: #D2E3FC;\n",
              "      --hover-bg-color: #434B5C;\n",
              "      --hover-fill-color: #FFFFFF;\n",
              "      --disabled-bg-color: #3B4455;\n",
              "      --disabled-fill-color: #666;\n",
              "  }\n",
              "\n",
              "  .colab-df-quickchart {\n",
              "    background-color: var(--bg-color);\n",
              "    border: none;\n",
              "    border-radius: 50%;\n",
              "    cursor: pointer;\n",
              "    display: none;\n",
              "    fill: var(--fill-color);\n",
              "    height: 32px;\n",
              "    padding: 0;\n",
              "    width: 32px;\n",
              "  }\n",
              "\n",
              "  .colab-df-quickchart:hover {\n",
              "    background-color: var(--hover-bg-color);\n",
              "    box-shadow: 0 1px 2px rgba(60, 64, 67, 0.3), 0 1px 3px 1px rgba(60, 64, 67, 0.15);\n",
              "    fill: var(--button-hover-fill-color);\n",
              "  }\n",
              "\n",
              "  .colab-df-quickchart-complete:disabled,\n",
              "  .colab-df-quickchart-complete:disabled:hover {\n",
              "    background-color: var(--disabled-bg-color);\n",
              "    fill: var(--disabled-fill-color);\n",
              "    box-shadow: none;\n",
              "  }\n",
              "\n",
              "  .colab-df-spinner {\n",
              "    border: 2px solid var(--fill-color);\n",
              "    border-color: transparent;\n",
              "    border-bottom-color: var(--fill-color);\n",
              "    animation:\n",
              "      spin 1s steps(1) infinite;\n",
              "  }\n",
              "\n",
              "  @keyframes spin {\n",
              "    0% {\n",
              "      border-color: transparent;\n",
              "      border-bottom-color: var(--fill-color);\n",
              "      border-left-color: var(--fill-color);\n",
              "    }\n",
              "    20% {\n",
              "      border-color: transparent;\n",
              "      border-left-color: var(--fill-color);\n",
              "      border-top-color: var(--fill-color);\n",
              "    }\n",
              "    30% {\n",
              "      border-color: transparent;\n",
              "      border-left-color: var(--fill-color);\n",
              "      border-top-color: var(--fill-color);\n",
              "      border-right-color: var(--fill-color);\n",
              "    }\n",
              "    40% {\n",
              "      border-color: transparent;\n",
              "      border-right-color: var(--fill-color);\n",
              "      border-top-color: var(--fill-color);\n",
              "    }\n",
              "    60% {\n",
              "      border-color: transparent;\n",
              "      border-right-color: var(--fill-color);\n",
              "    }\n",
              "    80% {\n",
              "      border-color: transparent;\n",
              "      border-right-color: var(--fill-color);\n",
              "      border-bottom-color: var(--fill-color);\n",
              "    }\n",
              "    90% {\n",
              "      border-color: transparent;\n",
              "      border-bottom-color: var(--fill-color);\n",
              "    }\n",
              "  }\n",
              "</style>\n",
              "\n",
              "  <script>\n",
              "    async function quickchart(key) {\n",
              "      const quickchartButtonEl =\n",
              "        document.querySelector('#' + key + ' button');\n",
              "      quickchartButtonEl.disabled = true;  // To prevent multiple clicks.\n",
              "      quickchartButtonEl.classList.add('colab-df-spinner');\n",
              "      try {\n",
              "        const charts = await google.colab.kernel.invokeFunction(\n",
              "            'suggestCharts', [key], {});\n",
              "      } catch (error) {\n",
              "        console.error('Error during call to suggestCharts:', error);\n",
              "      }\n",
              "      quickchartButtonEl.classList.remove('colab-df-spinner');\n",
              "      quickchartButtonEl.classList.add('colab-df-quickchart-complete');\n",
              "    }\n",
              "    (() => {\n",
              "      let quickchartButtonEl =\n",
              "        document.querySelector('#df-c46e8352-56da-4eac-9316-3a049b5b046d button');\n",
              "      quickchartButtonEl.style.display =\n",
              "        google.colab.kernel.accessAllowed ? 'block' : 'none';\n",
              "    })();\n",
              "  </script>\n",
              "</div>\n",
              "\n",
              "    </div>\n",
              "  </div>\n"
            ]
          },
          "metadata": {},
          "execution_count": 13
        }
      ]
    },
    {
      "cell_type": "code",
      "source": [
        "# prompt: calculate % of values in the column label of the 'data' dataframe and print out each labels % using print function\n",
        "\n",
        "data['label'].value_counts(normalize=True)*100\n"
      ],
      "metadata": {
        "colab": {
          "base_uri": "https://localhost:8080/"
        },
        "id": "zJ_GqHysJWaX",
        "outputId": "a1f54ea2-edca-4956-b552-cbe8e1387e49"
      },
      "execution_count": 14,
      "outputs": [
        {
          "output_type": "execute_result",
          "data": {
            "text/plain": [
              "ham     86.593683\n",
              "spam    13.406317\n",
              "Name: label, dtype: float64"
            ]
          },
          "metadata": {},
          "execution_count": 14
        }
      ]
    },
    {
      "cell_type": "markdown",
      "source": [
        "Above are % of the Labels 'ham' and 'spam corresponding to 87% and 13% respectively"
      ],
      "metadata": {
        "id": "n8OXBRMBJ8c9"
      }
    },
    {
      "cell_type": "code",
      "source": [
        "# prompt: convert above labels: 0 for 'ham' & 1 'spam for above dataset\n",
        "\n",
        "data['label'].replace(['ham', 'spam'], [0, 1], inplace=True)\n",
        "data['label'].value_counts(normalize=True)*100"
      ],
      "metadata": {
        "colab": {
          "base_uri": "https://localhost:8080/"
        },
        "id": "tgg27qorKVrv",
        "outputId": "cddf2f58-4f13-43ae-b907-b869ad60039f"
      },
      "execution_count": 15,
      "outputs": [
        {
          "output_type": "execute_result",
          "data": {
            "text/plain": [
              "0    86.593683\n",
              "1    13.406317\n",
              "Name: label, dtype: float64"
            ]
          },
          "metadata": {},
          "execution_count": 15
        }
      ]
    },
    {
      "cell_type": "code",
      "source": [
        "data_small = data.sample(frac=0.1, random_state=21, replace=False).reset_index(drop=True)\n",
        "\n",
        "print(data_small.shape)\n",
        "\n",
        "print(data_small['label'].value_counts())\n",
        "\n",
        "x = data_small['text']\n",
        "y = data_small['label']\n",
        "\n",
        "x_train, x_test, y_train, y_test = train_test_split(x, y, test_size=0.2, random_state=21, stratify=y, shuffle=True)\n",
        "\n",
        "\n",
        "print(x_train.shape, x_test.shape, y_train.shape, y_test.shape)\n",
        "\n",
        "print(y_train.value_counts())\n",
        "print(y_test.value_counts())\n",
        "\n"
      ],
      "metadata": {
        "colab": {
          "base_uri": "https://localhost:8080/"
        },
        "id": "Mzr3_jYfs9rz",
        "outputId": "2562cb7e-6887-4662-cfb0-4c5e75de71e4"
      },
      "execution_count": 158,
      "outputs": [
        {
          "output_type": "stream",
          "name": "stdout",
          "text": [
            "(557, 2)\n",
            "0    486\n",
            "1     71\n",
            "Name: label, dtype: int64\n",
            "(445,) (112,) (445,) (112,)\n",
            "0    388\n",
            "1     57\n",
            "Name: label, dtype: int64\n",
            "0    98\n",
            "1    14\n",
            "Name: label, dtype: int64\n"
          ]
        }
      ]
    },
    {
      "cell_type": "code",
      "source": [
        "xtrain = x_train.values\n",
        "ytrain = y_train.values\n",
        "\n",
        "xtest = x_test.values\n",
        "ytest = y_test.values\n",
        "\n",
        "\n",
        "print(xtrain.shape, ytrain.shape)\n",
        "\n",
        "\n"
      ],
      "metadata": {
        "colab": {
          "base_uri": "https://localhost:8080/"
        },
        "id": "rQzr2efvuVZJ",
        "outputId": "482fa20a-e494-4537-9896-a2f48164e0b5"
      },
      "execution_count": 159,
      "outputs": [
        {
          "output_type": "stream",
          "name": "stdout",
          "text": [
            "(445,) (445,)\n"
          ]
        }
      ]
    },
    {
      "cell_type": "code",
      "source": [
        "xtrain[222]"
      ],
      "metadata": {
        "colab": {
          "base_uri": "https://localhost:8080/",
          "height": 35
        },
        "id": "3vBEWzflyCp8",
        "outputId": "3edd058b-4760-458b-a9c3-901c1875ee08"
      },
      "execution_count": 18,
      "outputs": [
        {
          "output_type": "execute_result",
          "data": {
            "text/plain": [
              "'England v Macedonia - dont miss the goals/team news. Txt ur national team to 87077 eg ENGLAND to 87077 Try:WALES, SCOTLAND 4txt/Ì¼1.20 POBOXox36504W45WQ 16+'"
            ],
            "application/vnd.google.colaboratory.intrinsic+json": {
              "type": "string"
            }
          },
          "metadata": {},
          "execution_count": 18
        }
      ]
    },
    {
      "cell_type": "code",
      "source": [
        "cp.SpacyPreprocessor??"
      ],
      "metadata": {
        "id": "AXbuu2efUFF8"
      },
      "execution_count": 32,
      "outputs": []
    },
    {
      "cell_type": "code",
      "source": [
        "# Spacy Tokenizer\n",
        "# Loading the 'en_core_web_sm' language model from the spaCy library\n",
        "nlp = spacy.load('en_core_web_sm')\n",
        "\n",
        "\n",
        "disabled = nlp.select_pipes(\n",
        "    disable=['tok2vec', 'tagger', 'parser', 'attribute_ruler', 'lemmatizer', 'ner'])\n",
        "\n",
        "\n",
        "def spacy_tokenizer(data):\n",
        "    doc = nlp(data)\n",
        "    return [token.text for token in doc]\n",
        "\n",
        "\n",
        "\n"
      ],
      "metadata": {
        "id": "RHSS-qtsBvKB"
      },
      "execution_count": 33,
      "outputs": []
    },
    {
      "cell_type": "code",
      "source": [
        "cpp = cp.SpacyPreprocessor(\n",
        "    model='en_core_web_sm')\n",
        "\n",
        "\n",
        "\n",
        "def spacy_preprocessor(text):\n",
        "    filtered_text = cpp.transform([text])\n",
        "    return \" \".join(filtered_text)"
      ],
      "metadata": {
        "id": "BHjUUNa8C8Bt"
      },
      "execution_count": 153,
      "outputs": []
    },
    {
      "cell_type": "code",
      "source": [
        "# save this to a file\n",
        "X_train_cleaned = cpp.transform(xtrain)\n",
        "file_X_train_cleaned_sparse_embed = data_folder / \\\n",
        "    'x_train_cleaned_sparse_embed.pkl'\n",
        "joblib.dump(X_train_cleaned, file_X_train_cleaned_sparse_embed)\n"
      ],
      "metadata": {
        "colab": {
          "base_uri": "https://localhost:8080/"
        },
        "id": "1B6cjlJwWqgE",
        "outputId": "56c269dc-a1db-4403-d6e2-06bb026dc693"
      },
      "execution_count": 54,
      "outputs": [
        {
          "output_type": "stream",
          "name": "stderr",
          "text": [
            "/content/drive/MyDrive/NLP/custom-functions/custom_preprocessor_mod.py:90: MarkupResemblesLocatorWarning: The input looks more like a filename than markup. You may want to open this file and pass the filehandle into Beautiful Soup.\n",
            "  soup = BeautifulSoup(text, \"html.parser\")\n"
          ]
        },
        {
          "output_type": "execute_result",
          "data": {
            "text/plain": [
              "['/content/drive/MyDrive/NLP/datasets/spam/x_train_cleaned_sparse_embed.pkl']"
            ]
          },
          "metadata": {},
          "execution_count": 54
        }
      ]
    },
    {
      "cell_type": "code",
      "source": [
        "X_test_cleaned = cpp.transform(xtest)\n",
        "# save  this to a file\n",
        "file_X_test_cleaned_sparse_embed = data_folder / 'x_test_cleaned_sparse_embed.pkl'\n",
        "joblib.dump(X_test_cleaned, file_X_test_cleaned_sparse_embed)"
      ],
      "metadata": {
        "colab": {
          "base_uri": "https://localhost:8080/"
        },
        "id": "XCWiZi-GZoSP",
        "outputId": "a1c80f46-9f87-4b9f-ff3c-bc851adfa9c7"
      },
      "execution_count": 55,
      "outputs": [
        {
          "output_type": "execute_result",
          "data": {
            "text/plain": [
              "['/content/drive/MyDrive/NLP/datasets/spam/x_test_cleaned_sparse_embed.pkl']"
            ]
          },
          "metadata": {},
          "execution_count": 55
        }
      ]
    },
    {
      "cell_type": "markdown",
      "source": [
        "## <font color ='pickle'> Defining Class Weights for Imbalanced data to train Classifier"
      ],
      "metadata": {
        "id": "SArtgyMEiNqD"
      }
    },
    {
      "cell_type": "code",
      "source": [
        "w = {}\n",
        "\n",
        "w[1] = int(y_train.value_counts()[0]/ytrain.shape[0]*100)\n",
        "\n",
        "w[0] = 100 - w[1]\n"
      ],
      "metadata": {
        "id": "6YNYIgBNgiBL"
      },
      "execution_count": 56,
      "outputs": []
    },
    {
      "cell_type": "code",
      "source": [
        "w"
      ],
      "metadata": {
        "colab": {
          "base_uri": "https://localhost:8080/"
        },
        "id": "PLsvub9VfSHy",
        "outputId": "28d475a0-5bc9-405c-ad15-d7debd4df47a"
      },
      "execution_count": 57,
      "outputs": [
        {
          "output_type": "execute_result",
          "data": {
            "text/plain": [
              "{1: 87, 0: 13}"
            ]
          },
          "metadata": {},
          "execution_count": 57
        }
      ]
    },
    {
      "cell_type": "markdown",
      "source": [
        "##<font color ='pickle'> Modelling Rationale\n",
        "\n",
        "To keep things simple and focus more choosing the right metric and performing high level hyper-parameter tunig, for this Problem Statement I have resorted to simple Weighted Logistic Regression for imbalanced dataset with Hyper-parameter tuning using Bayesian Optimization using"
      ],
      "metadata": {
        "id": "zTuhboH2zlAU"
      }
    },
    {
      "cell_type": "markdown",
      "source": [
        "## <font color ='pickle'> Metric Selection\n",
        "\n",
        ">\n",
        "\n"
      ],
      "metadata": {
        "id": "udAqU90jae3y"
      }
    },
    {
      "cell_type": "markdown",
      "source": [
        "\n",
        "From the above code, we can see that this is a imbalanced dataset with 87-13 percentage split between the majority and minority class. Hence, resorting to standard metric wouldn't help in this case.\n",
        "\n",
        "\n",
        "\n",
        "> Standard metrics work well on most problems, which is why they are widely adopted. But all metrics make assumptions about the problem or about what is important in the problem. Therefore an evaluation metric must be chosen that best captures what you or your project stakeholders believe is important about the model or predictions, which makes choosing model evaluation metrics challenging.\n",
        "\n",
        "\n",
        "Hence, we'll evaluate our models using various metric depending on the classification that we use for our problem statement.\n",
        "\n",
        "\n",
        "Here are some of the blogs that I referred to:\n",
        "\n",
        "1. [ML Mastery](https://machinelearningmastery.com/tour-of-evaluation-metrics-for-imbalanced-classification/)\n",
        "\n",
        "2. [stat exchange](https://stats.stackexchange.com/questions/222558/classification-evaluation-metrics-for-highly-imbalanced-data)\n",
        "\n",
        "3. [Towards Data Science](https://towardsdatascience.com/identifying-the-right-classification-metric-for-your-task-21727fa218a2)\n",
        "\n",
        "\n",
        "After doing a bit of research on the best metric to use for Imbalanced Dataset, I narrowed down my list to the following metrics:\n",
        "\n",
        "\n",
        "\n",
        "1.   **Balanced Accuracy** - (for all classification algorithms)\n",
        "\n",
        "2.  **F0.5** - From the below tree diagram we can see, that if we want to predict class labels rather than probabilities (eg. Ensemble Tree based classification algorithms) and the cost of False Positives >> False Negative, we can use F-0.5 score\n",
        "\n",
        "3. **Kappa** - (observed accuracy - expected accuracy)/(1 - expected accuracy) [here](https://stats.stackexchange.com/questions/82162/cohens-kappa-in-plain-english)\n",
        "\n",
        "4. **Precision Recall AUC** - For probability based classification algorithms (Eg. Logistic Regression)\n",
        "\n",
        "*For this problem statement I have used **PR AUC** as my evaluation metric for the following reason.*\n",
        "\n",
        "\n",
        "Responsive to the Positive Class: Precision-Recall AUC assesses a model's capacity to accurately identify positive instances. This is especially crucial in situations where the positive category signifies infrequent yet significant occurrences, such as identifying fraud, rare medical conditions, or exceptional events.\n",
        "\n",
        "Beneficial for Emphasizing Precision: In numerous practical scenarios, precision (the proportion of correct positive predictions to all predicted positives) carries greater importance than recall (the proportion of true positives to all actual positives). Precision-Recall AUC offers a metric that highlights precision, aiding in the reduction of false positives.\n",
        "\n",
        "\n",
        "\n",
        "\n"
      ],
      "metadata": {
        "id": "r3lrwcaElILU"
      }
    },
    {
      "cell_type": "markdown",
      "source": [
        "![How-to-Choose-a-Metric-for-Imbalanced-Classification-latest.png](data:image/png;base64,iVBORw0KGgoAAAANSUhEUgAAA68AAALFCAMAAAAbXiVTAAAAS1BMVEX///9rcnihrLazxNNISUeCqcZQVVnP4vMdHh8AAAE3Oj2FjpaXnqUODxBfZGjv8vbJ2+zI1N65vL8pLC58gITi4uLEzNR4nLZoiJ+q/QLPAACBDklEQVR42uzcDU/jOBCA4XHOeD2xM6NMPC7//5de7Pj4uC5Le632ujCPBERNJ4qRXkWEABhjjDHGGGOMMcYYY4wxxhhjjDHGGGOMMcYYY/4H6yXqlH9uquuFfoAx5lZPFzi54H8uuNPTZf4CY8zv6PU5+I8EOlmvxgA8TK8n8v8g8pQK+TfcyXo1Bh6l11PxQ0iSQ9FafPAvwrP1agw8TK/kBxLWLKCZUn4tlk7WqzEP02vwTXCFBIAZeBXV/OYCa70a8yi9Pvuu1FWU65QnUQAtr70W69WYR+m1jCoVWLMLIVAS1kLkB2e9GvMgvZ6c70hAU/BdEa4yBX8g6/VLSDHGzOx+5xdhDu+/BDC39xpcEd4LHYoCrOQPdLJev4IfDyGCualX8jsSZXX+MC621uvXEj8pyXr9xAP16hSgBv8isQQ/BOv1S3iMXjOYX7jwYUTKwuJfFdBc/CE8W69fwWP0an8Y8ksX//q1cN23hpAANFuvX4r1+gd4+kwKR64C6l57nVhrumevOQuc0ZwVztScGa4ypl6P2kiFRrLA1WoqZeJjfILPjGVIKYnHOj80fbj/m9xvcmBuv76GzMA5+KGoJkf+QPfoFZHgTEYUOFMQFa4ypuAgOGwrAMw4w5V0xiYKABBG+MRYRsIdt3V+IDkAiB+czrfp1e433eN+UyhrVS0jWCfvHnA6/XG9LjHGZQ/2P/WqETHO+yes1/S64ZISfNzrhmS9Wq93el6CnBPWTGHfLMLAEv7gXgvsQg/ueqHN9wP60etFIoZrvgPnvsfPr9brjb0++wMJgB7PD3MVFRf8ge7WK5FMcwwKZduIj17dvqmwSz7GOb30qrTFLVToU+LjnGHHZY6bY9ilOc6lb7W903mvufdaqOybVJTG4LsDu+gdEewSEXTaOm28LzB6rWGLx2mu1LbWcSrRTwAgROtKC0bKQJQBQN3W1/I6yYQYScBRabPJx83pMQtli2H9Lr3a73Nuf96/c5VrZWAG0DTVaSqOfENP9+oVccPdMuNu7kUtuIvawujc6FUXbBZtUx6bDMD7/Hh/wGZmgAmb+O9e17mn5nHu1UXcBQCN2NVxOks6LvJL2zkyzzCMXit2kWEdp7UCzNiVPiGCDR3rHO+a30zqWEJsr/Ixu0ifDX1bv0mvdn/4xl5T8F0ouZQVNEv7qFVFyvgfTvfrFbM6xGVS36LMiFG0tH26f9J1wzh6dbiI7vtTnyo69avePpvaqwS5v7hgAY649IO89jrEl/tNtE+vNSIylPbuqXfWAk6FEakPCXSlbb3v1WOs2l93Ldq6xNRKFGC/zEevmhecsxzr3NoKXcszjMmJM+77FeI4HSc54sLjW0CI2Xo1AFf8ewlPnkQluKp1VRHVyR3B3q9X3y85bvzoOi5lMy4AXBmYEEevwCuAjqzm/qYIsLQDQEoCM27Q+t1AetQwn/e6uDe98rsDL3+zdzaKrbJMoxXKhyB/EYG393+lhxlITWrS5mnTfbSd1UZRFJPdrD0Iiu3tqKEi4fAeJvd8HXLGYm0zLYQBP4awOayn4Ur7/jnnFuCZndc9Mae3NwUM9O2NW5jgHn+kvYn6c57R3tSRLDEhE8+zZczOM/ftBPZpvnqU0Ky+RrQObIqsKrf6mo1Uuvvqm6/dX0Rp5b1ftF4LufCV5RyjxK27rw69woItFAxlojY9tDrNPvI14T62bgsIi+29lYWFra98LWHdc/W1+4vH7/vmv+MrtTc9z9eOtzl6AcG2+/q8+Jrwu2k3vuZQZV28ePM1Oq2ndN9Xp51CMhaybR/GbZY3X9XZ1wIFsx5ffXffx7UtmZ93ZyzinrijEwzfdxTn0+zAHKRU2PiKy0jfk3wlX5/e3rTCSo6gKc+R4fIP+mpbhRSX0dzu64JNSe987RHRMg75q55QiLjlq9r6OumlFnzla9KOgdqNgA7i+1S4J6yRAZYtZIcIokJqKGbSmm987TX0lOLg1j1XXzP6PswwW339I+ev5OvTffV2Lgy15eCr/ElfVR4KWIiShuXsazMzvvdVwF5Z6QnMnodhUb7aBAZGfemrjxUJZWx8VVq0TXrBzczVFzz+FHNc0Dr/FtYNvG+hl173Nk4XLGjra3BaZchKYGbfEz9RAF+xPQraqrQuf89X6s95wnhr18g052htzCVJWHz9QV8ddu4U+HYrr2oyoK9gppS67bX6WrDjpkvrhMKiEvYQuUtfO27e+iq1FlCwPBeMZUMO0heRaeh7Kq2l0L15SHkBFmannZTuVn14MO1tqvy2ZwJJtbPN1wj5uPbv+Urtw88az3SFxZgrMfbmph/0tah+oS4DQTBcoa95qcsJbLn0dYiL7tvPk0YBKgn0MxtflSjD1tcM+zG2FtwyxHBBclA2C2dfo4JDTbCRVf30dSgTOj0PW18H6zCr72kE7omCgq99X2UH8pX4z74yscGnEmNMTP6D8ZtKGZAQ87v1YbhBjvMmBbs+To7vC+ab7s85lntvJsdzOpdNSRcF5HXPG+8y9De/8kfam6g/50O++PgcnxhL8k+MZxpywSsXfj3jLqD2pqc8P2eLPM9/+fj+vbXp9zPuAvL1274m8RHslz8/JyxqMcMfQI1XWPYCs8LYCeYvjI/MjjfA7JWUyNcf9PXLAbbj6fl0v4R3vhpt2kyjpUzzUctxC3u3Uqnxy1B/znd9RV79fV1f6fmvv4R3nr00O4Vq88mdbvuqn+krtQ9/11eE3feVnq/+W1DjDfFOzk8412IkXz9mP76+ijtIRr7+FsZ3SF3GkWub9AvMDajJnHZ4PmsW6EF+GbnSTvEROdVcZdDXOGnt/GlsTAvOFlnLqRkq1QyLe3FlxwuoP+dJvsp7vr4+yVduByTYOHyNbBkzGVLFhuGLRJsvFwBehpsUxuLwVDh89s8GbeT8X/lqta366NOLTnUO0oJqZoFFoydjvFZjgVQZEa+lAWWrhs4lI/UEwvZz36a8hRKEllBCX0ftTc/39X/sbmvTk3xVulun/fAx4bYmTAN9ZKU8fI3gNNted6jKLV3r+jQ8FaV1OKema0n9upH6V77O2o/jMlWF6gsrxdoVWA2rFKgoUWL5dsIrwHLwddIvqKm5PBWW7nRyfT9Ovj7L18cDLIbXf+6r1bd8lVrOeB1f+o6vVk8uXPgaARwzYkOCt/F0Xy0mon7nq1oXjfln1yMuy1g0A72qaBJ8FWjUAjLX1+naV6NtP3+d27pT2743VkERXLPmrydfn+fr4wHW/28nvlotcR6UDt/wdVIRlOkIPSBe81u+5qcLMzmJCaaU2Pi68q989fpk9AuKyMHFrqZSIJqflNZXvjJYwkiMWuKWq8ooqOl6arH6Sv05T/YVSXdah3/G18wWHPCw+AIhxYMazAwAn7TwVczURhjsLGd7bMpVpbnuL3FNFDj8YB/3UMS+TsmCKakU5HZmzQa3rPbqXqY2FwfMvkgl/aKlr3ucC40+T4uZ/ZzgyMGrhb0Nf8gC5kNOaStVG/AwtI+5Wul1wERCQUNq2cE75eOAozUGxvq/j4g/7SvXXDqsGDOmT1e+eq0ks/6Wr+LC12VsnJwAj2/6Su3DPxFfX/+lr1k5lqaayng66bSFjGZnRF9D1SVJPYUBCXq6Cn3VEYm1WKaXxJwrVRLnWFqgPK5FYkpXYSzkKlfWHUvdo7z3lWk+hEn7JLWENzK5STRfYyvUYE1aLSnqRTGpp2ViWDOvyykJPbV85rXLcHzFknN4j5GvuWz1tUX3qDP4GhY8JDv7qqdaBp6/ZoWHtT/s60kzhzIuQkzjpa8vrSnJ36oPL9v6MJ7pgsOb+rAlX38mvv58fVg1wFeBzngdh2mppmmoJhqdL+rDTFv0Kw1I0f7KV4FTPhRMzRAzFzcPrWShBrAuDcGB7+BGRy0QY/21r9lqF6C0XmYG6Xp9WGFS6Bl8RNNUwHPpXthUF2E51/wltEgdFKTgMF5H/JhlrfUqCWsWSA4MsxNM8S3iHfjoq4RdAqSeybhhWppOzDl25SvXHuKue9feBFLzy/amtIbqtuqyvclgylB/ztN9vX/Nf3qer9Mk6g9E1aBlC7USrUjOqyrFMlz4qtRZMCS+8zXiOtuDJczmFsZKnUltQy+Jt9x8LsWgpZiLHjZc7EeCd4Y1gO5r0antl6AsTLG3408QCOd+ADAVP1LCo1TiPGjRPiZbfWVwcJcgCS88pG9J2Lz5GlqqxJ/2lWk9N9s0v/L15JzhRjlY7ZyM582FTc5hf45K1mMQ7iiUebR6MVZqCbI7ZsRC7U0/0z4sbuN/oj4cdTp/f+cq3SStnoNOl75quUbApvaVr6X7KvVZTF6XAC3aiGopY2V5qiw6nv1kKaUJfOql+0pCu7WbKkJP4Fz3FSXtSlksJK79ST2MGyaUxk1t87VviQtqArRYfY3a1leGZDhnn9XVvvmKpSA/7StXAuenZWkueZhOU81ZtFaJK+iKVW/OJaVdktP5egm26tr7dtbrJVoRoihLvv7L/tfXn/V1UDJom7Xlulz56ldfAad6orAZfOm+irOvdvUVn3bh2mDB0iNzP3RnWevDHZDHI2zja+XCV9uyeny1tTBp/JWvZvV18QiUt37eQaKgoHPPvuHr4caX8O5E9+f8u+v9pbgDe32+r72GGMAt5iDcLNKr4dJXN2F6Oa+VOq5tQ6uvTOfmViw6nYsfQv2NzrV6Ky4iRvNzWRtf8YC47aWvUZverHzDVwEV1wUKZ1e+8nYYboOWvcxGP2kNzrSkFj37va+hpYoJh/H1xcnxDtSf8+z7Xz++n+712b6ChgHFNGDApMBaxa58lXq+amaatUIzo1bDha+8ubW4AP00vcFITb1ztTRhBGzet2plyI2v6wEvfQ2tUKbj7fgaNcOCr3zNWHxQ0zC5DOLqNb7iwXVoSdE/Bnvva//3kfoovnKl3ct4H2offub4TQZ0/UjYp/vK9RSzcRicXFuBOnSdhBlmp3i20DzbMdoxzr125cJXUC7NRbQOFxHnpDGE+TIbKFZCykPqSn6l88bXAgfkys0XvsJRRZmZFsOd+OpUzFFoXVZf4fgM3lOE3p64fohupdKiJ4uGQ2L24ky58DXqKc5Ms6PUh1+E4CP5+gyqjx///u/Vi4+Rr3W7D8v4r74OXGmtZW6BzULV2A1nwoTD8C99hMEzfNEVUYYrX4PvAw32kQt9G9OwpwKDFBsQj8Y1FdPG13bApQxXvg7GtaLunL9yyGZRm9XXfqmz4rC5uvoQasJMe07GfkgoXbPV1/7vk37leDDUn/Mhn14nwaT4DMnA2OfeTzeXMNwjh5vDGOZya59Q5k2ZoWxSD5BjHrZ8UsB8/z31Mh86ZMjbcmn8pj/IR5GxBlew9QE8GPtRhKX7X/fPuAvI1w8Bm+C1mUJNmHkpHkOCsXeKovvVj8E+xgsnXz+Nr/i6nqKtstv6uLLbonBK8fUIPM/X05qC5ONQf87X4us2tD4eZN8XRePBHISn+ZrE2OHqZfxPUPvwJzSleky9HVq/GmTPrcYUX4/B03xV09hhmnx9LmdT1/kaWqVsU5zIdVWbwBxfmARWY9+KpPam4zB+jdPpInnPV8h4AOrP+YzVKHhdtTF5zo2QKVovpIWp8DbWubT1lXjydQ653hppYozcXAXZywZjqg8fgPERjOI4hsRcHVRsPDGltZNVxzRBD/jCx5e6RtkRkE6rPiai83T98NPiK/6ssnZSCFH6OOQkWB6yEdKGnLP1JbOatCwXxmsuy9FHyOFX1WJQdv0hX3fP+Ah42/mstW3jJ0rtrRVa4j2y0nitTifjlGlhteYkO3KtjIXBEsnXZ8TX1VaUdSUNQ/G+VCNB3WCFn7O1ITLwlYOvc/UVvfUl8JTYjcan/9H561FQj/m0jKPRTuItN/M6QgwDkUev+aY+vLiCSUO+PiO+ok/bSyPQ18xYBl9NyCGKKqhnubzzNSbwNacbbU+vFF8PxGO+Mj2PchGqmiX7ienLorqao9n6+tKcrmpTf873WSvDUrwjhZATTqTNMRQJgdRbc+VryLPpvm6QjOLrgXjMV67NqHzS5QUC5snIxWn9ka9cp94KRe3DT/G1/lZexdbXnK2pkyR5ti22eiGlL3V17L7mknmrD5u0Md7Xclv5FF/3jxofwskXzausMGTiadKLTHx6xFdHvj6BLtT/3fE12lxy8nFOJTPwFSwsQ87h7CvPM/g6hBz9JsC2wim+HoLxMaRK1VQnpwn0ZGPlwfow9ec8Mb6yG76WMsccc2JzYTGbN19DjPPZV1tCKLDKmm18fW3FU3w9AuNjWL1M2FVjwEeLVWT3ga/j4iDHU3vTMwCXUKmtryzEGOYSc0q5pBjsev6aPD/7atqw3tlIeevOWLSV2puOwPgYJ60ZiAkqRq0sZ87p06Wvi5Z2RJKeWNVZJUP9OU9sb7oXX6MdcgRfQyg5cJbLpn0YMoe1vWnrK8XXo6AerhBXJ4sSkLZK68mauiYp8NVCHl8cG5FZuKWPicjoeolnxde7vnIzZB6zsWGOJUSWM0sbX1k+x1d5y1c0lnw9APu4n476cx7z1d/yNYVsYjY8G28C1IlR22tffQRfQ4nR3OjQASi+HoJ9+Ertww/5+rr1lRXLSky2GB6Z8DGyVHKODFLSztaXyGxh0uToY65w8vXIkK8H4IP4KpOXjEnPfJ0KSEqWEsOU8DUzQSYkGWRA1nvI1wMx7gLqz3k0vn4f8vXIjLuA2pse81WKa7xJGGNthcHc+LaUvPB1QabkmWHe1FxW85jlNfUOT74eh3EXkK9f85XlUle1G+UszGHKYYl7E7LxsTCbDavL0s4Jz2CjJ1+Pyz7OX8nXb/laAreG1aUhcLA28pyTGUL0ZWY8WOx9tdmkMNuSzR1fX8nX/bMPX6k/50OqSvX39b6vmbWljDevZ1PXGDMMhb35mpPNxgYubbDvfW2lU3w9As/wNbKXcWZ8vOB0gkkSkzTjp1D78CdA8LsZX9Pqa1vKBXxN4KwJIdvua03y5qtI0WwumKD4ehie4avRHIegWHlZeNV10ZNctCBfnxBfMQS+invx1TIvpMm8ZAauspKTCSXH7mvOc+HNV5/8xlcoHCbk6+4Zn+TrycR3a0avU5VWajN+DPXnfEb36b6vIc9cSp4NxtZQYo7e5Fjy3H2FNegrizFtfcX/D6g+fADGx5hPbymcnuY1B+283hDXKAXpoiW1N32Truv28uF09rVEK32cE8/WxyHkAL7yGHL3NdqQm685WPEOiq/HYfycpLjSWryM44syi15Oo120VgbyeE0JpnnNgmCaFI6W6J120/gSsWqsPfn6TbpQr+xufdh4L/xcmA3cx8BtnpPJ1gzD2deUB/RV8sC3FyRi6eTrAVDjpzDtPDdOzdU9p6QcjZ6sFdqMbRTESZ/PX72W1ij3wqX2dkROQnPy9dvxdevrtr2J5RznEH3MBl4mWxbefPWl+SpMsOTrcXnIV1mnVjPw9VQVdEudjlNNT/qlLi/gK2YLDKhyrSGfJp2oP+e7dJ0+iK+Qk0KYcyjszVfjy5uvkvf4uvVVsNcuLB+InfOQry8wgxpuN9e0c1R7QkHH1HyFNVgDPq2+Tpr6c34wvrKcuTWphGhtMiEyk+e0+ir56qupvqaQbclm6yvF16PwkK8nVE+BlKhnx/RzU959RbGRs6+8riVfv80rCFXxW19DyMXG0EZdS8LHGduIOfoqUijMZssyB7WThw2jvzGCEx6BfN0/4yO+4mxZffUGiZ/52tdQf87368MY/7amJWNMYsm0mReyTuqvZMb7uuhNgqRMTMiEy9Z48R7fSqf68AEYH60Pn5wAKdf6cOGn0U036sOerfGVzXT98PcBnwAvvo0UW/wrQPXhI/CQrx5Dpum+nhx2rIqqsfykvWl+ofHWnkDT6ZavMiUGYRZDK0zrzBgmfQJYm3kGaSlTkkImti2kx9dXiq+7Rz3iq5bG6+mEUqK6SzJCy+qmc8lMrvkKWwqTlHsZrV78WJGak69PqQ+jT3IbGkuOUppcjPAcphKHgzEmA9HgNNk6LZbFwgQrfOsrxdfD8JCvdmmPhiyTGQHoclUJn6IjtBZ2ij3L9AsrTlIpyGZTpPtznhRfb/rK8jB7yYdghS/nu+nqb+JlyNyYkDm3jIcSczY8W2myveMrxdcj8GB/zteh9uHn+Spu+YqDHwaLbcVR+DknVqL3JkSJEylx3PCYrcGLKdg9X6l9+ACQrwfgtcHkTV+Nn8HXlOdcpC854YmqCVFImAjheeuRZbmkucitr4zi61EYd+Er9ed8Ob6GzGECNd3YxhzGDtY3X72X3ddUXzFzQb4emPFTsFPmh6D2pv8UX8UGhu1JeQ5W2mxjToLNTdjua44xeTx/LV7akHMSW8jXwzDuAvL1676W2eYYLARQno2QCYXtvg5hBl+HEEKUAsdxEls8+XoU9jF+E/n6ZV9nDpXcYH0p3gYuQNhs3+JrSUx6HiLPM8OHTIotknw9DPvwlfpzHvHV3/K12AAvy3LmMUSZElh6s71J+BisoPh6ZPbhK7UPf93XFEK0bUy1PBRWomRh9u99lVhX5rd9leTrUSBfD0CtCsPvTV8jC4HbYE2IxuY5lWztRXwtxiT2gK8MfP2/gdg54y6g/pwvx9foczY2Wwv13QLJihUyNV9DzjE1X62Ayf34yii+7p9xF1B704e8MvyRYoO0SRrrmU3JeiHrxFvOjReiroIJrz8+WSbrS+DkBhLLp/h6AMZdQL4+EF+Zv+makFKI9tsmXrYMiRPZstf8m77S+etB2Mf5K/n6WXz1r6/g4c8gGR6BUXzdPfvwlfpzHomvz/CV4uux2Yev1D5MEOQrQfwuxl1A/TkEcRxfqb2JIMhXgvhd7OP8lXwliOP4Sv05BHEcX6l9mCAeYQohKqXkV2ecLc458V/3YyHYy9lAEMSPUqxfnEgx8zqXpgwEQeyREJNwi7fz0Mkc3SVnCWJfnMNq2EjMGTlLELthE1YHcpYg9sgmrJKzBLFHtmH1EWcnN6VIDb8E0dhZWN0QIjlLEMBOwyo5SxDX7D2skrME0ThKWL3jLCNnCWKfYXVDiImcJYj9hlVyliCOFVbJWYI4Vli9c1jGyVmC2GVY3VLIWYLYcVglZwniYGH1nrN5IAhij2F1QzHSLZ6cJYidhlVyliCOFVbJWYI4Vli946wlZ4k/xYHC6oZipVLkLPFHOGBY3TCTs8Tv58hhlZwl/hK/Iazedlb+jv9/COIXhtUN2Xpylvgl/MqwSs4Sv4/fHVbJWeL38DfC6m1n6YE9xIH4Y2F1Az1kizgKfzSskrPE0fjrYZWcJY4ChdV30MMsiX1CYZUeskUcAwqr5CxxCCiskrPEMaCw+g56mCWxTyis0kO2iGNAYZWcJQ4BhVVyljgGFFbfQQ+zJPYJhVWAHrJF7B8Kq2fIWWLXUFh9DzlL7BMKqx9CD7Mk9gKF1Z1AD8YjKKweC3KWoLB6LOhhlgSF1WNBD9kiKKweC3L2j0Nh9XCQs38TCqvHhR5m+begsHp8iqGHbP0BKKz+IujBeL8aCqu/EHL2N0Jh9TdDD7P8LYSkKKz+CeghW8cnJOe0pLD6VyBnD411uiIH4g9Bzv5/YVLPwIGx6huQ7EeEHmb5z1Hjs5hP49dRA3FM+kO2okvUbnEoX8eRfP2jZO6V1s6QseQrcQgmXXFxIMhXYth9UwbY6tRtqCmDfCV29VU4zfRV2P0fiXz9VdBX4QDQH4mgr8JxoD8SQV+F40B/JIK+CseB/kgEfRWOA/2RCPoqHAf6IxH0Vfh/7J3ddps6EIUtwZK0JQ1/wrz/o55q0IpXQurTpsQRMN9FQ4rxhUcfZnaQOA7OvkOb5Lwa86Yx0f4RWqnRbjAm2A2jMVGKVCni6wF4V6TBgCFtrQWU/SMU0NgNgLEbGkBJkSpFfD0A74pkANepBLhRfL0c4usBcPaBBtKwaju/+To0zWDtY4tZmtGubHwdm+bN1+HtgJG32NfyIilSbYivB8DZBwbQNltlwlJ8XVr8ol3KtTJ89iw4AC5Y5r2vMe8itfraAeiypzoBMMPq69uLpEh18c5XZTKdauwW3q3sB95HHtGYnIaYJmcW66haDxNfdytSAtkHrFYCEgHe2hbwHnCDjUDyDtBbXxuA8utDPnw9tOPvbXKAH9jX/I/LxyspUlW889WjEOxneHi7pdS0DAprA6Btw+/RGL8eJr7uViSCsw9YLU8xq0rW8qcefbdYg2Tt4E3c+hqSG+1I6NhXbYeU93m4JUsbVl9n0GCtaYMUqSo++mqMSQCaL/kavC++Lt5Hax0f0PlOfN2tSNj4mhmiB7LMaOfJ/qIDUhcHy2zzpiYQjLXgAkUgjEDH395m9TUAroujFKkyPvpqS5RRAogSXAxvvg5vIcbyllkoTipWiq8M+/qAk5CyNYqvXyySA1lmePO16Rwy1s5A6VobQsaMn/iqW+J9JR9mQfly2DnAr74OCRnfSJGq4jNfdTnBRqAtwYVvVl9nAtqR44xHZtEZAGrYXA8jE/JhJeQgDjYUAXBRfP1SkdoiXoM2rr4uBDKh49pNxpV+ZlSeU6itrwFIKrp3vs4a8CajSt40BM91GqRINfGZrx0w56pS/qnAGzTxbrg1k9Als4iPzEI99TXkA3h4zEBqCWjE168UKQJtdsiwlWuriYaLZocmjrYJgLGL1naICdj6mvj8Sewr+xiAWK6H9VLy4VFHO+gWaKRINfGb/nXhBkbHpQFSYyMh8e7ZDiZbGlIqQaIFSNsxAeNHXxuH1Azs60DZct7l0Vq7+E6Lr18tkg/Bs2rsq+IPnACrAVPK4uAaO3i4h6+dysx515AlZ19hFk2gXCXSuUBqPd5wEtUBoxSpJj7PhyNrF9Y6Z7G6NUKk9eqpK5lF8dVYfnn84GvpX9lXzb9bguK/OSg9SP/6xSItCQxNpX+dADgQsGTLyAE02sj/CYQ3XwsubxKB4DlvQubR8Lrie0P8KnRSpKrYnLp9a1TziI0MUK7CIotni6DRE8C+8j8s5BNfAwrGaj6QukF8/VKR7DAnQuoWrpgP1sYEpxpO5IMnOLOUTtZ5/YjuC8YOysHH4P1gvY8hUYp8+s0HdKPN2X5YfyUfpEh1se1fGdauWX0d+Df2Ndniq+IvyeJr90e+epMJ1i4qsbkyFOQmNGFnX2cgrto2efdY0mOXm9Ch+JrW1+knvk78+xBznBEbO0YHJ0NBfBV29nUhUGwU0PJu30wp7yCkYVAo98h0zZpZbH11umFfOf/I+8NASIsdHbwMBfFV2NlXG8GkMe92AFjSrmQWbfY1lYxq42vLHS77qsF43s/vI/mw+Cr801DovH/bjt4vNtMYR0kNvFtpT2nOmUfnyOvg25JZkNdrqMEHTuV+xMaTm23nu3dvo1tHzkwyFMRXodqhMMhQqL9I4mvtyFA4AFIkQYbCcZAiCTIUjoMUSZChcBykSIIMheMgRRJkKBwHKZIgQ+E4uH+HfuH+EX8TniG+CrugWzcv0ZCfx5twaMTXs9MH5/W6NSnnuqm/CYdFfD03S0fdcnswBk9tvN+EYyK+nhnt3dxvvnB155KabsIB2SXJcE6ijPq4z67Vt89ZZk8mypXx1bgrUsuc3CxXWJWxGOrGp6XjAGq5CZch28qiLoq8nK3roY/ehef1eARQWgp3CYqtBW3ISE9UBXdF7fTHLw4ttUEuj84O2/rxpE5Krq9+mslwYZ4gAdTlYFs/jTiStLI/SB9T+lJjwgGU/J3nnNyVK7ZumTpqpZX9Ge7qX3qSXgKoU3LvaH4mZC+t7I8wtaTu//oeKkkAdSqKrc/pg3fSyr6SPrj/SeglgLogz2zdtrJS9RcxdmSWHeWfOueU3Gh8dH5nq7SyP4pu3f+EfBJAXZC/s5XpdSut7PfSz87r2zMkgLoiS+ee2fq8lZVply+afrNFAqgrshgXvly0UVrZ70F7rso3c48t+SCn3OPwO1ulld2D/affFCSAuiRs6w7NUEudtLL7FYVe3GWMEkAdgX1sZe4hOVlBaKe7Dr9QlF0CqDTLSbdedrSVGZXzQS6rdpt+83qmOZGRAKpK9raVmQy1Uu/vnH7zggBKllqsj8m7ePsEaWV/jD6kVEVsJ0st1gbb+m3cg6wh84VmoqqbT8ZZllqsBbb1e1mklf0rptap2uTotQRQ/8NJbGUmI9HFn9EHV+sCWbLU4lPOY6u0sn8z/abm23jv8qyPzzmZrcxdlkN9jvYH+HwkgPoRdEr69lJkOdQ/mH5zDO6hlQDqwVltfWtljzIuX8diqKv5QliWWvwd57ZVlkP9/ANxRwzQJYC6nd9WWQ51+1m0h/2ekmd9XMBWaWXftQdHn+Qvz/o4v63yZI8y/SYd8UJYllp8CdH5yvS4dCt7r+uuQwmg6qI+Wy/dyk4tVXfXoSy1WA2V2nrRNWSqmX4jSy1WSc22Xu/JHpVNv5GlFiujdluZ+1We7DG1B7jrUAKo3yC2XurJHhVPv5GlFiugD67qCR/XamWXyqffSAD1DLH1M3p91ol32rv5tKciCaAuaetpn+xxP9D0GwmgNoitzxnVqVrZxVB3shOQPOtDbH3H1J1kOdSjTr+RAGpFbL3SGjJ3deDpN/KsjxfQz+40F19Hf7LHCabfyLM+vtlW6k51/jrucqinmX4jz/oQW0+/HOq5pt/Isz7E1rO2sv1Jp9/IUov70Z/Z1o/LodZd4cndTzv9Znfu13zWx0Qnt5VZFN9927uav2knwinS+ZdRnvVB6jpnuAlor3H5lVtZRTTfamUiAl32TqavsswOoKuEcxOAdLsIfSTAtZWenSZCFvYiA29HPH5BNV847akrEd2uQo+M27O03jkX+1698sfU9+bZD3M7DDt8fAHOEVX88dU4RJw5Qmm/wQxn/2PvbLSUV3UwLNBFCBQ+kO7e/6VuG2Kr4+90dIbWvmudM3zSugnkkQox/IXi9T8ss1uMDPxYMVXeffW5SAQwSxjaN5ABFWpBvP6D+rQOXh9IfujQQoVa0poV1Kf2E3j9zI/itkZ/g91yVOOgwmbjes2u8cNztxzV2H3wAc8QID50aGtsldgtRjV2X/iEiWat6033Japs1YLWmz6h+2q08UN5NZW2ajH6hO6r0caP5RUq1IJ4rfFZ8SN43fZz6tGC9nNqHNRtP2fFQwsVarcc1Tio237Ois2u8cNztxzV2H0fweu2n1OPtv2c+dr2c9Y8tNt+zgoH9SPWmz6TV/OdVkUp4Y72N2vlvraxeOeg9rK/0X0K5mi6by83Xj+dV3heDlHBbdlrBioNAMbWNhbvfFZ06OCrpABQKGCO6D4VqIc3Xknbfs4zshnDvWpz9cXv8rqs/ZyL/rvOK+r5vCbdcj+KAA+17eesmdf2G7wqFNZHuK7X8bqs9eGLQX01r1M/PqkPWR/+TF6/sz4ccM+u2AbV2Bag1bZxEVjWKG21pLJrSo32XrdgrBqurGgs3jf3MK+xa2zTRSAljUZLhaJtbEMdFIUtXcX1qrM2pKHcB2u1GkpSWxtUmV+D99qBCOBKndMJoOVOPtf2+5xVP1Y83apoMkS01Fcme99BwBwatBGKrPdWG3LWBrO22ESwHq0DY3zWBkU9Y/F2XjU2wWIDpCOvBhvtUQL0h1Iw2EKRQutD8F4BSO+19kONwxy09z0oFMyrNSCxg4NMBu7+5guw237OmnkVz7eqxQ5AoxruQhtjlKgjgBsxtEMpZuyhQ0FXiePz8HBr9Aae0bLWm27wmjDAQJQCEj8PD6juh2IzlKLFHkgKveIaM5TS0InZxNLpauxHawqpINFBi5r+Yx2c6VPWmz6TV/N8qxpMAJL8UNDMoDHBQTlDkfWRsHaQqRSNOfLqga6vZyzez6tVADHCGa8NGWchUYnnSuI1lB6OcmCzYJq9BIAEX3gVqKjrh6vp7fLG6yfxCk8qoXEHoY/sM5BRDzIIRdYC+x5SCRqc1pvWyuut9SaNmIOEc14D8yox64Ma1EBSwx3UrQ7b8oKGFtFrF895Lf+KnmZiPcjjZ/K67efcV4csx7ySw5CANPKqgf1Qz+J1Wfs5t3iFVnvEnIA0rg9PvJIckFShVKB0SIxHuj4YRC9HXqf/a7G97H7Wtp+zZl7bZ3nlZ1xQmMf51cOZbIaD9ijAZ75lDq/LWh++t58jdSH0gtc9Bhg1za8BU1tKii9QHeavvDqUjYnUu1e17ees2mwDT0miBpJFWXjlb7HRWOAaflWCppLCZv283vj+2nrHzxqkL7xGPwBHFzGvlhfgE5UgYBsN3ZsN8+qPvEavUdA1kv5l/4pXJUkJ3ql0NbjzL/dzJGkf4Z1SMsKoGbySd5Acaua1976NqkE38ppVdAOkCo0EaYZbGnTye7yuYj8nei+j0thCkTdOTbxCh80+tt6nI68okmqGqwNqlTq0ERrsUnKoC68aO0m8DkXqfkXdb9FdjtXv8KqxqOnhfZLo4FJ/ud5ksSi8kVgm7FLiSV6jN2MJE7/bPuNBAljWasSyH9gaRDTtUEJs1rzedINXkAYPclP/Y3fCK3QeEY2EcX41iDTbxoAH6QTQWyrFwqtEtMyr5OU8Sd3fvb/7zC1eOylb16C5A+waeXUHdRntbGDn82qe5VUlYPUqJsVN3bcywljRg5KKr5fHmiQVqJ5KCm5pVbxGFakHpIwwSsnEfah6KNX7qRJFHK9OUip+uZToPurHvlSMY7Hnm/6KV8m+peG2VshrGeUGBczWfF7hlYowU4vl9R+8QOqnQ/+nvELGBBQdabsIpClsMpbITAcUV0m3CShqQxTWigQceyno5iSO8ZhUe53Xv9zPYV4heeqXYh1L6Eh/wknEqdKSjS/qhArcUycRpcNroQcOSHVXed3yrVUSW/tiXttf5jVgC6AxB1ueETngg9fWLNpAsalsJVooEj4bnTHTZqEJGk2ib+W6RGpGg03w5oTXOtaHLXKhQUXW6YzNOC0Sm6gp4lQbDPSEcDbEtgTnapgiSjkMlQJSlcehdI3XLd9aJfNrbx28Ur9iI/PKMZEOA5UCFPlj2KQgcgV2l7ySpzYoQaGNvAVhvQKI2UcQ6AD6inkNKNm6cGxkzzGiEmjxMDYoL3nFMFiI8SSiNBrTA/Q+c6iqus5rrfmbdstRjd338v57yKsAixGmPXkOndY+gqEeij5f4VUW5+YSND4qAp4CQjLd2KGrbD/H4tT+E+sA2ATag4s4Bg9d8pq4fxoqgcnQjgFusczVYVG8Lns/588VfnN+ZaZM5tcUkBSGEjbJi1EWr/CqxslID8qo2mOkpgBsoOb1JrI/Hq3zQBrAIzsl42nyJa+ejT+JKBVoh5JFx9e5a7xu+dbWyeuvrjdxwViAs3khG0LxKV4t6qLk0GpSyzeqennNmNRkXVH0luy6x6uBidciENhokpR3eN3Oz9l4fQGv0fvIT6/HHw0VDskzfcEz+zu88i+9eJ2KRDdWPb8qtKMxxgArYDJ2DCiNaO/wmj2wOmy51Jcbu++tDysJ7xVn/ZNq6bz+gyd0N7Xh0nmNGsUx/i35DKyI9DpYjk3VvBgjr/DqCqXZxIg5UjhJy4/Wodb9nGQHxiz2J8G6VCwtNiXiFAVIMs5d4XWKKN2XN9Be8Y32e7xqhPeKP3BQw4WWtZ/zLK/WwO/oN/dztBBCG7SxREcmmVGeVKMiBzYySuMVgEGnWu8veY0Zu6Q0Blo0Vsl5EymoNXVY4fqwOEh7DGRdZuuOyugjmdWoEnEa0UvlvL/kVU0BvQ2GPnVoAdqhAwTe4LWtktfdclQjr/Cr8cO5i3CMjvQtsKaJtB1DL+VQ6uwlr9DbY0RuFPSeim/0oUJeSdlN1mUJozr2aTdUWMUl35pLXkGOAb2ROrNJ/MNVc2d9eOP17d9f18lrUgf1MOo0APPsm+cYehmlTND34/2RozdL7GUaL1JjKVL1hf5yP6dXg4DF1k1yKK/ZASqN97Px533WX5j9kFeOilLMaxKW/kUvl9iq2NmS9Y8zIMJUWcSXtFR01uo+OIAgqIfD+KZp4rXT9Hb0h7Su/RylM5lLvPbCZisSvXzsUWHzlORQ6l5YK2KvrZ06lyYbrRrrxqi/26om31rwEd6livPB2Axv0/l+zhQVRbwm43Vo0ERI3odgOOufoKx/saEoMw1TZVG02ISMgiZpK7LxGnix3xoON7No4siro1ujb4C1rPUmA3fVoqdAu1PjcwTlTShRdxa1oH4kOaQQPW2y9tiWAQlUEniekvKmKskHo98QDl8/r0pbdPAuXeznGN9Tmj7iNaDkH6V3QymazIvNGhU4FF8rSbyep3EPLQbi+oxXjZIukiOv0dsS0LJGXqM3CagnivGKl1UF9gDJN7x42GAceY0QDYayohpLtkTj+7OUlC2K6nnN1NIntCpeo/fizVbDpONerSReVVtec+BoJSDBSdY/zoDom7GS5TNwdIvGnkqnvPKbOnRHXtmLGx+Xyeu/B9Or4x4l4yWMAXhdBKCY2UZNvUcdA9xz3o4Dgm5MSakIBlM9r+/Vlm9tkMMWSMQrxLYL1qODZBCtUPQ6Gsr65zmUykyVpB4NVaA9xmj5U17pTbXFU14ldiVdL2tZ+zk7uCcOjJ2MFzojSlAe0XaKptYpjyKxzL1PndaV2xUGXky1aAd5jHBLW761NfPanvMquUTzq0GfgyiHS1hEDCdZ/9BrUpgqSQqzJonjiqg541XSm4ZTXsHks3COZa0P3x1Upmw03qO3gb5nJOo0ARCpRy3xd8GrOPKqv6akTHBTW761VZttgDU+vcmWPCZjO70GsTXse1JzBkTWWWXEBlgNRnrhjFfj5fnzcHHqnGGhvBq4J44za9vJ+DJpcqel8lDMObAueHU8ICiYV+sjPNJ2fs6qHysMjEoEWzSZPAY56ZKD4FPxs2PWv8DrRsrrqRJI2Sf2sA4d8a45vDJ5M77pGa8KNXYwak37OQoDR5xZAxwc3qDkr+sBFQHK31MveeUTAcJJSkrHI3RTFeznyD1cKEkFrL2k/3EOwHs5EEF1olNwqRrWm6JU3++M/sLUy+jf6EQn4You9nMCil5pdOQxBltIArGjEKkojYmJsv6VXxibNlL4GVf6CKR2DNCKxrep9WVJSSiZPU8xfcAzXsEiJhi1rPUmA/dESQ6pw6yhnImgyHiHWiXpTQm6Uxb3V3mFgEEpgRaY1+S9G96vg5uqYL3JWLiQRAEsa05OFnHuTkx/h2g8hjp5VSi+3xnuwtSL6CTpB6NtvGG1Ob8T0YvyDrJEWg1ICTzISM765x1MpamS5fwxNWKfEVGjPpaE4Te1EvUprw4bWCmvUVM3FQdt2fgAEErUHb/mW7jOK2dLjEdeQXEE25J5FYG7QyfyAs5wdO0emyA16D6JV/pUjwL1jaGFM6USFpbUGFCluLgHOM/6t+cSV06aLlFSKdTlYnX+piXrn0plXNrF8voPHqgvvdGfGN9zFsQvPcrBedz7dBkPCL029qmMsGheeY596PS8e5XQwoUq2M95E6/8WyWL8Qav7xXx+kCNiTBpWfs5NS4itr/Ba3CyyY3kUMlMoZLGikguylUUgWlsSMRrZ3NQ5/OrajBrVebXvc65HFnd2fJGbQeD/FVe/2xoY4nEZV5bfQy/dQ0ne9xrjiFlXjmslExy6ARfxsG/zOt4OvdeKKDX0tWh/XNek7bYwYmWtT5cI6/wGzYag1pkdBwqKUBTqKRJAMYj5zhU3mtBEZgSvQ/ae3X2/bXwKnGgHQ3Xa2xEgxZYDkVNvFK+x4yh8CroUG3shpIVuliaQ5jypRnLYaUZ7WCMLwGq/KL3svDaHk/nLlI+w1W9e9W6twLuy5eTDRbKa52L/r/BK7qSyJBDJVvUvB3AVcbH8TfncuBVUTjXGa/F6Qdek88RQHn79ahrd23p5e/2c/jjo0GlUPCOSvIWwDe8TaJ9HKcp5tUShw324ND0JY0kp0Q0pvBqTTw9ENj7Ld/ax/AafoVXsrwdQyU52Z/FCCYD7z1PEZhyPJL6Oq8cWxcwRVqHI0Zv4vp36028Ba5cGpoe5Rgf6s2+hOpqbOPYfp5fJQDZO2XSIDaZcOLVS+C7CFcJl9ryra2TV/MbNpoGeNFFoGJ+eV40GoAnizECU44ZO6/zGjDbgwxKCIhGt7yW6XOEqngd+AM2ncANjUEzgMet3nv0jevPrk/UDcQrgagxdmxw2T3l07kTkG5kg9nyrW28zudVwzVexQmvYorApD2Ae7xqbDRJAUhtEI0CKFV18erPeNWIpum8gZNW9yIjojvhtaVu0MTrHgqvAq0mSeIVlMi8sXczjUO153EsiNca15t+h1cLPImend6tMfHU22I7hp9KupCrb8yvezgqAijNicPtHq7o7/Zz+GE/leNBHep4kh5RBSYtOe+BxMf9Kn704Md+66nE0gik3mEGqnbzeH19Xr/ohJBwV8vaz9k9MkXBK9U70e3hgdpf4RXZB89O704liC2VL7QcT9kQr5YT4V/ldfx+63vpHced39Yfrg9rsrbDtjxaSJppDSh/TNZqc7ksjryybZl41XRDM8aaeppfOV9DNg+HFu7o+3mHZLhZI0pUlPGYe7ijZa0PP5pfUcN35NzND7qSFRONf/BL8F9bH85SCdSnoZJKZmyHKrtXAQPAFIEpEYPaW5TnvEbMrh94BYtCqYCa4ljV8ajr1rSV8aq8kan1OZb5tUlRGqQPKZdUoMeNoFLrLYy8JjQKlEbK3IpdkgO5oPlk7jK/auz6VGiG3t6i6PH6sAjwHRl7z3EjPR912KyHVwP3pR18QwrFvZo9ZkX5fn+5/64/FzYXoZL8Bcw0lrMdyjECU2LgI6nPeAWN2BKvUSO/395wVCzHA13R3+3ncCRu7mlEoqamBlRjpCgbYvsTIhwe1JRjwYTnXhqvI16jZfNprO0cXlkv5JUTmVhMcFufvJ/zgNeAcjxd6c/3cywo2cOos1BJrpqSBHI5woV6xS9y6OX0RqzK1psOYptU4qZyGKni9nOqQ5bqi+k93RBVvDyZOyk2up/uuSHxzPzqQtLZOtiXKLOkpbNZl/+UOJQkrY4pnTvt/fCvVufcOKA7Q84iQtJotNx3Cqa98FWsNz2eX0vonmkkcK9JrcQx9E7pXHrSBWltR+E+ELvGlF4Nbq+N7QDkUJOkgOlbThXrTe9Txbz+hubt53CSNG+yNhh8o9H3oDD7ELzfA6gSedZRpjDvQ+FVoA30arkzo2VegaR8ho/hleJ9sm+0x+C1xUxdZUTAkomN+kxST3kviNdosRHao6Q7rTYomFcgSdQbrx/LKzzBK2oAhdgCOOyGEqFqAfJQihb34DAnSDSKaVoKpDuhQUWOW6SMl+vh9fF6E8fnOaTYWOoqw0kOkx+g7Uvkno4xKhRUQ1QGvjN6f/qk3HqTKuBVB/g7bfnWboh55Q3x4jaqoBewp1JxLTcegD8FaU2L33LiVfkHuC5rP+cpXj31nP56utNxNaXDlkBmKpMceIzjnaDxhNf2wfL6lm9tzby2z/EaGUXmtYPiesfkTmjJEfmiKUiL73QjrzzZ3tWy1oef4jUfUWReOSbtuLIqUXBPMZWSElPynee8Rm8i3NWWb23VZj/z/RXhnFcHd3nViLnpMt/5hVffwJp4fer7q/3Cq2IKwymvMM6vGX3Wju/8wuseO9h43fKtXdUtXgN1GO45aUCP+pTXloO0rvNqBdzXuvZzrvA6xaRxlroW3SmvgZKJp+u8StvCXVVzfs479bHrTWIWrzkCxGyOv57o0J3wOgZpnfPqNTynZa03zeKVs0LCnoPwUJ3yaql4fX59rE/J7/+ZvJpZvKJW5ZjZDhuluoFf5jV7tz8GafkzXo1xilaH9cYrClVi0hoMFITHPVXC8zSKGJ3H5pxX6yIF6HUbr5/MK8zgVRtET37TeURsemZy+IMBxiCtU14FogDyu1Xx+m/W/OoRjRxj0kLkPi7heSlThklr4gmvYBElvYHYeIVtP+cbUig4pmqMtJqUVLoWT8Y1z2hZ+zkz+s+hm/ovlRKLw/PUtYzbaqh5rG0/Z828tvN4hTdqWevDMwbVoYPnVEn/1ei4H8or7MzG62/OPUvktcqcBtt+zrPqrYPnVO9Y/OWgtraF92nbz1kzr1u+tRUO6kesN30mr1u+tVUO6vpt/FheoUItiNcanxU/gtdtP6ceLWg/p8ZB3fZzVjy0UKF2y1GNg7rt56zY7Bo/PHfLUY3d9xG8bvs59Wjd+znv1bafs+ah3fZzVjioH7He9Jm8bvs5qxzU9dv4sbxChVoQrzU+K34Erx+7n6OMMRZO/2gAOeOPzxHkzNtbY0zgP4vaz9m9qvs8WnhJ971+P8fCq5zE059XWPkb68MvG1qvaxxao437t9s0S3uDJu3WrgU9OL1Oe1+n2WbXb8TOVO/3KNcPbJ2O+14lI+s02wx+p0272zRjTHe4a1cPbJ2O++6hrdTsQ6s2YmfpPyN3B153zvy3W7XqdNw3D22tZhv+u7cbsd/+CCZedy6vG9g6HfeduGZXrdmHVm3EztB/pbNwt35g63Tct+Jar9nUqonYJW3K/J14TInX9QNbp+O+Tf9yV7HZ3KqR2LwR+ySuzOv6ga3Tcd+GqxU1m/21VTJvxD6HK/O6fmDrdNz34Vq12YdWbcR++4lJ7EZeWWK9wNbpuG+S1XWbfa1VMtv9btOjj2DmlSXsWoNO6nTc90jrys2+3ippNmIf4cq8rh/YOh33TbjWbvatVrUbsQ9wZV7XD2ydjvsOBVu92YdWbcTO+oLDvK4f2Dod98Xi8ave7Hutao3ud5tuPDExr+sHtk7HfQuu9Zt9v1VuI/YerszrpLBGYOt03Jery/8WYPaDVv3biL2HK/M6Sa8Q2Dod99Vy+b8lmE2tekTsarcWH+khjXiF6LWpTsd9Pa6LMJta9ZDYsBF7/esp7tYPbJ2O+1pJk5Zh9lOt+tf5jVjG9Vzm3/qBrdNxX43rQsw+tGojdgauLPPfbvXA1um4L8Z1KWYfWrURO2P5cOJ19cDW6bgv1N7sF2M2teppYsXHEkvrEU/y+s+uCtg6HfeluC7H7G+16j/xqcQyro95ZWDDbj2q03FfmeVyQWYfWrUROwPXm7wysAs6/euzeU1GLslsatU3ie3WFxNwXy1heYPX1QNbp+O+LhXiosw2M0wMH0YsLR/e5HX1wNbpuK/CtV2W2YdWbcTOw5V5XT2wdTruqxL7LMzsQ6s2YufhyryuHtg6HfdFuC7NbDPb1vAZx+7sfb+bwSt5wzqArdNxX5O5dHFm/6BV6RMOyqLNuTm88sf3ClSn474kU8jyzP5Jqz7gaDvC9T6vqwe2Tsd9Ba4LNHt+qz7hoCzC9QGvqwe2Tsf9sRq9RLMPrdqIvaXk5e4hr6sHtk7H/am0XqTZ81u1/oOyKPTlIa+rB7ZOx/0xrss0+9Cqjdi7oS/zeeV3WTqwdTrufHGirWWa/ZNWrftoO55d5/PKSkv/LKvTcX/6W+aFmv2TVq36aDuaF3/GK+u/hX+U1em4P8R1qWbPb9W6D8qi750/5ZWVlg1snY77s19bLdbsQ6s2YucvEw1HIKx9hq3TcX+E63LN/kmr1nu0HeP6WM3B2rXPsHU67mw589+Czf5Jq1Z7tB0d8Pr0/Lr2GbZOx53vn2nJZs9v1XoPyqJItVfNr6zeLxbYOh13Pq6LNvvQqo3YGbiynrdz75faJXU67jztfVq22T9p1TqPtiNcXzm/svZmocDW6bhz48EXbvZPWrXOo+04Dvzp+XX1wNbpuDNxXbrZP2nVKo+204zr0/Pr6oGt03HnZS5dvNk/adUaj7YjXL81v64e2Dodd1aA6fLN/kmrVni0nW648L35ddWLTnU67hxcV2D23Fat89gd+tnGW+ZXllwgsHU67ozMpWsw+9CqjdjTOPB3zq+8/7cw1em4349YW4XZh1ZtxM7DlefX1QNbp+N+G9d1mP2TVq3saDvC9fvz6+qBrdNxv7unvhKz57dqbQdldXlG++x+t3pg63Tcb+K6FrO5VRuxjnCdMb+uHtg6Hfd7uK7G7J+0ak1H2xGub59fWe2SgDXe5FpH7TlpXTsZtbZqPHanNgdw/7N3t82p6lAUgEnCZGclBAOJ/v+femWz2+q9tfcclZq0rA8d9dAZp4uHlwA5jrluvn+VBFfxkca/EoG+aznWNiCj1m+1ip0qW1/v3uH5+d7deV1/gC/igQZvK/2I7duQUeu3WsTm6LuKcv8JpZ27nw62oM41989H/VuRUeu3OvqIWNH/3XY/124cup8Odkbp2s2Za0My6vxWR8QIVHNjHnO93+tPB3uMtQ02/EVKPrQkY7tv5d0jiQtY94TY7la2vwdfvNYN1ruHE93tPNpTnaP+P9Cro0czGXo8brNnmLf32qlvAOvo4aQqerqTa1tHnjV7fUrcNly39ypgDw14raKnezK4Y2NnirvXew+Gt/cqoyG71xrHJXavVa4Hx6i7R73WDfZn9HQn1+ZGYnevG067L17rBvsjeronczy1d+Vk97ohV/FaN9if0NOd4xINXuncvT7CdXuvMgfN7rU+rrvXytaDowtdDV476w+71+dmirrJO4l2r1/OEFKH187a3euzp0Js886/3etXXGvx2lm7e31ijk43eqfu7vUm19LV47Wzdvf6RK6h1Tvrd6+3ZwipyWtn7e71eVMhNvskzMu9nrSeU3XrwcK1Lq+dtTV7nbTWqQ2vZ67tPrn2Yq9DBoA4flStAfCvWgD2FV6Fa21eO2+/yyvWRHui9wRA060YLzU24PXgVcNPmr7W6wiJT5deYZYCX+f14MeuPq8Hb7/XK+DSH3mdHNb09Xs9c235yfCXeh2AGKY0OEBdeQ1EBq/z2tuuQq+8qn2T194Yo3suQmJCONGNFKAkMg6Ya/d68GPTMzm81KsDDK8LiOOFV4eeKCA69prCOIZE6yurhuVlCOZUbDk9vB5sf6aoQpX7hv/xarkW3owOQZtRGfFqilWMcgizHstESxSwvAguD0tNw2iLWZEXO3JhpxCmMg5E0/LJVz3VORXi7vWc+X0HOhFHvFpEIgvLXk8ZAPKJaMrvh86AjQCiedDr9ly7Uuo8mPt/r3II7NFHYFjfBCwZeVvrARiSBV2QLqQwLCgLljjDrfaAJx2lws96aozrr/MagECSS6+8akQE9poRVYnIfLKrQs9rAgAfLDBu4NX2XbVeBez2XqP3Pq9/Xw/Au8SlzEAOlmtzvBBxkmOXlne8y68VB5xoANxoATeRBpBzmCJcURH2Vk+Vzly6e73wat2SC6/aQc2AcbDMd/2Q5hKIDL/H4jdF+Od7Hf2hYq8MdnuvkhhWrwMlYq8WMRH1yHIuk2jNqQdn5KoKkcm9Joc4ccuK969EjJ53u+lWT5VOhbh7/fDqsUTc6oWmhS+ItHgtgAohAIXHPOw6NLVu+fOzvUqlNXvtjll9g9eslBozoLgeKWsR6EIIPbB4zfQeriYCCFQAI4jl+CfCk5ZNMxBCGD8banbNcf11XjVgeeQieEDcstcAeFj2qiBRZDKALPtXxdCf61UqrdvrGWz5pvPXlIFEHu7Cq8SQQ/+BdTaySE/q3auRUX/HXpmoh2S42VOVM5fuXjkRceIXdvE6+nPYqwGAIPtXBL3EUIYbktnOq0xvVrvXM9jwDV6lFnPtFVlzEpfzFh5eEJlllTmYNK371xTRv3m1gOacPuup4qkQd69LFJANUQoRIAk362QTbuV0SPfKJEaqN/MqldbvVcBu71VHxHTl1fIGdrSBrrz2QOFFuDA5i1XkEE/8aXnzKoPMVn1y/toc19/nlTyAnCMAd+XV8gdv48Nj4ZGLiBiCA9QmXqXSFrwy2E29SpjepdcZyGUExmuvMwDnHYB5KQzexoXqAETbAzm9eZ0iYlER+ZOeap65dPe6Jo3gRJWuvAbewl9cf41y7Q8+o9/Cq3Btw6uA3d7rmK68Sgfo07VXGiKWxEGuv8rLEiHXzsUracefmE96qnoqxN2rZBqUKjpdPegxLT8MEf+gNCgVJt6MKzWQ0frtX7Sen+g1uGPXild+gnM7r1oyyRtaGK5vT0Gp5T1XIJGS1JDk17mwJRMvLa3Kgrzcf+Oa4/orvW4e9xeVtuN1AVvV83Tn1Pv86xxPNcnYvT64HgjXlrx2k9O71z+eCrEqGbvXf9i71/VEeSgKwCHwsLOBIBjg/i/1azzwYYvIiNNZO8n6MW0fOnYJvoazGzG7ucryqkajk9edn6iCJSN5Pfo60LZX0rz6ETZ53TWbwGQkrxsxO9+B5Xn1I2zyumMmoclIXjdi9m3fSPTqh47k9SVXOBnJ60bMLq4yvarJ6uT1xYFqPBnJ60bMnpVhqV59+eR1kyugjOR1I2bHCpNcr37lIHl9lpMbEGUkrxsxhzYBj6dpFTZYGcsJ49r+5PWvx7zkKturB5u8PuGKKQOzlcFItc21UdK9zmADXk5vpWpBZcTYSsDuiNkrONhAU5ZxysBsJYXrb3hV2iawP7lGKgOzlRSux73uPZ8yZZm2ilUGZiu8+5a98irvemzByapTrDIwW+HvPXzwmsAuEghXUBmYraRwvXtNYJeRdudSSTIwW0nhOntNYOfIu3OpJBmYrXA+VRDFq2oS2AeukcrAbAW/s/93vc53jEu5rWdEKwOzlRSuS6/hjCzAuXONVgZmKylcl14T2KC4gsrAbHUgZaXmBOY1erCLUzNjlYHZCv3Y3LrXBDYgrqAyMFtJ4frNawL7NzPZBddYZWC2ksL1172qLFqwjxczxyoDs9UiBz7gNUSvl+cYY75xjVUGZisxK4u6VN8S3joEREbTqIdEKgOzlRSu6lyp70lgxV4dKUAGZispXFe9JrAhcAWVgdlKzOl6q14TWFl3LpUkA7MV9pkvr7wmsFIvt8KXgdlKCtd/5VWVEYFd4xqtDMxWUrhueA3pLOl/m2LlqUYrA7PVH0bbSf1M0F7jAbv6RKOVgdkK+bxSEK+xgF1/mtHKwGwlheuG14Bfyb+Zdn1DPVoZmK2kcN3ymsDK3hGOKQOzFe5VG0heVRE62Kdco5WB2Qr4NHAkr6cqbLAbp6zFKgOzlRSuL72GeWjyksC5gsrAbLU34wuuoXsNGuz2GaaRysBsBXuRFZrXgMFunwMTqwzMVrhXbaB5DRbsC66xysBsJYXra68J7Hs5222uscrAbCWFK4JXNbrwwL48qB6rDMxWO3KCeJXu9BrEZ93OiYIrqAzMVmLWAnun9iSGVY1gzoGBloHZSgpXNWLMv7DA7jmoHqsMzFZSuKJ4DQrsCMEVVAZmq1eBOQ8PxWtAYHceVI9UBmYrMRemwHhVowkDLMwbD8ySFdBKClcgr6oPAiwMV1AZmK2kcEXyirLdF8aOCVQZmK3E3BoQySvIftVAuILKwGwFegkzuFfxIywSV1AZmK2kcAXzKn2ERdrSAZWB2UoKVzSvskdYKK6gMjBbPcuA9uGnaF7VZMWCLQuFFLQli9wK8gYhIryqsz0rkUFbdYJbssCtpHAF9ApxbUsAXEFlYLaSwhXRq0ywGdqWDqgMzFZraQweV0ivEsECvhcjLlnUVoj385HjVR5YQK6gMjBbSeEK6lXaTifIVSfMJYvZSgpXVK9KSwKLuXABl+xojIW4ocl2TupsJwUZYw3cjhJgAz9zwqwKKsMxA76N/LyAGXZ7jJlbBRlt+sFAvpUsc7I15nsxpgwN+3JbpGSLcceBlTiGfLX5NIZhriV9Gm0Z8724wZQBTOGekZlhB4qMAdeaLpkss4Wdb/e0zIy4s0kpCymjZLxth5+LtIRcoj5nRlyql4ytZYs+wBq2LebCxZQxWgWe0eJq9e2QR7DGgQ+wJwbV+mEZlTFGK5Ud/1Lu/s2zUuXWl/LvFBzGjxUUM//qj9WrPzb3TPn5dnocP9bu492GD845Q59KR5+KUYsYwsv/BeHnHwHGiGhHkEsWnENEXqOpR1pCO9BuiLU0utcm1TsSEe1AuxFglAJfoTupOScCTPL6bgR5ratLWk170mXOFJp8msJU9WJSXjrX5o+T8opNQ1/RPK0+XMncks/7Xocqo41MFfOiZlbRe0lejyaT0A602+J7dl9cjXfzOp3jsjXceOfssmrxn3LrJ1l9m+TYK6pcnrE37NYfvWGX6bnJW147a223Mb3lIstpTskHZhu21wx89SS2/U2fy3J/U8YXMLnhmp6la+ia2v9SZwxRb6uOqOSZQsXaezZEE/sxrOCceq6pswNRY3tai8c85739TQ1nc/O1VJbmHPGKv0Mn7R+OyCvlt2FK17qjh+StNeRz9+n/rbnxkzija3ourqA1DZdHPHNGuf/OZEQuozmLP5K3rPODXivbGXft2XeNf7RO1/ODdrkz+eQnNo2mu1f/U090+65LXhdJXvGy5pVK/402zGzr5fhVMJearhkuSp3tqOWevmIr8pnlah6o5IsAW8zja/04vJ7d7Y+wzzGvOZfU8qWfKR2zptoyczXdJ/sfKHf8FZNfvU6Xn9rbxi3zEJxXxHrpeM7b0Wteax78INt0eeVVXtIPhk020T29s0NdcE1UXJ25+wPl3F4fpKXKkI9x9+3XzmS0yDT/kcfxVb/j1df3Zr9i2NUZNVzkXWNdR5dcx1dnm64fuLh6LVl3femfpLN1N5Vc0+vgHzABr5f2Dx/oRnMWXrPbSNXZe2vLxePqYmOZufiPvXPRclVVuvACHBTFxQ3i7/s/6n8soAZ2stLm1tv0do5zdlxJxCnmixFnFwkalPRAMmEBiBZ1Y9gYOpMFDy5s2hC8ke769YHxYd4KZEzE60JPxHahzQ4XO6+L2RRecwaANErwyM9/q3N8+OT1Cb2H1xxglabPfz1lxQ1qWkUfTOx4Tep/SuAxiNlaHHteSdHM4A3/RAXeyPI8rxIFWZ/rCR0WtPJ/8qgBmkNSnJypvI5oZ9ruiG59s0YF3+rk9Smd93OekLjG64wO6sgNYxS9xTAqqIrlZ6bHufs9rBFxpcbn9a0o+t/DpDlEhUJlC0XG8EY2vIoHeNUYzP+EZm3XEsBVA5CKG6UDYgiV17haNiKSdZKEb3Xez3lK53jTE7o63mRRNZTGDqNJIw4eSPUiNaLuxpu8EIJvonr0bbypERODgxkj+HbSzryRp+/nxGDEqoyeeCWLirQAiXhdQhi9okWNtJ4fDWrQqIoifKvjD+ic48P/JV4lWoChMJU3F5xJGFOXUEPF1qGvS1ViLhAu4FDWX6qk2UQQBkA2NjUSSxbj07w6nKv5ofIacf0vLEJ2vM7lajYUXuPsodxFFrQT4OeT11Unr4f19pVX5cL66FHHlQING0UJpBqK0CghhrzNSwxBrdzolWobIQ71pRQc1PMrYdpv5GleM/KF9kK8rpYc/ddf8Doj8VqHpGLIoDAnABUMvI9XZW2EGxIBLbAm6+FSb7QH+vYWZcb+GOkRHpa84c5bBxdat2sFPCQragOjvcudgf2SdriZrNNXV3qgF+WG16LgaRuYtaVP8VWpgIPOOBJ1RmcU0CRD0AOadU1HL821/RUOhUJZ7jjeyJZXeTevCgfeC1F5XQxanVFDx6sKQQsbMkbi1WPQmlKVbl0KQcIu+UeAGBHdzV0wwgFLXn3zG+0pDBluKOMoIrCMhYd1y53DSy71ui3U8IhovRnpFLPT3f286oAe/i57ra3RPNCL/VlfCpKPQPLaDi7C35SEtVqWFbUdertKW1sPrR/4pRRowYc6PswbmSNtPAHr/vFhKRppi3AwO1gV58EODprc3LwlKRR4UazbMoo28dJ3enB8OAZtbgHh+JA/zSs89nUy4q3950DMz/NqnuFVpTpWsah38RqDDvZeXu3dvJ5/T/eQHuTVo6sjBEmBpG/FqUt8LjM6FQGSdD4xr8m7CUjROwW79BivMdg2iKji4tVqyfsuzomDShTxpCfrGIHkPaClnRLf8coNk5TJKq68KnqyvgwsFTl4Com7SZF74nUZUC0rr0lFWp0elPPxqru7eXXoR1SbQ9v5JzQVGeY9K/GdBMbyTu2SOCQO4ui8igd4HTDW+JVAgahLNDJ4KKI8pIojrpqJ13qJkhXUJbvc33+wUx4d2BBLoDRgiMWKjkBy5V6dNOQjEq9dZnUyvC87ZG64I17LZhwUlWUcbE2SggutW0goTHPKHRZtc4+a+taCRdrJMs5Ze9/dcAe7ZUOUOFLPmxFx/Nod1ujV1tJiRsYDlP40eSg7tUdnPZhHZR6LN4PFRB+qMM8ymeCjGuiUy+fXGccUpUFFvMr1Xx4tgCvxFLvT3gO8DphqFkwhajfDiCLFeXUNfH5dgpGgNIrCqzEKVEYFSwgSlEX1Il65YVI9v6KVSqx+JFoFMpjIPOsUBY41xePWVwT6GEeciddyfrUIkXowhgEi9/7zvCoc6U5KO7SqdcfUeEUjo8O8WjcSpMGpnV8xS+XQnry+VeaheHO76yTqf+lmEjPo1jcIG2n8WhKv9BQ4BxByLG95F68L6tVMLgNf/GdW3Q14IsXKetedeCWYpVBl5yAF/SJeaduToE3z9WuINWJjacmja85MBHo2tm5y5T1xlMWkRqKm7o5HD670vrHP81qyuzPZEfTfr91hUdVnB1pSOLTrV0xk/eT1Cb2FV2OAgODDOaBcZbHjlaT8UHmdMIw+lpPz+l6H4/u+Tnz7yyxVR/3HdZMCXcfrqiTnxmvGwRFTOchVOcAuye+uX7nhnldCyxqIaOUqviVAfmFGWe/0RxxAcP2DDa9qfccQIgzoS+/HS3d3X/mX+Gs5tOpKd9gM9e9Kg4XSX43XDED29uist/ao/N32ZI1LouSDilULkIjXKNanTeUVnEHEYQKJVfpN9sDgai+gps802akiBBqv0gZE03hVFhHzvK5dBd9rz/iwGmrDJB4fLrwqrLLNmSsrOklLhHYcA2LQacsrRerSyrfFKgVfdXedhHZoVTm0l91hyalCTWYKoDw+vJ/Xc3z4IT00PqxxFP/TiJwNsUEVAanwqnFwMrrGK4ASFkOSKBQpwS498HVixSqDiXl1202WK0cjvILGK0ByOuAMxvC+fKs9vHLDpAte9TZoiqL2n6xrEMlRjhntV14dTg6ni95nPcDrgGKV5kP7tTuYV9Giufbk9ed0N6/8m6nGrwTX5mh3haHymso5Q1RepSj/8vViUokJvtcjvGosLQucK691wFOK7vqVL7+I1xr1VDi09OrsYJfEN7wus4RWTQgueIXSl0nIzhkN+i60RNYdWbH4ldeEwq6rjzhx7/e6/35OajZDaLHaAZdNd9gA9bI6m1g+DQ/yKt6Jg7bwmMRreOXI13Ma9aXBe3l1HPJCUQ+qxCHSfy94VQE98SrQ1SGfAT1AHFDe3X+wR/x1otBUXqMJisrqXfAah5rRVmgjXe5ysPRF402JGy4yecPrWIOmDQe6yJhwaClZixPY4t7QetSFhVeop21Jm5D47HgTR9LJVj20HodNd1gUAIsJEWYUbcDRhngnr+8eb7IPtf2y8SaOfL1+N8z98eaFgYiiMDCi0QOGL7+HrdA44Ey8JoODtnRNaTj+uUPmPl77UJFF3wr6BBy0YSjq7+Ewjiav/Bhb4qQ6BNX2xSyv4RUEN0zSGOaO15gpaDqws4Bao1G1mwzOJRRL7mk9h2GovEosvwUE9/6TvGaM7dDmwutFd1gTbAm7xgGzzoTziEGcvF4aUMsBeBUOqpxYKHtZw5B1sd2+iLO1eorCl9++SQxWO4C65OFdvHKlHyl8+6G5cOKUJHyxPLjoRSw/9jzvAS89y+sk5EVzy6hd2T64mYOmkXnVfqB315TsRPSMtFR8x1mP4AQfiq73n+U1UXukWSQ6tBf+nZu01URydO04xlHPpRfBi9fyyvkvpchiiXN5JyP9q5YWVPU9qaXDrIEugEVrqKd5pQ0mrmrIoTLKdSVVt+gXjnyVJFr13dtZvJv6Zr2jRmOJt3GjF7x+1N/THdHeq+utoYaX6YPqrf1dnP+ia4ZkwtLqDE4AwszrktI1qIY61ySYNRzAUrWWA+Zlj6sbvLYNoluRy20pUq5LY8uk4ciRL9sGF7KpSTcjAWDs7JA7DgLOdBcl1lCbzV8cHL+g2cHtwZ9D83rsnoPv5Tn/RYMQA0qgOoPRoaUIllcOg50U4Yw4UDqs8CpXzqUJCRzOMe4Ykvh2fFhgcEoGTBBXF4tGD6BRRDUg0mU+fZ1MXaQax1YHORi52lHgUcTo+SJoRpFWmBNIxFGpWvpxjsqigY3O+k03dPL6nJ7ntUUjJToazqSQTWp1BlsEa8UHFIqWDhswgjUtMSt5VHR2L+DV1cyeo6VoMijUtIQAs+W0Gg+ZZ1PHWfVqgvgVOPV2xgE4CDjQW3RtNIWT1xdLvNadVPAyfVC9tb+qz38J+tFLStIZrkRKaBCvrfywpOcwy1XBgscwyrjP1Te8qroBXUJlAyaHHghJICmve17pzXFdCKbYySBb1o8VWxBwpp3WUBsdDGx01lt7Smc9mCe0a7ypz3/FgB76OoOXvApomWsDCasMwGwQw6DgG3073sS8dqEygbK8BBBnivRteI2oy++Dzk7L+hVFYfogIPFaG9WfPN500E/dJ7iDA2oXr33+S2AwkeoMCq/A3uDVl2z20EWzpLBo4ut4HbiqYXd+HSnSJze8gg5RhwiA+YudUO0MqJ2M84ZXd/J68nos7eG1z39JHDyOHOowl7zWiKTGQrMhPqPw4EV5Xr6O17E05uZYszAZAZDczlteJbqg+VIc2I6odpbieux5bYUd8yfzekR75/w5D0vusTXiXPNf0YQEA3quMxiu8LoioIItzwkOYBVSB0w7XO3kVWGOANNKqA1y9YN1vGsx6DaRL2NQkuORQ4G+hXg5q6rChlegSJ7D193PUWauKUmr4X3yT/NKFi28SXe7G38SnhvefsSJNB6UGf/iDb5XtC3/RbdOUghpCahHqjN4yWvAgdJh9Fy0FMCysVVUFHt6bNd4EwEaaqhMGTQhZKSQnNBhQLHa5ciXwAyr1jyYXe2kbcJvQCt0sOg6Xlulx5eND1MHcUryjXqWV0EW9677fl41ws+Jvf1LTiQ6UKgf5xWiK4UGk5ihFiNUY6szKEVqObEkZJ8OczOvG1u+zcOzvK4b5OoDcrWxFI9iXqg318SXBEF+dSuWuAgPJEcVGS8SflFYO3IQsMXv1Gi19DNs9ASvoNI3Kclj8FosKniTxKF5FQfm9Q1/n4MantJDf5+TRgl8qflm3byfE1XsSvTxUk1IRpWAU5LpakoyeSehKakauFSc6XRe1bW85xVv9B9A31rnzfWRzqgicPHDZlGRt+sWY9focpfF/eNN3IM8d0ptGVTpJG6b+z7S+8lQdarqK9In3uubYndfnXh2Aql3Mm2c8BK/yIp8aMmmSu1re1Gt0dTxyilaYL0+7/88rw/l/WPICihV9X7dHNCRKAIiCo44DglqeHMsv4dNTUnW2efpIltyPT2Bfb08gfP6Amc9F676p41GnDleuZW5zqtAj8VbbYhdGo2qxk7pup0ejLnD4sQWh41FwRYf4DXq2tY2Zwpjc+ADmdr2vS99BhA5cupQIA51r929vLKTEa46yUvvxIeride+qqNcl4QR7bLImvZuFMwrp2jzL+R17SVDod8n9TyvKGKktIYuBQYtwBAkJI2eeOWU5IK6Zq0oJalsUCBxjODRAuki65nRxSRQr40HJ1RZMQf1Pa8c5DSoyvTUSeMMMKJYl3Dd9qBAWfTNooH01SK9TUfwgS2iKRZlsWhx3ljkfXuAV42CihwSJb7mTOXK5dpJQ/mWVgYj9/2sZAjUZ3q1ppfoQo7gEIXzFF9N5PJeXod2VHWXeK2h1nVbMdgFlAkRFOYJpAkL8Iuk1XBN9S7BrEu44XXGMcGUUTGvsqZo5zfy+kQ67DleIXnhFLxN+3m1dQotxbeI6ny0Ylp57e4yDSGW0bNxRYj45YqIpBq9NLgQNO0G04AKdDe8rVB/b4/rMjp0rSEb2qxgGRU4m2gH5mbRVIszTvXWWeLUl5t7i7Q+f8jIGFvkfWPtup/DJRqj1aA3OdO5dlLNhUuxtL7X1OGumI+Yoe6vw7Es7blokl+9cQ/n8YsTgVNzItY153SReOVjmQOvVfxveRW2VsBsvHKKNkHVr6u3FuGH5G/wSsdn5IjkhAI0ZhrE+sKrX99hMtfTI8iD9rwb27F3TVzXz53GUt2zrJh32RMoi8NuemqPjjdUg5yi45Vezrkv+UcW06XFlgmbyAFZTGsrvG+snePD1EiR3uRMOUoazaaOosS5M0T/7L9j2l4PuMAtXXqj9TdO4l+c/D3xmnj68FoeJva8tkaHntcZJdVKbjrrNz2km+PDsgYjOSKpUNdrxDFueaVjQXx39fT8umxpzUtedaFK1l+Ifbxyq7/xqiqvGqukK0y49SVHQc6eVwpdTzjvswi9RfHFYgDWTl5bvqxRwjnTGiWVrUCj4753vSHH1RJrSxarJrgl9nbVCSdeM7ITBTCRk2uJVwWkrqqjKU2HjleujNnzmlDTd3rTyetDus1rC0YqV5YUjjwt9JZXOgvTzx3TpyTVbDEsQLp+fvXoKgyBV+y0i1epSLGew2ZUINDOMsmO196i2VjkSipfeWWL8w2LYi+vfFbrc6bcSQkAFsdzw33lte5axKHyNuyblFvc5JWd+OqkhVpVcYJWFW1ehK6qYysPjh2vXBmz5xWGkqJtOufPedbgJa98ZdiWHDqeFvorr6qmJG0tKeRAjpGvCS95de3HtiwwcLzS/b3/rvI61+mpRVpQQ70kNtSY73kli2YA4AqItywCskXBFm1IW4v7x5umermeqalgancCR0mVKDukr/KqUNcjUnkTHF+FG2J3V46qBd0lXpuTEdnJCDlsA7hjQ51TvXyJy7wa08YRxIZXj9sK8dfHm66mru6J0MUJLqXS2uxL6sFYxBlYs1HwgHjVKEtOcLe+GW8qGcaxFhhcTEglRL0ES8eoT0nmQOA41LGsNKPjY3zJawpmoVmlY4XBoeaQZSfzHa8Ldg25tZ3Ga8q1An7lFWyxyBUQb1iEaxZ53+7nFWjge0JdeOWcKZeNbJ9qcY3XVi0xoyq8tkm5McO9vEZjloKjbolXtToZ0ZcvO1mdzF3ilV+EVV1VxwmHCHEoExnUxGukaK0K6DpeYzA4fcvr9RTH/ghdMgIu5FdjGl/Bq8BBqO2n8AHxqoZL2r+GVxP0gDbWAoMhdJNB1zwihrF2pkMTqb/bvNXRoKWKiFd5BV/ylxMnCHSNV97JK/jqiAANIWRUMGMedRhQk0VNvJL3atFoiyZBzH+zCJ1FWS3yvsUHeJ1KHnShpkS1N3KUtLQ9rKau8qrW960EFF45vjrdzSvPQU5OxupEXDjJxOH1xGvMpTTi6mNdCiiod4ccsqEGamVM5pW2BO/m9fqHX7yOV43xa8vPiD95L+LVucHOEWoAUyiosclR1cBmFFwYL7WUJM9bHWeqiFjVZz1bQNLSc170K+6wx60pMVFDzVv0YlbUiaV03+yaxZle3m8Rdlncez+HezBRU5ucKUdJHbfNe7bps4G6nafOmji+ekPymje1OonFSbziJLIT8uQuE68QHfeb1HaUKOqS8jP1KgVi3bobdLR5xLuT/BuvXeFBuS4xrwtHvDh4Rwkszk1FiWPNr3Wj2SNKtfKqnFfcbILrkrd4VQMqtT46JyPzyu12S12gb7vFyKUdI82TGGNJCK5SqgsF0lYUbPXt/Zwf1357lyofqCHAD+rYf+33I972/aYTmL56g2vSONZQVTevrbHbiNccEHFsb7GDAZJDRFRtLl9uENHUZtHROmXpUt+NDyM1tdD6QRZeU24huDj0czRRWi5g8LxFAZwdo1Xl+qRUKMplZUn0zG0no0W8SE39fXz4KLzCHbwao2BnGbyTV9JP8RqVDxp28hokyBASJBM8LAP6VtFdpxbxCnOaMspSpVBlNADA59eWX/Owis+vwUcqQhhNiYb5O3nl86sNPkaPufC6NhTHEodzMQruCrFyqUxQtCNRaRRddkygKudXRWOInsu4DQr8upPj2q7AGXr9Ll5lwEDJ3x+UODSv4ii8Ugp6K/E3Xj0Pd/G8tsbWUWeOeNFb1v/T5k1npI4fxkBP8vXrlcqGF/r2fg7dsh7qbRNquc7OKyTw7ZRYW6LtTDzyGnOInB0rplCT5Zokya0mBlkcqB0hbxj8wmuSC/y7urfeWvSzk/BzOuvBFMVvg7tuXqDXrfGmSIAP/by2xl5GvBSKdovcbnjNAVaVTBrz+rWyoaWXt9ox3gSkJJ1BarnMzkto4UxBO77bUDYQMgwYyxOSs2MbXskrLSgcKDlGkBtqd6PjF1w56zd9AK+7tJdXU161/by2xl5GvFTNnfE6/Y3gRgRc8No1+xCvXJ+x8sqz82qsYl5hlTUtVOJQcopty2udEU71kyNHQe0uJ68nr4fQ33gNsCoMwPPa0vmVI1665/Xy/MrFRMa/8srNPsRrqvUZsbYMUYqMlqImfbsCacFkemv9Mc4pti2vYOz6P5A4KlLidj+X1yPaO+utPaZb93NUyYP189oa20e8mNd2LRo6Xjm/lgn8S17Hm9Ew+Q2vPJ+qqbzOjjaG5KUE7YAk+M/A6hY1Jk6xfeVVIK0eC59KyNJuRZ11/AlqDm7vHB9+TLfGh3WEaFHBhDyvrbHXIl4CIt0S0Mi84gjg+xhagbTndcJcm73Q7fFh5lVQS5XXHJYS0E3BqBqHIwm0cfUmQfGOTJwdK7wOjVeFJUKridoBfTfrb6c3zschAcCM0ElZxKAV3Kd38MqZUuhEFwzZv4tXq+/uv+uKCqBcNVn5Il4H+yJvILuOfJDXYLI2OHOGyyjitY94Ma8gA5pg+FMdA5oJRjR9Uk5iyKAvKxs+yGsyqMccLC71kpNm5/Vd0K7xGozOKHhH8tJlx4jXjKZNUTwQyZDKfMAjxdAGavdneB3s17yVCkFIgSYdgNeWKd0eC+2dQQd3Sex1Z+5jIl/FmyOytpj137nb580a2OpRvLNuHZnRfesNrsnPaWxz9crRDvTzcnaXES8K2EFywsWcoUpqrShppV2EJqc1+K6y4VSavSpxk1dP50JaXbX6jKoG/niJeZ1EtyOcGKOltqqWZTdAkrOauPPc2nRp8D28mgteNfpaimC33jd/jrjgVfKMYPv1xvEmvMprO634Eu4Jeac7eKmMveV6KqU0QvjWm4FnNREeMQzwEr1qfnX+iL1B5mF7nIrso46tLKHJKkJfGS/aDPXG2m49Nz7MeVMObZJR2WVeICp6PqrkQhsUeAuvlBFdFoqUUui1z8H2XZgUSJ8UDiUIS37bmqlFeOYS9B/wNbwuqou7srfYF8eUUJ6UbqFjS4e6RWGbN3Ltgi8dqd7Pq8IhAZWx+l7/eV5LKnJuFffs0iad1iVp6bqJtqxpiPMwwLt5jSO5ihza7KoRtkxpG3V0xWU/qvhqXmnIxK4bztRxuhRBDIgj9F0oUCDach9PmpImbWsGD7K8QorGPM9rOzrajNQ3FrEMg4wmBNTxojZjTd9OpvRlWxMdKPbGOZ838wozYkAUcEMnr6SSw1wsTqBL9bwcQQcJUaPn82sBggNrlKf8GXsgUKc4o27zbKMEX6oRWj6/to+VNcz4DHdJ3nP9ajHLOGLQSpXqgaVoogPuwtV2mJ2kM1UMplW2tWhk9MHU82sxO6Db587s4RWNTALDoJYB5creSGnYL8Fd4SQd22jWQ+1wKGtGGUKM5BpI422IXlZvLTnnXsmFfBmvSkZ4g/yD9lp208wKh8KHB5MjQBITX79WILgGWgjyR+xxEQRtwdYaCANXI+yuXx267utkwBHu0597eCUnEU2kegubApTchYLn7AU5eNqRtiZoVOR1t9k/9/Dq122FWO5xKsz1LBnJJcwc3KVdUYOjxdzWHHEi16Sov/F21m96SI+PD3N+hGtrKhxpwp8CJPPq0PMIBX0p36kHeSU7RaFsPAeYuGQj8xqDLf9aJe7E9X5eofYKJdC4AOXSFcgSKOubSEoK4jU018zrtz8F7uU1Vpe0iboZgdNFcJfHmxY5B17ToSTX+zry5PUhPcMrj646rp5Yw5RjZF67yolc1fMOPc4rb5M/RLqvh8i8gsZUzDLZd0ncxauBjterBSjJGb/JIqIJvCbzunfgTtzDK2x5dfXYboO7/CZpA6JBXnPDq8lwW2e9tUclHuc1AWlbPVGOBjXzWt7XKuPNqJ7pvzt5FVBUP9gWgasRdrxKnBltHOFemZ3urvN6WYCy51WimWWCq7zS4253cEM3eZ1RboK7zKsqKVpznVfUO7wdIHaVrvXYgRJ1MV4afMgex5dj0HXI16GLwrVhS+aV55d+4BL8mfHhVMsGhVTL/IUMnowKlB2vYOwYqi2pfpjXywKUPa8aJ9qRq7xGqd7Kays2GeuSR9HzKtBTp17nVarX8Xq9CqG2PLnWdY3ftl6GwtWLeeVZb+c70ZzKip18RgwivojXBXMswxC5Vk9cwJilVE+EbCIdvja/NGly6sd4haFNtj2jqJd7Al0dtZmRq6gJNBpI0fmf5ZULUAIXoGRebZ3AP+oNr8zE4uR7eUVZQyQWSy07xbxm4MKOX3i13JGv41Wgum5ZBQfX9e1smZy3C0G9nld0d5c9TEZ8rRDhMDuvcXgRr5SXtDhEUFw9kSOUZX5p1BUI7nkHO/W8vWTIlSpl/jLqCMlwOhMxl0NaP5llycK9kk9dv5pQg65T7UL+dGYMToWgR5ON2fBq0HgglHa4e+L61eAwoEkc3PXQeB0wzCqsKVqTQ+x4Jdd7O/L5+zkSn+F1rIUsxm2b/xKvCi94NSHRfsgtdY/bk2NXPU8oaFX7FNT5pQVPu1MkxQQ79bw9imKKhRrRNZOZOJ3p9NiqHnJaPAkH92q3u9ltSy+KqRSgpDRp7cKFayJStBQUdbAXqa7JoVNqwMO32uWNfFFncFCXytV69jZ3wd16bMnbHKVYaE16jb3t6sj+rF/DXnQrlYsKKleWEk/oG+nptDgJi4LkcFZRUXeVh7ZaP7st/asl21ZFXxqqRdrQAuu78eF0ZdbbBPzDfPHOq47X7ay3vOlVcrXFT7XYGq24FLvLYkb4Okb7trx/r/mpoMfbr/7TU/GYZ9y9v0DW494Uird7g06t6KEXlJpq0/q2XxxdzUMcA6Kypkxd+zWgFod+nt2RZ7fV1+fZBYV6N68OKZ0G1EhACpOU1a1pETUUzGuJZPJgOU+ny5Mox/oUutK0WlfMXCuRVAcKfozXOPkn0tjv51WpARd4XOLQvIoD8yq+8hpclCEYGeeS6PKREl3Ea1fzEHHwM1hTzq+bgBpxOfM8uzQhwwrHBB55nl2bSoVC0rLJ292+n+NwWMqst4oSc2HL64wjbUwxrxJFf5QVGkXrtwqNI8SQl3WdxOdXcOj67x+POW4NvpdXoMp4j0u8+XYYTe3+hMwT7t7Pq3nM2/t5vRxvcjjy1VqwrQrhgMRrGyoPGQAZUIluE1Dj02XcM7stdHm7XeNNxrTWxtLallcx1LsmzCtk0933rKdbl6eCJFhMCkdys/D1a72vnk3D1SzQ6f0FV7xb4AmZN/OqnIQn9ASv7yxA+TyvUSp4qy55ddCnrKh/ZlN4pc9v/eyjhY7XbUAN/N9nt9U+fZ1nN+YgYS+vC/KstzmQvQ2vq+LkbMdrnfVWwypmkAme0YNBS26YV3q1u8luI3Q6foGks97aw/qsemsOJVNmbKtCWHltBI+oOkJkQZxfvpzdVpjN7LaW59nt8nZ7eb2c9bbntW3M9Lwum1lv2aRF/oZSw7rO3PMqS7UY3t+P5fWI9s56aw9L3uQ1mjB6BbrxmmGVxmXL6yagdjHPrsbBTdF38+zSWA5VKORtbiVv8Mqz3uZrvGrUfoqu5xWGEAcTochkthbZa3HjOl5brcTWbq/jFzQ7uL2z3toT3oB1yasvwwq58NpqHpoAF7xC5oAacGQsf5nd1rVkmxq7eXYXGaHXzfHhGDKtM9Kst21bgcgKBhLS0tjzup31diBMZXCi1UtUapzKNwHzyrUSSZOEjb6ODx9QJ6//UV5HehIj8VpqHs44bnklpmcOqBHR6trstqJNYMsVColup/byyrULNfo6660tkwmokghKbdZb3/Eag0HeBO1SHFCVyXslWlBrQ+ApnzISr1wrkeQdbHTy+pTO+XOekLjJa6QZZ4NFRbxSzcOMNva8KqQfuAsH1KCUFRxWHuo8u3pAjYKTbXXyX2LrMm93+34OzXprUNevCGPqrLfWBGtq6cMw4NzxCiNaYGlaf27JQFN3q6TIAgYpix9L2yhL8FXi2LyKc7zpUX3WeJMUCvqUVRIDVSGUbW7ullET9F8303M61YFX1iIollVactqOEwhXk22EtefiiRd5u2/yw9FVD+RGqC+z3rrtrLcSNiNaddMjPa24XiLPKKxGPSnyU8LtJCdgo+MP6Jzjw/8RXv+iHYWQ0r9Rv+n+WW/3y2Zgnbz2Onl9Uu/nNcbh5mdeTRRQOyKvcXJBw51S04zzr+D1iPbO+zkPS+6z5RAHuCEKqL1O8oW8JsSQ7jZwawbj498wObi9c3z4CW///JOMMXbzoP/5Z9o8+BD4X9ceBj9Nht/yyIM3xoj20NH6rcHwXdN+Lv+6y2Cwuw3etLf/4ZX91/ljZ88bDOZVBt/gTpiXufuInnuBzJ+D6+AGD27v2P5Oc7/E1ecYPLi9Y/s7zf0SV59j8OD2ju3vNPdLXH2OwYPbO7a/09wvcfU5Bg9u79j+TnO/xNXnGDy4vWP7O839ElefY/Dg9o7t7zT3S1x9jsGD2zu2v9PcL3H1OQYPbu/Y/k5zv8TV5xg8uL1j+zvN/RJXn2Pw4PaO7e8090tcfY7Bg9s7tr/T3C9x9TkGD27v2P5Oc7/E1ecYPLi9Y/s7zf0SV59j8OD2ju3vNPdLXH2OwYPbO7a/09x9+j8TwgFtfZDBEEL+589RdejuO83dL4uY/xxZA+IBu63jFcP457g69PE99LE9Zs9JRPHnyJIB9Z8Dy2JY/hxXEsNxj68MeNzvuoP2XAj+z6F1cIPzEb+FP6X7TnN3a8T059ASxzY44RGP6occ39Pc3fq/8OfYOrjB/wvHHW06fPf918xZ87yCeVr6Yw2+wF8wz0t/Yved5u42Z+B5RXhaprP0WQbNIeyB+cTuO83tNHe4MvC9q88yeHB/h7Z3mjt5PXn9HHunuZPXk9fPsXeaO3k9ef0ce6e5k9eT18+xd5o7eT15/Rx7p7mT15PXz7F3mjt5PXn9HHunuZPXk9fPsXeaO3k9ef0ce6e5k9eT18+xd5p7Na/eubQ+HpVX76oUrJJOArCk0HpW/wqvrmn9h1rtsaIkKWiahNZC/jyvvc1YbPrY+fSjHt3y7yLRH13pimT88gmIxa9z0/q41EdQMx3+15vzvSva8qhH5mS73WbN1ddc6dGpPoIU1Mkv4jUhogBgHY5Xi1WO7AbU0BTra+O/wSs2AYDeupC4io1GjaQh/gu8YpOCOKyPQUKVMkhy/yqvWGUj9WORkcBSiDi3JUH9Wx7jiKQxvtycxapMoPmApLk7nltsHPVwXSLzojwutSn3Il5nROzfcUReDcnT3jMGBROjB+7Hn+Y1GBIdomy6QzJveRWrTR2Y6J/m1ZAUdZdFDKk1iGi1RUT57/IajFl5GP6ffbPRbR0FonAACzP8BQzx+z/qZsYwrnO1q3vV0ptqOZXSgO1wPPB5ACVHhz6Fnk8GI2Kzrq+80tnBov84gNduZEFc0ZAtraVksd1yBZZtvPCaTb/UfQ2v6Ak8F9+SV86nLjAGqCOaCqD8FV7ZSIGSUjldaLDqqcyHcfTtASD9DV5tjx6Fy7eRw6PeAcS/y6tGMwEgI4GqESG50w0AFa+8knGbn5UBQA3glRo06CqHI2ZbIB8VYEndcZNCjyH9ymvE9E+V5rO8cqdhP5K8NcY6al8bU6gha/enU2v9ulsrF2PTWks7uCZ8u2xrtrZiEf8N4ZXN2iuvFl04UbsXrdi9wEPRimqKXHM0ptQ0htcMEKlnGNArAQYMHvFCZHRrjVmoR/dYTIlYJ2z0xrg1iYLGB/GqF9/GPEm2dCGEw5uIxRgys/qlDwNrvTZ2p4BaP5BXCp9svBISnI48QKVzXnm1ADsBYsUoXg9DtYdMEimmgSmsoPabe/L8ymsK7Smul5o+zysZyku78crTchUAVRK2qsiow2gZgIJVqOVcP0pMIWx1IK9BpI5JOxS0Q+/sJUjsYVLJeIYBALUbQOkhvFJ0Pt58AighWMkxJpuKCyhPj2tUUFhpsK7dg00DeO1yPJtKAcBEj43xWtZkHGi82qYeD0keTt1IXi2A+phfGcEFApbzK6/pcmdDeKXcntaF3RgI646GWRxKi2i+8kpOv2Z/mBtacHyLIxpWKYvwFgheCYD6wivE6lIAnbIFIGtRyQClmVzAjNpvIos5fcSEHyvWHw8bgV7smgO6jwALXWxdXDUEnyqAH7DfpFbfefXML6kDmw2gijuyhVaSHtEGglMVoBDExsUkAFzCfDJgv0lyyHhp6BuYiqgAp7A/0X2R20IuAEC7ihMElTXAPoZX65xbAAzFoVhrA/ZdE+Hh0M2VVyzokbxaNEINFoCzOl8R5Eg6NK9eeMWC+0peaQwn6sOOpvCpxUU49cKrXVEqrSlivSU+fZVrAoj4OXEkr6RLL+0xAKrSGrJ5aVzS+DoezCnQRQX0EF5d45UXhiY45QPwdUlwftc0mZLVJwlQe7dqfEGDloyXYbwqg8HpUjq0Y23aUp2iuFFmMZRfef6Q8HUEr12e+owUeMv3nFZ+N68kU1tW5Wr1wivPAdBVHM1rAXDO2R6sywQPdeW14eh1OQYqJucmDWb1WDeCV4lSF15ZsmJsM9fTfaQ+8bNgjn429LQsX8qrlajE+fW6GIiXaCi3tIVDuUR23QBqt0z7ndYAfCmvRaJyy67X5J2kKAjldtabw2E8g+qOrAcQR+0PP6Xl0XW1lgsQhkZoAZAXXutwXp0wEHyDJDEuSb7GgXwV51yAkH7ltX4hrwq6lt/iVbTFhdGaeeVLpIYydH/4lddNRNWGlr/yujKv/bkcDMoOXL/WF16ZXyWibBX1F14pqt1yt2nGrF8JV88lL2Jf+Gf5kVfbgrozr81XHLh+Pbd30kdgJXRpilU8A94nMN66PIDXM1y6Ry0DmDX3iLrFZe5KEq+LuH+3fndCu/R5XiOAQQUA1RKC0kJtR8Bi9G1U+Q+8+j46Vdtl8rom7GYdoH4rr44MkRff0oKLNQmArec3C5Y3cNe0Dt4fTs2X1h/zq2xnemRiOebDuu4Ux9a9GsKBysI2B/CaDePKO7LH0jXnw6OIrjlcLVo6AizpssS+BvNKnMizxqAAINMWE3c4Y2QB5AheqceCon8ltYhFbi+VcxuKTRaKluhhxUMBT8oB4NO80sKVRz42tKSkATbaYMByPJJCssxryxvJNsLrmguE1J4x+Vt5zQFCVcoFbDiixd2AQZ9lXz3NfolXGnz7qiDUIbzSx+8BLIKo8yooWtg+d2dUyhsAWlyLRCktBwzyRpMoDeZMLyHEMbwux9aO2zh1Ba+UADRaIMhVtb0dnVIFiMRr3/1cPRj/Pbyulb8vwclMtE0K0NThhDVg90uN/ofwSn6WlZotnloK+YibU3IBWDiQkZe3aBkqhdUctBivZMFTPsMrY8qJnvatIZALT++OQQ5QgmFejzBpA2Qt0GngqJr9j+eV/ZPI1356ic29Yl4xxDZgzRBeJW/puB4Wg+XrYboglcOmONyHvs9i+nzVYnIZwqviaJ10sHHZzKg1WXpLxJwTGGMxyXwTr6vtJnm/RrXc1RTbhIUU1BheeUaym96SbOHgdtk1ypMxAU2+5WRSSZ/n1baG2twixdC/jenRocWDLuAb5hXtBoByLHgUIm5c/zD/zbyuvgAbUJbfOnaPvPKJRa5jeKUgBb82XpuVszVpyabAyGakJIiPppjXdaML/Zj5cH3lNVWDRSsvZtow0JkuFnx/sOzrd/HK31kqPGdbjsdK4V1bjuui1kG8EoEm95AETS11F7rFI3OCT23HyRCg1I2tFGIa8Xu6pFT/XKVyr7v207UmK8W3GNL3/54us0/2gtq59qzZh/2ejgPHypt6Ob7tH849Hedf7+c7f0+XJfl+jZni2rMmv8dP1rKS6kOJnY42p1qkuH//q91dbfka5Df7/atS4k++PvSFBtPz77Oav38dZW+8ufSe5n7L1t/jVfzXMmL+Xv2Tmrz+n8x9hytPX/ufvE5ep7mfwCtp8jp5neYmr6TJ6+T1/2HuPV39IINv7u+t7U1zk9fJ68+xN81NXievP8feNDd5nbz+HHvT3OR18vpz7E1zk9fJ68+xN839Oa/vIXs79bMMmveQ/Yn2zHvoB5qbmpqampqampqampqampqampqampqampqampqampqampqampqampqampqampqampqammJtou430u78/flaNyzcJR5rhzaq8vvluju+yvuljs/4RY/LobvPWOfvl8o/cb3hy+OxUcE/9bhhgeSPj+ufxyf8jrbHbWrqXXXX7pGrIPSKFPa2F7m4Z72Nt1tdpCUGbECQod4+yNLAFhfIYv13DuSFXtDP1woXOMwf+C7m2XDctkhWhPfR3HNvHdhgU4zei/BbJMbtNjX1rqrbFuPuPb19IvPQ8nY3t1z0k4QnpQ9LQ1/753Fbb3ePZ929e9zs7iTm1z17hzQ7ybxulKJlxeObf+zSPTC/brvDi53cHw+DvFnzuGXnHscVG8jjkx+bR7rvGyVif295Xma33508WtDRn7wuG3rcML96l7cb5Lrd9vBPe2a08jgOQ+HjEIyqKBaWJb//o26U9Kcz7MLAsBe98AcNrnVyyEU/3NID/RDFRYZR5anH9A0/nSabAtt7Ese2fF18MVV3qKHippOOAEhDpQEvIF64YKkAu2McMgzDDwpm2R0UTkdh2JDS3r4ee05quee7C7mTiuNsQqZ0+ClBRWCFYg45Tj2qsFy+6nAZYRkMSAGU/CCtTVhwVjn3XFzUzfjjK28RdoYx9iLU8KoytsvXGFJ2XLQjYpIpu1A3ltbQmvCGc/e6YTLYZfT72Zavi++lxnNCIYmxgQL3K32tzerjawy14q4GbW47YMEG29PXkmKnMqSPr+eMfsKgR8uqdH1E+gq4pIVNgmZFMYro6BSldVW8sNWIUowBP8AdyLR1AvrAS1EN4gCUFNQ/5+vgFxuMYwDSMikOijlMAxdt8DnyeSO8bGwaekYYZ9IqihjnRAqwL18X30vFrr1ow8UkA57z9fFVvUx6fHUp5o42Krs8kgSM01dPX6m21vrj66tdwMdeG+hp4hDPtYt7XoMwNO/uzO0M9UGGF3y01sQ4/QwGkGlYrk68gPb2VYiZ2ud8NUyaMM6ktUzevkL2s+CiCYIMctfjYPKga1kyCVJSybeH+/r9uvhqxKO4tnnrOn8+2ngsc4XVx9dZGe7GwHO+uvFvvrJl/PGVAupxKuQ/fN0qsKev3lKpdgBnSHbl+boDZref3ATA1oBiBEz+1Vc2IE799ffrMWCspPCPr3ODngEgu4zUnnpDvPRUxJFJeK0wzom0db4uvpujylE3XDAxc/ThLD++7j764yvI4R50FC7YWxn6u6+TvFa0rJgynF3Jnfd/+4p93yl9na8JioOPSl3Y9wOjgluhuH2Vl4JDuRRG2X0YPr52AtL6z/maFzeGj0o/vnLtlHe/fUVt2KtTn+StwtnHlknEy5CTMZVLIwOtv3QWX4vaVCTTLhRhHRfR7633SNEVETnUfu/nnk5MjQDsrgH6p+LeMMy76YnlOqKH1k0nYHfvtBz1vCPsac4hrN5jmCF3I/PPQzyNee2qHXhyiKkTpiEFhoypqZohyZug73qETQD93QlM4D2Bza4wxWKxSILEh+JPyJj4C4YLTSwWi/+JEFH8ETP8DbrJ+jK7WCwWi8VisVgsFovFYrH4ev4BF3fyAofVDSkAAAAASUVORK5CYII=)"
      ],
      "metadata": {
        "id": "fwHFPe-DkH7z"
      }
    },
    {
      "cell_type": "markdown",
      "source": [
        "## <font color ='pickle'>**Pipeline 1: Data Preprocessing + Sparse Embeddings (TF-IDF) + ML Model**"
      ],
      "metadata": {
        "id": "NL0wL0YDe0mu"
      }
    },
    {
      "cell_type": "markdown",
      "source": [
        "### <font color ='pickle'>**Create Pipeline**"
      ],
      "metadata": {
        "id": "4yBRr4e9fSgP"
      }
    },
    {
      "cell_type": "code",
      "source": [
        "classifier_1 = Pipeline([\n",
        "    ('vectorizer', TfidfVectorizer(analyzer='word', tokenizer=spacy_tokenizer\n",
        "                                   #, preprocessor=spacy_preprocessor\n",
        "                                   # ,token_pattern=r\"[\\S]+\"\n",
        "                                   )),\n",
        "    ('classifier', LogisticRegression(max_iter=10000\n",
        "                                      , class_weight= w\n",
        "                                      ))])"
      ],
      "metadata": {
        "id": "sWH6X1xyeGQi"
      },
      "execution_count": 264,
      "outputs": []
    },
    {
      "cell_type": "markdown",
      "source": [
        "### <font color ='pickle'>**Parameter Grid**"
      ],
      "metadata": {
        "id": "9K3ybMlUfY8R"
      }
    },
    {
      "cell_type": "code",
      "source": [
        "classifier_1.get_params().keys()"
      ],
      "metadata": {
        "colab": {
          "base_uri": "https://localhost:8080/"
        },
        "id": "OIFukRqhRcNz",
        "outputId": "7da19c62-64a9-4ec2-f56a-8734ad461154"
      },
      "execution_count": 265,
      "outputs": [
        {
          "output_type": "execute_result",
          "data": {
            "text/plain": [
              "dict_keys(['memory', 'steps', 'verbose', 'vectorizer', 'classifier', 'vectorizer__analyzer', 'vectorizer__binary', 'vectorizer__decode_error', 'vectorizer__dtype', 'vectorizer__encoding', 'vectorizer__input', 'vectorizer__lowercase', 'vectorizer__max_df', 'vectorizer__max_features', 'vectorizer__min_df', 'vectorizer__ngram_range', 'vectorizer__norm', 'vectorizer__preprocessor', 'vectorizer__smooth_idf', 'vectorizer__stop_words', 'vectorizer__strip_accents', 'vectorizer__sublinear_tf', 'vectorizer__token_pattern', 'vectorizer__tokenizer', 'vectorizer__use_idf', 'vectorizer__vocabulary', 'classifier__C', 'classifier__class_weight', 'classifier__dual', 'classifier__fit_intercept', 'classifier__intercept_scaling', 'classifier__l1_ratio', 'classifier__max_iter', 'classifier__multi_class', 'classifier__n_jobs', 'classifier__penalty', 'classifier__random_state', 'classifier__solver', 'classifier__tol', 'classifier__verbose', 'classifier__warm_start'])"
            ]
          },
          "metadata": {},
          "execution_count": 265
        }
      ]
    },
    {
      "cell_type": "code",
      "source": [
        "param_bayes_classifier_1 = {'vectorizer__max_features': Integer(low = 1000, high= 5000, prior= 'uniform'),\n",
        "                            #'vectorizer__ngram_range' : [(1, 1), (1, 2)],\n",
        "                            'vectorizer__max_df' : Real(0.1, 0.9, 'uniform'),\n",
        "                            #'vectorizer__min_df' : (0.01, 0.4, 'uniform'),\n",
        "                           'classifier__C': Real(low=10 , high=1000)\n",
        "                           }\n"
      ],
      "metadata": {
        "id": "cY6lRP70e3RZ"
      },
      "execution_count": 266,
      "outputs": []
    },
    {
      "cell_type": "markdown",
      "source": [
        "### <font color ='pickle'>**Specify BayesSearch**"
      ],
      "metadata": {
        "id": "C61thH3GfbLq"
      }
    },
    {
      "cell_type": "code",
      "source": [
        "??BayesSearchCV\n"
      ],
      "metadata": {
        "id": "vNQL8eulftGY"
      },
      "execution_count": 267,
      "outputs": []
    },
    {
      "cell_type": "markdown",
      "source": [
        "### <font color ='pickle'> Customized Scoring Metric\n",
        "\n",
        "Since Logistic Regression is used, according to the above metric selection, let's evaluate this model using\n",
        "\n",
        "**PR AUC metric**"
      ],
      "metadata": {
        "id": "VJw6NxFdEdse"
      }
    },
    {
      "cell_type": "code",
      "source": [
        "\n",
        "# Define a custom scoring function for PR AUC\n",
        "def custom_pr_auc_scorer(y, y_proba):\n",
        "    #y_proba = estimator.predict_proba(X)[:, 1]  # Probability of positive class\n",
        "    precision, recall, _ = precision_recall_curve(y, y_proba)\n",
        "    pr_auc = auc(recall, precision)\n",
        "    return pr_auc\n",
        "\n",
        "\n",
        "# Define a custom scoring function for Cohen's Kappa\n",
        "def custom_kappa_scorer(y, y_pred):\n",
        "    kappa = cohen_kappa_score(y, y_pred)\n",
        "    return kappa\n",
        "\n",
        "\n",
        "# Use cross-validation with the custom scoring function\n",
        "pr_auc_scorer = make_scorer(custom_pr_auc_scorer, greater_is_better=True)  # Set greater_is_better=True for higher PR AUC scores\n",
        "\n",
        "\n",
        "# Use cross-validation with the custom scoring function\n",
        "kappa_scorer = make_scorer(custom_kappa_scorer)\n"
      ],
      "metadata": {
        "id": "bOKIP8N4EO64"
      },
      "execution_count": 268,
      "outputs": []
    },
    {
      "cell_type": "markdown",
      "source": [
        "#### Final Metric for evaluation\n",
        "\n",
        "According to the above discussion on various metrics I concluded that since I'm using probability based classifier (logistic regression), Precision Recall AUC metric would be the most appropriate to compare & evaluate different hyper-parameter."
      ],
      "metadata": {
        "id": "oStXQYUMShTT"
      }
    },
    {
      "cell_type": "markdown",
      "source": [
        "### <font color ='pickle'> Perform Bayesian Optimization"
      ],
      "metadata": {
        "id": "UeF8HBenTG8b"
      }
    },
    {
      "cell_type": "code",
      "source": [
        "# Perform Bayesian optimization\n",
        "optimizer = BayesSearchCV(estimator=classifier_1, search_spaces= param_bayes_classifier_1, n_iter=50, cv=5, n_jobs = -1, verbose = 1\n",
        "                          , scoring= pr_auc_scorer\n",
        "                          )\n",
        "\n",
        "X_train_cleaned_sparse_embed = joblib.load(file_X_train_cleaned_sparse_embed)\n",
        "\n",
        "# Fit the model to the data\n",
        "optimizer.fit(X_train_cleaned_sparse_embed, ytrain)\n",
        "\n",
        "# Print the best hyperparameters aand corresponding score\n",
        "print(\"Best score:\", optimizer.best_score_)\n",
        "print(\"Best hyperparameters:\", optimizer.best_params_)"
      ],
      "metadata": {
        "colab": {
          "base_uri": "https://localhost:8080/"
        },
        "id": "I2BYDdOlfaFr",
        "outputId": "9834b2e9-b30b-4f0b-f8b7-0ce2cbe79f7c"
      },
      "execution_count": 269,
      "outputs": [
        {
          "output_type": "stream",
          "name": "stdout",
          "text": [
            "Fitting 5 folds for each of 1 candidates, totalling 5 fits\n",
            "Fitting 5 folds for each of 1 candidates, totalling 5 fits\n",
            "Fitting 5 folds for each of 1 candidates, totalling 5 fits\n",
            "Fitting 5 folds for each of 1 candidates, totalling 5 fits\n",
            "Fitting 5 folds for each of 1 candidates, totalling 5 fits\n",
            "Fitting 5 folds for each of 1 candidates, totalling 5 fits\n",
            "Fitting 5 folds for each of 1 candidates, totalling 5 fits\n",
            "Fitting 5 folds for each of 1 candidates, totalling 5 fits\n",
            "Fitting 5 folds for each of 1 candidates, totalling 5 fits\n",
            "Fitting 5 folds for each of 1 candidates, totalling 5 fits\n",
            "Fitting 5 folds for each of 1 candidates, totalling 5 fits\n",
            "Fitting 5 folds for each of 1 candidates, totalling 5 fits\n",
            "Fitting 5 folds for each of 1 candidates, totalling 5 fits\n",
            "Fitting 5 folds for each of 1 candidates, totalling 5 fits\n",
            "Fitting 5 folds for each of 1 candidates, totalling 5 fits\n",
            "Fitting 5 folds for each of 1 candidates, totalling 5 fits\n",
            "Fitting 5 folds for each of 1 candidates, totalling 5 fits\n",
            "Fitting 5 folds for each of 1 candidates, totalling 5 fits\n",
            "Fitting 5 folds for each of 1 candidates, totalling 5 fits\n",
            "Fitting 5 folds for each of 1 candidates, totalling 5 fits\n",
            "Fitting 5 folds for each of 1 candidates, totalling 5 fits\n",
            "Fitting 5 folds for each of 1 candidates, totalling 5 fits\n",
            "Fitting 5 folds for each of 1 candidates, totalling 5 fits\n",
            "Fitting 5 folds for each of 1 candidates, totalling 5 fits\n",
            "Fitting 5 folds for each of 1 candidates, totalling 5 fits\n",
            "Fitting 5 folds for each of 1 candidates, totalling 5 fits\n",
            "Fitting 5 folds for each of 1 candidates, totalling 5 fits\n",
            "Fitting 5 folds for each of 1 candidates, totalling 5 fits\n",
            "Fitting 5 folds for each of 1 candidates, totalling 5 fits\n",
            "Fitting 5 folds for each of 1 candidates, totalling 5 fits\n",
            "Fitting 5 folds for each of 1 candidates, totalling 5 fits\n",
            "Fitting 5 folds for each of 1 candidates, totalling 5 fits\n",
            "Fitting 5 folds for each of 1 candidates, totalling 5 fits\n",
            "Fitting 5 folds for each of 1 candidates, totalling 5 fits\n",
            "Fitting 5 folds for each of 1 candidates, totalling 5 fits\n",
            "Fitting 5 folds for each of 1 candidates, totalling 5 fits\n",
            "Fitting 5 folds for each of 1 candidates, totalling 5 fits\n",
            "Fitting 5 folds for each of 1 candidates, totalling 5 fits\n",
            "Fitting 5 folds for each of 1 candidates, totalling 5 fits\n",
            "Fitting 5 folds for each of 1 candidates, totalling 5 fits\n",
            "Fitting 5 folds for each of 1 candidates, totalling 5 fits\n",
            "Fitting 5 folds for each of 1 candidates, totalling 5 fits\n",
            "Fitting 5 folds for each of 1 candidates, totalling 5 fits\n",
            "Fitting 5 folds for each of 1 candidates, totalling 5 fits\n",
            "Fitting 5 folds for each of 1 candidates, totalling 5 fits\n",
            "Fitting 5 folds for each of 1 candidates, totalling 5 fits\n",
            "Fitting 5 folds for each of 1 candidates, totalling 5 fits\n",
            "Fitting 5 folds for each of 1 candidates, totalling 5 fits\n",
            "Fitting 5 folds for each of 1 candidates, totalling 5 fits\n",
            "Fitting 5 folds for each of 1 candidates, totalling 5 fits\n",
            "Best score: 0.8923201517583541\n",
            "Best hyperparameters: OrderedDict([('classifier__C', 636.1105280225589), ('vectorizer__max_df', 0.19437650816250243), ('vectorizer__max_features', 1065)])\n"
          ]
        },
        {
          "output_type": "stream",
          "name": "stderr",
          "text": [
            "/usr/local/lib/python3.10/dist-packages/sklearn/feature_extraction/text.py:528: UserWarning: The parameter 'token_pattern' will not be used since 'tokenizer' is not None'\n",
            "  warnings.warn(\n"
          ]
        }
      ]
    },
    {
      "cell_type": "markdown",
      "source": [],
      "metadata": {
        "id": "I3yxsW8NgRaj"
      }
    },
    {
      "cell_type": "markdown",
      "source": [
        "### <font color ='pickle'>**Save Model**"
      ],
      "metadata": {
        "id": "bF5NfWaOgSUB"
      }
    },
    {
      "cell_type": "code",
      "source": [
        "file_best_estimator_pipeline1_round1 = model_folder / \\\n",
        "    'logistic_pipeline1_prauc.pkl'\n",
        "file_complete_grid_pipeline1_round1 = model_folder / \\\n",
        "    'logistic_pipeline1_prauc_complete_grid.pkl'\n",
        "\n",
        "\n",
        "file_best_estimator_pipeline1_round2 = model_folder / \\\n",
        "    'logistic_pipeline1_balaccuracy.pkl'\n",
        "file_complete_grid_pipeline1_round2 = model_folder / \\\n",
        "    'logistic_pipeline1_balaccuracy_complete_grid.pkl'\n",
        "\n",
        "\n",
        "joblib.dump(optimizer.best_estimator_,\n",
        "            file_best_estimator_pipeline1_round1)\n",
        "joblib.dump(optimizer, file_complete_grid_pipeline1_round1)\n"
      ],
      "metadata": {
        "colab": {
          "base_uri": "https://localhost:8080/"
        },
        "id": "ILkhLov2gT2Q",
        "outputId": "a84f29a7-b200-4222-f040-90b2f8d800eb"
      },
      "execution_count": 270,
      "outputs": [
        {
          "output_type": "execute_result",
          "data": {
            "text/plain": [
              "['/content/drive/MyDrive/NLP/models/spam/logistic_pipeline1_prauc_complete_grid.pkl']"
            ]
          },
          "metadata": {},
          "execution_count": 270
        }
      ]
    },
    {
      "cell_type": "code",
      "source": [
        "# load the saved model\n",
        "best_estimator_pipeline1_round1 = joblib.load(\n",
        "    file_best_estimator_pipeline1_round1)\n",
        "complete_grid_pipeline1_round1 = joblib.load(\n",
        "    file_complete_grid_pipeline1_round1)\n",
        "\n",
        "\n",
        "# load the saved model\n",
        "best_estimator_pipeline1_round2 = joblib.load(\n",
        "    file_best_estimator_pipeline1_round2)\n",
        "complete_grid_pipeline1_round2 = joblib.load(\n",
        "    file_complete_grid_pipeline1_round2)"
      ],
      "metadata": {
        "id": "v5gdwTRWguZq"
      },
      "execution_count": 271,
      "outputs": []
    },
    {
      "cell_type": "markdown",
      "source": [
        "### <font color ='pickle'>**Plot Learning Curve**"
      ],
      "metadata": {
        "id": "vN9RwHQniEpZ"
      }
    },
    {
      "cell_type": "code",
      "source": [
        "# plot learning curces\n",
        "plot_learning_curve(best_estimator_pipeline1_round1, 'Learning Curves',\n",
        "                    X_train_cleaned_sparse_embed, y_train, n_jobs=-1)"
      ],
      "metadata": {
        "colab": {
          "base_uri": "https://localhost:8080/",
          "height": 430
        },
        "id": "mHb2-gxdg2K0",
        "outputId": "16ac6d71-f27d-4c46-f93a-d9b467ecdd22"
      },
      "execution_count": 272,
      "outputs": [
        {
          "output_type": "execute_result",
          "data": {
            "text/plain": [
              "<module 'matplotlib.pyplot' from '/usr/local/lib/python3.10/dist-packages/matplotlib/pyplot.py'>"
            ]
          },
          "metadata": {},
          "execution_count": 272
        },
        {
          "output_type": "display_data",
          "data": {
            "text/plain": [
              "<Figure size 2000x500 with 3 Axes>"
            ],
            "image/png": "[encoded data removed]"
          },
          "metadata": {}
        }
      ]
    },
    {
      "cell_type": "markdown",
      "source": [
        "<font color ='indianred'>**Observations**</font>\n",
        "<br>\n",
        "Clearly there is <font color ='indianred'>**overfitting**</font>. In case of overfitting we can improve results by\n",
        "\n",
        "1. Adding more data (training model on complete dataset)\n",
        "2. By hyperparameter tuning (reduce model complexity) of logistic regression and vectorizer."
      ],
      "metadata": {
        "id": "y9eY_Z_zU1wd"
      }
    },
    {
      "cell_type": "code",
      "source": [
        "# let's check the train scores\n",
        "print(best_estimator_pipeline1_round1.score(\n",
        "    X_train_cleaned_sparse_embed, y_train))\n",
        "\n",
        "# let's check the cross validation score\n",
        "print(complete_grid_pipeline1_round1.best_score_)"
      ],
      "metadata": {
        "colab": {
          "base_uri": "https://localhost:8080/"
        },
        "id": "SM4BRtociG4w",
        "outputId": "538100ad-1ddc-4459-d37f-b31327dddcde"
      },
      "execution_count": 273,
      "outputs": [
        {
          "output_type": "stream",
          "name": "stdout",
          "text": [
            "1.0\n",
            "0.8923201517583541\n"
          ]
        }
      ]
    },
    {
      "cell_type": "markdown",
      "source": [
        "### <font color ='pickle'>**Evaluate on Test**"
      ],
      "metadata": {
        "id": "UXX1cF7Y_eL4"
      }
    },
    {
      "cell_type": "code",
      "source": [
        "# Final Pipeline\n",
        "def final_pipeline(text):\n",
        "    cleaned_text = cpp.transform(text)\n",
        "    # cleaned_text = joblib.load(file_X_test_cleaned_sparse_embed)\n",
        "    best_estimator_pipeline1_round1 = joblib.load(\n",
        "        file_best_estimator_pipeline1_round1)\n",
        "    predictions = best_estimator_pipeline1_round1.predict(cleaned_text)\n",
        "    return predictions"
      ],
      "metadata": {
        "id": "UsAz_9T7iSN1"
      },
      "execution_count": 274,
      "outputs": []
    },
    {
      "cell_type": "code",
      "source": [
        "# predicted values for Test data set\n",
        "y_test_pred = final_pipeline(xtest)\n"
      ],
      "metadata": {
        "colab": {
          "base_uri": "https://localhost:8080/"
        },
        "id": "KmEOVuxyiqSq",
        "outputId": "249f8ad4-6e07-478b-b1c7-315838f790f2"
      },
      "execution_count": 275,
      "outputs": [
        {
          "output_type": "stream",
          "name": "stderr",
          "text": [
            "/content/drive/MyDrive/NLP/custom-functions/custom_preprocessor_mod.py:90: MarkupResemblesLocatorWarning: The input looks more like a filename than markup. You may want to open this file and pass the filehandle into Beautiful Soup.\n",
            "  soup = BeautifulSoup(text, \"html.parser\")\n"
          ]
        }
      ]
    },
    {
      "cell_type": "code",
      "source": [
        "print('\\nTest set classification report:\\n\\n',\n",
        "      classification_report(y_test, y_test_pred))"
      ],
      "metadata": {
        "colab": {
          "base_uri": "https://localhost:8080/"
        },
        "id": "PQxulWlBixND",
        "outputId": "24397604-fda6-4f22-b14d-db20141c23f8"
      },
      "execution_count": 276,
      "outputs": [
        {
          "output_type": "stream",
          "name": "stdout",
          "text": [
            "\n",
            "Test set classification report:\n",
            "\n",
            "               precision    recall  f1-score   support\n",
            "\n",
            "           0       0.96      1.00      0.98        98\n",
            "           1       1.00      0.71      0.83        14\n",
            "\n",
            "    accuracy                           0.96       112\n",
            "   macro avg       0.98      0.86      0.91       112\n",
            "weighted avg       0.97      0.96      0.96       112\n",
            "\n"
          ]
        }
      ]
    },
    {
      "cell_type": "code",
      "source": [
        "# prompt: print confusion matrix sklearn with labels in pandas df\n",
        "\n",
        "from sklearn.metrics import confusion_matrix, balanced_accuracy_score\n",
        "print(confusion_matrix(y_test, y_test_pred))"
      ],
      "metadata": {
        "id": "k04J7MdzizHY",
        "colab": {
          "base_uri": "https://localhost:8080/"
        },
        "outputId": "4b0f902b-28a3-4e4a-9263-419be9cd988f"
      },
      "execution_count": 277,
      "outputs": [
        {
          "output_type": "stream",
          "name": "stdout",
          "text": [
            "[[98  0]\n",
            " [ 4 10]]\n"
          ]
        }
      ]
    },
    {
      "cell_type": "code",
      "source": [
        "print(custom_kappa_scorer(ytest, y_test_pred))"
      ],
      "metadata": {
        "colab": {
          "base_uri": "https://localhost:8080/"
        },
        "id": "1Ok9usIyPkhX",
        "outputId": "a7473537-b83c-48f6-82c7-6bc4ee5eda9b"
      },
      "execution_count": 278,
      "outputs": [
        {
          "output_type": "stream",
          "name": "stdout",
          "text": [
            "0.813953488372093\n"
          ]
        }
      ]
    },
    {
      "cell_type": "code",
      "source": [
        "balanced_accuracy_score(ytest, y_test_pred)"
      ],
      "metadata": {
        "colab": {
          "base_uri": "https://localhost:8080/"
        },
        "id": "cEn6ahdRl33n",
        "outputId": "4353714a-ded8-4c0d-8844-28addab44ed3"
      },
      "execution_count": 279,
      "outputs": [
        {
          "output_type": "execute_result",
          "data": {
            "text/plain": [
              "0.8571428571428572"
            ]
          },
          "metadata": {},
          "execution_count": 279
        }
      ]
    },
    {
      "cell_type": "code",
      "source": [
        "ytest"
      ],
      "metadata": {
        "colab": {
          "base_uri": "https://localhost:8080/"
        },
        "id": "wLxWkdKLQcd0",
        "outputId": "239b4f8a-9246-4c91-f687-36a10645e084"
      },
      "execution_count": 280,
      "outputs": [
        {
          "output_type": "execute_result",
          "data": {
            "text/plain": [
              "array([0, 0, 0, 0, 0, 0, 1, 0, 0, 0, 0, 0, 0, 0, 0, 0, 0, 0, 0, 0, 0, 0,\n",
              "       0, 0, 0, 0, 0, 0, 1, 1, 1, 0, 0, 0, 1, 0, 0, 0, 0, 0, 0, 0, 0, 0,\n",
              "       0, 0, 0, 1, 0, 1, 0, 0, 1, 1, 0, 0, 0, 1, 0, 0, 0, 0, 0, 0, 0, 0,\n",
              "       0, 0, 0, 0, 0, 0, 0, 1, 0, 0, 0, 0, 0, 0, 0, 0, 0, 0, 0, 0, 0, 0,\n",
              "       0, 0, 0, 0, 0, 0, 1, 0, 0, 0, 0, 0, 0, 0, 0, 0, 0, 0, 0, 0, 1, 0,\n",
              "       0, 1])"
            ]
          },
          "metadata": {},
          "execution_count": 280
        }
      ]
    },
    {
      "cell_type": "code",
      "source": [
        "print(custom_pr_auc_scorer( ytest, y_test_pred))"
      ],
      "metadata": {
        "colab": {
          "base_uri": "https://localhost:8080/"
        },
        "id": "XuqZD1GqUte8",
        "outputId": "5b3bdd51-e837-4a26-e6e9-b106cbedbcf7"
      },
      "execution_count": 281,
      "outputs": [
        {
          "output_type": "stream",
          "name": "stdout",
          "text": [
            "0.875\n"
          ]
        }
      ]
    },
    {
      "cell_type": "markdown",
      "source": [
        "### **Final Score on the Chosen Metric**\n",
        "\n",
        "**Precision Recall AUC** - 0.875"
      ],
      "metadata": {
        "id": "Q1vhlf18h6DE"
      }
    },
    {
      "cell_type": "markdown",
      "source": [
        "## <font color ='pickle'>**Pipeline 2: Data Preprocessing + Manual Features + ML Model pipeline**"
      ],
      "metadata": {
        "id": "2ypCBmwLVFha"
      }
    },
    {
      "cell_type": "markdown",
      "source": [
        "In this case we will extract following features and use these as the input to our logistic regression.\n",
        "  1. number of words\n",
        "  2. number of characters\n",
        "  3. number of characters without space\n",
        "  4. average word length\n",
        "  5. number of digits\n",
        "  6. number of numbers\n",
        "  7. number of nouns or propernouns\n",
        "  8. number of aux\n",
        "  9. number of verbs\n",
        "  10. number of adjectives\n",
        "  11. number of ner (entiites)"
      ],
      "metadata": {
        "id": "rIF5ye0AVFGL"
      }
    },
    {
      "cell_type": "markdown",
      "source": [
        "Since this problem involves **SMS** spam detection, using spelling mistakes as a feature didn't make sense as people widely use short forms for common occuring words and it would mislead our model.\n",
        "\n",
        "However, if this problem was to classify **E-mail** spam, using spelling checker would completely make as most of the email are used in professional or promotional setting and they can't afford spelling mistakes."
      ],
      "metadata": {
        "id": "aoxCpQUt3VOo"
      }
    },
    {
      "cell_type": "markdown",
      "source": [
        "### <font color ='pickle'>**Generate Manual Features**"
      ],
      "metadata": {
        "id": "Yn_gxPaGcqMJ"
      }
    },
    {
      "cell_type": "code",
      "source": [
        "??ManualFeatures\n"
      ],
      "metadata": {
        "id": "uV5aJZYlVpx2"
      },
      "execution_count": 74,
      "outputs": []
    },
    {
      "cell_type": "code",
      "source": [
        "featurizer = ManualFeatures(spacy_model='en_core_web_sm')"
      ],
      "metadata": {
        "id": "4MSIkBuOcMtL"
      },
      "execution_count": 282,
      "outputs": []
    },
    {
      "cell_type": "code",
      "source": [
        "X_train_features, feature_names = featurizer.fit_transform(xtrain)"
      ],
      "metadata": {
        "colab": {
          "base_uri": "https://localhost:8080/"
        },
        "id": "0EFWO-GPVrlP",
        "outputId": "2af150d3-6ef4-4a57-f34b-455c65255949"
      },
      "execution_count": 283,
      "outputs": [
        {
          "output_type": "stream",
          "name": "stderr",
          "text": [
            "/content/drive/MyDrive/NLP/custom-functions/custom_preprocessor_mod.py:90: MarkupResemblesLocatorWarning: The input looks more like a filename than markup. You may want to open this file and pass the filehandle into Beautiful Soup.\n",
            "  soup = BeautifulSoup(text, \"html.parser\")\n"
          ]
        }
      ]
    },
    {
      "cell_type": "code",
      "source": [
        "print(X_train_features.shape)\n",
        "X_train_features[0:3]\n"
      ],
      "metadata": {
        "colab": {
          "base_uri": "https://localhost:8080/"
        },
        "id": "AeWMVKg7cIT_",
        "outputId": "2889f54e-e0df-4934-bc9c-47a2ada16056"
      },
      "execution_count": 284,
      "outputs": [
        {
          "output_type": "stream",
          "name": "stdout",
          "text": [
            "(445, 11)\n"
          ]
        },
        {
          "output_type": "execute_result",
          "data": {
            "text/plain": [
              "array([[  5.        ,  24.        ,  20.        ,   3.33333333,\n",
              "          0.        ,   0.        ,   0.        ,   0.        ,\n",
              "          1.        ,   1.        ,   1.        ],\n",
              "       [ 28.        , 119.        ,  92.        ,   3.17241379,\n",
              "         19.        ,   4.        ,   5.        ,  10.        ,\n",
              "          0.        ,   4.        ,   3.        ],\n",
              "       [ 19.        , 112.        ,  94.        ,   4.7       ,\n",
              "          4.        ,   4.        ,   4.        ,   9.        ,\n",
              "          0.        ,   2.        ,   3.        ]])"
            ]
          },
          "metadata": {},
          "execution_count": 284
        }
      ]
    },
    {
      "cell_type": "code",
      "source": [
        "feature_names"
      ],
      "metadata": {
        "colab": {
          "base_uri": "https://localhost:8080/"
        },
        "id": "tV7U-W6WcJQU",
        "outputId": "a3fe2a58-179f-4c16-def4-d4d43b8751b8"
      },
      "execution_count": 285,
      "outputs": [
        {
          "output_type": "execute_result",
          "data": {
            "text/plain": [
              "['count_words',\n",
              " 'count_characters',\n",
              " 'count_characters_no_space',\n",
              " 'avg_word_length',\n",
              " 'count_digits',\n",
              " 'count_numbers',\n",
              " 'noun_count',\n",
              " 'aux_count',\n",
              " 'verb_count',\n",
              " 'adj_count',\n",
              " 'ner']"
            ]
          },
          "metadata": {},
          "execution_count": 285
        }
      ]
    },
    {
      "cell_type": "markdown",
      "source": [
        "### <font color ='pickle'>**Create Pipeline**"
      ],
      "metadata": {
        "id": "weOeWlAUz83-"
      }
    },
    {
      "cell_type": "code",
      "source": [
        "classifier_2 = Pipeline([\n",
        "    ('classifier', LogisticRegression(max_iter=10000\n",
        "                                    , class_weight = w)),\n",
        "])\n"
      ],
      "metadata": {
        "id": "RIGPEPEucRyF"
      },
      "execution_count": 286,
      "outputs": []
    },
    {
      "cell_type": "code",
      "source": [
        "classifier_2.get_params().keys()"
      ],
      "metadata": {
        "colab": {
          "base_uri": "https://localhost:8080/"
        },
        "id": "KI3VmX6Yd7FW",
        "outputId": "f699cb95-300c-4565-afff-2d871800e707"
      },
      "execution_count": 287,
      "outputs": [
        {
          "output_type": "execute_result",
          "data": {
            "text/plain": [
              "dict_keys(['memory', 'steps', 'verbose', 'classifier', 'classifier__C', 'classifier__class_weight', 'classifier__dual', 'classifier__fit_intercept', 'classifier__intercept_scaling', 'classifier__l1_ratio', 'classifier__max_iter', 'classifier__multi_class', 'classifier__n_jobs', 'classifier__penalty', 'classifier__random_state', 'classifier__solver', 'classifier__tol', 'classifier__verbose', 'classifier__warm_start'])"
            ]
          },
          "metadata": {},
          "execution_count": 287
        }
      ]
    },
    {
      "cell_type": "markdown",
      "source": [
        "### <font color ='pickle'>**Parameter Grid**"
      ],
      "metadata": {
        "id": "3VHBJBwDz5GU"
      }
    },
    {
      "cell_type": "code",
      "source": [
        "param_bayes_classifier_2 = {\n",
        "    'classifier__C': Real(0.0001, 10000, prior='log-uniform'),\n",
        "    'classifier__solver': Categorical(['liblinear', 'saga', 'newton-cg', 'lbfgs'])\n",
        "}\n",
        "\n"
      ],
      "metadata": {
        "id": "F46CjcdzdIPw"
      },
      "execution_count": 288,
      "outputs": []
    },
    {
      "cell_type": "markdown",
      "source": [
        "### <font color ='pickle'>**Perform Bayesian optimization**"
      ],
      "metadata": {
        "id": "PJIxkl2M8TLx"
      }
    },
    {
      "cell_type": "code",
      "source": [
        "# Perform Bayesian optimization\n",
        "optimizer2 = BayesSearchCV(estimator=classifier_2, search_spaces= param_bayes_classifier_2, n_iter=20, cv=5, n_jobs = -1, verbose = 1\n",
        "                          , scoring=pr_auc_scorer\n",
        "                          )\n",
        "\n",
        "\n",
        "# Fit the model to the data\n",
        "optimizer2.fit(X_train_features, ytrain)\n",
        "\n",
        "# Print the best hyperparameters aand corresponding score\n",
        "print(\"Best score:\", optimizer2.best_score_)\n",
        "print(\"Best hyperparameters:\", optimizer2.best_params_)"
      ],
      "metadata": {
        "colab": {
          "base_uri": "https://localhost:8080/"
        },
        "id": "P3H3EUQOeLgp",
        "outputId": "a8b06d0b-efce-4bfa-a29d-68b1765787cf"
      },
      "execution_count": 289,
      "outputs": [
        {
          "output_type": "stream",
          "name": "stdout",
          "text": [
            "Fitting 5 folds for each of 1 candidates, totalling 5 fits\n",
            "Fitting 5 folds for each of 1 candidates, totalling 5 fits\n",
            "Fitting 5 folds for each of 1 candidates, totalling 5 fits\n",
            "Fitting 5 folds for each of 1 candidates, totalling 5 fits\n",
            "Fitting 5 folds for each of 1 candidates, totalling 5 fits\n",
            "Fitting 5 folds for each of 1 candidates, totalling 5 fits\n",
            "Fitting 5 folds for each of 1 candidates, totalling 5 fits\n",
            "Fitting 5 folds for each of 1 candidates, totalling 5 fits\n",
            "Fitting 5 folds for each of 1 candidates, totalling 5 fits\n",
            "Fitting 5 folds for each of 1 candidates, totalling 5 fits\n",
            "Fitting 5 folds for each of 1 candidates, totalling 5 fits\n",
            "Fitting 5 folds for each of 1 candidates, totalling 5 fits\n",
            "Fitting 5 folds for each of 1 candidates, totalling 5 fits\n",
            "Fitting 5 folds for each of 1 candidates, totalling 5 fits\n",
            "Fitting 5 folds for each of 1 candidates, totalling 5 fits\n",
            "Fitting 5 folds for each of 1 candidates, totalling 5 fits\n",
            "Fitting 5 folds for each of 1 candidates, totalling 5 fits\n",
            "Fitting 5 folds for each of 1 candidates, totalling 5 fits\n",
            "Fitting 5 folds for each of 1 candidates, totalling 5 fits\n",
            "Fitting 5 folds for each of 1 candidates, totalling 5 fits\n",
            "Best score: 0.8866129474704282\n",
            "Best hyperparameters: OrderedDict([('classifier__C', 0.00022282847439155135), ('classifier__solver', 'lbfgs')])\n"
          ]
        }
      ]
    },
    {
      "cell_type": "code",
      "source": [
        "\n",
        "print(f'Best cross-validation score: {optimizer2.best_score_:.2f}')\n",
        "print(\"\\nBest parameters: \", optimizer2.best_params_)\n",
        "print(\"\\nBest estimator: \", optimizer2.best_estimator_)"
      ],
      "metadata": {
        "colab": {
          "base_uri": "https://localhost:8080/"
        },
        "id": "erLE0qrpeR8G",
        "outputId": "ad9d193b-8daa-4ea9-d84e-8a936a12423d"
      },
      "execution_count": 290,
      "outputs": [
        {
          "output_type": "stream",
          "name": "stdout",
          "text": [
            "Best cross-validation score: 0.89\n",
            "\n",
            "Best parameters:  OrderedDict([('classifier__C', 0.00022282847439155135), ('classifier__solver', 'lbfgs')])\n",
            "\n",
            "Best estimator:  Pipeline(steps=[('classifier',\n",
            "                 LogisticRegression(C=0.00022282847439155135,\n",
            "                                    class_weight={0: 13, 1: 87},\n",
            "                                    max_iter=10000))])\n"
          ]
        }
      ]
    },
    {
      "cell_type": "markdown",
      "source": [
        "### <font color ='pickle'>**Save Model**"
      ],
      "metadata": {
        "id": "VkX8Yikw8Z-k"
      }
    },
    {
      "cell_type": "code",
      "source": [
        "file_best_estimator_pipeline2_round1 = model_folder / \\\n",
        "    'logistic_pipeline2_prauc_best_estimator.pkl'\n",
        "file_complete_grid_pipeline2_round1 = model_folder / \\\n",
        "    'logistic_pipeline2_prauc_complete_grid.pkl'\n",
        "\n",
        "\n",
        "\n"
      ],
      "metadata": {
        "id": "T0pQHRNuiDIN"
      },
      "execution_count": 291,
      "outputs": []
    },
    {
      "cell_type": "code",
      "source": [
        "joblib.dump(optimizer2.best_estimator_,\n",
        "            file_best_estimator_pipeline2_round1)\n",
        "joblib.dump(optimizer2, file_complete_grid_pipeline2_round1)"
      ],
      "metadata": {
        "colab": {
          "base_uri": "https://localhost:8080/"
        },
        "id": "4kb2yBVIiSgd",
        "outputId": "d68ada2b-01b8-498f-9b97-472d0f8f99d2"
      },
      "execution_count": 292,
      "outputs": [
        {
          "output_type": "execute_result",
          "data": {
            "text/plain": [
              "['/content/drive/MyDrive/NLP/models/spam/logistic_pipeline2_prauc_complete_grid.pkl']"
            ]
          },
          "metadata": {},
          "execution_count": 292
        }
      ]
    },
    {
      "cell_type": "code",
      "source": [
        "# load the saved model\n",
        "best_estimator_pipeline2_round1 = joblib.load(\n",
        "    file_best_estimator_pipeline2_round1)\n",
        "complete_grid_pipeline2_round1 = joblib.load(\n",
        "    file_complete_grid_pipeline2_round1)\n",
        "\n",
        "\n",
        "# load the saved model\n",
        "best_estimator_pipeline2_round2 = joblib.load(\n",
        "    file_best_estimator_pipeline2_round2)\n",
        "complete_grid_pipeline2_round2 = joblib.load(\n",
        "    file_complete_grid_pipeline2_round2)\n"
      ],
      "metadata": {
        "id": "AG9rpGMOiUzn"
      },
      "execution_count": 293,
      "outputs": []
    },
    {
      "cell_type": "markdown",
      "source": [
        "### <font color ='pickle'>**Plot Learning**"
      ],
      "metadata": {
        "id": "Hk_XmkzZ8gzx"
      }
    },
    {
      "cell_type": "code",
      "source": [
        "# plot learning curces\n",
        "plot_learning_curve(best_estimator_pipeline2_round1, 'Learning Curves',\n",
        "                    X_train_features, ytrain, n_jobs=-1)"
      ],
      "metadata": {
        "colab": {
          "base_uri": "https://localhost:8080/",
          "height": 427
        },
        "id": "mCMdtjllib5M",
        "outputId": "c79070f7-8d43-4837-f80f-67aa9b9e45e2"
      },
      "execution_count": 294,
      "outputs": [
        {
          "output_type": "execute_result",
          "data": {
            "text/plain": [
              "<module 'matplotlib.pyplot' from '/usr/local/lib/python3.10/dist-packages/matplotlib/pyplot.py'>"
            ]
          },
          "metadata": {},
          "execution_count": 294
        },
        {
          "output_type": "display_data",
          "data": {
            "text/plain": [
              "<Figure size 2000x500 with 3 Axes>"
            ],
            "image/png": "[encoded data removed]"
          },
          "metadata": {}
        }
      ]
    },
    {
      "cell_type": "code",
      "source": [
        "# let's check the train scores\n",
        "print(best_estimator_pipeline2_round1.score(X_train_features, ytrain))\n",
        "\n",
        "# let's check the cross validation score\n",
        "print(complete_grid_pipeline2_round1.best_score_)"
      ],
      "metadata": {
        "colab": {
          "base_uri": "https://localhost:8080/"
        },
        "id": "VVYjjmbmihbL",
        "outputId": "85c546ed-0f34-40b0-dd21-5dd6a94941c9"
      },
      "execution_count": 295,
      "outputs": [
        {
          "output_type": "stream",
          "name": "stdout",
          "text": [
            "0.9707865168539326\n",
            "0.8866129474704282\n"
          ]
        }
      ]
    },
    {
      "cell_type": "markdown",
      "source": [],
      "metadata": {
        "id": "ig32hsnQzCjz"
      }
    },
    {
      "cell_type": "code",
      "source": [],
      "metadata": {
        "id": "x654NItUzG6O"
      },
      "execution_count": null,
      "outputs": []
    },
    {
      "cell_type": "markdown",
      "source": [
        "### <font color ='pickle'>**Evaluate on Test**"
      ],
      "metadata": {
        "id": "VLlFs0hhzHvq"
      }
    },
    {
      "cell_type": "code",
      "source": [
        "# Final Pipeline\n",
        "def final_pipeline(text):\n",
        "    features, feature_names = featurizer.fit_transform(text)\n",
        "    best_estimator_pipeline2_round1 = joblib.load(\n",
        "        file_best_estimator_pipeline2_round1)\n",
        "    predictions = best_estimator_pipeline2_round1.predict(features)\n",
        "    return predictions\n"
      ],
      "metadata": {
        "id": "w-nnbQvRisMr"
      },
      "execution_count": 296,
      "outputs": []
    },
    {
      "cell_type": "code",
      "source": [
        "# predicted values for Test data set\n",
        "y_test_pred = final_pipeline(xtest)\n"
      ],
      "metadata": {
        "colab": {
          "base_uri": "https://localhost:8080/"
        },
        "id": "wQ2MKQAZiygM",
        "outputId": "a87bb348-6bf8-43f8-ed66-415f3e191c12"
      },
      "execution_count": 297,
      "outputs": [
        {
          "output_type": "stream",
          "name": "stderr",
          "text": [
            "/content/drive/MyDrive/NLP/custom-functions/custom_preprocessor_mod.py:90: MarkupResemblesLocatorWarning: The input looks more like a filename than markup. You may want to open this file and pass the filehandle into Beautiful Soup.\n",
            "  soup = BeautifulSoup(text, \"html.parser\")\n"
          ]
        }
      ]
    },
    {
      "cell_type": "code",
      "source": [
        "print('\\nTest set classification report:\\n\\n',\n",
        "      classification_report(ytest, y_test_pred))\n"
      ],
      "metadata": {
        "colab": {
          "base_uri": "https://localhost:8080/"
        },
        "id": "pTW09a4Ni2fw",
        "outputId": "d5507059-5655-4b08-924c-18415f0579e8"
      },
      "execution_count": 298,
      "outputs": [
        {
          "output_type": "stream",
          "name": "stdout",
          "text": [
            "\n",
            "Test set classification report:\n",
            "\n",
            "               precision    recall  f1-score   support\n",
            "\n",
            "           0       0.99      0.95      0.97        98\n",
            "           1       0.72      0.93      0.81        14\n",
            "\n",
            "    accuracy                           0.95       112\n",
            "   macro avg       0.86      0.94      0.89       112\n",
            "weighted avg       0.96      0.95      0.95       112\n",
            "\n"
          ]
        }
      ]
    },
    {
      "cell_type": "code",
      "source": [
        "from sklearn.metrics import confusion_matrix\n",
        "print(confusion_matrix(ytest, y_test_pred))"
      ],
      "metadata": {
        "colab": {
          "base_uri": "https://localhost:8080/"
        },
        "id": "ApKYCIjNi6lT",
        "outputId": "b92a7ac9-7641-4e8a-c8c6-6659f1802b62"
      },
      "execution_count": 299,
      "outputs": [
        {
          "output_type": "stream",
          "name": "stdout",
          "text": [
            "[[93  5]\n",
            " [ 1 13]]\n"
          ]
        }
      ]
    },
    {
      "cell_type": "code",
      "source": [
        "print(balanced_accuracy_score(ytest, y_test_pred))"
      ],
      "metadata": {
        "colab": {
          "base_uri": "https://localhost:8080/"
        },
        "id": "Zou44hsQm3u8",
        "outputId": "464c40e3-87e5-4548-81d8-f22d0b314691"
      },
      "execution_count": 300,
      "outputs": [
        {
          "output_type": "stream",
          "name": "stdout",
          "text": [
            "0.9387755102040817\n"
          ]
        }
      ]
    },
    {
      "cell_type": "code",
      "source": [
        "print(custom_kappa_scorer(ytest, y_test_pred))"
      ],
      "metadata": {
        "colab": {
          "base_uri": "https://localhost:8080/"
        },
        "id": "dm5kCTExk5-B",
        "outputId": "0b0a8044-b9b7-4c9a-e6c4-a9d346b511cc"
      },
      "execution_count": 301,
      "outputs": [
        {
          "output_type": "stream",
          "name": "stdout",
          "text": [
            "0.7818181818181819\n"
          ]
        }
      ]
    },
    {
      "cell_type": "code",
      "source": [
        "print(custom_pr_auc_scorer( ytest, y_test_pred))"
      ],
      "metadata": {
        "colab": {
          "base_uri": "https://localhost:8080/"
        },
        "id": "8q_PxmRejCoU",
        "outputId": "ac0d14d5-a8cc-4632-e9a2-67865594e6ac"
      },
      "execution_count": 302,
      "outputs": [
        {
          "output_type": "stream",
          "name": "stdout",
          "text": [
            "0.8298611111111112\n"
          ]
        }
      ]
    },
    {
      "cell_type": "code",
      "source": [
        "13/18"
      ],
      "metadata": {
        "colab": {
          "base_uri": "https://localhost:8080/"
        },
        "id": "GOi0ZaPpyKT5",
        "outputId": "92fa9dfc-4dfb-4c6c-cce1-9f476891d0d3"
      },
      "execution_count": 303,
      "outputs": [
        {
          "output_type": "execute_result",
          "data": {
            "text/plain": [
              "0.7222222222222222"
            ]
          },
          "metadata": {},
          "execution_count": 303
        }
      ]
    },
    {
      "cell_type": "markdown",
      "source": [
        "### **Final Score on the Chosen Metric**\n",
        "\n",
        "**Precision Recall AUC** - 0.83"
      ],
      "metadata": {
        "id": "EXrOjVPEy9cN"
      }
    },
    {
      "cell_type": "markdown",
      "source": [
        "## <font color ='pickle'>**Pipeline 3: Combine Manual Features and TfID vectors**"
      ],
      "metadata": {
        "id": "l8-wlVUpm4U4"
      }
    },
    {
      "cell_type": "code",
      "source": [
        "X_train_cleaned_sparse_embed = joblib.load(file_X_train_cleaned_sparse_embed)\n",
        "\n",
        "X_train_final = pd.concat((pd.DataFrame(X_train_cleaned_sparse_embed, columns=['cleaned_text']),\n",
        "                           pd.DataFrame(X_train_features, columns=feature_names)), axis=1)\n",
        "\n",
        "X_train_final.head()"
      ],
      "metadata": {
        "colab": {
          "base_uri": "https://localhost:8080/",
          "height": 348
        },
        "id": "mnstPSx1m4-v",
        "outputId": "a2fc766f-2ec7-451e-b2dc-4068dbdeedcb"
      },
      "execution_count": 304,
      "outputs": [
        {
          "output_type": "execute_result",
          "data": {
            "text/plain": [
              "                                        cleaned_text  count_words  \\\n",
              "0                                         aathi dear          5.0   \n",
              "1  free entry 2 weekly comp chance win ipod txt p...         28.0   \n",
              "2  v nice 2 sheffield tom 2 air opinion category ...         19.0   \n",
              "3                                   mum go 2 dentist          5.0   \n",
              "4                                   right brah later          6.0   \n",
              "\n",
              "   count_characters  count_characters_no_space  avg_word_length  count_digits  \\\n",
              "0              24.0                       20.0         3.333333           0.0   \n",
              "1             119.0                       92.0         3.172414          19.0   \n",
              "2             112.0                       94.0         4.700000           4.0   \n",
              "3              22.0                       18.0         3.000000           1.0   \n",
              "4              27.0                       22.0         3.142857           0.0   \n",
              "\n",
              "   count_numbers  noun_count  aux_count  verb_count  adj_count  ner  \n",
              "0            0.0         0.0        0.0         1.0        1.0  1.0  \n",
              "1            4.0         5.0       10.0         0.0        4.0  3.0  \n",
              "2            4.0         4.0        9.0         0.0        2.0  3.0  \n",
              "3            1.0         1.0        2.0         0.0        1.0  0.0  \n",
              "4            0.0         0.0        1.0         0.0        1.0  0.0  "
            ],
            "text/html": [
              "\n",
              "  <div id=\"df-21004c6f-4d1e-40c6-9104-d20d4f114e03\" class=\"colab-df-container\">\n",
              "    <div>\n",
              "<style scoped>\n",
              "    .dataframe tbody tr th:only-of-type {\n",
              "        vertical-align: middle;\n",
              "    }\n",
              "\n",
              "    .dataframe tbody tr th {\n",
              "        vertical-align: top;\n",
              "    }\n",
              "\n",
              "    .dataframe thead th {\n",
              "        text-align: right;\n",
              "    }\n",
              "</style>\n",
              "<table border=\"1\" class=\"dataframe\">\n",
              "  <thead>\n",
              "    <tr style=\"text-align: right;\">\n",
              "      <th></th>\n",
              "      <th>cleaned_text</th>\n",
              "      <th>count_words</th>\n",
              "      <th>count_characters</th>\n",
              "      <th>count_characters_no_space</th>\n",
              "      <th>avg_word_length</th>\n",
              "      <th>count_digits</th>\n",
              "      <th>count_numbers</th>\n",
              "      <th>noun_count</th>\n",
              "      <th>aux_count</th>\n",
              "      <th>verb_count</th>\n",
              "      <th>adj_count</th>\n",
              "      <th>ner</th>\n",
              "    </tr>\n",
              "  </thead>\n",
              "  <tbody>\n",
              "    <tr>\n",
              "      <th>0</th>\n",
              "      <td>aathi dear</td>\n",
              "      <td>5.0</td>\n",
              "      <td>24.0</td>\n",
              "      <td>20.0</td>\n",
              "      <td>3.333333</td>\n",
              "      <td>0.0</td>\n",
              "      <td>0.0</td>\n",
              "      <td>0.0</td>\n",
              "      <td>0.0</td>\n",
              "      <td>1.0</td>\n",
              "      <td>1.0</td>\n",
              "      <td>1.0</td>\n",
              "    </tr>\n",
              "    <tr>\n",
              "      <th>1</th>\n",
              "      <td>free entry 2 weekly comp chance win ipod txt p...</td>\n",
              "      <td>28.0</td>\n",
              "      <td>119.0</td>\n",
              "      <td>92.0</td>\n",
              "      <td>3.172414</td>\n",
              "      <td>19.0</td>\n",
              "      <td>4.0</td>\n",
              "      <td>5.0</td>\n",
              "      <td>10.0</td>\n",
              "      <td>0.0</td>\n",
              "      <td>4.0</td>\n",
              "      <td>3.0</td>\n",
              "    </tr>\n",
              "    <tr>\n",
              "      <th>2</th>\n",
              "      <td>v nice 2 sheffield tom 2 air opinion category ...</td>\n",
              "      <td>19.0</td>\n",
              "      <td>112.0</td>\n",
              "      <td>94.0</td>\n",
              "      <td>4.700000</td>\n",
              "      <td>4.0</td>\n",
              "      <td>4.0</td>\n",
              "      <td>4.0</td>\n",
              "      <td>9.0</td>\n",
              "      <td>0.0</td>\n",
              "      <td>2.0</td>\n",
              "      <td>3.0</td>\n",
              "    </tr>\n",
              "    <tr>\n",
              "      <th>3</th>\n",
              "      <td>mum go 2 dentist</td>\n",
              "      <td>5.0</td>\n",
              "      <td>22.0</td>\n",
              "      <td>18.0</td>\n",
              "      <td>3.000000</td>\n",
              "      <td>1.0</td>\n",
              "      <td>1.0</td>\n",
              "      <td>1.0</td>\n",
              "      <td>2.0</td>\n",
              "      <td>0.0</td>\n",
              "      <td>1.0</td>\n",
              "      <td>0.0</td>\n",
              "    </tr>\n",
              "    <tr>\n",
              "      <th>4</th>\n",
              "      <td>right brah later</td>\n",
              "      <td>6.0</td>\n",
              "      <td>27.0</td>\n",
              "      <td>22.0</td>\n",
              "      <td>3.142857</td>\n",
              "      <td>0.0</td>\n",
              "      <td>0.0</td>\n",
              "      <td>0.0</td>\n",
              "      <td>1.0</td>\n",
              "      <td>0.0</td>\n",
              "      <td>1.0</td>\n",
              "      <td>0.0</td>\n",
              "    </tr>\n",
              "  </tbody>\n",
              "</table>\n",
              "</div>\n",
              "    <div class=\"colab-df-buttons\">\n",
              "\n",
              "  <div class=\"colab-df-container\">\n",
              "    <button class=\"colab-df-convert\" onclick=\"convertToInteractive('df-21004c6f-4d1e-40c6-9104-d20d4f114e03')\"\n",
              "            title=\"Convert this dataframe to an interactive table.\"\n",
              "            style=\"display:none;\">\n",
              "\n",
              "  <svg xmlns=\"http://www.w3.org/2000/svg\" height=\"24px\" viewBox=\"0 -960 960 960\">\n",
              "    <path d=\"M120-120v-720h720v720H120Zm60-500h600v-160H180v160Zm220 220h160v-160H400v160Zm0 220h160v-160H400v160ZM180-400h160v-160H180v160Zm440 0h160v-160H620v160ZM180-180h160v-160H180v160Zm440 0h160v-160H620v160Z\"/>\n",
              "  </svg>\n",
              "    </button>\n",
              "\n",
              "  <style>\n",
              "    .colab-df-container {\n",
              "      display:flex;\n",
              "      gap: 12px;\n",
              "    }\n",
              "\n",
              "    .colab-df-convert {\n",
              "      background-color: #E8F0FE;\n",
              "      border: none;\n",
              "      border-radius: 50%;\n",
              "      cursor: pointer;\n",
              "      display: none;\n",
              "      fill: #1967D2;\n",
              "      height: 32px;\n",
              "      padding: 0 0 0 0;\n",
              "      width: 32px;\n",
              "    }\n",
              "\n",
              "    .colab-df-convert:hover {\n",
              "      background-color: #E2EBFA;\n",
              "      box-shadow: 0px 1px 2px rgba(60, 64, 67, 0.3), 0px 1px 3px 1px rgba(60, 64, 67, 0.15);\n",
              "      fill: #174EA6;\n",
              "    }\n",
              "\n",
              "    .colab-df-buttons div {\n",
              "      margin-bottom: 4px;\n",
              "    }\n",
              "\n",
              "    [theme=dark] .colab-df-convert {\n",
              "      background-color: #3B4455;\n",
              "      fill: #D2E3FC;\n",
              "    }\n",
              "\n",
              "    [theme=dark] .colab-df-convert:hover {\n",
              "      background-color: #434B5C;\n",
              "      box-shadow: 0px 1px 3px 1px rgba(0, 0, 0, 0.15);\n",
              "      filter: drop-shadow(0px 1px 2px rgba(0, 0, 0, 0.3));\n",
              "      fill: #FFFFFF;\n",
              "    }\n",
              "  </style>\n",
              "\n",
              "    <script>\n",
              "      const buttonEl =\n",
              "        document.querySelector('#df-21004c6f-4d1e-40c6-9104-d20d4f114e03 button.colab-df-convert');\n",
              "      buttonEl.style.display =\n",
              "        google.colab.kernel.accessAllowed ? 'block' : 'none';\n",
              "\n",
              "      async function convertToInteractive(key) {\n",
              "        const element = document.querySelector('#df-21004c6f-4d1e-40c6-9104-d20d4f114e03');\n",
              "        const dataTable =\n",
              "          await google.colab.kernel.invokeFunction('convertToInteractive',\n",
              "                                                    [key], {});\n",
              "        if (!dataTable) return;\n",
              "\n",
              "        const docLinkHtml = 'Like what you see? Visit the ' +\n",
              "          '<a target=\"_blank\" href=https://colab.research.google.com/notebooks/data_table.ipynb>data table notebook</a>'\n",
              "          + ' to learn more about interactive tables.';\n",
              "        element.innerHTML = '';\n",
              "        dataTable['output_type'] = 'display_data';\n",
              "        await google.colab.output.renderOutput(dataTable, element);\n",
              "        const docLink = document.createElement('div');\n",
              "        docLink.innerHTML = docLinkHtml;\n",
              "        element.appendChild(docLink);\n",
              "      }\n",
              "    </script>\n",
              "  </div>\n",
              "\n",
              "\n",
              "<div id=\"df-48cebcb3-ab0d-4c9e-a6dd-5ee405e3ee50\">\n",
              "  <button class=\"colab-df-quickchart\" onclick=\"quickchart('df-48cebcb3-ab0d-4c9e-a6dd-5ee405e3ee50')\"\n",
              "            title=\"Suggest charts.\"\n",
              "            style=\"display:none;\">\n",
              "\n",
              "<svg xmlns=\"http://www.w3.org/2000/svg\" height=\"24px\"viewBox=\"0 0 24 24\"\n",
              "     width=\"24px\">\n",
              "    <g>\n",
              "        <path d=\"M19 3H5c-1.1 0-2 .9-2 2v14c0 1.1.9 2 2 2h14c1.1 0 2-.9 2-2V5c0-1.1-.9-2-2-2zM9 17H7v-7h2v7zm4 0h-2V7h2v10zm4 0h-2v-4h2v4z\"/>\n",
              "    </g>\n",
              "</svg>\n",
              "  </button>\n",
              "\n",
              "<style>\n",
              "  .colab-df-quickchart {\n",
              "      --bg-color: #E8F0FE;\n",
              "      --fill-color: #1967D2;\n",
              "      --hover-bg-color: #E2EBFA;\n",
              "      --hover-fill-color: #174EA6;\n",
              "      --disabled-fill-color: #AAA;\n",
              "      --disabled-bg-color: #DDD;\n",
              "  }\n",
              "\n",
              "  [theme=dark] .colab-df-quickchart {\n",
              "      --bg-color: #3B4455;\n",
              "      --fill-color: #D2E3FC;\n",
              "      --hover-bg-color: #434B5C;\n",
              "      --hover-fill-color: #FFFFFF;\n",
              "      --disabled-bg-color: #3B4455;\n",
              "      --disabled-fill-color: #666;\n",
              "  }\n",
              "\n",
              "  .colab-df-quickchart {\n",
              "    background-color: var(--bg-color);\n",
              "    border: none;\n",
              "    border-radius: 50%;\n",
              "    cursor: pointer;\n",
              "    display: none;\n",
              "    fill: var(--fill-color);\n",
              "    height: 32px;\n",
              "    padding: 0;\n",
              "    width: 32px;\n",
              "  }\n",
              "\n",
              "  .colab-df-quickchart:hover {\n",
              "    background-color: var(--hover-bg-color);\n",
              "    box-shadow: 0 1px 2px rgba(60, 64, 67, 0.3), 0 1px 3px 1px rgba(60, 64, 67, 0.15);\n",
              "    fill: var(--button-hover-fill-color);\n",
              "  }\n",
              "\n",
              "  .colab-df-quickchart-complete:disabled,\n",
              "  .colab-df-quickchart-complete:disabled:hover {\n",
              "    background-color: var(--disabled-bg-color);\n",
              "    fill: var(--disabled-fill-color);\n",
              "    box-shadow: none;\n",
              "  }\n",
              "\n",
              "  .colab-df-spinner {\n",
              "    border: 2px solid var(--fill-color);\n",
              "    border-color: transparent;\n",
              "    border-bottom-color: var(--fill-color);\n",
              "    animation:\n",
              "      spin 1s steps(1) infinite;\n",
              "  }\n",
              "\n",
              "  @keyframes spin {\n",
              "    0% {\n",
              "      border-color: transparent;\n",
              "      border-bottom-color: var(--fill-color);\n",
              "      border-left-color: var(--fill-color);\n",
              "    }\n",
              "    20% {\n",
              "      border-color: transparent;\n",
              "      border-left-color: var(--fill-color);\n",
              "      border-top-color: var(--fill-color);\n",
              "    }\n",
              "    30% {\n",
              "      border-color: transparent;\n",
              "      border-left-color: var(--fill-color);\n",
              "      border-top-color: var(--fill-color);\n",
              "      border-right-color: var(--fill-color);\n",
              "    }\n",
              "    40% {\n",
              "      border-color: transparent;\n",
              "      border-right-color: var(--fill-color);\n",
              "      border-top-color: var(--fill-color);\n",
              "    }\n",
              "    60% {\n",
              "      border-color: transparent;\n",
              "      border-right-color: var(--fill-color);\n",
              "    }\n",
              "    80% {\n",
              "      border-color: transparent;\n",
              "      border-right-color: var(--fill-color);\n",
              "      border-bottom-color: var(--fill-color);\n",
              "    }\n",
              "    90% {\n",
              "      border-color: transparent;\n",
              "      border-bottom-color: var(--fill-color);\n",
              "    }\n",
              "  }\n",
              "</style>\n",
              "\n",
              "  <script>\n",
              "    async function quickchart(key) {\n",
              "      const quickchartButtonEl =\n",
              "        document.querySelector('#' + key + ' button');\n",
              "      quickchartButtonEl.disabled = true;  // To prevent multiple clicks.\n",
              "      quickchartButtonEl.classList.add('colab-df-spinner');\n",
              "      try {\n",
              "        const charts = await google.colab.kernel.invokeFunction(\n",
              "            'suggestCharts', [key], {});\n",
              "      } catch (error) {\n",
              "        console.error('Error during call to suggestCharts:', error);\n",
              "      }\n",
              "      quickchartButtonEl.classList.remove('colab-df-spinner');\n",
              "      quickchartButtonEl.classList.add('colab-df-quickchart-complete');\n",
              "    }\n",
              "    (() => {\n",
              "      let quickchartButtonEl =\n",
              "        document.querySelector('#df-48cebcb3-ab0d-4c9e-a6dd-5ee405e3ee50 button');\n",
              "      quickchartButtonEl.style.display =\n",
              "        google.colab.kernel.accessAllowed ? 'block' : 'none';\n",
              "    })();\n",
              "  </script>\n",
              "</div>\n",
              "\n",
              "    </div>\n",
              "  </div>\n"
            ]
          },
          "metadata": {},
          "execution_count": 304
        }
      ]
    },
    {
      "cell_type": "code",
      "source": [
        "X_train_final.info()"
      ],
      "metadata": {
        "colab": {
          "base_uri": "https://localhost:8080/"
        },
        "id": "JkN1M0AkyRmB",
        "outputId": "99d0a0db-d14d-43c1-ddcb-758a2be4156b"
      },
      "execution_count": 305,
      "outputs": [
        {
          "output_type": "stream",
          "name": "stdout",
          "text": [
            "<class 'pandas.core.frame.DataFrame'>\n",
            "RangeIndex: 445 entries, 0 to 444\n",
            "Data columns (total 12 columns):\n",
            " #   Column                     Non-Null Count  Dtype  \n",
            "---  ------                     --------------  -----  \n",
            " 0   cleaned_text               445 non-null    object \n",
            " 1   count_words                445 non-null    float64\n",
            " 2   count_characters           445 non-null    float64\n",
            " 3   count_characters_no_space  445 non-null    float64\n",
            " 4   avg_word_length            445 non-null    float64\n",
            " 5   count_digits               445 non-null    float64\n",
            " 6   count_numbers              445 non-null    float64\n",
            " 7   noun_count                 445 non-null    float64\n",
            " 8   aux_count                  445 non-null    float64\n",
            " 9   verb_count                 445 non-null    float64\n",
            " 10  adj_count                  445 non-null    float64\n",
            " 11  ner                        445 non-null    float64\n",
            "dtypes: float64(11), object(1)\n",
            "memory usage: 41.8+ KB\n"
          ]
        }
      ]
    },
    {
      "cell_type": "code",
      "source": [
        "class SparseTransformer(TransformerMixin, BaseEstimator):\n",
        "    def __init__(self):\n",
        "        pass\n",
        "\n",
        "    def fit(self, X, y=None):\n",
        "        return self\n",
        "\n",
        "    def transform(self, X, y=None):\n",
        "        return csr_matrix(X)\n",
        "\n",
        ""
      ],
      "metadata": {
        "id": "bAyAN416nDi2"
      },
      "execution_count": 306,
      "outputs": []
    },
    {
      "cell_type": "code",
      "source": [
        "sparse_features = Pipeline([('sparse', SparseTransformer()), ])\n",
        "vectorizer = Pipeline([('tfidf', TfidfVectorizer(max_features=5)), ])"
      ],
      "metadata": {
        "id": "VRNSdl16yc6-"
      },
      "execution_count": 307,
      "outputs": []
    },
    {
      "cell_type": "code",
      "source": [
        "combined_features = ColumnTransformer(\n",
        "    transformers=[\n",
        "        ('tfidf', vectorizer, 'cleaned_text'),\n",
        "    ], remainder=sparse_features\n",
        ")\n"
      ],
      "metadata": {
        "id": "M86-d7WhydKY"
      },
      "execution_count": 308,
      "outputs": []
    },
    {
      "cell_type": "markdown",
      "source": [
        "### <font color ='pickle'>**Create Final Pipeline**"
      ],
      "metadata": {
        "id": "vQyvFAY6yidn"
      }
    },
    {
      "cell_type": "code",
      "source": [
        "classifier_3 = Pipeline([('combined_features',  combined_features),\n",
        "                         ('classifier', LogisticRegression(max_iter=10000, random_state=21, class_weight=w)),\n",
        "                         ])\n"
      ],
      "metadata": {
        "id": "HcygY11byjAh"
      },
      "execution_count": 309,
      "outputs": []
    },
    {
      "cell_type": "code",
      "source": [
        "classifier_3.get_params().keys()"
      ],
      "metadata": {
        "colab": {
          "base_uri": "https://localhost:8080/"
        },
        "id": "snslfn4dymhl",
        "outputId": "caf0a68f-7880-4fe8-fe45-c57cea210a8c"
      },
      "execution_count": 310,
      "outputs": [
        {
          "output_type": "execute_result",
          "data": {
            "text/plain": [
              "dict_keys(['memory', 'steps', 'verbose', 'combined_features', 'classifier', 'combined_features__n_jobs', 'combined_features__remainder__memory', 'combined_features__remainder__steps', 'combined_features__remainder__verbose', 'combined_features__remainder__sparse', 'combined_features__remainder', 'combined_features__sparse_threshold', 'combined_features__transformer_weights', 'combined_features__transformers', 'combined_features__verbose', 'combined_features__verbose_feature_names_out', 'combined_features__tfidf', 'combined_features__tfidf__memory', 'combined_features__tfidf__steps', 'combined_features__tfidf__verbose', 'combined_features__tfidf__tfidf', 'combined_features__tfidf__tfidf__analyzer', 'combined_features__tfidf__tfidf__binary', 'combined_features__tfidf__tfidf__decode_error', 'combined_features__tfidf__tfidf__dtype', 'combined_features__tfidf__tfidf__encoding', 'combined_features__tfidf__tfidf__input', 'combined_features__tfidf__tfidf__lowercase', 'combined_features__tfidf__tfidf__max_df', 'combined_features__tfidf__tfidf__max_features', 'combined_features__tfidf__tfidf__min_df', 'combined_features__tfidf__tfidf__ngram_range', 'combined_features__tfidf__tfidf__norm', 'combined_features__tfidf__tfidf__preprocessor', 'combined_features__tfidf__tfidf__smooth_idf', 'combined_features__tfidf__tfidf__stop_words', 'combined_features__tfidf__tfidf__strip_accents', 'combined_features__tfidf__tfidf__sublinear_tf', 'combined_features__tfidf__tfidf__token_pattern', 'combined_features__tfidf__tfidf__tokenizer', 'combined_features__tfidf__tfidf__use_idf', 'combined_features__tfidf__tfidf__vocabulary', 'classifier__C', 'classifier__class_weight', 'classifier__dual', 'classifier__fit_intercept', 'classifier__intercept_scaling', 'classifier__l1_ratio', 'classifier__max_iter', 'classifier__multi_class', 'classifier__n_jobs', 'classifier__penalty', 'classifier__random_state', 'classifier__solver', 'classifier__tol', 'classifier__verbose', 'classifier__warm_start'])"
            ]
          },
          "metadata": {},
          "execution_count": 310
        }
      ]
    },
    {
      "cell_type": "markdown",
      "source": [
        "### <font color ='pickle'>**Parameter Grid**"
      ],
      "metadata": {
        "id": "hDWxv2jh0E8o"
      }
    },
    {
      "cell_type": "code",
      "source": [
        "# We are exploring a small combination of parameters\n",
        "# If the search space is very large then we should use RandomSerachCV or some other methods\n",
        "\n",
        "param_bayes_classifier_3 = {'combined_features__tfidf__tfidf__max_features': Integer(500, 10000),\n",
        "                           #'combined_features__tfidf__tfidf__ngram_range': [(1, 1), (1, 2), (1, 3)],\n",
        "                           'combined_features__tfidf__tfidf__max_df': Real(0.2, 0.8),\n",
        "                           'combined_features__tfidf__tfidf__min_df': Real(0.01, 0.05, prior='log-uniform'),\n",
        "                           'classifier__solver': Categorical(['liblinear', 'saga', 'newton-cg', 'lbfgs']),\n",
        "\n",
        "                           'classifier__C': Real(0.01, 100, prior='log-uniform')\n",
        "                           }"
      ],
      "metadata": {
        "id": "3yWOczHhyo9L"
      },
      "execution_count": 311,
      "outputs": []
    },
    {
      "cell_type": "markdown",
      "source": [
        "### <font color ='pickle'>**Perform Bayesian optimization**"
      ],
      "metadata": {
        "id": "b4UWRp3W0JAX"
      }
    },
    {
      "cell_type": "code",
      "source": [
        "# Perform Bayesian optimization\n",
        "optimizer3 = BayesSearchCV(estimator=classifier_3, search_spaces= param_bayes_classifier_3, n_iter=50, cv=5, n_jobs = -1, verbose = 1\n",
        "                          , scoring=pr_auc_scorer\n",
        "                           )\n",
        "\n",
        "\n",
        "# Fit the model to the data\n",
        "optimizer3.fit(X_train_final, ytrain)\n",
        "\n",
        "# Print the best hyperparameters aand corresponding score\n",
        "print(\"Best score:\", optimizer3.best_score_)\n",
        "print(\"Best hyperparameters:\", optimizer3.best_params_)"
      ],
      "metadata": {
        "colab": {
          "base_uri": "https://localhost:8080/"
        },
        "id": "tzzRxhjn0OW3",
        "outputId": "188caa26-8f90-4dec-f594-aa5132569ff7"
      },
      "execution_count": 312,
      "outputs": [
        {
          "output_type": "stream",
          "name": "stdout",
          "text": [
            "Fitting 5 folds for each of 1 candidates, totalling 5 fits\n",
            "Fitting 5 folds for each of 1 candidates, totalling 5 fits\n",
            "Fitting 5 folds for each of 1 candidates, totalling 5 fits\n",
            "Fitting 5 folds for each of 1 candidates, totalling 5 fits\n",
            "Fitting 5 folds for each of 1 candidates, totalling 5 fits\n",
            "Fitting 5 folds for each of 1 candidates, totalling 5 fits\n",
            "Fitting 5 folds for each of 1 candidates, totalling 5 fits\n",
            "Fitting 5 folds for each of 1 candidates, totalling 5 fits\n",
            "Fitting 5 folds for each of 1 candidates, totalling 5 fits\n",
            "Fitting 5 folds for each of 1 candidates, totalling 5 fits\n",
            "Fitting 5 folds for each of 1 candidates, totalling 5 fits\n",
            "Fitting 5 folds for each of 1 candidates, totalling 5 fits\n",
            "Fitting 5 folds for each of 1 candidates, totalling 5 fits\n",
            "Fitting 5 folds for each of 1 candidates, totalling 5 fits\n",
            "Fitting 5 folds for each of 1 candidates, totalling 5 fits\n",
            "Fitting 5 folds for each of 1 candidates, totalling 5 fits\n",
            "Fitting 5 folds for each of 1 candidates, totalling 5 fits\n",
            "Fitting 5 folds for each of 1 candidates, totalling 5 fits\n",
            "Fitting 5 folds for each of 1 candidates, totalling 5 fits\n",
            "Fitting 5 folds for each of 1 candidates, totalling 5 fits\n",
            "Fitting 5 folds for each of 1 candidates, totalling 5 fits\n",
            "Fitting 5 folds for each of 1 candidates, totalling 5 fits\n",
            "Fitting 5 folds for each of 1 candidates, totalling 5 fits\n",
            "Fitting 5 folds for each of 1 candidates, totalling 5 fits\n",
            "Fitting 5 folds for each of 1 candidates, totalling 5 fits\n",
            "Fitting 5 folds for each of 1 candidates, totalling 5 fits\n",
            "Fitting 5 folds for each of 1 candidates, totalling 5 fits\n",
            "Fitting 5 folds for each of 1 candidates, totalling 5 fits\n",
            "Fitting 5 folds for each of 1 candidates, totalling 5 fits\n",
            "Fitting 5 folds for each of 1 candidates, totalling 5 fits\n",
            "Fitting 5 folds for each of 1 candidates, totalling 5 fits\n",
            "Fitting 5 folds for each of 1 candidates, totalling 5 fits\n",
            "Fitting 5 folds for each of 1 candidates, totalling 5 fits\n",
            "Fitting 5 folds for each of 1 candidates, totalling 5 fits\n",
            "Fitting 5 folds for each of 1 candidates, totalling 5 fits\n",
            "Fitting 5 folds for each of 1 candidates, totalling 5 fits\n",
            "Fitting 5 folds for each of 1 candidates, totalling 5 fits\n",
            "Fitting 5 folds for each of 1 candidates, totalling 5 fits\n",
            "Fitting 5 folds for each of 1 candidates, totalling 5 fits\n",
            "Fitting 5 folds for each of 1 candidates, totalling 5 fits\n",
            "Fitting 5 folds for each of 1 candidates, totalling 5 fits\n",
            "Fitting 5 folds for each of 1 candidates, totalling 5 fits\n",
            "Fitting 5 folds for each of 1 candidates, totalling 5 fits\n",
            "Fitting 5 folds for each of 1 candidates, totalling 5 fits\n",
            "Fitting 5 folds for each of 1 candidates, totalling 5 fits\n",
            "Fitting 5 folds for each of 1 candidates, totalling 5 fits\n",
            "Fitting 5 folds for each of 1 candidates, totalling 5 fits\n",
            "Fitting 5 folds for each of 1 candidates, totalling 5 fits\n",
            "Fitting 5 folds for each of 1 candidates, totalling 5 fits\n",
            "Fitting 5 folds for each of 1 candidates, totalling 5 fits\n",
            "Best score: 0.8998232104973679\n",
            "Best hyperparameters: OrderedDict([('classifier__C', 96.77390875862396), ('classifier__solver', 'liblinear'), ('combined_features__tfidf__tfidf__max_df', 0.20948295467105785), ('combined_features__tfidf__tfidf__max_features', 5730), ('combined_features__tfidf__tfidf__min_df', 0.010690590282645528)])\n"
          ]
        }
      ]
    },
    {
      "cell_type": "code",
      "source": [
        "print(\n",
        "    \"Best cross-validation score: {:.2f}\".format(optimizer3.best_score_))\n",
        "print(\"\\nBest parameters: \", optimizer3.best_params_)\n",
        "print(\"\\nBest estimator: \", optimizer3.best_estimator_)\n"
      ],
      "metadata": {
        "colab": {
          "base_uri": "https://localhost:8080/"
        },
        "id": "8dWGwtyI6YHA",
        "outputId": "af4f98fc-f036-4252-8c1d-7ae99991b5cf"
      },
      "execution_count": 313,
      "outputs": [
        {
          "output_type": "stream",
          "name": "stdout",
          "text": [
            "Best cross-validation score: 0.90\n",
            "\n",
            "Best parameters:  OrderedDict([('classifier__C', 96.77390875862396), ('classifier__solver', 'liblinear'), ('combined_features__tfidf__tfidf__max_df', 0.20948295467105785), ('combined_features__tfidf__tfidf__max_features', 5730), ('combined_features__tfidf__tfidf__min_df', 0.010690590282645528)])\n",
            "\n",
            "Best estimator:  Pipeline(steps=[('combined_features',\n",
            "                 ColumnTransformer(remainder=Pipeline(steps=[('sparse',\n",
            "                                                              SparseTransformer())]),\n",
            "                                   transformers=[('tfidf',\n",
            "                                                  Pipeline(steps=[('tfidf',\n",
            "                                                                   TfidfVectorizer(max_df=0.20948295467105785,\n",
            "                                                                                   max_features=5730,\n",
            "                                                                                   min_df=0.010690590282645528))]),\n",
            "                                                  'cleaned_text')])),\n",
            "                ('classifier',\n",
            "                 LogisticRegression(C=96.77390875862396,\n",
            "                                    class_weight={0: 13, 1: 87}, max_iter=10000,\n",
            "                                    random_state=21, solver='liblinear'))])\n"
          ]
        }
      ]
    },
    {
      "cell_type": "markdown",
      "source": [
        "### <font color ='pickle'>**Save & Load Model**"
      ],
      "metadata": {
        "id": "yLsOJQ3O-jFW"
      }
    },
    {
      "cell_type": "code",
      "source": [
        "file_best_estimator_pipeline3 = model_folder / \\\n",
        "    'logistic_pipeline3_prauc.pkl'\n",
        "file_complete_bayes_pipeline3= model_folder / \\\n",
        "    'logistic_pipeline3_prauc_complete_bayes.pkl'\n",
        "\n",
        "joblib.dump(optimizer3.best_estimator_, file_best_estimator_pipeline3)\n",
        "joblib.dump(optimizer3, file_complete_bayes_pipeline3)\n",
        "\n",
        "\n",
        "file_best_estimator_pipeline3_round2 = model_folder / \\\n",
        "    'logistic_pipeline3_balaccuracy.pkl'\n",
        "file_complete_bayes_pipeline3_round2= model_folder / \\\n",
        "    'logistic_pipeline3_balaccuracy_complete_bayes.pkl'\n",
        "\n"
      ],
      "metadata": {
        "id": "Ph0cjXbk72sV"
      },
      "execution_count": 314,
      "outputs": []
    },
    {
      "cell_type": "code",
      "source": [
        "# load the saved model\n",
        "best_estimator_pipeline3_round1 = joblib.load(\n",
        "    file_best_estimator_pipeline3)\n",
        "complete_bayes_pipeline3_round1 = joblib.load(\n",
        "    file_complete_bayes_pipeline3)\n",
        "\n",
        "# load the saved model\n",
        "best_estimator_pipeline3_round2 = joblib.load(\n",
        "    file_best_estimator_pipeline3_round2)\n",
        "complete_bayes_pipeline3_round2 = joblib.load(\n",
        "    file_complete_bayes_pipeline3_round2)"
      ],
      "metadata": {
        "id": "ONUlFOAR8ByR"
      },
      "execution_count": 315,
      "outputs": []
    },
    {
      "cell_type": "markdown",
      "source": [
        "### <font color ='pickle'>**Plot Learning Curve**"
      ],
      "metadata": {
        "id": "NG9Lbt0A-qb7"
      }
    },
    {
      "cell_type": "code",
      "source": [
        "# plot learning curces\n",
        "plot_learning_curve(best_estimator_pipeline3_round1, 'Learning Curves',\n",
        "                    X_train_final, ytrain, n_jobs=-1)"
      ],
      "metadata": {
        "colab": {
          "base_uri": "https://localhost:8080/",
          "height": 429
        },
        "id": "k0fv5hPd-aCa",
        "outputId": "f3acf8f0-5604-49f7-bbc6-8d492826972f"
      },
      "execution_count": 316,
      "outputs": [
        {
          "output_type": "execute_result",
          "data": {
            "text/plain": [
              "<module 'matplotlib.pyplot' from '/usr/local/lib/python3.10/dist-packages/matplotlib/pyplot.py'>"
            ]
          },
          "metadata": {},
          "execution_count": 316
        },
        {
          "output_type": "display_data",
          "data": {
            "text/plain": [
              "<Figure size 2000x500 with 3 Axes>"
            ],
            "image/png": "[encoded data removed]"
          },
          "metadata": {}
        }
      ]
    },
    {
      "cell_type": "markdown",
      "source": [
        "<font color ='indianred'>**Observations**\n",
        "<br></font>\n",
        "Clearly has a high score on both training and cross-validation datset which doesn't suggest that it overfits. Even if we consider this as an overfit, we can address this issues through following methods\n",
        "\n",
        "1. Adding more data (training model on complete dataset)\n",
        "2. By hyperparameter tuning (reduce model complexity) of logistic regression"
      ],
      "metadata": {
        "id": "t5cgHIXE1Yr6"
      }
    },
    {
      "cell_type": "code",
      "source": [
        "# let's check the train scores\n",
        "print(best_estimator_pipeline3_round1.score(X_train_final, y_train))\n",
        "\n",
        "# let's check the cross validation score\n",
        "print(complete_bayes_pipeline3_round1.best_score_)"
      ],
      "metadata": {
        "colab": {
          "base_uri": "https://localhost:8080/"
        },
        "id": "mxdx0uZ1-y3Y",
        "outputId": "f6fdd2ce-6985-4248-ebe5-6aa27e765cef"
      },
      "execution_count": 317,
      "outputs": [
        {
          "output_type": "stream",
          "name": "stdout",
          "text": [
            "1.0\n",
            "0.8998232104973679\n"
          ]
        }
      ]
    },
    {
      "cell_type": "markdown",
      "source": [
        "### <font color ='pickle'>**Evaluate on Test**"
      ],
      "metadata": {
        "id": "e1e8n2VozMag"
      }
    },
    {
      "cell_type": "code",
      "source": [
        "# Final Pipeline\n",
        "def final_pipeline(text):\n",
        "    cleaned_text = cpp.transform(text)\n",
        "    # cleaned_text = joblib.load(file_X_test_cleaned_sparse_embed)\n",
        "    X_features, feature_names = featurizer.fit_transform(text)\n",
        "    X_final = pd.concat((pd.DataFrame(cleaned_text, columns=['cleaned_text']),\n",
        "                         pd.DataFrame(X_features, columns=feature_names)), axis=1)\n",
        "    best_estimator_pipeline3_round1 = joblib.load(\n",
        "        file_best_estimator_pipeline3)\n",
        "    predictions = best_estimator_pipeline3_round1.predict(X_final)\n",
        "    return predictions"
      ],
      "metadata": {
        "id": "_CUpxZZF_Nuu"
      },
      "execution_count": 318,
      "outputs": []
    },
    {
      "cell_type": "code",
      "source": [
        "# predicted values for Test data set\n",
        "y_test_pred = final_pipeline(xtest)"
      ],
      "metadata": {
        "colab": {
          "base_uri": "https://localhost:8080/"
        },
        "id": "YJWCyRGdAJUW",
        "outputId": "760578f1-25b2-44fa-d309-53837e463dd9"
      },
      "execution_count": 319,
      "outputs": [
        {
          "output_type": "stream",
          "name": "stderr",
          "text": [
            "/content/drive/MyDrive/NLP/custom-functions/custom_preprocessor_mod.py:90: MarkupResemblesLocatorWarning: The input looks more like a filename than markup. You may want to open this file and pass the filehandle into Beautiful Soup.\n",
            "  soup = BeautifulSoup(text, \"html.parser\")\n"
          ]
        }
      ]
    },
    {
      "cell_type": "code",
      "source": [
        "print('\\nTest set classification report:\\n\\n',\n",
        "      classification_report(y_test, y_test_pred))\n"
      ],
      "metadata": {
        "colab": {
          "base_uri": "https://localhost:8080/"
        },
        "id": "HyGgLl5oANp7",
        "outputId": "9aa1f87c-2d14-464e-a950-a049d673b9e2"
      },
      "execution_count": 320,
      "outputs": [
        {
          "output_type": "stream",
          "name": "stdout",
          "text": [
            "\n",
            "Test set classification report:\n",
            "\n",
            "               precision    recall  f1-score   support\n",
            "\n",
            "           0       0.98      1.00      0.99        98\n",
            "           1       1.00      0.86      0.92        14\n",
            "\n",
            "    accuracy                           0.98       112\n",
            "   macro avg       0.99      0.93      0.96       112\n",
            "weighted avg       0.98      0.98      0.98       112\n",
            "\n"
          ]
        }
      ]
    },
    {
      "cell_type": "code",
      "source": [
        "# prompt: plot confusion matrix\n",
        "\n",
        "print(confusion_matrix(ytest, y_test_pred))"
      ],
      "metadata": {
        "colab": {
          "base_uri": "https://localhost:8080/"
        },
        "id": "FluCkssXAQDn",
        "outputId": "274f694e-cd75-4e0c-84c1-9535a4f13d0f"
      },
      "execution_count": 321,
      "outputs": [
        {
          "output_type": "stream",
          "name": "stdout",
          "text": [
            "[[98  0]\n",
            " [ 2 12]]\n"
          ]
        }
      ]
    },
    {
      "cell_type": "code",
      "source": [
        "print(custom_pr_auc_scorer(ytest, y_test_pred))"
      ],
      "metadata": {
        "colab": {
          "base_uri": "https://localhost:8080/"
        },
        "id": "v-9AMpLXAT_F",
        "outputId": "23872203-765e-4970-87c1-26c8ce8aa41f"
      },
      "execution_count": 322,
      "outputs": [
        {
          "output_type": "stream",
          "name": "stdout",
          "text": [
            "0.9375\n"
          ]
        }
      ]
    },
    {
      "cell_type": "code",
      "source": [
        "print(balanced_accuracy_score(ytest, y_test_pred))"
      ],
      "metadata": {
        "colab": {
          "base_uri": "https://localhost:8080/"
        },
        "id": "AagKrTYTsx8J",
        "outputId": "762062c6-c91a-4e77-b3e1-0ab40422c84d"
      },
      "execution_count": 323,
      "outputs": [
        {
          "output_type": "stream",
          "name": "stdout",
          "text": [
            "0.9285714285714286\n"
          ]
        }
      ]
    },
    {
      "cell_type": "markdown",
      "source": [
        "### **Final Score on the Chosen Metric**\n",
        "\n",
        "**Precision Recall AUC** - 0.9375"
      ],
      "metadata": {
        "id": "zTn3QFrazSC8"
      }
    },
    {
      "cell_type": "markdown",
      "source": [
        "## <font color ='pickle'>**Final Selection of the Pipeline**"
      ],
      "metadata": {
        "id": "y3R7cYQYdJfh"
      }
    },
    {
      "cell_type": "markdown",
      "source": [
        "\n",
        "\n",
        "1.   Pipeline 1 (Data Preprocessing & Sparse Embeddings ) : PR AUC - 87.5%\n",
        "\n",
        "2.   Pipeline 2 (Data Preprocessing & Manual Features): PR AUC - 83.5%\n",
        "\n",
        "3.  Pipeline 3 (Manual Features + TFId Vectors): PR AUC - 93.75%\n",
        "\n",
        "\n",
        "Hence, it's clear that Pipeline 3 is the best one in this scenario and can be used to Classify Spam\n",
        "\n",
        "\n"
      ],
      "metadata": {
        "id": "9KAcWRCv0XmO"
      }
    },
    {
      "cell_type": "code",
      "source": [],
      "metadata": {
        "id": "PckbWj5z0WC7"
      },
      "execution_count": null,
      "outputs": []
    }
  ]
}