{
 "cells": [
  {
   "cell_type": "markdown",
   "id": "jUCip2ZWCASt",
   "metadata": {
    "id": "jUCip2ZWCASt"
   },
   "source": [
    "# <font color = 'indianred'>**HW5 - MultiClass Classification with DistilBert - 14 Points** </font>\n",
    "\n",
    "- <font color = 'indianred'>**Fill the missing code indicated by # CODE HERE**</font>\n",
    "- Make sure to run all the cells in the Notebook and try to understand the code.\n",
    "- <font color = 'indianred'>***The submitted notebook shoud have output visible for all the cells**</font>\n",
    "- <font color = 'indianred'>**The HW assumes that you have gone though the 2_imdb_bert.ipynb file from Lecture 6**</font>\n",
    "\n",
    "- **You have to submit two files for this part of the HW**\n",
    "  >(1) ipynb (colab notebook) and<br>\n",
    "  >(2) pdf file (pdf version of the colab file).**\n",
    "- **Files should be named as follows**:\n",
    ">FirstName_LastName_HW_5_PartA**"
   ]
  },
  {
   "cell_type": "markdown",
   "id": "7cde75b6",
   "metadata": {
    "id": "7cde75b6"
   },
   "source": [
    "\n",
    "## Outline\n",
    "1. **Setting up the Environment**: Installing necessary libraries and setting up paths.\n",
    "2. **Creating Huggingface Dataset for Custom Dataset**: Understanding the structure and content of the dataset.\n",
    "\n",
    "3. **Data Preprocessing**: Techniques to prepare the data for training, including handling different data splits and tokenization\n",
    "4. **Training the Model**: Feeding data and adjusting weights.\n",
    "5. **Inference**: Evaluate model on test set and making predictions.\n",
    "\n"
   ]
  },
  {
   "cell_type": "markdown",
   "id": "fj41POPjrtzA",
   "metadata": {
    "id": "fj41POPjrtzA"
   },
   "source": [
    "# <font color = 'indianred'> **Setting up the Environment** </font>\n",
    "\n"
   ]
  },
  {
   "cell_type": "code",
   "execution_count": null,
   "id": "65ec14df",
   "metadata": {
    "id": "65ec14df",
    "pycharm": {
     "is_executing": true
    }
   },
   "outputs": [],
   "source": [
    " # CHANGE FOLDERS AS PER YOUR SETUP\n",
    "from pathlib import Path\n",
    "if 'google.colab' in str(get_ipython()):\n",
    "    from google.colab import drive\n",
    "    drive.mount(\"/content/drive\")\n",
    "    !pip install datasets transformers evaluate wandb accelerate -U -qq\n",
    "    base_folder = Path(\"/content/drive/MyDrive/data\")\n",
    "else:\n",
    "    base_folder = Path(\"/home/harpreet/Insync/google_drive_shaannoor/data\")\n",
    "\n",
    "\n",
    "from transformers import AutoConfig, AutoModelForSequenceClassification, AutoTokenizer, Trainer, TrainingArguments\n",
    "from transformers import AutoTokenizer, DataCollatorWithPadding, pipeline\n",
    "from datasets import load_dataset, DatasetDict, Dataset, ClassLabel\n",
    "import evaluate\n",
    "\n",
    "import torch\n",
    "from torch.utils.data import DataLoader\n",
    "\n",
    "import wandb\n",
    "\n",
    "import numpy as np\n",
    "from sklearn.metrics import ConfusionMatrixDisplay\n",
    "import matplotlib.pyplot as plt\n",
    "import random\n",
    "\n",
    "import textwrap"
   ]
  },
  {
   "cell_type": "code",
   "execution_count": null,
   "id": "6bc8a889",
   "metadata": {
    "id": "6bc8a889",
    "pycharm": {
     "is_executing": true
    }
   },
   "outputs": [],
   "source": [
    "# CHANGE FOLDERS TO WHERE YOU WANT TO SAVE DATA AND MODELS\n",
    "data_folder = base_folder/'datasets/Classification_HW/csv_files'\n",
    "model_folder = base_folder/'models/nlp_fall_2023/HW5'\n",
    "model_folder.mkdir(exist_ok=True)"
   ]
  },
  {
   "cell_type": "code",
   "execution_count": null,
   "id": "70895763",
   "metadata": {
    "id": "70895763",
    "pycharm": {
     "is_executing": true
    }
   },
   "outputs": [],
   "source": [
    "def print_wrap(text, d):\n",
    "    # Wrap the text to limit the width to 'd'\n",
    "    wrapped_text = textwrap.fill(text, width=d)\n",
    "\n",
    "    # Print the wrapped text\n",
    "    print(wrapped_text)"
   ]
  },
  {
   "cell_type": "markdown",
   "id": "O_xxXoyw_2x1",
   "metadata": {
    "id": "O_xxXoyw_2x1"
   },
   "source": [
    "# <font color = 'indianred'> **Exploring and Understanding Dataset**"
   ]
  },
  {
   "cell_type": "markdown",
   "id": "7ae39760-8c90-4bef-a1c9-66a302b29da3",
   "metadata": {
    "id": "7ae39760-8c90-4bef-a1c9-66a302b29da3",
    "tags": []
   },
   "source": [
    "## <font color = 'indianred'> **Stack Exchange MultiClass Dataset**</font>\n",
    "\n",
    "- In this HW, you will identify tags for stack exchange Questions.\n",
    "- This data is a subset of data available in a Kaggle Competition.\n",
    "- The given dataset has different questions asked in the StackExchange website for various technical domains.\n",
    "- We have fetched only those questions that contain the top 10 individual tags.\n",
    "- **Each question has only one tag. This means that this is a <font color = \"indianred\">multi-class classification problem.**</font>\n",
    "- These are the ten categories for tags in the data.\n",
    "\n",
    "<div style=\"margin-left:5%\">\n",
    "\n",
    "\n",
    "| Index| Tag  |\n",
    "|:-------:|:-------------:|\n",
    "| 0     | C#          |\n",
    "| 1     | java        |\n",
    "| 2     | php         |\n",
    "| 3     | javascript  |\n",
    "| 4     | android     |\n",
    "| 5     | jquery      |\n",
    "| 6     | c++         |\n",
    "| 7     | python      |\n",
    "| 8     | iphone      |\n",
    "| 9     | asp.net     |\n",
    "\n",
    "</div>"
   ]
  },
  {
   "cell_type": "markdown",
   "id": "b906904c-8f24-4de0-8e07-720863e8cd99",
   "metadata": {
    "id": "b906904c-8f24-4de0-8e07-720863e8cd99"
   },
   "source": [
    "## <font color = 'indianred'> **Load Data set**\n",
    "    \n"
   ]
  },
  {
   "cell_type": "code",
   "execution_count": null,
   "id": "1JpTLLoCvuAY",
   "metadata": {
    "id": "1JpTLLoCvuAY",
    "pycharm": {
     "is_executing": true
    }
   },
   "outputs": [],
   "source": [
    "# The file 'multiclass_hw_basic_clean.csv' is availaible on eLearing 0_data_Folder\n",
    "# Make sure that you specify teh correct path\n",
    "# The file name need to be in teh string, thaat is why we have used str(file_path)\n",
    "# We loaded imdb dataset from huggingface\n",
    "# in this case we are creating a hugginmgface dataset from csv file\n",
    "stack_dataset = load_dataset('csv', data_files= str(data_folder /'multiclass_hw_basic_clean.csv'))"
   ]
  },
  {
   "cell_type": "markdown",
   "id": "MluH2KHxHfF0",
   "metadata": {
    "id": "MluH2KHxHfF0"
   },
   "source": [
    "## <font color = 'indianred'> **Understanding your data**"
   ]
  },
  {
   "cell_type": "code",
   "execution_count": null,
   "id": "13c259d6-3936-47d7-aae4-467cf479368d",
   "metadata": {
    "execution": {
     "iopub.execute_input": "2022-12-23T23:13:19.870767Z",
     "iopub.status.busy": "2022-12-23T23:13:19.870527Z",
     "iopub.status.idle": "2022-12-23T23:13:20.007104Z",
     "shell.execute_reply": "2022-12-23T23:13:20.006616Z",
     "shell.execute_reply.started": "2022-12-23T23:13:19.870741Z"
    },
    "id": "13c259d6-3936-47d7-aae4-467cf479368d",
    "tags": [],
    "pycharm": {
     "is_executing": true
    }
   },
   "outputs": [],
   "source": [
    "print(stack_dataset)"
   ]
  },
  {
   "cell_type": "markdown",
   "id": "G8mgUnP9fS7i",
   "metadata": {
    "id": "G8mgUnP9fS7i"
   },
   "source": [
    "## <font color = 'indianred'> **Understanding the datatype of columns**\n"
   ]
  },
  {
   "cell_type": "code",
   "execution_count": null,
   "id": "wq_SXtXzeXWg",
   "metadata": {
    "colab": {
     "base_uri": "https://localhost:8080/"
    },
    "executionInfo": {
     "elapsed": 292,
     "status": "ok",
     "timestamp": 1696580372359,
     "user": {
      "displayName": "Shaannoor Mann",
      "userId": "02520257695567980696"
     },
     "user_tz": 300
    },
    "id": "wq_SXtXzeXWg",
    "outputId": "e78203d4-e879-4832-809d-a1b9de43b2c1",
    "pycharm": {
     "is_executing": true
    }
   },
   "outputs": [],
   "source": [
    "stack_dataset['train'].features\n"
   ]
  },
  {
   "cell_type": "markdown",
   "source": [
    " - As you can see the dataset has lot of faeatures. However they are not all useful.\n",
    " - Title is the title of the stack exchange post\n",
    " - Body is the main text of the post\n",
    " - combined_text is Title and Body combined with no pre-processing\n",
    " - basic_cleaned_text is Title and Body combined with basic preprocessing (remove html tags, urls, emails).\n",
    " - cleaned_text - Here we have combined Body and Text and has done some motre pre-propcessing in addition to basic (removing stopwords, lammetization)\n",
    " - Tags - names of programming language to which the post belongs\n",
    " - Tag_Number_final - index corresponding to Tags\n",
    "\n",
    " - **Your goal in this HW is to predict Tags given Body and Title of the post**\n",
    " - **You will use Tag_Number_final and basic_cleaned_text for this HW**\n"
   ],
   "metadata": {
    "id": "B-9EVoGswWol"
   },
   "id": "B-9EVoGswWol"
  },
  {
   "cell_type": "markdown",
   "id": "z80MwfKWSuxn",
   "metadata": {
    "id": "z80MwfKWSuxn"
   },
   "source": [
    "## <font color = 'indianred'> **Acess indivdual element** </font>\n"
   ]
  },
  {
   "cell_type": "code",
   "execution_count": null,
   "id": "77e0c790",
   "metadata": {
    "id": "77e0c790",
    "pycharm": {
     "is_executing": true
    }
   },
   "outputs": [],
   "source": [
    "print_wrap(stack_dataset['train']['Body'][0], 80)"
   ]
  },
  {
   "cell_type": "code",
   "execution_count": null,
   "id": "15bab98f",
   "metadata": {
    "id": "15bab98f",
    "pycharm": {
     "is_executing": true
    }
   },
   "outputs": [],
   "source": [
    "print_wrap(stack_dataset['train']['Title'][0], 80)"
   ]
  },
  {
   "cell_type": "code",
   "execution_count": null,
   "id": "ce79de5a",
   "metadata": {
    "id": "ce79de5a",
    "pycharm": {
     "is_executing": true
    }
   },
   "outputs": [],
   "source": [
    "print_wrap(stack_dataset['train']['basic_cleaned_text'][0], 80)"
   ]
  },
  {
   "cell_type": "code",
   "execution_count": null,
   "id": "qQnukZJUCTNh",
   "metadata": {
    "id": "qQnukZJUCTNh",
    "pycharm": {
     "is_executing": true
    }
   },
   "outputs": [],
   "source": [
    "# get label of last ten examples\n",
    "stack_dataset['train']['Tag_Number_final'][-10:]"
   ]
  },
  {
   "cell_type": "code",
   "execution_count": null,
   "id": "5bcd6d2d",
   "metadata": {
    "id": "5bcd6d2d",
    "pycharm": {
     "is_executing": true
    }
   },
   "outputs": [],
   "source": [
    "# Assuming 'stack_dataset' is a huggingface dataset\n",
    "# Select only the desired columns and rename them\n",
    "selected_columns = {\n",
    "    'text': stack_dataset['train']['basic_cleaned_text'],\n",
    "    'label': stack_dataset['train']['Tag_Number_final']\n",
    "}\n",
    "\n",
    "# Create a new dataset with the selected columns\n",
    "stack_selected_columns = Dataset.from_dict(selected_columns)\n"
   ]
  },
  {
   "cell_type": "code",
   "execution_count": null,
   "id": "a495ad76",
   "metadata": {
    "id": "a495ad76",
    "pycharm": {
     "is_executing": true
    }
   },
   "outputs": [],
   "source": [
    "stack_selected_columns"
   ]
  },
  {
   "cell_type": "code",
   "execution_count": null,
   "id": "10ea0a85",
   "metadata": {
    "id": "10ea0a85",
    "pycharm": {
     "is_executing": true
    }
   },
   "outputs": [],
   "source": [
    "stack_selected_columns.features"
   ]
  },
  {
   "cell_type": "code",
   "execution_count": null,
   "id": "215bd8a0",
   "metadata": {
    "colab": {
     "base_uri": "https://localhost:8080/"
    },
    "id": "215bd8a0",
    "executionInfo": {
     "status": "ok",
     "timestamp": 1696577472651,
     "user_tz": 300,
     "elapsed": 298,
     "user": {
      "displayName": "Shaannoor Mann",
      "userId": "02520257695567980696"
     }
    },
    "outputId": "d9942016-6f6d-4daf-fd83-906c6c233fbf",
    "pycharm": {
     "is_executing": true
    }
   },
   "outputs": [],
   "source": [
    "stack_selected_columns['label'][:10]"
   ]
  },
  {
   "cell_type": "code",
   "execution_count": null,
   "id": "ec682511",
   "metadata": {
    "id": "ec682511",
    "pycharm": {
     "is_executing": true
    }
   },
   "outputs": [],
   "source": [
    "print_wrap(stack_selected_columns['text'][0], 80)"
   ]
  },
  {
   "cell_type": "markdown",
   "id": "CzxEpA9FCYjC",
   "metadata": {
    "id": "CzxEpA9FCYjC"
   },
   "source": [
    "## <font color = 'indianred'> **Exploratory Data Analysis (EDA)**"
   ]
  },
  {
   "cell_type": "markdown",
   "id": "cWJBOfEj4_lE",
   "metadata": {
    "id": "cWJBOfEj4_lE"
   },
   "source": [
    "### <font color = 'indianred'> **Change dataset format to Pandas**  </font>\n"
   ]
  },
  {
   "cell_type": "code",
   "execution_count": null,
   "id": "HjQ2Q-3d14UL",
   "metadata": {
    "id": "HjQ2Q-3d14UL",
    "pycharm": {
     "is_executing": true
    }
   },
   "outputs": [],
   "source": [
    "# Set the format to Pandas\n",
    "# CODE HERE"
   ]
  },
  {
   "cell_type": "code",
   "execution_count": null,
   "id": "nM-OqQ493Io9",
   "metadata": {
    "id": "nM-OqQ493Io9",
    "pycharm": {
     "is_executing": true
    }
   },
   "outputs": [],
   "source": [
    "# get all rows the dataset\n",
    "df = stack_selected_columns[:]\n"
   ]
  },
  {
   "cell_type": "code",
   "source": [
    "df.head()"
   ],
   "metadata": {
    "id": "Z759Xi-5zGml",
    "pycharm": {
     "is_executing": true
    }
   },
   "id": "Z759Xi-5zGml",
   "execution_count": null,
   "outputs": []
  },
  {
   "cell_type": "code",
   "execution_count": null,
   "id": "Aah_Ji9EdgSQ",
   "metadata": {
    "colab": {
     "base_uri": "https://localhost:8080/",
     "height": 206
    },
    "executionInfo": {
     "elapsed": 116,
     "status": "ok",
     "timestamp": 1696577377355,
     "user": {
      "displayName": "Shaannoor Mann",
      "userId": "02520257695567980696"
     },
     "user_tz": 300
    },
    "id": "Aah_Ji9EdgSQ",
    "outputId": "d16f3b87-9f8c-4645-e5f8-b490cf912c51",
    "pycharm": {
     "is_executing": true
    }
   },
   "outputs": [],
   "source": [
    "# DO NOT RUN THIS CELL"
   ]
  },
  {
   "cell_type": "code",
   "source": [
    "df.info()"
   ],
   "metadata": {
    "id": "qlZUhoWtzMBP",
    "pycharm": {
     "is_executing": true
    }
   },
   "id": "qlZUhoWtzMBP",
   "execution_count": null,
   "outputs": []
  },
  {
   "cell_type": "code",
   "execution_count": null,
   "id": "SMuG9fuF3ccM",
   "metadata": {
    "colab": {
     "base_uri": "https://localhost:8080/"
    },
    "executionInfo": {
     "elapsed": 195,
     "status": "ok",
     "timestamp": 1696577493637,
     "user": {
      "displayName": "Shaannoor Mann",
      "userId": "02520257695567980696"
     },
     "user_tz": 300
    },
    "id": "SMuG9fuF3ccM",
    "outputId": "4cea2235-8715-47b7-fc18-77c693e819ff",
    "pycharm": {
     "is_executing": true
    }
   },
   "outputs": [],
   "source": [
    "# DO NOT RUN THIS CELL"
   ]
  },
  {
   "cell_type": "markdown",
   "id": "el1bAydalv7j",
   "metadata": {
    "id": "el1bAydalv7j"
   },
   "source": [
    "### <font color = 'indianred'> **Visualize distribution of class labels** </font>\n",
    "It is important to undetrstand the distribution of the class labels to check if there is any imbalance among the categories."
   ]
  },
  {
   "cell_type": "code",
   "source": [
    "# Plot a horizontal bar chart showing the count of each unique value in the 'label' column of the dataframe 'df'.\n",
    "# The counts are displayed in ascending order for better visualization of the distribution.\n",
    "# CODE HERE\n"
   ],
   "metadata": {
    "colab": {
     "base_uri": "https://localhost:8080/",
     "height": 448
    },
    "id": "sooGAq6ezW86",
    "executionInfo": {
     "status": "ok",
     "timestamp": 1696577501436,
     "user_tz": 300,
     "elapsed": 310,
     "user": {
      "displayName": "Shaannoor Mann",
      "userId": "02520257695567980696"
     }
    },
    "outputId": "0b3e3c27-fd74-4282-f56b-e66a6887aa92",
    "pycharm": {
     "is_executing": true
    }
   },
   "id": "sooGAq6ezW86",
   "execution_count": null,
   "outputs": []
  },
  {
   "cell_type": "code",
   "execution_count": null,
   "id": "wVCtC-9qhbDg",
   "metadata": {
    "colab": {
     "base_uri": "https://localhost:8080/",
     "height": 448
    },
    "executionInfo": {
     "elapsed": 315,
     "status": "ok",
     "timestamp": 1696577360248,
     "user": {
      "displayName": "Shaannoor Mann",
      "userId": "02520257695567980696"
     },
     "user_tz": 300
    },
    "id": "wVCtC-9qhbDg",
    "outputId": "20e4620d-858a-4b95-c654-3c5ae5dd3abb",
    "pycharm": {
     "is_executing": true
    }
   },
   "outputs": [],
   "source": [
    "# DO NOT RUN THIS CELL"
   ]
  },
  {
   "cell_type": "markdown",
   "id": "U8NRjjKVmRzq",
   "metadata": {
    "id": "U8NRjjKVmRzq"
   },
   "source": [
    "**Conclusions:**\n",
    "\n"
   ]
  },
  {
   "cell_type": "markdown",
   "id": "FYl8PoBim3kC",
   "metadata": {
    "id": "FYl8PoBim3kC"
   },
   "source": [
    "### <font color = 'indianred'> **Check length of the reviews** </font>\n"
   ]
  },
  {
   "cell_type": "code",
   "execution_count": null,
   "id": "97bd8c56",
   "metadata": {
    "id": "97bd8c56",
    "pycharm": {
     "is_executing": true
    }
   },
   "outputs": [],
   "source": [
    "# Add empty strings for rows atht do not have any text\n",
    "df['text'] = df['text'].fillna('')"
   ]
  },
  {
   "cell_type": "code",
   "execution_count": null,
   "id": "WOF_nrp2oBvT",
   "metadata": {
    "id": "WOF_nrp2oBvT",
    "pycharm": {
     "is_executing": true
    }
   },
   "outputs": [],
   "source": [
    "# Add a new column to the dataframe 'df' named 'words_per_review'.\n",
    "# This column computes the number of words in each review in the 'text' column by splitting the text on spaces and counting the resulting words.\n",
    "df['words_per_review'] = # CODEE HERE\n",
    "\n"
   ]
  },
  {
   "cell_type": "code",
   "source": [
    "df.head()"
   ],
   "metadata": {
    "id": "C9kGUd0X0Tle",
    "pycharm": {
     "is_executing": true
    }
   },
   "id": "C9kGUd0X0Tle",
   "execution_count": null,
   "outputs": []
  },
  {
   "cell_type": "code",
   "execution_count": null,
   "id": "Pw7jn9U1YDJH",
   "metadata": {
    "colab": {
     "base_uri": "https://localhost:8080/",
     "height": 206
    },
    "executionInfo": {
     "elapsed": 7,
     "status": "ok",
     "timestamp": 1696255786307,
     "user": {
      "displayName": "Shaannoor Mann",
      "userId": "02520257695567980696"
     },
     "user_tz": 300
    },
    "id": "Pw7jn9U1YDJH",
    "outputId": "06e2fb91-9532-4268-82e9-eb1d0ecc2d1d",
    "pycharm": {
     "is_executing": true
    }
   },
   "outputs": [],
   "source": [
    "# DO NOT RUN THIS CELL"
   ]
  },
  {
   "cell_type": "markdown",
   "id": "YhePLup4AuDo",
   "metadata": {
    "id": "YhePLup4AuDo"
   },
   "source": [
    "#### <font color = 'indianred'> **Plot the distribution of review length** </font>"
   ]
  },
  {
   "cell_type": "code",
   "execution_count": null,
   "id": "6m_e5NU7pOr_",
   "metadata": {
    "id": "6m_e5NU7pOr_",
    "pycharm": {
     "is_executing": true
    }
   },
   "outputs": [],
   "source": [
    "# Plot a histogram of the 'words_per_review' column\n",
    "df['words_per_review'].hist(bins=50, edgecolor='black')\n",
    "\n",
    "# Adding labels and a title for clarity\n",
    "plt.xlabel('Number of Words')\n",
    "plt.ylabel('Frequency')\n",
    "plt.title('Distribution of Words per Review')\n",
    "\n",
    "# Display the plot\n",
    "plt.show()\n"
   ]
  },
  {
   "cell_type": "code",
   "execution_count": null,
   "id": "yTYJqPgEpPQV",
   "metadata": {
    "id": "yTYJqPgEpPQV",
    "pycharm": {
     "is_executing": true
    }
   },
   "outputs": [],
   "source": [
    "# The model we are going to use has token (subwords) limit of 512.\n",
    "# Let us check how many reviews has more than 500 words\n",
    "\n",
    "count = (df['words_per_review'] > 500).sum()\n",
    "print(f\"Number of reviews with more than 400 words: {count}\")\n"
   ]
  },
  {
   "cell_type": "code",
   "execution_count": null,
   "id": "07706253",
   "metadata": {
    "id": "07706253",
    "pycharm": {
     "is_executing": true
    }
   },
   "outputs": [],
   "source": [
    "# count the rows that do not have any text\n",
    "count = (df['words_per_review'] ==0).sum()\n",
    "print(f\"Number of reviews with no text words: {count}\")"
   ]
  },
  {
   "cell_type": "code",
   "execution_count": null,
   "id": "f436b258",
   "metadata": {
    "id": "f436b258",
    "pycharm": {
     "is_executing": true
    }
   },
   "outputs": [],
   "source": [
    "# check the rows that have less than 20 words\n",
    "count = (df['words_per_review'] <20).sum()\n",
    "print(f\"Number of reviews with less than 20 words: {count}\")"
   ]
  },
  {
   "cell_type": "code",
   "execution_count": null,
   "id": "RUNNBUrRoXam",
   "metadata": {
    "id": "RUNNBUrRoXam",
    "pycharm": {
     "is_executing": true
    }
   },
   "outputs": [],
   "source": [
    "# distribution of number of words for each class label\n",
    "df.boxplot('words_per_review', by='label')\n"
   ]
  },
  {
   "cell_type": "markdown",
   "id": "Km7Zvpc-riSv",
   "metadata": {
    "id": "Km7Zvpc-riSv"
   },
   "source": [
    "- From the above graph, it seems that the distribution of number of words is similar for all the classes.\n",
    "- Most models have max sequence length of 512. We have less than 1% observatins that have more than 512 words."
   ]
  },
  {
   "cell_type": "markdown",
   "id": "QuV3BOnD1GjF",
   "metadata": {
    "id": "QuV3BOnD1GjF"
   },
   "source": [
    "### <font color = 'indianred'> **Reset dataset format** </font>\n"
   ]
  },
  {
   "cell_type": "code",
   "execution_count": null,
   "id": "S2XAL-2PyI-3",
   "metadata": {
    "id": "S2XAL-2PyI-3",
    "pycharm": {
     "is_executing": true
    }
   },
   "outputs": [],
   "source": [
    "# reset the format back to huggingface dataset\n",
    "# CODE HERE\n"
   ]
  },
  {
   "cell_type": "code",
   "execution_count": null,
   "id": "uFO6-IFVyOtE",
   "metadata": {
    "id": "uFO6-IFVyOtE",
    "pycharm": {
     "is_executing": true
    }
   },
   "outputs": [],
   "source": [
    "stack_selected_columns"
   ]
  },
  {
   "cell_type": "markdown",
   "id": "olD42nSSAwrM",
   "metadata": {
    "id": "olD42nSSAwrM"
   },
   "source": [
    "# <font color = 'indianred'> **Data Pre-processing**</font>"
   ]
  },
  {
   "cell_type": "markdown",
   "id": "F4Lpc6ItMyUi",
   "metadata": {
    "id": "F4Lpc6ItMyUi"
   },
   "source": [
    "### <font color = 'indianred'> **Create train, valid, test splits** </font>"
   ]
  },
  {
   "cell_type": "code",
   "execution_count": null,
   "id": "93fb2bdd",
   "metadata": {
    "id": "93fb2bdd",
    "pycharm": {
     "is_executing": true
    }
   },
   "outputs": [],
   "source": [
    "# We know this information from how we created this dataset\n",
    "class_names = ['c#', 'java', 'php','javascript', 'android', 'jquery', 'c++',  'python', 'iphone', 'asp.net']"
   ]
  },
  {
   "cell_type": "code",
   "execution_count": null,
   "id": "003132bb",
   "metadata": {
    "id": "003132bb",
    "pycharm": {
     "is_executing": true
    }
   },
   "outputs": [],
   "source": [
    "# Cast the 'label' column of stack_selected_columns to the ClassLabel type with specified class names from class_names.\n",
    "stack_selected_columns = stack_selected_columns.cast_column('label', ClassLabel(names = class_names))\n"
   ]
  },
  {
   "cell_type": "markdown",
   "source": [
    "The code above modifies the label column of the stack_selected_columns data structure to represent categorical data using the class names provided in class_names. This will help us to keep the index and names mapping together."
   ],
   "metadata": {
    "id": "QH-050Ka1tYW"
   },
   "id": "QH-050Ka1tYW"
  },
  {
   "cell_type": "code",
   "execution_count": null,
   "id": "1c35b973",
   "metadata": {
    "colab": {
     "base_uri": "https://localhost:8080/"
    },
    "id": "1c35b973",
    "executionInfo": {
     "status": "ok",
     "timestamp": 1696577574189,
     "user_tz": 300,
     "elapsed": 135,
     "user": {
      "displayName": "Shaannoor Mann",
      "userId": "02520257695567980696"
     }
    },
    "outputId": "a883453d-9e25-4209-f4f5-9ae1087ffd7a",
    "pycharm": {
     "is_executing": true
    }
   },
   "outputs": [],
   "source": [
    "stack_selected_columns.features"
   ]
  },
  {
   "cell_type": "code",
   "execution_count": null,
   "id": "da05867c",
   "metadata": {
    "id": "da05867c",
    "pycharm": {
     "is_executing": true
    }
   },
   "outputs": [],
   "source": [
    "stack_selected_columns"
   ]
  },
  {
   "cell_type": "code",
   "execution_count": null,
   "id": "3a8YTYKAMhaV",
   "metadata": {
    "id": "3a8YTYKAMhaV",
    "pycharm": {
     "is_executing": true
    }
   },
   "outputs": [],
   "source": [
    "# Split the 'stack_selected_columns' dataset into training, validation, and test sets.\n",
    "# The aim is to have 60% for training, 20% for validation, and 20% for testing.\n",
    "\n",
    "# First, split the dataset into a 60% training set and a 40% temporary set (to be further split).\n",
    "# Use stratified sampling based on the 'label' column to ensure that each split has a similar distribution of labels.\n",
    "test_val_splits =  # CODE HERE\n",
    "\n",
    "# Extract the 60% training dataset.\n",
    "train_split=  #CODE HERE\n",
    "\n",
    "# Split the 40% temporary set into two equal parts: validation (20%) and test (20%).\n",
    "# Again, use stratified sampling based on the 'label' column.\n",
    "test_val_splits =  #CODE HERE\n",
    "\n",
    "# Extract the validation and test datasets.\n",
    "val_split = # CODE HERE\n",
    "test_split = # CODE HERE\n",
    "\n"
   ]
  },
  {
   "cell_type": "code",
   "source": [
    "# combine train, val splits into one dataset\n",
    "train_val_dataset = DatasetDict({'train': train_split, 'val': val_split})\n",
    "\n",
    "# create test dataset from test split\n",
    "test_dataset = DatasetDict({'test': test_split})\n",
    "\n"
   ],
   "metadata": {
    "id": "PSvvyER72fnP",
    "pycharm": {
     "is_executing": true
    }
   },
   "id": "PSvvyER72fnP",
   "execution_count": null,
   "outputs": []
  },
  {
   "cell_type": "markdown",
   "id": "459a6dbc",
   "metadata": {
    "id": "459a6dbc"
   },
   "source": [
    "### <font color = 'indianred'> **Create small subset for experimentation** </font>\n",
    "\n",
    "The code below creates a new dataset, train_val_subset, with subsets of the original train_val_dataset. For each split ('train' and 'val'), it ensures an equal representation of 200 samples from each label (0-9). The balanced subsets are then stored in the respective splits of train_val_subset."
   ]
  },
  {
   "cell_type": "code",
   "execution_count": null,
   "id": "2e99f071",
   "metadata": {
    "id": "2e99f071",
    "pycharm": {
     "is_executing": true
    }
   },
   "outputs": [],
   "source": [
    "# Objective: Create a balanced subset from the 'train_val_dataset' where each label has an equal number of samples.\n",
    "# The resulting subset is stored in a 'DatasetDict' structure for easy management of train and validation splits.\n",
    "\n",
    "# Initialize an empty DatasetDict to store the balanced subsets.\n",
    "train_val_subset = DatasetDict()\n",
    "\n",
    "# Iterate over the desired splits - 'train' and 'val'.\n",
    "for split in ['train', 'val']:\n",
    "    # Lists to accumulate the sampled text data and their corresponding labels.\n",
    "    texts = []\n",
    "    labels = []\n",
    "\n",
    "    # Loop through each label (assuming there are 10 labels numbered from 0 to 9).\n",
    "    for label in range(10):\n",
    "        # Filter out the samples in the current split that have the current label.\n",
    "        label_texts = train_val_dataset[split].filter(lambda x: x['label'] == label)['text']\n",
    "\n",
    "        # Randomly sample 200 texts from the filtered data.\n",
    "        label_subset = random.sample(list(label_texts), 200)\n",
    "\n",
    "        # Append these sampled texts and their corresponding labels to the accumulation lists.\n",
    "        texts.extend(label_subset)\n",
    "        labels.extend([label]*len(label_subset))\n",
    "\n",
    "    # After collecting samples for all labels in the current split, create a dataset with these samples.\n",
    "    # Then, add this dataset to the appropriate split in the 'train_val_subset' DatasetDict.\n",
    "    train_val_subset[split] = Dataset.from_dict({'text': texts, 'label': labels})\n"
   ]
  },
  {
   "cell_type": "code",
   "execution_count": null,
   "id": "1065decc",
   "metadata": {
    "id": "1065decc",
    "pycharm": {
     "is_executing": true
    }
   },
   "outputs": [],
   "source": [
    "# Set the format of the train_val_subset to be a pandas DataFrame for easier data manipulation and analysis.\n",
    "# CODE HERE\n"
   ]
  },
  {
   "cell_type": "code",
   "source": [
    "train_val_subset"
   ],
   "metadata": {
    "id": "rGHzUnHw3S_R",
    "pycharm": {
     "is_executing": true
    }
   },
   "id": "rGHzUnHw3S_R",
   "execution_count": null,
   "outputs": []
  },
  {
   "cell_type": "code",
   "execution_count": null,
   "id": "69356183",
   "metadata": {
    "colab": {
     "base_uri": "https://localhost:8080/",
     "height": 448
    },
    "id": "69356183",
    "executionInfo": {
     "status": "ok",
     "timestamp": 1696577618610,
     "user_tz": 300,
     "elapsed": 316,
     "user": {
      "displayName": "Shaannoor Mann",
      "userId": "02520257695567980696"
     }
    },
    "outputId": "4bc4c73f-8734-44eb-ecfb-03f6e659491a",
    "pycharm": {
     "is_executing": true
    }
   },
   "outputs": [],
   "source": [
    "# Plot a horizontal bar chart of the count of each label in the 'train' split of train_val_subset, in ascending order.\n",
    "# CODE HERE\n"
   ]
  },
  {
   "cell_type": "code",
   "source": [
    "# DO NOT RUN THIS CELL"
   ],
   "metadata": {
    "colab": {
     "base_uri": "https://localhost:8080/",
     "height": 448
    },
    "id": "8C5J7GSk5PZE",
    "executionInfo": {
     "status": "ok",
     "timestamp": 1696577634240,
     "user_tz": 300,
     "elapsed": 373,
     "user": {
      "displayName": "Shaannoor Mann",
      "userId": "02520257695567980696"
     }
    },
    "outputId": "fbfa8f69-1c46-4fff-c023-edfaa4d9f2d8",
    "pycharm": {
     "is_executing": true
    }
   },
   "id": "8C5J7GSk5PZE",
   "execution_count": null,
   "outputs": []
  },
  {
   "cell_type": "code",
   "execution_count": null,
   "id": "d8301547",
   "metadata": {
    "colab": {
     "base_uri": "https://localhost:8080/",
     "height": 448
    },
    "id": "d8301547",
    "executionInfo": {
     "status": "ok",
     "timestamp": 1696577658229,
     "user_tz": 300,
     "elapsed": 271,
     "user": {
      "displayName": "Shaannoor Mann",
      "userId": "02520257695567980696"
     }
    },
    "outputId": "36815a25-18eb-4a73-c3d8-7aa0d371124d",
    "pycharm": {
     "is_executing": true
    }
   },
   "outputs": [],
   "source": [
    "# Plot a horizontal bar chart of the count of each label in the 'val' split of train_val_subset, in ascending order.\n",
    "# CODE HERE\n"
   ]
  },
  {
   "cell_type": "code",
   "source": [
    "# DO NOT RUN THIS CELL\n"
   ],
   "metadata": {
    "colab": {
     "base_uri": "https://localhost:8080/",
     "height": 448
    },
    "id": "hbCJ2TeG6JuR",
    "executionInfo": {
     "status": "ok",
     "timestamp": 1696577677531,
     "user_tz": 300,
     "elapsed": 348,
     "user": {
      "displayName": "Shaannoor Mann",
      "userId": "02520257695567980696"
     }
    },
    "outputId": "90b15d9c-d3be-4b4e-80f7-840e76f1c4e7",
    "pycharm": {
     "is_executing": true
    }
   },
   "id": "hbCJ2TeG6JuR",
   "execution_count": null,
   "outputs": []
  },
  {
   "cell_type": "code",
   "execution_count": null,
   "id": "051ca3c3",
   "metadata": {
    "id": "051ca3c3",
    "pycharm": {
     "is_executing": true
    }
   },
   "outputs": [],
   "source": [
    "# Reset the format of train_val_subset to its original huggingface format\n",
    "# CODE HERE\n"
   ]
  },
  {
   "cell_type": "code",
   "execution_count": null,
   "id": "32e67b3b",
   "metadata": {
    "colab": {
     "base_uri": "https://localhost:8080/"
    },
    "id": "32e67b3b",
    "executionInfo": {
     "status": "ok",
     "timestamp": 1696577718105,
     "user_tz": 300,
     "elapsed": 167,
     "user": {
      "displayName": "Shaannoor Mann",
      "userId": "02520257695567980696"
     }
    },
    "outputId": "00a1977e-34cf-40be-b52f-869725a13180",
    "pycharm": {
     "is_executing": true
    }
   },
   "outputs": [],
   "source": [
    "# Retrieve the feature structures (data types and associated details) of the 'train' split from train_val_subset.\n",
    "train_val_subset['train'].features\n"
   ]
  },
  {
   "cell_type": "code",
   "execution_count": null,
   "id": "5b6e56e1",
   "metadata": {
    "colab": {
     "base_uri": "https://localhost:8080/",
     "height": 81,
     "referenced_widgets": [
      "0d2fc7397bef43a9a08c74af144c09dd",
      "476f8e56532a4fde86060c7aaaff640f",
      "6019b1e472404647a403cee62cb5ba18",
      "8d1e4261208b4630bd0644ed136810d6",
      "1a02f684953549c0985feb67c5f5da42",
      "090801b7603846dc889176ac522334d5",
      "18479ba656674962bc80000aeffd2355",
      "94eb893e39024dd5ad15679ab3b46ef0",
      "e6a70b7e3ce643a7be30e2bec50aa8a0",
      "3218d2326ecb4d38813086a5e8b82a69",
      "b67092a7d6e24bbe981c1f0efc8dcd28",
      "aef96ed324f64866ae19ddfb6f5a5aec",
      "b948ebde57d7429b98845889cec9a486",
      "f636f9a2086649a9b58e381bbc65ef04",
      "7da404729a7942e086083099732329c1",
      "6c58053caaf64225b147a6eef5a144ad",
      "9513c1e350f34e39bc59f608677a6165",
      "ec16eb1df3ec4f299cddc300f6cce590",
      "6a557c47f2b1441b8317ad775f69fe1f",
      "e74f8e29c5cd44349c44b2b1c0db1d8e",
      "e8738dea57004966b88972b339dbac6e",
      "cda57e16697540448a451b3e51cf3d97"
     ]
    },
    "id": "5b6e56e1",
    "executionInfo": {
     "status": "ok",
     "timestamp": 1696577757491,
     "user_tz": 300,
     "elapsed": 244,
     "user": {
      "displayName": "Shaannoor Mann",
      "userId": "02520257695567980696"
     }
    },
    "outputId": "358354cb-0945-4d7a-a7df-d0a5f5f6774b",
    "pycharm": {
     "is_executing": true
    }
   },
   "outputs": [],
   "source": [
    "# Cast the 'label' column of the entire train_val_subset to the ClassLabel type using the provided class names from class_names.\n",
    "train_val_subset = train_val_subset.cast_column('label', ClassLabel(names = class_names)) # CODE HERE\n"
   ]
  },
  {
   "cell_type": "code",
   "execution_count": null,
   "id": "de8f5e8b",
   "metadata": {
    "colab": {
     "base_uri": "https://localhost:8080/"
    },
    "id": "de8f5e8b",
    "executionInfo": {
     "status": "ok",
     "timestamp": 1696577759677,
     "user_tz": 300,
     "elapsed": 208,
     "user": {
      "displayName": "Shaannoor Mann",
      "userId": "02520257695567980696"
     }
    },
    "outputId": "21359bb6-2892-4d24-ac4a-1ae99ef3e602",
    "pycharm": {
     "is_executing": true
    }
   },
   "outputs": [],
   "source": [
    "train_val_subset['train'].features"
   ]
  },
  {
   "cell_type": "markdown",
   "id": "150ee1e9-7371-40b1-a526-30ec37cf0654",
   "metadata": {
    "id": "150ee1e9-7371-40b1-a526-30ec37cf0654"
   },
   "source": [
    "## <font color = 'indianred'> **Tokenization**</font>\n",
    "\n"
   ]
  },
  {
   "cell_type": "code",
   "execution_count": null,
   "id": "hzUiqZR6hI4o",
   "metadata": {
    "colab": {
     "base_uri": "https://localhost:8080/",
     "height": 145,
     "referenced_widgets": [
      "2540b406ff4549d4b52f8916f1904e50",
      "070de29cb4ee442e867746e916e70186",
      "842f2f5b30e04a14bd7a3e6fd58e9bc4",
      "147177221df8406c9dd92f4971b96c2d",
      "9b01f187fbdd4e878143191a17d5ee78",
      "80daf20d445248c1809ac4318f04272f",
      "d7ee22aab79348b68133d6e8a871ad57",
      "76a4ea01e2bc4ff9aeafac7225fc2fe5",
      "0c56d4f216ab4973b1bc2b4bd386f951",
      "6c26c1323c0540228fe4c2cb61cbbab9",
      "e2627ad1168b4ab182bd2f2a880e6dbf",
      "844d56f260b44d7583c77476f28d8d37",
      "d75b431586fc40d2b64e3c512d9f7b96",
      "d3221395c10e4db5af383b684fcb46dd",
      "0cc3fa82fb0f43b2918dd1a247729497",
      "6aad10dedaf844aa85a2f11a9ee7a26e",
      "944552313c504966904923509ce259f9",
      "6f8f7eeda2364bc98b9e7a787d7bc326",
      "61cb5dc92af24787a7af3d4102c40b1b",
      "ee3a607aae324aecaca42e7a80a5fea1",
      "83b3997e749b4851ae695594828af87d",
      "ab950ea368964d8aae16e654e35dec43",
      "86a7f66ea6fe42c096726652884e4159",
      "472fa7f30480476d8a074382ae574884",
      "0b2b13667652401798731a6cee51e669",
      "93baffb6a019458d8b3cdeb8fae45de6",
      "193a242117884aa3ae6471a82ccd113c",
      "96aaa2c076f34cdcafed507fbdd1a496",
      "9eaa04b5d5dc4b1382a304b2bb523350",
      "4d68bdf015c348239a67c6b792dfac3f",
      "36ca01e5007e41b192fd0d202cab1224",
      "da9ff25586cc48f7bb1ae357daaa8fee",
      "e7c6914b2dc048aeada8a82d84c54747",
      "52525e23e43a42cdaf81e6fc8389bc13",
      "0714c20717554567888c81b33e066c0b",
      "b42db5ae87154be78ac3ef1f9bdda138",
      "e93e0a29c7e94c59b5805968e3faa148",
      "949f92bd48814e568794a3856c7673ab",
      "25a2c96f2e474e00b5e08e7173413e87",
      "d8ce78f73f104a148f4c87761596fe29",
      "1dbc739e4e0149d1b1bb4d31ca4a8ac1",
      "13d82a2233db47edbd777a2abd77d7fd",
      "eed7a48e0a3a404899ee8326b19d5106",
      "6cdb42bb51384861b37e715a877d0bdb"
     ]
    },
    "execution": {
     "iopub.execute_input": "2022-12-23T23:14:07.903271Z",
     "iopub.status.busy": "2022-12-23T23:14:07.902958Z",
     "iopub.status.idle": "2022-12-23T23:14:07.955695Z",
     "shell.execute_reply": "2022-12-23T23:14:07.955154Z",
     "shell.execute_reply.started": "2022-12-23T23:14:07.903251Z"
    },
    "executionInfo": {
     "elapsed": 1059,
     "status": "ok",
     "timestamp": 1696577799638,
     "user": {
      "displayName": "Shaannoor Mann",
      "userId": "02520257695567980696"
     },
     "user_tz": 300
    },
    "id": "hzUiqZR6hI4o",
    "outputId": "e00e79c3-1a15-4aa9-cf81-631c6f279f2b",
    "tags": [],
    "pycharm": {
     "is_executing": true
    }
   },
   "outputs": [],
   "source": [
    "# Define a checkpoint for the DistilBERT model with an uncased vocabulary.\n",
    "# Instantiate the tokenizer for this model using the specified checkpoint.\n",
    "checkpoint =  # CODE HERE\n",
    "tokenizer =  # CODE HERE\n",
    "\n"
   ]
  },
  {
   "cell_type": "markdown",
   "id": "JDp4gu0uYZ1d",
   "metadata": {
    "id": "JDp4gu0uYZ1d"
   },
   "source": [
    "###  <font color = 'indianred'> **Understanding pre-trained Tokenizer**\n",
    "We will now understand how the tokenizer work by feeding one simple example."
   ]
  },
  {
   "cell_type": "code",
   "execution_count": null,
   "id": "Pdd63KwJ1wKV",
   "metadata": {
    "id": "Pdd63KwJ1wKV",
    "pycharm": {
     "is_executing": true
    }
   },
   "outputs": [],
   "source": [
    "text = [\"Tokenization is the process of splitting sequence to tokens\",\n",
    "        \"I like BUAN6482\"]"
   ]
  },
  {
   "cell_type": "code",
   "execution_count": null,
   "id": "pe6_RHcPcs02",
   "metadata": {
    "colab": {
     "base_uri": "https://localhost:8080/"
    },
    "executionInfo": {
     "elapsed": 95,
     "status": "ok",
     "timestamp": 1696577806875,
     "user": {
      "displayName": "Shaannoor Mann",
      "userId": "02520257695567980696"
     },
     "user_tz": 300
    },
    "id": "pe6_RHcPcs02",
    "outputId": "50c03540-3213-44ef-ba44-44f891cc4270",
    "pycharm": {
     "is_executing": true
    }
   },
   "outputs": [],
   "source": [
    "# get the vocab size\n",
    "print(f'Pretrained tokenizer vocab size {tokenizer.vocab_size}')\n"
   ]
  },
  {
   "cell_type": "code",
   "execution_count": null,
   "id": "3SfjDfSr10tU",
   "metadata": {
    "id": "3SfjDfSr10tU",
    "pycharm": {
     "is_executing": true
    }
   },
   "outputs": [],
   "source": [
    "encoded_text = tokenizer(\n",
    "    text, padding=True, truncation=True, return_tensors='pt')"
   ]
  },
  {
   "cell_type": "code",
   "execution_count": null,
   "id": "7e2a2e62",
   "metadata": {
    "id": "7e2a2e62",
    "pycharm": {
     "is_executing": true
    }
   },
   "outputs": [],
   "source": [
    "encoded_text"
   ]
  },
  {
   "cell_type": "markdown",
   "id": "pR7HIeu-Ozlf",
   "metadata": {
    "id": "pR7HIeu-Ozlf"
   },
   "source": [
    "What is the difference from ```bert-base-uncased``` tokenizer?\n",
    "\n",
    "- ```distilbert-base-uncased``` do not have token-type-ids"
   ]
  },
  {
   "cell_type": "code",
   "execution_count": null,
   "id": "jZ8xwmkfRHVA",
   "metadata": {
    "id": "jZ8xwmkfRHVA",
    "pycharm": {
     "is_executing": true
    }
   },
   "outputs": [],
   "source": [
    "tokens_first_sentence = tokenizer.convert_ids_to_tokens(\n",
    "    encoded_text.input_ids[0])\n",
    "tokens_second_sentence = tokenizer.convert_ids_to_tokens(\n",
    "    encoded_text.input_ids[1])\n",
    "\n",
    "print(tokens_first_sentence)\n",
    "print(tokens_second_sentence)"
   ]
  },
  {
   "cell_type": "code",
   "execution_count": null,
   "id": "AgvkuoiI_6lH",
   "metadata": {
    "id": "AgvkuoiI_6lH",
    "pycharm": {
     "is_executing": true
    }
   },
   "outputs": [],
   "source": [
    "tokenizer.convert_tokens_to_string(tokens_first_sentence)"
   ]
  },
  {
   "cell_type": "code",
   "execution_count": null,
   "id": "17bf645f",
   "metadata": {
    "id": "17bf645f",
    "pycharm": {
     "is_executing": true
    }
   },
   "outputs": [],
   "source": [
    "tokenizer.convert_tokens_to_string(tokens_second_sentence)"
   ]
  },
  {
   "cell_type": "code",
   "execution_count": null,
   "id": "4uScYP-Kbfz5",
   "metadata": {
    "id": "4uScYP-Kbfz5",
    "pycharm": {
     "is_executing": true
    }
   },
   "outputs": [],
   "source": [
    "special_tokens = tokenizer.all_special_tokens\n",
    "special_tokens_ids = tokenizer.all_special_ids\n",
    "print(special_tokens, special_tokens_ids)"
   ]
  },
  {
   "cell_type": "markdown",
   "id": "2b4ce3b9-904f-42bd-9c3f-163328f47051",
   "metadata": {
    "execution": {
     "iopub.execute_input": "2022-12-20T11:22:33.679936Z",
     "iopub.status.busy": "2022-12-20T11:22:33.679764Z",
     "iopub.status.idle": "2022-12-20T11:22:33.723366Z",
     "shell.execute_reply": "2022-12-20T11:22:33.722847Z",
     "shell.execute_reply.started": "2022-12-20T11:22:33.679918Z"
    },
    "id": "2b4ce3b9-904f-42bd-9c3f-163328f47051"
   },
   "source": [
    "###  <font color = 'indianred'> **Create function for Tokenizer**"
   ]
  },
  {
   "cell_type": "code",
   "execution_count": null,
   "id": "8bAD2dsXhvAA",
   "metadata": {
    "execution": {
     "iopub.execute_input": "2022-12-23T23:14:12.134855Z",
     "iopub.status.busy": "2022-12-23T23:14:12.134613Z",
     "iopub.status.idle": "2022-12-23T23:14:12.186484Z",
     "shell.execute_reply": "2022-12-23T23:14:12.185866Z",
     "shell.execute_reply.started": "2022-12-23T23:14:12.134828Z"
    },
    "id": "8bAD2dsXhvAA",
    "tags": [],
    "pycharm": {
     "is_executing": true
    }
   },
   "outputs": [],
   "source": [
    "# Define a function to tokenize the text in a batch using the predefined tokenizer.\n",
    "# The text data is extracted from the \"text\" key of the batch.\n",
    "# The function will truncate the tokenized data if it exceeds the tokenizer's maximum length.\n",
    "\n",
    "def tokenize_fn(batch):\n",
    "    return tokenizer(batch[\"text\"], truncation=True)\n"
   ]
  },
  {
   "cell_type": "markdown",
   "id": "1f09c889-c3fd-4b12-a544-0772594a3899",
   "metadata": {
    "id": "1f09c889-c3fd-4b12-a544-0772594a3899"
   },
   "source": [
    "###  <font color = 'indianred'> **Use map function to apply tokenization to all splits**"
   ]
  },
  {
   "cell_type": "code",
   "execution_count": null,
   "id": "ET6ioH_-iCW2",
   "metadata": {
    "execution": {
     "iopub.execute_input": "2022-12-23T23:14:13.918317Z",
     "iopub.status.busy": "2022-12-23T23:14:13.917908Z",
     "iopub.status.idle": "2022-12-23T23:14:15.785940Z",
     "shell.execute_reply": "2022-12-23T23:14:15.785447Z",
     "shell.execute_reply.started": "2022-12-23T23:14:13.918288Z"
    },
    "id": "ET6ioH_-iCW2",
    "tags": [],
    "pycharm": {
     "is_executing": true
    }
   },
   "outputs": [],
   "source": [
    "# Map the tokenize_fn function over the entire train_val_subset dataset in batches.\n",
    "# This will tokenize the text data in each batch and return a new dataset with tokenized data.\n",
    "tokenized_dataset =  # CODE HERE\n"
   ]
  },
  {
   "cell_type": "code",
   "source": [
    "tokenized_dataset"
   ],
   "metadata": {
    "id": "6DKCvIjw7KDx",
    "pycharm": {
     "is_executing": true
    }
   },
   "id": "6DKCvIjw7KDx",
   "execution_count": null,
   "outputs": []
  },
  {
   "cell_type": "code",
   "execution_count": null,
   "id": "N2Hs7UT9iLVt",
   "metadata": {
    "colab": {
     "base_uri": "https://localhost:8080/"
    },
    "execution": {
     "iopub.execute_input": "2022-12-23T23:14:16.920177Z",
     "iopub.status.busy": "2022-12-23T23:14:16.919821Z",
     "iopub.status.idle": "2022-12-23T23:14:16.955337Z",
     "shell.execute_reply": "2022-12-23T23:14:16.954693Z",
     "shell.execute_reply.started": "2022-12-23T23:14:16.920164Z"
    },
    "executionInfo": {
     "elapsed": 99,
     "status": "ok",
     "timestamp": 1696577916283,
     "user": {
      "displayName": "Shaannoor Mann",
      "userId": "02520257695567980696"
     },
     "user_tz": 300
    },
    "id": "N2Hs7UT9iLVt",
    "outputId": "dd895c27-52e8-4714-e5f5-77c60f2728c8",
    "tags": [],
    "pycharm": {
     "is_executing": true
    }
   },
   "outputs": [],
   "source": [
    "# DO NOT RUN THIS CELL"
   ]
  },
  {
   "cell_type": "markdown",
   "id": "859f3731",
   "metadata": {
    "id": "859f3731"
   },
   "source": [
    "We can see that tokenization step has added three new columns ('input_ids', 'token_type_ids', 'attention_mask') to the dataset"
   ]
  },
  {
   "cell_type": "code",
   "execution_count": null,
   "id": "0LMczBDdQ2LR",
   "metadata": {
    "id": "0LMczBDdQ2LR",
    "pycharm": {
     "is_executing": true
    }
   },
   "outputs": [],
   "source": [
    "tokenized_dataset = tokenized_dataset.remove_columns(\n",
    "    ['text']\n",
    ")"
   ]
  },
  {
   "cell_type": "code",
   "execution_count": null,
   "id": "HGPyqon9Q2uU",
   "metadata": {
    "id": "HGPyqon9Q2uU",
    "pycharm": {
     "is_executing": true
    }
   },
   "outputs": [],
   "source": [
    "tokenized_dataset.set_format(type='torch')"
   ]
  },
  {
   "cell_type": "code",
   "execution_count": null,
   "id": "I2R7xJGfQ4fT",
   "metadata": {
    "id": "I2R7xJGfQ4fT",
    "pycharm": {
     "is_executing": true
    }
   },
   "outputs": [],
   "source": [
    "tokenized_dataset"
   ]
  },
  {
   "cell_type": "code",
   "execution_count": null,
   "id": "DT9UYn4VQ9--",
   "metadata": {
    "id": "DT9UYn4VQ9--",
    "pycharm": {
     "is_executing": true
    }
   },
   "outputs": [],
   "source": [
    "tokenized_dataset['train'].features"
   ]
  },
  {
   "cell_type": "code",
   "execution_count": null,
   "id": "BchXa9V-Q-nq",
   "metadata": {
    "id": "BchXa9V-Q-nq",
    "pycharm": {
     "is_executing": true
    }
   },
   "outputs": [],
   "source": [
    "print(len(tokenized_dataset[\"train\"][\"input_ids\"][2]))\n",
    "print(len(tokenized_dataset[\"train\"][\"input_ids\"][1]))"
   ]
  },
  {
   "cell_type": "markdown",
   "id": "EtbTpHsRRJqj",
   "metadata": {
    "id": "EtbTpHsRRJqj"
   },
   "source": [
    "The varying lengths in the dataset indicate that padding has not been applied yet. Instead of padding the entire dataset, we prefer processing small batches during training. Padding is done selectively for each batch based on the maximum length in the batch. We will discuss this in more detail in a later section of this notebook."
   ]
  },
  {
   "cell_type": "markdown",
   "id": "O7-5sm2uBTN_",
   "metadata": {
    "id": "O7-5sm2uBTN_"
   },
   "source": [
    "#  <font color = 'indianred'> **Model Training**"
   ]
  },
  {
   "cell_type": "markdown",
   "id": "mWh_tjw87L7q",
   "metadata": {
    "id": "mWh_tjw87L7q"
   },
   "source": [
    "##  <font color = 'indianred'> **Model Config File**"
   ]
  },
  {
   "cell_type": "markdown",
   "id": "e15e2ca6-cfbf-46c0-bf81-ec65a9258567",
   "metadata": {
    "execution": {
     "iopub.execute_input": "2022-12-05T21:57:04.735277Z",
     "iopub.status.busy": "2022-12-05T21:57:04.735041Z",
     "iopub.status.idle": "2022-12-05T21:57:04.738230Z",
     "shell.execute_reply": "2022-12-05T21:57:04.737909Z",
     "shell.execute_reply.started": "2022-12-05T21:57:04.735252Z"
    },
    "id": "e15e2ca6-cfbf-46c0-bf81-ec65a9258567"
   },
   "source": [
    "###  <font color = 'indianred'> **Download config file of pre-trained Model**</font>\n",
    "\n"
   ]
  },
  {
   "cell_type": "code",
   "execution_count": null,
   "id": "02d5e0eb-ac4c-4593-946c-3e33a4e2a82e",
   "metadata": {
    "execution": {
     "iopub.execute_input": "2022-12-23T23:14:20.554756Z",
     "iopub.status.busy": "2022-12-23T23:14:20.554518Z",
     "iopub.status.idle": "2022-12-23T23:14:20.770843Z",
     "shell.execute_reply": "2022-12-23T23:14:20.770018Z",
     "shell.execute_reply.started": "2022-12-23T23:14:20.554730Z"
    },
    "id": "02d5e0eb-ac4c-4593-946c-3e33a4e2a82e",
    "tags": [],
    "pycharm": {
     "is_executing": true
    }
   },
   "outputs": [],
   "source": [
    "# Load the configuration associated with the specified checkpoint (e.g., DistilBERT model configuration).\n",
    "# This configuration contains details about the model architecture and settings.\n",
    "# use Autoconfig class\n",
    "config = # CODE HERE\n",
    "\n"
   ]
  },
  {
   "cell_type": "code",
   "execution_count": null,
   "id": "2712bbf6-ab95-4c24-8fea-90162f5aa634",
   "metadata": {
    "execution": {
     "iopub.execute_input": "2022-12-23T23:14:20.921199Z",
     "iopub.status.busy": "2022-12-23T23:14:20.920812Z",
     "iopub.status.idle": "2022-12-23T23:14:20.973833Z",
     "shell.execute_reply": "2022-12-23T23:14:20.973311Z",
     "shell.execute_reply.started": "2022-12-23T23:14:20.921170Z"
    },
    "id": "2712bbf6-ab95-4c24-8fea-90162f5aa634",
    "tags": [],
    "pycharm": {
     "is_executing": true
    }
   },
   "outputs": [],
   "source": [
    "config"
   ]
  },
  {
   "cell_type": "markdown",
   "id": "3dcbc384-25b5-4b71-9a7a-aaebca9bea5c",
   "metadata": {
    "id": "3dcbc384-25b5-4b71-9a7a-aaebca9bea5c"
   },
   "source": [
    "###  <font color = 'indianred'> **Modify Configuration File**</font>\n",
    "- We need to modify configuration fie to add ids to  label and label to ids mapping\n",
    "- Adding id2label and label2id to the configuration file provides a consistent, interpretable, and user-friendly way to handle model outputs."
   ]
  },
  {
   "cell_type": "code",
   "execution_count": null,
   "id": "81bfce1a-9e54-4ea1-87cc-e32e9998c38c",
   "metadata": {
    "execution": {
     "iopub.execute_input": "2022-12-23T23:14:22.607176Z",
     "iopub.status.busy": "2022-12-23T23:14:22.606789Z",
     "iopub.status.idle": "2022-12-23T23:14:22.656460Z",
     "shell.execute_reply": "2022-12-23T23:14:22.655931Z",
     "shell.execute_reply.started": "2022-12-23T23:14:22.607147Z"
    },
    "id": "81bfce1a-9e54-4ea1-87cc-e32e9998c38c",
    "tags": [],
    "pycharm": {
     "is_executing": true
    }
   },
   "outputs": [],
   "source": [
    "class_names = tokenized_dataset[\"train\"].features[\"label\"].names\n",
    "class_names\n"
   ]
  },
  {
   "cell_type": "code",
   "execution_count": null,
   "id": "d3a8fd9a-882c-420c-a6a6-bb4f2fb2f2f4",
   "metadata": {
    "execution": {
     "iopub.execute_input": "2022-12-23T23:14:23.046931Z",
     "iopub.status.busy": "2022-12-23T23:14:23.046612Z",
     "iopub.status.idle": "2022-12-23T23:14:23.096310Z",
     "shell.execute_reply": "2022-12-23T23:14:23.095776Z",
     "shell.execute_reply.started": "2022-12-23T23:14:23.046912Z"
    },
    "id": "d3a8fd9a-882c-420c-a6a6-bb4f2fb2f2f4",
    "tags": [],
    "pycharm": {
     "is_executing": true
    }
   },
   "outputs": [],
   "source": [
    "id2label = {}\n",
    "for id_, label_ in enumerate(class_names):\n",
    "    id2label[str(id_)] = label_\n",
    "id2label\n"
   ]
  },
  {
   "cell_type": "code",
   "execution_count": null,
   "id": "8f34de4b-c12f-47a0-b8e6-decb6a1b9f95",
   "metadata": {
    "execution": {
     "iopub.execute_input": "2022-12-23T23:14:23.480314Z",
     "iopub.status.busy": "2022-12-23T23:14:23.480072Z",
     "iopub.status.idle": "2022-12-23T23:14:23.525777Z",
     "shell.execute_reply": "2022-12-23T23:14:23.525135Z",
     "shell.execute_reply.started": "2022-12-23T23:14:23.480289Z"
    },
    "id": "8f34de4b-c12f-47a0-b8e6-decb6a1b9f95",
    "tags": [],
    "pycharm": {
     "is_executing": true
    }
   },
   "outputs": [],
   "source": [
    "label2id = {}\n",
    "for id_, label_ in enumerate(class_names):\n",
    "    label2id[label_] = id_\n",
    "label2id\n"
   ]
  },
  {
   "cell_type": "code",
   "execution_count": null,
   "id": "b1f11ed8-d5d2-4438-8d80-811a0dafceab",
   "metadata": {
    "execution": {
     "iopub.execute_input": "2022-12-23T23:14:24.265929Z",
     "iopub.status.busy": "2022-12-23T23:14:24.265546Z",
     "iopub.status.idle": "2022-12-23T23:14:24.318440Z",
     "shell.execute_reply": "2022-12-23T23:14:24.317882Z",
     "shell.execute_reply.started": "2022-12-23T23:14:24.265901Z"
    },
    "id": "b1f11ed8-d5d2-4438-8d80-811a0dafceab",
    "tags": [],
    "pycharm": {
     "is_executing": true
    }
   },
   "outputs": [],
   "source": [
    "config.id2label = id2label\n",
    "config.label2id = label2id"
   ]
  },
  {
   "cell_type": "code",
   "execution_count": null,
   "id": "8996b4bc-2412-4cbd-9237-95fe830f6492",
   "metadata": {
    "execution": {
     "iopub.execute_input": "2022-12-23T23:14:24.769204Z",
     "iopub.status.busy": "2022-12-23T23:14:24.768823Z",
     "iopub.status.idle": "2022-12-23T23:14:24.818312Z",
     "shell.execute_reply": "2022-12-23T23:14:24.817732Z",
     "shell.execute_reply.started": "2022-12-23T23:14:24.769176Z"
    },
    "id": "8996b4bc-2412-4cbd-9237-95fe830f6492",
    "tags": [],
    "pycharm": {
     "is_executing": true
    }
   },
   "outputs": [],
   "source": [
    "config\n"
   ]
  },
  {
   "cell_type": "markdown",
   "id": "cc2a39fc-6d87-43ca-8a6e-7129bd8214f1",
   "metadata": {
    "id": "cc2a39fc-6d87-43ca-8a6e-7129bd8214f1"
   },
   "source": [
    "##  <font color = 'indianred'> **Download pre-trained model**"
   ]
  },
  {
   "cell_type": "code",
   "execution_count": null,
   "id": "58babf85",
   "metadata": {
    "id": "58babf85",
    "pycharm": {
     "is_executing": true
    }
   },
   "outputs": [],
   "source": [
    "# Instantiate a model for sequence classification using the specified checkpoint.\n",
    "# The provided configuration (config) ensures the model aligns with the structure and settings of the original checkpoint.\n",
    "# Use AutoModelForSequenceClassification\n",
    "# Pass the checkpoint and config\n",
    "model =  # CODE HERE\n"
   ]
  },
  {
   "cell_type": "markdown",
   "id": "GTVu1FaL8H6m",
   "metadata": {
    "id": "GTVu1FaL8H6m"
   },
   "source": [
    "## <font color = 'indianred'> **Model Input/Collate Function** </font>"
   ]
  },
  {
   "cell_type": "code",
   "execution_count": null,
   "id": "EFpsqlHeMvkg",
   "metadata": {
    "id": "EFpsqlHeMvkg",
    "pycharm": {
     "is_executing": true
    }
   },
   "outputs": [],
   "source": [
    "data_collator = DataCollatorWithPadding(tokenizer=tokenizer)"
   ]
  },
  {
   "cell_type": "code",
   "execution_count": null,
   "id": "ykhwkd-tM0CO",
   "metadata": {
    "id": "ykhwkd-tM0CO",
    "pycharm": {
     "is_executing": true
    }
   },
   "outputs": [],
   "source": [
    "features = [tokenized_dataset[\"train\"][i] for i in range(2)]"
   ]
  },
  {
   "cell_type": "code",
   "execution_count": null,
   "id": "D2j4voKEOjXz",
   "metadata": {
    "id": "D2j4voKEOjXz",
    "pycharm": {
     "is_executing": true
    }
   },
   "outputs": [],
   "source": [
    "features"
   ]
  },
  {
   "cell_type": "code",
   "execution_count": null,
   "id": "-cUJ5Q8OOiji",
   "metadata": {
    "id": "-cUJ5Q8OOiji",
    "pycharm": {
     "is_executing": true
    }
   },
   "outputs": [],
   "source": [
    "model_input = data_collator(features)\n",
    "model_input.keys()"
   ]
  },
  {
   "cell_type": "code",
   "execution_count": null,
   "id": "X0pl2TxWNX8j",
   "metadata": {
    "id": "X0pl2TxWNX8j",
    "pycharm": {
     "is_executing": true
    }
   },
   "outputs": [],
   "source": [
    "print(model_input.input_ids[0][0:10])\n",
    "print(model_input.input_ids[0][-20:])\n",
    "print(model_input.input_ids[1][0:10])\n",
    "print(model_input.input_ids[1][-20:])"
   ]
  },
  {
   "cell_type": "code",
   "execution_count": null,
   "id": "e8M8Y9S5SHho",
   "metadata": {
    "colab": {
     "base_uri": "https://localhost:8080/"
    },
    "executionInfo": {
     "elapsed": 210,
     "status": "ok",
     "timestamp": 1696578151984,
     "user": {
      "displayName": "Shaannoor Mann",
      "userId": "02520257695567980696"
     },
     "user_tz": 300
    },
    "id": "e8M8Y9S5SHho",
    "outputId": "6ad135fe-0754-4f67-c8c3-1c7e2c6da493",
    "pycharm": {
     "is_executing": true
    }
   },
   "outputs": [],
   "source": [
    "print(model_input.attention_mask[0][-20:])\n",
    "print(model_input.attention_mask[1][-20:])"
   ]
  },
  {
   "cell_type": "code",
   "execution_count": null,
   "id": "mf89s-QBSWAY",
   "metadata": {
    "id": "mf89s-QBSWAY",
    "pycharm": {
     "is_executing": true
    }
   },
   "outputs": [],
   "source": [
    "print(tokenizer.convert_ids_to_tokens(model_input.input_ids[0][0:10]))"
   ]
  },
  {
   "cell_type": "code",
   "execution_count": null,
   "id": "wnTPkY2BSdsA",
   "metadata": {
    "id": "wnTPkY2BSdsA",
    "pycharm": {
     "is_executing": true
    }
   },
   "outputs": [],
   "source": [
    "print(tokenizer.convert_ids_to_tokens(model_input.input_ids[0][-10:]))"
   ]
  },
  {
   "cell_type": "code",
   "execution_count": null,
   "id": "7-ulominSkqX",
   "metadata": {
    "id": "7-ulominSkqX",
    "pycharm": {
     "is_executing": true
    }
   },
   "outputs": [],
   "source": [
    "print(tokenizer.convert_ids_to_tokens(model_input.input_ids[1][0:10]))"
   ]
  },
  {
   "cell_type": "code",
   "execution_count": null,
   "id": "f9pcCLTaSl97",
   "metadata": {
    "id": "f9pcCLTaSl97",
    "pycharm": {
     "is_executing": true
    }
   },
   "outputs": [],
   "source": [
    "print(tokenizer.convert_ids_to_tokens(model_input.input_ids[1][-10:]))"
   ]
  },
  {
   "cell_type": "markdown",
   "id": "Q_bLeRq38NGo",
   "metadata": {
    "id": "Q_bLeRq38NGo"
   },
   "source": [
    "##  <font color = 'indianred'> **Understanding Model Output**"
   ]
  },
  {
   "cell_type": "code",
   "execution_count": null,
   "id": "Kp85pxcaanZr",
   "metadata": {
    "id": "Kp85pxcaanZr",
    "pycharm": {
     "is_executing": true
    }
   },
   "outputs": [],
   "source": [
    "# model output\n",
    "model=model.to(device=0)\n",
    "model_input= model_input.to(device=0)\n",
    "model.train()\n",
    "model_output = model(**model_input)"
   ]
  },
  {
   "cell_type": "code",
   "execution_count": null,
   "id": "Ea8ElbBcan8v",
   "metadata": {
    "id": "Ea8ElbBcan8v",
    "pycharm": {
     "is_executing": true
    }
   },
   "outputs": [],
   "source": [
    "# keys in model output\n",
    "model_output.keys()"
   ]
  },
  {
   "cell_type": "code",
   "execution_count": null,
   "id": "lgHbL2aibE60",
   "metadata": {
    "id": "lgHbL2aibE60",
    "pycharm": {
     "is_executing": true
    }
   },
   "outputs": [],
   "source": [
    "# let us look at logits\n",
    "model_output.logits\n"
   ]
  },
  {
   "cell_type": "code",
   "source": [
    "model_output.logits.shape"
   ],
   "metadata": {
    "id": "5vRyOSXr8I7l",
    "pycharm": {
     "is_executing": true
    }
   },
   "id": "5vRyOSXr8I7l",
   "execution_count": null,
   "outputs": []
  },
  {
   "cell_type": "code",
   "execution_count": null,
   "id": "-EG_42RUeqBC",
   "metadata": {
    "id": "-EG_42RUeqBC",
    "pycharm": {
     "is_executing": true
    }
   },
   "outputs": [],
   "source": [
    "model_output.loss"
   ]
  },
  {
   "cell_type": "markdown",
   "id": "4c2cd6ba",
   "metadata": {
    "id": "4c2cd6ba"
   },
   "source": [
    "##  <font color = 'indianred'> **Evaluation metric(s)** </font>"
   ]
  },
  {
   "cell_type": "markdown",
   "id": "9E1NyeL08iPA",
   "metadata": {
    "id": "9E1NyeL08iPA"
   },
   "source": [
    "### <font color = 'indianred'> **Function to compute metric** </font>\n",
    "\n",
    "## NOTE The DIFFERENCE BETWEEN THIS FUNCTION AND THE SAME FUNBCTION WE CREATED FOR IMDB DATASET\n",
    "\n",
    "- evaluate.combine and combined_metrics.compute does not work for multiclass classification. This is a known bug that might get resolved in future versions of evaluate"
   ]
  },
  {
   "cell_type": "code",
   "execution_count": null,
   "id": "1b9e7b70",
   "metadata": {
    "id": "1b9e7b70",
    "pycharm": {
     "is_executing": true
    }
   },
   "outputs": [],
   "source": [
    "# Define a function to compute evaluation metrics for sequence classification.\n",
    "# The function takes in the evaluation predictions which consist of logits and true labels.\n",
    "# The function calculates the macro F1 score and accuracy, and returns them as a dictionary.\n",
    "\n",
    "def compute_metrics(eval_pred):\n",
    "    # Split the evaluation predictions into logits (model predictions) and actual labels.\n",
    "    logits, labels = eval_pred\n",
    "    # Convert logits to class predictions by picking the class with the highest logit for each input.\n",
    "    predictions = np.argmax(logits, axis=-1)\n",
    "\n",
    "    # Load the macro F1 score metric.\n",
    "    f1_metric = evaluate.load(\"f1\", average=\"macro\")\n",
    "    # Load the accuracy metric.\n",
    "    accuracy = evaluate.load(\"accuracy\")\n",
    "\n",
    "    # Initialize an empty dictionary to store computed metric results.\n",
    "    evaluations = {}\n",
    "    # Compute and store the macro F1 score.\n",
    "    evaluations.update(f1_metric.compute(predictions=predictions, references=labels, average=\"macro\"))\n",
    "    # Compute and store the accuracy.\n",
    "    evaluations.update(accuracy.compute(predictions=predictions, references=labels))\n",
    "\n",
    "    return evaluations\n",
    "\n"
   ]
  },
  {
   "cell_type": "markdown",
   "id": "IGDxeCI38uqm",
   "metadata": {
    "id": "IGDxeCI38uqm"
   },
   "source": [
    "## <font color = 'indianred'> **Set up Logger for experiments**</font>"
   ]
  },
  {
   "cell_type": "code",
   "execution_count": null,
   "id": "S8CaRySh81mi",
   "metadata": {
    "id": "S8CaRySh81mi",
    "pycharm": {
     "is_executing": true
    }
   },
   "outputs": [],
   "source": [
    "# YOU WILL NEED TO CREATE AN ACCOUNT FOR WANDB\n",
    "# It may provide a link for token , copy paste the token following instructions\n",
    "# setup wandb\n",
    "wandb.login()  # you will need to craete wandb account first\n",
    "# Set project name for logging\n",
    "%env WANDB_PROJECT = nlp_course_fall_2023-HW5-PartA"
   ]
  },
  {
   "cell_type": "markdown",
   "id": "Jwwp80UgmLjr",
   "metadata": {
    "id": "Jwwp80UgmLjr"
   },
   "source": [
    "## <font color = 'indianred'> **Hyperparameters and Checkpointing**</font>"
   ]
  },
  {
   "cell_type": "code",
   "execution_count": null,
   "id": "hIXDbzK8O4x9",
   "metadata": {
    "id": "hIXDbzK8O4x9",
    "pycharm": {
     "is_executing": true
    }
   },
   "outputs": [],
   "source": [
    "# Define the directory where model checkpoints will be saved\n",
    "model_folder = base_folder / \"models\"/\"nlp_fall_2023/imdb/bert\"\n",
    "# Create the directory if it doesn't exist\n",
    "model_folder.mkdir(exist_ok=True, parents=True)\n",
    "\n",
    "# Configure training parameters\n",
    "training_args = TrainingArguments(\n",
    "    # Training-specific configurations\n",
    "    num_train_epochs=2,  # Total number of training epochs\n",
    "    # Number of samples per training batch for each device\n",
    "    per_device_train_batch_size=16,\n",
    "    # Number of samples per evaluation batch for each device\n",
    "    per_device_eval_batch_size=16,\n",
    "    weight_decay=0.01,  # Apply L2 regularization to prevent overfitting\n",
    "    learning_rate=2e-5,  # Step size for the optimizer during training\n",
    "    optim='adamw_torch',  # Optimizer,\n",
    "\n",
    "    # Checkpoint saving and model evaluation settings\n",
    "    output_dir=str(model_folder),  # Directory to save model checkpoints\n",
    "    evaluation_strategy='steps',  # Evaluate model at specified step intervals\n",
    "    eval_steps=20,  # Perform evaluation every 10 training steps\n",
    "    save_strategy=\"steps\",  # Save model checkpoint at specified step intervals\n",
    "    save_steps=20,  # Save a model checkpoint every 10 training steps\n",
    "    load_best_model_at_end=True,  # Reload the best model at the end of training\n",
    "    save_total_limit=2,  # Retain only the best and the most recent model checkpoints\n",
    "    # Use 'accuracy' as the metric to determine the best model\n",
    "    metric_for_best_model=\"accuracy\",\n",
    "    greater_is_better=True,  # A model is 'better' if its accuracy is higher\n",
    "\n",
    "\n",
    "    # Experiment logging configurations (commented out in this example)\n",
    "    logging_strategy='steps',\n",
    "    logging_steps=20,\n",
    "    report_to='wandb',  # Log metrics and results to Weights & Biases platform\n",
    "    run_name= 'stack_exp1',  # Experiment name for Weights & Biases\n",
    ")\n"
   ]
  },
  {
   "cell_type": "markdown",
   "id": "J_hMcxgrFNyT",
   "metadata": {
    "id": "J_hMcxgrFNyT"
   },
   "source": [
    "##  <font color = 'indianred'> **Initialize Trainer**</font>"
   ]
  },
  {
   "cell_type": "code",
   "execution_count": null,
   "id": "syJ7458-On05",
   "metadata": {
    "id": "syJ7458-On05",
    "pycharm": {
     "is_executing": true
    }
   },
   "outputs": [],
   "source": [
    "# initialize trainer\n",
    "trainer = Trainer(\n",
    "    model=model,\n",
    "    args=training_args,\n",
    "    train_dataset=tokenized_dataset[\"train\"],\n",
    "    eval_dataset=tokenized_dataset[\"val\"],\n",
    "    compute_metrics=compute_metrics,\n",
    "    tokenizer=tokenizer,\n",
    ")\n"
   ]
  },
  {
   "cell_type": "markdown",
   "id": "ty027fT4DFGn",
   "metadata": {
    "id": "ty027fT4DFGn"
   },
   "source": [
    "##  <font color = 'indianred'> **Start Training**"
   ]
  },
  {
   "cell_type": "code",
   "execution_count": null,
   "id": "WQj1TJRPMbJe",
   "metadata": {
    "id": "WQj1TJRPMbJe",
    "pycharm": {
     "is_executing": true
    }
   },
   "outputs": [],
   "source": [
    "trainer.data_collator"
   ]
  },
  {
   "cell_type": "code",
   "execution_count": null,
   "id": "MHNSotl_CyW7",
   "metadata": {
    "id": "MHNSotl_CyW7",
    "pycharm": {
     "is_executing": true
    }
   },
   "outputs": [],
   "source": [
    "trainer.train()  # start training\n"
   ]
  },
  {
   "cell_type": "markdown",
   "id": "42c32c3f",
   "metadata": {
    "id": "42c32c3f"
   },
   "source": [
    "## <font color = 'indianred'> **Evaluation**\n"
   ]
  },
  {
   "cell_type": "markdown",
   "id": "ade3b145",
   "metadata": {
    "id": "ade3b145"
   },
   "source": [
    "### <font color = 'indianred'> **Check performance on validation set**</font>\n"
   ]
  },
  {
   "cell_type": "code",
   "execution_count": null,
   "id": "a44ccd78",
   "metadata": {
    "id": "a44ccd78",
    "pycharm": {
     "is_executing": true
    }
   },
   "outputs": [],
   "source": [
    "# Evaluate the trained model on the tokenized validation dataset.\n",
    "# This will provide metrics like loss, accuracy, etc. based on the model's performance on the validation set.\n",
    "trainer.evaluate(tokenized_dataset[\"val\"])\n"
   ]
  },
  {
   "cell_type": "markdown",
   "id": "ad1672b2",
   "metadata": {
    "id": "ad1672b2"
   },
   "source": [
    "###  <font color = 'indianred'> **Check Confusion Matrix**</font>\n",
    "\n",
    "\n"
   ]
  },
  {
   "cell_type": "code",
   "execution_count": null,
   "id": "bacbb4f0",
   "metadata": {
    "id": "bacbb4f0",
    "pycharm": {
     "is_executing": true
    }
   },
   "outputs": [],
   "source": [
    "# Use the trainer to generate predictions on the tokenized validation dataset.\n",
    "# The resulting object, valid_output, will contain the model's logits (raw prediction scores) for each input in the validation set.\n",
    "valid_output = trainer.predict(tokenized_dataset[\"val\"])\n"
   ]
  },
  {
   "cell_type": "code",
   "execution_count": null,
   "id": "391dcfd3",
   "metadata": {
    "id": "391dcfd3",
    "pycharm": {
     "is_executing": true
    }
   },
   "outputs": [],
   "source": [
    "# Retrieve the named fields (attributes) of the valid_output object.\n",
    "# This helps understand the structure of the prediction output and the available information it contains.\n",
    "valid_output._fields\n",
    "\n"
   ]
  },
  {
   "cell_type": "code",
   "execution_count": null,
   "id": "ab048612",
   "metadata": {
    "id": "ab048612",
    "pycharm": {
     "is_executing": true
    }
   },
   "outputs": [],
   "source": [
    "# Check and print the shape of the predictions and label_ids from the valid_output object.\n",
    "# This provides insight into the dimensions of the predicted outputs and the true labels for the validation set.\n",
    "print(valid_output.predictions.shape)\n",
    "print(valid_output.label_ids.shape)\n",
    "\n",
    "\n"
   ]
  },
  {
   "cell_type": "code",
   "execution_count": null,
   "id": "95a4d7d0",
   "metadata": {
    "id": "95a4d7d0",
    "pycharm": {
     "is_executing": true
    }
   },
   "outputs": [],
   "source": [
    "# Convert the logits (raw prediction scores) from the valid_output object into class predictions.\n",
    "# For each input, pick the class with the highest logit as the predicted class.\n",
    "# Also, extract the true label IDs from valid_output and store them as an array for further analysis.\n",
    "valid_preds = np.argmax(valid_output.predictions, axis=1) # CODE HERE\n",
    "valid_labels = np.array(valid_output.label_ids)  # CODE HERE\n",
    "\n"
   ]
  },
  {
   "cell_type": "code",
   "execution_count": null,
   "id": "9ff99da6",
   "metadata": {
    "id": "9ff99da6",
    "pycharm": {
     "is_executing": true
    }
   },
   "outputs": [],
   "source": [
    "class_names = train_val_subset[\"val\"].features[\"label\"].names\n",
    "class_names"
   ]
  },
  {
   "cell_type": "code",
   "execution_count": null,
   "id": "7681bc84",
   "metadata": {
    "id": "7681bc84",
    "pycharm": {
     "is_executing": true
    }
   },
   "outputs": [],
   "source": [
    "# Plot a confusion matrix to visualize the model's classification performance on the validation set.\n",
    "# The matrix shows the true labels versus the predicted labels.\n",
    "# The matrix is normalized by the number of true samples per class, making it easier to identify misclassifications.\n",
    "\n",
    "fig, ax = plt.subplots(figsize=(8, 6))  # Initialize a plotting figure with a specified size.\n",
    "\n",
    "# Generate and display the confusion matrix using true labels and predicted labels.\n",
    "# The matrix is normalized, and custom display labels and x-axis tick rotation are applied for better visualization.\n",
    "ConfusionMatrixDisplay.from_predictions(\n",
    "    y_true=valid_labels,        # Actual labels from the validation set.\n",
    "    y_pred=valid_preds,         # Predicted class labels by the model.\n",
    "    ax=ax,                      # Plotting axis.\n",
    "    normalize=\"true\",           # Normalize by true class counts.\n",
    "    display_labels=class_names, # Custom class names for display.\n",
    "    xticks_rotation=90          # Rotate x-axis ticks for better readability.\n",
    ")\n"
   ]
  },
  {
   "cell_type": "code",
   "execution_count": null,
   "id": "a61cd63e",
   "metadata": {
    "id": "a61cd63e",
    "pycharm": {
     "is_executing": true
    }
   },
   "outputs": [],
   "source": [
    "# Log the confusion matrix to the Weights & Biases (Wandb) platform for monitoring and visualization.\n",
    "# This allows for tracking the model's classification performance across different runs or iterations.\n",
    "\n",
    "# log the Confusion Matrix to Wandb\n",
    "wandb.log({\n",
    "    \"conf_mat\": wandb.plot.confusion_matrix(\n",
    "        preds=valid_preds,        # Model's predicted class labels.\n",
    "        y_true=valid_labels,      # Actual labels from the validation set.\n",
    "        class_names=class_names   # Custom class names for display in the confusion matrix.\n",
    "    )\n",
    "})\n",
    "\n"
   ]
  },
  {
   "cell_type": "code",
   "execution_count": null,
   "id": "573785ef",
   "metadata": {
    "id": "573785ef",
    "pycharm": {
     "is_executing": true
    }
   },
   "outputs": [],
   "source": [
    "wandb.finish()\n"
   ]
  },
  {
   "cell_type": "markdown",
   "id": "ef42e718",
   "metadata": {
    "id": "ef42e718"
   },
   "source": [
    "### <font color = 'indianred'> **Check the best saved model**</font>\n"
   ]
  },
  {
   "cell_type": "code",
   "execution_count": null,
   "id": "42a722fd",
   "metadata": {
    "id": "42a722fd",
    "pycharm": {
     "is_executing": true
    }
   },
   "outputs": [],
   "source": [
    "# After training, let us check the best checkpoint\n",
    "# We need this for Predictions and Evaluations\n",
    "best_model_checkpoint_step = trainer.state.best_model_checkpoint.split('-')[-1]\n",
    "print(f\"The best model was saved at step {best_model_checkpoint_step}.\")\n"
   ]
  },
  {
   "cell_type": "markdown",
   "id": "d013dd3d-bcee-45d8-a371-80daebd910de",
   "metadata": {
    "id": "d013dd3d-bcee-45d8-a371-80daebd910de"
   },
   "source": [
    "#  <font color = 'indianred'> **Inference**"
   ]
  },
  {
   "cell_type": "markdown",
   "id": "791b360c",
   "metadata": {
    "id": "791b360c"
   },
   "source": [
    "## <font color = 'indianred'> **Test Set Evaluation**\n"
   ]
  },
  {
   "cell_type": "code",
   "execution_count": null,
   "id": "9100777b",
   "metadata": {
    "id": "9100777b",
    "pycharm": {
     "is_executing": true
    }
   },
   "outputs": [],
   "source": [
    "# Create a subset of the test dataset ensuring equal representation from each label.\n",
    "# This can be useful for testing a model's performance on a balanced dataset.\n",
    "\n",
    "test_subset = DatasetDict()  # Initialize an empty DatasetDict to store the subsetted data.\n",
    "\n",
    "texts = []  # List to accumulate sampled text data.\n",
    "labels = [] # List to accumulate corresponding labels for the sampled texts.\n",
    "\n",
    "# Iterate over each label from 0 to 9 (10 labels in total).\n",
    "for label in range(10):\n",
    "    # Filter out data samples in the 'test' split of test_dataset where the 'label' matches the current label.\n",
    "    # This provides all texts for the specific label.\n",
    "    label_texts = test_dataset['test'].filter(lambda x: x['label'] == label)['text']\n",
    "\n",
    "    # Randomly sample 200 texts from the filtered set.\n",
    "    label_subset = random.sample(list(label_texts), 200)\n",
    "\n",
    "    # Append the sampled texts to the 'texts' list.\n",
    "    texts.extend(label_subset)\n",
    "\n",
    "    # Append the corresponding label for each of the sampled texts to the 'labels' list.\n",
    "    labels.extend([label]*len(label_subset))\n",
    "\n",
    "# Construct a new dataset from the accumulated texts and labels and assign it to the 'test' split in test_subset.\n",
    "test_subset['test'] = Dataset.from_dict({'text': texts, 'label': labels})\n",
    "\n"
   ]
  },
  {
   "cell_type": "code",
   "source": [
    "test_subset"
   ],
   "metadata": {
    "id": "5SrMqSiV_sPL",
    "pycharm": {
     "is_executing": true
    }
   },
   "id": "5SrMqSiV_sPL",
   "execution_count": null,
   "outputs": []
  },
  {
   "cell_type": "markdown",
   "source": [
    "**NOTE we used ```from evaluate import evaluator``` in imdb dataset. Again this is currently not working for multiclass classification. Hence we will craete our own evaluator.**"
   ],
   "metadata": {
    "id": "b6319b42"
   },
   "id": "b6319b42"
  },
  {
   "cell_type": "code",
   "source": [
    "def evaluator(model, dataset, tokenizer, compute_metrics, batch_size=16):\n",
    "    \"\"\"\n",
    "    Evaluates a model's performance on a given dataset.\n",
    "\n",
    "    Parameters:\n",
    "    - model: The trained model to evaluate.\n",
    "    - dataset: The dataset on which the model will be evaluated.\n",
    "    - tokenizer: The tokenizer used to preprocess the text data.\n",
    "    - compute_metrics: A function to compute evaluation metrics.\n",
    "    - batch_size: Size of batches for evaluation. Default is 16.\n",
    "\n",
    "    Returns:\n",
    "    - evaluations: A dictionary containing computed evaluation metrics.\n",
    "    \"\"\"\n",
    "\n",
    "    # Tokenize the dataset and truncate if the tokenized sequence is longer than the model's maximum input length.\n",
    "    tokenized_dataset= dataset.map(lambda batch: tokenizer(batch[\"text\"], truncation=True), batched=True)\n",
    "\n",
    "    # Set the format of the tokenized dataset to be compatible with PyTorch.\n",
    "    tokenized_dataset.set_format(type='torch')\n",
    "\n",
    "    # Remove the 'text' column from the tokenized dataset as it's no longer needed post-tokenization.\n",
    "    tokenized_dataset= tokenized_dataset.remove_columns(['text'])\n",
    "\n",
    "    # Define a collation function that pads tokenized sequences to the same length for batching.\n",
    "    collate_fn = DataCollatorWithPadding(tokenizer=tokenizer)\n",
    "\n",
    "    # Initialize a DataLoader to iterate over the tokenized dataset in batches.\n",
    "    datalaoder = DataLoader(tokenized_dataset, batch_size=batch_size, collate_fn=collate_fn)\n",
    "\n",
    "    # Put the model in evaluation mode and move it to the GPU.\n",
    "    model.eval()\n",
    "    model.to('cuda')\n",
    "\n",
    "    # Initialize variables to store the model's logits (raw prediction scores) and true labels.\n",
    "    eval_logits = None\n",
    "    eval_labels = None\n",
    "\n",
    "    # Disable gradient calculations for efficient memory usage during evaluation.\n",
    "    with torch.inference_mode():\n",
    "        # Iterate over batches from the DataLoader.\n",
    "        for batch in datalaoder:\n",
    "            # Prepare the inputs and move them to the GPU.\n",
    "            inputs = {k: v.to('cuda') for k, v in batch.items() if k != 'labels'}\n",
    "\n",
    "            # Get the model's predictions for the current batch.\n",
    "            outputs = model(**inputs)\n",
    "            logits = outputs.logits\n",
    "            labels = batch['labels'].to('cuda')\n",
    "\n",
    "            # Append the logits and labels of the current batch to the accumulating variables.\n",
    "            if eval_logits is None:\n",
    "                eval_logits = logits.cpu().numpy()\n",
    "                eval_labels = labels.cpu().numpy()\n",
    "            else:\n",
    "                eval_logits = np.append(eval_logits, logits.cpu().numpy(), axis=0)\n",
    "                eval_labels = np.append(eval_labels, labels.cpu().numpy(), axis=0)\n",
    "\n",
    "    # Compute evaluation metrics using the provided compute_metrics function.\n",
    "    evaluations = compute_metrics((eval_logits, eval_labels))\n",
    "\n",
    "    return evaluations\n"
   ],
   "metadata": {
    "id": "nSeGWBNvAofT",
    "pycharm": {
     "is_executing": true
    }
   },
   "id": "nSeGWBNvAofT",
   "execution_count": null,
   "outputs": []
  },
  {
   "cell_type": "code",
   "execution_count": null,
   "id": "173f356f",
   "metadata": {
    "id": "173f356f",
    "pycharm": {
     "is_executing": true
    }
   },
   "outputs": [],
   "source": [
    "evaluations = evaluator(model, test_subset['test'], tokenizer, compute_metrics, batch_size=16)"
   ]
  },
  {
   "cell_type": "code",
   "execution_count": null,
   "id": "1f55b6c7",
   "metadata": {
    "id": "1f55b6c7",
    "pycharm": {
     "is_executing": true
    }
   },
   "outputs": [],
   "source": [
    "evaluations"
   ]
  },
  {
   "cell_type": "markdown",
   "id": "6d83e325",
   "metadata": {
    "id": "6d83e325"
   },
   "source": [
    "##  <font color = 'indianred'> **Pipeline for Predictions**"
   ]
  },
  {
   "cell_type": "markdown",
   "id": "d78ff0e6",
   "metadata": {
    "id": "d78ff0e6"
   },
   "source": [
    "## <font color = 'indianred'> **Create pipelne for inference**"
   ]
  },
  {
   "cell_type": "code",
   "execution_count": null,
   "id": "bc8f787e",
   "metadata": {
    "colab": {
     "base_uri": "https://localhost:8080/"
    },
    "id": "bc8f787e",
    "executionInfo": {
     "status": "ok",
     "timestamp": 1696579781298,
     "user_tz": 300,
     "elapsed": 3062,
     "user": {
      "displayName": "Shaannoor Mann",
      "userId": "02520257695567980696"
     }
    },
    "outputId": "27eeba66-4ca3-4a59-d9e4-793c877cd94a",
    "pycharm": {
     "is_executing": true
    }
   },
   "outputs": [],
   "source": [
    "# Convert the path to the 'checkpoint-220' inside the 'model_folder' to a string format.\n",
    "# SEE THE step number for best moel from the section -- Check the best saved model\n",
    "# This was 220 for me, you might get a different numnber\n",
    "checkpoint = str(model_folder/'checkpoint-220')\n",
    "\n",
    "# Create a text classification pipeline using the Hugging Face's pipeline method.\n",
    "# The pipeline is initialized with:\n",
    "# - The task set to \"text-classification\".\n",
    "# - Model and tokenizer both loaded from the specified checkpoint path.\n",
    "# - Execution set to the primary device (typically the first GPU).\n",
    "\n",
    "custom_pipeline = pipeline(\n",
    "    task=\"text-classification\",\n",
    "    model=checkpoint,\n",
    "    tokenizer=checkpoint,\n",
    "    device=0)\n"
   ]
  },
  {
   "cell_type": "markdown",
   "id": "a44ab407",
   "metadata": {
    "id": "a44ab407"
   },
   "source": [
    "##  <font color = 'indianred'> **Prediction for individual or small list of examples**"
   ]
  },
  {
   "cell_type": "code",
   "execution_count": null,
   "id": "c7524157-e14f-44aa-8cb9-f9c69a9b9876",
   "metadata": {
    "execution": {
     "iopub.execute_input": "2022-12-23T23:52:22.714867Z",
     "iopub.status.busy": "2022-12-23T23:52:22.714578Z",
     "iopub.status.idle": "2022-12-23T23:52:22.741666Z",
     "shell.execute_reply": "2022-12-23T23:52:22.741326Z",
     "shell.execute_reply.started": "2022-12-23T23:52:22.714851Z"
    },
    "id": "c7524157-e14f-44aa-8cb9-f9c69a9b9876",
    "tags": [],
    "pycharm": {
     "is_executing": true
    }
   },
   "outputs": [],
   "source": [
    "sample = test_subset['test']['text'][0]\n",
    "sample"
   ]
  },
  {
   "cell_type": "code",
   "execution_count": null,
   "id": "b5d55ff7",
   "metadata": {
    "id": "b5d55ff7",
    "pycharm": {
     "is_executing": true
    }
   },
   "outputs": [],
   "source": [
    "preds = custom_pipeline(sample)\n",
    "preds\n"
   ]
  },
  {
   "cell_type": "code",
   "execution_count": null,
   "id": "8ec845eb",
   "metadata": {
    "id": "8ec845eb",
    "pycharm": {
     "is_executing": true
    }
   },
   "outputs": [],
   "source": [
    "sample = test_split['text'][12]\n",
    "sample"
   ]
  },
  {
   "cell_type": "code",
   "execution_count": null,
   "id": "0d19e732",
   "metadata": {
    "colab": {
     "base_uri": "https://localhost:8080/"
    },
    "executionInfo": {
     "elapsed": 2,
     "status": "ok",
     "timestamp": 1696579824395,
     "user": {
      "displayName": "Shaannoor Mann",
      "userId": "02520257695567980696"
     },
     "user_tz": 300
    },
    "id": "0d19e732",
    "outputId": "73502e4d-f9c1-4430-9344-2e0a1d5d14ef",
    "pycharm": {
     "is_executing": true
    }
   },
   "outputs": [],
   "source": [
    "preds = custom_pipeline(sample)\n",
    "preds"
   ]
  },
  {
   "cell_type": "markdown",
   "id": "a88a2ec4",
   "metadata": {
    "id": "a88a2ec4"
   },
   "source": [
    "## <font color = 'indianred'> **Prediction for large dataset**"
   ]
  },
  {
   "cell_type": "code",
   "execution_count": null,
   "id": "2fc1362c",
   "metadata": {
    "id": "2fc1362c",
    "pycharm": {
     "is_executing": true
    }
   },
   "outputs": [],
   "source": [
    "predictions = custom_pipeline(test_subset['test']['text'], truncation=True)"
   ]
  },
  {
   "cell_type": "code",
   "execution_count": null,
   "id": "5ab998d8",
   "metadata": {
    "id": "5ab998d8",
    "pycharm": {
     "is_executing": true
    }
   },
   "outputs": [],
   "source": [
    "predictions"
   ]
  }
 ],
 "metadata": {
  "accelerator": "GPU",
  "colab": {
   "gpuType": "A100",
   "provenance": [],
   "machine_shape": "hm"
  },
  "kernelspec": {
   "name": "pycharm-36c6da16",
   "language": "python",
   "display_name": "PyCharm (NLP101)"
  },
  "language_info": {
   "codemirror_mode": {
    "name": "ipython",
    "version": 3
   },
   "file_extension": ".py",
   "mimetype": "text/x-python",
   "name": "python",
   "nbconvert_exporter": "python",
   "pygments_lexer": "ipython3",
   "version": "3.10.10"
  },
  "widgets": {
   "application/vnd.jupyter.widget-state+json": {
    "0d2fc7397bef43a9a08c74af144c09dd": {
     "model_module": "@jupyter-widgets/controls",
     "model_name": "HBoxModel",
     "model_module_version": "1.5.0",
     "state": {
      "_dom_classes": [],
      "_model_module": "@jupyter-widgets/controls",
      "_model_module_version": "1.5.0",
      "_model_name": "HBoxModel",
      "_view_count": null,
      "_view_module": "@jupyter-widgets/controls",
      "_view_module_version": "1.5.0",
      "_view_name": "HBoxView",
      "box_style": "",
      "children": [
       "IPY_MODEL_476f8e56532a4fde86060c7aaaff640f",
       "IPY_MODEL_6019b1e472404647a403cee62cb5ba18",
       "IPY_MODEL_8d1e4261208b4630bd0644ed136810d6"
      ],
      "layout": "IPY_MODEL_1a02f684953549c0985feb67c5f5da42"
     }
    },
    "476f8e56532a4fde86060c7aaaff640f": {
     "model_module": "@jupyter-widgets/controls",
     "model_name": "HTMLModel",
     "model_module_version": "1.5.0",
     "state": {
      "_dom_classes": [],
      "_model_module": "@jupyter-widgets/controls",
      "_model_module_version": "1.5.0",
      "_model_name": "HTMLModel",
      "_view_count": null,
      "_view_module": "@jupyter-widgets/controls",
      "_view_module_version": "1.5.0",
      "_view_name": "HTMLView",
      "description": "",
      "description_tooltip": null,
      "layout": "IPY_MODEL_090801b7603846dc889176ac522334d5",
      "placeholder": "​",
      "style": "IPY_MODEL_18479ba656674962bc80000aeffd2355",
      "value": "Casting the dataset: 100%"
     }
    },
    "6019b1e472404647a403cee62cb5ba18": {
     "model_module": "@jupyter-widgets/controls",
     "model_name": "FloatProgressModel",
     "model_module_version": "1.5.0",
     "state": {
      "_dom_classes": [],
      "_model_module": "@jupyter-widgets/controls",
      "_model_module_version": "1.5.0",
      "_model_name": "FloatProgressModel",
      "_view_count": null,
      "_view_module": "@jupyter-widgets/controls",
      "_view_module_version": "1.5.0",
      "_view_name": "ProgressView",
      "bar_style": "success",
      "description": "",
      "description_tooltip": null,
      "layout": "IPY_MODEL_94eb893e39024dd5ad15679ab3b46ef0",
      "max": 2000,
      "min": 0,
      "orientation": "horizontal",
      "style": "IPY_MODEL_e6a70b7e3ce643a7be30e2bec50aa8a0",
      "value": 2000
     }
    },
    "8d1e4261208b4630bd0644ed136810d6": {
     "model_module": "@jupyter-widgets/controls",
     "model_name": "HTMLModel",
     "model_module_version": "1.5.0",
     "state": {
      "_dom_classes": [],
      "_model_module": "@jupyter-widgets/controls",
      "_model_module_version": "1.5.0",
      "_model_name": "HTMLModel",
      "_view_count": null,
      "_view_module": "@jupyter-widgets/controls",
      "_view_module_version": "1.5.0",
      "_view_name": "HTMLView",
      "description": "",
      "description_tooltip": null,
      "layout": "IPY_MODEL_3218d2326ecb4d38813086a5e8b82a69",
      "placeholder": "​",
      "style": "IPY_MODEL_b67092a7d6e24bbe981c1f0efc8dcd28",
      "value": " 2000/2000 [00:00&lt;00:00, 107736.87 examples/s]"
     }
    },
    "1a02f684953549c0985feb67c5f5da42": {
     "model_module": "@jupyter-widgets/base",
     "model_name": "LayoutModel",
     "model_module_version": "1.2.0",
     "state": {
      "_model_module": "@jupyter-widgets/base",
      "_model_module_version": "1.2.0",
      "_model_name": "LayoutModel",
      "_view_count": null,
      "_view_module": "@jupyter-widgets/base",
      "_view_module_version": "1.2.0",
      "_view_name": "LayoutView",
      "align_content": null,
      "align_items": null,
      "align_self": null,
      "border": null,
      "bottom": null,
      "display": null,
      "flex": null,
      "flex_flow": null,
      "grid_area": null,
      "grid_auto_columns": null,
      "grid_auto_flow": null,
      "grid_auto_rows": null,
      "grid_column": null,
      "grid_gap": null,
      "grid_row": null,
      "grid_template_areas": null,
      "grid_template_columns": null,
      "grid_template_rows": null,
      "height": null,
      "justify_content": null,
      "justify_items": null,
      "left": null,
      "margin": null,
      "max_height": null,
      "max_width": null,
      "min_height": null,
      "min_width": null,
      "object_fit": null,
      "object_position": null,
      "order": null,
      "overflow": null,
      "overflow_x": null,
      "overflow_y": null,
      "padding": null,
      "right": null,
      "top": null,
      "visibility": null,
      "width": null
     }
    },
    "090801b7603846dc889176ac522334d5": {
     "model_module": "@jupyter-widgets/base",
     "model_name": "LayoutModel",
     "model_module_version": "1.2.0",
     "state": {
      "_model_module": "@jupyter-widgets/base",
      "_model_module_version": "1.2.0",
      "_model_name": "LayoutModel",
      "_view_count": null,
      "_view_module": "@jupyter-widgets/base",
      "_view_module_version": "1.2.0",
      "_view_name": "LayoutView",
      "align_content": null,
      "align_items": null,
      "align_self": null,
      "border": null,
      "bottom": null,
      "display": null,
      "flex": null,
      "flex_flow": null,
      "grid_area": null,
      "grid_auto_columns": null,
      "grid_auto_flow": null,
      "grid_auto_rows": null,
      "grid_column": null,
      "grid_gap": null,
      "grid_row": null,
      "grid_template_areas": null,
      "grid_template_columns": null,
      "grid_template_rows": null,
      "height": null,
      "justify_content": null,
      "justify_items": null,
      "left": null,
      "margin": null,
      "max_height": null,
      "max_width": null,
      "min_height": null,
      "min_width": null,
      "object_fit": null,
      "object_position": null,
      "order": null,
      "overflow": null,
      "overflow_x": null,
      "overflow_y": null,
      "padding": null,
      "right": null,
      "top": null,
      "visibility": null,
      "width": null
     }
    },
    "18479ba656674962bc80000aeffd2355": {
     "model_module": "@jupyter-widgets/controls",
     "model_name": "DescriptionStyleModel",
     "model_module_version": "1.5.0",
     "state": {
      "_model_module": "@jupyter-widgets/controls",
      "_model_module_version": "1.5.0",
      "_model_name": "DescriptionStyleModel",
      "_view_count": null,
      "_view_module": "@jupyter-widgets/base",
      "_view_module_version": "1.2.0",
      "_view_name": "StyleView",
      "description_width": ""
     }
    },
    "94eb893e39024dd5ad15679ab3b46ef0": {
     "model_module": "@jupyter-widgets/base",
     "model_name": "LayoutModel",
     "model_module_version": "1.2.0",
     "state": {
      "_model_module": "@jupyter-widgets/base",
      "_model_module_version": "1.2.0",
      "_model_name": "LayoutModel",
      "_view_count": null,
      "_view_module": "@jupyter-widgets/base",
      "_view_module_version": "1.2.0",
      "_view_name": "LayoutView",
      "align_content": null,
      "align_items": null,
      "align_self": null,
      "border": null,
      "bottom": null,
      "display": null,
      "flex": null,
      "flex_flow": null,
      "grid_area": null,
      "grid_auto_columns": null,
      "grid_auto_flow": null,
      "grid_auto_rows": null,
      "grid_column": null,
      "grid_gap": null,
      "grid_row": null,
      "grid_template_areas": null,
      "grid_template_columns": null,
      "grid_template_rows": null,
      "height": null,
      "justify_content": null,
      "justify_items": null,
      "left": null,
      "margin": null,
      "max_height": null,
      "max_width": null,
      "min_height": null,
      "min_width": null,
      "object_fit": null,
      "object_position": null,
      "order": null,
      "overflow": null,
      "overflow_x": null,
      "overflow_y": null,
      "padding": null,
      "right": null,
      "top": null,
      "visibility": null,
      "width": null
     }
    },
    "e6a70b7e3ce643a7be30e2bec50aa8a0": {
     "model_module": "@jupyter-widgets/controls",
     "model_name": "ProgressStyleModel",
     "model_module_version": "1.5.0",
     "state": {
      "_model_module": "@jupyter-widgets/controls",
      "_model_module_version": "1.5.0",
      "_model_name": "ProgressStyleModel",
      "_view_count": null,
      "_view_module": "@jupyter-widgets/base",
      "_view_module_version": "1.2.0",
      "_view_name": "StyleView",
      "bar_color": null,
      "description_width": ""
     }
    },
    "3218d2326ecb4d38813086a5e8b82a69": {
     "model_module": "@jupyter-widgets/base",
     "model_name": "LayoutModel",
     "model_module_version": "1.2.0",
     "state": {
      "_model_module": "@jupyter-widgets/base",
      "_model_module_version": "1.2.0",
      "_model_name": "LayoutModel",
      "_view_count": null,
      "_view_module": "@jupyter-widgets/base",
      "_view_module_version": "1.2.0",
      "_view_name": "LayoutView",
      "align_content": null,
      "align_items": null,
      "align_self": null,
      "border": null,
      "bottom": null,
      "display": null,
      "flex": null,
      "flex_flow": null,
      "grid_area": null,
      "grid_auto_columns": null,
      "grid_auto_flow": null,
      "grid_auto_rows": null,
      "grid_column": null,
      "grid_gap": null,
      "grid_row": null,
      "grid_template_areas": null,
      "grid_template_columns": null,
      "grid_template_rows": null,
      "height": null,
      "justify_content": null,
      "justify_items": null,
      "left": null,
      "margin": null,
      "max_height": null,
      "max_width": null,
      "min_height": null,
      "min_width": null,
      "object_fit": null,
      "object_position": null,
      "order": null,
      "overflow": null,
      "overflow_x": null,
      "overflow_y": null,
      "padding": null,
      "right": null,
      "top": null,
      "visibility": null,
      "width": null
     }
    },
    "b67092a7d6e24bbe981c1f0efc8dcd28": {
     "model_module": "@jupyter-widgets/controls",
     "model_name": "DescriptionStyleModel",
     "model_module_version": "1.5.0",
     "state": {
      "_model_module": "@jupyter-widgets/controls",
      "_model_module_version": "1.5.0",
      "_model_name": "DescriptionStyleModel",
      "_view_count": null,
      "_view_module": "@jupyter-widgets/base",
      "_view_module_version": "1.2.0",
      "_view_name": "StyleView",
      "description_width": ""
     }
    },
    "aef96ed324f64866ae19ddfb6f5a5aec": {
     "model_module": "@jupyter-widgets/controls",
     "model_name": "HBoxModel",
     "model_module_version": "1.5.0",
     "state": {
      "_dom_classes": [],
      "_model_module": "@jupyter-widgets/controls",
      "_model_module_version": "1.5.0",
      "_model_name": "HBoxModel",
      "_view_count": null,
      "_view_module": "@jupyter-widgets/controls",
      "_view_module_version": "1.5.0",
      "_view_name": "HBoxView",
      "box_style": "",
      "children": [
       "IPY_MODEL_b948ebde57d7429b98845889cec9a486",
       "IPY_MODEL_f636f9a2086649a9b58e381bbc65ef04",
       "IPY_MODEL_7da404729a7942e086083099732329c1"
      ],
      "layout": "IPY_MODEL_6c58053caaf64225b147a6eef5a144ad"
     }
    },
    "b948ebde57d7429b98845889cec9a486": {
     "model_module": "@jupyter-widgets/controls",
     "model_name": "HTMLModel",
     "model_module_version": "1.5.0",
     "state": {
      "_dom_classes": [],
      "_model_module": "@jupyter-widgets/controls",
      "_model_module_version": "1.5.0",
      "_model_name": "HTMLModel",
      "_view_count": null,
      "_view_module": "@jupyter-widgets/controls",
      "_view_module_version": "1.5.0",
      "_view_name": "HTMLView",
      "description": "",
      "description_tooltip": null,
      "layout": "IPY_MODEL_9513c1e350f34e39bc59f608677a6165",
      "placeholder": "​",
      "style": "IPY_MODEL_ec16eb1df3ec4f299cddc300f6cce590",
      "value": "Casting the dataset: 100%"
     }
    },
    "f636f9a2086649a9b58e381bbc65ef04": {
     "model_module": "@jupyter-widgets/controls",
     "model_name": "FloatProgressModel",
     "model_module_version": "1.5.0",
     "state": {
      "_dom_classes": [],
      "_model_module": "@jupyter-widgets/controls",
      "_model_module_version": "1.5.0",
      "_model_name": "FloatProgressModel",
      "_view_count": null,
      "_view_module": "@jupyter-widgets/controls",
      "_view_module_version": "1.5.0",
      "_view_name": "ProgressView",
      "bar_style": "success",
      "description": "",
      "description_tooltip": null,
      "layout": "IPY_MODEL_6a557c47f2b1441b8317ad775f69fe1f",
      "max": 2000,
      "min": 0,
      "orientation": "horizontal",
      "style": "IPY_MODEL_e74f8e29c5cd44349c44b2b1c0db1d8e",
      "value": 2000
     }
    },
    "7da404729a7942e086083099732329c1": {
     "model_module": "@jupyter-widgets/controls",
     "model_name": "HTMLModel",
     "model_module_version": "1.5.0",
     "state": {
      "_dom_classes": [],
      "_model_module": "@jupyter-widgets/controls",
      "_model_module_version": "1.5.0",
      "_model_name": "HTMLModel",
      "_view_count": null,
      "_view_module": "@jupyter-widgets/controls",
      "_view_module_version": "1.5.0",
      "_view_name": "HTMLView",
      "description": "",
      "description_tooltip": null,
      "layout": "IPY_MODEL_e8738dea57004966b88972b339dbac6e",
      "placeholder": "​",
      "style": "IPY_MODEL_cda57e16697540448a451b3e51cf3d97",
      "value": " 2000/2000 [00:00&lt;00:00, 130039.81 examples/s]"
     }
    },
    "6c58053caaf64225b147a6eef5a144ad": {
     "model_module": "@jupyter-widgets/base",
     "model_name": "LayoutModel",
     "model_module_version": "1.2.0",
     "state": {
      "_model_module": "@jupyter-widgets/base",
      "_model_module_version": "1.2.0",
      "_model_name": "LayoutModel",
      "_view_count": null,
      "_view_module": "@jupyter-widgets/base",
      "_view_module_version": "1.2.0",
      "_view_name": "LayoutView",
      "align_content": null,
      "align_items": null,
      "align_self": null,
      "border": null,
      "bottom": null,
      "display": null,
      "flex": null,
      "flex_flow": null,
      "grid_area": null,
      "grid_auto_columns": null,
      "grid_auto_flow": null,
      "grid_auto_rows": null,
      "grid_column": null,
      "grid_gap": null,
      "grid_row": null,
      "grid_template_areas": null,
      "grid_template_columns": null,
      "grid_template_rows": null,
      "height": null,
      "justify_content": null,
      "justify_items": null,
      "left": null,
      "margin": null,
      "max_height": null,
      "max_width": null,
      "min_height": null,
      "min_width": null,
      "object_fit": null,
      "object_position": null,
      "order": null,
      "overflow": null,
      "overflow_x": null,
      "overflow_y": null,
      "padding": null,
      "right": null,
      "top": null,
      "visibility": null,
      "width": null
     }
    },
    "9513c1e350f34e39bc59f608677a6165": {
     "model_module": "@jupyter-widgets/base",
     "model_name": "LayoutModel",
     "model_module_version": "1.2.0",
     "state": {
      "_model_module": "@jupyter-widgets/base",
      "_model_module_version": "1.2.0",
      "_model_name": "LayoutModel",
      "_view_count": null,
      "_view_module": "@jupyter-widgets/base",
      "_view_module_version": "1.2.0",
      "_view_name": "LayoutView",
      "align_content": null,
      "align_items": null,
      "align_self": null,
      "border": null,
      "bottom": null,
      "display": null,
      "flex": null,
      "flex_flow": null,
      "grid_area": null,
      "grid_auto_columns": null,
      "grid_auto_flow": null,
      "grid_auto_rows": null,
      "grid_column": null,
      "grid_gap": null,
      "grid_row": null,
      "grid_template_areas": null,
      "grid_template_columns": null,
      "grid_template_rows": null,
      "height": null,
      "justify_content": null,
      "justify_items": null,
      "left": null,
      "margin": null,
      "max_height": null,
      "max_width": null,
      "min_height": null,
      "min_width": null,
      "object_fit": null,
      "object_position": null,
      "order": null,
      "overflow": null,
      "overflow_x": null,
      "overflow_y": null,
      "padding": null,
      "right": null,
      "top": null,
      "visibility": null,
      "width": null
     }
    },
    "ec16eb1df3ec4f299cddc300f6cce590": {
     "model_module": "@jupyter-widgets/controls",
     "model_name": "DescriptionStyleModel",
     "model_module_version": "1.5.0",
     "state": {
      "_model_module": "@jupyter-widgets/controls",
      "_model_module_version": "1.5.0",
      "_model_name": "DescriptionStyleModel",
      "_view_count": null,
      "_view_module": "@jupyter-widgets/base",
      "_view_module_version": "1.2.0",
      "_view_name": "StyleView",
      "description_width": ""
     }
    },
    "6a557c47f2b1441b8317ad775f69fe1f": {
     "model_module": "@jupyter-widgets/base",
     "model_name": "LayoutModel",
     "model_module_version": "1.2.0",
     "state": {
      "_model_module": "@jupyter-widgets/base",
      "_model_module_version": "1.2.0",
      "_model_name": "LayoutModel",
      "_view_count": null,
      "_view_module": "@jupyter-widgets/base",
      "_view_module_version": "1.2.0",
      "_view_name": "LayoutView",
      "align_content": null,
      "align_items": null,
      "align_self": null,
      "border": null,
      "bottom": null,
      "display": null,
      "flex": null,
      "flex_flow": null,
      "grid_area": null,
      "grid_auto_columns": null,
      "grid_auto_flow": null,
      "grid_auto_rows": null,
      "grid_column": null,
      "grid_gap": null,
      "grid_row": null,
      "grid_template_areas": null,
      "grid_template_columns": null,
      "grid_template_rows": null,
      "height": null,
      "justify_content": null,
      "justify_items": null,
      "left": null,
      "margin": null,
      "max_height": null,
      "max_width": null,
      "min_height": null,
      "min_width": null,
      "object_fit": null,
      "object_position": null,
      "order": null,
      "overflow": null,
      "overflow_x": null,
      "overflow_y": null,
      "padding": null,
      "right": null,
      "top": null,
      "visibility": null,
      "width": null
     }
    },
    "e74f8e29c5cd44349c44b2b1c0db1d8e": {
     "model_module": "@jupyter-widgets/controls",
     "model_name": "ProgressStyleModel",
     "model_module_version": "1.5.0",
     "state": {
      "_model_module": "@jupyter-widgets/controls",
      "_model_module_version": "1.5.0",
      "_model_name": "ProgressStyleModel",
      "_view_count": null,
      "_view_module": "@jupyter-widgets/base",
      "_view_module_version": "1.2.0",
      "_view_name": "StyleView",
      "bar_color": null,
      "description_width": ""
     }
    },
    "e8738dea57004966b88972b339dbac6e": {
     "model_module": "@jupyter-widgets/base",
     "model_name": "LayoutModel",
     "model_module_version": "1.2.0",
     "state": {
      "_model_module": "@jupyter-widgets/base",
      "_model_module_version": "1.2.0",
      "_model_name": "LayoutModel",
      "_view_count": null,
      "_view_module": "@jupyter-widgets/base",
      "_view_module_version": "1.2.0",
      "_view_name": "LayoutView",
      "align_content": null,
      "align_items": null,
      "align_self": null,
      "border": null,
      "bottom": null,
      "display": null,
      "flex": null,
      "flex_flow": null,
      "grid_area": null,
      "grid_auto_columns": null,
      "grid_auto_flow": null,
      "grid_auto_rows": null,
      "grid_column": null,
      "grid_gap": null,
      "grid_row": null,
      "grid_template_areas": null,
      "grid_template_columns": null,
      "grid_template_rows": null,
      "height": null,
      "justify_content": null,
      "justify_items": null,
      "left": null,
      "margin": null,
      "max_height": null,
      "max_width": null,
      "min_height": null,
      "min_width": null,
      "object_fit": null,
      "object_position": null,
      "order": null,
      "overflow": null,
      "overflow_x": null,
      "overflow_y": null,
      "padding": null,
      "right": null,
      "top": null,
      "visibility": null,
      "width": null
     }
    },
    "cda57e16697540448a451b3e51cf3d97": {
     "model_module": "@jupyter-widgets/controls",
     "model_name": "DescriptionStyleModel",
     "model_module_version": "1.5.0",
     "state": {
      "_model_module": "@jupyter-widgets/controls",
      "_model_module_version": "1.5.0",
      "_model_name": "DescriptionStyleModel",
      "_view_count": null,
      "_view_module": "@jupyter-widgets/base",
      "_view_module_version": "1.2.0",
      "_view_name": "StyleView",
      "description_width": ""
     }
    },
    "2540b406ff4549d4b52f8916f1904e50": {
     "model_module": "@jupyter-widgets/controls",
     "model_name": "HBoxModel",
     "model_module_version": "1.5.0",
     "state": {
      "_dom_classes": [],
      "_model_module": "@jupyter-widgets/controls",
      "_model_module_version": "1.5.0",
      "_model_name": "HBoxModel",
      "_view_count": null,
      "_view_module": "@jupyter-widgets/controls",
      "_view_module_version": "1.5.0",
      "_view_name": "HBoxView",
      "box_style": "",
      "children": [
       "IPY_MODEL_070de29cb4ee442e867746e916e70186",
       "IPY_MODEL_842f2f5b30e04a14bd7a3e6fd58e9bc4",
       "IPY_MODEL_147177221df8406c9dd92f4971b96c2d"
      ],
      "layout": "IPY_MODEL_9b01f187fbdd4e878143191a17d5ee78"
     }
    },
    "070de29cb4ee442e867746e916e70186": {
     "model_module": "@jupyter-widgets/controls",
     "model_name": "HTMLModel",
     "model_module_version": "1.5.0",
     "state": {
      "_dom_classes": [],
      "_model_module": "@jupyter-widgets/controls",
      "_model_module_version": "1.5.0",
      "_model_name": "HTMLModel",
      "_view_count": null,
      "_view_module": "@jupyter-widgets/controls",
      "_view_module_version": "1.5.0",
      "_view_name": "HTMLView",
      "description": "",
      "description_tooltip": null,
      "layout": "IPY_MODEL_80daf20d445248c1809ac4318f04272f",
      "placeholder": "​",
      "style": "IPY_MODEL_d7ee22aab79348b68133d6e8a871ad57",
      "value": "Downloading (…)okenizer_config.json: 100%"
     }
    },
    "842f2f5b30e04a14bd7a3e6fd58e9bc4": {
     "model_module": "@jupyter-widgets/controls",
     "model_name": "FloatProgressModel",
     "model_module_version": "1.5.0",
     "state": {
      "_dom_classes": [],
      "_model_module": "@jupyter-widgets/controls",
      "_model_module_version": "1.5.0",
      "_model_name": "FloatProgressModel",
      "_view_count": null,
      "_view_module": "@jupyter-widgets/controls",
      "_view_module_version": "1.5.0",
      "_view_name": "ProgressView",
      "bar_style": "success",
      "description": "",
      "description_tooltip": null,
      "layout": "IPY_MODEL_76a4ea01e2bc4ff9aeafac7225fc2fe5",
      "max": 28,
      "min": 0,
      "orientation": "horizontal",
      "style": "IPY_MODEL_0c56d4f216ab4973b1bc2b4bd386f951",
      "value": 28
     }
    },
    "147177221df8406c9dd92f4971b96c2d": {
     "model_module": "@jupyter-widgets/controls",
     "model_name": "HTMLModel",
     "model_module_version": "1.5.0",
     "state": {
      "_dom_classes": [],
      "_model_module": "@jupyter-widgets/controls",
      "_model_module_version": "1.5.0",
      "_model_name": "HTMLModel",
      "_view_count": null,
      "_view_module": "@jupyter-widgets/controls",
      "_view_module_version": "1.5.0",
      "_view_name": "HTMLView",
      "description": "",
      "description_tooltip": null,
      "layout": "IPY_MODEL_6c26c1323c0540228fe4c2cb61cbbab9",
      "placeholder": "​",
      "style": "IPY_MODEL_e2627ad1168b4ab182bd2f2a880e6dbf",
      "value": " 28.0/28.0 [00:00&lt;00:00, 2.53kB/s]"
     }
    },
    "9b01f187fbdd4e878143191a17d5ee78": {
     "model_module": "@jupyter-widgets/base",
     "model_name": "LayoutModel",
     "model_module_version": "1.2.0",
     "state": {
      "_model_module": "@jupyter-widgets/base",
      "_model_module_version": "1.2.0",
      "_model_name": "LayoutModel",
      "_view_count": null,
      "_view_module": "@jupyter-widgets/base",
      "_view_module_version": "1.2.0",
      "_view_name": "LayoutView",
      "align_content": null,
      "align_items": null,
      "align_self": null,
      "border": null,
      "bottom": null,
      "display": null,
      "flex": null,
      "flex_flow": null,
      "grid_area": null,
      "grid_auto_columns": null,
      "grid_auto_flow": null,
      "grid_auto_rows": null,
      "grid_column": null,
      "grid_gap": null,
      "grid_row": null,
      "grid_template_areas": null,
      "grid_template_columns": null,
      "grid_template_rows": null,
      "height": null,
      "justify_content": null,
      "justify_items": null,
      "left": null,
      "margin": null,
      "max_height": null,
      "max_width": null,
      "min_height": null,
      "min_width": null,
      "object_fit": null,
      "object_position": null,
      "order": null,
      "overflow": null,
      "overflow_x": null,
      "overflow_y": null,
      "padding": null,
      "right": null,
      "top": null,
      "visibility": null,
      "width": null
     }
    },
    "80daf20d445248c1809ac4318f04272f": {
     "model_module": "@jupyter-widgets/base",
     "model_name": "LayoutModel",
     "model_module_version": "1.2.0",
     "state": {
      "_model_module": "@jupyter-widgets/base",
      "_model_module_version": "1.2.0",
      "_model_name": "LayoutModel",
      "_view_count": null,
      "_view_module": "@jupyter-widgets/base",
      "_view_module_version": "1.2.0",
      "_view_name": "LayoutView",
      "align_content": null,
      "align_items": null,
      "align_self": null,
      "border": null,
      "bottom": null,
      "display": null,
      "flex": null,
      "flex_flow": null,
      "grid_area": null,
      "grid_auto_columns": null,
      "grid_auto_flow": null,
      "grid_auto_rows": null,
      "grid_column": null,
      "grid_gap": null,
      "grid_row": null,
      "grid_template_areas": null,
      "grid_template_columns": null,
      "grid_template_rows": null,
      "height": null,
      "justify_content": null,
      "justify_items": null,
      "left": null,
      "margin": null,
      "max_height": null,
      "max_width": null,
      "min_height": null,
      "min_width": null,
      "object_fit": null,
      "object_position": null,
      "order": null,
      "overflow": null,
      "overflow_x": null,
      "overflow_y": null,
      "padding": null,
      "right": null,
      "top": null,
      "visibility": null,
      "width": null
     }
    },
    "d7ee22aab79348b68133d6e8a871ad57": {
     "model_module": "@jupyter-widgets/controls",
     "model_name": "DescriptionStyleModel",
     "model_module_version": "1.5.0",
     "state": {
      "_model_module": "@jupyter-widgets/controls",
      "_model_module_version": "1.5.0",
      "_model_name": "DescriptionStyleModel",
      "_view_count": null,
      "_view_module": "@jupyter-widgets/base",
      "_view_module_version": "1.2.0",
      "_view_name": "StyleView",
      "description_width": ""
     }
    },
    "76a4ea01e2bc4ff9aeafac7225fc2fe5": {
     "model_module": "@jupyter-widgets/base",
     "model_name": "LayoutModel",
     "model_module_version": "1.2.0",
     "state": {
      "_model_module": "@jupyter-widgets/base",
      "_model_module_version": "1.2.0",
      "_model_name": "LayoutModel",
      "_view_count": null,
      "_view_module": "@jupyter-widgets/base",
      "_view_module_version": "1.2.0",
      "_view_name": "LayoutView",
      "align_content": null,
      "align_items": null,
      "align_self": null,
      "border": null,
      "bottom": null,
      "display": null,
      "flex": null,
      "flex_flow": null,
      "grid_area": null,
      "grid_auto_columns": null,
      "grid_auto_flow": null,
      "grid_auto_rows": null,
      "grid_column": null,
      "grid_gap": null,
      "grid_row": null,
      "grid_template_areas": null,
      "grid_template_columns": null,
      "grid_template_rows": null,
      "height": null,
      "justify_content": null,
      "justify_items": null,
      "left": null,
      "margin": null,
      "max_height": null,
      "max_width": null,
      "min_height": null,
      "min_width": null,
      "object_fit": null,
      "object_position": null,
      "order": null,
      "overflow": null,
      "overflow_x": null,
      "overflow_y": null,
      "padding": null,
      "right": null,
      "top": null,
      "visibility": null,
      "width": null
     }
    },
    "0c56d4f216ab4973b1bc2b4bd386f951": {
     "model_module": "@jupyter-widgets/controls",
     "model_name": "ProgressStyleModel",
     "model_module_version": "1.5.0",
     "state": {
      "_model_module": "@jupyter-widgets/controls",
      "_model_module_version": "1.5.0",
      "_model_name": "ProgressStyleModel",
      "_view_count": null,
      "_view_module": "@jupyter-widgets/base",
      "_view_module_version": "1.2.0",
      "_view_name": "StyleView",
      "bar_color": null,
      "description_width": ""
     }
    },
    "6c26c1323c0540228fe4c2cb61cbbab9": {
     "model_module": "@jupyter-widgets/base",
     "model_name": "LayoutModel",
     "model_module_version": "1.2.0",
     "state": {
      "_model_module": "@jupyter-widgets/base",
      "_model_module_version": "1.2.0",
      "_model_name": "LayoutModel",
      "_view_count": null,
      "_view_module": "@jupyter-widgets/base",
      "_view_module_version": "1.2.0",
      "_view_name": "LayoutView",
      "align_content": null,
      "align_items": null,
      "align_self": null,
      "border": null,
      "bottom": null,
      "display": null,
      "flex": null,
      "flex_flow": null,
      "grid_area": null,
      "grid_auto_columns": null,
      "grid_auto_flow": null,
      "grid_auto_rows": null,
      "grid_column": null,
      "grid_gap": null,
      "grid_row": null,
      "grid_template_areas": null,
      "grid_template_columns": null,
      "grid_template_rows": null,
      "height": null,
      "justify_content": null,
      "justify_items": null,
      "left": null,
      "margin": null,
      "max_height": null,
      "max_width": null,
      "min_height": null,
      "min_width": null,
      "object_fit": null,
      "object_position": null,
      "order": null,
      "overflow": null,
      "overflow_x": null,
      "overflow_y": null,
      "padding": null,
      "right": null,
      "top": null,
      "visibility": null,
      "width": null
     }
    },
    "e2627ad1168b4ab182bd2f2a880e6dbf": {
     "model_module": "@jupyter-widgets/controls",
     "model_name": "DescriptionStyleModel",
     "model_module_version": "1.5.0",
     "state": {
      "_model_module": "@jupyter-widgets/controls",
      "_model_module_version": "1.5.0",
      "_model_name": "DescriptionStyleModel",
      "_view_count": null,
      "_view_module": "@jupyter-widgets/base",
      "_view_module_version": "1.2.0",
      "_view_name": "StyleView",
      "description_width": ""
     }
    },
    "844d56f260b44d7583c77476f28d8d37": {
     "model_module": "@jupyter-widgets/controls",
     "model_name": "HBoxModel",
     "model_module_version": "1.5.0",
     "state": {
      "_dom_classes": [],
      "_model_module": "@jupyter-widgets/controls",
      "_model_module_version": "1.5.0",
      "_model_name": "HBoxModel",
      "_view_count": null,
      "_view_module": "@jupyter-widgets/controls",
      "_view_module_version": "1.5.0",
      "_view_name": "HBoxView",
      "box_style": "",
      "children": [
       "IPY_MODEL_d75b431586fc40d2b64e3c512d9f7b96",
       "IPY_MODEL_d3221395c10e4db5af383b684fcb46dd",
       "IPY_MODEL_0cc3fa82fb0f43b2918dd1a247729497"
      ],
      "layout": "IPY_MODEL_6aad10dedaf844aa85a2f11a9ee7a26e"
     }
    },
    "d75b431586fc40d2b64e3c512d9f7b96": {
     "model_module": "@jupyter-widgets/controls",
     "model_name": "HTMLModel",
     "model_module_version": "1.5.0",
     "state": {
      "_dom_classes": [],
      "_model_module": "@jupyter-widgets/controls",
      "_model_module_version": "1.5.0",
      "_model_name": "HTMLModel",
      "_view_count": null,
      "_view_module": "@jupyter-widgets/controls",
      "_view_module_version": "1.5.0",
      "_view_name": "HTMLView",
      "description": "",
      "description_tooltip": null,
      "layout": "IPY_MODEL_944552313c504966904923509ce259f9",
      "placeholder": "​",
      "style": "IPY_MODEL_6f8f7eeda2364bc98b9e7a787d7bc326",
      "value": "Downloading (…)lve/main/config.json: 100%"
     }
    },
    "d3221395c10e4db5af383b684fcb46dd": {
     "model_module": "@jupyter-widgets/controls",
     "model_name": "FloatProgressModel",
     "model_module_version": "1.5.0",
     "state": {
      "_dom_classes": [],
      "_model_module": "@jupyter-widgets/controls",
      "_model_module_version": "1.5.0",
      "_model_name": "FloatProgressModel",
      "_view_count": null,
      "_view_module": "@jupyter-widgets/controls",
      "_view_module_version": "1.5.0",
      "_view_name": "ProgressView",
      "bar_style": "success",
      "description": "",
      "description_tooltip": null,
      "layout": "IPY_MODEL_61cb5dc92af24787a7af3d4102c40b1b",
      "max": 483,
      "min": 0,
      "orientation": "horizontal",
      "style": "IPY_MODEL_ee3a607aae324aecaca42e7a80a5fea1",
      "value": 483
     }
    },
    "0cc3fa82fb0f43b2918dd1a247729497": {
     "model_module": "@jupyter-widgets/controls",
     "model_name": "HTMLModel",
     "model_module_version": "1.5.0",
     "state": {
      "_dom_classes": [],
      "_model_module": "@jupyter-widgets/controls",
      "_model_module_version": "1.5.0",
      "_model_name": "HTMLModel",
      "_view_count": null,
      "_view_module": "@jupyter-widgets/controls",
      "_view_module_version": "1.5.0",
      "_view_name": "HTMLView",
      "description": "",
      "description_tooltip": null,
      "layout": "IPY_MODEL_83b3997e749b4851ae695594828af87d",
      "placeholder": "​",
      "style": "IPY_MODEL_ab950ea368964d8aae16e654e35dec43",
      "value": " 483/483 [00:00&lt;00:00, 46.3kB/s]"
     }
    },
    "6aad10dedaf844aa85a2f11a9ee7a26e": {
     "model_module": "@jupyter-widgets/base",
     "model_name": "LayoutModel",
     "model_module_version": "1.2.0",
     "state": {
      "_model_module": "@jupyter-widgets/base",
      "_model_module_version": "1.2.0",
      "_model_name": "LayoutModel",
      "_view_count": null,
      "_view_module": "@jupyter-widgets/base",
      "_view_module_version": "1.2.0",
      "_view_name": "LayoutView",
      "align_content": null,
      "align_items": null,
      "align_self": null,
      "border": null,
      "bottom": null,
      "display": null,
      "flex": null,
      "flex_flow": null,
      "grid_area": null,
      "grid_auto_columns": null,
      "grid_auto_flow": null,
      "grid_auto_rows": null,
      "grid_column": null,
      "grid_gap": null,
      "grid_row": null,
      "grid_template_areas": null,
      "grid_template_columns": null,
      "grid_template_rows": null,
      "height": null,
      "justify_content": null,
      "justify_items": null,
      "left": null,
      "margin": null,
      "max_height": null,
      "max_width": null,
      "min_height": null,
      "min_width": null,
      "object_fit": null,
      "object_position": null,
      "order": null,
      "overflow": null,
      "overflow_x": null,
      "overflow_y": null,
      "padding": null,
      "right": null,
      "top": null,
      "visibility": null,
      "width": null
     }
    },
    "944552313c504966904923509ce259f9": {
     "model_module": "@jupyter-widgets/base",
     "model_name": "LayoutModel",
     "model_module_version": "1.2.0",
     "state": {
      "_model_module": "@jupyter-widgets/base",
      "_model_module_version": "1.2.0",
      "_model_name": "LayoutModel",
      "_view_count": null,
      "_view_module": "@jupyter-widgets/base",
      "_view_module_version": "1.2.0",
      "_view_name": "LayoutView",
      "align_content": null,
      "align_items": null,
      "align_self": null,
      "border": null,
      "bottom": null,
      "display": null,
      "flex": null,
      "flex_flow": null,
      "grid_area": null,
      "grid_auto_columns": null,
      "grid_auto_flow": null,
      "grid_auto_rows": null,
      "grid_column": null,
      "grid_gap": null,
      "grid_row": null,
      "grid_template_areas": null,
      "grid_template_columns": null,
      "grid_template_rows": null,
      "height": null,
      "justify_content": null,
      "justify_items": null,
      "left": null,
      "margin": null,
      "max_height": null,
      "max_width": null,
      "min_height": null,
      "min_width": null,
      "object_fit": null,
      "object_position": null,
      "order": null,
      "overflow": null,
      "overflow_x": null,
      "overflow_y": null,
      "padding": null,
      "right": null,
      "top": null,
      "visibility": null,
      "width": null
     }
    },
    "6f8f7eeda2364bc98b9e7a787d7bc326": {
     "model_module": "@jupyter-widgets/controls",
     "model_name": "DescriptionStyleModel",
     "model_module_version": "1.5.0",
     "state": {
      "_model_module": "@jupyter-widgets/controls",
      "_model_module_version": "1.5.0",
      "_model_name": "DescriptionStyleModel",
      "_view_count": null,
      "_view_module": "@jupyter-widgets/base",
      "_view_module_version": "1.2.0",
      "_view_name": "StyleView",
      "description_width": ""
     }
    },
    "61cb5dc92af24787a7af3d4102c40b1b": {
     "model_module": "@jupyter-widgets/base",
     "model_name": "LayoutModel",
     "model_module_version": "1.2.0",
     "state": {
      "_model_module": "@jupyter-widgets/base",
      "_model_module_version": "1.2.0",
      "_model_name": "LayoutModel",
      "_view_count": null,
      "_view_module": "@jupyter-widgets/base",
      "_view_module_version": "1.2.0",
      "_view_name": "LayoutView",
      "align_content": null,
      "align_items": null,
      "align_self": null,
      "border": null,
      "bottom": null,
      "display": null,
      "flex": null,
      "flex_flow": null,
      "grid_area": null,
      "grid_auto_columns": null,
      "grid_auto_flow": null,
      "grid_auto_rows": null,
      "grid_column": null,
      "grid_gap": null,
      "grid_row": null,
      "grid_template_areas": null,
      "grid_template_columns": null,
      "grid_template_rows": null,
      "height": null,
      "justify_content": null,
      "justify_items": null,
      "left": null,
      "margin": null,
      "max_height": null,
      "max_width": null,
      "min_height": null,
      "min_width": null,
      "object_fit": null,
      "object_position": null,
      "order": null,
      "overflow": null,
      "overflow_x": null,
      "overflow_y": null,
      "padding": null,
      "right": null,
      "top": null,
      "visibility": null,
      "width": null
     }
    },
    "ee3a607aae324aecaca42e7a80a5fea1": {
     "model_module": "@jupyter-widgets/controls",
     "model_name": "ProgressStyleModel",
     "model_module_version": "1.5.0",
     "state": {
      "_model_module": "@jupyter-widgets/controls",
      "_model_module_version": "1.5.0",
      "_model_name": "ProgressStyleModel",
      "_view_count": null,
      "_view_module": "@jupyter-widgets/base",
      "_view_module_version": "1.2.0",
      "_view_name": "StyleView",
      "bar_color": null,
      "description_width": ""
     }
    },
    "83b3997e749b4851ae695594828af87d": {
     "model_module": "@jupyter-widgets/base",
     "model_name": "LayoutModel",
     "model_module_version": "1.2.0",
     "state": {
      "_model_module": "@jupyter-widgets/base",
      "_model_module_version": "1.2.0",
      "_model_name": "LayoutModel",
      "_view_count": null,
      "_view_module": "@jupyter-widgets/base",
      "_view_module_version": "1.2.0",
      "_view_name": "LayoutView",
      "align_content": null,
      "align_items": null,
      "align_self": null,
      "border": null,
      "bottom": null,
      "display": null,
      "flex": null,
      "flex_flow": null,
      "grid_area": null,
      "grid_auto_columns": null,
      "grid_auto_flow": null,
      "grid_auto_rows": null,
      "grid_column": null,
      "grid_gap": null,
      "grid_row": null,
      "grid_template_areas": null,
      "grid_template_columns": null,
      "grid_template_rows": null,
      "height": null,
      "justify_content": null,
      "justify_items": null,
      "left": null,
      "margin": null,
      "max_height": null,
      "max_width": null,
      "min_height": null,
      "min_width": null,
      "object_fit": null,
      "object_position": null,
      "order": null,
      "overflow": null,
      "overflow_x": null,
      "overflow_y": null,
      "padding": null,
      "right": null,
      "top": null,
      "visibility": null,
      "width": null
     }
    },
    "ab950ea368964d8aae16e654e35dec43": {
     "model_module": "@jupyter-widgets/controls",
     "model_name": "DescriptionStyleModel",
     "model_module_version": "1.5.0",
     "state": {
      "_model_module": "@jupyter-widgets/controls",
      "_model_module_version": "1.5.0",
      "_model_name": "DescriptionStyleModel",
      "_view_count": null,
      "_view_module": "@jupyter-widgets/base",
      "_view_module_version": "1.2.0",
      "_view_name": "StyleView",
      "description_width": ""
     }
    },
    "86a7f66ea6fe42c096726652884e4159": {
     "model_module": "@jupyter-widgets/controls",
     "model_name": "HBoxModel",
     "model_module_version": "1.5.0",
     "state": {
      "_dom_classes": [],
      "_model_module": "@jupyter-widgets/controls",
      "_model_module_version": "1.5.0",
      "_model_name": "HBoxModel",
      "_view_count": null,
      "_view_module": "@jupyter-widgets/controls",
      "_view_module_version": "1.5.0",
      "_view_name": "HBoxView",
      "box_style": "",
      "children": [
       "IPY_MODEL_472fa7f30480476d8a074382ae574884",
       "IPY_MODEL_0b2b13667652401798731a6cee51e669",
       "IPY_MODEL_93baffb6a019458d8b3cdeb8fae45de6"
      ],
      "layout": "IPY_MODEL_193a242117884aa3ae6471a82ccd113c"
     }
    },
    "472fa7f30480476d8a074382ae574884": {
     "model_module": "@jupyter-widgets/controls",
     "model_name": "HTMLModel",
     "model_module_version": "1.5.0",
     "state": {
      "_dom_classes": [],
      "_model_module": "@jupyter-widgets/controls",
      "_model_module_version": "1.5.0",
      "_model_name": "HTMLModel",
      "_view_count": null,
      "_view_module": "@jupyter-widgets/controls",
      "_view_module_version": "1.5.0",
      "_view_name": "HTMLView",
      "description": "",
      "description_tooltip": null,
      "layout": "IPY_MODEL_96aaa2c076f34cdcafed507fbdd1a496",
      "placeholder": "​",
      "style": "IPY_MODEL_9eaa04b5d5dc4b1382a304b2bb523350",
      "value": "Downloading (…)solve/main/vocab.txt: 100%"
     }
    },
    "0b2b13667652401798731a6cee51e669": {
     "model_module": "@jupyter-widgets/controls",
     "model_name": "FloatProgressModel",
     "model_module_version": "1.5.0",
     "state": {
      "_dom_classes": [],
      "_model_module": "@jupyter-widgets/controls",
      "_model_module_version": "1.5.0",
      "_model_name": "FloatProgressModel",
      "_view_count": null,
      "_view_module": "@jupyter-widgets/controls",
      "_view_module_version": "1.5.0",
      "_view_name": "ProgressView",
      "bar_style": "success",
      "description": "",
      "description_tooltip": null,
      "layout": "IPY_MODEL_4d68bdf015c348239a67c6b792dfac3f",
      "max": 231508,
      "min": 0,
      "orientation": "horizontal",
      "style": "IPY_MODEL_36ca01e5007e41b192fd0d202cab1224",
      "value": 231508
     }
    },
    "93baffb6a019458d8b3cdeb8fae45de6": {
     "model_module": "@jupyter-widgets/controls",
     "model_name": "HTMLModel",
     "model_module_version": "1.5.0",
     "state": {
      "_dom_classes": [],
      "_model_module": "@jupyter-widgets/controls",
      "_model_module_version": "1.5.0",
      "_model_name": "HTMLModel",
      "_view_count": null,
      "_view_module": "@jupyter-widgets/controls",
      "_view_module_version": "1.5.0",
      "_view_name": "HTMLView",
      "description": "",
      "description_tooltip": null,
      "layout": "IPY_MODEL_da9ff25586cc48f7bb1ae357daaa8fee",
      "placeholder": "​",
      "style": "IPY_MODEL_e7c6914b2dc048aeada8a82d84c54747",
      "value": " 232k/232k [00:00&lt;00:00, 3.45MB/s]"
     }
    },
    "193a242117884aa3ae6471a82ccd113c": {
     "model_module": "@jupyter-widgets/base",
     "model_name": "LayoutModel",
     "model_module_version": "1.2.0",
     "state": {
      "_model_module": "@jupyter-widgets/base",
      "_model_module_version": "1.2.0",
      "_model_name": "LayoutModel",
      "_view_count": null,
      "_view_module": "@jupyter-widgets/base",
      "_view_module_version": "1.2.0",
      "_view_name": "LayoutView",
      "align_content": null,
      "align_items": null,
      "align_self": null,
      "border": null,
      "bottom": null,
      "display": null,
      "flex": null,
      "flex_flow": null,
      "grid_area": null,
      "grid_auto_columns": null,
      "grid_auto_flow": null,
      "grid_auto_rows": null,
      "grid_column": null,
      "grid_gap": null,
      "grid_row": null,
      "grid_template_areas": null,
      "grid_template_columns": null,
      "grid_template_rows": null,
      "height": null,
      "justify_content": null,
      "justify_items": null,
      "left": null,
      "margin": null,
      "max_height": null,
      "max_width": null,
      "min_height": null,
      "min_width": null,
      "object_fit": null,
      "object_position": null,
      "order": null,
      "overflow": null,
      "overflow_x": null,
      "overflow_y": null,
      "padding": null,
      "right": null,
      "top": null,
      "visibility": null,
      "width": null
     }
    },
    "96aaa2c076f34cdcafed507fbdd1a496": {
     "model_module": "@jupyter-widgets/base",
     "model_name": "LayoutModel",
     "model_module_version": "1.2.0",
     "state": {
      "_model_module": "@jupyter-widgets/base",
      "_model_module_version": "1.2.0",
      "_model_name": "LayoutModel",
      "_view_count": null,
      "_view_module": "@jupyter-widgets/base",
      "_view_module_version": "1.2.0",
      "_view_name": "LayoutView",
      "align_content": null,
      "align_items": null,
      "align_self": null,
      "border": null,
      "bottom": null,
      "display": null,
      "flex": null,
      "flex_flow": null,
      "grid_area": null,
      "grid_auto_columns": null,
      "grid_auto_flow": null,
      "grid_auto_rows": null,
      "grid_column": null,
      "grid_gap": null,
      "grid_row": null,
      "grid_template_areas": null,
      "grid_template_columns": null,
      "grid_template_rows": null,
      "height": null,
      "justify_content": null,
      "justify_items": null,
      "left": null,
      "margin": null,
      "max_height": null,
      "max_width": null,
      "min_height": null,
      "min_width": null,
      "object_fit": null,
      "object_position": null,
      "order": null,
      "overflow": null,
      "overflow_x": null,
      "overflow_y": null,
      "padding": null,
      "right": null,
      "top": null,
      "visibility": null,
      "width": null
     }
    },
    "9eaa04b5d5dc4b1382a304b2bb523350": {
     "model_module": "@jupyter-widgets/controls",
     "model_name": "DescriptionStyleModel",
     "model_module_version": "1.5.0",
     "state": {
      "_model_module": "@jupyter-widgets/controls",
      "_model_module_version": "1.5.0",
      "_model_name": "DescriptionStyleModel",
      "_view_count": null,
      "_view_module": "@jupyter-widgets/base",
      "_view_module_version": "1.2.0",
      "_view_name": "StyleView",
      "description_width": ""
     }
    },
    "4d68bdf015c348239a67c6b792dfac3f": {
     "model_module": "@jupyter-widgets/base",
     "model_name": "LayoutModel",
     "model_module_version": "1.2.0",
     "state": {
      "_model_module": "@jupyter-widgets/base",
      "_model_module_version": "1.2.0",
      "_model_name": "LayoutModel",
      "_view_count": null,
      "_view_module": "@jupyter-widgets/base",
      "_view_module_version": "1.2.0",
      "_view_name": "LayoutView",
      "align_content": null,
      "align_items": null,
      "align_self": null,
      "border": null,
      "bottom": null,
      "display": null,
      "flex": null,
      "flex_flow": null,
      "grid_area": null,
      "grid_auto_columns": null,
      "grid_auto_flow": null,
      "grid_auto_rows": null,
      "grid_column": null,
      "grid_gap": null,
      "grid_row": null,
      "grid_template_areas": null,
      "grid_template_columns": null,
      "grid_template_rows": null,
      "height": null,
      "justify_content": null,
      "justify_items": null,
      "left": null,
      "margin": null,
      "max_height": null,
      "max_width": null,
      "min_height": null,
      "min_width": null,
      "object_fit": null,
      "object_position": null,
      "order": null,
      "overflow": null,
      "overflow_x": null,
      "overflow_y": null,
      "padding": null,
      "right": null,
      "top": null,
      "visibility": null,
      "width": null
     }
    },
    "36ca01e5007e41b192fd0d202cab1224": {
     "model_module": "@jupyter-widgets/controls",
     "model_name": "ProgressStyleModel",
     "model_module_version": "1.5.0",
     "state": {
      "_model_module": "@jupyter-widgets/controls",
      "_model_module_version": "1.5.0",
      "_model_name": "ProgressStyleModel",
      "_view_count": null,
      "_view_module": "@jupyter-widgets/base",
      "_view_module_version": "1.2.0",
      "_view_name": "StyleView",
      "bar_color": null,
      "description_width": ""
     }
    },
    "da9ff25586cc48f7bb1ae357daaa8fee": {
     "model_module": "@jupyter-widgets/base",
     "model_name": "LayoutModel",
     "model_module_version": "1.2.0",
     "state": {
      "_model_module": "@jupyter-widgets/base",
      "_model_module_version": "1.2.0",
      "_model_name": "LayoutModel",
      "_view_count": null,
      "_view_module": "@jupyter-widgets/base",
      "_view_module_version": "1.2.0",
      "_view_name": "LayoutView",
      "align_content": null,
      "align_items": null,
      "align_self": null,
      "border": null,
      "bottom": null,
      "display": null,
      "flex": null,
      "flex_flow": null,
      "grid_area": null,
      "grid_auto_columns": null,
      "grid_auto_flow": null,
      "grid_auto_rows": null,
      "grid_column": null,
      "grid_gap": null,
      "grid_row": null,
      "grid_template_areas": null,
      "grid_template_columns": null,
      "grid_template_rows": null,
      "height": null,
      "justify_content": null,
      "justify_items": null,
      "left": null,
      "margin": null,
      "max_height": null,
      "max_width": null,
      "min_height": null,
      "min_width": null,
      "object_fit": null,
      "object_position": null,
      "order": null,
      "overflow": null,
      "overflow_x": null,
      "overflow_y": null,
      "padding": null,
      "right": null,
      "top": null,
      "visibility": null,
      "width": null
     }
    },
    "e7c6914b2dc048aeada8a82d84c54747": {
     "model_module": "@jupyter-widgets/controls",
     "model_name": "DescriptionStyleModel",
     "model_module_version": "1.5.0",
     "state": {
      "_model_module": "@jupyter-widgets/controls",
      "_model_module_version": "1.5.0",
      "_model_name": "DescriptionStyleModel",
      "_view_count": null,
      "_view_module": "@jupyter-widgets/base",
      "_view_module_version": "1.2.0",
      "_view_name": "StyleView",
      "description_width": ""
     }
    },
    "52525e23e43a42cdaf81e6fc8389bc13": {
     "model_module": "@jupyter-widgets/controls",
     "model_name": "HBoxModel",
     "model_module_version": "1.5.0",
     "state": {
      "_dom_classes": [],
      "_model_module": "@jupyter-widgets/controls",
      "_model_module_version": "1.5.0",
      "_model_name": "HBoxModel",
      "_view_count": null,
      "_view_module": "@jupyter-widgets/controls",
      "_view_module_version": "1.5.0",
      "_view_name": "HBoxView",
      "box_style": "",
      "children": [
       "IPY_MODEL_0714c20717554567888c81b33e066c0b",
       "IPY_MODEL_b42db5ae87154be78ac3ef1f9bdda138",
       "IPY_MODEL_e93e0a29c7e94c59b5805968e3faa148"
      ],
      "layout": "IPY_MODEL_949f92bd48814e568794a3856c7673ab"
     }
    },
    "0714c20717554567888c81b33e066c0b": {
     "model_module": "@jupyter-widgets/controls",
     "model_name": "HTMLModel",
     "model_module_version": "1.5.0",
     "state": {
      "_dom_classes": [],
      "_model_module": "@jupyter-widgets/controls",
      "_model_module_version": "1.5.0",
      "_model_name": "HTMLModel",
      "_view_count": null,
      "_view_module": "@jupyter-widgets/controls",
      "_view_module_version": "1.5.0",
      "_view_name": "HTMLView",
      "description": "",
      "description_tooltip": null,
      "layout": "IPY_MODEL_25a2c96f2e474e00b5e08e7173413e87",
      "placeholder": "​",
      "style": "IPY_MODEL_d8ce78f73f104a148f4c87761596fe29",
      "value": "Downloading (…)/main/tokenizer.json: 100%"
     }
    },
    "b42db5ae87154be78ac3ef1f9bdda138": {
     "model_module": "@jupyter-widgets/controls",
     "model_name": "FloatProgressModel",
     "model_module_version": "1.5.0",
     "state": {
      "_dom_classes": [],
      "_model_module": "@jupyter-widgets/controls",
      "_model_module_version": "1.5.0",
      "_model_name": "FloatProgressModel",
      "_view_count": null,
      "_view_module": "@jupyter-widgets/controls",
      "_view_module_version": "1.5.0",
      "_view_name": "ProgressView",
      "bar_style": "success",
      "description": "",
      "description_tooltip": null,
      "layout": "IPY_MODEL_1dbc739e4e0149d1b1bb4d31ca4a8ac1",
      "max": 466062,
      "min": 0,
      "orientation": "horizontal",
      "style": "IPY_MODEL_13d82a2233db47edbd777a2abd77d7fd",
      "value": 466062
     }
    },
    "e93e0a29c7e94c59b5805968e3faa148": {
     "model_module": "@jupyter-widgets/controls",
     "model_name": "HTMLModel",
     "model_module_version": "1.5.0",
     "state": {
      "_dom_classes": [],
      "_model_module": "@jupyter-widgets/controls",
      "_model_module_version": "1.5.0",
      "_model_name": "HTMLModel",
      "_view_count": null,
      "_view_module": "@jupyter-widgets/controls",
      "_view_module_version": "1.5.0",
      "_view_name": "HTMLView",
      "description": "",
      "description_tooltip": null,
      "layout": "IPY_MODEL_eed7a48e0a3a404899ee8326b19d5106",
      "placeholder": "​",
      "style": "IPY_MODEL_6cdb42bb51384861b37e715a877d0bdb",
      "value": " 466k/466k [00:00&lt;00:00, 8.55MB/s]"
     }
    },
    "949f92bd48814e568794a3856c7673ab": {
     "model_module": "@jupyter-widgets/base",
     "model_name": "LayoutModel",
     "model_module_version": "1.2.0",
     "state": {
      "_model_module": "@jupyter-widgets/base",
      "_model_module_version": "1.2.0",
      "_model_name": "LayoutModel",
      "_view_count": null,
      "_view_module": "@jupyter-widgets/base",
      "_view_module_version": "1.2.0",
      "_view_name": "LayoutView",
      "align_content": null,
      "align_items": null,
      "align_self": null,
      "border": null,
      "bottom": null,
      "display": null,
      "flex": null,
      "flex_flow": null,
      "grid_area": null,
      "grid_auto_columns": null,
      "grid_auto_flow": null,
      "grid_auto_rows": null,
      "grid_column": null,
      "grid_gap": null,
      "grid_row": null,
      "grid_template_areas": null,
      "grid_template_columns": null,
      "grid_template_rows": null,
      "height": null,
      "justify_content": null,
      "justify_items": null,
      "left": null,
      "margin": null,
      "max_height": null,
      "max_width": null,
      "min_height": null,
      "min_width": null,
      "object_fit": null,
      "object_position": null,
      "order": null,
      "overflow": null,
      "overflow_x": null,
      "overflow_y": null,
      "padding": null,
      "right": null,
      "top": null,
      "visibility": null,
      "width": null
     }
    },
    "25a2c96f2e474e00b5e08e7173413e87": {
     "model_module": "@jupyter-widgets/base",
     "model_name": "LayoutModel",
     "model_module_version": "1.2.0",
     "state": {
      "_model_module": "@jupyter-widgets/base",
      "_model_module_version": "1.2.0",
      "_model_name": "LayoutModel",
      "_view_count": null,
      "_view_module": "@jupyter-widgets/base",
      "_view_module_version": "1.2.0",
      "_view_name": "LayoutView",
      "align_content": null,
      "align_items": null,
      "align_self": null,
      "border": null,
      "bottom": null,
      "display": null,
      "flex": null,
      "flex_flow": null,
      "grid_area": null,
      "grid_auto_columns": null,
      "grid_auto_flow": null,
      "grid_auto_rows": null,
      "grid_column": null,
      "grid_gap": null,
      "grid_row": null,
      "grid_template_areas": null,
      "grid_template_columns": null,
      "grid_template_rows": null,
      "height": null,
      "justify_content": null,
      "justify_items": null,
      "left": null,
      "margin": null,
      "max_height": null,
      "max_width": null,
      "min_height": null,
      "min_width": null,
      "object_fit": null,
      "object_position": null,
      "order": null,
      "overflow": null,
      "overflow_x": null,
      "overflow_y": null,
      "padding": null,
      "right": null,
      "top": null,
      "visibility": null,
      "width": null
     }
    },
    "d8ce78f73f104a148f4c87761596fe29": {
     "model_module": "@jupyter-widgets/controls",
     "model_name": "DescriptionStyleModel",
     "model_module_version": "1.5.0",
     "state": {
      "_model_module": "@jupyter-widgets/controls",
      "_model_module_version": "1.5.0",
      "_model_name": "DescriptionStyleModel",
      "_view_count": null,
      "_view_module": "@jupyter-widgets/base",
      "_view_module_version": "1.2.0",
      "_view_name": "StyleView",
      "description_width": ""
     }
    },
    "1dbc739e4e0149d1b1bb4d31ca4a8ac1": {
     "model_module": "@jupyter-widgets/base",
     "model_name": "LayoutModel",
     "model_module_version": "1.2.0",
     "state": {
      "_model_module": "@jupyter-widgets/base",
      "_model_module_version": "1.2.0",
      "_model_name": "LayoutModel",
      "_view_count": null,
      "_view_module": "@jupyter-widgets/base",
      "_view_module_version": "1.2.0",
      "_view_name": "LayoutView",
      "align_content": null,
      "align_items": null,
      "align_self": null,
      "border": null,
      "bottom": null,
      "display": null,
      "flex": null,
      "flex_flow": null,
      "grid_area": null,
      "grid_auto_columns": null,
      "grid_auto_flow": null,
      "grid_auto_rows": null,
      "grid_column": null,
      "grid_gap": null,
      "grid_row": null,
      "grid_template_areas": null,
      "grid_template_columns": null,
      "grid_template_rows": null,
      "height": null,
      "justify_content": null,
      "justify_items": null,
      "left": null,
      "margin": null,
      "max_height": null,
      "max_width": null,
      "min_height": null,
      "min_width": null,
      "object_fit": null,
      "object_position": null,
      "order": null,
      "overflow": null,
      "overflow_x": null,
      "overflow_y": null,
      "padding": null,
      "right": null,
      "top": null,
      "visibility": null,
      "width": null
     }
    },
    "13d82a2233db47edbd777a2abd77d7fd": {
     "model_module": "@jupyter-widgets/controls",
     "model_name": "ProgressStyleModel",
     "model_module_version": "1.5.0",
     "state": {
      "_model_module": "@jupyter-widgets/controls",
      "_model_module_version": "1.5.0",
      "_model_name": "ProgressStyleModel",
      "_view_count": null,
      "_view_module": "@jupyter-widgets/base",
      "_view_module_version": "1.2.0",
      "_view_name": "StyleView",
      "bar_color": null,
      "description_width": ""
     }
    },
    "eed7a48e0a3a404899ee8326b19d5106": {
     "model_module": "@jupyter-widgets/base",
     "model_name": "LayoutModel",
     "model_module_version": "1.2.0",
     "state": {
      "_model_module": "@jupyter-widgets/base",
      "_model_module_version": "1.2.0",
      "_model_name": "LayoutModel",
      "_view_count": null,
      "_view_module": "@jupyter-widgets/base",
      "_view_module_version": "1.2.0",
      "_view_name": "LayoutView",
      "align_content": null,
      "align_items": null,
      "align_self": null,
      "border": null,
      "bottom": null,
      "display": null,
      "flex": null,
      "flex_flow": null,
      "grid_area": null,
      "grid_auto_columns": null,
      "grid_auto_flow": null,
      "grid_auto_rows": null,
      "grid_column": null,
      "grid_gap": null,
      "grid_row": null,
      "grid_template_areas": null,
      "grid_template_columns": null,
      "grid_template_rows": null,
      "height": null,
      "justify_content": null,
      "justify_items": null,
      "left": null,
      "margin": null,
      "max_height": null,
      "max_width": null,
      "min_height": null,
      "min_width": null,
      "object_fit": null,
      "object_position": null,
      "order": null,
      "overflow": null,
      "overflow_x": null,
      "overflow_y": null,
      "padding": null,
      "right": null,
      "top": null,
      "visibility": null,
      "width": null
     }
    },
    "6cdb42bb51384861b37e715a877d0bdb": {
     "model_module": "@jupyter-widgets/controls",
     "model_name": "DescriptionStyleModel",
     "model_module_version": "1.5.0",
     "state": {
      "_model_module": "@jupyter-widgets/controls",
      "_model_module_version": "1.5.0",
      "_model_name": "DescriptionStyleModel",
      "_view_count": null,
      "_view_module": "@jupyter-widgets/base",
      "_view_module_version": "1.2.0",
      "_view_name": "StyleView",
      "description_width": ""
     }
    }
   }
  }
 },
 "nbformat": 4,
 "nbformat_minor": 5
}