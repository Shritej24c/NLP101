{
  "cells": [
    {
      "cell_type": "markdown",
      "metadata": {
        "id": "view-in-github",
        "colab_type": "text"
      },
      "source": [
        "<a href=\"https://colab.research.google.com/github/Shritej24c/NLP101/blob/main/HW/HW6/ShritejShrikant_Chavan_HW6b.ipynb\" target=\"_parent\"><img src=\"https://colab.research.google.com/assets/colab-badge.svg\" alt=\"Open In Colab\"/></a>"
      ]
    },
    {
      "cell_type": "code",
      "execution_count": 1,
      "id": "A2qd_0mMMfhA",
      "metadata": {
        "colab": {
          "base_uri": "https://localhost:8080/"
        },
        "id": "A2qd_0mMMfhA",
        "outputId": "a9ab8edc-25e1-41e2-b96b-74de5715be61"
      },
      "outputs": [
        {
          "output_type": "stream",
          "name": "stdout",
          "text": [
            "Mon Oct 30 01:13:01 2023       \n",
            "+-----------------------------------------------------------------------------+\n",
            "| NVIDIA-SMI 525.105.17   Driver Version: 525.105.17   CUDA Version: 12.0     |\n",
            "|-------------------------------+----------------------+----------------------+\n",
            "| GPU  Name        Persistence-M| Bus-Id        Disp.A | Volatile Uncorr. ECC |\n",
            "| Fan  Temp  Perf  Pwr:Usage/Cap|         Memory-Usage | GPU-Util  Compute M. |\n",
            "|                               |                      |               MIG M. |\n",
            "|===============================+======================+======================|\n",
            "|   0  Tesla T4            Off  | 00000000:00:04.0 Off |                    0 |\n",
            "| N/A   33C    P8     9W /  70W |      0MiB / 15360MiB |      0%      Default |\n",
            "|                               |                      |                  N/A |\n",
            "+-------------------------------+----------------------+----------------------+\n",
            "                                                                               \n",
            "+-----------------------------------------------------------------------------+\n",
            "| Processes:                                                                  |\n",
            "|  GPU   GI   CI        PID   Type   Process name                  GPU Memory |\n",
            "|        ID   ID                                                   Usage      |\n",
            "|=============================================================================|\n",
            "|  No running processes found                                                 |\n",
            "+-----------------------------------------------------------------------------+\n"
          ]
        }
      ],
      "source": [
        "!nvidia-smi"
      ]
    },
    {
      "cell_type": "markdown",
      "id": "b84121b7-f061-4e3b-8e4d-95e94859115b",
      "metadata": {
        "id": "b84121b7-f061-4e3b-8e4d-95e94859115b"
      },
      "source": [
        "# <font color = 'pickle'>**Translation** </font>\n",
        "\n",
        "\n",
        "\n",
        "\n"
      ]
    },
    {
      "cell_type": "markdown",
      "id": "7cde75b6",
      "metadata": {
        "id": "7cde75b6"
      },
      "source": [
        "\n",
        "## Outline\n",
        "1. **Setting up the Environment**: Installing necessary libraries and setting up paths.\n",
        "2. **Exploring and Understanding IMDB Dataset**: Understanding the structure and content of the dataset.\n",
        "\n",
        "3. **Data Preprocessing**: Techniques to prepare the data for training, including handling different data splits and tokenization\n",
        "4. **Training the Model**: Feeding data and adjusting weights.\n",
        "5. **Prediction and Evaluation**: Evaluate model on test set and making predictions.\n",
        "\n"
      ]
    },
    {
      "cell_type": "markdown",
      "id": "fj41POPjrtzA",
      "metadata": {
        "id": "fj41POPjrtzA"
      },
      "source": [
        "# <font color = 'pickle'> **Setting up the Environment** </font>"
      ]
    },
    {
      "cell_type": "code",
      "execution_count": 93,
      "id": "0d54de23-80e9-4e1b-816c-6f6916c92836",
      "metadata": {
        "execution": {
          "iopub.execute_input": "2022-12-23T23:12:55.528562Z",
          "iopub.status.busy": "2022-12-23T23:12:55.528020Z",
          "iopub.status.idle": "2022-12-23T23:12:55.539182Z",
          "shell.execute_reply": "2022-12-23T23:12:55.538417Z",
          "shell.execute_reply.started": "2022-12-23T23:12:55.528532Z"
        },
        "id": "0d54de23-80e9-4e1b-816c-6f6916c92836",
        "outputId": "5f32b9ac-f460-4ea1-f456-14d0f3676e8b",
        "tags": [],
        "colab": {
          "base_uri": "https://localhost:8080/"
        }
      },
      "outputs": [
        {
          "output_type": "stream",
          "name": "stdout",
          "text": [
            "Drive already mounted at /content/drive; to attempt to forcibly remount, call drive.mount(\"/content/drive\", force_remount=True).\n",
            "\u001b[2K     \u001b[90m━━━━━━━━━━━━━━━━━━━━━━━━━━━━━━━━━━━━━━━━\u001b[0m \u001b[32m61.1/61.1 kB\u001b[0m \u001b[31m1.6 MB/s\u001b[0m eta \u001b[36m0:00:00\u001b[0m\n",
            "\u001b[?25h"
          ]
        }
      ],
      "source": [
        "from pathlib import Path\n",
        "if 'google.colab' in str(get_ipython()):\n",
        "    from google.colab import drive\n",
        "    drive.mount(\"/content/drive\")\n",
        "    !pip install datasets transformers[sentencepiece] evaluate wandb accelerate -U -qq\n",
        "    !pip install sacrebleu bert_score -U -qq\n",
        "    base_folder = Path(\"/content/drive/MyDrive/NLP\")\n",
        "\n",
        "else:\n",
        "    base_folder = Path(\"/home/harpreet/Insync/google_drive_shaannoor/data\")\n",
        "\n",
        "\n",
        "from transformers import AutoConfig, AutoModelForSeq2SeqLM, AutoTokenizer, Seq2SeqTrainer\n",
        "from transformers import AutoTokenizer, DataCollatorForSeq2Seq, pipeline\n",
        "from datasets import load_dataset, DatasetDict\n",
        "import evaluate\n",
        "from evaluate import evaluator\n",
        "\n",
        "\n",
        "import wandb\n",
        "import numpy as np\n",
        "import pandas as pd"
      ]
    },
    {
      "cell_type": "markdown",
      "id": "O_xxXoyw_2x1",
      "metadata": {
        "id": "O_xxXoyw_2x1"
      },
      "source": [
        "# <font color = 'pickle'> **Exploring and Understanding Dataset**"
      ]
    },
    {
      "cell_type": "markdown",
      "id": "7ae39760-8c90-4bef-a1c9-66a302b29da3",
      "metadata": {
        "id": "7ae39760-8c90-4bef-a1c9-66a302b29da3",
        "tags": []
      },
      "source": [
        "## <font color = 'pickle'> **English_French_Translation**</font>\n",
        "\n"
      ]
    },
    {
      "cell_type": "markdown",
      "id": "b906904c-8f24-4de0-8e07-720863e8cd99",
      "metadata": {
        "id": "b906904c-8f24-4de0-8e07-720863e8cd99"
      },
      "source": [
        "## <font color = 'pickle'> **Load Data set**\n",
        "    \n"
      ]
    },
    {
      "cell_type": "code",
      "execution_count": 3,
      "id": "1JpTLLoCvuAY",
      "metadata": {
        "id": "1JpTLLoCvuAY"
      },
      "outputs": [],
      "source": [
        "kde_dataset = load_dataset('kde4', lang1='en', lang2='fr')"
      ]
    },
    {
      "cell_type": "markdown",
      "id": "MluH2KHxHfF0",
      "metadata": {
        "id": "MluH2KHxHfF0"
      },
      "source": [
        "## <font color = 'pickle'> **Understanding your data**"
      ]
    },
    {
      "cell_type": "code",
      "execution_count": 4,
      "id": "13c259d6-3936-47d7-aae4-467cf479368d",
      "metadata": {
        "colab": {
          "base_uri": "https://localhost:8080/"
        },
        "execution": {
          "iopub.execute_input": "2022-12-23T23:13:19.870767Z",
          "iopub.status.busy": "2022-12-23T23:13:19.870527Z",
          "iopub.status.idle": "2022-12-23T23:13:20.007104Z",
          "shell.execute_reply": "2022-12-23T23:13:20.006616Z",
          "shell.execute_reply.started": "2022-12-23T23:13:19.870741Z"
        },
        "id": "13c259d6-3936-47d7-aae4-467cf479368d",
        "outputId": "04c921e1-2a8b-4c4f-a2ea-78eebee42265",
        "tags": []
      },
      "outputs": [
        {
          "output_type": "stream",
          "name": "stdout",
          "text": [
            "DatasetDict({\n",
            "    train: Dataset({\n",
            "        features: ['id', 'translation'],\n",
            "        num_rows: 210173\n",
            "    })\n",
            "})\n"
          ]
        }
      ],
      "source": [
        "print(kde_dataset)\n"
      ]
    },
    {
      "cell_type": "markdown",
      "id": "G8mgUnP9fS7i",
      "metadata": {
        "id": "G8mgUnP9fS7i"
      },
      "source": [
        "## <font color = 'pickle'> **Understanding the datatype of columns**\n"
      ]
    },
    {
      "cell_type": "code",
      "execution_count": 5,
      "id": "wq_SXtXzeXWg",
      "metadata": {
        "colab": {
          "base_uri": "https://localhost:8080/"
        },
        "id": "wq_SXtXzeXWg",
        "outputId": "e8757991-ca17-4edc-c708-9076b083a051"
      },
      "outputs": [
        {
          "output_type": "execute_result",
          "data": {
            "text/plain": [
              "{'id': Value(dtype='string', id=None),\n",
              " 'translation': Translation(languages=['en', 'fr'], id=None)}"
            ]
          },
          "metadata": {},
          "execution_count": 5
        }
      ],
      "source": [
        "kde_dataset[\"train\"].features\n"
      ]
    },
    {
      "cell_type": "markdown",
      "id": "z80MwfKWSuxn",
      "metadata": {
        "id": "z80MwfKWSuxn"
      },
      "source": [
        "## <font color = 'pickle'> **Acess indivdual element** </font>\n",
        " The dataset behaves like an Python array or list. We can use the familiar indexing/slicing methods to access individual elements."
      ]
    },
    {
      "cell_type": "code",
      "execution_count": 6,
      "id": "McaQFKL94fff",
      "metadata": {
        "colab": {
          "base_uri": "https://localhost:8080/"
        },
        "id": "McaQFKL94fff",
        "outputId": "089f463a-cc4f-49af-cef0-b56198b13f19"
      },
      "outputs": [
        {
          "output_type": "execute_result",
          "data": {
            "text/plain": [
              "{'id': '42',\n",
              " 'translation': {'en': 'The Embedded Media Player',\n",
              "  'fr': 'Le Lecteur de Média incorporé'}}"
            ]
          },
          "metadata": {},
          "execution_count": 6
        }
      ],
      "source": [
        "# get the first example of the dataset\n",
        "kde_dataset[\"train\"][42]\n"
      ]
    },
    {
      "cell_type": "markdown",
      "id": "tFDvl9r94reU",
      "metadata": {
        "id": "tFDvl9r94reU"
      },
      "source": [
        "The dialogues resemble typical SMS or WhatsApp chats, complete with emojis and spaces for GIFs. The \"dialogue\" field presents the entire text, while the \"summary\" field provides the summary of the conversation."
      ]
    },
    {
      "cell_type": "markdown",
      "id": "CzxEpA9FCYjC",
      "metadata": {
        "id": "CzxEpA9FCYjC"
      },
      "source": [
        "## <font color = 'pickle'> **Exploratory Data Analysis (EDA)**"
      ]
    },
    {
      "cell_type": "markdown",
      "id": "cWJBOfEj4_lE",
      "metadata": {
        "id": "cWJBOfEj4_lE"
      },
      "source": [
        "### <font color = 'pickle'> **Change dataset format to Pandas**  </font>\n"
      ]
    },
    {
      "cell_type": "code",
      "execution_count": 7,
      "id": "HjQ2Q-3d14UL",
      "metadata": {
        "id": "HjQ2Q-3d14UL"
      },
      "outputs": [],
      "source": [
        "# This will convert all the splits into Pandas dataframe\n",
        "kde_dataset.set_format(type=\"pandas\")\n"
      ]
    },
    {
      "cell_type": "code",
      "execution_count": 8,
      "id": "nM-OqQ493Io9",
      "metadata": {
        "id": "nM-OqQ493Io9"
      },
      "outputs": [],
      "source": [
        "# Get all rows from training split\n",
        "df_train = kde_dataset[\"train\"][:]\n"
      ]
    },
    {
      "cell_type": "code",
      "execution_count": 9,
      "id": "Aah_Ji9EdgSQ",
      "metadata": {
        "colab": {
          "base_uri": "https://localhost:8080/",
          "height": 206
        },
        "id": "Aah_Ji9EdgSQ",
        "outputId": "0180bfd4-b219-4d77-80f9-e51be12467d6"
      },
      "outputs": [
        {
          "output_type": "execute_result",
          "data": {
            "text/plain": [
              "  id                                        translation\n",
              "0  0         {'en': 'Lauri Watts', 'fr': 'Lauri Watts'}\n",
              "1  1  {'en': '& Lauri. Watts. mail;', 'fr': '& Lauri...\n",
              "2  2  {'en': 'ROLES_OF_TRANSLATORS', 'fr': '& traduc...\n",
              "3  3  {'en': '2006-02-26 3.5.1', 'fr': '2006-02-26 3...\n",
              "4  4  {'en': 'The Babel & konqueror; plugin gives yo..."
            ],
            "text/html": [
              "\n",
              "  <div id=\"df-c75e4d59-fc9b-4ed3-9029-5d89d0b56b17\" class=\"colab-df-container\">\n",
              "    <div>\n",
              "<style scoped>\n",
              "    .dataframe tbody tr th:only-of-type {\n",
              "        vertical-align: middle;\n",
              "    }\n",
              "\n",
              "    .dataframe tbody tr th {\n",
              "        vertical-align: top;\n",
              "    }\n",
              "\n",
              "    .dataframe thead th {\n",
              "        text-align: right;\n",
              "    }\n",
              "</style>\n",
              "<table border=\"1\" class=\"dataframe\">\n",
              "  <thead>\n",
              "    <tr style=\"text-align: right;\">\n",
              "      <th></th>\n",
              "      <th>id</th>\n",
              "      <th>translation</th>\n",
              "    </tr>\n",
              "  </thead>\n",
              "  <tbody>\n",
              "    <tr>\n",
              "      <th>0</th>\n",
              "      <td>0</td>\n",
              "      <td>{'en': 'Lauri Watts', 'fr': 'Lauri Watts'}</td>\n",
              "    </tr>\n",
              "    <tr>\n",
              "      <th>1</th>\n",
              "      <td>1</td>\n",
              "      <td>{'en': '&amp; Lauri. Watts. mail;', 'fr': '&amp; Lauri...</td>\n",
              "    </tr>\n",
              "    <tr>\n",
              "      <th>2</th>\n",
              "      <td>2</td>\n",
              "      <td>{'en': 'ROLES_OF_TRANSLATORS', 'fr': '&amp; traduc...</td>\n",
              "    </tr>\n",
              "    <tr>\n",
              "      <th>3</th>\n",
              "      <td>3</td>\n",
              "      <td>{'en': '2006-02-26 3.5.1', 'fr': '2006-02-26 3...</td>\n",
              "    </tr>\n",
              "    <tr>\n",
              "      <th>4</th>\n",
              "      <td>4</td>\n",
              "      <td>{'en': 'The Babel &amp; konqueror; plugin gives yo...</td>\n",
              "    </tr>\n",
              "  </tbody>\n",
              "</table>\n",
              "</div>\n",
              "    <div class=\"colab-df-buttons\">\n",
              "\n",
              "  <div class=\"colab-df-container\">\n",
              "    <button class=\"colab-df-convert\" onclick=\"convertToInteractive('df-c75e4d59-fc9b-4ed3-9029-5d89d0b56b17')\"\n",
              "            title=\"Convert this dataframe to an interactive table.\"\n",
              "            style=\"display:none;\">\n",
              "\n",
              "  <svg xmlns=\"http://www.w3.org/2000/svg\" height=\"24px\" viewBox=\"0 -960 960 960\">\n",
              "    <path d=\"M120-120v-720h720v720H120Zm60-500h600v-160H180v160Zm220 220h160v-160H400v160Zm0 220h160v-160H400v160ZM180-400h160v-160H180v160Zm440 0h160v-160H620v160ZM180-180h160v-160H180v160Zm440 0h160v-160H620v160Z\"/>\n",
              "  </svg>\n",
              "    </button>\n",
              "\n",
              "  <style>\n",
              "    .colab-df-container {\n",
              "      display:flex;\n",
              "      gap: 12px;\n",
              "    }\n",
              "\n",
              "    .colab-df-convert {\n",
              "      background-color: #E8F0FE;\n",
              "      border: none;\n",
              "      border-radius: 50%;\n",
              "      cursor: pointer;\n",
              "      display: none;\n",
              "      fill: #1967D2;\n",
              "      height: 32px;\n",
              "      padding: 0 0 0 0;\n",
              "      width: 32px;\n",
              "    }\n",
              "\n",
              "    .colab-df-convert:hover {\n",
              "      background-color: #E2EBFA;\n",
              "      box-shadow: 0px 1px 2px rgba(60, 64, 67, 0.3), 0px 1px 3px 1px rgba(60, 64, 67, 0.15);\n",
              "      fill: #174EA6;\n",
              "    }\n",
              "\n",
              "    .colab-df-buttons div {\n",
              "      margin-bottom: 4px;\n",
              "    }\n",
              "\n",
              "    [theme=dark] .colab-df-convert {\n",
              "      background-color: #3B4455;\n",
              "      fill: #D2E3FC;\n",
              "    }\n",
              "\n",
              "    [theme=dark] .colab-df-convert:hover {\n",
              "      background-color: #434B5C;\n",
              "      box-shadow: 0px 1px 3px 1px rgba(0, 0, 0, 0.15);\n",
              "      filter: drop-shadow(0px 1px 2px rgba(0, 0, 0, 0.3));\n",
              "      fill: #FFFFFF;\n",
              "    }\n",
              "  </style>\n",
              "\n",
              "    <script>\n",
              "      const buttonEl =\n",
              "        document.querySelector('#df-c75e4d59-fc9b-4ed3-9029-5d89d0b56b17 button.colab-df-convert');\n",
              "      buttonEl.style.display =\n",
              "        google.colab.kernel.accessAllowed ? 'block' : 'none';\n",
              "\n",
              "      async function convertToInteractive(key) {\n",
              "        const element = document.querySelector('#df-c75e4d59-fc9b-4ed3-9029-5d89d0b56b17');\n",
              "        const dataTable =\n",
              "          await google.colab.kernel.invokeFunction('convertToInteractive',\n",
              "                                                    [key], {});\n",
              "        if (!dataTable) return;\n",
              "\n",
              "        const docLinkHtml = 'Like what you see? Visit the ' +\n",
              "          '<a target=\"_blank\" href=https://colab.research.google.com/notebooks/data_table.ipynb>data table notebook</a>'\n",
              "          + ' to learn more about interactive tables.';\n",
              "        element.innerHTML = '';\n",
              "        dataTable['output_type'] = 'display_data';\n",
              "        await google.colab.output.renderOutput(dataTable, element);\n",
              "        const docLink = document.createElement('div');\n",
              "        docLink.innerHTML = docLinkHtml;\n",
              "        element.appendChild(docLink);\n",
              "      }\n",
              "    </script>\n",
              "  </div>\n",
              "\n",
              "\n",
              "<div id=\"df-5094e3ab-5d3e-4839-b456-5e018e6b6d4d\">\n",
              "  <button class=\"colab-df-quickchart\" onclick=\"quickchart('df-5094e3ab-5d3e-4839-b456-5e018e6b6d4d')\"\n",
              "            title=\"Suggest charts.\"\n",
              "            style=\"display:none;\">\n",
              "\n",
              "<svg xmlns=\"http://www.w3.org/2000/svg\" height=\"24px\"viewBox=\"0 0 24 24\"\n",
              "     width=\"24px\">\n",
              "    <g>\n",
              "        <path d=\"M19 3H5c-1.1 0-2 .9-2 2v14c0 1.1.9 2 2 2h14c1.1 0 2-.9 2-2V5c0-1.1-.9-2-2-2zM9 17H7v-7h2v7zm4 0h-2V7h2v10zm4 0h-2v-4h2v4z\"/>\n",
              "    </g>\n",
              "</svg>\n",
              "  </button>\n",
              "\n",
              "<style>\n",
              "  .colab-df-quickchart {\n",
              "      --bg-color: #E8F0FE;\n",
              "      --fill-color: #1967D2;\n",
              "      --hover-bg-color: #E2EBFA;\n",
              "      --hover-fill-color: #174EA6;\n",
              "      --disabled-fill-color: #AAA;\n",
              "      --disabled-bg-color: #DDD;\n",
              "  }\n",
              "\n",
              "  [theme=dark] .colab-df-quickchart {\n",
              "      --bg-color: #3B4455;\n",
              "      --fill-color: #D2E3FC;\n",
              "      --hover-bg-color: #434B5C;\n",
              "      --hover-fill-color: #FFFFFF;\n",
              "      --disabled-bg-color: #3B4455;\n",
              "      --disabled-fill-color: #666;\n",
              "  }\n",
              "\n",
              "  .colab-df-quickchart {\n",
              "    background-color: var(--bg-color);\n",
              "    border: none;\n",
              "    border-radius: 50%;\n",
              "    cursor: pointer;\n",
              "    display: none;\n",
              "    fill: var(--fill-color);\n",
              "    height: 32px;\n",
              "    padding: 0;\n",
              "    width: 32px;\n",
              "  }\n",
              "\n",
              "  .colab-df-quickchart:hover {\n",
              "    background-color: var(--hover-bg-color);\n",
              "    box-shadow: 0 1px 2px rgba(60, 64, 67, 0.3), 0 1px 3px 1px rgba(60, 64, 67, 0.15);\n",
              "    fill: var(--button-hover-fill-color);\n",
              "  }\n",
              "\n",
              "  .colab-df-quickchart-complete:disabled,\n",
              "  .colab-df-quickchart-complete:disabled:hover {\n",
              "    background-color: var(--disabled-bg-color);\n",
              "    fill: var(--disabled-fill-color);\n",
              "    box-shadow: none;\n",
              "  }\n",
              "\n",
              "  .colab-df-spinner {\n",
              "    border: 2px solid var(--fill-color);\n",
              "    border-color: transparent;\n",
              "    border-bottom-color: var(--fill-color);\n",
              "    animation:\n",
              "      spin 1s steps(1) infinite;\n",
              "  }\n",
              "\n",
              "  @keyframes spin {\n",
              "    0% {\n",
              "      border-color: transparent;\n",
              "      border-bottom-color: var(--fill-color);\n",
              "      border-left-color: var(--fill-color);\n",
              "    }\n",
              "    20% {\n",
              "      border-color: transparent;\n",
              "      border-left-color: var(--fill-color);\n",
              "      border-top-color: var(--fill-color);\n",
              "    }\n",
              "    30% {\n",
              "      border-color: transparent;\n",
              "      border-left-color: var(--fill-color);\n",
              "      border-top-color: var(--fill-color);\n",
              "      border-right-color: var(--fill-color);\n",
              "    }\n",
              "    40% {\n",
              "      border-color: transparent;\n",
              "      border-right-color: var(--fill-color);\n",
              "      border-top-color: var(--fill-color);\n",
              "    }\n",
              "    60% {\n",
              "      border-color: transparent;\n",
              "      border-right-color: var(--fill-color);\n",
              "    }\n",
              "    80% {\n",
              "      border-color: transparent;\n",
              "      border-right-color: var(--fill-color);\n",
              "      border-bottom-color: var(--fill-color);\n",
              "    }\n",
              "    90% {\n",
              "      border-color: transparent;\n",
              "      border-bottom-color: var(--fill-color);\n",
              "    }\n",
              "  }\n",
              "</style>\n",
              "\n",
              "  <script>\n",
              "    async function quickchart(key) {\n",
              "      const quickchartButtonEl =\n",
              "        document.querySelector('#' + key + ' button');\n",
              "      quickchartButtonEl.disabled = true;  // To prevent multiple clicks.\n",
              "      quickchartButtonEl.classList.add('colab-df-spinner');\n",
              "      try {\n",
              "        const charts = await google.colab.kernel.invokeFunction(\n",
              "            'suggestCharts', [key], {});\n",
              "      } catch (error) {\n",
              "        console.error('Error during call to suggestCharts:', error);\n",
              "      }\n",
              "      quickchartButtonEl.classList.remove('colab-df-spinner');\n",
              "      quickchartButtonEl.classList.add('colab-df-quickchart-complete');\n",
              "    }\n",
              "    (() => {\n",
              "      let quickchartButtonEl =\n",
              "        document.querySelector('#df-5094e3ab-5d3e-4839-b456-5e018e6b6d4d button');\n",
              "      quickchartButtonEl.style.display =\n",
              "        google.colab.kernel.accessAllowed ? 'block' : 'none';\n",
              "    })();\n",
              "  </script>\n",
              "</div>\n",
              "\n",
              "    </div>\n",
              "  </div>\n"
            ]
          },
          "metadata": {},
          "execution_count": 9
        }
      ],
      "source": [
        "df_train.head()\n"
      ]
    },
    {
      "cell_type": "code",
      "execution_count": 10,
      "id": "SMuG9fuF3ccM",
      "metadata": {
        "colab": {
          "base_uri": "https://localhost:8080/"
        },
        "id": "SMuG9fuF3ccM",
        "outputId": "57bcd20f-a7f9-4376-d081-6fe70bdd0b5a"
      },
      "outputs": [
        {
          "output_type": "stream",
          "name": "stdout",
          "text": [
            "<class 'pandas.core.frame.DataFrame'>\n",
            "RangeIndex: 210173 entries, 0 to 210172\n",
            "Data columns (total 2 columns):\n",
            " #   Column       Non-Null Count   Dtype \n",
            "---  ------       --------------   ----- \n",
            " 0   id           210173 non-null  object\n",
            " 1   translation  210173 non-null  object\n",
            "dtypes: object(2)\n",
            "memory usage: 3.2+ MB\n"
          ]
        }
      ],
      "source": [
        "df_train.info()\n"
      ]
    },
    {
      "cell_type": "markdown",
      "id": "FYl8PoBim3kC",
      "metadata": {
        "id": "FYl8PoBim3kC"
      },
      "source": [
        "### <font color = 'pickle'> **Check length of the dialogue/summary** </font>\n"
      ]
    },
    {
      "cell_type": "code",
      "execution_count": 11,
      "id": "WOF_nrp2oBvT",
      "metadata": {
        "id": "WOF_nrp2oBvT"
      },
      "outputs": [],
      "source": [
        "df_train['words_per_sent_en'] = df_train['translation'].apply(lambda x: len(x['en'].split()))\n",
        "df_train['words_per_sent_fr'] = df_train['translation'].apply(lambda x: len(x['fr'].split()))"
      ]
    },
    {
      "cell_type": "code",
      "execution_count": 12,
      "id": "Pw7jn9U1YDJH",
      "metadata": {
        "colab": {
          "base_uri": "https://localhost:8080/",
          "height": 206
        },
        "id": "Pw7jn9U1YDJH",
        "outputId": "d33ad120-a2cc-4485-d5ba-24f9a823ed77"
      },
      "outputs": [
        {
          "output_type": "execute_result",
          "data": {
            "text/plain": [
              "  id                                        translation  words_per_sent_en  \\\n",
              "0  0         {'en': 'Lauri Watts', 'fr': 'Lauri Watts'}                  2   \n",
              "1  1  {'en': '& Lauri. Watts. mail;', 'fr': '& Lauri...                  4   \n",
              "2  2  {'en': 'ROLES_OF_TRANSLATORS', 'fr': '& traduc...                  1   \n",
              "3  3  {'en': '2006-02-26 3.5.1', 'fr': '2006-02-26 3...                  2   \n",
              "4  4  {'en': 'The Babel & konqueror; plugin gives yo...                 14   \n",
              "\n",
              "   words_per_sent_fr  \n",
              "0                  2  \n",
              "1                  4  \n",
              "2                  2  \n",
              "3                  2  \n",
              "4                 17  "
            ],
            "text/html": [
              "\n",
              "  <div id=\"df-19f9c323-0d66-4914-afd9-01fba093072b\" class=\"colab-df-container\">\n",
              "    <div>\n",
              "<style scoped>\n",
              "    .dataframe tbody tr th:only-of-type {\n",
              "        vertical-align: middle;\n",
              "    }\n",
              "\n",
              "    .dataframe tbody tr th {\n",
              "        vertical-align: top;\n",
              "    }\n",
              "\n",
              "    .dataframe thead th {\n",
              "        text-align: right;\n",
              "    }\n",
              "</style>\n",
              "<table border=\"1\" class=\"dataframe\">\n",
              "  <thead>\n",
              "    <tr style=\"text-align: right;\">\n",
              "      <th></th>\n",
              "      <th>id</th>\n",
              "      <th>translation</th>\n",
              "      <th>words_per_sent_en</th>\n",
              "      <th>words_per_sent_fr</th>\n",
              "    </tr>\n",
              "  </thead>\n",
              "  <tbody>\n",
              "    <tr>\n",
              "      <th>0</th>\n",
              "      <td>0</td>\n",
              "      <td>{'en': 'Lauri Watts', 'fr': 'Lauri Watts'}</td>\n",
              "      <td>2</td>\n",
              "      <td>2</td>\n",
              "    </tr>\n",
              "    <tr>\n",
              "      <th>1</th>\n",
              "      <td>1</td>\n",
              "      <td>{'en': '&amp; Lauri. Watts. mail;', 'fr': '&amp; Lauri...</td>\n",
              "      <td>4</td>\n",
              "      <td>4</td>\n",
              "    </tr>\n",
              "    <tr>\n",
              "      <th>2</th>\n",
              "      <td>2</td>\n",
              "      <td>{'en': 'ROLES_OF_TRANSLATORS', 'fr': '&amp; traduc...</td>\n",
              "      <td>1</td>\n",
              "      <td>2</td>\n",
              "    </tr>\n",
              "    <tr>\n",
              "      <th>3</th>\n",
              "      <td>3</td>\n",
              "      <td>{'en': '2006-02-26 3.5.1', 'fr': '2006-02-26 3...</td>\n",
              "      <td>2</td>\n",
              "      <td>2</td>\n",
              "    </tr>\n",
              "    <tr>\n",
              "      <th>4</th>\n",
              "      <td>4</td>\n",
              "      <td>{'en': 'The Babel &amp; konqueror; plugin gives yo...</td>\n",
              "      <td>14</td>\n",
              "      <td>17</td>\n",
              "    </tr>\n",
              "  </tbody>\n",
              "</table>\n",
              "</div>\n",
              "    <div class=\"colab-df-buttons\">\n",
              "\n",
              "  <div class=\"colab-df-container\">\n",
              "    <button class=\"colab-df-convert\" onclick=\"convertToInteractive('df-19f9c323-0d66-4914-afd9-01fba093072b')\"\n",
              "            title=\"Convert this dataframe to an interactive table.\"\n",
              "            style=\"display:none;\">\n",
              "\n",
              "  <svg xmlns=\"http://www.w3.org/2000/svg\" height=\"24px\" viewBox=\"0 -960 960 960\">\n",
              "    <path d=\"M120-120v-720h720v720H120Zm60-500h600v-160H180v160Zm220 220h160v-160H400v160Zm0 220h160v-160H400v160ZM180-400h160v-160H180v160Zm440 0h160v-160H620v160ZM180-180h160v-160H180v160Zm440 0h160v-160H620v160Z\"/>\n",
              "  </svg>\n",
              "    </button>\n",
              "\n",
              "  <style>\n",
              "    .colab-df-container {\n",
              "      display:flex;\n",
              "      gap: 12px;\n",
              "    }\n",
              "\n",
              "    .colab-df-convert {\n",
              "      background-color: #E8F0FE;\n",
              "      border: none;\n",
              "      border-radius: 50%;\n",
              "      cursor: pointer;\n",
              "      display: none;\n",
              "      fill: #1967D2;\n",
              "      height: 32px;\n",
              "      padding: 0 0 0 0;\n",
              "      width: 32px;\n",
              "    }\n",
              "\n",
              "    .colab-df-convert:hover {\n",
              "      background-color: #E2EBFA;\n",
              "      box-shadow: 0px 1px 2px rgba(60, 64, 67, 0.3), 0px 1px 3px 1px rgba(60, 64, 67, 0.15);\n",
              "      fill: #174EA6;\n",
              "    }\n",
              "\n",
              "    .colab-df-buttons div {\n",
              "      margin-bottom: 4px;\n",
              "    }\n",
              "\n",
              "    [theme=dark] .colab-df-convert {\n",
              "      background-color: #3B4455;\n",
              "      fill: #D2E3FC;\n",
              "    }\n",
              "\n",
              "    [theme=dark] .colab-df-convert:hover {\n",
              "      background-color: #434B5C;\n",
              "      box-shadow: 0px 1px 3px 1px rgba(0, 0, 0, 0.15);\n",
              "      filter: drop-shadow(0px 1px 2px rgba(0, 0, 0, 0.3));\n",
              "      fill: #FFFFFF;\n",
              "    }\n",
              "  </style>\n",
              "\n",
              "    <script>\n",
              "      const buttonEl =\n",
              "        document.querySelector('#df-19f9c323-0d66-4914-afd9-01fba093072b button.colab-df-convert');\n",
              "      buttonEl.style.display =\n",
              "        google.colab.kernel.accessAllowed ? 'block' : 'none';\n",
              "\n",
              "      async function convertToInteractive(key) {\n",
              "        const element = document.querySelector('#df-19f9c323-0d66-4914-afd9-01fba093072b');\n",
              "        const dataTable =\n",
              "          await google.colab.kernel.invokeFunction('convertToInteractive',\n",
              "                                                    [key], {});\n",
              "        if (!dataTable) return;\n",
              "\n",
              "        const docLinkHtml = 'Like what you see? Visit the ' +\n",
              "          '<a target=\"_blank\" href=https://colab.research.google.com/notebooks/data_table.ipynb>data table notebook</a>'\n",
              "          + ' to learn more about interactive tables.';\n",
              "        element.innerHTML = '';\n",
              "        dataTable['output_type'] = 'display_data';\n",
              "        await google.colab.output.renderOutput(dataTable, element);\n",
              "        const docLink = document.createElement('div');\n",
              "        docLink.innerHTML = docLinkHtml;\n",
              "        element.appendChild(docLink);\n",
              "      }\n",
              "    </script>\n",
              "  </div>\n",
              "\n",
              "\n",
              "<div id=\"df-800f3d02-4f60-4e88-8593-c68810ccdc82\">\n",
              "  <button class=\"colab-df-quickchart\" onclick=\"quickchart('df-800f3d02-4f60-4e88-8593-c68810ccdc82')\"\n",
              "            title=\"Suggest charts.\"\n",
              "            style=\"display:none;\">\n",
              "\n",
              "<svg xmlns=\"http://www.w3.org/2000/svg\" height=\"24px\"viewBox=\"0 0 24 24\"\n",
              "     width=\"24px\">\n",
              "    <g>\n",
              "        <path d=\"M19 3H5c-1.1 0-2 .9-2 2v14c0 1.1.9 2 2 2h14c1.1 0 2-.9 2-2V5c0-1.1-.9-2-2-2zM9 17H7v-7h2v7zm4 0h-2V7h2v10zm4 0h-2v-4h2v4z\"/>\n",
              "    </g>\n",
              "</svg>\n",
              "  </button>\n",
              "\n",
              "<style>\n",
              "  .colab-df-quickchart {\n",
              "      --bg-color: #E8F0FE;\n",
              "      --fill-color: #1967D2;\n",
              "      --hover-bg-color: #E2EBFA;\n",
              "      --hover-fill-color: #174EA6;\n",
              "      --disabled-fill-color: #AAA;\n",
              "      --disabled-bg-color: #DDD;\n",
              "  }\n",
              "\n",
              "  [theme=dark] .colab-df-quickchart {\n",
              "      --bg-color: #3B4455;\n",
              "      --fill-color: #D2E3FC;\n",
              "      --hover-bg-color: #434B5C;\n",
              "      --hover-fill-color: #FFFFFF;\n",
              "      --disabled-bg-color: #3B4455;\n",
              "      --disabled-fill-color: #666;\n",
              "  }\n",
              "\n",
              "  .colab-df-quickchart {\n",
              "    background-color: var(--bg-color);\n",
              "    border: none;\n",
              "    border-radius: 50%;\n",
              "    cursor: pointer;\n",
              "    display: none;\n",
              "    fill: var(--fill-color);\n",
              "    height: 32px;\n",
              "    padding: 0;\n",
              "    width: 32px;\n",
              "  }\n",
              "\n",
              "  .colab-df-quickchart:hover {\n",
              "    background-color: var(--hover-bg-color);\n",
              "    box-shadow: 0 1px 2px rgba(60, 64, 67, 0.3), 0 1px 3px 1px rgba(60, 64, 67, 0.15);\n",
              "    fill: var(--button-hover-fill-color);\n",
              "  }\n",
              "\n",
              "  .colab-df-quickchart-complete:disabled,\n",
              "  .colab-df-quickchart-complete:disabled:hover {\n",
              "    background-color: var(--disabled-bg-color);\n",
              "    fill: var(--disabled-fill-color);\n",
              "    box-shadow: none;\n",
              "  }\n",
              "\n",
              "  .colab-df-spinner {\n",
              "    border: 2px solid var(--fill-color);\n",
              "    border-color: transparent;\n",
              "    border-bottom-color: var(--fill-color);\n",
              "    animation:\n",
              "      spin 1s steps(1) infinite;\n",
              "  }\n",
              "\n",
              "  @keyframes spin {\n",
              "    0% {\n",
              "      border-color: transparent;\n",
              "      border-bottom-color: var(--fill-color);\n",
              "      border-left-color: var(--fill-color);\n",
              "    }\n",
              "    20% {\n",
              "      border-color: transparent;\n",
              "      border-left-color: var(--fill-color);\n",
              "      border-top-color: var(--fill-color);\n",
              "    }\n",
              "    30% {\n",
              "      border-color: transparent;\n",
              "      border-left-color: var(--fill-color);\n",
              "      border-top-color: var(--fill-color);\n",
              "      border-right-color: var(--fill-color);\n",
              "    }\n",
              "    40% {\n",
              "      border-color: transparent;\n",
              "      border-right-color: var(--fill-color);\n",
              "      border-top-color: var(--fill-color);\n",
              "    }\n",
              "    60% {\n",
              "      border-color: transparent;\n",
              "      border-right-color: var(--fill-color);\n",
              "    }\n",
              "    80% {\n",
              "      border-color: transparent;\n",
              "      border-right-color: var(--fill-color);\n",
              "      border-bottom-color: var(--fill-color);\n",
              "    }\n",
              "    90% {\n",
              "      border-color: transparent;\n",
              "      border-bottom-color: var(--fill-color);\n",
              "    }\n",
              "  }\n",
              "</style>\n",
              "\n",
              "  <script>\n",
              "    async function quickchart(key) {\n",
              "      const quickchartButtonEl =\n",
              "        document.querySelector('#' + key + ' button');\n",
              "      quickchartButtonEl.disabled = true;  // To prevent multiple clicks.\n",
              "      quickchartButtonEl.classList.add('colab-df-spinner');\n",
              "      try {\n",
              "        const charts = await google.colab.kernel.invokeFunction(\n",
              "            'suggestCharts', [key], {});\n",
              "      } catch (error) {\n",
              "        console.error('Error during call to suggestCharts:', error);\n",
              "      }\n",
              "      quickchartButtonEl.classList.remove('colab-df-spinner');\n",
              "      quickchartButtonEl.classList.add('colab-df-quickchart-complete');\n",
              "    }\n",
              "    (() => {\n",
              "      let quickchartButtonEl =\n",
              "        document.querySelector('#df-800f3d02-4f60-4e88-8593-c68810ccdc82 button');\n",
              "      quickchartButtonEl.style.display =\n",
              "        google.colab.kernel.accessAllowed ? 'block' : 'none';\n",
              "    })();\n",
              "  </script>\n",
              "</div>\n",
              "\n",
              "    </div>\n",
              "  </div>\n"
            ]
          },
          "metadata": {},
          "execution_count": 12
        }
      ],
      "source": [
        "df_train.head()\n"
      ]
    },
    {
      "cell_type": "markdown",
      "id": "YhePLup4AuDo",
      "metadata": {
        "id": "YhePLup4AuDo"
      },
      "source": [
        "#### <font color = 'pickle'> **Plot the distribution of review length** </font>"
      ]
    },
    {
      "cell_type": "code",
      "execution_count": 13,
      "id": "6m_e5NU7pOr_",
      "metadata": {
        "id": "6m_e5NU7pOr_"
      },
      "outputs": [],
      "source": [
        "import matplotlib.pyplot as plt\n",
        "\n",
        "\n",
        "def plot_two_hists(series1, series2, label1, label2):\n",
        "    # Create a figure with two subplots\n",
        "    fig, axs = plt.subplots(1, 2, figsize=(10, 5))\n",
        "\n",
        "    # Plot the first histogram on the left subplot\n",
        "    axs[0].hist(series1, bins=50, edgecolor=\"black\")\n",
        "    axs[0].set_xlabel(\"Number of Words\")\n",
        "    axs[0].set_ylabel(\"Frequency\")\n",
        "    axs[0].set_title(f\"Distribution of Words per {label1}\")\n",
        "\n",
        "    # Plot the second histogram on the right subplot\n",
        "    axs[1].hist(series2, bins=50, edgecolor=\"black\")\n",
        "    axs[1].set_xlabel(\"Number of Words\")\n",
        "    axs[1].set_ylabel(\"Frequency\")\n",
        "    axs[1].set_title(f\"Distribution of Words per {label2}\")\n",
        "\n",
        "    # Adjust the spacing between subplots\n",
        "    plt.subplots_adjust(wspace=0.3)\n",
        "\n",
        "    # Display the plot\n",
        "    plt.show()\n"
      ]
    },
    {
      "cell_type": "code",
      "execution_count": 14,
      "id": "0968a1ef",
      "metadata": {
        "colab": {
          "base_uri": "https://localhost:8080/",
          "height": 453
        },
        "id": "0968a1ef",
        "outputId": "95aa1d89-f489-4938-88be-d6b498918ea3"
      },
      "outputs": [
        {
          "output_type": "display_data",
          "data": {
            "text/plain": [
              "<Figure size 1000x500 with 2 Axes>"
            ],
            "image/png": "[encoded data removed]"
          },
          "metadata": {}
        }
      ],
      "source": [
        "plot_two_hists(\n",
        "    df_train[\"words_per_sent_en\"], df_train[\"words_per_sent_fr\"], \"sentence for english\", \"sentence for french\"\n",
        ")\n"
      ]
    },
    {
      "cell_type": "code",
      "execution_count": 15,
      "id": "7d60bfd4",
      "metadata": {
        "colab": {
          "base_uri": "https://localhost:8080/"
        },
        "id": "7d60bfd4",
        "outputId": "127c287f-d6fa-44b5-e4c7-e691605d2c67"
      },
      "outputs": [
        {
          "output_type": "execute_result",
          "data": {
            "text/plain": [
              "count    210173.000000\n",
              "mean          7.573218\n",
              "std          14.894992\n",
              "min           1.000000\n",
              "25%           2.000000\n",
              "50%           3.000000\n",
              "75%           6.000000\n",
              "max         759.000000\n",
              "Name: words_per_sent_en, dtype: float64"
            ]
          },
          "metadata": {},
          "execution_count": 15
        }
      ],
      "source": [
        "df_train[\"words_per_sent_en\"].describe()"
      ]
    },
    {
      "cell_type": "code",
      "execution_count": 16,
      "id": "yTYJqPgEpPQV",
      "metadata": {
        "colab": {
          "base_uri": "https://localhost:8080/"
        },
        "id": "yTYJqPgEpPQV",
        "outputId": "97a53be1-3475-4d9c-ba7f-efe5d00e9ce4"
      },
      "outputs": [
        {
          "output_type": "stream",
          "name": "stdout",
          "text": [
            "Number of sentences with more than 400 words: 5\n"
          ]
        }
      ],
      "source": [
        "# Let us check how many sentences ahs more than 500 words\n",
        "\n",
        "count = (df_train[\"words_per_sent_en\"] > 500).sum()\n",
        "print(f\"Number of sentences with more than 400 words: {count}\")\n"
      ]
    },
    {
      "cell_type": "code",
      "execution_count": 17,
      "id": "9e9eb47b",
      "metadata": {
        "id": "9e9eb47b",
        "outputId": "6ecda4fa-8ef5-433f-8675-f17e24666f33",
        "colab": {
          "base_uri": "https://localhost:8080/"
        }
      },
      "outputs": [
        {
          "output_type": "stream",
          "name": "stdout",
          "text": [
            "Number of sentences with less than 2 words: 48165\n"
          ]
        }
      ],
      "source": [
        "# Let us check how many sentences has less than 2 words\n",
        "\n",
        "count = (df_train[\"words_per_sent_en\"] <2).sum()\n",
        "print(f\"Number of sentences with less than 2 words: {count}\")"
      ]
    },
    {
      "cell_type": "code",
      "execution_count": 18,
      "id": "6dcc57e1",
      "metadata": {
        "id": "6dcc57e1",
        "outputId": "c44990d7-8415-4c39-f033-221d51db5da3",
        "colab": {
          "base_uri": "https://localhost:8080/"
        }
      },
      "outputs": [
        {
          "output_type": "stream",
          "name": "stdout",
          "text": [
            "Number of sentences with less than 2 words: 0\n"
          ]
        }
      ],
      "source": [
        "# Let us check how many sentences has less than 1 word - empty strings\n",
        "\n",
        "count = (df_train[\"words_per_sent_en\"] <1).sum()\n",
        "print(f\"Number of sentences with less than 2 words: {count}\")"
      ]
    },
    {
      "cell_type": "code",
      "execution_count": 19,
      "id": "34704d01",
      "metadata": {
        "id": "34704d01",
        "outputId": "5d70ddfb-8a63-4aee-bb2b-ed86637b724f",
        "colab": {
          "base_uri": "https://localhost:8080/",
          "height": 424
        }
      },
      "outputs": [
        {
          "output_type": "execute_result",
          "data": {
            "text/plain": [
              "            id                                     translation  \\\n",
              "5            5                      {'en': 'KDE', 'fr': 'KDE'}   \n",
              "6            6          {'en': 'kdeaddons', 'fr': 'kdeaddons'}   \n",
              "7            7          {'en': 'konqueror', 'fr': 'konqueror'}   \n",
              "9            9          {'en': 'babelfish', 'fr': 'babelfish'}   \n",
              "10          10         {'en': 'translate', 'fr': 'traduction'}   \n",
              "...        ...                                             ...   \n",
              "210137  210137           {'en': 'Games', 'fr': 'JeuxPhonon::'}   \n",
              "210138  210138  {'en': 'Accessibility', 'fr': 'Accessibilité'}   \n",
              "210156  210156                    {'en': 'aRts', 'fr': 'aRts'}   \n",
              "210161  210161                {'en': 'Volume', 'fr': 'Volume'}   \n",
              "210172  210172        {'en': 'PulseAudio', 'fr': 'PulseAudio'}   \n",
              "\n",
              "        words_per_sent_en  words_per_sent_fr  \n",
              "5                       1                  1  \n",
              "6                       1                  1  \n",
              "7                       1                  1  \n",
              "9                       1                  1  \n",
              "10                      1                  1  \n",
              "...                   ...                ...  \n",
              "210137                  1                  1  \n",
              "210138                  1                  1  \n",
              "210156                  1                  1  \n",
              "210161                  1                  1  \n",
              "210172                  1                  1  \n",
              "\n",
              "[31404 rows x 4 columns]"
            ],
            "text/html": [
              "\n",
              "  <div id=\"df-0c9818b2-f48c-45a2-9f07-3300c8e11917\" class=\"colab-df-container\">\n",
              "    <div>\n",
              "<style scoped>\n",
              "    .dataframe tbody tr th:only-of-type {\n",
              "        vertical-align: middle;\n",
              "    }\n",
              "\n",
              "    .dataframe tbody tr th {\n",
              "        vertical-align: top;\n",
              "    }\n",
              "\n",
              "    .dataframe thead th {\n",
              "        text-align: right;\n",
              "    }\n",
              "</style>\n",
              "<table border=\"1\" class=\"dataframe\">\n",
              "  <thead>\n",
              "    <tr style=\"text-align: right;\">\n",
              "      <th></th>\n",
              "      <th>id</th>\n",
              "      <th>translation</th>\n",
              "      <th>words_per_sent_en</th>\n",
              "      <th>words_per_sent_fr</th>\n",
              "    </tr>\n",
              "  </thead>\n",
              "  <tbody>\n",
              "    <tr>\n",
              "      <th>5</th>\n",
              "      <td>5</td>\n",
              "      <td>{'en': 'KDE', 'fr': 'KDE'}</td>\n",
              "      <td>1</td>\n",
              "      <td>1</td>\n",
              "    </tr>\n",
              "    <tr>\n",
              "      <th>6</th>\n",
              "      <td>6</td>\n",
              "      <td>{'en': 'kdeaddons', 'fr': 'kdeaddons'}</td>\n",
              "      <td>1</td>\n",
              "      <td>1</td>\n",
              "    </tr>\n",
              "    <tr>\n",
              "      <th>7</th>\n",
              "      <td>7</td>\n",
              "      <td>{'en': 'konqueror', 'fr': 'konqueror'}</td>\n",
              "      <td>1</td>\n",
              "      <td>1</td>\n",
              "    </tr>\n",
              "    <tr>\n",
              "      <th>9</th>\n",
              "      <td>9</td>\n",
              "      <td>{'en': 'babelfish', 'fr': 'babelfish'}</td>\n",
              "      <td>1</td>\n",
              "      <td>1</td>\n",
              "    </tr>\n",
              "    <tr>\n",
              "      <th>10</th>\n",
              "      <td>10</td>\n",
              "      <td>{'en': 'translate', 'fr': 'traduction'}</td>\n",
              "      <td>1</td>\n",
              "      <td>1</td>\n",
              "    </tr>\n",
              "    <tr>\n",
              "      <th>...</th>\n",
              "      <td>...</td>\n",
              "      <td>...</td>\n",
              "      <td>...</td>\n",
              "      <td>...</td>\n",
              "    </tr>\n",
              "    <tr>\n",
              "      <th>210137</th>\n",
              "      <td>210137</td>\n",
              "      <td>{'en': 'Games', 'fr': 'JeuxPhonon::'}</td>\n",
              "      <td>1</td>\n",
              "      <td>1</td>\n",
              "    </tr>\n",
              "    <tr>\n",
              "      <th>210138</th>\n",
              "      <td>210138</td>\n",
              "      <td>{'en': 'Accessibility', 'fr': 'Accessibilité'}</td>\n",
              "      <td>1</td>\n",
              "      <td>1</td>\n",
              "    </tr>\n",
              "    <tr>\n",
              "      <th>210156</th>\n",
              "      <td>210156</td>\n",
              "      <td>{'en': 'aRts', 'fr': 'aRts'}</td>\n",
              "      <td>1</td>\n",
              "      <td>1</td>\n",
              "    </tr>\n",
              "    <tr>\n",
              "      <th>210161</th>\n",
              "      <td>210161</td>\n",
              "      <td>{'en': 'Volume', 'fr': 'Volume'}</td>\n",
              "      <td>1</td>\n",
              "      <td>1</td>\n",
              "    </tr>\n",
              "    <tr>\n",
              "      <th>210172</th>\n",
              "      <td>210172</td>\n",
              "      <td>{'en': 'PulseAudio', 'fr': 'PulseAudio'}</td>\n",
              "      <td>1</td>\n",
              "      <td>1</td>\n",
              "    </tr>\n",
              "  </tbody>\n",
              "</table>\n",
              "<p>31404 rows × 4 columns</p>\n",
              "</div>\n",
              "    <div class=\"colab-df-buttons\">\n",
              "\n",
              "  <div class=\"colab-df-container\">\n",
              "    <button class=\"colab-df-convert\" onclick=\"convertToInteractive('df-0c9818b2-f48c-45a2-9f07-3300c8e11917')\"\n",
              "            title=\"Convert this dataframe to an interactive table.\"\n",
              "            style=\"display:none;\">\n",
              "\n",
              "  <svg xmlns=\"http://www.w3.org/2000/svg\" height=\"24px\" viewBox=\"0 -960 960 960\">\n",
              "    <path d=\"M120-120v-720h720v720H120Zm60-500h600v-160H180v160Zm220 220h160v-160H400v160Zm0 220h160v-160H400v160ZM180-400h160v-160H180v160Zm440 0h160v-160H620v160ZM180-180h160v-160H180v160Zm440 0h160v-160H620v160Z\"/>\n",
              "  </svg>\n",
              "    </button>\n",
              "\n",
              "  <style>\n",
              "    .colab-df-container {\n",
              "      display:flex;\n",
              "      gap: 12px;\n",
              "    }\n",
              "\n",
              "    .colab-df-convert {\n",
              "      background-color: #E8F0FE;\n",
              "      border: none;\n",
              "      border-radius: 50%;\n",
              "      cursor: pointer;\n",
              "      display: none;\n",
              "      fill: #1967D2;\n",
              "      height: 32px;\n",
              "      padding: 0 0 0 0;\n",
              "      width: 32px;\n",
              "    }\n",
              "\n",
              "    .colab-df-convert:hover {\n",
              "      background-color: #E2EBFA;\n",
              "      box-shadow: 0px 1px 2px rgba(60, 64, 67, 0.3), 0px 1px 3px 1px rgba(60, 64, 67, 0.15);\n",
              "      fill: #174EA6;\n",
              "    }\n",
              "\n",
              "    .colab-df-buttons div {\n",
              "      margin-bottom: 4px;\n",
              "    }\n",
              "\n",
              "    [theme=dark] .colab-df-convert {\n",
              "      background-color: #3B4455;\n",
              "      fill: #D2E3FC;\n",
              "    }\n",
              "\n",
              "    [theme=dark] .colab-df-convert:hover {\n",
              "      background-color: #434B5C;\n",
              "      box-shadow: 0px 1px 3px 1px rgba(0, 0, 0, 0.15);\n",
              "      filter: drop-shadow(0px 1px 2px rgba(0, 0, 0, 0.3));\n",
              "      fill: #FFFFFF;\n",
              "    }\n",
              "  </style>\n",
              "\n",
              "    <script>\n",
              "      const buttonEl =\n",
              "        document.querySelector('#df-0c9818b2-f48c-45a2-9f07-3300c8e11917 button.colab-df-convert');\n",
              "      buttonEl.style.display =\n",
              "        google.colab.kernel.accessAllowed ? 'block' : 'none';\n",
              "\n",
              "      async function convertToInteractive(key) {\n",
              "        const element = document.querySelector('#df-0c9818b2-f48c-45a2-9f07-3300c8e11917');\n",
              "        const dataTable =\n",
              "          await google.colab.kernel.invokeFunction('convertToInteractive',\n",
              "                                                    [key], {});\n",
              "        if (!dataTable) return;\n",
              "\n",
              "        const docLinkHtml = 'Like what you see? Visit the ' +\n",
              "          '<a target=\"_blank\" href=https://colab.research.google.com/notebooks/data_table.ipynb>data table notebook</a>'\n",
              "          + ' to learn more about interactive tables.';\n",
              "        element.innerHTML = '';\n",
              "        dataTable['output_type'] = 'display_data';\n",
              "        await google.colab.output.renderOutput(dataTable, element);\n",
              "        const docLink = document.createElement('div');\n",
              "        docLink.innerHTML = docLinkHtml;\n",
              "        element.appendChild(docLink);\n",
              "      }\n",
              "    </script>\n",
              "  </div>\n",
              "\n",
              "\n",
              "<div id=\"df-4fc5609a-5ff6-4738-8564-569ba6e6d6d2\">\n",
              "  <button class=\"colab-df-quickchart\" onclick=\"quickchart('df-4fc5609a-5ff6-4738-8564-569ba6e6d6d2')\"\n",
              "            title=\"Suggest charts.\"\n",
              "            style=\"display:none;\">\n",
              "\n",
              "<svg xmlns=\"http://www.w3.org/2000/svg\" height=\"24px\"viewBox=\"0 0 24 24\"\n",
              "     width=\"24px\">\n",
              "    <g>\n",
              "        <path d=\"M19 3H5c-1.1 0-2 .9-2 2v14c0 1.1.9 2 2 2h14c1.1 0 2-.9 2-2V5c0-1.1-.9-2-2-2zM9 17H7v-7h2v7zm4 0h-2V7h2v10zm4 0h-2v-4h2v4z\"/>\n",
              "    </g>\n",
              "</svg>\n",
              "  </button>\n",
              "\n",
              "<style>\n",
              "  .colab-df-quickchart {\n",
              "      --bg-color: #E8F0FE;\n",
              "      --fill-color: #1967D2;\n",
              "      --hover-bg-color: #E2EBFA;\n",
              "      --hover-fill-color: #174EA6;\n",
              "      --disabled-fill-color: #AAA;\n",
              "      --disabled-bg-color: #DDD;\n",
              "  }\n",
              "\n",
              "  [theme=dark] .colab-df-quickchart {\n",
              "      --bg-color: #3B4455;\n",
              "      --fill-color: #D2E3FC;\n",
              "      --hover-bg-color: #434B5C;\n",
              "      --hover-fill-color: #FFFFFF;\n",
              "      --disabled-bg-color: #3B4455;\n",
              "      --disabled-fill-color: #666;\n",
              "  }\n",
              "\n",
              "  .colab-df-quickchart {\n",
              "    background-color: var(--bg-color);\n",
              "    border: none;\n",
              "    border-radius: 50%;\n",
              "    cursor: pointer;\n",
              "    display: none;\n",
              "    fill: var(--fill-color);\n",
              "    height: 32px;\n",
              "    padding: 0;\n",
              "    width: 32px;\n",
              "  }\n",
              "\n",
              "  .colab-df-quickchart:hover {\n",
              "    background-color: var(--hover-bg-color);\n",
              "    box-shadow: 0 1px 2px rgba(60, 64, 67, 0.3), 0 1px 3px 1px rgba(60, 64, 67, 0.15);\n",
              "    fill: var(--button-hover-fill-color);\n",
              "  }\n",
              "\n",
              "  .colab-df-quickchart-complete:disabled,\n",
              "  .colab-df-quickchart-complete:disabled:hover {\n",
              "    background-color: var(--disabled-bg-color);\n",
              "    fill: var(--disabled-fill-color);\n",
              "    box-shadow: none;\n",
              "  }\n",
              "\n",
              "  .colab-df-spinner {\n",
              "    border: 2px solid var(--fill-color);\n",
              "    border-color: transparent;\n",
              "    border-bottom-color: var(--fill-color);\n",
              "    animation:\n",
              "      spin 1s steps(1) infinite;\n",
              "  }\n",
              "\n",
              "  @keyframes spin {\n",
              "    0% {\n",
              "      border-color: transparent;\n",
              "      border-bottom-color: var(--fill-color);\n",
              "      border-left-color: var(--fill-color);\n",
              "    }\n",
              "    20% {\n",
              "      border-color: transparent;\n",
              "      border-left-color: var(--fill-color);\n",
              "      border-top-color: var(--fill-color);\n",
              "    }\n",
              "    30% {\n",
              "      border-color: transparent;\n",
              "      border-left-color: var(--fill-color);\n",
              "      border-top-color: var(--fill-color);\n",
              "      border-right-color: var(--fill-color);\n",
              "    }\n",
              "    40% {\n",
              "      border-color: transparent;\n",
              "      border-right-color: var(--fill-color);\n",
              "      border-top-color: var(--fill-color);\n",
              "    }\n",
              "    60% {\n",
              "      border-color: transparent;\n",
              "      border-right-color: var(--fill-color);\n",
              "    }\n",
              "    80% {\n",
              "      border-color: transparent;\n",
              "      border-right-color: var(--fill-color);\n",
              "      border-bottom-color: var(--fill-color);\n",
              "    }\n",
              "    90% {\n",
              "      border-color: transparent;\n",
              "      border-bottom-color: var(--fill-color);\n",
              "    }\n",
              "  }\n",
              "</style>\n",
              "\n",
              "  <script>\n",
              "    async function quickchart(key) {\n",
              "      const quickchartButtonEl =\n",
              "        document.querySelector('#' + key + ' button');\n",
              "      quickchartButtonEl.disabled = true;  // To prevent multiple clicks.\n",
              "      quickchartButtonEl.classList.add('colab-df-spinner');\n",
              "      try {\n",
              "        const charts = await google.colab.kernel.invokeFunction(\n",
              "            'suggestCharts', [key], {});\n",
              "      } catch (error) {\n",
              "        console.error('Error during call to suggestCharts:', error);\n",
              "      }\n",
              "      quickchartButtonEl.classList.remove('colab-df-spinner');\n",
              "      quickchartButtonEl.classList.add('colab-df-quickchart-complete');\n",
              "    }\n",
              "    (() => {\n",
              "      let quickchartButtonEl =\n",
              "        document.querySelector('#df-4fc5609a-5ff6-4738-8564-569ba6e6d6d2 button');\n",
              "      quickchartButtonEl.style.display =\n",
              "        google.colab.kernel.accessAllowed ? 'block' : 'none';\n",
              "    })();\n",
              "  </script>\n",
              "</div>\n",
              "\n",
              "    </div>\n",
              "  </div>\n"
            ]
          },
          "metadata": {},
          "execution_count": 19
        }
      ],
      "source": [
        "df_train[df_train[\"words_per_sent_fr\"]<2]"
      ]
    },
    {
      "cell_type": "markdown",
      "id": "QuV3BOnD1GjF",
      "metadata": {
        "id": "QuV3BOnD1GjF"
      },
      "source": [
        "### <font color = 'pickle'> **Reset dataset format** </font>\n"
      ]
    },
    {
      "cell_type": "code",
      "execution_count": 20,
      "id": "S2XAL-2PyI-3",
      "metadata": {
        "id": "S2XAL-2PyI-3"
      },
      "outputs": [],
      "source": [
        "kde_dataset.reset_format()\n"
      ]
    },
    {
      "cell_type": "code",
      "execution_count": 21,
      "id": "uFO6-IFVyOtE",
      "metadata": {
        "colab": {
          "base_uri": "https://localhost:8080/"
        },
        "id": "uFO6-IFVyOtE",
        "outputId": "4e1a2d03-5819-4a1e-d199-8ebbed62c289"
      },
      "outputs": [
        {
          "output_type": "execute_result",
          "data": {
            "text/plain": [
              "DatasetDict({\n",
              "    train: Dataset({\n",
              "        features: ['id', 'translation'],\n",
              "        num_rows: 210173\n",
              "    })\n",
              "})"
            ]
          },
          "metadata": {},
          "execution_count": 21
        }
      ],
      "source": [
        "kde_dataset\n"
      ]
    },
    {
      "cell_type": "markdown",
      "id": "olD42nSSAwrM",
      "metadata": {
        "id": "olD42nSSAwrM"
      },
      "source": [
        "# <font color = 'pickle'> **Data Pre-processing**</font>"
      ]
    },
    {
      "cell_type": "markdown",
      "id": "0aae17c7",
      "metadata": {
        "id": "0aae17c7"
      },
      "source": [
        "## <font color = 'indianred'> **Create train, valid, test splits** </font>"
      ]
    },
    {
      "cell_type": "code",
      "execution_count": 22,
      "id": "cad2c529",
      "metadata": {
        "id": "cad2c529"
      },
      "outputs": [],
      "source": [
        "test_val_splits = kde_dataset['train'].train_test_split(test_size=0.4, seed=42)\n",
        "train_split= test_val_splits['train']\n",
        "test_val_splits = test_val_splits['test'].train_test_split(test_size=0.5, seed=42,)\n",
        "val_split = test_val_splits['train']\n",
        "test_split = test_val_splits['test']"
      ]
    },
    {
      "cell_type": "markdown",
      "id": "1c218da1",
      "metadata": {
        "id": "1c218da1"
      },
      "source": [
        "## <font color = 'indianred'> **Create small subset for experimentation** </font>\n"
      ]
    },
    {
      "cell_type": "code",
      "execution_count": 23,
      "id": "8fe7f33f",
      "metadata": {
        "id": "8fe7f33f"
      },
      "outputs": [],
      "source": [
        "train_split_small = train_split.shuffle(seed=42).select(range(1000))\n",
        "val_split_small = val_split.shuffle(seed=42).select(range(500))\n",
        "test_split_small = test_split.shuffle(seed=42).select(range(500))"
      ]
    },
    {
      "cell_type": "code",
      "execution_count": 24,
      "id": "6f65f3c9",
      "metadata": {
        "id": "6f65f3c9"
      },
      "outputs": [],
      "source": [
        "# combine train, val splits into one dataset\n",
        "train_val_subset = DatasetDict({'train': train_split_small, 'val': val_split_small})\n",
        "\n",
        "# create test dataset from test split\n",
        "test_subset= DatasetDict({'test': test_split_small})"
      ]
    },
    {
      "cell_type": "code",
      "execution_count": 25,
      "id": "d227581a",
      "metadata": {
        "id": "d227581a",
        "outputId": "cfe9616a-0f6b-4563-f774-3f49dc44ba8c",
        "colab": {
          "base_uri": "https://localhost:8080/"
        }
      },
      "outputs": [
        {
          "output_type": "execute_result",
          "data": {
            "text/plain": [
              "DatasetDict({\n",
              "    train: Dataset({\n",
              "        features: ['id', 'translation'],\n",
              "        num_rows: 1000\n",
              "    })\n",
              "    val: Dataset({\n",
              "        features: ['id', 'translation'],\n",
              "        num_rows: 500\n",
              "    })\n",
              "})"
            ]
          },
          "metadata": {},
          "execution_count": 25
        }
      ],
      "source": [
        "train_val_subset"
      ]
    },
    {
      "cell_type": "code",
      "execution_count": 26,
      "id": "bb339cb0",
      "metadata": {
        "id": "bb339cb0",
        "outputId": "2f018577-3b39-459f-92eb-88945795f167",
        "colab": {
          "base_uri": "https://localhost:8080/"
        }
      },
      "outputs": [
        {
          "output_type": "execute_result",
          "data": {
            "text/plain": [
              "DatasetDict({\n",
              "    test: Dataset({\n",
              "        features: ['id', 'translation'],\n",
              "        num_rows: 500\n",
              "    })\n",
              "})"
            ]
          },
          "metadata": {},
          "execution_count": 26
        }
      ],
      "source": [
        "test_subset"
      ]
    },
    {
      "cell_type": "code",
      "execution_count": 27,
      "id": "6kr8t1JZRgbY",
      "metadata": {
        "colab": {
          "base_uri": "https://localhost:8080/"
        },
        "id": "6kr8t1JZRgbY",
        "outputId": "373cf0a3-8b0a-4cf7-ea43-23515f4a814c"
      },
      "outputs": [
        {
          "output_type": "execute_result",
          "data": {
            "text/plain": [
              "{'en': 'Upper Window: View on Printers, both Real and Virtual',\n",
              " 'fr': \"Fenêtre supérieure & #160;: Vue de l'ensemble des imprimantes, réelles et virtuelles\"}"
            ]
          },
          "metadata": {},
          "execution_count": 27
        }
      ],
      "source": [
        "train_val_subset[\"train\"][\"translation\"][1]\n"
      ]
    },
    {
      "cell_type": "markdown",
      "id": "150ee1e9-7371-40b1-a526-30ec37cf0654",
      "metadata": {
        "id": "150ee1e9-7371-40b1-a526-30ec37cf0654"
      },
      "source": [
        "## <font color = 'pickle'> **Tokenization**</font>"
      ]
    },
    {
      "cell_type": "markdown",
      "id": "c7b02690-50f7-49bf-aab4-85dbbb21d182",
      "metadata": {
        "execution": {
          "iopub.execute_input": "2022-12-20T11:21:48.647438Z",
          "iopub.status.busy": "2022-12-20T11:21:48.646659Z",
          "iopub.status.idle": "2022-12-20T11:21:48.690232Z",
          "shell.execute_reply": "2022-12-20T11:21:48.689729Z",
          "shell.execute_reply.started": "2022-12-20T11:21:48.647414Z"
        },
        "id": "c7b02690-50f7-49bf-aab4-85dbbb21d182",
        "tags": []
      },
      "source": [
        "###  <font color = 'pickle'> **Load pre-trained Tokenizer** </font>"
      ]
    },
    {
      "cell_type": "code",
      "execution_count": 28,
      "id": "hzUiqZR6hI4o",
      "metadata": {
        "execution": {
          "iopub.execute_input": "2022-12-23T23:14:07.903271Z",
          "iopub.status.busy": "2022-12-23T23:14:07.902958Z",
          "iopub.status.idle": "2022-12-23T23:14:07.955695Z",
          "shell.execute_reply": "2022-12-23T23:14:07.955154Z",
          "shell.execute_reply.started": "2022-12-23T23:14:07.903251Z"
        },
        "id": "hzUiqZR6hI4o",
        "tags": [],
        "colab": {
          "base_uri": "https://localhost:8080/"
        },
        "outputId": "2fdf9cec-5824-4188-ea34-ffcaa3a87ca7"
      },
      "outputs": [
        {
          "output_type": "stream",
          "name": "stderr",
          "text": [
            "/usr/local/lib/python3.10/dist-packages/transformers/models/marian/tokenization_marian.py:197: UserWarning: Recommended: pip install sacremoses.\n",
            "  warnings.warn(\"Recommended: pip install sacremoses.\")\n"
          ]
        }
      ],
      "source": [
        "checkpoint = 'Helsinki-NLP/opus-mt-en-fr'\n",
        "tokenizer = AutoTokenizer.from_pretrained(checkpoint)\n"
      ]
    },
    {
      "cell_type": "code",
      "execution_count": 29,
      "id": "d5a8845f",
      "metadata": {
        "id": "d5a8845f"
      },
      "outputs": [],
      "source": [
        "# tokenizer??"
      ]
    },
    {
      "cell_type": "markdown",
      "id": "ed2a953f",
      "metadata": {
        "id": "ed2a953f"
      },
      "source": [
        "### <font color = 'pickle'> **Understanding tokenizer**</font>"
      ]
    },
    {
      "cell_type": "code",
      "execution_count": 30,
      "id": "xlLO16Hw4RT8",
      "metadata": {
        "id": "xlLO16Hw4RT8"
      },
      "outputs": [],
      "source": [
        "text = [\n",
        "    \"Upper Window: View on Printers, both Real and Virtual\",\n",
        "    \"Fenêtre supérieure & #160;: Vue de l'ensemble des imprimantes, réelles et virtuelles\",\n",
        "]\n"
      ]
    },
    {
      "cell_type": "code",
      "execution_count": 31,
      "id": "Zo5rGIzl4U0o",
      "metadata": {
        "colab": {
          "base_uri": "https://localhost:8080/"
        },
        "id": "Zo5rGIzl4U0o",
        "outputId": "5d5cf63c-5c69-42db-b940-dd589c6eedaa"
      },
      "outputs": [
        {
          "output_type": "stream",
          "name": "stdout",
          "text": [
            "Pretrained tokenizer vocab size 59514\n"
          ]
        }
      ],
      "source": [
        "# get the vocab size\n",
        "print(f\"Pretrained tokenizer vocab size {tokenizer.vocab_size}\")\n"
      ]
    },
    {
      "cell_type": "code",
      "execution_count": 32,
      "id": "DzYDSjI24Xrj",
      "metadata": {
        "id": "DzYDSjI24Xrj"
      },
      "outputs": [],
      "source": [
        "encoded_text = tokenizer(\n",
        "    text, padding=True, truncation=True, return_tensors=\"pt\")\n"
      ]
    },
    {
      "cell_type": "code",
      "execution_count": 33,
      "id": "ahtRu3hf4a4D",
      "metadata": {
        "colab": {
          "base_uri": "https://localhost:8080/"
        },
        "id": "ahtRu3hf4a4D",
        "outputId": "4be65a13-b65c-4d56-8a8e-a3122f6ccb17"
      },
      "outputs": [
        {
          "output_type": "execute_result",
          "data": {
            "text/plain": [
              "{'input_ids': tensor([[21364, 38007,    37,  3689,    30, 36712,     9,     2,   533,  7770,\n",
              "            10, 21821,     0, 59513, 59513, 59513, 59513, 59513, 59513, 59513,\n",
              "         59513, 59513, 59513, 59513, 59513, 59513, 59513, 59513, 59513, 59513,\n",
              "         59513, 59513],\n",
              "        [37412,   501,    62,   746, 32076,  1935,   402, 30362,  2069,    50,\n",
              "            37,   461,  3773,     5,    14,     6,  8409,   122,  4995,    13,\n",
              "          3497, 11585,  3172,     9,     2,   906,  1295,    11, 13747,   477,\n",
              "           114,     0]]), 'attention_mask': tensor([[1, 1, 1, 1, 1, 1, 1, 1, 1, 1, 1, 1, 1, 0, 0, 0, 0, 0, 0, 0, 0, 0, 0, 0,\n",
              "         0, 0, 0, 0, 0, 0, 0, 0],\n",
              "        [1, 1, 1, 1, 1, 1, 1, 1, 1, 1, 1, 1, 1, 1, 1, 1, 1, 1, 1, 1, 1, 1, 1, 1,\n",
              "         1, 1, 1, 1, 1, 1, 1, 1]])}"
            ]
          },
          "metadata": {},
          "execution_count": 33
        }
      ],
      "source": [
        "encoded_text\n"
      ]
    },
    {
      "cell_type": "code",
      "execution_count": 34,
      "id": "j5PPyJuM4ezx",
      "metadata": {
        "colab": {
          "base_uri": "https://localhost:8080/"
        },
        "id": "j5PPyJuM4ezx",
        "outputId": "90e4b036-729e-4bde-b05e-2924fa8b2bc8"
      },
      "outputs": [
        {
          "output_type": "stream",
          "name": "stdout",
          "text": [
            "['▁Upper', '▁Window', ':', '▁View', '▁on', '▁Printer', 's', ',', '▁both', '▁Real', '▁and', '▁Virtual', '</s>', '<pad>', '<pad>', '<pad>', '<pad>', '<pad>', '<pad>', '<pad>', '<pad>', '<pad>', '<pad>', '<pad>', '<pad>', '<pad>', '<pad>', '<pad>', '<pad>', '<pad>', '<pad>', '<pad>']\n",
            "['▁Fen', 'être', '▁s', 'up', 'érie', 'ure', '▁&', '▁#1', '60', ';', ':', '▁V', 'ue', '▁de', '▁l', \"'\", 'ense', 'm', 'ble', '▁des', '▁imp', 'rim', 'ante', 's', ',', '▁ré', 'elles', '▁et', '▁virtue', 'll', 'es', '</s>']\n"
          ]
        }
      ],
      "source": [
        "tokens_first_sentence = tokenizer.convert_ids_to_tokens(\n",
        "    encoded_text.input_ids[0])\n",
        "tokens_second_sentence = tokenizer.convert_ids_to_tokens(\n",
        "    encoded_text.input_ids[1])\n",
        "\n",
        "print(tokens_first_sentence)\n",
        "print(tokens_second_sentence)\n"
      ]
    },
    {
      "cell_type": "code",
      "execution_count": 35,
      "id": "CKHRrsRg4idW",
      "metadata": {
        "colab": {
          "base_uri": "https://localhost:8080/",
          "height": 53
        },
        "id": "CKHRrsRg4idW",
        "outputId": "ab3ccdd9-6122-4b8a-91aa-bf302b6fa574"
      },
      "outputs": [
        {
          "output_type": "execute_result",
          "data": {
            "text/plain": [
              "'Upper Window: View on Printers, both Real and Virtual</s> <pad> <pad> <pad> <pad> <pad> <pad> <pad> <pad> <pad> <pad> <pad> <pad> <pad> <pad> <pad> <pad> <pad> <pad> <pad>'"
            ],
            "application/vnd.google.colaboratory.intrinsic+json": {
              "type": "string"
            }
          },
          "metadata": {},
          "execution_count": 35
        }
      ],
      "source": [
        "tokenizer.convert_tokens_to_string(tokens_first_sentence)\n"
      ]
    },
    {
      "cell_type": "code",
      "execution_count": 36,
      "id": "2905b25b",
      "metadata": {
        "id": "2905b25b",
        "outputId": "53fc7594-66b4-4aed-8693-d5c8d854986e",
        "colab": {
          "base_uri": "https://localhost:8080/",
          "height": 35
        }
      },
      "outputs": [
        {
          "output_type": "execute_result",
          "data": {
            "text/plain": [
              "\"Fenêtre supérieure & #160;: Vue de l'ensemble des imprimantes, réelles et virtuelles</s>\""
            ],
            "application/vnd.google.colaboratory.intrinsic+json": {
              "type": "string"
            }
          },
          "metadata": {},
          "execution_count": 36
        }
      ],
      "source": [
        "tokenizer.convert_tokens_to_string(tokens_second_sentence)"
      ]
    },
    {
      "cell_type": "code",
      "execution_count": 37,
      "id": "N47N0Anu4xKZ",
      "metadata": {
        "id": "N47N0Anu4xKZ"
      },
      "outputs": [],
      "source": [
        "special_tokens = tokenizer.all_special_tokens\n",
        "special_tokens_ids = tokenizer.all_special_ids\n"
      ]
    },
    {
      "cell_type": "code",
      "execution_count": 38,
      "id": "9rdg76Sg4_dp",
      "metadata": {
        "id": "9rdg76Sg4_dp"
      },
      "outputs": [],
      "source": [
        "import pandas as pd\n"
      ]
    },
    {
      "cell_type": "code",
      "execution_count": 39,
      "id": "cTD7pzTk5CjO",
      "metadata": {
        "id": "cTD7pzTk5CjO"
      },
      "outputs": [],
      "source": [
        "df = pd.DataFrame(\n",
        "    {\"special_tokens\": special_tokens, \"special_tokens_ids\": special_tokens_ids}\n",
        ")\n"
      ]
    },
    {
      "cell_type": "code",
      "execution_count": 40,
      "id": "1135806d",
      "metadata": {
        "id": "1135806d"
      },
      "outputs": [],
      "source": [
        "pd.set_option(\"display.max_rows\", None)\n"
      ]
    },
    {
      "cell_type": "code",
      "execution_count": 41,
      "id": "95fcb2e2",
      "metadata": {
        "id": "95fcb2e2",
        "outputId": "5a904937-cd1d-46c5-e3fb-529440ba2a1a",
        "colab": {
          "base_uri": "https://localhost:8080/",
          "height": 143
        }
      },
      "outputs": [
        {
          "output_type": "execute_result",
          "data": {
            "text/plain": [
              "  special_tokens  special_tokens_ids\n",
              "0           </s>                   0\n",
              "1          <unk>                   1\n",
              "2          <pad>               59513"
            ],
            "text/html": [
              "\n",
              "  <div id=\"df-4e2beb81-e26e-4bc1-9cd6-3ae06cd9a89c\" class=\"colab-df-container\">\n",
              "    <div>\n",
              "<style scoped>\n",
              "    .dataframe tbody tr th:only-of-type {\n",
              "        vertical-align: middle;\n",
              "    }\n",
              "\n",
              "    .dataframe tbody tr th {\n",
              "        vertical-align: top;\n",
              "    }\n",
              "\n",
              "    .dataframe thead th {\n",
              "        text-align: right;\n",
              "    }\n",
              "</style>\n",
              "<table border=\"1\" class=\"dataframe\">\n",
              "  <thead>\n",
              "    <tr style=\"text-align: right;\">\n",
              "      <th></th>\n",
              "      <th>special_tokens</th>\n",
              "      <th>special_tokens_ids</th>\n",
              "    </tr>\n",
              "  </thead>\n",
              "  <tbody>\n",
              "    <tr>\n",
              "      <th>0</th>\n",
              "      <td>&lt;/s&gt;</td>\n",
              "      <td>0</td>\n",
              "    </tr>\n",
              "    <tr>\n",
              "      <th>1</th>\n",
              "      <td>&lt;unk&gt;</td>\n",
              "      <td>1</td>\n",
              "    </tr>\n",
              "    <tr>\n",
              "      <th>2</th>\n",
              "      <td>&lt;pad&gt;</td>\n",
              "      <td>59513</td>\n",
              "    </tr>\n",
              "  </tbody>\n",
              "</table>\n",
              "</div>\n",
              "    <div class=\"colab-df-buttons\">\n",
              "\n",
              "  <div class=\"colab-df-container\">\n",
              "    <button class=\"colab-df-convert\" onclick=\"convertToInteractive('df-4e2beb81-e26e-4bc1-9cd6-3ae06cd9a89c')\"\n",
              "            title=\"Convert this dataframe to an interactive table.\"\n",
              "            style=\"display:none;\">\n",
              "\n",
              "  <svg xmlns=\"http://www.w3.org/2000/svg\" height=\"24px\" viewBox=\"0 -960 960 960\">\n",
              "    <path d=\"M120-120v-720h720v720H120Zm60-500h600v-160H180v160Zm220 220h160v-160H400v160Zm0 220h160v-160H400v160ZM180-400h160v-160H180v160Zm440 0h160v-160H620v160ZM180-180h160v-160H180v160Zm440 0h160v-160H620v160Z\"/>\n",
              "  </svg>\n",
              "    </button>\n",
              "\n",
              "  <style>\n",
              "    .colab-df-container {\n",
              "      display:flex;\n",
              "      gap: 12px;\n",
              "    }\n",
              "\n",
              "    .colab-df-convert {\n",
              "      background-color: #E8F0FE;\n",
              "      border: none;\n",
              "      border-radius: 50%;\n",
              "      cursor: pointer;\n",
              "      display: none;\n",
              "      fill: #1967D2;\n",
              "      height: 32px;\n",
              "      padding: 0 0 0 0;\n",
              "      width: 32px;\n",
              "    }\n",
              "\n",
              "    .colab-df-convert:hover {\n",
              "      background-color: #E2EBFA;\n",
              "      box-shadow: 0px 1px 2px rgba(60, 64, 67, 0.3), 0px 1px 3px 1px rgba(60, 64, 67, 0.15);\n",
              "      fill: #174EA6;\n",
              "    }\n",
              "\n",
              "    .colab-df-buttons div {\n",
              "      margin-bottom: 4px;\n",
              "    }\n",
              "\n",
              "    [theme=dark] .colab-df-convert {\n",
              "      background-color: #3B4455;\n",
              "      fill: #D2E3FC;\n",
              "    }\n",
              "\n",
              "    [theme=dark] .colab-df-convert:hover {\n",
              "      background-color: #434B5C;\n",
              "      box-shadow: 0px 1px 3px 1px rgba(0, 0, 0, 0.15);\n",
              "      filter: drop-shadow(0px 1px 2px rgba(0, 0, 0, 0.3));\n",
              "      fill: #FFFFFF;\n",
              "    }\n",
              "  </style>\n",
              "\n",
              "    <script>\n",
              "      const buttonEl =\n",
              "        document.querySelector('#df-4e2beb81-e26e-4bc1-9cd6-3ae06cd9a89c button.colab-df-convert');\n",
              "      buttonEl.style.display =\n",
              "        google.colab.kernel.accessAllowed ? 'block' : 'none';\n",
              "\n",
              "      async function convertToInteractive(key) {\n",
              "        const element = document.querySelector('#df-4e2beb81-e26e-4bc1-9cd6-3ae06cd9a89c');\n",
              "        const dataTable =\n",
              "          await google.colab.kernel.invokeFunction('convertToInteractive',\n",
              "                                                    [key], {});\n",
              "        if (!dataTable) return;\n",
              "\n",
              "        const docLinkHtml = 'Like what you see? Visit the ' +\n",
              "          '<a target=\"_blank\" href=https://colab.research.google.com/notebooks/data_table.ipynb>data table notebook</a>'\n",
              "          + ' to learn more about interactive tables.';\n",
              "        element.innerHTML = '';\n",
              "        dataTable['output_type'] = 'display_data';\n",
              "        await google.colab.output.renderOutput(dataTable, element);\n",
              "        const docLink = document.createElement('div');\n",
              "        docLink.innerHTML = docLinkHtml;\n",
              "        element.appendChild(docLink);\n",
              "      }\n",
              "    </script>\n",
              "  </div>\n",
              "\n",
              "\n",
              "<div id=\"df-f0f96339-cc2c-4ed0-bbab-90c732037438\">\n",
              "  <button class=\"colab-df-quickchart\" onclick=\"quickchart('df-f0f96339-cc2c-4ed0-bbab-90c732037438')\"\n",
              "            title=\"Suggest charts.\"\n",
              "            style=\"display:none;\">\n",
              "\n",
              "<svg xmlns=\"http://www.w3.org/2000/svg\" height=\"24px\"viewBox=\"0 0 24 24\"\n",
              "     width=\"24px\">\n",
              "    <g>\n",
              "        <path d=\"M19 3H5c-1.1 0-2 .9-2 2v14c0 1.1.9 2 2 2h14c1.1 0 2-.9 2-2V5c0-1.1-.9-2-2-2zM9 17H7v-7h2v7zm4 0h-2V7h2v10zm4 0h-2v-4h2v4z\"/>\n",
              "    </g>\n",
              "</svg>\n",
              "  </button>\n",
              "\n",
              "<style>\n",
              "  .colab-df-quickchart {\n",
              "      --bg-color: #E8F0FE;\n",
              "      --fill-color: #1967D2;\n",
              "      --hover-bg-color: #E2EBFA;\n",
              "      --hover-fill-color: #174EA6;\n",
              "      --disabled-fill-color: #AAA;\n",
              "      --disabled-bg-color: #DDD;\n",
              "  }\n",
              "\n",
              "  [theme=dark] .colab-df-quickchart {\n",
              "      --bg-color: #3B4455;\n",
              "      --fill-color: #D2E3FC;\n",
              "      --hover-bg-color: #434B5C;\n",
              "      --hover-fill-color: #FFFFFF;\n",
              "      --disabled-bg-color: #3B4455;\n",
              "      --disabled-fill-color: #666;\n",
              "  }\n",
              "\n",
              "  .colab-df-quickchart {\n",
              "    background-color: var(--bg-color);\n",
              "    border: none;\n",
              "    border-radius: 50%;\n",
              "    cursor: pointer;\n",
              "    display: none;\n",
              "    fill: var(--fill-color);\n",
              "    height: 32px;\n",
              "    padding: 0;\n",
              "    width: 32px;\n",
              "  }\n",
              "\n",
              "  .colab-df-quickchart:hover {\n",
              "    background-color: var(--hover-bg-color);\n",
              "    box-shadow: 0 1px 2px rgba(60, 64, 67, 0.3), 0 1px 3px 1px rgba(60, 64, 67, 0.15);\n",
              "    fill: var(--button-hover-fill-color);\n",
              "  }\n",
              "\n",
              "  .colab-df-quickchart-complete:disabled,\n",
              "  .colab-df-quickchart-complete:disabled:hover {\n",
              "    background-color: var(--disabled-bg-color);\n",
              "    fill: var(--disabled-fill-color);\n",
              "    box-shadow: none;\n",
              "  }\n",
              "\n",
              "  .colab-df-spinner {\n",
              "    border: 2px solid var(--fill-color);\n",
              "    border-color: transparent;\n",
              "    border-bottom-color: var(--fill-color);\n",
              "    animation:\n",
              "      spin 1s steps(1) infinite;\n",
              "  }\n",
              "\n",
              "  @keyframes spin {\n",
              "    0% {\n",
              "      border-color: transparent;\n",
              "      border-bottom-color: var(--fill-color);\n",
              "      border-left-color: var(--fill-color);\n",
              "    }\n",
              "    20% {\n",
              "      border-color: transparent;\n",
              "      border-left-color: var(--fill-color);\n",
              "      border-top-color: var(--fill-color);\n",
              "    }\n",
              "    30% {\n",
              "      border-color: transparent;\n",
              "      border-left-color: var(--fill-color);\n",
              "      border-top-color: var(--fill-color);\n",
              "      border-right-color: var(--fill-color);\n",
              "    }\n",
              "    40% {\n",
              "      border-color: transparent;\n",
              "      border-right-color: var(--fill-color);\n",
              "      border-top-color: var(--fill-color);\n",
              "    }\n",
              "    60% {\n",
              "      border-color: transparent;\n",
              "      border-right-color: var(--fill-color);\n",
              "    }\n",
              "    80% {\n",
              "      border-color: transparent;\n",
              "      border-right-color: var(--fill-color);\n",
              "      border-bottom-color: var(--fill-color);\n",
              "    }\n",
              "    90% {\n",
              "      border-color: transparent;\n",
              "      border-bottom-color: var(--fill-color);\n",
              "    }\n",
              "  }\n",
              "</style>\n",
              "\n",
              "  <script>\n",
              "    async function quickchart(key) {\n",
              "      const quickchartButtonEl =\n",
              "        document.querySelector('#' + key + ' button');\n",
              "      quickchartButtonEl.disabled = true;  // To prevent multiple clicks.\n",
              "      quickchartButtonEl.classList.add('colab-df-spinner');\n",
              "      try {\n",
              "        const charts = await google.colab.kernel.invokeFunction(\n",
              "            'suggestCharts', [key], {});\n",
              "      } catch (error) {\n",
              "        console.error('Error during call to suggestCharts:', error);\n",
              "      }\n",
              "      quickchartButtonEl.classList.remove('colab-df-spinner');\n",
              "      quickchartButtonEl.classList.add('colab-df-quickchart-complete');\n",
              "    }\n",
              "    (() => {\n",
              "      let quickchartButtonEl =\n",
              "        document.querySelector('#df-f0f96339-cc2c-4ed0-bbab-90c732037438 button');\n",
              "      quickchartButtonEl.style.display =\n",
              "        google.colab.kernel.accessAllowed ? 'block' : 'none';\n",
              "    })();\n",
              "  </script>\n",
              "</div>\n",
              "\n",
              "  <div id=\"id_ce123dd5-38cc-4b86-b1f6-dd1898a8dd41\">\n",
              "    <style>\n",
              "      .colab-df-generate {\n",
              "        background-color: #E8F0FE;\n",
              "        border: none;\n",
              "        border-radius: 50%;\n",
              "        cursor: pointer;\n",
              "        display: none;\n",
              "        fill: #1967D2;\n",
              "        height: 32px;\n",
              "        padding: 0 0 0 0;\n",
              "        width: 32px;\n",
              "      }\n",
              "\n",
              "      .colab-df-generate:hover {\n",
              "        background-color: #E2EBFA;\n",
              "        box-shadow: 0px 1px 2px rgba(60, 64, 67, 0.3), 0px 1px 3px 1px rgba(60, 64, 67, 0.15);\n",
              "        fill: #174EA6;\n",
              "      }\n",
              "\n",
              "      [theme=dark] .colab-df-generate {\n",
              "        background-color: #3B4455;\n",
              "        fill: #D2E3FC;\n",
              "      }\n",
              "\n",
              "      [theme=dark] .colab-df-generate:hover {\n",
              "        background-color: #434B5C;\n",
              "        box-shadow: 0px 1px 3px 1px rgba(0, 0, 0, 0.15);\n",
              "        filter: drop-shadow(0px 1px 2px rgba(0, 0, 0, 0.3));\n",
              "        fill: #FFFFFF;\n",
              "      }\n",
              "    </style>\n",
              "    <button class=\"colab-df-generate\" onclick=\"generateWithVariable('df')\"\n",
              "            title=\"Generate code using this dataframe.\"\n",
              "            style=\"display:none;\">\n",
              "\n",
              "  <svg xmlns=\"http://www.w3.org/2000/svg\" height=\"24px\"viewBox=\"0 0 24 24\"\n",
              "       width=\"24px\">\n",
              "    <path d=\"M7,19H8.4L18.45,9,17,7.55,7,17.6ZM5,21V16.75L18.45,3.32a2,2,0,0,1,2.83,0l1.4,1.43a1.91,1.91,0,0,1,.58,1.4,1.91,1.91,0,0,1-.58,1.4L9.25,21ZM18.45,9,17,7.55Zm-12,3A5.31,5.31,0,0,0,4.9,8.1,5.31,5.31,0,0,0,1,6.5,5.31,5.31,0,0,0,4.9,4.9,5.31,5.31,0,0,0,6.5,1,5.31,5.31,0,0,0,8.1,4.9,5.31,5.31,0,0,0,12,6.5,5.46,5.46,0,0,0,6.5,12Z\"/>\n",
              "  </svg>\n",
              "    </button>\n",
              "    <script>\n",
              "      (() => {\n",
              "      const buttonEl =\n",
              "        document.querySelector('#id_ce123dd5-38cc-4b86-b1f6-dd1898a8dd41 button.colab-df-generate');\n",
              "      buttonEl.style.display =\n",
              "        google.colab.kernel.accessAllowed ? 'block' : 'none';\n",
              "\n",
              "      buttonEl.onclick = () => {\n",
              "        google.colab.notebook.generateWithVariable('df');\n",
              "      }\n",
              "      })();\n",
              "    </script>\n",
              "  </div>\n",
              "\n",
              "    </div>\n",
              "  </div>\n"
            ]
          },
          "metadata": {},
          "execution_count": 41
        }
      ],
      "source": [
        "df\n"
      ]
    },
    {
      "cell_type": "markdown",
      "id": "2b4ce3b9-904f-42bd-9c3f-163328f47051",
      "metadata": {
        "execution": {
          "iopub.execute_input": "2022-12-20T11:22:33.679936Z",
          "iopub.status.busy": "2022-12-20T11:22:33.679764Z",
          "iopub.status.idle": "2022-12-20T11:22:33.723366Z",
          "shell.execute_reply": "2022-12-20T11:22:33.722847Z",
          "shell.execute_reply.started": "2022-12-20T11:22:33.679918Z"
        },
        "id": "2b4ce3b9-904f-42bd-9c3f-163328f47051"
      },
      "source": [
        "###  <font color = 'pickle'> **Create function for Tokenizer**"
      ]
    },
    {
      "cell_type": "code",
      "execution_count": 43,
      "id": "8bAD2dsXhvAA",
      "metadata": {
        "execution": {
          "iopub.execute_input": "2022-12-23T23:14:12.134855Z",
          "iopub.status.busy": "2022-12-23T23:14:12.134613Z",
          "iopub.status.idle": "2022-12-23T23:14:12.186484Z",
          "shell.execute_reply": "2022-12-23T23:14:12.185866Z",
          "shell.execute_reply.started": "2022-12-23T23:14:12.134828Z"
        },
        "id": "8bAD2dsXhvAA",
        "tags": []
      },
      "outputs": [],
      "source": [
        "# we do not need to add padding\n",
        "# padding and conversion to Pytorch Tensor is handled by the data collators\n",
        "# in more efficient manner\n",
        "\n",
        "max_length = 128\n",
        "def tokenize_fn(batch):\n",
        "    inputs = [example['en'] for example in batch['translation']]\n",
        "    targets = [example['fr'] for example in batch['translation']]\n",
        "    model_inputs = tokenizer(text = inputs, text_target=targets, truncation = True, max_length=max_length)\n",
        "    return model_inputs\n",
        "    # CODE HERE\n",
        "\n"
      ]
    },
    {
      "cell_type": "markdown",
      "id": "1f09c889-c3fd-4b12-a544-0772594a3899",
      "metadata": {
        "id": "1f09c889-c3fd-4b12-a544-0772594a3899"
      },
      "source": [
        "###  <font color = 'pickle'> **Use map function to apply tokenization to all splits**"
      ]
    },
    {
      "cell_type": "code",
      "execution_count": 44,
      "id": "cc8399c4",
      "metadata": {
        "id": "cc8399c4",
        "colab": {
          "base_uri": "https://localhost:8080/",
          "height": 81,
          "referenced_widgets": [
            "c2432932b5864a5eaedb34fe2bef849c",
            "855745dc42614a3fa1c79a78c13d4007",
            "b18f974df5ec47bc881cb9688d33b5c5",
            "be369172d4f64a8cad4c67f9b070bde0",
            "ed564e15108d412ebe5b105c459217fa",
            "5867fed10bfd4fb491cdba242f1af004",
            "b9763f88dea74c8fa8d3d153436b5cd5",
            "7ac66e6febcd4d6ab880dae759c35893",
            "836e2425c76d49ba823872e22a89daa8",
            "692981bd5b0f49d7bb8c56c436d6ea25",
            "447f5584f115416587a7d493b83a599a",
            "54d103718dc7454d9999edaa60856e72",
            "86cff9cdcff04b549aa3668a779ea528",
            "c831c676ee5149d6a1e84b5d17e8a246",
            "c39806258534428183bb909ab3cd2e1c",
            "1b69e5a1b8e54f86b540f616383fe8ad",
            "8b47798616274d40ab6a9dee51009e12",
            "3c4875e76f31475891756e0b3f7bf74a",
            "7a254aa841874632aa39f829eb80f48b",
            "f93c21e83d38469b92cb16fbd79ea5c9",
            "44dbc4ab3a0244689a193555ec772364",
            "9ae88c27995f4f8094cea7241c072133"
          ]
        },
        "outputId": "00a85e74-d4c6-44a2-8b92-b8e3c9bca631"
      },
      "outputs": [
        {
          "output_type": "display_data",
          "data": {
            "text/plain": [
              "Map:   0%|          | 0/1000 [00:00<?, ? examples/s]"
            ],
            "application/vnd.jupyter.widget-view+json": {
              "version_major": 2,
              "version_minor": 0,
              "model_id": "c2432932b5864a5eaedb34fe2bef849c"
            }
          },
          "metadata": {}
        },
        {
          "output_type": "display_data",
          "data": {
            "text/plain": [
              "Map:   0%|          | 0/500 [00:00<?, ? examples/s]"
            ],
            "application/vnd.jupyter.widget-view+json": {
              "version_major": 2,
              "version_minor": 0,
              "model_id": "54d103718dc7454d9999edaa60856e72"
            }
          },
          "metadata": {}
        }
      ],
      "source": [
        "tokenized_dataset = train_val_subset.map(tokenize_fn,\n",
        "                              batched = True,\n",
        "                              remove_columns=train_val_subset['train'].column_names)"
      ]
    },
    {
      "cell_type": "code",
      "execution_count": 45,
      "id": "ET6ioH_-iCW2",
      "metadata": {
        "execution": {
          "iopub.execute_input": "2022-12-23T23:14:13.918317Z",
          "iopub.status.busy": "2022-12-23T23:14:13.917908Z",
          "iopub.status.idle": "2022-12-23T23:14:15.785940Z",
          "shell.execute_reply": "2022-12-23T23:14:15.785447Z",
          "shell.execute_reply.started": "2022-12-23T23:14:13.918288Z"
        },
        "id": "ET6ioH_-iCW2",
        "tags": []
      },
      "outputs": [],
      "source": [
        "tokenized_dataset.set_format(type=\"torch\")\n"
      ]
    },
    {
      "cell_type": "code",
      "execution_count": 46,
      "id": "a77b25cc",
      "metadata": {
        "colab": {
          "base_uri": "https://localhost:8080/"
        },
        "id": "a77b25cc",
        "outputId": "370e6e7e-d593-47cf-ccbc-6d9c44b40791"
      },
      "outputs": [
        {
          "output_type": "execute_result",
          "data": {
            "text/plain": [
              "DatasetDict({\n",
              "    train: Dataset({\n",
              "        features: ['input_ids', 'attention_mask', 'labels'],\n",
              "        num_rows: 1000\n",
              "    })\n",
              "    val: Dataset({\n",
              "        features: ['input_ids', 'attention_mask', 'labels'],\n",
              "        num_rows: 500\n",
              "    })\n",
              "})"
            ]
          },
          "metadata": {},
          "execution_count": 46
        }
      ],
      "source": [
        "tokenized_dataset\n"
      ]
    },
    {
      "cell_type": "code",
      "execution_count": 47,
      "id": "-_TRU1OOO5PC",
      "metadata": {
        "colab": {
          "base_uri": "https://localhost:8080/"
        },
        "id": "-_TRU1OOO5PC",
        "outputId": "1e710cdf-8003-4aa2-c67c-8f29bb17b4c6"
      },
      "outputs": [
        {
          "output_type": "execute_result",
          "data": {
            "text/plain": [
              "{'input_ids': Sequence(feature=Value(dtype='int32', id=None), length=-1, id=None),\n",
              " 'attention_mask': Sequence(feature=Value(dtype='int8', id=None), length=-1, id=None),\n",
              " 'labels': Sequence(feature=Value(dtype='int64', id=None), length=-1, id=None)}"
            ]
          },
          "metadata": {},
          "execution_count": 47
        }
      ],
      "source": [
        "tokenized_dataset[\"train\"].features\n"
      ]
    },
    {
      "cell_type": "code",
      "execution_count": 48,
      "id": "TH3iX2Q0w9wG",
      "metadata": {
        "colab": {
          "base_uri": "https://localhost:8080/"
        },
        "id": "TH3iX2Q0w9wG",
        "outputId": "94692577-f875-4a65-cfb1-316d1b8e4e9f"
      },
      "outputs": [
        {
          "output_type": "stream",
          "name": "stdout",
          "text": [
            "2\n",
            "13\n"
          ]
        }
      ],
      "source": [
        "print(len(tokenized_dataset[\"train\"][\"input_ids\"][2]))\n",
        "print(len(tokenized_dataset[\"train\"][\"input_ids\"][1]))\n"
      ]
    },
    {
      "cell_type": "code",
      "execution_count": 49,
      "id": "c126671b",
      "metadata": {
        "colab": {
          "base_uri": "https://localhost:8080/"
        },
        "id": "c126671b",
        "outputId": "a3d745c8-36fc-43d5-9c50-01324b88ab5f"
      },
      "outputs": [
        {
          "output_type": "stream",
          "name": "stdout",
          "text": [
            "['▁I', 'dent', 'ifier', ':', '</s>']\n"
          ]
        }
      ],
      "source": [
        "print(\n",
        "    tokenizer.convert_ids_to_tokens(\n",
        "        tokenized_dataset[\"train\"][\"input_ids\"][0][0:10]\n",
        "    )\n",
        ")\n"
      ]
    },
    {
      "cell_type": "code",
      "execution_count": 50,
      "id": "06350b7c",
      "metadata": {
        "colab": {
          "base_uri": "https://localhost:8080/"
        },
        "id": "06350b7c",
        "outputId": "6c3e7be2-4a17-426e-efe8-eba974aa2979"
      },
      "outputs": [
        {
          "output_type": "stream",
          "name": "stdout",
          "text": [
            "['▁Identifiant', '▁&', '▁#160;:', '</s>']\n"
          ]
        }
      ],
      "source": [
        "print(\n",
        "    tokenizer.convert_ids_to_tokens(\n",
        "        tokenized_dataset[\"train\"][\"labels\"][0][0:10])\n",
        ")\n"
      ]
    },
    {
      "cell_type": "markdown",
      "id": "O7-5sm2uBTN_",
      "metadata": {
        "id": "O7-5sm2uBTN_"
      },
      "source": [
        "#  <font color = 'pickle'> **Model Training**"
      ]
    },
    {
      "cell_type": "markdown",
      "id": "e15e2ca6-cfbf-46c0-bf81-ec65a9258567",
      "metadata": {
        "execution": {
          "iopub.execute_input": "2022-12-05T21:57:04.735277Z",
          "iopub.status.busy": "2022-12-05T21:57:04.735041Z",
          "iopub.status.idle": "2022-12-05T21:57:04.738230Z",
          "shell.execute_reply": "2022-12-05T21:57:04.737909Z",
          "shell.execute_reply.started": "2022-12-05T21:57:04.735252Z"
        },
        "id": "e15e2ca6-cfbf-46c0-bf81-ec65a9258567"
      },
      "source": [
        "##  <font color = 'pickle'> **Model Config File**</font>\n",
        "\n"
      ]
    },
    {
      "cell_type": "code",
      "execution_count": 51,
      "id": "02d5e0eb-ac4c-4593-946c-3e33a4e2a82e",
      "metadata": {
        "execution": {
          "iopub.execute_input": "2022-12-23T23:14:20.554756Z",
          "iopub.status.busy": "2022-12-23T23:14:20.554518Z",
          "iopub.status.idle": "2022-12-23T23:14:20.770843Z",
          "shell.execute_reply": "2022-12-23T23:14:20.770018Z",
          "shell.execute_reply.started": "2022-12-23T23:14:20.554730Z"
        },
        "id": "02d5e0eb-ac4c-4593-946c-3e33a4e2a82e",
        "tags": []
      },
      "outputs": [],
      "source": [
        "config = AutoConfig.from_pretrained(checkpoint)"
      ]
    },
    {
      "cell_type": "code",
      "execution_count": 52,
      "id": "f2c1efa2",
      "metadata": {
        "colab": {
          "base_uri": "https://localhost:8080/"
        },
        "id": "f2c1efa2",
        "outputId": "f6547ff2-7c63-4a57-9e13-80b76e610f96"
      },
      "outputs": [
        {
          "output_type": "execute_result",
          "data": {
            "text/plain": [
              "MarianConfig {\n",
              "  \"_name_or_path\": \"Helsinki-NLP/opus-mt-en-fr\",\n",
              "  \"_num_labels\": 3,\n",
              "  \"activation_dropout\": 0.0,\n",
              "  \"activation_function\": \"swish\",\n",
              "  \"add_bias_logits\": false,\n",
              "  \"add_final_layer_norm\": false,\n",
              "  \"architectures\": [\n",
              "    \"MarianMTModel\"\n",
              "  ],\n",
              "  \"attention_dropout\": 0.0,\n",
              "  \"bad_words_ids\": [\n",
              "    [\n",
              "      59513\n",
              "    ]\n",
              "  ],\n",
              "  \"bos_token_id\": 0,\n",
              "  \"classif_dropout\": 0.0,\n",
              "  \"classifier_dropout\": 0.0,\n",
              "  \"d_model\": 512,\n",
              "  \"decoder_attention_heads\": 8,\n",
              "  \"decoder_ffn_dim\": 2048,\n",
              "  \"decoder_layerdrop\": 0.0,\n",
              "  \"decoder_layers\": 6,\n",
              "  \"decoder_start_token_id\": 59513,\n",
              "  \"decoder_vocab_size\": 59514,\n",
              "  \"dropout\": 0.1,\n",
              "  \"encoder_attention_heads\": 8,\n",
              "  \"encoder_ffn_dim\": 2048,\n",
              "  \"encoder_layerdrop\": 0.0,\n",
              "  \"encoder_layers\": 6,\n",
              "  \"eos_token_id\": 0,\n",
              "  \"forced_eos_token_id\": 0,\n",
              "  \"gradient_checkpointing\": false,\n",
              "  \"id2label\": {\n",
              "    \"0\": \"LABEL_0\",\n",
              "    \"1\": \"LABEL_1\",\n",
              "    \"2\": \"LABEL_2\"\n",
              "  },\n",
              "  \"init_std\": 0.02,\n",
              "  \"is_encoder_decoder\": true,\n",
              "  \"label2id\": {\n",
              "    \"LABEL_0\": 0,\n",
              "    \"LABEL_1\": 1,\n",
              "    \"LABEL_2\": 2\n",
              "  },\n",
              "  \"max_length\": 512,\n",
              "  \"max_position_embeddings\": 512,\n",
              "  \"model_type\": \"marian\",\n",
              "  \"normalize_before\": false,\n",
              "  \"normalize_embedding\": false,\n",
              "  \"num_beams\": 4,\n",
              "  \"num_hidden_layers\": 6,\n",
              "  \"pad_token_id\": 59513,\n",
              "  \"scale_embedding\": true,\n",
              "  \"share_encoder_decoder_embeddings\": true,\n",
              "  \"static_position_embeddings\": true,\n",
              "  \"transformers_version\": \"4.34.1\",\n",
              "  \"use_cache\": true,\n",
              "  \"vocab_size\": 59514\n",
              "}"
            ]
          },
          "metadata": {},
          "execution_count": 52
        }
      ],
      "source": [
        "config"
      ]
    },
    {
      "cell_type": "code",
      "execution_count": 53,
      "id": "848a0a21",
      "metadata": {
        "id": "848a0a21",
        "colab": {
          "base_uri": "https://localhost:8080/",
          "height": 49,
          "referenced_widgets": [
            "5f9398cbcd89473e8a6e2941025c2110",
            "287f6e0c67ee4599af3a77dbc6ceb88f",
            "6860b86b4bec4676ad3234bf975e939f",
            "c91503f605ca48ecadf53479dc140107",
            "1d40e0fc1ee84b77b629e61a7ca2da56",
            "dac5c447f3d3405e8eb762163c80b1e6",
            "9d1ad74dcfcc4dceb61d05b50b8e928e",
            "7fcee8199a8a41f7ad3883aff5333c3c",
            "60a11d3478a74878b19cb409faa17472",
            "464b2fecd40a4d18b9edf3362aea30c9",
            "047d4cc2e8244438bd1fcda5bf7b6792"
          ]
        },
        "outputId": "a011c2ae-b7f3-45c2-c92e-aa307c84141c"
      },
      "outputs": [
        {
          "output_type": "display_data",
          "data": {
            "text/plain": [
              "Downloading (…)neration_config.json:   0%|          | 0.00/293 [00:00<?, ?B/s]"
            ],
            "application/vnd.jupyter.widget-view+json": {
              "version_major": 2,
              "version_minor": 0,
              "model_id": "5f9398cbcd89473e8a6e2941025c2110"
            }
          },
          "metadata": {}
        }
      ],
      "source": [
        "from transformers import GenerationConfig\n",
        "\n",
        "# generation_config = GenerationConfig.from_model_config(config)\n",
        "generation_config = GenerationConfig.from_pretrained(checkpoint)\n"
      ]
    },
    {
      "cell_type": "code",
      "execution_count": 54,
      "id": "fb431758",
      "metadata": {
        "colab": {
          "base_uri": "https://localhost:8080/"
        },
        "id": "fb431758",
        "outputId": "21efeead-70c6-487d-b6a7-b9e721fb4f3b"
      },
      "outputs": [
        {
          "output_type": "execute_result",
          "data": {
            "text/plain": [
              "GenerationConfig {\n",
              "  \"bad_words_ids\": [\n",
              "    [\n",
              "      59513\n",
              "    ]\n",
              "  ],\n",
              "  \"bos_token_id\": 0,\n",
              "  \"decoder_start_token_id\": 59513,\n",
              "  \"eos_token_id\": 0,\n",
              "  \"forced_eos_token_id\": 0,\n",
              "  \"max_length\": 512,\n",
              "  \"num_beams\": 4,\n",
              "  \"pad_token_id\": 59513,\n",
              "  \"renormalize_logits\": true\n",
              "}"
            ]
          },
          "metadata": {},
          "execution_count": 54
        }
      ],
      "source": [
        "generation_config\n"
      ]
    },
    {
      "cell_type": "markdown",
      "id": "cc2a39fc-6d87-43ca-8a6e-7129bd8214f1",
      "metadata": {
        "id": "cc2a39fc-6d87-43ca-8a6e-7129bd8214f1"
      },
      "source": [
        "##  <font color = 'pickle'> **Download pre-trained model**"
      ]
    },
    {
      "cell_type": "code",
      "execution_count": 55,
      "id": "58babf85",
      "metadata": {
        "id": "58babf85",
        "colab": {
          "base_uri": "https://localhost:8080/",
          "height": 49,
          "referenced_widgets": [
            "54372224cbda41ff915c569276071b42",
            "b82347aae71f4afdada9fe2821533bda",
            "6225e145875743e7b8fdf46affd6a57a",
            "8ded3079765b4e3ea4dc16a7f5c5adf6",
            "aa30f23428c44551a5b178ed35b4b20b",
            "f6482b1f58354beab0fcd8e3102a3f49",
            "3da5c738cbf848c184c316425d2f7942",
            "7114232203cf4e59b123cfca8bbcfb2e",
            "6a1d3a52f607438fa9003dca5d3f278d",
            "0ac3957b96544217ab1fef246f909d9e",
            "48dd61386b2b4458a2baadbeb38c3522"
          ]
        },
        "outputId": "1e82d120-5f4b-4264-c483-80d1b2240852"
      },
      "outputs": [
        {
          "output_type": "display_data",
          "data": {
            "text/plain": [
              "Downloading pytorch_model.bin:   0%|          | 0.00/301M [00:00<?, ?B/s]"
            ],
            "application/vnd.jupyter.widget-view+json": {
              "version_major": 2,
              "version_minor": 0,
              "model_id": "54372224cbda41ff915c569276071b42"
            }
          },
          "metadata": {}
        }
      ],
      "source": [
        "model = AutoModelForSeq2SeqLM.from_pretrained(\n",
        "    checkpoint,\n",
        "    config=config,\n",
        ")\n"
      ]
    },
    {
      "cell_type": "markdown",
      "id": "c3b5c122",
      "metadata": {
        "id": "c3b5c122"
      },
      "source": [
        "## <font color = 'pickle'> **Model Input/Collate Function** </font>"
      ]
    },
    {
      "cell_type": "code",
      "execution_count": 56,
      "id": "60aacc2b",
      "metadata": {
        "id": "60aacc2b"
      },
      "outputs": [],
      "source": [
        "data_collator = DataCollatorForSeq2Seq(\n",
        "    tokenizer=tokenizer,\n",
        "    model=model,\n",
        ")\n"
      ]
    },
    {
      "cell_type": "code",
      "execution_count": 57,
      "id": "dd292130",
      "metadata": {
        "id": "dd292130",
        "outputId": "9601c699-53ce-444f-fca3-bdad449da639",
        "colab": {
          "base_uri": "https://localhost:8080/"
        }
      },
      "outputs": [
        {
          "output_type": "execute_result",
          "data": {
            "text/plain": [
              "{'id': '34366',\n",
              " 'translation': {'en': 'Basic Command Set',\n",
              "  'fr': 'Ensemble de commandes basiques'}}"
            ]
          },
          "metadata": {},
          "execution_count": 57
        }
      ],
      "source": [
        "train_val_subset['train'][100]\n"
      ]
    },
    {
      "cell_type": "code",
      "execution_count": 58,
      "id": "9b8670b1",
      "metadata": {
        "colab": {
          "base_uri": "https://localhost:8080/"
        },
        "id": "9b8670b1",
        "outputId": "e782785f-f6dd-4a59-bf3c-6eefa5ba1e34"
      },
      "outputs": [
        {
          "output_type": "execute_result",
          "data": {
            "text/plain": [
              "[{'input_ids': tensor([  47, 9314, 8245,   37,    0]),\n",
              "  'attention_mask': tensor([1, 1, 1, 1, 1]),\n",
              "  'labels': tensor([41612,   402, 38492,     0])},\n",
              " {'input_ids': tensor([21364, 38007,    37,  3689,    30, 36712,     9,     2,   533,  7770,\n",
              "             10, 21821,     0]),\n",
              "  'attention_mask': tensor([1, 1, 1, 1, 1, 1, 1, 1, 1, 1, 1, 1, 1]),\n",
              "  'labels': tensor([  304,   162,   501,  4517,   402, 38492, 14781,     5,    14,     6,\n",
              "           1420,    13, 29719,     9,     2, 12782,    11, 18769,     9,     0])},\n",
              " {'input_ids': tensor([41704,     0]),\n",
              "  'attention_mask': tensor([1, 1]),\n",
              "  'labels': tensor([12323,     0])}]"
            ]
          },
          "metadata": {},
          "execution_count": 58
        }
      ],
      "source": [
        "features = [tokenized_dataset[\"train\"][i] for i in range(3)]\n",
        "features\n"
      ]
    },
    {
      "cell_type": "code",
      "execution_count": 59,
      "id": "4d9f01a6",
      "metadata": {
        "id": "4d9f01a6",
        "outputId": "0b46792a-7f0a-4881-d13d-65684e556540",
        "colab": {
          "base_uri": "https://localhost:8080/"
        }
      },
      "outputs": [
        {
          "output_type": "execute_result",
          "data": {
            "text/plain": [
              "dict_keys(['input_ids', 'attention_mask', 'labels', 'decoder_input_ids'])"
            ]
          },
          "metadata": {},
          "execution_count": 59
        }
      ],
      "source": [
        "model_input = data_collator(features)\n",
        "model_input.keys()"
      ]
    },
    {
      "cell_type": "markdown",
      "id": "448994da",
      "metadata": {
        "id": "448994da"
      },
      "source": [
        "<font color='indianred'>• Notice that data_collator has added the <strong>decoder_input_ids</strong></font>\n"
      ]
    },
    {
      "cell_type": "code",
      "source": [],
      "metadata": {
        "id": "Znk6eUVqL1-4"
      },
      "id": "Znk6eUVqL1-4",
      "execution_count": null,
      "outputs": []
    },
    {
      "cell_type": "code",
      "execution_count": 60,
      "metadata": {
        "colab": {
          "base_uri": "https://localhost:8080/"
        },
        "outputId": "17a35e50-9791-4c63-aa0f-ebabdcdea2b2",
        "id": "hC5ZUIU5L2v2"
      },
      "outputs": [
        {
          "output_type": "stream",
          "name": "stdout",
          "text": [
            "{'input_ids': tensor([[   47,  9314,  8245,    37,     0, 59513, 59513, 59513, 59513, 59513,\n",
            "         59513, 59513, 59513],\n",
            "        [21364, 38007,    37,  3689,    30, 36712,     9,     2,   533,  7770,\n",
            "            10, 21821,     0],\n",
            "        [41704,     0, 59513, 59513, 59513, 59513, 59513, 59513, 59513, 59513,\n",
            "         59513, 59513, 59513]]), 'attention_mask': tensor([[1, 1, 1, 1, 1, 0, 0, 0, 0, 0, 0, 0, 0],\n",
            "        [1, 1, 1, 1, 1, 1, 1, 1, 1, 1, 1, 1, 1],\n",
            "        [1, 1, 0, 0, 0, 0, 0, 0, 0, 0, 0, 0, 0]]), 'labels': tensor([[41612,   402, 38492,     0,  -100,  -100,  -100,  -100,  -100,  -100,\n",
            "          -100,  -100,  -100,  -100,  -100,  -100,  -100,  -100,  -100,  -100],\n",
            "        [  304,   162,   501,  4517,   402, 38492, 14781,     5,    14,     6,\n",
            "          1420,    13, 29719,     9,     2, 12782,    11, 18769,     9,     0],\n",
            "        [12323,     0,  -100,  -100,  -100,  -100,  -100,  -100,  -100,  -100,\n",
            "          -100,  -100,  -100,  -100,  -100,  -100,  -100,  -100,  -100,  -100]]), 'decoder_input_ids': tensor([[59513, 41612,   402, 38492,     0, 59513, 59513, 59513, 59513, 59513,\n",
            "         59513, 59513, 59513, 59513, 59513, 59513, 59513, 59513, 59513, 59513],\n",
            "        [59513,   304,   162,   501,  4517,   402, 38492, 14781,     5,    14,\n",
            "             6,  1420,    13, 29719,     9,     2, 12782,    11, 18769,     9],\n",
            "        [59513, 12323,     0, 59513, 59513, 59513, 59513, 59513, 59513, 59513,\n",
            "         59513, 59513, 59513, 59513, 59513, 59513, 59513, 59513, 59513, 59513]])}\n"
          ]
        }
      ],
      "source": [
        "print(model_input)\n"
      ],
      "id": "hC5ZUIU5L2v2"
    },
    {
      "cell_type": "code",
      "execution_count": null,
      "id": "4012e871",
      "metadata": {
        "colab": {
          "base_uri": "https://localhost:8080/"
        },
        "id": "4012e871",
        "outputId": "ecb5711e-4129-4d15-8ce6-769f4c66ade7"
      },
      "outputs": [
        {
          "name": "stdout",
          "output_type": "stream",
          "text": [
            "{'input_ids': tensor([[   47,  9314,  8245,    37,     0, 59513, 59513, 59513, 59513, 59513,\n",
            "         59513, 59513, 59513],\n",
            "        [21364, 38007,    37,  3689,    30, 36712,     9,     2,   533,  7770,\n",
            "            10, 21821,     0],\n",
            "        [41704,     0, 59513, 59513, 59513, 59513, 59513, 59513, 59513, 59513,\n",
            "         59513, 59513, 59513]]), 'attention_mask': tensor([[1, 1, 1, 1, 1, 0, 0, 0, 0, 0, 0, 0, 0],\n",
            "        [1, 1, 1, 1, 1, 1, 1, 1, 1, 1, 1, 1, 1],\n",
            "        [1, 1, 0, 0, 0, 0, 0, 0, 0, 0, 0, 0, 0]]), 'labels': tensor([[41612,   402, 38492,     0,  -100,  -100,  -100,  -100,  -100,  -100,\n",
            "          -100,  -100,  -100,  -100,  -100,  -100,  -100,  -100,  -100,  -100],\n",
            "        [  304,   162,   501,  4517,   402, 38492, 14781,     5,    14,     6,\n",
            "          1420,    13, 29719,     9,     2, 12782,    11, 18769,     9,     0],\n",
            "        [12323,     0,  -100,  -100,  -100,  -100,  -100,  -100,  -100,  -100,\n",
            "          -100,  -100,  -100,  -100,  -100,  -100,  -100,  -100,  -100,  -100]]), 'decoder_input_ids': tensor([[59513, 41612,   402, 38492,     0, 59513, 59513, 59513, 59513, 59513,\n",
            "         59513, 59513, 59513, 59513, 59513, 59513, 59513, 59513, 59513, 59513],\n",
            "        [59513,   304,   162,   501,  4517,   402, 38492, 14781,     5,    14,\n",
            "             6,  1420,    13, 29719,     9,     2, 12782,    11, 18769,     9],\n",
            "        [59513, 12323,     0, 59513, 59513, 59513, 59513, 59513, 59513, 59513,\n",
            "         59513, 59513, 59513, 59513, 59513, 59513, 59513, 59513, 59513, 59513]])}\n"
          ]
        }
      ],
      "source": [
        "print(model_input)\n"
      ]
    },
    {
      "cell_type": "markdown",
      "id": "2da67b27",
      "metadata": {
        "id": "2da67b27",
        "outputId": "3eb487cc-3615-4bcf-a037-02c8dcbb64d7"
      },
      "source": [
        "<font color='indianred'>• **Note that 59513 is both the start token and pad token for the decoder input ids**</font>\n",
        "\n",
        "<font color='indianred'>•  **Also note that decoder input ids are shifted version of the labels**\n"
      ]
    },
    {
      "cell_type": "code",
      "execution_count": 61,
      "id": "14b579f8",
      "metadata": {
        "colab": {
          "base_uri": "https://localhost:8080/"
        },
        "id": "14b579f8",
        "outputId": "d4f1c7b7-2f27-4284-ed57-921364d8744b"
      },
      "outputs": [
        {
          "output_type": "stream",
          "name": "stdout",
          "text": [
            "tensor([59513, 41612,   402, 38492,     0, 59513, 59513, 59513, 59513, 59513])\n",
            "tensor([41612,   402, 38492,     0,  -100,  -100,  -100,  -100,  -100,  -100])\n"
          ]
        }
      ],
      "source": [
        "print(model_input.decoder_input_ids[0][0:10])\n",
        "print(model_input.labels[0][0:10])"
      ]
    },
    {
      "cell_type": "code",
      "execution_count": 62,
      "id": "d4e58db3",
      "metadata": {
        "id": "d4e58db3",
        "outputId": "58e38c2a-ca61-4f1b-f0a4-2e02947eddb8",
        "colab": {
          "base_uri": "https://localhost:8080/"
        }
      },
      "outputs": [
        {
          "output_type": "stream",
          "name": "stdout",
          "text": [
            "tensor([59513, 41612,   402, 38492,     0, 59513, 59513, 59513, 59513, 59513,\n",
            "        59513, 59513, 59513, 59513, 59513, 59513, 59513, 59513, 59513, 59513])\n",
            "tensor([41612,   402, 38492,     0,  -100,  -100,  -100,  -100,  -100,  -100,\n",
            "         -100,  -100,  -100,  -100,  -100,  -100,  -100,  -100,  -100,  -100])\n"
          ]
        }
      ],
      "source": [
        "print(model_input.decoder_input_ids[0][-20:])\n",
        "print(model_input.labels[0][-20:])\n"
      ]
    },
    {
      "cell_type": "code",
      "execution_count": 63,
      "id": "0012a6f8",
      "metadata": {
        "id": "0012a6f8",
        "outputId": "e8390a1e-2bd8-4e96-841d-b58a427d9dcd",
        "colab": {
          "base_uri": "https://localhost:8080/"
        }
      },
      "outputs": [
        {
          "output_type": "stream",
          "name": "stdout",
          "text": [
            "tensor([59513,   304,   162,   501,  4517,   402, 38492, 14781,     5,    14])\n",
            "tensor([  304,   162,   501,  4517,   402, 38492, 14781,     5,    14,     6])\n"
          ]
        }
      ],
      "source": [
        "print(model_input.decoder_input_ids[1][0:10])\n",
        "print(model_input.labels[1][0:10])\n"
      ]
    },
    {
      "cell_type": "code",
      "execution_count": 64,
      "id": "c06ded32",
      "metadata": {
        "id": "c06ded32",
        "outputId": "b9aca8d7-8654-42ec-bfb8-5cf987084a1c",
        "colab": {
          "base_uri": "https://localhost:8080/"
        }
      },
      "outputs": [
        {
          "output_type": "stream",
          "name": "stdout",
          "text": [
            "tensor([59513,   304,   162,   501,  4517,   402, 38492, 14781,     5,    14,\n",
            "            6,  1420,    13, 29719,     9,     2, 12782,    11, 18769,     9])\n",
            "tensor([  304,   162,   501,  4517,   402, 38492, 14781,     5,    14,     6,\n",
            "         1420,    13, 29719,     9,     2, 12782,    11, 18769,     9,     0])\n"
          ]
        }
      ],
      "source": [
        "print(model_input.decoder_input_ids[1][-20:])\n",
        "print(model_input.labels[1][-20:])\n"
      ]
    },
    {
      "cell_type": "code",
      "execution_count": 65,
      "id": "7933bb1e",
      "metadata": {
        "colab": {
          "base_uri": "https://localhost:8080/"
        },
        "id": "7933bb1e",
        "outputId": "73a536c6-df58-402b-8cb1-e157ce493a7c"
      },
      "outputs": [
        {
          "output_type": "stream",
          "name": "stdout",
          "text": [
            "['<pad>', '▁Identifiant', '▁&', '▁#160;:', '</s>', '<pad>', '<pad>', '<pad>', '<pad>', '<pad>']\n",
            "['▁Identifiant', '▁&', '▁#160;:', '</s>', '<unk>', '<unk>', '<unk>', '<unk>', '<unk>', '<unk>']\n"
          ]
        }
      ],
      "source": [
        "print(tokenizer.convert_ids_to_tokens(model_input.decoder_input_ids[0][0:10]))\n",
        "print(tokenizer.convert_ids_to_tokens(model_input.labels[0][0:10]))\n"
      ]
    },
    {
      "cell_type": "code",
      "execution_count": 66,
      "id": "4024e4ab",
      "metadata": {
        "colab": {
          "base_uri": "https://localhost:8080/"
        },
        "id": "4024e4ab",
        "outputId": "afe0d593-6811-41f2-8050-4aa47951dea9"
      },
      "outputs": [
        {
          "output_type": "stream",
          "name": "stdout",
          "text": [
            "['<pad>', '▁Identifiant', '▁&', '▁#160;:', '</s>', '<pad>', '<pad>', '<pad>', '<pad>', '<pad>', '<pad>', '<pad>', '<pad>', '<pad>', '<pad>', '<pad>', '<pad>', '<pad>', '<pad>', '<pad>']\n",
            "['▁Identifiant', '▁&', '▁#160;:', '</s>', '<unk>', '<unk>', '<unk>', '<unk>', '<unk>', '<unk>', '<unk>', '<unk>', '<unk>', '<unk>', '<unk>', '<unk>', '<unk>', '<unk>', '<unk>', '<unk>']\n"
          ]
        }
      ],
      "source": [
        "print(tokenizer.convert_ids_to_tokens(model_input.decoder_input_ids[0][-20:]))\n",
        "try:\n",
        "    print(tokenizer.convert_ids_to_tokens(model_input.labels[0][-20:]))\n",
        "except:\n",
        "    print(f\"No tokens corresponding to ids\")\n"
      ]
    },
    {
      "cell_type": "markdown",
      "id": "38f6c65d",
      "metadata": {
        "id": "38f6c65d"
      },
      "source": [
        "##  <font color = 'pickle'> **Understanding Model Output**\n"
      ]
    },
    {
      "cell_type": "code",
      "execution_count": 67,
      "id": "093f08ea",
      "metadata": {
        "id": "093f08ea"
      },
      "outputs": [],
      "source": [
        "# model output\n",
        "model_output = model(**model_input)\n"
      ]
    },
    {
      "cell_type": "code",
      "execution_count": 68,
      "id": "7e79f8e8",
      "metadata": {
        "colab": {
          "base_uri": "https://localhost:8080/"
        },
        "id": "7e79f8e8",
        "outputId": "3ecd243b-320e-480e-b989-e71426226d95"
      },
      "outputs": [
        {
          "output_type": "execute_result",
          "data": {
            "text/plain": [
              "odict_keys(['loss', 'logits', 'encoder_last_hidden_state'])"
            ]
          },
          "metadata": {},
          "execution_count": 68
        }
      ],
      "source": [
        "# keys in model output\n",
        "model_output.keys()\n"
      ]
    },
    {
      "cell_type": "code",
      "execution_count": 69,
      "id": "e3cf6a68",
      "metadata": {
        "colab": {
          "base_uri": "https://localhost:8080/"
        },
        "id": "e3cf6a68",
        "outputId": "ee72c169-e205-43ac-8985-e514e0ad024c"
      },
      "outputs": [
        {
          "output_type": "execute_result",
          "data": {
            "text/plain": [
              "torch.Size([3, 20, 59514])"
            ]
          },
          "metadata": {},
          "execution_count": 69
        }
      ],
      "source": [
        "# let us look at logits\n",
        "model_output.logits.shape"
      ]
    },
    {
      "cell_type": "code",
      "execution_count": 70,
      "id": "c3793c33",
      "metadata": {
        "id": "c3793c33"
      },
      "outputs": [],
      "source": [
        "logits = model_output.logits.detach().cpu().numpy()"
      ]
    },
    {
      "cell_type": "code",
      "execution_count": 71,
      "id": "81a8329d",
      "metadata": {
        "id": "81a8329d"
      },
      "outputs": [],
      "source": [
        "# Greedy decoding\n",
        "preds = np.argmax(logits, axis = -1)"
      ]
    },
    {
      "cell_type": "code",
      "execution_count": 72,
      "id": "6d158bba",
      "metadata": {
        "id": "6d158bba",
        "outputId": "4e204545-8e73-454b-9fcb-d989291f0aa7",
        "colab": {
          "base_uri": "https://localhost:8080/"
        }
      },
      "outputs": [
        {
          "output_type": "execute_result",
          "data": {
            "text/plain": [
              "(3, 20)"
            ]
          },
          "metadata": {},
          "execution_count": 72
        }
      ],
      "source": [
        "preds.shape"
      ]
    },
    {
      "cell_type": "code",
      "execution_count": 73,
      "id": "a95642f7",
      "metadata": {
        "id": "a95642f7",
        "outputId": "e0a4f64e-03c1-4fac-8fe9-79c568798d12",
        "colab": {
          "base_uri": "https://localhost:8080/"
        }
      },
      "outputs": [
        {
          "output_type": "execute_result",
          "data": {
            "text/plain": [
              "array([[16235,    37, 38492,     0,     0,     0,     0,     0,     0,\n",
              "           47,    47,    47,    47,    47,    47,    47,    47,    47,\n",
              "           47,    47],\n",
              "       [  304,   162,   501,  4517,    78, 38492,   498,    36,    14,\n",
              "            6, 41599,    13, 29719,     9,     2, 12782,    11, 18769,\n",
              "            9,     0],\n",
              "       [12323,     0,     0,     0,     0,     0, 12323, 12323, 12323,\n",
              "        12323, 12323, 12323, 12323, 12323, 12323, 12323, 12323, 12323,\n",
              "        12323, 12323]])"
            ]
          },
          "metadata": {},
          "execution_count": 73
        }
      ],
      "source": [
        "preds"
      ]
    },
    {
      "cell_type": "code",
      "execution_count": 74,
      "id": "ed922a93",
      "metadata": {
        "colab": {
          "base_uri": "https://localhost:8080/",
          "height": 35
        },
        "id": "ed922a93",
        "outputId": "21df8282-bdb6-4588-f009-b391ea596849"
      },
      "outputs": [
        {
          "output_type": "execute_result",
          "data": {
            "text/plain": [
              "'Identification: #160;:</s> </s> </s> </s> </s> </s> I I I I I I I I I I I'"
            ],
            "application/vnd.google.colaboratory.intrinsic+json": {
              "type": "string"
            }
          },
          "metadata": {},
          "execution_count": 74
        }
      ],
      "source": [
        "tokenizer.convert_tokens_to_string(tokenizer.convert_ids_to_tokens(preds[0]))"
      ]
    },
    {
      "cell_type": "code",
      "execution_count": 75,
      "id": "f5cbece9",
      "metadata": {
        "id": "f5cbece9"
      },
      "outputs": [],
      "source": [
        "def get_label_strings(labels):\n",
        "    return tokenizer.convert_tokens_to_string(tokenizer.convert_ids_to_tokens(labels))"
      ]
    },
    {
      "cell_type": "code",
      "execution_count": 76,
      "id": "c026e850",
      "metadata": {
        "id": "c026e850"
      },
      "outputs": [],
      "source": [
        "labels = [get_label_strings(label) for label in model_input['labels']]"
      ]
    },
    {
      "cell_type": "code",
      "execution_count": 77,
      "id": "d5b03759",
      "metadata": {
        "id": "d5b03759",
        "outputId": "53a7a72a-1bc9-4a90-c5b2-1d0f75ab00d1",
        "colab": {
          "base_uri": "https://localhost:8080/"
        }
      },
      "outputs": [
        {
          "output_type": "execute_result",
          "data": {
            "text/plain": [
              "['Identifiant & #160;:</s> <unk> <unk> <unk> <unk> <unk> <unk> <unk> <unk> <unk> <unk> <unk> <unk> <unk> <unk> <unk> <unk>',\n",
              " \"Fenêtre supérieure & #160;: Vue de l'ensemble des imprimantes, réelles et virtuelles</s>\",\n",
              " 'Aperçu</s> <unk> <unk> <unk> <unk> <unk> <unk> <unk> <unk> <unk> <unk> <unk> <unk> <unk> <unk> <unk> <unk> <unk> <unk>']"
            ]
          },
          "metadata": {},
          "execution_count": 77
        }
      ],
      "source": [
        "labels"
      ]
    },
    {
      "cell_type": "code",
      "execution_count": 78,
      "id": "20ea5a26",
      "metadata": {
        "id": "20ea5a26",
        "outputId": "8743c1d7-ea0f-4982-ff80-7b6327527bf1",
        "colab": {
          "base_uri": "https://localhost:8080/"
        }
      },
      "outputs": [
        {
          "output_type": "execute_result",
          "data": {
            "text/plain": [
              "['Identification: #160;:</s> </s> </s> </s> </s> </s> I I I I I I I I I I I',\n",
              " \"Fenêtre supérieure : #160;: vue sur l'imprimante des imprimantes, réelles et virtuelles</s>\",\n",
              " 'Aperçu</s> </s> </s> </s> </s> Aperçu Aperçu Aperçu Aperçu Aperçu Aperçu Aperçu Aperçu Aperçu Aperçu Aperçu Aperçu Aperçu Aperçu']"
            ]
          },
          "metadata": {},
          "execution_count": 78
        }
      ],
      "source": [
        "preds = [ get_label_strings(pred) for pred in preds]\n",
        "preds"
      ]
    },
    {
      "cell_type": "code",
      "execution_count": 79,
      "id": "b64b8e7e",
      "metadata": {
        "id": "b64b8e7e",
        "outputId": "7efd7739-d53c-471a-c068-56debffd1ed0",
        "colab": {
          "base_uri": "https://localhost:8080/"
        }
      },
      "outputs": [
        {
          "output_type": "execute_result",
          "data": {
            "text/plain": [
              "['Identification: #160;:</s>',\n",
              " \"Fenêtre supérieure : #160;: vue sur l'imprimante des imprimantes, réelles et virtuelles</s>\",\n",
              " 'Aperçu</s>']"
            ]
          },
          "metadata": {},
          "execution_count": 79
        }
      ],
      "source": [
        "final_string_preds=[]\n",
        "for example in preds:\n",
        "    string_preds =[]\n",
        "    for s in example.split():\n",
        "        string_preds.append(s)\n",
        "        if '</s>' in s:\n",
        "            break\n",
        "    final_string_preds.append(' '.join(string_preds))\n",
        "\n",
        "final_string_preds"
      ]
    },
    {
      "cell_type": "code",
      "execution_count": 80,
      "id": "a88dcd36",
      "metadata": {
        "id": "a88dcd36"
      },
      "outputs": [],
      "source": [
        "# generate prediction from logits using beam search\n",
        "generated_predictions = model.generate(\n",
        "    **model_input, generation_config=generation_config, max_length=128\n",
        ")\n"
      ]
    },
    {
      "cell_type": "code",
      "execution_count": 81,
      "id": "a607ec29",
      "metadata": {
        "colab": {
          "base_uri": "https://localhost:8080/"
        },
        "id": "a607ec29",
        "outputId": "4dea0246-fa31-4033-c788-51b720f39380"
      },
      "outputs": [
        {
          "output_type": "execute_result",
          "data": {
            "text/plain": [
              "torch.Size([3, 25])"
            ]
          },
          "metadata": {},
          "execution_count": 81
        }
      ],
      "source": [
        "generated_predictions.shape\n"
      ]
    },
    {
      "cell_type": "code",
      "execution_count": 82,
      "id": "1677a41d",
      "metadata": {
        "colab": {
          "base_uri": "https://localhost:8080/"
        },
        "id": "1677a41d",
        "outputId": "f013d584-d1b6-4743-89ea-c5f747865a69"
      },
      "outputs": [
        {
          "output_type": "execute_result",
          "data": {
            "text/plain": [
              "tensor([[59513, 41612,   402, 38492,     0, 59513, 59513, 59513, 59513, 59513,\n",
              "         59513, 59513, 59513, 59513, 59513, 59513, 59513, 59513, 59513, 59513,\n",
              "            47,  9314, 18458,    37,     0],\n",
              "        [59513,   304,   162,   501,  4517,   402, 38492, 14781,     5,    14,\n",
              "             6,  1420,    13, 29719,     9,     2, 12782,    11, 18769,     9,\n",
              "             0, 59513, 59513, 59513, 59513],\n",
              "        [59513, 12323,     0, 59513, 59513, 59513, 59513, 59513, 59513, 59513,\n",
              "         59513, 59513, 59513, 59513, 59513, 59513, 59513, 59513, 59513, 59513,\n",
              "         12323,     0, 59513, 59513, 59513]])"
            ]
          },
          "metadata": {},
          "execution_count": 82
        }
      ],
      "source": [
        "generated_predictions\n"
      ]
    },
    {
      "cell_type": "code",
      "execution_count": 83,
      "id": "65fb3f53",
      "metadata": {
        "colab": {
          "base_uri": "https://localhost:8080/"
        },
        "id": "65fb3f53",
        "outputId": "eadea292-5b3e-4c2a-90ae-fd1b87ab84b3"
      },
      "outputs": [
        {
          "output_type": "execute_result",
          "data": {
            "text/plain": [
              "torch.Size([3, 25])"
            ]
          },
          "metadata": {},
          "execution_count": 83
        }
      ],
      "source": [
        "generated_predictions.shape\n"
      ]
    },
    {
      "cell_type": "code",
      "execution_count": 84,
      "id": "3f23fc2a",
      "metadata": {
        "colab": {
          "base_uri": "https://localhost:8080/"
        },
        "id": "3f23fc2a",
        "outputId": "81095d7d-915b-4056-e394-1adba5f907f1"
      },
      "outputs": [
        {
          "output_type": "stream",
          "name": "stdout",
          "text": [
            "['<pad>', '▁Identifiant', '▁&', '▁#160;:', '</s>', '<pad>', '<pad>', '<pad>', '<pad>', '<pad>', '<pad>', '<pad>', '<pad>', '<pad>', '<pad>', '<pad>', '<pad>', '<pad>', '<pad>', '<pad>', '▁I', 'dent', 'ificateur', ':', '</s>']\n"
          ]
        }
      ],
      "source": [
        "tokens = tokenizer.convert_ids_to_tokens(generated_predictions[0])\n",
        "print(tokens)\n"
      ]
    },
    {
      "cell_type": "code",
      "execution_count": 85,
      "id": "43c50244",
      "metadata": {
        "colab": {
          "base_uri": "https://localhost:8080/"
        },
        "id": "43c50244",
        "outputId": "3e1e2342-d12d-4b7d-fb2a-3338a9a091ac"
      },
      "outputs": [
        {
          "output_type": "stream",
          "name": "stdout",
          "text": [
            "<pad> Identifiant & #160;:</s> <pad> <pad> <pad> <pad> <pad> <pad> <pad> <pad> <pad> <pad> <pad> <pad> <pad> <pad> <pad> Identificateur:</s>\n"
          ]
        }
      ],
      "source": [
        "translation = tokenizer.convert_tokens_to_string(tokens)\n",
        "print(translation)\n"
      ]
    },
    {
      "cell_type": "code",
      "execution_count": 86,
      "id": "2fbd60b6",
      "metadata": {
        "colab": {
          "base_uri": "https://localhost:8080/",
          "height": 53
        },
        "id": "2fbd60b6",
        "outputId": "2d09fc13-ad03-4a55-eac2-3ed50ef80d27"
      },
      "outputs": [
        {
          "output_type": "execute_result",
          "data": {
            "text/plain": [
              "\"<pad> Fenêtre supérieure & #160;: Vue de l'ensemble des imprimantes, réelles et virtuelles</s> <pad> <pad> <pad> <pad>\""
            ],
            "application/vnd.google.colaboratory.intrinsic+json": {
              "type": "string"
            }
          },
          "metadata": {},
          "execution_count": 86
        }
      ],
      "source": [
        "tokenizer.decode(generated_predictions[1])\n"
      ]
    },
    {
      "cell_type": "code",
      "execution_count": 87,
      "id": "a1e1df59",
      "metadata": {
        "id": "a1e1df59",
        "outputId": "31050fe8-770d-477e-9450-83af2534df38",
        "colab": {
          "base_uri": "https://localhost:8080/",
          "height": 35
        }
      },
      "outputs": [
        {
          "output_type": "execute_result",
          "data": {
            "text/plain": [
              "\"Fenêtre supérieure & #160;: Vue de l'ensemble des imprimantes, réelles et virtuelles\""
            ],
            "application/vnd.google.colaboratory.intrinsic+json": {
              "type": "string"
            }
          },
          "metadata": {},
          "execution_count": 87
        }
      ],
      "source": [
        "tokenizer.decode(generated_predictions[1], skip_special_tokens=True)\n"
      ]
    },
    {
      "cell_type": "code",
      "execution_count": 88,
      "id": "7b54eec5",
      "metadata": {
        "colab": {
          "base_uri": "https://localhost:8080/"
        },
        "id": "7b54eec5",
        "outputId": "43568418-7ea9-499c-953f-01e161af2f88"
      },
      "outputs": [
        {
          "output_type": "execute_result",
          "data": {
            "text/plain": [
              "['<pad> Identifiant & #160;:</s> <pad> <pad> <pad> <pad> <pad> <pad> <pad> <pad> <pad> <pad> <pad> <pad> <pad> <pad> <pad> Identificateur:</s>',\n",
              " \"<pad> Fenêtre supérieure & #160;: Vue de l'ensemble des imprimantes, réelles et virtuelles</s> <pad> <pad> <pad> <pad>\",\n",
              " '<pad> Aperçu</s> <pad> <pad> <pad> <pad> <pad> <pad> <pad> <pad> <pad> <pad> <pad> <pad> <pad> <pad> <pad> <pad> <pad> Aperçu</s> <pad> <pad> <pad>']"
            ]
          },
          "metadata": {},
          "execution_count": 88
        }
      ],
      "source": [
        "# decode tokens to generate translation\n",
        "tokenizer.batch_decode(generated_predictions)\n"
      ]
    },
    {
      "cell_type": "code",
      "execution_count": 89,
      "id": "426a4587",
      "metadata": {
        "colab": {
          "base_uri": "https://localhost:8080/"
        },
        "id": "426a4587",
        "outputId": "322079ce-c20a-48ca-f3a1-31c3059b10d7"
      },
      "outputs": [
        {
          "output_type": "execute_result",
          "data": {
            "text/plain": [
              "['Identifiant & #160;: Identificateur:',\n",
              " \"Fenêtre supérieure & #160;: Vue de l'ensemble des imprimantes, réelles et virtuelles\",\n",
              " 'Aperçu Aperçu']"
            ]
          },
          "metadata": {},
          "execution_count": 89
        }
      ],
      "source": [
        "# decode tokens to generate summary\n",
        "tokenizer.batch_decode(generated_predictions, skip_special_tokens=True)\n"
      ]
    },
    {
      "cell_type": "markdown",
      "id": "bdb8d2df",
      "metadata": {
        "id": "bdb8d2df"
      },
      "source": [
        "##  <font color = 'pickle'> **Evaluation metric(s)** </font>"
      ]
    },
    {
      "cell_type": "markdown",
      "id": "ff01f0d5",
      "metadata": {
        "id": "ff01f0d5"
      },
      "source": [
        "### <font color = 'pickle'> **Function to compute metric** </font>\n"
      ]
    },
    {
      "cell_type": "code",
      "execution_count": 94,
      "id": "7137a9d8",
      "metadata": {
        "id": "7137a9d8"
      },
      "outputs": [],
      "source": [
        "bleu_metric = evaluate.load(\"sacrebleu\")\n",
        "bert_metric = evaluate.load('bertscore')\n",
        "\n",
        "def compute_metrics(preds_and_labels):\n",
        "    # preds are not logits but token ids\n",
        "    # api is inconsistent here\n",
        "    # we are not simply using argmax bu use 'beam search'\n",
        "    preds, labels = preds_and_labels\n",
        "\n",
        "    # convert predictions into words\n",
        "    decoded_preds = tokenizer.batch_decode(preds, skip_special_tokens=True)\n",
        "\n",
        "    # for any -100 label, replace with pad token id\n",
        "    labels = np.where( labels != -100, labels, tokenizer.pad_token_id )\n",
        "\n",
        "    # convert labels into words\n",
        "    decoded_labels = tokenizer.batch_decode(labels, skip_special_tokens= True)\n",
        "\n",
        "    # get rid of extra whitespace\n",
        "    # and also, put targets into lists\n",
        "\n",
        "    decoded_preds_cleaned = [pred.strip() for pred in decoded_preds]\n",
        "    decoded_labels_cleaned = [label.strip() for label in decoded_labels]\n",
        "\n",
        "    bleu_score = bleu_metric.compute(predictions=decoded_preds_cleaned, references=decoded_labels_cleaned)\n",
        "    bert_score = bert_metric.compute(predictions=decoded_preds_cleaned, references=decoded_labels_cleaned, lang='fr')\n",
        "\n",
        "    return{'bleu_score:': bleu_score['score'], 'bert_score': np.mean(bert_score['f1'])}\n",
        "    # CODE HERE\n",
        ""
      ]
    },
    {
      "cell_type": "markdown",
      "id": "21bffd36",
      "metadata": {
        "id": "21bffd36"
      },
      "source": [
        "## <font color = 'pickle'> **Set up Logger for experiments**</font>\n"
      ]
    },
    {
      "cell_type": "code",
      "execution_count": 95,
      "id": "40f5928c",
      "metadata": {
        "colab": {
          "base_uri": "https://localhost:8080/",
          "height": 70
        },
        "id": "40f5928c",
        "outputId": "226345dd-69d4-4a88-acf0-b34a61bdfc9e"
      },
      "outputs": [
        {
          "output_type": "display_data",
          "data": {
            "text/plain": [
              "<IPython.core.display.Javascript object>"
            ],
            "application/javascript": [
              "\n",
              "        window._wandbApiKey = new Promise((resolve, reject) => {\n",
              "            function loadScript(url) {\n",
              "            return new Promise(function(resolve, reject) {\n",
              "                let newScript = document.createElement(\"script\");\n",
              "                newScript.onerror = reject;\n",
              "                newScript.onload = resolve;\n",
              "                document.body.appendChild(newScript);\n",
              "                newScript.src = url;\n",
              "            });\n",
              "            }\n",
              "            loadScript(\"https://cdn.jsdelivr.net/npm/postmate/build/postmate.min.js\").then(() => {\n",
              "            const iframe = document.createElement('iframe')\n",
              "            iframe.style.cssText = \"width:0;height:0;border:none\"\n",
              "            document.body.appendChild(iframe)\n",
              "            const handshake = new Postmate({\n",
              "                container: iframe,\n",
              "                url: 'https://wandb.ai/authorize'\n",
              "            });\n",
              "            const timeout = setTimeout(() => reject(\"Couldn't auto authenticate\"), 5000)\n",
              "            handshake.then(function(child) {\n",
              "                child.on('authorize', data => {\n",
              "                    clearTimeout(timeout)\n",
              "                    resolve(data)\n",
              "                });\n",
              "            });\n",
              "            })\n",
              "        });\n",
              "    "
            ]
          },
          "metadata": {}
        },
        {
          "output_type": "stream",
          "name": "stderr",
          "text": [
            "\u001b[34m\u001b[1mwandb\u001b[0m: Appending key for api.wandb.ai to your netrc file: /root/.netrc\n"
          ]
        },
        {
          "output_type": "stream",
          "name": "stdout",
          "text": [
            "env: WANDB_PROJECT=nlp_course_fall_2023-translation\n"
          ]
        }
      ],
      "source": [
        "wandb.login()\n",
        "# Set project name for logging\n",
        "%env WANDB_PROJECT = nlp_course_fall_2023-translation\n"
      ]
    },
    {
      "cell_type": "markdown",
      "id": "Jwwp80UgmLjr",
      "metadata": {
        "id": "Jwwp80UgmLjr"
      },
      "source": [
        "## <font color = 'pickle'> **Hyperparameters and Checkpointing**</font>"
      ]
    },
    {
      "cell_type": "code",
      "execution_count": 96,
      "id": "hIXDbzK8O4x9",
      "metadata": {
        "id": "hIXDbzK8O4x9"
      },
      "outputs": [],
      "source": [
        "from transformers import Seq2SeqTrainingArguments\n",
        "\n",
        "# Define the directory where model checkpoints will be saved\n",
        "model_folder = base_folder / \"models\" / \"nlp_spring_2023/kde4/opus-mt-en-fr\"\n",
        "\n",
        "# Create the directory if it doesn't exist\n",
        "model_folder.mkdir(exist_ok=True, parents=True)\n",
        "\n",
        "# Configure training parameters\n",
        "training_args = Seq2SeqTrainingArguments(\n",
        "    # Training-specific configurations\n",
        "    num_train_epochs=1,  # Total number of training epochs\n",
        "    weight_decay=0.01,  # Apply L2 regularization to prevent overfitting\n",
        "    learning_rate=5e-5,  # Step size for the optimizer during training\n",
        "    optim=\"adamw_torch\",  # Optimizer,\n",
        "    warmup_steps=10,\n",
        "    predict_with_generate=True,\n",
        "    generation_config=generation_config,\n",
        "    # memory and speed related arguments\n",
        "    # Number of samples per training batch for each device\n",
        "    per_device_train_batch_size=16,\n",
        "    per_device_eval_batch_size=16,  # Number of samples per eval batch for each device\n",
        "\n",
        "    gradient_checkpointing=True,  # memory\n",
        "    # fp16 = True, # Speed\n",
        "    # bf16=True,\n",
        "    # tf32=True, # speed\n",
        "    # evaluation settings\n",
        "    output_dir=str(model_folder),  # Directory to save model checkpoints\n",
        "    evaluation_strategy=\"steps\",  # Evaluate model at specified step intervals\n",
        "    eval_steps=10,  # Perform evaluation every 10 training steps\n",
        "    # Checkpoint settings\n",
        "    save_strategy=\"steps\",  # Save model checkpoint at specified step intervals\n",
        "    save_steps=10,  # Save a model checkpoint every 10 training steps\n",
        "    load_best_model_at_end=True,  # Reload the best model at the end of training\n",
        "    save_total_limit=2,  # Retain only the best and the most recent model checkpoints\n",
        "    # metric_for_best_model=,\n",
        "    # greater_is_better=,\n",
        "    # Experiment logging configurations (commented out in this example)\n",
        "    logging_strategy=\"steps\",\n",
        "    logging_steps=10,\n",
        "    report_to=\"wandb\",  # Log metrics and results to Weights & Biases platform\n",
        "    # Experiment name for Weights & Biases\n",
        "    run_name=\"translation-exp1\",\n",
        ")\n"
      ]
    },
    {
      "cell_type": "markdown",
      "id": "J_hMcxgrFNyT",
      "metadata": {
        "id": "J_hMcxgrFNyT"
      },
      "source": [
        "##  <font color = 'pickle'> **Initialize Trainer**</font>"
      ]
    },
    {
      "cell_type": "code",
      "execution_count": 97,
      "id": "syJ7458-On05",
      "metadata": {
        "id": "syJ7458-On05"
      },
      "outputs": [],
      "source": [
        "# initialize trainer\n",
        "trainer = Seq2SeqTrainer(\n",
        "    model=model,\n",
        "    args=training_args,\n",
        "    train_dataset=tokenized_dataset[\"train\"],\n",
        "    eval_dataset=tokenized_dataset[\"val\"],\n",
        "    compute_metrics=compute_metrics,\n",
        "    tokenizer=tokenizer,\n",
        "    data_collator=data_collator,\n",
        ")\n"
      ]
    },
    {
      "cell_type": "markdown",
      "id": "ty027fT4DFGn",
      "metadata": {
        "id": "ty027fT4DFGn"
      },
      "source": [
        "##  <font color = 'pickle'> **Start Training**"
      ]
    },
    {
      "cell_type": "code",
      "execution_count": 98,
      "id": "e9f8ba94",
      "metadata": {
        "colab": {
          "base_uri": "https://localhost:8080/"
        },
        "id": "e9f8ba94",
        "outputId": "ae820dcf-f2ac-4970-c2b1-7d7dc0497af5"
      },
      "outputs": [
        {
          "output_type": "execute_result",
          "data": {
            "text/plain": [
              "1301"
            ]
          },
          "metadata": {},
          "execution_count": 98
        }
      ],
      "source": [
        "import gc\n",
        "import torch\n",
        "torch.cuda.empty_cache()\n",
        "gc.collect()\n"
      ]
    },
    {
      "cell_type": "code",
      "execution_count": 99,
      "id": "MHNSotl_CyW7",
      "metadata": {
        "colab": {
          "base_uri": "https://localhost:8080/",
          "height": 887,
          "referenced_widgets": [
            "73cc32f5eb86408a8268027d1f1c99db",
            "f5cb79d4bdac493f87faf2a7404dcbfd",
            "8b7cf01d5fb64a8a921c56ddd5fa8c1e",
            "356889fe03f34171b57fb7ec526b6b28",
            "0e71ff72ab46483ebe16835fd79dcd62",
            "65ecc83d840a4562a7c6b3a0ff2c8ae3",
            "642152d024c24cfb8912756c8b5b9e50",
            "9af58692e362463794086f5c36280702",
            "22087ef4ca4346bd860a619f1eff3fb5",
            "515565fab5ca4826b110128dec32e672",
            "4cafbd14b64d4a0db11fc34236355614",
            "e07d1ac49ffc4129ba44ed32c16558d7",
            "191c737366db4a87bb84affc13e5170a",
            "cc5cd98dca9f46839ff00c2f3008fa34",
            "2a01eeb69f004e14a919a8b5320d05e8",
            "cd091c4e93d741c4b69370a6b802e2bf",
            "c1bcc9588a714775a1dfeab762ba9f6c",
            "0ef869d42a9948f78912fa5c80278d76",
            "d6047ced0eb742a1b9fa0e06baff5821",
            "dca5f916975d4483a74e8fa5348fb024",
            "6f0bed1138f0489f9ea683ba2c62ccd1",
            "5378c0fdad27420a99c120f0c17e304f",
            "76ae394bcc224a2eb2633093fc42f5aa",
            "2b769b5c90634c67974f58e5933f32e8",
            "5cb13bd70f044a37aa7fd90615dc86d1",
            "420a654562374adf9ca3c65d412f531d",
            "89235a4601ef4f12906012f4327bb193",
            "745aadf536144843820ae4daacaa73d2",
            "03b735f46ee542b8963809dfb2e610f9",
            "bbb7df2d66624d75994e51594b7ce5e0",
            "8d030565a61541508fdcec4d59497190",
            "7b2c9e614fd84502a9b72adf52b2a4a3",
            "d555ea15546c4991bbe37a0a483f332b",
            "c357bbd62f7f49edb9bda83d13cb483c",
            "4cb5e65086c64ddbabdd5532dbf4a79b",
            "8ac980caa2a846088d87ff9f41d88c74",
            "ae6c3b3f04394f1b9432571dff515408",
            "9656ad3791ef4dcbbf09310a3ec27353",
            "39f2d08eb382493f8bad64928954a311",
            "bc1c55fd098445e69700d56397308407",
            "267f443761a24926852c5bd1589def30",
            "6df9b3a5532e49afa3f545825ff5e9b6",
            "e62f610e331a41cfb9201b654fa71c3f",
            "5ab01b63f60546c7a8955cd617ff7fde",
            "f58d6d53163b49a78750b3bcd79cde36",
            "d6b53ca11fbf4bb9bd703593e1c67e82",
            "76d99bd5daac454e85a927020a2829fe",
            "75eb46fa8af84b009d58b796301cdd77",
            "dd1dd926cd6244d0856c82bec4fafc0e",
            "c48ad5d381b145f09ab665abaf511cd2",
            "8ff638114e3c403eb51ae88083d712f8",
            "c3db0e88d3004ef990ee23cfdf3bdf26",
            "672d0cdf65c7425ab7c9c1420aa1952f",
            "56b6c0f377ea448fb3ba8d2b757d4b8d",
            "3731981db79f4ccba82bb7bfe9e8877d"
          ]
        },
        "id": "MHNSotl_CyW7",
        "outputId": "95ff5844-512e-4ba0-b3b7-46fd78216b12"
      },
      "outputs": [
        {
          "output_type": "display_data",
          "data": {
            "text/plain": [
              "<IPython.core.display.HTML object>"
            ],
            "text/html": [
              "Changes to your `wandb` environment variables will be ignored because your `wandb` session has already started. For more information on how to modify your settings with `wandb.init()` arguments, please refer to <a href='https://wandb.me/wandb-init' target=\"_blank\">the W&B docs</a>."
            ]
          },
          "metadata": {}
        },
        {
          "output_type": "stream",
          "name": "stderr",
          "text": [
            "\u001b[34m\u001b[1mwandb\u001b[0m: Currently logged in as: \u001b[33mshritej24c\u001b[0m (\u001b[33mredeem_team\u001b[0m). Use \u001b[1m`wandb login --relogin`\u001b[0m to force relogin\n"
          ]
        },
        {
          "output_type": "display_data",
          "data": {
            "text/plain": [
              "<IPython.core.display.HTML object>"
            ],
            "text/html": [
              "Tracking run with wandb version 0.15.12"
            ]
          },
          "metadata": {}
        },
        {
          "output_type": "display_data",
          "data": {
            "text/plain": [
              "<IPython.core.display.HTML object>"
            ],
            "text/html": [
              "Run data is saved locally in <code>/content/wandb/run-20231030_012951-ib2d8vmh</code>"
            ]
          },
          "metadata": {}
        },
        {
          "output_type": "display_data",
          "data": {
            "text/plain": [
              "<IPython.core.display.HTML object>"
            ],
            "text/html": [
              "Syncing run <strong><a href='https://wandb.ai/redeem_team/nlp_course_fall_2023-translation/runs/ib2d8vmh' target=\"_blank\">translation-exp1</a></strong> to <a href='https://wandb.ai/redeem_team/nlp_course_fall_2023-translation' target=\"_blank\">Weights & Biases</a> (<a href='https://wandb.me/run' target=\"_blank\">docs</a>)<br/>"
            ]
          },
          "metadata": {}
        },
        {
          "output_type": "display_data",
          "data": {
            "text/plain": [
              "<IPython.core.display.HTML object>"
            ],
            "text/html": [
              " View project at <a href='https://wandb.ai/redeem_team/nlp_course_fall_2023-translation' target=\"_blank\">https://wandb.ai/redeem_team/nlp_course_fall_2023-translation</a>"
            ]
          },
          "metadata": {}
        },
        {
          "output_type": "display_data",
          "data": {
            "text/plain": [
              "<IPython.core.display.HTML object>"
            ],
            "text/html": [
              " View run at <a href='https://wandb.ai/redeem_team/nlp_course_fall_2023-translation/runs/ib2d8vmh' target=\"_blank\">https://wandb.ai/redeem_team/nlp_course_fall_2023-translation/runs/ib2d8vmh</a>"
            ]
          },
          "metadata": {}
        },
        {
          "output_type": "stream",
          "name": "stderr",
          "text": [
            "/usr/local/lib/python3.10/dist-packages/torch/utils/checkpoint.py:429: UserWarning: torch.utils.checkpoint: please pass in use_reentrant=True or use_reentrant=False explicitly. The default value of use_reentrant will be updated to be False in the future. To maintain current behavior, pass use_reentrant=True. It is recommended that you use use_reentrant=False. Refer to docs for more details on the differences between the two variants.\n",
            "  warnings.warn(\n"
          ]
        },
        {
          "output_type": "display_data",
          "data": {
            "text/plain": [
              "<IPython.core.display.HTML object>"
            ],
            "text/html": [
              "\n",
              "    <div>\n",
              "      \n",
              "      <progress value='63' max='63' style='width:300px; height:20px; vertical-align: middle;'></progress>\n",
              "      [63/63 08:32, Epoch 1/1]\n",
              "    </div>\n",
              "    <table border=\"1\" class=\"dataframe\">\n",
              "  <thead>\n",
              " <tr style=\"text-align: left;\">\n",
              "      <th>Step</th>\n",
              "      <th>Training Loss</th>\n",
              "      <th>Validation Loss</th>\n",
              "      <th>Bleu Score:</th>\n",
              "      <th>Bert Score</th>\n",
              "    </tr>\n",
              "  </thead>\n",
              "  <tbody>\n",
              "    <tr>\n",
              "      <td>10</td>\n",
              "      <td>1.991500</td>\n",
              "      <td>1.655252</td>\n",
              "      <td>39.680601</td>\n",
              "      <td>0.863847</td>\n",
              "    </tr>\n",
              "    <tr>\n",
              "      <td>20</td>\n",
              "      <td>1.733100</td>\n",
              "      <td>1.596057</td>\n",
              "      <td>39.234273</td>\n",
              "      <td>0.863176</td>\n",
              "    </tr>\n",
              "    <tr>\n",
              "      <td>30</td>\n",
              "      <td>1.672000</td>\n",
              "      <td>1.556005</td>\n",
              "      <td>40.578745</td>\n",
              "      <td>0.866220</td>\n",
              "    </tr>\n",
              "    <tr>\n",
              "      <td>40</td>\n",
              "      <td>1.442300</td>\n",
              "      <td>1.537132</td>\n",
              "      <td>41.174389</td>\n",
              "      <td>0.867369</td>\n",
              "    </tr>\n",
              "    <tr>\n",
              "      <td>50</td>\n",
              "      <td>1.439700</td>\n",
              "      <td>1.526197</td>\n",
              "      <td>41.246359</td>\n",
              "      <td>0.867248</td>\n",
              "    </tr>\n",
              "    <tr>\n",
              "      <td>60</td>\n",
              "      <td>1.512200</td>\n",
              "      <td>1.520451</td>\n",
              "      <td>41.166549</td>\n",
              "      <td>0.866630</td>\n",
              "    </tr>\n",
              "  </tbody>\n",
              "</table><p>"
            ]
          },
          "metadata": {}
        },
        {
          "output_type": "display_data",
          "data": {
            "text/plain": [
              "Downloading (…)okenizer_config.json:   0%|          | 0.00/29.0 [00:00<?, ?B/s]"
            ],
            "application/vnd.jupyter.widget-view+json": {
              "version_major": 2,
              "version_minor": 0,
              "model_id": "73cc32f5eb86408a8268027d1f1c99db"
            }
          },
          "metadata": {}
        },
        {
          "output_type": "display_data",
          "data": {
            "text/plain": [
              "Downloading (…)lve/main/config.json:   0%|          | 0.00/625 [00:00<?, ?B/s]"
            ],
            "application/vnd.jupyter.widget-view+json": {
              "version_major": 2,
              "version_minor": 0,
              "model_id": "e07d1ac49ffc4129ba44ed32c16558d7"
            }
          },
          "metadata": {}
        },
        {
          "output_type": "display_data",
          "data": {
            "text/plain": [
              "Downloading (…)solve/main/vocab.txt:   0%|          | 0.00/996k [00:00<?, ?B/s]"
            ],
            "application/vnd.jupyter.widget-view+json": {
              "version_major": 2,
              "version_minor": 0,
              "model_id": "76ae394bcc224a2eb2633093fc42f5aa"
            }
          },
          "metadata": {}
        },
        {
          "output_type": "display_data",
          "data": {
            "text/plain": [
              "Downloading (…)/main/tokenizer.json:   0%|          | 0.00/1.96M [00:00<?, ?B/s]"
            ],
            "application/vnd.jupyter.widget-view+json": {
              "version_major": 2,
              "version_minor": 0,
              "model_id": "c357bbd62f7f49edb9bda83d13cb483c"
            }
          },
          "metadata": {}
        },
        {
          "output_type": "display_data",
          "data": {
            "text/plain": [
              "Downloading model.safetensors:   0%|          | 0.00/714M [00:00<?, ?B/s]"
            ],
            "application/vnd.jupyter.widget-view+json": {
              "version_major": 2,
              "version_minor": 0,
              "model_id": "f58d6d53163b49a78750b3bcd79cde36"
            }
          },
          "metadata": {}
        },
        {
          "output_type": "stream",
          "name": "stderr",
          "text": [
            "/usr/local/lib/python3.10/dist-packages/torch/utils/checkpoint.py:429: UserWarning: torch.utils.checkpoint: please pass in use_reentrant=True or use_reentrant=False explicitly. The default value of use_reentrant will be updated to be False in the future. To maintain current behavior, pass use_reentrant=True. It is recommended that you use use_reentrant=False. Refer to docs for more details on the differences between the two variants.\n",
            "  warnings.warn(\n",
            "/usr/local/lib/python3.10/dist-packages/torch/utils/checkpoint.py:429: UserWarning: torch.utils.checkpoint: please pass in use_reentrant=True or use_reentrant=False explicitly. The default value of use_reentrant will be updated to be False in the future. To maintain current behavior, pass use_reentrant=True. It is recommended that you use use_reentrant=False. Refer to docs for more details on the differences between the two variants.\n",
            "  warnings.warn(\n",
            "/usr/local/lib/python3.10/dist-packages/torch/utils/checkpoint.py:429: UserWarning: torch.utils.checkpoint: please pass in use_reentrant=True or use_reentrant=False explicitly. The default value of use_reentrant will be updated to be False in the future. To maintain current behavior, pass use_reentrant=True. It is recommended that you use use_reentrant=False. Refer to docs for more details on the differences between the two variants.\n",
            "  warnings.warn(\n",
            "/usr/local/lib/python3.10/dist-packages/torch/utils/checkpoint.py:429: UserWarning: torch.utils.checkpoint: please pass in use_reentrant=True or use_reentrant=False explicitly. The default value of use_reentrant will be updated to be False in the future. To maintain current behavior, pass use_reentrant=True. It is recommended that you use use_reentrant=False. Refer to docs for more details on the differences between the two variants.\n",
            "  warnings.warn(\n",
            "/usr/local/lib/python3.10/dist-packages/torch/utils/checkpoint.py:429: UserWarning: torch.utils.checkpoint: please pass in use_reentrant=True or use_reentrant=False explicitly. The default value of use_reentrant will be updated to be False in the future. To maintain current behavior, pass use_reentrant=True. It is recommended that you use use_reentrant=False. Refer to docs for more details on the differences between the two variants.\n",
            "  warnings.warn(\n",
            "/usr/local/lib/python3.10/dist-packages/torch/utils/checkpoint.py:429: UserWarning: torch.utils.checkpoint: please pass in use_reentrant=True or use_reentrant=False explicitly. The default value of use_reentrant will be updated to be False in the future. To maintain current behavior, pass use_reentrant=True. It is recommended that you use use_reentrant=False. Refer to docs for more details on the differences between the two variants.\n",
            "  warnings.warn(\n"
          ]
        },
        {
          "output_type": "execute_result",
          "data": {
            "text/plain": [
              "TrainOutput(global_step=63, training_loss=1.6225580639309354, metrics={'train_runtime': 517.4676, 'train_samples_per_second': 1.932, 'train_steps_per_second': 0.122, 'total_flos': 15072060506112.0, 'train_loss': 1.6225580639309354, 'epoch': 1.0})"
            ]
          },
          "metadata": {},
          "execution_count": 99
        }
      ],
      "source": [
        "trainer.train()  # start training\n"
      ]
    },
    {
      "cell_type": "markdown",
      "id": "772843fa",
      "metadata": {
        "id": "772843fa"
      },
      "source": [
        "##  <font color = 'pickle'> **Evaluation**"
      ]
    },
    {
      "cell_type": "markdown",
      "id": "c6e6ebff",
      "metadata": {
        "id": "c6e6ebff"
      },
      "source": [
        "### <font color = 'pickle'> **Check performance on validation set**</font>"
      ]
    },
    {
      "cell_type": "code",
      "source": [
        "trainer.evaluate(tokenized_dataset[\"val\"])"
      ],
      "metadata": {
        "colab": {
          "base_uri": "https://localhost:8080/",
          "height": 162
        },
        "id": "wtBcVRoCO82v",
        "outputId": "154dc7f4-eb0b-4584-dd3a-d6eb9b10d751"
      },
      "id": "wtBcVRoCO82v",
      "execution_count": 100,
      "outputs": [
        {
          "output_type": "display_data",
          "data": {
            "text/plain": [
              "<IPython.core.display.HTML object>"
            ],
            "text/html": [
              "\n",
              "    <div>\n",
              "      \n",
              "      <progress value='32' max='32' style='width:300px; height:20px; vertical-align: middle;'></progress>\n",
              "      [32/32 01:14]\n",
              "    </div>\n",
              "    "
            ]
          },
          "metadata": {}
        },
        {
          "output_type": "execute_result",
          "data": {
            "text/plain": [
              "{'eval_loss': 1.5204508304595947,\n",
              " 'eval_bleu_score:': 41.166549338334434,\n",
              " 'eval_bert_score': 0.8666297186017037,\n",
              " 'eval_runtime': 81.766,\n",
              " 'eval_samples_per_second': 6.115,\n",
              " 'eval_steps_per_second': 0.391,\n",
              " 'epoch': 1.0}"
            ]
          },
          "metadata": {},
          "execution_count": 100
        }
      ]
    },
    {
      "cell_type": "code",
      "execution_count": null,
      "id": "14806bc4",
      "metadata": {
        "colab": {
          "referenced_widgets": [
            "287a607a483342c8a2cf6a53a36fb4ab"
          ]
        },
        "id": "14806bc4",
        "outputId": "e04d1f9b-31ae-45bf-d7cb-605c4d6e7b02"
      },
      "outputs": [
        {
          "data": {
            "application/vnd.jupyter.widget-view+json": {
              "model_id": "287a607a483342c8a2cf6a53a36fb4ab",
              "version_major": 2,
              "version_minor": 0
            },
            "text/plain": [
              "  0%|          | 0/32 [00:00<?, ?it/s]"
            ]
          },
          "metadata": {},
          "output_type": "display_data"
        },
        {
          "data": {
            "text/plain": [
              "{'eval_loss': 1.5268305540084839,\n",
              " 'eval_bleu_score:': 41.43463120346539,\n",
              " 'eval_bert_score': 0.8658450670838356,\n",
              " 'eval_runtime': 55.277,\n",
              " 'eval_samples_per_second': 9.045,\n",
              " 'eval_steps_per_second': 0.579,\n",
              " 'epoch': 1.0}"
            ]
          },
          "execution_count": 95,
          "metadata": {},
          "output_type": "execute_result"
        }
      ],
      "source": [
        "trainer.evaluate(tokenized_dataset[\"val\"])"
      ]
    },
    {
      "cell_type": "code",
      "source": [
        "wandb.finish()  # stop logging\n"
      ],
      "metadata": {
        "colab": {
          "base_uri": "https://localhost:8080/",
          "height": 569,
          "referenced_widgets": [
            "3b30185b7b6a48a2a41977becb7c1523",
            "074d193e00b74acdb47f3cd5186a2446",
            "0a1b9b080cda496ea8e2fdf5c595cea3",
            "fa9bc4f2d448482d88c1a996aeb6df41",
            "65ca95344d5a48f590a6af6ac0fd630a",
            "37f04be662d346d08273735f0289c11a",
            "21d180dc20474cc182f97ac45c3a2953",
            "014a69385da247beac5f8219599a2fe7"
          ]
        },
        "id": "7cf7pmyrPeH8",
        "outputId": "3eff7cab-f682-41c3-a522-3e5ca28394d0"
      },
      "id": "7cf7pmyrPeH8",
      "execution_count": 102,
      "outputs": [
        {
          "output_type": "display_data",
          "data": {
            "text/plain": [
              "<IPython.core.display.HTML object>"
            ],
            "text/html": [
              "Waiting for W&B process to finish... <strong style=\"color:green\">(success).</strong>"
            ]
          },
          "metadata": {}
        },
        {
          "output_type": "display_data",
          "data": {
            "text/plain": [
              "VBox(children=(Label(value='0.002 MB of 0.002 MB uploaded (0.000 MB deduped)\\r'), FloatProgress(value=1.0, max…"
            ],
            "application/vnd.jupyter.widget-view+json": {
              "version_major": 2,
              "version_minor": 0,
              "model_id": "3b30185b7b6a48a2a41977becb7c1523"
            }
          },
          "metadata": {}
        },
        {
          "output_type": "display_data",
          "data": {
            "text/plain": [
              "<IPython.core.display.HTML object>"
            ],
            "text/html": [
              "<style>\n",
              "    table.wandb td:nth-child(1) { padding: 0 10px; text-align: left ; width: auto;} td:nth-child(2) {text-align: left ; width: 100%}\n",
              "    .wandb-row { display: flex; flex-direction: row; flex-wrap: wrap; justify-content: flex-start; width: 100% }\n",
              "    .wandb-col { display: flex; flex-direction: column; flex-basis: 100%; flex: 1; padding: 10px; }\n",
              "    </style>\n",
              "<div class=\"wandb-row\"><div class=\"wandb-col\"><h3>Run history:</h3><br/><table class=\"wandb\"><tr><td>eval/bert_score</td><td>▂▁▆██▇▇</td></tr><tr><td>eval/bleu_score:</td><td>▃▁▆████</td></tr><tr><td>eval/loss</td><td>█▅▃▂▁▁▁</td></tr><tr><td>eval/runtime</td><td>▅█▁▂▅▅▅</td></tr><tr><td>eval/samples_per_second</td><td>▃▁█▇▃▃▃</td></tr><tr><td>eval/steps_per_second</td><td>▃▁█▇▃▃▃</td></tr><tr><td>train/epoch</td><td>▁▁▂▂▄▄▅▅▆▆████</td></tr><tr><td>train/global_step</td><td>▁▁▂▂▄▄▅▅▆▆████</td></tr><tr><td>train/learning_rate</td><td>█▇▅▄▂▁</td></tr><tr><td>train/loss</td><td>█▅▄▁▁▂</td></tr><tr><td>train/total_flos</td><td>▁</td></tr><tr><td>train/train_loss</td><td>▁</td></tr><tr><td>train/train_runtime</td><td>▁</td></tr><tr><td>train/train_samples_per_second</td><td>▁</td></tr><tr><td>train/train_steps_per_second</td><td>▁</td></tr></table><br/></div><div class=\"wandb-col\"><h3>Run summary:</h3><br/><table class=\"wandb\"><tr><td>eval/bert_score</td><td>0.86663</td></tr><tr><td>eval/bleu_score:</td><td>41.16655</td></tr><tr><td>eval/loss</td><td>1.52045</td></tr><tr><td>eval/runtime</td><td>81.766</td></tr><tr><td>eval/samples_per_second</td><td>6.115</td></tr><tr><td>eval/steps_per_second</td><td>0.391</td></tr><tr><td>train/epoch</td><td>1.0</td></tr><tr><td>train/global_step</td><td>63</td></tr><tr><td>train/learning_rate</td><td>0.0</td></tr><tr><td>train/loss</td><td>1.5122</td></tr><tr><td>train/total_flos</td><td>15072060506112.0</td></tr><tr><td>train/train_loss</td><td>1.62256</td></tr><tr><td>train/train_runtime</td><td>517.4676</td></tr><tr><td>train/train_samples_per_second</td><td>1.932</td></tr><tr><td>train/train_steps_per_second</td><td>0.122</td></tr></table><br/></div></div>"
            ]
          },
          "metadata": {}
        },
        {
          "output_type": "display_data",
          "data": {
            "text/plain": [
              "<IPython.core.display.HTML object>"
            ],
            "text/html": [
              " View run <strong style=\"color:#cdcd00\">translation-exp1</strong> at: <a href='https://wandb.ai/redeem_team/nlp_course_fall_2023-translation/runs/ib2d8vmh' target=\"_blank\">https://wandb.ai/redeem_team/nlp_course_fall_2023-translation/runs/ib2d8vmh</a><br/>Synced 5 W&B file(s), 0 media file(s), 0 artifact file(s) and 0 other file(s)"
            ]
          },
          "metadata": {}
        },
        {
          "output_type": "display_data",
          "data": {
            "text/plain": [
              "<IPython.core.display.HTML object>"
            ],
            "text/html": [
              "Find logs at: <code>./wandb/run-20231030_012951-ib2d8vmh/logs</code>"
            ]
          },
          "metadata": {}
        }
      ]
    },
    {
      "cell_type": "code",
      "execution_count": null,
      "id": "zA_1mCOeVTvl",
      "metadata": {
        "colab": {
          "base_uri": "https://localhost:8080/",
          "height": 609,
          "referenced_widgets": [
            "0569ef63370647fe907d857ec8ec5255",
            "1be47f99287b460695d4cab6ab77bca8",
            "cc271d7166304260b741e4de307dc4d1",
            "b7f1ba6b61ec4735aa35ced44494a181",
            "89eb6eaf2f8643f38e14fc1d540c8ecf",
            "8863ad0388f5409ab3e97ede8db48b11",
            "32b224e9b19f41c395305b6f2ae194ec",
            "9c54aa2402754f639dd85f14ca261199",
            "e2a829b1d21c43979fe5e46861e3854e",
            "d750b7d46c2b43e091cbe8d6f7238294",
            "25f5332dee1c44d795ef5b30b6396f2a"
          ]
        },
        "id": "zA_1mCOeVTvl",
        "outputId": "da82e0cc-65a7-4ff3-e0f3-7b72784fe1fb"
      },
      "outputs": [
        {
          "data": {
            "text/html": [
              "Waiting for W&B process to finish... <strong style=\"color:green\">(success).</strong>"
            ],
            "text/plain": [
              "<IPython.core.display.HTML object>"
            ]
          },
          "metadata": {},
          "output_type": "display_data"
        },
        {
          "data": {
            "application/vnd.jupyter.widget-view+json": {
              "model_id": "25f5332dee1c44d795ef5b30b6396f2a",
              "version_major": 2,
              "version_minor": 0
            },
            "text/plain": [
              "VBox(children=(Label(value='0.002 MB of 0.002 MB uploaded (0.000 MB deduped)\\r'), FloatProgress(value=1.0, max…"
            ]
          },
          "metadata": {},
          "output_type": "display_data"
        },
        {
          "data": {
            "text/html": [
              "<style>\n",
              "    table.wandb td:nth-child(1) { padding: 0 10px; text-align: left ; width: auto;} td:nth-child(2) {text-align: left ; width: 100%}\n",
              "    .wandb-row { display: flex; flex-direction: row; flex-wrap: wrap; justify-content: flex-start; width: 100% }\n",
              "    .wandb-col { display: flex; flex-direction: column; flex-basis: 100%; flex: 1; padding: 10px; }\n",
              "    </style>\n",
              "<div class=\"wandb-row\"><div class=\"wandb-col\"><h3>Run history:</h3><br/><table class=\"wandb\"><tr><td>eval/bert_score</td><td>▂▁▅▄▇██</td></tr><tr><td>eval/bleu_score:</td><td>▃▁▁▃▇██</td></tr><tr><td>eval/loss</td><td>█▅▃▂▁▁▁</td></tr><tr><td>eval/runtime</td><td>▁▄▇▄███</td></tr><tr><td>eval/samples_per_second</td><td>█▅▂▄▁▁▁</td></tr><tr><td>eval/steps_per_second</td><td>█▅▂▄▁▁▁</td></tr><tr><td>train/epoch</td><td>▁▁▂▂▄▄▅▅▆▆████</td></tr><tr><td>train/global_step</td><td>▁▁▂▂▄▄▅▅▆▆████</td></tr><tr><td>train/learning_rate</td><td>█▇▅▄▂▁</td></tr><tr><td>train/loss</td><td>▃▁▃█▃▅</td></tr><tr><td>train/total_flos</td><td>▁</td></tr><tr><td>train/train_loss</td><td>▁</td></tr><tr><td>train/train_runtime</td><td>▁</td></tr><tr><td>train/train_samples_per_second</td><td>▁</td></tr><tr><td>train/train_steps_per_second</td><td>▁</td></tr></table><br/></div><div class=\"wandb-col\"><h3>Run summary:</h3><br/><table class=\"wandb\"><tr><td>eval/bert_score</td><td>0.86585</td></tr><tr><td>eval/bleu_score:</td><td>41.43463</td></tr><tr><td>eval/loss</td><td>1.52683</td></tr><tr><td>eval/runtime</td><td>55.277</td></tr><tr><td>eval/samples_per_second</td><td>9.045</td></tr><tr><td>eval/steps_per_second</td><td>0.579</td></tr><tr><td>train/epoch</td><td>1.0</td></tr><tr><td>train/global_step</td><td>63</td></tr><tr><td>train/learning_rate</td><td>0.0</td></tr><tr><td>train/loss</td><td>1.6332</td></tr><tr><td>train/total_flos</td><td>15972485824512.0</td></tr><tr><td>train/train_loss</td><td>1.62337</td></tr><tr><td>train/train_runtime</td><td>307.3834</td></tr><tr><td>train/train_samples_per_second</td><td>3.253</td></tr><tr><td>train/train_steps_per_second</td><td>0.205</td></tr></table><br/></div></div>"
            ],
            "text/plain": [
              "<IPython.core.display.HTML object>"
            ]
          },
          "metadata": {},
          "output_type": "display_data"
        },
        {
          "data": {
            "text/html": [
              " View run <strong style=\"color:#cdcd00\">translation-exp1</strong> at: <a href='https://wandb.ai/hsingh-utd/nlp_course_fall_2023-translation/runs/0x196fod' target=\"_blank\">https://wandb.ai/hsingh-utd/nlp_course_fall_2023-translation/runs/0x196fod</a><br/>Synced 6 W&B file(s), 0 media file(s), 0 artifact file(s) and 0 other file(s)"
            ],
            "text/plain": [
              "<IPython.core.display.HTML object>"
            ]
          },
          "metadata": {},
          "output_type": "display_data"
        },
        {
          "data": {
            "text/html": [
              "Find logs at: <code>./wandb/run-20231022_185446-0x196fod/logs</code>"
            ],
            "text/plain": [
              "<IPython.core.display.HTML object>"
            ]
          },
          "metadata": {},
          "output_type": "display_data"
        }
      ],
      "source": [
        "wandb.finish()  # stop logging"
      ]
    },
    {
      "cell_type": "markdown",
      "id": "fff49bc5",
      "metadata": {
        "id": "fff49bc5"
      },
      "source": [
        "### <font color = 'pickle'> **Check the best saved model**</font>"
      ]
    },
    {
      "cell_type": "code",
      "execution_count": 103,
      "id": "3b0bee65",
      "metadata": {
        "id": "3b0bee65",
        "outputId": "3f1aab82-a783-45fe-d2a5-18a723fca856",
        "colab": {
          "base_uri": "https://localhost:8080/"
        }
      },
      "outputs": [
        {
          "output_type": "stream",
          "name": "stdout",
          "text": [
            "The best model was saved at step 60.\n"
          ]
        }
      ],
      "source": [
        "# After training, let us check the best checkpoint\n",
        "# We need this for Predioctions and Evaluations\n",
        "best_model_checkpoint_step = trainer.state.best_model_checkpoint.split(\"-\")[-1]\n",
        "print(f\"The best model was saved at step {best_model_checkpoint_step}.\")\n"
      ]
    },
    {
      "cell_type": "markdown",
      "id": "d013dd3d-bcee-45d8-a371-80daebd910de",
      "metadata": {
        "id": "d013dd3d-bcee-45d8-a371-80daebd910de"
      },
      "source": [
        "#  <font color = 'pickle'> **Inference**"
      ]
    },
    {
      "cell_type": "markdown",
      "id": "090acf0c",
      "metadata": {
        "id": "090acf0c"
      },
      "source": [
        "## <font color = 'pickle'> **Test Set Evaluation**"
      ]
    },
    {
      "cell_type": "code",
      "execution_count": 108,
      "id": "f734b7b7",
      "metadata": {
        "id": "f734b7b7",
        "outputId": "fcfe9289-ad72-4f3f-f8e9-4a6ace5048af",
        "colab": {
          "base_uri": "https://localhost:8080/"
        }
      },
      "outputs": [
        {
          "output_type": "execute_result",
          "data": {
            "text/plain": [
              "DatasetDict({\n",
              "    test: Dataset({\n",
              "        features: ['id', 'translation'],\n",
              "        num_rows: 500\n",
              "    })\n",
              "})"
            ]
          },
          "metadata": {},
          "execution_count": 108
        }
      ],
      "source": [
        "model_folder = base_folder / \"models\" / \"nlp_spring_2023/kde4/opus-mt-en-fr\"\n",
        "checkpoint = str(model_folder / \"checkpoint-60\")\n",
        "test_subset\n"
      ]
    },
    {
      "cell_type": "code",
      "execution_count": 109,
      "id": "5e1cbdc5",
      "metadata": {
        "id": "5e1cbdc5"
      },
      "outputs": [],
      "source": [
        "test_data_flattened = test_subset[\"test\"].map(lambda example: {'en': example['translation']['en'], 'fr': example['translation']['fr']})\n"
      ]
    },
    {
      "cell_type": "code",
      "execution_count": 110,
      "id": "6ae85d75",
      "metadata": {
        "id": "6ae85d75",
        "outputId": "5931704f-811c-4da9-c0c9-8b00e0cf46c1",
        "colab": {
          "base_uri": "https://localhost:8080/"
        }
      },
      "outputs": [
        {
          "output_type": "execute_result",
          "data": {
            "text/plain": [
              "Dataset({\n",
              "    features: ['id', 'translation', 'en', 'fr'],\n",
              "    num_rows: 500\n",
              "})"
            ]
          },
          "metadata": {},
          "execution_count": 110
        }
      ],
      "source": [
        "test_data_flattened"
      ]
    },
    {
      "cell_type": "code",
      "execution_count": 111,
      "id": "2f94d735",
      "metadata": {
        "id": "2f94d735",
        "colab": {
          "base_uri": "https://localhost:8080/",
          "height": 187,
          "referenced_widgets": [
            "2d42135b8bda4975ba31dc488cb707df",
            "7769d77d03b640e194701042b3189440",
            "a9c04bed1d264d88807d06f208f9230c",
            "9ce653b9f640419bacc5dc33654bd5f2",
            "27d80f811a5648c9ab753fcd5f649f06",
            "f938292ccdab4491a7cc77ed90bfcc36",
            "a29795c1cb5c4cfe9aa82f48c56e11ef",
            "7cf40ac52b9040279f9fb4f73d620ec4",
            "910b765d3773488c87d865ac46c6e73a",
            "130d9faf93c64d069e8e954e7e3b3b23",
            "cdb6e9c8651540d0ab2ced221ea8d6af",
            "3037ed54f1584cdd801cac9e654a2a12",
            "9517a909bdfe4bacaf3276a932a2caf4",
            "83a49bd7a4c74f0f9b0ea989469a4602",
            "139f2cdc6372467ea1bc8194e173bf1e",
            "8e5503e14e5c4ce3bdd4065a4f4e3981",
            "79fbcd038a3e4d0e8629fce274cd4272",
            "518f399dab4e460392fa05d3ae3dd451",
            "b8818e022dc243168a656b3ba7471373",
            "e328c0a6a7734db5a2c586f232ce193c",
            "fb5dfb894f894c8da9c9f5ef8a1177b8",
            "b42334b8835947d39773d9d9781a94fb",
            "ed6bb5d104af4abb8ad3fde5de22daf2",
            "af67aaff109f47c89d9e4342ed4e954b",
            "132dfd36a6f54370bddeea5614bca807",
            "04a1414401cb47559e27e7a5f6fbe11b",
            "389f0f8355314cada876a7cde7810038",
            "2692c87c536d4c1c9ce93de8e81a6502",
            "c11dbb5dc8524d31858b850da661f7f2",
            "39a41fc8c8ac4e86bd5b36ff76eb4ef0",
            "c771de7eeec042ff8e440e4f025687ec",
            "7b35ac6aa283433c827b001028742b7c",
            "aa14c88fe50e4f7498d6d7c2fee30fa8"
          ]
        },
        "outputId": "9c43f5e1-ffa7-4956-e9bc-97e21a91dc83"
      },
      "outputs": [
        {
          "output_type": "stream",
          "name": "stderr",
          "text": [
            "/usr/local/lib/python3.10/dist-packages/transformers/models/marian/tokenization_marian.py:197: UserWarning: Recommended: pip install sacremoses.\n",
            "  warnings.warn(\"Recommended: pip install sacremoses.\")\n"
          ]
        },
        {
          "output_type": "display_data",
          "data": {
            "text/plain": [
              "Downloading builder script:   0%|          | 0.00/5.94k [00:00<?, ?B/s]"
            ],
            "application/vnd.jupyter.widget-view+json": {
              "version_major": 2,
              "version_minor": 0,
              "model_id": "2d42135b8bda4975ba31dc488cb707df"
            }
          },
          "metadata": {}
        },
        {
          "output_type": "display_data",
          "data": {
            "text/plain": [
              "Downloading extra modules:   0%|          | 0.00/1.55k [00:00<?, ?B/s]"
            ],
            "application/vnd.jupyter.widget-view+json": {
              "version_major": 2,
              "version_minor": 0,
              "model_id": "3037ed54f1584cdd801cac9e654a2a12"
            }
          },
          "metadata": {}
        },
        {
          "output_type": "display_data",
          "data": {
            "text/plain": [
              "Downloading extra modules:   0%|          | 0.00/3.34k [00:00<?, ?B/s]"
            ],
            "application/vnd.jupyter.widget-view+json": {
              "version_major": 2,
              "version_minor": 0,
              "model_id": "ed6bb5d104af4abb8ad3fde5de22daf2"
            }
          },
          "metadata": {}
        },
        {
          "output_type": "stream",
          "name": "stderr",
          "text": [
            "Your input_length: 130 is bigger than 0.9 * max_length: 128. You might consider increasing your max_length manually, e.g. translator('...', max_length=400)\n"
          ]
        }
      ],
      "source": [
        "task_evaluator = evaluator(\"translation\")\n",
        "gen_kwargs = {\"length_penalty\": 0.8, \"num_beams\": 8, \"max_length\": 128}\n",
        "eval_results = task_evaluator.compute(\n",
        "    model_or_pipeline=checkpoint,\n",
        "    tokenizer=checkpoint,\n",
        "    data=test_data_flattened,\n",
        "    input_column='en',\n",
        "    label_column='fr',\n",
        "    generation_kwargs=gen_kwargs,\n",
        "    device=0,\n",
        ")\n"
      ]
    },
    {
      "cell_type": "code",
      "source": [
        "eval_results"
      ],
      "metadata": {
        "colab": {
          "base_uri": "https://localhost:8080/"
        },
        "id": "Tuf9xFImPqay",
        "outputId": "f16c0689-86c0-4511-f8e8-4dd135d2c999"
      },
      "id": "Tuf9xFImPqay",
      "execution_count": 112,
      "outputs": [
        {
          "output_type": "execute_result",
          "data": {
            "text/plain": [
              "{'bleu': 0.42696869676160426,\n",
              " 'precisions': [0.7095400340715503,\n",
              "  0.5355100095328885,\n",
              "  0.4212889593238246,\n",
              "  0.32914719626168226],\n",
              " 'brevity_penalty': 0.8911839411730454,\n",
              " 'length_ratio': 0.8966965820126026,\n",
              " 'translation_length': 4696,\n",
              " 'reference_length': 5237,\n",
              " 'total_time_in_seconds': 110.03906021500006,\n",
              " 'samples_per_second': 4.543841059920667,\n",
              " 'latency_in_seconds': 0.22007812043000013}"
            ]
          },
          "metadata": {},
          "execution_count": 112
        }
      ]
    },
    {
      "cell_type": "code",
      "execution_count": null,
      "id": "5404a081",
      "metadata": {
        "id": "5404a081",
        "outputId": "0aabae47-61d7-4649-8daa-323a957f1947"
      },
      "outputs": [
        {
          "data": {
            "text/plain": [
              "{'bleu': 0.4297887382432084,\n",
              " 'precisions': [0.6963209311993348,\n",
              "  0.5226165622825331,\n",
              "  0.4125192406362237,\n",
              "  0.32389580973952437],\n",
              " 'brevity_penalty': 0.9152600196375821,\n",
              " 'length_ratio': 0.9186557189230475,\n",
              " 'translation_length': 4811,\n",
              " 'reference_length': 5237,\n",
              " 'total_time_in_seconds': 73.25119658300537,\n",
              " 'samples_per_second': 6.825827062543882,\n",
              " 'latency_in_seconds': 0.14650239316601074}"
            ]
          },
          "execution_count": 102,
          "metadata": {},
          "output_type": "execute_result"
        }
      ],
      "source": [
        "eval_results"
      ]
    },
    {
      "cell_type": "markdown",
      "id": "26ae3ddf",
      "metadata": {
        "id": "26ae3ddf"
      },
      "source": [
        "##  <font color = 'pickle'> **Prediction for individual or small list of examples**"
      ]
    },
    {
      "cell_type": "markdown",
      "id": "d7174c87",
      "metadata": {
        "id": "d7174c87"
      },
      "source": [
        "## <font color = 'pickle'> **Create pipelne for inference**"
      ]
    },
    {
      "cell_type": "code",
      "execution_count": 113,
      "id": "b438c9b0",
      "metadata": {
        "id": "b438c9b0",
        "colab": {
          "base_uri": "https://localhost:8080/"
        },
        "outputId": "ab8f27ed-0689-4d65-bef9-8dc07d64172a"
      },
      "outputs": [
        {
          "output_type": "stream",
          "name": "stderr",
          "text": [
            "/usr/local/lib/python3.10/dist-packages/transformers/models/marian/tokenization_marian.py:197: UserWarning: Recommended: pip install sacremoses.\n",
            "  warnings.warn(\"Recommended: pip install sacremoses.\")\n"
          ]
        }
      ],
      "source": [
        "custom_pipeline = pipeline(\n",
        "    task=\"translation\",\n",
        "    model=checkpoint,\n",
        "    tokenizer=checkpoint,\n",
        "    device='cpu',\n",
        "    framework = 'pt'\n",
        ")\n"
      ]
    },
    {
      "cell_type": "code",
      "execution_count": 114,
      "id": "882a2ec6",
      "metadata": {
        "id": "882a2ec6",
        "outputId": "4bb290ae-5021-47fd-8498-bc03548b65dc",
        "colab": {
          "base_uri": "https://localhost:8080/",
          "height": 35
        }
      },
      "outputs": [
        {
          "output_type": "execute_result",
          "data": {
            "text/plain": [
              "'Find matching recipes'"
            ],
            "application/vnd.google.colaboratory.intrinsic+json": {
              "type": "string"
            }
          },
          "metadata": {},
          "execution_count": 114
        }
      ],
      "source": [
        "sample = test_data_flattened[\"en\"][420]\n",
        "sample\n"
      ]
    },
    {
      "cell_type": "code",
      "execution_count": 115,
      "id": "294d7f8d",
      "metadata": {
        "id": "294d7f8d",
        "outputId": "e3542997-1a3b-4dc6-c904-fd38b15349d6",
        "colab": {
          "base_uri": "https://localhost:8080/"
        }
      },
      "outputs": [
        {
          "output_type": "execute_result",
          "data": {
            "text/plain": [
              "[{'translation_text': 'Trouver des recettes correspondantes'}]"
            ]
          },
          "metadata": {},
          "execution_count": 115
        }
      ],
      "source": [
        "translation = custom_pipeline(sample)\n",
        "translation"
      ]
    },
    {
      "cell_type": "code",
      "execution_count": 116,
      "id": "c893c56b",
      "metadata": {
        "id": "c893c56b",
        "outputId": "803f8ccc-0af3-4f23-93b0-5c00e144b2a3",
        "colab": {
          "base_uri": "https://localhost:8080/"
        }
      },
      "outputs": [
        {
          "output_type": "execute_result",
          "data": {
            "text/plain": [
              "['Find matching recipes',\n",
              " '%1x%2x%3 brick, %4 shuffling moves',\n",
              " 'The following sections will describe, in detail, each element. Everything from where they can go to what goes in them is layed out in an easy-to-follow manner.']"
            ]
          },
          "metadata": {},
          "execution_count": 116
        }
      ],
      "source": [
        "samples = test_data_flattened[\"en\"][420:423]\n",
        "samples\n"
      ]
    },
    {
      "cell_type": "code",
      "execution_count": 117,
      "id": "2589662a",
      "metadata": {
        "id": "2589662a",
        "outputId": "1fdbe7d4-11b8-44fa-8c1b-f726316a7186",
        "colab": {
          "base_uri": "https://localhost:8080/"
        }
      },
      "outputs": [
        {
          "output_type": "execute_result",
          "data": {
            "text/plain": [
              "[{'translation_text': 'Trouver des recettes correspondantes'},\n",
              " {'translation_text': '%1x%2x%3 brique, %4 mouvements de shuffling'},\n",
              " {'translation_text': \"Les sections suivantes décrivent, en détail, chaque élément. Tout de l'endroit où ils peuvent aller à ce qui s'y passe est exposé de manière facile à suivre.\"}]"
            ]
          },
          "metadata": {},
          "execution_count": 117
        }
      ],
      "source": [
        "gen_kwargs = {\"length_penalty\": 0.8, \"num_beams\": 8, \"max_length\": 128}\n",
        "translations = custom_pipeline(samples, **gen_kwargs)\n",
        "translations\n"
      ]
    },
    {
      "cell_type": "markdown",
      "id": "94b28bf1",
      "metadata": {
        "id": "94b28bf1"
      },
      "source": [
        "## <font color = 'pickle'> **Prediction for large dataset**"
      ]
    },
    {
      "cell_type": "code",
      "execution_count": 118,
      "id": "2bb55c47",
      "metadata": {
        "id": "2bb55c47"
      },
      "outputs": [],
      "source": [
        "gen_kwargs = {\"length_penalty\": 0.8, \"num_beams\": 8, \"max_length\": 400}\n",
        "custom_pipeline = pipeline(\n",
        "    task=\"translation\",\n",
        "    model=checkpoint,\n",
        "    tokenizer=checkpoint,\n",
        "    device=0,\n",
        "    framework = 'pt'\n",
        ")\n",
        "translations = custom_pipeline(test_data_flattened['en'], **gen_kwargs, batch_size=16)"
      ]
    },
    {
      "cell_type": "code",
      "execution_count": 119,
      "id": "3e9175cd",
      "metadata": {
        "id": "3e9175cd",
        "outputId": "1c3ed976-4f24-40a7-fdc1-e8df6c27c299",
        "colab": {
          "base_uri": "https://localhost:8080/"
        }
      },
      "outputs": [
        {
          "output_type": "execute_result",
          "data": {
            "text/plain": [
              "[{'translation_text': 'Haut de la page & Y & #160;:'},\n",
              " {'translation_text': '–'},\n",
              " {'translation_text': 'Capitaliser le texte sélectionné ou le mot courant.'},\n",
              " {'translation_text': 'Ouvrir & konqueror;.'},\n",
              " {'translation_text': 'Chemins de recherche'},\n",
              " {'translation_text': 'Réduire à Grayscale'},\n",
              " {'translation_text': \"L'utilisateur ne peut modifier aucun paramètre sur cette page.\"},\n",
              " {'translation_text': 'Générer'},\n",
              " {'translation_text': 'Vietnamien (Vietnam)'},\n",
              " {'translation_text': 'Sélectionner le style à importer & #160;:'},\n",
              " {'translation_text': 'Cisco - Hub'},\n",
              " {'translation_text': \"Impossible de lire l'en-tête de la base de données %1.\"},\n",
              " {'translation_text': 'Serveur trouvé, connexion...'},\n",
              " {'translation_text': 'Hôte'},\n",
              " {'translation_text': 'Envoyer un & fichier'},\n",
              " {'translation_text': 'toute la journée'},\n",
              " {'translation_text': 'exameneur; examenseur; Em'},\n",
              " {'translation_text': \"L'alias est le nom que vous voulez donner à votre compte. Il devrait être unique. Vous pouvez avoir plusieurs connexions au même service de sorte que l'alias vous permet de leur donner des noms.\"},\n",
              " {'translation_text': 'Le & dataditor;'},\n",
              " {'translation_text': 'htdig'},\n",
              " {'translation_text': \"Activer cette option si les messages importants ne doivent jamais être supprimés pendant l'expiration du message, & cf; pendant la suppression automatique des messages anciens.\"},\n",
              " {'translation_text': 'Verbeux'},\n",
              " {'translation_text': \"Configurer une répétition d'alarme supplémentaire\"},\n",
              " {'translation_text': \"Le nombre d'octets lus. Voir ce que c'est pour plus d'informations.\"},\n",
              " {'translation_text': 'Feuilles de tissu'},\n",
              " {'translation_text': \"Sélectionnez la région dans laquelle vous voulez utiliser les vacances ici. Les vacances définies sont affichées comme des jours non ouvrables dans le navigateur de date, la vue de l'agenda, etc.\"},\n",
              " {'translation_text': 'Mason'},\n",
              " {'translation_text': 'Masque'},\n",
              " {'translation_text': 'Allemagne'},\n",
              " {'translation_text': 'Cliquez trois fois pour sélectionner la phrase entière.'},\n",
              " {'translation_text': 'Chinois (PRC)'},\n",
              " {'translation_text': 'secondes'},\n",
              " {'translation_text': 'Cyan, Noir'},\n",
              " {'translation_text': 'Ne modifiez pas les données réelles du moteur.'},\n",
              " {'translation_text': \"Impossible d'insérer la ligne parce qu'elle ne contient pas la clé principale de la table maître entière.\"},\n",
              " {'translation_text': '& Marque de la branche & #160;:'},\n",
              " {'translation_text': \"Système d'impression LPD & UNIX; générique (par défaut)\"},\n",
              " {'translation_text': 'BESSELK(3; 9) renvoie 397.95880'},\n",
              " {'translation_text': 'Supprimer'},\n",
              " {'translation_text': 'Modifier'},\n",
              " {'translation_text': \"Insérez une image raster. Ceux-ci ne sont pas aussi facilement graduables que les images vectorielles ou clipart. & kpresenter; comprend actuellement de nombreux formats, y compris. tiff,. jpg,. png et bien d'autres.\"},\n",
              " {'translation_text': 'Les mots de passe correspondent.'},\n",
              " {'translation_text': 'Fichiers de données espagnols & #160;: eXParTaKus expartakus@expartakus. com'},\n",
              " {'translation_text': 'Taille du rect pour les mesures'},\n",
              " {'translation_text': \"Vérifiez si le nom du fichier qui se trouve dans le texte des éléments doit être analysé. Ceci n'a de sens que si l'élément peut contenir un nom de fichier et si le fichierNameRx est spécifié.\"},\n",
              " {'translation_text': 'Ctrl; N Fichier'},\n",
              " {'translation_text': 'GUI XML'},\n",
              " {'translation_text': 'Détails'},\n",
              " {'translation_text': 'Cochez cette case si vous voulez rechercher des articles Journal qui correspondent aux critères de recherche.'},\n",
              " {'translation_text': 'Validation de & XML;'},\n",
              " {'translation_text': '& Fichier'},\n",
              " {'translation_text': 'Création de widgets & kommander;'},\n",
              " {'translation_text': \"Si cette case est cochée, Konqueror n'affichera que les signets dans la barre d'outils du signet que vous avez marqué pour le faire dans l'éditeur de signet.\"},\n",
              " {'translation_text': '& kaddressbook;'},\n",
              " {'translation_text': 'Mot de passe incorrect, veuillez réessayer.'},\n",
              " {'translation_text': 'Nom du champ'},\n",
              " {'translation_text': 'Configuration du système'},\n",
              " {'translation_text': 'Nicolas Ternisien'},\n",
              " {'translation_text': 'Internet Movie Database'},\n",
              " {'translation_text': 'Impossible de déterminer le système de partition de fichiers du secteur %1 sur le périphérique %2.'},\n",
              " {'translation_text': \"Sélectionner la vue de l'outil à ajouter\"},\n",
              " {'translation_text': 'Définir si les fractions doivent être réduites.'},\n",
              " {'translation_text': \"Réaction à l' invitation\"},\n",
              " {'translation_text': 'Allemand (mise en page du clavier Neo 2)'},\n",
              " {'translation_text': 'Effacer la liste des signets.'},\n",
              " {'translation_text': 'Album de mon ami'},\n",
              " {'translation_text': 'Configuration du cadre pour %1'},\n",
              " {'translation_text': 'Containment'},\n",
              " {'translation_text': \"Aucun indice de n'importe quelle couleur dans les tons gris\"},\n",
              " {'translation_text': \"compare et fusionne deux ou trois fichiers ou répertoires d'entrée de texte,\"},\n",
              " {'translation_text': \"Redimensionner l'image du titre %1 à %2x%3\"},\n",
              " {'translation_text': 'Quitter facilement une application D-Bus activée'},\n",
              " {'translation_text': 'Max Blazejak'},\n",
              " {'translation_text': 'Nom de la session manquante'},\n",
              " {'translation_text': \"Kate utilise deux formes différentes de modules, à savoir les modules pour l'application & kate; et les modules pour le composant de l'éditeur & kate;. Ce dernier est disponible pour toute application utilisant le composant de l'éditeur, comme KDevelop, Quanta, Kile, Kwrite et bien d'autres, tandis que les modules d'application sont spécifiques à l'application & kate;.\"},\n",
              " {'translation_text': 'Faire défiler le message vers le bas'},\n",
              " {'translation_text': 'Enregistrer la liste des utilisateurs?'},\n",
              " {'translation_text': '%1 contacté. En attente de réponse...'},\n",
              " {'translation_text': 'Utilisez le fichier de configuration spécifié.'},\n",
              " {'translation_text': 'Longueur & #160;:'},\n",
              " {'translation_text': 'La boîte de dialogue & kpresenter; Create Memory Stick Diaporama (extended).'},\n",
              " {'translation_text': 'Divers'},\n",
              " {'translation_text': 'Service de recherche'},\n",
              " {'translation_text': 'Réglage manuel de la vitesse du ventilateur. Ceci n\\'est efficace que lorsque la vitesse est réglée sur \"Manuel\".'},\n",
              " {'translation_text': \"La connaissance des mathématiques ou de la langue n'est pas nécessaire pour résoudre les énigmes de & kappname;.\"},\n",
              " {'translation_text': 'Stephan Binner'},\n",
              " {'translation_text': \"Fournit une boîte de texte pour faciliter l'accès aux moteurs de recherche comme Google.\"},\n",
              " {'translation_text': 'Nouveau point de sauvegarde'},\n",
              " {'translation_text': 'Canal vers le bas'},\n",
              " {'translation_text': 'Utilisez le chiffrement si le serveur le demande.'},\n",
              " {'translation_text': \"C'est la liste des images à télécharger vers la cible spécifiée.\"},\n",
              " {'translation_text': 'Documentation copyright 2002, 2003, 2005 & Anders. Lund; & Anders. Lund. mail;'},\n",
              " {'translation_text': 'Si cela ne commence pas avec un /, alors il est supposé être relatif à la racine du serveur. Le paramètre par défaut est / var/ log/ cups/ error_log.'},\n",
              " {'translation_text': 'Masse molaire du solvant'},\n",
              " {'translation_text': 'Aléatoire'},\n",
              " {'translation_text': 'min'},\n",
              " {'translation_text': 'Contrôle de la lecture (PBC)'},\n",
              " {'translation_text': 'Début tardif calculé & #160;: %1'},\n",
              " {'translation_text': \"Le calcul de l'histogramme a échoué.\"},\n",
              " {'translation_text': 'Spraycan'},\n",
              " {'translation_text': 'Curseur Big LB'},\n",
              " {'translation_text': 'Basculer & Augmenter'},\n",
              " {'translation_text': 'Équipes de traduction KDE'},\n",
              " {'translation_text': 'bradh@frogmouth. net'},\n",
              " {'translation_text': 'H'},\n",
              " {'translation_text': '& Ctrl; Maj; B'},\n",
              " {'translation_text': '& Chercher'},\n",
              " {'translation_text': 'kdeaddons'},\n",
              " {'translation_text': 'RIDGE VERT'},\n",
              " {'translation_text': 'Choisir les contacts à imprimer'},\n",
              " {'translation_text': 'Marque & kruler; une longueur moyenne - environ 640 pixels de long.'},\n",
              " {'translation_text': \"Si vous préférez vérifier l'orthographe explicitement, plutôt que automatiquement, vous pouvez aussi forcer l'orthographe... vérifier ici.\"},\n",
              " {'translation_text': \"Utiliser le texte pour étiquetter les objets de la liste d'observation\"},\n",
              " {'translation_text': 'Réduire toutes les catégories'},\n",
              " {'translation_text': \"Ce menu contient une option pour obtenir un indice (s'il y en a un). Les jeux de championnat et de tutorial ont des indices à chaque niveau. D'autres jeux ont rarement des indices. Il contient également des options pour rejouer des enregistrements de jeu, comme lors de démonstrations, montrant des exemples de solutions et rejouant vos propres efforts.\"},\n",
              " {'translation_text': 'Substrat'},\n",
              " {'translation_text': 'Bulqizë'},\n",
              " {'translation_text': \"Erreur lors de l'ouverture du fichier %1. %2.\"},\n",
              " {'translation_text': \"& Ouvrir l' emplacement\"},\n",
              " {'translation_text': 'Ajouter une classe pour la génération de code'},\n",
              " {'translation_text': \"Les options personnelles se rapportent à votre identité personnelle, et d'autres choses diverses qui ne relèvent d'aucune des autres catégories générales.\"},\n",
              " {'translation_text': 'Applique les paramètres actuels dans le module actuellement ouvert.'},\n",
              " {'translation_text': 'Disque'},\n",
              " {'translation_text': 'c) 2001-2002 Alexander Neundorf'},\n",
              " {'translation_text': 'Sprite de Cavalry point supérieur gauche x-coordinate. Ceci est donné relativement à la partie supérieure gauche de la carte, dimensionné comme défini dans le widget de définition de la peau principale. Cette valeur sera automatiquement mise à jour si vous déplacez la cavalerie.'},\n",
              " {'translation_text': 'Dvorak - ABCD'},\n",
              " {'translation_text': 'Avancé'},\n",
              " {'translation_text': \"Calculer l'heure standard\"},\n",
              " {'translation_text': 'Renommer le fichier, le dossier, etc.'},\n",
              " {'translation_text': 'Rendu indirect'},\n",
              " {'translation_text': 'Emplacement'},\n",
              " {'translation_text': \"Exécution de l'état sur un élément externe à %1.\"},\n",
              " {'translation_text': '6 caractères'},\n",
              " {'translation_text': 'Hobart'},\n",
              " {'translation_text': 'Par défaut du projet'},\n",
              " {'translation_text': 'La boîte de dialogue de configuration de & bombardier; vous permet de sélectionner des thèmes visuels pour & bombardier;.'},\n",
              " {'translation_text': '& Orientation'},\n",
              " {'translation_text': 'Coordonnée Y'},\n",
              " {'translation_text': 'Un gestionnaire de fenêtres keyboard-friendly avec des fenêtres carrelées, basé sur PWM'},\n",
              " {'translation_text': 'Cisco - Interrupteur vocal'},\n",
              " {'translation_text': \"Cette option spécifie le nombre d'espaces utilisés par Tidy pour identifier le contenu, lorsque l'indentation est activée.\"},\n",
              " {'translation_text': 'Coordonnée & Grille'},\n",
              " {'translation_text': '& La première rangée contient des en-têtes'},\n",
              " {'translation_text': 'Bonne signature depuis & %1 ID de la clé & #160;: %2'},\n",
              " {'translation_text': 'Degrés Rankine'},\n",
              " {'translation_text': 'Cabano'},\n",
              " {'translation_text': 'Si cochée, les objets du catalogue Messier seront cachés lorsque la carte sera en mouvement.'},\n",
              " {'translation_text': 'Tube RFB entrant'},\n",
              " {'translation_text': \"Si vous utilisez un serveur de nouvelles local, les articles n'apparaissent que si le serveur de nouvelles les a déjà obtenus depuis Internet; si vous utilisez leafnode, cela se fait par le programme fetchnews.\"},\n",
              " {'translation_text': 'Lancement rapide'},\n",
              " {'translation_text': 'HP; JetDirect Protocol Direct TCP/ IP Printing'},\n",
              " {'translation_text': 'KDevelop GUI Builder basé sur Qt Designer'},\n",
              " {'translation_text': 'Nombre de cercles'},\n",
              " {'translation_text': 'Oklahoma'},\n",
              " {'translation_text': 'semaine'},\n",
              " {'translation_text': '& Charger la liste des chaînes depuis le fichier...'},\n",
              " {'translation_text': 'A partir du curseur'},\n",
              " {'translation_text': \"Si les messages ne sont pas cochés, ils seront toujours stockés non chiffrés dans votre dossier d'envoi, même s'ils sont cryptés.\"},\n",
              " {'translation_text': 'CRÉDIT_FOR_TRANSLATORS'},\n",
              " {'translation_text': \"Sélectionne tout le texte dans la fenêtre de l'éditeur.\"},\n",
              " {'translation_text': \"La connexion peut ne pas contenir d'espaces ou de colons !\"},\n",
              " {'translation_text': 'Re_démarrer'},\n",
              " {'translation_text': 'Little Four Joys'},\n",
              " {'translation_text': \"Choisissez le type de base de données que vous souhaitez utiliser. La plupart des utilisateurs voudront choisir ici une simple base de données locale. Cependant, vous pouvez également utiliser des serveurs distants au moyen d'une base de données MySQL ou PostgreSQLTM.\"},\n",
              " {'translation_text': 'Moyenne'},\n",
              " {'translation_text': \"La demande d'abonnement a échoué.\"},\n",
              " {'translation_text': 'Masse atomique'},\n",
              " {'translation_text': 'Exporte les certificats sélectionnés dans un fichier.'},\n",
              " {'translation_text': 'Vibrorg'},\n",
              " {'translation_text': 'Voile douches'},\n",
              " {'translation_text': 'Sortir du script'},\n",
              " {'translation_text': 'Écraser le fichier ?'},\n",
              " {'translation_text': 'Utiliser & stateful crypting'},\n",
              " {'translation_text': 'Périodes de neige humide'},\n",
              " {'translation_text': 'Activer le débogueur'},\n",
              " {'translation_text': 'La Massana'},\n",
              " {'translation_text': 'Accès aux applications cachées minimisé dans le plateau du système'},\n",
              " {'translation_text': 'Auteur original'},\n",
              " {'translation_text': 'K'},\n",
              " {'translation_text': '& kappname;'},\n",
              " {'translation_text': \"Utiliser l'affichage du serveur X 'affiche le nom '\"},\n",
              " {'translation_text': \"Environnement qui permet à LaTeX d'imprimer exactement ce que vous saisissez. Dans cette variante, les espaces sont imprimés d'une manière spéciale.\"},\n",
              " {'translation_text': 'Auteur'},\n",
              " {'translation_text': 'Compte préféré'},\n",
              " {'translation_text': \"une entrée de marque d' arrêt\"},\n",
              " {'translation_text': 'Ce filtre, maintenant, affiche tous les articles, pas plus de 3 jours, contenant knode dans le sujet.'},\n",
              " {'translation_text': 'Changer le facteur de formulaire'},\n",
              " {'translation_text': 'Kevin Krammer'},\n",
              " {'translation_text': \"Les appareils et programmes suivants n'ont pas pu être mis à jour & #160;:\"},\n",
              " {'translation_text': 'V'},\n",
              " {'translation_text': 'Heritage acls'},\n",
              " {'translation_text': 'Commentaire & #160;: %1'},\n",
              " {'translation_text': '*. mac_BAR_Maxima batch File'},\n",
              " {'translation_text': 'Impossible de télécharger le message daté %1 de %2 avec le sujet %3 vers le serveur.'},\n",
              " {'translation_text': \"Extension non valable, manquante'manifest. xml 'ou'source. tar. bz2'\"},\n",
              " {'translation_text': 'ESSID & #160;:'},\n",
              " {'translation_text': 'Afficher à la taille réelle dans une vue différente. Sinon, cliquez avec le bouton du milieu de la souris sur la bande dessinée.'},\n",
              " {'translation_text': 'Serveur MySQL trouvé & #160;: %1'},\n",
              " {'translation_text': '& Refaire'},\n",
              " {'translation_text': 'Solveur & #160;: ce jeu est perdu.'},\n",
              " {'translation_text': '& Démo principale'},\n",
              " {'translation_text': 'AppleSingle'},\n",
              " {'translation_text': 'Comment laisser des messages sur le serveur ?'},\n",
              " {'translation_text': 'SAO/ R96P'},\n",
              " {'translation_text': 'Si vous avez des plugins & konqueror; installés, il y aura des entrées supplémentaires dans le menu Outils. Consultez le chapitre Plugins de konqueror; pour plus de détails.'},\n",
              " {'translation_text': 'Vitesse de chargement assurée'},\n",
              " {'translation_text': 'Cacher les formulaires'},\n",
              " {'translation_text': 'Agrafer toutes les 12 feuilles'},\n",
              " {'translation_text': \"KWord Filtre d'importation WordPerfect\"},\n",
              " {'translation_text': 'Semences moyennes connectées par torrent de course'},\n",
              " {'translation_text': 'Créer un nouveau dossier de modèle'},\n",
              " {'translation_text': 'Quelques trucs et astuces'},\n",
              " {'translation_text': 'KDE'},\n",
              " {'translation_text': \"Calculer l'expression\"},\n",
              " {'translation_text': 'Ordre de tri par défaut'},\n",
              " {'translation_text': 'Insérer une boîte de texte'},\n",
              " {'translation_text': 'Affiche la présentation avec un visionneur & PostScript;, exactement comme si elle était imprimée.'},\n",
              " {'translation_text': 'Support pour de nombreuses villes en Slovaquie, mais avec des données statiques. Il y a aussi support pour bratislava avec des données dynamiques.'},\n",
              " {'translation_text': 'Mirror Format est incorrect. Il doit être valide http, ftp, ou URL de fichier'},\n",
              " {'translation_text': 'Propriétés du timbre'},\n",
              " {'translation_text': 'Parallèlement'},\n",
              " {'translation_text': \"Cette dernière fonction mentionnée n'a pas été largement utilisée à l'intérieur de & kde; jusqu'à présent, car les développeurs ne sont pas encore pleinement conscients de la puissance de & kdeprint;. Attendez-vous à en avoir d'autres dans un avenir proche. Un exemple que j'ai découvert est l'application & kcron;. Il vous permet de modifier le crontab à travers un & GUI;. Les développeurs ont implémenté une fonction d'impression qui vous permet (ou la racine) de choisir si vous voulez imprimer l'ensemble du crontab (pour tous les utilisateurs) ou simplement la partie qui est marquée. Vous pouvez voir les effets sur & kdeprint; dans les captures d'écran suivantes.\"},\n",
              " {'translation_text': 'Faire compter la note de marge sur le corps du texte'},\n",
              " {'translation_text': 'Exporter vers le destinataire'},\n",
              " {'translation_text': 'Rafraîchit les périphériques & #160;: cette commande force & partman; à analyser et à lire à nouveau les périphériques de votre ordinateur. Cela peut par exemple être utile si vous vous branchez sur un disque dur USB externe après avoir démarré & partman;.'},\n",
              " {'translation_text': 'Fog/ brume de pluie légère'},\n",
              " {'translation_text': 'Tous les bureaux'},\n",
              " {'translation_text': 'KMathTrigGraphPart'},\n",
              " {'translation_text': '& Chiffrer le message'},\n",
              " {'translation_text': 'Exercice de conversion'},\n",
              " {'translation_text': \"Une fois le modem dans l'état de la commande, vous pouvez l'envoyer. Pour le raccrocher, envoyez la commande ATH. Les codes d'échappement et la chaîne d'attente utilisée par & kppp; sont affichés dans la boîte de dialogue Modem Commands. Ceux-ci doivent correspondre à votre modem.\"},\n",
              " {'translation_text': 'O'},\n",
              " {'translation_text': 'Copier toutes les pages (non triées)'},\n",
              " {'translation_text': 'Std dev. & #160;:'},\n",
              " {'translation_text': 'Éditable & #160;:'},\n",
              " {'translation_text': 'Dollar des Îles Salomon'},\n",
              " {'translation_text': 'Commandes à éditer'},\n",
              " {'translation_text': 'Réseau, DNS, itinéraires, interfaces'},\n",
              " {'translation_text': 'Luminosité'},\n",
              " {'translation_text': 'Nauru'},\n",
              " {'translation_text': 'Cadran vocal'},\n",
              " {'translation_text': 'Taille du bouton & #160;:'},\n",
              " {'translation_text': 'Critique'},\n",
              " {'translation_text': 'Félicitations! Vous avez résolu le niveau %1 avec %2 moves! Avancer vers le suivant?'},\n",
              " {'translation_text': 'Boîte de dialogue'},\n",
              " {'translation_text': '... et la FAQ K3b ne vous aide pas...'},\n",
              " {'translation_text': 'Gilles Calier'},\n",
              " {'translation_text': 'En sélectionnant K Bouton Applications Configuration du système.'},\n",
              " {'translation_text': 'Qualité à laquelle une carte animée est peinte.'},\n",
              " {'translation_text': 'Nouveaux sous-clés & #160;:'},\n",
              " {'translation_text': 'Impossible de créer une mise en page sans nom.'},\n",
              " {'translation_text': 'En cours'},\n",
              " {'translation_text': \"Artiste de l'icône Kompare\"},\n",
              " {'translation_text': \"Activer/ Désactiver l' œil de l' oiseau\"},\n",
              " {'translation_text': 'Tableau'},\n",
              " {'translation_text': 'Exécuter néanmoins'},\n",
              " {'translation_text': 'Velocity'},\n",
              " {'translation_text': 'Remarques & #160;:'},\n",
              " {'translation_text': 'Fichier et paramètres du programme.'},\n",
              " {'translation_text': \"Pas de nom d' option donné\"},\n",
              " {'translation_text': \"Sélectionner l' année & Images\"},\n",
              " {'translation_text': 'Dollar guyanais'},\n",
              " {'translation_text': '& knetwalk;, un jeu pour les administrateurs système.'},\n",
              " {'translation_text': \"Menus définis par l' utilisateur\"},\n",
              " {'translation_text': 'Définit un jour de semaine et une semaine spécifique dans le mois sur lequel cet événement ou à faire doit se reproduire'},\n",
              " {'translation_text': 'Passwd discussion timeout & #160;:'},\n",
              " {'translation_text': '& Déplacement/ redimensionnement'},\n",
              " {'translation_text': '& Augmenter le volume'},\n",
              " {'translation_text': '0123456789'},\n",
              " {'translation_text': 'Pager'},\n",
              " {'translation_text': 'KImageMapEditor'},\n",
              " {'translation_text': 'Interruption'},\n",
              " {'translation_text': 'Folio américain'},\n",
              " {'translation_text': 'Le mot de passe que vous avez saisi a une faible force. Pour améliorer la force du mot de passe, essayez & #160;: - en utilisant un mot de passe plus long; - en utilisant un mélange de lettres majuscules et minuscules; - en utilisant des nombres ou des symboles ainsi que des lettres. Voulez-vous utiliser ce mot de passe de toute façon & #160;?'},\n",
              " {'translation_text': 'Ajouter un suivi'},\n",
              " {'translation_text': 'ou'},\n",
              " {'translation_text': \"Si cochée, le clic droit sur un élément le sélectionnera, mais ne désélectionnera pas d'autres éléments déjà sélectionnés.\"},\n",
              " {'translation_text': \"Trouver la prochaine occurrence d'un morceau de texte dans une présentation.\"},\n",
              " {'translation_text': 'Verbe'},\n",
              " {'translation_text': 'Configurer le partage de fichiers...'},\n",
              " {'translation_text': 'Impossible de créer des menus (peut-être %1 manquant ou corrompu)'},\n",
              " {'translation_text': \"Avertissement d'encodage de fichier\"},\n",
              " {'translation_text': 'Aller à & #160;:'},\n",
              " {'translation_text': \"Page d'exportation\"},\n",
              " {'translation_text': 'Aliments importés'},\n",
              " {'translation_text': 'Afrique/ Conakry'},\n",
              " {'translation_text': 'Protocole de messagerie instantanée de KAddressbook'},\n",
              " {'translation_text': 'Tom Albers'},\n",
              " {'translation_text': 'Glossaire'},\n",
              " {'translation_text': \"Charge la liste des bases de données depuis le serveur, de sorte que vous pouvez en sélectionner une à l'aide de la boîte combo « Nom ».\"},\n",
              " {'translation_text': 'Kugar'},\n",
              " {'translation_text': 'localErrorRatio'},\n",
              " {'translation_text': 'Chemin vers les sous-titres externes'},\n",
              " {'translation_text': 'Document à ouvrir'},\n",
              " {'translation_text': 'Ngultrum'},\n",
              " {'translation_text': 'Temps depuis la première séance de pratique en jours'},\n",
              " {'translation_text': '& Annuler'},\n",
              " {'translation_text': 'Description'},\n",
              " {'translation_text': 'Algorithme slider'},\n",
              " {'translation_text': \"Manuel de l'utilisateur de & kde;\"},\n",
              " {'translation_text': \"Mise à jour de l'étiquette, de la branche ou de la date\"},\n",
              " {'translation_text': 'Stdin est vide, pas de travail envoyé.'},\n",
              " {'translation_text': \"Re & #160;: c'est un test\"},\n",
              " {'translation_text': 'Objets dans le ciel'},\n",
              " {'translation_text': \"Basculer l'affichage des étiquettes de noms de planètes\"},\n",
              " {'translation_text': '& Signaler un bogue...'},\n",
              " {'translation_text': 'La bibliographie est une section en dehors de votre document principal, et un exemple de code pour la bibliographie ressemblerait à ce qui suit:'},\n",
              " {'translation_text': '160 kbs'},\n",
              " {'translation_text': 'Modifier'},\n",
              " {'translation_text': 'Secret & #160;: %1'},\n",
              " {'translation_text': 'Long Middle Short Cone Space (gonfle 32 bits/ canal)'},\n",
              " {'translation_text': \"Information sur le droit d'auteur sur le mot croisé\"},\n",
              " {'translation_text': 'Manuel & klettres;'},\n",
              " {'translation_text': \"J'ai fait une bonne image et je veux la partager avec mes amis. Puis-je l'enregistrer en tant qu'image ?\"},\n",
              " {'translation_text': 'Tamil'},\n",
              " {'translation_text': 'AutoLoginDelay'},\n",
              " {'translation_text': 'CHAR(65) renvoie « A »'},\n",
              " {'translation_text': 'Vérifiez les jours de la semaine qui sont des jours de travail'},\n",
              " {'translation_text': 'ISO A9'},\n",
              " {'translation_text': \"Réglez la longueur de l'arc de votre tarte.\"},\n",
              " {'translation_text': 'Notification de nouveaux messages'},\n",
              " {'translation_text': \"Le logiciel n'est pas en cours d'exécution\"},\n",
              " {'translation_text': 'Choisissez simplement les conditions que vous souhaitez inclure dans votre recherche, puis cliquez sur OK pour créer votre liste de lecture de recherche!'},\n",
              " {'translation_text': 'Vue DUChain'},\n",
              " {'translation_text': 'Basculer vers le mode Affichage par défaut.'},\n",
              " {'translation_text': 'Cliquez ensuite sur le bouton flèche droite pour le placer dans le panneau droit.'},\n",
              " {'translation_text': 'Apparence'},\n",
              " {'translation_text': 'Ce manuel décrit & kteatime;, le théière & kde;.'},\n",
              " {'translation_text': 'Adresse'},\n",
              " {'translation_text': 'retardAnnuler'},\n",
              " {'translation_text': \"Avec ce champ d'entrée, vous spécifiez le dossier que vous voulez charger pour créer le nouveau dictionnaire.\"},\n",
              " {'translation_text': 'Inverser'},\n",
              " {'translation_text': 'Crée une image RVB blanche de 1600 x 1200 pixels.'},\n",
              " {'translation_text': 'ROLES_OF_TRANSLATORS'},\n",
              " {'translation_text': 'RLE'},\n",
              " {'translation_text': 'Configuration des modèles'},\n",
              " {'translation_text': \"Spécifier le comportement d'une session à choix multiples\"},\n",
              " {'translation_text': 'Définir le nom...'},\n",
              " {'translation_text': 'En décochant la case Sons, les effets sonores de & clignote; seront supprimés.'},\n",
              " {'translation_text': 'Seuil & #160;:'},\n",
              " {'translation_text': 'Circuit - Capacitateur vertical'},\n",
              " {'translation_text': 'Aller'},\n",
              " {'translation_text': '& Fichier'},\n",
              " {'translation_text': 'Quitter & kguitar;'},\n",
              " {'translation_text': 'Propriété'},\n",
              " {'translation_text': 'Golf'},\n",
              " {'translation_text': \"Abréviation pour S synchrone P eripheral O perations O n L ine; SPOOL ing permet aux applications d'impression (et aux utilisateurs) de poursuivre leur travail pendant que le travail est pris en charge par un démon système, qui stocke le fichier à un emplacement temporaire jusqu'à ce que l'imprimante soit prête à imprimer.\"},\n",
              " {'translation_text': 'Peter Hedlund'},\n",
              " {'translation_text': '... vous pouvez appuyer sur +, -, CTRL + ou CTRL - pour changer rapidement les dates.'},\n",
              " {'translation_text': \"Basculer l' orientation de fractionnement\"},\n",
              " {'translation_text': '& kolourpaint; est un programme de peinture libre et facile à utiliser pour & kde;.'},\n",
              " {'translation_text': 'Charger'},\n",
              " {'translation_text': 'Veuillez insérer un support DVD vide ou appendable dans le lecteur%1'},\n",
              " {'translation_text': 'Menkent'},\n",
              " {'translation_text': 'Tous & #160;:'},\n",
              " {'translation_text': 'vide'},\n",
              " {'translation_text': 'Lorsque & kappname; démarre, vous êtes présenté avec un menu principal.'},\n",
              " {'translation_text': 'Planifier la mise à jour de la demande'},\n",
              " {'translation_text': 'Construisez une courbe de Bézier quadratique avec ce point de contrôle'},\n",
              " {'translation_text': '%1 rupiahs'},\n",
              " {'translation_text': 'Afrique/ Dar_es_Salaam'},\n",
              " {'translation_text': 'Préfixes numériques et chiffres romains'},\n",
              " {'translation_text': 'Écrire le lead-out peut prendre un certain temps.'},\n",
              " {'translation_text': 'Slider %1'},\n",
              " {'translation_text': 'Aperçu...'},\n",
              " {'translation_text': \"Importation de certificat & #160;: le certificat CA n'a pas pu être extrait.\"},\n",
              " {'translation_text': 'kuser'},\n",
              " {'translation_text': '192 kbs'},\n",
              " {'translation_text': \"Si cette option est cochée, K3b vérifiera la configuration du système pour tout problème au démarrage et lorsque l'utilisateur change les paramètres.\"},\n",
              " {'translation_text': \"L'ASAR BATTLEFIELD\"},\n",
              " {'translation_text': 'Est native se déplaçant (possiblement wobbling windows) active'},\n",
              " {'translation_text': 'Marge supérieure'},\n",
              " {'translation_text': 'Kile'},\n",
              " {'translation_text': 'Le menu Fichier'},\n",
              " {'translation_text': \"& Solveur d'équation...\"},\n",
              " {'translation_text': 'Développeur de base et auteur original'},\n",
              " {'translation_text': 'M3 est également courant, mais différent sur de nombreuses marques'},\n",
              " {'translation_text': 'Nouvelle contrainte...'},\n",
              " {'translation_text': '& Pamela. Roberts;'},\n",
              " {'translation_text': 'Jujuy (JY)'},\n",
              " {'translation_text': \"suffixe d'achèvement de Nick & #160;:\"},\n",
              " {'translation_text': 'Ctrl; - Affichage'},\n",
              " {'translation_text': \"& Paragraphe tiret par touches de barre d' outils & #160;:\"},\n",
              " {'translation_text': 'Jeu de minigolf KDE'},\n",
              " {'translation_text': 'Guadalajara'},\n",
              " {'translation_text': '& Album'},\n",
              " {'translation_text': 'et modifiez-le & #160;:'},\n",
              " {'translation_text': 'Flèche circulaire'},\n",
              " {'translation_text': '& Exporter le pilote...'},\n",
              " {'translation_text': '& Lauri. Watts; & Lauri. Watts. mail;'},\n",
              " {'translation_text': '4.400'},\n",
              " {'translation_text': 'MPEG Layer 2 (mp2)'},\n",
              " {'translation_text': 'Préserver la luminosité'},\n",
              " {'translation_text': '1.90'},\n",
              " {'translation_text': '(Défaut) Désactiver la prévention du vol pour XV'},\n",
              " {'translation_text': 'Choisissez comment combiner les options que vous spécifiez ici avec les options par défaut définies dans les paramètres de KPlayer. Par défaut utilise les options des paramètres de KPlayer, définissez Pour les remplacer par les options définies ici, et ajoutez ces options aux options par défaut.'},\n",
              " {'translation_text': 'K3bSetup – modifier la permission de gravure sur CD/ DVD avec K3b'},\n",
              " {'translation_text': \"Eva Brucherseifer pour l'écriture de KMath (kbruch; 's & GUI; est basé sur ce travail)\"},\n",
              " {'translation_text': \"Temps %1 & #160;: %2 & #160;: %3. %4 n'est pas valable.\"},\n",
              " {'translation_text': \"Affiche la correspondance actuelle des lettres de réponse aux nombres d'indices.\"},\n",
              " {'translation_text': \"Indique si les fichiers organisés renommeront des fichiers de sorte qu'ils ne contiennent que des caractères ASCII 7 bits.\"},\n",
              " {'translation_text': 'Clés de confiance disponibles'},\n",
              " {'translation_text': 'Dans les deux cas, & kspread; supposera que les données sont sous forme CSV et ouvrira une boîte de dialogue vous permettant de contrôler la manière dont les données sont extraites du fichier ou du presse-papiers et placées dans les cellules de la feuille de travail.'},\n",
              " {'translation_text': 'graphiques. xml'},\n",
              " {'translation_text': 'Impossible de supprimer le webseed %1, il fait partie du torrent.'},\n",
              " {'translation_text': 'Pour importer un fichier de données existant, saisissez son nom de fichier ici. Vous décrirez ensuite le contenu du fichier ci-dessous. Vous pouvez laisser le nom de fichier vide pour construire un fichier de catalogue avec un en-tête valide, mais pas de données.'},\n",
              " {'translation_text': \"Barre d' outils principale\"},\n",
              " {'translation_text': \"Enregistrer les modifications d' objets\"},\n",
              " {'translation_text': 'Jens Herden'},\n",
              " {'translation_text': 'Importation de certificats...'},\n",
              " {'translation_text': 'Renommer'},\n",
              " {'translation_text': 'chartreuse1'},\n",
              " {'translation_text': 'Dernière déclaration réconciliée & #160;: %1'},\n",
              " {'translation_text': 'Il semble que nous ayons été redirigés vers un autre serveur; je ne sais pas comment gérer cela.'},\n",
              " {'translation_text': 'Connexion'},\n",
              " {'translation_text': \"Les options suivantes déterminent les aspects de base de l'opération:\"},\n",
              " {'translation_text': 'Adresse Hw'},\n",
              " {'translation_text': 'Résistance du signal & #160;:'},\n",
              " {'translation_text': \"La suppression des objets se fait en les sélectionnant d'abord, puis en faisant l'un ou l'autre de ces choix & #160;:\"},\n",
              " {'translation_text': 'Chemin'},\n",
              " {'translation_text': 'Trouver des recettes correspondantes'},\n",
              " {'translation_text': '%1x%2x%3 brique, %4 mouvements de shuffling'},\n",
              " {'translation_text': \"Les sections suivantes décrivent, en détail, chaque élément. Tout de l'endroit où ils peuvent aller à ce qui s'y passe est exposé de manière facile à suivre.\"},\n",
              " {'translation_text': 'c), 2003 Cornelius Schumacher'},\n",
              " {'translation_text': 'Les actions montées seront affichées dans une vue de liste.'},\n",
              " {'translation_text': 'Comparaison de 2 fichiers & #160;:'},\n",
              " {'translation_text': 'Kjumpingcube'},\n",
              " {'translation_text': 'Message'},\n",
              " {'translation_text': \"Pour déterminer si un fichier de signets donné a été fusionné dans les signets de l'utilisateur déjà ou non, & kbookmarkmerger; regarde simplement le nom du fichier de signets - le contenu n'est pas coché du tout. Cela signifie que changer un fichier de signets qui a déjà été fusionné dans les signets d'un utilisateur ne déclenchera pas la fusion une fois de plus.\"},\n",
              " {'translation_text': 'OpenOffice Polska LLC'},\n",
              " {'translation_text': 'République du Congo'},\n",
              " {'translation_text': \"Permet aux entrées de la session actuelle d'être envoyées simultanément aux sessions sélectionnées par l'utilisateur (plus d'informations)\"},\n",
              " {'translation_text': 'lignes'},\n",
              " {'translation_text': 'Pourrait déterminer le projet actif'},\n",
              " {'translation_text': 'Coller le contenu du presse-papiers...'},\n",
              " {'translation_text': 'Si cela est désactivé et que vous appuyez sur la touche tabulateur, un tabulaire est inséré, sinon le nombre approprié de caractères est inséré.'},\n",
              " {'translation_text': 'Active/ Désactive la construction de document ANT (Java)'},\n",
              " {'translation_text': 'Jaune'},\n",
              " {'translation_text': 'Créer une nouvelle collection'},\n",
              " {'translation_text': 'Le groupe auquel doit appartenir la socket de commande globale; peut être soit un nom, soit un identifiant numérique.'},\n",
              " {'translation_text': \"Utilisez les paramètres de cache HTML à l'échelle de KDE lors du téléchargement des flux, afin d'éviter le trafic inutile. Désactivez seulement lorsque cela est nécessaire.\"},\n",
              " {'translation_text': 'KDE'},\n",
              " {'translation_text': 'Pluton'},\n",
              " {'translation_text': 'Inconnu'},\n",
              " {'translation_text': 'Configurer'},\n",
              " {'translation_text': 'Source'},\n",
              " {'translation_text': 'Envelopper les longues lignes'},\n",
              " {'translation_text': 'Le menu Fichier'},\n",
              " {'translation_text': \"Si activé, le facteur de zoom sur un cadre n'est appliqué qu'au texte.\"},\n",
              " {'translation_text': 'Utilisateur & #160;:'},\n",
              " {'translation_text': \"Le mimetype spécifié n'a pas d'usine de composants installée\"},\n",
              " {'translation_text': \"La séquence clé « & #160; %1 & #160; » est ambiguë. Utiliser & #160; « & #160; Configurer les raccourcis & #160; » depuis le menu « & #160; Réglages & #160; » pour résoudre l'ambiguïté. Aucune action ne sera déclenchée.\"},\n",
              " {'translation_text': 'Il y a beaucoup de fonctionnalités que vous pouvez ajouter à votre document qui le rendront plus lisible et convivial. Vous pouvez ajouter des fonctionnalités telles que des polices spécifiques, des caractères gras, des italiques, souligner & etc; à votre document, et ces commandes se terminent par une commande \\\\\\\\end, ou à la fin de votre environnement.'},\n",
              " {'translation_text': '10.345 Lsh 3 = donne aussi 80.'},\n",
              " {'translation_text': 'Antonio Aloisio'},\n",
              " {'translation_text': \"Ouvrir un fichier de base, puis déposer sa version modifiée dans la vue Sync primaire, puis Alt; Down ou Alt; Up (souvenez-vous que les raccourcis peuvent être modifiés d'une manière habituelle pour toutes les applications de & kde;) pour naviguer à travers les entrées qui sont différentes.\"},\n",
              " {'translation_text': 'Paraguay Guarani'},\n",
              " {'translation_text': 'Inverser/écraser le mode.'},\n",
              " {'translation_text': 'Argon'},\n",
              " {'translation_text': 'Limite de chargement'},\n",
              " {'translation_text': \"Barre d' outils Stick\"},\n",
              " {'translation_text': '*.svg_BAR_Scalable Vec tor Graphics'},\n",
              " {'translation_text': 'Janet'},\n",
              " {'translation_text': \"Vos choix ici affectent chaque application & kde; qui rend HTML avec le propre rendu de & kde;, qui s'appelle khtml. Ceux-ci comprennent & kmail;, & khelpcenter; et bien sûr & konqueror;. Les choix ici n'affectent pas d'autres navigateurs comme & Netscape;.\"},\n",
              " {'translation_text': \"Vous êtes sur le point de recréer l'index du dossier %1. Ceci détruira toutes les informations sur l'état du message. Voulez-vous vraiment continuer & #160;?\"},\n",
              " {'translation_text': \"Les raccourcis standard et les raccourcis globaux fonctionnent exactement de la même manière. En fait, d'une certaine manière, les raccourcis standard ou d'application sont aussi globaux. La seule différence est & #160;:\"},\n",
              " {'translation_text': '& Largeur'},\n",
              " {'translation_text': \"HotSync est désactivé parce que KPilot n'a pas pu déterminer l'état de l'économiseur d'écran. Vous pouvez désactiver cette fonction de sécurité en décochant la 'ne pas synchroniser lorsque l'économiseur d'écran est actif' dans la page HotSync de la boîte de dialogue de configuration.\"},\n",
              " {'translation_text': 'Un widget de boîte combo'},\n",
              " {'translation_text': \"Mes articles n'apparaissent pas dans le groupe de discussion.\"},\n",
              " {'translation_text': '& Pipe vers le terminal'},\n",
              " {'translation_text': 'Tailles spécifiées sont incohérentes!'},\n",
              " {'translation_text': 'IP & #160;:'},\n",
              " {'translation_text': 'Afficher le nombre de & lignes'},\n",
              " {'translation_text': \"Utilisation de la barre d' outils & #160;: cliquez sur l'icône\"},\n",
              " {'translation_text': '(C) 2005 - 2009, Les développeurs KGet (C) 2001 - 2002, Patrick Charbonnier (C) 2002, Carsten Pfeiffer (C) 1998 - 2000, Matej Koss'},\n",
              " {'translation_text': 'sous-sous-section: une section secondaire entre le sous-paragraphe et le paragraphe.'},\n",
              " {'translation_text': \"Dans vous pouvez voir la boîte de dialogue qui vous aide à importer un projet en tant que module. Pour accéder à la boîte de dialogue d'importation de & cervisia;, choisissez l'élément du menu Importer... du dépôt.\"},\n",
              " {'translation_text': 'Bevel & #160;:'},\n",
              " {'translation_text': \"Albums sans couverture qui n'affiche que les albums qui n'ont pas d'images de couverture.\"},\n",
              " {'translation_text': 'pas de configuration de version (erreur de programmeur)'},\n",
              " {'translation_text': 'Oui, yeux rouges, lumière de retour'},\n",
              " {'translation_text': \"D'autres vies peuvent être gagnées en attrapant le don de vie supplémentaire.\"},\n",
              " {'translation_text': \"Impossible d'utiliser le modificateur final sur un membre de classe abstrait.\"},\n",
              " {'translation_text': 'Ajouter aux listes de lecture'},\n",
              " {'translation_text': 'Utiliser une autre couleur de fond'},\n",
              " {'translation_text': 'Crédits'},\n",
              " {'translation_text': \"Vous avez besoin d'une variable et d'une valeur ou d'une variable pour faire un '='\"},\n",
              " {'translation_text': 'Adresse commerciale Rue'},\n",
              " {'translation_text': 'Retyper le mot de passe & #160;:'},\n",
              " {'translation_text': 'Option de menu de fichiers pour créer un diaporama HTML...'},\n",
              " {'translation_text': 'Afficher le texte défilant'},\n",
              " {'translation_text': 'Porto Rico (USA)'},\n",
              " {'translation_text': 'Hauteur & #160;:'},\n",
              " {'translation_text': 'Pause le jeu'},\n",
              " {'translation_text': 'État & #160;: %1'},\n",
              " {'translation_text': \"Si la case Activer l'anti-aliasing est cochée, la méthode anti-aliasing non récursive sera utilisée pour rendre la scène. Vous pouvez configurer les valeurs de profondeur et de seuil. Voir la section Modes de rendu pour une description détaillée des paramètres.\"},\n",
              " {'translation_text': 'Erreur'},\n",
              " {'translation_text': \"Je ne peux pas faire un '< =' sans 2 variables\"},\n",
              " {'translation_text': 'Aller sur le site Web de KDE'}]"
            ]
          },
          "metadata": {},
          "execution_count": 119
        }
      ],
      "source": [
        "translations\n"
      ]
    },
    {
      "cell_type": "code",
      "source": [],
      "metadata": {
        "id": "voMIa4owQWkD"
      },
      "id": "voMIa4owQWkD",
      "execution_count": null,
      "outputs": []
    }
  ],
  "metadata": {
    "accelerator": "GPU",
    "colab": {
      "gpuType": "T4",
      "machine_shape": "hm",
      "provenance": [],
      "toc_visible": true,
      "include_colab_link": true
    },
    "kernelspec": {
      "display_name": "Python 3",
      "name": "python3"
    },
    "language_info": {
      "codemirror_mode": {
        "name": "ipython",
        "version": 3
      },
      "file_extension": ".py",
      "mimetype": "text/x-python",
      "name": "python",
      "nbconvert_exporter": "python",
      "pygments_lexer": "ipython3",
      "version": "3.10.10"
    },
    "widgets": {
      "application/vnd.jupyter.widget-state+json": {
        "0569ef63370647fe907d857ec8ec5255": {
          "model_module": "@jupyter-widgets/controls",
          "model_module_version": "1.5.0",
          "model_name": "VBoxModel",
          "state": {
            "_dom_classes": [],
            "_model_module": "@jupyter-widgets/controls",
            "_model_module_version": "1.5.0",
            "_model_name": "VBoxModel",
            "_view_count": null,
            "_view_module": "@jupyter-widgets/controls",
            "_view_module_version": "1.5.0",
            "_view_name": "VBoxView",
            "box_style": "",
            "children": [
              "IPY_MODEL_1be47f99287b460695d4cab6ab77bca8",
              "IPY_MODEL_cc271d7166304260b741e4de307dc4d1"
            ],
            "layout": "IPY_MODEL_b7f1ba6b61ec4735aa35ced44494a181"
          }
        },
        "1be47f99287b460695d4cab6ab77bca8": {
          "model_module": "@jupyter-widgets/controls",
          "model_module_version": "1.5.0",
          "model_name": "LabelModel",
          "state": {
            "_dom_classes": [],
            "_model_module": "@jupyter-widgets/controls",
            "_model_module_version": "1.5.0",
            "_model_name": "LabelModel",
            "_view_count": null,
            "_view_module": "@jupyter-widgets/controls",
            "_view_module_version": "1.5.0",
            "_view_name": "LabelView",
            "description": "",
            "description_tooltip": null,
            "layout": "IPY_MODEL_89eb6eaf2f8643f38e14fc1d540c8ecf",
            "placeholder": "​",
            "style": "IPY_MODEL_8863ad0388f5409ab3e97ede8db48b11",
            "value": "0.011 MB of 0.020 MB uploaded (0.000 MB deduped)\r"
          }
        },
        "32b224e9b19f41c395305b6f2ae194ec": {
          "model_module": "@jupyter-widgets/base",
          "model_module_version": "1.2.0",
          "model_name": "LayoutModel",
          "state": {
            "_model_module": "@jupyter-widgets/base",
            "_model_module_version": "1.2.0",
            "_model_name": "LayoutModel",
            "_view_count": null,
            "_view_module": "@jupyter-widgets/base",
            "_view_module_version": "1.2.0",
            "_view_name": "LayoutView",
            "align_content": null,
            "align_items": null,
            "align_self": null,
            "border": null,
            "bottom": null,
            "display": null,
            "flex": null,
            "flex_flow": null,
            "grid_area": null,
            "grid_auto_columns": null,
            "grid_auto_flow": null,
            "grid_auto_rows": null,
            "grid_column": null,
            "grid_gap": null,
            "grid_row": null,
            "grid_template_areas": null,
            "grid_template_columns": null,
            "grid_template_rows": null,
            "height": null,
            "justify_content": null,
            "justify_items": null,
            "left": null,
            "margin": null,
            "max_height": null,
            "max_width": null,
            "min_height": null,
            "min_width": null,
            "object_fit": null,
            "object_position": null,
            "order": null,
            "overflow": null,
            "overflow_x": null,
            "overflow_y": null,
            "padding": null,
            "right": null,
            "top": null,
            "visibility": null,
            "width": null
          }
        },
        "8863ad0388f5409ab3e97ede8db48b11": {
          "model_module": "@jupyter-widgets/controls",
          "model_module_version": "1.5.0",
          "model_name": "DescriptionStyleModel",
          "state": {
            "_model_module": "@jupyter-widgets/controls",
            "_model_module_version": "1.5.0",
            "_model_name": "DescriptionStyleModel",
            "_view_count": null,
            "_view_module": "@jupyter-widgets/base",
            "_view_module_version": "1.2.0",
            "_view_name": "StyleView",
            "description_width": ""
          }
        },
        "89eb6eaf2f8643f38e14fc1d540c8ecf": {
          "model_module": "@jupyter-widgets/base",
          "model_module_version": "1.2.0",
          "model_name": "LayoutModel",
          "state": {
            "_model_module": "@jupyter-widgets/base",
            "_model_module_version": "1.2.0",
            "_model_name": "LayoutModel",
            "_view_count": null,
            "_view_module": "@jupyter-widgets/base",
            "_view_module_version": "1.2.0",
            "_view_name": "LayoutView",
            "align_content": null,
            "align_items": null,
            "align_self": null,
            "border": null,
            "bottom": null,
            "display": null,
            "flex": null,
            "flex_flow": null,
            "grid_area": null,
            "grid_auto_columns": null,
            "grid_auto_flow": null,
            "grid_auto_rows": null,
            "grid_column": null,
            "grid_gap": null,
            "grid_row": null,
            "grid_template_areas": null,
            "grid_template_columns": null,
            "grid_template_rows": null,
            "height": null,
            "justify_content": null,
            "justify_items": null,
            "left": null,
            "margin": null,
            "max_height": null,
            "max_width": null,
            "min_height": null,
            "min_width": null,
            "object_fit": null,
            "object_position": null,
            "order": null,
            "overflow": null,
            "overflow_x": null,
            "overflow_y": null,
            "padding": null,
            "right": null,
            "top": null,
            "visibility": null,
            "width": null
          }
        },
        "9c54aa2402754f639dd85f14ca261199": {
          "model_module": "@jupyter-widgets/controls",
          "model_module_version": "1.5.0",
          "model_name": "ProgressStyleModel",
          "state": {
            "_model_module": "@jupyter-widgets/controls",
            "_model_module_version": "1.5.0",
            "_model_name": "ProgressStyleModel",
            "_view_count": null,
            "_view_module": "@jupyter-widgets/base",
            "_view_module_version": "1.2.0",
            "_view_name": "StyleView",
            "bar_color": null,
            "description_width": ""
          }
        },
        "b7f1ba6b61ec4735aa35ced44494a181": {
          "model_module": "@jupyter-widgets/base",
          "model_module_version": "1.2.0",
          "model_name": "LayoutModel",
          "state": {
            "_model_module": "@jupyter-widgets/base",
            "_model_module_version": "1.2.0",
            "_model_name": "LayoutModel",
            "_view_count": null,
            "_view_module": "@jupyter-widgets/base",
            "_view_module_version": "1.2.0",
            "_view_name": "LayoutView",
            "align_content": null,
            "align_items": null,
            "align_self": null,
            "border": null,
            "bottom": null,
            "display": null,
            "flex": null,
            "flex_flow": null,
            "grid_area": null,
            "grid_auto_columns": null,
            "grid_auto_flow": null,
            "grid_auto_rows": null,
            "grid_column": null,
            "grid_gap": null,
            "grid_row": null,
            "grid_template_areas": null,
            "grid_template_columns": null,
            "grid_template_rows": null,
            "height": null,
            "justify_content": null,
            "justify_items": null,
            "left": null,
            "margin": null,
            "max_height": null,
            "max_width": null,
            "min_height": null,
            "min_width": null,
            "object_fit": null,
            "object_position": null,
            "order": null,
            "overflow": null,
            "overflow_x": null,
            "overflow_y": null,
            "padding": null,
            "right": null,
            "top": null,
            "visibility": null,
            "width": null
          }
        },
        "cc271d7166304260b741e4de307dc4d1": {
          "model_module": "@jupyter-widgets/controls",
          "model_module_version": "1.5.0",
          "model_name": "FloatProgressModel",
          "state": {
            "_dom_classes": [],
            "_model_module": "@jupyter-widgets/controls",
            "_model_module_version": "1.5.0",
            "_model_name": "FloatProgressModel",
            "_view_count": null,
            "_view_module": "@jupyter-widgets/controls",
            "_view_module_version": "1.5.0",
            "_view_name": "ProgressView",
            "bar_style": "",
            "description": "",
            "description_tooltip": null,
            "layout": "IPY_MODEL_32b224e9b19f41c395305b6f2ae194ec",
            "max": 1,
            "min": 0,
            "orientation": "horizontal",
            "style": "IPY_MODEL_9c54aa2402754f639dd85f14ca261199",
            "value": 0.5525220253654759
          }
        },
        "c2432932b5864a5eaedb34fe2bef849c": {
          "model_module": "@jupyter-widgets/controls",
          "model_name": "HBoxModel",
          "model_module_version": "1.5.0",
          "state": {
            "_dom_classes": [],
            "_model_module": "@jupyter-widgets/controls",
            "_model_module_version": "1.5.0",
            "_model_name": "HBoxModel",
            "_view_count": null,
            "_view_module": "@jupyter-widgets/controls",
            "_view_module_version": "1.5.0",
            "_view_name": "HBoxView",
            "box_style": "",
            "children": [
              "IPY_MODEL_855745dc42614a3fa1c79a78c13d4007",
              "IPY_MODEL_b18f974df5ec47bc881cb9688d33b5c5",
              "IPY_MODEL_be369172d4f64a8cad4c67f9b070bde0"
            ],
            "layout": "IPY_MODEL_ed564e15108d412ebe5b105c459217fa"
          }
        },
        "855745dc42614a3fa1c79a78c13d4007": {
          "model_module": "@jupyter-widgets/controls",
          "model_name": "HTMLModel",
          "model_module_version": "1.5.0",
          "state": {
            "_dom_classes": [],
            "_model_module": "@jupyter-widgets/controls",
            "_model_module_version": "1.5.0",
            "_model_name": "HTMLModel",
            "_view_count": null,
            "_view_module": "@jupyter-widgets/controls",
            "_view_module_version": "1.5.0",
            "_view_name": "HTMLView",
            "description": "",
            "description_tooltip": null,
            "layout": "IPY_MODEL_5867fed10bfd4fb491cdba242f1af004",
            "placeholder": "​",
            "style": "IPY_MODEL_b9763f88dea74c8fa8d3d153436b5cd5",
            "value": "Map: 100%"
          }
        },
        "b18f974df5ec47bc881cb9688d33b5c5": {
          "model_module": "@jupyter-widgets/controls",
          "model_name": "FloatProgressModel",
          "model_module_version": "1.5.0",
          "state": {
            "_dom_classes": [],
            "_model_module": "@jupyter-widgets/controls",
            "_model_module_version": "1.5.0",
            "_model_name": "FloatProgressModel",
            "_view_count": null,
            "_view_module": "@jupyter-widgets/controls",
            "_view_module_version": "1.5.0",
            "_view_name": "ProgressView",
            "bar_style": "success",
            "description": "",
            "description_tooltip": null,
            "layout": "IPY_MODEL_7ac66e6febcd4d6ab880dae759c35893",
            "max": 1000,
            "min": 0,
            "orientation": "horizontal",
            "style": "IPY_MODEL_836e2425c76d49ba823872e22a89daa8",
            "value": 1000
          }
        },
        "be369172d4f64a8cad4c67f9b070bde0": {
          "model_module": "@jupyter-widgets/controls",
          "model_name": "HTMLModel",
          "model_module_version": "1.5.0",
          "state": {
            "_dom_classes": [],
            "_model_module": "@jupyter-widgets/controls",
            "_model_module_version": "1.5.0",
            "_model_name": "HTMLModel",
            "_view_count": null,
            "_view_module": "@jupyter-widgets/controls",
            "_view_module_version": "1.5.0",
            "_view_name": "HTMLView",
            "description": "",
            "description_tooltip": null,
            "layout": "IPY_MODEL_692981bd5b0f49d7bb8c56c436d6ea25",
            "placeholder": "​",
            "style": "IPY_MODEL_447f5584f115416587a7d493b83a599a",
            "value": " 1000/1000 [00:00&lt;00:00, 5048.74 examples/s]"
          }
        },
        "ed564e15108d412ebe5b105c459217fa": {
          "model_module": "@jupyter-widgets/base",
          "model_name": "LayoutModel",
          "model_module_version": "1.2.0",
          "state": {
            "_model_module": "@jupyter-widgets/base",
            "_model_module_version": "1.2.0",
            "_model_name": "LayoutModel",
            "_view_count": null,
            "_view_module": "@jupyter-widgets/base",
            "_view_module_version": "1.2.0",
            "_view_name": "LayoutView",
            "align_content": null,
            "align_items": null,
            "align_self": null,
            "border": null,
            "bottom": null,
            "display": null,
            "flex": null,
            "flex_flow": null,
            "grid_area": null,
            "grid_auto_columns": null,
            "grid_auto_flow": null,
            "grid_auto_rows": null,
            "grid_column": null,
            "grid_gap": null,
            "grid_row": null,
            "grid_template_areas": null,
            "grid_template_columns": null,
            "grid_template_rows": null,
            "height": null,
            "justify_content": null,
            "justify_items": null,
            "left": null,
            "margin": null,
            "max_height": null,
            "max_width": null,
            "min_height": null,
            "min_width": null,
            "object_fit": null,
            "object_position": null,
            "order": null,
            "overflow": null,
            "overflow_x": null,
            "overflow_y": null,
            "padding": null,
            "right": null,
            "top": null,
            "visibility": null,
            "width": null
          }
        },
        "5867fed10bfd4fb491cdba242f1af004": {
          "model_module": "@jupyter-widgets/base",
          "model_name": "LayoutModel",
          "model_module_version": "1.2.0",
          "state": {
            "_model_module": "@jupyter-widgets/base",
            "_model_module_version": "1.2.0",
            "_model_name": "LayoutModel",
            "_view_count": null,
            "_view_module": "@jupyter-widgets/base",
            "_view_module_version": "1.2.0",
            "_view_name": "LayoutView",
            "align_content": null,
            "align_items": null,
            "align_self": null,
            "border": null,
            "bottom": null,
            "display": null,
            "flex": null,
            "flex_flow": null,
            "grid_area": null,
            "grid_auto_columns": null,
            "grid_auto_flow": null,
            "grid_auto_rows": null,
            "grid_column": null,
            "grid_gap": null,
            "grid_row": null,
            "grid_template_areas": null,
            "grid_template_columns": null,
            "grid_template_rows": null,
            "height": null,
            "justify_content": null,
            "justify_items": null,
            "left": null,
            "margin": null,
            "max_height": null,
            "max_width": null,
            "min_height": null,
            "min_width": null,
            "object_fit": null,
            "object_position": null,
            "order": null,
            "overflow": null,
            "overflow_x": null,
            "overflow_y": null,
            "padding": null,
            "right": null,
            "top": null,
            "visibility": null,
            "width": null
          }
        },
        "b9763f88dea74c8fa8d3d153436b5cd5": {
          "model_module": "@jupyter-widgets/controls",
          "model_name": "DescriptionStyleModel",
          "model_module_version": "1.5.0",
          "state": {
            "_model_module": "@jupyter-widgets/controls",
            "_model_module_version": "1.5.0",
            "_model_name": "DescriptionStyleModel",
            "_view_count": null,
            "_view_module": "@jupyter-widgets/base",
            "_view_module_version": "1.2.0",
            "_view_name": "StyleView",
            "description_width": ""
          }
        },
        "7ac66e6febcd4d6ab880dae759c35893": {
          "model_module": "@jupyter-widgets/base",
          "model_name": "LayoutModel",
          "model_module_version": "1.2.0",
          "state": {
            "_model_module": "@jupyter-widgets/base",
            "_model_module_version": "1.2.0",
            "_model_name": "LayoutModel",
            "_view_count": null,
            "_view_module": "@jupyter-widgets/base",
            "_view_module_version": "1.2.0",
            "_view_name": "LayoutView",
            "align_content": null,
            "align_items": null,
            "align_self": null,
            "border": null,
            "bottom": null,
            "display": null,
            "flex": null,
            "flex_flow": null,
            "grid_area": null,
            "grid_auto_columns": null,
            "grid_auto_flow": null,
            "grid_auto_rows": null,
            "grid_column": null,
            "grid_gap": null,
            "grid_row": null,
            "grid_template_areas": null,
            "grid_template_columns": null,
            "grid_template_rows": null,
            "height": null,
            "justify_content": null,
            "justify_items": null,
            "left": null,
            "margin": null,
            "max_height": null,
            "max_width": null,
            "min_height": null,
            "min_width": null,
            "object_fit": null,
            "object_position": null,
            "order": null,
            "overflow": null,
            "overflow_x": null,
            "overflow_y": null,
            "padding": null,
            "right": null,
            "top": null,
            "visibility": null,
            "width": null
          }
        },
        "836e2425c76d49ba823872e22a89daa8": {
          "model_module": "@jupyter-widgets/controls",
          "model_name": "ProgressStyleModel",
          "model_module_version": "1.5.0",
          "state": {
            "_model_module": "@jupyter-widgets/controls",
            "_model_module_version": "1.5.0",
            "_model_name": "ProgressStyleModel",
            "_view_count": null,
            "_view_module": "@jupyter-widgets/base",
            "_view_module_version": "1.2.0",
            "_view_name": "StyleView",
            "bar_color": null,
            "description_width": ""
          }
        },
        "692981bd5b0f49d7bb8c56c436d6ea25": {
          "model_module": "@jupyter-widgets/base",
          "model_name": "LayoutModel",
          "model_module_version": "1.2.0",
          "state": {
            "_model_module": "@jupyter-widgets/base",
            "_model_module_version": "1.2.0",
            "_model_name": "LayoutModel",
            "_view_count": null,
            "_view_module": "@jupyter-widgets/base",
            "_view_module_version": "1.2.0",
            "_view_name": "LayoutView",
            "align_content": null,
            "align_items": null,
            "align_self": null,
            "border": null,
            "bottom": null,
            "display": null,
            "flex": null,
            "flex_flow": null,
            "grid_area": null,
            "grid_auto_columns": null,
            "grid_auto_flow": null,
            "grid_auto_rows": null,
            "grid_column": null,
            "grid_gap": null,
            "grid_row": null,
            "grid_template_areas": null,
            "grid_template_columns": null,
            "grid_template_rows": null,
            "height": null,
            "justify_content": null,
            "justify_items": null,
            "left": null,
            "margin": null,
            "max_height": null,
            "max_width": null,
            "min_height": null,
            "min_width": null,
            "object_fit": null,
            "object_position": null,
            "order": null,
            "overflow": null,
            "overflow_x": null,
            "overflow_y": null,
            "padding": null,
            "right": null,
            "top": null,
            "visibility": null,
            "width": null
          }
        },
        "447f5584f115416587a7d493b83a599a": {
          "model_module": "@jupyter-widgets/controls",
          "model_name": "DescriptionStyleModel",
          "model_module_version": "1.5.0",
          "state": {
            "_model_module": "@jupyter-widgets/controls",
            "_model_module_version": "1.5.0",
            "_model_name": "DescriptionStyleModel",
            "_view_count": null,
            "_view_module": "@jupyter-widgets/base",
            "_view_module_version": "1.2.0",
            "_view_name": "StyleView",
            "description_width": ""
          }
        },
        "54d103718dc7454d9999edaa60856e72": {
          "model_module": "@jupyter-widgets/controls",
          "model_name": "HBoxModel",
          "model_module_version": "1.5.0",
          "state": {
            "_dom_classes": [],
            "_model_module": "@jupyter-widgets/controls",
            "_model_module_version": "1.5.0",
            "_model_name": "HBoxModel",
            "_view_count": null,
            "_view_module": "@jupyter-widgets/controls",
            "_view_module_version": "1.5.0",
            "_view_name": "HBoxView",
            "box_style": "",
            "children": [
              "IPY_MODEL_86cff9cdcff04b549aa3668a779ea528",
              "IPY_MODEL_c831c676ee5149d6a1e84b5d17e8a246",
              "IPY_MODEL_c39806258534428183bb909ab3cd2e1c"
            ],
            "layout": "IPY_MODEL_1b69e5a1b8e54f86b540f616383fe8ad"
          }
        },
        "86cff9cdcff04b549aa3668a779ea528": {
          "model_module": "@jupyter-widgets/controls",
          "model_name": "HTMLModel",
          "model_module_version": "1.5.0",
          "state": {
            "_dom_classes": [],
            "_model_module": "@jupyter-widgets/controls",
            "_model_module_version": "1.5.0",
            "_model_name": "HTMLModel",
            "_view_count": null,
            "_view_module": "@jupyter-widgets/controls",
            "_view_module_version": "1.5.0",
            "_view_name": "HTMLView",
            "description": "",
            "description_tooltip": null,
            "layout": "IPY_MODEL_8b47798616274d40ab6a9dee51009e12",
            "placeholder": "​",
            "style": "IPY_MODEL_3c4875e76f31475891756e0b3f7bf74a",
            "value": "Map: 100%"
          }
        },
        "c831c676ee5149d6a1e84b5d17e8a246": {
          "model_module": "@jupyter-widgets/controls",
          "model_name": "FloatProgressModel",
          "model_module_version": "1.5.0",
          "state": {
            "_dom_classes": [],
            "_model_module": "@jupyter-widgets/controls",
            "_model_module_version": "1.5.0",
            "_model_name": "FloatProgressModel",
            "_view_count": null,
            "_view_module": "@jupyter-widgets/controls",
            "_view_module_version": "1.5.0",
            "_view_name": "ProgressView",
            "bar_style": "success",
            "description": "",
            "description_tooltip": null,
            "layout": "IPY_MODEL_7a254aa841874632aa39f829eb80f48b",
            "max": 500,
            "min": 0,
            "orientation": "horizontal",
            "style": "IPY_MODEL_f93c21e83d38469b92cb16fbd79ea5c9",
            "value": 500
          }
        },
        "c39806258534428183bb909ab3cd2e1c": {
          "model_module": "@jupyter-widgets/controls",
          "model_name": "HTMLModel",
          "model_module_version": "1.5.0",
          "state": {
            "_dom_classes": [],
            "_model_module": "@jupyter-widgets/controls",
            "_model_module_version": "1.5.0",
            "_model_name": "HTMLModel",
            "_view_count": null,
            "_view_module": "@jupyter-widgets/controls",
            "_view_module_version": "1.5.0",
            "_view_name": "HTMLView",
            "description": "",
            "description_tooltip": null,
            "layout": "IPY_MODEL_44dbc4ab3a0244689a193555ec772364",
            "placeholder": "​",
            "style": "IPY_MODEL_9ae88c27995f4f8094cea7241c072133",
            "value": " 500/500 [00:00&lt;00:00, 4239.83 examples/s]"
          }
        },
        "1b69e5a1b8e54f86b540f616383fe8ad": {
          "model_module": "@jupyter-widgets/base",
          "model_name": "LayoutModel",
          "model_module_version": "1.2.0",
          "state": {
            "_model_module": "@jupyter-widgets/base",
            "_model_module_version": "1.2.0",
            "_model_name": "LayoutModel",
            "_view_count": null,
            "_view_module": "@jupyter-widgets/base",
            "_view_module_version": "1.2.0",
            "_view_name": "LayoutView",
            "align_content": null,
            "align_items": null,
            "align_self": null,
            "border": null,
            "bottom": null,
            "display": null,
            "flex": null,
            "flex_flow": null,
            "grid_area": null,
            "grid_auto_columns": null,
            "grid_auto_flow": null,
            "grid_auto_rows": null,
            "grid_column": null,
            "grid_gap": null,
            "grid_row": null,
            "grid_template_areas": null,
            "grid_template_columns": null,
            "grid_template_rows": null,
            "height": null,
            "justify_content": null,
            "justify_items": null,
            "left": null,
            "margin": null,
            "max_height": null,
            "max_width": null,
            "min_height": null,
            "min_width": null,
            "object_fit": null,
            "object_position": null,
            "order": null,
            "overflow": null,
            "overflow_x": null,
            "overflow_y": null,
            "padding": null,
            "right": null,
            "top": null,
            "visibility": null,
            "width": null
          }
        },
        "8b47798616274d40ab6a9dee51009e12": {
          "model_module": "@jupyter-widgets/base",
          "model_name": "LayoutModel",
          "model_module_version": "1.2.0",
          "state": {
            "_model_module": "@jupyter-widgets/base",
            "_model_module_version": "1.2.0",
            "_model_name": "LayoutModel",
            "_view_count": null,
            "_view_module": "@jupyter-widgets/base",
            "_view_module_version": "1.2.0",
            "_view_name": "LayoutView",
            "align_content": null,
            "align_items": null,
            "align_self": null,
            "border": null,
            "bottom": null,
            "display": null,
            "flex": null,
            "flex_flow": null,
            "grid_area": null,
            "grid_auto_columns": null,
            "grid_auto_flow": null,
            "grid_auto_rows": null,
            "grid_column": null,
            "grid_gap": null,
            "grid_row": null,
            "grid_template_areas": null,
            "grid_template_columns": null,
            "grid_template_rows": null,
            "height": null,
            "justify_content": null,
            "justify_items": null,
            "left": null,
            "margin": null,
            "max_height": null,
            "max_width": null,
            "min_height": null,
            "min_width": null,
            "object_fit": null,
            "object_position": null,
            "order": null,
            "overflow": null,
            "overflow_x": null,
            "overflow_y": null,
            "padding": null,
            "right": null,
            "top": null,
            "visibility": null,
            "width": null
          }
        },
        "3c4875e76f31475891756e0b3f7bf74a": {
          "model_module": "@jupyter-widgets/controls",
          "model_name": "DescriptionStyleModel",
          "model_module_version": "1.5.0",
          "state": {
            "_model_module": "@jupyter-widgets/controls",
            "_model_module_version": "1.5.0",
            "_model_name": "DescriptionStyleModel",
            "_view_count": null,
            "_view_module": "@jupyter-widgets/base",
            "_view_module_version": "1.2.0",
            "_view_name": "StyleView",
            "description_width": ""
          }
        },
        "7a254aa841874632aa39f829eb80f48b": {
          "model_module": "@jupyter-widgets/base",
          "model_name": "LayoutModel",
          "model_module_version": "1.2.0",
          "state": {
            "_model_module": "@jupyter-widgets/base",
            "_model_module_version": "1.2.0",
            "_model_name": "LayoutModel",
            "_view_count": null,
            "_view_module": "@jupyter-widgets/base",
            "_view_module_version": "1.2.0",
            "_view_name": "LayoutView",
            "align_content": null,
            "align_items": null,
            "align_self": null,
            "border": null,
            "bottom": null,
            "display": null,
            "flex": null,
            "flex_flow": null,
            "grid_area": null,
            "grid_auto_columns": null,
            "grid_auto_flow": null,
            "grid_auto_rows": null,
            "grid_column": null,
            "grid_gap": null,
            "grid_row": null,
            "grid_template_areas": null,
            "grid_template_columns": null,
            "grid_template_rows": null,
            "height": null,
            "justify_content": null,
            "justify_items": null,
            "left": null,
            "margin": null,
            "max_height": null,
            "max_width": null,
            "min_height": null,
            "min_width": null,
            "object_fit": null,
            "object_position": null,
            "order": null,
            "overflow": null,
            "overflow_x": null,
            "overflow_y": null,
            "padding": null,
            "right": null,
            "top": null,
            "visibility": null,
            "width": null
          }
        },
        "f93c21e83d38469b92cb16fbd79ea5c9": {
          "model_module": "@jupyter-widgets/controls",
          "model_name": "ProgressStyleModel",
          "model_module_version": "1.5.0",
          "state": {
            "_model_module": "@jupyter-widgets/controls",
            "_model_module_version": "1.5.0",
            "_model_name": "ProgressStyleModel",
            "_view_count": null,
            "_view_module": "@jupyter-widgets/base",
            "_view_module_version": "1.2.0",
            "_view_name": "StyleView",
            "bar_color": null,
            "description_width": ""
          }
        },
        "44dbc4ab3a0244689a193555ec772364": {
          "model_module": "@jupyter-widgets/base",
          "model_name": "LayoutModel",
          "model_module_version": "1.2.0",
          "state": {
            "_model_module": "@jupyter-widgets/base",
            "_model_module_version": "1.2.0",
            "_model_name": "LayoutModel",
            "_view_count": null,
            "_view_module": "@jupyter-widgets/base",
            "_view_module_version": "1.2.0",
            "_view_name": "LayoutView",
            "align_content": null,
            "align_items": null,
            "align_self": null,
            "border": null,
            "bottom": null,
            "display": null,
            "flex": null,
            "flex_flow": null,
            "grid_area": null,
            "grid_auto_columns": null,
            "grid_auto_flow": null,
            "grid_auto_rows": null,
            "grid_column": null,
            "grid_gap": null,
            "grid_row": null,
            "grid_template_areas": null,
            "grid_template_columns": null,
            "grid_template_rows": null,
            "height": null,
            "justify_content": null,
            "justify_items": null,
            "left": null,
            "margin": null,
            "max_height": null,
            "max_width": null,
            "min_height": null,
            "min_width": null,
            "object_fit": null,
            "object_position": null,
            "order": null,
            "overflow": null,
            "overflow_x": null,
            "overflow_y": null,
            "padding": null,
            "right": null,
            "top": null,
            "visibility": null,
            "width": null
          }
        },
        "9ae88c27995f4f8094cea7241c072133": {
          "model_module": "@jupyter-widgets/controls",
          "model_name": "DescriptionStyleModel",
          "model_module_version": "1.5.0",
          "state": {
            "_model_module": "@jupyter-widgets/controls",
            "_model_module_version": "1.5.0",
            "_model_name": "DescriptionStyleModel",
            "_view_count": null,
            "_view_module": "@jupyter-widgets/base",
            "_view_module_version": "1.2.0",
            "_view_name": "StyleView",
            "description_width": ""
          }
        },
        "5f9398cbcd89473e8a6e2941025c2110": {
          "model_module": "@jupyter-widgets/controls",
          "model_name": "HBoxModel",
          "model_module_version": "1.5.0",
          "state": {
            "_dom_classes": [],
            "_model_module": "@jupyter-widgets/controls",
            "_model_module_version": "1.5.0",
            "_model_name": "HBoxModel",
            "_view_count": null,
            "_view_module": "@jupyter-widgets/controls",
            "_view_module_version": "1.5.0",
            "_view_name": "HBoxView",
            "box_style": "",
            "children": [
              "IPY_MODEL_287f6e0c67ee4599af3a77dbc6ceb88f",
              "IPY_MODEL_6860b86b4bec4676ad3234bf975e939f",
              "IPY_MODEL_c91503f605ca48ecadf53479dc140107"
            ],
            "layout": "IPY_MODEL_1d40e0fc1ee84b77b629e61a7ca2da56"
          }
        },
        "287f6e0c67ee4599af3a77dbc6ceb88f": {
          "model_module": "@jupyter-widgets/controls",
          "model_name": "HTMLModel",
          "model_module_version": "1.5.0",
          "state": {
            "_dom_classes": [],
            "_model_module": "@jupyter-widgets/controls",
            "_model_module_version": "1.5.0",
            "_model_name": "HTMLModel",
            "_view_count": null,
            "_view_module": "@jupyter-widgets/controls",
            "_view_module_version": "1.5.0",
            "_view_name": "HTMLView",
            "description": "",
            "description_tooltip": null,
            "layout": "IPY_MODEL_dac5c447f3d3405e8eb762163c80b1e6",
            "placeholder": "​",
            "style": "IPY_MODEL_9d1ad74dcfcc4dceb61d05b50b8e928e",
            "value": "Downloading (…)neration_config.json: 100%"
          }
        },
        "6860b86b4bec4676ad3234bf975e939f": {
          "model_module": "@jupyter-widgets/controls",
          "model_name": "FloatProgressModel",
          "model_module_version": "1.5.0",
          "state": {
            "_dom_classes": [],
            "_model_module": "@jupyter-widgets/controls",
            "_model_module_version": "1.5.0",
            "_model_name": "FloatProgressModel",
            "_view_count": null,
            "_view_module": "@jupyter-widgets/controls",
            "_view_module_version": "1.5.0",
            "_view_name": "ProgressView",
            "bar_style": "success",
            "description": "",
            "description_tooltip": null,
            "layout": "IPY_MODEL_7fcee8199a8a41f7ad3883aff5333c3c",
            "max": 293,
            "min": 0,
            "orientation": "horizontal",
            "style": "IPY_MODEL_60a11d3478a74878b19cb409faa17472",
            "value": 293
          }
        },
        "c91503f605ca48ecadf53479dc140107": {
          "model_module": "@jupyter-widgets/controls",
          "model_name": "HTMLModel",
          "model_module_version": "1.5.0",
          "state": {
            "_dom_classes": [],
            "_model_module": "@jupyter-widgets/controls",
            "_model_module_version": "1.5.0",
            "_model_name": "HTMLModel",
            "_view_count": null,
            "_view_module": "@jupyter-widgets/controls",
            "_view_module_version": "1.5.0",
            "_view_name": "HTMLView",
            "description": "",
            "description_tooltip": null,
            "layout": "IPY_MODEL_464b2fecd40a4d18b9edf3362aea30c9",
            "placeholder": "​",
            "style": "IPY_MODEL_047d4cc2e8244438bd1fcda5bf7b6792",
            "value": " 293/293 [00:00&lt;00:00, 22.0kB/s]"
          }
        },
        "1d40e0fc1ee84b77b629e61a7ca2da56": {
          "model_module": "@jupyter-widgets/base",
          "model_name": "LayoutModel",
          "model_module_version": "1.2.0",
          "state": {
            "_model_module": "@jupyter-widgets/base",
            "_model_module_version": "1.2.0",
            "_model_name": "LayoutModel",
            "_view_count": null,
            "_view_module": "@jupyter-widgets/base",
            "_view_module_version": "1.2.0",
            "_view_name": "LayoutView",
            "align_content": null,
            "align_items": null,
            "align_self": null,
            "border": null,
            "bottom": null,
            "display": null,
            "flex": null,
            "flex_flow": null,
            "grid_area": null,
            "grid_auto_columns": null,
            "grid_auto_flow": null,
            "grid_auto_rows": null,
            "grid_column": null,
            "grid_gap": null,
            "grid_row": null,
            "grid_template_areas": null,
            "grid_template_columns": null,
            "grid_template_rows": null,
            "height": null,
            "justify_content": null,
            "justify_items": null,
            "left": null,
            "margin": null,
            "max_height": null,
            "max_width": null,
            "min_height": null,
            "min_width": null,
            "object_fit": null,
            "object_position": null,
            "order": null,
            "overflow": null,
            "overflow_x": null,
            "overflow_y": null,
            "padding": null,
            "right": null,
            "top": null,
            "visibility": null,
            "width": null
          }
        },
        "dac5c447f3d3405e8eb762163c80b1e6": {
          "model_module": "@jupyter-widgets/base",
          "model_name": "LayoutModel",
          "model_module_version": "1.2.0",
          "state": {
            "_model_module": "@jupyter-widgets/base",
            "_model_module_version": "1.2.0",
            "_model_name": "LayoutModel",
            "_view_count": null,
            "_view_module": "@jupyter-widgets/base",
            "_view_module_version": "1.2.0",
            "_view_name": "LayoutView",
            "align_content": null,
            "align_items": null,
            "align_self": null,
            "border": null,
            "bottom": null,
            "display": null,
            "flex": null,
            "flex_flow": null,
            "grid_area": null,
            "grid_auto_columns": null,
            "grid_auto_flow": null,
            "grid_auto_rows": null,
            "grid_column": null,
            "grid_gap": null,
            "grid_row": null,
            "grid_template_areas": null,
            "grid_template_columns": null,
            "grid_template_rows": null,
            "height": null,
            "justify_content": null,
            "justify_items": null,
            "left": null,
            "margin": null,
            "max_height": null,
            "max_width": null,
            "min_height": null,
            "min_width": null,
            "object_fit": null,
            "object_position": null,
            "order": null,
            "overflow": null,
            "overflow_x": null,
            "overflow_y": null,
            "padding": null,
            "right": null,
            "top": null,
            "visibility": null,
            "width": null
          }
        },
        "9d1ad74dcfcc4dceb61d05b50b8e928e": {
          "model_module": "@jupyter-widgets/controls",
          "model_name": "DescriptionStyleModel",
          "model_module_version": "1.5.0",
          "state": {
            "_model_module": "@jupyter-widgets/controls",
            "_model_module_version": "1.5.0",
            "_model_name": "DescriptionStyleModel",
            "_view_count": null,
            "_view_module": "@jupyter-widgets/base",
            "_view_module_version": "1.2.0",
            "_view_name": "StyleView",
            "description_width": ""
          }
        },
        "7fcee8199a8a41f7ad3883aff5333c3c": {
          "model_module": "@jupyter-widgets/base",
          "model_name": "LayoutModel",
          "model_module_version": "1.2.0",
          "state": {
            "_model_module": "@jupyter-widgets/base",
            "_model_module_version": "1.2.0",
            "_model_name": "LayoutModel",
            "_view_count": null,
            "_view_module": "@jupyter-widgets/base",
            "_view_module_version": "1.2.0",
            "_view_name": "LayoutView",
            "align_content": null,
            "align_items": null,
            "align_self": null,
            "border": null,
            "bottom": null,
            "display": null,
            "flex": null,
            "flex_flow": null,
            "grid_area": null,
            "grid_auto_columns": null,
            "grid_auto_flow": null,
            "grid_auto_rows": null,
            "grid_column": null,
            "grid_gap": null,
            "grid_row": null,
            "grid_template_areas": null,
            "grid_template_columns": null,
            "grid_template_rows": null,
            "height": null,
            "justify_content": null,
            "justify_items": null,
            "left": null,
            "margin": null,
            "max_height": null,
            "max_width": null,
            "min_height": null,
            "min_width": null,
            "object_fit": null,
            "object_position": null,
            "order": null,
            "overflow": null,
            "overflow_x": null,
            "overflow_y": null,
            "padding": null,
            "right": null,
            "top": null,
            "visibility": null,
            "width": null
          }
        },
        "60a11d3478a74878b19cb409faa17472": {
          "model_module": "@jupyter-widgets/controls",
          "model_name": "ProgressStyleModel",
          "model_module_version": "1.5.0",
          "state": {
            "_model_module": "@jupyter-widgets/controls",
            "_model_module_version": "1.5.0",
            "_model_name": "ProgressStyleModel",
            "_view_count": null,
            "_view_module": "@jupyter-widgets/base",
            "_view_module_version": "1.2.0",
            "_view_name": "StyleView",
            "bar_color": null,
            "description_width": ""
          }
        },
        "464b2fecd40a4d18b9edf3362aea30c9": {
          "model_module": "@jupyter-widgets/base",
          "model_name": "LayoutModel",
          "model_module_version": "1.2.0",
          "state": {
            "_model_module": "@jupyter-widgets/base",
            "_model_module_version": "1.2.0",
            "_model_name": "LayoutModel",
            "_view_count": null,
            "_view_module": "@jupyter-widgets/base",
            "_view_module_version": "1.2.0",
            "_view_name": "LayoutView",
            "align_content": null,
            "align_items": null,
            "align_self": null,
            "border": null,
            "bottom": null,
            "display": null,
            "flex": null,
            "flex_flow": null,
            "grid_area": null,
            "grid_auto_columns": null,
            "grid_auto_flow": null,
            "grid_auto_rows": null,
            "grid_column": null,
            "grid_gap": null,
            "grid_row": null,
            "grid_template_areas": null,
            "grid_template_columns": null,
            "grid_template_rows": null,
            "height": null,
            "justify_content": null,
            "justify_items": null,
            "left": null,
            "margin": null,
            "max_height": null,
            "max_width": null,
            "min_height": null,
            "min_width": null,
            "object_fit": null,
            "object_position": null,
            "order": null,
            "overflow": null,
            "overflow_x": null,
            "overflow_y": null,
            "padding": null,
            "right": null,
            "top": null,
            "visibility": null,
            "width": null
          }
        },
        "047d4cc2e8244438bd1fcda5bf7b6792": {
          "model_module": "@jupyter-widgets/controls",
          "model_name": "DescriptionStyleModel",
          "model_module_version": "1.5.0",
          "state": {
            "_model_module": "@jupyter-widgets/controls",
            "_model_module_version": "1.5.0",
            "_model_name": "DescriptionStyleModel",
            "_view_count": null,
            "_view_module": "@jupyter-widgets/base",
            "_view_module_version": "1.2.0",
            "_view_name": "StyleView",
            "description_width": ""
          }
        },
        "54372224cbda41ff915c569276071b42": {
          "model_module": "@jupyter-widgets/controls",
          "model_name": "HBoxModel",
          "model_module_version": "1.5.0",
          "state": {
            "_dom_classes": [],
            "_model_module": "@jupyter-widgets/controls",
            "_model_module_version": "1.5.0",
            "_model_name": "HBoxModel",
            "_view_count": null,
            "_view_module": "@jupyter-widgets/controls",
            "_view_module_version": "1.5.0",
            "_view_name": "HBoxView",
            "box_style": "",
            "children": [
              "IPY_MODEL_b82347aae71f4afdada9fe2821533bda",
              "IPY_MODEL_6225e145875743e7b8fdf46affd6a57a",
              "IPY_MODEL_8ded3079765b4e3ea4dc16a7f5c5adf6"
            ],
            "layout": "IPY_MODEL_aa30f23428c44551a5b178ed35b4b20b"
          }
        },
        "b82347aae71f4afdada9fe2821533bda": {
          "model_module": "@jupyter-widgets/controls",
          "model_name": "HTMLModel",
          "model_module_version": "1.5.0",
          "state": {
            "_dom_classes": [],
            "_model_module": "@jupyter-widgets/controls",
            "_model_module_version": "1.5.0",
            "_model_name": "HTMLModel",
            "_view_count": null,
            "_view_module": "@jupyter-widgets/controls",
            "_view_module_version": "1.5.0",
            "_view_name": "HTMLView",
            "description": "",
            "description_tooltip": null,
            "layout": "IPY_MODEL_f6482b1f58354beab0fcd8e3102a3f49",
            "placeholder": "​",
            "style": "IPY_MODEL_3da5c738cbf848c184c316425d2f7942",
            "value": "Downloading pytorch_model.bin: 100%"
          }
        },
        "6225e145875743e7b8fdf46affd6a57a": {
          "model_module": "@jupyter-widgets/controls",
          "model_name": "FloatProgressModel",
          "model_module_version": "1.5.0",
          "state": {
            "_dom_classes": [],
            "_model_module": "@jupyter-widgets/controls",
            "_model_module_version": "1.5.0",
            "_model_name": "FloatProgressModel",
            "_view_count": null,
            "_view_module": "@jupyter-widgets/controls",
            "_view_module_version": "1.5.0",
            "_view_name": "ProgressView",
            "bar_style": "success",
            "description": "",
            "description_tooltip": null,
            "layout": "IPY_MODEL_7114232203cf4e59b123cfca8bbcfb2e",
            "max": 300827685,
            "min": 0,
            "orientation": "horizontal",
            "style": "IPY_MODEL_6a1d3a52f607438fa9003dca5d3f278d",
            "value": 300827685
          }
        },
        "8ded3079765b4e3ea4dc16a7f5c5adf6": {
          "model_module": "@jupyter-widgets/controls",
          "model_name": "HTMLModel",
          "model_module_version": "1.5.0",
          "state": {
            "_dom_classes": [],
            "_model_module": "@jupyter-widgets/controls",
            "_model_module_version": "1.5.0",
            "_model_name": "HTMLModel",
            "_view_count": null,
            "_view_module": "@jupyter-widgets/controls",
            "_view_module_version": "1.5.0",
            "_view_name": "HTMLView",
            "description": "",
            "description_tooltip": null,
            "layout": "IPY_MODEL_0ac3957b96544217ab1fef246f909d9e",
            "placeholder": "​",
            "style": "IPY_MODEL_48dd61386b2b4458a2baadbeb38c3522",
            "value": " 301M/301M [00:01&lt;00:00, 201MB/s]"
          }
        },
        "aa30f23428c44551a5b178ed35b4b20b": {
          "model_module": "@jupyter-widgets/base",
          "model_name": "LayoutModel",
          "model_module_version": "1.2.0",
          "state": {
            "_model_module": "@jupyter-widgets/base",
            "_model_module_version": "1.2.0",
            "_model_name": "LayoutModel",
            "_view_count": null,
            "_view_module": "@jupyter-widgets/base",
            "_view_module_version": "1.2.0",
            "_view_name": "LayoutView",
            "align_content": null,
            "align_items": null,
            "align_self": null,
            "border": null,
            "bottom": null,
            "display": null,
            "flex": null,
            "flex_flow": null,
            "grid_area": null,
            "grid_auto_columns": null,
            "grid_auto_flow": null,
            "grid_auto_rows": null,
            "grid_column": null,
            "grid_gap": null,
            "grid_row": null,
            "grid_template_areas": null,
            "grid_template_columns": null,
            "grid_template_rows": null,
            "height": null,
            "justify_content": null,
            "justify_items": null,
            "left": null,
            "margin": null,
            "max_height": null,
            "max_width": null,
            "min_height": null,
            "min_width": null,
            "object_fit": null,
            "object_position": null,
            "order": null,
            "overflow": null,
            "overflow_x": null,
            "overflow_y": null,
            "padding": null,
            "right": null,
            "top": null,
            "visibility": null,
            "width": null
          }
        },
        "f6482b1f58354beab0fcd8e3102a3f49": {
          "model_module": "@jupyter-widgets/base",
          "model_name": "LayoutModel",
          "model_module_version": "1.2.0",
          "state": {
            "_model_module": "@jupyter-widgets/base",
            "_model_module_version": "1.2.0",
            "_model_name": "LayoutModel",
            "_view_count": null,
            "_view_module": "@jupyter-widgets/base",
            "_view_module_version": "1.2.0",
            "_view_name": "LayoutView",
            "align_content": null,
            "align_items": null,
            "align_self": null,
            "border": null,
            "bottom": null,
            "display": null,
            "flex": null,
            "flex_flow": null,
            "grid_area": null,
            "grid_auto_columns": null,
            "grid_auto_flow": null,
            "grid_auto_rows": null,
            "grid_column": null,
            "grid_gap": null,
            "grid_row": null,
            "grid_template_areas": null,
            "grid_template_columns": null,
            "grid_template_rows": null,
            "height": null,
            "justify_content": null,
            "justify_items": null,
            "left": null,
            "margin": null,
            "max_height": null,
            "max_width": null,
            "min_height": null,
            "min_width": null,
            "object_fit": null,
            "object_position": null,
            "order": null,
            "overflow": null,
            "overflow_x": null,
            "overflow_y": null,
            "padding": null,
            "right": null,
            "top": null,
            "visibility": null,
            "width": null
          }
        },
        "3da5c738cbf848c184c316425d2f7942": {
          "model_module": "@jupyter-widgets/controls",
          "model_name": "DescriptionStyleModel",
          "model_module_version": "1.5.0",
          "state": {
            "_model_module": "@jupyter-widgets/controls",
            "_model_module_version": "1.5.0",
            "_model_name": "DescriptionStyleModel",
            "_view_count": null,
            "_view_module": "@jupyter-widgets/base",
            "_view_module_version": "1.2.0",
            "_view_name": "StyleView",
            "description_width": ""
          }
        },
        "7114232203cf4e59b123cfca8bbcfb2e": {
          "model_module": "@jupyter-widgets/base",
          "model_name": "LayoutModel",
          "model_module_version": "1.2.0",
          "state": {
            "_model_module": "@jupyter-widgets/base",
            "_model_module_version": "1.2.0",
            "_model_name": "LayoutModel",
            "_view_count": null,
            "_view_module": "@jupyter-widgets/base",
            "_view_module_version": "1.2.0",
            "_view_name": "LayoutView",
            "align_content": null,
            "align_items": null,
            "align_self": null,
            "border": null,
            "bottom": null,
            "display": null,
            "flex": null,
            "flex_flow": null,
            "grid_area": null,
            "grid_auto_columns": null,
            "grid_auto_flow": null,
            "grid_auto_rows": null,
            "grid_column": null,
            "grid_gap": null,
            "grid_row": null,
            "grid_template_areas": null,
            "grid_template_columns": null,
            "grid_template_rows": null,
            "height": null,
            "justify_content": null,
            "justify_items": null,
            "left": null,
            "margin": null,
            "max_height": null,
            "max_width": null,
            "min_height": null,
            "min_width": null,
            "object_fit": null,
            "object_position": null,
            "order": null,
            "overflow": null,
            "overflow_x": null,
            "overflow_y": null,
            "padding": null,
            "right": null,
            "top": null,
            "visibility": null,
            "width": null
          }
        },
        "6a1d3a52f607438fa9003dca5d3f278d": {
          "model_module": "@jupyter-widgets/controls",
          "model_name": "ProgressStyleModel",
          "model_module_version": "1.5.0",
          "state": {
            "_model_module": "@jupyter-widgets/controls",
            "_model_module_version": "1.5.0",
            "_model_name": "ProgressStyleModel",
            "_view_count": null,
            "_view_module": "@jupyter-widgets/base",
            "_view_module_version": "1.2.0",
            "_view_name": "StyleView",
            "bar_color": null,
            "description_width": ""
          }
        },
        "0ac3957b96544217ab1fef246f909d9e": {
          "model_module": "@jupyter-widgets/base",
          "model_name": "LayoutModel",
          "model_module_version": "1.2.0",
          "state": {
            "_model_module": "@jupyter-widgets/base",
            "_model_module_version": "1.2.0",
            "_model_name": "LayoutModel",
            "_view_count": null,
            "_view_module": "@jupyter-widgets/base",
            "_view_module_version": "1.2.0",
            "_view_name": "LayoutView",
            "align_content": null,
            "align_items": null,
            "align_self": null,
            "border": null,
            "bottom": null,
            "display": null,
            "flex": null,
            "flex_flow": null,
            "grid_area": null,
            "grid_auto_columns": null,
            "grid_auto_flow": null,
            "grid_auto_rows": null,
            "grid_column": null,
            "grid_gap": null,
            "grid_row": null,
            "grid_template_areas": null,
            "grid_template_columns": null,
            "grid_template_rows": null,
            "height": null,
            "justify_content": null,
            "justify_items": null,
            "left": null,
            "margin": null,
            "max_height": null,
            "max_width": null,
            "min_height": null,
            "min_width": null,
            "object_fit": null,
            "object_position": null,
            "order": null,
            "overflow": null,
            "overflow_x": null,
            "overflow_y": null,
            "padding": null,
            "right": null,
            "top": null,
            "visibility": null,
            "width": null
          }
        },
        "48dd61386b2b4458a2baadbeb38c3522": {
          "model_module": "@jupyter-widgets/controls",
          "model_name": "DescriptionStyleModel",
          "model_module_version": "1.5.0",
          "state": {
            "_model_module": "@jupyter-widgets/controls",
            "_model_module_version": "1.5.0",
            "_model_name": "DescriptionStyleModel",
            "_view_count": null,
            "_view_module": "@jupyter-widgets/base",
            "_view_module_version": "1.2.0",
            "_view_name": "StyleView",
            "description_width": ""
          }
        },
        "73cc32f5eb86408a8268027d1f1c99db": {
          "model_module": "@jupyter-widgets/controls",
          "model_name": "HBoxModel",
          "model_module_version": "1.5.0",
          "state": {
            "_dom_classes": [],
            "_model_module": "@jupyter-widgets/controls",
            "_model_module_version": "1.5.0",
            "_model_name": "HBoxModel",
            "_view_count": null,
            "_view_module": "@jupyter-widgets/controls",
            "_view_module_version": "1.5.0",
            "_view_name": "HBoxView",
            "box_style": "",
            "children": [
              "IPY_MODEL_f5cb79d4bdac493f87faf2a7404dcbfd",
              "IPY_MODEL_8b7cf01d5fb64a8a921c56ddd5fa8c1e",
              "IPY_MODEL_356889fe03f34171b57fb7ec526b6b28"
            ],
            "layout": "IPY_MODEL_0e71ff72ab46483ebe16835fd79dcd62"
          }
        },
        "f5cb79d4bdac493f87faf2a7404dcbfd": {
          "model_module": "@jupyter-widgets/controls",
          "model_name": "HTMLModel",
          "model_module_version": "1.5.0",
          "state": {
            "_dom_classes": [],
            "_model_module": "@jupyter-widgets/controls",
            "_model_module_version": "1.5.0",
            "_model_name": "HTMLModel",
            "_view_count": null,
            "_view_module": "@jupyter-widgets/controls",
            "_view_module_version": "1.5.0",
            "_view_name": "HTMLView",
            "description": "",
            "description_tooltip": null,
            "layout": "IPY_MODEL_65ecc83d840a4562a7c6b3a0ff2c8ae3",
            "placeholder": "​",
            "style": "IPY_MODEL_642152d024c24cfb8912756c8b5b9e50",
            "value": "Downloading (…)okenizer_config.json: 100%"
          }
        },
        "8b7cf01d5fb64a8a921c56ddd5fa8c1e": {
          "model_module": "@jupyter-widgets/controls",
          "model_name": "FloatProgressModel",
          "model_module_version": "1.5.0",
          "state": {
            "_dom_classes": [],
            "_model_module": "@jupyter-widgets/controls",
            "_model_module_version": "1.5.0",
            "_model_name": "FloatProgressModel",
            "_view_count": null,
            "_view_module": "@jupyter-widgets/controls",
            "_view_module_version": "1.5.0",
            "_view_name": "ProgressView",
            "bar_style": "success",
            "description": "",
            "description_tooltip": null,
            "layout": "IPY_MODEL_9af58692e362463794086f5c36280702",
            "max": 29,
            "min": 0,
            "orientation": "horizontal",
            "style": "IPY_MODEL_22087ef4ca4346bd860a619f1eff3fb5",
            "value": 29
          }
        },
        "356889fe03f34171b57fb7ec526b6b28": {
          "model_module": "@jupyter-widgets/controls",
          "model_name": "HTMLModel",
          "model_module_version": "1.5.0",
          "state": {
            "_dom_classes": [],
            "_model_module": "@jupyter-widgets/controls",
            "_model_module_version": "1.5.0",
            "_model_name": "HTMLModel",
            "_view_count": null,
            "_view_module": "@jupyter-widgets/controls",
            "_view_module_version": "1.5.0",
            "_view_name": "HTMLView",
            "description": "",
            "description_tooltip": null,
            "layout": "IPY_MODEL_515565fab5ca4826b110128dec32e672",
            "placeholder": "​",
            "style": "IPY_MODEL_4cafbd14b64d4a0db11fc34236355614",
            "value": " 29.0/29.0 [00:00&lt;00:00, 2.24kB/s]"
          }
        },
        "0e71ff72ab46483ebe16835fd79dcd62": {
          "model_module": "@jupyter-widgets/base",
          "model_name": "LayoutModel",
          "model_module_version": "1.2.0",
          "state": {
            "_model_module": "@jupyter-widgets/base",
            "_model_module_version": "1.2.0",
            "_model_name": "LayoutModel",
            "_view_count": null,
            "_view_module": "@jupyter-widgets/base",
            "_view_module_version": "1.2.0",
            "_view_name": "LayoutView",
            "align_content": null,
            "align_items": null,
            "align_self": null,
            "border": null,
            "bottom": null,
            "display": null,
            "flex": null,
            "flex_flow": null,
            "grid_area": null,
            "grid_auto_columns": null,
            "grid_auto_flow": null,
            "grid_auto_rows": null,
            "grid_column": null,
            "grid_gap": null,
            "grid_row": null,
            "grid_template_areas": null,
            "grid_template_columns": null,
            "grid_template_rows": null,
            "height": null,
            "justify_content": null,
            "justify_items": null,
            "left": null,
            "margin": null,
            "max_height": null,
            "max_width": null,
            "min_height": null,
            "min_width": null,
            "object_fit": null,
            "object_position": null,
            "order": null,
            "overflow": null,
            "overflow_x": null,
            "overflow_y": null,
            "padding": null,
            "right": null,
            "top": null,
            "visibility": null,
            "width": null
          }
        },
        "65ecc83d840a4562a7c6b3a0ff2c8ae3": {
          "model_module": "@jupyter-widgets/base",
          "model_name": "LayoutModel",
          "model_module_version": "1.2.0",
          "state": {
            "_model_module": "@jupyter-widgets/base",
            "_model_module_version": "1.2.0",
            "_model_name": "LayoutModel",
            "_view_count": null,
            "_view_module": "@jupyter-widgets/base",
            "_view_module_version": "1.2.0",
            "_view_name": "LayoutView",
            "align_content": null,
            "align_items": null,
            "align_self": null,
            "border": null,
            "bottom": null,
            "display": null,
            "flex": null,
            "flex_flow": null,
            "grid_area": null,
            "grid_auto_columns": null,
            "grid_auto_flow": null,
            "grid_auto_rows": null,
            "grid_column": null,
            "grid_gap": null,
            "grid_row": null,
            "grid_template_areas": null,
            "grid_template_columns": null,
            "grid_template_rows": null,
            "height": null,
            "justify_content": null,
            "justify_items": null,
            "left": null,
            "margin": null,
            "max_height": null,
            "max_width": null,
            "min_height": null,
            "min_width": null,
            "object_fit": null,
            "object_position": null,
            "order": null,
            "overflow": null,
            "overflow_x": null,
            "overflow_y": null,
            "padding": null,
            "right": null,
            "top": null,
            "visibility": null,
            "width": null
          }
        },
        "642152d024c24cfb8912756c8b5b9e50": {
          "model_module": "@jupyter-widgets/controls",
          "model_name": "DescriptionStyleModel",
          "model_module_version": "1.5.0",
          "state": {
            "_model_module": "@jupyter-widgets/controls",
            "_model_module_version": "1.5.0",
            "_model_name": "DescriptionStyleModel",
            "_view_count": null,
            "_view_module": "@jupyter-widgets/base",
            "_view_module_version": "1.2.0",
            "_view_name": "StyleView",
            "description_width": ""
          }
        },
        "9af58692e362463794086f5c36280702": {
          "model_module": "@jupyter-widgets/base",
          "model_name": "LayoutModel",
          "model_module_version": "1.2.0",
          "state": {
            "_model_module": "@jupyter-widgets/base",
            "_model_module_version": "1.2.0",
            "_model_name": "LayoutModel",
            "_view_count": null,
            "_view_module": "@jupyter-widgets/base",
            "_view_module_version": "1.2.0",
            "_view_name": "LayoutView",
            "align_content": null,
            "align_items": null,
            "align_self": null,
            "border": null,
            "bottom": null,
            "display": null,
            "flex": null,
            "flex_flow": null,
            "grid_area": null,
            "grid_auto_columns": null,
            "grid_auto_flow": null,
            "grid_auto_rows": null,
            "grid_column": null,
            "grid_gap": null,
            "grid_row": null,
            "grid_template_areas": null,
            "grid_template_columns": null,
            "grid_template_rows": null,
            "height": null,
            "justify_content": null,
            "justify_items": null,
            "left": null,
            "margin": null,
            "max_height": null,
            "max_width": null,
            "min_height": null,
            "min_width": null,
            "object_fit": null,
            "object_position": null,
            "order": null,
            "overflow": null,
            "overflow_x": null,
            "overflow_y": null,
            "padding": null,
            "right": null,
            "top": null,
            "visibility": null,
            "width": null
          }
        },
        "22087ef4ca4346bd860a619f1eff3fb5": {
          "model_module": "@jupyter-widgets/controls",
          "model_name": "ProgressStyleModel",
          "model_module_version": "1.5.0",
          "state": {
            "_model_module": "@jupyter-widgets/controls",
            "_model_module_version": "1.5.0",
            "_model_name": "ProgressStyleModel",
            "_view_count": null,
            "_view_module": "@jupyter-widgets/base",
            "_view_module_version": "1.2.0",
            "_view_name": "StyleView",
            "bar_color": null,
            "description_width": ""
          }
        },
        "515565fab5ca4826b110128dec32e672": {
          "model_module": "@jupyter-widgets/base",
          "model_name": "LayoutModel",
          "model_module_version": "1.2.0",
          "state": {
            "_model_module": "@jupyter-widgets/base",
            "_model_module_version": "1.2.0",
            "_model_name": "LayoutModel",
            "_view_count": null,
            "_view_module": "@jupyter-widgets/base",
            "_view_module_version": "1.2.0",
            "_view_name": "LayoutView",
            "align_content": null,
            "align_items": null,
            "align_self": null,
            "border": null,
            "bottom": null,
            "display": null,
            "flex": null,
            "flex_flow": null,
            "grid_area": null,
            "grid_auto_columns": null,
            "grid_auto_flow": null,
            "grid_auto_rows": null,
            "grid_column": null,
            "grid_gap": null,
            "grid_row": null,
            "grid_template_areas": null,
            "grid_template_columns": null,
            "grid_template_rows": null,
            "height": null,
            "justify_content": null,
            "justify_items": null,
            "left": null,
            "margin": null,
            "max_height": null,
            "max_width": null,
            "min_height": null,
            "min_width": null,
            "object_fit": null,
            "object_position": null,
            "order": null,
            "overflow": null,
            "overflow_x": null,
            "overflow_y": null,
            "padding": null,
            "right": null,
            "top": null,
            "visibility": null,
            "width": null
          }
        },
        "4cafbd14b64d4a0db11fc34236355614": {
          "model_module": "@jupyter-widgets/controls",
          "model_name": "DescriptionStyleModel",
          "model_module_version": "1.5.0",
          "state": {
            "_model_module": "@jupyter-widgets/controls",
            "_model_module_version": "1.5.0",
            "_model_name": "DescriptionStyleModel",
            "_view_count": null,
            "_view_module": "@jupyter-widgets/base",
            "_view_module_version": "1.2.0",
            "_view_name": "StyleView",
            "description_width": ""
          }
        },
        "e07d1ac49ffc4129ba44ed32c16558d7": {
          "model_module": "@jupyter-widgets/controls",
          "model_name": "HBoxModel",
          "model_module_version": "1.5.0",
          "state": {
            "_dom_classes": [],
            "_model_module": "@jupyter-widgets/controls",
            "_model_module_version": "1.5.0",
            "_model_name": "HBoxModel",
            "_view_count": null,
            "_view_module": "@jupyter-widgets/controls",
            "_view_module_version": "1.5.0",
            "_view_name": "HBoxView",
            "box_style": "",
            "children": [
              "IPY_MODEL_191c737366db4a87bb84affc13e5170a",
              "IPY_MODEL_cc5cd98dca9f46839ff00c2f3008fa34",
              "IPY_MODEL_2a01eeb69f004e14a919a8b5320d05e8"
            ],
            "layout": "IPY_MODEL_cd091c4e93d741c4b69370a6b802e2bf"
          }
        },
        "191c737366db4a87bb84affc13e5170a": {
          "model_module": "@jupyter-widgets/controls",
          "model_name": "HTMLModel",
          "model_module_version": "1.5.0",
          "state": {
            "_dom_classes": [],
            "_model_module": "@jupyter-widgets/controls",
            "_model_module_version": "1.5.0",
            "_model_name": "HTMLModel",
            "_view_count": null,
            "_view_module": "@jupyter-widgets/controls",
            "_view_module_version": "1.5.0",
            "_view_name": "HTMLView",
            "description": "",
            "description_tooltip": null,
            "layout": "IPY_MODEL_c1bcc9588a714775a1dfeab762ba9f6c",
            "placeholder": "​",
            "style": "IPY_MODEL_0ef869d42a9948f78912fa5c80278d76",
            "value": "Downloading (…)lve/main/config.json: 100%"
          }
        },
        "cc5cd98dca9f46839ff00c2f3008fa34": {
          "model_module": "@jupyter-widgets/controls",
          "model_name": "FloatProgressModel",
          "model_module_version": "1.5.0",
          "state": {
            "_dom_classes": [],
            "_model_module": "@jupyter-widgets/controls",
            "_model_module_version": "1.5.0",
            "_model_name": "FloatProgressModel",
            "_view_count": null,
            "_view_module": "@jupyter-widgets/controls",
            "_view_module_version": "1.5.0",
            "_view_name": "ProgressView",
            "bar_style": "success",
            "description": "",
            "description_tooltip": null,
            "layout": "IPY_MODEL_d6047ced0eb742a1b9fa0e06baff5821",
            "max": 625,
            "min": 0,
            "orientation": "horizontal",
            "style": "IPY_MODEL_dca5f916975d4483a74e8fa5348fb024",
            "value": 625
          }
        },
        "2a01eeb69f004e14a919a8b5320d05e8": {
          "model_module": "@jupyter-widgets/controls",
          "model_name": "HTMLModel",
          "model_module_version": "1.5.0",
          "state": {
            "_dom_classes": [],
            "_model_module": "@jupyter-widgets/controls",
            "_model_module_version": "1.5.0",
            "_model_name": "HTMLModel",
            "_view_count": null,
            "_view_module": "@jupyter-widgets/controls",
            "_view_module_version": "1.5.0",
            "_view_name": "HTMLView",
            "description": "",
            "description_tooltip": null,
            "layout": "IPY_MODEL_6f0bed1138f0489f9ea683ba2c62ccd1",
            "placeholder": "​",
            "style": "IPY_MODEL_5378c0fdad27420a99c120f0c17e304f",
            "value": " 625/625 [00:00&lt;00:00, 47.3kB/s]"
          }
        },
        "cd091c4e93d741c4b69370a6b802e2bf": {
          "model_module": "@jupyter-widgets/base",
          "model_name": "LayoutModel",
          "model_module_version": "1.2.0",
          "state": {
            "_model_module": "@jupyter-widgets/base",
            "_model_module_version": "1.2.0",
            "_model_name": "LayoutModel",
            "_view_count": null,
            "_view_module": "@jupyter-widgets/base",
            "_view_module_version": "1.2.0",
            "_view_name": "LayoutView",
            "align_content": null,
            "align_items": null,
            "align_self": null,
            "border": null,
            "bottom": null,
            "display": null,
            "flex": null,
            "flex_flow": null,
            "grid_area": null,
            "grid_auto_columns": null,
            "grid_auto_flow": null,
            "grid_auto_rows": null,
            "grid_column": null,
            "grid_gap": null,
            "grid_row": null,
            "grid_template_areas": null,
            "grid_template_columns": null,
            "grid_template_rows": null,
            "height": null,
            "justify_content": null,
            "justify_items": null,
            "left": null,
            "margin": null,
            "max_height": null,
            "max_width": null,
            "min_height": null,
            "min_width": null,
            "object_fit": null,
            "object_position": null,
            "order": null,
            "overflow": null,
            "overflow_x": null,
            "overflow_y": null,
            "padding": null,
            "right": null,
            "top": null,
            "visibility": null,
            "width": null
          }
        },
        "c1bcc9588a714775a1dfeab762ba9f6c": {
          "model_module": "@jupyter-widgets/base",
          "model_name": "LayoutModel",
          "model_module_version": "1.2.0",
          "state": {
            "_model_module": "@jupyter-widgets/base",
            "_model_module_version": "1.2.0",
            "_model_name": "LayoutModel",
            "_view_count": null,
            "_view_module": "@jupyter-widgets/base",
            "_view_module_version": "1.2.0",
            "_view_name": "LayoutView",
            "align_content": null,
            "align_items": null,
            "align_self": null,
            "border": null,
            "bottom": null,
            "display": null,
            "flex": null,
            "flex_flow": null,
            "grid_area": null,
            "grid_auto_columns": null,
            "grid_auto_flow": null,
            "grid_auto_rows": null,
            "grid_column": null,
            "grid_gap": null,
            "grid_row": null,
            "grid_template_areas": null,
            "grid_template_columns": null,
            "grid_template_rows": null,
            "height": null,
            "justify_content": null,
            "justify_items": null,
            "left": null,
            "margin": null,
            "max_height": null,
            "max_width": null,
            "min_height": null,
            "min_width": null,
            "object_fit": null,
            "object_position": null,
            "order": null,
            "overflow": null,
            "overflow_x": null,
            "overflow_y": null,
            "padding": null,
            "right": null,
            "top": null,
            "visibility": null,
            "width": null
          }
        },
        "0ef869d42a9948f78912fa5c80278d76": {
          "model_module": "@jupyter-widgets/controls",
          "model_name": "DescriptionStyleModel",
          "model_module_version": "1.5.0",
          "state": {
            "_model_module": "@jupyter-widgets/controls",
            "_model_module_version": "1.5.0",
            "_model_name": "DescriptionStyleModel",
            "_view_count": null,
            "_view_module": "@jupyter-widgets/base",
            "_view_module_version": "1.2.0",
            "_view_name": "StyleView",
            "description_width": ""
          }
        },
        "d6047ced0eb742a1b9fa0e06baff5821": {
          "model_module": "@jupyter-widgets/base",
          "model_name": "LayoutModel",
          "model_module_version": "1.2.0",
          "state": {
            "_model_module": "@jupyter-widgets/base",
            "_model_module_version": "1.2.0",
            "_model_name": "LayoutModel",
            "_view_count": null,
            "_view_module": "@jupyter-widgets/base",
            "_view_module_version": "1.2.0",
            "_view_name": "LayoutView",
            "align_content": null,
            "align_items": null,
            "align_self": null,
            "border": null,
            "bottom": null,
            "display": null,
            "flex": null,
            "flex_flow": null,
            "grid_area": null,
            "grid_auto_columns": null,
            "grid_auto_flow": null,
            "grid_auto_rows": null,
            "grid_column": null,
            "grid_gap": null,
            "grid_row": null,
            "grid_template_areas": null,
            "grid_template_columns": null,
            "grid_template_rows": null,
            "height": null,
            "justify_content": null,
            "justify_items": null,
            "left": null,
            "margin": null,
            "max_height": null,
            "max_width": null,
            "min_height": null,
            "min_width": null,
            "object_fit": null,
            "object_position": null,
            "order": null,
            "overflow": null,
            "overflow_x": null,
            "overflow_y": null,
            "padding": null,
            "right": null,
            "top": null,
            "visibility": null,
            "width": null
          }
        },
        "dca5f916975d4483a74e8fa5348fb024": {
          "model_module": "@jupyter-widgets/controls",
          "model_name": "ProgressStyleModel",
          "model_module_version": "1.5.0",
          "state": {
            "_model_module": "@jupyter-widgets/controls",
            "_model_module_version": "1.5.0",
            "_model_name": "ProgressStyleModel",
            "_view_count": null,
            "_view_module": "@jupyter-widgets/base",
            "_view_module_version": "1.2.0",
            "_view_name": "StyleView",
            "bar_color": null,
            "description_width": ""
          }
        },
        "6f0bed1138f0489f9ea683ba2c62ccd1": {
          "model_module": "@jupyter-widgets/base",
          "model_name": "LayoutModel",
          "model_module_version": "1.2.0",
          "state": {
            "_model_module": "@jupyter-widgets/base",
            "_model_module_version": "1.2.0",
            "_model_name": "LayoutModel",
            "_view_count": null,
            "_view_module": "@jupyter-widgets/base",
            "_view_module_version": "1.2.0",
            "_view_name": "LayoutView",
            "align_content": null,
            "align_items": null,
            "align_self": null,
            "border": null,
            "bottom": null,
            "display": null,
            "flex": null,
            "flex_flow": null,
            "grid_area": null,
            "grid_auto_columns": null,
            "grid_auto_flow": null,
            "grid_auto_rows": null,
            "grid_column": null,
            "grid_gap": null,
            "grid_row": null,
            "grid_template_areas": null,
            "grid_template_columns": null,
            "grid_template_rows": null,
            "height": null,
            "justify_content": null,
            "justify_items": null,
            "left": null,
            "margin": null,
            "max_height": null,
            "max_width": null,
            "min_height": null,
            "min_width": null,
            "object_fit": null,
            "object_position": null,
            "order": null,
            "overflow": null,
            "overflow_x": null,
            "overflow_y": null,
            "padding": null,
            "right": null,
            "top": null,
            "visibility": null,
            "width": null
          }
        },
        "5378c0fdad27420a99c120f0c17e304f": {
          "model_module": "@jupyter-widgets/controls",
          "model_name": "DescriptionStyleModel",
          "model_module_version": "1.5.0",
          "state": {
            "_model_module": "@jupyter-widgets/controls",
            "_model_module_version": "1.5.0",
            "_model_name": "DescriptionStyleModel",
            "_view_count": null,
            "_view_module": "@jupyter-widgets/base",
            "_view_module_version": "1.2.0",
            "_view_name": "StyleView",
            "description_width": ""
          }
        },
        "76ae394bcc224a2eb2633093fc42f5aa": {
          "model_module": "@jupyter-widgets/controls",
          "model_name": "HBoxModel",
          "model_module_version": "1.5.0",
          "state": {
            "_dom_classes": [],
            "_model_module": "@jupyter-widgets/controls",
            "_model_module_version": "1.5.0",
            "_model_name": "HBoxModel",
            "_view_count": null,
            "_view_module": "@jupyter-widgets/controls",
            "_view_module_version": "1.5.0",
            "_view_name": "HBoxView",
            "box_style": "",
            "children": [
              "IPY_MODEL_2b769b5c90634c67974f58e5933f32e8",
              "IPY_MODEL_5cb13bd70f044a37aa7fd90615dc86d1",
              "IPY_MODEL_420a654562374adf9ca3c65d412f531d"
            ],
            "layout": "IPY_MODEL_89235a4601ef4f12906012f4327bb193"
          }
        },
        "2b769b5c90634c67974f58e5933f32e8": {
          "model_module": "@jupyter-widgets/controls",
          "model_name": "HTMLModel",
          "model_module_version": "1.5.0",
          "state": {
            "_dom_classes": [],
            "_model_module": "@jupyter-widgets/controls",
            "_model_module_version": "1.5.0",
            "_model_name": "HTMLModel",
            "_view_count": null,
            "_view_module": "@jupyter-widgets/controls",
            "_view_module_version": "1.5.0",
            "_view_name": "HTMLView",
            "description": "",
            "description_tooltip": null,
            "layout": "IPY_MODEL_745aadf536144843820ae4daacaa73d2",
            "placeholder": "​",
            "style": "IPY_MODEL_03b735f46ee542b8963809dfb2e610f9",
            "value": "Downloading (…)solve/main/vocab.txt: 100%"
          }
        },
        "5cb13bd70f044a37aa7fd90615dc86d1": {
          "model_module": "@jupyter-widgets/controls",
          "model_name": "FloatProgressModel",
          "model_module_version": "1.5.0",
          "state": {
            "_dom_classes": [],
            "_model_module": "@jupyter-widgets/controls",
            "_model_module_version": "1.5.0",
            "_model_name": "FloatProgressModel",
            "_view_count": null,
            "_view_module": "@jupyter-widgets/controls",
            "_view_module_version": "1.5.0",
            "_view_name": "ProgressView",
            "bar_style": "success",
            "description": "",
            "description_tooltip": null,
            "layout": "IPY_MODEL_bbb7df2d66624d75994e51594b7ce5e0",
            "max": 995526,
            "min": 0,
            "orientation": "horizontal",
            "style": "IPY_MODEL_8d030565a61541508fdcec4d59497190",
            "value": 995526
          }
        },
        "420a654562374adf9ca3c65d412f531d": {
          "model_module": "@jupyter-widgets/controls",
          "model_name": "HTMLModel",
          "model_module_version": "1.5.0",
          "state": {
            "_dom_classes": [],
            "_model_module": "@jupyter-widgets/controls",
            "_model_module_version": "1.5.0",
            "_model_name": "HTMLModel",
            "_view_count": null,
            "_view_module": "@jupyter-widgets/controls",
            "_view_module_version": "1.5.0",
            "_view_name": "HTMLView",
            "description": "",
            "description_tooltip": null,
            "layout": "IPY_MODEL_7b2c9e614fd84502a9b72adf52b2a4a3",
            "placeholder": "​",
            "style": "IPY_MODEL_d555ea15546c4991bbe37a0a483f332b",
            "value": " 996k/996k [00:00&lt;00:00, 9.03MB/s]"
          }
        },
        "89235a4601ef4f12906012f4327bb193": {
          "model_module": "@jupyter-widgets/base",
          "model_name": "LayoutModel",
          "model_module_version": "1.2.0",
          "state": {
            "_model_module": "@jupyter-widgets/base",
            "_model_module_version": "1.2.0",
            "_model_name": "LayoutModel",
            "_view_count": null,
            "_view_module": "@jupyter-widgets/base",
            "_view_module_version": "1.2.0",
            "_view_name": "LayoutView",
            "align_content": null,
            "align_items": null,
            "align_self": null,
            "border": null,
            "bottom": null,
            "display": null,
            "flex": null,
            "flex_flow": null,
            "grid_area": null,
            "grid_auto_columns": null,
            "grid_auto_flow": null,
            "grid_auto_rows": null,
            "grid_column": null,
            "grid_gap": null,
            "grid_row": null,
            "grid_template_areas": null,
            "grid_template_columns": null,
            "grid_template_rows": null,
            "height": null,
            "justify_content": null,
            "justify_items": null,
            "left": null,
            "margin": null,
            "max_height": null,
            "max_width": null,
            "min_height": null,
            "min_width": null,
            "object_fit": null,
            "object_position": null,
            "order": null,
            "overflow": null,
            "overflow_x": null,
            "overflow_y": null,
            "padding": null,
            "right": null,
            "top": null,
            "visibility": null,
            "width": null
          }
        },
        "745aadf536144843820ae4daacaa73d2": {
          "model_module": "@jupyter-widgets/base",
          "model_name": "LayoutModel",
          "model_module_version": "1.2.0",
          "state": {
            "_model_module": "@jupyter-widgets/base",
            "_model_module_version": "1.2.0",
            "_model_name": "LayoutModel",
            "_view_count": null,
            "_view_module": "@jupyter-widgets/base",
            "_view_module_version": "1.2.0",
            "_view_name": "LayoutView",
            "align_content": null,
            "align_items": null,
            "align_self": null,
            "border": null,
            "bottom": null,
            "display": null,
            "flex": null,
            "flex_flow": null,
            "grid_area": null,
            "grid_auto_columns": null,
            "grid_auto_flow": null,
            "grid_auto_rows": null,
            "grid_column": null,
            "grid_gap": null,
            "grid_row": null,
            "grid_template_areas": null,
            "grid_template_columns": null,
            "grid_template_rows": null,
            "height": null,
            "justify_content": null,
            "justify_items": null,
            "left": null,
            "margin": null,
            "max_height": null,
            "max_width": null,
            "min_height": null,
            "min_width": null,
            "object_fit": null,
            "object_position": null,
            "order": null,
            "overflow": null,
            "overflow_x": null,
            "overflow_y": null,
            "padding": null,
            "right": null,
            "top": null,
            "visibility": null,
            "width": null
          }
        },
        "03b735f46ee542b8963809dfb2e610f9": {
          "model_module": "@jupyter-widgets/controls",
          "model_name": "DescriptionStyleModel",
          "model_module_version": "1.5.0",
          "state": {
            "_model_module": "@jupyter-widgets/controls",
            "_model_module_version": "1.5.0",
            "_model_name": "DescriptionStyleModel",
            "_view_count": null,
            "_view_module": "@jupyter-widgets/base",
            "_view_module_version": "1.2.0",
            "_view_name": "StyleView",
            "description_width": ""
          }
        },
        "bbb7df2d66624d75994e51594b7ce5e0": {
          "model_module": "@jupyter-widgets/base",
          "model_name": "LayoutModel",
          "model_module_version": "1.2.0",
          "state": {
            "_model_module": "@jupyter-widgets/base",
            "_model_module_version": "1.2.0",
            "_model_name": "LayoutModel",
            "_view_count": null,
            "_view_module": "@jupyter-widgets/base",
            "_view_module_version": "1.2.0",
            "_view_name": "LayoutView",
            "align_content": null,
            "align_items": null,
            "align_self": null,
            "border": null,
            "bottom": null,
            "display": null,
            "flex": null,
            "flex_flow": null,
            "grid_area": null,
            "grid_auto_columns": null,
            "grid_auto_flow": null,
            "grid_auto_rows": null,
            "grid_column": null,
            "grid_gap": null,
            "grid_row": null,
            "grid_template_areas": null,
            "grid_template_columns": null,
            "grid_template_rows": null,
            "height": null,
            "justify_content": null,
            "justify_items": null,
            "left": null,
            "margin": null,
            "max_height": null,
            "max_width": null,
            "min_height": null,
            "min_width": null,
            "object_fit": null,
            "object_position": null,
            "order": null,
            "overflow": null,
            "overflow_x": null,
            "overflow_y": null,
            "padding": null,
            "right": null,
            "top": null,
            "visibility": null,
            "width": null
          }
        },
        "8d030565a61541508fdcec4d59497190": {
          "model_module": "@jupyter-widgets/controls",
          "model_name": "ProgressStyleModel",
          "model_module_version": "1.5.0",
          "state": {
            "_model_module": "@jupyter-widgets/controls",
            "_model_module_version": "1.5.0",
            "_model_name": "ProgressStyleModel",
            "_view_count": null,
            "_view_module": "@jupyter-widgets/base",
            "_view_module_version": "1.2.0",
            "_view_name": "StyleView",
            "bar_color": null,
            "description_width": ""
          }
        },
        "7b2c9e614fd84502a9b72adf52b2a4a3": {
          "model_module": "@jupyter-widgets/base",
          "model_name": "LayoutModel",
          "model_module_version": "1.2.0",
          "state": {
            "_model_module": "@jupyter-widgets/base",
            "_model_module_version": "1.2.0",
            "_model_name": "LayoutModel",
            "_view_count": null,
            "_view_module": "@jupyter-widgets/base",
            "_view_module_version": "1.2.0",
            "_view_name": "LayoutView",
            "align_content": null,
            "align_items": null,
            "align_self": null,
            "border": null,
            "bottom": null,
            "display": null,
            "flex": null,
            "flex_flow": null,
            "grid_area": null,
            "grid_auto_columns": null,
            "grid_auto_flow": null,
            "grid_auto_rows": null,
            "grid_column": null,
            "grid_gap": null,
            "grid_row": null,
            "grid_template_areas": null,
            "grid_template_columns": null,
            "grid_template_rows": null,
            "height": null,
            "justify_content": null,
            "justify_items": null,
            "left": null,
            "margin": null,
            "max_height": null,
            "max_width": null,
            "min_height": null,
            "min_width": null,
            "object_fit": null,
            "object_position": null,
            "order": null,
            "overflow": null,
            "overflow_x": null,
            "overflow_y": null,
            "padding": null,
            "right": null,
            "top": null,
            "visibility": null,
            "width": null
          }
        },
        "d555ea15546c4991bbe37a0a483f332b": {
          "model_module": "@jupyter-widgets/controls",
          "model_name": "DescriptionStyleModel",
          "model_module_version": "1.5.0",
          "state": {
            "_model_module": "@jupyter-widgets/controls",
            "_model_module_version": "1.5.0",
            "_model_name": "DescriptionStyleModel",
            "_view_count": null,
            "_view_module": "@jupyter-widgets/base",
            "_view_module_version": "1.2.0",
            "_view_name": "StyleView",
            "description_width": ""
          }
        },
        "c357bbd62f7f49edb9bda83d13cb483c": {
          "model_module": "@jupyter-widgets/controls",
          "model_name": "HBoxModel",
          "model_module_version": "1.5.0",
          "state": {
            "_dom_classes": [],
            "_model_module": "@jupyter-widgets/controls",
            "_model_module_version": "1.5.0",
            "_model_name": "HBoxModel",
            "_view_count": null,
            "_view_module": "@jupyter-widgets/controls",
            "_view_module_version": "1.5.0",
            "_view_name": "HBoxView",
            "box_style": "",
            "children": [
              "IPY_MODEL_4cb5e65086c64ddbabdd5532dbf4a79b",
              "IPY_MODEL_8ac980caa2a846088d87ff9f41d88c74",
              "IPY_MODEL_ae6c3b3f04394f1b9432571dff515408"
            ],
            "layout": "IPY_MODEL_9656ad3791ef4dcbbf09310a3ec27353"
          }
        },
        "4cb5e65086c64ddbabdd5532dbf4a79b": {
          "model_module": "@jupyter-widgets/controls",
          "model_name": "HTMLModel",
          "model_module_version": "1.5.0",
          "state": {
            "_dom_classes": [],
            "_model_module": "@jupyter-widgets/controls",
            "_model_module_version": "1.5.0",
            "_model_name": "HTMLModel",
            "_view_count": null,
            "_view_module": "@jupyter-widgets/controls",
            "_view_module_version": "1.5.0",
            "_view_name": "HTMLView",
            "description": "",
            "description_tooltip": null,
            "layout": "IPY_MODEL_39f2d08eb382493f8bad64928954a311",
            "placeholder": "​",
            "style": "IPY_MODEL_bc1c55fd098445e69700d56397308407",
            "value": "Downloading (…)/main/tokenizer.json: 100%"
          }
        },
        "8ac980caa2a846088d87ff9f41d88c74": {
          "model_module": "@jupyter-widgets/controls",
          "model_name": "FloatProgressModel",
          "model_module_version": "1.5.0",
          "state": {
            "_dom_classes": [],
            "_model_module": "@jupyter-widgets/controls",
            "_model_module_version": "1.5.0",
            "_model_name": "FloatProgressModel",
            "_view_count": null,
            "_view_module": "@jupyter-widgets/controls",
            "_view_module_version": "1.5.0",
            "_view_name": "ProgressView",
            "bar_style": "success",
            "description": "",
            "description_tooltip": null,
            "layout": "IPY_MODEL_267f443761a24926852c5bd1589def30",
            "max": 1961828,
            "min": 0,
            "orientation": "horizontal",
            "style": "IPY_MODEL_6df9b3a5532e49afa3f545825ff5e9b6",
            "value": 1961828
          }
        },
        "ae6c3b3f04394f1b9432571dff515408": {
          "model_module": "@jupyter-widgets/controls",
          "model_name": "HTMLModel",
          "model_module_version": "1.5.0",
          "state": {
            "_dom_classes": [],
            "_model_module": "@jupyter-widgets/controls",
            "_model_module_version": "1.5.0",
            "_model_name": "HTMLModel",
            "_view_count": null,
            "_view_module": "@jupyter-widgets/controls",
            "_view_module_version": "1.5.0",
            "_view_name": "HTMLView",
            "description": "",
            "description_tooltip": null,
            "layout": "IPY_MODEL_e62f610e331a41cfb9201b654fa71c3f",
            "placeholder": "​",
            "style": "IPY_MODEL_5ab01b63f60546c7a8955cd617ff7fde",
            "value": " 1.96M/1.96M [00:00&lt;00:00, 25.3MB/s]"
          }
        },
        "9656ad3791ef4dcbbf09310a3ec27353": {
          "model_module": "@jupyter-widgets/base",
          "model_name": "LayoutModel",
          "model_module_version": "1.2.0",
          "state": {
            "_model_module": "@jupyter-widgets/base",
            "_model_module_version": "1.2.0",
            "_model_name": "LayoutModel",
            "_view_count": null,
            "_view_module": "@jupyter-widgets/base",
            "_view_module_version": "1.2.0",
            "_view_name": "LayoutView",
            "align_content": null,
            "align_items": null,
            "align_self": null,
            "border": null,
            "bottom": null,
            "display": null,
            "flex": null,
            "flex_flow": null,
            "grid_area": null,
            "grid_auto_columns": null,
            "grid_auto_flow": null,
            "grid_auto_rows": null,
            "grid_column": null,
            "grid_gap": null,
            "grid_row": null,
            "grid_template_areas": null,
            "grid_template_columns": null,
            "grid_template_rows": null,
            "height": null,
            "justify_content": null,
            "justify_items": null,
            "left": null,
            "margin": null,
            "max_height": null,
            "max_width": null,
            "min_height": null,
            "min_width": null,
            "object_fit": null,
            "object_position": null,
            "order": null,
            "overflow": null,
            "overflow_x": null,
            "overflow_y": null,
            "padding": null,
            "right": null,
            "top": null,
            "visibility": null,
            "width": null
          }
        },
        "39f2d08eb382493f8bad64928954a311": {
          "model_module": "@jupyter-widgets/base",
          "model_name": "LayoutModel",
          "model_module_version": "1.2.0",
          "state": {
            "_model_module": "@jupyter-widgets/base",
            "_model_module_version": "1.2.0",
            "_model_name": "LayoutModel",
            "_view_count": null,
            "_view_module": "@jupyter-widgets/base",
            "_view_module_version": "1.2.0",
            "_view_name": "LayoutView",
            "align_content": null,
            "align_items": null,
            "align_self": null,
            "border": null,
            "bottom": null,
            "display": null,
            "flex": null,
            "flex_flow": null,
            "grid_area": null,
            "grid_auto_columns": null,
            "grid_auto_flow": null,
            "grid_auto_rows": null,
            "grid_column": null,
            "grid_gap": null,
            "grid_row": null,
            "grid_template_areas": null,
            "grid_template_columns": null,
            "grid_template_rows": null,
            "height": null,
            "justify_content": null,
            "justify_items": null,
            "left": null,
            "margin": null,
            "max_height": null,
            "max_width": null,
            "min_height": null,
            "min_width": null,
            "object_fit": null,
            "object_position": null,
            "order": null,
            "overflow": null,
            "overflow_x": null,
            "overflow_y": null,
            "padding": null,
            "right": null,
            "top": null,
            "visibility": null,
            "width": null
          }
        },
        "bc1c55fd098445e69700d56397308407": {
          "model_module": "@jupyter-widgets/controls",
          "model_name": "DescriptionStyleModel",
          "model_module_version": "1.5.0",
          "state": {
            "_model_module": "@jupyter-widgets/controls",
            "_model_module_version": "1.5.0",
            "_model_name": "DescriptionStyleModel",
            "_view_count": null,
            "_view_module": "@jupyter-widgets/base",
            "_view_module_version": "1.2.0",
            "_view_name": "StyleView",
            "description_width": ""
          }
        },
        "267f443761a24926852c5bd1589def30": {
          "model_module": "@jupyter-widgets/base",
          "model_name": "LayoutModel",
          "model_module_version": "1.2.0",
          "state": {
            "_model_module": "@jupyter-widgets/base",
            "_model_module_version": "1.2.0",
            "_model_name": "LayoutModel",
            "_view_count": null,
            "_view_module": "@jupyter-widgets/base",
            "_view_module_version": "1.2.0",
            "_view_name": "LayoutView",
            "align_content": null,
            "align_items": null,
            "align_self": null,
            "border": null,
            "bottom": null,
            "display": null,
            "flex": null,
            "flex_flow": null,
            "grid_area": null,
            "grid_auto_columns": null,
            "grid_auto_flow": null,
            "grid_auto_rows": null,
            "grid_column": null,
            "grid_gap": null,
            "grid_row": null,
            "grid_template_areas": null,
            "grid_template_columns": null,
            "grid_template_rows": null,
            "height": null,
            "justify_content": null,
            "justify_items": null,
            "left": null,
            "margin": null,
            "max_height": null,
            "max_width": null,
            "min_height": null,
            "min_width": null,
            "object_fit": null,
            "object_position": null,
            "order": null,
            "overflow": null,
            "overflow_x": null,
            "overflow_y": null,
            "padding": null,
            "right": null,
            "top": null,
            "visibility": null,
            "width": null
          }
        },
        "6df9b3a5532e49afa3f545825ff5e9b6": {
          "model_module": "@jupyter-widgets/controls",
          "model_name": "ProgressStyleModel",
          "model_module_version": "1.5.0",
          "state": {
            "_model_module": "@jupyter-widgets/controls",
            "_model_module_version": "1.5.0",
            "_model_name": "ProgressStyleModel",
            "_view_count": null,
            "_view_module": "@jupyter-widgets/base",
            "_view_module_version": "1.2.0",
            "_view_name": "StyleView",
            "bar_color": null,
            "description_width": ""
          }
        },
        "e62f610e331a41cfb9201b654fa71c3f": {
          "model_module": "@jupyter-widgets/base",
          "model_name": "LayoutModel",
          "model_module_version": "1.2.0",
          "state": {
            "_model_module": "@jupyter-widgets/base",
            "_model_module_version": "1.2.0",
            "_model_name": "LayoutModel",
            "_view_count": null,
            "_view_module": "@jupyter-widgets/base",
            "_view_module_version": "1.2.0",
            "_view_name": "LayoutView",
            "align_content": null,
            "align_items": null,
            "align_self": null,
            "border": null,
            "bottom": null,
            "display": null,
            "flex": null,
            "flex_flow": null,
            "grid_area": null,
            "grid_auto_columns": null,
            "grid_auto_flow": null,
            "grid_auto_rows": null,
            "grid_column": null,
            "grid_gap": null,
            "grid_row": null,
            "grid_template_areas": null,
            "grid_template_columns": null,
            "grid_template_rows": null,
            "height": null,
            "justify_content": null,
            "justify_items": null,
            "left": null,
            "margin": null,
            "max_height": null,
            "max_width": null,
            "min_height": null,
            "min_width": null,
            "object_fit": null,
            "object_position": null,
            "order": null,
            "overflow": null,
            "overflow_x": null,
            "overflow_y": null,
            "padding": null,
            "right": null,
            "top": null,
            "visibility": null,
            "width": null
          }
        },
        "5ab01b63f60546c7a8955cd617ff7fde": {
          "model_module": "@jupyter-widgets/controls",
          "model_name": "DescriptionStyleModel",
          "model_module_version": "1.5.0",
          "state": {
            "_model_module": "@jupyter-widgets/controls",
            "_model_module_version": "1.5.0",
            "_model_name": "DescriptionStyleModel",
            "_view_count": null,
            "_view_module": "@jupyter-widgets/base",
            "_view_module_version": "1.2.0",
            "_view_name": "StyleView",
            "description_width": ""
          }
        },
        "f58d6d53163b49a78750b3bcd79cde36": {
          "model_module": "@jupyter-widgets/controls",
          "model_name": "HBoxModel",
          "model_module_version": "1.5.0",
          "state": {
            "_dom_classes": [],
            "_model_module": "@jupyter-widgets/controls",
            "_model_module_version": "1.5.0",
            "_model_name": "HBoxModel",
            "_view_count": null,
            "_view_module": "@jupyter-widgets/controls",
            "_view_module_version": "1.5.0",
            "_view_name": "HBoxView",
            "box_style": "",
            "children": [
              "IPY_MODEL_d6b53ca11fbf4bb9bd703593e1c67e82",
              "IPY_MODEL_76d99bd5daac454e85a927020a2829fe",
              "IPY_MODEL_75eb46fa8af84b009d58b796301cdd77"
            ],
            "layout": "IPY_MODEL_dd1dd926cd6244d0856c82bec4fafc0e"
          }
        },
        "d6b53ca11fbf4bb9bd703593e1c67e82": {
          "model_module": "@jupyter-widgets/controls",
          "model_name": "HTMLModel",
          "model_module_version": "1.5.0",
          "state": {
            "_dom_classes": [],
            "_model_module": "@jupyter-widgets/controls",
            "_model_module_version": "1.5.0",
            "_model_name": "HTMLModel",
            "_view_count": null,
            "_view_module": "@jupyter-widgets/controls",
            "_view_module_version": "1.5.0",
            "_view_name": "HTMLView",
            "description": "",
            "description_tooltip": null,
            "layout": "IPY_MODEL_c48ad5d381b145f09ab665abaf511cd2",
            "placeholder": "​",
            "style": "IPY_MODEL_8ff638114e3c403eb51ae88083d712f8",
            "value": "Downloading model.safetensors: 100%"
          }
        },
        "76d99bd5daac454e85a927020a2829fe": {
          "model_module": "@jupyter-widgets/controls",
          "model_name": "FloatProgressModel",
          "model_module_version": "1.5.0",
          "state": {
            "_dom_classes": [],
            "_model_module": "@jupyter-widgets/controls",
            "_model_module_version": "1.5.0",
            "_model_name": "FloatProgressModel",
            "_view_count": null,
            "_view_module": "@jupyter-widgets/controls",
            "_view_module_version": "1.5.0",
            "_view_name": "ProgressView",
            "bar_style": "success",
            "description": "",
            "description_tooltip": null,
            "layout": "IPY_MODEL_c3db0e88d3004ef990ee23cfdf3bdf26",
            "max": 714290682,
            "min": 0,
            "orientation": "horizontal",
            "style": "IPY_MODEL_672d0cdf65c7425ab7c9c1420aa1952f",
            "value": 714290682
          }
        },
        "75eb46fa8af84b009d58b796301cdd77": {
          "model_module": "@jupyter-widgets/controls",
          "model_name": "HTMLModel",
          "model_module_version": "1.5.0",
          "state": {
            "_dom_classes": [],
            "_model_module": "@jupyter-widgets/controls",
            "_model_module_version": "1.5.0",
            "_model_name": "HTMLModel",
            "_view_count": null,
            "_view_module": "@jupyter-widgets/controls",
            "_view_module_version": "1.5.0",
            "_view_name": "HTMLView",
            "description": "",
            "description_tooltip": null,
            "layout": "IPY_MODEL_56b6c0f377ea448fb3ba8d2b757d4b8d",
            "placeholder": "​",
            "style": "IPY_MODEL_3731981db79f4ccba82bb7bfe9e8877d",
            "value": " 714M/714M [00:27&lt;00:00, 29.8MB/s]"
          }
        },
        "dd1dd926cd6244d0856c82bec4fafc0e": {
          "model_module": "@jupyter-widgets/base",
          "model_name": "LayoutModel",
          "model_module_version": "1.2.0",
          "state": {
            "_model_module": "@jupyter-widgets/base",
            "_model_module_version": "1.2.0",
            "_model_name": "LayoutModel",
            "_view_count": null,
            "_view_module": "@jupyter-widgets/base",
            "_view_module_version": "1.2.0",
            "_view_name": "LayoutView",
            "align_content": null,
            "align_items": null,
            "align_self": null,
            "border": null,
            "bottom": null,
            "display": null,
            "flex": null,
            "flex_flow": null,
            "grid_area": null,
            "grid_auto_columns": null,
            "grid_auto_flow": null,
            "grid_auto_rows": null,
            "grid_column": null,
            "grid_gap": null,
            "grid_row": null,
            "grid_template_areas": null,
            "grid_template_columns": null,
            "grid_template_rows": null,
            "height": null,
            "justify_content": null,
            "justify_items": null,
            "left": null,
            "margin": null,
            "max_height": null,
            "max_width": null,
            "min_height": null,
            "min_width": null,
            "object_fit": null,
            "object_position": null,
            "order": null,
            "overflow": null,
            "overflow_x": null,
            "overflow_y": null,
            "padding": null,
            "right": null,
            "top": null,
            "visibility": null,
            "width": null
          }
        },
        "c48ad5d381b145f09ab665abaf511cd2": {
          "model_module": "@jupyter-widgets/base",
          "model_name": "LayoutModel",
          "model_module_version": "1.2.0",
          "state": {
            "_model_module": "@jupyter-widgets/base",
            "_model_module_version": "1.2.0",
            "_model_name": "LayoutModel",
            "_view_count": null,
            "_view_module": "@jupyter-widgets/base",
            "_view_module_version": "1.2.0",
            "_view_name": "LayoutView",
            "align_content": null,
            "align_items": null,
            "align_self": null,
            "border": null,
            "bottom": null,
            "display": null,
            "flex": null,
            "flex_flow": null,
            "grid_area": null,
            "grid_auto_columns": null,
            "grid_auto_flow": null,
            "grid_auto_rows": null,
            "grid_column": null,
            "grid_gap": null,
            "grid_row": null,
            "grid_template_areas": null,
            "grid_template_columns": null,
            "grid_template_rows": null,
            "height": null,
            "justify_content": null,
            "justify_items": null,
            "left": null,
            "margin": null,
            "max_height": null,
            "max_width": null,
            "min_height": null,
            "min_width": null,
            "object_fit": null,
            "object_position": null,
            "order": null,
            "overflow": null,
            "overflow_x": null,
            "overflow_y": null,
            "padding": null,
            "right": null,
            "top": null,
            "visibility": null,
            "width": null
          }
        },
        "8ff638114e3c403eb51ae88083d712f8": {
          "model_module": "@jupyter-widgets/controls",
          "model_name": "DescriptionStyleModel",
          "model_module_version": "1.5.0",
          "state": {
            "_model_module": "@jupyter-widgets/controls",
            "_model_module_version": "1.5.0",
            "_model_name": "DescriptionStyleModel",
            "_view_count": null,
            "_view_module": "@jupyter-widgets/base",
            "_view_module_version": "1.2.0",
            "_view_name": "StyleView",
            "description_width": ""
          }
        },
        "c3db0e88d3004ef990ee23cfdf3bdf26": {
          "model_module": "@jupyter-widgets/base",
          "model_name": "LayoutModel",
          "model_module_version": "1.2.0",
          "state": {
            "_model_module": "@jupyter-widgets/base",
            "_model_module_version": "1.2.0",
            "_model_name": "LayoutModel",
            "_view_count": null,
            "_view_module": "@jupyter-widgets/base",
            "_view_module_version": "1.2.0",
            "_view_name": "LayoutView",
            "align_content": null,
            "align_items": null,
            "align_self": null,
            "border": null,
            "bottom": null,
            "display": null,
            "flex": null,
            "flex_flow": null,
            "grid_area": null,
            "grid_auto_columns": null,
            "grid_auto_flow": null,
            "grid_auto_rows": null,
            "grid_column": null,
            "grid_gap": null,
            "grid_row": null,
            "grid_template_areas": null,
            "grid_template_columns": null,
            "grid_template_rows": null,
            "height": null,
            "justify_content": null,
            "justify_items": null,
            "left": null,
            "margin": null,
            "max_height": null,
            "max_width": null,
            "min_height": null,
            "min_width": null,
            "object_fit": null,
            "object_position": null,
            "order": null,
            "overflow": null,
            "overflow_x": null,
            "overflow_y": null,
            "padding": null,
            "right": null,
            "top": null,
            "visibility": null,
            "width": null
          }
        },
        "672d0cdf65c7425ab7c9c1420aa1952f": {
          "model_module": "@jupyter-widgets/controls",
          "model_name": "ProgressStyleModel",
          "model_module_version": "1.5.0",
          "state": {
            "_model_module": "@jupyter-widgets/controls",
            "_model_module_version": "1.5.0",
            "_model_name": "ProgressStyleModel",
            "_view_count": null,
            "_view_module": "@jupyter-widgets/base",
            "_view_module_version": "1.2.0",
            "_view_name": "StyleView",
            "bar_color": null,
            "description_width": ""
          }
        },
        "56b6c0f377ea448fb3ba8d2b757d4b8d": {
          "model_module": "@jupyter-widgets/base",
          "model_name": "LayoutModel",
          "model_module_version": "1.2.0",
          "state": {
            "_model_module": "@jupyter-widgets/base",
            "_model_module_version": "1.2.0",
            "_model_name": "LayoutModel",
            "_view_count": null,
            "_view_module": "@jupyter-widgets/base",
            "_view_module_version": "1.2.0",
            "_view_name": "LayoutView",
            "align_content": null,
            "align_items": null,
            "align_self": null,
            "border": null,
            "bottom": null,
            "display": null,
            "flex": null,
            "flex_flow": null,
            "grid_area": null,
            "grid_auto_columns": null,
            "grid_auto_flow": null,
            "grid_auto_rows": null,
            "grid_column": null,
            "grid_gap": null,
            "grid_row": null,
            "grid_template_areas": null,
            "grid_template_columns": null,
            "grid_template_rows": null,
            "height": null,
            "justify_content": null,
            "justify_items": null,
            "left": null,
            "margin": null,
            "max_height": null,
            "max_width": null,
            "min_height": null,
            "min_width": null,
            "object_fit": null,
            "object_position": null,
            "order": null,
            "overflow": null,
            "overflow_x": null,
            "overflow_y": null,
            "padding": null,
            "right": null,
            "top": null,
            "visibility": null,
            "width": null
          }
        },
        "3731981db79f4ccba82bb7bfe9e8877d": {
          "model_module": "@jupyter-widgets/controls",
          "model_name": "DescriptionStyleModel",
          "model_module_version": "1.5.0",
          "state": {
            "_model_module": "@jupyter-widgets/controls",
            "_model_module_version": "1.5.0",
            "_model_name": "DescriptionStyleModel",
            "_view_count": null,
            "_view_module": "@jupyter-widgets/base",
            "_view_module_version": "1.2.0",
            "_view_name": "StyleView",
            "description_width": ""
          }
        },
        "3b30185b7b6a48a2a41977becb7c1523": {
          "model_module": "@jupyter-widgets/controls",
          "model_name": "VBoxModel",
          "model_module_version": "1.5.0",
          "state": {
            "_dom_classes": [],
            "_model_module": "@jupyter-widgets/controls",
            "_model_module_version": "1.5.0",
            "_model_name": "VBoxModel",
            "_view_count": null,
            "_view_module": "@jupyter-widgets/controls",
            "_view_module_version": "1.5.0",
            "_view_name": "VBoxView",
            "box_style": "",
            "children": [
              "IPY_MODEL_074d193e00b74acdb47f3cd5186a2446",
              "IPY_MODEL_0a1b9b080cda496ea8e2fdf5c595cea3"
            ],
            "layout": "IPY_MODEL_fa9bc4f2d448482d88c1a996aeb6df41"
          }
        },
        "074d193e00b74acdb47f3cd5186a2446": {
          "model_module": "@jupyter-widgets/controls",
          "model_name": "LabelModel",
          "model_module_version": "1.5.0",
          "state": {
            "_dom_classes": [],
            "_model_module": "@jupyter-widgets/controls",
            "_model_module_version": "1.5.0",
            "_model_name": "LabelModel",
            "_view_count": null,
            "_view_module": "@jupyter-widgets/controls",
            "_view_module_version": "1.5.0",
            "_view_name": "LabelView",
            "description": "",
            "description_tooltip": null,
            "layout": "IPY_MODEL_65ca95344d5a48f590a6af6ac0fd630a",
            "placeholder": "​",
            "style": "IPY_MODEL_37f04be662d346d08273735f0289c11a",
            "value": "0.022 MB of 0.026 MB uploaded (0.000 MB deduped)\r"
          }
        },
        "0a1b9b080cda496ea8e2fdf5c595cea3": {
          "model_module": "@jupyter-widgets/controls",
          "model_name": "FloatProgressModel",
          "model_module_version": "1.5.0",
          "state": {
            "_dom_classes": [],
            "_model_module": "@jupyter-widgets/controls",
            "_model_module_version": "1.5.0",
            "_model_name": "FloatProgressModel",
            "_view_count": null,
            "_view_module": "@jupyter-widgets/controls",
            "_view_module_version": "1.5.0",
            "_view_name": "ProgressView",
            "bar_style": "",
            "description": "",
            "description_tooltip": null,
            "layout": "IPY_MODEL_21d180dc20474cc182f97ac45c3a2953",
            "max": 1,
            "min": 0,
            "orientation": "horizontal",
            "style": "IPY_MODEL_014a69385da247beac5f8219599a2fe7",
            "value": 0.8809408069401339
          }
        },
        "fa9bc4f2d448482d88c1a996aeb6df41": {
          "model_module": "@jupyter-widgets/base",
          "model_name": "LayoutModel",
          "model_module_version": "1.2.0",
          "state": {
            "_model_module": "@jupyter-widgets/base",
            "_model_module_version": "1.2.0",
            "_model_name": "LayoutModel",
            "_view_count": null,
            "_view_module": "@jupyter-widgets/base",
            "_view_module_version": "1.2.0",
            "_view_name": "LayoutView",
            "align_content": null,
            "align_items": null,
            "align_self": null,
            "border": null,
            "bottom": null,
            "display": null,
            "flex": null,
            "flex_flow": null,
            "grid_area": null,
            "grid_auto_columns": null,
            "grid_auto_flow": null,
            "grid_auto_rows": null,
            "grid_column": null,
            "grid_gap": null,
            "grid_row": null,
            "grid_template_areas": null,
            "grid_template_columns": null,
            "grid_template_rows": null,
            "height": null,
            "justify_content": null,
            "justify_items": null,
            "left": null,
            "margin": null,
            "max_height": null,
            "max_width": null,
            "min_height": null,
            "min_width": null,
            "object_fit": null,
            "object_position": null,
            "order": null,
            "overflow": null,
            "overflow_x": null,
            "overflow_y": null,
            "padding": null,
            "right": null,
            "top": null,
            "visibility": null,
            "width": null
          }
        },
        "65ca95344d5a48f590a6af6ac0fd630a": {
          "model_module": "@jupyter-widgets/base",
          "model_name": "LayoutModel",
          "model_module_version": "1.2.0",
          "state": {
            "_model_module": "@jupyter-widgets/base",
            "_model_module_version": "1.2.0",
            "_model_name": "LayoutModel",
            "_view_count": null,
            "_view_module": "@jupyter-widgets/base",
            "_view_module_version": "1.2.0",
            "_view_name": "LayoutView",
            "align_content": null,
            "align_items": null,
            "align_self": null,
            "border": null,
            "bottom": null,
            "display": null,
            "flex": null,
            "flex_flow": null,
            "grid_area": null,
            "grid_auto_columns": null,
            "grid_auto_flow": null,
            "grid_auto_rows": null,
            "grid_column": null,
            "grid_gap": null,
            "grid_row": null,
            "grid_template_areas": null,
            "grid_template_columns": null,
            "grid_template_rows": null,
            "height": null,
            "justify_content": null,
            "justify_items": null,
            "left": null,
            "margin": null,
            "max_height": null,
            "max_width": null,
            "min_height": null,
            "min_width": null,
            "object_fit": null,
            "object_position": null,
            "order": null,
            "overflow": null,
            "overflow_x": null,
            "overflow_y": null,
            "padding": null,
            "right": null,
            "top": null,
            "visibility": null,
            "width": null
          }
        },
        "37f04be662d346d08273735f0289c11a": {
          "model_module": "@jupyter-widgets/controls",
          "model_name": "DescriptionStyleModel",
          "model_module_version": "1.5.0",
          "state": {
            "_model_module": "@jupyter-widgets/controls",
            "_model_module_version": "1.5.0",
            "_model_name": "DescriptionStyleModel",
            "_view_count": null,
            "_view_module": "@jupyter-widgets/base",
            "_view_module_version": "1.2.0",
            "_view_name": "StyleView",
            "description_width": ""
          }
        },
        "21d180dc20474cc182f97ac45c3a2953": {
          "model_module": "@jupyter-widgets/base",
          "model_name": "LayoutModel",
          "model_module_version": "1.2.0",
          "state": {
            "_model_module": "@jupyter-widgets/base",
            "_model_module_version": "1.2.0",
            "_model_name": "LayoutModel",
            "_view_count": null,
            "_view_module": "@jupyter-widgets/base",
            "_view_module_version": "1.2.0",
            "_view_name": "LayoutView",
            "align_content": null,
            "align_items": null,
            "align_self": null,
            "border": null,
            "bottom": null,
            "display": null,
            "flex": null,
            "flex_flow": null,
            "grid_area": null,
            "grid_auto_columns": null,
            "grid_auto_flow": null,
            "grid_auto_rows": null,
            "grid_column": null,
            "grid_gap": null,
            "grid_row": null,
            "grid_template_areas": null,
            "grid_template_columns": null,
            "grid_template_rows": null,
            "height": null,
            "justify_content": null,
            "justify_items": null,
            "left": null,
            "margin": null,
            "max_height": null,
            "max_width": null,
            "min_height": null,
            "min_width": null,
            "object_fit": null,
            "object_position": null,
            "order": null,
            "overflow": null,
            "overflow_x": null,
            "overflow_y": null,
            "padding": null,
            "right": null,
            "top": null,
            "visibility": null,
            "width": null
          }
        },
        "014a69385da247beac5f8219599a2fe7": {
          "model_module": "@jupyter-widgets/controls",
          "model_name": "ProgressStyleModel",
          "model_module_version": "1.5.0",
          "state": {
            "_model_module": "@jupyter-widgets/controls",
            "_model_module_version": "1.5.0",
            "_model_name": "ProgressStyleModel",
            "_view_count": null,
            "_view_module": "@jupyter-widgets/base",
            "_view_module_version": "1.2.0",
            "_view_name": "StyleView",
            "bar_color": null,
            "description_width": ""
          }
        },
        "2d42135b8bda4975ba31dc488cb707df": {
          "model_module": "@jupyter-widgets/controls",
          "model_name": "HBoxModel",
          "model_module_version": "1.5.0",
          "state": {
            "_dom_classes": [],
            "_model_module": "@jupyter-widgets/controls",
            "_model_module_version": "1.5.0",
            "_model_name": "HBoxModel",
            "_view_count": null,
            "_view_module": "@jupyter-widgets/controls",
            "_view_module_version": "1.5.0",
            "_view_name": "HBoxView",
            "box_style": "",
            "children": [
              "IPY_MODEL_7769d77d03b640e194701042b3189440",
              "IPY_MODEL_a9c04bed1d264d88807d06f208f9230c",
              "IPY_MODEL_9ce653b9f640419bacc5dc33654bd5f2"
            ],
            "layout": "IPY_MODEL_27d80f811a5648c9ab753fcd5f649f06"
          }
        },
        "7769d77d03b640e194701042b3189440": {
          "model_module": "@jupyter-widgets/controls",
          "model_name": "HTMLModel",
          "model_module_version": "1.5.0",
          "state": {
            "_dom_classes": [],
            "_model_module": "@jupyter-widgets/controls",
            "_model_module_version": "1.5.0",
            "_model_name": "HTMLModel",
            "_view_count": null,
            "_view_module": "@jupyter-widgets/controls",
            "_view_module_version": "1.5.0",
            "_view_name": "HTMLView",
            "description": "",
            "description_tooltip": null,
            "layout": "IPY_MODEL_f938292ccdab4491a7cc77ed90bfcc36",
            "placeholder": "​",
            "style": "IPY_MODEL_a29795c1cb5c4cfe9aa82f48c56e11ef",
            "value": "Downloading builder script: 100%"
          }
        },
        "a9c04bed1d264d88807d06f208f9230c": {
          "model_module": "@jupyter-widgets/controls",
          "model_name": "FloatProgressModel",
          "model_module_version": "1.5.0",
          "state": {
            "_dom_classes": [],
            "_model_module": "@jupyter-widgets/controls",
            "_model_module_version": "1.5.0",
            "_model_name": "FloatProgressModel",
            "_view_count": null,
            "_view_module": "@jupyter-widgets/controls",
            "_view_module_version": "1.5.0",
            "_view_name": "ProgressView",
            "bar_style": "success",
            "description": "",
            "description_tooltip": null,
            "layout": "IPY_MODEL_7cf40ac52b9040279f9fb4f73d620ec4",
            "max": 5937,
            "min": 0,
            "orientation": "horizontal",
            "style": "IPY_MODEL_910b765d3773488c87d865ac46c6e73a",
            "value": 5937
          }
        },
        "9ce653b9f640419bacc5dc33654bd5f2": {
          "model_module": "@jupyter-widgets/controls",
          "model_name": "HTMLModel",
          "model_module_version": "1.5.0",
          "state": {
            "_dom_classes": [],
            "_model_module": "@jupyter-widgets/controls",
            "_model_module_version": "1.5.0",
            "_model_name": "HTMLModel",
            "_view_count": null,
            "_view_module": "@jupyter-widgets/controls",
            "_view_module_version": "1.5.0",
            "_view_name": "HTMLView",
            "description": "",
            "description_tooltip": null,
            "layout": "IPY_MODEL_130d9faf93c64d069e8e954e7e3b3b23",
            "placeholder": "​",
            "style": "IPY_MODEL_cdb6e9c8651540d0ab2ced221ea8d6af",
            "value": " 5.94k/5.94k [00:00&lt;00:00, 451kB/s]"
          }
        },
        "27d80f811a5648c9ab753fcd5f649f06": {
          "model_module": "@jupyter-widgets/base",
          "model_name": "LayoutModel",
          "model_module_version": "1.2.0",
          "state": {
            "_model_module": "@jupyter-widgets/base",
            "_model_module_version": "1.2.0",
            "_model_name": "LayoutModel",
            "_view_count": null,
            "_view_module": "@jupyter-widgets/base",
            "_view_module_version": "1.2.0",
            "_view_name": "LayoutView",
            "align_content": null,
            "align_items": null,
            "align_self": null,
            "border": null,
            "bottom": null,
            "display": null,
            "flex": null,
            "flex_flow": null,
            "grid_area": null,
            "grid_auto_columns": null,
            "grid_auto_flow": null,
            "grid_auto_rows": null,
            "grid_column": null,
            "grid_gap": null,
            "grid_row": null,
            "grid_template_areas": null,
            "grid_template_columns": null,
            "grid_template_rows": null,
            "height": null,
            "justify_content": null,
            "justify_items": null,
            "left": null,
            "margin": null,
            "max_height": null,
            "max_width": null,
            "min_height": null,
            "min_width": null,
            "object_fit": null,
            "object_position": null,
            "order": null,
            "overflow": null,
            "overflow_x": null,
            "overflow_y": null,
            "padding": null,
            "right": null,
            "top": null,
            "visibility": null,
            "width": null
          }
        },
        "f938292ccdab4491a7cc77ed90bfcc36": {
          "model_module": "@jupyter-widgets/base",
          "model_name": "LayoutModel",
          "model_module_version": "1.2.0",
          "state": {
            "_model_module": "@jupyter-widgets/base",
            "_model_module_version": "1.2.0",
            "_model_name": "LayoutModel",
            "_view_count": null,
            "_view_module": "@jupyter-widgets/base",
            "_view_module_version": "1.2.0",
            "_view_name": "LayoutView",
            "align_content": null,
            "align_items": null,
            "align_self": null,
            "border": null,
            "bottom": null,
            "display": null,
            "flex": null,
            "flex_flow": null,
            "grid_area": null,
            "grid_auto_columns": null,
            "grid_auto_flow": null,
            "grid_auto_rows": null,
            "grid_column": null,
            "grid_gap": null,
            "grid_row": null,
            "grid_template_areas": null,
            "grid_template_columns": null,
            "grid_template_rows": null,
            "height": null,
            "justify_content": null,
            "justify_items": null,
            "left": null,
            "margin": null,
            "max_height": null,
            "max_width": null,
            "min_height": null,
            "min_width": null,
            "object_fit": null,
            "object_position": null,
            "order": null,
            "overflow": null,
            "overflow_x": null,
            "overflow_y": null,
            "padding": null,
            "right": null,
            "top": null,
            "visibility": null,
            "width": null
          }
        },
        "a29795c1cb5c4cfe9aa82f48c56e11ef": {
          "model_module": "@jupyter-widgets/controls",
          "model_name": "DescriptionStyleModel",
          "model_module_version": "1.5.0",
          "state": {
            "_model_module": "@jupyter-widgets/controls",
            "_model_module_version": "1.5.0",
            "_model_name": "DescriptionStyleModel",
            "_view_count": null,
            "_view_module": "@jupyter-widgets/base",
            "_view_module_version": "1.2.0",
            "_view_name": "StyleView",
            "description_width": ""
          }
        },
        "7cf40ac52b9040279f9fb4f73d620ec4": {
          "model_module": "@jupyter-widgets/base",
          "model_name": "LayoutModel",
          "model_module_version": "1.2.0",
          "state": {
            "_model_module": "@jupyter-widgets/base",
            "_model_module_version": "1.2.0",
            "_model_name": "LayoutModel",
            "_view_count": null,
            "_view_module": "@jupyter-widgets/base",
            "_view_module_version": "1.2.0",
            "_view_name": "LayoutView",
            "align_content": null,
            "align_items": null,
            "align_self": null,
            "border": null,
            "bottom": null,
            "display": null,
            "flex": null,
            "flex_flow": null,
            "grid_area": null,
            "grid_auto_columns": null,
            "grid_auto_flow": null,
            "grid_auto_rows": null,
            "grid_column": null,
            "grid_gap": null,
            "grid_row": null,
            "grid_template_areas": null,
            "grid_template_columns": null,
            "grid_template_rows": null,
            "height": null,
            "justify_content": null,
            "justify_items": null,
            "left": null,
            "margin": null,
            "max_height": null,
            "max_width": null,
            "min_height": null,
            "min_width": null,
            "object_fit": null,
            "object_position": null,
            "order": null,
            "overflow": null,
            "overflow_x": null,
            "overflow_y": null,
            "padding": null,
            "right": null,
            "top": null,
            "visibility": null,
            "width": null
          }
        },
        "910b765d3773488c87d865ac46c6e73a": {
          "model_module": "@jupyter-widgets/controls",
          "model_name": "ProgressStyleModel",
          "model_module_version": "1.5.0",
          "state": {
            "_model_module": "@jupyter-widgets/controls",
            "_model_module_version": "1.5.0",
            "_model_name": "ProgressStyleModel",
            "_view_count": null,
            "_view_module": "@jupyter-widgets/base",
            "_view_module_version": "1.2.0",
            "_view_name": "StyleView",
            "bar_color": null,
            "description_width": ""
          }
        },
        "130d9faf93c64d069e8e954e7e3b3b23": {
          "model_module": "@jupyter-widgets/base",
          "model_name": "LayoutModel",
          "model_module_version": "1.2.0",
          "state": {
            "_model_module": "@jupyter-widgets/base",
            "_model_module_version": "1.2.0",
            "_model_name": "LayoutModel",
            "_view_count": null,
            "_view_module": "@jupyter-widgets/base",
            "_view_module_version": "1.2.0",
            "_view_name": "LayoutView",
            "align_content": null,
            "align_items": null,
            "align_self": null,
            "border": null,
            "bottom": null,
            "display": null,
            "flex": null,
            "flex_flow": null,
            "grid_area": null,
            "grid_auto_columns": null,
            "grid_auto_flow": null,
            "grid_auto_rows": null,
            "grid_column": null,
            "grid_gap": null,
            "grid_row": null,
            "grid_template_areas": null,
            "grid_template_columns": null,
            "grid_template_rows": null,
            "height": null,
            "justify_content": null,
            "justify_items": null,
            "left": null,
            "margin": null,
            "max_height": null,
            "max_width": null,
            "min_height": null,
            "min_width": null,
            "object_fit": null,
            "object_position": null,
            "order": null,
            "overflow": null,
            "overflow_x": null,
            "overflow_y": null,
            "padding": null,
            "right": null,
            "top": null,
            "visibility": null,
            "width": null
          }
        },
        "cdb6e9c8651540d0ab2ced221ea8d6af": {
          "model_module": "@jupyter-widgets/controls",
          "model_name": "DescriptionStyleModel",
          "model_module_version": "1.5.0",
          "state": {
            "_model_module": "@jupyter-widgets/controls",
            "_model_module_version": "1.5.0",
            "_model_name": "DescriptionStyleModel",
            "_view_count": null,
            "_view_module": "@jupyter-widgets/base",
            "_view_module_version": "1.2.0",
            "_view_name": "StyleView",
            "description_width": ""
          }
        },
        "3037ed54f1584cdd801cac9e654a2a12": {
          "model_module": "@jupyter-widgets/controls",
          "model_name": "HBoxModel",
          "model_module_version": "1.5.0",
          "state": {
            "_dom_classes": [],
            "_model_module": "@jupyter-widgets/controls",
            "_model_module_version": "1.5.0",
            "_model_name": "HBoxModel",
            "_view_count": null,
            "_view_module": "@jupyter-widgets/controls",
            "_view_module_version": "1.5.0",
            "_view_name": "HBoxView",
            "box_style": "",
            "children": [
              "IPY_MODEL_9517a909bdfe4bacaf3276a932a2caf4",
              "IPY_MODEL_83a49bd7a4c74f0f9b0ea989469a4602",
              "IPY_MODEL_139f2cdc6372467ea1bc8194e173bf1e"
            ],
            "layout": "IPY_MODEL_8e5503e14e5c4ce3bdd4065a4f4e3981"
          }
        },
        "9517a909bdfe4bacaf3276a932a2caf4": {
          "model_module": "@jupyter-widgets/controls",
          "model_name": "HTMLModel",
          "model_module_version": "1.5.0",
          "state": {
            "_dom_classes": [],
            "_model_module": "@jupyter-widgets/controls",
            "_model_module_version": "1.5.0",
            "_model_name": "HTMLModel",
            "_view_count": null,
            "_view_module": "@jupyter-widgets/controls",
            "_view_module_version": "1.5.0",
            "_view_name": "HTMLView",
            "description": "",
            "description_tooltip": null,
            "layout": "IPY_MODEL_79fbcd038a3e4d0e8629fce274cd4272",
            "placeholder": "​",
            "style": "IPY_MODEL_518f399dab4e460392fa05d3ae3dd451",
            "value": "Downloading extra modules: "
          }
        },
        "83a49bd7a4c74f0f9b0ea989469a4602": {
          "model_module": "@jupyter-widgets/controls",
          "model_name": "FloatProgressModel",
          "model_module_version": "1.5.0",
          "state": {
            "_dom_classes": [],
            "_model_module": "@jupyter-widgets/controls",
            "_model_module_version": "1.5.0",
            "_model_name": "FloatProgressModel",
            "_view_count": null,
            "_view_module": "@jupyter-widgets/controls",
            "_view_module_version": "1.5.0",
            "_view_name": "ProgressView",
            "bar_style": "success",
            "description": "",
            "description_tooltip": null,
            "layout": "IPY_MODEL_b8818e022dc243168a656b3ba7471373",
            "max": 1554,
            "min": 0,
            "orientation": "horizontal",
            "style": "IPY_MODEL_e328c0a6a7734db5a2c586f232ce193c",
            "value": 1554
          }
        },
        "139f2cdc6372467ea1bc8194e173bf1e": {
          "model_module": "@jupyter-widgets/controls",
          "model_name": "HTMLModel",
          "model_module_version": "1.5.0",
          "state": {
            "_dom_classes": [],
            "_model_module": "@jupyter-widgets/controls",
            "_model_module_version": "1.5.0",
            "_model_name": "HTMLModel",
            "_view_count": null,
            "_view_module": "@jupyter-widgets/controls",
            "_view_module_version": "1.5.0",
            "_view_name": "HTMLView",
            "description": "",
            "description_tooltip": null,
            "layout": "IPY_MODEL_fb5dfb894f894c8da9c9f5ef8a1177b8",
            "placeholder": "​",
            "style": "IPY_MODEL_b42334b8835947d39773d9d9781a94fb",
            "value": " 4.07k/? [00:00&lt;00:00, 212kB/s]"
          }
        },
        "8e5503e14e5c4ce3bdd4065a4f4e3981": {
          "model_module": "@jupyter-widgets/base",
          "model_name": "LayoutModel",
          "model_module_version": "1.2.0",
          "state": {
            "_model_module": "@jupyter-widgets/base",
            "_model_module_version": "1.2.0",
            "_model_name": "LayoutModel",
            "_view_count": null,
            "_view_module": "@jupyter-widgets/base",
            "_view_module_version": "1.2.0",
            "_view_name": "LayoutView",
            "align_content": null,
            "align_items": null,
            "align_self": null,
            "border": null,
            "bottom": null,
            "display": null,
            "flex": null,
            "flex_flow": null,
            "grid_area": null,
            "grid_auto_columns": null,
            "grid_auto_flow": null,
            "grid_auto_rows": null,
            "grid_column": null,
            "grid_gap": null,
            "grid_row": null,
            "grid_template_areas": null,
            "grid_template_columns": null,
            "grid_template_rows": null,
            "height": null,
            "justify_content": null,
            "justify_items": null,
            "left": null,
            "margin": null,
            "max_height": null,
            "max_width": null,
            "min_height": null,
            "min_width": null,
            "object_fit": null,
            "object_position": null,
            "order": null,
            "overflow": null,
            "overflow_x": null,
            "overflow_y": null,
            "padding": null,
            "right": null,
            "top": null,
            "visibility": null,
            "width": null
          }
        },
        "79fbcd038a3e4d0e8629fce274cd4272": {
          "model_module": "@jupyter-widgets/base",
          "model_name": "LayoutModel",
          "model_module_version": "1.2.0",
          "state": {
            "_model_module": "@jupyter-widgets/base",
            "_model_module_version": "1.2.0",
            "_model_name": "LayoutModel",
            "_view_count": null,
            "_view_module": "@jupyter-widgets/base",
            "_view_module_version": "1.2.0",
            "_view_name": "LayoutView",
            "align_content": null,
            "align_items": null,
            "align_self": null,
            "border": null,
            "bottom": null,
            "display": null,
            "flex": null,
            "flex_flow": null,
            "grid_area": null,
            "grid_auto_columns": null,
            "grid_auto_flow": null,
            "grid_auto_rows": null,
            "grid_column": null,
            "grid_gap": null,
            "grid_row": null,
            "grid_template_areas": null,
            "grid_template_columns": null,
            "grid_template_rows": null,
            "height": null,
            "justify_content": null,
            "justify_items": null,
            "left": null,
            "margin": null,
            "max_height": null,
            "max_width": null,
            "min_height": null,
            "min_width": null,
            "object_fit": null,
            "object_position": null,
            "order": null,
            "overflow": null,
            "overflow_x": null,
            "overflow_y": null,
            "padding": null,
            "right": null,
            "top": null,
            "visibility": null,
            "width": null
          }
        },
        "518f399dab4e460392fa05d3ae3dd451": {
          "model_module": "@jupyter-widgets/controls",
          "model_name": "DescriptionStyleModel",
          "model_module_version": "1.5.0",
          "state": {
            "_model_module": "@jupyter-widgets/controls",
            "_model_module_version": "1.5.0",
            "_model_name": "DescriptionStyleModel",
            "_view_count": null,
            "_view_module": "@jupyter-widgets/base",
            "_view_module_version": "1.2.0",
            "_view_name": "StyleView",
            "description_width": ""
          }
        },
        "b8818e022dc243168a656b3ba7471373": {
          "model_module": "@jupyter-widgets/base",
          "model_name": "LayoutModel",
          "model_module_version": "1.2.0",
          "state": {
            "_model_module": "@jupyter-widgets/base",
            "_model_module_version": "1.2.0",
            "_model_name": "LayoutModel",
            "_view_count": null,
            "_view_module": "@jupyter-widgets/base",
            "_view_module_version": "1.2.0",
            "_view_name": "LayoutView",
            "align_content": null,
            "align_items": null,
            "align_self": null,
            "border": null,
            "bottom": null,
            "display": null,
            "flex": null,
            "flex_flow": null,
            "grid_area": null,
            "grid_auto_columns": null,
            "grid_auto_flow": null,
            "grid_auto_rows": null,
            "grid_column": null,
            "grid_gap": null,
            "grid_row": null,
            "grid_template_areas": null,
            "grid_template_columns": null,
            "grid_template_rows": null,
            "height": null,
            "justify_content": null,
            "justify_items": null,
            "left": null,
            "margin": null,
            "max_height": null,
            "max_width": null,
            "min_height": null,
            "min_width": null,
            "object_fit": null,
            "object_position": null,
            "order": null,
            "overflow": null,
            "overflow_x": null,
            "overflow_y": null,
            "padding": null,
            "right": null,
            "top": null,
            "visibility": null,
            "width": null
          }
        },
        "e328c0a6a7734db5a2c586f232ce193c": {
          "model_module": "@jupyter-widgets/controls",
          "model_name": "ProgressStyleModel",
          "model_module_version": "1.5.0",
          "state": {
            "_model_module": "@jupyter-widgets/controls",
            "_model_module_version": "1.5.0",
            "_model_name": "ProgressStyleModel",
            "_view_count": null,
            "_view_module": "@jupyter-widgets/base",
            "_view_module_version": "1.2.0",
            "_view_name": "StyleView",
            "bar_color": null,
            "description_width": ""
          }
        },
        "fb5dfb894f894c8da9c9f5ef8a1177b8": {
          "model_module": "@jupyter-widgets/base",
          "model_name": "LayoutModel",
          "model_module_version": "1.2.0",
          "state": {
            "_model_module": "@jupyter-widgets/base",
            "_model_module_version": "1.2.0",
            "_model_name": "LayoutModel",
            "_view_count": null,
            "_view_module": "@jupyter-widgets/base",
            "_view_module_version": "1.2.0",
            "_view_name": "LayoutView",
            "align_content": null,
            "align_items": null,
            "align_self": null,
            "border": null,
            "bottom": null,
            "display": null,
            "flex": null,
            "flex_flow": null,
            "grid_area": null,
            "grid_auto_columns": null,
            "grid_auto_flow": null,
            "grid_auto_rows": null,
            "grid_column": null,
            "grid_gap": null,
            "grid_row": null,
            "grid_template_areas": null,
            "grid_template_columns": null,
            "grid_template_rows": null,
            "height": null,
            "justify_content": null,
            "justify_items": null,
            "left": null,
            "margin": null,
            "max_height": null,
            "max_width": null,
            "min_height": null,
            "min_width": null,
            "object_fit": null,
            "object_position": null,
            "order": null,
            "overflow": null,
            "overflow_x": null,
            "overflow_y": null,
            "padding": null,
            "right": null,
            "top": null,
            "visibility": null,
            "width": null
          }
        },
        "b42334b8835947d39773d9d9781a94fb": {
          "model_module": "@jupyter-widgets/controls",
          "model_name": "DescriptionStyleModel",
          "model_module_version": "1.5.0",
          "state": {
            "_model_module": "@jupyter-widgets/controls",
            "_model_module_version": "1.5.0",
            "_model_name": "DescriptionStyleModel",
            "_view_count": null,
            "_view_module": "@jupyter-widgets/base",
            "_view_module_version": "1.2.0",
            "_view_name": "StyleView",
            "description_width": ""
          }
        },
        "ed6bb5d104af4abb8ad3fde5de22daf2": {
          "model_module": "@jupyter-widgets/controls",
          "model_name": "HBoxModel",
          "model_module_version": "1.5.0",
          "state": {
            "_dom_classes": [],
            "_model_module": "@jupyter-widgets/controls",
            "_model_module_version": "1.5.0",
            "_model_name": "HBoxModel",
            "_view_count": null,
            "_view_module": "@jupyter-widgets/controls",
            "_view_module_version": "1.5.0",
            "_view_name": "HBoxView",
            "box_style": "",
            "children": [
              "IPY_MODEL_af67aaff109f47c89d9e4342ed4e954b",
              "IPY_MODEL_132dfd36a6f54370bddeea5614bca807",
              "IPY_MODEL_04a1414401cb47559e27e7a5f6fbe11b"
            ],
            "layout": "IPY_MODEL_389f0f8355314cada876a7cde7810038"
          }
        },
        "af67aaff109f47c89d9e4342ed4e954b": {
          "model_module": "@jupyter-widgets/controls",
          "model_name": "HTMLModel",
          "model_module_version": "1.5.0",
          "state": {
            "_dom_classes": [],
            "_model_module": "@jupyter-widgets/controls",
            "_model_module_version": "1.5.0",
            "_model_name": "HTMLModel",
            "_view_count": null,
            "_view_module": "@jupyter-widgets/controls",
            "_view_module_version": "1.5.0",
            "_view_name": "HTMLView",
            "description": "",
            "description_tooltip": null,
            "layout": "IPY_MODEL_2692c87c536d4c1c9ce93de8e81a6502",
            "placeholder": "​",
            "style": "IPY_MODEL_c11dbb5dc8524d31858b850da661f7f2",
            "value": "Downloading extra modules: 100%"
          }
        },
        "132dfd36a6f54370bddeea5614bca807": {
          "model_module": "@jupyter-widgets/controls",
          "model_name": "FloatProgressModel",
          "model_module_version": "1.5.0",
          "state": {
            "_dom_classes": [],
            "_model_module": "@jupyter-widgets/controls",
            "_model_module_version": "1.5.0",
            "_model_name": "FloatProgressModel",
            "_view_count": null,
            "_view_module": "@jupyter-widgets/controls",
            "_view_module_version": "1.5.0",
            "_view_name": "ProgressView",
            "bar_style": "success",
            "description": "",
            "description_tooltip": null,
            "layout": "IPY_MODEL_39a41fc8c8ac4e86bd5b36ff76eb4ef0",
            "max": 3344,
            "min": 0,
            "orientation": "horizontal",
            "style": "IPY_MODEL_c771de7eeec042ff8e440e4f025687ec",
            "value": 3344
          }
        },
        "04a1414401cb47559e27e7a5f6fbe11b": {
          "model_module": "@jupyter-widgets/controls",
          "model_name": "HTMLModel",
          "model_module_version": "1.5.0",
          "state": {
            "_dom_classes": [],
            "_model_module": "@jupyter-widgets/controls",
            "_model_module_version": "1.5.0",
            "_model_name": "HTMLModel",
            "_view_count": null,
            "_view_module": "@jupyter-widgets/controls",
            "_view_module_version": "1.5.0",
            "_view_name": "HTMLView",
            "description": "",
            "description_tooltip": null,
            "layout": "IPY_MODEL_7b35ac6aa283433c827b001028742b7c",
            "placeholder": "​",
            "style": "IPY_MODEL_aa14c88fe50e4f7498d6d7c2fee30fa8",
            "value": " 3.34k/3.34k [00:00&lt;00:00, 192kB/s]"
          }
        },
        "389f0f8355314cada876a7cde7810038": {
          "model_module": "@jupyter-widgets/base",
          "model_name": "LayoutModel",
          "model_module_version": "1.2.0",
          "state": {
            "_model_module": "@jupyter-widgets/base",
            "_model_module_version": "1.2.0",
            "_model_name": "LayoutModel",
            "_view_count": null,
            "_view_module": "@jupyter-widgets/base",
            "_view_module_version": "1.2.0",
            "_view_name": "LayoutView",
            "align_content": null,
            "align_items": null,
            "align_self": null,
            "border": null,
            "bottom": null,
            "display": null,
            "flex": null,
            "flex_flow": null,
            "grid_area": null,
            "grid_auto_columns": null,
            "grid_auto_flow": null,
            "grid_auto_rows": null,
            "grid_column": null,
            "grid_gap": null,
            "grid_row": null,
            "grid_template_areas": null,
            "grid_template_columns": null,
            "grid_template_rows": null,
            "height": null,
            "justify_content": null,
            "justify_items": null,
            "left": null,
            "margin": null,
            "max_height": null,
            "max_width": null,
            "min_height": null,
            "min_width": null,
            "object_fit": null,
            "object_position": null,
            "order": null,
            "overflow": null,
            "overflow_x": null,
            "overflow_y": null,
            "padding": null,
            "right": null,
            "top": null,
            "visibility": null,
            "width": null
          }
        },
        "2692c87c536d4c1c9ce93de8e81a6502": {
          "model_module": "@jupyter-widgets/base",
          "model_name": "LayoutModel",
          "model_module_version": "1.2.0",
          "state": {
            "_model_module": "@jupyter-widgets/base",
            "_model_module_version": "1.2.0",
            "_model_name": "LayoutModel",
            "_view_count": null,
            "_view_module": "@jupyter-widgets/base",
            "_view_module_version": "1.2.0",
            "_view_name": "LayoutView",
            "align_content": null,
            "align_items": null,
            "align_self": null,
            "border": null,
            "bottom": null,
            "display": null,
            "flex": null,
            "flex_flow": null,
            "grid_area": null,
            "grid_auto_columns": null,
            "grid_auto_flow": null,
            "grid_auto_rows": null,
            "grid_column": null,
            "grid_gap": null,
            "grid_row": null,
            "grid_template_areas": null,
            "grid_template_columns": null,
            "grid_template_rows": null,
            "height": null,
            "justify_content": null,
            "justify_items": null,
            "left": null,
            "margin": null,
            "max_height": null,
            "max_width": null,
            "min_height": null,
            "min_width": null,
            "object_fit": null,
            "object_position": null,
            "order": null,
            "overflow": null,
            "overflow_x": null,
            "overflow_y": null,
            "padding": null,
            "right": null,
            "top": null,
            "visibility": null,
            "width": null
          }
        },
        "c11dbb5dc8524d31858b850da661f7f2": {
          "model_module": "@jupyter-widgets/controls",
          "model_name": "DescriptionStyleModel",
          "model_module_version": "1.5.0",
          "state": {
            "_model_module": "@jupyter-widgets/controls",
            "_model_module_version": "1.5.0",
            "_model_name": "DescriptionStyleModel",
            "_view_count": null,
            "_view_module": "@jupyter-widgets/base",
            "_view_module_version": "1.2.0",
            "_view_name": "StyleView",
            "description_width": ""
          }
        },
        "39a41fc8c8ac4e86bd5b36ff76eb4ef0": {
          "model_module": "@jupyter-widgets/base",
          "model_name": "LayoutModel",
          "model_module_version": "1.2.0",
          "state": {
            "_model_module": "@jupyter-widgets/base",
            "_model_module_version": "1.2.0",
            "_model_name": "LayoutModel",
            "_view_count": null,
            "_view_module": "@jupyter-widgets/base",
            "_view_module_version": "1.2.0",
            "_view_name": "LayoutView",
            "align_content": null,
            "align_items": null,
            "align_self": null,
            "border": null,
            "bottom": null,
            "display": null,
            "flex": null,
            "flex_flow": null,
            "grid_area": null,
            "grid_auto_columns": null,
            "grid_auto_flow": null,
            "grid_auto_rows": null,
            "grid_column": null,
            "grid_gap": null,
            "grid_row": null,
            "grid_template_areas": null,
            "grid_template_columns": null,
            "grid_template_rows": null,
            "height": null,
            "justify_content": null,
            "justify_items": null,
            "left": null,
            "margin": null,
            "max_height": null,
            "max_width": null,
            "min_height": null,
            "min_width": null,
            "object_fit": null,
            "object_position": null,
            "order": null,
            "overflow": null,
            "overflow_x": null,
            "overflow_y": null,
            "padding": null,
            "right": null,
            "top": null,
            "visibility": null,
            "width": null
          }
        },
        "c771de7eeec042ff8e440e4f025687ec": {
          "model_module": "@jupyter-widgets/controls",
          "model_name": "ProgressStyleModel",
          "model_module_version": "1.5.0",
          "state": {
            "_model_module": "@jupyter-widgets/controls",
            "_model_module_version": "1.5.0",
            "_model_name": "ProgressStyleModel",
            "_view_count": null,
            "_view_module": "@jupyter-widgets/base",
            "_view_module_version": "1.2.0",
            "_view_name": "StyleView",
            "bar_color": null,
            "description_width": ""
          }
        },
        "7b35ac6aa283433c827b001028742b7c": {
          "model_module": "@jupyter-widgets/base",
          "model_name": "LayoutModel",
          "model_module_version": "1.2.0",
          "state": {
            "_model_module": "@jupyter-widgets/base",
            "_model_module_version": "1.2.0",
            "_model_name": "LayoutModel",
            "_view_count": null,
            "_view_module": "@jupyter-widgets/base",
            "_view_module_version": "1.2.0",
            "_view_name": "LayoutView",
            "align_content": null,
            "align_items": null,
            "align_self": null,
            "border": null,
            "bottom": null,
            "display": null,
            "flex": null,
            "flex_flow": null,
            "grid_area": null,
            "grid_auto_columns": null,
            "grid_auto_flow": null,
            "grid_auto_rows": null,
            "grid_column": null,
            "grid_gap": null,
            "grid_row": null,
            "grid_template_areas": null,
            "grid_template_columns": null,
            "grid_template_rows": null,
            "height": null,
            "justify_content": null,
            "justify_items": null,
            "left": null,
            "margin": null,
            "max_height": null,
            "max_width": null,
            "min_height": null,
            "min_width": null,
            "object_fit": null,
            "object_position": null,
            "order": null,
            "overflow": null,
            "overflow_x": null,
            "overflow_y": null,
            "padding": null,
            "right": null,
            "top": null,
            "visibility": null,
            "width": null
          }
        },
        "aa14c88fe50e4f7498d6d7c2fee30fa8": {
          "model_module": "@jupyter-widgets/controls",
          "model_name": "DescriptionStyleModel",
          "model_module_version": "1.5.0",
          "state": {
            "_model_module": "@jupyter-widgets/controls",
            "_model_module_version": "1.5.0",
            "_model_name": "DescriptionStyleModel",
            "_view_count": null,
            "_view_module": "@jupyter-widgets/base",
            "_view_module_version": "1.2.0",
            "_view_name": "StyleView",
            "description_width": ""
          }
        }
      }
    }
  },
  "nbformat": 4,
  "nbformat_minor": 5
}