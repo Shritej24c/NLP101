{
  "nbformat": 4,
  "nbformat_minor": 0,
  "metadata": {
    "colab": {
      "provenance": [],
      "toc_visible": true,
      "machine_shape": "hm",
      "gpuType": "T4",
      "authorship_tag": "ABX9TyNblY3p3N8Aut9KENAj5bmG",
      "include_colab_link": true
    },
    "kernelspec": {
      "name": "python3",
      "display_name": "Python 3"
    },
    "language_info": {
      "name": "python"
    },
    "accelerator": "GPU"
  },
  "cells": [
    {
      "cell_type": "markdown",
      "metadata": {
        "id": "view-in-github",
        "colab_type": "text"
      },
      "source": [
        "<a href=\"https://colab.research.google.com/github/Shritej24c/NLP101/blob/main/HW/HW4/ShritejShrikant_Chavan_HW_4.ipynb\" target=\"_parent\"><img src=\"https://colab.research.google.com/assets/colab-badge.svg\" alt=\"Open In Colab\"/></a>"
      ]
    },
    {
      "cell_type": "markdown",
      "metadata": {
        "id": "FIxAU6f3S-MI"
      },
      "source": [
        "# <Font color = 'indianred'>**Load Libraries/Install Software**"
      ]
    },
    {
      "cell_type": "code",
      "execution_count": null,
      "metadata": {
        "id": "tLQHMOUP4m7w"
      },
      "outputs": [],
      "source": []
    },
    {
      "cell_type": "code",
      "execution_count": 39,
      "metadata": {
        "execution": {
          "iopub.execute_input": "2022-11-27T00:23:29.192565Z",
          "iopub.status.busy": "2022-11-27T00:23:29.192271Z",
          "iopub.status.idle": "2022-11-27T00:23:29.201977Z",
          "shell.execute_reply": "2022-11-27T00:23:29.201283Z",
          "shell.execute_reply.started": "2022-11-27T00:23:29.192478Z"
        },
        "id": "-h5a-vtFb738",
        "tags": [],
        "colab": {
          "base_uri": "https://localhost:8080/"
        },
        "outputId": "7978a44c-c624-4fd3-e743-07dbf05fac67"
      },
      "outputs": [
        {
          "output_type": "stream",
          "name": "stdout",
          "text": [
            "Drive already mounted at /content/drive; to attempt to forcibly remount, call drive.mount(\"/content/drive\", force_remount=True).\n",
            "\u001b[2K     \u001b[90m━━━━━━━━━━━━━━━━━━━━━━━━━━━━━━━━━━━━━━━━\u001b[0m \u001b[32m7.6/7.6 MB\u001b[0m \u001b[31m71.2 MB/s\u001b[0m eta \u001b[36m0:00:00\u001b[0m\n",
            "\u001b[2K     \u001b[90m━━━━━━━━━━━━━━━━━━━━━━━━━━━━━━━━━━━━━━━━\u001b[0m \u001b[32m81.4/81.4 kB\u001b[0m \u001b[31m10.9 MB/s\u001b[0m eta \u001b[36m0:00:00\u001b[0m\n",
            "\u001b[2K     \u001b[90m━━━━━━━━━━━━━━━━━━━━━━━━━━━━━━━━━━━━━━━━\u001b[0m \u001b[32m2.1/2.1 MB\u001b[0m \u001b[31m87.9 MB/s\u001b[0m eta \u001b[36m0:00:00\u001b[0m\n",
            "\u001b[2K     \u001b[90m━━━━━━━━━━━━━━━━━━━━━━━━━━━━━━━━━━━━━━\u001b[0m \u001b[32m258.1/258.1 kB\u001b[0m \u001b[31m28.9 MB/s\u001b[0m eta \u001b[36m0:00:00\u001b[0m\n",
            "\u001b[2K     \u001b[90m━━━━━━━━━━━━━━━━━━━━━━━━━━━━━━━━━━━━━━\u001b[0m \u001b[32m294.9/294.9 kB\u001b[0m \u001b[31m32.3 MB/s\u001b[0m eta \u001b[36m0:00:00\u001b[0m\n",
            "\u001b[2K     \u001b[90m━━━━━━━━━━━━━━━━━━━━━━━━━━━━━━━━━━━━━━━━\u001b[0m \u001b[32m7.8/7.8 MB\u001b[0m \u001b[31m111.4 MB/s\u001b[0m eta \u001b[36m0:00:00\u001b[0m\n",
            "\u001b[2K     \u001b[90m━━━━━━━━━━━━━━━━━━━━━━━━━━━━━━━━━━━━━━━━\u001b[0m \u001b[32m1.3/1.3 MB\u001b[0m \u001b[31m80.7 MB/s\u001b[0m eta \u001b[36m0:00:00\u001b[0m\n",
            "\u001b[2K     \u001b[90m━━━━━━━━━━━━━━━━━━━━━━━━━━━━━━━━━━━━━━\u001b[0m \u001b[32m519.6/519.6 kB\u001b[0m \u001b[31m46.4 MB/s\u001b[0m eta \u001b[36m0:00:00\u001b[0m\n",
            "\u001b[2K     \u001b[90m━━━━━━━━━━━━━━━━━━━━━━━━━━━━━━━━━━━━━━\u001b[0m \u001b[32m115.3/115.3 kB\u001b[0m \u001b[31m15.8 MB/s\u001b[0m eta \u001b[36m0:00:00\u001b[0m\n",
            "\u001b[2K     \u001b[90m━━━━━━━━━━━━━━━━━━━━━━━━━━━━━━━━━━━━━━\u001b[0m \u001b[32m194.1/194.1 kB\u001b[0m \u001b[31m21.3 MB/s\u001b[0m eta \u001b[36m0:00:00\u001b[0m\n",
            "\u001b[2K     \u001b[90m━━━━━━━━━━━━━━━━━━━━━━━━━━━━━━━━━━━━━━\u001b[0m \u001b[32m134.8/134.8 kB\u001b[0m \u001b[31m18.1 MB/s\u001b[0m eta \u001b[36m0:00:00\u001b[0m\n",
            "\u001b[2K     \u001b[90m━━━━━━━━━━━━━━━━━━━━━━━━━━━━━━━━━━━━━━\u001b[0m \u001b[32m190.0/190.0 kB\u001b[0m \u001b[31m24.4 MB/s\u001b[0m eta \u001b[36m0:00:00\u001b[0m\n",
            "\u001b[2K     \u001b[90m━━━━━━━━━━━━━━━━━━━━━━━━━━━━━━━━━━━━━━\u001b[0m \u001b[32m224.8/224.8 kB\u001b[0m \u001b[31m24.3 MB/s\u001b[0m eta \u001b[36m0:00:00\u001b[0m\n",
            "\u001b[?25h  Preparing metadata (setup.py) ... \u001b[?25l\u001b[?25hdone\n",
            "\u001b[2K     \u001b[90m━━━━━━━━━━━━━━━━━━━━━━━━━━━━━━━━━━━━━━━━\u001b[0m \u001b[32m62.7/62.7 kB\u001b[0m \u001b[31m8.8 MB/s\u001b[0m eta \u001b[36m0:00:00\u001b[0m\n",
            "\u001b[?25h  Building wheel for pathtools (setup.py) ... \u001b[?25l\u001b[?25hdone\n"
          ]
        }
      ],
      "source": [
        "if 'google.colab' in str(get_ipython()):\n",
        "    from google.colab import drive\n",
        "    drive.mount('/content/drive')\n",
        "\n",
        "    !pip install torchtext --upgrade -qq\n",
        "    !pip install torchmetrics -qq\n",
        "    !pip install torchinfo -qq\n",
        "    !pip install fast_ml -qq\n",
        "    !pip install joblib -qq\n",
        "    !pip install sklearn -qq\n",
        "    !pip install pandas -qq\n",
        "    !pip install numpy -qq\n",
        "    !pip install scikit-multilearn -qq\n",
        "    !pip install transformers evaluate wandb accelerate -U -qq\n",
        "\n",
        "    basepath = '/content/drive/MyDrive/NLP'\n",
        "\n",
        "else:\n",
        "    basepath = '/home/harpreet/Insync/google_drive_shaannoor/data'\n"
      ]
    },
    {
      "cell_type": "code",
      "execution_count": 133,
      "metadata": {
        "execution": {
          "iopub.execute_input": "2022-10-24T09:22:06.058551Z",
          "iopub.status.busy": "2022-10-24T09:22:06.058401Z",
          "iopub.status.idle": "2022-10-24T09:22:06.083291Z",
          "shell.execute_reply": "2022-10-24T09:22:06.082816Z",
          "shell.execute_reply.started": "2022-10-24T09:22:06.058538Z"
        },
        "id": "TqYqOtp5yluv",
        "tags": []
      },
      "outputs": [],
      "source": [
        "# Importing PyTorch library for tensor computations and neural network modules\n",
        "import torch\n",
        "import torch.nn as nn\n",
        "import torch.nn.functional as F\n",
        "\n",
        "# For working with textual data vocabularies and for displaying model summaries\n",
        "from torchtext.vocab import vocab\n",
        "from torchinfo import summary\n",
        "\n",
        "# General-purpose Python libraries for random number generation and numerical operations\n",
        "import random\n",
        "import numpy as np\n",
        "\n",
        "# Utilities for efficient serialization/deserialization of Python objects and for element tallying\n",
        "import joblib\n",
        "from collections import Counter\n",
        "\n",
        "# For creating lightweight attribute classes and for partial function application\n",
        "from types import SimpleNamespace\n",
        "from functools import partial\n",
        "\n",
        "# For filesystem path handling, generating and displaying confusion matrices, and date-time manipulations\n",
        "from pathlib import Path\n",
        "from sklearn.metrics import confusion_matrix, ConfusionMatrixDisplay\n",
        "from datetime import datetime\n",
        "\n",
        "# For plotting and visualization\n",
        "import matplotlib.pyplot as plt\n",
        "\n",
        "import ast\n",
        "from sklearn.preprocessing import MultiLabelBinarizer\n",
        "from fast_ml.model_development import train_valid_test_split\n",
        "from skmultilearn.model_selection import iterative_train_test_split\n",
        "import pandas as pd\n",
        "\n",
        "\n",
        "# For creating lightweight attribute classes and for partial function application\n",
        "from types import SimpleNamespace\n",
        "from functools import partial\n",
        "\n",
        "# Import HammingDistance from torchmetrics\n",
        "# HammingDistance is useful for evaluating multi-label classification problems.\n",
        "from torchmetrics import HammingDistance\n",
        "\n",
        "from torch.nn.utils import clip_grad_value_\n",
        "\n",
        "from sklearn.metrics import accuracy_score, multilabel_confusion_matrix, classification_report\n",
        "\n",
        "\n"
      ]
    },
    {
      "cell_type": "markdown",
      "metadata": {
        "id": "J2nAIo5uNxEr"
      },
      "source": [
        "# <Font color = 'indianred'>**Specify Project Folders**"
      ]
    },
    {
      "cell_type": "code",
      "execution_count": 134,
      "metadata": {
        "execution": {
          "iopub.execute_input": "2022-10-24T09:22:06.160646Z",
          "iopub.status.busy": "2022-10-24T09:22:06.160510Z",
          "iopub.status.idle": "2022-10-24T09:22:06.184362Z",
          "shell.execute_reply": "2022-10-24T09:22:06.184015Z",
          "shell.execute_reply.started": "2022-10-24T09:22:06.160633Z"
        },
        "id": "Z0yKILuteTDE"
      },
      "outputs": [],
      "source": [
        "base_folder = Path(basepath)\n",
        "data_folder = base_folder/'datasets/hw4'\n",
        "model_folder = base_folder/'models/nlp_spring_2023/hw4'\n",
        "custom_functions = base_folder/'custom-functions'"
      ]
    },
    {
      "cell_type": "markdown",
      "metadata": {
        "id": "pdtUYpVUDZqd"
      },
      "source": [
        "# <Font color = 'indianred'>**Load Dataset**\n",
        "\n"
      ]
    },
    {
      "cell_type": "code",
      "source": [
        "X_train_cleaned_file = data_folder / 'df_multilabel_hw_cleaned.joblib'\n",
        "\n",
        "data = joblib.load(X_train_cleaned_file)"
      ],
      "metadata": {
        "id": "QIkYlBAm5uWO"
      },
      "execution_count": 135,
      "outputs": []
    },
    {
      "cell_type": "code",
      "source": [
        "type(data)\n"
      ],
      "metadata": {
        "colab": {
          "base_uri": "https://localhost:8080/"
        },
        "id": "_-5o4alf6pWM",
        "outputId": "726d5cae-cc59-46eb-a0bf-c1b464a8e7e7"
      },
      "execution_count": 136,
      "outputs": [
        {
          "output_type": "execute_result",
          "data": {
            "text/plain": [
              "pandas.core.frame.DataFrame"
            ]
          },
          "metadata": {},
          "execution_count": 136
        }
      ]
    },
    {
      "cell_type": "code",
      "source": [
        "data.head()\n"
      ],
      "metadata": {
        "colab": {
          "base_uri": "https://localhost:8080/",
          "height": 206
        },
        "id": "oL2vB-SO6uje",
        "outputId": "7c2cd73a-3f02-4398-b1ed-9d3d0c52a72f"
      },
      "execution_count": 137,
      "outputs": [
        {
          "output_type": "execute_result",
          "data": {
            "text/plain": [
              "                                        cleaned_text               Tags  \\\n",
              "0  asp query stre dropdown webpage follow control...         c# asp.net   \n",
              "1  run javascript code server java code want run ...    java javascript   \n",
              "2  linq sql throw exception row find change hi li...         c# asp.net   \n",
              "3  run python script php server run nginx web ser...         php python   \n",
              "4  advice write function m try write function res...  javascript jquery   \n",
              "\n",
              "  Tag_Number  \n",
              "0     [0, 9]  \n",
              "1     [1, 3]  \n",
              "2     [0, 9]  \n",
              "3     [2, 7]  \n",
              "4     [3, 5]  "
            ],
            "text/html": [
              "\n",
              "  <div id=\"df-af514151-c4a4-4cc8-89dd-f8df55879a60\" class=\"colab-df-container\">\n",
              "    <div>\n",
              "<style scoped>\n",
              "    .dataframe tbody tr th:only-of-type {\n",
              "        vertical-align: middle;\n",
              "    }\n",
              "\n",
              "    .dataframe tbody tr th {\n",
              "        vertical-align: top;\n",
              "    }\n",
              "\n",
              "    .dataframe thead th {\n",
              "        text-align: right;\n",
              "    }\n",
              "</style>\n",
              "<table border=\"1\" class=\"dataframe\">\n",
              "  <thead>\n",
              "    <tr style=\"text-align: right;\">\n",
              "      <th></th>\n",
              "      <th>cleaned_text</th>\n",
              "      <th>Tags</th>\n",
              "      <th>Tag_Number</th>\n",
              "    </tr>\n",
              "  </thead>\n",
              "  <tbody>\n",
              "    <tr>\n",
              "      <th>0</th>\n",
              "      <td>asp query stre dropdown webpage follow control...</td>\n",
              "      <td>c# asp.net</td>\n",
              "      <td>[0, 9]</td>\n",
              "    </tr>\n",
              "    <tr>\n",
              "      <th>1</th>\n",
              "      <td>run javascript code server java code want run ...</td>\n",
              "      <td>java javascript</td>\n",
              "      <td>[1, 3]</td>\n",
              "    </tr>\n",
              "    <tr>\n",
              "      <th>2</th>\n",
              "      <td>linq sql throw exception row find change hi li...</td>\n",
              "      <td>c# asp.net</td>\n",
              "      <td>[0, 9]</td>\n",
              "    </tr>\n",
              "    <tr>\n",
              "      <th>3</th>\n",
              "      <td>run python script php server run nginx web ser...</td>\n",
              "      <td>php python</td>\n",
              "      <td>[2, 7]</td>\n",
              "    </tr>\n",
              "    <tr>\n",
              "      <th>4</th>\n",
              "      <td>advice write function m try write function res...</td>\n",
              "      <td>javascript jquery</td>\n",
              "      <td>[3, 5]</td>\n",
              "    </tr>\n",
              "  </tbody>\n",
              "</table>\n",
              "</div>\n",
              "    <div class=\"colab-df-buttons\">\n",
              "\n",
              "  <div class=\"colab-df-container\">\n",
              "    <button class=\"colab-df-convert\" onclick=\"convertToInteractive('df-af514151-c4a4-4cc8-89dd-f8df55879a60')\"\n",
              "            title=\"Convert this dataframe to an interactive table.\"\n",
              "            style=\"display:none;\">\n",
              "\n",
              "  <svg xmlns=\"http://www.w3.org/2000/svg\" height=\"24px\" viewBox=\"0 -960 960 960\">\n",
              "    <path d=\"M120-120v-720h720v720H120Zm60-500h600v-160H180v160Zm220 220h160v-160H400v160Zm0 220h160v-160H400v160ZM180-400h160v-160H180v160Zm440 0h160v-160H620v160ZM180-180h160v-160H180v160Zm440 0h160v-160H620v160Z\"/>\n",
              "  </svg>\n",
              "    </button>\n",
              "\n",
              "  <style>\n",
              "    .colab-df-container {\n",
              "      display:flex;\n",
              "      gap: 12px;\n",
              "    }\n",
              "\n",
              "    .colab-df-convert {\n",
              "      background-color: #E8F0FE;\n",
              "      border: none;\n",
              "      border-radius: 50%;\n",
              "      cursor: pointer;\n",
              "      display: none;\n",
              "      fill: #1967D2;\n",
              "      height: 32px;\n",
              "      padding: 0 0 0 0;\n",
              "      width: 32px;\n",
              "    }\n",
              "\n",
              "    .colab-df-convert:hover {\n",
              "      background-color: #E2EBFA;\n",
              "      box-shadow: 0px 1px 2px rgba(60, 64, 67, 0.3), 0px 1px 3px 1px rgba(60, 64, 67, 0.15);\n",
              "      fill: #174EA6;\n",
              "    }\n",
              "\n",
              "    .colab-df-buttons div {\n",
              "      margin-bottom: 4px;\n",
              "    }\n",
              "\n",
              "    [theme=dark] .colab-df-convert {\n",
              "      background-color: #3B4455;\n",
              "      fill: #D2E3FC;\n",
              "    }\n",
              "\n",
              "    [theme=dark] .colab-df-convert:hover {\n",
              "      background-color: #434B5C;\n",
              "      box-shadow: 0px 1px 3px 1px rgba(0, 0, 0, 0.15);\n",
              "      filter: drop-shadow(0px 1px 2px rgba(0, 0, 0, 0.3));\n",
              "      fill: #FFFFFF;\n",
              "    }\n",
              "  </style>\n",
              "\n",
              "    <script>\n",
              "      const buttonEl =\n",
              "        document.querySelector('#df-af514151-c4a4-4cc8-89dd-f8df55879a60 button.colab-df-convert');\n",
              "      buttonEl.style.display =\n",
              "        google.colab.kernel.accessAllowed ? 'block' : 'none';\n",
              "\n",
              "      async function convertToInteractive(key) {\n",
              "        const element = document.querySelector('#df-af514151-c4a4-4cc8-89dd-f8df55879a60');\n",
              "        const dataTable =\n",
              "          await google.colab.kernel.invokeFunction('convertToInteractive',\n",
              "                                                    [key], {});\n",
              "        if (!dataTable) return;\n",
              "\n",
              "        const docLinkHtml = 'Like what you see? Visit the ' +\n",
              "          '<a target=\"_blank\" href=https://colab.research.google.com/notebooks/data_table.ipynb>data table notebook</a>'\n",
              "          + ' to learn more about interactive tables.';\n",
              "        element.innerHTML = '';\n",
              "        dataTable['output_type'] = 'display_data';\n",
              "        await google.colab.output.renderOutput(dataTable, element);\n",
              "        const docLink = document.createElement('div');\n",
              "        docLink.innerHTML = docLinkHtml;\n",
              "        element.appendChild(docLink);\n",
              "      }\n",
              "    </script>\n",
              "  </div>\n",
              "\n",
              "\n",
              "<div id=\"df-79d0a8ee-c6e2-4ed3-923e-351b0433c30c\">\n",
              "  <button class=\"colab-df-quickchart\" onclick=\"quickchart('df-79d0a8ee-c6e2-4ed3-923e-351b0433c30c')\"\n",
              "            title=\"Suggest charts.\"\n",
              "            style=\"display:none;\">\n",
              "\n",
              "<svg xmlns=\"http://www.w3.org/2000/svg\" height=\"24px\"viewBox=\"0 0 24 24\"\n",
              "     width=\"24px\">\n",
              "    <g>\n",
              "        <path d=\"M19 3H5c-1.1 0-2 .9-2 2v14c0 1.1.9 2 2 2h14c1.1 0 2-.9 2-2V5c0-1.1-.9-2-2-2zM9 17H7v-7h2v7zm4 0h-2V7h2v10zm4 0h-2v-4h2v4z\"/>\n",
              "    </g>\n",
              "</svg>\n",
              "  </button>\n",
              "\n",
              "<style>\n",
              "  .colab-df-quickchart {\n",
              "      --bg-color: #E8F0FE;\n",
              "      --fill-color: #1967D2;\n",
              "      --hover-bg-color: #E2EBFA;\n",
              "      --hover-fill-color: #174EA6;\n",
              "      --disabled-fill-color: #AAA;\n",
              "      --disabled-bg-color: #DDD;\n",
              "  }\n",
              "\n",
              "  [theme=dark] .colab-df-quickchart {\n",
              "      --bg-color: #3B4455;\n",
              "      --fill-color: #D2E3FC;\n",
              "      --hover-bg-color: #434B5C;\n",
              "      --hover-fill-color: #FFFFFF;\n",
              "      --disabled-bg-color: #3B4455;\n",
              "      --disabled-fill-color: #666;\n",
              "  }\n",
              "\n",
              "  .colab-df-quickchart {\n",
              "    background-color: var(--bg-color);\n",
              "    border: none;\n",
              "    border-radius: 50%;\n",
              "    cursor: pointer;\n",
              "    display: none;\n",
              "    fill: var(--fill-color);\n",
              "    height: 32px;\n",
              "    padding: 0;\n",
              "    width: 32px;\n",
              "  }\n",
              "\n",
              "  .colab-df-quickchart:hover {\n",
              "    background-color: var(--hover-bg-color);\n",
              "    box-shadow: 0 1px 2px rgba(60, 64, 67, 0.3), 0 1px 3px 1px rgba(60, 64, 67, 0.15);\n",
              "    fill: var(--button-hover-fill-color);\n",
              "  }\n",
              "\n",
              "  .colab-df-quickchart-complete:disabled,\n",
              "  .colab-df-quickchart-complete:disabled:hover {\n",
              "    background-color: var(--disabled-bg-color);\n",
              "    fill: var(--disabled-fill-color);\n",
              "    box-shadow: none;\n",
              "  }\n",
              "\n",
              "  .colab-df-spinner {\n",
              "    border: 2px solid var(--fill-color);\n",
              "    border-color: transparent;\n",
              "    border-bottom-color: var(--fill-color);\n",
              "    animation:\n",
              "      spin 1s steps(1) infinite;\n",
              "  }\n",
              "\n",
              "  @keyframes spin {\n",
              "    0% {\n",
              "      border-color: transparent;\n",
              "      border-bottom-color: var(--fill-color);\n",
              "      border-left-color: var(--fill-color);\n",
              "    }\n",
              "    20% {\n",
              "      border-color: transparent;\n",
              "      border-left-color: var(--fill-color);\n",
              "      border-top-color: var(--fill-color);\n",
              "    }\n",
              "    30% {\n",
              "      border-color: transparent;\n",
              "      border-left-color: var(--fill-color);\n",
              "      border-top-color: var(--fill-color);\n",
              "      border-right-color: var(--fill-color);\n",
              "    }\n",
              "    40% {\n",
              "      border-color: transparent;\n",
              "      border-right-color: var(--fill-color);\n",
              "      border-top-color: var(--fill-color);\n",
              "    }\n",
              "    60% {\n",
              "      border-color: transparent;\n",
              "      border-right-color: var(--fill-color);\n",
              "    }\n",
              "    80% {\n",
              "      border-color: transparent;\n",
              "      border-right-color: var(--fill-color);\n",
              "      border-bottom-color: var(--fill-color);\n",
              "    }\n",
              "    90% {\n",
              "      border-color: transparent;\n",
              "      border-bottom-color: var(--fill-color);\n",
              "    }\n",
              "  }\n",
              "</style>\n",
              "\n",
              "  <script>\n",
              "    async function quickchart(key) {\n",
              "      const quickchartButtonEl =\n",
              "        document.querySelector('#' + key + ' button');\n",
              "      quickchartButtonEl.disabled = true;  // To prevent multiple clicks.\n",
              "      quickchartButtonEl.classList.add('colab-df-spinner');\n",
              "      try {\n",
              "        const charts = await google.colab.kernel.invokeFunction(\n",
              "            'suggestCharts', [key], {});\n",
              "      } catch (error) {\n",
              "        console.error('Error during call to suggestCharts:', error);\n",
              "      }\n",
              "      quickchartButtonEl.classList.remove('colab-df-spinner');\n",
              "      quickchartButtonEl.classList.add('colab-df-quickchart-complete');\n",
              "    }\n",
              "    (() => {\n",
              "      let quickchartButtonEl =\n",
              "        document.querySelector('#df-79d0a8ee-c6e2-4ed3-923e-351b0433c30c button');\n",
              "      quickchartButtonEl.style.display =\n",
              "        google.colab.kernel.accessAllowed ? 'block' : 'none';\n",
              "    })();\n",
              "  </script>\n",
              "</div>\n",
              "\n",
              "    </div>\n",
              "  </div>\n"
            ]
          },
          "metadata": {},
          "execution_count": 137
        }
      ]
    },
    {
      "cell_type": "code",
      "source": [
        "data.shape"
      ],
      "metadata": {
        "colab": {
          "base_uri": "https://localhost:8080/"
        },
        "id": "WliFYg4T6u2y",
        "outputId": "026cf195-7460-4faa-fc48-d7e34ab4634d"
      },
      "execution_count": 138,
      "outputs": [
        {
          "output_type": "execute_result",
          "data": {
            "text/plain": [
              "(47427, 3)"
            ]
          },
          "metadata": {},
          "execution_count": 138
        }
      ]
    },
    {
      "cell_type": "code",
      "source": [
        "data.info()"
      ],
      "metadata": {
        "colab": {
          "base_uri": "https://localhost:8080/"
        },
        "id": "xAgIuiDH66Jd",
        "outputId": "0af745b0-2587-4c86-e854-970acc24b562"
      },
      "execution_count": 139,
      "outputs": [
        {
          "output_type": "stream",
          "name": "stdout",
          "text": [
            "<class 'pandas.core.frame.DataFrame'>\n",
            "RangeIndex: 47427 entries, 0 to 47426\n",
            "Data columns (total 3 columns):\n",
            " #   Column        Non-Null Count  Dtype \n",
            "---  ------        --------------  ----- \n",
            " 0   cleaned_text  47427 non-null  object\n",
            " 1   Tags          47427 non-null  object\n",
            " 2   Tag_Number    47427 non-null  object\n",
            "dtypes: object(3)\n",
            "memory usage: 1.1+ MB\n"
          ]
        }
      ]
    },
    {
      "cell_type": "code",
      "source": [
        "data.describe()\n"
      ],
      "metadata": {
        "colab": {
          "base_uri": "https://localhost:8080/",
          "height": 175
        },
        "id": "odfNPpN767pY",
        "outputId": "0737af9d-e314-4d0a-db88-7e989fdad51b"
      },
      "execution_count": 140,
      "outputs": [
        {
          "output_type": "execute_result",
          "data": {
            "text/plain": [
              "                                             cleaned_text               Tags  \\\n",
              "count                                               47427              47427   \n",
              "unique                                              36481                176   \n",
              "top     cause error targetcontrolid   valid value null...  javascript jquery   \n",
              "freq                                                    3              19989   \n",
              "\n",
              "       Tag_Number  \n",
              "count       47427  \n",
              "unique        176  \n",
              "top        [3, 5]  \n",
              "freq        19989  "
            ],
            "text/html": [
              "\n",
              "  <div id=\"df-eeaf3357-2e7f-4dca-8a19-bcd0310ca6ed\" class=\"colab-df-container\">\n",
              "    <div>\n",
              "<style scoped>\n",
              "    .dataframe tbody tr th:only-of-type {\n",
              "        vertical-align: middle;\n",
              "    }\n",
              "\n",
              "    .dataframe tbody tr th {\n",
              "        vertical-align: top;\n",
              "    }\n",
              "\n",
              "    .dataframe thead th {\n",
              "        text-align: right;\n",
              "    }\n",
              "</style>\n",
              "<table border=\"1\" class=\"dataframe\">\n",
              "  <thead>\n",
              "    <tr style=\"text-align: right;\">\n",
              "      <th></th>\n",
              "      <th>cleaned_text</th>\n",
              "      <th>Tags</th>\n",
              "      <th>Tag_Number</th>\n",
              "    </tr>\n",
              "  </thead>\n",
              "  <tbody>\n",
              "    <tr>\n",
              "      <th>count</th>\n",
              "      <td>47427</td>\n",
              "      <td>47427</td>\n",
              "      <td>47427</td>\n",
              "    </tr>\n",
              "    <tr>\n",
              "      <th>unique</th>\n",
              "      <td>36481</td>\n",
              "      <td>176</td>\n",
              "      <td>176</td>\n",
              "    </tr>\n",
              "    <tr>\n",
              "      <th>top</th>\n",
              "      <td>cause error targetcontrolid   valid value null...</td>\n",
              "      <td>javascript jquery</td>\n",
              "      <td>[3, 5]</td>\n",
              "    </tr>\n",
              "    <tr>\n",
              "      <th>freq</th>\n",
              "      <td>3</td>\n",
              "      <td>19989</td>\n",
              "      <td>19989</td>\n",
              "    </tr>\n",
              "  </tbody>\n",
              "</table>\n",
              "</div>\n",
              "    <div class=\"colab-df-buttons\">\n",
              "\n",
              "  <div class=\"colab-df-container\">\n",
              "    <button class=\"colab-df-convert\" onclick=\"convertToInteractive('df-eeaf3357-2e7f-4dca-8a19-bcd0310ca6ed')\"\n",
              "            title=\"Convert this dataframe to an interactive table.\"\n",
              "            style=\"display:none;\">\n",
              "\n",
              "  <svg xmlns=\"http://www.w3.org/2000/svg\" height=\"24px\" viewBox=\"0 -960 960 960\">\n",
              "    <path d=\"M120-120v-720h720v720H120Zm60-500h600v-160H180v160Zm220 220h160v-160H400v160Zm0 220h160v-160H400v160ZM180-400h160v-160H180v160Zm440 0h160v-160H620v160ZM180-180h160v-160H180v160Zm440 0h160v-160H620v160Z\"/>\n",
              "  </svg>\n",
              "    </button>\n",
              "\n",
              "  <style>\n",
              "    .colab-df-container {\n",
              "      display:flex;\n",
              "      gap: 12px;\n",
              "    }\n",
              "\n",
              "    .colab-df-convert {\n",
              "      background-color: #E8F0FE;\n",
              "      border: none;\n",
              "      border-radius: 50%;\n",
              "      cursor: pointer;\n",
              "      display: none;\n",
              "      fill: #1967D2;\n",
              "      height: 32px;\n",
              "      padding: 0 0 0 0;\n",
              "      width: 32px;\n",
              "    }\n",
              "\n",
              "    .colab-df-convert:hover {\n",
              "      background-color: #E2EBFA;\n",
              "      box-shadow: 0px 1px 2px rgba(60, 64, 67, 0.3), 0px 1px 3px 1px rgba(60, 64, 67, 0.15);\n",
              "      fill: #174EA6;\n",
              "    }\n",
              "\n",
              "    .colab-df-buttons div {\n",
              "      margin-bottom: 4px;\n",
              "    }\n",
              "\n",
              "    [theme=dark] .colab-df-convert {\n",
              "      background-color: #3B4455;\n",
              "      fill: #D2E3FC;\n",
              "    }\n",
              "\n",
              "    [theme=dark] .colab-df-convert:hover {\n",
              "      background-color: #434B5C;\n",
              "      box-shadow: 0px 1px 3px 1px rgba(0, 0, 0, 0.15);\n",
              "      filter: drop-shadow(0px 1px 2px rgba(0, 0, 0, 0.3));\n",
              "      fill: #FFFFFF;\n",
              "    }\n",
              "  </style>\n",
              "\n",
              "    <script>\n",
              "      const buttonEl =\n",
              "        document.querySelector('#df-eeaf3357-2e7f-4dca-8a19-bcd0310ca6ed button.colab-df-convert');\n",
              "      buttonEl.style.display =\n",
              "        google.colab.kernel.accessAllowed ? 'block' : 'none';\n",
              "\n",
              "      async function convertToInteractive(key) {\n",
              "        const element = document.querySelector('#df-eeaf3357-2e7f-4dca-8a19-bcd0310ca6ed');\n",
              "        const dataTable =\n",
              "          await google.colab.kernel.invokeFunction('convertToInteractive',\n",
              "                                                    [key], {});\n",
              "        if (!dataTable) return;\n",
              "\n",
              "        const docLinkHtml = 'Like what you see? Visit the ' +\n",
              "          '<a target=\"_blank\" href=https://colab.research.google.com/notebooks/data_table.ipynb>data table notebook</a>'\n",
              "          + ' to learn more about interactive tables.';\n",
              "        element.innerHTML = '';\n",
              "        dataTable['output_type'] = 'display_data';\n",
              "        await google.colab.output.renderOutput(dataTable, element);\n",
              "        const docLink = document.createElement('div');\n",
              "        docLink.innerHTML = docLinkHtml;\n",
              "        element.appendChild(docLink);\n",
              "      }\n",
              "    </script>\n",
              "  </div>\n",
              "\n",
              "\n",
              "<div id=\"df-74d68a55-708e-4ef7-9a3b-8d74adf2b8cb\">\n",
              "  <button class=\"colab-df-quickchart\" onclick=\"quickchart('df-74d68a55-708e-4ef7-9a3b-8d74adf2b8cb')\"\n",
              "            title=\"Suggest charts.\"\n",
              "            style=\"display:none;\">\n",
              "\n",
              "<svg xmlns=\"http://www.w3.org/2000/svg\" height=\"24px\"viewBox=\"0 0 24 24\"\n",
              "     width=\"24px\">\n",
              "    <g>\n",
              "        <path d=\"M19 3H5c-1.1 0-2 .9-2 2v14c0 1.1.9 2 2 2h14c1.1 0 2-.9 2-2V5c0-1.1-.9-2-2-2zM9 17H7v-7h2v7zm4 0h-2V7h2v10zm4 0h-2v-4h2v4z\"/>\n",
              "    </g>\n",
              "</svg>\n",
              "  </button>\n",
              "\n",
              "<style>\n",
              "  .colab-df-quickchart {\n",
              "      --bg-color: #E8F0FE;\n",
              "      --fill-color: #1967D2;\n",
              "      --hover-bg-color: #E2EBFA;\n",
              "      --hover-fill-color: #174EA6;\n",
              "      --disabled-fill-color: #AAA;\n",
              "      --disabled-bg-color: #DDD;\n",
              "  }\n",
              "\n",
              "  [theme=dark] .colab-df-quickchart {\n",
              "      --bg-color: #3B4455;\n",
              "      --fill-color: #D2E3FC;\n",
              "      --hover-bg-color: #434B5C;\n",
              "      --hover-fill-color: #FFFFFF;\n",
              "      --disabled-bg-color: #3B4455;\n",
              "      --disabled-fill-color: #666;\n",
              "  }\n",
              "\n",
              "  .colab-df-quickchart {\n",
              "    background-color: var(--bg-color);\n",
              "    border: none;\n",
              "    border-radius: 50%;\n",
              "    cursor: pointer;\n",
              "    display: none;\n",
              "    fill: var(--fill-color);\n",
              "    height: 32px;\n",
              "    padding: 0;\n",
              "    width: 32px;\n",
              "  }\n",
              "\n",
              "  .colab-df-quickchart:hover {\n",
              "    background-color: var(--hover-bg-color);\n",
              "    box-shadow: 0 1px 2px rgba(60, 64, 67, 0.3), 0 1px 3px 1px rgba(60, 64, 67, 0.15);\n",
              "    fill: var(--button-hover-fill-color);\n",
              "  }\n",
              "\n",
              "  .colab-df-quickchart-complete:disabled,\n",
              "  .colab-df-quickchart-complete:disabled:hover {\n",
              "    background-color: var(--disabled-bg-color);\n",
              "    fill: var(--disabled-fill-color);\n",
              "    box-shadow: none;\n",
              "  }\n",
              "\n",
              "  .colab-df-spinner {\n",
              "    border: 2px solid var(--fill-color);\n",
              "    border-color: transparent;\n",
              "    border-bottom-color: var(--fill-color);\n",
              "    animation:\n",
              "      spin 1s steps(1) infinite;\n",
              "  }\n",
              "\n",
              "  @keyframes spin {\n",
              "    0% {\n",
              "      border-color: transparent;\n",
              "      border-bottom-color: var(--fill-color);\n",
              "      border-left-color: var(--fill-color);\n",
              "    }\n",
              "    20% {\n",
              "      border-color: transparent;\n",
              "      border-left-color: var(--fill-color);\n",
              "      border-top-color: var(--fill-color);\n",
              "    }\n",
              "    30% {\n",
              "      border-color: transparent;\n",
              "      border-left-color: var(--fill-color);\n",
              "      border-top-color: var(--fill-color);\n",
              "      border-right-color: var(--fill-color);\n",
              "    }\n",
              "    40% {\n",
              "      border-color: transparent;\n",
              "      border-right-color: var(--fill-color);\n",
              "      border-top-color: var(--fill-color);\n",
              "    }\n",
              "    60% {\n",
              "      border-color: transparent;\n",
              "      border-right-color: var(--fill-color);\n",
              "    }\n",
              "    80% {\n",
              "      border-color: transparent;\n",
              "      border-right-color: var(--fill-color);\n",
              "      border-bottom-color: var(--fill-color);\n",
              "    }\n",
              "    90% {\n",
              "      border-color: transparent;\n",
              "      border-bottom-color: var(--fill-color);\n",
              "    }\n",
              "  }\n",
              "</style>\n",
              "\n",
              "  <script>\n",
              "    async function quickchart(key) {\n",
              "      const quickchartButtonEl =\n",
              "        document.querySelector('#' + key + ' button');\n",
              "      quickchartButtonEl.disabled = true;  // To prevent multiple clicks.\n",
              "      quickchartButtonEl.classList.add('colab-df-spinner');\n",
              "      try {\n",
              "        const charts = await google.colab.kernel.invokeFunction(\n",
              "            'suggestCharts', [key], {});\n",
              "      } catch (error) {\n",
              "        console.error('Error during call to suggestCharts:', error);\n",
              "      }\n",
              "      quickchartButtonEl.classList.remove('colab-df-spinner');\n",
              "      quickchartButtonEl.classList.add('colab-df-quickchart-complete');\n",
              "    }\n",
              "    (() => {\n",
              "      let quickchartButtonEl =\n",
              "        document.querySelector('#df-74d68a55-708e-4ef7-9a3b-8d74adf2b8cb button');\n",
              "      quickchartButtonEl.style.display =\n",
              "        google.colab.kernel.accessAllowed ? 'block' : 'none';\n",
              "    })();\n",
              "  </script>\n",
              "</div>\n",
              "\n",
              "    </div>\n",
              "  </div>\n"
            ]
          },
          "metadata": {},
          "execution_count": 140
        }
      ]
    },
    {
      "cell_type": "code",
      "source": [
        "data.dtypes"
      ],
      "metadata": {
        "colab": {
          "base_uri": "https://localhost:8080/"
        },
        "id": "NNzHdIps6-_Y",
        "outputId": "7dee6837-d2b6-4c6a-b467-18bff5777474"
      },
      "execution_count": 141,
      "outputs": [
        {
          "output_type": "execute_result",
          "data": {
            "text/plain": [
              "cleaned_text    object\n",
              "Tags            object\n",
              "Tag_Number      object\n",
              "dtype: object"
            ]
          },
          "metadata": {},
          "execution_count": 141
        }
      ]
    },
    {
      "cell_type": "code",
      "source": [
        "data.isna().sum()\n"
      ],
      "metadata": {
        "colab": {
          "base_uri": "https://localhost:8080/"
        },
        "id": "eUNyiK6H7E1d",
        "outputId": "618e8d54-f163-4f84-d892-eb6a23717d78"
      },
      "execution_count": 142,
      "outputs": [
        {
          "output_type": "execute_result",
          "data": {
            "text/plain": [
              "cleaned_text    0\n",
              "Tags            0\n",
              "Tag_Number      0\n",
              "dtype: int64"
            ]
          },
          "metadata": {},
          "execution_count": 142
        }
      ]
    },
    {
      "cell_type": "code",
      "source": [
        "type(data['cleaned_text'][3])"
      ],
      "metadata": {
        "colab": {
          "base_uri": "https://localhost:8080/"
        },
        "id": "awmhmi6KQC3S",
        "outputId": "86fb95d6-ca28-4423-916a-398d9d1744e2"
      },
      "execution_count": 143,
      "outputs": [
        {
          "output_type": "execute_result",
          "data": {
            "text/plain": [
              "str"
            ]
          },
          "metadata": {},
          "execution_count": 143
        }
      ]
    },
    {
      "cell_type": "code",
      "source": [
        "arr = []\n",
        "\n",
        "x = []\n",
        "\n",
        "\n",
        "for i in range(data.shape[0]):\n",
        "    arr.append(ast.literal_eval(data['Tag_Number'][i]))\n",
        "    x.append(str(data['cleaned_text'][i]))\n",
        "\n",
        "\n",
        "\n",
        "x = np.array(x).reshape(-1,1)\n",
        "\n"
      ],
      "metadata": {
        "id": "TDZDh3K4BKox"
      },
      "execution_count": 144,
      "outputs": []
    },
    {
      "cell_type": "code",
      "source": [
        "x[1]"
      ],
      "metadata": {
        "colab": {
          "base_uri": "https://localhost:8080/"
        },
        "id": "kJIMQ6HIRU_l",
        "outputId": "efd689ba-ab1d-4dd4-8a95-6c3907df9f81"
      },
      "execution_count": 145,
      "outputs": [
        {
          "output_type": "execute_result",
          "data": {
            "text/plain": [
              "array(['run javascript code server java code want run javascript code server want manipulate result return javascript inside java code'],\n",
              "      dtype='<U30141')"
            ]
          },
          "metadata": {},
          "execution_count": 145
        }
      ]
    },
    {
      "cell_type": "code",
      "source": [
        "mlb = MultiLabelBinarizer()\n",
        "\n",
        "y = mlb.fit_transform(arr)\n",
        "\n",
        "print(type(y) , y.shape)\n",
        "print(type(x) , x.shape)\n",
        "\n",
        "\n"
      ],
      "metadata": {
        "colab": {
          "base_uri": "https://localhost:8080/"
        },
        "id": "aMZ2HizWBfvS",
        "outputId": "61190a59-f3c3-493d-be8e-a7d924dd79d2"
      },
      "execution_count": 146,
      "outputs": [
        {
          "output_type": "stream",
          "name": "stdout",
          "text": [
            "<class 'numpy.ndarray'> (47427, 10)\n",
            "<class 'numpy.ndarray'> (47427, 1)\n"
          ]
        }
      ]
    },
    {
      "cell_type": "markdown",
      "metadata": {
        "id": "B7yI9UFxHxDT"
      },
      "source": [
        "# <Font color = 'indianred'>**Data Split**\n",
        "\n",
        "iterative-stratification\n",
        "iterative-stratification is a project that provides scikit-learn compatible cross validators with stratification for multilabel data.\n",
        "\n",
        "Presently scikit-learn provides several cross validators with stratification. However, these cross validators do not offer the ability to stratify multilabel data. This iterative-stratification project offers implementations of MultilabelStratifiedKFold, MultilabelRepeatedStratifiedKFold, and MultilabelStratifiedShuffleSplit with a base algorithm for stratifying multilabel data described in the following paper:\n",
        "\n",
        "Sechidis K., Tsoumakas G., Vlahavas I. (2011) On the Stratification of Multi-Label Data. In: Gunopulos D., Hofmann T., Malerba D., Vazirgiannis M. (eds) Machine Learning and Knowledge Discovery in Databases. ECML PKDD 2011. Lecture Notes in Computer Science, vol 6913. Springer, Berlin, Heidelberg."
      ]
    },
    {
      "cell_type": "code",
      "source": [
        "X_train, y_train, X_test, y_test = iterative_train_test_split(X = x, y = y , test_size = 0.4)\n",
        "\n",
        "X_valid, y_valid, X_test, y_test = iterative_train_test_split(X_test, y_test , test_size = 0.5)\n",
        "\n",
        "\n",
        "# X_train, y_train, X_valid, y_valid, X_test, y_test = train_valid_test_split(data['cleaned_text'], y ,\n",
        "#                                                                             train_size=0.6, valid_size=0.2, test_size=0.2, random_state=42,\n",
        "#                                                                             shuffle=True, stratify=y)\n"
      ],
      "metadata": {
        "id": "j2iF37EyAj94"
      },
      "execution_count": 147,
      "outputs": []
    },
    {
      "cell_type": "markdown",
      "metadata": {
        "id": "FTIKaTsTgvYu"
      },
      "source": [
        "# <Font color = 'indianred'>**Custom Dataset Class**"
      ]
    },
    {
      "cell_type": "code",
      "source": [
        "class CustomDataset(torch.utils.data.Dataset):\n",
        "    \"\"\"\n",
        "    Custom Dataset class for loading IMDB reviews and labels.\n",
        "\n",
        "    Attributes:\n",
        "        X (numpy.ndarray): Feature data, an array of texts.\n",
        "        y (list or array-like): Target labels.\n",
        "    \"\"\"\n",
        "\n",
        "    def __init__(self, X, y):\n",
        "        \"\"\"\n",
        "        Initialize the dataset with feature and target data.\n",
        "\n",
        "        Args:\n",
        "            X (list or array-like): The feature data (texts).\n",
        "            y (list or array-like): The target labels.\n",
        "        \"\"\"\n",
        "        # Converting the feature data to a NumPy array for consistency\n",
        "        self.X = np.array(X)\n",
        "\n",
        "        # Storing the target labels\n",
        "        self.y = y\n",
        "\n",
        "    def __len__(self):\n",
        "        \"\"\"\n",
        "        Return the number of samples in the dataset.\n",
        "\n",
        "        Returns:\n",
        "            int: The total number of samples.\n",
        "        \"\"\"\n",
        "        return len(self.X)\n",
        "\n",
        "    def __getitem__(self, idx):\n",
        "        \"\"\"\n",
        "        Fetch and return a single sample from the dataset at the given index.\n",
        "\n",
        "        Args:\n",
        "            idx (int): Index of the sample to fetch.\n",
        "\n",
        "        Returns:\n",
        "            tuple: A tuple containing the label and the text for the sample.\n",
        "        \"\"\"\n",
        "        # Retrieve the text and corresponding label from the dataset using the index\n",
        "        texts = self.X[idx][0]\n",
        "        labels = self.y[idx]\n",
        "\n",
        "        # Packing them into a tuple before returning\n",
        "        sample = (labels, texts)\n",
        "\n",
        "        return sample\n"
      ],
      "metadata": {
        "id": "qQAAOXFm9p3Q"
      },
      "execution_count": 148,
      "outputs": []
    },
    {
      "cell_type": "code",
      "source": [
        "trainset = CustomDataset(X_train, y_train)\n",
        "validset = CustomDataset(X_valid, y_valid)\n",
        "testset = CustomDataset(X_test, y_test)"
      ],
      "metadata": {
        "id": "ZJHkdm-tD8MT"
      },
      "execution_count": 149,
      "outputs": []
    },
    {
      "cell_type": "code",
      "source": [
        "trainset[3][1]"
      ],
      "metadata": {
        "colab": {
          "base_uri": "https://localhost:8080/",
          "height": 71
        },
        "id": "cdk9fWgREBnm",
        "outputId": "21e5111c-36bc-44ad-ea4a-cad4129f2364"
      },
      "execution_count": 150,
      "outputs": [
        {
          "output_type": "execute_result",
          "data": {
            "text/plain": [
              "'php page redirect operation page php grid subpages(<<1,2,3,4 > > operation page take $ get[\\'prd_p $ request[\\'prd_p give page number want user stay page operation mean use redirect   < form name=\"frmsearchme action=\"<?php echo $ page_name > method=\"post > < tr >   < input class=\\'form_button type=\\'submit name=\\'btnsubmit value= save onclick=\\'return checkerrors /></td >   < /tr > //php code < /form >  '"
            ],
            "application/vnd.google.colaboratory.intrinsic+json": {
              "type": "string"
            }
          },
          "metadata": {},
          "execution_count": 150
        }
      ]
    },
    {
      "cell_type": "markdown",
      "metadata": {
        "id": "XoEVe7eGtY7U"
      },
      "source": [
        "## <Font color = 'indianred'>**Create Vocab**"
      ]
    },
    {
      "cell_type": "code",
      "source": [
        "def get_vocab(dataset, min_freq=1):\n",
        "    \"\"\"\n",
        "    Generate a vocabulary from a dataset.\n",
        "\n",
        "    Args:\n",
        "        dataset (list of tuple): List of tuples where each tuple contains a label and a text.\n",
        "        min_freq (int): The minimum frequency for a token to be included in the vocabulary.\n",
        "\n",
        "    Returns:\n",
        "        torchtext.vocab.Vocab: Vocabulary object.\n",
        "    \"\"\"\n",
        "    # Initialize a counter object to hold token frequencies\n",
        "    counter = Counter()\n",
        "\n",
        "    # Update the counter with tokens from each text in the dataset\n",
        "    for (l_, text) in dataset:\n",
        "        counter.update(str(text).split())\n",
        "\n",
        "    # Create a vocabulary using the counter object\n",
        "    # Tokens that appear fewer times than `min_freq` are excluded\n",
        "    my_vocab = vocab(counter, min_freq=min_freq)\n",
        "\n",
        "    # Insert a '<unk>' token at index 0 to represent unknown words\n",
        "    my_vocab.insert_token('<unk>', 0)\n",
        "\n",
        "    # Set the default index to 0\n",
        "    # This ensures that any unknown word will be mapped to '<unk>'\n",
        "    my_vocab.set_default_index(0)\n",
        "\n",
        "    return my_vocab\n"
      ],
      "metadata": {
        "id": "84iNTLfEPFNW"
      },
      "execution_count": 151,
      "outputs": []
    },
    {
      "cell_type": "code",
      "source": [
        "lang_vocab = get_vocab(trainset, min_freq=2)"
      ],
      "metadata": {
        "id": "JIkJGk_gSPLh"
      },
      "execution_count": 152,
      "outputs": []
    },
    {
      "cell_type": "code",
      "source": [
        "len(lang_vocab)"
      ],
      "metadata": {
        "colab": {
          "base_uri": "https://localhost:8080/"
        },
        "id": "h0_oKh4RSRtO",
        "outputId": "2d003d8c-fdce-4273-83c2-e93d8eefc2e2"
      },
      "execution_count": 153,
      "outputs": [
        {
          "output_type": "execute_result",
          "data": {
            "text/plain": [
              "90146"
            ]
          },
          "metadata": {},
          "execution_count": 153
        }
      ]
    },
    {
      "cell_type": "code",
      "source": [
        "lang_vocab.get_itos()[0:5]"
      ],
      "metadata": {
        "colab": {
          "base_uri": "https://localhost:8080/"
        },
        "id": "IbZvOeV9US1M",
        "outputId": "49321a37-f81f-482f-9cb3-cab7b75a9e37"
      },
      "execution_count": 154,
      "outputs": [
        {
          "output_type": "execute_result",
          "data": {
            "text/plain": [
              "['<unk>', 'asp', 'query', 'stre', 'dropdown']"
            ]
          },
          "metadata": {},
          "execution_count": 154
        }
      ]
    },
    {
      "cell_type": "code",
      "source": [],
      "metadata": {
        "id": "j7OurbfeUV8k"
      },
      "execution_count": 154,
      "outputs": []
    },
    {
      "cell_type": "markdown",
      "metadata": {
        "id": "ojvSMWR5u-LU"
      },
      "source": [
        "## <Font color = 'indianred'>**Collate_fn for Data Loaders**"
      ]
    },
    {
      "cell_type": "code",
      "execution_count": 155,
      "metadata": {
        "execution": {
          "iopub.execute_input": "2022-10-24T09:22:08.296819Z",
          "iopub.status.busy": "2022-10-24T09:22:08.296636Z",
          "iopub.status.idle": "2022-10-24T09:22:08.322287Z",
          "shell.execute_reply": "2022-10-24T09:22:08.321891Z",
          "shell.execute_reply.started": "2022-10-24T09:22:08.296805Z"
        },
        "id": "cdBKJlVmvB-9"
      },
      "outputs": [],
      "source": [
        "\n",
        "# Creating a function that will be used to get the indices of words from vocab\n",
        "def text_pipeline(x, vocab):\n",
        "    \"\"\"Converts text to a list of indices using a vocabulary dictionary\"\"\"\n",
        "    return [vocab[token] for token in str(x).split()]"
      ]
    },
    {
      "cell_type": "code",
      "execution_count": 156,
      "metadata": {
        "execution": {
          "iopub.execute_input": "2022-10-24T09:22:08.323133Z",
          "iopub.status.busy": "2022-10-24T09:22:08.322814Z",
          "iopub.status.idle": "2022-10-24T09:22:08.349717Z",
          "shell.execute_reply": "2022-10-24T09:22:08.349148Z",
          "shell.execute_reply.started": "2022-10-24T09:22:08.323120Z"
        },
        "id": "cL1TZVthvIT2"
      },
      "outputs": [],
      "source": [
        "def collate_batch(batch, my_vocab):\n",
        "    \"\"\"\n",
        "    Collates a batch of samples into tensors of labels, texts, and offsets.\n",
        "\n",
        "    Parameters:\n",
        "        batch (list): A list of tuples, each containing a label and a text.\n",
        "\n",
        "    Returns:\n",
        "        tuple: A tuple containing three tensors:\n",
        "               - Labels tensor\n",
        "               - Concatenated texts tensor\n",
        "               - Offsets tensor indicating the start positions of each text in the concatenated tensor\n",
        "    \"\"\"\n",
        "    # Unpack the batch into separate lists for labels and texts\n",
        "    labels, texts = zip(*batch)\n",
        "\n",
        "    # Convert the list of labels into a tensor of dtype int32\n",
        "    labels = torch.tensor(labels, dtype=torch.float32)\n",
        "\n",
        "    # Convert the list of texts into a list of lists; each inner list contains the vocabulary indices for a text\n",
        "    list_of_list_of_indices = [text_pipeline(text, my_vocab) for text in texts]\n",
        "\n",
        "    # Compute the offsets for each text in the concatenated tensor\n",
        "    offsets = [0] + [len(i) for i in list_of_list_of_indices]\n",
        "    offsets = torch.tensor(offsets[:-1]).cumsum(dim=0)\n",
        "\n",
        "    # Concatenate all text indices into a single tensor\n",
        "    texts = torch.cat([torch.tensor(i, dtype=torch.int64) for i in list_of_list_of_indices])\n",
        "\n",
        "    return (texts, offsets), labels"
      ]
    },
    {
      "cell_type": "markdown",
      "metadata": {
        "id": "U5PslDp5R7Ff"
      },
      "source": [
        "## <Font color = 'indianred'>**Check Data Loaders**\n",
        "\n",
        "Let us check if our collate function is working by creating a dataloader"
      ]
    },
    {
      "cell_type": "code",
      "execution_count": 157,
      "metadata": {
        "execution": {
          "iopub.execute_input": "2022-10-24T09:22:08.350505Z",
          "iopub.status.busy": "2022-10-24T09:22:08.350358Z",
          "iopub.status.idle": "2022-10-24T09:22:08.376028Z",
          "shell.execute_reply": "2022-10-24T09:22:08.375584Z",
          "shell.execute_reply.started": "2022-10-24T09:22:08.350491Z"
        },
        "id": "4ltYqq5e4NLD"
      },
      "outputs": [],
      "source": [
        "batch_size = 2\n",
        "check_loader = torch.utils.data.DataLoader(dataset=trainset,\n",
        "                                           batch_size=batch_size,\n",
        "                                           shuffle=True,\n",
        "                                           collate_fn=partial(collate_batch, my_vocab = lang_vocab),\n",
        "                                           )"
      ]
    },
    {
      "cell_type": "code",
      "execution_count": 158,
      "metadata": {
        "colab": {
          "base_uri": "https://localhost:8080/"
        },
        "execution": {
          "iopub.execute_input": "2022-10-24T09:22:08.376710Z",
          "iopub.status.busy": "2022-10-24T09:22:08.376572Z",
          "iopub.status.idle": "2022-10-24T09:22:08.611006Z",
          "shell.execute_reply": "2022-10-24T09:22:08.610435Z",
          "shell.execute_reply.started": "2022-10-24T09:22:08.376696Z"
        },
        "id": "logKAfqD4SXB",
        "outputId": "1cf3e091-7bcf-462c-f25c-eeb890a9048d"
      },
      "outputs": [
        {
          "output_type": "stream",
          "name": "stdout",
          "text": [
            "tensor([  158,   100,   494,   123,   915,   949,    60,  1098,  2381,    53,\n",
            "            6,   100,   301,    29,   495,    34,    29,   682,  3798,    34,\n",
            "           29,   450,     0,    34,    29,   450, 60285,    34,    29,  2340,\n",
            "           34,    29,   682,  3798,    34,    29,   450,     0,    34,    29,\n",
            "          450,     0,    34,    29,  2340,    34,    29,   682,  3798,    34,\n",
            "           29,   450,     0,    34,    29,   450,     0,    34,    29,  2340,\n",
            "           34,    29,   682,  3798,    34,    29,   450,     0,    34,    29,\n",
            "          450, 60285,    34,    29,  2340,    34,    29,   685,    34,    19,\n",
            "          682,   123,   915,  3495,  1098,    53,   230,    26,   235,  8413,\n",
            "           50,   486,    47,   873,   388,   542,   826,   102,   388,   858,\n",
            "          259,  9392,  2746,   542,   388,   542,  1565,   388,   858,  1172,\n",
            "         8902,  3127,  1524,   387,     0, 35886,   387,   594,     0,   496,\n",
            "          570,  1109,    51,     0, 35886,   704,  1565,   858,   551,   388,\n",
            "          219]) tensor([ 0, 91]) tensor([[0., 0., 0., 1., 0., 1., 0., 0., 0., 0.],\n",
            "        [1., 1., 0., 0., 0., 0., 0., 0., 0., 0.]])\n"
          ]
        }
      ],
      "source": [
        "torch.manual_seed(22)\n",
        "for (text, offset), label in check_loader:\n",
        "    print(text, offset, label)\n",
        "    break\n"
      ]
    },
    {
      "cell_type": "markdown",
      "metadata": {
        "id": "GLIXu5RaylkZ"
      },
      "source": [
        "# <Font color = 'indianred'>**Model**\n",
        "embedding_layer-->linear--> ReLU -->dropout --> batch norm --> linear-->ReLu-->Dropout--> batchnorm ---> linear layer"
      ]
    },
    {
      "cell_type": "code",
      "source": [
        "from transformers.modeling_outputs import SequenceClassifierOutput\n",
        "from transformers import PreTrainedModel, PretrainedConfig\n",
        "import torch\n",
        "import torch.nn as nn"
      ],
      "metadata": {
        "id": "8scD5lDFei0X"
      },
      "execution_count": 159,
      "outputs": []
    },
    {
      "cell_type": "code",
      "source": [
        "class CustomConfig(PretrainedConfig):\n",
        "  def __init__(self, vocab_size=0, embedding_dim=0, hidden_dim1=0, hidden_dim2=0, num_labels=0, **kwargs):\n",
        "      super().__init__()\n",
        "      self.vocab_size = vocab_size\n",
        "      self.embedding_dim = embedding_dim\n",
        "      self.hidden_dim1 = hidden_dim1\n",
        "      self.hidden_dim2 = hidden_dim2\n",
        "      self.num_labels = num_labels"
      ],
      "metadata": {
        "id": "7vV4Hw23lc4H"
      },
      "execution_count": 160,
      "outputs": []
    },
    {
      "cell_type": "code",
      "source": [
        "class CustomMLP(PreTrainedModel):\n",
        "    # config_class = CustomConfig\n",
        "\n",
        "    def __init__(self, config):\n",
        "        super().__init__(config)\n",
        "\n",
        "        self.embedding_bag = nn.EmbeddingBag(config.vocab_size, config.embedding_dim)\n",
        "        self.layers = nn.Sequential(\n",
        "            nn.Linear(config.embedding_dim, config.hidden_dim1),\n",
        "            nn.BatchNorm1d(num_features=config.hidden_dim1),\n",
        "            nn.ReLU(),\n",
        "            nn.Dropout(p=0.5),\n",
        "            nn.Linear(config.hidden_dim1, config.hidden_dim2),\n",
        "            nn.BatchNorm1d(num_features=config.hidden_dim2),\n",
        "            nn.ReLU(),\n",
        "            nn.Dropout(p=0.5),\n",
        "            nn.Linear(config.hidden_dim2, config.num_labels)\n",
        "        )\n",
        "\n",
        "    def forward(self, input_ids, offsets, labels=None):\n",
        "        embed_out = self.embedding_bag(input_ids, offsets)\n",
        "        logits = self.layers(embed_out)\n",
        "\n",
        "        loss = None\n",
        "        if labels is not None:\n",
        "            loss_fct = nn.BCEWithoutLogitsLoss()\n",
        "            loss = loss_fct(logits.view(-1, self.config.num_labels), labels.view(-1))\n",
        "\n",
        "        return SequenceClassifierOutput(\n",
        "            loss=loss,\n",
        "            logits=logits\n",
        "        )\n"
      ],
      "metadata": {
        "id": "yMwuPUHslexP"
      },
      "execution_count": 161,
      "outputs": []
    },
    {
      "cell_type": "markdown",
      "metadata": {
        "id": "5nF5iTy_VqdV"
      },
      "source": [
        "# <Font color = 'indianred'>**Hyperparameters**"
      ]
    },
    {
      "cell_type": "code",
      "execution_count": 162,
      "metadata": {
        "execution": {
          "iopub.execute_input": "2022-10-24T09:22:08.767546Z",
          "iopub.status.busy": "2022-10-24T09:22:08.767317Z",
          "iopub.status.idle": "2022-10-24T09:22:08.794203Z",
          "shell.execute_reply": "2022-10-24T09:22:08.793600Z",
          "shell.execute_reply.started": "2022-10-24T09:22:08.767526Z"
        },
        "id": "TAuG3mxBWHaz"
      },
      "outputs": [],
      "source": [
        "hyperparameters = SimpleNamespace(\n",
        "    # model Parameters\n",
        "    EMBED_DIM=300,\n",
        "    VOCAB_SIZE=len(lang_vocab),\n",
        "    OUTPUT_DIM=10,\n",
        "    HIDDEN_DIM1=200,\n",
        "    HIDDEN_DIM2=100,\n",
        "\n",
        "    # training\n",
        "    EPOCHS=5,\n",
        "    BATCH_SIZE=128,\n",
        "    LEARNING_RATE=0.001,\n",
        "    WEIGHT_DECAY=0.0001,\n",
        "    CLIP_TYPE='value',\n",
        "    CLIP_VALUE=10,\n",
        "    PATIENCE=5,\n",
        "\n",
        "    # data\n",
        ")\n",
        "\n",
        "collate_fn = partial(collate_batch, my_vocab=lang_vocab)"
      ]
    },
    {
      "cell_type": "code",
      "source": [
        "class CustomBlock(nn.Module):\n",
        "    def __init__(self, input_dim, output_dim, drop_prob):\n",
        "\n",
        "        super().__init__()\n",
        "\n",
        "        self.layers = nn.Sequential(\n",
        "            nn.Linear(input_dim, output_dim),\n",
        "            nn.BatchNorm1d(num_features=output_dim),\n",
        "            nn.ReLU(),\n",
        "            nn.Dropout(p=drop_prob),\n",
        "\n",
        "        )\n",
        "    def forward(self, x):\n",
        "      return self.layers(x)\n"
      ],
      "metadata": {
        "id": "4oGfvYxrhiyA"
      },
      "execution_count": 163,
      "outputs": []
    },
    {
      "cell_type": "code",
      "source": [
        "class EmbeddingBagWrapper(nn.Module):\n",
        "    def __init__(self, vocab_size, embedding_dim):\n",
        "        super().__init__()\n",
        "        self.embedding_bag = nn.EmbeddingBag(vocab_size, embedding_dim)\n",
        "\n",
        "    def forward(self, input_tuple):\n",
        "        data, offsets = input_tuple\n",
        "        return self.embedding_bag(data, offsets)\n",
        "\n",
        "# Define the sequential model\n",
        "vocab_size = len(lang_vocab)\n",
        "embed_dim = hyperparameters.EMBED_DIM\n",
        "model_embedding_1 = nn.Sequential(\n",
        "    EmbeddingBagWrapper(vocab_size, embed_dim ),\n",
        "    CustomBlock(embed_dim , hyperparameters.HIDDEN_DIM1, 0.5),\n",
        "    CustomBlock(hyperparameters.HIDDEN_DIM1, hyperparameters.HIDDEN_DIM2, 0.5),\n",
        "    nn.Linear(hyperparameters.HIDDEN_DIM2, hyperparameters.OUTPUT_DIM)\n",
        "    )\n"
      ],
      "metadata": {
        "id": "YrZiSghI1IQX"
      },
      "execution_count": 164,
      "outputs": []
    },
    {
      "cell_type": "code",
      "source": [
        "# Define the device\n",
        "device = torch.device('cuda:0' if torch.cuda.is_available() else 'cpu')\n",
        "\n",
        "# Move the model to the device\n",
        "model_embedding_1 = model_embedding_1.to(device)\n",
        "\n",
        "# Generate some dummy input data and offsets, and move them to the device\n",
        "data = torch.LongTensor([1, 2, 4, 5, 4]).to(device)\n",
        "offsets = torch.LongTensor([0, 2, 4]).to(device)\n",
        "\n",
        "# Generate summary\n",
        "summary(model_embedding_1, input_data=[(data, offsets)], device=device)\n"
      ],
      "metadata": {
        "colab": {
          "base_uri": "https://localhost:8080/"
        },
        "id": "7WIrGJyg2Ql2",
        "outputId": "121682d9-b383-440a-b1a1-71adf6c32168"
      },
      "execution_count": 165,
      "outputs": [
        {
          "output_type": "execute_result",
          "data": {
            "text/plain": [
              "==========================================================================================\n",
              "Layer (type:depth-idx)                   Output Shape              Param #\n",
              "==========================================================================================\n",
              "Sequential                               [3, 10]                   --\n",
              "├─EmbeddingBagWrapper: 1-1               [3, 300]                  --\n",
              "│    └─EmbeddingBag: 2-1                 [3, 300]                  27,043,800\n",
              "├─CustomBlock: 1-2                       [3, 200]                  --\n",
              "│    └─Sequential: 2-2                   [3, 200]                  --\n",
              "│    │    └─Linear: 3-1                  [3, 200]                  60,200\n",
              "│    │    └─BatchNorm1d: 3-2             [3, 200]                  400\n",
              "│    │    └─ReLU: 3-3                    [3, 200]                  --\n",
              "│    │    └─Dropout: 3-4                 [3, 200]                  --\n",
              "├─CustomBlock: 1-3                       [3, 100]                  --\n",
              "│    └─Sequential: 2-3                   [3, 100]                  --\n",
              "│    │    └─Linear: 3-5                  [3, 100]                  20,100\n",
              "│    │    └─BatchNorm1d: 3-6             [3, 100]                  200\n",
              "│    │    └─ReLU: 3-7                    [3, 100]                  --\n",
              "│    │    └─Dropout: 3-8                 [3, 100]                  --\n",
              "├─Linear: 1-4                            [3, 10]                   1,010\n",
              "==========================================================================================\n",
              "Total params: 27,125,710\n",
              "Trainable params: 27,125,710\n",
              "Non-trainable params: 0\n",
              "Total mult-adds (M): 81.38\n",
              "==========================================================================================\n",
              "Input size (MB): 0.00\n",
              "Forward/backward pass size (MB): 0.02\n",
              "Params size (MB): 108.50\n",
              "Estimated Total Size (MB): 108.52\n",
              "=========================================================================================="
            ]
          },
          "metadata": {},
          "execution_count": 165
        }
      ]
    },
    {
      "cell_type": "code",
      "source": [
        "# Test the model\n",
        "# Move the model to the device\n",
        "model_embedding_1 = model_embedding_1.to(device)\n",
        "\n",
        "# Generate some dummy input data and offsets, and move them to the device\n",
        "# we will pass text as input, collate function will create data and offsets\n",
        "data = torch.LongTensor([1, 2, 4, 5, 4]).to(device)\n",
        "offsets = torch.LongTensor([0, 2, 4]).to(device)\n",
        "\n",
        "# Since nn.Sequential expects a single input, we pack data and offsets into a tuple\n",
        "output = model_embedding_1((data, offsets))\n",
        "\n",
        "print(output)\n"
      ],
      "metadata": {
        "colab": {
          "base_uri": "https://localhost:8080/"
        },
        "id": "OkbzeSJXibsP",
        "outputId": "ee4b0842-c602-4395-c96a-75434950247f"
      },
      "execution_count": 166,
      "outputs": [
        {
          "output_type": "stream",
          "name": "stdout",
          "text": [
            "tensor([[ 1.0477, -0.3162, -1.4045, -0.2548, -0.9364, -0.3623, -0.2632, -0.2217,\n",
            "         -0.3958,  0.9847],\n",
            "        [ 0.5110,  0.2843,  0.4339, -0.7888,  0.2140,  0.1882,  0.2605,  0.0651,\n",
            "         -0.4568,  0.4220],\n",
            "        [-0.0763,  1.2264, -0.7943, -0.1306,  1.3449,  0.7397, -0.8203, -2.4401,\n",
            "          0.0569, -0.0226]], device='cuda:0', grad_fn=<AddmmBackward0>)\n"
          ]
        }
      ]
    },
    {
      "cell_type": "markdown",
      "source": [
        "## <Font color = 'indianred'>**Step Function**"
      ],
      "metadata": {
        "id": "ndebVBmw_GMp"
      }
    },
    {
      "cell_type": "code",
      "source": [
        "def step(inputs, targets, model, device, loss_function=None, optimizer=None):\n",
        "    \"\"\"\n",
        "    Performs a forward and backward pass for a given batch of inputs and targets.\n",
        "\n",
        "    Parameters:\n",
        "    - inputs (torch.Tensor): The input data for the model.\n",
        "    - targets (torch.Tensor): The true labels for the input data.\n",
        "    - model (torch.nn.Module): The neural network model.\n",
        "    - device (torch.device): The computing device (CPU or GPU).\n",
        "    - loss_function (torch.nn.Module, optional): The loss function to use.\n",
        "    - optimizer (torch.optim.Optimizer, optional): The optimizer to update model parameters.\n",
        "\n",
        "    Returns:\n",
        "    - loss (float): The computed loss value (only if loss_function is not None).\n",
        "    - outputs (torch.Tensor): The predictions from the model.\n",
        "    - correct (int): The number of correctly classified samples in the batch.\n",
        "    \"\"\"\n",
        "    # Move the model and data to the device\n",
        "\n",
        "    train_hamming_distance = HammingDistance(task=\"multilabel\", num_labels=10).to(device)\n",
        "\n",
        "    model = model.to(device)\n",
        "    inputs = tuple(input_tensor.to(device)\n",
        "                            for input_tensor in inputs)\n",
        "\n",
        "    targets = targets.to(device)\n",
        "\n",
        "    # Step 1: Forward pass to get the model's predictions\n",
        "    outputs = model(inputs)\n",
        "\n",
        "    # Step 2: Compute the loss using the provided loss function\n",
        "    if loss_function:\n",
        "        loss = loss_function(outputs, targets)\n",
        "\n",
        "    with torch.no_grad():\n",
        "        # Correct prediction using thresholding\n",
        "        y_pred = (outputs.data>0.5).float()\n",
        "\n",
        "        # Update Hamming Distance metric\n",
        "        train_hamming_distance.update(y_pred, targets)\n",
        "\n",
        "\n",
        "    # Step 3 and 4: Perform backward pass and update model parameters if an optimizer is provided\n",
        "    if optimizer:\n",
        "        optimizer.zero_grad()\n",
        "        loss.backward()\n",
        "        clip_grad_value_(model.parameters(), clip_value = hyperparameters.CLIP_VALUE)\n",
        "        optimizer.step()\n",
        "\n",
        "    # Return relevant metrics\n",
        "    if loss_function:\n",
        "        return loss, outputs, train_hamming_distance\n",
        "    else:\n",
        "        return outputs, train_hamming_distance\n"
      ],
      "metadata": {
        "id": "GEM8sbJu8ADo"
      },
      "execution_count": 168,
      "outputs": []
    },
    {
      "cell_type": "markdown",
      "source": [
        "## <Font color = 'indianred'>**Train_Epoch Function**"
      ],
      "metadata": {
        "id": "bkT0zT_XYL4s"
      }
    },
    {
      "cell_type": "code",
      "source": [
        "def train_epoch(train_loader, model, device, loss_function, optimizer):\n",
        "    \"\"\"\n",
        "    Trains the model for one epoch using the provided data loader and updates the model parameters.\n",
        "\n",
        "    Parameters:\n",
        "    - train_loader (torch.utils.data.DataLoader): DataLoader object for the training set.\n",
        "    - model (torch.nn.Module): The neural network model to be trained.\n",
        "    - device (torch.device): The computing device (CPU or GPU).\n",
        "    - loss_function (torch.nn.Module): The loss function to use for training.\n",
        "    - optimizer (torch.optim.Optimizer): The optimizer to update model parameters.\n",
        "\n",
        "    Returns:\n",
        "    - train_loss (float): Average training loss for the epoch.\n",
        "    - train_acc (float): Training accuracy for the epoch.\n",
        "    \"\"\"\n",
        "    # Set the model to training mode\n",
        "\n",
        "\n",
        "\n",
        "\n",
        "    model.train()\n",
        "\n",
        "    # Initialize variables to track running training loss and correct predictions\n",
        "    running_train_loss = 0.0\n",
        "    running_train_correct = 0\n",
        "\n",
        "    # Iterate over all batches in the training data\n",
        "    for inputs, targets in train_loader:\n",
        "        # Perform a forward and backward pass, updating model parameters\n",
        "        loss, _, hamming = step(inputs, targets, model, device, loss_function, optimizer)\n",
        "\n",
        "        # Update running loss and correct predictions counter\n",
        "        running_train_loss += loss.item()\n",
        "\n",
        "        # Compute Hamming Distance for the epoch\n",
        "        epoch_hamming_distance = hamming.compute()\n",
        "\n",
        "    # Compute average loss and accuracy for the entire training set\n",
        "    train_loss = running_train_loss / len(train_loader)\n",
        "\n",
        "    return train_loss, epoch_hamming_distance\n"
      ],
      "metadata": {
        "id": "J2BpCxsrAnqf"
      },
      "execution_count": 169,
      "outputs": []
    },
    {
      "cell_type": "markdown",
      "source": [
        "## <Font color = 'indianred'>**Val_Epoch Function**"
      ],
      "metadata": {
        "id": "_eMtYWiBYSvv"
      }
    },
    {
      "cell_type": "code",
      "source": [
        "def val_epoch(valid_loader, model, device, loss_function):\n",
        "    \"\"\"\n",
        "    Validates the model for one epoch using the provided data loader.\n",
        "\n",
        "    Parameters:\n",
        "    - valid_loader (torch.utils.data.DataLoader): DataLoader object for the validation set.\n",
        "    - model (torch.nn.Module): The neural network model to be validated.\n",
        "    - device (torch.device): The computing device (CPU or GPU).\n",
        "    - loss_function (torch.nn.Module): The loss function to evaluate the model.\n",
        "\n",
        "    Returns:\n",
        "    - val_loss (float): Average validation loss for the epoch.\n",
        "    - val_acc (float): Validation accuracy for the epoch.\n",
        "    \"\"\"\n",
        "    # Set the model to evaluation mode\n",
        "    model.eval()\n",
        "\n",
        "    # Initialize variables to track running validation loss and correct predictions\n",
        "    running_val_loss = 0.0\n",
        "    running_val_correct = 0\n",
        "\n",
        "    # Disable gradient computation\n",
        "    with torch.no_grad():\n",
        "        # Iterate over all batches in the validation data\n",
        "        for inputs, targets in valid_loader:\n",
        "            # Perform a forward pass to get loss and number of correct predictions\n",
        "            loss, _, hamming = step(inputs, targets, model, device, loss_function, optimizer=None)\n",
        "\n",
        "            # Update running loss and correct predictions counter\n",
        "            running_val_loss += loss.item()\n",
        "            # Compute Hamming Distance for the epoch\n",
        "            epoch_hamming_distance = hamming.compute()\n",
        "\n",
        "\n",
        "    # Compute average loss and accuracy for the entire validation set\n",
        "    val_loss = running_val_loss / len(valid_loader)\n",
        "    #val_acc = running_val_correct / len(valid_loader.dataset)\n",
        "\n",
        "    return val_loss, epoch_hamming_distance\n"
      ],
      "metadata": {
        "id": "uCGiGJtkAxQe"
      },
      "execution_count": 170,
      "outputs": []
    },
    {
      "cell_type": "code",
      "source": [
        "def train(train_loader, valid_loader, model, optimizer, loss_function, epochs, device):\n",
        "    \"\"\"\n",
        "    Trains and validates the model, and returns history of train and validation metrics.\n",
        "\n",
        "    Parameters:\n",
        "    - train_loader (torch.utils.data.DataLoader): DataLoader for the training set.\n",
        "    - valid_loader (torch.utils.data.DataLoader): DataLoader for the validation set.\n",
        "    - model (torch.nn.Module): Neural network model to train.\n",
        "    - optimizer (torch.optim.Optimizer): Optimizer algorithm.\n",
        "    - loss_function (torch.nn.Module): Loss function to evaluate the model.\n",
        "    - epochs (int): Number of epochs to train the model.\n",
        "    - device (torch.device): The computing device (CPU or GPU).\n",
        "\n",
        "    Returns:\n",
        "    - train_loss_history (list): History of training loss for each epoch.\n",
        "    - train_acc_history (list): History of training accuracy for each epoch.\n",
        "    - valid_loss_history (list): History of validation loss for each epoch.\n",
        "    - valid_acc_history (list): History of validation accuracy for each epoch.\n",
        "    \"\"\"\n",
        "\n",
        "    # Initialize lists to store metrics for each epoch\n",
        "    train_loss_history = []\n",
        "    valid_loss_history = []\n",
        "    train_hamm_history = []\n",
        "    valid_hamm_history = []\n",
        "\n",
        "    # Loop over the number of specified epochs\n",
        "    for epoch in range(epochs):\n",
        "        # Train model on training data and capture metrics\n",
        "        train_loss, train_hamm = train_epoch(\n",
        "            train_loader, model, device, loss_function, optimizer)\n",
        "\n",
        "        # Validate model on validation data and capture metrics\n",
        "        valid_loss, valid_hamm = val_epoch(\n",
        "            valid_loader, model, device, loss_function)\n",
        "\n",
        "        # Store metrics for this epoch\n",
        "        train_loss_history.append(train_loss)\n",
        "        train_hamm_history.append(train_hamm.to('cpu').numpy())\n",
        "        valid_loss_history.append(valid_loss)\n",
        "        valid_hamm_history.append(valid_hamm.to('cpu').numpy())\n",
        "\n",
        "        # Output epoch-level summary\n",
        "        print(f\"Epoch {epoch+1}/{epochs}\")\n",
        "        print(f\"Train Loss: {train_loss:.4f} | Train Hamming Distance: {train_hamm:.4f}\")\n",
        "        print(f\"Valid Loss: {valid_loss:.4f} | Valid Hamming Distance: {valid_hamm:.4f}\")\n",
        "        print()\n",
        "\n",
        "    return train_loss_history, train_hamm_history, valid_loss_history, valid_hamm_history\n"
      ],
      "metadata": {
        "id": "kBKa4xPxA9-n"
      },
      "execution_count": 171,
      "outputs": []
    },
    {
      "cell_type": "code",
      "source": [],
      "metadata": {
        "id": "nHlgLCS-sYT3"
      },
      "execution_count": 171,
      "outputs": []
    },
    {
      "cell_type": "markdown",
      "metadata": {
        "id": "oVk_RctgdPRP"
      },
      "source": [
        "# <Font color = 'indianred'>**Training Configuration**"
      ]
    },
    {
      "cell_type": "code",
      "source": [],
      "metadata": {
        "id": "U6eiW2RJtQlM"
      },
      "execution_count": 171,
      "outputs": []
    },
    {
      "cell_type": "code",
      "execution_count": 172,
      "metadata": {
        "execution": {
          "iopub.execute_input": "2022-10-24T09:22:14.283277Z",
          "iopub.status.busy": "2022-10-24T09:22:14.283050Z",
          "iopub.status.idle": "2022-10-24T09:22:14.433708Z",
          "shell.execute_reply": "2022-10-24T09:22:14.433252Z",
          "shell.execute_reply.started": "2022-10-24T09:22:14.283255Z"
        },
        "id": "fZ6ZoM9WaS_M",
        "tags": []
      },
      "outputs": [],
      "source": [
        "# Fix seed value\n",
        "SEED = 2345\n",
        "random.seed(SEED)\n",
        "np.random.seed(SEED)\n",
        "torch.manual_seed(SEED)\n",
        "torch.cuda.manual_seed(SEED)\n",
        "torch.backends.cudnn.deterministic = True\n",
        "\n",
        "collate_fn = partial(collate_batch, my_vocab=lang_vocab)\n",
        "\n",
        "# Data Loader\n",
        "train_loader = torch.utils.data.DataLoader(trainset, batch_size=hyperparameters.BATCH_SIZE, shuffle=True,\n",
        "                                           collate_fn=collate_fn, num_workers=4)\n",
        "valid_loader = torch.utils.data.DataLoader(validset, batch_size=hyperparameters.BATCH_SIZE, shuffle=False,\n",
        "                                           collate_fn=collate_fn,  num_workers=4)\n",
        "test_loader = torch.utils.data.DataLoader(testset, batch_size=hyperparameters.BATCH_SIZE,   shuffle=False,\n",
        "                                          collate_fn=collate_fn,  num_workers=4)\n",
        "\n",
        "# cross entropy loss function\n",
        "loss_function = nn.BCEWithLogitsLoss()\n",
        "\n",
        "\n",
        "# model\n",
        "model_lang = nn.Sequential(\n",
        "    EmbeddingBagWrapper(vocab_size, embed_dim ),\n",
        "    CustomBlock(embed_dim , hyperparameters.HIDDEN_DIM1, 0.5),\n",
        "    CustomBlock(hyperparameters.HIDDEN_DIM1, hyperparameters.HIDDEN_DIM2, 0.5),\n",
        "    nn.Linear(hyperparameters.HIDDEN_DIM2, hyperparameters.OUTPUT_DIM)\n",
        "    )\n",
        "\n",
        "\n",
        "def init_weights(m):\n",
        "    if type(m) == nn.Linear:\n",
        "        torch.nn.init.kaiming_normal_(m.weight)\n",
        "        torch.nn.init.zeros_(m.bias)\n",
        "\n",
        "\n",
        "# apply initialization recursively  to all modules\n",
        "model_lang.apply(init_weights)\n",
        "\n",
        "# Intialize stochiastic gradient descent optimizer\n",
        "optimizer = torch.optim.AdamW(model_lang.parameters(),\n",
        "                             lr=hyperparameters.LEARNING_RATE,\n",
        "\n",
        "                             )\n",
        "\n",
        "device = torch.device('cuda:0' if torch.cuda.is_available() else 'cpu')"
      ]
    },
    {
      "cell_type": "markdown",
      "metadata": {
        "id": "ffeGh2dcukdK"
      },
      "source": [
        "# <Font color = 'indianred'>**Sanity Check**\n",
        "- Check the loss without any training. For Cross entropy the expected value will be log(number of classes)"
      ]
    },
    {
      "cell_type": "code",
      "source": [
        "batch_size = 2\n",
        "check_loader = torch.utils.data.DataLoader(dataset=trainset,\n",
        "                                           batch_size=batch_size,\n",
        "                                           shuffle=True,\n",
        "                                           collate_fn=partial(collate_batch, my_vocab = lang_vocab),\n",
        "                                           )\n",
        "\n"
      ],
      "metadata": {
        "id": "toSb2Dg8t8be"
      },
      "execution_count": 173,
      "outputs": []
    },
    {
      "cell_type": "code",
      "execution_count": 174,
      "metadata": {
        "colab": {
          "base_uri": "https://localhost:8080/"
        },
        "execution": {
          "iopub.execute_input": "2022-10-24T09:22:14.462462Z",
          "iopub.status.busy": "2022-10-24T09:22:14.462136Z",
          "iopub.status.idle": "2022-10-24T09:22:14.705187Z",
          "shell.execute_reply": "2022-10-24T09:22:14.704720Z",
          "shell.execute_reply.started": "2022-10-24T09:22:14.462447Z"
        },
        "id": "p2Gx7jgbumux",
        "outputId": "70c190cf-f8e3-404d-ae42-623d5d1c11b8",
        "tags": []
      },
      "outputs": [
        {
          "output_type": "stream",
          "name": "stdout",
          "text": [
            "Actual loss: 0.6807318925857544\n",
            "Expected Theoretical loss: 0.6931471805599453\n"
          ]
        }
      ],
      "source": [
        "for input_ , targets  in train_loader:\n",
        "\n",
        "    # move inputs and outputs to GPUs\n",
        "    model_lang = model_lang.to(device)\n",
        "\n",
        "    input_ = tuple(input_tensor.to(device)\n",
        "                            for input_tensor in input_)\n",
        "    targets = targets.to(device)\n",
        "\n",
        "    model_lang.eval()\n",
        "    # Forward pass\n",
        "    output = model_lang(input_)\n",
        "    loss = loss_function(output, targets)\n",
        "    print(f'Actual loss: {loss}')\n",
        "    break\n",
        "\n",
        "print(f'Expected Theoretical loss: {np.log(2)}')"
      ]
    },
    {
      "cell_type": "markdown",
      "metadata": {
        "id": "e0_zWk0Ib74K"
      },
      "source": [
        "# <Font color = 'indianred'>**Training Model**"
      ]
    },
    {
      "cell_type": "code",
      "source": [
        "# Call the train function to train the model\n",
        "train_losses, train_hamm, valid_losses, valid_hamm = train(\n",
        "    train_loader, valid_loader, model_lang\n",
        "    , optimizer, loss_function, hyperparameters.EPOCHS, device\n",
        ")"
      ],
      "metadata": {
        "colab": {
          "base_uri": "https://localhost:8080/"
        },
        "id": "Xs5pk1ShwBYw",
        "outputId": "5590a934-d9ab-40a5-ea42-40ba6318197d"
      },
      "execution_count": 175,
      "outputs": [
        {
          "output_type": "stream",
          "name": "stdout",
          "text": [
            "Epoch 1/5\n",
            "Train Loss: 0.3519 | Train Hamming Distance: 0.0636\n",
            "Valid Loss: 0.1972 | Valid Hamming Distance: 0.1973\n",
            "\n",
            "Epoch 2/5\n",
            "Train Loss: 0.1908 | Train Hamming Distance: 0.0750\n",
            "Valid Loss: 0.1572 | Valid Hamming Distance: 0.2000\n",
            "\n",
            "Epoch 3/5\n",
            "Train Loss: 0.1556 | Train Hamming Distance: 0.0568\n",
            "Valid Loss: 0.1364 | Valid Hamming Distance: 0.1757\n",
            "\n",
            "Epoch 4/5\n",
            "Train Loss: 0.1345 | Train Hamming Distance: 0.0545\n",
            "Valid Loss: 0.1254 | Valid Hamming Distance: 0.1595\n",
            "\n",
            "Epoch 5/5\n",
            "Train Loss: 0.1194 | Train Hamming Distance: 0.0295\n",
            "Valid Loss: 0.1166 | Valid Hamming Distance: 0.1486\n",
            "\n"
          ]
        }
      ]
    },
    {
      "cell_type": "markdown",
      "source": [
        "# <Font color = 'indianred'>**Plot Losses Metrics**\n"
      ],
      "metadata": {
        "id": "wIfhnc96Ywmx"
      }
    },
    {
      "cell_type": "code",
      "source": [
        "def plot_history(train_losses, train_metrics, val_losses=None, val_metrics=None):\n",
        "    \"\"\"\n",
        "    Plot training and validation loss and metrics over epochs.\n",
        "\n",
        "    Args:\n",
        "        train_losses (list): List of training losses for each epoch.\n",
        "        train_metrics (list): List of training metrics (e.g., accuracy) for each epoch.\n",
        "        val_losses (list, optional): List of validation losses for each epoch.\n",
        "        val_metrics (list, optional): List of validation metrics for each epoch.\n",
        "\n",
        "    Returns:\n",
        "        None\n",
        "    \"\"\"\n",
        "    epochs = range(1, len(train_losses) + 1)\n",
        "\n",
        "    # Plot training and validation losses\n",
        "    plt.figure()\n",
        "    plt.plot(epochs, train_losses, label=\"Train\")\n",
        "    if val_losses:\n",
        "        plt.plot(epochs, val_losses, label=\"Validation\")\n",
        "    plt.xlabel(\"Epochs\")\n",
        "    plt.ylabel(\"Loss\")\n",
        "    plt.legend()\n",
        "    plt.show()\n",
        "\n",
        "    # Plot training and validation metrics (if available)\n",
        "    if train_metrics[0] is not None:\n",
        "        plt.figure()\n",
        "        plt.plot(epochs, train_metrics, label=\"Train\")\n",
        "        if val_metrics:\n",
        "            plt.plot(epochs, val_metrics, label=\"Validation\")\n",
        "        plt.xlabel(\"Epochs\")\n",
        "        plt.ylabel(\"Hamming Distance\")\n",
        "        plt.legend()\n",
        "        plt.show()\n"
      ],
      "metadata": {
        "id": "qjX-gC5FFvaf"
      },
      "execution_count": 176,
      "outputs": []
    },
    {
      "cell_type": "code",
      "source": [
        "train_hamm"
      ],
      "metadata": {
        "colab": {
          "base_uri": "https://localhost:8080/"
        },
        "id": "SFfLN9Yzxd0-",
        "outputId": "a64a56a9-fc49-4851-e406-f1ea14056e27"
      },
      "execution_count": 177,
      "outputs": [
        {
          "output_type": "execute_result",
          "data": {
            "text/plain": [
              "[array(0.06363636, dtype=float32),\n",
              " array(0.07499999, dtype=float32),\n",
              " array(0.05681819, dtype=float32),\n",
              " array(0.05454546, dtype=float32),\n",
              " array(0.02954543, dtype=float32)]"
            ]
          },
          "metadata": {},
          "execution_count": 177
        }
      ]
    },
    {
      "cell_type": "code",
      "source": [
        "plot_history(train_losses, train_hamm, valid_losses, valid_hamm)"
      ],
      "metadata": {
        "colab": {
          "base_uri": "https://localhost:8080/",
          "height": 881
        },
        "id": "CCvkqCnDGkgm",
        "outputId": "2ab4a0ba-a9cc-4f57-8353-59a8f269bbc2"
      },
      "execution_count": 178,
      "outputs": [
        {
          "output_type": "display_data",
          "data": {
            "text/plain": [
              "<Figure size 640x480 with 1 Axes>"
            ],
            "image/png": "[encoded data removed]"
          },
          "metadata": {}
        },
        {
          "output_type": "display_data",
          "data": {
            "text/plain": [
              "<Figure size 640x480 with 1 Axes>"
            ],
            "image/png": "[encoded data removed]"
          },
          "metadata": {}
        }
      ]
    },
    {
      "cell_type": "markdown",
      "source": [
        "# <Font color = 'indianred'>**Model Checkpointing**"
      ],
      "metadata": {
        "id": "VDUi62j2EzkE"
      }
    },
    {
      "cell_type": "code",
      "source": [
        "# Get the current timestamp in the format \"YYYY-MM-DD_HH-MM-SS\"\n",
        "timestamp = datetime.now().strftime(\"%Y-%m-%d_%H-%M-%S\")\n",
        "\n",
        "# Define a suffix for the file name\n",
        "suffix = 'hw4'\n",
        "\n",
        "# Combine the timestamp and suffix to create the file path\n",
        "path = model_folder / f'{timestamp}_{suffix}.pt'\n",
        "path"
      ],
      "metadata": {
        "id": "G3_c1t5JaTLH",
        "colab": {
          "base_uri": "https://localhost:8080/"
        },
        "outputId": "f301243b-c402-4a80-b18d-1741d955dbdf"
      },
      "execution_count": 179,
      "outputs": [
        {
          "output_type": "execute_result",
          "data": {
            "text/plain": [
              "PosixPath('/content/drive/MyDrive/NLP/models/nlp_spring_2023/hw4/2023-09-25_01-43-13_hw4.pt')"
            ]
          },
          "metadata": {},
          "execution_count": 179
        }
      ]
    },
    {
      "cell_type": "code",
      "source": [
        "# Save the model's state dictionary to the specified file path\n",
        "torch.save(model_lang.state_dict(), path)\n"
      ],
      "metadata": {
        "id": "POL0Z3DZZGAP"
      },
      "execution_count": 180,
      "outputs": []
    },
    {
      "cell_type": "code",
      "source": [
        "\n",
        "# model\n",
        "my_model = nn.Sequential(\n",
        "    EmbeddingBagWrapper(vocab_size, embed_dim ),\n",
        "    CustomBlock(embed_dim , hyperparameters.HIDDEN_DIM1, 0.5),\n",
        "    CustomBlock(hyperparameters.HIDDEN_DIM1, hyperparameters.HIDDEN_DIM2, 0.5),\n",
        "    nn.Linear(hyperparameters.HIDDEN_DIM2, hyperparameters.OUTPUT_DIM)\n",
        "    )\n",
        "\n",
        "\n",
        "# Load the model's state dictionary from the specified checkpoint file\n",
        "checkpoint = torch.load(path)\n",
        "\n",
        "# Load the saved state dictionary into the model\n",
        "my_model.load_state_dict(checkpoint)"
      ],
      "metadata": {
        "colab": {
          "base_uri": "https://localhost:8080/"
        },
        "id": "9Lk5ucA_02Iu",
        "outputId": "e18dfb47-1cb5-4edd-bb0e-6be47753f229"
      },
      "execution_count": 181,
      "outputs": [
        {
          "output_type": "execute_result",
          "data": {
            "text/plain": [
              "<All keys matched successfully>"
            ]
          },
          "metadata": {},
          "execution_count": 181
        }
      ]
    },
    {
      "cell_type": "code",
      "source": [],
      "metadata": {
        "id": "koumIPJ-1C95"
      },
      "execution_count": 181,
      "outputs": []
    },
    {
      "cell_type": "markdown",
      "metadata": {
        "id": "c-Cj1f2Qb74K"
      },
      "source": [
        "# <Font color = 'indianred'>**Get Accuracy, Predictions**"
      ]
    },
    {
      "cell_type": "code",
      "source": [
        "def get_acc_pred(data_loader, model, device):\n",
        "    \"\"\"\n",
        "    Function to get predictions and accuracy for a given data using a trained model\n",
        "    Input: data iterator, model, device\n",
        "    Output: predictions and accuracy for the given dataset\n",
        "    \"\"\"\n",
        "    model = model.to(device)\n",
        "    # Set model to evaluation mode\n",
        "    model.eval()\n",
        "\n",
        "    # Create empty tensors to store predictions and actual labels\n",
        "    predictions = torch.Tensor().to(device)\n",
        "    y = torch.Tensor().to(device)\n",
        "\n",
        "    # Iterate over batches from data iterator\n",
        "    with torch.no_grad():\n",
        "        for inputs, targets in data_loader:\n",
        "            # Process the batch to get the loss, outputs, and correct predictions\n",
        "            outputs, _ = step(inputs, targets, model,\n",
        "                              device, loss_function=None, optimizer=None)\n",
        "\n",
        "            # Choose the label with maximum probability\n",
        "            # Correct prediction using thresholding\n",
        "            y_pred = (outputs.data>0.5).float()\n",
        "\n",
        "            # Add the predicted labels and actual labels to their respective tensors\n",
        "            predictions = torch.cat((predictions, y_pred))\n",
        "            y = torch.cat((y, targets.to(device)))\n",
        "\n",
        "    # Calculate accuracy by comparing the predicted and actual labels\n",
        "    accuracy = (predictions == y).float().mean()\n",
        "\n",
        "    # Return tuple containing predictions and accuracy\n",
        "    return predictions, accuracy, y"
      ],
      "metadata": {
        "id": "g8tO_MxLb0cP"
      },
      "execution_count": 182,
      "outputs": []
    },
    {
      "cell_type": "code",
      "execution_count": 183,
      "metadata": {
        "execution": {
          "iopub.execute_input": "2022-09-14T05:15:58.582919Z",
          "iopub.status.busy": "2022-09-14T05:15:58.582773Z",
          "iopub.status.idle": "2022-09-14T05:15:59.908270Z",
          "shell.execute_reply": "2022-09-14T05:15:59.907822Z",
          "shell.execute_reply.started": "2022-09-14T05:15:58.582906Z"
        },
        "id": "yw7GhoZuRdIO",
        "tags": []
      },
      "outputs": [],
      "source": [
        "# Get the prediction and accuracy\n",
        "predictions_test, acc_test, y_test = get_acc_pred(test_loader, my_model, device)\n",
        "predictions_train, acc_train, y_train = get_acc_pred(train_loader, my_model, device)\n",
        "predictions_valid, acc_valid, y_valid = get_acc_pred(valid_loader, my_model, device)"
      ]
    },
    {
      "cell_type": "code",
      "execution_count": 184,
      "metadata": {
        "colab": {
          "base_uri": "https://localhost:8080/"
        },
        "execution": {
          "iopub.execute_input": "2022-09-14T05:15:59.908911Z",
          "iopub.status.busy": "2022-09-14T05:15:59.908787Z",
          "iopub.status.idle": "2022-09-14T05:15:59.913493Z",
          "shell.execute_reply": "2022-09-14T05:15:59.912897Z",
          "shell.execute_reply.started": "2022-09-14T05:15:59.908899Z"
        },
        "id": "3v2z0oFcRjrF",
        "outputId": "cf21fd99-56d8-4ac5-d208-be5481569451"
      },
      "outputs": [
        {
          "output_type": "stream",
          "name": "stdout",
          "text": [
            "Test accuracy tensor(95.7285, device='cuda:0')\n",
            "Train accuracy tensor(96.7632, device='cuda:0')\n",
            "Valid accuracy tensor(95.6536, device='cuda:0')\n"
          ]
        }
      ],
      "source": [
        "# Print Test Accuracy\n",
        "print('Test accuracy', acc_test * 100)\n",
        "print('Train accuracy', acc_train * 100)\n",
        "print('Valid accuracy', acc_valid * 100)"
      ]
    },
    {
      "cell_type": "markdown",
      "source": [
        "# <Font color = 'indianred'>**Get Multi-Label Confusion Matrix**"
      ],
      "metadata": {
        "id": "OwGPELQEhgFK"
      }
    },
    {
      "cell_type": "code",
      "source": [
        "multilabel_confusion_matrix(y_true=y_test.cpu(), y_pred=predictions_test.cpu())"
      ],
      "metadata": {
        "colab": {
          "base_uri": "https://localhost:8080/"
        },
        "id": "5PTlypov2Bqq",
        "outputId": "874e9c67-92e9-4f2f-ab55-2cdcf2e1e528"
      },
      "execution_count": 185,
      "outputs": [
        {
          "output_type": "execute_result",
          "data": {
            "text/plain": [
              "array([[[7182,  186],\n",
              "        [ 418, 1672]],\n",
              "\n",
              "       [[7691,  114],\n",
              "        [ 173, 1480]],\n",
              "\n",
              "       [[8257,   52],\n",
              "        [ 473,  676]],\n",
              "\n",
              "       [[3588,  399],\n",
              "        [ 467, 5004]],\n",
              "\n",
              "       [[7856,   74],\n",
              "        [ 139, 1389]],\n",
              "\n",
              "       [[4246,  234],\n",
              "        [ 415, 4563]],\n",
              "\n",
              "       [[9295,    8],\n",
              "        [  98,   57]],\n",
              "\n",
              "       [[9335,    2],\n",
              "        [  98,   23]],\n",
              "\n",
              "       [[9396,    0],\n",
              "        [  62,    0]],\n",
              "\n",
              "       [[6811,  154],\n",
              "        [ 474, 2019]]])"
            ]
          },
          "metadata": {},
          "execution_count": 185
        }
      ]
    },
    {
      "cell_type": "markdown",
      "source": [
        "# <Font color = 'indianred'>**Get Test Data Hamming Distance**"
      ],
      "metadata": {
        "id": "j2mBP_Q-hun4"
      }
    },
    {
      "cell_type": "code",
      "source": [
        "test_hamming_distance = HammingDistance(task=\"multilabel\", num_labels=10).to(device)\n",
        "test_hamming_distance.update(y_test, predictions_test)\n"
      ],
      "metadata": {
        "id": "jIoYy3ilCw6h"
      },
      "execution_count": 196,
      "outputs": []
    },
    {
      "cell_type": "code",
      "source": [
        "test_hamming_distance.compute()"
      ],
      "metadata": {
        "colab": {
          "base_uri": "https://localhost:8080/"
        },
        "id": "bXHZalqiLopJ",
        "outputId": "eed48b7f-d97d-474b-cc42-72d1b165e2fd"
      },
      "execution_count": 197,
      "outputs": [
        {
          "output_type": "execute_result",
          "data": {
            "text/plain": [
              "tensor(0.0427, device='cuda:0')"
            ]
          },
          "metadata": {},
          "execution_count": 197
        }
      ]
    },
    {
      "cell_type": "code",
      "source": [],
      "metadata": {
        "id": "iSnsVlNSL-Se"
      },
      "execution_count": null,
      "outputs": []
    }
  ]
}