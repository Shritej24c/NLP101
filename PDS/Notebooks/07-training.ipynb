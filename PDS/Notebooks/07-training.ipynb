{
 "cells": [
  {
   "cell_type": "markdown",
   "metadata": {},
   "source": [
    "<div style=\"text-align:center\"><span style=\"font-size:2em; font-weight: bold;\"> Lecture 7—Training</span></div>"
   ]
  },
  {
   "cell_type": "markdown",
   "metadata": {},
   "source": [
    "# Programming: Quadratic Programming\n",
    "\n",
    "When performing optimization, it is sometimes possible to reduce a given problem to a linear or quadratic programming problem. Such problems have extremely fast solutions, which we can use to speed up our code. The downside is that we have to do a little math to put them in this form.\n",
    "\n",
    "## Linear Programming\n",
    "\n",
    "$$\n",
    "\\begin{align}\n",
    "\\min_{x,s}\\;&c'x \\\\\n",
    "\\text{subject to}\\;& Gx+s=h \\\\\n",
    "& Ax=b \\\\\n",
    "& s\\geq0\n",
    "\\end{align}\n",
    "$$\n",
    "\n",
    "## Quadratic Programming\n",
    "\n",
    "$$\n",
    "\\begin{align}\n",
    "\\min_{x}\\;&(1/2)x'Px+q'x \\\\\n",
    "\\text{subject to}\\;& Gx\\leq h \\\\\n",
    "& Ax=b\n",
    "\\end{align}\n",
    "$$"
   ]
  },
  {
   "cell_type": "markdown",
   "metadata": {},
   "source": [
    "Least squares regression can be expressed as a QP problem:\n",
    "$$\n",
    "\\min_\\beta e'e = \\min_\\beta (y-X\\beta)'(y-X\\beta) = \\min_\\beta y'y-2y'X\\beta+\\beta'X'X\\beta\n",
    "$$\n",
    "$$\n",
    "\\min_\\beta \\beta'X'X\\beta-2y'X\\beta\n",
    "$$\n",
    "$$\n",
    "\\min_\\beta (1/2)\\beta'X'X\\beta-y'X\\beta\n",
    "$$\n",
    "$$\n",
    "P = X'X, q=-X'y\n",
    "$$"
   ]
  },
  {
   "cell_type": "markdown",
   "metadata": {},
   "source": [
    "# Data Science\n",
    "\n",
    "## $L_1$ Regularization\n",
    "\n",
    "Given a model:\n",
    "$$y=\\mathbf X\\beta+e$$\n",
    "The $L_1$ regularization of the model is defined by:\n",
    "$$\n",
    "\\begin{align}\n",
    "\\min_\\beta \\;& e'e \\\\\n",
    "\\text{subject to}\\;&\\Vert\\beta\\Vert_1 \\leq T\n",
    "\\end{align}\n",
    "$$\n",
    "Which is equivalent to the summation notation version:\n",
    "$$\n",
    "\\begin{align}\n",
    "\\min_\\beta \\;& \\sum_{i=1}^n e_i^2\\\\\n",
    "\\text{subject to}\\;&\\sum_{j=1}^r\\vert\\beta_j\\vert \\leq T\n",
    "\\end{align}\n",
    "$$\n",
    "Solving for $\\beta$ we obtain:\n",
    "$$\n",
    "\\begin{align}\n",
    "\\min_\\beta \\;& (1/2)\\beta'\\mathbf X'\\mathbf X \\beta-y'\\mathbf X \\beta\\\\\n",
    "\\text{subject to}\\;&\\mathbf 1_r'\\vert\\beta\\vert \\leq T\n",
    "\\end{align}\n",
    "$$ \n",
    "To put this in terms where we can use the quadratic programming format we need to split the betas into their positive and negative components: $\\beta=\\beta_+-\\beta_-$ So we define $\\beta_\\pm = [\\beta_+',\\beta_-']'$\n",
    "$$\n",
    "\\begin{align}\n",
    "\\min_{\\beta_{\\pm}} \\;& (1/2)\\beta_\\pm'\\left(\n",
    "\\begin{bmatrix}\n",
    "1 & -1 \\\\\n",
    "-1 & 1 \n",
    "\\end{bmatrix}\n",
    "\\otimes\\mathbf X'\\mathbf X \\right)\\beta_\\pm-\\left(\n",
    "\\begin{bmatrix}\n",
    "1 & -1\n",
    "\\end{bmatrix}\n",
    "\\otimes y'\\mathbf X \\right) \\beta_{\\pm}\\\\\n",
    "\\text{subject to}\\;&\\mathbf 1_{2r}'\\beta_\\pm \\leq T\\\\\n",
    "& -\\mathbf I_{2r} \\beta_{\\pm}\\leq 0\n",
    "\\end{align}\n",
    "$$"
   ]
  },
  {
   "cell_type": "code",
   "execution_count": 18,
   "metadata": {
    "ExecuteTime": {
     "end_time": "2023-10-25T18:36:57.640727Z",
     "start_time": "2023-10-25T18:36:50.551391Z"
    },
    "pycharm": {
     "is_executing": true
    }
   },
   "outputs": [
    {
     "name": "stdout",
     "output_type": "stream",
     "text": [
      "Requirement already satisfied: cvxopt in /Users/shritej/.local/lib/python3.8/site-packages (1.3.2)\n",
      "\u001b[33mDEPRECATION: arcgis 1.9.1 has a non-standard dependency specifier keyring<=21.8.*,>=19. pip 24.0 will enforce this behaviour change. A possible replacement is to upgrade to a newer version of arcgis or contact the author to suggest that they release a version with a conforming dependency specifiers. Discussion can be found at https://github.com/pypa/pip/issues/12063\u001b[0m\u001b[33m\n",
      "\u001b[0m\u001b[33mDEPRECATION: celery 5.1.0 has a non-standard dependency specifier pytz>dev. pip 24.0 will enforce this behaviour change. A possible replacement is to upgrade to a newer version of celery or contact the author to suggest that they release a version with a conforming dependency specifiers. Discussion can be found at https://github.com/pypa/pip/issues/12063\u001b[0m\u001b[33m\n",
      "\u001b[0m\u001b[33mDEPRECATION: pyodbc 4.0.0-unsupported has a non-standard version number. pip 24.0 will enforce this behaviour change. A possible replacement is to upgrade to a newer version of pyodbc or contact the author to suggest that they release a version with a conforming version number. Discussion can be found at https://github.com/pypa/pip/issues/12063\u001b[0m\u001b[33m\n",
      "\u001b[0m"
     ]
    }
   ],
   "source": [
    "!pip install --user cvxopt"
   ]
  },
  {
   "cell_type": "code",
   "execution_count": 19,
   "metadata": {
    "ExecuteTime": {
     "end_time": "2023-10-26T18:45:38.597703Z",
     "start_time": "2023-10-26T18:45:37.190173Z"
    },
    "pycharm": {
     "is_executing": true
    }
   },
   "outputs": [
    {
     "ename": "ModuleNotFoundError",
     "evalue": "No module named 'cvxopt'",
     "output_type": "error",
     "traceback": [
      "\u001b[0;31m---------------------------------------------------------------------------\u001b[0m",
      "\u001b[0;31mModuleNotFoundError\u001b[0m                       Traceback (most recent call last)",
      "\u001b[0;32m<ipython-input-19-ce955ea8eaea>\u001b[0m in \u001b[0;36m<module>\u001b[0;34m\u001b[0m\n\u001b[1;32m      1\u001b[0m \u001b[0;32mimport\u001b[0m \u001b[0mnumpy\u001b[0m \u001b[0;32mas\u001b[0m \u001b[0mnp\u001b[0m\u001b[0;34m\u001b[0m\u001b[0;34m\u001b[0m\u001b[0m\n\u001b[1;32m      2\u001b[0m \u001b[0;32mimport\u001b[0m \u001b[0mpandas\u001b[0m \u001b[0;32mas\u001b[0m \u001b[0mpd\u001b[0m\u001b[0;34m\u001b[0m\u001b[0;34m\u001b[0m\u001b[0m\n\u001b[0;32m----> 3\u001b[0;31m \u001b[0;32mimport\u001b[0m \u001b[0mcvxopt\u001b[0m \u001b[0;32mas\u001b[0m \u001b[0mcvx\u001b[0m\u001b[0;34m\u001b[0m\u001b[0;34m\u001b[0m\u001b[0m\n\u001b[0m\u001b[1;32m      4\u001b[0m \u001b[0;32mimport\u001b[0m \u001b[0mcvxopt\u001b[0m\u001b[0;34m.\u001b[0m\u001b[0msolvers\u001b[0m \u001b[0;32mas\u001b[0m \u001b[0msolv\u001b[0m\u001b[0;34m\u001b[0m\u001b[0;34m\u001b[0m\u001b[0m\n\u001b[1;32m      5\u001b[0m \u001b[0;32mfrom\u001b[0m \u001b[0mscipy\u001b[0m\u001b[0;34m.\u001b[0m\u001b[0mstats\u001b[0m \u001b[0;32mimport\u001b[0m \u001b[0mzscore\u001b[0m\u001b[0;34m\u001b[0m\u001b[0;34m\u001b[0m\u001b[0m\n",
      "\u001b[0;31mModuleNotFoundError\u001b[0m: No module named 'cvxopt'"
     ]
    }
   ],
   "source": [
    "import numpy as np\n",
    "import pandas as pd\n",
    "import cvxopt as cvx\n",
    "import cvxopt.solvers as solv\n",
    "from scipy.stats import zscore\n",
    "\n",
    "df = pd.read_csv('BWGHT.csv')\n",
    "npx = df[['cigs','faminc','male','white']].values\n",
    "npy = df['bwght'].values\n",
    "ones = np.ones((npx.shape[0],1))\n",
    "npx = np.hstack((ones,npx))"
   ]
  },
  {
   "cell_type": "code",
   "execution_count": 16,
   "metadata": {
    "ExecuteTime": {
     "end_time": "2023-10-26T18:48:47.073283Z",
     "start_time": "2023-10-26T18:48:46.978840Z"
    },
    "pycharm": {
     "is_executing": true
    }
   },
   "outputs": [
    {
     "ename": "NameError",
     "evalue": "name 'npx' is not defined",
     "output_type": "error",
     "traceback": [
      "\u001b[0;31m---------------------------------------------------------------------------\u001b[0m",
      "\u001b[0;31mNameError\u001b[0m                                 Traceback (most recent call last)",
      "\u001b[0;32m<ipython-input-16-22e238cec93c>\u001b[0m in \u001b[0;36m<module>\u001b[0;34m\u001b[0m\n\u001b[1;32m     13\u001b[0m     \u001b[0mopt\u001b[0m \u001b[0;34m=\u001b[0m \u001b[0mnp\u001b[0m\u001b[0;34m.\u001b[0m\u001b[0marray\u001b[0m\u001b[0;34m(\u001b[0m\u001b[0mopt\u001b[0m\u001b[0;34m[\u001b[0m\u001b[0;34m'x'\u001b[0m\u001b[0;34m]\u001b[0m\u001b[0;34m)\u001b[0m\u001b[0;34m\u001b[0m\u001b[0;34m\u001b[0m\u001b[0m\n\u001b[1;32m     14\u001b[0m     \u001b[0;32mreturn\u001b[0m \u001b[0mopt\u001b[0m\u001b[0;34m[\u001b[0m\u001b[0;34m:\u001b[0m\u001b[0mr\u001b[0m\u001b[0;34m,\u001b[0m\u001b[0;36m0\u001b[0m\u001b[0;34m]\u001b[0m\u001b[0;34m-\u001b[0m\u001b[0mopt\u001b[0m\u001b[0;34m[\u001b[0m\u001b[0mr\u001b[0m\u001b[0;34m:\u001b[0m\u001b[0;34m,\u001b[0m\u001b[0;36m0\u001b[0m\u001b[0;34m]\u001b[0m\u001b[0;34m\u001b[0m\u001b[0;34m\u001b[0m\u001b[0m\n\u001b[0;32m---> 15\u001b[0;31m \u001b[0mnp\u001b[0m\u001b[0;34m.\u001b[0m\u001b[0mabs\u001b[0m\u001b[0;34m(\u001b[0m\u001b[0msolve_lasso\u001b[0m\u001b[0;34m(\u001b[0m\u001b[0mnpx\u001b[0m\u001b[0;34m,\u001b[0m\u001b[0mnpy\u001b[0m\u001b[0;34m,\u001b[0m\u001b[0mthresh\u001b[0m\u001b[0;34m)\u001b[0m\u001b[0;34m)\u001b[0m\u001b[0;34m.\u001b[0m\u001b[0msum\u001b[0m\u001b[0;34m(\u001b[0m\u001b[0;34m)\u001b[0m\u001b[0;34m\u001b[0m\u001b[0;34m\u001b[0m\u001b[0m\n\u001b[0m",
      "\u001b[0;31mNameError\u001b[0m: name 'npx' is not defined"
     ]
    }
   ],
   "source": [
    "thresh = 100\n",
    "def solve_lasso(x,y,thresh):\n",
    "    n,r = x.shape\n",
    "    P = np.kron(np.array([[1,-1],[-1,1]]),x.T@x)\n",
    "    q = -np.kron(np.array([[1],[-1]]),x.T@y.reshape(-1,1))\n",
    "    G_1 = -np.eye(2*r)\n",
    "    h_1 = np.zeros((2*r,1))\n",
    "    G_2 = np.ones((1,2*r))\n",
    "    h_2 = np.array([[thresh]])\n",
    "    G = np.vstack((G_1,G_2))\n",
    "    h = np.vstack((h_1,h_2))\n",
    "    opt = solv.qp(cvx.matrix(P),cvx.matrix(q),cvx.matrix(G),cvx.matrix(h))\n",
    "    opt = np.array(opt['x'])\n",
    "    return opt[:r,0]-opt[r:,0]\n",
    "np.abs(solve_lasso(npx,npy,thresh)).sum()"
   ]
  },
  {
   "cell_type": "code",
   "execution_count": null,
   "metadata": {
    "ExecuteTime": {
     "end_time": "2023-10-26T18:49:26.043524Z",
     "start_time": "2023-10-26T18:49:26.033734Z"
    },
    "pycharm": {
     "is_executing": true
    }
   },
   "outputs": [],
   "source": [
    "from cleands import *\n",
    "least_squares_regressor(npx,npy).params"
   ]
  },
  {
   "cell_type": "code",
   "execution_count": null,
   "metadata": {
    "ExecuteTime": {
     "end_time": "2023-10-26T18:49:33.686528Z",
     "start_time": "2023-10-26T18:49:33.681511Z"
    },
    "pycharm": {
     "is_executing": true
    }
   },
   "outputs": [],
   "source": [
    "np.abs(least_squares_regressor(npx,npy).params).sum()"
   ]
  },
  {
   "cell_type": "code",
   "execution_count": null,
   "metadata": {
    "ExecuteTime": {
     "end_time": "2023-10-26T00:55:41.860446Z",
     "start_time": "2023-10-26T00:55:41.824104Z"
    },
    "pycharm": {
     "is_executing": true
    }
   },
   "outputs": [],
   "source": [
    "solve_lasso(npx,npy,thresh)"
   ]
  },
  {
   "cell_type": "code",
   "execution_count": null,
   "metadata": {
    "ExecuteTime": {
     "end_time": "2023-10-26T18:50:35.824269Z",
     "start_time": "2023-10-26T18:50:35.815004Z"
    },
    "pycharm": {
     "is_executing": true
    }
   },
   "outputs": [],
   "source": [
    "thresh = 130\n",
    "np.abs(solve_lasso(npx,npy,thresh)).sum()"
   ]
  },
  {
   "cell_type": "code",
   "execution_count": null,
   "metadata": {
    "ExecuteTime": {
     "end_time": "2023-10-26T18:50:39.833987Z",
     "start_time": "2023-10-26T18:50:39.823676Z"
    },
    "pycharm": {
     "is_executing": true
    }
   },
   "outputs": [],
   "source": [
    "least_squares_regressor(npx,npy).params,solve_lasso(npx,npy,thresh)"
   ]
  },
  {
   "cell_type": "code",
   "execution_count": null,
   "metadata": {
    "ExecuteTime": {
     "end_time": "2023-10-26T18:57:11.618579Z",
     "start_time": "2023-10-26T18:57:11.605678Z"
    },
    "code_folding": [],
    "pycharm": {
     "is_executing": true
    }
   },
   "outputs": [],
   "source": [
    "from cleands import *\n",
    "\n",
    "class l1_regularization_regressor(least_squares_regressor):\n",
    "    def __init__(self,x,y,thresh:float,*args,**kwargs):\n",
    "        super(l1_regularization_regressor,self).__init__(x,y,thresh=thresh,*args,**kwargs)\n",
    "        self.threshold=thresh\n",
    "    def __fit__(self,x,y,thresh:float,*args,**kwargs):\n",
    "        if x[:,0].var()==0:\n",
    "            dx = x[:,1:]-x[:,1:].mean(0)\n",
    "            dy = y-y.mean(0)\n",
    "            outp = solve_lasso(dx,dy,thresh)\n",
    "            intc = y.mean(0)-x[:,1:].mean(0)@outp.reshape(-1,1)\n",
    "            return np.concatenate([intc,outp])\n",
    "        else:\n",
    "            return solve_lasso(x,y,thresh)\n",
    "        \n",
    "params = l1_regularization_regressor(npx,npy,thresh=5).params\n",
    "print(params)\n",
    "print(np.abs(params[1:]).sum())"
   ]
  },
  {
   "cell_type": "code",
   "execution_count": null,
   "metadata": {
    "ExecuteTime": {
     "end_time": "2023-10-26T18:57:35.793599Z",
     "start_time": "2023-10-26T18:57:35.788577Z"
    },
    "pycharm": {
     "is_executing": true
    }
   },
   "outputs": [],
   "source": [
    "least_squares_regressor(npx,npy).params"
   ]
  },
  {
   "cell_type": "code",
   "execution_count": null,
   "metadata": {
    "ExecuteTime": {
     "end_time": "2023-10-26T01:02:06.403420Z",
     "start_time": "2023-10-26T01:02:06.397702Z"
    },
    "pycharm": {
     "is_executing": true
    }
   },
   "outputs": [],
   "source": [
    "np.abs(least_squares_regressor(npx,npy).params[1:]).sum()"
   ]
  },
  {
   "cell_type": "markdown",
   "metadata": {},
   "source": [
    "## Cross-validation"
   ]
  },
  {
   "cell_type": "code",
   "execution_count": null,
   "metadata": {
    "ExecuteTime": {
     "end_time": "2023-10-26T19:10:19.131525Z",
     "start_time": "2023-10-26T19:10:19.120525Z"
    },
    "code_folding": [],
    "pycharm": {
     "is_executing": true
    }
   },
   "outputs": [],
   "source": [
    "def mean_squared_error(model,x,y):\n",
    "    return ((y-model.predict(x))**2).mean()\n",
    "def k_fold_cross_validation(model,x,y,folds:int=5,seed=None,statistic=mean_squared_error):\n",
    "    n,r = x.shape\n",
    "    deck = np.arange(n)\n",
    "    outp = []\n",
    "    if seed is not None: np.random.seed(seed)\n",
    "    np.random.shuffle(deck)\n",
    "    for i in range(folds):\n",
    "        test = deck[int(i*n/folds):int((i+1)*n/folds)]\n",
    "        train_lower = deck[:int(i*n/folds)]\n",
    "        train_upper = deck[int((i+1)*n/folds):]\n",
    "        train = np.concatenate((train_lower,train_upper))\n",
    "        modl = model(x[train],y[train])\n",
    "        mspe = statistic(modl,x[test],y[test])\n",
    "        outp += [mspe]\n",
    "    return np.array(outp)\n",
    "k_fold_cross_validation(least_squares_regressor,npx,npy,folds=10,seed=90210).mean()"
   ]
  },
  {
   "cell_type": "code",
   "execution_count": null,
   "metadata": {
    "ExecuteTime": {
     "end_time": "2023-10-26T19:11:02.099883Z",
     "start_time": "2023-10-26T19:11:02.092541Z"
    },
    "pycharm": {
     "is_executing": true
    }
   },
   "outputs": [],
   "source": [
    "np.sqrt(k_fold_cross_validation(least_squares_regressor,npx,npy,folds=10,seed=90210).mean())"
   ]
  },
  {
   "cell_type": "code",
   "execution_count": null,
   "metadata": {
    "ExecuteTime": {
     "end_time": "2023-10-26T19:11:11.114444Z",
     "start_time": "2023-10-26T19:11:11.109445Z"
    },
    "pycharm": {
     "is_executing": true
    }
   },
   "outputs": [],
   "source": [
    "npy.std()"
   ]
  },
  {
   "cell_type": "code",
   "execution_count": null,
   "metadata": {
    "ExecuteTime": {
     "end_time": "2023-10-26T19:11:23.833271Z",
     "start_time": "2023-10-26T19:11:23.828596Z"
    },
    "pycharm": {
     "is_executing": true
    }
   },
   "outputs": [],
   "source": [
    "(20.346630897082896-19.926533302221987)/19.926533302221987"
   ]
  },
  {
   "cell_type": "code",
   "execution_count": null,
   "metadata": {
    "ExecuteTime": {
     "end_time": "2023-10-26T19:12:47.649542Z",
     "start_time": "2023-10-26T19:12:47.594108Z"
    },
    "pycharm": {
     "is_executing": true
    }
   },
   "outputs": [],
   "source": [
    "model = lambda x,y: l1_regularization_regressor(x,y,thresh=8)\n",
    "np.sqrt(k_fold_cross_validation(model,npx,npy,folds=10,seed=90210).mean())"
   ]
  },
  {
   "cell_type": "code",
   "execution_count": null,
   "metadata": {
    "ExecuteTime": {
     "end_time": "2023-10-26T19:16:08.535554Z",
     "start_time": "2023-10-26T19:16:03.639262Z"
    },
    "code_folding": [],
    "pycharm": {
     "is_executing": true
    }
   },
   "outputs": [],
   "source": [
    "class l1_cross_validation_regressor(l1_regularization_regressor):\n",
    "    def __init__(self,x,y,max_thresh=None,folds:int=5,statistic=mean_squared_error,seed=None,*args,**kwargs):\n",
    "        default_state = solv.options.get('show_progress',True)\n",
    "        solv.options['show_progress'] = False\n",
    "        if max_thresh==None: max_thresh = np.abs(least_squares_regressor(x,y).params[1:]).sum()\n",
    "        outp = []\n",
    "        for lam in np.linspace(0,1,100):\n",
    "            model = lambda x,y: l1_regularization_regressor(x,y,thresh=lam*max_thresh)\n",
    "            mse = k_fold_cross_validation(model,x,y,folds=folds,statistic=statistic,seed=seed).mean()\n",
    "            outp += [(mse,lam)]\n",
    "        outp = np.array(outp)\n",
    "        lam = outp[outp[:,0].argmin(),1]\n",
    "        thresh = lam*max_thresh\n",
    "        solv.options['show_progress'] = default_state\n",
    "        super(l1_cross_validation_regressor,self).__init__(x,y,thresh=thresh,*args,**kwargs)\n",
    "        self.statistic = outp[outp[:,0].argmin(),0]\n",
    "        self.max_threshold = max_thresh\n",
    "        self.lambda_value = lam\n",
    "model = l1_cross_validation_regressor(npx,npy,folds=10,seed=90210)\n",
    "print(model.params)\n",
    "print(model.threshold,model.lambda_value,np.sqrt(model.statistic))"
   ]
  },
  {
   "cell_type": "code",
   "execution_count": null,
   "metadata": {
    "ExecuteTime": {
     "end_time": "2023-10-26T19:17:09.408680Z",
     "start_time": "2023-10-26T19:17:09.403682Z"
    },
    "pycharm": {
     "is_executing": true
    }
   },
   "outputs": [],
   "source": [
    "(19.926533302221987-19.918374979982396)/19.918374979982396"
   ]
  },
  {
   "cell_type": "code",
   "execution_count": null,
   "metadata": {
    "ExecuteTime": {
     "end_time": "2023-03-09T23:12:24.514403Z",
     "start_time": "2023-03-09T23:12:24.501750Z"
    },
    "pycharm": {
     "is_executing": true
    }
   },
   "outputs": [],
   "source": [
    "least_squares_regressor(npx,npy).params"
   ]
  },
  {
   "cell_type": "markdown",
   "metadata": {},
   "source": [
    "# Programming challenges"
   ]
  },
  {
   "cell_type": "markdown",
   "metadata": {},
   "source": [
    "##  Tree Simulation\n",
    "\n",
    "Write a monte carlo simulation comparing the accuracy of tree based models to that of regression for categorical data."
   ]
  },
  {
   "cell_type": "markdown",
   "metadata": {},
   "source": [
    "## Recursive partitioning until non-rejection\n",
    "\n",
    "Modify our recursive partitioning code to test the null that the two groups are equal and stop splitting when the null cannot be rejected. Bonus points if you use the Bonferonni correction when making the decision to split."
   ]
  },
  {
   "cell_type": "code",
   "execution_count": null,
   "metadata": {
    "pycharm": {
     "is_executing": true
    }
   },
   "outputs": [],
   "source": [
    "class rpart(prediction_model):\n",
    "    def __init__(self,x,y,sign_level=0.95,max_level=None,level=''):\n",
    "        super(rpart,self).__init__(x,y)\n",
    "        self.max_level = max_level\n",
    "        self.level = level\n",
    "        if max_level!=None and len(level)+1==max_level:\n",
    "            self.__make_terminal_tree__()\n",
    "            return\n",
    "        xvars = np.arange(self.n_feat)\n",
    "        outp = []\n",
    "        for i in xvars:\n",
    "            outp += [self.__calc_RSS_and_split__(x[:,i])]\n",
    "        outp = np.array(outp)\n",
    "        var = outp[:,0].argmin()\n",
    "        self.RSS = outp[var,0]\n",
    "        self.split_var = var\n",
    "        self.split_value = outp[var,1]\n",
    "        if max_level==None:\n",
    "            xvar = (x[:,var]>self.split_value).astype(int)\n",
    "            xvar = np.hstack((np.ones((self.n_obs,1)),xvar.reshape(-1,1)))\n",
    "            try:\n",
    "                model = least_squares_regressor(xvar,y)\n",
    "            except:\n",
    "                self.__make_terminal_tree__()                \n",
    "                return\n",
    "            tstat = model.params/np.sqrt(np.diag(model.vcov_params))\n",
    "            tstat = -np.abs(tstat[1])\n",
    "            critv = sps.t.ppf((1-sign_level)/2/2**(len(level)+1),df=self.n_obs-2)\n",
    "            if tstat>=critv:\n",
    "                self.__make_terminal_tree__()\n",
    "                return\n",
    "        self.left = rpart(x[x[:,var]<=self.split_value,:],y[x[:,var]<=self.split_value],max_level=max_level,level=level+'L')\n",
    "        self.right = rpart(x[x[:,var]>self.split_value,:],y[x[:,var]>self.split_value],max_level=max_level,level=level+'R')\n",
    "    def __make_terminal_tree__(self):\n",
    "        self.RSS = np.sum((self.y-self.y.mean())**2)\n",
    "        self.split_var = None\n",
    "        self.split_value = None\n",
    "        self.left = None\n",
    "        self.right = None\n",
    "    def __calc_RSS_and_split__(self,var):\n",
    "        vmin = var.min()\n",
    "        vmax = var.max()\n",
    "        width = (vmax-vmin)/50\n",
    "        outp = []\n",
    "        for split in np.linspace(vmin+width,vmax-width,48):\n",
    "            left = self.y[var<=split]\n",
    "            right = self.y[var>split]\n",
    "            rssleft = ((left-left.mean())**2).sum() if left.shape[0]>0 else 0\n",
    "            rssright = ((right-right.mean())**2).sum() if right.shape[0]>0 else 0\n",
    "            outp += [(rssleft+rssright,split)]\n",
    "        outp = np.array(outp)\n",
    "        return outp[outp[:,0].argmin(),:]\n",
    "    def __str__(self):\n",
    "        if self.left==None and self.right==None:\n",
    "            outp = '{0} RSS: {1}; Prediction: {2}\\n'.format(self.level,self.RSS,self.y.mean())\n",
    "        else:\n",
    "            outp = '{0} Variable: {1}; Split: {2}; RSS: {3}\\n'.format(self.level,self.split_var,self.split_value,self.RSS)\n",
    "            outp += str(self.left)\n",
    "            outp += str(self.right)\n",
    "        return outp\n",
    "    def predict(self,newx):\n",
    "        n = newx.shape[0]\n",
    "        if self.left==None and self.right==None:\n",
    "            return np.full(shape=(n,),fill_value=self.y.mean())\n",
    "        outp = np.zeros((n,))\n",
    "        outp[newx[:,self.split_var]<=self.split_value] = self.left.predict(newx[newx[:,self.split_var]<=self.split_value,:])\n",
    "        outp[newx[:,self.split_var]>self.split_value] = self.right.predict(newx[newx[:,self.split_var]>self.split_value,:])\n",
    "        return outp"
   ]
  },
  {
   "cell_type": "markdown",
   "metadata": {},
   "source": [
    "# Homework 3 Solutions"
   ]
  },
  {
   "cell_type": "code",
   "execution_count": null,
   "metadata": {
    "ExecuteTime": {
     "end_time": "2023-11-01T18:19:46.778953Z",
     "start_time": "2023-11-01T18:19:46.772265Z"
    },
    "pycharm": {
     "is_executing": true
    }
   },
   "outputs": [],
   "source": [
    "import numpy as np\n",
    "import pandas as pd\n",
    "import matplotlib.pyplot as plt\n",
    "from cleands import *\n",
    "from itertools import product\n",
    "\n",
    "nsim = 1000\n",
    "sigvec = [0.5,1,2]\n",
    "alphavec = [-0.5,0,0.5]\n",
    "rhovec = np.linspace(-0.75,0.75,7).tolist()\n",
    "nvec = np.linspace(10,100,10,dtype=int).tolist()\n",
    "bigvec = [sigvec,alphavec,rhovec,nvec]\n",
    "outp = np.zeros([nsim,*[len(item) for item in bigvec]])\n",
    "outps = np.zeros([nsim,*[len(item) for item in bigvec]])\n",
    "outpa = np.zeros([nsim,*[len(item) for item in bigvec]])\n",
    "outpr = np.zeros([nsim,*[len(item) for item in bigvec]])\n",
    "outpn = np.zeros([nsim,*[len(item) for item in bigvec]])"
   ]
  },
  {
   "cell_type": "code",
   "execution_count": null,
   "metadata": {
    "ExecuteTime": {
     "end_time": "2023-11-01T18:22:07.775339Z",
     "start_time": "2023-11-01T18:20:14.207635Z"
    },
    "pycharm": {
     "is_executing": true
    }
   },
   "outputs": [],
   "source": [
    "for (si,sig),(ai,alpha),(ri,rho),(ni,n) in product(*[enumerate(item) for item in bigvec]):\n",
    "    print(sig,alpha,rho,n)\n",
    "    for isim in range(nsim):\n",
    "        x = np.random.normal(size=(n+1+100,))*sig\n",
    "        x[0] += alpha\n",
    "        for i in range(1,n+1+100):\n",
    "            x[i] = alpha+rho*x[i-1]+x[i]\n",
    "        x = x[100:]\n",
    "        xmat = [np.ones((n,1)),x[:-1].reshape(-1,1)]\n",
    "        xmat = np.hstack(xmat)\n",
    "        ymat = x[1:]\n",
    "        b = np.linalg.solve(xmat.T@xmat,xmat.T@ymat)\n",
    "        outp[isim,si,ai,ri,ni] = b[1]\n",
    "        outps[isim,si,ai,ri,ni] = sig\n",
    "        outpa[isim,si,ai,ri,ni] = alpha\n",
    "        outpr[isim,si,ai,ri,ni] = rho\n",
    "        outpn[isim,si,ai,ri,ni] = n"
   ]
  },
  {
   "cell_type": "code",
   "execution_count": null,
   "metadata": {
    "ExecuteTime": {
     "end_time": "2023-11-01T18:24:22.689777Z",
     "start_time": "2023-11-01T18:24:22.683336Z"
    },
    "pycharm": {
     "is_executing": true
    }
   },
   "outputs": [],
   "source": [
    "bias = outp.mean(0)-outpr.mean(0)\n",
    "rho = outpr.mean(0)\n",
    "sig = outps.mean(0)\n",
    "alpha = outpa.mean(0)\n",
    "n = outpn.mean(0)"
   ]
  },
  {
   "cell_type": "code",
   "execution_count": null,
   "metadata": {
    "ExecuteTime": {
     "end_time": "2023-11-01T18:24:26.976760Z",
     "start_time": "2023-11-01T18:24:26.972910Z"
    },
    "pycharm": {
     "is_executing": true
    }
   },
   "outputs": [],
   "source": [
    "df = pd.DataFrame({'bias':bias.reshape(-1),'rho':rho.reshape(-1),'sig':sig.reshape(-1),'alpha':alpha.reshape(-1),'n':n.reshape(-1)})"
   ]
  },
  {
   "cell_type": "code",
   "execution_count": null,
   "metadata": {
    "ExecuteTime": {
     "end_time": "2023-11-01T18:24:38.684999Z",
     "start_time": "2023-11-01T18:24:38.676035Z"
    },
    "pycharm": {
     "is_executing": true
    }
   },
   "outputs": [],
   "source": [
    "df"
   ]
  },
  {
   "cell_type": "code",
   "execution_count": null,
   "metadata": {
    "ExecuteTime": {
     "end_time": "2023-11-01T18:29:39.583309Z",
     "start_time": "2023-11-01T18:29:39.442124Z"
    },
    "pycharm": {
     "is_executing": true
    }
   },
   "outputs": [],
   "source": [
    "plt.scatter(df['rho'],df['bias'],c=df['n']);"
   ]
  },
  {
   "cell_type": "code",
   "execution_count": null,
   "metadata": {
    "ExecuteTime": {
     "end_time": "2023-11-01T18:28:36.206461Z",
     "start_time": "2023-11-01T18:28:36.084414Z"
    },
    "pycharm": {
     "is_executing": true
    }
   },
   "outputs": [],
   "source": [
    "plt.scatter(df['alpha'],df['bias'],c=df['n']);"
   ]
  },
  {
   "cell_type": "code",
   "execution_count": null,
   "metadata": {
    "ExecuteTime": {
     "end_time": "2023-11-01T18:28:43.994024Z",
     "start_time": "2023-11-01T18:28:43.846942Z"
    },
    "pycharm": {
     "is_executing": true
    }
   },
   "outputs": [],
   "source": [
    "plt.scatter(df['sig'],df['bias'],c=df['n']);"
   ]
  },
  {
   "cell_type": "code",
   "execution_count": null,
   "metadata": {
    "ExecuteTime": {
     "end_time": "2023-11-01T18:29:53.758124Z",
     "start_time": "2023-11-01T18:29:53.622295Z"
    },
    "pycharm": {
     "is_executing": true
    }
   },
   "outputs": [],
   "source": [
    "plt.scatter(df['n'],df['bias'],c=df['rho']);"
   ]
  },
  {
   "cell_type": "code",
   "execution_count": null,
   "metadata": {
    "ExecuteTime": {
     "end_time": "2023-11-01T18:33:26.511695Z",
     "start_time": "2023-11-01T18:33:26.508228Z"
    },
    "pycharm": {
     "is_executing": true
    }
   },
   "outputs": [],
   "source": [
    "df['1/n'] = 1/df['n']\n",
    "df['rho/n'] = df['rho']/df['n']"
   ]
  },
  {
   "cell_type": "code",
   "execution_count": null,
   "metadata": {
    "ExecuteTime": {
     "end_time": "2023-11-01T18:32:46.477058Z",
     "start_time": "2023-11-01T18:32:46.462780Z"
    },
    "pycharm": {
     "is_executing": true
    }
   },
   "outputs": [],
   "source": [
    "model = LeastSquaresRegressor(*add_intercept(['rho','n'],'bias',df))\n",
    "model.glance"
   ]
  },
  {
   "cell_type": "code",
   "execution_count": null,
   "metadata": {
    "ExecuteTime": {
     "end_time": "2023-11-01T18:33:01.873951Z",
     "start_time": "2023-11-01T18:33:01.863827Z"
    },
    "pycharm": {
     "is_executing": true
    }
   },
   "outputs": [],
   "source": [
    "model = LeastSquaresRegressor(*add_intercept(['rho','1/n'],'bias',df))\n",
    "model.glance"
   ]
  },
  {
   "cell_type": "code",
   "execution_count": null,
   "metadata": {
    "ExecuteTime": {
     "end_time": "2023-11-01T18:34:43.179308Z",
     "start_time": "2023-11-01T18:34:43.166144Z"
    },
    "pycharm": {
     "is_executing": true
    }
   },
   "outputs": [],
   "source": [
    "model = LeastSquaresRegressor(*add_intercept(['rho','1/n','rho/n'],'bias',df))\n",
    "model.glance"
   ]
  },
  {
   "cell_type": "code",
   "execution_count": null,
   "metadata": {
    "ExecuteTime": {
     "end_time": "2023-11-01T18:34:43.463462Z",
     "start_time": "2023-11-01T18:34:43.454825Z"
    },
    "pycharm": {
     "is_executing": true
    }
   },
   "outputs": [],
   "source": [
    "model.tidy"
   ]
  },
  {
   "cell_type": "markdown",
   "metadata": {},
   "source": [
    "$$\\text{bias}\\left[\\hat\\rho\\right] = 0.00117+-0.00773\\rho+-1.112\\frac{1}{n}+-2.538\\frac{\\rho}{n}$$\n",
    "$$\\text{bias}\\left[\\hat\\rho\\right] = \\frac{-1.112}{n}+\\frac{-2.538\\rho}{n}$$\n",
    "$$\\text{bias}\\left[\\hat\\rho\\right] = -\\frac{1.112+2.538\\rho}{n}$$"
   ]
  },
  {
   "cell_type": "code",
   "execution_count": 5,
   "metadata": {},
   "outputs": [
    {
     "data": {
      "text/plain": [
       "array([[-1., -0., -0., -0.],\n",
       "       [-0., -1., -0., -0.],\n",
       "       [-0., -0., -1., -0.],\n",
       "       [-0., -0., -0., -1.]])"
      ]
     },
     "execution_count": 5,
     "metadata": {},
     "output_type": "execute_result"
    }
   ],
   "source": [
    "r = 2\n",
    "-np.eye(2*r)"
   ]
  },
  {
   "cell_type": "code",
   "execution_count": 6,
   "metadata": {},
   "outputs": [
    {
     "data": {
      "text/plain": [
       "array([[1., 1., 1., 1.]])"
      ]
     },
     "execution_count": 6,
     "metadata": {},
     "output_type": "execute_result"
    }
   ],
   "source": [
    "np.ones((1,2*r))"
   ]
  },
  {
   "cell_type": "code",
   "execution_count": 8,
   "metadata": {},
   "outputs": [],
   "source": [
    "G_1 = -np.eye(2*r)\n",
    "h_1 = np.zeros((2*r,1))\n",
    "G_2 = np.ones((1,2*r))\n",
    "h_2 = np.array([[10]])\n",
    "G = np.vstack((G_1,G_2))\n",
    "h = np.vstack((h_1,h_2))"
   ]
  },
  {
   "cell_type": "code",
   "execution_count": 9,
   "metadata": {},
   "outputs": [
    {
     "data": {
      "text/plain": [
       "array([[-1., -0., -0., -0.],\n",
       "       [-0., -1., -0., -0.],\n",
       "       [-0., -0., -1., -0.],\n",
       "       [-0., -0., -0., -1.]])"
      ]
     },
     "execution_count": 9,
     "metadata": {},
     "output_type": "execute_result"
    }
   ],
   "source": [
    "G_1"
   ]
  },
  {
   "cell_type": "code",
   "execution_count": 10,
   "metadata": {},
   "outputs": [
    {
     "data": {
      "text/plain": [
       "array([[1., 1., 1., 1.]])"
      ]
     },
     "execution_count": 10,
     "metadata": {},
     "output_type": "execute_result"
    }
   ],
   "source": [
    "G_2"
   ]
  },
  {
   "cell_type": "code",
   "execution_count": 11,
   "metadata": {},
   "outputs": [
    {
     "data": {
      "text/plain": [
       "array([[-1., -0., -0., -0.],\n",
       "       [-0., -1., -0., -0.],\n",
       "       [-0., -0., -1., -0.],\n",
       "       [-0., -0., -0., -1.],\n",
       "       [ 1.,  1.,  1.,  1.]])"
      ]
     },
     "execution_count": 11,
     "metadata": {},
     "output_type": "execute_result"
    }
   ],
   "source": [
    "G"
   ]
  },
  {
   "cell_type": "code",
   "execution_count": 12,
   "metadata": {},
   "outputs": [
    {
     "data": {
      "text/plain": [
       "array([[ 0.],\n",
       "       [ 0.],\n",
       "       [ 0.],\n",
       "       [ 0.],\n",
       "       [10.]])"
      ]
     },
     "execution_count": 12,
     "metadata": {},
     "output_type": "execute_result"
    }
   ],
   "source": [
    "h"
   ]
  },
  {
   "cell_type": "code",
   "execution_count": null,
   "metadata": {},
   "outputs": [],
   "source": []
  }
 ],
 "metadata": {
  "kernelspec": {
   "display_name": "Python 3",
   "language": "python",
   "name": "python3"
  },
  "language_info": {
   "codemirror_mode": {
    "name": "ipython",
    "version": 3
   },
   "file_extension": ".py",
   "mimetype": "text/x-python",
   "name": "python",
   "nbconvert_exporter": "python",
   "pygments_lexer": "ipython3",
   "version": "3.8.8"
  },
  "toc": {
   "base_numbering": 1,
   "nav_menu": {},
   "number_sections": true,
   "sideBar": true,
   "skip_h1_title": false,
   "title_cell": "Table of Contents",
   "title_sidebar": "Contents",
   "toc_cell": false,
   "toc_position": {},
   "toc_section_display": true,
   "toc_window_display": false
  },
  "varInspector": {
   "cols": {
    "lenName": 16,
    "lenType": 16,
    "lenVar": 40
   },
   "kernels_config": {
    "python": {
     "delete_cmd_postfix": "",
     "delete_cmd_prefix": "del ",
     "library": "var_list.py",
     "varRefreshCmd": "print(var_dic_list())"
    },
    "r": {
     "delete_cmd_postfix": ") ",
     "delete_cmd_prefix": "rm(",
     "library": "var_list.r",
     "varRefreshCmd": "cat(var_dic_list()) "
    }
   },
   "types_to_exclude": [
    "module",
    "function",
    "builtin_function_or_method",
    "instance",
    "_Feature"
   ],
   "window_display": false
  }
 },
 "nbformat": 4,
 "nbformat_minor": 2
}
