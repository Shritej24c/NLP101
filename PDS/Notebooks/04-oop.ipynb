{
 "cells": [
  {
   "cell_type": "markdown",
   "metadata": {},
   "source": [
    "<div style=\"text-align:center\"><span style=\"font-size:2em; font-weight: bold;\">Lecture 4—Object oriented programming</span></div>"
   ]
  },
  {
   "cell_type": "markdown",
   "metadata": {},
   "source": [
    "# Programming: Pandas\n",
    "\n",
    "* [Introduction to Pandas](lec4files/03.00-Introduction-to-Pandas.ipynb)\n",
    "* [Introducing Pandas Objects](lec4files/03.01-Introducing-Pandas-Objects.ipynb)\n",
    "* [Data Indexing and Selection](lec4files/03.02-Data-Indexing-and-Selection.ipynb)\n",
    "* [Missing Values](lec4files/03.04-Missing-Values.ipynb)\n",
    "* [Concat And Append](lec4files/03.06-Concat-And-Append.ipynb)\n",
    "* [Merge and Join](lec4files/03.07-Merge-and-Join.ipynb)\n",
    "* [Aggregation and Grouping](lec4files/03.08-Aggregation-and-Grouping.ipynb)\n",
    "* [Working With Strings](lec4files/03.10-Working-With-Strings.ipynb)\n",
    "* [Working with Time Series](lec4files/03.11-Working-with-Time-Series.ipynb)\n",
    "* [Performance Eval and Query](lec4files/03.12-Performance-Eval-and-Query.ipynb)\n",
    "* [Further Resources](lec4files/03.13-Further-Resources.ipynb)\n"
   ]
  },
  {
   "cell_type": "markdown",
   "metadata": {},
   "source": [
    "## Examples"
   ]
  },
  {
   "cell_type": "code",
   "execution_count": 1,
   "metadata": {
    "ExecuteTime": {
     "end_time": "2023-02-24T22:44:38.501659Z",
     "start_time": "2023-02-24T22:44:37.979283Z"
    }
   },
   "outputs": [],
   "source": [
    "import numpy as np\n",
    "import pandas as pd"
   ]
  },
  {
   "cell_type": "code",
   "execution_count": 2,
   "metadata": {
    "ExecuteTime": {
     "end_time": "2023-02-24T22:44:38.533546Z",
     "start_time": "2023-02-24T22:44:38.502718Z"
    }
   },
   "outputs": [
    {
     "ename": "FileNotFoundError",
     "evalue": "[Errno 2] No such file or directory: 'BWGHT.csv'",
     "output_type": "error",
     "traceback": [
      "\u001b[0;31m---------------------------------------------------------------------------\u001b[0m",
      "\u001b[0;31mFileNotFoundError\u001b[0m                         Traceback (most recent call last)",
      "\u001b[0;32m<ipython-input-2-f6acd7e30280>\u001b[0m in \u001b[0;36m<module>\u001b[0;34m\u001b[0m\n\u001b[0;32m----> 1\u001b[0;31m \u001b[0mpd\u001b[0m\u001b[0;34m.\u001b[0m\u001b[0mread_csv\u001b[0m\u001b[0;34m(\u001b[0m\u001b[0;34m'BWGHT.csv'\u001b[0m\u001b[0;34m)\u001b[0m\u001b[0;34m\u001b[0m\u001b[0;34m\u001b[0m\u001b[0m\n\u001b[0m\u001b[1;32m      2\u001b[0m \u001b[0;34m\u001b[0m\u001b[0m\n",
      "\u001b[0;32m/Applications/anaconda3/lib/python3.8/site-packages/pandas/io/parsers.py\u001b[0m in \u001b[0;36mread_csv\u001b[0;34m(filepath_or_buffer, sep, delimiter, header, names, index_col, usecols, squeeze, prefix, mangle_dupe_cols, dtype, engine, converters, true_values, false_values, skipinitialspace, skiprows, skipfooter, nrows, na_values, keep_default_na, na_filter, verbose, skip_blank_lines, parse_dates, infer_datetime_format, keep_date_col, date_parser, dayfirst, cache_dates, iterator, chunksize, compression, thousands, decimal, lineterminator, quotechar, quoting, doublequote, escapechar, comment, encoding, dialect, error_bad_lines, warn_bad_lines, delim_whitespace, low_memory, memory_map, float_precision, storage_options)\u001b[0m\n\u001b[1;32m    608\u001b[0m     \u001b[0mkwds\u001b[0m\u001b[0;34m.\u001b[0m\u001b[0mupdate\u001b[0m\u001b[0;34m(\u001b[0m\u001b[0mkwds_defaults\u001b[0m\u001b[0;34m)\u001b[0m\u001b[0;34m\u001b[0m\u001b[0;34m\u001b[0m\u001b[0m\n\u001b[1;32m    609\u001b[0m \u001b[0;34m\u001b[0m\u001b[0m\n\u001b[0;32m--> 610\u001b[0;31m     \u001b[0;32mreturn\u001b[0m \u001b[0m_read\u001b[0m\u001b[0;34m(\u001b[0m\u001b[0mfilepath_or_buffer\u001b[0m\u001b[0;34m,\u001b[0m \u001b[0mkwds\u001b[0m\u001b[0;34m)\u001b[0m\u001b[0;34m\u001b[0m\u001b[0;34m\u001b[0m\u001b[0m\n\u001b[0m\u001b[1;32m    611\u001b[0m \u001b[0;34m\u001b[0m\u001b[0m\n\u001b[1;32m    612\u001b[0m \u001b[0;34m\u001b[0m\u001b[0m\n",
      "\u001b[0;32m/Applications/anaconda3/lib/python3.8/site-packages/pandas/io/parsers.py\u001b[0m in \u001b[0;36m_read\u001b[0;34m(filepath_or_buffer, kwds)\u001b[0m\n\u001b[1;32m    460\u001b[0m \u001b[0;34m\u001b[0m\u001b[0m\n\u001b[1;32m    461\u001b[0m     \u001b[0;31m# Create the parser.\u001b[0m\u001b[0;34m\u001b[0m\u001b[0;34m\u001b[0m\u001b[0;34m\u001b[0m\u001b[0m\n\u001b[0;32m--> 462\u001b[0;31m     \u001b[0mparser\u001b[0m \u001b[0;34m=\u001b[0m \u001b[0mTextFileReader\u001b[0m\u001b[0;34m(\u001b[0m\u001b[0mfilepath_or_buffer\u001b[0m\u001b[0;34m,\u001b[0m \u001b[0;34m**\u001b[0m\u001b[0mkwds\u001b[0m\u001b[0;34m)\u001b[0m\u001b[0;34m\u001b[0m\u001b[0;34m\u001b[0m\u001b[0m\n\u001b[0m\u001b[1;32m    463\u001b[0m \u001b[0;34m\u001b[0m\u001b[0m\n\u001b[1;32m    464\u001b[0m     \u001b[0;32mif\u001b[0m \u001b[0mchunksize\u001b[0m \u001b[0;32mor\u001b[0m \u001b[0miterator\u001b[0m\u001b[0;34m:\u001b[0m\u001b[0;34m\u001b[0m\u001b[0;34m\u001b[0m\u001b[0m\n",
      "\u001b[0;32m/Applications/anaconda3/lib/python3.8/site-packages/pandas/io/parsers.py\u001b[0m in \u001b[0;36m__init__\u001b[0;34m(self, f, engine, **kwds)\u001b[0m\n\u001b[1;32m    817\u001b[0m             \u001b[0mself\u001b[0m\u001b[0;34m.\u001b[0m\u001b[0moptions\u001b[0m\u001b[0;34m[\u001b[0m\u001b[0;34m\"has_index_names\"\u001b[0m\u001b[0;34m]\u001b[0m \u001b[0;34m=\u001b[0m \u001b[0mkwds\u001b[0m\u001b[0;34m[\u001b[0m\u001b[0;34m\"has_index_names\"\u001b[0m\u001b[0;34m]\u001b[0m\u001b[0;34m\u001b[0m\u001b[0;34m\u001b[0m\u001b[0m\n\u001b[1;32m    818\u001b[0m \u001b[0;34m\u001b[0m\u001b[0m\n\u001b[0;32m--> 819\u001b[0;31m         \u001b[0mself\u001b[0m\u001b[0;34m.\u001b[0m\u001b[0m_engine\u001b[0m \u001b[0;34m=\u001b[0m \u001b[0mself\u001b[0m\u001b[0;34m.\u001b[0m\u001b[0m_make_engine\u001b[0m\u001b[0;34m(\u001b[0m\u001b[0mself\u001b[0m\u001b[0;34m.\u001b[0m\u001b[0mengine\u001b[0m\u001b[0;34m)\u001b[0m\u001b[0;34m\u001b[0m\u001b[0;34m\u001b[0m\u001b[0m\n\u001b[0m\u001b[1;32m    820\u001b[0m \u001b[0;34m\u001b[0m\u001b[0m\n\u001b[1;32m    821\u001b[0m     \u001b[0;32mdef\u001b[0m \u001b[0mclose\u001b[0m\u001b[0;34m(\u001b[0m\u001b[0mself\u001b[0m\u001b[0;34m)\u001b[0m\u001b[0;34m:\u001b[0m\u001b[0;34m\u001b[0m\u001b[0;34m\u001b[0m\u001b[0m\n",
      "\u001b[0;32m/Applications/anaconda3/lib/python3.8/site-packages/pandas/io/parsers.py\u001b[0m in \u001b[0;36m_make_engine\u001b[0;34m(self, engine)\u001b[0m\n\u001b[1;32m   1048\u001b[0m             )\n\u001b[1;32m   1049\u001b[0m         \u001b[0;31m# error: Too many arguments for \"ParserBase\"\u001b[0m\u001b[0;34m\u001b[0m\u001b[0;34m\u001b[0m\u001b[0;34m\u001b[0m\u001b[0m\n\u001b[0;32m-> 1050\u001b[0;31m         \u001b[0;32mreturn\u001b[0m \u001b[0mmapping\u001b[0m\u001b[0;34m[\u001b[0m\u001b[0mengine\u001b[0m\u001b[0;34m]\u001b[0m\u001b[0;34m(\u001b[0m\u001b[0mself\u001b[0m\u001b[0;34m.\u001b[0m\u001b[0mf\u001b[0m\u001b[0;34m,\u001b[0m \u001b[0;34m**\u001b[0m\u001b[0mself\u001b[0m\u001b[0;34m.\u001b[0m\u001b[0moptions\u001b[0m\u001b[0;34m)\u001b[0m  \u001b[0;31m# type: ignore[call-arg]\u001b[0m\u001b[0;34m\u001b[0m\u001b[0;34m\u001b[0m\u001b[0m\n\u001b[0m\u001b[1;32m   1051\u001b[0m \u001b[0;34m\u001b[0m\u001b[0m\n\u001b[1;32m   1052\u001b[0m     \u001b[0;32mdef\u001b[0m \u001b[0m_failover_to_python\u001b[0m\u001b[0;34m(\u001b[0m\u001b[0mself\u001b[0m\u001b[0;34m)\u001b[0m\u001b[0;34m:\u001b[0m\u001b[0;34m\u001b[0m\u001b[0;34m\u001b[0m\u001b[0m\n",
      "\u001b[0;32m/Applications/anaconda3/lib/python3.8/site-packages/pandas/io/parsers.py\u001b[0m in \u001b[0;36m__init__\u001b[0;34m(self, src, **kwds)\u001b[0m\n\u001b[1;32m   1865\u001b[0m \u001b[0;34m\u001b[0m\u001b[0m\n\u001b[1;32m   1866\u001b[0m         \u001b[0;31m# open handles\u001b[0m\u001b[0;34m\u001b[0m\u001b[0;34m\u001b[0m\u001b[0;34m\u001b[0m\u001b[0m\n\u001b[0;32m-> 1867\u001b[0;31m         \u001b[0mself\u001b[0m\u001b[0;34m.\u001b[0m\u001b[0m_open_handles\u001b[0m\u001b[0;34m(\u001b[0m\u001b[0msrc\u001b[0m\u001b[0;34m,\u001b[0m \u001b[0mkwds\u001b[0m\u001b[0;34m)\u001b[0m\u001b[0;34m\u001b[0m\u001b[0;34m\u001b[0m\u001b[0m\n\u001b[0m\u001b[1;32m   1868\u001b[0m         \u001b[0;32massert\u001b[0m \u001b[0mself\u001b[0m\u001b[0;34m.\u001b[0m\u001b[0mhandles\u001b[0m \u001b[0;32mis\u001b[0m \u001b[0;32mnot\u001b[0m \u001b[0;32mNone\u001b[0m\u001b[0;34m\u001b[0m\u001b[0;34m\u001b[0m\u001b[0m\n\u001b[1;32m   1869\u001b[0m         \u001b[0;32mfor\u001b[0m \u001b[0mkey\u001b[0m \u001b[0;32min\u001b[0m \u001b[0;34m(\u001b[0m\u001b[0;34m\"storage_options\"\u001b[0m\u001b[0;34m,\u001b[0m \u001b[0;34m\"encoding\"\u001b[0m\u001b[0;34m,\u001b[0m \u001b[0;34m\"memory_map\"\u001b[0m\u001b[0;34m,\u001b[0m \u001b[0;34m\"compression\"\u001b[0m\u001b[0;34m)\u001b[0m\u001b[0;34m:\u001b[0m\u001b[0;34m\u001b[0m\u001b[0;34m\u001b[0m\u001b[0m\n",
      "\u001b[0;32m/Applications/anaconda3/lib/python3.8/site-packages/pandas/io/parsers.py\u001b[0m in \u001b[0;36m_open_handles\u001b[0;34m(self, src, kwds)\u001b[0m\n\u001b[1;32m   1360\u001b[0m         \u001b[0mLet\u001b[0m \u001b[0mthe\u001b[0m \u001b[0mreaders\u001b[0m \u001b[0mopen\u001b[0m \u001b[0mIOHanldes\u001b[0m \u001b[0mafter\u001b[0m \u001b[0mthey\u001b[0m \u001b[0mare\u001b[0m \u001b[0mdone\u001b[0m \u001b[0;32mwith\u001b[0m \u001b[0mtheir\u001b[0m \u001b[0mpotential\u001b[0m \u001b[0mraises\u001b[0m\u001b[0;34m.\u001b[0m\u001b[0;34m\u001b[0m\u001b[0;34m\u001b[0m\u001b[0m\n\u001b[1;32m   1361\u001b[0m         \"\"\"\n\u001b[0;32m-> 1362\u001b[0;31m         self.handles = get_handle(\n\u001b[0m\u001b[1;32m   1363\u001b[0m             \u001b[0msrc\u001b[0m\u001b[0;34m,\u001b[0m\u001b[0;34m\u001b[0m\u001b[0;34m\u001b[0m\u001b[0m\n\u001b[1;32m   1364\u001b[0m             \u001b[0;34m\"r\"\u001b[0m\u001b[0;34m,\u001b[0m\u001b[0;34m\u001b[0m\u001b[0;34m\u001b[0m\u001b[0m\n",
      "\u001b[0;32m/Applications/anaconda3/lib/python3.8/site-packages/pandas/io/common.py\u001b[0m in \u001b[0;36mget_handle\u001b[0;34m(path_or_buf, mode, encoding, compression, memory_map, is_text, errors, storage_options)\u001b[0m\n\u001b[1;32m    640\u001b[0m                 \u001b[0merrors\u001b[0m \u001b[0;34m=\u001b[0m \u001b[0;34m\"replace\"\u001b[0m\u001b[0;34m\u001b[0m\u001b[0;34m\u001b[0m\u001b[0m\n\u001b[1;32m    641\u001b[0m             \u001b[0;31m# Encoding\u001b[0m\u001b[0;34m\u001b[0m\u001b[0;34m\u001b[0m\u001b[0;34m\u001b[0m\u001b[0m\n\u001b[0;32m--> 642\u001b[0;31m             handle = open(\n\u001b[0m\u001b[1;32m    643\u001b[0m                 \u001b[0mhandle\u001b[0m\u001b[0;34m,\u001b[0m\u001b[0;34m\u001b[0m\u001b[0;34m\u001b[0m\u001b[0m\n\u001b[1;32m    644\u001b[0m                 \u001b[0mioargs\u001b[0m\u001b[0;34m.\u001b[0m\u001b[0mmode\u001b[0m\u001b[0;34m,\u001b[0m\u001b[0;34m\u001b[0m\u001b[0;34m\u001b[0m\u001b[0m\n",
      "\u001b[0;31mFileNotFoundError\u001b[0m: [Errno 2] No such file or directory: 'BWGHT.csv'"
     ]
    }
   ],
   "source": [
    "pd.read_csv('BWGHT.csv')"
   ]
  },
  {
   "cell_type": "code",
   "execution_count": null,
   "metadata": {
    "ExecuteTime": {
     "end_time": "2023-02-24T22:44:39.230341Z",
     "start_time": "2023-02-24T22:44:39.217915Z"
    }
   },
   "outputs": [],
   "source": [
    "df = pd.read_csv('BWGHT.csv')"
   ]
  },
  {
   "cell_type": "code",
   "execution_count": null,
   "metadata": {
    "ExecuteTime": {
     "end_time": "2023-02-17T22:29:55.357110Z",
     "start_time": "2023-02-17T22:29:55.328438Z"
    }
   },
   "outputs": [],
   "source": [
    "df.describe()"
   ]
  },
  {
   "cell_type": "code",
   "execution_count": null,
   "metadata": {
    "ExecuteTime": {
     "end_time": "2023-02-17T22:31:28.805957Z",
     "start_time": "2023-02-17T22:31:28.782026Z"
    }
   },
   "outputs": [],
   "source": [
    "df.head()"
   ]
  },
  {
   "cell_type": "code",
   "execution_count": null,
   "metadata": {
    "ExecuteTime": {
     "end_time": "2023-02-17T22:31:29.411342Z",
     "start_time": "2023-02-17T22:31:29.389503Z"
    }
   },
   "outputs": [],
   "source": [
    "df.tail()"
   ]
  },
  {
   "cell_type": "code",
   "execution_count": null,
   "metadata": {
    "ExecuteTime": {
     "end_time": "2023-02-14T22:40:45.556061Z",
     "start_time": "2023-02-14T22:40:45.544246Z"
    }
   },
   "outputs": [],
   "source": [
    "df['bwght']"
   ]
  },
  {
   "cell_type": "code",
   "execution_count": null,
   "metadata": {
    "ExecuteTime": {
     "end_time": "2023-02-17T22:33:38.003574Z",
     "start_time": "2023-02-17T22:33:37.705555Z"
    }
   },
   "outputs": [],
   "source": [
    "mydict = {'a':1,'b':2,'c':3}\n",
    "mydict[['a','b']]"
   ]
  },
  {
   "cell_type": "code",
   "execution_count": null,
   "metadata": {
    "ExecuteTime": {
     "end_time": "2023-02-17T22:33:58.954240Z",
     "start_time": "2023-02-17T22:33:58.932606Z"
    }
   },
   "outputs": [],
   "source": [
    "df[['cigs','faminc']]"
   ]
  },
  {
   "cell_type": "code",
   "execution_count": null,
   "metadata": {
    "ExecuteTime": {
     "end_time": "2022-09-15T00:57:06.694377Z",
     "start_time": "2022-09-15T00:57:06.679375Z"
    }
   },
   "outputs": [],
   "source": [
    "df.iloc[0:5,2:6]"
   ]
  },
  {
   "cell_type": "code",
   "execution_count": null,
   "metadata": {
    "ExecuteTime": {
     "end_time": "2023-02-16T22:31:38.776924Z",
     "start_time": "2023-02-16T22:31:38.760137Z"
    }
   },
   "outputs": [],
   "source": [
    "x = df[['cigs','faminc']]\n",
    "y = df['bwght']\n",
    "pd.concat([y,x],axis=1)"
   ]
  },
  {
   "cell_type": "code",
   "execution_count": null,
   "metadata": {
    "ExecuteTime": {
     "end_time": "2022-09-15T01:00:01.636956Z",
     "start_time": "2022-09-15T01:00:01.610881Z"
    }
   },
   "outputs": [],
   "source": [
    "df.groupby(['white']).mean()"
   ]
  },
  {
   "cell_type": "code",
   "execution_count": null,
   "metadata": {
    "ExecuteTime": {
     "end_time": "2023-02-14T22:45:32.411347Z",
     "start_time": "2023-02-14T22:45:32.391522Z"
    }
   },
   "outputs": [],
   "source": [
    "df.groupby(['parity','male']).median()"
   ]
  },
  {
   "cell_type": "code",
   "execution_count": null,
   "metadata": {
    "ExecuteTime": {
     "end_time": "2023-02-16T22:34:14.124164Z",
     "start_time": "2023-02-16T22:34:14.104770Z"
    }
   },
   "outputs": [],
   "source": [
    "df['intercept'] = 1\n",
    "x = df[['intercept','cigs','faminc']]\n",
    "y = df['bwght']\n",
    "np.linalg.solve(x.T@x,x.T@y)"
   ]
  },
  {
   "cell_type": "markdown",
   "metadata": {},
   "source": [
    "# Topic: Object-oriented programming\t\n",
    "\n",
    "## Benefits\n",
    "\n",
    "**Instantiation**\n",
    "\n",
    "Being able to make instances of something. Suppose you have a new data structure. You want to define the structure and make instances given particular data sets. This can be accomplished with classes. You make a general class, then when faced with a data set, you make a new instance. This ties into the second benefit of object-orientation which is encapsulation\n",
    "\n",
    "**Encapsulation**\n",
    "\n",
    "Being able to combine multiple data points into a single object which will always have the same naming conventions. This allows us to define custom functions which work on a class and which all the instances of that class will have access to. For instance, in pandas, all data sets which would normally just be numpy matrices have dedicated column names attached to them. This allows us to query for the column names and guarantees that something will be there for every data set. \n",
    "\n",
    "**Inheritance**\n",
    "\n",
    "Suppose you wanted to make a panel data frame. This means that you need to create a bunch of panel functions and features, but if you didn't have inheritance, you would have to build this completely from scratch rewriting much of the pandas DataFrame code. With inheritance, you can simply extend the DataFrame class and start writing the new features and functions.\n",
    "\n",
    "## Example"
   ]
  },
  {
   "cell_type": "code",
   "execution_count": null,
   "metadata": {
    "ExecuteTime": {
     "end_time": "2023-02-17T22:52:49.160343Z",
     "start_time": "2023-02-17T22:52:49.156356Z"
    }
   },
   "outputs": [],
   "source": [
    "class A:\n",
    "    def __init__(self,name):\n",
    "        self.name = name\n",
    "    def print_name(self):\n",
    "        print('A object\\'s name is: {0}'.format(self.name))"
   ]
  },
  {
   "cell_type": "code",
   "execution_count": null,
   "metadata": {
    "ExecuteTime": {
     "end_time": "2023-02-17T22:52:53.743270Z",
     "start_time": "2023-02-17T22:52:53.731646Z"
    }
   },
   "outputs": [],
   "source": [
    "A('Jason')"
   ]
  },
  {
   "cell_type": "code",
   "execution_count": null,
   "metadata": {
    "ExecuteTime": {
     "end_time": "2023-02-17T22:53:07.877975Z",
     "start_time": "2023-02-17T22:53:07.865930Z"
    }
   },
   "outputs": [],
   "source": [
    "jp = A('Jason')\n",
    "jp.name"
   ]
  },
  {
   "cell_type": "code",
   "execution_count": null,
   "metadata": {
    "ExecuteTime": {
     "end_time": "2023-02-17T22:53:10.242754Z",
     "start_time": "2023-02-17T22:53:10.234587Z"
    }
   },
   "outputs": [],
   "source": [
    "jp"
   ]
  },
  {
   "cell_type": "code",
   "execution_count": null,
   "metadata": {
    "ExecuteTime": {
     "end_time": "2023-02-17T22:53:14.031571Z",
     "start_time": "2023-02-17T22:53:14.019048Z"
    }
   },
   "outputs": [],
   "source": [
    "jp.print_name()"
   ]
  },
  {
   "cell_type": "code",
   "execution_count": null,
   "metadata": {
    "ExecuteTime": {
     "end_time": "2023-02-17T22:53:57.048985Z",
     "start_time": "2023-02-17T22:53:57.040496Z"
    }
   },
   "outputs": [],
   "source": [
    "miles = A('Miles')\n",
    "miles.print_name()"
   ]
  },
  {
   "cell_type": "code",
   "execution_count": null,
   "metadata": {
    "ExecuteTime": {
     "end_time": "2023-02-17T22:57:48.840623Z",
     "start_time": "2023-02-17T22:57:48.836636Z"
    }
   },
   "outputs": [],
   "source": [
    "class B(A):\n",
    "    def __init__(self,name,job):\n",
    "        super(B,self).__init__(name)\n",
    "        #self.name = name\n",
    "        self.job = job\n",
    "    def print_name_and_job(self):\n",
    "        print('{0}\\'s job is: {1}'.format(self.name,self.job))"
   ]
  },
  {
   "cell_type": "code",
   "execution_count": null,
   "metadata": {
    "ExecuteTime": {
     "end_time": "2023-02-17T22:57:58.098898Z",
     "start_time": "2023-02-17T22:57:58.092912Z"
    }
   },
   "outputs": [],
   "source": [
    "jp = B('jason','teacher')\n",
    "jp.print_name_and_job()"
   ]
  },
  {
   "cell_type": "code",
   "execution_count": null,
   "metadata": {
    "ExecuteTime": {
     "end_time": "2023-02-17T22:58:02.418305Z",
     "start_time": "2023-02-17T22:58:02.403276Z"
    }
   },
   "outputs": [],
   "source": [
    "jp.name"
   ]
  },
  {
   "cell_type": "code",
   "execution_count": null,
   "metadata": {
    "ExecuteTime": {
     "end_time": "2023-02-17T22:58:04.706273Z",
     "start_time": "2023-02-17T22:58:04.696282Z"
    }
   },
   "outputs": [],
   "source": [
    "jp.job"
   ]
  },
  {
   "cell_type": "code",
   "execution_count": null,
   "metadata": {
    "ExecuteTime": {
     "end_time": "2023-02-17T22:58:07.979390Z",
     "start_time": "2023-02-17T22:58:07.966400Z"
    }
   },
   "outputs": [],
   "source": [
    "jp.print_name()"
   ]
  },
  {
   "cell_type": "code",
   "execution_count": null,
   "metadata": {
    "ExecuteTime": {
     "end_time": "2023-02-17T22:58:31.109140Z",
     "start_time": "2023-02-17T22:58:31.093056Z"
    }
   },
   "outputs": [],
   "source": [
    "mc = B('miles','actor')\n",
    "mc.name"
   ]
  },
  {
   "cell_type": "code",
   "execution_count": null,
   "metadata": {
    "ExecuteTime": {
     "end_time": "2023-02-17T22:58:35.818177Z",
     "start_time": "2023-02-17T22:58:35.799599Z"
    }
   },
   "outputs": [],
   "source": [
    "mc.job"
   ]
  },
  {
   "cell_type": "code",
   "execution_count": null,
   "metadata": {
    "ExecuteTime": {
     "end_time": "2023-02-17T22:58:44.460144Z",
     "start_time": "2023-02-17T22:58:44.454165Z"
    }
   },
   "outputs": [],
   "source": [
    "mc.print_name()"
   ]
  },
  {
   "cell_type": "code",
   "execution_count": null,
   "metadata": {
    "ExecuteTime": {
     "end_time": "2023-02-17T22:58:52.427153Z",
     "start_time": "2023-02-17T22:58:52.414541Z"
    }
   },
   "outputs": [],
   "source": [
    "mc.print_name_and_job()"
   ]
  },
  {
   "cell_type": "markdown",
   "metadata": {},
   "source": [
    "# Data Science: Linear model\t\n",
    "Our first goal is to understand the variance of $\\hat\\beta$. To do this, we will combine the formula for $\\hat\\beta$ with the linear modeling equation, $y=\\mathbf X\\beta+e$:\n",
    "$$\\begin{align}\n",
    "\\hat\\beta&=\\left(\\mathbf X'\\mathbf X\\right)^{-1}\\mathbf X'y\\\\\n",
    "&=\\left(\\mathbf X'\\mathbf X\\right)^{-1}\\mathbf X'\\mathbf X\\beta+\\left(\\mathbf X'\\mathbf X\\right)^{-1}\\mathbf X'e\\\\\n",
    "&=\\beta+\\left(\\mathbf X'\\mathbf X\\right)^{-1}\\mathbf X'e\\\\\n",
    "\\hat\\beta-\\beta&=\\left(\\mathbf X'\\mathbf X\\right)^{-1}\\mathbf X'e\n",
    "\\end{align}$$\n",
    "Then we can define the variance:\n",
    "$$\\text{Var}(\\hat\\beta\\vert\\mathbf X)=\\text{E}\\left[\\left(\\hat\\beta-\\beta\\right)\\left(\\hat\\beta-\\beta\\right)'\\vert\\mathbf X\\right]$$\n",
    "This is true so long as $\\text{E}(\\hat\\beta)=\\beta$. I.e., when there is no endogeneity. Notice how our derived equation fits neatly into this definition. \n",
    "$$\\text{Var}(\\hat\\beta\\vert\\mathbf X)=\\left(\\mathbf X'\\mathbf X\\right)^{-1}\\mathbf X'\\text{E}\\left[ee'\\vert\\mathbf X\\right]\\mathbf X\\left(\\mathbf X'\\mathbf X\\right)^{-1}$$\n",
    "So we have our general formula for the variance. The OLS assumptions (no heteroskedasticity, no autocorrelation) imply in matrix form that $\\text{E}\\left[ee'\\vert\\mathbf X\\right]=\\sigma^2\\mathbf I_n$. Now we can simply our variance as follows:\n",
    "$$\\begin{align}\n",
    "\\text{Var}(\\hat\\beta\\vert\\mathbf X)&=\\sigma^2\\left(\\mathbf X'\\mathbf X\\right)^{-1}\\mathbf X'\\mathbf I_n\\mathbf X\\left(\\mathbf X'\\mathbf X\\right)^{-1}\\\\\n",
    " &=\\sigma^2\\left(\\mathbf X'\\mathbf X\\right)^{-1}\\mathbf X'\\mathbf X\\left(\\mathbf X'\\mathbf X\\right)^{-1}\\\\\n",
    " &=\\sigma^2\\left(\\mathbf X'\\mathbf X\\right)^{-1}\n",
    "\\end{align}$$\n",
    "So we can define the OLS variance estimator:\n",
    "$$\\hat{\\text{Var}}(\\hat\\beta)_{\\text{OLS}}=s^2\\left(\\mathbf X'\\mathbf X\\right)^{-1}$$\n",
    "where $s^2=(n-r)^{-1}\\sum_{i=1}^n\\hat e_i^2$\n",
    "If we want to only assume no autocorrelation then $\\text{E}\\left[ee'\\vert\\mathbf X\\right]=\\text{diag}\\left( \\sigma_i^2\\right)$ and the variance becomes:\n",
    "$$\\hat{\\text{Var}}(\\hat\\beta)_{\\text{White}}=\\left(\\mathbf X'\\mathbf X\\right)^{-1}\\mathbf X' \\text{diag}\\left(\\hat{e}^2\\right)\\mathbf X\\left(\\mathbf X'\\mathbf X\\right)^{-1}$$\n",
    "t-statistics can be defined by:\n",
    "$$t_{\\hat\\beta}=\\hat\\beta\\circ\\text{diag}\\left(\\sqrt{\\hat{\\text{Var}}(\\hat\\beta)^{-1}}\\right)$$\n",
    "and p-values can similarly be defined:\n",
    "$$p_{\\hat\\beta}=2\\Phi(-\\vert t_{\\hat\\beta}\\vert)$$"
   ]
  },
  {
   "cell_type": "code",
   "execution_count": null,
   "metadata": {
    "ExecuteTime": {
     "end_time": "2023-02-17T23:05:23.856752Z",
     "start_time": "2023-02-17T23:05:23.848712Z"
    }
   },
   "outputs": [],
   "source": [
    "df['(intercept)'] = 1\n",
    "x = df[['(intercept)','cigs','faminc']]\n",
    "y = df['bwght']\n",
    "b = np.linalg.solve(x.T@x,x.T@y)\n",
    "e = y-x@b\n",
    "vb = e.var()*np.linalg.inv(x.T@x)\n",
    "se = np.sqrt(np.diagonal(vb))\n",
    "tstat = b/se\n",
    "tstat"
   ]
  },
  {
   "cell_type": "code",
   "execution_count": null,
   "metadata": {
    "ExecuteTime": {
     "end_time": "2023-02-17T23:11:00.930390Z",
     "start_time": "2023-02-17T23:11:00.474418Z"
    },
    "code_folding": []
   },
   "outputs": [],
   "source": [
    "import scipy.stats as sps\n",
    "\n",
    "class linear_model:\n",
    "    def __init__(self,x,y):\n",
    "        self.x = x\n",
    "        self.y = y\n",
    "        self.b = np.linalg.solve(x.T@x,x.T@y)\n",
    "        e = y-x@self.b\n",
    "        self.vb = self.vcov_b(e)\n",
    "        self.se = np.sqrt(np.diagonal(self.vb))\n",
    "        self.t = self.b/self.se\n",
    "        self.p = 2*sps.norm.cdf(-np.abs(self.t))\n",
    "        self.rsq = 1-e.var()/y.var()\n",
    "    def vcov_b(self,e):\n",
    "        x = self.x\n",
    "        return e.var()*np.linalg.inv(x.T@x)\n",
    "class white(linear_model):\n",
    "    def vcov_b(self,e):\n",
    "        x = self.x\n",
    "        meat = np.diagflat(e.values**2)\n",
    "        bread = np.linalg.solve(x.T@x,x.T)\n",
    "        sandwich = bread@meat@bread.T\n",
    "        return sandwich\n",
    "class newey(linear_model):\n",
    "    def vcov_b(self,e):\n",
    "        x = self.x\n",
    "        sig2 = (e**2).mean()\n",
    "        sig_1 = (e[1:]*e[:-1]).mean()\n",
    "        meat = ??\n",
    "        bread = np.linalg.solve(x.T@x,x.T)\n",
    "        sandwich = bread@meat@bread.T\n",
    "        return sandwich"
   ]
  },
  {
   "cell_type": "code",
   "execution_count": null,
   "metadata": {},
   "outputs": [],
   "source": []
  },
  {
   "cell_type": "code",
   "execution_count": null,
   "metadata": {
    "ExecuteTime": {
     "end_time": "2023-02-17T23:11:03.373593Z",
     "start_time": "2023-02-17T23:11:03.353726Z"
    }
   },
   "outputs": [],
   "source": [
    "df['(intercept)'] = 1\n",
    "x = df[['(intercept)','cigs','faminc']]\n",
    "y = df['bwght']\n",
    "linear_model(x,y).p"
   ]
  },
  {
   "cell_type": "code",
   "execution_count": null,
   "metadata": {
    "ExecuteTime": {
     "end_time": "2023-02-17T23:11:07.714491Z",
     "start_time": "2023-02-17T23:11:07.690635Z"
    }
   },
   "outputs": [],
   "source": [
    "white(x,y).p"
   ]
  },
  {
   "cell_type": "code",
   "execution_count": null,
   "metadata": {
    "ExecuteTime": {
     "end_time": "2023-02-17T23:11:23.948051Z",
     "start_time": "2023-02-17T23:11:23.940218Z"
    }
   },
   "outputs": [],
   "source": [
    "linear_model(x,y).rsq"
   ]
  },
  {
   "cell_type": "code",
   "execution_count": null,
   "metadata": {
    "ExecuteTime": {
     "end_time": "2023-02-17T23:11:32.645795Z",
     "start_time": "2023-02-17T23:11:32.623708Z"
    }
   },
   "outputs": [],
   "source": [
    "white(x,y).rsq"
   ]
  },
  {
   "cell_type": "markdown",
   "metadata": {},
   "source": [
    "# Programming challenges \n",
    "\n",
    "## Package structure\n",
    "\n",
    "Consider how you would organize a data science package. What classes would you use? How would the inheritance structure work?\n"
   ]
  },
  {
   "cell_type": "markdown",
   "metadata": {},
   "source": [
    "## Audioactive decay\n",
    "\n",
    "Start with $x_0 = 1$. Now for each character, count the number of occurances. List the count and then the number. So we start with one $1$: $x_1=11$. Now we have two $1$s: $x_2=21$. The sequence continues:\n",
    "\n",
    "```\n",
    "1\n",
    "11\n",
    "21\n",
    "1211\n",
    "111221\n",
    "312211\n",
    "13112221\n",
    "1113213211\n",
    "31131211131221\n",
    "```\n",
    "\n",
    "Print the first 15 rows of this sequence."
   ]
  },
  {
   "cell_type": "code",
   "execution_count": null,
   "metadata": {},
   "outputs": [],
   "source": [
    "n = 1\n",
    "count = 0\n",
    "for i in str(n):\n",
    "    "
   ]
  },
  {
   "cell_type": "code",
   "execution_count": null,
   "metadata": {
    "ExecuteTime": {
     "end_time": "2023-02-16T23:10:57.789806Z",
     "start_time": "2023-02-16T23:10:57.779435Z"
    }
   },
   "outputs": [],
   "source": [
    "list('111221')"
   ]
  },
  {
   "cell_type": "code",
   "execution_count": 4,
   "metadata": {},
   "outputs": [
    {
     "data": {
      "image/png": "[encoded data removed]",
      "text/plain": [
       "<Figure size 432x288 with 1 Axes>"
      ]
     },
     "metadata": {
      "needs_background": "light"
     },
     "output_type": "display_data"
    },
    {
     "data": {
      "image/png": "[encoded data removed]",
      "text/plain": [
       "<Figure size 432x288 with 1 Axes>"
      ]
     },
     "metadata": {
      "needs_background": "light"
     },
     "output_type": "display_data"
    }
   ],
   "source": [
    "import numpy as np\n",
    "import matplotlib.pyplot as plt\n",
    "\n",
    "\n",
    "import numpy as np\n",
    "import matplotlib.pyplot as plt\n",
    "\n",
    "def generate_ar1(phi, sigma, n_samples):\n",
    "    \"\"\"\n",
    "    Generate data from an AR(1) model.\n",
    "\n",
    "    Parameters:\n",
    "    phi (float): Autoregressive parameter\n",
    "    sigma (float): Standard deviation of the white noise error\n",
    "    n_samples (int): Number of samples to generate\n",
    "\n",
    "    Returns:\n",
    "    np.ndarray: Generated AR(1) time series data\n",
    "    \"\"\"\n",
    "    # Generate white noise error terms\n",
    "    epsilon = np.random.normal(0, sigma, n_samples)\n",
    "\n",
    "    # Initialize the time series array\n",
    "    ar1_data = np.zeros(n_samples)\n",
    "\n",
    "    # Generate data using the AR(1) formula\n",
    "    for t in range(1, n_samples):\n",
    "        ar1_data[t] = phi * ar1_data[t-1] + epsilon[t]\n",
    "\n",
    "    return ar1_data\n",
    "\n",
    "# AR(1) parameters\n",
    "phi = 0.7  # Autoregressive parameter\n",
    "sigma = 1.0  # Standard deviation of the white noise error\n",
    "\n",
    "# Number of samples to generate\n",
    "n_samples = 100\n",
    "\n",
    "# Generate AR(1) data\n",
    "ar1_data = generate_ar1(phi, sigma, n_samples)\n",
    "\n",
    "# Plot the generated AR(1) data\n",
    "plt.plot(ar1_data)\n",
    "plt.xlabel('Time')\n",
    "plt.ylabel('Value')\n",
    "plt.title('AR(1) Time Series Data')\n",
    "plt.show()\n",
    "\n",
    "\n",
    "# Function to estimate phi using OLS\n",
    "def estimate_phi_ols(data):\n",
    "    X = data[:-1]  # Previous values (lag 1)\n",
    "    y = data[1:]   # Current values\n",
    "    X = np.column_stack((np.ones(len(X)), X))\n",
    "    ols_estimates = np.linalg.inv(X.T @ X) @ X.T @ y\n",
    "    return ols_estimates[1]  # Extract the autoregressive parameter (phi)\n",
    "\n",
    "# Simulation parameters\n",
    "num_simulations = 1000  # Number of simulations\n",
    "phi_values = np.linspace(0.1, 0.9, num_simulations)  # True phi values to simulate\n",
    "\n",
    "# Initialize arrays to store results\n",
    "estimated_phi_values = np.zeros(num_simulations)\n",
    "\n",
    "# Run the simulation\n",
    "for i in range(num_simulations):\n",
    "    # Generate AR(1) data with the current phi value\n",
    "    ar1_data = generate_ar1(phi_values[i], sigma, n_samples)\n",
    "    \n",
    "    # Estimate phi using OLS\n",
    "    estimated_phi_values[i] = estimate_phi_ols(ar1_data)\n",
    "\n",
    "# Calculate the bias in phi estimates\n",
    "bias = estimated_phi_values - phi_values\n",
    "\n",
    "# Plot the bias in phi estimates\n",
    "plt.plot(phi_values, bias)\n",
    "plt.axhline(y=0, color='r', linestyle='--', label='True Bias')\n",
    "plt.xlabel('True phi value')\n",
    "plt.ylabel('Bias in phi estimate')\n",
    "plt.title('Bias in Estimating AR(1) Parameter (phi) using OLS')\n",
    "plt.legend()\n",
    "plt.show()\n"
   ]
  },
  {
   "cell_type": "code",
   "execution_count": 5,
   "metadata": {},
   "outputs": [
    {
     "data": {
      "image/png": "[encoded data removed]",
      "text/plain": [
       "<Figure size 432x288 with 1 Axes>"
      ]
     },
     "metadata": {
      "needs_background": "light"
     },
     "output_type": "display_data"
    }
   ],
   "source": [
    "import numpy as np\n",
    "import matplotlib.pyplot as plt\n",
    "from scipy.stats import linregress\n",
    "\n",
    "# Function to estimate phi using OLS\n",
    "def estimate_phi_ols(data):\n",
    "    X = data[:-1]  # Previous values (lag 1)\n",
    "    y = data[1:]   # Current values\n",
    "    X = np.column_stack((np.ones(len(X)), X))\n",
    "    ols_estimates = np.linalg.inv(X.T @ X) @ X.T @ y\n",
    "    return ols_estimates[1]  # Extract the autoregressive parameter (phi)\n",
    "\n",
    "# Simulation parameters\n",
    "num_simulations = 1000  # Number of simulations\n",
    "phi_values = np.linspace(0.1, 0.9, num_simulations)  # True phi values to simulate\n",
    "\n",
    "# Initialize arrays to store results\n",
    "estimated_phi_values = np.zeros(num_simulations)\n",
    "\n",
    "# Run the simulation\n",
    "for i in range(num_simulations):\n",
    "    # Generate AR(1) data with the current phi value\n",
    "    ar1_data = generate_ar1(phi_values[i], sigma, n_samples)\n",
    "    \n",
    "    # Estimate phi using OLS\n",
    "    estimated_phi_values[i] = estimate_phi_ols(ar1_data)\n",
    "\n",
    "# Calculate the bias in phi estimates\n",
    "bias = estimated_phi_values - phi_values\n",
    "\n",
    "# Fit a linear regression to the bias and true phi values\n",
    "slope, intercept, r_value, _, _ = linregress(phi_values, bias)\n",
    "\n",
    "# Plot the bias in phi estimates and the linear fit\n",
    "plt.plot(phi_values, bias, label='Bias')\n",
    "plt.plot(phi_values, intercept + slope * phi_values, 'r', label=f'Linear Fit (slope={slope:.2f}, intercept={intercept:.2f})')\n",
    "plt.axhline(y=0, color='gray', linestyle='--')\n",
    "plt.xlabel('True phi value')\n",
    "plt.ylabel('Bias in phi estimate')\n",
    "plt.title('Bias in Estimating AR(1) Parameter (phi) using OLS')\n",
    "plt.legend()\n",
    "plt.show()\n"
   ]
  },
  {
   "cell_type": "code",
   "execution_count": null,
   "metadata": {},
   "outputs": [],
   "source": []
  }
 ],
 "metadata": {
  "kernelspec": {
   "display_name": "Python 3",
   "language": "python",
   "name": "python3"
  },
  "language_info": {
   "codemirror_mode": {
    "name": "ipython",
    "version": 3
   },
   "file_extension": ".py",
   "mimetype": "text/x-python",
   "name": "python",
   "nbconvert_exporter": "python",
   "pygments_lexer": "ipython3",
   "version": "3.8.8"
  },
  "toc": {
   "base_numbering": 1,
   "nav_menu": {},
   "number_sections": true,
   "sideBar": true,
   "skip_h1_title": false,
   "title_cell": "Table of Contents",
   "title_sidebar": "Contents",
   "toc_cell": false,
   "toc_position": {},
   "toc_section_display": true,
   "toc_window_display": false
  },
  "varInspector": {
   "cols": {
    "lenName": 16,
    "lenType": 16,
    "lenVar": 40
   },
   "kernels_config": {
    "python": {
     "delete_cmd_postfix": "",
     "delete_cmd_prefix": "del ",
     "library": "var_list.py",
     "varRefreshCmd": "print(var_dic_list())"
    },
    "r": {
     "delete_cmd_postfix": ") ",
     "delete_cmd_prefix": "rm(",
     "library": "var_list.r",
     "varRefreshCmd": "cat(var_dic_list()) "
    }
   },
   "types_to_exclude": [
    "module",
    "function",
    "builtin_function_or_method",
    "instance",
    "_Feature"
   ],
   "window_display": false
  }
 },
 "nbformat": 4,
 "nbformat_minor": 2
}
