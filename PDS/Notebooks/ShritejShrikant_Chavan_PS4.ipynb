{
 "cells": [
  {
   "cell_type": "markdown",
   "id": "c251b42e",
   "metadata": {},
   "source": [
    "### Problem 1 - Linear Algebra: Real Business Cycles "
   ]
  },
  {
   "cell_type": "markdown",
   "id": "2bc6f2e3",
   "metadata": {},
   "source": [
    "Maximize \n",
    "$$ U = E_0 \\sum_{t = 0} \\beta^t \\frac{(c_t^{\\phi} l_t^{1-\\phi})^{1-\\rho}}{1-\\rho}$$\n",
    "\n",
    "Constraints:\n",
    "\n",
    "$$ y_t = z_t k_t^{\\alpha} n_t^{1-\\alpha}$$\n",
    "\n",
    "$$ 1 = n_t + l_t $$\n",
    "\n",
    "$$ y_t = c_t + i_t $$\n",
    "\n",
    "$$ k_{t+1}= i_t + (1 - \\delta) k_t$$"
   ]
  },
  {
   "cell_type": "markdown",
   "id": "995582e4",
   "metadata": {},
   "source": [
    "Solving constraints and writing it in 1 equation we get,\n",
    "\n",
    "Substituting $n_t$, $y_t$ and $i_t$\n",
    "\n",
    "$$ c_t + k_{t+1} - (1 - \\delta) k_t = z_t k_t^{\\alpha} (1 - l_t)^{1-\\alpha} $$"
   ]
  },
  {
   "cell_type": "markdown",
   "id": "5f52886e",
   "metadata": {},
   "source": [
    "Using Lagrange Multipliers we get, \n",
    "\n",
    "\n",
    "$$ U = E_0 \\sum_{t = 0} \\beta^t \\frac{(c_t^{\\phi} l_t^{1-\\phi})^{1-\\rho}}{1-\\rho} - \\lambda_t[c_t + k_{t+1} - (1-\\delta)k_t - z_tk_t^{\\alpha} (1 - l_t)^{1-\\alpha}] $$\n"
   ]
  },
  {
   "cell_type": "markdown",
   "id": "e674e2f9",
   "metadata": {},
   "source": [
    "Unconstrained version & First-Order Conditions (FOCs)\n",
    "\n",
    "$$\\frac{\\partial U}{\\partial c_t} = \\beta^t \\phi \\frac{(c_t^{\\phi} l_t^{1-\\phi})^{1-\\rho}}{c_t}  - \\lambda_t$$   \n",
    "\n",
    "$$ \\frac{\\partial U}{\\partial l_t} = \\beta^t (1 -\\phi) \\frac{(c_t^{\\phi} l_t^{1-\\phi})^{1-\\rho}}{l_t}  - \\lambda_t (1-\\alpha) z_t k_t^{\\alpha} (1 -l_t)^{-\\alpha}$$\n",
    "\n",
    "$$ \\frac{\\partial U}{\\partial k_t} = -\\lambda_{t-1} + E_{t-1}[\\lambda_t (1-\\delta) + \\lambda_t z_t \\alpha k_t^{\\alpha - 1} (1 - l_t)^{1-\\alpha} ]$$ \n"
   ]
  },
  {
   "cell_type": "markdown",
   "id": "734cfeb8",
   "metadata": {},
   "source": [
    "Equating all the above first-order partial derivations to zero\n",
    "\n",
    "$$   \\lambda_t = \\beta^t \\phi \\frac{(c_t^{\\phi} l_t^{1-\\phi})^{1-\\rho}}{c_t} $$\n",
    "\n",
    "$$ \\beta^t (1 -\\phi) \\frac{(c_t^{\\phi} l_t^{1-\\phi})^{1-\\rho}}{l_t}  = \\lambda_t (1-\\alpha) z_t k_t^{\\alpha} (1 -l_t)^{-\\alpha} $$\n",
    "\n",
    "$$ \\lambda_{t-1} = E_{t-1}\\lambda_t[ (1-\\delta) + z_t \\alpha k_t^{\\alpha - 1} (1 - l_t)^{1-\\alpha} ]$$ \n"
   ]
  },
  {
   "cell_type": "markdown",
   "id": "07663311",
   "metadata": {},
   "source": [
    "Eliminating Lagrange Multipliers:\n",
    "\n",
    "Substituting the value of $\\lambda_t$ in equation 2, we get\n",
    "\n",
    "\n",
    "$$ \\beta^t (1 -\\phi) \\frac{(c_t^{\\phi} l_t^{1-\\phi})^{1-\\rho}}{l_t}  = \\beta^t \\phi \\frac{(c_t^{\\phi} l_t^{1-\\phi})^{1-\\rho}}{c_t} (1-\\alpha) z_t k_t^{\\alpha} (1 -l_t)^{-\\alpha} $$\n",
    "\n",
    "Eq. 1\n",
    "\n",
    "$$ \\frac{(1 -\\phi)(1 -l_t)^{\\alpha}}{\\phi} \\frac{c_t}{l_t}  = (1-\\alpha) z_t k_t^{\\alpha} $$\n"
   ]
  },
  {
   "cell_type": "markdown",
   "id": "aa69b364",
   "metadata": {},
   "source": [
    "Substituting the value of $\\lambda_{t-1}$ in equation 2, we get\n",
    "\n",
    "Eqn 2\n",
    "\n",
    "$$   \\frac{(c_{t-1}^{\\phi} l_{t-1}^{1-\\phi})^{1-\\rho}}{c_{t-1}} = E_{t-1}\\beta \\frac{(c_t^{\\phi} l_t^{1-\\phi})^{1-\\rho}}{c_t}[ (1-\\delta) + z_t \\alpha k_t^{\\alpha - 1} (1 - l_t)^{1-\\alpha} ]$$ \n"
   ]
  },
  {
   "cell_type": "markdown",
   "id": "dc61808d",
   "metadata": {},
   "source": [
    "Simplifying above 2 equations, we get\n",
    "\n",
    "$$ \\frac{(1 -\\phi)}{\\phi} \\frac{c_t}{l_t}  = (1-\\alpha) \\frac{y_t}{n_t} $$\n",
    "\n",
    "\n",
    "$$   \\frac{u(c_{t-1}, l_{t-1})}{c_{t-1}} = E_{t-1}\\beta \\frac{u(c_{t}, l_{t})}{c_t}[ (1-\\delta) + \\alpha \\frac{y_t}{k_t} ]$$ \n",
    "\n",
    "\n",
    "Moreover with previous constraints, we have\n",
    "\n",
    "\n",
    "$$ y_t = z_t k_t^{\\alpha} n_t^{1-\\alpha}$$\n",
    "\n",
    "$$ 1 = n_t + l_t $$\n",
    "\n",
    "$$ y_t = c_t + i_t $$\n",
    "\n",
    "$$ k_{t+1}= i_t + (1 - \\delta) k_t$$\n",
    "\n",
    "$$ u(c_{t}, l_{t})  = \\frac{(c_t^{\\phi} l_t^{1-\\phi})^{1-\\rho}}{1-\\rho} $$\n",
    "\n",
    "\n",
    "Above we have 7 equations and 7 variables ($u_t, c_t, y_t, n_t, k_t, i_t, l_t$)"
   ]
  },
  {
   "cell_type": "markdown",
   "id": "0b8fe159",
   "metadata": {},
   "source": [
    "### Problem 2 - Programming : L2 Regularization "
   ]
  },
  {
   "cell_type": "code",
   "execution_count": 1,
   "id": "9fc34a89",
   "metadata": {},
   "outputs": [],
   "source": [
    "!pip install --upgrade pip -qq\n",
    "!pip install cvxopt -U -qq"
   ]
  },
  {
   "cell_type": "code",
   "execution_count": 27,
   "id": "6175d59f",
   "metadata": {},
   "outputs": [],
   "source": [
    "import numpy as np\n",
    "import pandas as pd\n",
    "import cvxopt as cvx\n",
    "import cvxopt.solvers as solv\n",
    "from scipy.stats import zscore\n",
    "\n",
    "df = pd.read_csv('BWGHT.csv')\n",
    "npx = df[['cigs','faminc','male','white']].values\n",
    "npy = df['bwght'].values\n",
    "ones = np.ones((npx.shape[0],1))\n",
    "npx = np.hstack((ones,npx))"
   ]
  },
  {
   "cell_type": "code",
   "execution_count": 29,
   "id": "281ddb9f",
   "metadata": {},
   "outputs": [
    {
     "name": "stdout",
     "output_type": "stream",
     "text": [
      "Custom Ridge Regression Coefficients: [106.75411346  -0.39705044   0.11286594   4.75500536   7.96866842]\n",
      "Custom RMSE value: 19.965926134677954\n",
      "Scikit-learn Ridge Regression Coefficients: [ 0.         -0.47353772  0.06160257  3.05542053  5.1634509 ]\n",
      "RMSE value using scikit-learn: 19.86872824380072\n"
     ]
    }
   ],
   "source": [
    "import numpy as np\n",
    "from sklearn.linear_model import Ridge\n",
    "from sklearn.metrics import mean_squared_error\n",
    "\n",
    "def solve_ridge(x, y, thresh):\n",
    "    # Input: x - Features, y - Target values, thresh - Regularization strength (alpha)\n",
    "    n, p = x.shape\n",
    "    idm = np.eye(p)  # Create an identity matrix of size p\n",
    "    c_matrix = x.T.dot(x) + thresh * idm  # Calculate the Ridge Regression coefficient matrix\n",
    "    betas = np.linalg.inv(c_matrix).dot(x.T.dot(y))  # Compute the Ridge Regression coefficients\n",
    "    return betas\n",
    "\n",
    "def rmse(x, y, b):\n",
    "    # Input: x - Features, y - Target values, b - Model coefficients\n",
    "    # Calculate the Root Mean Squared Error (RMSE)\n",
    "    return np.sqrt(((y - x.dot(b)) ** 2).mean())\n",
    "\n",
    "custom_betas = solve_ridge(npx, npy, alpha)\n",
    "custom_rmse = rmse(npx, npy, custom_betas)\n",
    "print(\"Custom Ridge Regression Coefficients:\", custom_betas)\n",
    "print('Custom RMSE value:', custom_rmse)\n",
    "\n",
    "# Validation using scikit-learn Ridge Regression\n",
    "r2 = Ridge(alpha=alpha)\n",
    "r2.fit(npx, npy)\n",
    "\n",
    "print(\"Scikit-learn Ridge Regression Coefficients:\", r2.coef_)\n",
    "\n",
    "y_pred = r2.predict(npx)\n",
    "sklearn_rmse = np.sqrt(mean_squared_error(npy, y_pred))\n",
    "print('RMSE value using scikit-learn:', sklearn_rmse)\n"
   ]
  },
  {
   "cell_type": "code",
   "execution_count": null,
   "id": "c609bb74",
   "metadata": {},
   "outputs": [],
   "source": []
  }
 ],
 "metadata": {
  "kernelspec": {
   "display_name": "Python 3",
   "language": "python",
   "name": "python3"
  },
  "language_info": {
   "codemirror_mode": {
    "name": "ipython",
    "version": 3
   },
   "file_extension": ".py",
   "mimetype": "text/x-python",
   "name": "python",
   "nbconvert_exporter": "python",
   "pygments_lexer": "ipython3",
   "version": "3.8.8"
  }
 },
 "nbformat": 4,
 "nbformat_minor": 5
}
