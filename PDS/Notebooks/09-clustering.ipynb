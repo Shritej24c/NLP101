{
 "cells": [
  {
   "cell_type": "markdown",
   "metadata": {},
   "source": [
    "<div style=\"text-align:center\"><span style=\"font-size:2em; font-weight: bold;\">Lecture 9—Clustering</span></div>"
   ]
  },
  {
   "cell_type": "markdown",
   "metadata": {},
   "source": [
    "# $k$-Means clustering"
   ]
  },
  {
   "cell_type": "code",
   "execution_count": 1,
   "metadata": {
    "ExecuteTime": {
     "end_time": "2023-04-11T21:06:20.045947Z",
     "start_time": "2023-04-11T21:06:19.458590Z"
    }
   },
   "outputs": [],
   "source": [
    "import numpy as np\n",
    "import pandas as pd\n",
    "from cleands import *"
   ]
  },
  {
   "cell_type": "markdown",
   "metadata": {},
   "source": [
    "Data Generating Process"
   ]
  },
  {
   "cell_type": "code",
   "execution_count": 2,
   "metadata": {
    "ExecuteTime": {
     "end_time": "2023-04-11T21:02:03.076135Z",
     "start_time": "2023-04-11T21:02:03.062343Z"
    }
   },
   "outputs": [
    {
     "data": {
      "text/plain": [
       "array([0, 1, 1, ..., 2, 1, 0])"
      ]
     },
     "execution_count": 2,
     "metadata": {},
     "output_type": "execute_result"
    }
   ],
   "source": [
    "x1 = np.random.normal(loc=np.random.uniform(size=(5,))*10-5,size=(500,5))\n",
    "x2 = np.random.normal(loc=np.random.uniform(size=(5,))*10-5,size=(500,5))\n",
    "x3 = np.random.normal(loc=np.random.uniform(size=(5,))*10-5,size=(500,5))\n",
    "x = np.vstack((x1,x2,x3))\n",
    "shuffle = np.random.permutation(x.shape[0])\n",
    "x = x[shuffle,:]\n",
    "membership = shuffle.copy()\n",
    "for i in range(len(membership)):\n",
    "    if membership[i]<500: membership[i]=0\n",
    "    elif membership[i]<1000: membership[i]=1\n",
    "    else: membership[i]=2\n",
    "np.unique(membership,return_counts=True)\n",
    "membership"
   ]
  },
  {
   "cell_type": "markdown",
   "metadata": {},
   "source": [
    "Calculate means of membership variable"
   ]
  },
  {
   "cell_type": "code",
   "execution_count": 3,
   "metadata": {
    "ExecuteTime": {
     "end_time": "2023-04-07T21:30:20.259453Z",
     "start_time": "2023-04-07T21:30:20.252529Z"
    }
   },
   "outputs": [
    {
     "data": {
      "text/plain": [
       "array([[ 0.07473829, -1.46576221, -1.77997172,  3.59406824,  0.39906022],\n",
       "       [-4.8519648 , -0.14017139, -3.67194459,  0.43281038,  3.90529695],\n",
       "       [-0.90518685,  1.67362511, -3.71893765, -1.8042325 , -3.87938496]])"
      ]
     },
     "execution_count": 3,
     "metadata": {},
     "output_type": "execute_result"
    }
   ],
   "source": [
    "means = []\n",
    "for i in range(3):\n",
    "    mean = x[membership==i,:].mean(0)\n",
    "    means += [mean]\n",
    "means = np.array(means)\n",
    "means"
   ]
  },
  {
   "cell_type": "code",
   "execution_count": 4,
   "metadata": {
    "ExecuteTime": {
     "end_time": "2023-04-07T21:32:06.285964Z",
     "start_time": "2023-04-07T21:32:06.270783Z"
    }
   },
   "outputs": [
    {
     "data": {
      "text/plain": [
       "array([[-3.20135771,  0.77784142, -4.35997717,  1.34726963,  4.2101925 ],\n",
       "       [ 1.97953202, -0.5496859 , -3.36262993,  3.53888856,  0.27340355],\n",
       "       [ 0.79933247, -1.44107696, -3.36419841,  2.45837713,  1.85080785],\n",
       "       ...,\n",
       "       [-1.82425385,  2.34943935, -3.01669283, -1.93736237, -3.68858166],\n",
       "       [ 1.21099094,  1.16280702, -4.30442668,  0.08063115, -3.87067891],\n",
       "       [-0.74559147,  0.88815183, -2.12522102, -1.45099547, -2.25000814]])"
      ]
     },
     "execution_count": 4,
     "metadata": {},
     "output_type": "execute_result"
    }
   ],
   "source": [
    "x"
   ]
  },
  {
   "cell_type": "markdown",
   "metadata": {},
   "source": [
    "kmeans step 1: randomly guess"
   ]
  },
  {
   "cell_type": "code",
   "execution_count": 7,
   "metadata": {
    "ExecuteTime": {
     "end_time": "2023-04-07T21:34:38.210037Z",
     "start_time": "2023-04-07T21:34:38.202170Z"
    }
   },
   "outputs": [
    {
     "data": {
      "text/plain": [
       "array([1, 2, 1, ..., 1, 0, 1])"
      ]
     },
     "execution_count": 7,
     "metadata": {},
     "output_type": "execute_result"
    }
   ],
   "source": [
    "k = 3\n",
    "n = x.shape[0]\n",
    "group = np.random.randint(k,size=(n,))\n",
    "group"
   ]
  },
  {
   "cell_type": "markdown",
   "metadata": {},
   "source": [
    "kmeans step 2: calculate means of each cluster"
   ]
  },
  {
   "cell_type": "code",
   "execution_count": 17,
   "metadata": {
    "ExecuteTime": {
     "end_time": "2023-04-07T21:39:49.215026Z",
     "start_time": "2023-04-07T21:39:49.210052Z"
    }
   },
   "outputs": [
    {
     "data": {
      "text/plain": [
       "array([[-4.8519648 , -0.14017139, -3.67194459,  0.43281038,  3.90529695],\n",
       "       [ 0.07473829, -1.46576221, -1.77997172,  3.59406824,  0.39906022],\n",
       "       [-0.90518685,  1.67362511, -3.71893765, -1.8042325 , -3.87938496]])"
      ]
     },
     "execution_count": 17,
     "metadata": {},
     "output_type": "execute_result"
    }
   ],
   "source": [
    "means = []\n",
    "for i in range(k):\n",
    "    mean = x[group==i,:].mean(0)\n",
    "    means += [mean]\n",
    "means = np.array(means)\n",
    "means"
   ]
  },
  {
   "cell_type": "markdown",
   "metadata": {},
   "source": [
    "kmeans step 3: group each point to its closest mean"
   ]
  },
  {
   "cell_type": "code",
   "execution_count": 16,
   "metadata": {
    "ExecuteTime": {
     "end_time": "2023-04-07T21:39:47.672695Z",
     "start_time": "2023-04-07T21:39:47.660156Z"
    }
   },
   "outputs": [
    {
     "data": {
      "text/plain": [
       "array([0, 1, 1, ..., 2, 2, 2], dtype=int64)"
      ]
     },
     "execution_count": 16,
     "metadata": {},
     "output_type": "execute_result"
    }
   ],
   "source": [
    "dists = []\n",
    "for i in range(k):\n",
    "    dist = x-means[i,:]\n",
    "    dist = (dist**2).sum(1)\n",
    "    dists += [dist]\n",
    "dists = np.array(dists)\n",
    "group = dists.argmin(0)\n",
    "group"
   ]
  },
  {
   "cell_type": "markdown",
   "metadata": {},
   "source": [
    "kmeans step 4: go back to step 2 until converges...\n",
    "\n",
    "Putting it all together:"
   ]
  },
  {
   "cell_type": "code",
   "execution_count": 39,
   "metadata": {
    "ExecuteTime": {
     "end_time": "2023-04-07T21:41:32.216049Z",
     "start_time": "2023-04-07T21:41:32.196756Z"
    }
   },
   "outputs": [
    {
     "name": "stdout",
     "output_type": "stream",
     "text": [
      "iteration\n",
      "iteration\n",
      "iteration\n",
      "iteration\n"
     ]
    },
    {
     "data": {
      "text/plain": [
       "array([2, 1, 1, ..., 0, 0, 0], dtype=int64)"
      ]
     },
     "execution_count": 39,
     "metadata": {},
     "output_type": "execute_result"
    }
   ],
   "source": [
    "k = 3\n",
    "n = x.shape[0]\n",
    "max_iters = 100\n",
    "newgroup = np.random.randint(k,size=(n,))\n",
    "group = np.zeros((n,))\n",
    "for j in range(max_iters):\n",
    "    if (group==newgroup).all(): break\n",
    "    print('iteration')\n",
    "    group = newgroup\n",
    "    dists = []\n",
    "    for i in range(k):\n",
    "        mean = x[group==i,:].mean(0)\n",
    "        dist = x-mean\n",
    "        dist = (dist**2).sum(1)\n",
    "        dists += [dist]\n",
    "    dists = np.array(dists)\n",
    "    newgroup = dists.argmin(0)\n",
    "group"
   ]
  },
  {
   "cell_type": "code",
   "execution_count": 40,
   "metadata": {
    "ExecuteTime": {
     "end_time": "2023-04-07T21:42:20.753839Z",
     "start_time": "2023-04-07T21:42:20.737788Z"
    }
   },
   "outputs": [
    {
     "data": {
      "text/plain": [
       "0.0"
      ]
     },
     "execution_count": 40,
     "metadata": {},
     "output_type": "execute_result"
    }
   ],
   "source": [
    "(membership==group).mean()"
   ]
  },
  {
   "cell_type": "markdown",
   "metadata": {},
   "source": [
    "Confusion matrix"
   ]
  },
  {
   "cell_type": "code",
   "execution_count": 41,
   "metadata": {
    "ExecuteTime": {
     "end_time": "2023-04-07T21:45:03.678413Z",
     "start_time": "2023-04-07T21:45:03.668310Z"
    }
   },
   "outputs": [
    {
     "data": {
      "text/plain": [
       "array([[  0., 500.,   0.],\n",
       "       [  0.,   0., 500.],\n",
       "       [500.,   0.,   0.]])"
      ]
     },
     "execution_count": 41,
     "metadata": {},
     "output_type": "execute_result"
    }
   ],
   "source": [
    "membershipohe = np.zeros((membership.size, membership.max()+1))\n",
    "membershipohe[np.arange(membership.size),membership] = 1\n",
    "groupohe = np.zeros((group.size, group.max()+1))\n",
    "groupohe[np.arange(group.size),group] = 1\n",
    "membershipohe.T@groupohe"
   ]
  },
  {
   "cell_type": "markdown",
   "metadata": {},
   "source": [
    "accuracy"
   ]
  },
  {
   "cell_type": "code",
   "execution_count": 42,
   "metadata": {
    "ExecuteTime": {
     "end_time": "2023-04-07T21:45:50.010487Z",
     "start_time": "2023-04-07T21:45:49.989905Z"
    }
   },
   "outputs": [
    {
     "data": {
      "text/plain": [
       "1.0"
      ]
     },
     "execution_count": 42,
     "metadata": {},
     "output_type": "execute_result"
    }
   ],
   "source": [
    "(membershipohe.T@groupohe).max(1).sum()/groupohe.sum()"
   ]
  },
  {
   "cell_type": "markdown",
   "metadata": {},
   "source": [
    "putting all this in a function"
   ]
  },
  {
   "cell_type": "code",
   "execution_count": 43,
   "metadata": {
    "ExecuteTime": {
     "end_time": "2023-04-07T21:46:40.028259Z",
     "start_time": "2023-04-07T21:46:40.013431Z"
    }
   },
   "outputs": [],
   "source": [
    "def kmeans(x,k,max_iters=100,seed=None):\n",
    "    n = x.shape[0]\n",
    "    if seed != None: np.random.seed(seed)\n",
    "    newgroup = np.random.randint(k,size=(n,))\n",
    "    group = np.zeros((n,))\n",
    "    for j in range(max_iters):\n",
    "        if (group==newgroup).all(): break\n",
    "        #print('iteration')\n",
    "        group = newgroup\n",
    "        dists = []\n",
    "        for i in range(k):\n",
    "            mean = x[group==i,:].mean(0)\n",
    "            dist = x-mean\n",
    "            dist = (dist**2).sum(1)\n",
    "            dists += [dist]\n",
    "        dists = np.array(dists)\n",
    "        newgroup = dists.argmin(0)\n",
    "    return newgroup"
   ]
  },
  {
   "cell_type": "markdown",
   "metadata": {},
   "source": [
    "Total within sum of squares calculation"
   ]
  },
  {
   "cell_type": "code",
   "execution_count": 47,
   "metadata": {
    "ExecuteTime": {
     "end_time": "2023-04-07T21:48:27.173187Z",
     "start_time": "2023-04-07T21:48:27.152659Z"
    }
   },
   "outputs": [
    {
     "data": {
      "text/plain": [
       "6873.813485534158"
      ]
     },
     "execution_count": 47,
     "metadata": {},
     "output_type": "execute_result"
    }
   ],
   "source": [
    "k = 5\n",
    "group = kmeans(x,k)\n",
    "means = np.array([x[group==i,:].mean(0) for i in range(k)])\n",
    "wss = [((x[group==i,:]-means[i,:])**2).sum() for i in range(k)]\n",
    "total_wss = sum(wss)\n",
    "total_wss"
   ]
  },
  {
   "cell_type": "markdown",
   "metadata": {},
   "source": [
    "Loop process and get min twss"
   ]
  },
  {
   "cell_type": "code",
   "execution_count": 48,
   "metadata": {
    "ExecuteTime": {
     "end_time": "2023-04-07T21:48:47.720801Z",
     "start_time": "2023-04-07T21:48:47.715282Z"
    },
    "code_folding": []
   },
   "outputs": [],
   "source": [
    "def rep_kmeans(x,k,max_iters=100,seed=None,n_start=100):\n",
    "    twss = []\n",
    "    groups = []\n",
    "    for i in range(n_start):\n",
    "        group = kmeans(x,k,max_iters,seed)\n",
    "        means = np.array([x[group==i,:].mean(0) for i in range(k)])\n",
    "        wss = [((x[group==i,:]-means[i,:])**2).sum() for i in range(k)]\n",
    "        total_wss = sum(wss)\n",
    "        groups += [group]\n",
    "        twss += [total_wss]\n",
    "    group = groups[np.array(twss).argmin()]\n",
    "    return group"
   ]
  },
  {
   "cell_type": "code",
   "execution_count": 51,
   "metadata": {
    "ExecuteTime": {
     "end_time": "2023-04-07T21:49:38.660084Z",
     "start_time": "2023-04-07T21:49:29.211885Z"
    }
   },
   "outputs": [
    {
     "name": "stderr",
     "output_type": "stream",
     "text": [
      "C:\\Users\\jason\\AppData\\Local\\Temp\\ipykernel_26076\\2381808098.py:12: RuntimeWarning: Mean of empty slice.\n",
      "  mean = x[group==i,:].mean(0)\n",
      "C:\\Users\\jason\\AppData\\Local\\Temp\\ipykernel_26076\\253577756.py:6: RuntimeWarning: Mean of empty slice.\n",
      "  means = np.array([x[group==i,:].mean(0) for i in range(k)])\n"
     ]
    },
    {
     "data": {
      "text/plain": [
       "5502.564673041889"
      ]
     },
     "execution_count": 51,
     "metadata": {},
     "output_type": "execute_result"
    }
   ],
   "source": [
    "k = 10\n",
    "group = rep_kmeans(x,k,n_start=250)\n",
    "means = np.array([x[group==i,:].mean(0) for i in range(k)])\n",
    "wss = [((x[group==i,:]-means[i,:])**2).sum() for i in range(k)]\n",
    "total_wss = sum(wss)\n",
    "total_wss"
   ]
  },
  {
   "cell_type": "markdown",
   "metadata": {},
   "source": [
    "Automatic elbow detector"
   ]
  },
  {
   "cell_type": "code",
   "execution_count": 52,
   "metadata": {
    "ExecuteTime": {
     "end_time": "2023-04-07T21:50:34.768636Z",
     "start_time": "2023-04-07T21:50:34.765090Z"
    }
   },
   "outputs": [],
   "source": [
    "def auto_kmeans(x,k_max=10,max_iters=100,seed=None,n_start=100):\n",
    "    groups = []\n",
    "    twss = []\n",
    "    for k in range(1,k_max):\n",
    "        group = rep_kmeans(x,k,max_iters,seed,n_start)\n",
    "        means = np.array([x[group==i,:].mean(0) for i in range(k)])\n",
    "        wss = [((x[group==i,:]-means[i,:])**2).sum() for i in range(k)]\n",
    "        total_wss = sum(wss)\n",
    "        groups += [group]\n",
    "        twss += [total_wss]\n",
    "    twss = np.array(twss)\n",
    "    dwss = -np.diff(twss)\n",
    "    dwss = np.insert(dwss,0,dwss.sum()/np.log(k_max))\n",
    "    dwss = np.trim_zeros(dwss)\n",
    "    ratio = dwss[:-1]/dwss[1:]\n",
    "    ratio = ratio[:k_max]\n",
    "    k = ratio.argmax()\n",
    "    return groups[k]"
   ]
  },
  {
   "cell_type": "code",
   "execution_count": 53,
   "metadata": {
    "ExecuteTime": {
     "end_time": "2023-04-07T21:50:50.024130Z",
     "start_time": "2023-04-07T21:50:37.241343Z"
    }
   },
   "outputs": [
    {
     "name": "stderr",
     "output_type": "stream",
     "text": [
      "C:\\Users\\jason\\AppData\\Local\\Temp\\ipykernel_26076\\2381808098.py:12: RuntimeWarning: Mean of empty slice.\n",
      "  mean = x[group==i,:].mean(0)\n",
      "C:\\Users\\jason\\AppData\\Local\\Temp\\ipykernel_26076\\253577756.py:6: RuntimeWarning: Mean of empty slice.\n",
      "  means = np.array([x[group==i,:].mean(0) for i in range(k)])\n"
     ]
    },
    {
     "data": {
      "text/plain": [
       "array([0, 1, 2], dtype=int64)"
      ]
     },
     "execution_count": 53,
     "metadata": {},
     "output_type": "execute_result"
    }
   ],
   "source": [
    "result = auto_kmeans(x)\n",
    "np.unique(result)"
   ]
  },
  {
   "cell_type": "code",
   "execution_count": 54,
   "metadata": {
    "ExecuteTime": {
     "end_time": "2023-04-07T21:51:05.184335Z",
     "start_time": "2023-04-07T21:51:05.168758Z"
    }
   },
   "outputs": [
    {
     "data": {
      "text/plain": [
       "array([[500.,   0.,   0.],\n",
       "       [  0., 500.,   0.],\n",
       "       [  0.,   0., 500.]])"
      ]
     },
     "execution_count": 54,
     "metadata": {},
     "output_type": "execute_result"
    }
   ],
   "source": [
    "membershipohe = np.zeros((membership.size, membership.max()+1))\n",
    "membershipohe[np.arange(membership.size),membership] = 1\n",
    "resultohe = np.zeros((result.size, result.max()+1))\n",
    "resultohe[np.arange(result.size),result] = 1\n",
    "membershipohe.T@resultohe"
   ]
  },
  {
   "cell_type": "code",
   "execution_count": 56,
   "metadata": {
    "ExecuteTime": {
     "end_time": "2023-04-07T21:52:02.586902Z",
     "start_time": "2023-04-07T21:52:02.572114Z"
    }
   },
   "outputs": [
    {
     "data": {
      "text/plain": [
       "1.0"
      ]
     },
     "execution_count": 56,
     "metadata": {},
     "output_type": "execute_result"
    }
   ],
   "source": [
    "(membershipohe.T@resultohe).max(1).sum()/membershipohe.sum()"
   ]
  },
  {
   "cell_type": "markdown",
   "metadata": {},
   "source": [
    "# Programming challenges\n",
    "\n",
    "## Quick sort\n",
    "\n",
    "Write a program which implements the quick sort algorithm.\n"
   ]
  },
  {
   "cell_type": "markdown",
   "metadata": {},
   "source": [
    "\n",
    "## $k$-Means class structure\n",
    "\n",
    "Write a class structure for our k-means code\n"
   ]
  }
 ],
 "metadata": {
  "kernelspec": {
   "display_name": "Python 3 (ipykernel)",
   "language": "python",
   "name": "python3"
  },
  "language_info": {
   "codemirror_mode": {
    "name": "ipython",
    "version": 3
   },
   "file_extension": ".py",
   "mimetype": "text/x-python",
   "name": "python",
   "nbconvert_exporter": "python",
   "pygments_lexer": "ipython3",
   "version": "3.11.4"
  },
  "toc": {
   "base_numbering": 1,
   "nav_menu": {},
   "number_sections": true,
   "sideBar": true,
   "skip_h1_title": false,
   "title_cell": "Table of Contents",
   "title_sidebar": "Contents",
   "toc_cell": false,
   "toc_position": {},
   "toc_section_display": true,
   "toc_window_display": false
  },
  "varInspector": {
   "cols": {
    "lenName": 16,
    "lenType": 16,
    "lenVar": 40
   },
   "kernels_config": {
    "python": {
     "delete_cmd_postfix": "",
     "delete_cmd_prefix": "del ",
     "library": "var_list.py",
     "varRefreshCmd": "print(var_dic_list())"
    },
    "r": {
     "delete_cmd_postfix": ") ",
     "delete_cmd_prefix": "rm(",
     "library": "var_list.r",
     "varRefreshCmd": "cat(var_dic_list()) "
    }
   },
   "types_to_exclude": [
    "module",
    "function",
    "builtin_function_or_method",
    "instance",
    "_Feature"
   ],
   "window_display": false
  }
 },
 "nbformat": 4,
 "nbformat_minor": 4
}
