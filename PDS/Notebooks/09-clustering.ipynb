{
 "cells": [
  {
   "cell_type": "markdown",
   "metadata": {},
   "source": [
    "<div style=\"text-align:center\"><span style=\"font-size:2em; font-weight: bold;\">Lecture 9—Clustering</span></div>"
   ]
  },
  {
   "cell_type": "markdown",
   "metadata": {},
   "source": [
    "# $k$-Means clustering"
   ]
  },
  {
   "cell_type": "code",
   "execution_count": 1,
   "metadata": {
    "ExecuteTime": {
     "end_time": "2023-04-11T21:06:20.045947Z",
     "start_time": "2023-04-11T21:06:19.458590Z"
    }
   },
   "outputs": [],
   "source": [
    "import numpy as np\n",
    "import pandas as pd\n",
    "from cleands import *"
   ]
  },
  {
   "cell_type": "markdown",
   "metadata": {},
   "source": [
    "Data Generating Process"
   ]
  },
  {
   "cell_type": "code",
   "execution_count": 2,
   "metadata": {
    "ExecuteTime": {
     "end_time": "2023-04-11T21:02:03.076135Z",
     "start_time": "2023-04-11T21:02:03.062343Z"
    }
   },
   "outputs": [
    {
     "data": {
      "text/plain": "array([1, 2, 2, ..., 1, 1, 0])"
     },
     "execution_count": 2,
     "metadata": {},
     "output_type": "execute_result"
    }
   ],
   "source": [
    "x1 = np.random.normal(loc=np.random.uniform(size=(5,))*10-5,size=(500,5))\n",
    "x2 = np.random.normal(loc=np.random.uniform(size=(5,))*10-5,size=(500,5))\n",
    "x3 = np.random.normal(loc=np.random.uniform(size=(5,))*10-5,size=(500,5))\n",
    "x = np.vstack((x1,x2,x3))\n",
    "shuffle = np.random.permutation(x.shape[0])\n",
    "x = x[shuffle,:]\n",
    "membership = shuffle.copy()\n",
    "for i in range(len(membership)):\n",
    "    if membership[i]<500: membership[i]=0\n",
    "    elif membership[i]<1000: membership[i]=1\n",
    "    else: membership[i]=2\n",
    "np.unique(membership,return_counts=True)\n",
    "membership"
   ]
  },
  {
   "cell_type": "code",
   "execution_count": 3,
   "metadata": {},
   "outputs": [
    {
     "ename": "NameError",
     "evalue": "name 'plt' is not defined",
     "output_type": "error",
     "traceback": [
      "\u001B[0;31m---------------------------------------------------------------------------\u001B[0m",
      "\u001B[0;31mNameError\u001B[0m                                 Traceback (most recent call last)",
      "\u001B[0;32m<ipython-input-3-75e81481ec7c>\u001B[0m in \u001B[0;36m<module>\u001B[0;34m\u001B[0m\n\u001B[1;32m      2\u001B[0m \u001B[0mnum_cols\u001B[0m \u001B[0;34m=\u001B[0m \u001B[0mx1\u001B[0m\u001B[0;34m.\u001B[0m\u001B[0mshape\u001B[0m\u001B[0;34m[\u001B[0m\u001B[0;36m1\u001B[0m\u001B[0;34m]\u001B[0m  \u001B[0;31m# Number of columns in x1\u001B[0m\u001B[0;34m\u001B[0m\u001B[0;34m\u001B[0m\u001B[0m\n\u001B[1;32m      3\u001B[0m \u001B[0;34m\u001B[0m\u001B[0m\n\u001B[0;32m----> 4\u001B[0;31m \u001B[0mplt\u001B[0m\u001B[0;34m.\u001B[0m\u001B[0mfigure\u001B[0m\u001B[0;34m(\u001B[0m\u001B[0mfigsize\u001B[0m\u001B[0;34m=\u001B[0m\u001B[0;34m(\u001B[0m\u001B[0;36m12\u001B[0m\u001B[0;34m,\u001B[0m \u001B[0;36m8\u001B[0m\u001B[0;34m)\u001B[0m\u001B[0;34m)\u001B[0m\u001B[0;34m\u001B[0m\u001B[0;34m\u001B[0m\u001B[0m\n\u001B[0m\u001B[1;32m      5\u001B[0m \u001B[0;34m\u001B[0m\u001B[0m\n\u001B[1;32m      6\u001B[0m \u001B[0;32mfor\u001B[0m \u001B[0mi\u001B[0m \u001B[0;32min\u001B[0m \u001B[0mrange\u001B[0m\u001B[0;34m(\u001B[0m\u001B[0mnum_cols\u001B[0m\u001B[0;34m)\u001B[0m\u001B[0;34m:\u001B[0m\u001B[0;34m\u001B[0m\u001B[0;34m\u001B[0m\u001B[0m\n",
      "\u001B[0;31mNameError\u001B[0m: name 'plt' is not defined"
     ]
    }
   ],
   "source": [
    "# Plotting multiple histograms for each column\n",
    "num_cols = x1.shape[1]  # Number of columns in x1\n",
    "\n",
    "plt.figure(figsize=(12, 8))\n",
    "\n",
    "for i in range(num_cols):\n",
    "    plt.subplot(2, 3, i+1)  # Creating subplots in a 2x3 grid\n",
    "    plt.hist(x1[:, i], bins=30, alpha=0.7)\n",
    "    plt.title(f'Column {i+1} Histogram')\n",
    "    plt.xlabel('Values', color='white')\n",
    "    plt.ylabel('Frequency', color='white')\n",
    "    plt.xticks(color='white')\n",
    "    plt.yticks(color='white')\n",
    "\n",
    "plt.tight_layout()\n",
    "plt.show()"
   ]
  },
  {
   "cell_type": "code",
   "execution_count": null,
   "metadata": {},
   "outputs": [],
   "source": [
    "# Plotting multiple histograms for each column\n",
    "num_cols = x.shape[1]  # Number of columns in x1\n",
    "\n",
    "plt.figure(figsize=(12, 8))\n",
    "\n",
    "for i in range(num_cols):\n",
    "    plt.subplot(2, 3, i+1)  # Creating subplots in a 2x3 grid\n",
    "    plt.hist(x[:, i], bins=30, alpha=0.7)\n",
    "    plt.title(f'Column {i+1} Histogram',color='white')\n",
    "    plt.xlabel('Values', color='white')\n",
    "    plt.ylabel('Frequency', color='white')\n",
    "    plt.xticks(color='white')\n",
    "    plt.yticks(color='white')\n",
    "\n",
    "plt.tight_layout()\n",
    "plt.show()"
   ]
  },
  {
   "cell_type": "markdown",
   "metadata": {},
   "source": [
    "Calculate means of membership variable"
   ]
  },
  {
   "cell_type": "code",
   "execution_count": null,
   "metadata": {
    "ExecuteTime": {
     "end_time": "2023-04-07T21:30:20.259453Z",
     "start_time": "2023-04-07T21:30:20.252529Z"
    }
   },
   "outputs": [],
   "source": [
    "means = []\n",
    "for i in range(3):\n",
    "    mean = x[membership==i,:].mean(0)\n",
    "    means += [mean]\n",
    "means = np.array(means)\n",
    "means"
   ]
  },
  {
   "cell_type": "code",
   "execution_count": null,
   "metadata": {
    "ExecuteTime": {
     "end_time": "2023-04-07T21:32:06.285964Z",
     "start_time": "2023-04-07T21:32:06.270783Z"
    }
   },
   "outputs": [],
   "source": [
    "x"
   ]
  },
  {
   "cell_type": "markdown",
   "metadata": {},
   "source": [
    "kmeans step 1: randomly guess"
   ]
  },
  {
   "cell_type": "code",
   "execution_count": null,
   "metadata": {
    "ExecuteTime": {
     "end_time": "2023-04-07T21:34:38.210037Z",
     "start_time": "2023-04-07T21:34:38.202170Z"
    }
   },
   "outputs": [],
   "source": [
    "k = 3\n",
    "n = x.shape[0]\n",
    "group = np.random.randint(k,size=(n,))\n",
    "group"
   ]
  },
  {
   "cell_type": "markdown",
   "metadata": {},
   "source": [
    "kmeans step 2: calculate means of each cluster"
   ]
  },
  {
   "cell_type": "code",
   "execution_count": null,
   "metadata": {
    "ExecuteTime": {
     "end_time": "2023-04-07T21:39:49.215026Z",
     "start_time": "2023-04-07T21:39:49.210052Z"
    }
   },
   "outputs": [],
   "source": [
    "means = []\n",
    "for i in range(k):\n",
    "    mean = x[group==i,:].mean(0)\n",
    "    means += [mean]\n",
    "means = np.array(means)\n",
    "means"
   ]
  },
  {
   "cell_type": "markdown",
   "metadata": {},
   "source": [
    "kmeans step 3: group each point to its closest mean"
   ]
  },
  {
   "cell_type": "code",
   "execution_count": null,
   "metadata": {
    "ExecuteTime": {
     "end_time": "2023-04-07T21:39:47.672695Z",
     "start_time": "2023-04-07T21:39:47.660156Z"
    }
   },
   "outputs": [],
   "source": [
    "dists = []\n",
    "for i in range(k):\n",
    "    dist = x-means[i,:]\n",
    "    dist = (dist**2).sum(1)\n",
    "    dists += [dist]\n",
    "dists = np.array(dists)\n",
    "group = dists.argmin(0)\n",
    "group"
   ]
  },
  {
   "cell_type": "markdown",
   "metadata": {},
   "source": [
    "kmeans step 4: go back to step 2 until converges...\n",
    "\n",
    "Putting it all together:"
   ]
  },
  {
   "cell_type": "code",
   "execution_count": null,
   "metadata": {
    "ExecuteTime": {
     "end_time": "2023-04-07T21:41:32.216049Z",
     "start_time": "2023-04-07T21:41:32.196756Z"
    }
   },
   "outputs": [],
   "source": [
    "k = 3\n",
    "n = x.shape[0]\n",
    "max_iters = 100\n",
    "newgroup = np.random.randint(k,size=(n,))\n",
    "group = np.zeros((n,))\n",
    "for j in range(max_iters):\n",
    "    if (group==newgroup).all(): break\n",
    "    print('iteration')\n",
    "    group = newgroup\n",
    "    dists = []\n",
    "    for i in range(k):\n",
    "        mean = x[group==i,:].mean(0)\n",
    "        dist = x-mean\n",
    "        dist = (dist**2).sum(1)\n",
    "        dists += [dist]\n",
    "    dists = np.array(dists)\n",
    "    newgroup = dists.argmin(0)\n",
    "group"
   ]
  },
  {
   "cell_type": "code",
   "execution_count": null,
   "metadata": {
    "ExecuteTime": {
     "end_time": "2023-04-07T21:42:20.753839Z",
     "start_time": "2023-04-07T21:42:20.737788Z"
    }
   },
   "outputs": [],
   "source": [
    "(membership==group).mean()"
   ]
  },
  {
   "cell_type": "markdown",
   "metadata": {},
   "source": [
    "Confusion matrix"
   ]
  },
  {
   "cell_type": "code",
   "execution_count": null,
   "metadata": {
    "ExecuteTime": {
     "end_time": "2023-04-07T21:45:03.678413Z",
     "start_time": "2023-04-07T21:45:03.668310Z"
    }
   },
   "outputs": [],
   "source": [
    "membershipohe = np.zeros((membership.size, membership.max()+1))\n",
    "membershipohe[np.arange(membership.size),membership] = 1\n",
    "groupohe = np.zeros((group.size, group.max()+1))\n",
    "groupohe[np.arange(group.size),group] = 1\n",
    "membershipohe.T@groupohe"
   ]
  },
  {
   "cell_type": "markdown",
   "metadata": {},
   "source": [
    "accuracy"
   ]
  },
  {
   "cell_type": "code",
   "execution_count": null,
   "metadata": {
    "ExecuteTime": {
     "end_time": "2023-04-07T21:45:50.010487Z",
     "start_time": "2023-04-07T21:45:49.989905Z"
    }
   },
   "outputs": [],
   "source": [
    "(membershipohe.T@groupohe).max(1).sum()/groupohe.sum()"
   ]
  },
  {
   "cell_type": "markdown",
   "metadata": {},
   "source": [
    "putting all this in a function"
   ]
  },
  {
   "cell_type": "code",
   "execution_count": null,
   "metadata": {
    "ExecuteTime": {
     "end_time": "2023-04-07T21:46:40.028259Z",
     "start_time": "2023-04-07T21:46:40.013431Z"
    }
   },
   "outputs": [],
   "source": [
    "def kmeans(x,k,max_iters=100,seed=None):\n",
    "    n = x.shape[0]\n",
    "    if seed != None: np.random.seed(seed)\n",
    "    newgroup = np.random.randint(k,size=(n,))\n",
    "    group = np.zeros((n,))\n",
    "    for j in range(max_iters):\n",
    "        if (group==newgroup).all(): break\n",
    "        #print('iteration')\n",
    "        group = newgroup\n",
    "        dists = []\n",
    "        for i in range(k):\n",
    "            mean = x[group==i,:].mean(0)\n",
    "            dist = x-mean\n",
    "            dist = (dist**2).sum(1)\n",
    "            dists += [dist]\n",
    "        dists = np.array(dists)\n",
    "        newgroup = dists.argmin(0)\n",
    "    return newgroup"
   ]
  },
  {
   "cell_type": "markdown",
   "metadata": {},
   "source": [
    "Total within sum of squares calculation"
   ]
  },
  {
   "cell_type": "code",
   "execution_count": null,
   "metadata": {
    "ExecuteTime": {
     "end_time": "2023-04-07T21:48:27.173187Z",
     "start_time": "2023-04-07T21:48:27.152659Z"
    }
   },
   "outputs": [],
   "source": [
    "k = 5\n",
    "group = kmeans(x,k)\n",
    "means = np.array([x[group==i,:].mean(0) for i in range(k)])\n",
    "wss = [((x[group==i,:]-means[i,:])**2).sum() for i in range(k)]\n",
    "total_wss = sum(wss)\n",
    "total_wss"
   ]
  },
  {
   "cell_type": "markdown",
   "metadata": {},
   "source": [
    "Loop process and get min twss"
   ]
  },
  {
   "cell_type": "code",
   "execution_count": null,
   "metadata": {
    "ExecuteTime": {
     "end_time": "2023-04-07T21:48:47.720801Z",
     "start_time": "2023-04-07T21:48:47.715282Z"
    },
    "code_folding": []
   },
   "outputs": [],
   "source": [
    "def rep_kmeans(x,k,max_iters=100,seed=None,n_start=100):\n",
    "    twss = []\n",
    "    groups = []\n",
    "    for i in range(n_start):\n",
    "        group = kmeans(x,k,max_iters,seed)\n",
    "        means = np.array([x[group==i,:].mean(0) for i in range(k)])\n",
    "        wss = [((x[group==i,:]-means[i,:])**2).sum() for i in range(k)]\n",
    "        total_wss = sum(wss)\n",
    "        groups += [group]\n",
    "        twss += [total_wss]\n",
    "    group = groups[np.array(twss).argmin()]\n",
    "    return group"
   ]
  },
  {
   "cell_type": "code",
   "execution_count": null,
   "metadata": {
    "ExecuteTime": {
     "end_time": "2023-04-07T21:49:38.660084Z",
     "start_time": "2023-04-07T21:49:29.211885Z"
    }
   },
   "outputs": [],
   "source": [
    "k = 10\n",
    "group = rep_kmeans(x,k,n_start=250)\n",
    "means = np.array([x[group==i,:].mean(0) for i in range(k)])\n",
    "wss = [((x[group==i,:]-means[i,:])**2).sum() for i in range(k)]\n",
    "total_wss = sum(wss)\n",
    "total_wss"
   ]
  },
  {
   "cell_type": "markdown",
   "metadata": {},
   "source": [
    "Automatic elbow detector"
   ]
  },
  {
   "cell_type": "code",
   "execution_count": null,
   "metadata": {
    "ExecuteTime": {
     "end_time": "2023-04-07T21:50:34.768636Z",
     "start_time": "2023-04-07T21:50:34.765090Z"
    }
   },
   "outputs": [],
   "source": [
    "def auto_kmeans(x,k_max=10,max_iters=100,seed=None,n_start=100):\n",
    "    groups = []\n",
    "    twss = []\n",
    "    for k in range(1,k_max):\n",
    "        group = rep_kmeans(x,k,max_iters,seed,n_start)\n",
    "        means = np.array([x[group==i,:].mean(0) for i in range(k)])\n",
    "        wss = [((x[group==i,:]-means[i,:])**2).sum() for i in range(k)]\n",
    "        total_wss = sum(wss)\n",
    "        groups += [group]\n",
    "        twss += [total_wss]\n",
    "    twss = np.array(twss)\n",
    "    dwss = -np.diff(twss)\n",
    "    dwss = np.insert(dwss,0,dwss.sum()/np.log(k_max))\n",
    "    dwss = np.trim_zeros(dwss)\n",
    "    ratio = dwss[:-1]/dwss[1:]\n",
    "    ratio = ratio[:k_max]\n",
    "    k = ratio.argmax()\n",
    "    return groups[k]"
   ]
  },
  {
   "cell_type": "code",
   "execution_count": null,
   "metadata": {
    "ExecuteTime": {
     "end_time": "2023-04-07T21:50:50.024130Z",
     "start_time": "2023-04-07T21:50:37.241343Z"
    }
   },
   "outputs": [],
   "source": [
    "result = auto_kmeans(x)\n",
    "np.unique(result)"
   ]
  },
  {
   "cell_type": "code",
   "execution_count": null,
   "metadata": {
    "ExecuteTime": {
     "end_time": "2023-04-07T21:51:05.184335Z",
     "start_time": "2023-04-07T21:51:05.168758Z"
    }
   },
   "outputs": [],
   "source": [
    "membershipohe = np.zeros((membership.size, membership.max()+1))\n",
    "membershipohe[np.arange(membership.size),membership] = 1\n",
    "resultohe = np.zeros((result.size, result.max()+1))\n",
    "resultohe[np.arange(result.size),result] = 1\n",
    "membershipohe.T@resultohe"
   ]
  },
  {
   "cell_type": "code",
   "execution_count": null,
   "metadata": {
    "ExecuteTime": {
     "end_time": "2023-04-07T21:52:02.586902Z",
     "start_time": "2023-04-07T21:52:02.572114Z"
    }
   },
   "outputs": [],
   "source": [
    "(membershipohe.T@resultohe).max(1).sum()/membershipohe.sum()"
   ]
  },
  {
   "cell_type": "markdown",
   "metadata": {},
   "source": [
    "# Programming challenges\n",
    "\n",
    "## Quick sort\n",
    "\n",
    "Write a program which implements the quick sort algorithm.\n"
   ]
  },
  {
   "cell_type": "markdown",
   "metadata": {},
   "source": [
    "\n",
    "## $k$-Means class structure\n",
    "\n",
    "Write a class structure for our k-means code\n"
   ]
  }
 ],
 "metadata": {
  "kernelspec": {
   "display_name": "Python 3",
   "language": "python",
   "name": "python3"
  },
  "language_info": {
   "codemirror_mode": {
    "name": "ipython",
    "version": 3
   },
   "file_extension": ".py",
   "mimetype": "text/x-python",
   "name": "python",
   "nbconvert_exporter": "python",
   "pygments_lexer": "ipython3",
   "version": "3.8.8"
  },
  "toc": {
   "base_numbering": 1,
   "nav_menu": {},
   "number_sections": true,
   "sideBar": true,
   "skip_h1_title": false,
   "title_cell": "Table of Contents",
   "title_sidebar": "Contents",
   "toc_cell": false,
   "toc_position": {},
   "toc_section_display": true,
   "toc_window_display": false
  },
  "varInspector": {
   "cols": {
    "lenName": 16,
    "lenType": 16,
    "lenVar": 40
   },
   "kernels_config": {
    "python": {
     "delete_cmd_postfix": "",
     "delete_cmd_prefix": "del ",
     "library": "var_list.py",
     "varRefreshCmd": "print(var_dic_list())"
    },
    "r": {
     "delete_cmd_postfix": ") ",
     "delete_cmd_prefix": "rm(",
     "library": "var_list.r",
     "varRefreshCmd": "cat(var_dic_list()) "
    }
   },
   "types_to_exclude": [
    "module",
    "function",
    "builtin_function_or_method",
    "instance",
    "_Feature"
   ],
   "window_display": false
  }
 },
 "nbformat": 4,
 "nbformat_minor": 4
}