{
 "cells": [
  {
   "cell_type": "code",
   "execution_count": 1,
   "id": "71fedeeb",
   "metadata": {},
   "outputs": [
    {
     "name": "stdout",
     "output_type": "stream",
     "text": [
      "[[array([0.37454012, 0.95071431]), array([0.05808361, 0.86617615]), array([0.02058449, 0.96990985]), array([0.73199394, 0.59865848]), array([0.60111501, 0.70807258])], [array([0.15601864, 0.15599452]), array([0.18182497, 0.18340451]), array([0.30424224, 0.52475643]), array([0.43194502, 0.29122914])], [array([0.83244264, 0.21233911])]]\n"
     ]
    }
   ],
   "source": [
    "import numpy as np\n",
    "\n",
    "class HierarchicalClustering:\n",
    "    def __init__(self, n_clusters=2, linkage='single'):\n",
    "        self.n_clusters = n_clusters\n",
    "        self.linkage = linkage\n",
    "\n",
    "    def euclidean_distance(self, x, y):\n",
    "        return np.sqrt(np.sum((x - y) ** 2))\n",
    "\n",
    "    def single_linkage(self, cluster1, cluster2):\n",
    "        min_distance = float('inf')\n",
    "        for i in range(len(cluster1)):\n",
    "            for j in range(len(cluster2)):\n",
    "                dist = self.euclidean_distance(cluster1[i], cluster2[j])\n",
    "                if dist < min_distance:\n",
    "                    min_distance = dist\n",
    "        return min_distance\n",
    "\n",
    "    def fit(self, X):\n",
    "        clusters = [[x] for x in X]\n",
    "\n",
    "        while len(clusters) > self.n_clusters:\n",
    "            min_dist = float('inf')\n",
    "            merge_idx = (0, 0)\n",
    "\n",
    "            for i in range(len(clusters)):\n",
    "                for j in range(i + 1, len(clusters)):\n",
    "                    if self.linkage == 'single':\n",
    "                        dist = self.single_linkage(clusters[i], clusters[j])\n",
    "                    # Add other linkage methods like complete or average here\n",
    "\n",
    "                    if dist < min_dist:\n",
    "                        min_dist = dist\n",
    "                        merge_idx = (i, j)\n",
    "\n",
    "            merged_cluster = clusters[merge_idx[0]] + clusters[merge_idx[1]]\n",
    "            clusters.pop(merge_idx[1])\n",
    "            clusters[merge_idx[0]] = merged_cluster\n",
    "\n",
    "        return clusters\n",
    "\n",
    "# Example usage\n",
    "# Generate sample data\n",
    "np.random.seed(42)\n",
    "data = np.random.rand(10, 2)  # 10 samples, 2 features\n",
    "\n",
    "# Initialize and fit the hierarchical clustering\n",
    "model = HierarchicalClustering(n_clusters=3, linkage='single')\n",
    "result = model.fit(data)\n",
    "\n",
    "print(result)\n"
   ]
  },
  {
   "cell_type": "code",
   "execution_count": 2,
   "id": "62b5d065",
   "metadata": {},
   "outputs": [
    {
     "data": {
      "text/plain": [
       "3"
      ]
     },
     "execution_count": 2,
     "metadata": {},
     "output_type": "execute_result"
    }
   ],
   "source": [
    "len(result)"
   ]
  },
  {
   "cell_type": "code",
   "execution_count": 5,
   "id": "87c95160",
   "metadata": {},
   "outputs": [
    {
     "data": {
      "text/plain": [
       "[array([0.83244264, 0.21233911])]"
      ]
     },
     "execution_count": 5,
     "metadata": {},
     "output_type": "execute_result"
    }
   ],
   "source": [
    "result[2]"
   ]
  },
  {
   "cell_type": "code",
   "execution_count": 6,
   "id": "9d4370bb",
   "metadata": {},
   "outputs": [
    {
     "data": {
      "text/plain": [
       "array([0, 2, 1, ..., 2, 2, 2])"
      ]
     },
     "execution_count": 6,
     "metadata": {},
     "output_type": "execute_result"
    }
   ],
   "source": [
    "x1 = np.random.normal(loc=np.random.uniform(size=(5,))*10-5,size=(500,5))\n",
    "x2 = np.random.normal(loc=np.random.uniform(size=(5,))*10-5,size=(500,5))\n",
    "x3 = np.random.normal(loc=np.random.uniform(size=(5,))*10-5,size=(500,5))\n",
    "x = np.vstack((x1,x2,x3))\n",
    "shuffle = np.random.permutation(x.shape[0])\n",
    "x = x[shuffle,:]\n",
    "membership = shuffle.copy()\n",
    "for i in range(len(membership)):\n",
    "    if membership[i]<500: membership[i]=0\n",
    "    elif membership[i]<1000: membership[i]=1\n",
    "    else: membership[i]=2\n",
    "np.unique(membership,return_counts=True)\n",
    "membership\n"
   ]
  },
  {
   "cell_type": "code",
   "execution_count": null,
   "id": "d2d8bff8",
   "metadata": {},
   "outputs": [],
   "source": [
    "# Initialize and fit the hierarchical clustering\n",
    "model = HierarchicalClustering(n_clusters=3, linkage='single')\n",
    "result = model.fit(x)\n",
    "\n",
    "print(result)"
   ]
  },
  {
   "cell_type": "code",
   "execution_count": null,
   "id": "0ebf185c",
   "metadata": {},
   "outputs": [],
   "source": []
  }
 ],
 "metadata": {
  "kernelspec": {
   "display_name": "Python 3",
   "language": "python",
   "name": "python3"
  },
  "language_info": {
   "codemirror_mode": {
    "name": "ipython",
    "version": 3
   },
   "file_extension": ".py",
   "mimetype": "text/x-python",
   "name": "python",
   "nbconvert_exporter": "python",
   "pygments_lexer": "ipython3",
   "version": "3.8.8"
  }
 },
 "nbformat": 4,
 "nbformat_minor": 5
}
