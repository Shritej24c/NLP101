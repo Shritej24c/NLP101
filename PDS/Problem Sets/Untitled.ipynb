{
 "cells": [
  {
   "cell_type": "markdown",
   "id": "c251b42e",
   "metadata": {},
   "source": [
    "### Problem 1 - Linear Algebra: Real Business Cycles "
   ]
  },
  {
   "cell_type": "markdown",
   "id": "2bc6f2e3",
   "metadata": {},
   "source": [
    "Maximize \n",
    "$$ U = E_0 \\sum_{t = 0} \\beta^t \\frac{(c_t^{\\phi} l_t^{1-\\phi})^{1-\\rho}}{1-\\rho}$$\n",
    "\n",
    "Constraints:\n",
    "\n",
    "$$ y_t = z_t k_t^{\\alpha} n_t^{1-\\alpha}$$\n",
    "\n",
    "$$ 1 = n_t + l_t $$\n",
    "\n",
    "$$ y_t = c_t + i_t $$\n",
    "\n",
    "$$ k_{t+1}= i_t + (1 - \\delta) k_t$$"
   ]
  },
  {
   "cell_type": "markdown",
   "id": "995582e4",
   "metadata": {},
   "source": [
    "Solving constraints and writing it in 1 equation we get,\n",
    "\n",
    "Substituting $n_t$, $y_t$ and $i_t$\n",
    "\n",
    "$$ c_t + k_{t+1} - (1 - \\delta) k_t = z_t k_t^{\\alpha} (1 - l_t)^{1-\\alpha} $$"
   ]
  },
  {
   "cell_type": "markdown",
   "id": "5f52886e",
   "metadata": {},
   "source": [
    "Using Lagrange Multipliers we get, \n",
    "\n",
    "\n",
    "$$ U = E_0 \\sum_{t = 0} \\beta^t \\frac{(c_t^{\\phi} l_t^{1-\\phi})^{1-\\rho}}{1-\\rho} - \\lambda_t[c_t + k_{t+1} - (1-\\delta)k_t - z_tk_t^{\\alpha} (1 - l_t)^{1-\\alpha}] $$\n"
   ]
  },
  {
   "cell_type": "markdown",
   "id": "e674e2f9",
   "metadata": {},
   "source": [
    "Unconstrained version & First-Order Conditions (FOCs)\n",
    "\n",
    "$$\\frac{\\partial U}{\\partial c_t} = \\beta^t \\phi \\frac{(c_t^{\\phi} l_t^{1-\\phi})^{1-\\rho}}{c_t}  - \\lambda_t$$   \n",
    "\n",
    "$$ \\frac{\\partial U}{\\partial l_t} = \\beta^t (1 -\\phi) \\frac{(c_t^{\\phi} l_t^{1-\\phi})^{1-\\rho}}{l_t}  - \\lambda_t (1-\\alpha) z_t k_t^{\\alpha} (1 -l_t)^{-\\alpha}$$\n",
    "\n",
    "$$ \\frac{\\partial U}{\\partial k_t} = -\\lambda_{t-1} + E_{t-1}[\\lambda_t (1-\\delta) + \\lambda_t z_t \\alpha k_t^{\\alpha - 1} (1 - l_t)^{1-\\alpha} ]$$ \n"
   ]
  },
  {
   "cell_type": "markdown",
   "id": "734cfeb8",
   "metadata": {},
   "source": [
    "Equating all the above first-order partial derivations to zero\n",
    "\n",
    "$$   \\lambda_t = \\beta^t \\phi \\frac{(c^{\\phi} l^{1-\\phi})^{1-\\rho}}{c_t} $$\n",
    "\n",
    "$$ \\beta^t (1 -\\phi) \\frac{(c_t^{\\phi} l_t^{1-\\phi})^{1-\\rho}}{l_t}  = \\lambda_t (1-\\alpha) z_t k_t^{\\alpha} (1 -l_t)^{-\\alpha} $$\n",
    "\n",
    "$$ \\lambda_{t-1} = E_{t-1}\\lambda_t[ (1-\\delta) + z_t \\alpha k_t^{\\alpha - 1} (1 - l_t)^{1-\\alpha} ]$$ \n"
   ]
  },
  {
   "cell_type": "markdown",
   "id": "07663311",
   "metadata": {},
   "source": [
    "Eliminating Lagrange Multipliers:\n",
    "\n",
    "Substituting the value of $\\lambda_t$ in equation 2, we get\n",
    "\n",
    "\n",
    "$$ \\beta^t (1 -\\phi) \\frac{(c_t^{\\phi} l_t^{1-\\phi})^{1-\\rho}}{l_t}  = \\beta^t \\phi \\frac{(c_t^{\\phi} l_t^{1-\\phi})^{1-\\rho}}{c_t} (1-\\alpha) z_t k_t^{\\alpha} (1 -l_t)^{-\\alpha} $$\n",
    "\n",
    "Eq. 1\n",
    "\n",
    "$$ \\frac{(1 -\\phi)(1 -l_t)^{\\alpha}}{\\phi} \\frac{c_t}{l_t}  = (1-\\alpha) z_t k_t^{\\alpha} $$\n"
   ]
  },
  {
   "cell_type": "markdown",
   "id": "aa69b364",
   "metadata": {},
   "source": [
    "Substituting the value of $\\lambda_{t-1}$ in equation 2, we get\n",
    "\n",
    "Eqn 2\n",
    "\n",
    "$$   \\frac{(c_{t-1}^{\\phi} l_{t-1}^{1-\\phi})^{1-\\rho}}{c_{t-1}} = E_{t-1}\\beta \\frac{(c_t^{\\phi} l_t^{1-\\phi})^{1-\\rho}}{c_t}[ (1-\\delta) + z_t \\alpha k_t^{\\alpha - 1} (1 - l_t)^{1-\\alpha} ]$$ \n"
   ]
  },
  {
   "cell_type": "markdown",
   "id": "dc61808d",
   "metadata": {},
   "source": [
    "Simplifying above 2 equations, we get\n",
    "\n",
    "$$ \\frac{(1 -\\phi)}{\\phi} \\frac{c_t}{l_t}  = (1-\\alpha) \\frac{y_t}{n_t} $$\n",
    "\n",
    "\n",
    "$$   \\frac{u(c_{t-1}, l_{t-1})}{c_{t-1}} = E_{t-1}\\beta \\frac{u(c_{t}, l_{t})}{c_t}[ (1-\\delta) + \\alpha \\frac{y_t}{k_t} ]$$ \n",
    "\n",
    "\n",
    "Moreover with previous constraints, we have\n",
    "\n",
    "\n",
    "$$ y_t = z_t k_t^{\\alpha} n_t^{1-\\alpha}$$\n",
    "\n",
    "$$ 1 = n_t + l_t $$\n",
    "\n",
    "$$ y_t = c_t + i_t $$\n",
    "\n",
    "$$ k_{t+1}= i_t + (1 - \\delta) k_t$$\n",
    "\n",
    "$$ u(c_{t}, l_{t})  = \\frac{(c_t^{\\phi} l_t^{1-\\phi})^{1-\\rho}}{1-\\rho} $$"
   ]
  },
  {
   "cell_type": "markdown",
   "id": "aa2849cb",
   "metadata": {},
   "source": [
    "### Problem 2 - Programming : L2 Regularization "
   ]
  },
  {
   "cell_type": "code",
   "execution_count": 11,
   "id": "26a05d65",
   "metadata": {},
   "outputs": [],
   "source": [
    "!pip install --upgrade pip -qq\n",
    "!pip3 install cvxopt -U -qq"
   ]
  },
  {
   "cell_type": "code",
   "execution_count": 12,
   "id": "903957ac",
   "metadata": {},
   "outputs": [
    {
     "ename": "ModuleNotFoundError",
     "evalue": "No module named 'cvxopt'",
     "output_type": "error",
     "traceback": [
      "\u001b[0;31m---------------------------------------------------------------------------\u001b[0m",
      "\u001b[0;31mModuleNotFoundError\u001b[0m                       Traceback (most recent call last)",
      "\u001b[0;32m<ipython-input-12-8240fe3f5e88>\u001b[0m in \u001b[0;36m<module>\u001b[0;34m\u001b[0m\n\u001b[1;32m      1\u001b[0m \u001b[0;32mimport\u001b[0m \u001b[0mnumpy\u001b[0m \u001b[0;32mas\u001b[0m \u001b[0mnp\u001b[0m\u001b[0;34m\u001b[0m\u001b[0;34m\u001b[0m\u001b[0m\n\u001b[0;32m----> 2\u001b[0;31m \u001b[0;32mfrom\u001b[0m \u001b[0mcvxopt\u001b[0m \u001b[0;32mimport\u001b[0m \u001b[0mmatrix\u001b[0m\u001b[0;34m,\u001b[0m \u001b[0msolvers\u001b[0m\u001b[0;34m\u001b[0m\u001b[0;34m\u001b[0m\u001b[0m\n\u001b[0m\u001b[1;32m      3\u001b[0m \u001b[0;34m\u001b[0m\u001b[0m\n\u001b[1;32m      4\u001b[0m \u001b[0;32mdef\u001b[0m \u001b[0mridge_regression\u001b[0m\u001b[0;34m(\u001b[0m\u001b[0mX\u001b[0m\u001b[0;34m,\u001b[0m \u001b[0my\u001b[0m\u001b[0;34m,\u001b[0m \u001b[0mlambda_reg\u001b[0m\u001b[0;34m)\u001b[0m\u001b[0;34m:\u001b[0m\u001b[0;34m\u001b[0m\u001b[0;34m\u001b[0m\u001b[0m\n\u001b[1;32m      5\u001b[0m     \u001b[0mn\u001b[0m\u001b[0;34m,\u001b[0m \u001b[0mp\u001b[0m \u001b[0;34m=\u001b[0m \u001b[0mX\u001b[0m\u001b[0;34m.\u001b[0m\u001b[0mshape\u001b[0m\u001b[0;34m\u001b[0m\u001b[0;34m\u001b[0m\u001b[0m\n",
      "\u001b[0;31mModuleNotFoundError\u001b[0m: No module named 'cvxopt'"
     ]
    }
   ],
   "source": [
    "import numpy as np\n",
    "from cvxopt import matrix, solvers\n",
    "\n",
    "def ridge_regression(X, y, lambda_reg):\n",
    "    n, p = X.shape\n",
    "    Q = X.T @ X + lambda_reg * np.identity(p)\n",
    "    c = -X.T @ y\n",
    "\n",
    "    # Define the equality constraint A * β = b (optional).\n",
    "    A = -np.identity(p)\n",
    "    b = np.zeros(p)\n",
    "\n",
    "    # Convert matrices and vectors to CVXOPT format.\n",
    "    Q = matrix(Q)\n",
    "    c = matrix(c)\n",
    "    A = matrix(A)\n",
    "    b = matrix(b)\n",
    "\n",
    "    # Solve the quadratic programming problem.\n",
    "    sol = solvers.qp(Q, c, A, b)\n",
    "\n",
    "    # Extract the solution (model coefficients).\n",
    "    beta = np.array(sol['x'])\n",
    "\n",
    "    return beta\n",
    "\n",
    "# Example usage:\n",
    "X = np.array([[1, 2], [2, 3], [3, 4], [4, 5]])\n",
    "y = np.array([1, 2, 3, 4])\n",
    "lambda_reg = 0.1\n",
    "\n",
    "beta = ridge_regression(X, y, lambda_reg)\n",
    "print(\"Ridge Regression Coefficients:\")\n",
    "print(beta)\n"
   ]
  },
  {
   "cell_type": "code",
   "execution_count": null,
   "id": "80f98dda",
   "metadata": {},
   "outputs": [],
   "source": []
  },
  {
   "cell_type": "code",
   "execution_count": null,
   "id": "6792157f",
   "metadata": {},
   "outputs": [],
   "source": []
  }
 ],
 "metadata": {
  "kernelspec": {
   "display_name": "PyCharm (NLP101)",
   "language": "python",
   "name": "pycharm-36c6da16"
  },
  "language_info": {
   "codemirror_mode": {
    "name": "ipython",
    "version": 3
   },
   "file_extension": ".py",
   "mimetype": "text/x-python",
   "name": "python",
   "nbconvert_exporter": "python",
   "pygments_lexer": "ipython3",
   "version": "3.9.1"
  }
 },
 "nbformat": 4,
 "nbformat_minor": 5
}
