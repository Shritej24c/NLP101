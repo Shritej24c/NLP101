{
 "cells": [
  {
   "cell_type": "markdown",
   "metadata": {
    "collapsed": true
   },
   "source": [
    "### Linear Algebra\n",
    "\n",
    "#### Question 1 - Partition Matrices \n",
    "\n",
    "Given, \n",
    "\n",
    "$$ \n",
    "X = \\begin{bmatrix}\n",
    "X_1 &  X_2 \\\\\n",
    "\\end{bmatrix},  \\beta = \\begin{bmatrix}\n",
    "\\beta_1 \\\\\n",
    "\\beta_2\n",
    "\\end{bmatrix}$$\n",
    "\n",
    "\n",
    "$$\\hat\\beta = (X'X)^{-1}X'y $$\n",
    "\n",
    "\n",
    "Let's evaluate \n",
    "\n",
    "$$\n",
    "(X'X)^{-1} =\\begin{bmatrix}\n",
    "X_1'X_1 & X_1'X_2 \\\\\n",
    "X_2'X_1 & X_2'X_2\n",
    "\\end{bmatrix}^{-1}$$ \n",
    "\n",
    "Therefore,\n",
    "\n",
    "$$\n",
    "(X'X)^{-1} =\\begin{bmatrix}\n",
    "[X_1'X_1 - X_1'X_2(X_2'X_2)^{-1}X_2'X_1]^{-1} & -[X_1'X_1 - X_1'X_2(X_2'X_2)^{-1}X_2'X_1]^{-1}X_1'X_2(X_2'X_2)^{-1} \\\\\n",
    "-[X_2'X_2 - X_2'X_1(X_1'X_1)^{-1}X_1'X_2]^{-1}X_2'X_1(X_1'X_1)^{-1} & [X_2'X_2 - X_2'X_1(X_1'X_1)^{-1}X_1'X_2]^{-1}\n",
    "\\end{bmatrix}$$\n",
    "\n",
    "\n",
    "Also, we know that, \n",
    "\n",
    "\n",
    "\n",
    "$$\n",
    "X'y = \\begin{bmatrix}\n",
    "X_1'y \\\\\n",
    "X_2'y\n",
    "\\end{bmatrix}$$\n",
    "\n",
    "Therefore, \n",
    "\n",
    "\n",
    "$$\n",
    "\\beta = (X'X)^{-1}X'y =\\begin{bmatrix}\n",
    "[X_1'X_1 - X_1'X_2(X_2'X_2)^{-1}X_2'X_1]^{-1}X_1'y -[X_1'X_1 - X_1'X_2(X_2'X_2)^{-1}X_2'X_1]^{-1}X_1'X_2(X_2'X_2)^{-1}X_2'y \\\\\n",
    "-[X_2'X_2 - X_2'X_1(X_1'X_1)^{-1}X_1'X_2]^{-1}X_2'X_1(X_1'X_1)^{-1}X_1'y + [X_2'X_2 - X_2'X_1(X_1'X_1)^{-1}X_1'X_2]^{-1}X_2'y\n",
    "\\end{bmatrix}$$\n",
    "\n",
    "\n",
    "And now $\\beta$ can be written as, \n",
    "\n",
    "$$\\beta = \\begin{bmatrix}\n",
    "\\beta_1 \\\\\n",
    "\\beta_2\n",
    "\\end{bmatrix} = \\begin{bmatrix}\n",
    "[X_1'X_1 - X_1'X_2(X_2'X_2)^{-1}X_2'X_1]^{-1}X_1'y -[X_1'X_1 - X_1'X_2(X_2'X_2)^{-1}X_2'X_1]^{-1}X_1'X_2(X_2'X_2)^{-1}X_2'y \\\\\n",
    "-[X_2'X_2 - X_2'X_1(X_1'X_1)^{-1}X_1'X_2]^{-1}X_2'X_1(X_1'X_1)^{-1}X_1'y + [X_2'X_2 - X_2'X_1(X_1'X_1)^{-1}X_1'X_2]^{-1}X_2'y\n",
    "\\end{bmatrix}$$\n",
    "\n",
    "\n",
    "for $\\beta_1$, \n",
    "\n",
    "$$ \\beta_1  = \n",
    "[X_1'X_1 - X_1'X_2(X_2'X_2)^{-1}X_2'X_1]^{-1}[X_1'y - X_1'X_2(X_2'X_2)^{-1}X_2'y]$$\n",
    "\n",
    "\n",
    "From the previous P.S. 1, we remember, \n",
    "\n",
    "\n",
    "$$P = X(X'X)^{-1}X'$$\n",
    "\n",
    "Therefore, \n",
    "\n",
    "\n",
    "$$ \\beta_1  = \n",
    "[X_1'X_1 - X_1'P_2X_1]^{-1}[X_1'y - X_1'P_2y]$$\n",
    "\n",
    "$$ \\beta_1  = \n",
    "[X_1'(I_n -P_2)X_1]^{-1}[X_1'(I_n - P_2)y]$$\n",
    "\n",
    "\n",
    "Since, we know $M = I_n - P$\n",
    "\n",
    "Therefore\n",
    "\n",
    "$$ \\beta_1  = \n",
    "[X_1'M_2X_1]^{-1}[X_1'M_2y]$$\n",
    "\n",
    "Similarly, \n",
    "\n",
    "$$ \\beta_2  = \n",
    "[X_2'M_1X_2]^{-1}[X_2'M_1y]$$\n",
    "\n",
    "\n",
    "Moreover, $My = \\hat{e}$ therefore\n",
    "\n",
    "$$\\beta = \\begin{bmatrix}\n",
    "\\beta_1 \\\\\n",
    "\\beta_2\n",
    "\\end{bmatrix} = \\begin{bmatrix} \n",
    "[X_1'M_2X_1]^{-1}[X_1'\\hat{e_2}] \\\\\n",
    "[X_2'M_1X_2]^{-1}[X_2'\\hat{e_1}]\n",
    "\\end{bmatrix} $$\n"
   ]
  },
  {
   "cell_type": "markdown",
   "metadata": {},
   "source": [
    "### Programming \n",
    "\n",
    "#### Question 2: Newey-West Estimator"
   ]
  },
  {
   "cell_type": "code",
   "execution_count": 1,
   "metadata": {},
   "outputs": [
    {
     "data": {
      "text/html": [
       "<div>\n",
       "<style scoped>\n",
       "    .dataframe tbody tr th:only-of-type {\n",
       "        vertical-align: middle;\n",
       "    }\n",
       "\n",
       "    .dataframe tbody tr th {\n",
       "        vertical-align: top;\n",
       "    }\n",
       "\n",
       "    .dataframe thead th {\n",
       "        text-align: right;\n",
       "    }\n",
       "</style>\n",
       "<table border=\"1\" class=\"dataframe\">\n",
       "  <thead>\n",
       "    <tr style=\"text-align: right;\">\n",
       "      <th></th>\n",
       "      <th>faminc</th>\n",
       "      <th>cigtax</th>\n",
       "      <th>cigprice</th>\n",
       "      <th>bwght</th>\n",
       "      <th>fatheduc</th>\n",
       "      <th>motheduc</th>\n",
       "      <th>parity</th>\n",
       "      <th>male</th>\n",
       "      <th>white</th>\n",
       "      <th>cigs</th>\n",
       "      <th>lbwght</th>\n",
       "      <th>bwghtlbs</th>\n",
       "      <th>packs</th>\n",
       "      <th>lfaminc</th>\n",
       "    </tr>\n",
       "  </thead>\n",
       "  <tbody>\n",
       "    <tr>\n",
       "      <th>0</th>\n",
       "      <td>13.5</td>\n",
       "      <td>16.5</td>\n",
       "      <td>122.3</td>\n",
       "      <td>109</td>\n",
       "      <td>12.0</td>\n",
       "      <td>12.0</td>\n",
       "      <td>1</td>\n",
       "      <td>1</td>\n",
       "      <td>1</td>\n",
       "      <td>0</td>\n",
       "      <td>4.691348</td>\n",
       "      <td>6.8125</td>\n",
       "      <td>0.0</td>\n",
       "      <td>2.602690</td>\n",
       "    </tr>\n",
       "    <tr>\n",
       "      <th>1</th>\n",
       "      <td>7.5</td>\n",
       "      <td>16.5</td>\n",
       "      <td>122.3</td>\n",
       "      <td>133</td>\n",
       "      <td>6.0</td>\n",
       "      <td>12.0</td>\n",
       "      <td>2</td>\n",
       "      <td>1</td>\n",
       "      <td>0</td>\n",
       "      <td>0</td>\n",
       "      <td>4.890349</td>\n",
       "      <td>8.3125</td>\n",
       "      <td>0.0</td>\n",
       "      <td>2.014903</td>\n",
       "    </tr>\n",
       "    <tr>\n",
       "      <th>2</th>\n",
       "      <td>0.5</td>\n",
       "      <td>16.5</td>\n",
       "      <td>122.3</td>\n",
       "      <td>129</td>\n",
       "      <td>NaN</td>\n",
       "      <td>12.0</td>\n",
       "      <td>2</td>\n",
       "      <td>0</td>\n",
       "      <td>0</td>\n",
       "      <td>0</td>\n",
       "      <td>4.859812</td>\n",
       "      <td>8.0625</td>\n",
       "      <td>0.0</td>\n",
       "      <td>-0.693147</td>\n",
       "    </tr>\n",
       "    <tr>\n",
       "      <th>3</th>\n",
       "      <td>15.5</td>\n",
       "      <td>16.5</td>\n",
       "      <td>122.3</td>\n",
       "      <td>126</td>\n",
       "      <td>12.0</td>\n",
       "      <td>12.0</td>\n",
       "      <td>2</td>\n",
       "      <td>1</td>\n",
       "      <td>0</td>\n",
       "      <td>0</td>\n",
       "      <td>4.836282</td>\n",
       "      <td>7.8750</td>\n",
       "      <td>0.0</td>\n",
       "      <td>2.740840</td>\n",
       "    </tr>\n",
       "    <tr>\n",
       "      <th>4</th>\n",
       "      <td>27.5</td>\n",
       "      <td>16.5</td>\n",
       "      <td>122.3</td>\n",
       "      <td>134</td>\n",
       "      <td>14.0</td>\n",
       "      <td>12.0</td>\n",
       "      <td>2</td>\n",
       "      <td>1</td>\n",
       "      <td>1</td>\n",
       "      <td>0</td>\n",
       "      <td>4.897840</td>\n",
       "      <td>8.3750</td>\n",
       "      <td>0.0</td>\n",
       "      <td>3.314186</td>\n",
       "    </tr>\n",
       "  </tbody>\n",
       "</table>\n",
       "</div>"
      ],
      "text/plain": [
       "   faminc  cigtax  cigprice  bwght  fatheduc  motheduc  parity  male  white  \\\n",
       "0    13.5    16.5     122.3    109      12.0      12.0       1     1      1   \n",
       "1     7.5    16.5     122.3    133       6.0      12.0       2     1      0   \n",
       "2     0.5    16.5     122.3    129       NaN      12.0       2     0      0   \n",
       "3    15.5    16.5     122.3    126      12.0      12.0       2     1      0   \n",
       "4    27.5    16.5     122.3    134      14.0      12.0       2     1      1   \n",
       "\n",
       "   cigs    lbwght  bwghtlbs  packs   lfaminc  \n",
       "0     0  4.691348    6.8125    0.0  2.602690  \n",
       "1     0  4.890349    8.3125    0.0  2.014903  \n",
       "2     0  4.859812    8.0625    0.0 -0.693147  \n",
       "3     0  4.836282    7.8750    0.0  2.740840  \n",
       "4     0  4.897840    8.3750    0.0  3.314186  "
      ]
     },
     "execution_count": 1,
     "metadata": {},
     "output_type": "execute_result"
    }
   ],
   "source": [
    "import numpy as np\n",
    "import pandas as pd\n",
    "\n",
    "df = pd.read_csv(\"BWGHT.csv\")\n",
    "df.head()"
   ]
  },
  {
   "cell_type": "code",
   "execution_count": 2,
   "metadata": {},
   "outputs": [
    {
     "data": {
      "text/plain": [
       "array([111.5923058 ,  -5.06396699,   3.18048888])"
      ]
     },
     "execution_count": 2,
     "metadata": {},
     "output_type": "execute_result"
    }
   ],
   "source": [
    "df['(intercept)'] = 1\n",
    "x = df[['(intercept)','cigs','faminc']]\n",
    "y = df['bwght']\n",
    "b = np.linalg.solve(x.T@x,x.T@y)\n",
    "e = y-x@b\n",
    "vb = e.var()*np.linalg.inv(x.T@x)\n",
    "se = np.sqrt(np.diagonal(vb))\n",
    "tstat = b/se\n",
    "tstat"
   ]
  },
  {
   "cell_type": "code",
   "execution_count": 37,
   "metadata": {},
   "outputs": [],
   "source": [
    "class linear_model:\n",
    "    def __init__(self,x,y):\n",
    "        self.x = x\n",
    "        self.y = y\n",
    "        self.b = np.linalg.solve(x.T@x,x.T@y)\n",
    "        e = y-x@self.b\n",
    "        self.vb = self.vcov_b(e)\n",
    "        self.se = np.sqrt(np.diagonal(self.vb))\n",
    "        self.t = self.b/self.se\n",
    "        \n",
    "    def vcov_b(self,e):\n",
    "        x = self.x\n",
    "        return e.var()*np.linalg.inv(x.T@x)\n",
    "\n",
    "class white(linear_model):\n",
    "    \n",
    "    def vcov_b(self,e):\n",
    "        x = self.x\n",
    "        meat = np.diagflat(e.values**2)\n",
    "        bread = np.linalg.solve(x.T@x,x.T)\n",
    "        sandwich = bread@meat@bread.T\n",
    "        return sandwich"
   ]
  },
  {
   "cell_type": "code",
   "execution_count": 59,
   "metadata": {},
   "outputs": [
    {
     "data": {
      "text/plain": [
       "array([111.5923058 ,  -5.06396699,   3.18048888])"
      ]
     },
     "execution_count": 59,
     "metadata": {},
     "output_type": "execute_result"
    }
   ],
   "source": [
    "linear_model(x,y).t"
   ]
  },
  {
   "cell_type": "code",
   "execution_count": 58,
   "metadata": {},
   "outputs": [
    {
     "data": {
      "text/plain": [
       "array([112.90005924,  -5.2265898 ,   3.24858029])"
      ]
     },
     "execution_count": 58,
     "metadata": {},
     "output_type": "execute_result"
    }
   ],
   "source": [
    "white(x,y).t"
   ]
  },
  {
   "cell_type": "code",
   "execution_count": 56,
   "metadata": {},
   "outputs": [],
   "source": [
    "class newey(linear_model):\n",
    "    def vcov_b(self, e):\n",
    "        # Calculate the diagonal matrix with variances of 'e'\n",
    "        diag = np.diagflat([e.var()]*len(e))\n",
    "        \n",
    "        # Calculate the autocovariance matrix\n",
    "        auto1 = np.array([e[i]*e[i+1] for i in range(0, len(e)-1)])\n",
    "        \n",
    "        # Calculate the two off-diagonal matrices\n",
    "        diag1 = np.diagflat([np.sum(auto1)/(len(e) - 1)]*(len(e)-1), 1)\n",
    "        diag2 = np.diagflat([np.sum(auto1)/(len(e) - 1)]*(len(e)-1), -1)\n",
    "        \n",
    "        # Calculate the 'meat' of the sandwich estimator\n",
    "        meat = diag2 + diag + diag1\n",
    "        \n",
    "        # Calculate the inverse of the X'X matrix (bread)\n",
    "        bread = np.linalg.inv(x.T @ x)\n",
    "        \n",
    "        # Calculate the robust sandwich estimator for the variance-covariance matrix\n",
    "        sandwich = bread @ x.T @ meat @ x @ bread\n",
    "        \n",
    "        return sandwich\n"
   ]
  },
  {
   "cell_type": "code",
   "execution_count": 57,
   "metadata": {},
   "outputs": [
    {
     "data": {
      "text/plain": [
       "array([110.26791072,  -5.05761134,   3.17422313])"
      ]
     },
     "execution_count": 57,
     "metadata": {},
     "output_type": "execute_result"
    }
   ],
   "source": [
    "newey(x,y).t"
   ]
  },
  {
   "cell_type": "code",
   "execution_count": 1,
   "metadata": {},
   "outputs": [
    {
     "ename": "TypeError",
     "evalue": "'q' must be a 'd' matrix with one column",
     "output_type": "error",
     "traceback": [
      "\u001b[0;31m---------------------------------------------------------------------------\u001b[0m",
      "\u001b[0;31mTypeError\u001b[0m                                 Traceback (most recent call last)",
      "\u001b[0;32m<ipython-input-1-8240fe3f5e88>\u001b[0m in \u001b[0;36m<module>\u001b[0;34m\u001b[0m\n\u001b[1;32m     30\u001b[0m \u001b[0mlambda_reg\u001b[0m \u001b[0;34m=\u001b[0m \u001b[0;36m0.1\u001b[0m\u001b[0;34m\u001b[0m\u001b[0;34m\u001b[0m\u001b[0m\n\u001b[1;32m     31\u001b[0m \u001b[0;34m\u001b[0m\u001b[0m\n\u001b[0;32m---> 32\u001b[0;31m \u001b[0mbeta\u001b[0m \u001b[0;34m=\u001b[0m \u001b[0mridge_regression\u001b[0m\u001b[0;34m(\u001b[0m\u001b[0mX\u001b[0m\u001b[0;34m,\u001b[0m \u001b[0my\u001b[0m\u001b[0;34m,\u001b[0m \u001b[0mlambda_reg\u001b[0m\u001b[0;34m)\u001b[0m\u001b[0;34m\u001b[0m\u001b[0;34m\u001b[0m\u001b[0m\n\u001b[0m\u001b[1;32m     33\u001b[0m \u001b[0mprint\u001b[0m\u001b[0;34m(\u001b[0m\u001b[0;34m\"Ridge Regression Coefficients:\"\u001b[0m\u001b[0;34m)\u001b[0m\u001b[0;34m\u001b[0m\u001b[0;34m\u001b[0m\u001b[0m\n\u001b[1;32m     34\u001b[0m \u001b[0mprint\u001b[0m\u001b[0;34m(\u001b[0m\u001b[0mbeta\u001b[0m\u001b[0;34m)\u001b[0m\u001b[0;34m\u001b[0m\u001b[0;34m\u001b[0m\u001b[0m\n",
      "\u001b[0;32m<ipython-input-1-8240fe3f5e88>\u001b[0m in \u001b[0;36mridge_regression\u001b[0;34m(X, y, lambda_reg)\u001b[0m\n\u001b[1;32m     18\u001b[0m \u001b[0;34m\u001b[0m\u001b[0m\n\u001b[1;32m     19\u001b[0m     \u001b[0;31m# Solve the quadratic programming problem.\u001b[0m\u001b[0;34m\u001b[0m\u001b[0;34m\u001b[0m\u001b[0;34m\u001b[0m\u001b[0m\n\u001b[0;32m---> 20\u001b[0;31m     \u001b[0msol\u001b[0m \u001b[0;34m=\u001b[0m \u001b[0msolvers\u001b[0m\u001b[0;34m.\u001b[0m\u001b[0mqp\u001b[0m\u001b[0;34m(\u001b[0m\u001b[0mQ\u001b[0m\u001b[0;34m,\u001b[0m \u001b[0mc\u001b[0m\u001b[0;34m,\u001b[0m \u001b[0mA\u001b[0m\u001b[0;34m,\u001b[0m \u001b[0mb\u001b[0m\u001b[0;34m)\u001b[0m\u001b[0;34m\u001b[0m\u001b[0;34m\u001b[0m\u001b[0m\n\u001b[0m\u001b[1;32m     21\u001b[0m \u001b[0;34m\u001b[0m\u001b[0m\n\u001b[1;32m     22\u001b[0m     \u001b[0;31m# Extract the solution (model coefficients).\u001b[0m\u001b[0;34m\u001b[0m\u001b[0;34m\u001b[0m\u001b[0;34m\u001b[0m\u001b[0m\n",
      "\u001b[0;32m~/.local/lib/python3.8/site-packages/cvxopt/coneprog.py\u001b[0m in \u001b[0;36mqp\u001b[0;34m(P, q, G, h, A, b, solver, kktsolver, initvals, **kwargs)\u001b[0m\n\u001b[1;32m   4483\u001b[0m             'residual as dual infeasibility certificate': dinfres}\n\u001b[1;32m   4484\u001b[0m \u001b[0;34m\u001b[0m\u001b[0m\n\u001b[0;32m-> 4485\u001b[0;31m     \u001b[0;32mreturn\u001b[0m \u001b[0mconeqp\u001b[0m\u001b[0;34m(\u001b[0m\u001b[0mP\u001b[0m\u001b[0;34m,\u001b[0m \u001b[0mq\u001b[0m\u001b[0;34m,\u001b[0m \u001b[0mG\u001b[0m\u001b[0;34m,\u001b[0m \u001b[0mh\u001b[0m\u001b[0;34m,\u001b[0m \u001b[0;32mNone\u001b[0m\u001b[0;34m,\u001b[0m \u001b[0mA\u001b[0m\u001b[0;34m,\u001b[0m  \u001b[0mb\u001b[0m\u001b[0;34m,\u001b[0m \u001b[0minitvals\u001b[0m\u001b[0;34m,\u001b[0m \u001b[0mkktsolver\u001b[0m \u001b[0;34m=\u001b[0m \u001b[0mkktsolver\u001b[0m\u001b[0;34m,\u001b[0m \u001b[0moptions\u001b[0m \u001b[0;34m=\u001b[0m \u001b[0moptions\u001b[0m\u001b[0;34m)\u001b[0m\u001b[0;34m\u001b[0m\u001b[0;34m\u001b[0m\u001b[0m\n\u001b[0m",
      "\u001b[0;32m~/.local/lib/python3.8/site-packages/cvxopt/coneprog.py\u001b[0m in \u001b[0;36mconeqp\u001b[0;34m(P, q, G, h, dims, A, b, initvals, kktsolver, xnewcopy, xdot, xaxpy, xscal, ynewcopy, ydot, yaxpy, yscal, **kwargs)\u001b[0m\n\u001b[1;32m   1835\u001b[0m \u001b[0;34m\u001b[0m\u001b[0m\n\u001b[1;32m   1836\u001b[0m     \u001b[0;32mif\u001b[0m \u001b[0;32mnot\u001b[0m \u001b[0mcustomx\u001b[0m \u001b[0;32mand\u001b[0m \u001b[0;34m(\u001b[0m\u001b[0;32mnot\u001b[0m \u001b[0misinstance\u001b[0m\u001b[0;34m(\u001b[0m\u001b[0mq\u001b[0m\u001b[0;34m,\u001b[0m\u001b[0mmatrix\u001b[0m\u001b[0;34m)\u001b[0m \u001b[0;32mor\u001b[0m \u001b[0mq\u001b[0m\u001b[0;34m.\u001b[0m\u001b[0mtypecode\u001b[0m \u001b[0;34m!=\u001b[0m \u001b[0;34m'd'\u001b[0m \u001b[0;32mor\u001b[0m \u001b[0mq\u001b[0m\u001b[0;34m.\u001b[0m\u001b[0msize\u001b[0m\u001b[0;34m[\u001b[0m\u001b[0;36m1\u001b[0m\u001b[0;34m]\u001b[0m \u001b[0;34m!=\u001b[0m \u001b[0;36m1\u001b[0m\u001b[0;34m)\u001b[0m\u001b[0;34m:\u001b[0m\u001b[0;34m\u001b[0m\u001b[0;34m\u001b[0m\u001b[0m\n\u001b[0;32m-> 1837\u001b[0;31m         \u001b[0;32mraise\u001b[0m \u001b[0mTypeError\u001b[0m\u001b[0;34m(\u001b[0m\u001b[0;34m\"'q' must be a 'd' matrix with one column\"\u001b[0m\u001b[0;34m)\u001b[0m\u001b[0;34m\u001b[0m\u001b[0;34m\u001b[0m\u001b[0m\n\u001b[0m\u001b[1;32m   1838\u001b[0m \u001b[0;34m\u001b[0m\u001b[0m\n\u001b[1;32m   1839\u001b[0m     \u001b[0;32mif\u001b[0m \u001b[0mmatrixP\u001b[0m\u001b[0;34m:\u001b[0m\u001b[0;34m\u001b[0m\u001b[0;34m\u001b[0m\u001b[0m\n",
      "\u001b[0;31mTypeError\u001b[0m: 'q' must be a 'd' matrix with one column"
     ]
    }
   ],
   "source": [
    "import numpy as np\n",
    "from cvxopt import matrix, solvers\n",
    "\n",
    "def ridge_regression(X, y, lambda_reg):\n",
    "    n, p = X.shape\n",
    "    Q = X.T @ X + lambda_reg * np.identity(p)\n",
    "    c = -X.T @ y\n",
    "\n",
    "    # Define the equality constraint A * β = b (optional).\n",
    "    A = -np.identity(p)\n",
    "    b = np.zeros(p)\n",
    "\n",
    "    # Convert matrices and vectors to CVXOPT format.\n",
    "    Q = matrix(Q)\n",
    "    c = matrix(c)\n",
    "    A = matrix(A)\n",
    "    b = matrix(b)\n",
    "\n",
    "    # Solve the quadratic programming problem.\n",
    "    sol = solvers.qp(Q, c, A, b)\n",
    "\n",
    "    # Extract the solution (model coefficients).\n",
    "    beta = np.array(sol['x'])\n",
    "\n",
    "    return beta\n",
    "\n",
    "# Example usage:\n",
    "X = np.array([[1, 2], [2, 3], [3, 4], [4, 5]])\n",
    "y = np.array([1, 2, 3, 4])\n",
    "lambda_reg = 0.1\n",
    "\n",
    "beta = ridge_regression(X, y, lambda_reg)\n",
    "print(\"Ridge Regression Coefficients:\")\n",
    "print(beta)\n"
   ]
  },
  {
   "cell_type": "code",
   "execution_count": null,
   "metadata": {},
   "outputs": [],
   "source": []
  }
 ],
 "metadata": {
  "kernelspec": {
   "display_name": "Python 3",
   "language": "python",
   "name": "python3"
  },
  "language_info": {
   "codemirror_mode": {
    "name": "ipython",
    "version": 3
   },
   "file_extension": ".py",
   "mimetype": "text/x-python",
   "name": "python",
   "nbconvert_exporter": "python",
   "pygments_lexer": "ipython3",
   "version": "3.8.8"
  }
 },
 "nbformat": 4,
 "nbformat_minor": 1
}
