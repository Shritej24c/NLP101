{
 "cells": [
  {
   "cell_type": "code",
   "execution_count": 4,
   "id": "5dbf9dab",
   "metadata": {},
   "outputs": [
    {
     "name": "stdout",
     "output_type": "stream",
     "text": [
      "Requirement already satisfied: pip in /Applications/anaconda3/lib/python3.8/site-packages (23.2.1)\n",
      "\u001b[33mDEPRECATION: arcgis 1.9.1 has a non-standard dependency specifier keyring<=21.8.*,>=19. pip 23.3 will enforce this behaviour change. A possible replacement is to upgrade to a newer version of arcgis or contact the author to suggest that they release a version with a conforming dependency specifiers. Discussion can be found at https://github.com/pypa/pip/issues/12063\u001b[0m\u001b[33m\n",
      "\u001b[0m\u001b[33mDEPRECATION: celery 5.1.0 has a non-standard dependency specifier pytz>dev. pip 23.3 will enforce this behaviour change. A possible replacement is to upgrade to a newer version of celery or contact the author to suggest that they release a version with a conforming dependency specifiers. Discussion can be found at https://github.com/pypa/pip/issues/12063\u001b[0m\u001b[33m\n",
      "\u001b[0m\u001b[33mDEPRECATION: pyodbc 4.0.0-unsupported has a non-standard version number. pip 23.3 will enforce this behaviour change. A possible replacement is to upgrade to a newer version of pyodbc or contact the author to suggest that they release a version with a conforming version number. Discussion can be found at https://github.com/pypa/pip/issues/12063\u001b[0m\u001b[33m\n",
      "\u001b[0mRequirement already satisfied: matplotlib in /Applications/anaconda3/lib/python3.8/site-packages (3.7.2)\n",
      "Requirement already satisfied: contourpy>=1.0.1 in /Applications/anaconda3/lib/python3.8/site-packages (from matplotlib) (1.1.0)\n",
      "Requirement already satisfied: cycler>=0.10 in /Applications/anaconda3/lib/python3.8/site-packages (from matplotlib) (0.10.0)\n",
      "Requirement already satisfied: fonttools>=4.22.0 in /Applications/anaconda3/lib/python3.8/site-packages (from matplotlib) (4.42.0)\n",
      "Requirement already satisfied: kiwisolver>=1.0.1 in /Applications/anaconda3/lib/python3.8/site-packages (from matplotlib) (1.3.1)\n",
      "Requirement already satisfied: numpy>=1.20 in /Applications/anaconda3/lib/python3.8/site-packages (from matplotlib) (1.22.4)\n",
      "Requirement already satisfied: packaging>=20.0 in /Applications/anaconda3/lib/python3.8/site-packages (from matplotlib) (23.0)\n",
      "Requirement already satisfied: pillow>=6.2.0 in /Applications/anaconda3/lib/python3.8/site-packages (from matplotlib) (9.5.0)\n",
      "Requirement already satisfied: pyparsing<3.1,>=2.3.1 in /Applications/anaconda3/lib/python3.8/site-packages (from matplotlib) (2.4.7)\n",
      "Requirement already satisfied: python-dateutil>=2.7 in /Applications/anaconda3/lib/python3.8/site-packages (from matplotlib) (2.8.1)\n",
      "Requirement already satisfied: importlib-resources>=3.2.0 in /Applications/anaconda3/lib/python3.8/site-packages (from matplotlib) (5.4.0)\n",
      "Requirement already satisfied: six in /Applications/anaconda3/lib/python3.8/site-packages (from cycler>=0.10->matplotlib) (1.15.0)\n",
      "Requirement already satisfied: zipp>=3.1.0 in /Applications/anaconda3/lib/python3.8/site-packages (from importlib-resources>=3.2.0->matplotlib) (3.4.1)\n",
      "\u001b[33mDEPRECATION: arcgis 1.9.1 has a non-standard dependency specifier keyring<=21.8.*,>=19. pip 23.3 will enforce this behaviour change. A possible replacement is to upgrade to a newer version of arcgis or contact the author to suggest that they release a version with a conforming dependency specifiers. Discussion can be found at https://github.com/pypa/pip/issues/12063\u001b[0m\u001b[33m\n",
      "\u001b[0m\u001b[33mDEPRECATION: celery 5.1.0 has a non-standard dependency specifier pytz>dev. pip 23.3 will enforce this behaviour change. A possible replacement is to upgrade to a newer version of celery or contact the author to suggest that they release a version with a conforming dependency specifiers. Discussion can be found at https://github.com/pypa/pip/issues/12063\u001b[0m\u001b[33m\n",
      "\u001b[0m\u001b[33mDEPRECATION: pyodbc 4.0.0-unsupported has a non-standard version number. pip 23.3 will enforce this behaviour change. A possible replacement is to upgrade to a newer version of pyodbc or contact the author to suggest that they release a version with a conforming version number. Discussion can be found at https://github.com/pypa/pip/issues/12063\u001b[0m\u001b[33m\n",
      "\u001b[0m"
     ]
    }
   ],
   "source": [
    "!pip install --upgrade pip\n",
    "!pip install matplotlib"
   ]
  },
  {
   "cell_type": "markdown",
   "id": "6bb55c35",
   "metadata": {},
   "source": [
    "### Linear Algebra\n",
    "\n",
    "#### Question 1 - General Least Squares \n",
    "\n"
   ]
  },
  {
   "cell_type": "markdown",
   "id": "9ae75c3a",
   "metadata": {},
   "source": [
    "Linear Model: \n",
    "\n",
    "$$ y = X\\beta  + e$$\n",
    "\n",
    "for Generalized Least Squares (GLS): $$ Var(e) = \\Sigma $$ which accounts for heteroskedasticity i.e. diagonal elements in the covariance matrix are not equal and autocovariance between different lags (i.e. non-diagonal elements aren't zero) \n",
    "\n",
    "\n",
    "\n",
    "Since, above 2 assumptions aren't satisfied under Gauss Markov, the OLS estimator won't be BLUE (best linear unbiased estimator). Hence calculating GLS estimator using following methods:\n",
    "\n",
    "#### 1. Method 1 \n",
    "\n",
    "$$ Var(e) = \\Sigma = \\Sigma^{0.5} \\Sigma^{0.5}$$\n",
    "\n",
    "Because $\\Sigma$ is Positive Definite (square symmetric & full-rank). Also, $\\Sigma^{0.5}$ is also P.D. \n",
    "\n",
    "$$\\Sigma^{ - 0.5} = (\\Sigma^{0.5})^{-1} := \\Sigma^{'}$$\n",
    "\n",
    "If we pre-multiply the regression equation by $\\Sigma^{'}$, we obtain\n",
    "\n",
    "$$ \\Sigma^{'}y = \\Sigma^{'}X \\beta + \\Sigma^{'}e$$\n",
    "\n",
    "Rewriting it as  $$\\tilde{y} = \\tilde{X} \\beta + \\tilde{e}$$\n",
    "\n",
    "Now above equation satifies OLS assumptions, so the estimator for \\beta will BLUE (Best Linear Unbiased Estimator) \n",
    "\n",
    "$$\\hat{\\beta_{GLS}} = (\\tilde{X}^{T}\\tilde{X})^{-1}\\tilde{X}^{T}\\tilde{y} = (X^{T}\\Sigma^{'T}\\Sigma^{'}X)^{-1}X^{T}\\Sigma^{'T}\\Sigma^{'}y$$\n",
    "\n",
    "$$\\hat{\\beta_{GLS}} = (X^{T}\\Sigma^{-1}X)^{-1}X^{T}\\Sigma^{-1}y$$\n",
    "\n",
    "\n",
    "#### Method 2 - Minimizing the Mahalonobis distance\n",
    "\n",
    "In OLS we minimized: \n",
    "\n",
    "$$ arg min_{\\beta} (\\epsilon^T \\epsilon) = arg min_{\\beta} (y - X\\beta)^T (y - X\\beta)$$\n",
    "\n",
    "However for GLS\\WLS the wieghts are inversely proportional to the variances of the observations and hence the following equation needs to be minimized :\n",
    "\n",
    "$$  arg min_{\\beta} (y - X\\beta)^T \\Sigma^{-1}(y - X\\beta)$$\n",
    "\n",
    "$$ = y^T\\Sigma^{-1}y - 2\\beta^TX^T \\Sigma^{-1}y - \\beta^TX^T \\Sigma^{-1}X\\beta $$\n",
    "\n",
    "Taking the derivative \n",
    "\n",
    "$$ 2X^T \\Sigma^{-1}y - 2X^T \\Sigma^{-1}X\\beta = 0$$\n",
    "\n",
    "$$\\hat{\\beta_{GLS}} = (X^{T}\\Sigma^{-1}X)^{-1}X^{T}\\Sigma^{-1}y$$"
   ]
  },
  {
   "cell_type": "markdown",
   "id": "261319e2",
   "metadata": {},
   "source": [
    "### Programming\n",
    "#### 2. OLS estimation of AR(1):"
   ]
  },
  {
   "cell_type": "code",
   "execution_count": 6,
   "id": "c3593a3b",
   "metadata": {},
   "outputs": [
    {
     "ename": "ModuleNotFoundError",
     "evalue": "No module named 'matplotlib'",
     "output_type": "error",
     "traceback": [
      "\u001b[0;31m---------------------------------------------------------------------------\u001b[0m",
      "\u001b[0;31mModuleNotFoundError\u001b[0m                       Traceback (most recent call last)",
      "\u001b[0;32m<ipython-input-6-4f3fbd5c12ae>\u001b[0m in \u001b[0;36m<module>\u001b[0;34m\u001b[0m\n\u001b[1;32m      1\u001b[0m \u001b[0;32mimport\u001b[0m \u001b[0mnumpy\u001b[0m \u001b[0;32mas\u001b[0m \u001b[0mnp\u001b[0m\u001b[0;34m\u001b[0m\u001b[0;34m\u001b[0m\u001b[0m\n\u001b[0;32m----> 2\u001b[0;31m \u001b[0;32mimport\u001b[0m \u001b[0mmatplotlib\u001b[0m\u001b[0;34m.\u001b[0m\u001b[0mpyplot\u001b[0m \u001b[0;32mas\u001b[0m \u001b[0mplt\u001b[0m\u001b[0;34m\u001b[0m\u001b[0;34m\u001b[0m\u001b[0m\n\u001b[0m\u001b[1;32m      3\u001b[0m \u001b[0;34m\u001b[0m\u001b[0m\n\u001b[1;32m      4\u001b[0m \u001b[0;32mdef\u001b[0m \u001b[0mgenerate_ar1\u001b[0m\u001b[0;34m(\u001b[0m\u001b[0mphi\u001b[0m\u001b[0;34m,\u001b[0m \u001b[0msigma\u001b[0m\u001b[0;34m,\u001b[0m \u001b[0mn_samples\u001b[0m\u001b[0;34m)\u001b[0m\u001b[0;34m:\u001b[0m\u001b[0;34m\u001b[0m\u001b[0;34m\u001b[0m\u001b[0m\n\u001b[1;32m      5\u001b[0m     \"\"\"\n",
      "\u001b[0;31mModuleNotFoundError\u001b[0m: No module named 'matplotlib'"
     ]
    }
   ],
   "source": [
    "import numpy as np\n",
    "import matplotlib.pyplot as plt\n",
    "\n",
    "def generate_ar1(phi, sigma, n_samples):\n",
    "    \"\"\"\n",
    "    Generate data from an AR(1) model.\n",
    "\n",
    "    Parameters:\n",
    "    phi (float): Autoregressive parameter\n",
    "    sigma (float): Standard deviation of the white noise error\n",
    "    n_samples (int): Number of samples to generate\n",
    "\n",
    "    Returns:\n",
    "    np.ndarray: Generated AR(1) time series data\n",
    "    \"\"\"\n",
    "    # Generate white noise error terms\n",
    "    epsilon = np.random.normal(0, sigma, n_samples)\n",
    "\n",
    "    # Initialize the time series array\n",
    "    ar1_data = np.zeros(n_samples)\n",
    "\n",
    "    # Generate data using the AR(1) formula\n",
    "    for t in range(1, n_samples):\n",
    "        ar1_data[t] = phi * ar1_data[t-1] + epsilon[t]\n",
    "\n",
    "    return ar1_data\n",
    "\n",
    "# AR(1) parameters\n",
    "phi = 0.7  # Autoregressive parameter\n",
    "sigma = 1.0  # Standard deviation of the white noise error\n",
    "\n",
    "# Number of samples to generate\n",
    "n_samples = 100\n",
    "\n",
    "# Generate AR(1) data\n",
    "ar1_data = generate_ar1(phi, sigma, n_samples)\n",
    "\n",
    "# Plot the generated AR(1) data\n",
    "plt.plot(ar1_data)\n",
    "plt.xlabel('Time')\n",
    "plt.ylabel('Value')\n",
    "plt.title('AR(1) Time Series Data')\n",
    "plt.show()"
   ]
  },
  {
   "cell_type": "code",
   "execution_count": null,
   "id": "02c8dfb5",
   "metadata": {},
   "outputs": [],
   "source": []
  }
 ],
 "metadata": {
  "kernelspec": {
   "display_name": "PyCharm (NLP101)",
   "language": "python",
   "name": "pycharm-36c6da16"
  },
  "language_info": {
   "codemirror_mode": {
    "name": "ipython",
    "version": 3
   },
   "file_extension": ".py",
   "mimetype": "text/x-python",
   "name": "python",
   "nbconvert_exporter": "python",
   "pygments_lexer": "ipython3",
   "version": "3.9.1"
  }
 },
 "nbformat": 4,
 "nbformat_minor": 5
}
