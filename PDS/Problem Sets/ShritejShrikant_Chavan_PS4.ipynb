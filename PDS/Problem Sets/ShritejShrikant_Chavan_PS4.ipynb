{
 "cells": [
  {
   "cell_type": "markdown",
   "id": "c251b42e",
   "metadata": {},
   "source": [
    "### Problem 1 - Linear Algebra: Real Business Cycles "
   ]
  },
  {
   "cell_type": "markdown",
   "id": "2bc6f2e3",
   "metadata": {},
   "source": [
    "Maximize \n",
    "$$ U = E_0 \\sum_{t = 0} \\beta^t \\frac{(c_t^{\\phi} l_t^{1-\\phi})^{1-\\rho}}{1-\\rho}$$\n",
    "\n",
    "Constraints:\n",
    "\n",
    "$$ y_t = z_t k_t^{\\alpha} n_t^{1-\\alpha}$$\n",
    "\n",
    "$$ 1 = n_t + l_t $$\n",
    "\n",
    "$$ y_t = c_t + i_t $$\n",
    "\n",
    "$$ k_{t+1}= i_t + (1 - \\delta) k_t$$"
   ]
  },
  {
   "cell_type": "markdown",
   "id": "995582e4",
   "metadata": {},
   "source": [
    "Solving constraints and writing it in 1 equation we get,\n",
    "\n",
    "Substituting $n_t$, $y_t$ and $i_t$\n",
    "\n",
    "$$ c_t + k_{t+1} - (1 - \\delta) k_t = z_t k_t^{\\alpha} (1 - l_t)^{1-\\alpha} $$"
   ]
  },
  {
   "cell_type": "markdown",
   "id": "5f52886e",
   "metadata": {},
   "source": [
    "Using Lagrange Multipliers we get, \n",
    "\n",
    "\n",
    "$$ U = E_0 \\sum_{t = 0} \\beta^t \\frac{(c_t^{\\phi} l_t^{1-\\phi})^{1-\\rho}}{1-\\rho} - \\lambda_t[c_t + k_{t+1} - (1-\\delta)k_t - z_tk_t^{\\alpha} (1 - l_t)^{1-\\alpha}] $$\n"
   ]
  },
  {
   "cell_type": "markdown",
   "id": "e674e2f9",
   "metadata": {},
   "source": [
    "Unconstrained version & First-Order Conditions (FOCs)\n",
    "\n",
    "$$\\frac{\\partial U}{\\partial c_t} = \\beta^t \\phi \\frac{(c_t^{\\phi} l_t^{1-\\phi})^{1-\\rho}}{c_t}  - \\lambda_t$$   \n",
    "\n",
    "$$ \\frac{\\partial U}{\\partial l_t} = \\beta^t (1 -\\phi) \\frac{(c_t^{\\phi} l_t^{1-\\phi})^{1-\\rho}}{l_t}  - \\lambda_t (1-\\alpha) z_t k_t^{\\alpha} (1 -l_t)^{-\\alpha}$$\n",
    "\n",
    "$$ \\frac{\\partial U}{\\partial k_t} = -\\lambda_{t-1} + E_{t-1}[\\lambda_t (1-\\delta) + \\lambda_t z_t \\alpha k_t^{\\alpha - 1} (1 - l_t)^{1-\\alpha} ]$$ \n"
   ]
  },
  {
   "cell_type": "markdown",
   "id": "734cfeb8",
   "metadata": {},
   "source": [
    "Equating all the above first-order partial derivations to zero\n",
    "\n",
    "$$   \\lambda_t = \\beta^t \\phi \\frac{(c^{\\phi} l^{1-\\phi})^{1-\\rho}}{c_t} $$\n",
    "\n",
    "$$ \\beta^t (1 -\\phi) \\frac{(c_t^{\\phi} l_t^{1-\\phi})^{1-\\rho}}{l_t}  = \\lambda_t (1-\\alpha) z_t k_t^{\\alpha} (1 -l_t)^{-\\alpha} $$\n",
    "\n",
    "$$ \\lambda_{t-1} = E_{t-1}\\lambda_t[ (1-\\delta) + z_t \\alpha k_t^{\\alpha - 1} (1 - l_t)^{1-\\alpha} ]$$ \n"
   ]
  },
  {
   "cell_type": "markdown",
   "id": "07663311",
   "metadata": {},
   "source": [
    "Eliminating Lagrange Multipliers:\n",
    "\n",
    "Substituting the value of $\\lambda_t$ in equation 2, we get\n",
    "\n",
    "\n",
    "$$ \\beta^t (1 -\\phi) \\frac{(c_t^{\\phi} l_t^{1-\\phi})^{1-\\rho}}{l_t}  = \\beta^t \\phi \\frac{(c_t^{\\phi} l_t^{1-\\phi})^{1-\\rho}}{c_t} (1-\\alpha) z_t k_t^{\\alpha} (1 -l_t)^{-\\alpha} $$\n",
    "\n",
    "Eq. 1\n",
    "\n",
    "$$ \\frac{(1 -\\phi)(1 -l_t)^{\\alpha}}{\\phi} \\frac{c_t}{l_t}  = (1-\\alpha) z_t k_t^{\\alpha} $$\n"
   ]
  },
  {
   "cell_type": "markdown",
   "id": "aa69b364",
   "metadata": {},
   "source": [
    "Substituting the value of $\\lambda_{t-1}$ in equation 2, we get\n",
    "\n",
    "Eqn 2\n",
    "\n",
    "$$   \\frac{(c_{t-1}^{\\phi} l_{t-1}^{1-\\phi})^{1-\\rho}}{c_{t-1}} = E_{t-1}\\beta \\frac{(c_t^{\\phi} l_t^{1-\\phi})^{1-\\rho}}{c_t}[ (1-\\delta) + z_t \\alpha k_t^{\\alpha - 1} (1 - l_t)^{1-\\alpha} ]$$ \n"
   ]
  },
  {
   "cell_type": "markdown",
   "id": "dc61808d",
   "metadata": {},
   "source": [
    "Simplifying above 2 equations, we get\n",
    "\n",
    "$$ \\frac{(1 -\\phi)}{\\phi} \\frac{c_t}{l_t}  = (1-\\alpha) \\frac{y_t}{n_t} $$\n",
    "\n",
    "\n",
    "$$   \\frac{u(c_{t-1}, l_{t-1})}{c_{t-1}} = E_{t-1}\\beta \\frac{u(c_{t}, l_{t})}{c_t}[ (1-\\delta) + \\alpha \\frac{y_t}{k_t} ]$$ \n",
    "\n",
    "\n",
    "Moreover with previous constraints, we have\n",
    "\n",
    "\n",
    "$$ y_t = z_t k_t^{\\alpha} n_t^{1-\\alpha}$$\n",
    "\n",
    "$$ 1 = n_t + l_t $$\n",
    "\n",
    "$$ y_t = c_t + i_t $$\n",
    "\n",
    "$$ k_{t+1}= i_t + (1 - \\delta) k_t$$\n",
    "\n",
    "$$ u(c_{t}, l_{t})  = \\frac{(c_t^{\\phi} l_t^{1-\\phi})^{1-\\rho}}{1-\\rho} $$"
   ]
  },
  {
   "cell_type": "markdown",
   "id": "0b8fe159",
   "metadata": {},
   "source": [
    "### Problem 2 - Programming : L2 Regularization "
   ]
  },
  {
   "cell_type": "code",
   "execution_count": 1,
   "id": "9fc34a89",
   "metadata": {},
   "outputs": [],
   "source": [
    "!pip install --upgrade pip -qq\n",
    "!pip install cvxopt -U -qq"
   ]
  },
  {
   "cell_type": "code",
   "execution_count": 2,
   "id": "29fd449c",
   "metadata": {},
   "outputs": [],
   "source": [
    "import numpy as np\n",
    "import pandas as pd\n",
    "import cvxopt as cvx\n",
    "import cvxopt.solvers as solv\n",
    "from scipy.stats import zscore\n",
    "\n",
    "df = pd.read_csv('BWGHT.csv')\n",
    "npx = df[['cigs','faminc','male','white']].values\n",
    "npy = df['bwght'].values\n",
    "ones = np.ones((npx.shape[0],1))\n",
    "npx = np.hstack((ones,npx))"
   ]
  },
  {
   "cell_type": "code",
   "execution_count": 5,
   "id": "a0faedc5",
   "metadata": {},
   "outputs": [
    {
     "ename": "UnboundLocalError",
     "evalue": "local variable 'A' referenced before assignment",
     "output_type": "error",
     "traceback": [
      "\u001b[0;31m---------------------------------------------------------------------------\u001b[0m",
      "\u001b[0;31mUnboundLocalError\u001b[0m                         Traceback (most recent call last)",
      "\u001b[0;32m<ipython-input-5-ea22b52def1d>\u001b[0m in \u001b[0;36m<module>\u001b[0;34m\u001b[0m\n\u001b[1;32m     26\u001b[0m \u001b[0mlambda_reg\u001b[0m \u001b[0;34m=\u001b[0m \u001b[0;36m0.1\u001b[0m\u001b[0;34m\u001b[0m\u001b[0;34m\u001b[0m\u001b[0m\n\u001b[1;32m     27\u001b[0m \u001b[0;34m\u001b[0m\u001b[0m\n\u001b[0;32m---> 28\u001b[0;31m \u001b[0mbeta\u001b[0m \u001b[0;34m=\u001b[0m \u001b[0mridge_regression\u001b[0m\u001b[0;34m(\u001b[0m\u001b[0mX\u001b[0m\u001b[0;34m,\u001b[0m \u001b[0my\u001b[0m\u001b[0;34m,\u001b[0m \u001b[0mlambda_reg\u001b[0m\u001b[0;34m)\u001b[0m\u001b[0;34m\u001b[0m\u001b[0;34m\u001b[0m\u001b[0m\n\u001b[0m\u001b[1;32m     29\u001b[0m \u001b[0mprint\u001b[0m\u001b[0;34m(\u001b[0m\u001b[0;34m\"Ridge Regression Coefficients:\"\u001b[0m\u001b[0;34m)\u001b[0m\u001b[0;34m\u001b[0m\u001b[0;34m\u001b[0m\u001b[0m\n\u001b[1;32m     30\u001b[0m \u001b[0mprint\u001b[0m\u001b[0;34m(\u001b[0m\u001b[0mbeta\u001b[0m\u001b[0;34m)\u001b[0m\u001b[0;34m\u001b[0m\u001b[0;34m\u001b[0m\u001b[0m\n",
      "\u001b[0;32m<ipython-input-5-ea22b52def1d>\u001b[0m in \u001b[0;36mridge_regression\u001b[0;34m(X, y, lambda_reg)\u001b[0m\n\u001b[1;32m     10\u001b[0m     \u001b[0mQ\u001b[0m \u001b[0;34m=\u001b[0m \u001b[0mmatrix\u001b[0m\u001b[0;34m(\u001b[0m\u001b[0mQ\u001b[0m\u001b[0;34m)\u001b[0m\u001b[0;34m\u001b[0m\u001b[0;34m\u001b[0m\u001b[0m\n\u001b[1;32m     11\u001b[0m     \u001b[0mc\u001b[0m \u001b[0;34m=\u001b[0m \u001b[0mmatrix\u001b[0m\u001b[0;34m(\u001b[0m\u001b[0mc\u001b[0m\u001b[0;34m)\u001b[0m\u001b[0;34m\u001b[0m\u001b[0;34m\u001b[0m\u001b[0m\n\u001b[0;32m---> 12\u001b[0;31m     \u001b[0mA\u001b[0m \u001b[0;34m=\u001b[0m \u001b[0mmatrix\u001b[0m\u001b[0;34m(\u001b[0m\u001b[0mA\u001b[0m\u001b[0;34m)\u001b[0m\u001b[0;34m\u001b[0m\u001b[0;34m\u001b[0m\u001b[0m\n\u001b[0m\u001b[1;32m     13\u001b[0m     \u001b[0mb\u001b[0m \u001b[0;34m=\u001b[0m \u001b[0mmatrix\u001b[0m\u001b[0;34m(\u001b[0m\u001b[0mb\u001b[0m\u001b[0;34m)\u001b[0m\u001b[0;34m\u001b[0m\u001b[0;34m\u001b[0m\u001b[0m\n\u001b[1;32m     14\u001b[0m \u001b[0;34m\u001b[0m\u001b[0m\n",
      "\u001b[0;31mUnboundLocalError\u001b[0m: local variable 'A' referenced before assignment"
     ]
    }
   ],
   "source": [
    "\n",
    "\n",
    "def ridge_regression(X, y, lambda_reg):\n",
    "    n, p = X.shape\n",
    "    Q = X.T @ X + lambda_reg * np.identity(p)\n",
    "    c = -X.T @y.reshape(-1,1)\n",
    "\n",
    "    # Convert matrices and vectors to CVXOPT format.\n",
    "    Q = matrix(Q)\n",
    "    c = matrix(c)\n",
    "    A = matrix(A)\n",
    "    b = matrix(b)\n",
    "\n",
    "    # Solve the quadratic programming problem.\n",
    "    sol = solvers.qp(Q, c, A, b)\n",
    "\n",
    "    # Extract the solution (model coefficients).\n",
    "    beta = np.array(sol['x'])\n",
    "\n",
    "    return beta\n",
    "\n",
    "# Example usage:\n",
    "X = np.array([[1, 2], [2, 3], [3, 4], [4, 5]])\n",
    "y = np.array([1, 2, 3, 4])\n",
    "lambda_reg = 0.1\n",
    "\n",
    "beta = ridge_regression(X, y, lambda_reg)\n",
    "print(\"Ridge Regression Coefficients:\")\n",
    "print(beta)\n"
   ]
  },
  {
   "cell_type": "code",
   "execution_count": 3,
   "id": "77c5626b",
   "metadata": {},
   "outputs": [
    {
     "name": "stdout",
     "output_type": "stream",
     "text": [
      "Optimal Coefficients (betas): [0.0388696  0.08029803 0.99534612 0.02075741 0.02994361]\n"
     ]
    }
   ],
   "source": [
    "import numpy as np\n",
    "\n",
    "def solve_ridge_regression(X, y, threshold, l2_lambda, learning_rate, num_iterations):\n",
    "    # Initialize coefficients (betas)\n",
    "    betas = np.zeros(X.shape[1])\n",
    "    \n",
    "    for _ in range(num_iterations):\n",
    "        # Calculate predictions\n",
    "        y_pred = X.dot(betas)\n",
    "        \n",
    "        # Calculate the gradient of the loss function with L2 regularization\n",
    "        gradient = (-2 * X.T.dot(y - y_pred)) + 2 * l2_lambda * betas\n",
    "        \n",
    "        # Update betas using the gradient\n",
    "        betas -= learning_rate * gradient\n",
    "        \n",
    "        # Apply the L2 regularization constraint\n",
    "        l2_norm = np.linalg.norm(betas)\n",
    "        if l2_norm > threshold:\n",
    "            betas = (threshold / l2_norm) * betas\n",
    "\n",
    "    return betas\n",
    "\n",
    "\n",
    "threshold = 1.0\n",
    "l2_lambda = 0.1\n",
    "learning_rate = 0.01\n",
    "num_iterations = 1000\n",
    "\n",
    "betas = solve_ridge_regression(npx, npy, threshold, l2_lambda, learning_rate, num_iterations)\n",
    "print(\"Optimal Coefficients (betas):\", betas)\n"
   ]
  },
  {
   "cell_type": "code",
   "execution_count": 4,
   "id": "8f07f1bb",
   "metadata": {},
   "outputs": [
    {
     "name": "stdout",
     "output_type": "stream",
     "text": [
      "     pcost       dcost       gap    pres   dres\n",
      " 0: -9.7915e+06 -9.7909e+06  3e+04  2e+00  5e-16\n",
      " 1: -9.7915e+06 -9.7908e+06  2e+03  1e-01  1e-15\n",
      " 2: -9.7915e+06 -9.7891e+06  7e+02  7e-02  4e-16\n",
      " 3: -9.7841e+06 -9.7591e+06  7e+03  5e-02  5e-16\n",
      " 4: -9.7706e+06 -9.7445e+06  1e+04  3e-02  3e-16\n",
      " 5: -9.7305e+06 -9.7361e+06  3e+04  1e-02  7e-16\n",
      " 6: -9.7259e+06 -9.7349e+06  3e+04  9e-03  4e-16\n",
      " 7: -9.7289e+06 -9.7317e+06  7e+03  2e-03  1e-16\n",
      " 8: -9.7257e+06 -9.7323e+06  9e+03  1e-03  2e-16\n",
      " 9: -9.7285e+06 -9.7318e+06  4e+03  5e-04  6e-17\n",
      "10: -9.7260e+06 -9.7317e+06  6e+03  2e-04  2e-16\n",
      "11: -9.7294e+06 -9.7313e+06  2e+03  5e-05  5e-17\n",
      "12: -9.7270e+06 -9.7318e+06  5e+03  2e-05  2e-16\n",
      "13: -9.7290e+06 -9.7316e+06  3e+03  1e-05  9e-17\n",
      "14: -9.7268e+06 -9.7315e+06  5e+03  2e-06  1e-16\n",
      "15: -9.7295e+06 -9.7312e+06  2e+03  8e-07  1e-16\n",
      "16: -9.7273e+06 -9.7317e+06  4e+03  3e-07  1e-16\n",
      "17: -9.7290e+06 -9.7316e+06  3e+03  1e-07  2e-16\n",
      "18: -9.7270e+06 -9.7315e+06  4e+03  2e-08  2e-16\n",
      "19: -9.7295e+06 -9.7312e+06  2e+03  7e-09  2e-16\n",
      "20: -9.7273e+06 -9.7317e+06  4e+03  2e-09  4e-17\n",
      "21: -9.7290e+06 -9.7316e+06  3e+03  1e-09  9e-17\n",
      "22: -9.7271e+06 -9.7315e+06  4e+03  1e-10  1e-16\n",
      "23: -9.7295e+06 -9.7312e+06  2e+03  4e-11  2e-16\n",
      "24: -9.7273e+06 -9.7317e+06  4e+03  1e-11  2e-16\n",
      "25: -9.7290e+06 -9.7316e+06  3e+03  6e-12  5e-17\n",
      "26: -9.7271e+06 -9.7315e+06  4e+03  4e-13  9e-17\n",
      "27: -9.7295e+06 -9.7312e+06  2e+03  2e-13  7e-17\n",
      "28: -9.7274e+06 -9.7317e+06  4e+03  4e-14  2e-16\n",
      "29: -9.7290e+06 -9.7316e+06  3e+03  2e-14  7e-17\n",
      "30: -9.7272e+06 -9.7314e+06  4e+03  1e-15  2e-16\n",
      "31: -9.7295e+06 -9.7312e+06  2e+03  4e-16  1e-16\n",
      "32: -9.7274e+06 -9.7317e+06  4e+03  3e-16  1e-16\n",
      "33: -9.7290e+06 -9.7316e+06  3e+03  3e-16  4e-17\n",
      "34: -9.7272e+06 -9.7314e+06  4e+03  1e-16  1e-16\n",
      "35: -9.7295e+06 -9.7312e+06  2e+03  1e-16  8e-17\n",
      "36: -9.7274e+06 -9.7317e+06  4e+03  2e-16  2e-16\n",
      "37: -9.7290e+06 -9.7316e+06  3e+03  3e-16  2e-16\n",
      "38: -9.7273e+06 -9.7314e+06  4e+03  2e-16  1e-16\n",
      "39: -9.7295e+06 -9.7312e+06  2e+03  1e-16  1e-16\n",
      "40: -9.7275e+06 -9.7317e+06  4e+03  3e-16  1e-16\n",
      "41: -9.7290e+06 -9.7316e+06  3e+03  2e-16  1e-16\n",
      "42: -9.7278e+06 -9.7313e+06  4e+03  2e-16  1e-16\n",
      "43: -9.7301e+06 -9.7310e+06  1e+03  2e-16  2e-16\n",
      "44: -9.7307e+06 -9.7309e+06  2e+02  4e-16  1e-16\n",
      "45: -9.7309e+06 -9.7309e+06  2e+00  1e-16  1e-16\n",
      "Optimal solution found.\n"
     ]
    },
    {
     "data": {
      "text/plain": [
       "99.9997736904513"
      ]
     },
     "execution_count": 4,
     "metadata": {},
     "output_type": "execute_result"
    }
   ],
   "source": [
    "thresh = 100\n",
    "def solve_lasso(x,y,thresh):\n",
    "    n,r = x.shape\n",
    "    P = np.kron(np.array([[1,-1],[-1,1]]),x.T@x)\n",
    "    q = -np.kron(np.array([[1],[-1]]),x.T@y.reshape(-1,1))\n",
    "    G_1 = -np.eye(2*r)\n",
    "    h_1 = np.zeros((2*r,1))\n",
    "    G_2 = np.ones((1,2*r))\n",
    "    h_2 = np.array([[thresh]])\n",
    "    G = np.vstack((G_1,G_2))\n",
    "    h = np.vstack((h_1,h_2))\n",
    "    opt = solv.qp(cvx.matrix(P),cvx.matrix(q),cvx.matrix(G),cvx.matrix(h))\n",
    "    opt = np.array(opt['x'])\n",
    "    return opt[:r,0]-opt[r:,0]\n",
    "np.abs(solve_lasso(npx,npy,thresh)).sum()"
   ]
  },
  {
   "cell_type": "code",
   "execution_count": 5,
   "id": "7e745537",
   "metadata": {},
   "outputs": [
    {
     "name": "stdout",
     "output_type": "stream",
     "text": [
      "     pcost       dcost       gap    pres   dres\n",
      " 0: -9.7915e+06 -9.7909e+06  3e+04  2e+00  5e-16\n",
      " 1: -9.7915e+06 -9.7908e+06  2e+03  1e-01  1e-15\n",
      " 2: -9.7915e+06 -9.7891e+06  7e+02  7e-02  4e-16\n",
      " 3: -9.7841e+06 -9.7591e+06  7e+03  5e-02  5e-16\n",
      " 4: -9.7706e+06 -9.7445e+06  1e+04  3e-02  3e-16\n",
      " 5: -9.7305e+06 -9.7361e+06  3e+04  1e-02  7e-16\n",
      " 6: -9.7259e+06 -9.7349e+06  3e+04  9e-03  4e-16\n",
      " 7: -9.7289e+06 -9.7317e+06  7e+03  2e-03  1e-16\n",
      " 8: -9.7257e+06 -9.7323e+06  9e+03  1e-03  2e-16\n",
      " 9: -9.7285e+06 -9.7318e+06  4e+03  5e-04  6e-17\n",
      "10: -9.7260e+06 -9.7317e+06  6e+03  2e-04  2e-16\n",
      "11: -9.7294e+06 -9.7313e+06  2e+03  5e-05  5e-17\n",
      "12: -9.7270e+06 -9.7318e+06  5e+03  2e-05  2e-16\n",
      "13: -9.7290e+06 -9.7316e+06  3e+03  1e-05  9e-17\n",
      "14: -9.7268e+06 -9.7315e+06  5e+03  2e-06  1e-16\n",
      "15: -9.7295e+06 -9.7312e+06  2e+03  8e-07  1e-16\n",
      "16: -9.7273e+06 -9.7317e+06  4e+03  3e-07  1e-16\n",
      "17: -9.7290e+06 -9.7316e+06  3e+03  1e-07  2e-16\n",
      "18: -9.7270e+06 -9.7315e+06  4e+03  2e-08  2e-16\n",
      "19: -9.7295e+06 -9.7312e+06  2e+03  7e-09  2e-16\n",
      "20: -9.7273e+06 -9.7317e+06  4e+03  2e-09  4e-17\n",
      "21: -9.7290e+06 -9.7316e+06  3e+03  1e-09  9e-17\n",
      "22: -9.7271e+06 -9.7315e+06  4e+03  1e-10  1e-16\n",
      "23: -9.7295e+06 -9.7312e+06  2e+03  4e-11  2e-16\n",
      "24: -9.7273e+06 -9.7317e+06  4e+03  1e-11  2e-16\n",
      "25: -9.7290e+06 -9.7316e+06  3e+03  6e-12  5e-17\n",
      "26: -9.7271e+06 -9.7315e+06  4e+03  4e-13  9e-17\n",
      "27: -9.7295e+06 -9.7312e+06  2e+03  2e-13  7e-17\n",
      "28: -9.7274e+06 -9.7317e+06  4e+03  4e-14  2e-16\n",
      "29: -9.7290e+06 -9.7316e+06  3e+03  2e-14  7e-17\n",
      "30: -9.7272e+06 -9.7314e+06  4e+03  1e-15  2e-16\n",
      "31: -9.7295e+06 -9.7312e+06  2e+03  4e-16  1e-16\n",
      "32: -9.7274e+06 -9.7317e+06  4e+03  3e-16  1e-16\n",
      "33: -9.7290e+06 -9.7316e+06  3e+03  3e-16  4e-17\n",
      "34: -9.7272e+06 -9.7314e+06  4e+03  1e-16  1e-16\n",
      "35: -9.7295e+06 -9.7312e+06  2e+03  1e-16  8e-17\n",
      "36: -9.7274e+06 -9.7317e+06  4e+03  2e-16  2e-16\n",
      "37: -9.7290e+06 -9.7316e+06  3e+03  3e-16  2e-16\n",
      "38: -9.7273e+06 -9.7314e+06  4e+03  2e-16  1e-16\n",
      "39: -9.7295e+06 -9.7312e+06  2e+03  1e-16  1e-16\n",
      "40: -9.7275e+06 -9.7317e+06  4e+03  3e-16  1e-16\n",
      "41: -9.7290e+06 -9.7316e+06  3e+03  2e-16  1e-16\n",
      "42: -9.7278e+06 -9.7313e+06  4e+03  2e-16  1e-16\n",
      "43: -9.7301e+06 -9.7310e+06  1e+03  2e-16  2e-16\n",
      "44: -9.7307e+06 -9.7309e+06  2e+02  4e-16  1e-16\n",
      "45: -9.7309e+06 -9.7309e+06  2e+00  1e-16  1e-16\n",
      "Optimal solution found.\n"
     ]
    },
    {
     "data": {
      "text/plain": [
       "array([ 9.95019244e+01, -9.20345885e-07,  4.97724354e-01,  5.62908348e-05,\n",
       "        6.77729885e-05])"
      ]
     },
     "execution_count": 5,
     "metadata": {},
     "output_type": "execute_result"
    }
   ],
   "source": [
    "solve_lasso(npx,npy,thresh)"
   ]
  },
  {
   "cell_type": "code",
   "execution_count": null,
   "id": "53b093e3",
   "metadata": {},
   "outputs": [],
   "source": []
  }
 ],
 "metadata": {
  "kernelspec": {
   "display_name": "Python 3",
   "language": "python",
   "name": "python3"
  },
  "language_info": {
   "codemirror_mode": {
    "name": "ipython",
    "version": 3
   },
   "file_extension": ".py",
   "mimetype": "text/x-python",
   "name": "python",
   "nbconvert_exporter": "python",
   "pygments_lexer": "ipython3",
   "version": "3.8.8"
  }
 },
 "nbformat": 4,
 "nbformat_minor": 5
}
